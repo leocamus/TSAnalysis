{
 "cells": [
  {
   "cell_type": "markdown",
   "metadata": {},
   "source": [
    "## Checking weird data: ISSUES illustrated with 2017-03-01 data"
   ]
  },
  {
   "cell_type": "code",
   "execution_count": 1,
   "metadata": {
    "collapsed": true
   },
   "outputs": [],
   "source": [
    "%matplotlib inline\n",
    "import pandas as pd\n",
    "import matplotlib\n",
    "import matplotlib.pyplot as plt\n",
    "import numpy as np\n",
    "from importlib import reload"
   ]
  },
  {
   "cell_type": "code",
   "execution_count": 2,
   "metadata": {},
   "outputs": [
    {
     "name": "stdout",
     "output_type": "stream",
     "text": [
      "Enter the date to analyze: 2017-03-01\n",
      "Enter the vehicle to analyze: BUS\n",
      "Consider ZP in perfiles file (0/1)?: 0\n"
     ]
    }
   ],
   "source": [
    "import RunDailyEtapasBuilder"
   ]
  },
  {
   "cell_type": "code",
   "execution_count": 3,
   "metadata": {},
   "outputs": [
    {
     "name": "stdout",
     "output_type": "stream",
     "text": [
      "Not found in turnstile database: 1614656\n"
     ]
    }
   ],
   "source": [
    "etapas_df = RunDailyEtapasBuilder.loadSimplifiedEtapas()\n",
    "merged_df = RunDailyEtapasBuilder.mergeTurnstileData(etapas_df)\n",
    "clean_df = RunDailyEtapasBuilder.cleanDataFrame(merged_df)\n",
    "sorted_df = RunDailyEtapasBuilder.sortDataFrame(clean_df)\n",
    "sorted_df = sorted_df.reset_index()"
   ]
  },
  {
   "cell_type": "markdown",
   "metadata": {},
   "source": [
    "* **1st ISSUE**: ADJACENT ROWS WITH SAME sitio_subida, SAME par_subida, SAME servicio_subida BUT CLEARLY DIFFERENT EXPEDITIONS. \n",
    "* **SEE BELOW FOR AN EXAMPLE (row 87029 - row 87030)**\n",
    "* The solution to this would be to include id_expedicion from perfiles database. Currently, this solution is computationally expensive."
   ]
  },
  {
   "cell_type": "code",
   "execution_count": 4,
   "metadata": {
    "scrolled": true
   },
   "outputs": [
    {
     "data": {
      "text/html": [
       "<div>\n",
       "<style>\n",
       "    .dataframe thead tr:only-child th {\n",
       "        text-align: right;\n",
       "    }\n",
       "\n",
       "    .dataframe thead th {\n",
       "        text-align: left;\n",
       "    }\n",
       "\n",
       "    .dataframe tbody tr th {\n",
       "        vertical-align: top;\n",
       "    }\n",
       "</style>\n",
       "<table border=\"1\" class=\"dataframe\">\n",
       "  <thead>\n",
       "    <tr style=\"text-align: right;\">\n",
       "      <th></th>\n",
       "      <th>index</th>\n",
       "      <th>id</th>\n",
       "      <th>nviaje</th>\n",
       "      <th>tipo_transporte</th>\n",
       "      <th>t_subida</th>\n",
       "      <th>servicio_subida</th>\n",
       "      <th>par_subida</th>\n",
       "      <th>sitio_subida</th>\n",
       "      <th>fecha_instalacion</th>\n",
       "    </tr>\n",
       "  </thead>\n",
       "  <tbody>\n",
       "    <tr>\n",
       "      <th>86981</th>\n",
       "      <td>1582151</td>\n",
       "      <td>3167969406</td>\n",
       "      <td>4</td>\n",
       "      <td>BUS</td>\n",
       "      <td>2017-03-01 16:50:30</td>\n",
       "      <td>T536 00I</td>\n",
       "      <td>T-20-68-SN-23</td>\n",
       "      <td>BFKC-36</td>\n",
       "      <td>2017-05-02</td>\n",
       "    </tr>\n",
       "    <tr>\n",
       "      <th>87025</th>\n",
       "      <td>758948</td>\n",
       "      <td>1629661130</td>\n",
       "      <td>2</td>\n",
       "      <td>BUS</td>\n",
       "      <td>2017-03-01 21:46:46</td>\n",
       "      <td>T536 00I</td>\n",
       "      <td>T-20-68-SN-23</td>\n",
       "      <td>BFKC-36</td>\n",
       "      <td>2017-05-02</td>\n",
       "    </tr>\n",
       "    <tr>\n",
       "      <th>87026</th>\n",
       "      <td>1852337</td>\n",
       "      <td>3541945211</td>\n",
       "      <td>3</td>\n",
       "      <td>BUS</td>\n",
       "      <td>2017-03-01 21:46:55</td>\n",
       "      <td>T536 00I</td>\n",
       "      <td>T-20-68-SN-23</td>\n",
       "      <td>BFKC-36</td>\n",
       "      <td>2017-05-02</td>\n",
       "    </tr>\n",
       "    <tr>\n",
       "      <th>87027</th>\n",
       "      <td>2009097</td>\n",
       "      <td>3609059560</td>\n",
       "      <td>3</td>\n",
       "      <td>BUS</td>\n",
       "      <td>2017-03-01 21:46:57</td>\n",
       "      <td>T536 00I</td>\n",
       "      <td>T-20-68-SN-23</td>\n",
       "      <td>BFKC-36</td>\n",
       "      <td>2017-05-02</td>\n",
       "    </tr>\n",
       "    <tr>\n",
       "      <th>87028</th>\n",
       "      <td>1415182</td>\n",
       "      <td>2797037342</td>\n",
       "      <td>2</td>\n",
       "      <td>BUS</td>\n",
       "      <td>2017-03-01 21:47:00</td>\n",
       "      <td>T536 00I</td>\n",
       "      <td>T-20-68-SN-23</td>\n",
       "      <td>BFKC-36</td>\n",
       "      <td>2017-05-02</td>\n",
       "    </tr>\n",
       "    <tr>\n",
       "      <th>87029</th>\n",
       "      <td>928665</td>\n",
       "      <td>2131998184</td>\n",
       "      <td>2</td>\n",
       "      <td>BUS</td>\n",
       "      <td>2017-03-01 21:47:02</td>\n",
       "      <td>T536 00I</td>\n",
       "      <td>T-20-68-SN-23</td>\n",
       "      <td>BFKC-36</td>\n",
       "      <td>2017-05-02</td>\n",
       "    </tr>\n",
       "    <tr>\n",
       "      <th>87030</th>\n",
       "      <td>105057</td>\n",
       "      <td>55729378</td>\n",
       "      <td>2</td>\n",
       "      <td>BUS</td>\n",
       "      <td>2017-03-01 23:34:41</td>\n",
       "      <td>T536 00I</td>\n",
       "      <td>T-20-68-SN-23</td>\n",
       "      <td>BFKC-36</td>\n",
       "      <td>2017-05-02</td>\n",
       "    </tr>\n",
       "    <tr>\n",
       "      <th>87031</th>\n",
       "      <td>1737658</td>\n",
       "      <td>3323949982</td>\n",
       "      <td>2</td>\n",
       "      <td>BUS</td>\n",
       "      <td>2017-03-01 23:34:41</td>\n",
       "      <td>T536 00I</td>\n",
       "      <td>T-20-68-SN-23</td>\n",
       "      <td>BFKC-36</td>\n",
       "      <td>2017-05-02</td>\n",
       "    </tr>\n",
       "    <tr>\n",
       "      <th>87032</th>\n",
       "      <td>679232</td>\n",
       "      <td>1363181444</td>\n",
       "      <td>1</td>\n",
       "      <td>BUS</td>\n",
       "      <td>2017-03-01 23:34:44</td>\n",
       "      <td>T536 00I</td>\n",
       "      <td>T-20-68-SN-23</td>\n",
       "      <td>BFKC-36</td>\n",
       "      <td>2017-05-02</td>\n",
       "    </tr>\n",
       "    <tr>\n",
       "      <th>87033</th>\n",
       "      <td>279569</td>\n",
       "      <td>246728342</td>\n",
       "      <td>2</td>\n",
       "      <td>BUS</td>\n",
       "      <td>2017-03-01 23:34:45</td>\n",
       "      <td>T536 00I</td>\n",
       "      <td>T-20-68-SN-23</td>\n",
       "      <td>BFKC-36</td>\n",
       "      <td>2017-05-02</td>\n",
       "    </tr>\n",
       "    <tr>\n",
       "      <th>87034</th>\n",
       "      <td>76747</td>\n",
       "      <td>49524754</td>\n",
       "      <td>3</td>\n",
       "      <td>BUS</td>\n",
       "      <td>2017-03-01 23:34:47</td>\n",
       "      <td>T536 00I</td>\n",
       "      <td>T-20-68-SN-23</td>\n",
       "      <td>BFKC-36</td>\n",
       "      <td>2017-05-02</td>\n",
       "    </tr>\n",
       "  </tbody>\n",
       "</table>\n",
       "</div>"
      ],
      "text/plain": [
       "         index          id  nviaje tipo_transporte            t_subida  \\\n",
       "86981  1582151  3167969406       4             BUS 2017-03-01 16:50:30   \n",
       "87025   758948  1629661130       2             BUS 2017-03-01 21:46:46   \n",
       "87026  1852337  3541945211       3             BUS 2017-03-01 21:46:55   \n",
       "87027  2009097  3609059560       3             BUS 2017-03-01 21:46:57   \n",
       "87028  1415182  2797037342       2             BUS 2017-03-01 21:47:00   \n",
       "87029   928665  2131998184       2             BUS 2017-03-01 21:47:02   \n",
       "87030   105057    55729378       2             BUS 2017-03-01 23:34:41   \n",
       "87031  1737658  3323949982       2             BUS 2017-03-01 23:34:41   \n",
       "87032   679232  1363181444       1             BUS 2017-03-01 23:34:44   \n",
       "87033   279569   246728342       2             BUS 2017-03-01 23:34:45   \n",
       "87034    76747    49524754       3             BUS 2017-03-01 23:34:47   \n",
       "\n",
       "      servicio_subida     par_subida sitio_subida fecha_instalacion  \n",
       "86981        T536 00I  T-20-68-SN-23      BFKC-36        2017-05-02  \n",
       "87025        T536 00I  T-20-68-SN-23      BFKC-36        2017-05-02  \n",
       "87026        T536 00I  T-20-68-SN-23      BFKC-36        2017-05-02  \n",
       "87027        T536 00I  T-20-68-SN-23      BFKC-36        2017-05-02  \n",
       "87028        T536 00I  T-20-68-SN-23      BFKC-36        2017-05-02  \n",
       "87029        T536 00I  T-20-68-SN-23      BFKC-36        2017-05-02  \n",
       "87030        T536 00I  T-20-68-SN-23      BFKC-36        2017-05-02  \n",
       "87031        T536 00I  T-20-68-SN-23      BFKC-36        2017-05-02  \n",
       "87032        T536 00I  T-20-68-SN-23      BFKC-36        2017-05-02  \n",
       "87033        T536 00I  T-20-68-SN-23      BFKC-36        2017-05-02  \n",
       "87034        T536 00I  T-20-68-SN-23      BFKC-36        2017-05-02  "
      ]
     },
     "execution_count": 4,
     "metadata": {},
     "output_type": "execute_result"
    }
   ],
   "source": [
    "sorted_df[((sorted_df['par_subida']=='T-20-68-SN-23')&(sorted_df['servicio_subida']=='T536 00I')&(sorted_df['sitio_subida']=='BFKC-36'))]"
   ]
  },
  {
   "cell_type": "markdown",
   "metadata": {},
   "source": [
    "* **2nd ISSUE**: ADJACENT ROWS WITH SAME sitio_subida, SAME par_subida, SAME servicio_subida AND ORIGINAL METHODOLOGY PROBLEMS\n",
    "* **SEE BELOW FOR AN EXAMPLE (row 12425 - row 12426)**\n",
    "* CURRENTLY THERE ARE NO SOLUTIONS TO THESE CASES"
   ]
  },
  {
   "cell_type": "code",
   "execution_count": 5,
   "metadata": {},
   "outputs": [
    {
     "data": {
      "text/html": [
       "<div>\n",
       "<style>\n",
       "    .dataframe thead tr:only-child th {\n",
       "        text-align: right;\n",
       "    }\n",
       "\n",
       "    .dataframe thead th {\n",
       "        text-align: left;\n",
       "    }\n",
       "\n",
       "    .dataframe tbody tr th {\n",
       "        vertical-align: top;\n",
       "    }\n",
       "</style>\n",
       "<table border=\"1\" class=\"dataframe\">\n",
       "  <thead>\n",
       "    <tr style=\"text-align: right;\">\n",
       "      <th></th>\n",
       "      <th>index</th>\n",
       "      <th>id</th>\n",
       "      <th>nviaje</th>\n",
       "      <th>tipo_transporte</th>\n",
       "      <th>t_subida</th>\n",
       "      <th>servicio_subida</th>\n",
       "      <th>par_subida</th>\n",
       "      <th>sitio_subida</th>\n",
       "      <th>fecha_instalacion</th>\n",
       "    </tr>\n",
       "  </thead>\n",
       "  <tbody>\n",
       "    <tr>\n",
       "      <th>12423</th>\n",
       "      <td>1120301</td>\n",
       "      <td>2504471726</td>\n",
       "      <td>1</td>\n",
       "      <td>BUS</td>\n",
       "      <td>2017-03-01 09:59:27</td>\n",
       "      <td>T429 00R</td>\n",
       "      <td>L-18-18-60-NS</td>\n",
       "      <td>BBZX-45</td>\n",
       "      <td>NaT</td>\n",
       "    </tr>\n",
       "    <tr>\n",
       "      <th>12424</th>\n",
       "      <td>1390158</td>\n",
       "      <td>2783321502</td>\n",
       "      <td>1</td>\n",
       "      <td>BUS</td>\n",
       "      <td>2017-03-01 10:00:35</td>\n",
       "      <td>T429 00R</td>\n",
       "      <td>L-18-18-60-NS</td>\n",
       "      <td>BBZX-45</td>\n",
       "      <td>NaT</td>\n",
       "    </tr>\n",
       "    <tr>\n",
       "      <th>12425</th>\n",
       "      <td>1902370</td>\n",
       "      <td>3562773982</td>\n",
       "      <td>1</td>\n",
       "      <td>BUS</td>\n",
       "      <td>2017-03-01 10:05:31</td>\n",
       "      <td>T429 00R</td>\n",
       "      <td>T-32-316-OP-30</td>\n",
       "      <td>BBZX-45</td>\n",
       "      <td>NaT</td>\n",
       "    </tr>\n",
       "    <tr>\n",
       "      <th>12426</th>\n",
       "      <td>48060</td>\n",
       "      <td>28537122</td>\n",
       "      <td>1</td>\n",
       "      <td>BUS</td>\n",
       "      <td>2017-03-01 10:16:20</td>\n",
       "      <td>T429 00R</td>\n",
       "      <td>T-32-316-OP-30</td>\n",
       "      <td>BBZX-45</td>\n",
       "      <td>NaT</td>\n",
       "    </tr>\n",
       "    <tr>\n",
       "      <th>12427</th>\n",
       "      <td>1118297</td>\n",
       "      <td>2504268414</td>\n",
       "      <td>1</td>\n",
       "      <td>BUS</td>\n",
       "      <td>2017-03-01 10:16:23</td>\n",
       "      <td>T429 00R</td>\n",
       "      <td>T-32-316-OP-30</td>\n",
       "      <td>BBZX-45</td>\n",
       "      <td>NaT</td>\n",
       "    </tr>\n",
       "  </tbody>\n",
       "</table>\n",
       "</div>"
      ],
      "text/plain": [
       "         index          id  nviaje tipo_transporte            t_subida  \\\n",
       "12423  1120301  2504471726       1             BUS 2017-03-01 09:59:27   \n",
       "12424  1390158  2783321502       1             BUS 2017-03-01 10:00:35   \n",
       "12425  1902370  3562773982       1             BUS 2017-03-01 10:05:31   \n",
       "12426    48060    28537122       1             BUS 2017-03-01 10:16:20   \n",
       "12427  1118297  2504268414       1             BUS 2017-03-01 10:16:23   \n",
       "\n",
       "      servicio_subida      par_subida sitio_subida fecha_instalacion  \n",
       "12423        T429 00R   L-18-18-60-NS      BBZX-45               NaT  \n",
       "12424        T429 00R   L-18-18-60-NS      BBZX-45               NaT  \n",
       "12425        T429 00R  T-32-316-OP-30      BBZX-45               NaT  \n",
       "12426        T429 00R  T-32-316-OP-30      BBZX-45               NaT  \n",
       "12427        T429 00R  T-32-316-OP-30      BBZX-45               NaT  "
      ]
     },
     "execution_count": 5,
     "metadata": {},
     "output_type": "execute_result"
    }
   ],
   "source": [
    "sorted_df.iloc[12423:12428]"
   ]
  },
  {
   "cell_type": "markdown",
   "metadata": {},
   "source": [
    "* Adding necessary attributes to further analyses"
   ]
  },
  {
   "cell_type": "code",
   "execution_count": 6,
   "metadata": {},
   "outputs": [],
   "source": [
    "sorted_df['mismo_paradero'] = (sorted_df['par_subida']==sorted_df['par_subida'].shift()).fillna(False)\n",
    "sorted_df['misma_patente'] = (sorted_df['sitio_subida']==sorted_df['sitio_subida'].shift()).fillna(False)\n",
    "\n",
    "sorted_df.loc[(sorted_df.mismo_paradero == True) & (sorted_df.misma_patente == True), 'diferencia_tiempo'] = (sorted_df['t_subida']-sorted_df['t_subida'].shift())\n",
    "sorted_df.loc[(sorted_df.mismo_paradero == True) & (sorted_df.misma_patente == False), 'diferencia_tiempo'] = pd.NaT\n",
    "sorted_df.loc[(sorted_df.mismo_paradero == False) & (sorted_df.misma_patente == True), 'diferencia_tiempo'] = pd.NaT\n",
    "sorted_df.loc[(sorted_df.mismo_paradero == False) & (sorted_df.misma_patente == False), 'diferencia_tiempo'] = pd.NaT\n",
    "sorted_df['diferencia_tiempo_secs'] = sorted_df['diferencia_tiempo'].dt.total_seconds()\n",
    "\n",
    "sorted_df['fecha_instalacion'] = pd.to_datetime(sorted_df.fecha_instalacion)\n",
    "sorted_df['si_torniquete'] = (sorted_df['fecha_instalacion']<=sorted_df['t_subida'])"
   ]
  },
  {
   "cell_type": "code",
   "execution_count": 7,
   "metadata": {
    "scrolled": true
   },
   "outputs": [
    {
     "name": "stdout",
     "output_type": "stream",
     "text": [
      "The total number of observations (without NaN) is: 1380689\n",
      "The total number of observation below 30 seconds is 1322152\n",
      "The percent of observations below 30 seconds is 95.760305181\n"
     ]
    }
   ],
   "source": [
    "time_keys = []\n",
    "counts_problematic=[]\n",
    "threshold = 30\n",
    "\n",
    "not_nan_sorted_df = sorted_df.dropna(subset=['diferencia_tiempo'])\n",
    "del sorted_df\n",
    "\n",
    "total_count = not_nan_sorted_df.count()[0]\n",
    "total_problematic_count = not_nan_sorted_df[not_nan_sorted_df['diferencia_tiempo_secs']<=threshold].count()[0]\n",
    "\n",
    "percent = (total_problematic_count/total_count)*100\n",
    "\n",
    "print('The total number of observations (without NaN) is: ' + str(total_count))\n",
    "print('The total number of observation below ' + str(threshold) + ' seconds is ' + str(total_problematic_count))\n",
    "print('The percent of observations below ' + str(threshold) + ' seconds is ' + str(percent))"
   ]
  },
  {
   "cell_type": "code",
   "execution_count": 8,
   "metadata": {
    "collapsed": true
   },
   "outputs": [],
   "source": [
    "for i in range(0,threshold):\n",
    "    time_keys.append(i)\n",
    "    counts_problematic.append(not_nan_sorted_df[not_nan_sorted_df['diferencia_tiempo_secs']>i].count()[0])"
   ]
  },
  {
   "cell_type": "markdown",
   "metadata": {},
   "source": [
    "* Plot total data below a threshold"
   ]
  },
  {
   "cell_type": "code",
   "execution_count": 9,
   "metadata": {
    "scrolled": false
   },
   "outputs": [
    {
     "data": {
      "text/plain": [
       "<matplotlib.text.Text at 0x1fb1a722cf8>"
      ]
     },
     "execution_count": 9,
     "metadata": {},
     "output_type": "execute_result"
    },
    {
     "data": {
      "image/png": "[encoded data removed]",
      "text/plain": [
       "<matplotlib.figure.Figure at 0x1fb1a6f5b38>"
      ]
     },
     "metadata": {},
     "output_type": "display_data"
    }
   ],
   "source": [
    "fig, ax = plt.subplots()\n",
    "plot1 = ax.plot(time_keys,counts_problematic)\n",
    "ax.set_title('Time-interval vs. Counts')\n",
    "ax.set_xlabel('Time-interval [s]')\n",
    "ax.set_ylabel('Counts')"
   ]
  },
  {
   "cell_type": "markdown",
   "metadata": {},
   "source": [
    "#CLOSED"
   ]
  }
 ],
 "metadata": {
  "kernelspec": {
   "display_name": "Python 3",
   "language": "python",
   "name": "python3"
  },
  "language_info": {
   "codemirror_mode": {
    "name": "ipython",
    "version": 3
   },
   "file_extension": ".py",
   "mimetype": "text/x-python",
   "name": "python",
   "nbconvert_exporter": "python",
   "pygments_lexer": "ipython3",
   "version": "3.6.1"
  }
 },
 "nbformat": 4,
 "nbformat_minor": 2
}
