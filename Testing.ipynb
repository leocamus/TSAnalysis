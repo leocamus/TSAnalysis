{
 "cells": [
  {
   "cell_type": "code",
   "execution_count": 8,
   "metadata": {
    "collapsed": true
   },
   "outputs": [],
   "source": [
    "from importlib import reload"
   ]
  },
  {
   "cell_type": "code",
   "execution_count": 9,
   "metadata": {
    "collapsed": true
   },
   "outputs": [],
   "source": [
    "from Utils import HeadersUtils"
   ]
  },
  {
   "cell_type": "code",
   "execution_count": 10,
   "metadata": {},
   "outputs": [
    {
     "name": "stdout",
     "output_type": "stream",
     "text": [
      "('Wrong number of arguments',)\n"
     ]
    }
   ],
   "source": [
    "HeadersUtils.getHeaders('1','2','3')"
   ]
  },
  {
   "cell_type": "code",
   "execution_count": 11,
   "metadata": {},
   "outputs": [
    {
     "name": "stdout",
     "output_type": "stream",
     "text": [
      "('Wrong SSH date',)\n"
     ]
    }
   ],
   "source": [
    "HeadersUtils.getHeaders('etapas','2017-04-01')"
   ]
  },
  {
   "cell_type": "code",
   "execution_count": 24,
   "metadata": {},
   "outputs": [
    {
     "data": {
      "text/plain": [
       "<module 'Utils.HeadersUtils' from 'C:\\\\Users\\\\Tesista\\\\Desktop\\\\Evasión\\\\01_analisis\\\\04_scripts\\\\TSAnalysis\\\\Utils\\\\HeadersUtils.py'>"
      ]
     },
     "execution_count": 24,
     "metadata": {},
     "output_type": "execute_result"
    }
   ],
   "source": [
    "reload(HeadersUtils)"
   ]
  },
  {
   "cell_type": "code",
   "execution_count": 25,
   "metadata": {},
   "outputs": [
    {
     "data": {
      "text/plain": [
       "<module 'Utils.PrintLinesUtils' from 'C:\\\\Users\\\\Tesista\\\\Desktop\\\\Evasión\\\\01_analisis\\\\04_scripts\\\\TSAnalysis\\\\Utils\\\\PrintLinesUtils.py'>"
      ]
     },
     "execution_count": 25,
     "metadata": {},
     "output_type": "execute_result"
    }
   ],
   "source": [
    "reload(PrintLinesUtils)"
   ]
  },
  {
   "cell_type": "code",
   "execution_count": 26,
   "metadata": {},
   "outputs": [
    {
     "name": "stdout",
     "output_type": "stream",
     "text": [
      "id|nviaje|netapa|tipo_dia|tipo_transporte|fExpansionServicioPeriodoTS|tiene_bajada|tiempo2|t_subida|t_bajada|t_etapa|media_hora_subida|media_hora_bajada|x_subida|y_subida|x_bajada|y_bajada|dist_ruta_paraderos|dist_eucl_paraderos|servicio_subida|servicio_bajada|par_subida|par_bajada|comuna_subida|comuna_bajada|zona_subida|zona_bajada|sitio_subida|fExpansionZonaPeriodoTS|tEsperaMediaIntervalo\n",
      "\n",
      "545452|1|1|LABORAL|BUS|1.3429|1|2017-03-01 15:14:32|2017-03-01 15:14:32|2017-03-01 15:19:28|296|15:00:00|15:00:00|352617|6299685|351226|6299140|1562|1499|T518 00R|T518 00R|E-14-116-OP-3|T-14-116-OP-25|PROVIDENCIA|PROVIDENCIA|186|186|BJFY-49|1.2395|4.1667\n",
      "\n",
      "545452|2|1|LABORAL|BUS|1.2414|1|2017-03-01 19:40:51|2017-03-01 19:40:51|2017-03-01 19:53:25|754|19:30:00|19:30:00|351268|6298808|350581|6300947|2407|2210|T104 00R|-|T-14-123-SN-10|T-14-128-OP-13|PROVIDENCIA|PROVIDENCIA|186|176|ZN-3993|1.2125|2.8167\n",
      "\n",
      "545452|2|2|LABORAL|BUS|1.5611|1|2017-03-01 19:54:33|2017-03-01 19:54:33|2017-03-01 20:19:08|1475|19:30:00|20:00:00|350620|6300941|356839|6304633|7500|7070|T426 00I|T426 00I|T-14-110-PO-70|T-17-136-PO-45|PROVIDENCIA|LAS CONDES|179|211|CJRZ-14|1.2030|0.5833\n",
      "\n",
      "545452|3|1|LABORAL|BUS|0.0000|0|2017-03-01 21:58:14|2017-03-01 21:58:14|-|-|21:30:00|-|356891|6304552|-|-|-|-|B51 00I|-|T-17-136-PO-45|-|LAS CONDES|-|211|-|CRXW-96|-|-\n",
      "\n",
      "1090090|1|1|LABORAL|BUS|0.0000|0|2017-03-01 09:40:26|2017-03-01 09:40:26|-|-|09:30:00|-|349261|6294418|-|-|-|-|F53 E0 00I|-|T-21-134-NS-15|-|SAN JOAQUIN|-|311|-|FLXP-78|-|-\n",
      "\n",
      "1090090|1|2|LABORAL|METRO|1.0000|1|2017-03-01 09:56:35|2017-03-01 09:56:35|2017-03-01 10:16:59|1224|09:30:00|10:00:00|348608|6297367|348799|6299467|2696|2108|-|-|IRARRAZAVAL|SALVADOR|NUNOA|PROVIDENCIA|231|178|Irarrazaval|1.6794|-\n",
      "\n",
      "1090090|2|1|LABORAL|BUS|2.0890|1|2017-03-01 10:13:17|2017-03-01 10:13:17|2017-03-01 10:14:42|85|10:00:00|10:00:00|348689|6299821|348033|6299325|842|831|T502 00R|T502 00R|T-14-21-OP-10|T-14-21-OP-25|PROVIDENCIA|PROVIDENCIA|173|173|BJFY-47|3.2904|2.1333\n",
      "\n",
      "1090090|3|1|LABORAL|BUS|0.0000|0|2017-03-01 12:44:23|2017-03-01 12:44:23|-|-|12:30:00|-|347255|6299071|-|-|-|-|T505 00I|-|T-20-192-PO-17|-|SANTIAGO|-|267|-|BJFY-87|-|-\n",
      "\n",
      "1090090|4|1|LABORAL|BUS|1.0657|1|2017-03-01 15:36:30|2017-03-01 15:36:30|2017-03-01 15:40:28|238|15:30:00|15:30:00|350016|6295413|348960|6295191|1128|1124|T511 00R|T511 00R|L-18-15-20-NS|L-21-45-OP-5|NUNOA|SAN JOAQUIN|238|770|FDJX-67|1.2472|6.6500\n",
      "\n"
     ]
    }
   ],
   "source": [
    "PrintLinesUtils.readAndPrintLines('etapas','10','2017-03-01')"
   ]
  },
  {
   "cell_type": "code",
   "execution_count": 27,
   "metadata": {},
   "outputs": [
    {
     "name": "stdout",
     "output_type": "stream",
     "text": [
      "Warning: complete path should be specified. Information about available dates is currently not maintained\n",
      "Enter the path to the specific file: C:\\Users\\Tesista\\Desktop\\Evasión\\01_analisis\\03_datos\\02_TRXPPU\\02_2016\\01-2016-TRXPPU.rar\n"
     ]
    },
    {
     "ename": "RarCannotExec",
     "evalue": "Unrar not installed? (rarfile.UNRAR_TOOL='unrar')",
     "output_type": "error",
     "traceback": [
      "\u001b[1;31m---------------------------------------------------------------------------\u001b[0m",
      "\u001b[1;31mFileNotFoundError\u001b[0m                         Traceback (most recent call last)",
      "\u001b[1;32mC:\\Users\\Tesista\\Desktop\\Evasión\\01_analisis\\04_scripts\\TSAnalysis\\Utils\\rarfile.py\u001b[0m in \u001b[0;36mcustom_popen\u001b[1;34m(cmd)\u001b[0m\n\u001b[0;32m   2812\u001b[0m         p = Popen(cmd, bufsize=0, stdout=PIPE, stdin=PIPE, stderr=STDOUT,\n\u001b[1;32m-> 2813\u001b[1;33m                   creationflags=creationflags)\n\u001b[0m\u001b[0;32m   2814\u001b[0m     \u001b[1;32mexcept\u001b[0m \u001b[0mOSError\u001b[0m \u001b[1;32mas\u001b[0m \u001b[0mex\u001b[0m\u001b[1;33m:\u001b[0m\u001b[1;33m\u001b[0m\u001b[0m\n",
      "\u001b[1;32mC:\\Users\\Tesista\\Anaconda3\\lib\\subprocess.py\u001b[0m in \u001b[0;36m__init__\u001b[1;34m(self, args, bufsize, executable, stdin, stdout, stderr, preexec_fn, close_fds, shell, cwd, env, universal_newlines, startupinfo, creationflags, restore_signals, start_new_session, pass_fds, encoding, errors)\u001b[0m\n\u001b[0;32m    706\u001b[0m                                 \u001b[0merrread\u001b[0m\u001b[1;33m,\u001b[0m \u001b[0merrwrite\u001b[0m\u001b[1;33m,\u001b[0m\u001b[1;33m\u001b[0m\u001b[0m\n\u001b[1;32m--> 707\u001b[1;33m                                 restore_signals, start_new_session)\n\u001b[0m\u001b[0;32m    708\u001b[0m         \u001b[1;32mexcept\u001b[0m\u001b[1;33m:\u001b[0m\u001b[1;33m\u001b[0m\u001b[0m\n",
      "\u001b[1;32mC:\\Users\\Tesista\\Anaconda3\\lib\\subprocess.py\u001b[0m in \u001b[0;36m_execute_child\u001b[1;34m(self, args, executable, preexec_fn, close_fds, pass_fds, cwd, env, startupinfo, creationflags, shell, p2cread, p2cwrite, c2pread, c2pwrite, errread, errwrite, unused_restore_signals, unused_start_new_session)\u001b[0m\n\u001b[0;32m    989\u001b[0m                                          \u001b[0mcwd\u001b[0m\u001b[1;33m,\u001b[0m\u001b[1;33m\u001b[0m\u001b[0m\n\u001b[1;32m--> 990\u001b[1;33m                                          startupinfo)\n\u001b[0m\u001b[0;32m    991\u001b[0m             \u001b[1;32mfinally\u001b[0m\u001b[1;33m:\u001b[0m\u001b[1;33m\u001b[0m\u001b[0m\n",
      "\u001b[1;31mFileNotFoundError\u001b[0m: [WinError 2] El sistema no puede encontrar el archivo especificado",
      "\nDuring handling of the above exception, another exception occurred:\n",
      "\u001b[1;31mRarCannotExec\u001b[0m                             Traceback (most recent call last)",
      "\u001b[1;32m<ipython-input-27-274ec528d140>\u001b[0m in \u001b[0;36m<module>\u001b[1;34m()\u001b[0m\n\u001b[1;32m----> 1\u001b[1;33m \u001b[0mPrintLinesUtils\u001b[0m\u001b[1;33m.\u001b[0m\u001b[0mreadAndPrintLines\u001b[0m\u001b[1;33m(\u001b[0m\u001b[1;34m'TRXPPU'\u001b[0m\u001b[1;33m,\u001b[0m\u001b[1;34m'10'\u001b[0m\u001b[1;33m)\u001b[0m\u001b[1;33m\u001b[0m\u001b[0m\n\u001b[0m",
      "\u001b[1;32mC:\\Users\\Tesista\\Desktop\\Evasión\\01_analisis\\04_scripts\\TSAnalysis\\Utils\\PrintLinesUtils.py\u001b[0m in \u001b[0;36mreadAndPrintLines\u001b[1;34m(*args)\u001b[0m\n\u001b[0;32m     19\u001b[0m                         \u001b[0mprint\u001b[0m\u001b[1;33m(\u001b[0m\u001b[1;34m'Warning: complete path should be specified. Information about available dates is currently not maintained'\u001b[0m\u001b[1;33m)\u001b[0m\u001b[1;33m\u001b[0m\u001b[0m\n\u001b[0;32m     20\u001b[0m                         \u001b[0mTRXPPUPath\u001b[0m \u001b[1;33m=\u001b[0m \u001b[0minput\u001b[0m\u001b[1;33m(\u001b[0m\u001b[1;34m'Enter the path to the specific file: '\u001b[0m\u001b[1;33m)\u001b[0m\u001b[1;33m\u001b[0m\u001b[0m\n\u001b[1;32m---> 21\u001b[1;33m                         \u001b[0mreadAndPrintZip\u001b[0m\u001b[1;33m(\u001b[0m\u001b[0mTRXPPUPath\u001b[0m\u001b[1;33m,\u001b[0m\u001b[0margs\u001b[0m\u001b[1;33m[\u001b[0m\u001b[1;36m1\u001b[0m\u001b[1;33m]\u001b[0m\u001b[1;33m)\u001b[0m\u001b[1;33m\u001b[0m\u001b[0m\n\u001b[0m\u001b[0;32m     22\u001b[0m                 \u001b[1;32melif\u001b[0m \u001b[0margs\u001b[0m\u001b[1;33m[\u001b[0m\u001b[1;36m0\u001b[0m\u001b[1;33m]\u001b[0m \u001b[1;33m==\u001b[0m \u001b[1;34m'etapas'\u001b[0m \u001b[1;32mand\u001b[0m \u001b[0margs\u001b[0m\u001b[1;33m[\u001b[0m\u001b[1;36m2\u001b[0m\u001b[1;33m]\u001b[0m \u001b[1;32min\u001b[0m \u001b[0mcurrentSSHDates\u001b[0m\u001b[1;33m:\u001b[0m\u001b[1;33m\u001b[0m\u001b[0m\n\u001b[0;32m     23\u001b[0m                         \u001b[0metapasFile\u001b[0m \u001b[1;33m=\u001b[0m \u001b[0margs\u001b[0m\u001b[1;33m[\u001b[0m\u001b[1;36m2\u001b[0m\u001b[1;33m]\u001b[0m \u001b[1;33m+\u001b[0m \u001b[1;34m'.etapas'\u001b[0m\u001b[1;33m\u001b[0m\u001b[0m\n",
      "\u001b[1;32mC:\\Users\\Tesista\\Desktop\\Evasión\\01_analisis\\04_scripts\\TSAnalysis\\Utils\\PrintLinesUtils.py\u001b[0m in \u001b[0;36mreadAndPrintZip\u001b[1;34m(filePath, linesNumber)\u001b[0m\n\u001b[0;32m     55\u001b[0m                 \u001b[1;32mwith\u001b[0m \u001b[0mrarfile\u001b[0m\u001b[1;33m.\u001b[0m\u001b[0mRarFile\u001b[0m\u001b[1;33m(\u001b[0m\u001b[0mfilePath\u001b[0m\u001b[1;33m)\u001b[0m \u001b[1;32mas\u001b[0m \u001b[0mmyRarFiles\u001b[0m\u001b[1;33m:\u001b[0m\u001b[1;33m\u001b[0m\u001b[0m\n\u001b[0;32m     56\u001b[0m                         \u001b[0mfiles\u001b[0m \u001b[1;33m=\u001b[0m \u001b[0mmyRarFiles\u001b[0m\u001b[1;33m.\u001b[0m\u001b[0minfolist\u001b[0m\u001b[1;33m(\u001b[0m\u001b[1;33m)\u001b[0m\u001b[1;33m\u001b[0m\u001b[0m\n\u001b[1;32m---> 57\u001b[1;33m                         \u001b[1;32mwith\u001b[0m \u001b[0mmyRarFiles\u001b[0m\u001b[1;33m.\u001b[0m\u001b[0mopen\u001b[0m\u001b[1;33m(\u001b[0m\u001b[0mfiles\u001b[0m\u001b[1;33m[\u001b[0m\u001b[1;36m0\u001b[0m\u001b[1;33m]\u001b[0m\u001b[1;33m)\u001b[0m \u001b[1;32mas\u001b[0m \u001b[0mmyRarFile\u001b[0m\u001b[1;33m:\u001b[0m\u001b[1;33m\u001b[0m\u001b[0m\n\u001b[0m\u001b[0;32m     58\u001b[0m                                 \u001b[1;32mfor\u001b[0m \u001b[0mx\u001b[0m \u001b[1;32min\u001b[0m \u001b[0mrange\u001b[0m\u001b[1;33m(\u001b[0m\u001b[1;36m0\u001b[0m\u001b[1;33m,\u001b[0m \u001b[0mint\u001b[0m\u001b[1;33m(\u001b[0m\u001b[0mlinesNumber\u001b[0m\u001b[1;33m)\u001b[0m\u001b[1;33m)\u001b[0m\u001b[1;33m:\u001b[0m\u001b[1;33m\u001b[0m\u001b[0m\n\u001b[0;32m     59\u001b[0m                                         \u001b[0mprint\u001b[0m\u001b[1;33m(\u001b[0m\u001b[0mmyRarFile\u001b[0m\u001b[1;33m.\u001b[0m\u001b[0mreadline\u001b[0m\u001b[1;33m(\u001b[0m\u001b[1;33m)\u001b[0m\u001b[1;33m)\u001b[0m\u001b[1;33m\u001b[0m\u001b[0m\n",
      "\u001b[1;32mC:\\Users\\Tesista\\Desktop\\Evasión\\01_analisis\\04_scripts\\TSAnalysis\\Utils\\rarfile.py\u001b[0m in \u001b[0;36mopen\u001b[1;34m(self, fname, mode, psw)\u001b[0m\n\u001b[0;32m    754\u001b[0m             \u001b[0mpsw\u001b[0m \u001b[1;33m=\u001b[0m \u001b[1;32mNone\u001b[0m\u001b[1;33m\u001b[0m\u001b[0m\n\u001b[0;32m    755\u001b[0m \u001b[1;33m\u001b[0m\u001b[0m\n\u001b[1;32m--> 756\u001b[1;33m         \u001b[1;32mreturn\u001b[0m \u001b[0mself\u001b[0m\u001b[1;33m.\u001b[0m\u001b[0m_file_parser\u001b[0m\u001b[1;33m.\u001b[0m\u001b[0mopen\u001b[0m\u001b[1;33m(\u001b[0m\u001b[0minf\u001b[0m\u001b[1;33m,\u001b[0m \u001b[0mpsw\u001b[0m\u001b[1;33m)\u001b[0m\u001b[1;33m\u001b[0m\u001b[0m\n\u001b[0m\u001b[0;32m    757\u001b[0m \u001b[1;33m\u001b[0m\u001b[0m\n\u001b[0;32m    758\u001b[0m     \u001b[1;32mdef\u001b[0m \u001b[0mread\u001b[0m\u001b[1;33m(\u001b[0m\u001b[0mself\u001b[0m\u001b[1;33m,\u001b[0m \u001b[0mfname\u001b[0m\u001b[1;33m,\u001b[0m \u001b[0mpsw\u001b[0m\u001b[1;33m=\u001b[0m\u001b[1;32mNone\u001b[0m\u001b[1;33m)\u001b[0m\u001b[1;33m:\u001b[0m\u001b[1;33m\u001b[0m\u001b[0m\n",
      "\u001b[1;32mC:\\Users\\Tesista\\Desktop\\Evasión\\01_analisis\\04_scripts\\TSAnalysis\\Utils\\rarfile.py\u001b[0m in \u001b[0;36mopen\u001b[1;34m(self, inf, psw)\u001b[0m\n\u001b[0;32m   1133\u001b[0m             \u001b[1;32mreturn\u001b[0m \u001b[0mself\u001b[0m\u001b[1;33m.\u001b[0m\u001b[0m_open_unrar_membuf\u001b[0m\u001b[1;33m(\u001b[0m\u001b[0mself\u001b[0m\u001b[1;33m.\u001b[0m\u001b[0m_rarfile\u001b[0m\u001b[1;33m,\u001b[0m \u001b[0minf\u001b[0m\u001b[1;33m,\u001b[0m \u001b[0mpsw\u001b[0m\u001b[1;33m)\u001b[0m\u001b[1;33m\u001b[0m\u001b[0m\n\u001b[0;32m   1134\u001b[0m         \u001b[1;32melse\u001b[0m\u001b[1;33m:\u001b[0m\u001b[1;33m\u001b[0m\u001b[0m\n\u001b[1;32m-> 1135\u001b[1;33m             \u001b[1;32mreturn\u001b[0m \u001b[0mself\u001b[0m\u001b[1;33m.\u001b[0m\u001b[0m_open_unrar\u001b[0m\u001b[1;33m(\u001b[0m\u001b[0mself\u001b[0m\u001b[1;33m.\u001b[0m\u001b[0m_rarfile\u001b[0m\u001b[1;33m,\u001b[0m \u001b[0minf\u001b[0m\u001b[1;33m,\u001b[0m \u001b[0mpsw\u001b[0m\u001b[1;33m)\u001b[0m\u001b[1;33m\u001b[0m\u001b[0m\n\u001b[0m\u001b[0;32m   1136\u001b[0m \u001b[1;33m\u001b[0m\u001b[0m\n\u001b[0;32m   1137\u001b[0m     \u001b[1;32mdef\u001b[0m \u001b[0m_open_clear\u001b[0m\u001b[1;33m(\u001b[0m\u001b[0mself\u001b[0m\u001b[1;33m,\u001b[0m \u001b[0minf\u001b[0m\u001b[1;33m)\u001b[0m\u001b[1;33m:\u001b[0m\u001b[1;33m\u001b[0m\u001b[0m\n",
      "\u001b[1;32mC:\\Users\\Tesista\\Desktop\\Evasión\\01_analisis\\04_scripts\\TSAnalysis\\Utils\\rarfile.py\u001b[0m in \u001b[0;36m_open_unrar\u001b[1;34m(self, rarfile, inf, psw, tmpfile, force_file)\u001b[0m\n\u001b[0;32m   1189\u001b[0m \u001b[1;33m\u001b[0m\u001b[0m\n\u001b[0;32m   1190\u001b[0m         \u001b[1;31m# read from unrar pipe\u001b[0m\u001b[1;33m\u001b[0m\u001b[1;33m\u001b[0m\u001b[0m\n\u001b[1;32m-> 1191\u001b[1;33m         \u001b[1;32mreturn\u001b[0m \u001b[0mPipeReader\u001b[0m\u001b[1;33m(\u001b[0m\u001b[0mself\u001b[0m\u001b[1;33m,\u001b[0m \u001b[0minf\u001b[0m\u001b[1;33m,\u001b[0m \u001b[0mcmd\u001b[0m\u001b[1;33m,\u001b[0m \u001b[0mtmpfile\u001b[0m\u001b[1;33m)\u001b[0m\u001b[1;33m\u001b[0m\u001b[0m\n\u001b[0m\u001b[0;32m   1192\u001b[0m \u001b[1;33m\u001b[0m\u001b[0m\n\u001b[0;32m   1193\u001b[0m \u001b[1;31m#\u001b[0m\u001b[1;33m\u001b[0m\u001b[1;33m\u001b[0m\u001b[0m\n",
      "\u001b[1;32mC:\\Users\\Tesista\\Desktop\\Evasión\\01_analisis\\04_scripts\\TSAnalysis\\Utils\\rarfile.py\u001b[0m in \u001b[0;36m__init__\u001b[1;34m(self, rf, inf, cmd, tempfile)\u001b[0m\n\u001b[0;32m   2140\u001b[0m         \u001b[0mself\u001b[0m\u001b[1;33m.\u001b[0m\u001b[0m_proc\u001b[0m \u001b[1;33m=\u001b[0m \u001b[1;32mNone\u001b[0m\u001b[1;33m\u001b[0m\u001b[0m\n\u001b[0;32m   2141\u001b[0m         \u001b[0mself\u001b[0m\u001b[1;33m.\u001b[0m\u001b[0m_tempfile\u001b[0m \u001b[1;33m=\u001b[0m \u001b[0mtempfile\u001b[0m\u001b[1;33m\u001b[0m\u001b[0m\n\u001b[1;32m-> 2142\u001b[1;33m         \u001b[0msuper\u001b[0m\u001b[1;33m(\u001b[0m\u001b[0mPipeReader\u001b[0m\u001b[1;33m,\u001b[0m \u001b[0mself\u001b[0m\u001b[1;33m)\u001b[0m\u001b[1;33m.\u001b[0m\u001b[0m__init__\u001b[0m\u001b[1;33m(\u001b[0m\u001b[0mrf\u001b[0m\u001b[1;33m,\u001b[0m \u001b[0minf\u001b[0m\u001b[1;33m)\u001b[0m\u001b[1;33m\u001b[0m\u001b[0m\n\u001b[0m\u001b[0;32m   2143\u001b[0m \u001b[1;33m\u001b[0m\u001b[0m\n\u001b[0;32m   2144\u001b[0m     \u001b[1;32mdef\u001b[0m \u001b[0m_close_proc\u001b[0m\u001b[1;33m(\u001b[0m\u001b[0mself\u001b[0m\u001b[1;33m)\u001b[0m\u001b[1;33m:\u001b[0m\u001b[1;33m\u001b[0m\u001b[0m\n",
      "\u001b[1;32mC:\\Users\\Tesista\\Desktop\\Evasión\\01_analisis\\04_scripts\\TSAnalysis\\Utils\\rarfile.py\u001b[0m in \u001b[0;36m__init__\u001b[1;34m(self, parser, inf)\u001b[0m\n\u001b[0;32m   1981\u001b[0m         \u001b[0mself\u001b[0m\u001b[1;33m.\u001b[0m\u001b[0m_md_context\u001b[0m \u001b[1;33m=\u001b[0m \u001b[1;32mNone\u001b[0m\u001b[1;33m\u001b[0m\u001b[0m\n\u001b[0;32m   1982\u001b[0m \u001b[1;33m\u001b[0m\u001b[0m\n\u001b[1;32m-> 1983\u001b[1;33m         \u001b[0mself\u001b[0m\u001b[1;33m.\u001b[0m\u001b[0m_open\u001b[0m\u001b[1;33m(\u001b[0m\u001b[1;33m)\u001b[0m\u001b[1;33m\u001b[0m\u001b[0m\n\u001b[0m\u001b[0;32m   1984\u001b[0m \u001b[1;33m\u001b[0m\u001b[0m\n\u001b[0;32m   1985\u001b[0m     \u001b[1;32mdef\u001b[0m \u001b[0m_open\u001b[0m\u001b[1;33m(\u001b[0m\u001b[0mself\u001b[0m\u001b[1;33m)\u001b[0m\u001b[1;33m:\u001b[0m\u001b[1;33m\u001b[0m\u001b[0m\n",
      "\u001b[1;32mC:\\Users\\Tesista\\Desktop\\Evasión\\01_analisis\\04_scripts\\TSAnalysis\\Utils\\rarfile.py\u001b[0m in \u001b[0;36m_open\u001b[1;34m(self)\u001b[0m\n\u001b[0;32m   2163\u001b[0m         \u001b[1;31m# launch new process\u001b[0m\u001b[1;33m\u001b[0m\u001b[1;33m\u001b[0m\u001b[0m\n\u001b[0;32m   2164\u001b[0m         \u001b[0mself\u001b[0m\u001b[1;33m.\u001b[0m\u001b[0m_returncode\u001b[0m \u001b[1;33m=\u001b[0m \u001b[1;36m0\u001b[0m\u001b[1;33m\u001b[0m\u001b[0m\n\u001b[1;32m-> 2165\u001b[1;33m         \u001b[0mself\u001b[0m\u001b[1;33m.\u001b[0m\u001b[0m_proc\u001b[0m \u001b[1;33m=\u001b[0m \u001b[0mcustom_popen\u001b[0m\u001b[1;33m(\u001b[0m\u001b[0mself\u001b[0m\u001b[1;33m.\u001b[0m\u001b[0m_cmd\u001b[0m\u001b[1;33m)\u001b[0m\u001b[1;33m\u001b[0m\u001b[0m\n\u001b[0m\u001b[0;32m   2166\u001b[0m         \u001b[0mself\u001b[0m\u001b[1;33m.\u001b[0m\u001b[0m_fd\u001b[0m \u001b[1;33m=\u001b[0m \u001b[0mself\u001b[0m\u001b[1;33m.\u001b[0m\u001b[0m_proc\u001b[0m\u001b[1;33m.\u001b[0m\u001b[0mstdout\u001b[0m\u001b[1;33m\u001b[0m\u001b[0m\n\u001b[0;32m   2167\u001b[0m \u001b[1;33m\u001b[0m\u001b[0m\n",
      "\u001b[1;32mC:\\Users\\Tesista\\Desktop\\Evasión\\01_analisis\\04_scripts\\TSAnalysis\\Utils\\rarfile.py\u001b[0m in \u001b[0;36mcustom_popen\u001b[1;34m(cmd)\u001b[0m\n\u001b[0;32m   2814\u001b[0m     \u001b[1;32mexcept\u001b[0m \u001b[0mOSError\u001b[0m \u001b[1;32mas\u001b[0m \u001b[0mex\u001b[0m\u001b[1;33m:\u001b[0m\u001b[1;33m\u001b[0m\u001b[0m\n\u001b[0;32m   2815\u001b[0m         \u001b[1;32mif\u001b[0m \u001b[0mex\u001b[0m\u001b[1;33m.\u001b[0m\u001b[0merrno\u001b[0m \u001b[1;33m==\u001b[0m \u001b[0merrno\u001b[0m\u001b[1;33m.\u001b[0m\u001b[0mENOENT\u001b[0m\u001b[1;33m:\u001b[0m\u001b[1;33m\u001b[0m\u001b[0m\n\u001b[1;32m-> 2816\u001b[1;33m             \u001b[1;32mraise\u001b[0m \u001b[0mRarCannotExec\u001b[0m\u001b[1;33m(\u001b[0m\u001b[1;34m\"Unrar not installed? (rarfile.UNRAR_TOOL=%r)\"\u001b[0m \u001b[1;33m%\u001b[0m \u001b[0mUNRAR_TOOL\u001b[0m\u001b[1;33m)\u001b[0m\u001b[1;33m\u001b[0m\u001b[0m\n\u001b[0m\u001b[0;32m   2817\u001b[0m         \u001b[1;32mraise\u001b[0m\u001b[1;33m\u001b[0m\u001b[0m\n\u001b[0;32m   2818\u001b[0m     \u001b[1;32mreturn\u001b[0m \u001b[0mp\u001b[0m\u001b[1;33m\u001b[0m\u001b[0m\n",
      "\u001b[1;31mRarCannotExec\u001b[0m: Unrar not installed? (rarfile.UNRAR_TOOL='unrar')"
     ]
    }
   ],
   "source": [
    "PrintLinesUtils.readAndPrintLines('TRXPPU','10')"
   ]
  },
  {
   "cell_type": "code",
   "execution_count": null,
   "metadata": {
    "collapsed": true
   },
   "outputs": [],
   "source": []
  }
 ],
 "metadata": {
  "kernelspec": {
   "display_name": "Python 3",
   "language": "python",
   "name": "python3"
  },
  "language_info": {
   "codemirror_mode": {
    "name": "ipython",
    "version": 3
   },
   "file_extension": ".py",
   "mimetype": "text/x-python",
   "name": "python",
   "nbconvert_exporter": "python",
   "pygments_lexer": "ipython3",
   "version": "3.6.1"
  }
 },
 "nbformat": 4,
 "nbformat_minor": 2
}
