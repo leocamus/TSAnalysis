{
 "cells": [
  {
   "cell_type": "markdown",
   "metadata": {},
   "source": [
    "### Reducing etapas by Bus by Service: This is a test"
   ]
  },
  {
   "cell_type": "code",
   "execution_count": 1,
   "metadata": {},
   "outputs": [
    {
     "data": {
      "text/html": [
       "<style>.container { width:80% !important; }</style>"
      ],
      "text/plain": [
       "<IPython.core.display.HTML object>"
      ]
     },
     "metadata": {},
     "output_type": "display_data"
    }
   ],
   "source": [
    "%matplotlib inline\n",
    "from IPython.core.display import display, HTML\n",
    "display(HTML(\"<style>.container { width:80% !important; }</style>\"))\n",
    "\n",
    "import pandas as pd\n",
    "import matplotlib\n",
    "import matplotlib.pyplot as plt\n",
    "import matplotlib.dates as mdates\n",
    "import numpy as np\n",
    "import datetime as dt\n",
    "import time\n",
    "\n",
    "from importlib import reload\n",
    "from Utils import TransantiagoConstants\n",
    "from RunSilentlyDailyEtapasBuilder import RunSilentlyDailyEtapasBuilderClass"
   ]
  },
  {
   "cell_type": "code",
   "execution_count": 2,
   "metadata": {
    "collapsed": true
   },
   "outputs": [],
   "source": [
    "common_dates = TransantiagoConstants.common_dates"
   ]
  },
  {
   "cell_type": "markdown",
   "metadata": {},
   "source": [
    "* Checking for bugs and refactoring"
   ]
  },
  {
   "cell_type": "code",
   "execution_count": 3,
   "metadata": {
    "scrolled": true
   },
   "outputs": [],
   "source": [
    "common_dates = common_dates[:1]"
   ]
  },
  {
   "cell_type": "code",
   "execution_count": 4,
   "metadata": {
    "scrolled": true
   },
   "outputs": [
    {
     "data": {
      "text/plain": [
       "['2017-03-09']"
      ]
     },
     "execution_count": 4,
     "metadata": {},
     "output_type": "execute_result"
    }
   ],
   "source": [
    "common_dates #Only first date"
   ]
  },
  {
   "cell_type": "code",
   "execution_count": 5,
   "metadata": {
    "collapsed": true
   },
   "outputs": [],
   "source": [
    "torniquetesDataPath = \"C:/Users/leoca_000/Desktop/Evasion/01_analisis/03_datos/03_BUSESTORNIQUETE/Avance_Consolidado_v2.xlsx\"\n",
    "busesTorniquete_df = pd.read_excel(torniquetesDataPath, encoding = 'latin-1')\n",
    "busesTorniquete_df.columns=['sitio_subida','fecha_instalacion']"
   ]
  },
  {
   "cell_type": "code",
   "execution_count": 6,
   "metadata": {},
   "outputs": [
    {
     "name": "stdout",
     "output_type": "stream",
     "text": [
      "Not found in turnstile database: 1795630\n"
     ]
    }
   ],
   "source": [
    "for date in common_dates:\n",
    "    etapas_builder = RunSilentlyDailyEtapasBuilderClass(date)\n",
    "    filtered_df = etapas_builder.runLightCompleteProcess()\n",
    "    filtered_df['servicio_subida'] =  filtered_df['servicio_subida'].str.replace('T','')\n",
    "    filtered_df['servicio_subida'] =  filtered_df['servicio_subida'].str.split(' ').str[0]\n",
    "    groupby_summary = filtered_df.groupby(['sitio_subida','servicio_subida'])['diferencia_tiempo_secs'].agg(['count','sum','mean'])\n",
    "    groupby_summary['fecha'] = date\n",
    "    groupby_summary.reset_index(inplace=True)\n",
    "    groupby_summary = pd.merge(groupby_summary, busesTorniquete_df, on='sitio_subida', how='left')\n",
    "    base_output_path = 'C:/Users/leoca_000/Desktop/Evasion/01_analisis/03_datos/01_SSH/02_TIMESBYBUSBYSERVICE/01_ORIGINAL/test/'\n",
    "    file_name = date + '-meanByBusByService.csv'\n",
    "    groupby_summary.to_csv(base_output_path+file_name,sep =\";\")"
   ]
  },
  {
   "cell_type": "code",
   "execution_count": 7,
   "metadata": {},
   "outputs": [
    {
     "data": {
      "text/html": [
       "<div>\n",
       "<style>\n",
       "    .dataframe thead tr:only-child th {\n",
       "        text-align: right;\n",
       "    }\n",
       "\n",
       "    .dataframe thead th {\n",
       "        text-align: left;\n",
       "    }\n",
       "\n",
       "    .dataframe tbody tr th {\n",
       "        vertical-align: top;\n",
       "    }\n",
       "</style>\n",
       "<table border=\"1\" class=\"dataframe\">\n",
       "  <thead>\n",
       "    <tr style=\"text-align: right;\">\n",
       "      <th></th>\n",
       "      <th>sitio_subida</th>\n",
       "      <th>servicio_subida</th>\n",
       "      <th>count</th>\n",
       "      <th>sum</th>\n",
       "      <th>mean</th>\n",
       "      <th>fecha</th>\n",
       "      <th>fecha_instalacion</th>\n",
       "    </tr>\n",
       "  </thead>\n",
       "  <tbody>\n",
       "    <tr>\n",
       "      <th>0</th>\n",
       "      <td>BBJZ-74</td>\n",
       "      <td>F14</td>\n",
       "      <td>53</td>\n",
       "      <td>239.0</td>\n",
       "      <td>4.509434</td>\n",
       "      <td>2017-03-09</td>\n",
       "      <td>NaT</td>\n",
       "    </tr>\n",
       "    <tr>\n",
       "      <th>1</th>\n",
       "      <td>BBJZ-74</td>\n",
       "      <td>F16</td>\n",
       "      <td>70</td>\n",
       "      <td>433.0</td>\n",
       "      <td>6.185714</td>\n",
       "      <td>2017-03-09</td>\n",
       "      <td>NaT</td>\n",
       "    </tr>\n",
       "    <tr>\n",
       "      <th>2</th>\n",
       "      <td>BBJZ-74</td>\n",
       "      <td>F26</td>\n",
       "      <td>32</td>\n",
       "      <td>516.0</td>\n",
       "      <td>16.125000</td>\n",
       "      <td>2017-03-09</td>\n",
       "      <td>NaT</td>\n",
       "    </tr>\n",
       "    <tr>\n",
       "      <th>3</th>\n",
       "      <td>BBJZ-76</td>\n",
       "      <td>F14</td>\n",
       "      <td>106</td>\n",
       "      <td>1112.0</td>\n",
       "      <td>10.490566</td>\n",
       "      <td>2017-03-09</td>\n",
       "      <td>2016-11-01</td>\n",
       "    </tr>\n",
       "    <tr>\n",
       "      <th>4</th>\n",
       "      <td>BBJZ-76</td>\n",
       "      <td>F16</td>\n",
       "      <td>52</td>\n",
       "      <td>294.0</td>\n",
       "      <td>5.653846</td>\n",
       "      <td>2017-03-09</td>\n",
       "      <td>2016-11-01</td>\n",
       "    </tr>\n",
       "  </tbody>\n",
       "</table>\n",
       "</div>"
      ],
      "text/plain": [
       "  sitio_subida servicio_subida  count     sum       mean       fecha  \\\n",
       "0      BBJZ-74             F14     53   239.0   4.509434  2017-03-09   \n",
       "1      BBJZ-74             F16     70   433.0   6.185714  2017-03-09   \n",
       "2      BBJZ-74             F26     32   516.0  16.125000  2017-03-09   \n",
       "3      BBJZ-76             F14    106  1112.0  10.490566  2017-03-09   \n",
       "4      BBJZ-76             F16     52   294.0   5.653846  2017-03-09   \n",
       "\n",
       "  fecha_instalacion  \n",
       "0               NaT  \n",
       "1               NaT  \n",
       "2               NaT  \n",
       "3        2016-11-01  \n",
       "4        2016-11-01  "
      ]
     },
     "execution_count": 7,
     "metadata": {},
     "output_type": "execute_result"
    }
   ],
   "source": [
    "groupby_summary.head(5)"
   ]
  },
  {
   "cell_type": "markdown",
   "metadata": {},
   "source": [
    "#### CHECKING FOR BBJZ_74"
   ]
  },
  {
   "cell_type": "code",
   "execution_count": 8,
   "metadata": {
    "collapsed": true
   },
   "outputs": [],
   "source": [
    "BBJZ_74 = filtered_df[filtered_df['sitio_subida']=='BBJZ-74']"
   ]
  },
  {
   "cell_type": "code",
   "execution_count": 9,
   "metadata": {},
   "outputs": [
    {
     "data": {
      "text/plain": [
       "array(['F26', 'F16', 'F14'], dtype=object)"
      ]
     },
     "execution_count": 9,
     "metadata": {},
     "output_type": "execute_result"
    }
   ],
   "source": [
    "BBJZ_74['servicio_subida'].unique()"
   ]
  },
  {
   "cell_type": "code",
   "execution_count": 10,
   "metadata": {
    "collapsed": true
   },
   "outputs": [],
   "source": [
    "BBJZ_74_F14 = BBJZ_74[BBJZ_74['servicio_subida']=='F14']\n",
    "BBJZ_74_F16 = BBJZ_74[BBJZ_74['servicio_subida']=='F16']\n",
    "BBJZ_74_F26 = BBJZ_74[BBJZ_74['servicio_subida']=='F26']"
   ]
  },
  {
   "cell_type": "code",
   "execution_count": 11,
   "metadata": {},
   "outputs": [
    {
     "name": "stdout",
     "output_type": "stream",
     "text": [
      "53 70 32\n"
     ]
    }
   ],
   "source": [
    "BBJZ_74_F14_count = len(BBJZ_74_F14.index)\n",
    "BBJZ_74_F16_count = len(BBJZ_74_F16.index)\n",
    "BBJZ_74_F26_count = len(BBJZ_74_F26.index)\n",
    "\n",
    "print(BBJZ_74_F14_count, BBJZ_74_F16_count, BBJZ_74_F26_count)"
   ]
  },
  {
   "cell_type": "code",
   "execution_count": 12,
   "metadata": {},
   "outputs": [
    {
     "name": "stdout",
     "output_type": "stream",
     "text": [
      "239.0 433.0 516.0\n"
     ]
    }
   ],
   "source": [
    "total_dif_time_BBJZ_74_F14 = BBJZ_74_F14['diferencia_tiempo_secs'].sum()\n",
    "total_dif_time_BBJZ_74_F16 = BBJZ_74_F16['diferencia_tiempo_secs'].sum()\n",
    "total_dif_time_BBJZ_74_F26 = BBJZ_74_F26['diferencia_tiempo_secs'].sum()\n",
    "print(total_dif_time_BBJZ_74_F14,total_dif_time_BBJZ_74_F16,total_dif_time_BBJZ_74_F26)"
   ]
  },
  {
   "cell_type": "markdown",
   "metadata": {},
   "source": [
    "* BBJZ-74: Average for diferencia_tiempo_secs correctly computed. <font color=\"green\"><strong>TEST PASSED</strong></font>"
   ]
  },
  {
   "cell_type": "code",
   "execution_count": 13,
   "metadata": {},
   "outputs": [
    {
     "name": "stdout",
     "output_type": "stream",
     "text": [
      "4.509433962264151 6.185714285714286 16.125\n"
     ]
    }
   ],
   "source": [
    "print(total_dif_time_BBJZ_74_F14/BBJZ_74_F14_count, total_dif_time_BBJZ_74_F16/BBJZ_74_F16_count, total_dif_time_BBJZ_74_F26/BBJZ_74_F26_count)"
   ]
  },
  {
   "cell_type": "markdown",
   "metadata": {},
   "source": [
    "* BBJZ-74: NOT FOUND IN TURNSTILE DATABASE. <font color=\"green\"><strong>TEST PASSED</strong></font>"
   ]
  },
  {
   "cell_type": "code",
   "execution_count": 14,
   "metadata": {},
   "outputs": [
    {
     "data": {
      "text/html": [
       "<div>\n",
       "<style>\n",
       "    .dataframe thead tr:only-child th {\n",
       "        text-align: right;\n",
       "    }\n",
       "\n",
       "    .dataframe thead th {\n",
       "        text-align: left;\n",
       "    }\n",
       "\n",
       "    .dataframe tbody tr th {\n",
       "        vertical-align: top;\n",
       "    }\n",
       "</style>\n",
       "<table border=\"1\" class=\"dataframe\">\n",
       "  <thead>\n",
       "    <tr style=\"text-align: right;\">\n",
       "      <th></th>\n",
       "      <th>sitio_subida</th>\n",
       "      <th>fecha_instalacion</th>\n",
       "    </tr>\n",
       "  </thead>\n",
       "  <tbody>\n",
       "  </tbody>\n",
       "</table>\n",
       "</div>"
      ],
      "text/plain": [
       "Empty DataFrame\n",
       "Columns: [sitio_subida, fecha_instalacion]\n",
       "Index: []"
      ]
     },
     "execution_count": 14,
     "metadata": {},
     "output_type": "execute_result"
    }
   ],
   "source": [
    "busesTorniquete_df[busesTorniquete_df['sitio_subida']=='BBJZ-74']"
   ]
  },
  {
   "cell_type": "markdown",
   "metadata": {},
   "source": [
    "### Closed"
   ]
  }
 ],
 "metadata": {
  "kernelspec": {
   "display_name": "Python 3",
   "language": "python",
   "name": "python3"
  },
  "language_info": {
   "codemirror_mode": {
    "name": "ipython",
    "version": 3
   },
   "file_extension": ".py",
   "mimetype": "text/x-python",
   "name": "python",
   "nbconvert_exporter": "python",
   "pygments_lexer": "ipython3",
   "version": "3.6.1"
  }
 },
 "nbformat": 4,
 "nbformat_minor": 2
}
