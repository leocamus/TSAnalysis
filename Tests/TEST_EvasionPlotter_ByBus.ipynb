{
 "cells": [
  {
   "cell_type": "markdown",
   "metadata": {},
   "source": [
    "### Building evasion vs. mean time interval : by Bus - THIS IS A TEST"
   ]
  },
  {
   "cell_type": "code",
   "execution_count": 1,
   "metadata": {
    "collapsed": true
   },
   "outputs": [],
   "source": [
    "import os\n",
    "import sys\n",
    "module_path = os.path.abspath(os.path.join('..'))\n",
    "if module_path not in sys.path:\n",
    "    sys.path.append(module_path)"
   ]
  },
  {
   "cell_type": "code",
   "execution_count": 2,
   "metadata": {},
   "outputs": [
    {
     "data": {
      "text/html": [
       "<style>.container { width:80% !important; }</style>"
      ],
      "text/plain": [
       "<IPython.core.display.HTML object>"
      ]
     },
     "metadata": {},
     "output_type": "display_data"
    }
   ],
   "source": [
    "%matplotlib inline\n",
    "import pandas as pd\n",
    "import matplotlib\n",
    "import matplotlib.pyplot as plt\n",
    "import numpy as np\n",
    "from importlib import reload\n",
    "import datetime as dt\n",
    "from IPython.core.display import display, HTML\n",
    "display(HTML(\"<style>.container { width:80% !important; }</style>\"))"
   ]
  },
  {
   "cell_type": "code",
   "execution_count": 3,
   "metadata": {
    "collapsed": true
   },
   "outputs": [],
   "source": [
    "from Utils import TransantiagoConstants\n",
    "import EvasionBuilder"
   ]
  },
  {
   "cell_type": "code",
   "execution_count": 4,
   "metadata": {},
   "outputs": [
    {
     "name": "stdout",
     "output_type": "stream",
     "text": [
      "Original number of rows in complete evasion database is: 97373\n",
      "Number of duplicated rows in complete evasion database is: 6192\n",
      "Number of collapsed-duplicated rows in complete evasion database is: 3090\n",
      "Number of rows in complete evasion database without duplicated rows at all is: 91181\n",
      "Final number of rows in complete evasion database with collapsed duplicated rows is: 94271\n"
     ]
    },
    {
     "name": "stderr",
     "output_type": "stream",
     "text": [
      "C:\\Users\\leoca_000\\Anaconda3\\lib\\site-packages\\pandas\\core\\indexing.py:337: SettingWithCopyWarning: \n",
      "A value is trying to be set on a copy of a slice from a DataFrame.\n",
      "Try using .loc[row_indexer,col_indexer] = value instead\n",
      "\n",
      "See the caveats in the documentation: http://pandas.pydata.org/pandas-docs/stable/indexing.html#indexing-view-versus-copy\n",
      "  self.obj[key] = _infer_fill_value(value)\n",
      "C:\\Users\\leoca_000\\Anaconda3\\lib\\site-packages\\pandas\\core\\indexing.py:517: SettingWithCopyWarning: \n",
      "A value is trying to be set on a copy of a slice from a DataFrame.\n",
      "Try using .loc[row_indexer,col_indexer] = value instead\n",
      "\n",
      "See the caveats in the documentation: http://pandas.pydata.org/pandas-docs/stable/indexing.html#indexing-view-versus-copy\n",
      "  self.obj[item] = s\n"
     ]
    },
    {
     "name": "stdout",
     "output_type": "stream",
     "text": [
      "The only non-matched user_code services are: \n",
      "D06\n"
     ]
    }
   ],
   "source": [
    "processed_evasion = EvasionBuilder.runCompleteProcess()"
   ]
  },
  {
   "cell_type": "markdown",
   "metadata": {},
   "source": [
    "* Processing evasion-ddbb before merging"
   ]
  },
  {
   "cell_type": "code",
   "execution_count": 5,
   "metadata": {
    "collapsed": true
   },
   "outputs": [],
   "source": [
    "evasion_paradero = processed_evasion[processed_evasion['TP']=='P']\n",
    "evasion_paradero_first = evasion_paradero[evasion_paradero['N_PUERTA']==1]"
   ]
  },
  {
   "cell_type": "markdown",
   "metadata": {},
   "source": [
    "* Getting evasion by date-bus"
   ]
  },
  {
   "cell_type": "code",
   "execution_count": 6,
   "metadata": {
    "collapsed": true
   },
   "outputs": [],
   "source": [
    "f = {'PATENTE':['count'],'INGRESAN':['sum'], 'NO_VALIDAN':['sum']}\n",
    "summary = evasion_paradero_first.groupby(['FECHA','PATENTE']).agg(f)\n",
    "summary.columns=['EVASION_COUNT', 'TOTAL_INGRESAN','TOTAL_NO_VALIDAN']\n",
    "summary.reset_index(inplace=True)"
   ]
  },
  {
   "cell_type": "markdown",
   "metadata": {},
   "source": [
    "* Computing evasion rate"
   ]
  },
  {
   "cell_type": "code",
   "execution_count": 7,
   "metadata": {
    "collapsed": true
   },
   "outputs": [],
   "source": [
    "summary.loc[:,'EVASION_RATE'] = summary.loc[:,'TOTAL_NO_VALIDAN']/summary.loc[:,'TOTAL_INGRESAN']"
   ]
  },
  {
   "cell_type": "markdown",
   "metadata": {},
   "source": [
    "* Filtering by common_dates"
   ]
  },
  {
   "cell_type": "code",
   "execution_count": 8,
   "metadata": {
    "collapsed": true
   },
   "outputs": [],
   "source": [
    "common_dates = TransantiagoConstants.common_dates"
   ]
  },
  {
   "cell_type": "code",
   "execution_count": 9,
   "metadata": {
    "collapsed": true
   },
   "outputs": [],
   "source": [
    "common_dates_timestamp = [pd.to_datetime(x) for x in common_dates]"
   ]
  },
  {
   "cell_type": "code",
   "execution_count": 10,
   "metadata": {
    "collapsed": true,
    "scrolled": true
   },
   "outputs": [],
   "source": [
    "common_dates_evasion = summary[summary['FECHA'].isin(common_dates_timestamp)]"
   ]
  },
  {
   "cell_type": "markdown",
   "metadata": {},
   "source": [
    "* Building complete etapas ddbb."
   ]
  },
  {
   "cell_type": "code",
   "execution_count": 11,
   "metadata": {
    "collapsed": true
   },
   "outputs": [],
   "source": [
    "reduced_etapas = pd.DataFrame()\n",
    "\n",
    "for date in common_dates:\n",
    "    base_input_path = 'C:/Users/leoca_000/Desktop/Evasion/01_analisis/03_datos/01_SSH/01_TIMESBYBUS/01_ORIGINAL/'\n",
    "    file_name = date + '-meanByBus.csv'\n",
    "    grouped_by_bus = pd.read_csv(base_input_path+file_name, encoding = 'latin-1',sep =\";\")\n",
    "    reduced_etapas = pd.concat([reduced_etapas,grouped_by_bus])\n"
   ]
  },
  {
   "cell_type": "markdown",
   "metadata": {
    "collapsed": true
   },
   "source": [
    "* Processing etapas ddbb before merging"
   ]
  },
  {
   "cell_type": "code",
   "execution_count": 12,
   "metadata": {
    "collapsed": true
   },
   "outputs": [],
   "source": [
    "del reduced_etapas['Unnamed: 0']\n",
    "reduced_etapas = reduced_etapas.rename(columns = {'fecha':'FECHA', 'sitio_subida':'PATENTE', 'count': 'ETAPAS_COUNT'})\n",
    "reduced_etapas['FECHA'] = pd.to_datetime(reduced_etapas.FECHA)\n",
    "reduced_etapas['PATENTE'] = reduced_etapas['PATENTE'].str.replace(\"-\", \"\")\n",
    "reduced_etapas['PATENTE'] = reduced_etapas['PATENTE'].str.replace(\" \", \"\")"
   ]
  },
  {
   "cell_type": "code",
   "execution_count": 13,
   "metadata": {
    "collapsed": true
   },
   "outputs": [],
   "source": [
    "reduced_etapas.reset_index(drop=True,inplace=True)"
   ]
  },
  {
   "cell_type": "code",
   "execution_count": 14,
   "metadata": {},
   "outputs": [
    {
     "data": {
      "text/plain": [
       "pandas._libs.tslib.Timestamp"
      ]
     },
     "execution_count": 14,
     "metadata": {},
     "output_type": "execute_result"
    }
   ],
   "source": [
    "type(reduced_etapas.loc[0,'FECHA'])"
   ]
  },
  {
   "cell_type": "markdown",
   "metadata": {},
   "source": [
    "## <strong>TEST MERGING</strong>"
   ]
  },
  {
   "cell_type": "markdown",
   "metadata": {},
   "source": [
    "The order is:\n",
    "1. summary > common_dates_evasion.\n",
    "2. reduced_etapas.\n",
    "3. evasion_vs_mean = merge (summary, reduced_etapas ) on FECHA and PATENTE > clean_evasion_vs_mean obtained when mean > 0.\n",
    "4. evasion_vs_mean > within_dates_evasion_vs_mean > common_dates_evasion_vs_mean. \n",
    "\n",
    "Finally, common_dates_evasion_vs_mean is used to check is merge is correctly applied"
   ]
  },
  {
   "cell_type": "markdown",
   "metadata": {},
   "source": [
    "1 - BASICS "
   ]
  },
  {
   "cell_type": "code",
   "execution_count": 15,
   "metadata": {
    "collapsed": true
   },
   "outputs": [],
   "source": [
    "evasion_vs_mean = pd.merge(summary,reduced_etapas, on=['FECHA','PATENTE'], how='left')"
   ]
  },
  {
   "cell_type": "code",
   "execution_count": 16,
   "metadata": {},
   "outputs": [
    {
     "name": "stdout",
     "output_type": "stream",
     "text": [
      "The total number of rows in evasion vs. mean ddbb is: 1183\n"
     ]
    }
   ],
   "source": [
    "evasion_vs_mean_length = len(evasion_vs_mean.index)\n",
    "print('The total number of rows in evasion vs. mean ddbb is: ' +str(evasion_vs_mean_length))"
   ]
  },
  {
   "cell_type": "markdown",
   "metadata": {},
   "source": [
    "* Getting rid of missing values"
   ]
  },
  {
   "cell_type": "code",
   "execution_count": 17,
   "metadata": {
    "collapsed": true
   },
   "outputs": [],
   "source": [
    "clean_evasion_vs_mean = evasion_vs_mean[evasion_vs_mean['mean']>0]"
   ]
  },
  {
   "cell_type": "code",
   "execution_count": 18,
   "metadata": {},
   "outputs": [
    {
     "data": {
      "text/html": [
       "<div>\n",
       "<style>\n",
       "    .dataframe thead tr:only-child th {\n",
       "        text-align: right;\n",
       "    }\n",
       "\n",
       "    .dataframe thead th {\n",
       "        text-align: left;\n",
       "    }\n",
       "\n",
       "    .dataframe tbody tr th {\n",
       "        vertical-align: top;\n",
       "    }\n",
       "</style>\n",
       "<table border=\"1\" class=\"dataframe\">\n",
       "  <thead>\n",
       "    <tr style=\"text-align: right;\">\n",
       "      <th></th>\n",
       "      <th>FECHA</th>\n",
       "      <th>PATENTE</th>\n",
       "      <th>EVASION_COUNT</th>\n",
       "      <th>TOTAL_INGRESAN</th>\n",
       "      <th>TOTAL_NO_VALIDAN</th>\n",
       "      <th>EVASION_RATE</th>\n",
       "      <th>ETAPAS_COUNT</th>\n",
       "      <th>sum</th>\n",
       "      <th>mean</th>\n",
       "      <th>fecha_instalacion</th>\n",
       "    </tr>\n",
       "  </thead>\n",
       "  <tbody>\n",
       "    <tr>\n",
       "      <th>302</th>\n",
       "      <td>2017-03-09</td>\n",
       "      <td>BKWK90</td>\n",
       "      <td>45</td>\n",
       "      <td>94</td>\n",
       "      <td>27</td>\n",
       "      <td>0.287234</td>\n",
       "      <td>353.0</td>\n",
       "      <td>1842.0</td>\n",
       "      <td>5.218130</td>\n",
       "      <td>NaN</td>\n",
       "    </tr>\n",
       "    <tr>\n",
       "      <th>303</th>\n",
       "      <td>2017-03-09</td>\n",
       "      <td>CJJH75</td>\n",
       "      <td>48</td>\n",
       "      <td>125</td>\n",
       "      <td>58</td>\n",
       "      <td>0.464000</td>\n",
       "      <td>194.0</td>\n",
       "      <td>1456.0</td>\n",
       "      <td>7.505155</td>\n",
       "      <td>2017-07-03</td>\n",
       "    </tr>\n",
       "    <tr>\n",
       "      <th>304</th>\n",
       "      <td>2017-03-09</td>\n",
       "      <td>CJKC18</td>\n",
       "      <td>38</td>\n",
       "      <td>48</td>\n",
       "      <td>7</td>\n",
       "      <td>0.145833</td>\n",
       "      <td>244.0</td>\n",
       "      <td>1052.0</td>\n",
       "      <td>4.311475</td>\n",
       "      <td>2017-07-05</td>\n",
       "    </tr>\n",
       "    <tr>\n",
       "      <th>305</th>\n",
       "      <td>2017-03-09</td>\n",
       "      <td>CJRG61</td>\n",
       "      <td>24</td>\n",
       "      <td>33</td>\n",
       "      <td>18</td>\n",
       "      <td>0.545455</td>\n",
       "      <td>328.0</td>\n",
       "      <td>2334.0</td>\n",
       "      <td>7.115854</td>\n",
       "      <td>NaN</td>\n",
       "    </tr>\n",
       "    <tr>\n",
       "      <th>306</th>\n",
       "      <td>2017-03-09</td>\n",
       "      <td>FLXB75</td>\n",
       "      <td>20</td>\n",
       "      <td>62</td>\n",
       "      <td>0</td>\n",
       "      <td>0.000000</td>\n",
       "      <td>287.0</td>\n",
       "      <td>2134.0</td>\n",
       "      <td>7.435540</td>\n",
       "      <td>2016-07-26</td>\n",
       "    </tr>\n",
       "  </tbody>\n",
       "</table>\n",
       "</div>"
      ],
      "text/plain": [
       "         FECHA PATENTE  EVASION_COUNT  TOTAL_INGRESAN  TOTAL_NO_VALIDAN  \\\n",
       "302 2017-03-09  BKWK90             45              94                27   \n",
       "303 2017-03-09  CJJH75             48             125                58   \n",
       "304 2017-03-09  CJKC18             38              48                 7   \n",
       "305 2017-03-09  CJRG61             24              33                18   \n",
       "306 2017-03-09  FLXB75             20              62                 0   \n",
       "\n",
       "     EVASION_RATE  ETAPAS_COUNT     sum      mean fecha_instalacion  \n",
       "302      0.287234         353.0  1842.0  5.218130               NaN  \n",
       "303      0.464000         194.0  1456.0  7.505155        2017-07-03  \n",
       "304      0.145833         244.0  1052.0  4.311475        2017-07-05  \n",
       "305      0.545455         328.0  2334.0  7.115854               NaN  \n",
       "306      0.000000         287.0  2134.0  7.435540        2016-07-26  "
      ]
     },
     "execution_count": 18,
     "metadata": {},
     "output_type": "execute_result"
    }
   ],
   "source": [
    "clean_evasion_vs_mean.head()"
   ]
  },
  {
   "cell_type": "code",
   "execution_count": 19,
   "metadata": {},
   "outputs": [
    {
     "name": "stdout",
     "output_type": "stream",
     "text": [
      "The total number of rows matching in evasion vs. mean ddbb is: 496\n",
      "The percentage of matching is: 41.927303465765%\n"
     ]
    }
   ],
   "source": [
    "clean_evasion_vs_mean_length = len(clean_evasion_vs_mean.index)\n",
    "print('The total number of rows matching in evasion vs. mean ddbb is: ' + str(clean_evasion_vs_mean_length))\n",
    "print('The percentage of matching is: ' + str(clean_evasion_vs_mean_length/evasion_vs_mean_length*100) + '%')"
   ]
  },
  {
   "cell_type": "markdown",
   "metadata": {},
   "source": [
    "= END BASICS ="
   ]
  },
  {
   "cell_type": "markdown",
   "metadata": {},
   "source": [
    "2 - NUMBER OF OBSERVATIONS MISMATCHING"
   ]
  },
  {
   "cell_type": "code",
   "execution_count": 20,
   "metadata": {},
   "outputs": [
    {
     "name": "stdout",
     "output_type": "stream",
     "text": [
      "The total number of rows mismatching in evasion vs. mean ddbb is: 687\n"
     ]
    }
   ],
   "source": [
    "total_mismatching = evasion_vs_mean_length - clean_evasion_vs_mean_length\n",
    "print('The total number of rows mismatching in evasion vs. mean ddbb is: ' + str(total_mismatching))"
   ]
  },
  {
   "cell_type": "markdown",
   "metadata": {},
   "source": [
    "= END NUMBER OF OBSERVATIONS MISMATCHING ="
   ]
  },
  {
   "cell_type": "markdown",
   "metadata": {},
   "source": [
    "3 - CHECKING CONDITIONS"
   ]
  },
  {
   "cell_type": "code",
   "execution_count": 21,
   "metadata": {
    "collapsed": true
   },
   "outputs": [],
   "source": [
    "within_dates_evasion_vs_mean = evasion_vs_mean[(evasion_vs_mean['FECHA']>=pd.to_datetime('2017-03-09'))&(evasion_vs_mean['FECHA']<=pd.to_datetime('2017-08-24'))]"
   ]
  },
  {
   "cell_type": "code",
   "execution_count": 22,
   "metadata": {},
   "outputs": [
    {
     "name": "stdout",
     "output_type": "stream",
     "text": [
      "The number of rows within common dates range is: 777\n"
     ]
    }
   ],
   "source": [
    "within_dates_evasion_vs_mean_length = len(within_dates_evasion_vs_mean.index)\n",
    "print('The number of rows within common dates range is: ' + str(within_dates_evasion_vs_mean_length))"
   ]
  },
  {
   "cell_type": "code",
   "execution_count": 23,
   "metadata": {
    "collapsed": true
   },
   "outputs": [],
   "source": [
    "common_dates_evasion_vs_mean = within_dates_evasion_vs_mean[within_dates_evasion_vs_mean['FECHA'].isin(common_dates_timestamp)]"
   ]
  },
  {
   "cell_type": "code",
   "execution_count": 24,
   "metadata": {},
   "outputs": [
    {
     "name": "stdout",
     "output_type": "stream",
     "text": [
      "The total number of rows within common dates range and in common dates is: 513\n"
     ]
    }
   ],
   "source": [
    "common_dates_evasion_vs_mean_length = len(common_dates_evasion_vs_mean.index)\n",
    "print('The total number of rows within common dates range and in common dates is: ' + str(common_dates_evasion_vs_mean_length))"
   ]
  },
  {
   "cell_type": "code",
   "execution_count": 25,
   "metadata": {},
   "outputs": [
    {
     "name": "stdout",
     "output_type": "stream",
     "text": [
      "IN SUMMARY, THE ORIGINAL NUMBER OF ROWS IS 1183. FROM THIS, 777 ARE WITHIN COMMON DATES RANGE. FROM THE LATTER, 513 ARE WITHIN COMMON DATES RANGE AND IN FACT CORRESPOND TO A COMMON DATE. FINALLY THERE ARE 17 ROWS MISMATCHING THAT SHOULD BE CHECKED IN REDUCED_ETAPAS AND SIMPLIFIED_ETAPAS FILES\n"
     ]
    }
   ],
   "source": [
    "print('IN SUMMARY, THE ORIGINAL NUMBER OF ROWS IS ' + str(evasion_vs_mean_length) + '. FROM THIS, ' + \n",
    "     str(within_dates_evasion_vs_mean_length) + ' ARE WITHIN COMMON DATES RANGE. FROM THE LATTER, ' + \n",
    "     str(common_dates_evasion_vs_mean_length) + ' ARE WITHIN COMMON DATES RANGE AND IN FACT CORRESPOND TO A COMMON DATE. FINALLY THERE ARE ' +\n",
    "     str(common_dates_evasion_vs_mean_length-clean_evasion_vs_mean_length) + ' ROWS MISMATCHING THAT SHOULD BE CHECKED IN REDUCED_ETAPAS AND SIMPLIFIED_ETAPAS FILES') "
   ]
  },
  {
   "cell_type": "markdown",
   "metadata": {},
   "source": [
    "= END CHECKING CONDITIONS ="
   ]
  },
  {
   "cell_type": "markdown",
   "metadata": {},
   "source": [
    "4 - CHECKING PROBLEMATIC ROWS USING <strong>common_dates_evasion_vs_mean</strong> AND LOOKING INTO REDUCED_ETAPAS and SIMPLIFIED_ETAPAS FILES"
   ]
  },
  {
   "cell_type": "code",
   "execution_count": 26,
   "metadata": {},
   "outputs": [
    {
     "name": "stdout",
     "output_type": "stream",
     "text": [
      "17\n"
     ]
    }
   ],
   "source": [
    "NOT_SEEN_PATENTES_DATES = common_dates_evasion_vs_mean.loc[common_dates_evasion_vs_mean['mean'].isnull(),['FECHA','PATENTE']]\n",
    "print(len(common_dates_evasion_vs_mean[common_dates_evasion_vs_mean['mean'].isnull()].index))"
   ]
  },
  {
   "cell_type": "markdown",
   "metadata": {},
   "source": [
    "4.1. In reduced etapas > <font color='green'> Passed </font>"
   ]
  },
  {
   "cell_type": "code",
   "execution_count": 27,
   "metadata": {},
   "outputs": [
    {
     "name": "stdout",
     "output_type": "stream",
     "text": [
      "17\n"
     ]
    }
   ],
   "source": [
    "i = 0\n",
    "for index, row in NOT_SEEN_PATENTES_DATES.iterrows():\n",
    "    #This line makes sense because:\n",
    "    #1. FECHA: reduced_etapas['FECHA'] of same type of row['FECHA'], see TEST_EvasionPlotter_ByBusByService In [36] and In [37]\n",
    "    #2. PATENTE: In [12]. Also, PATENTES are always strings, so no problem.\n",
    "    if reduced_etapas[(reduced_etapas['FECHA']==row['FECHA'])&(reduced_etapas['PATENTE']==row['PATENTE'])].empty:\n",
    "        i=i+1\n",
    "\n",
    "print(i)"
   ]
  },
  {
   "cell_type": "markdown",
   "metadata": {},
   "source": [
    "4.2. In simplified_etapas > <font color='green'> Passed </font>"
   ]
  },
  {
   "cell_type": "code",
   "execution_count": 28,
   "metadata": {
    "collapsed": true
   },
   "outputs": [],
   "source": [
    "import re\n",
    "from RunSilentlyDailyEtapasBuilder import RunSilentlyDailyEtapasBuilderClass"
   ]
  },
  {
   "cell_type": "code",
   "execution_count": 29,
   "metadata": {},
   "outputs": [
    {
     "data": {
      "text/plain": [
       "'2017-08-22 00:00:00'"
      ]
     },
     "execution_count": 29,
     "metadata": {},
     "output_type": "execute_result"
    }
   ],
   "source": [
    "str(row['FECHA'])"
   ]
  },
  {
   "cell_type": "code",
   "execution_count": 30,
   "metadata": {
    "scrolled": true
   },
   "outputs": [
    {
     "name": "stdout",
     "output_type": "stream",
     "text": [
      "Not found in turnstile database: 1832615\n",
      "Not found in turnstile database: 1842842\n",
      "Not found in turnstile database: 1821215\n",
      "Not found in turnstile database: 1869904\n",
      "Not found in turnstile database: 517700\n",
      "Not found in turnstile database: 517700\n",
      "Not found in turnstile database: 517700\n",
      "Not found in turnstile database: 517700\n",
      "Not found in turnstile database: 517700\n",
      "Not found in turnstile database: 517700\n",
      "Not found in turnstile database: 517700\n",
      "Not found in turnstile database: 517700\n",
      "Not found in turnstile database: 1764405\n",
      "Not found in turnstile database: 1637796\n",
      "Not found in turnstile database: 1867643\n",
      "Not found in turnstile database: 1873694\n",
      "Not found in turnstile database: 1877006\n",
      "17\n"
     ]
    }
   ],
   "source": [
    "j=0\n",
    "for index,row in NOT_SEEN_PATENTES_DATES.iterrows():\n",
    "    date = str(row['FECHA']).split(' ')[0]\n",
    "    patente = re.split('(\\d+)',row['PATENTE'])[0] + '-' + re.split('(\\d+)',row['PATENTE'])[1]\n",
    "    etapas_builder = RunSilentlyDailyEtapasBuilderClass(date)\n",
    "    filtered_df = etapas_builder.runLightCompleteProcess()    \n",
    "    if filtered_df[filtered_df['sitio_subida']==patente].empty: #This lines makes sense because of In [30], line 4.\n",
    "        j=j+1\n",
    "\n",
    "print(j)"
   ]
  },
  {
   "cell_type": "markdown",
   "metadata": {},
   "source": [
    "### CLOSED, <font color='green'> Passed </font>"
   ]
  }
 ],
 "metadata": {
  "kernelspec": {
   "display_name": "Python 3",
   "language": "python",
   "name": "python3"
  },
  "language_info": {
   "codemirror_mode": {
    "name": "ipython",
    "version": 3
   },
   "file_extension": ".py",
   "mimetype": "text/x-python",
   "name": "python",
   "nbconvert_exporter": "python",
   "pygments_lexer": "ipython3",
   "version": "3.6.1"
  }
 },
 "nbformat": 4,
 "nbformat_minor": 2
}
