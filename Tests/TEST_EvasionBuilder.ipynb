{
 "cells": [
  {
   "cell_type": "markdown",
   "metadata": {},
   "source": [
    "#  EvasionBuilder: this is a test"
   ]
  },
  {
   "cell_type": "code",
   "execution_count": 1,
   "metadata": {
    "scrolled": true
   },
   "outputs": [
    {
     "data": {
      "text/html": [
       "<style>.container { width:100% !important; }</style>"
      ],
      "text/plain": [
       "<IPython.core.display.HTML object>"
      ]
     },
     "metadata": {},
     "output_type": "display_data"
    }
   ],
   "source": [
    "import pandas as pd\n",
    "import numpy as np\n",
    "from IPython.core.display import display, HTML\n",
    "display(HTML(\"<style>.container { width:100% !important; }</style>\"))\n",
    "from Utils import TransantiagoConstants\n",
    "import EvasionBuilder"
   ]
  },
  {
   "cell_type": "markdown",
   "metadata": {},
   "source": [
    "### EvasionBuilder.loadSinglesEvasion() > Nothing to test"
   ]
  },
  {
   "cell_type": "code",
   "execution_count": 2,
   "metadata": {
    "collapsed": true,
    "scrolled": true
   },
   "outputs": [],
   "source": [
    "[first_q, second_q, third_q] = EvasionBuilder.loadSinglesEvasion()"
   ]
  },
  {
   "cell_type": "markdown",
   "metadata": {},
   "source": [
    "### EvasionBuilder.processSinglesEvasiondAndConcat > <font color='green'> Passed </font>, although it should be noted that second_q['TIPO'] is deleted but second_q is not returned"
   ]
  },
  {
   "cell_type": "code",
   "execution_count": 3,
   "metadata": {},
   "outputs": [
    {
     "name": "stdout",
     "output_type": "stream",
     "text": [
      "Index(['FECHA ', 'SERVICIO', 'PLACA PATENTE', 'NUMERO DE PUERTAS',\n",
      "       'PUERTA NUMERO', 'LUGAR INICIO', 'HORA INICIO', 'HORA', 'MINUTOS',\n",
      "       'INGRESAN', 'NO VALIDAN', 'TP'],\n",
      "      dtype='object')\n",
      "Index(['FECHA ', 'SERVICIO', 'TIPO', 'PLACA PATENTE', 'NUMERO DE PUERTAS',\n",
      "       'PUERTA NUMERO', 'LUGAR INICIO', 'HORA INICIO', 'HORA', 'MINUTOS',\n",
      "       'INGRESAN', 'NO VALIDAN', 'TP'],\n",
      "      dtype='object')\n",
      "Index(['FECHA ', 'SERVICIO', 'PLACA PATENTE', 'NUMERO DE PUERTAS',\n",
      "       'PUERTA NUMERO', 'LUGAR INICIO', 'HORA INICIO', 'HORA', 'MINUTOS',\n",
      "       'INGRESAN', 'NO VALIDAN', 'TP'],\n",
      "      dtype='object')\n"
     ]
    }
   ],
   "source": [
    "print(first_q.columns)\n",
    "print(second_q.columns)\n",
    "print(third_q.columns)"
   ]
  },
  {
   "cell_type": "code",
   "execution_count": 4,
   "metadata": {
    "collapsed": true
   },
   "outputs": [],
   "source": [
    "complete_evasion = EvasionBuilder.processSinglesEvasiondAndConcat(first_q,second_q,third_q)"
   ]
  },
  {
   "cell_type": "code",
   "execution_count": 5,
   "metadata": {},
   "outputs": [
    {
     "name": "stdout",
     "output_type": "stream",
     "text": [
      "Index(['FECHA ', 'SERVICIO', 'PLACA PATENTE', 'NUMERO DE PUERTAS',\n",
      "       'PUERTA NUMERO', 'LUGAR INICIO', 'HORA INICIO', 'HORA', 'MINUTOS',\n",
      "       'INGRESAN', 'NO VALIDAN', 'TP'],\n",
      "      dtype='object')\n",
      "Index(['FECHA ', 'SERVICIO', 'PLACA PATENTE', 'NUMERO DE PUERTAS',\n",
      "       'PUERTA NUMERO', 'LUGAR INICIO', 'HORA INICIO', 'HORA', 'MINUTOS',\n",
      "       'INGRESAN', 'NO VALIDAN', 'TP'],\n",
      "      dtype='object')\n",
      "Index(['FECHA ', 'SERVICIO', 'PLACA PATENTE', 'NUMERO DE PUERTAS',\n",
      "       'PUERTA NUMERO', 'LUGAR INICIO', 'HORA INICIO', 'HORA', 'MINUTOS',\n",
      "       'INGRESAN', 'NO VALIDAN', 'TP'],\n",
      "      dtype='object')\n"
     ]
    }
   ],
   "source": [
    "print(first_q.columns)\n",
    "print(second_q.columns)\n",
    "print(third_q.columns)"
   ]
  },
  {
   "cell_type": "code",
   "execution_count": 6,
   "metadata": {
    "collapsed": true
   },
   "outputs": [],
   "source": [
    "checking1 = first_q.columns == second_q.columns\n",
    "checking2 = first_q.columns == third_q.columns\n",
    "checking3 = second_q.columns == third_q.columns"
   ]
  },
  {
   "cell_type": "code",
   "execution_count": 7,
   "metadata": {},
   "outputs": [
    {
     "data": {
      "text/plain": [
       "array([ True,  True,  True,  True,  True,  True,  True,  True,  True,\n",
       "        True,  True,  True], dtype=bool)"
      ]
     },
     "execution_count": 7,
     "metadata": {},
     "output_type": "execute_result"
    }
   ],
   "source": [
    "checking1"
   ]
  },
  {
   "cell_type": "code",
   "execution_count": 8,
   "metadata": {},
   "outputs": [
    {
     "data": {
      "text/plain": [
       "array([ True,  True,  True,  True,  True,  True,  True,  True,  True,\n",
       "        True,  True,  True], dtype=bool)"
      ]
     },
     "execution_count": 8,
     "metadata": {},
     "output_type": "execute_result"
    }
   ],
   "source": [
    "checking2"
   ]
  },
  {
   "cell_type": "code",
   "execution_count": 9,
   "metadata": {},
   "outputs": [
    {
     "data": {
      "text/plain": [
       "array([ True,  True,  True,  True,  True,  True,  True,  True,  True,\n",
       "        True,  True,  True], dtype=bool)"
      ]
     },
     "execution_count": 9,
     "metadata": {},
     "output_type": "execute_result"
    }
   ],
   "source": [
    "checking3"
   ]
  },
  {
   "cell_type": "code",
   "execution_count": 10,
   "metadata": {},
   "outputs": [
    {
     "name": "stdout",
     "output_type": "stream",
     "text": [
      "Index(['FECHA', 'SERVICIO', 'PATENTE', 'PUERTAS', 'N_PUERTA', 'LUGAR_INICIO',\n",
      "       'HORA_INICIO', 'HORA', 'MINUTO', 'INGRESAN', 'NO_VALIDAN', 'TP',\n",
      "       'TIEMPO'],\n",
      "      dtype='object')\n"
     ]
    }
   ],
   "source": [
    "print(complete_evasion.columns)"
   ]
  },
  {
   "cell_type": "code",
   "execution_count": 11,
   "metadata": {
    "scrolled": true
   },
   "outputs": [
    {
     "name": "stdout",
     "output_type": "stream",
     "text": [
      "<class 'str'>\n"
     ]
    }
   ],
   "source": [
    "print(type(complete_evasion.loc[('first', 0),'TIEMPO']))"
   ]
  },
  {
   "cell_type": "markdown",
   "metadata": {},
   "source": [
    "### deleteDuplicatedInCompleteEvasion(complete_evasion) > <font color='green'> Passed </font>"
   ]
  },
  {
   "cell_type": "code",
   "execution_count": 12,
   "metadata": {},
   "outputs": [
    {
     "name": "stdout",
     "output_type": "stream",
     "text": [
      "Original number of rows in complete evasion database is: 97373\n",
      "Number of duplicated rows in complete evasion database is: 6192\n",
      "Number of collapsed-duplicated rows in complete evasion database is: 3090\n",
      "Number of rows in complete evasion database without duplicated rows at all is: 91181\n",
      "Final number of rows in complete evasion database with collapsed duplicated rows is: 94271\n"
     ]
    }
   ],
   "source": [
    "#All columns except for 'INGRESAN' and 'NO_VALIDAN'\n",
    "columns_names = ['FECHA', 'SERVICIO', 'PATENTE', 'PUERTAS', 'N_PUERTA', 'LUGAR_INICIO','HORA_INICIO', 'HORA', 'MINUTO','TP','TIEMPO']\n",
    "print('Original number of rows in complete evasion database is: ' + str(len(complete_evasion.index)))\n",
    "\n",
    "#Getting duplicated rows\n",
    "duplicated_evasion = complete_evasion.loc[complete_evasion.duplicated(columns_names, keep=False),:]\n",
    "print('Number of duplicated rows in complete evasion database is: ' + str(len(duplicated_evasion.index)))\n",
    "\n",
    "#Collapsing duplicated rows\n",
    "grouped_duplicated_evasion = duplicated_evasion.groupby(columns_names)['INGRESAN','NO_VALIDAN'].sum()\n",
    "grouped_duplicated_evasion = grouped_duplicated_evasion.reset_index()\n",
    "print('Number of collapsed-duplicated rows in complete evasion database is: ' + str(len(grouped_duplicated_evasion.index)))\n",
    "\n",
    "#Deleting duplicated rows in complete evasion database\n",
    "non_duplicated_evasion = complete_evasion.drop_duplicates(columns_names, keep=False)\n",
    "print('Number of rows in complete evasion database without duplicated rows at all is: ' + str(len(non_duplicated_evasion.index)))\n",
    "\n",
    "#Appending\n",
    "frames = [non_duplicated_evasion, grouped_duplicated_evasion]\n",
    "clean_complete_evasion = pd.concat(frames)\n",
    "clean_complete_evasion = clean_complete_evasion.reset_index(drop=True)\n",
    "print('Final number of rows in complete evasion database with collapsed duplicated rows is: ' + str(len(clean_complete_evasion.index)))"
   ]
  },
  {
   "cell_type": "code",
   "execution_count": 13,
   "metadata": {},
   "outputs": [
    {
     "data": {
      "text/plain": [
       "97373"
      ]
     },
     "execution_count": 13,
     "metadata": {},
     "output_type": "execute_result"
    }
   ],
   "source": [
    "len(complete_evasion.index)"
   ]
  },
  {
   "cell_type": "code",
   "execution_count": 14,
   "metadata": {},
   "outputs": [
    {
     "data": {
      "text/plain": [
       "6192"
      ]
     },
     "execution_count": 14,
     "metadata": {},
     "output_type": "execute_result"
    }
   ],
   "source": [
    "len(duplicated_evasion.index)"
   ]
  },
  {
   "cell_type": "code",
   "execution_count": 15,
   "metadata": {},
   "outputs": [
    {
     "data": {
      "text/plain": [
       "3090"
      ]
     },
     "execution_count": 15,
     "metadata": {},
     "output_type": "execute_result"
    }
   ],
   "source": [
    "len(grouped_duplicated_evasion.index)"
   ]
  },
  {
   "cell_type": "code",
   "execution_count": 16,
   "metadata": {},
   "outputs": [
    {
     "data": {
      "text/plain": [
       "91181"
      ]
     },
     "execution_count": 16,
     "metadata": {},
     "output_type": "execute_result"
    }
   ],
   "source": [
    "len(non_duplicated_evasion.index)"
   ]
  },
  {
   "cell_type": "code",
   "execution_count": 17,
   "metadata": {},
   "outputs": [
    {
     "data": {
      "text/plain": [
       "94271"
      ]
     },
     "execution_count": 17,
     "metadata": {},
     "output_type": "execute_result"
    }
   ],
   "source": [
    "len(clean_complete_evasion.index)"
   ]
  },
  {
   "cell_type": "markdown",
   "metadata": {},
   "source": [
    "Original = 97373 >\n",
    "Without dup = 97373 - 6192 = 91181 >\n",
    "With collapsed dup = 91181 + 3090 = 94271.\n",
    "\n",
    "The reason why len(duplicated_evasion.index)/2 = len(grouped_duplicated_evasion.index) is probably because there are rows repeated more than twice. <font color='green'> Passed </font>"
   ]
  },
  {
   "cell_type": "markdown",
   "metadata": {},
   "source": [
    "Checking if operations are correctly applied ... > <font color ='green'> Passed </font>"
   ]
  },
  {
   "cell_type": "code",
   "execution_count": 18,
   "metadata": {},
   "outputs": [
    {
     "data": {
      "text/html": [
       "<div>\n",
       "<style>\n",
       "    .dataframe thead tr:only-child th {\n",
       "        text-align: right;\n",
       "    }\n",
       "\n",
       "    .dataframe thead th {\n",
       "        text-align: left;\n",
       "    }\n",
       "\n",
       "    .dataframe tbody tr th {\n",
       "        vertical-align: top;\n",
       "    }\n",
       "</style>\n",
       "<table border=\"1\" class=\"dataframe\">\n",
       "  <thead>\n",
       "    <tr style=\"text-align: right;\">\n",
       "      <th></th>\n",
       "      <th></th>\n",
       "      <th>FECHA</th>\n",
       "      <th>SERVICIO</th>\n",
       "      <th>PATENTE</th>\n",
       "      <th>PUERTAS</th>\n",
       "      <th>N_PUERTA</th>\n",
       "      <th>LUGAR_INICIO</th>\n",
       "      <th>HORA_INICIO</th>\n",
       "      <th>HORA</th>\n",
       "      <th>MINUTO</th>\n",
       "      <th>INGRESAN</th>\n",
       "      <th>NO_VALIDAN</th>\n",
       "      <th>TP</th>\n",
       "      <th>TIEMPO</th>\n",
       "    </tr>\n",
       "  </thead>\n",
       "  <tbody>\n",
       "    <tr>\n",
       "      <th rowspan=\"10\" valign=\"top\">first</th>\n",
       "      <th>332</th>\n",
       "      <td>2017-01-11</td>\n",
       "      <td>D01</td>\n",
       "      <td>CJRV34</td>\n",
       "      <td>2</td>\n",
       "      <td>1</td>\n",
       "      <td>AV. OSSA - LARRAIN</td>\n",
       "      <td>18:37:00</td>\n",
       "      <td>18</td>\n",
       "      <td>42</td>\n",
       "      <td>1</td>\n",
       "      <td>0</td>\n",
       "      <td>P</td>\n",
       "      <td>18:42:00</td>\n",
       "    </tr>\n",
       "    <tr>\n",
       "      <th>333</th>\n",
       "      <td>2017-01-11</td>\n",
       "      <td>D01</td>\n",
       "      <td>CJRV34</td>\n",
       "      <td>2</td>\n",
       "      <td>1</td>\n",
       "      <td>AV. OSSA - LARRAIN</td>\n",
       "      <td>18:37:00</td>\n",
       "      <td>18</td>\n",
       "      <td>42</td>\n",
       "      <td>1</td>\n",
       "      <td>0</td>\n",
       "      <td>P</td>\n",
       "      <td>18:42:00</td>\n",
       "    </tr>\n",
       "    <tr>\n",
       "      <th>343</th>\n",
       "      <td>2017-01-11</td>\n",
       "      <td>D01</td>\n",
       "      <td>CJRV34</td>\n",
       "      <td>2</td>\n",
       "      <td>2</td>\n",
       "      <td>AV. OSSA - LARRAIN</td>\n",
       "      <td>18:37:00</td>\n",
       "      <td>18</td>\n",
       "      <td>42</td>\n",
       "      <td>0</td>\n",
       "      <td>0</td>\n",
       "      <td>P</td>\n",
       "      <td>18:42:00</td>\n",
       "    </tr>\n",
       "    <tr>\n",
       "      <th>344</th>\n",
       "      <td>2017-01-11</td>\n",
       "      <td>D01</td>\n",
       "      <td>CJRV34</td>\n",
       "      <td>2</td>\n",
       "      <td>2</td>\n",
       "      <td>AV. OSSA - LARRAIN</td>\n",
       "      <td>18:37:00</td>\n",
       "      <td>18</td>\n",
       "      <td>42</td>\n",
       "      <td>0</td>\n",
       "      <td>0</td>\n",
       "      <td>P</td>\n",
       "      <td>18:42:00</td>\n",
       "    </tr>\n",
       "    <tr>\n",
       "      <th>616</th>\n",
       "      <td>2017-01-11</td>\n",
       "      <td>D01</td>\n",
       "      <td>CJRT96</td>\n",
       "      <td>2</td>\n",
       "      <td>1</td>\n",
       "      <td>AV. OSSA- AV. LARRAIN</td>\n",
       "      <td>07:22:00</td>\n",
       "      <td>7</td>\n",
       "      <td>32</td>\n",
       "      <td>0</td>\n",
       "      <td>0</td>\n",
       "      <td>P</td>\n",
       "      <td>7:32:00</td>\n",
       "    </tr>\n",
       "    <tr>\n",
       "      <th>617</th>\n",
       "      <td>2017-01-11</td>\n",
       "      <td>D01</td>\n",
       "      <td>CJRT96</td>\n",
       "      <td>2</td>\n",
       "      <td>1</td>\n",
       "      <td>AV. OSSA- AV. LARRAIN</td>\n",
       "      <td>07:22:00</td>\n",
       "      <td>7</td>\n",
       "      <td>32</td>\n",
       "      <td>0</td>\n",
       "      <td>0</td>\n",
       "      <td>P</td>\n",
       "      <td>7:32:00</td>\n",
       "    </tr>\n",
       "    <tr>\n",
       "      <th>633</th>\n",
       "      <td>2017-01-11</td>\n",
       "      <td>D01</td>\n",
       "      <td>CJRT96</td>\n",
       "      <td>2</td>\n",
       "      <td>2</td>\n",
       "      <td>AV. OSSA- AV. LARRAIN</td>\n",
       "      <td>07:22:00</td>\n",
       "      <td>7</td>\n",
       "      <td>32</td>\n",
       "      <td>0</td>\n",
       "      <td>0</td>\n",
       "      <td>P</td>\n",
       "      <td>7:32:00</td>\n",
       "    </tr>\n",
       "    <tr>\n",
       "      <th>634</th>\n",
       "      <td>2017-01-11</td>\n",
       "      <td>D01</td>\n",
       "      <td>CJRT96</td>\n",
       "      <td>2</td>\n",
       "      <td>2</td>\n",
       "      <td>AV. OSSA- AV. LARRAIN</td>\n",
       "      <td>07:22:00</td>\n",
       "      <td>7</td>\n",
       "      <td>32</td>\n",
       "      <td>0</td>\n",
       "      <td>0</td>\n",
       "      <td>P</td>\n",
       "      <td>7:32:00</td>\n",
       "    </tr>\n",
       "    <tr>\n",
       "      <th>651</th>\n",
       "      <td>2017-01-11</td>\n",
       "      <td>D01</td>\n",
       "      <td>CJRV84</td>\n",
       "      <td>2</td>\n",
       "      <td>1</td>\n",
       "      <td>ANTUPIREN- MALHUE</td>\n",
       "      <td>08:06:00</td>\n",
       "      <td>8</td>\n",
       "      <td>26</td>\n",
       "      <td>3</td>\n",
       "      <td>0</td>\n",
       "      <td>P</td>\n",
       "      <td>8:26:00</td>\n",
       "    </tr>\n",
       "    <tr>\n",
       "      <th>652</th>\n",
       "      <td>2017-01-11</td>\n",
       "      <td>D01</td>\n",
       "      <td>CJRV84</td>\n",
       "      <td>2</td>\n",
       "      <td>1</td>\n",
       "      <td>ANTUPIREN- MALHUE</td>\n",
       "      <td>08:06:00</td>\n",
       "      <td>8</td>\n",
       "      <td>26</td>\n",
       "      <td>2</td>\n",
       "      <td>0</td>\n",
       "      <td>P</td>\n",
       "      <td>8:26:00</td>\n",
       "    </tr>\n",
       "  </tbody>\n",
       "</table>\n",
       "</div>"
      ],
      "text/plain": [
       "               FECHA SERVICIO PATENTE PUERTAS  N_PUERTA  \\\n",
       "first 332 2017-01-11      D01  CJRV34       2         1   \n",
       "      333 2017-01-11      D01  CJRV34       2         1   \n",
       "      343 2017-01-11      D01  CJRV34       2         2   \n",
       "      344 2017-01-11      D01  CJRV34       2         2   \n",
       "      616 2017-01-11      D01  CJRT96       2         1   \n",
       "      617 2017-01-11      D01  CJRT96       2         1   \n",
       "      633 2017-01-11      D01  CJRT96       2         2   \n",
       "      634 2017-01-11      D01  CJRT96       2         2   \n",
       "      651 2017-01-11      D01  CJRV84       2         1   \n",
       "      652 2017-01-11      D01  CJRV84       2         1   \n",
       "\n",
       "                    LUGAR_INICIO HORA_INICIO  HORA  MINUTO  INGRESAN  \\\n",
       "first 332     AV. OSSA - LARRAIN    18:37:00    18      42         1   \n",
       "      333     AV. OSSA - LARRAIN    18:37:00    18      42         1   \n",
       "      343     AV. OSSA - LARRAIN    18:37:00    18      42         0   \n",
       "      344     AV. OSSA - LARRAIN    18:37:00    18      42         0   \n",
       "      616  AV. OSSA- AV. LARRAIN    07:22:00     7      32         0   \n",
       "      617  AV. OSSA- AV. LARRAIN    07:22:00     7      32         0   \n",
       "      633  AV. OSSA- AV. LARRAIN    07:22:00     7      32         0   \n",
       "      634  AV. OSSA- AV. LARRAIN    07:22:00     7      32         0   \n",
       "      651      ANTUPIREN- MALHUE    08:06:00     8      26         3   \n",
       "      652      ANTUPIREN- MALHUE    08:06:00     8      26         2   \n",
       "\n",
       "           NO_VALIDAN TP    TIEMPO  \n",
       "first 332           0  P  18:42:00  \n",
       "      333           0  P  18:42:00  \n",
       "      343           0  P  18:42:00  \n",
       "      344           0  P  18:42:00  \n",
       "      616           0  P   7:32:00  \n",
       "      617           0  P   7:32:00  \n",
       "      633           0  P   7:32:00  \n",
       "      634           0  P   7:32:00  \n",
       "      651           0  P   8:26:00  \n",
       "      652           0  P   8:26:00  "
      ]
     },
     "execution_count": 18,
     "metadata": {},
     "output_type": "execute_result"
    }
   ],
   "source": [
    "duplicated_evasion.head(10)"
   ]
  },
  {
   "cell_type": "code",
   "execution_count": 19,
   "metadata": {},
   "outputs": [
    {
     "data": {
      "text/html": [
       "<div>\n",
       "<style>\n",
       "    .dataframe thead tr:only-child th {\n",
       "        text-align: right;\n",
       "    }\n",
       "\n",
       "    .dataframe thead th {\n",
       "        text-align: left;\n",
       "    }\n",
       "\n",
       "    .dataframe tbody tr th {\n",
       "        vertical-align: top;\n",
       "    }\n",
       "</style>\n",
       "<table border=\"1\" class=\"dataframe\">\n",
       "  <thead>\n",
       "    <tr style=\"text-align: right;\">\n",
       "      <th></th>\n",
       "      <th>FECHA</th>\n",
       "      <th>SERVICIO</th>\n",
       "      <th>PATENTE</th>\n",
       "      <th>PUERTAS</th>\n",
       "      <th>N_PUERTA</th>\n",
       "      <th>LUGAR_INICIO</th>\n",
       "      <th>HORA_INICIO</th>\n",
       "      <th>HORA</th>\n",
       "      <th>MINUTO</th>\n",
       "      <th>TP</th>\n",
       "      <th>TIEMPO</th>\n",
       "      <th>INGRESAN</th>\n",
       "      <th>NO_VALIDAN</th>\n",
       "    </tr>\n",
       "  </thead>\n",
       "  <tbody>\n",
       "    <tr>\n",
       "      <th>51</th>\n",
       "      <td>2017-01-11</td>\n",
       "      <td>D01</td>\n",
       "      <td>CJRV34</td>\n",
       "      <td>2</td>\n",
       "      <td>1</td>\n",
       "      <td>AV. OSSA - LARRAIN</td>\n",
       "      <td>18:37:00</td>\n",
       "      <td>18</td>\n",
       "      <td>42</td>\n",
       "      <td>P</td>\n",
       "      <td>18:42:00</td>\n",
       "      <td>2</td>\n",
       "      <td>0</td>\n",
       "    </tr>\n",
       "  </tbody>\n",
       "</table>\n",
       "</div>"
      ],
      "text/plain": [
       "        FECHA SERVICIO PATENTE  PUERTAS  N_PUERTA        LUGAR_INICIO  \\\n",
       "51 2017-01-11      D01  CJRV34        2         1  AV. OSSA - LARRAIN   \n",
       "\n",
       "   HORA_INICIO  HORA  MINUTO TP    TIEMPO  INGRESAN  NO_VALIDAN  \n",
       "51    18:37:00    18      42  P  18:42:00         2           0  "
      ]
     },
     "execution_count": 19,
     "metadata": {},
     "output_type": "execute_result"
    }
   ],
   "source": [
    "grouped_duplicated_evasion[(grouped_duplicated_evasion['SERVICIO']=='D01')&(grouped_duplicated_evasion['N_PUERTA']==1)&(grouped_duplicated_evasion['TIEMPO']=='18:42:00')]"
   ]
  },
  {
   "cell_type": "code",
   "execution_count": 20,
   "metadata": {},
   "outputs": [
    {
     "data": {
      "text/html": [
       "<div>\n",
       "<style>\n",
       "    .dataframe thead tr:only-child th {\n",
       "        text-align: right;\n",
       "    }\n",
       "\n",
       "    .dataframe thead th {\n",
       "        text-align: left;\n",
       "    }\n",
       "\n",
       "    .dataframe tbody tr th {\n",
       "        vertical-align: top;\n",
       "    }\n",
       "</style>\n",
       "<table border=\"1\" class=\"dataframe\">\n",
       "  <thead>\n",
       "    <tr style=\"text-align: right;\">\n",
       "      <th></th>\n",
       "      <th>FECHA</th>\n",
       "      <th>SERVICIO</th>\n",
       "      <th>PATENTE</th>\n",
       "      <th>PUERTAS</th>\n",
       "      <th>N_PUERTA</th>\n",
       "      <th>LUGAR_INICIO</th>\n",
       "      <th>HORA_INICIO</th>\n",
       "      <th>HORA</th>\n",
       "      <th>MINUTO</th>\n",
       "      <th>TP</th>\n",
       "      <th>TIEMPO</th>\n",
       "      <th>INGRESAN</th>\n",
       "      <th>NO_VALIDAN</th>\n",
       "    </tr>\n",
       "  </thead>\n",
       "  <tbody>\n",
       "    <tr>\n",
       "      <th>60</th>\n",
       "      <td>2017-01-11</td>\n",
       "      <td>D01</td>\n",
       "      <td>CJRV84</td>\n",
       "      <td>2</td>\n",
       "      <td>1</td>\n",
       "      <td>ANTUPIREN- MALHUE</td>\n",
       "      <td>08:06:00</td>\n",
       "      <td>8</td>\n",
       "      <td>26</td>\n",
       "      <td>P</td>\n",
       "      <td>8:26:00</td>\n",
       "      <td>5</td>\n",
       "      <td>0</td>\n",
       "    </tr>\n",
       "  </tbody>\n",
       "</table>\n",
       "</div>"
      ],
      "text/plain": [
       "        FECHA SERVICIO PATENTE  PUERTAS  N_PUERTA       LUGAR_INICIO  \\\n",
       "60 2017-01-11      D01  CJRV84        2         1  ANTUPIREN- MALHUE   \n",
       "\n",
       "   HORA_INICIO  HORA  MINUTO TP   TIEMPO  INGRESAN  NO_VALIDAN  \n",
       "60    08:06:00     8      26  P  8:26:00         5           0  "
      ]
     },
     "execution_count": 20,
     "metadata": {},
     "output_type": "execute_result"
    }
   ],
   "source": [
    "grouped_duplicated_evasion[(grouped_duplicated_evasion['SERVICIO']=='D01')&(grouped_duplicated_evasion['N_PUERTA']==1)&(grouped_duplicated_evasion['TIEMPO']=='8:26:00')]"
   ]
  },
  {
   "cell_type": "code",
   "execution_count": 21,
   "metadata": {},
   "outputs": [
    {
     "data": {
      "text/html": [
       "<div>\n",
       "<style>\n",
       "    .dataframe thead tr:only-child th {\n",
       "        text-align: right;\n",
       "    }\n",
       "\n",
       "    .dataframe thead th {\n",
       "        text-align: left;\n",
       "    }\n",
       "\n",
       "    .dataframe tbody tr th {\n",
       "        vertical-align: top;\n",
       "    }\n",
       "</style>\n",
       "<table border=\"1\" class=\"dataframe\">\n",
       "  <thead>\n",
       "    <tr style=\"text-align: right;\">\n",
       "      <th></th>\n",
       "      <th></th>\n",
       "      <th>FECHA</th>\n",
       "      <th>SERVICIO</th>\n",
       "      <th>PATENTE</th>\n",
       "      <th>PUERTAS</th>\n",
       "      <th>N_PUERTA</th>\n",
       "      <th>LUGAR_INICIO</th>\n",
       "      <th>HORA_INICIO</th>\n",
       "      <th>HORA</th>\n",
       "      <th>MINUTO</th>\n",
       "      <th>INGRESAN</th>\n",
       "      <th>NO_VALIDAN</th>\n",
       "      <th>TP</th>\n",
       "      <th>TIEMPO</th>\n",
       "    </tr>\n",
       "  </thead>\n",
       "  <tbody>\n",
       "  </tbody>\n",
       "</table>\n",
       "</div>"
      ],
      "text/plain": [
       "Empty DataFrame\n",
       "Columns: [FECHA, SERVICIO, PATENTE, PUERTAS, N_PUERTA, LUGAR_INICIO, HORA_INICIO, HORA, MINUTO, INGRESAN, NO_VALIDAN, TP, TIEMPO]\n",
       "Index: []"
      ]
     },
     "execution_count": 21,
     "metadata": {},
     "output_type": "execute_result"
    }
   ],
   "source": [
    "non_duplicated_evasion[(non_duplicated_evasion['SERVICIO']=='D01')&(non_duplicated_evasion['N_PUERTA']==1)&(non_duplicated_evasion['TIEMPO']=='18:42:00')]"
   ]
  },
  {
   "cell_type": "code",
   "execution_count": 22,
   "metadata": {},
   "outputs": [
    {
     "data": {
      "text/html": [
       "<div>\n",
       "<style>\n",
       "    .dataframe thead tr:only-child th {\n",
       "        text-align: right;\n",
       "    }\n",
       "\n",
       "    .dataframe thead th {\n",
       "        text-align: left;\n",
       "    }\n",
       "\n",
       "    .dataframe tbody tr th {\n",
       "        vertical-align: top;\n",
       "    }\n",
       "</style>\n",
       "<table border=\"1\" class=\"dataframe\">\n",
       "  <thead>\n",
       "    <tr style=\"text-align: right;\">\n",
       "      <th></th>\n",
       "      <th></th>\n",
       "      <th>FECHA</th>\n",
       "      <th>SERVICIO</th>\n",
       "      <th>PATENTE</th>\n",
       "      <th>PUERTAS</th>\n",
       "      <th>N_PUERTA</th>\n",
       "      <th>LUGAR_INICIO</th>\n",
       "      <th>HORA_INICIO</th>\n",
       "      <th>HORA</th>\n",
       "      <th>MINUTO</th>\n",
       "      <th>INGRESAN</th>\n",
       "      <th>NO_VALIDAN</th>\n",
       "      <th>TP</th>\n",
       "      <th>TIEMPO</th>\n",
       "    </tr>\n",
       "  </thead>\n",
       "  <tbody>\n",
       "  </tbody>\n",
       "</table>\n",
       "</div>"
      ],
      "text/plain": [
       "Empty DataFrame\n",
       "Columns: [FECHA, SERVICIO, PATENTE, PUERTAS, N_PUERTA, LUGAR_INICIO, HORA_INICIO, HORA, MINUTO, INGRESAN, NO_VALIDAN, TP, TIEMPO]\n",
       "Index: []"
      ]
     },
     "execution_count": 22,
     "metadata": {},
     "output_type": "execute_result"
    }
   ],
   "source": [
    "non_duplicated_evasion[(non_duplicated_evasion['SERVICIO']=='D01')&(non_duplicated_evasion['N_PUERTA']==1)&(non_duplicated_evasion['TIEMPO']=='8:26:00')]"
   ]
  },
  {
   "cell_type": "markdown",
   "metadata": {},
   "source": [
    "### mergeTransantiagoCodes(clean_complete_evasion) > <font color='red'><strike>Failed</strike></font> <font color='green'>Passed</font> . The problem was that in codes_ida and codes_ret are duplicated keys (i.e. same user_codes to different ts_codes)"
   ]
  },
  {
   "cell_type": "markdown",
   "metadata": {},
   "source": [
    "* What mergeTransantiagoCodes(clean_complete_evasion) does is to append a new column with ts_codes to evasion database based on user_codes.\n",
    "* Since the only user_codes with two ts_codes are special services with a 'y' at the end of the string (i.e. one with and one without the 'y' in the respective ts_code for a unique user_code), it was decided to use the not-special ts_code, that is, the string without the final 'y', for those services"
   ]
  },
  {
   "cell_type": "code",
   "execution_count": 23,
   "metadata": {},
   "outputs": [
    {
     "name": "stderr",
     "output_type": "stream",
     "text": [
      "C:\\Users\\leoca_000\\Desktop\\Evasion\\01_analisis\\04_scripts\\TSAnalysis\\EvasionBuilder.py:90: SettingWithCopyWarning: \n",
      "A value is trying to be set on a copy of a slice from a DataFrame.\n",
      "Try using .loc[row_indexer,col_indexer] = value instead\n",
      "\n",
      "See the caveats in the documentation: http://pandas.pydata.org/pandas-docs/stable/indexing.html#indexing-view-versus-copy\n",
      "  codes_ida['USER_CODE_TMP'] = codes_ida['USER_CODE'].apply(str)\n",
      "C:\\Users\\leoca_000\\Desktop\\Evasion\\01_analisis\\04_scripts\\TSAnalysis\\EvasionBuilder.py:91: SettingWithCopyWarning: \n",
      "A value is trying to be set on a copy of a slice from a DataFrame.\n",
      "Try using .loc[row_indexer,col_indexer] = value instead\n",
      "\n",
      "See the caveats in the documentation: http://pandas.pydata.org/pandas-docs/stable/indexing.html#indexing-view-versus-copy\n",
      "  codes_ida['TS_CODE_TMP'] = codes_ida['TS_CODE'].apply(str)\n",
      "C:\\Users\\leoca_000\\Desktop\\Evasion\\01_analisis\\04_scripts\\TSAnalysis\\EvasionBuilder.py:93: SettingWithCopyWarning: \n",
      "A value is trying to be set on a copy of a slice from a DataFrame.\n",
      "Try using .loc[row_indexer,col_indexer] = value instead\n",
      "\n",
      "See the caveats in the documentation: http://pandas.pydata.org/pandas-docs/stable/indexing.html#indexing-view-versus-copy\n",
      "  codes_ret['USER_CODE_TMP'] = codes_ret['USER_CODE'].apply(str)\n",
      "C:\\Users\\leoca_000\\Desktop\\Evasion\\01_analisis\\04_scripts\\TSAnalysis\\EvasionBuilder.py:94: SettingWithCopyWarning: \n",
      "A value is trying to be set on a copy of a slice from a DataFrame.\n",
      "Try using .loc[row_indexer,col_indexer] = value instead\n",
      "\n",
      "See the caveats in the documentation: http://pandas.pydata.org/pandas-docs/stable/indexing.html#indexing-view-versus-copy\n",
      "  codes_ret['TS_CODE_TMP'] = codes_ret['TS_CODE'].apply(str)\n"
     ]
    },
    {
     "name": "stdout",
     "output_type": "stream",
     "text": [
      "The only non-matched user_code services are: \n",
      "D06\n"
     ]
    }
   ],
   "source": [
    "clean_complete_evasion_w_codes = EvasionBuilder.mergeTransantiagoCodes(clean_complete_evasion)"
   ]
  },
  {
   "cell_type": "code",
   "execution_count": 24,
   "metadata": {
    "collapsed": true
   },
   "outputs": [],
   "source": [
    "checking4 = len(clean_complete_evasion)==len(clean_complete_evasion_w_codes)"
   ]
  },
  {
   "cell_type": "code",
   "execution_count": 25,
   "metadata": {},
   "outputs": [
    {
     "data": {
      "text/plain": [
       "True"
      ]
     },
     "execution_count": 25,
     "metadata": {},
     "output_type": "execute_result"
    }
   ],
   "source": [
    "checking4"
   ]
  },
  {
   "cell_type": "code",
   "execution_count": 26,
   "metadata": {},
   "outputs": [
    {
     "data": {
      "text/plain": [
       "94271"
      ]
     },
     "execution_count": 26,
     "metadata": {},
     "output_type": "execute_result"
    }
   ],
   "source": [
    "len(clean_complete_evasion)"
   ]
  },
  {
   "cell_type": "code",
   "execution_count": 27,
   "metadata": {},
   "outputs": [
    {
     "data": {
      "text/plain": [
       "94271"
      ]
     },
     "execution_count": 27,
     "metadata": {},
     "output_type": "execute_result"
    }
   ],
   "source": [
    "len(clean_complete_evasion_w_codes)"
   ]
  },
  {
   "cell_type": "markdown",
   "metadata": {},
   "source": [
    "* Checking for data types... > <font color='green'>Passed</font>"
   ]
  },
  {
   "cell_type": "code",
   "execution_count": 28,
   "metadata": {},
   "outputs": [
    {
     "data": {
      "text/html": [
       "<div>\n",
       "<style>\n",
       "    .dataframe thead tr:only-child th {\n",
       "        text-align: right;\n",
       "    }\n",
       "\n",
       "    .dataframe thead th {\n",
       "        text-align: left;\n",
       "    }\n",
       "\n",
       "    .dataframe tbody tr th {\n",
       "        vertical-align: top;\n",
       "    }\n",
       "</style>\n",
       "<table border=\"1\" class=\"dataframe\">\n",
       "  <thead>\n",
       "    <tr style=\"text-align: right;\">\n",
       "      <th></th>\n",
       "      <th>FECHA</th>\n",
       "      <th>HORA</th>\n",
       "      <th>HORA_INICIO</th>\n",
       "      <th>INGRESAN</th>\n",
       "      <th>LUGAR_INICIO</th>\n",
       "      <th>MINUTO</th>\n",
       "      <th>NO_VALIDAN</th>\n",
       "      <th>N_PUERTA</th>\n",
       "      <th>PATENTE</th>\n",
       "      <th>PUERTAS</th>\n",
       "      <th>TIEMPO</th>\n",
       "      <th>TP</th>\n",
       "      <th>SERVICIO</th>\n",
       "      <th>UN</th>\n",
       "      <th>TS_CODE</th>\n",
       "    </tr>\n",
       "  </thead>\n",
       "  <tbody>\n",
       "    <tr>\n",
       "      <th>0</th>\n",
       "      <td>2017-01-10</td>\n",
       "      <td>7</td>\n",
       "      <td>07:10:00</td>\n",
       "      <td>15</td>\n",
       "      <td>AV. ADOLFO LOPEZ MATEO</td>\n",
       "      <td>10</td>\n",
       "      <td>1</td>\n",
       "      <td>1</td>\n",
       "      <td>BJFH98</td>\n",
       "      <td>3</td>\n",
       "      <td>7:10:00</td>\n",
       "      <td>P</td>\n",
       "      <td>214</td>\n",
       "      <td>2.0</td>\n",
       "      <td>214</td>\n",
       "    </tr>\n",
       "    <tr>\n",
       "      <th>1</th>\n",
       "      <td>2017-01-10</td>\n",
       "      <td>7</td>\n",
       "      <td>07:10:00</td>\n",
       "      <td>9</td>\n",
       "      <td>AV. ADOLFO LOPEZ MATEO</td>\n",
       "      <td>12</td>\n",
       "      <td>0</td>\n",
       "      <td>1</td>\n",
       "      <td>BJFH98</td>\n",
       "      <td>3</td>\n",
       "      <td>7:12:00</td>\n",
       "      <td>P</td>\n",
       "      <td>214</td>\n",
       "      <td>2.0</td>\n",
       "      <td>214</td>\n",
       "    </tr>\n",
       "    <tr>\n",
       "      <th>2</th>\n",
       "      <td>2017-01-10</td>\n",
       "      <td>7</td>\n",
       "      <td>07:10:00</td>\n",
       "      <td>6</td>\n",
       "      <td>AV. ADOLFO LOPEZ MATEO</td>\n",
       "      <td>13</td>\n",
       "      <td>2</td>\n",
       "      <td>1</td>\n",
       "      <td>BJFH98</td>\n",
       "      <td>3</td>\n",
       "      <td>7:13:00</td>\n",
       "      <td>P</td>\n",
       "      <td>214</td>\n",
       "      <td>2.0</td>\n",
       "      <td>214</td>\n",
       "    </tr>\n",
       "    <tr>\n",
       "      <th>3</th>\n",
       "      <td>2017-01-10</td>\n",
       "      <td>7</td>\n",
       "      <td>07:10:00</td>\n",
       "      <td>8</td>\n",
       "      <td>AV. ADOLFO LOPEZ MATEO</td>\n",
       "      <td>18</td>\n",
       "      <td>1</td>\n",
       "      <td>1</td>\n",
       "      <td>BJFH98</td>\n",
       "      <td>3</td>\n",
       "      <td>7:18:00</td>\n",
       "      <td>P</td>\n",
       "      <td>214</td>\n",
       "      <td>2.0</td>\n",
       "      <td>214</td>\n",
       "    </tr>\n",
       "    <tr>\n",
       "      <th>4</th>\n",
       "      <td>2017-01-10</td>\n",
       "      <td>7</td>\n",
       "      <td>07:10:00</td>\n",
       "      <td>5</td>\n",
       "      <td>AV. ADOLFO LOPEZ MATEO</td>\n",
       "      <td>20</td>\n",
       "      <td>1</td>\n",
       "      <td>1</td>\n",
       "      <td>BJFH98</td>\n",
       "      <td>3</td>\n",
       "      <td>7:20:00</td>\n",
       "      <td>P</td>\n",
       "      <td>214</td>\n",
       "      <td>2.0</td>\n",
       "      <td>214</td>\n",
       "    </tr>\n",
       "  </tbody>\n",
       "</table>\n",
       "</div>"
      ],
      "text/plain": [
       "       FECHA  HORA HORA_INICIO  INGRESAN            LUGAR_INICIO  MINUTO  \\\n",
       "0 2017-01-10     7    07:10:00        15  AV. ADOLFO LOPEZ MATEO      10   \n",
       "1 2017-01-10     7    07:10:00         9  AV. ADOLFO LOPEZ MATEO      12   \n",
       "2 2017-01-10     7    07:10:00         6  AV. ADOLFO LOPEZ MATEO      13   \n",
       "3 2017-01-10     7    07:10:00         8  AV. ADOLFO LOPEZ MATEO      18   \n",
       "4 2017-01-10     7    07:10:00         5  AV. ADOLFO LOPEZ MATEO      20   \n",
       "\n",
       "   NO_VALIDAN  N_PUERTA PATENTE PUERTAS   TIEMPO TP SERVICIO   UN TS_CODE  \n",
       "0           1         1  BJFH98       3  7:10:00  P      214  2.0     214  \n",
       "1           0         1  BJFH98       3  7:12:00  P      214  2.0     214  \n",
       "2           2         1  BJFH98       3  7:13:00  P      214  2.0     214  \n",
       "3           1         1  BJFH98       3  7:18:00  P      214  2.0     214  \n",
       "4           1         1  BJFH98       3  7:20:00  P      214  2.0     214  "
      ]
     },
     "execution_count": 28,
     "metadata": {},
     "output_type": "execute_result"
    }
   ],
   "source": [
    "clean_complete_evasion_w_codes.head()"
   ]
  },
  {
   "cell_type": "code",
   "execution_count": 29,
   "metadata": {},
   "outputs": [
    {
     "name": "stdout",
     "output_type": "stream",
     "text": [
      "<class 'str'>\n"
     ]
    }
   ],
   "source": [
    "print(type(clean_complete_evasion_w_codes.loc[0,'SERVICIO']))"
   ]
  },
  {
   "cell_type": "code",
   "execution_count": 30,
   "metadata": {},
   "outputs": [
    {
     "name": "stdout",
     "output_type": "stream",
     "text": [
      "<class 'str'>\n"
     ]
    }
   ],
   "source": [
    "print(type(clean_complete_evasion_w_codes.loc[0,'TS_CODE']))"
   ]
  },
  {
   "cell_type": "markdown",
   "metadata": {},
   "source": [
    "### processCompleteEvasionDataFrame(clean_complete_evasion_w_codes) > <font color='green'>Passed</font>"
   ]
  },
  {
   "cell_type": "code",
   "execution_count": 31,
   "metadata": {
    "collapsed": true
   },
   "outputs": [],
   "source": [
    "processed_evasion = EvasionBuilder.processCompleteEvasionDataFrame(clean_complete_evasion_w_codes)"
   ]
  },
  {
   "cell_type": "code",
   "execution_count": 32,
   "metadata": {},
   "outputs": [
    {
     "data": {
      "text/html": [
       "<div>\n",
       "<style>\n",
       "    .dataframe thead tr:only-child th {\n",
       "        text-align: right;\n",
       "    }\n",
       "\n",
       "    .dataframe thead th {\n",
       "        text-align: left;\n",
       "    }\n",
       "\n",
       "    .dataframe tbody tr th {\n",
       "        vertical-align: top;\n",
       "    }\n",
       "</style>\n",
       "<table border=\"1\" class=\"dataframe\">\n",
       "  <thead>\n",
       "    <tr style=\"text-align: right;\">\n",
       "      <th></th>\n",
       "      <th>FECHA</th>\n",
       "      <th>HORA</th>\n",
       "      <th>HORA_INICIO</th>\n",
       "      <th>INGRESAN</th>\n",
       "      <th>LUGAR_INICIO</th>\n",
       "      <th>MINUTO</th>\n",
       "      <th>NO_VALIDAN</th>\n",
       "      <th>N_PUERTA</th>\n",
       "      <th>PATENTE</th>\n",
       "      <th>PUERTAS</th>\n",
       "      <th>TIEMPO</th>\n",
       "      <th>TP</th>\n",
       "      <th>SERVICIO_USUARIO</th>\n",
       "      <th>UN</th>\n",
       "      <th>SERVICIO</th>\n",
       "    </tr>\n",
       "  </thead>\n",
       "  <tbody>\n",
       "    <tr>\n",
       "      <th>0</th>\n",
       "      <td>2017-01-10</td>\n",
       "      <td>7</td>\n",
       "      <td>07:10:00</td>\n",
       "      <td>15</td>\n",
       "      <td>AV. ADOLFO LOPEZ MATEO</td>\n",
       "      <td>10</td>\n",
       "      <td>1</td>\n",
       "      <td>1</td>\n",
       "      <td>BJFH98</td>\n",
       "      <td>3</td>\n",
       "      <td>7:10:00</td>\n",
       "      <td>P</td>\n",
       "      <td>214</td>\n",
       "      <td>2.0</td>\n",
       "      <td>214</td>\n",
       "    </tr>\n",
       "    <tr>\n",
       "      <th>1</th>\n",
       "      <td>2017-01-10</td>\n",
       "      <td>7</td>\n",
       "      <td>07:10:00</td>\n",
       "      <td>9</td>\n",
       "      <td>AV. ADOLFO LOPEZ MATEO</td>\n",
       "      <td>12</td>\n",
       "      <td>0</td>\n",
       "      <td>1</td>\n",
       "      <td>BJFH98</td>\n",
       "      <td>3</td>\n",
       "      <td>7:12:00</td>\n",
       "      <td>P</td>\n",
       "      <td>214</td>\n",
       "      <td>2.0</td>\n",
       "      <td>214</td>\n",
       "    </tr>\n",
       "    <tr>\n",
       "      <th>2</th>\n",
       "      <td>2017-01-10</td>\n",
       "      <td>7</td>\n",
       "      <td>07:10:00</td>\n",
       "      <td>6</td>\n",
       "      <td>AV. ADOLFO LOPEZ MATEO</td>\n",
       "      <td>13</td>\n",
       "      <td>2</td>\n",
       "      <td>1</td>\n",
       "      <td>BJFH98</td>\n",
       "      <td>3</td>\n",
       "      <td>7:13:00</td>\n",
       "      <td>P</td>\n",
       "      <td>214</td>\n",
       "      <td>2.0</td>\n",
       "      <td>214</td>\n",
       "    </tr>\n",
       "    <tr>\n",
       "      <th>3</th>\n",
       "      <td>2017-01-10</td>\n",
       "      <td>7</td>\n",
       "      <td>07:10:00</td>\n",
       "      <td>8</td>\n",
       "      <td>AV. ADOLFO LOPEZ MATEO</td>\n",
       "      <td>18</td>\n",
       "      <td>1</td>\n",
       "      <td>1</td>\n",
       "      <td>BJFH98</td>\n",
       "      <td>3</td>\n",
       "      <td>7:18:00</td>\n",
       "      <td>P</td>\n",
       "      <td>214</td>\n",
       "      <td>2.0</td>\n",
       "      <td>214</td>\n",
       "    </tr>\n",
       "    <tr>\n",
       "      <th>4</th>\n",
       "      <td>2017-01-10</td>\n",
       "      <td>7</td>\n",
       "      <td>07:10:00</td>\n",
       "      <td>5</td>\n",
       "      <td>AV. ADOLFO LOPEZ MATEO</td>\n",
       "      <td>20</td>\n",
       "      <td>1</td>\n",
       "      <td>1</td>\n",
       "      <td>BJFH98</td>\n",
       "      <td>3</td>\n",
       "      <td>7:20:00</td>\n",
       "      <td>P</td>\n",
       "      <td>214</td>\n",
       "      <td>2.0</td>\n",
       "      <td>214</td>\n",
       "    </tr>\n",
       "  </tbody>\n",
       "</table>\n",
       "</div>"
      ],
      "text/plain": [
       "       FECHA  HORA HORA_INICIO  INGRESAN            LUGAR_INICIO  MINUTO  \\\n",
       "0 2017-01-10     7    07:10:00        15  AV. ADOLFO LOPEZ MATEO      10   \n",
       "1 2017-01-10     7    07:10:00         9  AV. ADOLFO LOPEZ MATEO      12   \n",
       "2 2017-01-10     7    07:10:00         6  AV. ADOLFO LOPEZ MATEO      13   \n",
       "3 2017-01-10     7    07:10:00         8  AV. ADOLFO LOPEZ MATEO      18   \n",
       "4 2017-01-10     7    07:10:00         5  AV. ADOLFO LOPEZ MATEO      20   \n",
       "\n",
       "   NO_VALIDAN  N_PUERTA PATENTE PUERTAS   TIEMPO TP SERVICIO_USUARIO   UN  \\\n",
       "0           1         1  BJFH98       3  7:10:00  P              214  2.0   \n",
       "1           0         1  BJFH98       3  7:12:00  P              214  2.0   \n",
       "2           2         1  BJFH98       3  7:13:00  P              214  2.0   \n",
       "3           1         1  BJFH98       3  7:18:00  P              214  2.0   \n",
       "4           1         1  BJFH98       3  7:20:00  P              214  2.0   \n",
       "\n",
       "  SERVICIO  \n",
       "0      214  \n",
       "1      214  \n",
       "2      214  \n",
       "3      214  \n",
       "4      214  "
      ]
     },
     "execution_count": 32,
     "metadata": {},
     "output_type": "execute_result"
    }
   ],
   "source": [
    "processed_evasion.head()"
   ]
  },
  {
   "cell_type": "code",
   "execution_count": 33,
   "metadata": {},
   "outputs": [
    {
     "data": {
      "text/plain": [
       "94271"
      ]
     },
     "execution_count": 33,
     "metadata": {},
     "output_type": "execute_result"
    }
   ],
   "source": [
    "len(processed_evasion.index)"
   ]
  },
  {
   "cell_type": "code",
   "execution_count": 34,
   "metadata": {},
   "outputs": [
    {
     "name": "stdout",
     "output_type": "stream",
     "text": [
      "<class 'str'>\n"
     ]
    }
   ],
   "source": [
    "print(type(processed_evasion.loc[0,'SERVICIO_USUARIO']))"
   ]
  },
  {
   "cell_type": "code",
   "execution_count": 35,
   "metadata": {},
   "outputs": [
    {
     "name": "stdout",
     "output_type": "stream",
     "text": [
      "<class 'str'>\n"
     ]
    }
   ],
   "source": [
    "print(type(processed_evasion.loc[0,'SERVICIO']))"
   ]
  },
  {
   "cell_type": "markdown",
   "metadata": {},
   "source": [
    "### EvasionBuilder tests <font color='green'> PASSED </font>"
   ]
  },
  {
   "cell_type": "markdown",
   "metadata": {},
   "source": [
    "### CLOSED"
   ]
  }
 ],
 "metadata": {
  "kernelspec": {
   "display_name": "Python 3",
   "language": "python",
   "name": "python3"
  },
  "language_info": {
   "codemirror_mode": {
    "name": "ipython",
    "version": 3
   },
   "file_extension": ".py",
   "mimetype": "text/x-python",
   "name": "python",
   "nbconvert_exporter": "python",
   "pygments_lexer": "ipython3",
   "version": "3.6.1"
  }
 },
 "nbformat": 4,
 "nbformat_minor": 2
}
