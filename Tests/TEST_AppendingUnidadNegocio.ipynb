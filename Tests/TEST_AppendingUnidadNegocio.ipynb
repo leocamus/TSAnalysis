{
 "cells": [
  {
   "cell_type": "markdown",
   "metadata": {},
   "source": [
    "# Notebook to append unidad de negocio based on servicio-sentido: This is a test"
   ]
  },
  {
   "cell_type": "code",
   "execution_count": 1,
   "metadata": {
    "collapsed": true
   },
   "outputs": [],
   "source": [
    "import os\n",
    "import sys\n",
    "module_path = os.path.abspath(os.path.join('..'))\n",
    "if module_path not in sys.path:\n",
    "    sys.path.append(module_path)"
   ]
  },
  {
   "cell_type": "code",
   "execution_count": 2,
   "metadata": {},
   "outputs": [
    {
     "data": {
      "text/html": [
       "<style>.container { width:80% !important; }</style>"
      ],
      "text/plain": [
       "<IPython.core.display.HTML object>"
      ]
     },
     "metadata": {},
     "output_type": "display_data"
    }
   ],
   "source": [
    "%matplotlib inline\n",
    "from IPython.core.display import display, HTML\n",
    "display(HTML(\"<style>.container { width:80% !important; }</style>\"))\n",
    "\n",
    "import pandas as pd\n",
    "import matplotlib\n",
    "import matplotlib.pyplot as plt\n",
    "import matplotlib.dates as mdates\n",
    "import numpy as np\n",
    "import datetime as dt\n",
    "import time\n",
    "\n",
    "from importlib import reload\n",
    "from Utils import TransantiagoConstants\n",
    "from RunSilentlyDailyEtapasBuilder import RunSilentlyDailyEtapasBuilderClass"
   ]
  },
  {
   "cell_type": "code",
   "execution_count": 3,
   "metadata": {
    "collapsed": true
   },
   "outputs": [],
   "source": [
    "DTPMDir = TransantiagoConstants.DTPMDir\n",
    "dates = TransantiagoConstants.updateCurrentSSHDates()\n",
    "\n",
    "codes_path = os.path.join(DTPMDir, 'codes_services.xlsx')\n",
    "codes = pd.read_excel(codes_path, encoding = 'latin-1')"
   ]
  },
  {
   "cell_type": "markdown",
   "metadata": {},
   "source": [
    "* Pre-processing codes['TS_CODE']"
   ]
  },
  {
   "cell_type": "code",
   "execution_count": 4,
   "metadata": {
    "collapsed": true
   },
   "outputs": [],
   "source": [
    "codes.loc[:,'TS_CODE'] = codes.loc[:,'TS_CODE'].apply(str)"
   ]
  },
  {
   "cell_type": "markdown",
   "metadata": {},
   "source": [
    "* To re-factor"
   ]
  },
  {
   "cell_type": "code",
   "execution_count": 5,
   "metadata": {
    "collapsed": true
   },
   "outputs": [],
   "source": [
    "date = dates[1]"
   ]
  },
  {
   "cell_type": "markdown",
   "metadata": {},
   "source": [
    "* End re-factor"
   ]
  },
  {
   "cell_type": "code",
   "execution_count": 6,
   "metadata": {
    "collapsed": true
   },
   "outputs": [],
   "source": [
    "etapas_builder = RunSilentlyDailyEtapasBuilderClass(date)\n",
    "etapas_df = etapas_builder.loadSimplifiedEtapas()\n"
   ]
  },
  {
   "cell_type": "markdown",
   "metadata": {},
   "source": [
    "* Pre-processing etapas_df['servicio_subida'] and merging -> this would take ~ 18 extra seconds for each date.\n",
    "* Be aware that this do not consider the fact that there are missing values of 'UN' in etapas_df because TS_CODES not found in codes."
   ]
  },
  {
   "cell_type": "code",
   "execution_count": 7,
   "metadata": {},
   "outputs": [
    {
     "name": "stdout",
     "output_type": "stream",
     "text": [
      "2369991\n",
      "18.100606539849025\n"
     ]
    }
   ],
   "source": [
    "tic = time.clock()\n",
    "print(len(etapas_df.index))\n",
    "\n",
    "etapas_df.loc[:,'servicio_subida'] = etapas_df.loc[:,'servicio_subida'].str.replace('T','')\n",
    "etapas_df.loc[:,'servicio_subida'] = etapas_df.loc[:,'servicio_subida'].str.replace('00','')\n",
    "etapas_df.loc[:,'TS_CODE'] = etapas_df.loc[:,'servicio_subida'].str.split(' ').str[0]\n",
    "etapas_df.loc[:,'DIRECTION'] = etapas_df.loc[:,'servicio_subida'].str.split(' ').str[1]\n",
    "etapas_df.loc[:,'DIRECTION'] = etapas_df.loc[:,'DIRECTION'].str.replace('R','Ret')\n",
    "etapas_df.loc[:,'DIRECTION'] = etapas_df.loc[:,'DIRECTION'].str.replace('I','Ida')\n",
    "merged_etapas_df = pd.merge(etapas_df,codes, on=['TS_CODE','DIRECTION'], how='left')\n",
    "\n",
    "toc = time.clock()\n",
    "print(toc-tic)"
   ]
  },
  {
   "cell_type": "markdown",
   "metadata": {},
   "source": [
    "* Little test ..."
   ]
  },
  {
   "cell_type": "code",
   "execution_count": 8,
   "metadata": {},
   "outputs": [
    {
     "data": {
      "text/plain": [
       "2369991"
      ]
     },
     "execution_count": 8,
     "metadata": {},
     "output_type": "execute_result"
    }
   ],
   "source": [
    "len(merged_etapas_df.index)"
   ]
  },
  {
   "cell_type": "markdown",
   "metadata": {},
   "source": [
    "* Test <font color = 'green' > passed </font>"
   ]
  },
  {
   "cell_type": "markdown",
   "metadata": {},
   "source": [
    "# Closed"
   ]
  }
 ],
 "metadata": {
  "kernelspec": {
   "display_name": "Python 3",
   "language": "python",
   "name": "python3"
  },
  "language_info": {
   "codemirror_mode": {
    "name": "ipython",
    "version": 3
   },
   "file_extension": ".py",
   "mimetype": "text/x-python",
   "name": "python",
   "nbconvert_exporter": "python",
   "pygments_lexer": "ipython3",
   "version": "3.6.1"
  }
 },
 "nbformat": 4,
 "nbformat_minor": 2
}
