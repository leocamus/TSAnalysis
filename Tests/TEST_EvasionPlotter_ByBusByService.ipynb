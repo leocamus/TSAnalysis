{
 "cells": [
  {
   "cell_type": "markdown",
   "metadata": {},
   "source": [
    "### Building evasion vs. mean time interval : by Bus by Service - THIS IS A TEST"
   ]
  },
  {
   "cell_type": "code",
   "execution_count": 1,
   "metadata": {
    "collapsed": true
   },
   "outputs": [],
   "source": [
    "import os\n",
    "import sys\n",
    "module_path = os.path.abspath(os.path.join('..'))\n",
    "if module_path not in sys.path:\n",
    "    sys.path.append(module_path)"
   ]
  },
  {
   "cell_type": "code",
   "execution_count": 2,
   "metadata": {
    "scrolled": true
   },
   "outputs": [
    {
     "data": {
      "text/html": [
       "<style>.container { width:80% !important; }</style>"
      ],
      "text/plain": [
       "<IPython.core.display.HTML object>"
      ]
     },
     "metadata": {},
     "output_type": "display_data"
    }
   ],
   "source": [
    "%matplotlib inline\n",
    "import pandas as pd\n",
    "import matplotlib\n",
    "import matplotlib.pyplot as plt\n",
    "import numpy as np\n",
    "from importlib import reload\n",
    "import datetime as dt\n",
    "from IPython.core.display import display, HTML\n",
    "display(HTML(\"<style>.container { width:80% !important; }</style>\"))"
   ]
  },
  {
   "cell_type": "code",
   "execution_count": 3,
   "metadata": {
    "collapsed": true,
    "scrolled": true
   },
   "outputs": [],
   "source": [
    "from Utils import TransantiagoConstants\n",
    "import EvasionBuilder"
   ]
  },
  {
   "cell_type": "code",
   "execution_count": 4,
   "metadata": {},
   "outputs": [
    {
     "name": "stdout",
     "output_type": "stream",
     "text": [
      "Original number of rows in complete evasion database is: 97373\n",
      "Number of duplicated rows in complete evasion database is: 6192\n",
      "Number of collapsed-duplicated rows in complete evasion database is: 3090\n",
      "Number of rows in complete evasion database without duplicated rows at all is: 91181\n",
      "Final number of rows in complete evasion database with collapsed duplicated rows is: 94271\n"
     ]
    },
    {
     "name": "stderr",
     "output_type": "stream",
     "text": [
      "C:\\Users\\leoca_000\\Anaconda3\\lib\\site-packages\\pandas\\core\\indexing.py:337: SettingWithCopyWarning: \n",
      "A value is trying to be set on a copy of a slice from a DataFrame.\n",
      "Try using .loc[row_indexer,col_indexer] = value instead\n",
      "\n",
      "See the caveats in the documentation: http://pandas.pydata.org/pandas-docs/stable/indexing.html#indexing-view-versus-copy\n",
      "  self.obj[key] = _infer_fill_value(value)\n",
      "C:\\Users\\leoca_000\\Anaconda3\\lib\\site-packages\\pandas\\core\\indexing.py:517: SettingWithCopyWarning: \n",
      "A value is trying to be set on a copy of a slice from a DataFrame.\n",
      "Try using .loc[row_indexer,col_indexer] = value instead\n",
      "\n",
      "See the caveats in the documentation: http://pandas.pydata.org/pandas-docs/stable/indexing.html#indexing-view-versus-copy\n",
      "  self.obj[item] = s\n"
     ]
    },
    {
     "name": "stdout",
     "output_type": "stream",
     "text": [
      "The only non-matched user_code services are: \n",
      "D06\n"
     ]
    }
   ],
   "source": [
    "processed_evasion = EvasionBuilder.runCompleteProcess()"
   ]
  },
  {
   "cell_type": "markdown",
   "metadata": {},
   "source": [
    "* Processing evasion-ddbb before merging"
   ]
  },
  {
   "cell_type": "code",
   "execution_count": 5,
   "metadata": {
    "collapsed": true
   },
   "outputs": [],
   "source": [
    "evasion_paradero = processed_evasion[processed_evasion['TP']=='P']\n",
    "evasion_paradero_first = evasion_paradero[evasion_paradero['N_PUERTA']==1]"
   ]
  },
  {
   "cell_type": "markdown",
   "metadata": {},
   "source": [
    "* Getting evasion by date-bus-service"
   ]
  },
  {
   "cell_type": "code",
   "execution_count": 6,
   "metadata": {
    "collapsed": true,
    "scrolled": true
   },
   "outputs": [],
   "source": [
    "f = {'SERVICIO':['count'],'INGRESAN':['sum'], 'NO_VALIDAN':['sum']}\n",
    "\n",
    "summary = evasion_paradero_first.groupby(['FECHA','PATENTE','SERVICIO']).agg(f)\n",
    "summary.columns=['EVASION_COUNT', 'TOTAL_INGRESAN', 'TOTAL_NO_VALIDAN']\n",
    "summary.reset_index(inplace=True)"
   ]
  },
  {
   "cell_type": "markdown",
   "metadata": {},
   "source": [
    "* Computing evasion rate"
   ]
  },
  {
   "cell_type": "code",
   "execution_count": 7,
   "metadata": {
    "collapsed": true
   },
   "outputs": [],
   "source": [
    "summary.loc[:,'EVASION_RATE'] = summary.loc[:,'TOTAL_NO_VALIDAN']/summary.loc[:,'TOTAL_INGRESAN']"
   ]
  },
  {
   "cell_type": "markdown",
   "metadata": {},
   "source": [
    "* Filtering by common_dates"
   ]
  },
  {
   "cell_type": "code",
   "execution_count": 8,
   "metadata": {
    "collapsed": true,
    "scrolled": true
   },
   "outputs": [],
   "source": [
    "common_dates = TransantiagoConstants.common_dates"
   ]
  },
  {
   "cell_type": "code",
   "execution_count": 9,
   "metadata": {
    "collapsed": true
   },
   "outputs": [],
   "source": [
    "common_dates_timestamp = [pd.to_datetime(x) for x in common_dates]"
   ]
  },
  {
   "cell_type": "code",
   "execution_count": 10,
   "metadata": {
    "collapsed": true
   },
   "outputs": [],
   "source": [
    "common_dates_evasion = summary[summary['FECHA'].isin(common_dates_timestamp)]"
   ]
  },
  {
   "cell_type": "markdown",
   "metadata": {},
   "source": [
    "* Building complete etapas ddbb."
   ]
  },
  {
   "cell_type": "code",
   "execution_count": 11,
   "metadata": {
    "collapsed": true,
    "scrolled": true
   },
   "outputs": [],
   "source": [
    "reduced_etapas = pd.DataFrame()\n",
    "\n",
    "for date in common_dates:\n",
    "    base_input_path = 'C:/Users/leoca_000/Desktop/Evasion/01_analisis/03_datos/01_SSH/02_TIMESBYBUSBYSERVICE/01_ORIGINAL/'\n",
    "    file_name = date + '-meanByBusByService.csv'\n",
    "    grouped_by_bus = pd.read_csv(base_input_path+file_name, encoding = 'latin-1',sep =\";\")\n",
    "    reduced_etapas = pd.concat([reduced_etapas,grouped_by_bus])\n"
   ]
  },
  {
   "cell_type": "markdown",
   "metadata": {},
   "source": [
    "* Processing etapas ddbb before merging"
   ]
  },
  {
   "cell_type": "code",
   "execution_count": 12,
   "metadata": {
    "collapsed": true,
    "scrolled": true
   },
   "outputs": [],
   "source": [
    "del reduced_etapas['Unnamed: 0']\n",
    "reduced_etapas = reduced_etapas.rename(columns = {'fecha':'FECHA', 'sitio_subida':'PATENTE', 'count': 'ETAPAS_COUNT', 'servicio_subida' : 'SERVICIO'})\n",
    "reduced_etapas['FECHA'] = pd.to_datetime(reduced_etapas.FECHA)\n",
    "reduced_etapas['PATENTE'] = reduced_etapas['PATENTE'].str.replace(\"-\", \"\")\n",
    "reduced_etapas['PATENTE'] = reduced_etapas['PATENTE'].str.replace(\" \", \"\")"
   ]
  },
  {
   "cell_type": "code",
   "execution_count": 13,
   "metadata": {
    "collapsed": true
   },
   "outputs": [],
   "source": [
    "reduced_etapas.reset_index(drop=True,inplace=True)"
   ]
  },
  {
   "cell_type": "code",
   "execution_count": 14,
   "metadata": {},
   "outputs": [
    {
     "data": {
      "text/plain": [
       "pandas._libs.tslib.Timestamp"
      ]
     },
     "execution_count": 14,
     "metadata": {},
     "output_type": "execute_result"
    }
   ],
   "source": [
    "type(reduced_etapas.loc[0,'FECHA'])"
   ]
  },
  {
   "cell_type": "markdown",
   "metadata": {},
   "source": [
    "## <strong>TEST MERGING</strong>"
   ]
  },
  {
   "cell_type": "markdown",
   "metadata": {},
   "source": [
    "The order is:\n",
    "\n",
    "1. summary > common_dates_evasion.\n",
    "2. reduced_etapas.\n",
    "3. evasion_vs_mean = merge (summary, reduced_etapas ) on FECHA, PATENTE and SERVICIO > clean_evasion_vs_mean obtained when mean > 0.\n",
    "4. evasion_vs_mean > within_dates_evasion_vs_mean > common_dates_evasion_vs_mean.\n",
    "\n",
    "Finally, common_dates_evasion_vs_mean is used to check if merge is correctly applied"
   ]
  },
  {
   "cell_type": "markdown",
   "metadata": {},
   "source": [
    "1 - BASICS "
   ]
  },
  {
   "cell_type": "code",
   "execution_count": 15,
   "metadata": {
    "collapsed": true
   },
   "outputs": [],
   "source": [
    "evasion_vs_mean = pd.merge(summary,reduced_etapas, on=['FECHA','PATENTE','SERVICIO'], how='left')"
   ]
  },
  {
   "cell_type": "code",
   "execution_count": 16,
   "metadata": {
    "scrolled": true
   },
   "outputs": [
    {
     "name": "stdout",
     "output_type": "stream",
     "text": [
      "The total number of rows in evasion vs. mean ddbb is: 1184\n"
     ]
    }
   ],
   "source": [
    "evasion_vs_mean_length = len(evasion_vs_mean.index)\n",
    "print('The total number of rows in evasion vs. mean ddbb is: ' +str(evasion_vs_mean_length))"
   ]
  },
  {
   "cell_type": "markdown",
   "metadata": {},
   "source": [
    "* Getting rid of missing values"
   ]
  },
  {
   "cell_type": "code",
   "execution_count": 17,
   "metadata": {
    "collapsed": true,
    "scrolled": true
   },
   "outputs": [],
   "source": [
    "clean_evasion_vs_mean = evasion_vs_mean[evasion_vs_mean['mean']>0]"
   ]
  },
  {
   "cell_type": "code",
   "execution_count": 18,
   "metadata": {},
   "outputs": [
    {
     "data": {
      "text/html": [
       "<div>\n",
       "<style>\n",
       "    .dataframe thead tr:only-child th {\n",
       "        text-align: right;\n",
       "    }\n",
       "\n",
       "    .dataframe thead th {\n",
       "        text-align: left;\n",
       "    }\n",
       "\n",
       "    .dataframe tbody tr th {\n",
       "        vertical-align: top;\n",
       "    }\n",
       "</style>\n",
       "<table border=\"1\" class=\"dataframe\">\n",
       "  <thead>\n",
       "    <tr style=\"text-align: right;\">\n",
       "      <th></th>\n",
       "      <th>FECHA</th>\n",
       "      <th>PATENTE</th>\n",
       "      <th>SERVICIO</th>\n",
       "      <th>EVASION_COUNT</th>\n",
       "      <th>TOTAL_INGRESAN</th>\n",
       "      <th>TOTAL_NO_VALIDAN</th>\n",
       "      <th>EVASION_RATE</th>\n",
       "      <th>ETAPAS_COUNT</th>\n",
       "      <th>sum</th>\n",
       "      <th>mean</th>\n",
       "      <th>fecha_instalacion</th>\n",
       "    </tr>\n",
       "  </thead>\n",
       "  <tbody>\n",
       "    <tr>\n",
       "      <th>302</th>\n",
       "      <td>2017-03-09</td>\n",
       "      <td>BKWK90</td>\n",
       "      <td>F05</td>\n",
       "      <td>45</td>\n",
       "      <td>94</td>\n",
       "      <td>27</td>\n",
       "      <td>0.287234</td>\n",
       "      <td>222.0</td>\n",
       "      <td>1324.0</td>\n",
       "      <td>5.963964</td>\n",
       "      <td>NaN</td>\n",
       "    </tr>\n",
       "    <tr>\n",
       "      <th>303</th>\n",
       "      <td>2017-03-09</td>\n",
       "      <td>CJJH75</td>\n",
       "      <td>B07</td>\n",
       "      <td>48</td>\n",
       "      <td>125</td>\n",
       "      <td>58</td>\n",
       "      <td>0.464000</td>\n",
       "      <td>192.0</td>\n",
       "      <td>1449.0</td>\n",
       "      <td>7.546875</td>\n",
       "      <td>2017-07-03</td>\n",
       "    </tr>\n",
       "    <tr>\n",
       "      <th>304</th>\n",
       "      <td>2017-03-09</td>\n",
       "      <td>CJKC18</td>\n",
       "      <td>B07</td>\n",
       "      <td>38</td>\n",
       "      <td>48</td>\n",
       "      <td>7</td>\n",
       "      <td>0.145833</td>\n",
       "      <td>37.0</td>\n",
       "      <td>136.0</td>\n",
       "      <td>3.675676</td>\n",
       "      <td>2017-07-05</td>\n",
       "    </tr>\n",
       "    <tr>\n",
       "      <th>305</th>\n",
       "      <td>2017-03-09</td>\n",
       "      <td>CJRG61</td>\n",
       "      <td>F05</td>\n",
       "      <td>24</td>\n",
       "      <td>33</td>\n",
       "      <td>18</td>\n",
       "      <td>0.545455</td>\n",
       "      <td>22.0</td>\n",
       "      <td>95.0</td>\n",
       "      <td>4.318182</td>\n",
       "      <td>NaN</td>\n",
       "    </tr>\n",
       "    <tr>\n",
       "      <th>306</th>\n",
       "      <td>2017-03-09</td>\n",
       "      <td>FLXB75</td>\n",
       "      <td>B07</td>\n",
       "      <td>20</td>\n",
       "      <td>62</td>\n",
       "      <td>0</td>\n",
       "      <td>0.000000</td>\n",
       "      <td>159.0</td>\n",
       "      <td>1150.0</td>\n",
       "      <td>7.232704</td>\n",
       "      <td>2016-07-26</td>\n",
       "    </tr>\n",
       "  </tbody>\n",
       "</table>\n",
       "</div>"
      ],
      "text/plain": [
       "         FECHA PATENTE SERVICIO  EVASION_COUNT  TOTAL_INGRESAN  \\\n",
       "302 2017-03-09  BKWK90      F05             45              94   \n",
       "303 2017-03-09  CJJH75      B07             48             125   \n",
       "304 2017-03-09  CJKC18      B07             38              48   \n",
       "305 2017-03-09  CJRG61      F05             24              33   \n",
       "306 2017-03-09  FLXB75      B07             20              62   \n",
       "\n",
       "     TOTAL_NO_VALIDAN  EVASION_RATE  ETAPAS_COUNT     sum      mean  \\\n",
       "302                27      0.287234         222.0  1324.0  5.963964   \n",
       "303                58      0.464000         192.0  1449.0  7.546875   \n",
       "304                 7      0.145833          37.0   136.0  3.675676   \n",
       "305                18      0.545455          22.0    95.0  4.318182   \n",
       "306                 0      0.000000         159.0  1150.0  7.232704   \n",
       "\n",
       "    fecha_instalacion  \n",
       "302               NaN  \n",
       "303        2017-07-03  \n",
       "304        2017-07-05  \n",
       "305               NaN  \n",
       "306        2016-07-26  "
      ]
     },
     "execution_count": 18,
     "metadata": {},
     "output_type": "execute_result"
    }
   ],
   "source": [
    "clean_evasion_vs_mean.head()"
   ]
  },
  {
   "cell_type": "code",
   "execution_count": 19,
   "metadata": {},
   "outputs": [
    {
     "name": "stdout",
     "output_type": "stream",
     "text": [
      "The total number of rows matching in evasion vs. mean ddbb is: 482\n",
      "The percentage of matching is: 40.70945945945946%\n"
     ]
    }
   ],
   "source": [
    "clean_evasion_vs_mean_length = len(clean_evasion_vs_mean.index)\n",
    "print('The total number of rows matching in evasion vs. mean ddbb is: ' + str(clean_evasion_vs_mean_length))\n",
    "print('The percentage of matching is: ' + str(clean_evasion_vs_mean_length/evasion_vs_mean_length*100) + '%')"
   ]
  },
  {
   "cell_type": "markdown",
   "metadata": {},
   "source": [
    "= END BASICS ="
   ]
  },
  {
   "cell_type": "markdown",
   "metadata": {},
   "source": [
    "2 - NUMBER OF OBSERVATIONS MISMATCHING"
   ]
  },
  {
   "cell_type": "code",
   "execution_count": 20,
   "metadata": {},
   "outputs": [
    {
     "name": "stdout",
     "output_type": "stream",
     "text": [
      "The total number of rows mismatching in evasion vs. mean ddbb is: 702\n"
     ]
    }
   ],
   "source": [
    "total_mismatching = evasion_vs_mean_length - clean_evasion_vs_mean_length\n",
    "print('The total number of rows mismatching in evasion vs. mean ddbb is: ' + str(total_mismatching))"
   ]
  },
  {
   "cell_type": "markdown",
   "metadata": {},
   "source": [
    "= END NUMBER OF OBSERVATIONS MISMATCHING ="
   ]
  },
  {
   "cell_type": "markdown",
   "metadata": {},
   "source": [
    "3 - CHECKING CONDITIONS"
   ]
  },
  {
   "cell_type": "code",
   "execution_count": 21,
   "metadata": {
    "collapsed": true
   },
   "outputs": [],
   "source": [
    "within_dates_evasion_vs_mean = evasion_vs_mean[(evasion_vs_mean['FECHA']>=pd.to_datetime('2017-03-09'))&(evasion_vs_mean['FECHA']<=pd.to_datetime('2017-08-24'))]"
   ]
  },
  {
   "cell_type": "code",
   "execution_count": 22,
   "metadata": {},
   "outputs": [
    {
     "name": "stdout",
     "output_type": "stream",
     "text": [
      "The number of rows within common dates range is: 778\n"
     ]
    }
   ],
   "source": [
    "within_dates_evasion_vs_mean_length = len(within_dates_evasion_vs_mean.index)\n",
    "print('The number of rows within common dates range is: ' + str(within_dates_evasion_vs_mean_length))"
   ]
  },
  {
   "cell_type": "code",
   "execution_count": 23,
   "metadata": {
    "collapsed": true
   },
   "outputs": [],
   "source": [
    "common_dates_evasion_vs_mean = within_dates_evasion_vs_mean[within_dates_evasion_vs_mean['FECHA'].isin(common_dates_timestamp)]"
   ]
  },
  {
   "cell_type": "code",
   "execution_count": 24,
   "metadata": {},
   "outputs": [
    {
     "name": "stdout",
     "output_type": "stream",
     "text": [
      "The total number of rows within common dates range and in common dates is: 513\n"
     ]
    }
   ],
   "source": [
    "common_dates_evasion_vs_mean_length = len(common_dates_evasion_vs_mean.index)\n",
    "print('The total number of rows within common dates range and in common dates is: ' + str(common_dates_evasion_vs_mean_length))"
   ]
  },
  {
   "cell_type": "code",
   "execution_count": 25,
   "metadata": {},
   "outputs": [
    {
     "name": "stdout",
     "output_type": "stream",
     "text": [
      "IN SUMMARY, THE ORIGINAL NUMBER OF ROWS IS 1184. FROM THIS, 778 ARE WITHIN COMMON DATES RANGE. FROM THE LATTER, 513 ARE WITHIN COMMON DATES RANGE AND IN FACT CORRESPOND TO A COMMON DATE. FINALLY THERE ARE 31 ROWS MISMATCHING THAT SHOULD BE CHECKED IN REDUCED_ETAPAS AND SIMPLIFIED_ETAPAS FILES\n"
     ]
    }
   ],
   "source": [
    "print('IN SUMMARY, THE ORIGINAL NUMBER OF ROWS IS ' + str(evasion_vs_mean_length) + '. FROM THIS, ' + \n",
    "     str(within_dates_evasion_vs_mean_length) + ' ARE WITHIN COMMON DATES RANGE. FROM THE LATTER, ' + \n",
    "     str(common_dates_evasion_vs_mean_length) + ' ARE WITHIN COMMON DATES RANGE AND IN FACT CORRESPOND TO A COMMON DATE. FINALLY THERE ARE ' +\n",
    "     str(common_dates_evasion_vs_mean_length-clean_evasion_vs_mean_length) + ' ROWS MISMATCHING THAT SHOULD BE CHECKED IN REDUCED_ETAPAS AND SIMPLIFIED_ETAPAS FILES') "
   ]
  },
  {
   "cell_type": "markdown",
   "metadata": {},
   "source": [
    "= END CHECKING CONDITIONS ="
   ]
  },
  {
   "cell_type": "markdown",
   "metadata": {},
   "source": [
    "4 - CHECKING PROBLEMATIC ROWS USING <strong>common_dates_evasion_vs_mean</strong> AND LOOKING INTO REDUCED_ETAPAS and SIMPLIFIED_ETAPAS FILES"
   ]
  },
  {
   "cell_type": "code",
   "execution_count": 26,
   "metadata": {},
   "outputs": [
    {
     "name": "stdout",
     "output_type": "stream",
     "text": [
      "31\n"
     ]
    }
   ],
   "source": [
    "NOT_SEEN_PATENTES_DATES_SERVICES = common_dates_evasion_vs_mean.loc[common_dates_evasion_vs_mean['mean'].isnull(),['FECHA','PATENTE','SERVICIO']]\n",
    "print(len(common_dates_evasion_vs_mean[common_dates_evasion_vs_mean['mean'].isnull()].index))"
   ]
  },
  {
   "cell_type": "markdown",
   "metadata": {},
   "source": [
    "4.1. In reduced etapas > <font color='green'> Passed </font>"
   ]
  },
  {
   "cell_type": "code",
   "execution_count": 27,
   "metadata": {},
   "outputs": [
    {
     "data": {
      "text/plain": [
       "Timestamp('2017-03-09 00:00:00')"
      ]
     },
     "execution_count": 27,
     "metadata": {},
     "output_type": "execute_result"
    }
   ],
   "source": [
    "reduced_etapas.loc[0,'FECHA']"
   ]
  },
  {
   "cell_type": "code",
   "execution_count": 28,
   "metadata": {},
   "outputs": [
    {
     "data": {
      "text/plain": [
       "Timestamp('2017-03-14 00:00:00')"
      ]
     },
     "execution_count": 28,
     "metadata": {},
     "output_type": "execute_result"
    }
   ],
   "source": [
    "NOT_SEEN_PATENTES_DATES_SERVICES.loc[315,'FECHA']"
   ]
  },
  {
   "cell_type": "code",
   "execution_count": 29,
   "metadata": {},
   "outputs": [
    {
     "name": "stdout",
     "output_type": "stream",
     "text": [
      "31\n"
     ]
    }
   ],
   "source": [
    "i = 0\n",
    "for index, row in NOT_SEEN_PATENTES_DATES_SERVICES.iterrows():\n",
    "    #This line makes sense because:\n",
    "    #1. FECHA: reduced_etapas['FECHA'] of same type of row['FECHA'], see above.\n",
    "    #2. PATENTE: In[12] line 4 and 5\n",
    "    #3. SERVICIO: ReducingEtapas_ByBusByService, In[4], line 4 to 7\n",
    "    if reduced_etapas[(reduced_etapas['FECHA']==row['FECHA'])&(reduced_etapas['PATENTE']==row['PATENTE'])&(reduced_etapas['SERVICIO']==row['SERVICIO'])].empty:\n",
    "        i=i+1\n",
    "\n",
    "print(i)"
   ]
  },
  {
   "cell_type": "markdown",
   "metadata": {},
   "source": [
    "4.2. In simplified_etapas > <font color='green'> Passed </font>"
   ]
  },
  {
   "cell_type": "code",
   "execution_count": 30,
   "metadata": {
    "collapsed": true
   },
   "outputs": [],
   "source": [
    "import re\n",
    "import DailyEtapasBuilder"
   ]
  },
  {
   "cell_type": "code",
   "execution_count": 31,
   "metadata": {},
   "outputs": [
    {
     "data": {
      "text/plain": [
       "'2017-08-22 00:00:00'"
      ]
     },
     "execution_count": 31,
     "metadata": {},
     "output_type": "execute_result"
    }
   ],
   "source": [
    "str(row['FECHA'])"
   ]
  },
  {
   "cell_type": "code",
   "execution_count": 32,
   "metadata": {},
   "outputs": [
    {
     "name": "stdout",
     "output_type": "stream",
     "text": [
      "Not found in turnstile database: 1832615\n",
      "Not found in turnstile database: 1842842\n",
      "Not found in turnstile database: 1842842\n",
      "Not found in turnstile database: 1842842\n",
      "Not found in turnstile database: 1821215\n",
      "Not found in turnstile database: 1829611\n",
      "Not found in turnstile database: 1889530\n",
      "Not found in turnstile database: 1889530\n",
      "Not found in turnstile database: 1869904\n",
      "Not found in turnstile database: 1869904\n",
      "Not found in turnstile database: 1869904\n",
      "Not found in turnstile database: 517700\n",
      "Not found in turnstile database: 517700\n",
      "Not found in turnstile database: 517700\n",
      "Not found in turnstile database: 517700\n",
      "Not found in turnstile database: 517700\n",
      "Not found in turnstile database: 517700\n",
      "Not found in turnstile database: 517700\n",
      "Not found in turnstile database: 517700\n",
      "Not found in turnstile database: 517700\n",
      "Not found in turnstile database: 517700\n",
      "Not found in turnstile database: 517700\n",
      "Not found in turnstile database: 1764405\n",
      "Not found in turnstile database: 1560500\n",
      "Not found in turnstile database: 1637796\n",
      "Not found in turnstile database: 1867643\n",
      "Not found in turnstile database: 1867643\n",
      "Not found in turnstile database: 1867643\n",
      "Not found in turnstile database: 1873694\n",
      "Not found in turnstile database: 1873694\n",
      "Not found in turnstile database: 1877006\n",
      "31\n"
     ]
    }
   ],
   "source": [
    "j=0\n",
    "for index,row in NOT_SEEN_PATENTES_DATES_SERVICES.iterrows():\n",
    "    date = str(row['FECHA']).split(' ')[0]\n",
    "    patente = re.split('(\\d+)',row['PATENTE'])[0] + '-' + re.split('(\\d+)',row['PATENTE'])[1]\n",
    "    servicio = row['SERVICIO']\n",
    "    etapas_builder = DailyEtapasBuilder.RunSilentlyDailyEtapasBuilderClass(date)\n",
    "    etapas_builder.loadSimplifiedEtapas()\n",
    "    etapas_builder.mergeTurnstileData()\n",
    "    etapas_builder.cleanDataFrame()\n",
    "    etapas_builder.sortDataFrame()\n",
    "    etapas_builder.postProcessingSortedDataFrame()\n",
    "    filtered_df = etapas_builder.filteringDf()[0]\n",
    "    filtered_df['servicio_subida'] =  filtered_df['servicio_subida'].str.replace('T','')\n",
    "    filtered_df['servicio_subida'] =  filtered_df['servicio_subida'].str.split(' ').str[0]    \n",
    "    if filtered_df[(filtered_df['sitio_subida']==patente)&(filtered_df['servicio_subida']==servicio)].empty:\n",
    "        #This lines makes sense because of In [30], line 4, and In [31], line 8 and 9\n",
    "        j=j+1\n",
    "\n",
    "print(j)"
   ]
  },
  {
   "cell_type": "markdown",
   "metadata": {},
   "source": [
    "### Closed, <font color='green'> Passed </font>"
   ]
  }
 ],
 "metadata": {
  "kernelspec": {
   "display_name": "Python 3",
   "language": "python",
   "name": "python3"
  },
  "language_info": {
   "codemirror_mode": {
    "name": "ipython",
    "version": 3
   },
   "file_extension": ".py",
   "mimetype": "text/x-python",
   "name": "python",
   "nbconvert_exporter": "python",
   "pygments_lexer": "ipython3",
   "version": "3.6.1"
  }
 },
 "nbformat": 4,
 "nbformat_minor": 2
}
