{
 "cells": [
  {
   "cell_type": "markdown",
   "metadata": {},
   "source": [
    "### Trying collapsing perfiles"
   ]
  },
  {
   "cell_type": "code",
   "execution_count": 2,
   "metadata": {
    "collapsed": true
   },
   "outputs": [],
   "source": [
    "import os\n",
    "import glob"
   ]
  },
  {
   "cell_type": "code",
   "execution_count": 3,
   "metadata": {},
   "outputs": [],
   "source": [
    "import sys\n",
    "module_path = os.path.abspath(os.path.join('..'))\n",
    "if module_path not in sys.path:\n",
    "    sys.path.append(module_path)"
   ]
  },
  {
   "cell_type": "code",
   "execution_count": 4,
   "metadata": {
    "collapsed": true
   },
   "outputs": [],
   "source": [
    "from Utils import TransantiagoConstants"
   ]
  },
  {
   "cell_type": "code",
   "execution_count": 5,
   "metadata": {},
   "outputs": [
    {
     "data": {
      "text/html": [
       "<style>.container { width:100% !important; }</style>"
      ],
      "text/plain": [
       "<IPython.core.display.HTML object>"
      ]
     },
     "metadata": {},
     "output_type": "display_data"
    }
   ],
   "source": [
    "import pandas as pd\n",
    "import numpy as np\n",
    "from IPython.core.display import display, HTML\n",
    "display(HTML(\"<style>.container { width:100% !important; }</style>\"))"
   ]
  },
  {
   "cell_type": "code",
   "execution_count": 10,
   "metadata": {},
   "outputs": [],
   "source": [
    "perfiles = pd.read_table('C:/Users/leoca_000/Desktop/Evasion/01_analisis/03_datos/01_SSH/2017-03-01.perfiles', encoding='latin-1', sep='|')"
   ]
  },
  {
   "cell_type": "code",
   "execution_count": 11,
   "metadata": {},
   "outputs": [
    {
     "data": {
      "text/html": [
       "<div>\n",
       "<style>\n",
       "    .dataframe thead tr:only-child th {\n",
       "        text-align: right;\n",
       "    }\n",
       "\n",
       "    .dataframe thead th {\n",
       "        text-align: left;\n",
       "    }\n",
       "\n",
       "    .dataframe tbody tr th {\n",
       "        vertical-align: top;\n",
       "    }\n",
       "</style>\n",
       "<table border=\"1\" class=\"dataframe\">\n",
       "  <thead>\n",
       "    <tr style=\"text-align: right;\">\n",
       "      <th></th>\n",
       "      <th>ServicioSentido</th>\n",
       "      <th>Patente</th>\n",
       "      <th>Paradero</th>\n",
       "      <th>NombreParada</th>\n",
       "      <th>Hini</th>\n",
       "      <th>Hfin</th>\n",
       "      <th>Cumplimiento</th>\n",
       "      <th>Correlativo</th>\n",
       "      <th>idExpedicion</th>\n",
       "      <th>DistEnRuta</th>\n",
       "      <th>...</th>\n",
       "      <th>TiempoPrimeraTrx</th>\n",
       "      <th>TiempoGPSMasCercano</th>\n",
       "      <th>Tiempo</th>\n",
       "      <th>nSubidasTmp</th>\n",
       "      <th>ParaderoUsuario</th>\n",
       "      <th>PeriodoTSExpedicion</th>\n",
       "      <th>PeriodoTSParada</th>\n",
       "      <th>TipoDia</th>\n",
       "      <th>ZP</th>\n",
       "      <th>DeltaTrxs</th>\n",
       "    </tr>\n",
       "  </thead>\n",
       "  <tbody>\n",
       "    <tr>\n",
       "      <th>0</th>\n",
       "      <td>T118 00I</td>\n",
       "      <td>ZB-6854</td>\n",
       "      <td>T-13-369-PO-5</td>\n",
       "      <td>René Olivares esq. / Los Olivares</td>\n",
       "      <td>2017-03-01 01:32:45</td>\n",
       "      <td>2017-03-01 01:42:14</td>\n",
       "      <td>NC</td>\n",
       "      <td>1</td>\n",
       "      <td>0</td>\n",
       "      <td>120</td>\n",
       "      <td>...</td>\n",
       "      <td>-</td>\n",
       "      <td>01:32:15</td>\n",
       "      <td>2017-03-01 01:32:15</td>\n",
       "      <td>0</td>\n",
       "      <td>PI528</td>\n",
       "      <td>02 - NOCTURNO</td>\n",
       "      <td>02 - NOCTURNO</td>\n",
       "      <td>LABORAL</td>\n",
       "      <td>0</td>\n",
       "      <td>0</td>\n",
       "    </tr>\n",
       "    <tr>\n",
       "      <th>1</th>\n",
       "      <td>T118 00I</td>\n",
       "      <td>ZB-6854</td>\n",
       "      <td>L-13-69-5-PO</td>\n",
       "      <td>René Olivares esq. / Avenida 4 Poniente</td>\n",
       "      <td>2017-03-01 01:32:45</td>\n",
       "      <td>2017-03-01 01:42:14</td>\n",
       "      <td>NC</td>\n",
       "      <td>2</td>\n",
       "      <td>0</td>\n",
       "      <td>392</td>\n",
       "      <td>...</td>\n",
       "      <td>-</td>\n",
       "      <td>01:32:15</td>\n",
       "      <td>2017-03-01 01:32:23</td>\n",
       "      <td>0</td>\n",
       "      <td>PI529</td>\n",
       "      <td>02 - NOCTURNO</td>\n",
       "      <td>02 - NOCTURNO</td>\n",
       "      <td>LABORAL</td>\n",
       "      <td>0</td>\n",
       "      <td>0</td>\n",
       "    </tr>\n",
       "    <tr>\n",
       "      <th>2</th>\n",
       "      <td>T118 00I</td>\n",
       "      <td>ZB-6854</td>\n",
       "      <td>L-13-3-42-SN</td>\n",
       "      <td>Avenida 4 Poniente esq. / Pdte. J.M Balmaceda</td>\n",
       "      <td>2017-03-01 01:32:45</td>\n",
       "      <td>2017-03-01 01:42:14</td>\n",
       "      <td>NC</td>\n",
       "      <td>3</td>\n",
       "      <td>0</td>\n",
       "      <td>595</td>\n",
       "      <td>...</td>\n",
       "      <td>-</td>\n",
       "      <td>01:33:15</td>\n",
       "      <td>2017-03-01 01:35:20</td>\n",
       "      <td>0</td>\n",
       "      <td>PI1350</td>\n",
       "      <td>02 - NOCTURNO</td>\n",
       "      <td>02 - NOCTURNO</td>\n",
       "      <td>LABORAL</td>\n",
       "      <td>0</td>\n",
       "      <td>0</td>\n",
       "    </tr>\n",
       "    <tr>\n",
       "      <th>3</th>\n",
       "      <td>T118 00I</td>\n",
       "      <td>ZB-6854</td>\n",
       "      <td>T-13-91-OP-5</td>\n",
       "      <td>Avenida 4 Poniente esq. / Av. González Videla</td>\n",
       "      <td>2017-03-01 01:32:45</td>\n",
       "      <td>2017-03-01 01:42:14</td>\n",
       "      <td>NC</td>\n",
       "      <td>4</td>\n",
       "      <td>0</td>\n",
       "      <td>888</td>\n",
       "      <td>...</td>\n",
       "      <td>-</td>\n",
       "      <td>01:35:45</td>\n",
       "      <td>2017-03-01 01:35:30</td>\n",
       "      <td>0</td>\n",
       "      <td>PI89</td>\n",
       "      <td>02 - NOCTURNO</td>\n",
       "      <td>02 - NOCTURNO</td>\n",
       "      <td>LABORAL</td>\n",
       "      <td>0</td>\n",
       "      <td>0</td>\n",
       "    </tr>\n",
       "    <tr>\n",
       "      <th>4</th>\n",
       "      <td>T118 00I</td>\n",
       "      <td>ZB-6854</td>\n",
       "      <td>T-13-105-SN-5</td>\n",
       "      <td>Pdte. G. Videla esq. / Cerro Blanco</td>\n",
       "      <td>2017-03-01 01:32:45</td>\n",
       "      <td>2017-03-01 01:42:14</td>\n",
       "      <td>NC</td>\n",
       "      <td>5</td>\n",
       "      <td>0</td>\n",
       "      <td>1251</td>\n",
       "      <td>...</td>\n",
       "      <td>-</td>\n",
       "      <td>01:35:45</td>\n",
       "      <td>2017-03-01 01:35:41</td>\n",
       "      <td>0</td>\n",
       "      <td>PI90</td>\n",
       "      <td>02 - NOCTURNO</td>\n",
       "      <td>02 - NOCTURNO</td>\n",
       "      <td>LABORAL</td>\n",
       "      <td>0</td>\n",
       "      <td>0</td>\n",
       "    </tr>\n",
       "  </tbody>\n",
       "</table>\n",
       "<p>5 rows × 31 columns</p>\n",
       "</div>"
      ],
      "text/plain": [
       "  ServicioSentido  Patente       Paradero  \\\n",
       "0        T118 00I  ZB-6854  T-13-369-PO-5   \n",
       "1        T118 00I  ZB-6854   L-13-69-5-PO   \n",
       "2        T118 00I  ZB-6854   L-13-3-42-SN   \n",
       "3        T118 00I  ZB-6854   T-13-91-OP-5   \n",
       "4        T118 00I  ZB-6854  T-13-105-SN-5   \n",
       "\n",
       "                                    NombreParada                 Hini  \\\n",
       "0              René Olivares esq. / Los Olivares  2017-03-01 01:32:45   \n",
       "1        René Olivares esq. / Avenida 4 Poniente  2017-03-01 01:32:45   \n",
       "2  Avenida 4 Poniente esq. / Pdte. J.M Balmaceda  2017-03-01 01:32:45   \n",
       "3  Avenida 4 Poniente esq. / Av. González Videla  2017-03-01 01:32:45   \n",
       "4            Pdte. G. Videla esq. / Cerro Blanco  2017-03-01 01:32:45   \n",
       "\n",
       "                  Hfin Cumplimiento  Correlativo  idExpedicion  DistEnRuta  \\\n",
       "0  2017-03-01 01:42:14           NC            1             0         120   \n",
       "1  2017-03-01 01:42:14           NC            2             0         392   \n",
       "2  2017-03-01 01:42:14           NC            3             0         595   \n",
       "3  2017-03-01 01:42:14           NC            4             0         888   \n",
       "4  2017-03-01 01:42:14           NC            5             0        1251   \n",
       "\n",
       "      ...      TiempoPrimeraTrx  TiempoGPSMasCercano               Tiempo  \\\n",
       "0     ...                     -             01:32:15  2017-03-01 01:32:15   \n",
       "1     ...                     -             01:32:15  2017-03-01 01:32:23   \n",
       "2     ...                     -             01:33:15  2017-03-01 01:35:20   \n",
       "3     ...                     -             01:35:45  2017-03-01 01:35:30   \n",
       "4     ...                     -             01:35:45  2017-03-01 01:35:41   \n",
       "\n",
       "   nSubidasTmp  ParaderoUsuario  PeriodoTSExpedicion  PeriodoTSParada  \\\n",
       "0            0            PI528        02 - NOCTURNO    02 - NOCTURNO   \n",
       "1            0            PI529        02 - NOCTURNO    02 - NOCTURNO   \n",
       "2            0           PI1350        02 - NOCTURNO    02 - NOCTURNO   \n",
       "3            0             PI89        02 - NOCTURNO    02 - NOCTURNO   \n",
       "4            0             PI90        02 - NOCTURNO    02 - NOCTURNO   \n",
       "\n",
       "   TipoDia  ZP  DeltaTrxs   \n",
       "0  LABORAL   0           0  \n",
       "1  LABORAL   0           0  \n",
       "2  LABORAL   0           0  \n",
       "3  LABORAL   0           0  \n",
       "4  LABORAL   0           0  \n",
       "\n",
       "[5 rows x 31 columns]"
      ]
     },
     "execution_count": 11,
     "metadata": {},
     "output_type": "execute_result"
    }
   ],
   "source": [
    "perfiles.head()"
   ]
  },
  {
   "cell_type": "code",
   "execution_count": 14,
   "metadata": {
    "collapsed": true
   },
   "outputs": [],
   "source": [
    "grouped_data = perfiles.groupby(['ServicioSentido','Patente','idExpedicion'])['Subidastotal'].sum()"
   ]
  },
  {
   "cell_type": "code",
   "execution_count": 15,
   "metadata": {},
   "outputs": [
    {
     "data": {
      "text/plain": [
       "ServicioSentido  Patente  idExpedicion\n",
       "B01 00I          BJFG-13  29455           20\n",
       "                 BJFG-17  29489           24\n",
       "                          29500           32\n",
       "                          29511           38\n",
       "                 BJFG-31  29502           27\n",
       "Name: Subidastotal, dtype: int64"
      ]
     },
     "execution_count": 15,
     "metadata": {},
     "output_type": "execute_result"
    }
   ],
   "source": [
    "grouped_data.head()"
   ]
  }
 ],
 "metadata": {
  "kernelspec": {
   "display_name": "Python 3",
   "language": "python",
   "name": "python3"
  },
  "language_info": {
   "codemirror_mode": {
    "name": "ipython",
    "version": 3
   },
   "file_extension": ".py",
   "mimetype": "text/x-python",
   "name": "python",
   "nbconvert_exporter": "python",
   "pygments_lexer": "ipython3",
   "version": "3.6.1"
  }
 },
 "nbformat": 4,
 "nbformat_minor": 2
}
