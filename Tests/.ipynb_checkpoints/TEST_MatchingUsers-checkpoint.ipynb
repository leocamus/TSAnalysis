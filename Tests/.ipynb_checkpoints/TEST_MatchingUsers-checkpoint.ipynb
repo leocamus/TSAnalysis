{
 "cells": [
  {
   "cell_type": "markdown",
   "metadata": {},
   "source": [
    "# MatchingUsers: this is a test"
   ]
  },
  {
   "cell_type": "markdown",
   "metadata": {},
   "source": [
    "## TEST 1: Check if MatchingUsers.py produce same result as jupyter prototype"
   ]
  },
  {
   "cell_type": "markdown",
   "metadata": {},
   "source": [
    "### Begin prototype"
   ]
  },
  {
   "cell_type": "code",
   "execution_count": 1,
   "metadata": {
    "collapsed": true
   },
   "outputs": [],
   "source": [
    "import os\n",
    "import sys\n",
    "module_path = os.path.abspath(os.path.join('..'))\n",
    "if module_path not in sys.path:\n",
    "    sys.path.append(module_path)"
   ]
  },
  {
   "cell_type": "code",
   "execution_count": 2,
   "metadata": {},
   "outputs": [
    {
     "data": {
      "text/html": [
       "<style>.container { width:100% !important; }</style>"
      ],
      "text/plain": [
       "<IPython.core.display.HTML object>"
      ]
     },
     "metadata": {},
     "output_type": "display_data"
    }
   ],
   "source": [
    "import pandas as pd\n",
    "import numpy as np\n",
    "from IPython.core.display import display, HTML\n",
    "display(HTML(\"<style>.container { width:100% !important; }</style>\"))\n",
    "from Utils import TransantiagoConstants\n",
    "import EvasionBuilder"
   ]
  },
  {
   "cell_type": "code",
   "execution_count": 3,
   "metadata": {},
   "outputs": [
    {
     "name": "stdout",
     "output_type": "stream",
     "text": [
      "Original number of rows in complete evasion database is: 97373\n",
      "Number of duplicated rows in complete evasion database is: 6192\n",
      "Number of collapsed-duplicated rows in complete evasion database is: 3090\n",
      "Number of rows in complete evasion database without duplicated rows at all is: 91181\n",
      "Final number of rows in complete evasion database with collapsed duplicated rows is: 94271\n"
     ]
    },
    {
     "name": "stderr",
     "output_type": "stream",
     "text": [
      "C:\\Users\\leoca_000\\Anaconda3\\lib\\site-packages\\pandas\\core\\indexing.py:337: SettingWithCopyWarning: \n",
      "A value is trying to be set on a copy of a slice from a DataFrame.\n",
      "Try using .loc[row_indexer,col_indexer] = value instead\n",
      "\n",
      "See the caveats in the documentation: http://pandas.pydata.org/pandas-docs/stable/indexing.html#indexing-view-versus-copy\n",
      "  self.obj[key] = _infer_fill_value(value)\n",
      "C:\\Users\\leoca_000\\Anaconda3\\lib\\site-packages\\pandas\\core\\indexing.py:517: SettingWithCopyWarning: \n",
      "A value is trying to be set on a copy of a slice from a DataFrame.\n",
      "Try using .loc[row_indexer,col_indexer] = value instead\n",
      "\n",
      "See the caveats in the documentation: http://pandas.pydata.org/pandas-docs/stable/indexing.html#indexing-view-versus-copy\n",
      "  self.obj[item] = s\n"
     ]
    },
    {
     "name": "stdout",
     "output_type": "stream",
     "text": [
      "The only non-matched user_code services are: \n",
      "D06\n"
     ]
    }
   ],
   "source": [
    "processed_evasion = EvasionBuilder.runCompleteProcess()"
   ]
  },
  {
   "cell_type": "markdown",
   "metadata": {},
   "source": [
    "* Processing evasion-ddbb before merging"
   ]
  },
  {
   "cell_type": "code",
   "execution_count": 4,
   "metadata": {},
   "outputs": [
    {
     "name": "stdout",
     "output_type": "stream",
     "text": [
      "<class 'str'>\n"
     ]
    }
   ],
   "source": [
    "evasion_paradero = processed_evasion[processed_evasion['TP']=='P']\n",
    "evasion_paradero_first = evasion_paradero[evasion_paradero['N_PUERTA']==1]\n",
    "print(type(processed_evasion['SERVICIO'][0])) #should be a string"
   ]
  },
  {
   "cell_type": "code",
   "execution_count": 5,
   "metadata": {},
   "outputs": [
    {
     "name": "stdout",
     "output_type": "stream",
     "text": [
      "Number of rows in complete evasion database is: 94271\n",
      "Number of rows in evasion in paradero database is: 92604\n",
      "Number of rows in evasion in paradero by first door database is: 33120\n"
     ]
    }
   ],
   "source": [
    "print('Number of rows in complete evasion database is: ' + str(len(processed_evasion.index)))\n",
    "print('Number of rows in evasion in paradero database is: ' + str(len(evasion_paradero.index)))\n",
    "print('Number of rows in evasion in paradero by first door database is: ' + str(len(evasion_paradero_first.index)))"
   ]
  },
  {
   "cell_type": "markdown",
   "metadata": {},
   "source": [
    "* Filtering dates not in common dates"
   ]
  },
  {
   "cell_type": "code",
   "execution_count": 6,
   "metadata": {},
   "outputs": [
    {
     "name": "stdout",
     "output_type": "stream",
     "text": [
      "The number of rows in the common_dates evasion database is: 14632 rows.\n"
     ]
    }
   ],
   "source": [
    "common_dates = TransantiagoConstants.common_dates\n",
    "common_dates_timestamp = [pd.to_datetime(x) for x in common_dates]\n",
    "common_dates_evasion = evasion_paradero_first[evasion_paradero_first['FECHA'].isin(common_dates_timestamp)]\n",
    "print('The number of rows in the common_dates evasion database is: ' + str(len(common_dates_evasion.index)) + ' rows.') #Remember to store the number."
   ]
  },
  {
   "cell_type": "markdown",
   "metadata": {},
   "source": [
    "* Filtering for one specific common date (2017-04-11) and analyze it to refactor and debug.\n",
    "* The result from the above process should be used to test MatchingUsers.py"
   ]
  },
  {
   "cell_type": "code",
   "execution_count": 7,
   "metadata": {},
   "outputs": [
    {
     "name": "stdout",
     "output_type": "stream",
     "text": [
      "The number of rows in the example-evasion database is: 1106 rows.\n"
     ]
    }
   ],
   "source": [
    "example = common_dates_evasion[common_dates_evasion['FECHA']==pd.to_datetime('2017-04-11')]\n",
    "print('The number of rows in the example-evasion database is: ' + str(len(example.index)) + ' rows.')"
   ]
  },
  {
   "cell_type": "code",
   "execution_count": 8,
   "metadata": {
    "collapsed": true
   },
   "outputs": [],
   "source": [
    "from RunSilentlyDailyEtapasBuilder import RunSilentlyDailyEtapasBuilderClass"
   ]
  },
  {
   "cell_type": "code",
   "execution_count": 9,
   "metadata": {},
   "outputs": [
    {
     "name": "stdout",
     "output_type": "stream",
     "text": [
      "Not found in turnstile database: 1829611\n",
      "The number of rows in the original etapas database is: 2598131 rows.\n",
      "The number of rows in the filtered (by special cases) etapas database is: 2533387 rows.\n"
     ]
    }
   ],
   "source": [
    "date = '2017-04-11'\n",
    "etapas_builder = RunSilentlyDailyEtapasBuilderClass(date)\n",
    "processed_sorted_df = etapas_builder.runProcessedProcess()\n",
    "\n",
    "print('The number of rows in the original etapas database is: ' + str(len(processed_sorted_df.index)) + ' rows.' )\n",
    "#Filtering special cases.\n",
    "filtered_processed_sorted_df = processed_sorted_df[(processed_sorted_df['diferencia_tiempo_secs']<=20)|(processed_sorted_df['diferencia_tiempo_secs'].isnull())]\n",
    "print('The number of rows in the filtered (by special cases) etapas database is: '  + str(len(filtered_processed_sorted_df.index)) + ' rows.' )"
   ]
  },
  {
   "cell_type": "markdown",
   "metadata": {},
   "source": [
    "* Processing filtered_processed_sorted_df"
   ]
  },
  {
   "cell_type": "code",
   "execution_count": 10,
   "metadata": {},
   "outputs": [
    {
     "name": "stderr",
     "output_type": "stream",
     "text": [
      "C:\\Users\\leoca_000\\Anaconda3\\lib\\site-packages\\pandas\\core\\indexing.py:517: SettingWithCopyWarning: \n",
      "A value is trying to be set on a copy of a slice from a DataFrame.\n",
      "Try using .loc[row_indexer,col_indexer] = value instead\n",
      "\n",
      "See the caveats in the documentation: http://pandas.pydata.org/pandas-docs/stable/indexing.html#indexing-view-versus-copy\n",
      "  self.obj[item] = s\n"
     ]
    }
   ],
   "source": [
    "filtered_processed_sorted_df.loc[:,'sitio_subida'] = filtered_processed_sorted_df.loc[:,'sitio_subida'].str.replace(\"-\", \"\")\n",
    "filtered_processed_sorted_df.loc[:,'sitio_subida'] = filtered_processed_sorted_df.loc[:,'sitio_subida'].str.replace(\" \", \"\")"
   ]
  },
  {
   "cell_type": "code",
   "execution_count": 11,
   "metadata": {},
   "outputs": [
    {
     "name": "stderr",
     "output_type": "stream",
     "text": [
      "C:\\Users\\leoca_000\\Anaconda3\\lib\\site-packages\\pandas\\core\\indexing.py:517: SettingWithCopyWarning: \n",
      "A value is trying to be set on a copy of a slice from a DataFrame.\n",
      "Try using .loc[row_indexer,col_indexer] = value instead\n",
      "\n",
      "See the caveats in the documentation: http://pandas.pydata.org/pandas-docs/stable/indexing.html#indexing-view-versus-copy\n",
      "  self.obj[item] = s\n"
     ]
    }
   ],
   "source": [
    "filtered_processed_sorted_df.loc[:,'servicio_subida'] =  filtered_processed_sorted_df.loc[:,'servicio_subida'].str.replace('T','')\n",
    "filtered_processed_sorted_df.loc[:,'servicio_subida'] =  filtered_processed_sorted_df.loc[:,'servicio_subida'].str.split(' ').str[0]"
   ]
  },
  {
   "cell_type": "code",
   "execution_count": 12,
   "metadata": {
    "collapsed": true
   },
   "outputs": [],
   "source": [
    "patentes = example['PATENTE'].unique().tolist()\n",
    "servicios = example['SERVICIO'].unique().tolist()"
   ]
  },
  {
   "cell_type": "code",
   "execution_count": 13,
   "metadata": {},
   "outputs": [
    {
     "name": "stdout",
     "output_type": "stream",
     "text": [
      "The number of rows in the filtered_processed_sorted_df filtered by patentes and servicios surveyed in a particular date is: 11441 rows.\n"
     ]
    }
   ],
   "source": [
    "clean_sorted_df = filtered_processed_sorted_df[(filtered_processed_sorted_df['sitio_subida'].isin(patentes))&(filtered_processed_sorted_df['servicio_subida'].isin(servicios))]\n",
    "clean_sorted_df = clean_sorted_df.reset_index(drop=True)\n",
    "print('The number of rows in the filtered_processed_sorted_df filtered by patentes and servicios surveyed in a particular date is: ' + str(len(clean_sorted_df.index)) + ' rows.')"
   ]
  },
  {
   "cell_type": "markdown",
   "metadata": {},
   "source": [
    "### METHODOLOGY STARTS HERE"
   ]
  },
  {
   "cell_type": "markdown",
   "metadata": {},
   "source": [
    "* Appending idExpedicion based on some ad-hoc condition"
   ]
  },
  {
   "cell_type": "code",
   "execution_count": 14,
   "metadata": {
    "collapsed": true,
    "scrolled": false
   },
   "outputs": [],
   "source": [
    "past_servicio = ''\n",
    "past_patente = ''\n",
    "past_time = pd.to_datetime('')\n",
    "id_exp = 1\n",
    "clean_sorted_df['idExpedicion'] = ''\n",
    "\n",
    "for index,row in clean_sorted_df.iterrows():\n",
    "    actual_servicio = row['servicio_subida']\n",
    "    actual_patente = row['sitio_subida']\n",
    "    actual_time = row['t_subida']\n",
    "    \n",
    "    #THRESHOLD TO CONSIDER A ROW IN A DIFFERENT EXPEDITION IS 15 MINUTES. THIS IS AD-HOC, BUT SHOULD NOT HAVE EFFECT ON FINAL RESULT\n",
    "    if((past_servicio==actual_servicio)&(actual_time - past_time <= pd.Timedelta('15 minutes'))):\n",
    "        clean_sorted_df.loc[index,'idExpedicion'] = id_exp\n",
    "\n",
    "    elif((past_servicio==actual_servicio)&(actual_time - past_time > pd.Timedelta('15 minutes'))):\n",
    "        id_exp = id_exp + 1\n",
    "        clean_sorted_df.loc[index,'idExpedicion'] = id_exp\n",
    "        \n",
    "    elif((past_servicio!=actual_servicio)):\n",
    "        id_exp = 1\n",
    "        clean_sorted_df.loc[index,'idExpedicion'] = id_exp\n",
    "        \n",
    "    past_servicio = actual_servicio\n",
    "    past_patente = actual_patente\n",
    "    past_time = actual_time\n",
    "    "
   ]
  },
  {
   "cell_type": "code",
   "execution_count": 15,
   "metadata": {},
   "outputs": [
    {
     "name": "stdout",
     "output_type": "stream",
     "text": [
      "The number of rows in clean_sorted_df is: 11441 rows.\n"
     ]
    }
   ],
   "source": [
    "print('The number of rows in clean_sorted_df is: ' + str(len(clean_sorted_df.index)) + ' rows.')"
   ]
  },
  {
   "cell_type": "markdown",
   "metadata": {},
   "source": [
    "* Grouping by bus-service-idExp-stop. <strong> This is a critical step </strong>"
   ]
  },
  {
   "cell_type": "code",
   "execution_count": 16,
   "metadata": {
    "collapsed": true
   },
   "outputs": [],
   "source": [
    "f = {'t_subida':['min', 'max', 'count'], 'diferencia_tiempo_secs':['mean']}\n",
    "grouped_clean_sorted_df = clean_sorted_df.groupby(['sitio_subida','servicio_subida','idExpedicion','par_subida']).agg(f)\n",
    "grouped_clean_sorted_df = grouped_clean_sorted_df.reset_index()\n",
    "\n",
    "columns = []\n",
    "for col in grouped_clean_sorted_df.columns.values:\n",
    "    if col[1]!='':\n",
    "        col = '_'.join(col).strip()\n",
    "    else:\n",
    "        col = ''.join(col).strip()\n",
    "    columns.append(col)\n",
    "\n",
    "grouped_clean_sorted_df.columns = columns\n",
    "\n",
    "grouped_clean_sorted_df = grouped_clean_sorted_df.sort_values(by=['sitio_subida', 'servicio_subida', 'idExpedicion', 't_subida_min'], ascending=[True, True, True, True])\n",
    "grouped_clean_sorted_df = grouped_clean_sorted_df.reset_index(drop=True)"
   ]
  },
  {
   "cell_type": "code",
   "execution_count": 17,
   "metadata": {},
   "outputs": [
    {
     "name": "stdout",
     "output_type": "stream",
     "text": [
      "The number of rows in the grouped_clean_sorted_df is: 3996 rows.\n"
     ]
    }
   ],
   "source": [
    "print('The number of rows in the grouped_clean_sorted_df is: ' + str(len(grouped_clean_sorted_df.index)) + ' rows.')"
   ]
  },
  {
   "cell_type": "markdown",
   "metadata": {},
   "source": [
    "* Computing and appending start and end cuts to search in evasion database"
   ]
  },
  {
   "cell_type": "code",
   "execution_count": 18,
   "metadata": {
    "collapsed": true
   },
   "outputs": [],
   "source": [
    "i = 0\n",
    "past_plate = '-'\n",
    "past_service = '-'\n",
    "\n",
    "past_par_subida = ['']\n",
    "\n",
    "past_initial_hour = pd.to_datetime('2017-04-11 00:00:00')\n",
    "past_end_hour = pd.to_datetime('2017-04-11 00:00:00')\n",
    "past_id_expedicion = '-'\n",
    "\n",
    "grouped_clean_sorted_df['start_cut']=''\n",
    "grouped_clean_sorted_df['end_cut']=''\n",
    "\n",
    "#from IPython.core.debugger import Tracer\n",
    "\n",
    "for index,row in grouped_clean_sorted_df.iterrows():\n",
    "    \n",
    "    future_index = index+1\n",
    "    \n",
    "    actual_plate = row['sitio_subida']\n",
    "    actual_service = row['servicio_subida']\n",
    "    actual_initial_hour = row['t_subida_min']\n",
    "    actual_end_hour = row['t_subida_max']\n",
    "        \n",
    "    actual_id_expedicion = row['idExpedicion']\n",
    "    \n",
    "    if ((actual_plate!=past_plate)|(actual_service!=past_service)|(actual_id_expedicion!=past_id_expedicion)): #Assuming a pre-defined value, i.e., 30 seconds.\n",
    "        start_cut = actual_initial_hour - pd.Timedelta('30 seconds')\n",
    "    else:\n",
    "        start_cut = actual_initial_hour - (actual_initial_hour - past_end_hour)/2\n",
    "    \n",
    "    \n",
    "    if future_index >= len(grouped_clean_sorted_df.index): #We are at the end of the ddff. Assuming a pre-defined value, i.e., 30 seconds \n",
    "        end_cut = actual_end_hour + pd.Timedelta('30 seconds')\n",
    "        \n",
    "    else:        \n",
    "        future_plate = grouped_clean_sorted_df.loc[future_index,'sitio_subida']\n",
    "        future_service = grouped_clean_sorted_df.loc[future_index,'servicio_subida']\n",
    "        future_initial_hour = grouped_clean_sorted_df.loc[future_index,'t_subida_min']\n",
    "        future_end_hour = grouped_clean_sorted_df.loc[future_index,'t_subida_max']\n",
    "        future_id_expedicion = grouped_clean_sorted_df.loc[future_index,'idExpedicion']\n",
    "        \n",
    "        if ((actual_plate!=future_plate)|(actual_service!=future_service)|(actual_id_expedicion!=future_id_expedicion)): #Changing service or plate... assuming a pre-defined value, i.e., 30 seconds\n",
    "            end_cut = actual_end_hour + pd.Timedelta('30 seconds')\n",
    "        else:\n",
    "            end_cut = actual_end_hour + (future_initial_hour - actual_end_hour)/2\n",
    "   \n",
    "    past_initial_hour = actual_initial_hour\n",
    "    past_end_hour = actual_end_hour\n",
    "    past_id_expedicion = actual_id_expedicion\n",
    "    past_plate = actual_plate\n",
    "    past_service = actual_service\n",
    "    grouped_clean_sorted_df.loc[index,'start_cut']=start_cut\n",
    "    grouped_clean_sorted_df.loc[index,'end_cut']=end_cut"
   ]
  },
  {
   "cell_type": "code",
   "execution_count": 19,
   "metadata": {
    "scrolled": true
   },
   "outputs": [
    {
     "data": {
      "text/html": [
       "<div>\n",
       "<style>\n",
       "    .dataframe thead tr:only-child th {\n",
       "        text-align: right;\n",
       "    }\n",
       "\n",
       "    .dataframe thead th {\n",
       "        text-align: left;\n",
       "    }\n",
       "\n",
       "    .dataframe tbody tr th {\n",
       "        vertical-align: top;\n",
       "    }\n",
       "</style>\n",
       "<table border=\"1\" class=\"dataframe\">\n",
       "  <thead>\n",
       "    <tr style=\"text-align: right;\">\n",
       "      <th></th>\n",
       "      <th>sitio_subida</th>\n",
       "      <th>servicio_subida</th>\n",
       "      <th>idExpedicion</th>\n",
       "      <th>par_subida</th>\n",
       "      <th>t_subida_min</th>\n",
       "      <th>t_subida_max</th>\n",
       "      <th>t_subida_count</th>\n",
       "      <th>diferencia_tiempo_secs_mean</th>\n",
       "      <th>start_cut</th>\n",
       "      <th>end_cut</th>\n",
       "    </tr>\n",
       "  </thead>\n",
       "  <tbody>\n",
       "    <tr>\n",
       "      <th>0</th>\n",
       "      <td>BJFB62</td>\n",
       "      <td>507</td>\n",
       "      <td>1</td>\n",
       "      <td>L-10-55-5-PO</td>\n",
       "      <td>2017-04-11 08:00:54</td>\n",
       "      <td>2017-04-11 08:00:54</td>\n",
       "      <td>1</td>\n",
       "      <td>NaN</td>\n",
       "      <td>2017-04-11 08:00:24</td>\n",
       "      <td>2017-04-11 08:01:51.500000</td>\n",
       "    </tr>\n",
       "    <tr>\n",
       "      <th>1</th>\n",
       "      <td>BJFB62</td>\n",
       "      <td>507</td>\n",
       "      <td>1</td>\n",
       "      <td>L-10-82-5-PO</td>\n",
       "      <td>2017-04-11 08:02:49</td>\n",
       "      <td>2017-04-11 08:02:49</td>\n",
       "      <td>1</td>\n",
       "      <td>NaN</td>\n",
       "      <td>2017-04-11 08:01:51.500000</td>\n",
       "      <td>2017-04-11 08:03:17.500000</td>\n",
       "    </tr>\n",
       "    <tr>\n",
       "      <th>2</th>\n",
       "      <td>BJFB62</td>\n",
       "      <td>507</td>\n",
       "      <td>1</td>\n",
       "      <td>L-10-37-20-NS</td>\n",
       "      <td>2017-04-11 08:03:46</td>\n",
       "      <td>2017-04-11 08:03:48</td>\n",
       "      <td>2</td>\n",
       "      <td>2.0</td>\n",
       "      <td>2017-04-11 08:03:17.500000</td>\n",
       "      <td>2017-04-11 08:05:02</td>\n",
       "    </tr>\n",
       "    <tr>\n",
       "      <th>3</th>\n",
       "      <td>BJFB62</td>\n",
       "      <td>507</td>\n",
       "      <td>1</td>\n",
       "      <td>L-10-21-45-NS</td>\n",
       "      <td>2017-04-11 08:06:16</td>\n",
       "      <td>2017-04-11 08:06:16</td>\n",
       "      <td>1</td>\n",
       "      <td>NaN</td>\n",
       "      <td>2017-04-11 08:05:02</td>\n",
       "      <td>2017-04-11 08:10:43.500000</td>\n",
       "    </tr>\n",
       "    <tr>\n",
       "      <th>4</th>\n",
       "      <td>BJFB62</td>\n",
       "      <td>507</td>\n",
       "      <td>1</td>\n",
       "      <td>T-10-455-SN-5</td>\n",
       "      <td>2017-04-11 08:15:11</td>\n",
       "      <td>2017-04-11 08:15:11</td>\n",
       "      <td>1</td>\n",
       "      <td>NaN</td>\n",
       "      <td>2017-04-11 08:10:43.500000</td>\n",
       "      <td>2017-04-11 08:15:46.500000</td>\n",
       "    </tr>\n",
       "  </tbody>\n",
       "</table>\n",
       "</div>"
      ],
      "text/plain": [
       "  sitio_subida servicio_subida  idExpedicion     par_subida  \\\n",
       "0       BJFB62             507             1   L-10-55-5-PO   \n",
       "1       BJFB62             507             1   L-10-82-5-PO   \n",
       "2       BJFB62             507             1  L-10-37-20-NS   \n",
       "3       BJFB62             507             1  L-10-21-45-NS   \n",
       "4       BJFB62             507             1  T-10-455-SN-5   \n",
       "\n",
       "         t_subida_min        t_subida_max  t_subida_count  \\\n",
       "0 2017-04-11 08:00:54 2017-04-11 08:00:54               1   \n",
       "1 2017-04-11 08:02:49 2017-04-11 08:02:49               1   \n",
       "2 2017-04-11 08:03:46 2017-04-11 08:03:48               2   \n",
       "3 2017-04-11 08:06:16 2017-04-11 08:06:16               1   \n",
       "4 2017-04-11 08:15:11 2017-04-11 08:15:11               1   \n",
       "\n",
       "   diferencia_tiempo_secs_mean                   start_cut  \\\n",
       "0                          NaN         2017-04-11 08:00:24   \n",
       "1                          NaN  2017-04-11 08:01:51.500000   \n",
       "2                          2.0  2017-04-11 08:03:17.500000   \n",
       "3                          NaN         2017-04-11 08:05:02   \n",
       "4                          NaN  2017-04-11 08:10:43.500000   \n",
       "\n",
       "                      end_cut  \n",
       "0  2017-04-11 08:01:51.500000  \n",
       "1  2017-04-11 08:03:17.500000  \n",
       "2         2017-04-11 08:05:02  \n",
       "3  2017-04-11 08:10:43.500000  \n",
       "4  2017-04-11 08:15:46.500000  "
      ]
     },
     "execution_count": 19,
     "metadata": {},
     "output_type": "execute_result"
    }
   ],
   "source": [
    "grouped_clean_sorted_df.head()"
   ]
  },
  {
   "cell_type": "code",
   "execution_count": 20,
   "metadata": {},
   "outputs": [
    {
     "name": "stdout",
     "output_type": "stream",
     "text": [
      "The number of rows in the grouped_clean_sorted_df is: 3996 rows.\n"
     ]
    }
   ],
   "source": [
    "print('The number of rows in the grouped_clean_sorted_df is: ' + str(len(grouped_clean_sorted_df.index)) + ' rows.')"
   ]
  },
  {
   "cell_type": "markdown",
   "metadata": {},
   "source": [
    "* Finally, slicing evasion database and appending util information about boardings and not paying users to grouped_clean_sorted_df"
   ]
  },
  {
   "cell_type": "code",
   "execution_count": 21,
   "metadata": {
    "collapsed": true
   },
   "outputs": [],
   "source": [
    "for index,row in grouped_clean_sorted_df.iterrows():\n",
    "    actual_plate = row['sitio_subida']\n",
    "    actual_service = row['servicio_subida']\n",
    "    start_cut = row['start_cut']\n",
    "    end_cut = row['end_cut']\n",
    "    \n",
    "    actual_util_df = example[(example['PATENTE']==actual_plate)&(example['SERVICIO']==actual_service)&(start_cut<=example['TIEMPO'])&(example['TIEMPO']<=end_cut)]\n",
    "    actual_util_df = actual_util_df[(actual_util_df['INGRESAN'] > actual_util_df['NO_VALIDAN'])] #Be aware of this condition\n",
    "    actual_ev_obs = len(actual_util_df.index)\n",
    "        \n",
    "    grouped_clean_sorted_df.loc[index,'EVASION_COUNT'] = actual_ev_obs\n",
    "    grouped_clean_sorted_df.loc[index,'TOTAL_INGRESAN'] = actual_util_df['INGRESAN'].sum()\n",
    "    grouped_clean_sorted_df.loc[index,'TOTAL_NO_VALIDAN'] = actual_util_df['NO_VALIDAN'].sum()\n",
    "#    grouped_clean_sorted_df.loc[index,'tiempo_ev'] = actual_util_df['TIEMPO']"
   ]
  },
  {
   "cell_type": "code",
   "execution_count": 22,
   "metadata": {},
   "outputs": [
    {
     "name": "stdout",
     "output_type": "stream",
     "text": [
      "The number of rows in the grouped_clean_sorted_df is: 3996 rows.\n"
     ]
    }
   ],
   "source": [
    "print('The number of rows in the grouped_clean_sorted_df is: ' + str(len(grouped_clean_sorted_df.index)) + ' rows.')"
   ]
  },
  {
   "cell_type": "markdown",
   "metadata": {},
   "source": [
    "* Re-appending 'fecha_instalacion' attribute since groupby operation deleted it"
   ]
  },
  {
   "cell_type": "code",
   "execution_count": 23,
   "metadata": {
    "collapsed": true
   },
   "outputs": [],
   "source": [
    "torniquetesDataPath = TransantiagoConstants.busesTorniqueteDir + '/Avance_Consolidado_v2.xlsx'\n",
    "busesTorniquete_df = pd.read_excel(torniquetesDataPath)\n",
    "busesTorniquete_df.columns=['sitio_subida','fecha_instalacion']\n",
    "\n",
    "busesTorniquete_df['sitio_subida'] = busesTorniquete_df['sitio_subida'].str.replace(\"-\", \"\")\n",
    "busesTorniquete_df['sitio_subida'] = busesTorniquete_df['sitio_subida'].str.replace(\" \", \"\")"
   ]
  },
  {
   "cell_type": "code",
   "execution_count": 24,
   "metadata": {
    "collapsed": true
   },
   "outputs": [],
   "source": [
    "merged_grouped_clean_sorted_df = pd.merge(grouped_clean_sorted_df,busesTorniquete_df, on='sitio_subida', how='left')"
   ]
  },
  {
   "cell_type": "code",
   "execution_count": 25,
   "metadata": {},
   "outputs": [
    {
     "name": "stdout",
     "output_type": "stream",
     "text": [
      "The number of rows in the grouped_clean_sorted_df is: 3996 rows.\n"
     ]
    }
   ],
   "source": [
    "print('The number of rows in the grouped_clean_sorted_df is: ' + str(len(merged_grouped_clean_sorted_df.index)) + ' rows.')"
   ]
  },
  {
   "cell_type": "code",
   "execution_count": 26,
   "metadata": {
    "collapsed": true
   },
   "outputs": [],
   "source": [
    "merged_grouped_clean_sorted_df.loc[:,'SI_TORNIQUETE'] = (merged_grouped_clean_sorted_df.loc[:,'fecha_instalacion'].notnull())\n",
    "merged_grouped_clean_sorted_df.loc[:,'SI_2017_TORNIQUETE'] = (merged_grouped_clean_sorted_df.loc[:,'fecha_instalacion']>pd.to_datetime('2017-01-01'))"
   ]
  },
  {
   "cell_type": "markdown",
   "metadata": {},
   "source": [
    "### METHODOLOGY ENDS HERE"
   ]
  },
  {
   "cell_type": "markdown",
   "metadata": {},
   "source": [
    "### A quick analysis"
   ]
  },
  {
   "cell_type": "code",
   "execution_count": 27,
   "metadata": {
    "collapsed": true
   },
   "outputs": [],
   "source": [
    "%matplotlib inline\n",
    "import matplotlib\n",
    "import matplotlib.pyplot as plt"
   ]
  },
  {
   "cell_type": "code",
   "execution_count": 28,
   "metadata": {},
   "outputs": [
    {
     "data": {
      "text/html": [
       "<div>\n",
       "<style>\n",
       "    .dataframe thead tr:only-child th {\n",
       "        text-align: right;\n",
       "    }\n",
       "\n",
       "    .dataframe thead th {\n",
       "        text-align: left;\n",
       "    }\n",
       "\n",
       "    .dataframe tbody tr th {\n",
       "        vertical-align: top;\n",
       "    }\n",
       "</style>\n",
       "<table border=\"1\" class=\"dataframe\">\n",
       "  <thead>\n",
       "    <tr style=\"text-align: right;\">\n",
       "      <th></th>\n",
       "      <th>sitio_subida</th>\n",
       "      <th>servicio_subida</th>\n",
       "      <th>idExpedicion</th>\n",
       "      <th>par_subida</th>\n",
       "      <th>t_subida_min</th>\n",
       "      <th>t_subida_max</th>\n",
       "      <th>t_subida_count</th>\n",
       "      <th>diferencia_tiempo_secs_mean</th>\n",
       "      <th>start_cut</th>\n",
       "      <th>end_cut</th>\n",
       "      <th>EVASION_COUNT</th>\n",
       "      <th>TOTAL_INGRESAN</th>\n",
       "      <th>TOTAL_NO_VALIDAN</th>\n",
       "      <th>fecha_instalacion</th>\n",
       "      <th>SI_TORNIQUETE</th>\n",
       "      <th>SI_2017_TORNIQUETE</th>\n",
       "    </tr>\n",
       "  </thead>\n",
       "  <tbody>\n",
       "    <tr>\n",
       "      <th>0</th>\n",
       "      <td>BJFB62</td>\n",
       "      <td>507</td>\n",
       "      <td>1</td>\n",
       "      <td>L-10-55-5-PO</td>\n",
       "      <td>2017-04-11 08:00:54</td>\n",
       "      <td>2017-04-11 08:00:54</td>\n",
       "      <td>1</td>\n",
       "      <td>NaN</td>\n",
       "      <td>2017-04-11 08:00:24</td>\n",
       "      <td>2017-04-11 08:01:51.500000</td>\n",
       "      <td>0.0</td>\n",
       "      <td>0.0</td>\n",
       "      <td>0.0</td>\n",
       "      <td>NaT</td>\n",
       "      <td>False</td>\n",
       "      <td>False</td>\n",
       "    </tr>\n",
       "    <tr>\n",
       "      <th>1</th>\n",
       "      <td>BJFB62</td>\n",
       "      <td>507</td>\n",
       "      <td>1</td>\n",
       "      <td>L-10-82-5-PO</td>\n",
       "      <td>2017-04-11 08:02:49</td>\n",
       "      <td>2017-04-11 08:02:49</td>\n",
       "      <td>1</td>\n",
       "      <td>NaN</td>\n",
       "      <td>2017-04-11 08:01:51.500000</td>\n",
       "      <td>2017-04-11 08:03:17.500000</td>\n",
       "      <td>0.0</td>\n",
       "      <td>0.0</td>\n",
       "      <td>0.0</td>\n",
       "      <td>NaT</td>\n",
       "      <td>False</td>\n",
       "      <td>False</td>\n",
       "    </tr>\n",
       "    <tr>\n",
       "      <th>2</th>\n",
       "      <td>BJFB62</td>\n",
       "      <td>507</td>\n",
       "      <td>1</td>\n",
       "      <td>L-10-37-20-NS</td>\n",
       "      <td>2017-04-11 08:03:46</td>\n",
       "      <td>2017-04-11 08:03:48</td>\n",
       "      <td>2</td>\n",
       "      <td>2.0</td>\n",
       "      <td>2017-04-11 08:03:17.500000</td>\n",
       "      <td>2017-04-11 08:05:02</td>\n",
       "      <td>0.0</td>\n",
       "      <td>0.0</td>\n",
       "      <td>0.0</td>\n",
       "      <td>NaT</td>\n",
       "      <td>False</td>\n",
       "      <td>False</td>\n",
       "    </tr>\n",
       "    <tr>\n",
       "      <th>3</th>\n",
       "      <td>BJFB62</td>\n",
       "      <td>507</td>\n",
       "      <td>1</td>\n",
       "      <td>L-10-21-45-NS</td>\n",
       "      <td>2017-04-11 08:06:16</td>\n",
       "      <td>2017-04-11 08:06:16</td>\n",
       "      <td>1</td>\n",
       "      <td>NaN</td>\n",
       "      <td>2017-04-11 08:05:02</td>\n",
       "      <td>2017-04-11 08:10:43.500000</td>\n",
       "      <td>0.0</td>\n",
       "      <td>0.0</td>\n",
       "      <td>0.0</td>\n",
       "      <td>NaT</td>\n",
       "      <td>False</td>\n",
       "      <td>False</td>\n",
       "    </tr>\n",
       "    <tr>\n",
       "      <th>4</th>\n",
       "      <td>BJFB62</td>\n",
       "      <td>507</td>\n",
       "      <td>1</td>\n",
       "      <td>T-10-455-SN-5</td>\n",
       "      <td>2017-04-11 08:15:11</td>\n",
       "      <td>2017-04-11 08:15:11</td>\n",
       "      <td>1</td>\n",
       "      <td>NaN</td>\n",
       "      <td>2017-04-11 08:10:43.500000</td>\n",
       "      <td>2017-04-11 08:15:46.500000</td>\n",
       "      <td>0.0</td>\n",
       "      <td>0.0</td>\n",
       "      <td>0.0</td>\n",
       "      <td>NaT</td>\n",
       "      <td>False</td>\n",
       "      <td>False</td>\n",
       "    </tr>\n",
       "  </tbody>\n",
       "</table>\n",
       "</div>"
      ],
      "text/plain": [
       "  sitio_subida servicio_subida  idExpedicion     par_subida  \\\n",
       "0       BJFB62             507             1   L-10-55-5-PO   \n",
       "1       BJFB62             507             1   L-10-82-5-PO   \n",
       "2       BJFB62             507             1  L-10-37-20-NS   \n",
       "3       BJFB62             507             1  L-10-21-45-NS   \n",
       "4       BJFB62             507             1  T-10-455-SN-5   \n",
       "\n",
       "         t_subida_min        t_subida_max  t_subida_count  \\\n",
       "0 2017-04-11 08:00:54 2017-04-11 08:00:54               1   \n",
       "1 2017-04-11 08:02:49 2017-04-11 08:02:49               1   \n",
       "2 2017-04-11 08:03:46 2017-04-11 08:03:48               2   \n",
       "3 2017-04-11 08:06:16 2017-04-11 08:06:16               1   \n",
       "4 2017-04-11 08:15:11 2017-04-11 08:15:11               1   \n",
       "\n",
       "   diferencia_tiempo_secs_mean                   start_cut  \\\n",
       "0                          NaN         2017-04-11 08:00:24   \n",
       "1                          NaN  2017-04-11 08:01:51.500000   \n",
       "2                          2.0  2017-04-11 08:03:17.500000   \n",
       "3                          NaN         2017-04-11 08:05:02   \n",
       "4                          NaN  2017-04-11 08:10:43.500000   \n",
       "\n",
       "                      end_cut  EVASION_COUNT  TOTAL_INGRESAN  \\\n",
       "0  2017-04-11 08:01:51.500000            0.0             0.0   \n",
       "1  2017-04-11 08:03:17.500000            0.0             0.0   \n",
       "2         2017-04-11 08:05:02            0.0             0.0   \n",
       "3  2017-04-11 08:10:43.500000            0.0             0.0   \n",
       "4  2017-04-11 08:15:46.500000            0.0             0.0   \n",
       "\n",
       "   TOTAL_NO_VALIDAN fecha_instalacion  SI_TORNIQUETE  SI_2017_TORNIQUETE  \n",
       "0               0.0               NaT          False               False  \n",
       "1               0.0               NaT          False               False  \n",
       "2               0.0               NaT          False               False  \n",
       "3               0.0               NaT          False               False  \n",
       "4               0.0               NaT          False               False  "
      ]
     },
     "execution_count": 28,
     "metadata": {},
     "output_type": "execute_result"
    }
   ],
   "source": [
    "merged_grouped_clean_sorted_df.head()"
   ]
  },
  {
   "cell_type": "code",
   "execution_count": 29,
   "metadata": {
    "collapsed": true
   },
   "outputs": [],
   "source": [
    "merged_grouped_clean_sorted_df.loc[:,'EVASION_RATE'] = merged_grouped_clean_sorted_df.loc[:,'TOTAL_NO_VALIDAN']/merged_grouped_clean_sorted_df.loc[:,'TOTAL_INGRESAN']"
   ]
  },
  {
   "cell_type": "code",
   "execution_count": 30,
   "metadata": {
    "collapsed": true
   },
   "outputs": [],
   "source": [
    "test = merged_grouped_clean_sorted_df[merged_grouped_clean_sorted_df['diferencia_tiempo_secs_mean'].notnull()]\n",
    "test_2 = test[test['EVASION_COUNT']>0]"
   ]
  },
  {
   "cell_type": "code",
   "execution_count": 31,
   "metadata": {
    "collapsed": true
   },
   "outputs": [],
   "source": [
    "test_2_no_turns = test_2[(test_2['SI_TORNIQUETE']==False)|((test_2['SI_TORNIQUETE']==True) & (test_2['t_subida_max']<=test_2['fecha_instalacion']))]"
   ]
  },
  {
   "cell_type": "markdown",
   "metadata": {},
   "source": [
    "* Counting and plotting"
   ]
  },
  {
   "cell_type": "code",
   "execution_count": 32,
   "metadata": {},
   "outputs": [
    {
     "name": "stdout",
     "output_type": "stream",
     "text": [
      "The number of rows in the test dataframe is: 2019 rows.\n",
      "The number of rows in the test_2 dataframe is: 278 rows.\n",
      "The number of rows in the test_2_no_turns dataframe is: 247 rows.\n"
     ]
    }
   ],
   "source": [
    "print('The number of rows in the test dataframe is: ' + str(len(test.index)) + ' rows.')\n",
    "print('The number of rows in the test_2 dataframe is: ' + str(len(test_2.index)) + ' rows.')\n",
    "print('The number of rows in the test_2_no_turns dataframe is: ' + str(len(test_2_no_turns.index)) + ' rows.')"
   ]
  },
  {
   "cell_type": "code",
   "execution_count": 33,
   "metadata": {},
   "outputs": [
    {
     "data": {
      "text/plain": [
       "<matplotlib.text.Text at 0x26ce05d3ba8>"
      ]
     },
     "execution_count": 33,
     "metadata": {},
     "output_type": "execute_result"
    },
    {
     "data": {
      "image/png": "[encoded data removed]",
      "text/plain": [
       "<matplotlib.figure.Figure at 0x26ce05e9358>"
      ]
     },
     "metadata": {},
     "output_type": "display_data"
    }
   ],
   "source": [
    "fig_1, ax_1 = plt.subplots()\n",
    "\n",
    "ax_1.scatter(test_2_no_turns['diferencia_tiempo_secs_mean'],test_2_no_turns['EVASION_RATE'])\n",
    "ax_1.set_title('Evasion vs. Mean Time - No Turns, By Bus-Service-Stop, Original')\n",
    "ax_1.set_xlabel('Mean Time Interval [s]')\n",
    "ax_1.set_ylabel('Evasion Rate [%]')"
   ]
  },
  {
   "cell_type": "markdown",
   "metadata": {},
   "source": [
    "### End prototype"
   ]
  },
  {
   "cell_type": "markdown",
   "metadata": {},
   "source": [
    "* Deleting things just-in-case"
   ]
  },
  {
   "cell_type": "code",
   "execution_count": 34,
   "metadata": {
    "collapsed": true
   },
   "outputs": [],
   "source": [
    "del processed_evasion"
   ]
  },
  {
   "cell_type": "markdown",
   "metadata": {},
   "source": [
    "### Begin MatchingUsers.py"
   ]
  },
  {
   "cell_type": "code",
   "execution_count": 35,
   "metadata": {},
   "outputs": [
    {
     "name": "stdout",
     "output_type": "stream",
     "text": [
      "Original number of rows in complete evasion database is: 97373\n",
      "Number of duplicated rows in complete evasion database is: 6192\n",
      "Number of collapsed-duplicated rows in complete evasion database is: 3090\n",
      "Number of rows in complete evasion database without duplicated rows at all is: 91181\n",
      "Final number of rows in complete evasion database with collapsed duplicated rows is: 94271\n"
     ]
    },
    {
     "name": "stderr",
     "output_type": "stream",
     "text": [
      "C:\\Users\\leoca_000\\Anaconda3\\lib\\site-packages\\pandas\\core\\indexing.py:337: SettingWithCopyWarning: \n",
      "A value is trying to be set on a copy of a slice from a DataFrame.\n",
      "Try using .loc[row_indexer,col_indexer] = value instead\n",
      "\n",
      "See the caveats in the documentation: http://pandas.pydata.org/pandas-docs/stable/indexing.html#indexing-view-versus-copy\n",
      "  self.obj[key] = _infer_fill_value(value)\n",
      "C:\\Users\\leoca_000\\Anaconda3\\lib\\site-packages\\pandas\\core\\indexing.py:517: SettingWithCopyWarning: \n",
      "A value is trying to be set on a copy of a slice from a DataFrame.\n",
      "Try using .loc[row_indexer,col_indexer] = value instead\n",
      "\n",
      "See the caveats in the documentation: http://pandas.pydata.org/pandas-docs/stable/indexing.html#indexing-view-versus-copy\n",
      "  self.obj[item] = s\n"
     ]
    },
    {
     "name": "stdout",
     "output_type": "stream",
     "text": [
      "The only non-matched user_code services are: \n",
      "D06\n"
     ]
    }
   ],
   "source": [
    "processed_evasion = EvasionBuilder.runCompleteProcess()"
   ]
  },
  {
   "cell_type": "code",
   "execution_count": 36,
   "metadata": {},
   "outputs": [
    {
     "name": "stdout",
     "output_type": "stream",
     "text": [
      "<class 'str'>\n"
     ]
    }
   ],
   "source": [
    "evasion_paradero = processed_evasion[processed_evasion['TP']=='P']\n",
    "evasion_paradero_first = evasion_paradero[evasion_paradero['N_PUERTA']==1]\n",
    "print(type(processed_evasion['SERVICIO'][0])) #should be a string"
   ]
  },
  {
   "cell_type": "code",
   "execution_count": 37,
   "metadata": {},
   "outputs": [
    {
     "name": "stdout",
     "output_type": "stream",
     "text": [
      "The number of rows in the common_dates evasion database is: 14632 rows.\n"
     ]
    }
   ],
   "source": [
    "common_dates = TransantiagoConstants.common_dates\n",
    "common_dates_timestamp = [pd.to_datetime(x) for x in common_dates]\n",
    "common_dates_evasion = evasion_paradero_first[evasion_paradero_first['FECHA'].isin(common_dates_timestamp)]\n",
    "print('The number of rows in the common_dates evasion database is: ' + str(len(common_dates_evasion.index)) + ' rows.') #Remember to store the number."
   ]
  },
  {
   "cell_type": "markdown",
   "metadata": {},
   "source": [
    "* Building Etapas DataBase via <strong>RunSilentlyDailyEtapasBuilder</strong> and matching users via <strong>MatchingUsers</strong>"
   ]
  },
  {
   "cell_type": "code",
   "execution_count": 38,
   "metadata": {
    "collapsed": true
   },
   "outputs": [],
   "source": [
    "common_dates = ['2017-04-11']"
   ]
  },
  {
   "cell_type": "code",
   "execution_count": 39,
   "metadata": {
    "collapsed": true
   },
   "outputs": [],
   "source": [
    "from RunSilentlyDailyEtapasBuilder import RunSilentlyDailyEtapasBuilderClass"
   ]
  },
  {
   "cell_type": "code",
   "execution_count": 40,
   "metadata": {
    "collapsed": true
   },
   "outputs": [],
   "source": [
    "import MatchingUsers"
   ]
  },
  {
   "cell_type": "code",
   "execution_count": 41,
   "metadata": {},
   "outputs": [
    {
     "name": "stdout",
     "output_type": "stream",
     "text": [
      "Not found in turnstile database: 1829611\n",
      "The number of rows in the original etapas database is: 2598131 rows.\n",
      "The number of rows in the filtered (by special cases) etapas database is: 2533387 rows.\n"
     ]
    }
   ],
   "source": [
    "summary_evasion_vs_mean = pd.DataFrame()\n",
    "\n",
    "for date in common_dates:    \n",
    "    etapas_builder = RunSilentlyDailyEtapasBuilderClass(date) #Critical.\n",
    "    processed_sorted_df = etapas_builder.runProcessedProcess()    \n",
    "    processed_sorted_df['sitio_subida'] = processed_sorted_df['sitio_subida'].str.replace(\"-\", \"\")\n",
    "    processed_sorted_df['sitio_subida'] = processed_sorted_df['sitio_subida'].str.replace(\" \", \"\")\n",
    "    \n",
    "    processed_sorted_df['servicio_subida'] =  processed_sorted_df['servicio_subida'].str.replace('T','')\n",
    "    processed_sorted_df['servicio_subida'] =  processed_sorted_df['servicio_subida'].str.split(' ').str[0]\n",
    "    \n",
    "    print('The number of rows in the original etapas database is: ' + str(len(processed_sorted_df.index)) + ' rows.' )\n",
    "    #Filtering special cases.\n",
    "    filtered_processed_sorted_df = processed_sorted_df[(processed_sorted_df['diferencia_tiempo_secs']<=20)|(processed_sorted_df['diferencia_tiempo_secs'].isnull())]\n",
    "    print('The number of rows in the filtered (by special cases) etapas database is: '  + str(len(filtered_processed_sorted_df.index)) + ' rows.' )\n",
    "    \n",
    "    [evasion_by_date, patentes_by_date, servicios_by_date] = MatchingUsers.simplifyingEvasion(common_dates_evasion,date) #Getting patentes and servicios surveyed in date...\n",
    "    \n",
    "    clean_sorted_df = filtered_processed_sorted_df[(filtered_processed_sorted_df['sitio_subida'].isin(patentes_by_date))&(filtered_processed_sorted_df['servicio_subida'].isin(servicios_by_date))] #Filtering...\n",
    "    clean_sorted_df = clean_sorted_df.reset_index(drop=True)\n",
    "\n",
    "    clean_sorted_df_1 = MatchingUsers.appendingIdExpedicion(clean_sorted_df,'15 minutes') #Appending (ad-hoc) id expedicion.\n",
    "    grouped_clean_sorted_df_1 = MatchingUsers.groupByEtapasDatabase(clean_sorted_df_1) #Grouping by 'sitio_subida','servicio_subida','idExpedicion','par_subida'\n",
    "    grouped_clean_sorted_df_2 = MatchingUsers.appendingStartEndCuts(grouped_clean_sorted_df_1) #Computing start and end cuts.\n",
    "    grouped_clean_sorted_df_3 = MatchingUsers.slicingEvasionDatabase(grouped_clean_sorted_df_2,evasion_by_date) #This is the final ddbb with full info.\n",
    "    grouped_clean_sorted_df_4 = MatchingUsers.reMergeTurnstileData(grouped_clean_sorted_df_3)\n",
    "    summary_evasion_vs_mean = pd.concat([summary_evasion_vs_mean,grouped_clean_sorted_df_4]) "
   ]
  },
  {
   "cell_type": "markdown",
   "metadata": {},
   "source": [
    "* Checking for number of rows, <font color='green'> Passed </font>"
   ]
  },
  {
   "cell_type": "code",
   "execution_count": 42,
   "metadata": {},
   "outputs": [
    {
     "name": "stdout",
     "output_type": "stream",
     "text": [
      "The number of rows in the grouped_clean_sorted_df_1: 3996 rows.\n",
      "The number of rows in the grouped_clean_sorted_df_2: 3996 rows.\n",
      "The number of rows in the grouped_clean_sorted_df_3: 3996 rows.\n",
      "The number of rows in the grouped_clean_sorted_df_4: 3996 rows.\n",
      "The number of rows in the summary_evasion_vs_mean: 3996 rows.\n"
     ]
    }
   ],
   "source": [
    "print('The number of rows in the grouped_clean_sorted_df_1: '  + str(len(grouped_clean_sorted_df_1.index)) + ' rows.' )\n",
    "print('The number of rows in the grouped_clean_sorted_df_2: '  + str(len(grouped_clean_sorted_df_2.index)) + ' rows.' )\n",
    "print('The number of rows in the grouped_clean_sorted_df_3: '  + str(len(grouped_clean_sorted_df_3.index)) + ' rows.' )\n",
    "print('The number of rows in the grouped_clean_sorted_df_4: '  + str(len(grouped_clean_sorted_df_4.index)) + ' rows.' )\n",
    "print('The number of rows in the summary_evasion_vs_mean: '  + str(len(summary_evasion_vs_mean.index)) + ' rows.' )"
   ]
  },
  {
   "cell_type": "markdown",
   "metadata": {},
   "source": [
    "* Plotting and checking, <font color='green'>Passed</font>"
   ]
  },
  {
   "cell_type": "code",
   "execution_count": 43,
   "metadata": {
    "collapsed": true
   },
   "outputs": [],
   "source": [
    "summary_evasion_vs_mean.loc[:,'EVASION_RATE'] = summary_evasion_vs_mean.loc[:,'TOTAL_NO_VALIDAN']/summary_evasion_vs_mean.loc[:,'TOTAL_INGRESAN']\n",
    "test = summary_evasion_vs_mean[summary_evasion_vs_mean['diferencia_tiempo_secs_mean'].notnull()]\n",
    "test_2 = test[test['EVASION_COUNT']>0]\n",
    "test_2_no_turns = test_2[(test_2['SI_TORNIQUETE']==False)|((test_2['SI_TORNIQUETE']==True) & (test_2['t_subida_max']<=test_2['fecha_instalacion']))]"
   ]
  },
  {
   "cell_type": "code",
   "execution_count": 44,
   "metadata": {},
   "outputs": [
    {
     "name": "stdout",
     "output_type": "stream",
     "text": [
      "The number of rows in the test dataframe is: 2019 rows.\n",
      "The number of rows in the test_2 dataframe is: 278 rows.\n",
      "The number of rows in the test_2_no_turns dataframe is: 247 rows.\n"
     ]
    }
   ],
   "source": [
    "print('The number of rows in the test dataframe is: ' + str(len(test.index)) + ' rows.')\n",
    "print('The number of rows in the test_2 dataframe is: ' + str(len(test_2.index)) + ' rows.')\n",
    "print('The number of rows in the test_2_no_turns dataframe is: ' + str(len(test_2_no_turns.index)) + ' rows.')"
   ]
  },
  {
   "cell_type": "code",
   "execution_count": 45,
   "metadata": {},
   "outputs": [
    {
     "data": {
      "text/plain": [
       "<matplotlib.text.Text at 0x26cdf719630>"
      ]
     },
     "execution_count": 45,
     "metadata": {},
     "output_type": "execute_result"
    },
    {
     "data": {
      "image/png": "[encoded data removed]",
      "text/plain": [
       "<matplotlib.figure.Figure at 0x26cddbadbe0>"
      ]
     },
     "metadata": {},
     "output_type": "display_data"
    }
   ],
   "source": [
    "fig_2, ax_2 = plt.subplots()\n",
    "\n",
    "ax_2.scatter(test_2_no_turns['diferencia_tiempo_secs_mean'],test_2_no_turns['EVASION_RATE'])\n",
    "ax_2.set_title('Evasion vs. Mean Time - No Turns, By Bus-Service-Stop, Original')\n",
    "ax_2.set_xlabel('Mean Time Interval [s]')\n",
    "ax_2.set_ylabel('Evasion Rate [%]')"
   ]
  },
  {
   "cell_type": "markdown",
   "metadata": {},
   "source": [
    "### THIS TEST IS CLOSED. MatchingUsers.py <font color='green'>works</font>. Do not try to test MatchingUsers.py with different time_delta in In[41], line 22"
   ]
  }
 ],
 "metadata": {
  "kernelspec": {
   "display_name": "Python 3",
   "language": "python",
   "name": "python3"
  },
  "language_info": {
   "codemirror_mode": {
    "name": "ipython",
    "version": 3
   },
   "file_extension": ".py",
   "mimetype": "text/x-python",
   "name": "python",
   "nbconvert_exporter": "python",
   "pygments_lexer": "ipython3",
   "version": "3.6.1"
  }
 },
 "nbformat": 4,
 "nbformat_minor": 2
}
