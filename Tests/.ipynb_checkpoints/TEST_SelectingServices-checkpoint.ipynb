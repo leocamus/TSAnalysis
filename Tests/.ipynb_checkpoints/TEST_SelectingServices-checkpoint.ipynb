{
 "cells": [
  {
   "cell_type": "markdown",
   "metadata": {},
   "source": [
    "### Analyzing perfiles database"
   ]
  },
  {
   "cell_type": "code",
   "execution_count": 1,
   "metadata": {
    "collapsed": true
   },
   "outputs": [],
   "source": [
    "import os\n",
    "import sys\n",
    "module_path = os.path.abspath(os.path.join('..'))\n",
    "if module_path not in sys.path:\n",
    "    sys.path.append(module_path)"
   ]
  },
  {
   "cell_type": "code",
   "execution_count": 2,
   "metadata": {},
   "outputs": [
    {
     "data": {
      "text/html": [
       "<style>.container { width:80% !important; }</style>"
      ],
      "text/plain": [
       "<IPython.core.display.HTML object>"
      ]
     },
     "metadata": {},
     "output_type": "display_data"
    }
   ],
   "source": [
    "%matplotlib inline\n",
    "from IPython.core.display import display, HTML\n",
    "display(HTML(\"<style>.container { width:80% !important; }</style>\"))\n",
    "\n",
    "import pandas as pd\n",
    "import matplotlib\n",
    "import matplotlib.pyplot as plt\n",
    "import matplotlib.dates as mdates\n",
    "import numpy as np\n",
    "import datetime as dt\n",
    "import time\n",
    "import re\n",
    "\n",
    "from Utils import TransantiagoConstants"
   ]
  },
  {
   "cell_type": "code",
   "execution_count": 3,
   "metadata": {
    "collapsed": true
   },
   "outputs": [],
   "source": [
    "import DailyPerfilesBuilder"
   ]
  },
  {
   "cell_type": "markdown",
   "metadata": {},
   "source": [
    "#### Analyzing 2017-07-12"
   ]
  },
  {
   "cell_type": "code",
   "execution_count": 4,
   "metadata": {
    "collapsed": true
   },
   "outputs": [],
   "source": [
    "date = '2017-07-12' #Wednesday"
   ]
  },
  {
   "cell_type": "code",
   "execution_count": 5,
   "metadata": {
    "collapsed": true
   },
   "outputs": [],
   "source": [
    "perfiles_builder = DailyPerfilesBuilder.RunSilentlyDailyPerfilesBuilderClass(date)"
   ]
  },
  {
   "cell_type": "code",
   "execution_count": 6,
   "metadata": {
    "collapsed": true
   },
   "outputs": [],
   "source": [
    "#perfiles_builder.runSimplifyPerfiles()"
   ]
  },
  {
   "cell_type": "code",
   "execution_count": 7,
   "metadata": {},
   "outputs": [
    {
     "name": "stdout",
     "output_type": "stream",
     "text": [
      "Not found in BOTH turnstile databases: 37392\n"
     ]
    }
   ],
   "source": [
    "perfiles_builder.loadSimplifiedPerfiles()\n",
    "perfiles_builder.dropParaderos()\n",
    "perfiles_builder.mergeTurnstileDatabase()\n",
    "perfiles_df = perfiles_builder.perfiles_df\n",
    "\n",
    "perfiles_builder.groupByTurnstilePresence()\n",
    "#perfiles_builder.appendUnidadNegocio()\n",
    "grouped_perfiles = perfiles_builder.grouped_data"
   ]
  },
  {
   "cell_type": "code",
   "execution_count": 8,
   "metadata": {},
   "outputs": [
    {
     "data": {
      "text/html": [
       "<div>\n",
       "<style>\n",
       "    .dataframe thead tr:only-child th {\n",
       "        text-align: right;\n",
       "    }\n",
       "\n",
       "    .dataframe thead th {\n",
       "        text-align: left;\n",
       "    }\n",
       "\n",
       "    .dataframe tbody tr th {\n",
       "        vertical-align: top;\n",
       "    }\n",
       "</style>\n",
       "<table border=\"1\" class=\"dataframe\">\n",
       "  <thead>\n",
       "    <tr style=\"text-align: right;\">\n",
       "      <th></th>\n",
       "      <th>ServicioSentido</th>\n",
       "      <th>Patente</th>\n",
       "      <th>Paradero</th>\n",
       "      <th>Hini</th>\n",
       "      <th>Hfin</th>\n",
       "      <th>idExpedicion</th>\n",
       "      <th>DistEnRuta</th>\n",
       "      <th>UN</th>\n",
       "      <th>fecha_instalacion_ana</th>\n",
       "      <th>fecha_instalacion_mauricio</th>\n",
       "      <th>min_fecha</th>\n",
       "      <th>torniquete_mariposa</th>\n",
       "      <th>no_torniquete</th>\n",
       "    </tr>\n",
       "  </thead>\n",
       "  <tbody>\n",
       "    <tr>\n",
       "      <th>0</th>\n",
       "      <td>T118 00I</td>\n",
       "      <td>FLXH-56</td>\n",
       "      <td>T-13-369-PO-5</td>\n",
       "      <td>2017-07-12 00:03:36</td>\n",
       "      <td>2017-07-12 00:18:32</td>\n",
       "      <td>0</td>\n",
       "      <td>120</td>\n",
       "      <td>NaN</td>\n",
       "      <td>NaT</td>\n",
       "      <td>NaT</td>\n",
       "      <td>NaT</td>\n",
       "      <td>0</td>\n",
       "      <td>1</td>\n",
       "    </tr>\n",
       "    <tr>\n",
       "      <th>1</th>\n",
       "      <td>T118 00I</td>\n",
       "      <td>ZN-5402</td>\n",
       "      <td>T-13-369-PO-5</td>\n",
       "      <td>2017-07-12 05:33:07</td>\n",
       "      <td>2017-07-12 06:32:37</td>\n",
       "      <td>1</td>\n",
       "      <td>120</td>\n",
       "      <td>NaN</td>\n",
       "      <td>NaT</td>\n",
       "      <td>NaT</td>\n",
       "      <td>NaT</td>\n",
       "      <td>0</td>\n",
       "      <td>1</td>\n",
       "    </tr>\n",
       "    <tr>\n",
       "      <th>2</th>\n",
       "      <td>T118 00I</td>\n",
       "      <td>ZN-6487</td>\n",
       "      <td>T-13-369-PO-5</td>\n",
       "      <td>2017-07-12 05:33:09</td>\n",
       "      <td>2017-07-12 06:31:09</td>\n",
       "      <td>2</td>\n",
       "      <td>120</td>\n",
       "      <td>NaN</td>\n",
       "      <td>NaT</td>\n",
       "      <td>NaT</td>\n",
       "      <td>NaT</td>\n",
       "      <td>0</td>\n",
       "      <td>1</td>\n",
       "    </tr>\n",
       "    <tr>\n",
       "      <th>3</th>\n",
       "      <td>T118 00I</td>\n",
       "      <td>ZB-6849</td>\n",
       "      <td>T-13-369-PO-5</td>\n",
       "      <td>2017-07-12 05:40:28</td>\n",
       "      <td>2017-07-12 06:47:58</td>\n",
       "      <td>3</td>\n",
       "      <td>120</td>\n",
       "      <td>U1</td>\n",
       "      <td>2017-06-07</td>\n",
       "      <td>2017-06-07</td>\n",
       "      <td>2017-06-07</td>\n",
       "      <td>1</td>\n",
       "      <td>0</td>\n",
       "    </tr>\n",
       "    <tr>\n",
       "      <th>4</th>\n",
       "      <td>T118 00I</td>\n",
       "      <td>ZN-5439</td>\n",
       "      <td>T-13-369-PO-5</td>\n",
       "      <td>2017-07-12 05:57:39</td>\n",
       "      <td>2017-07-12 06:53:09</td>\n",
       "      <td>4</td>\n",
       "      <td>120</td>\n",
       "      <td>NaN</td>\n",
       "      <td>NaT</td>\n",
       "      <td>NaT</td>\n",
       "      <td>NaT</td>\n",
       "      <td>0</td>\n",
       "      <td>1</td>\n",
       "    </tr>\n",
       "  </tbody>\n",
       "</table>\n",
       "</div>"
      ],
      "text/plain": [
       "  ServicioSentido  Patente       Paradero                Hini  \\\n",
       "0        T118 00I  FLXH-56  T-13-369-PO-5 2017-07-12 00:03:36   \n",
       "1        T118 00I  ZN-5402  T-13-369-PO-5 2017-07-12 05:33:07   \n",
       "2        T118 00I  ZN-6487  T-13-369-PO-5 2017-07-12 05:33:09   \n",
       "3        T118 00I  ZB-6849  T-13-369-PO-5 2017-07-12 05:40:28   \n",
       "4        T118 00I  ZN-5439  T-13-369-PO-5 2017-07-12 05:57:39   \n",
       "\n",
       "                 Hfin  idExpedicion  DistEnRuta   UN fecha_instalacion_ana  \\\n",
       "0 2017-07-12 00:18:32             0         120  NaN                   NaT   \n",
       "1 2017-07-12 06:32:37             1         120  NaN                   NaT   \n",
       "2 2017-07-12 06:31:09             2         120  NaN                   NaT   \n",
       "3 2017-07-12 06:47:58             3         120   U1            2017-06-07   \n",
       "4 2017-07-12 06:53:09             4         120  NaN                   NaT   \n",
       "\n",
       "  fecha_instalacion_mauricio  min_fecha  torniquete_mariposa  no_torniquete  \n",
       "0                        NaT        NaT                    0              1  \n",
       "1                        NaT        NaT                    0              1  \n",
       "2                        NaT        NaT                    0              1  \n",
       "3                 2017-06-07 2017-06-07                    1              0  \n",
       "4                        NaT        NaT                    0              1  "
      ]
     },
     "execution_count": 8,
     "metadata": {},
     "output_type": "execute_result"
    }
   ],
   "source": [
    "perfiles_df.head()"
   ]
  },
  {
   "cell_type": "code",
   "execution_count": 9,
   "metadata": {},
   "outputs": [
    {
     "data": {
      "text/html": [
       "<div>\n",
       "<style>\n",
       "    .dataframe thead tr:only-child th {\n",
       "        text-align: right;\n",
       "    }\n",
       "\n",
       "    .dataframe thead th {\n",
       "        text-align: left;\n",
       "    }\n",
       "\n",
       "    .dataframe tbody tr th {\n",
       "        vertical-align: top;\n",
       "    }\n",
       "</style>\n",
       "<table border=\"1\" class=\"dataframe\">\n",
       "  <thead>\n",
       "    <tr style=\"text-align: right;\">\n",
       "      <th></th>\n",
       "      <th>ServicioSentido</th>\n",
       "      <th>torniquete_mariposa_total</th>\n",
       "      <th>no_torniquete_total</th>\n",
       "      <th>TS_CODE</th>\n",
       "      <th>DIRECTION</th>\n",
       "      <th>UN</th>\n",
       "      <th>USER_CODE</th>\n",
       "    </tr>\n",
       "  </thead>\n",
       "  <tbody>\n",
       "    <tr>\n",
       "      <th>0</th>\n",
       "      <td>B01 00I</td>\n",
       "      <td>102</td>\n",
       "      <td>5</td>\n",
       "      <td>B01</td>\n",
       "      <td>Ida</td>\n",
       "      <td>6.0</td>\n",
       "      <td>B01</td>\n",
       "    </tr>\n",
       "    <tr>\n",
       "      <th>1</th>\n",
       "      <td>B01 00R</td>\n",
       "      <td>102</td>\n",
       "      <td>5</td>\n",
       "      <td>B01</td>\n",
       "      <td>Ret</td>\n",
       "      <td>6.0</td>\n",
       "      <td>B01</td>\n",
       "    </tr>\n",
       "    <tr>\n",
       "      <th>2</th>\n",
       "      <td>B02 00I</td>\n",
       "      <td>94</td>\n",
       "      <td>6</td>\n",
       "      <td>B02</td>\n",
       "      <td>Ida</td>\n",
       "      <td>6.0</td>\n",
       "      <td>B02</td>\n",
       "    </tr>\n",
       "    <tr>\n",
       "      <th>3</th>\n",
       "      <td>B02 00R</td>\n",
       "      <td>98</td>\n",
       "      <td>5</td>\n",
       "      <td>B02</td>\n",
       "      <td>Ret</td>\n",
       "      <td>6.0</td>\n",
       "      <td>B02</td>\n",
       "    </tr>\n",
       "    <tr>\n",
       "      <th>4</th>\n",
       "      <td>B02 C2 00I</td>\n",
       "      <td>11</td>\n",
       "      <td>0</td>\n",
       "      <td>B02</td>\n",
       "      <td>Ida</td>\n",
       "      <td>6.0</td>\n",
       "      <td>B02</td>\n",
       "    </tr>\n",
       "  </tbody>\n",
       "</table>\n",
       "</div>"
      ],
      "text/plain": [
       "  ServicioSentido  torniquete_mariposa_total  no_torniquete_total TS_CODE  \\\n",
       "0         B01 00I                        102                    5     B01   \n",
       "1         B01 00R                        102                    5     B01   \n",
       "2         B02 00I                         94                    6     B02   \n",
       "3         B02 00R                         98                    5     B02   \n",
       "4      B02 C2 00I                         11                    0     B02   \n",
       "\n",
       "  DIRECTION   UN USER_CODE  \n",
       "0       Ida  6.0       B01  \n",
       "1       Ret  6.0       B01  \n",
       "2       Ida  6.0       B02  \n",
       "3       Ret  6.0       B02  \n",
       "4       Ida  6.0       B02  "
      ]
     },
     "execution_count": 9,
     "metadata": {},
     "output_type": "execute_result"
    }
   ],
   "source": [
    "grouped_perfiles.head()"
   ]
  },
  {
   "cell_type": "code",
   "execution_count": 10,
   "metadata": {},
   "outputs": [
    {
     "name": "stdout",
     "output_type": "stream",
     "text": [
      "Number of expeditions with mariposa_turnstile: 15641\n"
     ]
    }
   ],
   "source": [
    "print('Number of expeditions with mariposa_turnstile: ' + str(sum(grouped_perfiles['torniquete_mariposa_total'])))"
   ]
  },
  {
   "cell_type": "code",
   "execution_count": 11,
   "metadata": {},
   "outputs": [
    {
     "name": "stdout",
     "output_type": "stream",
     "text": [
      "Number of expeditions with mariposa_turnstile: 47738\n"
     ]
    }
   ],
   "source": [
    "print('Number of expeditions without mariposa_turnstile: ' + str(sum(grouped_perfiles['no_torniquete_total'])))"
   ]
  },
  {
   "cell_type": "code",
   "execution_count": 36,
   "metadata": {},
   "outputs": [
    {
     "data": {
      "text/plain": [
       "987"
      ]
     },
     "execution_count": 36,
     "metadata": {},
     "output_type": "execute_result"
    }
   ],
   "source": [
    "len(grouped_perfiles.index)"
   ]
  },
  {
   "cell_type": "markdown",
   "metadata": {},
   "source": [
    "### Some tests about <strong> torniquete_mariposa </strong> column"
   ]
  },
  {
   "cell_type": "markdown",
   "metadata": {},
   "source": [
    "Hini <= fecha_instalacion_ana => torniquete_mariposa == 0 in all rows => <font color='green'> Passed </font>"
   ]
  },
  {
   "cell_type": "code",
   "execution_count": 12,
   "metadata": {},
   "outputs": [
    {
     "data": {
      "text/plain": [
       "array([0], dtype=int64)"
      ]
     },
     "execution_count": 12,
     "metadata": {},
     "output_type": "execute_result"
    }
   ],
   "source": [
    "perfiles_df.loc[perfiles_df['Hini'].dt.date<=perfiles_df['fecha_instalacion_ana'].dt.date,'torniquete_mariposa'].unique()"
   ]
  },
  {
   "cell_type": "markdown",
   "metadata": {},
   "source": [
    "Hini > fecha_instalacion_ana => torniquete_mariposa == 1 in all rows => <font color='green'> Passed </font>"
   ]
  },
  {
   "cell_type": "code",
   "execution_count": 13,
   "metadata": {},
   "outputs": [
    {
     "data": {
      "text/plain": [
       "array([1], dtype=int64)"
      ]
     },
     "execution_count": 13,
     "metadata": {},
     "output_type": "execute_result"
    }
   ],
   "source": [
    "perfiles_df.loc[perfiles_df['Hini'].dt.date>perfiles_df['fecha_instalacion_ana'].dt.date,'torniquete_mariposa'].unique()"
   ]
  },
  {
   "cell_type": "markdown",
   "metadata": {},
   "source": [
    "### Some tests about <strong> min_fecha </strong> column"
   ]
  },
  {
   "cell_type": "markdown",
   "metadata": {},
   "source": [
    "fecha_instalacion_ana == fecha_instalacion_mauricio => min_fecha == fecha_instalacion_ana == fecha_instalacion_mauricio <font color='green'> passed </font>"
   ]
  },
  {
   "cell_type": "code",
   "execution_count": 14,
   "metadata": {
    "collapsed": true
   },
   "outputs": [],
   "source": [
    "min_fecha_series = perfiles_df.loc[perfiles_df['fecha_instalacion_ana'].dt.date == perfiles_df['fecha_instalacion_mauricio'].dt.date, 'min_fecha'].dt.date"
   ]
  },
  {
   "cell_type": "code",
   "execution_count": 15,
   "metadata": {
    "collapsed": true
   },
   "outputs": [],
   "source": [
    "min_fecha_ana = perfiles_df.loc[perfiles_df['fecha_instalacion_ana'].dt.date == perfiles_df['fecha_instalacion_mauricio'].dt.date, 'fecha_instalacion_ana'].dt.date"
   ]
  },
  {
   "cell_type": "code",
   "execution_count": 16,
   "metadata": {
    "collapsed": true
   },
   "outputs": [],
   "source": [
    "min_fecha_mauricio = perfiles_df.loc[perfiles_df['fecha_instalacion_ana'].dt.date == perfiles_df['fecha_instalacion_mauricio'].dt.date, 'fecha_instalacion_mauricio'].dt.date"
   ]
  },
  {
   "cell_type": "code",
   "execution_count": 17,
   "metadata": {},
   "outputs": [
    {
     "data": {
      "text/plain": [
       "True"
      ]
     },
     "execution_count": 17,
     "metadata": {},
     "output_type": "execute_result"
    }
   ],
   "source": [
    "min_fecha_ana.equals(min_fecha_mauricio)"
   ]
  },
  {
   "cell_type": "code",
   "execution_count": 18,
   "metadata": {},
   "outputs": [
    {
     "data": {
      "text/plain": [
       "True"
      ]
     },
     "execution_count": 18,
     "metadata": {},
     "output_type": "execute_result"
    }
   ],
   "source": [
    "min_fecha_series.equals(min_fecha_ana)"
   ]
  },
  {
   "cell_type": "code",
   "execution_count": 19,
   "metadata": {
    "scrolled": true
   },
   "outputs": [
    {
     "data": {
      "text/plain": [
       "True"
      ]
     },
     "execution_count": 19,
     "metadata": {},
     "output_type": "execute_result"
    }
   ],
   "source": [
    "min_fecha_series.equals(min_fecha_mauricio)"
   ]
  },
  {
   "cell_type": "markdown",
   "metadata": {},
   "source": [
    "fecha_instalacion_ana == NaT and fecha_instalacion_mauricio != NaT => min_fecha == fecha_instalacion_mauricio <font color='green'> passed </font>"
   ]
  },
  {
   "cell_type": "code",
   "execution_count": 20,
   "metadata": {
    "collapsed": true
   },
   "outputs": [],
   "source": [
    "min_fecha_series = perfiles_df.loc[(perfiles_df['fecha_instalacion_ana'].isnull())&(~perfiles_df['fecha_instalacion_mauricio'].isnull()), 'min_fecha'].dt.date"
   ]
  },
  {
   "cell_type": "code",
   "execution_count": 21,
   "metadata": {
    "collapsed": true
   },
   "outputs": [],
   "source": [
    "min_fecha_ana = perfiles_df.loc[(perfiles_df['fecha_instalacion_ana'].isnull())&(~perfiles_df['fecha_instalacion_mauricio'].isnull()),'fecha_instalacion_ana'].dt.date"
   ]
  },
  {
   "cell_type": "code",
   "execution_count": 22,
   "metadata": {
    "collapsed": true
   },
   "outputs": [],
   "source": [
    "min_fecha_mauricio = perfiles_df.loc[(perfiles_df['fecha_instalacion_ana'].isnull())&(~perfiles_df['fecha_instalacion_mauricio'].isnull()),'fecha_instalacion_mauricio'].dt.date"
   ]
  },
  {
   "cell_type": "code",
   "execution_count": 23,
   "metadata": {},
   "outputs": [
    {
     "data": {
      "text/plain": [
       "False"
      ]
     },
     "execution_count": 23,
     "metadata": {},
     "output_type": "execute_result"
    }
   ],
   "source": [
    "min_fecha_series.equals(min_fecha_ana)"
   ]
  },
  {
   "cell_type": "code",
   "execution_count": 24,
   "metadata": {},
   "outputs": [
    {
     "data": {
      "text/plain": [
       "True"
      ]
     },
     "execution_count": 24,
     "metadata": {},
     "output_type": "execute_result"
    }
   ],
   "source": [
    "min_fecha_series.equals(min_fecha_mauricio)"
   ]
  },
  {
   "cell_type": "markdown",
   "metadata": {},
   "source": [
    "fecha_instalacion_ana != NaT and fecha_instalacion_mauricio == NaT => min_fecha == fecha_instalacion_ana <font color='green'> passed </font>"
   ]
  },
  {
   "cell_type": "code",
   "execution_count": 25,
   "metadata": {
    "collapsed": true
   },
   "outputs": [],
   "source": [
    "min_fecha_series = perfiles_df.loc[(~perfiles_df['fecha_instalacion_ana'].isnull())&(perfiles_df['fecha_instalacion_mauricio'].isnull()), 'min_fecha'].dt.date"
   ]
  },
  {
   "cell_type": "code",
   "execution_count": 26,
   "metadata": {
    "collapsed": true
   },
   "outputs": [],
   "source": [
    "min_fecha_ana = perfiles_df.loc[(~perfiles_df['fecha_instalacion_ana'].isnull())&(perfiles_df['fecha_instalacion_mauricio'].isnull()),'fecha_instalacion_ana'].dt.date"
   ]
  },
  {
   "cell_type": "code",
   "execution_count": 27,
   "metadata": {
    "collapsed": true
   },
   "outputs": [],
   "source": [
    "min_fecha_mauricio = perfiles_df.loc[(~perfiles_df['fecha_instalacion_ana'].isnull())&(perfiles_df['fecha_instalacion_mauricio'].isnull()),'fecha_instalacion_mauricio'].dt.date"
   ]
  },
  {
   "cell_type": "code",
   "execution_count": 28,
   "metadata": {},
   "outputs": [
    {
     "data": {
      "text/plain": [
       "True"
      ]
     },
     "execution_count": 28,
     "metadata": {},
     "output_type": "execute_result"
    }
   ],
   "source": [
    "min_fecha_series.equals(min_fecha_ana)"
   ]
  },
  {
   "cell_type": "code",
   "execution_count": 29,
   "metadata": {},
   "outputs": [
    {
     "data": {
      "text/plain": [
       "False"
      ]
     },
     "execution_count": 29,
     "metadata": {},
     "output_type": "execute_result"
    }
   ],
   "source": [
    "min_fecha_series.equals(min_fecha_mauricio)"
   ]
  },
  {
   "cell_type": "markdown",
   "metadata": {},
   "source": [
    "### Some tests about <strong>no_torniquete</strong> column"
   ]
  },
  {
   "cell_type": "markdown",
   "metadata": {},
   "source": [
    "fecha_instalacion_ana == NaT and fecha_instalacion_mauricio == NaT => no_torniquete == 1 in all rows <font color='green'> passed </font>"
   ]
  },
  {
   "cell_type": "code",
   "execution_count": 30,
   "metadata": {},
   "outputs": [
    {
     "data": {
      "text/plain": [
       "array([1], dtype=int64)"
      ]
     },
     "execution_count": 30,
     "metadata": {},
     "output_type": "execute_result"
    }
   ],
   "source": [
    "perfiles_df.loc[(perfiles_df['fecha_instalacion_ana'].isnull()) & (perfiles_df['fecha_instalacion_mauricio'].isnull()),'no_torniquete'].unique()"
   ]
  },
  {
   "cell_type": "markdown",
   "metadata": {},
   "source": [
    "fecha_instalacion_ana == NaT and fecha_instalacion_mauricio != NaT and Hini <= fecha_instalacion_mauricio => no_torniquete == 1 in all rows <font color='yellow'> WEIRD </font>"
   ]
  },
  {
   "cell_type": "code",
   "execution_count": 31,
   "metadata": {},
   "outputs": [
    {
     "data": {
      "text/plain": [
       "array([], dtype=int64)"
      ]
     },
     "execution_count": 31,
     "metadata": {},
     "output_type": "execute_result"
    }
   ],
   "source": [
    "perfiles_df.loc[(perfiles_df['fecha_instalacion_ana'].isnull()) \n",
    "                & (~perfiles_df['fecha_instalacion_mauricio'].isnull()) \n",
    "                & (perfiles_df['Hini'].dt.date <= perfiles_df['fecha_instalacion_mauricio'].dt.date),'no_torniquete'].unique()"
   ]
  },
  {
   "cell_type": "markdown",
   "metadata": {},
   "source": [
    "fecha_instalacion_ana != NaT and fecha_instalacion_mauricio == NaT and Hini <= fecha_instalacion_ana => no_torniquete == 1 in all rows <font color='green'> passed </font>"
   ]
  },
  {
   "cell_type": "code",
   "execution_count": 33,
   "metadata": {},
   "outputs": [
    {
     "data": {
      "text/plain": [
       "array([1], dtype=int64)"
      ]
     },
     "execution_count": 33,
     "metadata": {},
     "output_type": "execute_result"
    }
   ],
   "source": [
    "perfiles_df.loc[(~perfiles_df['fecha_instalacion_ana'].isnull()) \n",
    "                & (perfiles_df['fecha_instalacion_mauricio'].isnull()) \n",
    "                & (perfiles_df['Hini'].dt.date <= perfiles_df['fecha_instalacion_ana'].dt.date),'no_torniquete'].unique()"
   ]
  },
  {
   "cell_type": "markdown",
   "metadata": {},
   "source": [
    "fecha_instalacion_ana == NaT and fecha_instalacion_mauricio != NaT and Hini > fecha_instalacion_mauricio => no_torniquete == 0 in all rows <font color='green'> passed </font>"
   ]
  },
  {
   "cell_type": "code",
   "execution_count": 34,
   "metadata": {},
   "outputs": [
    {
     "data": {
      "text/plain": [
       "array([0], dtype=int64)"
      ]
     },
     "execution_count": 34,
     "metadata": {},
     "output_type": "execute_result"
    }
   ],
   "source": [
    "perfiles_df.loc[(perfiles_df['fecha_instalacion_ana'].isnull()) \n",
    "                & (~perfiles_df['fecha_instalacion_mauricio'].isnull()) \n",
    "                & (perfiles_df['Hini'].dt.date > perfiles_df['fecha_instalacion_mauricio'].dt.date),'no_torniquete'].unique()"
   ]
  },
  {
   "cell_type": "markdown",
   "metadata": {},
   "source": [
    "fecha_instalacion_ana != NaT and fecha_instalacion_mauricio == NaT and Hini > fecha_instalacion_ana => no_torniquete == 0 in all rows <font color='green'> passed </font>"
   ]
  },
  {
   "cell_type": "code",
   "execution_count": 35,
   "metadata": {},
   "outputs": [
    {
     "data": {
      "text/plain": [
       "array([0], dtype=int64)"
      ]
     },
     "execution_count": 35,
     "metadata": {},
     "output_type": "execute_result"
    }
   ],
   "source": [
    "perfiles_df.loc[(~perfiles_df['fecha_instalacion_ana'].isnull()) \n",
    "                & (perfiles_df['fecha_instalacion_mauricio'].isnull()) \n",
    "                & (perfiles_df['Hini'].dt.date > perfiles_df['fecha_instalacion_ana'].dt.date),'no_torniquete'].unique()"
   ]
  },
  {
   "cell_type": "markdown",
   "metadata": {},
   "source": [
    "## Closed"
   ]
  }
 ],
 "metadata": {
  "kernelspec": {
   "display_name": "Python 3",
   "language": "python",
   "name": "python3"
  },
  "language_info": {
   "codemirror_mode": {
    "name": "ipython",
    "version": 3
   },
   "file_extension": ".py",
   "mimetype": "text/x-python",
   "name": "python",
   "nbconvert_exporter": "python",
   "pygments_lexer": "ipython3",
   "version": "3.6.1"
  }
 },
 "nbformat": 4,
 "nbformat_minor": 2
}
