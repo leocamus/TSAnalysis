{
 "cells": [
  {
   "cell_type": "markdown",
   "metadata": {},
   "source": [
    "### Reducing etapas by Bus: This is a test"
   ]
  },
  {
   "cell_type": "code",
   "execution_count": 1,
   "metadata": {},
   "outputs": [
    {
     "data": {
      "text/html": [
       "<style>.container { width:80% !important; }</style>"
      ],
      "text/plain": [
       "<IPython.core.display.HTML object>"
      ]
     },
     "metadata": {},
     "output_type": "display_data"
    }
   ],
   "source": [
    "%matplotlib inline\n",
    "from IPython.core.display import display, HTML\n",
    "display(HTML(\"<style>.container { width:80% !important; }</style>\"))\n",
    "\n",
    "import pandas as pd\n",
    "import matplotlib\n",
    "import matplotlib.pyplot as plt\n",
    "import matplotlib.dates as mdates\n",
    "import numpy as np\n",
    "import datetime as dt\n",
    "import time\n",
    "\n",
    "from importlib import reload\n",
    "from Utils import TransantiagoConstants\n",
    "import DailyEtapasBuilder"
   ]
  },
  {
   "cell_type": "code",
   "execution_count": 2,
   "metadata": {
    "collapsed": true
   },
   "outputs": [],
   "source": [
    "common_dates = TransantiagoConstants.common_dates"
   ]
  },
  {
   "cell_type": "markdown",
   "metadata": {},
   "source": [
    "* Checking for bugs and refactoring"
   ]
  },
  {
   "cell_type": "code",
   "execution_count": 3,
   "metadata": {
    "collapsed": true
   },
   "outputs": [],
   "source": [
    "common_dates = common_dates[:1]"
   ]
  },
  {
   "cell_type": "code",
   "execution_count": 4,
   "metadata": {},
   "outputs": [
    {
     "data": {
      "text/plain": [
       "['2017-03-09']"
      ]
     },
     "execution_count": 4,
     "metadata": {},
     "output_type": "execute_result"
    }
   ],
   "source": [
    "common_dates #Only first date"
   ]
  },
  {
   "cell_type": "code",
   "execution_count": 5,
   "metadata": {
    "collapsed": true
   },
   "outputs": [],
   "source": [
    "torniquetesDataPath = \"C:/Users/leoca_000/Desktop/Evasion/01_analisis/03_datos/03_BUSESTORNIQUETE/Avance_Consolidado_v2.xlsx\"\n",
    "busesTorniquete_df = pd.read_excel(torniquetesDataPath, encoding = 'latin-1')\n",
    "busesTorniquete_df.columns=['sitio_subida','fecha_instalacion']"
   ]
  },
  {
   "cell_type": "code",
   "execution_count": 6,
   "metadata": {},
   "outputs": [
    {
     "name": "stdout",
     "output_type": "stream",
     "text": [
      "Not found in turnstile database: 1795630\n"
     ]
    }
   ],
   "source": [
    "for date in common_dates:\n",
    "    etapas_builder = DailyEtapasBuilder.RunSilentlyDailyEtapasBuilderClass(date)\n",
    "    etapas_builder.loadSimplifiedEtapas()\n",
    "    etapas_builder.mergeTurnstileData()\n",
    "    etapas_builder.cleanDataFrame()\n",
    "    etapas_builder.sortDataFrame()\n",
    "    etapas_builder.postProcessingSortedDataFrame()\n",
    "    filtered_df = etapas_builder.filteringDf()[0]\n",
    "    groupby_summary = filtered_df.groupby(['sitio_subida'])['diferencia_tiempo_secs'].agg(['count','sum','mean'])\n",
    "    groupby_summary['fecha'] = date\n",
    "    groupby_summary.reset_index(inplace=True)\n",
    "    groupby_summary = pd.merge(groupby_summary, busesTorniquete_df, on='sitio_subida', how='left')\n",
    "    base_output_path = 'C:/Users/leoca_000/Desktop/Evasion/01_analisis/03_datos/01_SSH/01_TIMESBYBUS/01_ORIGINAL/test/'\n",
    "    file_name = date + '-meanByBus.csv'\n",
    "    groupby_summary.to_csv(base_output_path+file_name,sep =\";\")"
   ]
  },
  {
   "cell_type": "code",
   "execution_count": 7,
   "metadata": {},
   "outputs": [
    {
     "data": {
      "text/html": [
       "<div>\n",
       "<style>\n",
       "    .dataframe thead tr:only-child th {\n",
       "        text-align: right;\n",
       "    }\n",
       "\n",
       "    .dataframe thead th {\n",
       "        text-align: left;\n",
       "    }\n",
       "\n",
       "    .dataframe tbody tr th {\n",
       "        vertical-align: top;\n",
       "    }\n",
       "</style>\n",
       "<table border=\"1\" class=\"dataframe\">\n",
       "  <thead>\n",
       "    <tr style=\"text-align: right;\">\n",
       "      <th></th>\n",
       "      <th>sitio_subida</th>\n",
       "      <th>count</th>\n",
       "      <th>sum</th>\n",
       "      <th>mean</th>\n",
       "      <th>fecha</th>\n",
       "      <th>fecha_instalacion</th>\n",
       "    </tr>\n",
       "  </thead>\n",
       "  <tbody>\n",
       "    <tr>\n",
       "      <th>0</th>\n",
       "      <td>BBJZ-74</td>\n",
       "      <td>155</td>\n",
       "      <td>1188.0</td>\n",
       "      <td>7.664516</td>\n",
       "      <td>2017-03-09</td>\n",
       "      <td>NaT</td>\n",
       "    </tr>\n",
       "    <tr>\n",
       "      <th>1</th>\n",
       "      <td>BBJZ-76</td>\n",
       "      <td>158</td>\n",
       "      <td>1406.0</td>\n",
       "      <td>8.898734</td>\n",
       "      <td>2017-03-09</td>\n",
       "      <td>2016-11-01</td>\n",
       "    </tr>\n",
       "    <tr>\n",
       "      <th>2</th>\n",
       "      <td>BBJZ-80</td>\n",
       "      <td>184</td>\n",
       "      <td>747.0</td>\n",
       "      <td>4.059783</td>\n",
       "      <td>2017-03-09</td>\n",
       "      <td>NaT</td>\n",
       "    </tr>\n",
       "    <tr>\n",
       "      <th>3</th>\n",
       "      <td>BBKB-11</td>\n",
       "      <td>144</td>\n",
       "      <td>733.0</td>\n",
       "      <td>5.090278</td>\n",
       "      <td>2017-03-09</td>\n",
       "      <td>NaT</td>\n",
       "    </tr>\n",
       "    <tr>\n",
       "      <th>4</th>\n",
       "      <td>BBKB-12</td>\n",
       "      <td>167</td>\n",
       "      <td>973.0</td>\n",
       "      <td>5.826347</td>\n",
       "      <td>2017-03-09</td>\n",
       "      <td>NaT</td>\n",
       "    </tr>\n",
       "    <tr>\n",
       "      <th>5</th>\n",
       "      <td>BBKB-13</td>\n",
       "      <td>322</td>\n",
       "      <td>1451.0</td>\n",
       "      <td>4.506211</td>\n",
       "      <td>2017-03-09</td>\n",
       "      <td>NaT</td>\n",
       "    </tr>\n",
       "    <tr>\n",
       "      <th>6</th>\n",
       "      <td>BBKB-14</td>\n",
       "      <td>158</td>\n",
       "      <td>1268.0</td>\n",
       "      <td>8.025316</td>\n",
       "      <td>2017-03-09</td>\n",
       "      <td>NaT</td>\n",
       "    </tr>\n",
       "    <tr>\n",
       "      <th>7</th>\n",
       "      <td>BBKB-25</td>\n",
       "      <td>71</td>\n",
       "      <td>432.0</td>\n",
       "      <td>6.084507</td>\n",
       "      <td>2017-03-09</td>\n",
       "      <td>NaT</td>\n",
       "    </tr>\n",
       "    <tr>\n",
       "      <th>8</th>\n",
       "      <td>BBKB-27</td>\n",
       "      <td>201</td>\n",
       "      <td>932.0</td>\n",
       "      <td>4.636816</td>\n",
       "      <td>2017-03-09</td>\n",
       "      <td>NaT</td>\n",
       "    </tr>\n",
       "    <tr>\n",
       "      <th>9</th>\n",
       "      <td>BBKB-29</td>\n",
       "      <td>69</td>\n",
       "      <td>575.0</td>\n",
       "      <td>8.333333</td>\n",
       "      <td>2017-03-09</td>\n",
       "      <td>NaT</td>\n",
       "    </tr>\n",
       "  </tbody>\n",
       "</table>\n",
       "</div>"
      ],
      "text/plain": [
       "  sitio_subida  count     sum      mean       fecha fecha_instalacion\n",
       "0      BBJZ-74    155  1188.0  7.664516  2017-03-09               NaT\n",
       "1      BBJZ-76    158  1406.0  8.898734  2017-03-09        2016-11-01\n",
       "2      BBJZ-80    184   747.0  4.059783  2017-03-09               NaT\n",
       "3      BBKB-11    144   733.0  5.090278  2017-03-09               NaT\n",
       "4      BBKB-12    167   973.0  5.826347  2017-03-09               NaT\n",
       "5      BBKB-13    322  1451.0  4.506211  2017-03-09               NaT\n",
       "6      BBKB-14    158  1268.0  8.025316  2017-03-09               NaT\n",
       "7      BBKB-25     71   432.0  6.084507  2017-03-09               NaT\n",
       "8      BBKB-27    201   932.0  4.636816  2017-03-09               NaT\n",
       "9      BBKB-29     69   575.0  8.333333  2017-03-09               NaT"
      ]
     },
     "execution_count": 7,
     "metadata": {},
     "output_type": "execute_result"
    }
   ],
   "source": [
    "groupby_summary.head(10)"
   ]
  },
  {
   "cell_type": "markdown",
   "metadata": {},
   "source": [
    "#### CHECKING FOR BBJZ_74"
   ]
  },
  {
   "cell_type": "code",
   "execution_count": 8,
   "metadata": {
    "collapsed": true
   },
   "outputs": [],
   "source": [
    "BBJZ_74 = filtered_df[filtered_df['sitio_subida']=='BBJZ-74']"
   ]
  },
  {
   "cell_type": "code",
   "execution_count": 9,
   "metadata": {},
   "outputs": [
    {
     "name": "stdout",
     "output_type": "stream",
     "text": [
      "155\n"
     ]
    }
   ],
   "source": [
    "BBJZ_74_count = len(BBJZ_74.index)\n",
    "print(BBJZ_74_count)"
   ]
  },
  {
   "cell_type": "code",
   "execution_count": 10,
   "metadata": {},
   "outputs": [
    {
     "name": "stdout",
     "output_type": "stream",
     "text": [
      "1188.0\n"
     ]
    }
   ],
   "source": [
    "total_dif_time_BBJZ_74 = BBJZ_74['diferencia_tiempo_secs'].sum()\n",
    "print(total_dif_time_BBJZ_74)"
   ]
  },
  {
   "cell_type": "markdown",
   "metadata": {},
   "source": [
    "* BBJZ-74: Average for diferencia_tiempo_secs correctly computed. <font color=\"green\"><strong>TEST PASSED</strong></font>"
   ]
  },
  {
   "cell_type": "code",
   "execution_count": 11,
   "metadata": {},
   "outputs": [
    {
     "name": "stdout",
     "output_type": "stream",
     "text": [
      "7.664516129032258\n"
     ]
    }
   ],
   "source": [
    "print(total_dif_time_BBJZ_74/BBJZ_74_count)"
   ]
  },
  {
   "cell_type": "markdown",
   "metadata": {},
   "source": [
    "* BBJZ-74: NOT FOUND IN TURNSTILE DATABASE. <font color=\"green\"><strong>TEST PASSED</strong></font>"
   ]
  },
  {
   "cell_type": "code",
   "execution_count": 12,
   "metadata": {},
   "outputs": [
    {
     "data": {
      "text/html": [
       "<div>\n",
       "<style>\n",
       "    .dataframe thead tr:only-child th {\n",
       "        text-align: right;\n",
       "    }\n",
       "\n",
       "    .dataframe thead th {\n",
       "        text-align: left;\n",
       "    }\n",
       "\n",
       "    .dataframe tbody tr th {\n",
       "        vertical-align: top;\n",
       "    }\n",
       "</style>\n",
       "<table border=\"1\" class=\"dataframe\">\n",
       "  <thead>\n",
       "    <tr style=\"text-align: right;\">\n",
       "      <th></th>\n",
       "      <th>sitio_subida</th>\n",
       "      <th>fecha_instalacion</th>\n",
       "    </tr>\n",
       "  </thead>\n",
       "  <tbody>\n",
       "  </tbody>\n",
       "</table>\n",
       "</div>"
      ],
      "text/plain": [
       "Empty DataFrame\n",
       "Columns: [sitio_subida, fecha_instalacion]\n",
       "Index: []"
      ]
     },
     "execution_count": 12,
     "metadata": {},
     "output_type": "execute_result"
    }
   ],
   "source": [
    "busesTorniquete_df[busesTorniquete_df['sitio_subida']=='BBJZ-74']"
   ]
  },
  {
   "cell_type": "markdown",
   "metadata": {},
   "source": [
    "#### CHECKING FOR BBJZ_76"
   ]
  },
  {
   "cell_type": "code",
   "execution_count": 13,
   "metadata": {
    "collapsed": true
   },
   "outputs": [],
   "source": [
    "BBJZ_76 = filtered_df[filtered_df['sitio_subida']=='BBJZ-76']"
   ]
  },
  {
   "cell_type": "code",
   "execution_count": 14,
   "metadata": {},
   "outputs": [
    {
     "name": "stdout",
     "output_type": "stream",
     "text": [
      "158\n"
     ]
    }
   ],
   "source": [
    "BBJZ_76_count = len(BBJZ_76.index)\n",
    "print(BBJZ_76_count)"
   ]
  },
  {
   "cell_type": "code",
   "execution_count": 15,
   "metadata": {},
   "outputs": [
    {
     "name": "stdout",
     "output_type": "stream",
     "text": [
      "1406.0\n"
     ]
    }
   ],
   "source": [
    "total_dif_time_BBJZ_76 = BBJZ_76['diferencia_tiempo_secs'].sum()\n",
    "print(total_dif_time_BBJZ_76)"
   ]
  },
  {
   "cell_type": "markdown",
   "metadata": {},
   "source": [
    "* BBJZ-76: Average for diferencia_tiempo_secs correctly computed. <font color=\"green\"><strong>TEST PASSED</strong></font>"
   ]
  },
  {
   "cell_type": "code",
   "execution_count": 16,
   "metadata": {
    "scrolled": true
   },
   "outputs": [
    {
     "name": "stdout",
     "output_type": "stream",
     "text": [
      "8.89873417721519\n"
     ]
    }
   ],
   "source": [
    "print(total_dif_time_BBJZ_76/BBJZ_76_count)"
   ]
  },
  {
   "cell_type": "markdown",
   "metadata": {},
   "source": [
    "* BBJZ-76: INSTALLATION DATE CORRECTLY APPENDED. <font color=\"green\"><strong>TEST PASSED</strong></font>"
   ]
  },
  {
   "cell_type": "code",
   "execution_count": 17,
   "metadata": {},
   "outputs": [
    {
     "data": {
      "text/html": [
       "<div>\n",
       "<style>\n",
       "    .dataframe thead tr:only-child th {\n",
       "        text-align: right;\n",
       "    }\n",
       "\n",
       "    .dataframe thead th {\n",
       "        text-align: left;\n",
       "    }\n",
       "\n",
       "    .dataframe tbody tr th {\n",
       "        vertical-align: top;\n",
       "    }\n",
       "</style>\n",
       "<table border=\"1\" class=\"dataframe\">\n",
       "  <thead>\n",
       "    <tr style=\"text-align: right;\">\n",
       "      <th></th>\n",
       "      <th>sitio_subida</th>\n",
       "      <th>fecha_instalacion</th>\n",
       "    </tr>\n",
       "  </thead>\n",
       "  <tbody>\n",
       "    <tr>\n",
       "      <th>2007</th>\n",
       "      <td>BBJZ-76</td>\n",
       "      <td>2016-11-01</td>\n",
       "    </tr>\n",
       "  </tbody>\n",
       "</table>\n",
       "</div>"
      ],
      "text/plain": [
       "     sitio_subida fecha_instalacion\n",
       "2007      BBJZ-76        2016-11-01"
      ]
     },
     "execution_count": 17,
     "metadata": {},
     "output_type": "execute_result"
    }
   ],
   "source": [
    "busesTorniquete_df[busesTorniquete_df['sitio_subida']=='BBJZ-76']"
   ]
  },
  {
   "cell_type": "markdown",
   "metadata": {},
   "source": [
    "### Closed"
   ]
  }
 ],
 "metadata": {
  "kernelspec": {
   "display_name": "Python 3",
   "language": "python",
   "name": "python3"
  },
  "language_info": {
   "codemirror_mode": {
    "name": "ipython",
    "version": 3
   },
   "file_extension": ".py",
   "mimetype": "text/x-python",
   "name": "python",
   "nbconvert_exporter": "python",
   "pygments_lexer": "ipython3",
   "version": "3.6.1"
  }
 },
 "nbformat": 4,
 "nbformat_minor": 2
}
