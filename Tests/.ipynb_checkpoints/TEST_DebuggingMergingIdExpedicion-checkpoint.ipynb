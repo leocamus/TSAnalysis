{
 "cells": [
  {
   "cell_type": "markdown",
   "metadata": {},
   "source": [
    "## Merging idExpedicion from Perfiles to Etapas ddbb"
   ]
  },
  {
   "cell_type": "code",
   "execution_count": 1,
   "metadata": {
    "collapsed": true
   },
   "outputs": [],
   "source": [
    "import os\n",
    "import sys\n",
    "module_path = os.path.abspath(os.path.join('..'))\n",
    "if module_path not in sys.path:\n",
    "    sys.path.append(module_path)"
   ]
  },
  {
   "cell_type": "code",
   "execution_count": 2,
   "metadata": {},
   "outputs": [
    {
     "data": {
      "text/html": [
       "<style>.container { width:80% !important; }</style>"
      ],
      "text/plain": [
       "<IPython.core.display.HTML object>"
      ]
     },
     "metadata": {},
     "output_type": "display_data"
    }
   ],
   "source": [
    "from IPython.core.display import display, HTML\n",
    "display(HTML(\"<style>.container { width:80% !important; }</style>\"))"
   ]
  },
  {
   "cell_type": "code",
   "execution_count": 3,
   "metadata": {
    "collapsed": true,
    "scrolled": true
   },
   "outputs": [],
   "source": [
    "import pandas as pd\n",
    "import time\n",
    "import DailyEtapasBuilder\n",
    "from Utils import TransantiagoConstants"
   ]
  },
  {
   "cell_type": "code",
   "execution_count": 4,
   "metadata": {
    "collapsed": true
   },
   "outputs": [],
   "source": [
    "date = '2017-03-01'"
   ]
  },
  {
   "cell_type": "code",
   "execution_count": 5,
   "metadata": {
    "collapsed": true
   },
   "outputs": [],
   "source": [
    "summary_dir = TransantiagoConstants.SummaryDir"
   ]
  },
  {
   "cell_type": "code",
   "execution_count": 6,
   "metadata": {
    "collapsed": true
   },
   "outputs": [],
   "source": [
    "selected_services_path = os.path.join(summary_dir,'0_servicios_seleccionados.xlsx')\n",
    "selected_services_df = pd.read_excel(selected_services_path)"
   ]
  },
  {
   "cell_type": "code",
   "execution_count": 7,
   "metadata": {
    "collapsed": true
   },
   "outputs": [],
   "source": [
    "selected_services = selected_services_df.loc[:,'FINAL_CODES']\n",
    "selected_services = [str(x) for x in selected_services]"
   ]
  },
  {
   "cell_type": "markdown",
   "metadata": {},
   "source": [
    "* Building etapas"
   ]
  },
  {
   "cell_type": "code",
   "execution_count": 8,
   "metadata": {
    "collapsed": true
   },
   "outputs": [],
   "source": [
    "etapas_builder = DailyEtapasBuilder.RunSilentlyDailyEtapasBuilderClass(date)"
   ]
  },
  {
   "cell_type": "code",
   "execution_count": 9,
   "metadata": {},
   "outputs": [
    {
     "name": "stdout",
     "output_type": "stream",
     "text": [
      "Not found in BOTH turnstile databases: 1282226\n"
     ]
    }
   ],
   "source": [
    "etapas_builder.loadSimplifiedEtapas()\n",
    "etapas_builder.mergeTurnstileData()\n",
    "etapas_builder.cleanDataFrame() #Be aware of this, as it deletes all rows with missing values.\n",
    "etapas_builder.sortDataFrame()\n",
    "etapas_builder.postProcessingSortedDataFrame()\n",
    "processed_sorted_df = etapas_builder.etapas_df"
   ]
  },
  {
   "cell_type": "code",
   "execution_count": 10,
   "metadata": {},
   "outputs": [
    {
     "data": {
      "text/html": [
       "<div>\n",
       "<style>\n",
       "    .dataframe thead tr:only-child th {\n",
       "        text-align: right;\n",
       "    }\n",
       "\n",
       "    .dataframe thead th {\n",
       "        text-align: left;\n",
       "    }\n",
       "\n",
       "    .dataframe tbody tr th {\n",
       "        vertical-align: top;\n",
       "    }\n",
       "</style>\n",
       "<table border=\"1\" class=\"dataframe\">\n",
       "  <thead>\n",
       "    <tr style=\"text-align: right;\">\n",
       "      <th></th>\n",
       "      <th>id</th>\n",
       "      <th>nviaje</th>\n",
       "      <th>tipo_transporte</th>\n",
       "      <th>t_subida</th>\n",
       "      <th>media_hora_subida</th>\n",
       "      <th>servicio_subida</th>\n",
       "      <th>par_subida</th>\n",
       "      <th>sitio_subida</th>\n",
       "      <th>UN</th>\n",
       "      <th>fecha_instalacion_ana</th>\n",
       "      <th>fecha_instalacion_mauricio</th>\n",
       "      <th>min_fecha</th>\n",
       "      <th>torniquete_mariposa</th>\n",
       "      <th>no_torniquete</th>\n",
       "      <th>mismo_paradero</th>\n",
       "      <th>misma_patente</th>\n",
       "      <th>mismo_servicio</th>\n",
       "      <th>diferencia_tiempo</th>\n",
       "      <th>diferencia_tiempo_secs</th>\n",
       "    </tr>\n",
       "  </thead>\n",
       "  <tbody>\n",
       "    <tr>\n",
       "      <th>0</th>\n",
       "      <td>3552888222</td>\n",
       "      <td>1</td>\n",
       "      <td>BUS</td>\n",
       "      <td>2017-03-01 17:39:47</td>\n",
       "      <td>17:30:00</td>\n",
       "      <td>F07 00R</td>\n",
       "      <td>L-34-89-2-PO</td>\n",
       "      <td>BBJZ-74</td>\n",
       "      <td>NaN</td>\n",
       "      <td>NaT</td>\n",
       "      <td>NaT</td>\n",
       "      <td>NaT</td>\n",
       "      <td>0</td>\n",
       "      <td>1</td>\n",
       "      <td>False</td>\n",
       "      <td>False</td>\n",
       "      <td>False</td>\n",
       "      <td>NaT</td>\n",
       "      <td>NaN</td>\n",
       "    </tr>\n",
       "    <tr>\n",
       "      <th>1</th>\n",
       "      <td>2529602798</td>\n",
       "      <td>1</td>\n",
       "      <td>BUS</td>\n",
       "      <td>2017-03-01 17:44:11</td>\n",
       "      <td>17:30:00</td>\n",
       "      <td>F07 00R</td>\n",
       "      <td>L-34-53-25-PO</td>\n",
       "      <td>BBJZ-74</td>\n",
       "      <td>NaN</td>\n",
       "      <td>NaT</td>\n",
       "      <td>NaT</td>\n",
       "      <td>NaT</td>\n",
       "      <td>0</td>\n",
       "      <td>1</td>\n",
       "      <td>False</td>\n",
       "      <td>True</td>\n",
       "      <td>True</td>\n",
       "      <td>NaT</td>\n",
       "      <td>NaN</td>\n",
       "    </tr>\n",
       "    <tr>\n",
       "      <th>2</th>\n",
       "      <td>3169360958</td>\n",
       "      <td>1</td>\n",
       "      <td>BUS</td>\n",
       "      <td>2017-03-01 17:44:13</td>\n",
       "      <td>17:30:00</td>\n",
       "      <td>F07 00R</td>\n",
       "      <td>L-34-53-25-PO</td>\n",
       "      <td>BBJZ-74</td>\n",
       "      <td>NaN</td>\n",
       "      <td>NaT</td>\n",
       "      <td>NaT</td>\n",
       "      <td>NaT</td>\n",
       "      <td>0</td>\n",
       "      <td>1</td>\n",
       "      <td>True</td>\n",
       "      <td>True</td>\n",
       "      <td>True</td>\n",
       "      <td>00:00:02</td>\n",
       "      <td>2.0</td>\n",
       "    </tr>\n",
       "    <tr>\n",
       "      <th>3</th>\n",
       "      <td>2140206880</td>\n",
       "      <td>2</td>\n",
       "      <td>BUS</td>\n",
       "      <td>2017-03-01 17:44:16</td>\n",
       "      <td>17:30:00</td>\n",
       "      <td>F07 00R</td>\n",
       "      <td>L-34-53-25-PO</td>\n",
       "      <td>BBJZ-74</td>\n",
       "      <td>NaN</td>\n",
       "      <td>NaT</td>\n",
       "      <td>NaT</td>\n",
       "      <td>NaT</td>\n",
       "      <td>0</td>\n",
       "      <td>1</td>\n",
       "      <td>True</td>\n",
       "      <td>True</td>\n",
       "      <td>True</td>\n",
       "      <td>00:00:03</td>\n",
       "      <td>3.0</td>\n",
       "    </tr>\n",
       "    <tr>\n",
       "      <th>4</th>\n",
       "      <td>3149482742</td>\n",
       "      <td>1</td>\n",
       "      <td>BUS</td>\n",
       "      <td>2017-03-01 17:46:33</td>\n",
       "      <td>17:30:00</td>\n",
       "      <td>F07 00R</td>\n",
       "      <td>L-34-53-40-PO</td>\n",
       "      <td>BBJZ-74</td>\n",
       "      <td>NaN</td>\n",
       "      <td>NaT</td>\n",
       "      <td>NaT</td>\n",
       "      <td>NaT</td>\n",
       "      <td>0</td>\n",
       "      <td>1</td>\n",
       "      <td>False</td>\n",
       "      <td>True</td>\n",
       "      <td>True</td>\n",
       "      <td>NaT</td>\n",
       "      <td>NaN</td>\n",
       "    </tr>\n",
       "  </tbody>\n",
       "</table>\n",
       "</div>"
      ],
      "text/plain": [
       "           id  nviaje tipo_transporte            t_subida media_hora_subida  \\\n",
       "0  3552888222       1             BUS 2017-03-01 17:39:47          17:30:00   \n",
       "1  2529602798       1             BUS 2017-03-01 17:44:11          17:30:00   \n",
       "2  3169360958       1             BUS 2017-03-01 17:44:13          17:30:00   \n",
       "3  2140206880       2             BUS 2017-03-01 17:44:16          17:30:00   \n",
       "4  3149482742       1             BUS 2017-03-01 17:46:33          17:30:00   \n",
       "\n",
       "  servicio_subida     par_subida sitio_subida   UN fecha_instalacion_ana  \\\n",
       "0         F07 00R   L-34-89-2-PO      BBJZ-74  NaN                   NaT   \n",
       "1         F07 00R  L-34-53-25-PO      BBJZ-74  NaN                   NaT   \n",
       "2         F07 00R  L-34-53-25-PO      BBJZ-74  NaN                   NaT   \n",
       "3         F07 00R  L-34-53-25-PO      BBJZ-74  NaN                   NaT   \n",
       "4         F07 00R  L-34-53-40-PO      BBJZ-74  NaN                   NaT   \n",
       "\n",
       "  fecha_instalacion_mauricio min_fecha  torniquete_mariposa  no_torniquete  \\\n",
       "0                        NaT       NaT                    0              1   \n",
       "1                        NaT       NaT                    0              1   \n",
       "2                        NaT       NaT                    0              1   \n",
       "3                        NaT       NaT                    0              1   \n",
       "4                        NaT       NaT                    0              1   \n",
       "\n",
       "   mismo_paradero  misma_patente  mismo_servicio diferencia_tiempo  \\\n",
       "0           False          False           False               NaT   \n",
       "1           False           True            True               NaT   \n",
       "2            True           True            True          00:00:02   \n",
       "3            True           True            True          00:00:03   \n",
       "4           False           True            True               NaT   \n",
       "\n",
       "   diferencia_tiempo_secs  \n",
       "0                     NaN  \n",
       "1                     NaN  \n",
       "2                     2.0  \n",
       "3                     3.0  \n",
       "4                     NaN  "
      ]
     },
     "execution_count": 10,
     "metadata": {},
     "output_type": "execute_result"
    }
   ],
   "source": [
    "processed_sorted_df.head()"
   ]
  },
  {
   "cell_type": "code",
   "execution_count": 11,
   "metadata": {
    "scrolled": true
   },
   "outputs": [
    {
     "data": {
      "text/plain": [
       "pandas._libs.tslib.Timestamp"
      ]
     },
     "execution_count": 11,
     "metadata": {},
     "output_type": "execute_result"
    }
   ],
   "source": [
    "type(processed_sorted_df.loc[0,'t_subida'])"
   ]
  },
  {
   "cell_type": "markdown",
   "metadata": {},
   "source": [
    "* Simplifying etapas"
   ]
  },
  {
   "cell_type": "code",
   "execution_count": 12,
   "metadata": {
    "collapsed": true,
    "scrolled": true
   },
   "outputs": [],
   "source": [
    "simplified_etapas = processed_sorted_df.loc[processed_sorted_df['servicio_subida'].str.contains('|'.join(selected_services)),:]"
   ]
  },
  {
   "cell_type": "code",
   "execution_count": 13,
   "metadata": {},
   "outputs": [
    {
     "data": {
      "text/html": [
       "<div>\n",
       "<style>\n",
       "    .dataframe thead tr:only-child th {\n",
       "        text-align: right;\n",
       "    }\n",
       "\n",
       "    .dataframe thead th {\n",
       "        text-align: left;\n",
       "    }\n",
       "\n",
       "    .dataframe tbody tr th {\n",
       "        vertical-align: top;\n",
       "    }\n",
       "</style>\n",
       "<table border=\"1\" class=\"dataframe\">\n",
       "  <thead>\n",
       "    <tr style=\"text-align: right;\">\n",
       "      <th></th>\n",
       "      <th>id</th>\n",
       "      <th>nviaje</th>\n",
       "      <th>tipo_transporte</th>\n",
       "      <th>t_subida</th>\n",
       "      <th>media_hora_subida</th>\n",
       "      <th>servicio_subida</th>\n",
       "      <th>par_subida</th>\n",
       "      <th>sitio_subida</th>\n",
       "      <th>UN</th>\n",
       "      <th>fecha_instalacion_ana</th>\n",
       "      <th>fecha_instalacion_mauricio</th>\n",
       "      <th>min_fecha</th>\n",
       "      <th>torniquete_mariposa</th>\n",
       "      <th>no_torniquete</th>\n",
       "      <th>mismo_paradero</th>\n",
       "      <th>misma_patente</th>\n",
       "      <th>mismo_servicio</th>\n",
       "      <th>diferencia_tiempo</th>\n",
       "      <th>diferencia_tiempo_secs</th>\n",
       "    </tr>\n",
       "  </thead>\n",
       "  <tbody>\n",
       "    <tr>\n",
       "      <th>338</th>\n",
       "      <td>3918424538</td>\n",
       "      <td>1</td>\n",
       "      <td>BUS</td>\n",
       "      <td>2017-03-01 05:44:13</td>\n",
       "      <td>05:30:00</td>\n",
       "      <td>F03 C0 06R</td>\n",
       "      <td>L-34-107-5-PO</td>\n",
       "      <td>BBKB-11</td>\n",
       "      <td>NaN</td>\n",
       "      <td>NaT</td>\n",
       "      <td>NaT</td>\n",
       "      <td>NaT</td>\n",
       "      <td>0</td>\n",
       "      <td>1</td>\n",
       "      <td>False</td>\n",
       "      <td>False</td>\n",
       "      <td>False</td>\n",
       "      <td>NaT</td>\n",
       "      <td>NaN</td>\n",
       "    </tr>\n",
       "    <tr>\n",
       "      <th>339</th>\n",
       "      <td>2687909454</td>\n",
       "      <td>1</td>\n",
       "      <td>BUS</td>\n",
       "      <td>2017-03-01 05:45:18</td>\n",
       "      <td>05:30:00</td>\n",
       "      <td>F03 C0 06R</td>\n",
       "      <td>L-34-107-5-PO</td>\n",
       "      <td>BBKB-11</td>\n",
       "      <td>NaN</td>\n",
       "      <td>NaT</td>\n",
       "      <td>NaT</td>\n",
       "      <td>NaT</td>\n",
       "      <td>0</td>\n",
       "      <td>1</td>\n",
       "      <td>True</td>\n",
       "      <td>True</td>\n",
       "      <td>True</td>\n",
       "      <td>00:01:05</td>\n",
       "      <td>65.0</td>\n",
       "    </tr>\n",
       "    <tr>\n",
       "      <th>340</th>\n",
       "      <td>3181856472</td>\n",
       "      <td>1</td>\n",
       "      <td>BUS</td>\n",
       "      <td>2017-03-01 05:46:41</td>\n",
       "      <td>05:30:00</td>\n",
       "      <td>F03 C0 06R</td>\n",
       "      <td>L-34-107-10-PO</td>\n",
       "      <td>BBKB-11</td>\n",
       "      <td>NaN</td>\n",
       "      <td>NaT</td>\n",
       "      <td>NaT</td>\n",
       "      <td>NaT</td>\n",
       "      <td>0</td>\n",
       "      <td>1</td>\n",
       "      <td>False</td>\n",
       "      <td>True</td>\n",
       "      <td>True</td>\n",
       "      <td>NaT</td>\n",
       "      <td>NaN</td>\n",
       "    </tr>\n",
       "    <tr>\n",
       "      <th>341</th>\n",
       "      <td>2813628222</td>\n",
       "      <td>1</td>\n",
       "      <td>BUS</td>\n",
       "      <td>2017-03-01 05:46:44</td>\n",
       "      <td>05:30:00</td>\n",
       "      <td>F03 C0 06R</td>\n",
       "      <td>L-34-107-10-PO</td>\n",
       "      <td>BBKB-11</td>\n",
       "      <td>NaN</td>\n",
       "      <td>NaT</td>\n",
       "      <td>NaT</td>\n",
       "      <td>NaT</td>\n",
       "      <td>0</td>\n",
       "      <td>1</td>\n",
       "      <td>True</td>\n",
       "      <td>True</td>\n",
       "      <td>True</td>\n",
       "      <td>00:00:03</td>\n",
       "      <td>3.0</td>\n",
       "    </tr>\n",
       "    <tr>\n",
       "      <th>342</th>\n",
       "      <td>2478431022</td>\n",
       "      <td>1</td>\n",
       "      <td>BUS</td>\n",
       "      <td>2017-03-01 05:46:47</td>\n",
       "      <td>05:30:00</td>\n",
       "      <td>F03 C0 06R</td>\n",
       "      <td>L-34-107-10-PO</td>\n",
       "      <td>BBKB-11</td>\n",
       "      <td>NaN</td>\n",
       "      <td>NaT</td>\n",
       "      <td>NaT</td>\n",
       "      <td>NaT</td>\n",
       "      <td>0</td>\n",
       "      <td>1</td>\n",
       "      <td>True</td>\n",
       "      <td>True</td>\n",
       "      <td>True</td>\n",
       "      <td>00:00:03</td>\n",
       "      <td>3.0</td>\n",
       "    </tr>\n",
       "  </tbody>\n",
       "</table>\n",
       "</div>"
      ],
      "text/plain": [
       "             id  nviaje tipo_transporte            t_subida media_hora_subida  \\\n",
       "338  3918424538       1             BUS 2017-03-01 05:44:13          05:30:00   \n",
       "339  2687909454       1             BUS 2017-03-01 05:45:18          05:30:00   \n",
       "340  3181856472       1             BUS 2017-03-01 05:46:41          05:30:00   \n",
       "341  2813628222       1             BUS 2017-03-01 05:46:44          05:30:00   \n",
       "342  2478431022       1             BUS 2017-03-01 05:46:47          05:30:00   \n",
       "\n",
       "    servicio_subida      par_subida sitio_subida   UN fecha_instalacion_ana  \\\n",
       "338      F03 C0 06R   L-34-107-5-PO      BBKB-11  NaN                   NaT   \n",
       "339      F03 C0 06R   L-34-107-5-PO      BBKB-11  NaN                   NaT   \n",
       "340      F03 C0 06R  L-34-107-10-PO      BBKB-11  NaN                   NaT   \n",
       "341      F03 C0 06R  L-34-107-10-PO      BBKB-11  NaN                   NaT   \n",
       "342      F03 C0 06R  L-34-107-10-PO      BBKB-11  NaN                   NaT   \n",
       "\n",
       "    fecha_instalacion_mauricio min_fecha  torniquete_mariposa  no_torniquete  \\\n",
       "338                        NaT       NaT                    0              1   \n",
       "339                        NaT       NaT                    0              1   \n",
       "340                        NaT       NaT                    0              1   \n",
       "341                        NaT       NaT                    0              1   \n",
       "342                        NaT       NaT                    0              1   \n",
       "\n",
       "     mismo_paradero  misma_patente  mismo_servicio diferencia_tiempo  \\\n",
       "338           False          False           False               NaT   \n",
       "339            True           True            True          00:01:05   \n",
       "340           False           True            True               NaT   \n",
       "341            True           True            True          00:00:03   \n",
       "342            True           True            True          00:00:03   \n",
       "\n",
       "     diferencia_tiempo_secs  \n",
       "338                     NaN  \n",
       "339                    65.0  \n",
       "340                     NaN  \n",
       "341                     3.0  \n",
       "342                     3.0  "
      ]
     },
     "execution_count": 13,
     "metadata": {},
     "output_type": "execute_result"
    }
   ],
   "source": [
    "simplified_etapas.head()"
   ]
  },
  {
   "cell_type": "code",
   "execution_count": 14,
   "metadata": {},
   "outputs": [
    {
     "data": {
      "text/plain": [
       "350656"
      ]
     },
     "execution_count": 14,
     "metadata": {},
     "output_type": "execute_result"
    }
   ],
   "source": [
    "len(simplified_etapas.index)"
   ]
  },
  {
   "cell_type": "markdown",
   "metadata": {},
   "source": [
    "* Building perfiles"
   ]
  },
  {
   "cell_type": "code",
   "execution_count": 15,
   "metadata": {
    "collapsed": true
   },
   "outputs": [],
   "source": [
    "import DailyPerfilesBuilder"
   ]
  },
  {
   "cell_type": "code",
   "execution_count": 16,
   "metadata": {
    "collapsed": true
   },
   "outputs": [],
   "source": [
    "perfiles_builder = DailyPerfilesBuilder.RunSilentlyDailyPerfilesBuilderClass(date)"
   ]
  },
  {
   "cell_type": "code",
   "execution_count": 17,
   "metadata": {
    "collapsed": true
   },
   "outputs": [],
   "source": [
    "#perfiles_builder.runSimplifyPerfiles()"
   ]
  },
  {
   "cell_type": "code",
   "execution_count": 18,
   "metadata": {},
   "outputs": [
    {
     "name": "stdout",
     "output_type": "stream",
     "text": [
      "Not found in BOTH turnstile databases: 34888\n"
     ]
    }
   ],
   "source": [
    "perfiles_builder.loadSimplifiedPerfiles()\n",
    "perfiles_builder.dropParaderos()\n",
    "perfiles_builder.mergeTurnstileDatabase()"
   ]
  },
  {
   "cell_type": "code",
   "execution_count": 19,
   "metadata": {
    "collapsed": true
   },
   "outputs": [],
   "source": [
    "perfiles_df = perfiles_builder.perfiles_df"
   ]
  },
  {
   "cell_type": "code",
   "execution_count": 20,
   "metadata": {
    "scrolled": true
   },
   "outputs": [
    {
     "data": {
      "text/plain": [
       "pandas._libs.tslib.Timestamp"
      ]
     },
     "execution_count": 20,
     "metadata": {},
     "output_type": "execute_result"
    }
   ],
   "source": [
    "type(perfiles_df.loc[0,'Hini'])"
   ]
  },
  {
   "cell_type": "markdown",
   "metadata": {},
   "source": [
    "* Simplifying perfiles"
   ]
  },
  {
   "cell_type": "code",
   "execution_count": 21,
   "metadata": {
    "collapsed": true
   },
   "outputs": [],
   "source": [
    "simplified_perfiles = perfiles_df.loc[perfiles_df['ServicioSentido'].str.contains('|'.join(selected_services)),:]"
   ]
  },
  {
   "cell_type": "code",
   "execution_count": 22,
   "metadata": {},
   "outputs": [
    {
     "data": {
      "text/html": [
       "<div>\n",
       "<style>\n",
       "    .dataframe thead tr:only-child th {\n",
       "        text-align: right;\n",
       "    }\n",
       "\n",
       "    .dataframe thead th {\n",
       "        text-align: left;\n",
       "    }\n",
       "\n",
       "    .dataframe tbody tr th {\n",
       "        vertical-align: top;\n",
       "    }\n",
       "</style>\n",
       "<table border=\"1\" class=\"dataframe\">\n",
       "  <thead>\n",
       "    <tr style=\"text-align: right;\">\n",
       "      <th></th>\n",
       "      <th>ServicioSentido</th>\n",
       "      <th>Patente</th>\n",
       "      <th>Paradero</th>\n",
       "      <th>Hini</th>\n",
       "      <th>Hfin</th>\n",
       "      <th>idExpedicion</th>\n",
       "      <th>DistEnRuta</th>\n",
       "      <th>UN</th>\n",
       "      <th>fecha_instalacion_ana</th>\n",
       "      <th>fecha_instalacion_mauricio</th>\n",
       "      <th>min_fecha</th>\n",
       "      <th>torniquete_mariposa</th>\n",
       "      <th>no_torniquete</th>\n",
       "    </tr>\n",
       "  </thead>\n",
       "  <tbody>\n",
       "    <tr>\n",
       "      <th>493</th>\n",
       "      <td>T108 00I</td>\n",
       "      <td>ZN-4332</td>\n",
       "      <td>T-13-369-PO-5</td>\n",
       "      <td>2017-03-01 00:03:59</td>\n",
       "      <td>2017-03-01 01:05:29</td>\n",
       "      <td>493</td>\n",
       "      <td>120</td>\n",
       "      <td>NaN</td>\n",
       "      <td>NaT</td>\n",
       "      <td>NaT</td>\n",
       "      <td>NaT</td>\n",
       "      <td>0</td>\n",
       "      <td>1</td>\n",
       "    </tr>\n",
       "    <tr>\n",
       "      <th>494</th>\n",
       "      <td>T108 00I</td>\n",
       "      <td>ZN-3957</td>\n",
       "      <td>T-13-369-PO-5</td>\n",
       "      <td>2017-03-01 00:31:08</td>\n",
       "      <td>2017-03-01 00:54:49</td>\n",
       "      <td>494</td>\n",
       "      <td>120</td>\n",
       "      <td>NaN</td>\n",
       "      <td>NaT</td>\n",
       "      <td>NaT</td>\n",
       "      <td>NaT</td>\n",
       "      <td>0</td>\n",
       "      <td>1</td>\n",
       "    </tr>\n",
       "    <tr>\n",
       "      <th>495</th>\n",
       "      <td>T108 00I</td>\n",
       "      <td>ZN-5075</td>\n",
       "      <td>T-13-369-PO-5</td>\n",
       "      <td>2017-03-01 00:32:08</td>\n",
       "      <td>2017-03-01 01:20:38</td>\n",
       "      <td>495</td>\n",
       "      <td>120</td>\n",
       "      <td>NaN</td>\n",
       "      <td>NaT</td>\n",
       "      <td>NaT</td>\n",
       "      <td>NaT</td>\n",
       "      <td>0</td>\n",
       "      <td>1</td>\n",
       "    </tr>\n",
       "    <tr>\n",
       "      <th>496</th>\n",
       "      <td>T108 00I</td>\n",
       "      <td>FLXH-73</td>\n",
       "      <td>T-13-369-PO-5</td>\n",
       "      <td>2017-03-01 00:35:51</td>\n",
       "      <td>2017-03-01 00:52:08</td>\n",
       "      <td>496</td>\n",
       "      <td>120</td>\n",
       "      <td>NaN</td>\n",
       "      <td>NaT</td>\n",
       "      <td>NaT</td>\n",
       "      <td>NaT</td>\n",
       "      <td>0</td>\n",
       "      <td>1</td>\n",
       "    </tr>\n",
       "    <tr>\n",
       "      <th>497</th>\n",
       "      <td>T108 00I</td>\n",
       "      <td>ZN-6450</td>\n",
       "      <td>T-13-369-PO-5</td>\n",
       "      <td>2017-03-01 05:25:44</td>\n",
       "      <td>2017-03-01 05:34:17</td>\n",
       "      <td>497</td>\n",
       "      <td>120</td>\n",
       "      <td>U1</td>\n",
       "      <td>2017-06-16</td>\n",
       "      <td>2017-06-16</td>\n",
       "      <td>2017-06-16</td>\n",
       "      <td>0</td>\n",
       "      <td>1</td>\n",
       "    </tr>\n",
       "  </tbody>\n",
       "</table>\n",
       "</div>"
      ],
      "text/plain": [
       "    ServicioSentido  Patente       Paradero                Hini  \\\n",
       "493        T108 00I  ZN-4332  T-13-369-PO-5 2017-03-01 00:03:59   \n",
       "494        T108 00I  ZN-3957  T-13-369-PO-5 2017-03-01 00:31:08   \n",
       "495        T108 00I  ZN-5075  T-13-369-PO-5 2017-03-01 00:32:08   \n",
       "496        T108 00I  FLXH-73  T-13-369-PO-5 2017-03-01 00:35:51   \n",
       "497        T108 00I  ZN-6450  T-13-369-PO-5 2017-03-01 05:25:44   \n",
       "\n",
       "                   Hfin  idExpedicion  DistEnRuta   UN fecha_instalacion_ana  \\\n",
       "493 2017-03-01 01:05:29           493         120  NaN                   NaT   \n",
       "494 2017-03-01 00:54:49           494         120  NaN                   NaT   \n",
       "495 2017-03-01 01:20:38           495         120  NaN                   NaT   \n",
       "496 2017-03-01 00:52:08           496         120  NaN                   NaT   \n",
       "497 2017-03-01 05:34:17           497         120   U1            2017-06-16   \n",
       "\n",
       "    fecha_instalacion_mauricio  min_fecha  torniquete_mariposa  no_torniquete  \n",
       "493                        NaT        NaT                    0              1  \n",
       "494                        NaT        NaT                    0              1  \n",
       "495                        NaT        NaT                    0              1  \n",
       "496                        NaT        NaT                    0              1  \n",
       "497                 2017-06-16 2017-06-16                    0              1  "
      ]
     },
     "execution_count": 22,
     "metadata": {},
     "output_type": "execute_result"
    }
   ],
   "source": [
    "simplified_perfiles.head()"
   ]
  },
  {
   "cell_type": "code",
   "execution_count": 23,
   "metadata": {},
   "outputs": [
    {
     "data": {
      "text/plain": [
       "9766"
      ]
     },
     "execution_count": 23,
     "metadata": {},
     "output_type": "execute_result"
    }
   ],
   "source": [
    "len(simplified_perfiles.index)"
   ]
  },
  {
   "cell_type": "markdown",
   "metadata": {},
   "source": [
    "## MERGING"
   ]
  },
  {
   "cell_type": "markdown",
   "metadata": {},
   "source": [
    "* Unitary time"
   ]
  },
  {
   "cell_type": "code",
   "execution_count": 24,
   "metadata": {},
   "outputs": [
    {
     "name": "stdout",
     "output_type": "stream",
     "text": [
      "0.18549392233241063\n"
     ]
    },
    {
     "name": "stderr",
     "output_type": "stream",
     "text": [
      "C:\\Users\\leoca_000\\Anaconda3\\lib\\site-packages\\pandas\\core\\indexing.py:337: SettingWithCopyWarning: \n",
      "A value is trying to be set on a copy of a slice from a DataFrame.\n",
      "Try using .loc[row_indexer,col_indexer] = value instead\n",
      "\n",
      "See the caveats in the documentation: http://pandas.pydata.org/pandas-docs/stable/indexing.html#indexing-view-versus-copy\n",
      "  self.obj[key] = _infer_fill_value(value)\n",
      "C:\\Users\\leoca_000\\Anaconda3\\lib\\site-packages\\pandas\\core\\indexing.py:517: SettingWithCopyWarning: \n",
      "A value is trying to be set on a copy of a slice from a DataFrame.\n",
      "Try using .loc[row_indexer,col_indexer] = value instead\n",
      "\n",
      "See the caveats in the documentation: http://pandas.pydata.org/pandas-docs/stable/indexing.html#indexing-view-versus-copy\n",
      "  self.obj[item] = s\n"
     ]
    }
   ],
   "source": [
    "tic = time.clock()\n",
    "\n",
    "servicio_tmp = simplified_perfiles.loc[493,'ServicioSentido']\n",
    "patente_tmp = simplified_perfiles.loc[493,'Patente']\n",
    "Hini_tmp = simplified_perfiles.loc[493,'Hini']\n",
    "Hfin_tmp = simplified_perfiles.loc[493,'Hfin']\n",
    "idExpedicion_tmp = simplified_perfiles.loc[493,'idExpedicion']\n",
    "\n",
    "simplified_etapas.loc[(simplified_etapas['servicio_subida']==servicio_tmp)&(simplified_etapas['sitio_subida']==patente_tmp)&(Hini_tmp<=simplified_etapas['t_subida'])&(simplified_etapas['t_subida']<=Hfin_tmp),'idExpedicion'] = idExpedicion_tmp\n",
    "toc = time.clock()\n",
    "\n",
    "print(toc-tic)"
   ]
  },
  {
   "cell_type": "markdown",
   "metadata": {},
   "source": [
    "1. Unitary time ~ 0.17 secs\n",
    "2. Total time in simplified_perfiles dataframe is ~ 0.17x9766 ~ 1660 sec ~ 27 mins per date. <font color='green'> This is the solution </font>"
   ]
  },
  {
   "cell_type": "markdown",
   "metadata": {},
   "source": [
    "* Complete process"
   ]
  },
  {
   "cell_type": "code",
   "execution_count": 25,
   "metadata": {},
   "outputs": [
    {
     "name": "stderr",
     "output_type": "stream",
     "text": [
      "C:\\Users\\leoca_000\\Anaconda3\\lib\\site-packages\\pandas\\core\\indexing.py:517: SettingWithCopyWarning: \n",
      "A value is trying to be set on a copy of a slice from a DataFrame.\n",
      "Try using .loc[row_indexer,col_indexer] = value instead\n",
      "\n",
      "See the caveats in the documentation: http://pandas.pydata.org/pandas-docs/stable/indexing.html#indexing-view-versus-copy\n",
      "  self.obj[item] = s\n"
     ]
    },
    {
     "name": "stdout",
     "output_type": "stream",
     "text": [
      "1239.1594723391268\n"
     ]
    }
   ],
   "source": [
    "tic = time.clock()\n",
    "\n",
    "for index, row in simplified_perfiles.iterrows():\n",
    "    servicio = row['ServicioSentido']\n",
    "    patente = row['Patente']\n",
    "    Hini = row['Hini']\n",
    "    Hfin = row['Hfin']\n",
    "    idExpedicion = row['idExpedicion']\n",
    "\n",
    "    simplified_etapas.loc[(simplified_etapas['servicio_subida']==servicio)&(simplified_etapas['sitio_subida']==patente)&(Hini<=simplified_etapas['t_subida'])&(simplified_etapas['t_subida']<=Hfin),'idExpedicion'] = idExpedicion\n",
    "    \n",
    "toc = time.clock()\n",
    "print(toc-tic)"
   ]
  },
  {
   "cell_type": "markdown",
   "metadata": {},
   "source": [
    "* Total time was of 1343 secs = 22.4 mins per date. <font color='green'><strong> PASSED </strong></font>"
   ]
  },
  {
   "cell_type": "markdown",
   "metadata": {},
   "source": [
    "* Testing NaNs"
   ]
  },
  {
   "cell_type": "code",
   "execution_count": 26,
   "metadata": {
    "collapsed": true
   },
   "outputs": [],
   "source": [
    "length = len(simplified_etapas.index)"
   ]
  },
  {
   "cell_type": "code",
   "execution_count": 27,
   "metadata": {
    "collapsed": true,
    "scrolled": true
   },
   "outputs": [],
   "source": [
    "total_NaNs = simplified_etapas[simplified_etapas['idExpedicion'].isnull()].count()[0]"
   ]
  },
  {
   "cell_type": "code",
   "execution_count": 28,
   "metadata": {},
   "outputs": [
    {
     "name": "stdout",
     "output_type": "stream",
     "text": [
      "% of NaNs is: 3.49601889031%\n"
     ]
    }
   ],
   "source": [
    "print('% of NaNs is: ' + str((total_NaNs/length)*100) + '%')"
   ]
  },
  {
   "cell_type": "code",
   "execution_count": 29,
   "metadata": {},
   "outputs": [
    {
     "data": {
      "text/html": [
       "<div>\n",
       "<style>\n",
       "    .dataframe thead tr:only-child th {\n",
       "        text-align: right;\n",
       "    }\n",
       "\n",
       "    .dataframe thead th {\n",
       "        text-align: left;\n",
       "    }\n",
       "\n",
       "    .dataframe tbody tr th {\n",
       "        vertical-align: top;\n",
       "    }\n",
       "</style>\n",
       "<table border=\"1\" class=\"dataframe\">\n",
       "  <thead>\n",
       "    <tr style=\"text-align: right;\">\n",
       "      <th></th>\n",
       "      <th>id</th>\n",
       "      <th>nviaje</th>\n",
       "      <th>tipo_transporte</th>\n",
       "      <th>t_subida</th>\n",
       "      <th>media_hora_subida</th>\n",
       "      <th>servicio_subida</th>\n",
       "      <th>par_subida</th>\n",
       "      <th>sitio_subida</th>\n",
       "      <th>UN</th>\n",
       "      <th>fecha_instalacion_ana</th>\n",
       "      <th>fecha_instalacion_mauricio</th>\n",
       "      <th>min_fecha</th>\n",
       "      <th>torniquete_mariposa</th>\n",
       "      <th>no_torniquete</th>\n",
       "      <th>mismo_paradero</th>\n",
       "      <th>misma_patente</th>\n",
       "      <th>mismo_servicio</th>\n",
       "      <th>diferencia_tiempo</th>\n",
       "      <th>diferencia_tiempo_secs</th>\n",
       "      <th>idExpedicion</th>\n",
       "    </tr>\n",
       "  </thead>\n",
       "  <tbody>\n",
       "    <tr>\n",
       "      <th>338</th>\n",
       "      <td>3918424538</td>\n",
       "      <td>1</td>\n",
       "      <td>BUS</td>\n",
       "      <td>2017-03-01 05:44:13</td>\n",
       "      <td>05:30:00</td>\n",
       "      <td>F03 C0 06R</td>\n",
       "      <td>L-34-107-5-PO</td>\n",
       "      <td>BBKB-11</td>\n",
       "      <td>NaN</td>\n",
       "      <td>NaT</td>\n",
       "      <td>NaT</td>\n",
       "      <td>NaT</td>\n",
       "      <td>0</td>\n",
       "      <td>1</td>\n",
       "      <td>False</td>\n",
       "      <td>False</td>\n",
       "      <td>False</td>\n",
       "      <td>NaT</td>\n",
       "      <td>NaN</td>\n",
       "      <td>NaN</td>\n",
       "    </tr>\n",
       "    <tr>\n",
       "      <th>339</th>\n",
       "      <td>2687909454</td>\n",
       "      <td>1</td>\n",
       "      <td>BUS</td>\n",
       "      <td>2017-03-01 05:45:18</td>\n",
       "      <td>05:30:00</td>\n",
       "      <td>F03 C0 06R</td>\n",
       "      <td>L-34-107-5-PO</td>\n",
       "      <td>BBKB-11</td>\n",
       "      <td>NaN</td>\n",
       "      <td>NaT</td>\n",
       "      <td>NaT</td>\n",
       "      <td>NaT</td>\n",
       "      <td>0</td>\n",
       "      <td>1</td>\n",
       "      <td>True</td>\n",
       "      <td>True</td>\n",
       "      <td>True</td>\n",
       "      <td>00:01:05</td>\n",
       "      <td>65.0</td>\n",
       "      <td>NaN</td>\n",
       "    </tr>\n",
       "    <tr>\n",
       "      <th>340</th>\n",
       "      <td>3181856472</td>\n",
       "      <td>1</td>\n",
       "      <td>BUS</td>\n",
       "      <td>2017-03-01 05:46:41</td>\n",
       "      <td>05:30:00</td>\n",
       "      <td>F03 C0 06R</td>\n",
       "      <td>L-34-107-10-PO</td>\n",
       "      <td>BBKB-11</td>\n",
       "      <td>NaN</td>\n",
       "      <td>NaT</td>\n",
       "      <td>NaT</td>\n",
       "      <td>NaT</td>\n",
       "      <td>0</td>\n",
       "      <td>1</td>\n",
       "      <td>False</td>\n",
       "      <td>True</td>\n",
       "      <td>True</td>\n",
       "      <td>NaT</td>\n",
       "      <td>NaN</td>\n",
       "      <td>38318.0</td>\n",
       "    </tr>\n",
       "    <tr>\n",
       "      <th>341</th>\n",
       "      <td>2813628222</td>\n",
       "      <td>1</td>\n",
       "      <td>BUS</td>\n",
       "      <td>2017-03-01 05:46:44</td>\n",
       "      <td>05:30:00</td>\n",
       "      <td>F03 C0 06R</td>\n",
       "      <td>L-34-107-10-PO</td>\n",
       "      <td>BBKB-11</td>\n",
       "      <td>NaN</td>\n",
       "      <td>NaT</td>\n",
       "      <td>NaT</td>\n",
       "      <td>NaT</td>\n",
       "      <td>0</td>\n",
       "      <td>1</td>\n",
       "      <td>True</td>\n",
       "      <td>True</td>\n",
       "      <td>True</td>\n",
       "      <td>00:00:03</td>\n",
       "      <td>3.0</td>\n",
       "      <td>38318.0</td>\n",
       "    </tr>\n",
       "    <tr>\n",
       "      <th>342</th>\n",
       "      <td>2478431022</td>\n",
       "      <td>1</td>\n",
       "      <td>BUS</td>\n",
       "      <td>2017-03-01 05:46:47</td>\n",
       "      <td>05:30:00</td>\n",
       "      <td>F03 C0 06R</td>\n",
       "      <td>L-34-107-10-PO</td>\n",
       "      <td>BBKB-11</td>\n",
       "      <td>NaN</td>\n",
       "      <td>NaT</td>\n",
       "      <td>NaT</td>\n",
       "      <td>NaT</td>\n",
       "      <td>0</td>\n",
       "      <td>1</td>\n",
       "      <td>True</td>\n",
       "      <td>True</td>\n",
       "      <td>True</td>\n",
       "      <td>00:00:03</td>\n",
       "      <td>3.0</td>\n",
       "      <td>38318.0</td>\n",
       "    </tr>\n",
       "  </tbody>\n",
       "</table>\n",
       "</div>"
      ],
      "text/plain": [
       "             id  nviaje tipo_transporte            t_subida media_hora_subida  \\\n",
       "338  3918424538       1             BUS 2017-03-01 05:44:13          05:30:00   \n",
       "339  2687909454       1             BUS 2017-03-01 05:45:18          05:30:00   \n",
       "340  3181856472       1             BUS 2017-03-01 05:46:41          05:30:00   \n",
       "341  2813628222       1             BUS 2017-03-01 05:46:44          05:30:00   \n",
       "342  2478431022       1             BUS 2017-03-01 05:46:47          05:30:00   \n",
       "\n",
       "    servicio_subida      par_subida sitio_subida   UN fecha_instalacion_ana  \\\n",
       "338      F03 C0 06R   L-34-107-5-PO      BBKB-11  NaN                   NaT   \n",
       "339      F03 C0 06R   L-34-107-5-PO      BBKB-11  NaN                   NaT   \n",
       "340      F03 C0 06R  L-34-107-10-PO      BBKB-11  NaN                   NaT   \n",
       "341      F03 C0 06R  L-34-107-10-PO      BBKB-11  NaN                   NaT   \n",
       "342      F03 C0 06R  L-34-107-10-PO      BBKB-11  NaN                   NaT   \n",
       "\n",
       "    fecha_instalacion_mauricio min_fecha  torniquete_mariposa  no_torniquete  \\\n",
       "338                        NaT       NaT                    0              1   \n",
       "339                        NaT       NaT                    0              1   \n",
       "340                        NaT       NaT                    0              1   \n",
       "341                        NaT       NaT                    0              1   \n",
       "342                        NaT       NaT                    0              1   \n",
       "\n",
       "     mismo_paradero  misma_patente  mismo_servicio diferencia_tiempo  \\\n",
       "338           False          False           False               NaT   \n",
       "339            True           True            True          00:01:05   \n",
       "340           False           True            True               NaT   \n",
       "341            True           True            True          00:00:03   \n",
       "342            True           True            True          00:00:03   \n",
       "\n",
       "     diferencia_tiempo_secs  idExpedicion  \n",
       "338                     NaN           NaN  \n",
       "339                    65.0           NaN  \n",
       "340                     NaN       38318.0  \n",
       "341                     3.0       38318.0  \n",
       "342                     3.0       38318.0  "
      ]
     },
     "execution_count": 29,
     "metadata": {},
     "output_type": "execute_result"
    }
   ],
   "source": [
    "simplified_etapas.head()"
   ]
  },
  {
   "cell_type": "markdown",
   "metadata": {},
   "source": [
    "## Closed"
   ]
  }
 ],
 "metadata": {
  "kernelspec": {
   "display_name": "Python 3",
   "language": "python",
   "name": "python3"
  },
  "language_info": {
   "codemirror_mode": {
    "name": "ipython",
    "version": 3
   },
   "file_extension": ".py",
   "mimetype": "text/x-python",
   "name": "python",
   "nbconvert_exporter": "python",
   "pygments_lexer": "ipython3",
   "version": "3.6.1"
  }
 },
 "nbformat": 4,
 "nbformat_minor": 2
}
