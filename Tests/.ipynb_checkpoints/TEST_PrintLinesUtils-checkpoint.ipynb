{
 "cells": [
  {
   "cell_type": "markdown",
   "metadata": {},
   "source": [
    "# Only for printing things"
   ]
  },
  {
   "cell_type": "code",
   "execution_count": 1,
   "metadata": {
    "collapsed": true
   },
   "outputs": [],
   "source": [
    "import os\n",
    "import sys\n",
    "module_path = os.path.abspath(os.path.join('..'))\n",
    "if module_path not in sys.path:\n",
    "    sys.path.append(module_path)"
   ]
  },
  {
   "cell_type": "code",
   "execution_count": 2,
   "metadata": {
    "scrolled": true
   },
   "outputs": [],
   "source": [
    "from Utils import PrintLinesUtils"
   ]
  },
  {
   "cell_type": "code",
   "execution_count": 3,
   "metadata": {},
   "outputs": [
    {
     "name": "stdout",
     "output_type": "stream",
     "text": [
      "ServicioSentido|Patente|Paradero|NombreParada|Hini|Hfin|Cumplimiento|Correlativo|idExpedicion|DistEnRuta|#Subidas|#SubidasLejanas|Subidastotal|SubidasExpandidas|#Bajadas|#BajadasLejanas|Bajadastotal|BajadasExpandidas|Carga|Capacidad|TiempoGPSInterpolado|TiempoPrimeraTrx|TiempoGPSMasCercano|Tiempo|nSubidasTmp|ParaderoUsuario|PeriodoTSExpedicion|PeriodoTSParada|TipoDia|ZP|DeltaTrxs \n",
      "\n",
      "T118 00I|ZB-6854|T-13-369-PO-5|René Olivares esq. / Los Olivares|2017-03-01 01:32:45|2017-03-01 01:42:14|NC|1|0|120|0|0|0|0|0|0|0|0|0|91|-|-|01:32:15|2017-03-01 01:32:15|0|PI528|02 - NOCTURNO|02 - NOCTURNO|LABORAL|0|0\n",
      "\n",
      "T118 00I|ZB-6854|L-13-69-5-PO|René Olivares esq. / Avenida 4 Poniente|2017-03-01 01:32:45|2017-03-01 01:42:14|NC|2|0|392|0|0|0|0|0|0|0|0|0|91|01:32:23|-|01:32:15|2017-03-01 01:32:23|0|PI529|02 - NOCTURNO|02 - NOCTURNO|LABORAL|0|0\n",
      "\n",
      "T118 00I|ZB-6854|L-13-3-42-SN|Avenida 4 Poniente esq. / Pdte. J.M Balmaceda|2017-03-01 01:32:45|2017-03-01 01:42:14|NC|3|0|595|0|0|0|0|0|0|0|0|0|91|01:35:20|-|01:33:15|2017-03-01 01:35:20|0|PI1350|02 - NOCTURNO|02 - NOCTURNO|LABORAL|0|0\n",
      "\n",
      "T118 00I|ZB-6854|T-13-91-OP-5|Avenida 4 Poniente esq. / Av. González Videla|2017-03-01 01:32:45|2017-03-01 01:42:14|NC|4|0|888|0|0|0|0|0|0|0|0|0|91|01:35:30|-|01:35:45|2017-03-01 01:35:30|0|PI89|02 - NOCTURNO|02 - NOCTURNO|LABORAL|0|0\n",
      "\n",
      "T118 00I|ZB-6854|T-13-105-SN-5|Pdte. G. Videla esq. / Cerro Blanco|2017-03-01 01:32:45|2017-03-01 01:42:14|NC|5|0|1251|0|0|0|0|0|0|0|0|0|91|01:35:41|-|01:35:45|2017-03-01 01:35:41|0|PI90|02 - NOCTURNO|02 - NOCTURNO|LABORAL|0|0\n",
      "\n",
      "T118 00I|ZB-6854|T-13-105-SN-10|Pdte. G. Videla esq. / Chipana|2017-03-01 01:32:45|2017-03-01 01:42:14|NC|6|0|1505|0|0|0|0|0|0|0|0|0|91|01:35:52|-|01:35:45|2017-03-01 01:35:52|0|PI91|02 - NOCTURNO|02 - NOCTURNO|LABORAL|0|0\n",
      "\n",
      "T118 00I|ZB-6854|T-13-93-PO-5|A. Silva Carvallo esq. / Pdte. J.M Balmaceda|2017-03-01 01:32:45|2017-03-01 01:42:14|NC|7|0|1858|0|0|0|0|0|0|0|0|0|91|01:36:10|-|01:36:15|2017-03-01 01:36:10|0|PI92|02 - NOCTURNO|02 - NOCTURNO|LABORAL|0|0\n",
      "\n",
      "T118 00I|ZB-6854|T-13-93-PO-10|A. Silva Carvallo esq. / Avenida 3 Poniente|2017-03-01 01:32:45|2017-03-01 01:42:14|NC|8|0|2276|0|0|0|0|0|0|0|0|0|91|01:37:14|-|01:37:15|2017-03-01 01:37:14|0|PI93|02 - NOCTURNO|02 - NOCTURNO|LABORAL|0|0\n",
      "\n",
      "T118 00I|ZB-6854|T-13-93-PO-15|A. Silva Carvallo esq. / Tito Mundt|2017-03-01 01:32:45|2017-03-01 01:42:14|NC|9|0|2534|0|0|0|0|0|0|0|0|0|91|01:39:09|-|01:39:15|2017-03-01 01:39:09|0|PI94|02 - NOCTURNO|02 - NOCTURNO|LABORAL|0|0\n",
      "\n",
      "T118 00I|ZB-6854|T-13-97-SN-10|Avenida El Olimpo esq. / Julio Perceval|2017-03-01 01:32:45|2017-03-01 01:42:14|NC|10|0|2903|0|0|0|0|0|0|0|0|0|91|01:40:17|-|01:39:15|2017-03-01 01:40:17|0|PI95|02 - NOCTURNO|02 - NOCTURNO|LABORAL|0|0\n",
      "\n",
      "T118 00I|ZB-6854|T-13-97-SN-15|Avenida El Olimpo esq. / Nueva San Martín|2017-03-01 01:32:45|2017-03-01 01:42:14|NC|11|0|3235|0|0|0|0|0|0|0|0|0|91|01:40:19|-|-|2017-03-01 01:40:19|0|PI96|02 - NOCTURNO|02 - NOCTURNO|LABORAL|0|0\n",
      "\n",
      "T118 00I|ZB-6854|T-13-97-SN-20|Avenida El Olimpo esq. / Avenida Sur|2017-03-01 01:32:45|2017-03-01 01:42:14|NC|12|0|3573|0|0|0|0|0|0|0|0|0|91|01:40:21|-|-|2017-03-01 01:40:21|0|PI97|02 - NOCTURNO|02 - NOCTURNO|LABORAL|0|0\n",
      "\n",
      "T118 00I|ZB-6854|T-13-97-SN-25|Avenida El Olimpo esq. / Avenida Portales|2017-03-01 01:32:45|2017-03-01 01:42:14|NC|13|0|3956|0|0|0|0|0|0|0|0|0|91|01:40:24|-|-|2017-03-01 01:40:24|0|PI98|02 - NOCTURNO|02 - NOCTURNO|LABORAL|0|0\n",
      "\n",
      "T118 00I|ZB-6854|T-13-97-SN-30|Avenida El Olimpo esq. / Las Tinajas|2017-03-01 01:32:45|2017-03-01 01:42:14|NC|14|0|4271|0|0|0|0|0|0|0|0|0|91|01:40:26|-|-|2017-03-01 01:40:26|0|PI99|02 - NOCTURNO|02 - NOCTURNO|LABORAL|0|0\n",
      "\n",
      "T118 00I|ZB-6854|T-13-97-SN-35|Avenida El Olimpo esq. / Avenida Grecia|2017-03-01 01:32:45|2017-03-01 01:42:14|NC|15|0|4530|0|0|0|0|0|0|0|0|0|91|01:40:28|-|-|2017-03-01 01:40:28|0|PI100|02 - NOCTURNO|02 - NOCTURNO|LABORAL|0|0\n",
      "\n",
      "T118 00I|ZB-6854|T-13-97-SN-40|Parada  / Colegio Polivalente   Patricio Mekis|2017-03-01 01:32:45|2017-03-01 01:42:14|NC|16|0|4836|0|0|0|0|0|0|0|0|0|91|01:40:30|-|-|2017-03-01 01:40:30|0|PI101|02 - NOCTURNO|02 - NOCTURNO|LABORAL|0|0\n",
      "\n",
      "T118 00I|ZB-6854|T-13-94-PO-33|Parada 4 / Hospital MAIPU|2017-03-01 01:32:45|2017-03-01 01:42:14|NC|17|0|5143|0|0|0|0|0|0|0|0|0|91|01:40:32|-|-|2017-03-01 01:40:32|0|PI1792|02 - NOCTURNO|02 - NOCTURNO|LABORAL|0|0\n",
      "\n",
      "T118 00I|ZB-6854|T-13-94-PO-35|Parada 1 / Hospital MAIPU|2017-03-01 01:32:45|2017-03-01 01:42:14|NC|18|0|5332|0|0|0|0|0|0|0|0|0|91|01:40:33|-|-|2017-03-01 01:40:33|0|PI102|02 - NOCTURNO|02 - NOCTURNO|LABORAL|0|0\n",
      "\n",
      "T118 00I|ZB-6854|T-13-94-PO-40|Camino a Rinconada esq. / República|2017-03-01 01:32:45|2017-03-01 01:42:14|NC|19|0|5644|0|0|0|0|0|0|0|0|0|91|01:40:35|-|-|2017-03-01 01:40:35|0|PI103|02 - NOCTURNO|02 - NOCTURNO|LABORAL|0|0\n",
      "\n",
      "T118 00I|ZB-6854|T-13-94-PO-45|Camino a Rinconada esq. / Las Heras|2017-03-01 01:32:45|2017-03-01 01:42:14|NC|20|0|5842|0|0|0|0|0|0|0|0|0|91|01:40:36|-|-|2017-03-01 01:40:36|0|PI104|02 - NOCTURNO|02 - NOCTURNO|LABORAL|0|0\n",
      "\n",
      "T118 00I|ZB-6854|T-13-278-PO-5|Parada 1 / Templo Votivo|2017-03-01 01:32:45|2017-03-01 01:42:14|NC|21|0|6246|0|0|0|0|0|0|0|0|0|91|01:40:39|-|-|2017-03-01 01:40:39|0|PI105|02 - NOCTURNO|02 - NOCTURNO|LABORAL|0|0\n",
      "\n",
      "T118 00I|ZB-6854|E-13-278-PO-15|Parada 8 / (M) Plaza   de MAIPU|2017-03-01 01:32:45|2017-03-01 01:42:14|NC|22|0|6796|0|0|0|0|0|0|0|0|0|91|01:40:43|-|01:40:45|2017-03-01 01:40:43|0|PI106|02 - NOCTURNO|02 - NOCTURNO|LABORAL|0|0\n",
      "\n",
      "T118 00I|ZB-6854|T-13-278-PO-30|Avenida 5 de Abril esq. / 1ª Transversal|2017-03-01 01:32:45|2017-03-01 01:42:14|NC|23|0|7056|0|0|0|0|0|0|0|0|0|91|01:40:44|-|01:40:45|2017-03-01 01:40:44|0|PI1366|02 - NOCTURNO|02 - NOCTURNO|LABORAL|0|0\n",
      "\n",
      "T118 00I|ZB-6854|T-13-278-PO-35|Avenida 5 de Abril esq. / Las Terrazas|2017-03-01 01:32:45|2017-03-01 01:42:14|NC|24|0|7322|0|0|0|0|0|0|0|0|0|91|01:41:00|-|01:41:15|2017-03-01 01:41:00|0|PI1367|02 - NOCTURNO|02 - NOCTURNO|LABORAL|0|0\n",
      "\n",
      "T118 00I|ZB-6854|T-13-278-PO-40|Parada 1 / Estadio   Santiago Bueras|2017-03-01 01:32:45|2017-03-01 01:42:14|NC|25|0|7590|0|0|0|0|0|0|0|0|0|91|01:41:29|-|01:41:15|2017-03-01 01:41:29|0|PI1368|02 - NOCTURNO|02 - NOCTURNO|LABORAL|0|0\n",
      "\n",
      "T118 00I|ZB-6854|T-13-278-PO-45|Avenida 5 de Abril esq. / Los Estandartes|2017-03-01 01:32:45|2017-03-01 01:42:14|NC|26|0|7926|0|0|0|0|0|0|0|0|0|91|-|-|01:41:45|2017-03-01 01:41:45|0|PI1369|02 - NOCTURNO|02 - NOCTURNO|LABORAL|0|0\n",
      "\n",
      "T118 00I|ZB-6854|T-13-278-PO-50|Parada 1 / Portal MAIPU|2017-03-01 01:32:45|2017-03-01 01:42:14|NC|27|0|8179|0|0|0|0|0|0|0|0|0|91|-|-|-|-|0|PI1370|02 - NOCTURNO|-|LABORAL|0|0\n",
      "\n",
      "T118 00I|ZB-6854|T-13-98-PO-30|Av. Esquina Blanca esq. / Avenida Las Torres|2017-03-01 01:32:45|2017-03-01 01:42:14|NC|28|0|8662|0|0|0|0|0|0|0|0|0|91|-|-|-|-|0|PI112|02 - NOCTURNO|-|LABORAL|0|0\n",
      "\n",
      "T118 00I|ZB-6854|T-13-98-PO-40|Av. Esquina Blanca esq. / Los Tilos|2017-03-01 01:32:45|2017-03-01 01:42:14|NC|29|0|8981|0|0|0|0|0|0|0|0|0|91|-|-|-|-|0|PI114|02 - NOCTURNO|-|LABORAL|0|0\n",
      "\n",
      "T118 00I|ZB-6854|T-13-98-PO-45|Parada  / Plaza Zaror|2017-03-01 01:32:45|2017-03-01 01:42:14|NC|30|0|9321|0|0|0|0|0|0|0|0|0|91|-|-|-|-|0|PI115|02 - NOCTURNO|-|LABORAL|0|0\n",
      "\n",
      "T118 00I|ZB-6854|T-13-88-PO-5|Parada 1 / Liceo MAIPU|2017-03-01 01:32:45|2017-03-01 01:42:14|NC|31|0|9590|0|0|0|0|0|0|0|0|0|91|-|-|-|-|0|PI116|02 - NOCTURNO|-|LABORAL|0|0\n",
      "\n",
      "T118 00I|ZB-6854|T-13-12-PO-5|Av. Américo Vespucio esq. / Camino A Lonquén|2017-03-01 01:32:45|2017-03-01 01:42:14|NC|32|0|10233|0|0|0|0|0|0|0|0|0|91|-|-|-|-|0|PI355|02 - NOCTURNO|-|LABORAL|0|0\n",
      "\n",
      "T118 00I|ZB-6854|T-12-12-PO-15|Parada  / Mall Plaza Oeste|2017-03-01 01:32:45|2017-03-01 01:42:14|NC|33|0|10863|0|0|0|0|0|0|0|0|0|91|-|-|-|-|0|PI356|02 - NOCTURNO|-|LABORAL|0|0\n",
      "\n",
      "T118 00I|ZB-6854|T-12-12-PO-20|Parada  / Lider - Oeste|2017-03-01 01:32:45|2017-03-01 01:42:14|NC|34|0|11500|0|0|0|0|0|0|0|0|0|91|-|-|-|-|0|PI357|02 - NOCTURNO|-|LABORAL|0|0\n",
      "\n",
      "T118 00I|ZB-6854|T-29-12-PO-5|Av. Américo Vespucio esq. / Valenzuela Llanos|2017-03-01 01:32:45|2017-03-01 01:42:14|NC|35|0|12397|0|0|0|0|0|0|0|0|0|91|-|-|-|-|0|PH283|02 - NOCTURNO|-|LABORAL|0|0\n",
      "\n",
      "T118 00I|ZB-6854|T-29-12-PO-10|Av. Américo Vespucio esq. / Avenida Central|2017-03-01 01:32:45|2017-03-01 01:42:14|NC|36|0|12644|0|0|0|0|0|0|0|0|0|91|-|-|-|-|0|PH284|02 - NOCTURNO|-|LABORAL|0|0\n",
      "\n",
      "T118 00I|ZB-6854|T-29-12-PO-15|Av. Américo Vespucio esq. / Casa Grande|2017-03-01 01:32:45|2017-03-01 01:42:14|NC|37|0|12852|0|0|0|0|0|0|0|0|0|91|-|-|-|-|0|PH285|02 - NOCTURNO|-|LABORAL|0|0\n",
      "\n",
      "T118 00I|ZB-6854|T-29-12-PO-20|Av. Américo Vespucio esq. / Astaburuaga|2017-03-01 01:32:45|2017-03-01 01:42:14|NC|38|0|13421|0|0|0|0|0|0|0|0|0|91|-|-|-|-|0|PH286|02 - NOCTURNO|-|LABORAL|0|0\n",
      "\n",
      "T118 00I|ZB-6854|T-29-12-PO-25|Parada 1 / Cementerio   Metropolitano|2017-03-01 01:32:45|2017-03-01 01:42:14|NC|39|0|14051|0|0|0|0|0|0|0|0|0|91|-|-|-|-|0|PH287|02 - NOCTURNO|-|LABORAL|0|0\n",
      "\n",
      "T118 00I|ZB-6854|T-26-12-PO-5|Av. Américo Vespucio esq. / La Vendimia|2017-03-01 01:32:45|2017-03-01 01:42:14|NC|40|0|14669|0|0|0|0|0|0|0|0|0|91|-|-|-|-|0|PG389|02 - NOCTURNO|-|LABORAL|0|0\n",
      "\n",
      "T118 00I|ZB-6854|T-26-12-PO-15|Parada  / Fundación Integra|2017-03-01 01:32:45|2017-03-01 01:42:14|NC|41|0|15468|0|0|0|0|0|0|0|0|0|91|-|-|-|-|0|PG391|02 - NOCTURNO|-|LABORAL|0|0\n",
      "\n",
      "T118 00I|ZB-6854|T-26-12-PO-20|Parada 10 / (M) La Cisterna|2017-03-01 01:32:45|2017-03-01 01:42:14|NC|42|0|16098|0|0|0|0|0|0|0|0|0|91|-|-|-|-|0|PG264|02 - NOCTURNO|-|LABORAL|0|0\n",
      "\n",
      "T118 00I|ZB-6854|T-26-12-PO-22|Parada 4 / (M) La Cisterna|2017-03-01 01:32:45|2017-03-01 01:42:14|NC|43|0|16340|0|0|0|0|0|0|0|0|0|91|-|-|-|-|0|PG212|02 - NOCTURNO|-|LABORAL|0|0\n",
      "\n",
      "T118 00I|ZB-6854|T-26-12-PO-25|Av. Américo Vespucio esq. / San Carlos|2017-03-01 01:32:45|2017-03-01 01:42:14|NC|44|0|16683|0|0|0|0|0|0|0|0|0|91|-|-|-|-|0|PG213|02 - NOCTURNO|-|LABORAL|0|0\n",
      "\n",
      "T118 00I|ZB-6854|T-26-12-PO-30|Parada  / Complejo Educ.   Los Andes|2017-03-01 01:32:45|2017-03-01 01:42:14|NC|45|0|17103|0|0|0|0|0|0|0|0|0|91|-|-|-|-|0|PG214|02 - NOCTURNO|-|LABORAL|0|0\n",
      "\n",
      "T118 00I|ZB-6854|T-26-12-PO-35|Av. Américo Vespucio esq. / Cerro Negro|2017-03-01 01:32:45|2017-03-01 01:42:14|NC|46|0|17489|0|0|0|0|0|0|0|0|0|91|-|-|-|-|0|PG215|02 - NOCTURNO|-|LABORAL|0|0\n",
      "\n",
      "T118 00I|ZB-6854|T-24-12-PO-5|Av. Américo Vespucio esq. / Av. La Bandera|2017-03-01 01:32:45|2017-03-01 01:42:14|NC|47|0|17907|0|0|0|0|0|0|0|0|0|91|-|-|-|-|0|PG216|02 - NOCTURNO|-|LABORAL|0|0\n",
      "\n",
      "T118 00I|ZB-6854|T-24-12-PO-10|Parada 1 / (M) San RAMON|2017-03-01 01:32:45|2017-03-01 01:42:14|NC|48|0|18243|0|0|0|0|0|0|0|0|0|91|-|-|-|-|0|PG217|02 - NOCTURNO|-|LABORAL|0|0\n",
      "\n",
      "T118 00I|ZB-6854|T-24-12-PO-15|Av. Américo Vespucio esq. / P. Aguirre Cerda|2017-03-01 01:32:45|2017-03-01 01:42:14|NC|49|0|18774|0|0|0|0|0|0|0|0|0|91|-|-|-|-|0|PG218|02 - NOCTURNO|-|LABORAL|0|0\n",
      "\n"
     ]
    }
   ],
   "source": [
    "PrintLinesUtils.readAndPrintLines('perfiles','50','2017-03-01')"
   ]
  }
 ],
 "metadata": {
  "kernelspec": {
   "display_name": "Python 3",
   "language": "python",
   "name": "python3"
  },
  "language_info": {
   "codemirror_mode": {
    "name": "ipython",
    "version": 3
   },
   "file_extension": ".py",
   "mimetype": "text/x-python",
   "name": "python",
   "nbconvert_exporter": "python",
   "pygments_lexer": "ipython3",
   "version": "3.6.1"
  }
 },
 "nbformat": 4,
 "nbformat_minor": 2
}
