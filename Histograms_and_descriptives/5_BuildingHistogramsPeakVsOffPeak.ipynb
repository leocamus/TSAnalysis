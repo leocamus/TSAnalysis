{
 "cells": [
  {
   "cell_type": "markdown",
   "metadata": {},
   "source": [
    "# Building (Peak vs. Off Peak) Histograms"
   ]
  },
  {
   "cell_type": "code",
   "execution_count": 1,
   "metadata": {
    "collapsed": true
   },
   "outputs": [],
   "source": [
    "import os\n",
    "import sys\n",
    "module_path = os.path.abspath(os.path.join('..'))\n",
    "if module_path not in sys.path:\n",
    "    sys.path.append(module_path)"
   ]
  },
  {
   "cell_type": "code",
   "execution_count": 2,
   "metadata": {
    "scrolled": true
   },
   "outputs": [
    {
     "data": {
      "text/html": [
       "<style>.container { width:80% !important; }</style>"
      ],
      "text/plain": [
       "<IPython.core.display.HTML object>"
      ]
     },
     "metadata": {},
     "output_type": "display_data"
    }
   ],
   "source": [
    "%matplotlib inline\n",
    "from IPython.core.display import display, HTML\n",
    "display(HTML(\"<style>.container { width:80% !important; }</style>\"))\n",
    "import pandas as pd\n",
    "import matplotlib\n",
    "import matplotlib.pyplot as plt\n",
    "import numpy as np\n",
    "from importlib import reload\n",
    "import datetime as dt"
   ]
  },
  {
   "cell_type": "code",
   "execution_count": 3,
   "metadata": {
    "collapsed": true
   },
   "outputs": [],
   "source": [
    "import DailyEtapasBuilder"
   ]
  },
  {
   "cell_type": "markdown",
   "metadata": {},
   "source": [
    "#### Running the builder of the dataframe for date = 2017-08-23"
   ]
  },
  {
   "cell_type": "code",
   "execution_count": 4,
   "metadata": {
    "collapsed": true
   },
   "outputs": [],
   "source": [
    "date = '2017-08-23' #Last date, Wednesday\n",
    "#Creating the object.\n",
    "etapas_builder = DailyEtapasBuilder.RunSilentlyDailyEtapasBuilderClass(date)\n",
    "#Building.\n",
    "etapas_builder.loadSimplifiedEtapas()\n",
    "etapas_builder.cleanDataFrame() #Be aware of this condition\n",
    "etapas_builder.mergeTurnstileData()\n",
    "etapas_builder.sortDataFrame()\n",
    "etapas_builder.postProcessingSortedDataFrame()\n",
    "#Retrieving the info.\n",
    "etapas_df = etapas_builder.etapas_df\n",
    "filtered_df = etapas_builder.filteringDf()[0]"
   ]
  },
  {
   "cell_type": "markdown",
   "metadata": {},
   "source": [
    "* Filtering by mismo_paradero, misma_patente and by si_torniquete. This is a key part"
   ]
  },
  {
   "cell_type": "code",
   "execution_count": 5,
   "metadata": {},
   "outputs": [
    {
     "name": "stdout",
     "output_type": "stream",
     "text": [
      "Percentile 97th for database is: 0 days 00:00:26\n"
     ]
    }
   ],
   "source": [
    "percentil_97 = filtered_df['diferencia_tiempo'].quantile(0.97)\n",
    "print ('Percentile 97th for database is: ' + str(percentil_97))\n",
    "percentil_97_df = filtered_df[filtered_df['diferencia_tiempo']<=percentil_97]"
   ]
  },
  {
   "cell_type": "code",
   "execution_count": 6,
   "metadata": {
    "collapsed": true
   },
   "outputs": [],
   "source": [
    "turnstile_97_df = percentil_97_df[percentil_97_df['torniquete_mariposa']==1]\n",
    "no_turnstile_97_df = percentil_97_df[percentil_97_df['no_torniquete']==1]"
   ]
  },
  {
   "cell_type": "markdown",
   "metadata": {},
   "source": [
    "* Filtering by period (peak vs. off-peak). In this case, peak is PMA + PTA"
   ]
  },
  {
   "cell_type": "code",
   "execution_count": 8,
   "metadata": {
    "collapsed": true
   },
   "outputs": [],
   "source": [
    "off_peak_start_1 = dt.time(0,0,0)\n",
    "off_peak_end_1 = dt.time(6,29,59)\n",
    "\n",
    "peak_start_1 = dt.time(6,30,0)\n",
    "peak_end_1 = dt.time(8,29,59)\n",
    "\n",
    "off_peak_start_2 = dt.time(8,30,0)\n",
    "off_peak_end_2 = dt.time(17,29,59)\n",
    "\n",
    "peak_start_2 = dt.time(17,30,0)\n",
    "peak_end_2 = dt.time(20,29,59)\n",
    "\n",
    "off_peak_start_3 = dt.time(20,30,0)\n",
    "off_peak_end_3 = dt.time(23,59,0)"
   ]
  },
  {
   "cell_type": "markdown",
   "metadata": {},
   "source": [
    "* TODO: Consider reducing this"
   ]
  },
  {
   "cell_type": "code",
   "execution_count": 9,
   "metadata": {
    "collapsed": true
   },
   "outputs": [],
   "source": [
    "off_peak_turnstile_df = turnstile_97_df[((off_peak_start_1<=turnstile_97_df['t_subida'].dt.time)\n",
    "                                               & (turnstile_97_df['t_subida'].dt.time<=off_peak_end_1))\n",
    "                                               | ((off_peak_start_2<=turnstile_97_df['t_subida'].dt.time)\n",
    "                                               & (turnstile_97_df['t_subida'].dt.time<=off_peak_end_2))\n",
    "                                               | ((off_peak_start_3<=turnstile_97_df['t_subida'].dt.time)\n",
    "                                               & (turnstile_97_df['t_subida'].dt.time<=off_peak_end_3))]\n",
    "\n",
    "off_peak_no_turnstile_df = no_turnstile_97_df[((off_peak_start_1<=no_turnstile_97_df['t_subida'].dt.time)\n",
    "                                               & (no_turnstile_97_df['t_subida'].dt.time<=off_peak_end_1))\n",
    "                                               | ((off_peak_start_2<=no_turnstile_97_df['t_subida'].dt.time)\n",
    "                                               & (no_turnstile_97_df['t_subida'].dt.time<=off_peak_end_2))\n",
    "                                               | ((off_peak_start_3<=no_turnstile_97_df['t_subida'].dt.time)\n",
    "                                               & (no_turnstile_97_df['t_subida'].dt.time<=off_peak_end_3))]\n",
    "\n",
    "peak_turnstile_df = turnstile_97_df[((peak_start_1<=turnstile_97_df['t_subida'].dt.time)\n",
    "                                           & (turnstile_97_df['t_subida'].dt.time<=peak_end_1))\n",
    "                                           | ((peak_start_2<=turnstile_97_df['t_subida'].dt.time)\n",
    "                                           & (turnstile_97_df['t_subida'].dt.time<=peak_end_2))]\n",
    "\n",
    "peak_no_turnstile_df = no_turnstile_97_df[((peak_start_1<=no_turnstile_97_df['t_subida'].dt.time)\n",
    "                                           & (no_turnstile_97_df['t_subida'].dt.time<=peak_end_1))\n",
    "                                           | ((peak_start_2<=no_turnstile_97_df['t_subida'].dt.time)\n",
    "                                           & (no_turnstile_97_df['t_subida'].dt.time<=peak_end_2))]"
   ]
  },
  {
   "cell_type": "code",
   "execution_count": 10,
   "metadata": {
    "scrolled": false
   },
   "outputs": [
    {
     "data": {
      "text/html": [
       "<div>\n",
       "<style>\n",
       "    .dataframe thead tr:only-child th {\n",
       "        text-align: right;\n",
       "    }\n",
       "\n",
       "    .dataframe thead th {\n",
       "        text-align: left;\n",
       "    }\n",
       "\n",
       "    .dataframe tbody tr th {\n",
       "        vertical-align: top;\n",
       "    }\n",
       "</style>\n",
       "<table border=\"1\" class=\"dataframe\">\n",
       "  <thead>\n",
       "    <tr style=\"text-align: right;\">\n",
       "      <th></th>\n",
       "      <th>id</th>\n",
       "      <th>nviaje</th>\n",
       "      <th>torniquete_mariposa</th>\n",
       "      <th>no_torniquete</th>\n",
       "      <th>diferencia_tiempo</th>\n",
       "      <th>diferencia_tiempo_secs</th>\n",
       "    </tr>\n",
       "  </thead>\n",
       "  <tbody>\n",
       "    <tr>\n",
       "      <th>count</th>\n",
       "      <td>2.325050e+05</td>\n",
       "      <td>232505.000</td>\n",
       "      <td>232505.0</td>\n",
       "      <td>232505.0</td>\n",
       "      <td>232505</td>\n",
       "      <td>232505.000</td>\n",
       "    </tr>\n",
       "    <tr>\n",
       "      <th>mean</th>\n",
       "      <td>1.702711e+09</td>\n",
       "      <td>1.689</td>\n",
       "      <td>1.0</td>\n",
       "      <td>0.0</td>\n",
       "      <td>0 days 00:00:05.673594</td>\n",
       "      <td>5.674</td>\n",
       "    </tr>\n",
       "    <tr>\n",
       "      <th>std</th>\n",
       "      <td>1.418261e+09</td>\n",
       "      <td>0.886</td>\n",
       "      <td>0.0</td>\n",
       "      <td>0.0</td>\n",
       "      <td>0 days 00:00:03.865770</td>\n",
       "      <td>3.866</td>\n",
       "    </tr>\n",
       "    <tr>\n",
       "      <th>min</th>\n",
       "      <td>1.163274e+06</td>\n",
       "      <td>1.000</td>\n",
       "      <td>1.0</td>\n",
       "      <td>0.0</td>\n",
       "      <td>0 days 00:00:00</td>\n",
       "      <td>0.000</td>\n",
       "    </tr>\n",
       "    <tr>\n",
       "      <th>25%</th>\n",
       "      <td>2.826601e+08</td>\n",
       "      <td>1.000</td>\n",
       "      <td>1.0</td>\n",
       "      <td>0.0</td>\n",
       "      <td>0 days 00:00:03</td>\n",
       "      <td>3.000</td>\n",
       "    </tr>\n",
       "    <tr>\n",
       "      <th>50%</th>\n",
       "      <td>1.510285e+09</td>\n",
       "      <td>1.000</td>\n",
       "      <td>1.0</td>\n",
       "      <td>0.0</td>\n",
       "      <td>0 days 00:00:04</td>\n",
       "      <td>4.000</td>\n",
       "    </tr>\n",
       "    <tr>\n",
       "      <th>75%</th>\n",
       "      <td>3.088545e+09</td>\n",
       "      <td>2.000</td>\n",
       "      <td>1.0</td>\n",
       "      <td>0.0</td>\n",
       "      <td>0 days 00:00:06</td>\n",
       "      <td>6.000</td>\n",
       "    </tr>\n",
       "    <tr>\n",
       "      <th>max</th>\n",
       "      <td>4.293227e+09</td>\n",
       "      <td>12.000</td>\n",
       "      <td>1.0</td>\n",
       "      <td>0.0</td>\n",
       "      <td>0 days 00:00:26</td>\n",
       "      <td>26.000</td>\n",
       "    </tr>\n",
       "  </tbody>\n",
       "</table>\n",
       "</div>"
      ],
      "text/plain": [
       "                 id      nviaje  torniquete_mariposa  no_torniquete  \\\n",
       "count  2.325050e+05  232505.000             232505.0       232505.0   \n",
       "mean   1.702711e+09       1.689                  1.0            0.0   \n",
       "std    1.418261e+09       0.886                  0.0            0.0   \n",
       "min    1.163274e+06       1.000                  1.0            0.0   \n",
       "25%    2.826601e+08       1.000                  1.0            0.0   \n",
       "50%    1.510285e+09       1.000                  1.0            0.0   \n",
       "75%    3.088545e+09       2.000                  1.0            0.0   \n",
       "max    4.293227e+09      12.000                  1.0            0.0   \n",
       "\n",
       "            diferencia_tiempo  diferencia_tiempo_secs  \n",
       "count                  232505              232505.000  \n",
       "mean   0 days 00:00:05.673594                   5.674  \n",
       "std    0 days 00:00:03.865770                   3.866  \n",
       "min           0 days 00:00:00                   0.000  \n",
       "25%           0 days 00:00:03                   3.000  \n",
       "50%           0 days 00:00:04                   4.000  \n",
       "75%           0 days 00:00:06                   6.000  \n",
       "max           0 days 00:00:26                  26.000  "
      ]
     },
     "execution_count": 10,
     "metadata": {},
     "output_type": "execute_result"
    }
   ],
   "source": [
    "off_peak_turnstile_df.describe().round(3)"
   ]
  },
  {
   "cell_type": "code",
   "execution_count": 11,
   "metadata": {
    "scrolled": true
   },
   "outputs": [
    {
     "data": {
      "text/html": [
       "<div>\n",
       "<style>\n",
       "    .dataframe thead tr:only-child th {\n",
       "        text-align: right;\n",
       "    }\n",
       "\n",
       "    .dataframe thead th {\n",
       "        text-align: left;\n",
       "    }\n",
       "\n",
       "    .dataframe tbody tr th {\n",
       "        vertical-align: top;\n",
       "    }\n",
       "</style>\n",
       "<table border=\"1\" class=\"dataframe\">\n",
       "  <thead>\n",
       "    <tr style=\"text-align: right;\">\n",
       "      <th></th>\n",
       "      <th>id</th>\n",
       "      <th>nviaje</th>\n",
       "      <th>torniquete_mariposa</th>\n",
       "      <th>no_torniquete</th>\n",
       "      <th>diferencia_tiempo</th>\n",
       "      <th>diferencia_tiempo_secs</th>\n",
       "    </tr>\n",
       "  </thead>\n",
       "  <tbody>\n",
       "    <tr>\n",
       "      <th>count</th>\n",
       "      <td>6.073400e+05</td>\n",
       "      <td>607340.000</td>\n",
       "      <td>607340.0</td>\n",
       "      <td>607340.0</td>\n",
       "      <td>607340</td>\n",
       "      <td>607340.000</td>\n",
       "    </tr>\n",
       "    <tr>\n",
       "      <th>mean</th>\n",
       "      <td>1.742799e+09</td>\n",
       "      <td>1.701</td>\n",
       "      <td>0.0</td>\n",
       "      <td>1.0</td>\n",
       "      <td>0 days 00:00:03.544495</td>\n",
       "      <td>3.544</td>\n",
       "    </tr>\n",
       "    <tr>\n",
       "      <th>std</th>\n",
       "      <td>1.410755e+09</td>\n",
       "      <td>0.894</td>\n",
       "      <td>0.0</td>\n",
       "      <td>0.0</td>\n",
       "      <td>0 days 00:00:03.697930</td>\n",
       "      <td>3.698</td>\n",
       "    </tr>\n",
       "    <tr>\n",
       "      <th>min</th>\n",
       "      <td>1.281194e+06</td>\n",
       "      <td>1.000</td>\n",
       "      <td>0.0</td>\n",
       "      <td>1.0</td>\n",
       "      <td>0 days 00:00:00</td>\n",
       "      <td>0.000</td>\n",
       "    </tr>\n",
       "    <tr>\n",
       "      <th>25%</th>\n",
       "      <td>4.221383e+08</td>\n",
       "      <td>1.000</td>\n",
       "      <td>0.0</td>\n",
       "      <td>1.0</td>\n",
       "      <td>0 days 00:00:02</td>\n",
       "      <td>2.000</td>\n",
       "    </tr>\n",
       "    <tr>\n",
       "      <th>50%</th>\n",
       "      <td>1.648486e+09</td>\n",
       "      <td>1.000</td>\n",
       "      <td>0.0</td>\n",
       "      <td>1.0</td>\n",
       "      <td>0 days 00:00:03</td>\n",
       "      <td>3.000</td>\n",
       "    </tr>\n",
       "    <tr>\n",
       "      <th>75%</th>\n",
       "      <td>3.131838e+09</td>\n",
       "      <td>2.000</td>\n",
       "      <td>0.0</td>\n",
       "      <td>1.0</td>\n",
       "      <td>0 days 00:00:04</td>\n",
       "      <td>4.000</td>\n",
       "    </tr>\n",
       "    <tr>\n",
       "      <th>max</th>\n",
       "      <td>4.293295e+09</td>\n",
       "      <td>16.000</td>\n",
       "      <td>0.0</td>\n",
       "      <td>1.0</td>\n",
       "      <td>0 days 00:00:26</td>\n",
       "      <td>26.000</td>\n",
       "    </tr>\n",
       "  </tbody>\n",
       "</table>\n",
       "</div>"
      ],
      "text/plain": [
       "                 id      nviaje  torniquete_mariposa  no_torniquete  \\\n",
       "count  6.073400e+05  607340.000             607340.0       607340.0   \n",
       "mean   1.742799e+09       1.701                  0.0            1.0   \n",
       "std    1.410755e+09       0.894                  0.0            0.0   \n",
       "min    1.281194e+06       1.000                  0.0            1.0   \n",
       "25%    4.221383e+08       1.000                  0.0            1.0   \n",
       "50%    1.648486e+09       1.000                  0.0            1.0   \n",
       "75%    3.131838e+09       2.000                  0.0            1.0   \n",
       "max    4.293295e+09      16.000                  0.0            1.0   \n",
       "\n",
       "            diferencia_tiempo  diferencia_tiempo_secs  \n",
       "count                  607340              607340.000  \n",
       "mean   0 days 00:00:03.544495                   3.544  \n",
       "std    0 days 00:00:03.697930                   3.698  \n",
       "min           0 days 00:00:00                   0.000  \n",
       "25%           0 days 00:00:02                   2.000  \n",
       "50%           0 days 00:00:03                   3.000  \n",
       "75%           0 days 00:00:04                   4.000  \n",
       "max           0 days 00:00:26                  26.000  "
      ]
     },
     "execution_count": 11,
     "metadata": {},
     "output_type": "execute_result"
    }
   ],
   "source": [
    "off_peak_no_turnstile_df.describe().round(3)"
   ]
  },
  {
   "cell_type": "code",
   "execution_count": 12,
   "metadata": {},
   "outputs": [
    {
     "data": {
      "text/html": [
       "<div>\n",
       "<style>\n",
       "    .dataframe thead tr:only-child th {\n",
       "        text-align: right;\n",
       "    }\n",
       "\n",
       "    .dataframe thead th {\n",
       "        text-align: left;\n",
       "    }\n",
       "\n",
       "    .dataframe tbody tr th {\n",
       "        vertical-align: top;\n",
       "    }\n",
       "</style>\n",
       "<table border=\"1\" class=\"dataframe\">\n",
       "  <thead>\n",
       "    <tr style=\"text-align: right;\">\n",
       "      <th></th>\n",
       "      <th>id</th>\n",
       "      <th>nviaje</th>\n",
       "      <th>torniquete_mariposa</th>\n",
       "      <th>no_torniquete</th>\n",
       "      <th>diferencia_tiempo</th>\n",
       "      <th>diferencia_tiempo_secs</th>\n",
       "    </tr>\n",
       "  </thead>\n",
       "  <tbody>\n",
       "    <tr>\n",
       "      <th>count</th>\n",
       "      <td>1.747660e+05</td>\n",
       "      <td>174766.000</td>\n",
       "      <td>174766.0</td>\n",
       "      <td>174766.0</td>\n",
       "      <td>174766</td>\n",
       "      <td>174766.000</td>\n",
       "    </tr>\n",
       "    <tr>\n",
       "      <th>mean</th>\n",
       "      <td>1.714435e+09</td>\n",
       "      <td>1.542</td>\n",
       "      <td>1.0</td>\n",
       "      <td>0.0</td>\n",
       "      <td>0 days 00:00:05.400907</td>\n",
       "      <td>5.401</td>\n",
       "    </tr>\n",
       "    <tr>\n",
       "      <th>std</th>\n",
       "      <td>1.414780e+09</td>\n",
       "      <td>0.813</td>\n",
       "      <td>0.0</td>\n",
       "      <td>0.0</td>\n",
       "      <td>0 days 00:00:03.663443</td>\n",
       "      <td>3.663</td>\n",
       "    </tr>\n",
       "    <tr>\n",
       "      <th>min</th>\n",
       "      <td>1.261722e+06</td>\n",
       "      <td>1.000</td>\n",
       "      <td>1.0</td>\n",
       "      <td>0.0</td>\n",
       "      <td>0 days 00:00:00</td>\n",
       "      <td>0.000</td>\n",
       "    </tr>\n",
       "    <tr>\n",
       "      <th>25%</th>\n",
       "      <td>4.201340e+08</td>\n",
       "      <td>1.000</td>\n",
       "      <td>1.0</td>\n",
       "      <td>0.0</td>\n",
       "      <td>0 days 00:00:03</td>\n",
       "      <td>3.000</td>\n",
       "    </tr>\n",
       "    <tr>\n",
       "      <th>50%</th>\n",
       "      <td>1.558644e+09</td>\n",
       "      <td>1.000</td>\n",
       "      <td>1.0</td>\n",
       "      <td>0.0</td>\n",
       "      <td>0 days 00:00:04</td>\n",
       "      <td>4.000</td>\n",
       "    </tr>\n",
       "    <tr>\n",
       "      <th>75%</th>\n",
       "      <td>3.067570e+09</td>\n",
       "      <td>2.000</td>\n",
       "      <td>1.0</td>\n",
       "      <td>0.0</td>\n",
       "      <td>0 days 00:00:06</td>\n",
       "      <td>6.000</td>\n",
       "    </tr>\n",
       "    <tr>\n",
       "      <th>max</th>\n",
       "      <td>4.293271e+09</td>\n",
       "      <td>13.000</td>\n",
       "      <td>1.0</td>\n",
       "      <td>0.0</td>\n",
       "      <td>0 days 00:00:26</td>\n",
       "      <td>26.000</td>\n",
       "    </tr>\n",
       "  </tbody>\n",
       "</table>\n",
       "</div>"
      ],
      "text/plain": [
       "                 id      nviaje  torniquete_mariposa  no_torniquete  \\\n",
       "count  1.747660e+05  174766.000             174766.0       174766.0   \n",
       "mean   1.714435e+09       1.542                  1.0            0.0   \n",
       "std    1.414780e+09       0.813                  0.0            0.0   \n",
       "min    1.261722e+06       1.000                  1.0            0.0   \n",
       "25%    4.201340e+08       1.000                  1.0            0.0   \n",
       "50%    1.558644e+09       1.000                  1.0            0.0   \n",
       "75%    3.067570e+09       2.000                  1.0            0.0   \n",
       "max    4.293271e+09      13.000                  1.0            0.0   \n",
       "\n",
       "            diferencia_tiempo  diferencia_tiempo_secs  \n",
       "count                  174766              174766.000  \n",
       "mean   0 days 00:00:05.400907                   5.401  \n",
       "std    0 days 00:00:03.663443                   3.663  \n",
       "min           0 days 00:00:00                   0.000  \n",
       "25%           0 days 00:00:03                   3.000  \n",
       "50%           0 days 00:00:04                   4.000  \n",
       "75%           0 days 00:00:06                   6.000  \n",
       "max           0 days 00:00:26                  26.000  "
      ]
     },
     "execution_count": 12,
     "metadata": {},
     "output_type": "execute_result"
    }
   ],
   "source": [
    "peak_turnstile_df.describe().round(3)"
   ]
  },
  {
   "cell_type": "code",
   "execution_count": 13,
   "metadata": {
    "scrolled": true
   },
   "outputs": [
    {
     "data": {
      "text/html": [
       "<div>\n",
       "<style>\n",
       "    .dataframe thead tr:only-child th {\n",
       "        text-align: right;\n",
       "    }\n",
       "\n",
       "    .dataframe thead th {\n",
       "        text-align: left;\n",
       "    }\n",
       "\n",
       "    .dataframe tbody tr th {\n",
       "        vertical-align: top;\n",
       "    }\n",
       "</style>\n",
       "<table border=\"1\" class=\"dataframe\">\n",
       "  <thead>\n",
       "    <tr style=\"text-align: right;\">\n",
       "      <th></th>\n",
       "      <th>id</th>\n",
       "      <th>nviaje</th>\n",
       "      <th>torniquete_mariposa</th>\n",
       "      <th>no_torniquete</th>\n",
       "      <th>diferencia_tiempo</th>\n",
       "      <th>diferencia_tiempo_secs</th>\n",
       "    </tr>\n",
       "  </thead>\n",
       "  <tbody>\n",
       "    <tr>\n",
       "      <th>count</th>\n",
       "      <td>4.207440e+05</td>\n",
       "      <td>420744.000</td>\n",
       "      <td>420744.0</td>\n",
       "      <td>420744.0</td>\n",
       "      <td>420744</td>\n",
       "      <td>420744.000</td>\n",
       "    </tr>\n",
       "    <tr>\n",
       "      <th>mean</th>\n",
       "      <td>1.772497e+09</td>\n",
       "      <td>1.608</td>\n",
       "      <td>0.0</td>\n",
       "      <td>1.0</td>\n",
       "      <td>0 days 00:00:03.454594</td>\n",
       "      <td>3.455</td>\n",
       "    </tr>\n",
       "    <tr>\n",
       "      <th>std</th>\n",
       "      <td>1.406185e+09</td>\n",
       "      <td>0.847</td>\n",
       "      <td>0.0</td>\n",
       "      <td>0.0</td>\n",
       "      <td>0 days 00:00:03.608592</td>\n",
       "      <td>3.609</td>\n",
       "    </tr>\n",
       "    <tr>\n",
       "      <th>min</th>\n",
       "      <td>1.163274e+06</td>\n",
       "      <td>1.000</td>\n",
       "      <td>0.0</td>\n",
       "      <td>1.0</td>\n",
       "      <td>0 days 00:00:00</td>\n",
       "      <td>0.000</td>\n",
       "    </tr>\n",
       "    <tr>\n",
       "      <th>25%</th>\n",
       "      <td>4.241589e+08</td>\n",
       "      <td>1.000</td>\n",
       "      <td>0.0</td>\n",
       "      <td>1.0</td>\n",
       "      <td>0 days 00:00:02</td>\n",
       "      <td>2.000</td>\n",
       "    </tr>\n",
       "    <tr>\n",
       "      <th>50%</th>\n",
       "      <td>1.727813e+09</td>\n",
       "      <td>1.000</td>\n",
       "      <td>0.0</td>\n",
       "      <td>1.0</td>\n",
       "      <td>0 days 00:00:03</td>\n",
       "      <td>3.000</td>\n",
       "    </tr>\n",
       "    <tr>\n",
       "      <th>75%</th>\n",
       "      <td>3.135833e+09</td>\n",
       "      <td>2.000</td>\n",
       "      <td>0.0</td>\n",
       "      <td>1.0</td>\n",
       "      <td>0 days 00:00:04</td>\n",
       "      <td>4.000</td>\n",
       "    </tr>\n",
       "    <tr>\n",
       "      <th>max</th>\n",
       "      <td>4.293295e+09</td>\n",
       "      <td>16.000</td>\n",
       "      <td>0.0</td>\n",
       "      <td>1.0</td>\n",
       "      <td>0 days 00:00:26</td>\n",
       "      <td>26.000</td>\n",
       "    </tr>\n",
       "  </tbody>\n",
       "</table>\n",
       "</div>"
      ],
      "text/plain": [
       "                 id      nviaje  torniquete_mariposa  no_torniquete  \\\n",
       "count  4.207440e+05  420744.000             420744.0       420744.0   \n",
       "mean   1.772497e+09       1.608                  0.0            1.0   \n",
       "std    1.406185e+09       0.847                  0.0            0.0   \n",
       "min    1.163274e+06       1.000                  0.0            1.0   \n",
       "25%    4.241589e+08       1.000                  0.0            1.0   \n",
       "50%    1.727813e+09       1.000                  0.0            1.0   \n",
       "75%    3.135833e+09       2.000                  0.0            1.0   \n",
       "max    4.293295e+09      16.000                  0.0            1.0   \n",
       "\n",
       "            diferencia_tiempo  diferencia_tiempo_secs  \n",
       "count                  420744              420744.000  \n",
       "mean   0 days 00:00:03.454594                   3.455  \n",
       "std    0 days 00:00:03.608592                   3.609  \n",
       "min           0 days 00:00:00                   0.000  \n",
       "25%           0 days 00:00:02                   2.000  \n",
       "50%           0 days 00:00:03                   3.000  \n",
       "75%           0 days 00:00:04                   4.000  \n",
       "max           0 days 00:00:26                  26.000  "
      ]
     },
     "execution_count": 13,
     "metadata": {},
     "output_type": "execute_result"
    }
   ],
   "source": [
    "peak_no_turnstile_df.describe().round(3)"
   ]
  },
  {
   "cell_type": "markdown",
   "metadata": {},
   "source": [
    "* Plotting"
   ]
  },
  {
   "cell_type": "code",
   "execution_count": 14,
   "metadata": {
    "collapsed": true
   },
   "outputs": [],
   "source": [
    "colors = [(85,98,112),(78,205,196),(199,244,100),(255,107,107),(196,77,88)]\n",
    "for i in range(len(colors)):\n",
    "    r, g, b = colors[i]  \n",
    "    colors[i] = (r / 255., g / 255., b / 255.)"
   ]
  },
  {
   "cell_type": "code",
   "execution_count": 15,
   "metadata": {
    "collapsed": true
   },
   "outputs": [],
   "source": [
    "off_peak_turnstile_values = off_peak_turnstile_df.diferencia_tiempo_secs.values\n",
    "off_peak_no_turnstile_values = off_peak_no_turnstile_df.diferencia_tiempo_secs.values\n",
    "peak_turnstile_values = peak_turnstile_df.diferencia_tiempo_secs.values\n",
    "peak_no_turnstile_values = peak_no_turnstile_df.diferencia_tiempo_secs.values"
   ]
  },
  {
   "cell_type": "markdown",
   "metadata": {},
   "source": [
    "* OFF-PEAK: turns vs. without turns"
   ]
  },
  {
   "cell_type": "code",
   "execution_count": 16,
   "metadata": {
    "collapsed": true
   },
   "outputs": [],
   "source": [
    "bins = range(0,int(percentil_97.total_seconds()),1)"
   ]
  },
  {
   "cell_type": "code",
   "execution_count": 17,
   "metadata": {
    "scrolled": true
   },
   "outputs": [
    {
     "data": {
      "image/png": "[encoded data removed]",
      "text/plain": [
       "<matplotlib.figure.Figure at 0x27e8a45be48>"
      ]
     },
     "metadata": {},
     "output_type": "display_data"
    }
   ],
   "source": [
    "hist_fig, ax = plt.subplots()\n",
    "\n",
    "plot1 = ax.hist(off_peak_turnstile_values,normed=True,bins=bins,color=colors[4], alpha=0.8, label='off_peak - torniquete mariposa')\n",
    "plot2 = ax.hist(off_peak_no_turnstile_values,normed=True,bins=bins,color=colors[0], alpha = 0.8, label='off_peak - sin torniquete')\n",
    "\n",
    "\n",
    "ax.set_title('Intervalo entre validaciones, 23 de agosto de 2017')\n",
    "ax.set_xlabel('Intervalo [s]')\n",
    "ax.set_ylabel('Frecuencia relativa')\n",
    "ax.legend()\n",
    "plt.savefig('C:/Users/leoca_000/Desktop/Evasion/03_report/02_Figs/2_OFFPEAK_' + date + '.pdf')"
   ]
  },
  {
   "cell_type": "markdown",
   "metadata": {},
   "source": [
    "* PEAK: turns vs. without turns"
   ]
  },
  {
   "cell_type": "code",
   "execution_count": 18,
   "metadata": {},
   "outputs": [
    {
     "data": {
      "image/png": "[encoded data removed]",
      "text/plain": [
       "<matplotlib.figure.Figure at 0x27e86dcf9e8>"
      ]
     },
     "metadata": {},
     "output_type": "display_data"
    }
   ],
   "source": [
    "hist_fig, ax = plt.subplots()\n",
    "\n",
    "plot1 = ax.hist(peak_turnstile_values,normed=True,bins=bins,color=colors[4], alpha=0.8, label='peak - torniquete mariposa')\n",
    "plot2 = ax.hist(peak_no_turnstile_values,normed=True,bins=bins,color=colors[0], alpha = 0.8, label='peak - sin torniquete')\n",
    "\n",
    "\n",
    "ax.set_title('Intervalo entre validaciones, 23 de agosto de 2017')\n",
    "ax.set_xlabel('Intervalo [s]')\n",
    "ax.set_ylabel('Frecuencia relativa')\n",
    "ax.legend()\n",
    "plt.savefig('C:/Users/leoca_000/Desktop/Evasion/03_report/02_Figs/2_PEAK_' + date + '.pdf')"
   ]
  },
  {
   "cell_type": "markdown",
   "metadata": {},
   "source": [
    "* TURNS: PEAK vs. OFF-PEAK"
   ]
  },
  {
   "cell_type": "code",
   "execution_count": 20,
   "metadata": {},
   "outputs": [
    {
     "data": {
      "image/png": "[encoded data removed]",
      "text/plain": [
       "<matplotlib.figure.Figure at 0x27e8c1d1ba8>"
      ]
     },
     "metadata": {},
     "output_type": "display_data"
    }
   ],
   "source": [
    "hist_fig, ax = plt.subplots()\n",
    "\n",
    "plot2 = ax.hist(peak_turnstile_values,normed=True,bins=bins,color=colors[4], alpha = 0.5, label='peak - torniquete mariposa')\n",
    "plot1 = ax.hist(off_peak_turnstile_values,normed=True,bins=bins,color=colors[0], alpha=0.5, label='off_peak - torniquete mariposa')\n",
    "\n",
    "\n",
    "\n",
    "ax.set_title('Intervalo entre validaciones, 23 de agosto de 2017')\n",
    "ax.set_xlabel('Intervalo [s]')\n",
    "ax.set_ylabel('Frecuencia relativa')\n",
    "ax.legend()\n",
    "plt.savefig('C:/Users/leoca_000/Desktop/Evasion/03_report/02_Figs/2_turnstiles_peakoffpeak_' + date + '.pdf')"
   ]
  },
  {
   "cell_type": "markdown",
   "metadata": {},
   "source": [
    "* NO-TURNS: PEAK VS. OFF-PEAK"
   ]
  },
  {
   "cell_type": "code",
   "execution_count": 21,
   "metadata": {},
   "outputs": [
    {
     "data": {
      "image/png": "[encoded data removed]",
      "text/plain": [
       "<matplotlib.figure.Figure at 0x27e91980f28>"
      ]
     },
     "metadata": {},
     "output_type": "display_data"
    }
   ],
   "source": [
    "hist_fig, ax = plt.subplots()\n",
    "\n",
    "plot2 = ax.hist(peak_no_turnstile_values,normed=True,bins=bins,color=colors[4], alpha = 0.5, label='peak - sin torniquete')\n",
    "plot1 = ax.hist(off_peak_no_turnstile_values,normed=True,bins=bins,color=colors[0], alpha=0.5, label='off_peak - sin torniquete')\n",
    "\n",
    "\n",
    "ax.set_title('Intervalo entre validaciones, 23 de agosto de 2017')\n",
    "ax.set_xlabel('Intervalo [s]')\n",
    "ax.set_ylabel('Frecuencia relativa')\n",
    "ax.legend()\n",
    "plt.savefig('C:/Users/leoca_000/Desktop/Evasion/03_report/02_Figs/2_no-turnstiles_peakoffpeak_' + date + '.pdf')"
   ]
  },
  {
   "cell_type": "code",
   "execution_count": 22,
   "metadata": {
    "collapsed": true
   },
   "outputs": [],
   "source": [
    "import scipy as sp\n",
    "import scipy.stats\n",
    "\n",
    "def mean_confidence_interval(data, confidence=0.95):\n",
    "    a = 1.0*np.array(data)\n",
    "    n = len(a)\n",
    "    m, se = np.mean(a), scipy.stats.sem(a)\n",
    "    h = se * sp.stats.t.ppf((1+confidence)/2., n-1)\n",
    "    return h, m-h, m, m+h"
   ]
  },
  {
   "cell_type": "code",
   "execution_count": 23,
   "metadata": {},
   "outputs": [
    {
     "data": {
      "text/plain": [
       "(0.01571340321704872,\n",
       " 5.6578807130385158,\n",
       " 5.6735941162555648,\n",
       " 5.6893075194726137)"
      ]
     },
     "execution_count": 23,
     "metadata": {},
     "output_type": "execute_result"
    }
   ],
   "source": [
    "mean_confidence_interval(off_peak_turnstile_df['diferencia_tiempo_secs'])"
   ]
  },
  {
   "cell_type": "code",
   "execution_count": 24,
   "metadata": {},
   "outputs": [
    {
     "data": {
      "text/plain": [
       "(0.0093001886660926559,\n",
       " 3.5351954809752946,\n",
       " 3.5444956696413872,\n",
       " 3.5537958583074798)"
      ]
     },
     "execution_count": 24,
     "metadata": {},
     "output_type": "execute_result"
    }
   ],
   "source": [
    "mean_confidence_interval(off_peak_no_turnstile_df['diferencia_tiempo_secs'])"
   ]
  },
  {
   "cell_type": "code",
   "execution_count": 25,
   "metadata": {},
   "outputs": [
    {
     "data": {
      "text/plain": [
       "(0.017175608559794941,\n",
       " 5.3837318906105249,\n",
       " 5.4009074991703194,\n",
       " 5.4180831077301139)"
      ]
     },
     "execution_count": 25,
     "metadata": {},
     "output_type": "execute_result"
    }
   ],
   "source": [
    "mean_confidence_interval(peak_turnstile_df['diferencia_tiempo_secs'])"
   ]
  },
  {
   "cell_type": "code",
   "execution_count": 26,
   "metadata": {},
   "outputs": [
    {
     "data": {
      "text/plain": [
       "(0.010903807086472931,\n",
       " 3.4436909108417684,\n",
       " 3.4545947179282415,\n",
       " 3.4654985250147146)"
      ]
     },
     "execution_count": 26,
     "metadata": {},
     "output_type": "execute_result"
    }
   ],
   "source": [
    "mean_confidence_interval(peak_no_turnstile_df['diferencia_tiempo_secs'])"
   ]
  },
  {
   "cell_type": "markdown",
   "metadata": {
    "collapsed": true
   },
   "source": [
    "### Closed"
   ]
  }
 ],
 "metadata": {
  "kernelspec": {
   "display_name": "Python 3",
   "language": "python",
   "name": "python3"
  },
  "language_info": {
   "codemirror_mode": {
    "name": "ipython",
    "version": 3
   },
   "file_extension": ".py",
   "mimetype": "text/x-python",
   "name": "python",
   "nbconvert_exporter": "python",
   "pygments_lexer": "ipython3",
   "version": "3.6.1"
  }
 },
 "nbformat": 4,
 "nbformat_minor": 2
}
