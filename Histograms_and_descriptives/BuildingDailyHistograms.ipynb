{
 "cells": [
  {
   "cell_type": "markdown",
   "metadata": {},
   "source": [
    "# Building Histograms"
   ]
  },
  {
   "cell_type": "code",
   "execution_count": 1,
   "metadata": {
    "collapsed": true
   },
   "outputs": [],
   "source": [
    "import os\n",
    "import sys\n",
    "module_path = os.path.abspath(os.path.join('..'))\n",
    "if module_path not in sys.path:\n",
    "    sys.path.append(module_path)"
   ]
  },
  {
   "cell_type": "code",
   "execution_count": 2,
   "metadata": {
    "collapsed": true,
    "scrolled": true
   },
   "outputs": [],
   "source": [
    "%matplotlib inline\n",
    "import pandas as pd\n",
    "import matplotlib\n",
    "import matplotlib.pyplot as plt\n",
    "import numpy as np\n",
    "from importlib import reload\n",
    "import datetime"
   ]
  },
  {
   "cell_type": "code",
   "execution_count": 3,
   "metadata": {},
   "outputs": [],
   "source": [
    "import DailyEtapasBuilder"
   ]
  },
  {
   "cell_type": "markdown",
   "metadata": {},
   "source": [
    "#### Running the builder of the dataframe for date = 2017-03-01"
   ]
  },
  {
   "cell_type": "code",
   "execution_count": 4,
   "metadata": {},
   "outputs": [
    {
     "name": "stdout",
     "output_type": "stream",
     "text": [
      "Not found in BOTH turnstile databases: 1282226\n"
     ]
    }
   ],
   "source": [
    "date = '2017-03-01' #First date.\n",
    "#Creating the object.\n",
    "etapas_builder = DailyEtapasBuilder.RunSilentlyDailyEtapasBuilderClass(date)\n",
    "#Building.\n",
    "etapas_builder.loadSimplifiedEtapas()\n",
    "etapas_builder.mergeTurnstileData()\n",
    "etapas_builder.cleanDataFrame() #Be aware of this condition\n",
    "etapas_builder.sortDataFrame()\n",
    "etapas_builder.postProcessingSortedDataFrame()\n",
    "#Retrieving the info.\n",
    "etapas_df = etapas_builder.etapas_df\n",
    "[filtered_df,filtered_turnstile_df,filtered_no_turnstile_df] = etapas_builder.filteringDf()"
   ]
  },
  {
   "cell_type": "markdown",
   "metadata": {},
   "source": [
    "TODO: Currently, there are rows with extremely high values for the 'diferencia_tiempo' attribute (e.g. >=25 mins). <strong>Be aware of this</strong>. <strike>This should be fixed considering the idExpedicion attribute present in the corresponding 'perfiles' database. The following graphs and descriptive statistics consider only the 95th percentile for the 'diferencia_tiempo_secs' attribute.</strike>"
   ]
  },
  {
   "cell_type": "markdown",
   "metadata": {},
   "source": [
    "Filtering by diferencia_tiempo<=97th percentile in the corresponding databases. <font color=\"red\">BE AWARE.</font>"
   ]
  },
  {
   "cell_type": "code",
   "execution_count": 5,
   "metadata": {},
   "outputs": [
    {
     "name": "stdout",
     "output_type": "stream",
     "text": [
      "Percentile 97th for 2017-turnstile database is: 0 days 00:00:50\n",
      "Percentile 97th for without_turnstile database is: 0 days 00:00:40\n"
     ]
    }
   ],
   "source": [
    "turnstile_97 = filtered_turnstile_df.diferencia_tiempo.quantile(0.97)\n",
    "print ('Percentile 97th for 2017-turnstile database is: ' + str(turnstile_97))\n",
    "no_turnstile_97 = filtered_no_turnstile_df.diferencia_tiempo.quantile(0.97)\n",
    "print('Percentile 97th for without_turnstile database is: ' + str(no_turnstile_97))"
   ]
  },
  {
   "cell_type": "code",
   "execution_count": 6,
   "metadata": {
    "collapsed": true
   },
   "outputs": [],
   "source": [
    "turnstile_97_df = filtered_turnstile_df[filtered_turnstile_df['diferencia_tiempo']<=turnstile_97]"
   ]
  },
  {
   "cell_type": "code",
   "execution_count": 7,
   "metadata": {
    "collapsed": true
   },
   "outputs": [],
   "source": [
    "no_turnstile_97_df = filtered_no_turnstile_df[filtered_no_turnstile_df['diferencia_tiempo']<=no_turnstile_97]"
   ]
  },
  {
   "cell_type": "code",
   "execution_count": 8,
   "metadata": {
    "scrolled": false
   },
   "outputs": [
    {
     "data": {
      "text/html": [
       "<div>\n",
       "<style>\n",
       "    .dataframe thead tr:only-child th {\n",
       "        text-align: right;\n",
       "    }\n",
       "\n",
       "    .dataframe thead th {\n",
       "        text-align: left;\n",
       "    }\n",
       "\n",
       "    .dataframe tbody tr th {\n",
       "        vertical-align: top;\n",
       "    }\n",
       "</style>\n",
       "<table border=\"1\" class=\"dataframe\">\n",
       "  <thead>\n",
       "    <tr style=\"text-align: right;\">\n",
       "      <th></th>\n",
       "      <th>id</th>\n",
       "      <th>nviaje</th>\n",
       "      <th>torniquete_mariposa</th>\n",
       "      <th>no_torniquete</th>\n",
       "      <th>diferencia_tiempo</th>\n",
       "      <th>diferencia_tiempo_secs</th>\n",
       "    </tr>\n",
       "  </thead>\n",
       "  <tbody>\n",
       "    <tr>\n",
       "      <th>count</th>\n",
       "      <td>8.085700e+04</td>\n",
       "      <td>80857.000</td>\n",
       "      <td>80857.0</td>\n",
       "      <td>80857.0</td>\n",
       "      <td>80857</td>\n",
       "      <td>80857.000</td>\n",
       "    </tr>\n",
       "    <tr>\n",
       "      <th>mean</th>\n",
       "      <td>2.258973e+09</td>\n",
       "      <td>1.598</td>\n",
       "      <td>1.0</td>\n",
       "      <td>0.0</td>\n",
       "      <td>0 days 00:00:06.767107</td>\n",
       "      <td>6.767</td>\n",
       "    </tr>\n",
       "    <tr>\n",
       "      <th>std</th>\n",
       "      <td>1.302393e+09</td>\n",
       "      <td>0.843</td>\n",
       "      <td>0.0</td>\n",
       "      <td>0.0</td>\n",
       "      <td>0 days 00:00:06.578997</td>\n",
       "      <td>6.579</td>\n",
       "    </tr>\n",
       "    <tr>\n",
       "      <th>min</th>\n",
       "      <td>8.434730e+06</td>\n",
       "      <td>1.000</td>\n",
       "      <td>1.0</td>\n",
       "      <td>0.0</td>\n",
       "      <td>0 days 00:00:00</td>\n",
       "      <td>0.000</td>\n",
       "    </tr>\n",
       "    <tr>\n",
       "      <th>25%</th>\n",
       "      <td>9.360526e+08</td>\n",
       "      <td>1.000</td>\n",
       "      <td>1.0</td>\n",
       "      <td>0.0</td>\n",
       "      <td>0 days 00:00:04</td>\n",
       "      <td>4.000</td>\n",
       "    </tr>\n",
       "    <tr>\n",
       "      <th>50%</th>\n",
       "      <td>2.520451e+09</td>\n",
       "      <td>1.000</td>\n",
       "      <td>1.0</td>\n",
       "      <td>0.0</td>\n",
       "      <td>0 days 00:00:05</td>\n",
       "      <td>5.000</td>\n",
       "    </tr>\n",
       "    <tr>\n",
       "      <th>75%</th>\n",
       "      <td>3.452477e+09</td>\n",
       "      <td>2.000</td>\n",
       "      <td>1.0</td>\n",
       "      <td>0.0</td>\n",
       "      <td>0 days 00:00:07</td>\n",
       "      <td>7.000</td>\n",
       "    </tr>\n",
       "    <tr>\n",
       "      <th>max</th>\n",
       "      <td>4.293096e+09</td>\n",
       "      <td>14.000</td>\n",
       "      <td>1.0</td>\n",
       "      <td>0.0</td>\n",
       "      <td>0 days 00:00:50</td>\n",
       "      <td>50.000</td>\n",
       "    </tr>\n",
       "  </tbody>\n",
       "</table>\n",
       "</div>"
      ],
      "text/plain": [
       "                 id     nviaje  torniquete_mariposa  no_torniquete  \\\n",
       "count  8.085700e+04  80857.000              80857.0        80857.0   \n",
       "mean   2.258973e+09      1.598                  1.0            0.0   \n",
       "std    1.302393e+09      0.843                  0.0            0.0   \n",
       "min    8.434730e+06      1.000                  1.0            0.0   \n",
       "25%    9.360526e+08      1.000                  1.0            0.0   \n",
       "50%    2.520451e+09      1.000                  1.0            0.0   \n",
       "75%    3.452477e+09      2.000                  1.0            0.0   \n",
       "max    4.293096e+09     14.000                  1.0            0.0   \n",
       "\n",
       "            diferencia_tiempo  diferencia_tiempo_secs  \n",
       "count                   80857               80857.000  \n",
       "mean   0 days 00:00:06.767107                   6.767  \n",
       "std    0 days 00:00:06.578997                   6.579  \n",
       "min           0 days 00:00:00                   0.000  \n",
       "25%           0 days 00:00:04                   4.000  \n",
       "50%           0 days 00:00:05                   5.000  \n",
       "75%           0 days 00:00:07                   7.000  \n",
       "max           0 days 00:00:50                  50.000  "
      ]
     },
     "execution_count": 8,
     "metadata": {},
     "output_type": "execute_result"
    }
   ],
   "source": [
    "turnstile_97_df.describe().round(3)"
   ]
  },
  {
   "cell_type": "code",
   "execution_count": 9,
   "metadata": {},
   "outputs": [
    {
     "data": {
      "text/html": [
       "<div>\n",
       "<style>\n",
       "    .dataframe thead tr:only-child th {\n",
       "        text-align: right;\n",
       "    }\n",
       "\n",
       "    .dataframe thead th {\n",
       "        text-align: left;\n",
       "    }\n",
       "\n",
       "    .dataframe tbody tr th {\n",
       "        vertical-align: top;\n",
       "    }\n",
       "</style>\n",
       "<table border=\"1\" class=\"dataframe\">\n",
       "  <thead>\n",
       "    <tr style=\"text-align: right;\">\n",
       "      <th></th>\n",
       "      <th>id</th>\n",
       "      <th>nviaje</th>\n",
       "      <th>torniquete_mariposa</th>\n",
       "      <th>no_torniquete</th>\n",
       "      <th>diferencia_tiempo</th>\n",
       "      <th>diferencia_tiempo_secs</th>\n",
       "    </tr>\n",
       "  </thead>\n",
       "  <tbody>\n",
       "    <tr>\n",
       "      <th>count</th>\n",
       "      <td>1.063089e+06</td>\n",
       "      <td>1063089.000</td>\n",
       "      <td>1063089.0</td>\n",
       "      <td>1063089.0</td>\n",
       "      <td>1063089</td>\n",
       "      <td>1063089.000</td>\n",
       "    </tr>\n",
       "    <tr>\n",
       "      <th>mean</th>\n",
       "      <td>2.251981e+09</td>\n",
       "      <td>1.637</td>\n",
       "      <td>0.0</td>\n",
       "      <td>1.0</td>\n",
       "      <td>0 days 00:00:03.932738</td>\n",
       "      <td>3.933</td>\n",
       "    </tr>\n",
       "    <tr>\n",
       "      <th>std</th>\n",
       "      <td>1.294548e+09</td>\n",
       "      <td>0.862</td>\n",
       "      <td>0.0</td>\n",
       "      <td>0.0</td>\n",
       "      <td>0 days 00:00:05.192272</td>\n",
       "      <td>5.192</td>\n",
       "    </tr>\n",
       "    <tr>\n",
       "      <th>min</th>\n",
       "      <td>5.454520e+05</td>\n",
       "      <td>1.000</td>\n",
       "      <td>0.0</td>\n",
       "      <td>1.0</td>\n",
       "      <td>0 days 00:00:00</td>\n",
       "      <td>0.000</td>\n",
       "    </tr>\n",
       "    <tr>\n",
       "      <th>25%</th>\n",
       "      <td>9.356767e+08</td>\n",
       "      <td>1.000</td>\n",
       "      <td>0.0</td>\n",
       "      <td>1.0</td>\n",
       "      <td>0 days 00:00:02</td>\n",
       "      <td>2.000</td>\n",
       "    </tr>\n",
       "    <tr>\n",
       "      <th>50%</th>\n",
       "      <td>2.512576e+09</td>\n",
       "      <td>1.000</td>\n",
       "      <td>0.0</td>\n",
       "      <td>1.0</td>\n",
       "      <td>0 days 00:00:03</td>\n",
       "      <td>3.000</td>\n",
       "    </tr>\n",
       "    <tr>\n",
       "      <th>75%</th>\n",
       "      <td>3.418036e+09</td>\n",
       "      <td>2.000</td>\n",
       "      <td>0.0</td>\n",
       "      <td>1.0</td>\n",
       "      <td>0 days 00:00:04</td>\n",
       "      <td>4.000</td>\n",
       "    </tr>\n",
       "    <tr>\n",
       "      <th>max</th>\n",
       "      <td>4.293302e+09</td>\n",
       "      <td>19.000</td>\n",
       "      <td>0.0</td>\n",
       "      <td>1.0</td>\n",
       "      <td>0 days 00:00:40</td>\n",
       "      <td>40.000</td>\n",
       "    </tr>\n",
       "  </tbody>\n",
       "</table>\n",
       "</div>"
      ],
      "text/plain": [
       "                 id       nviaje  torniquete_mariposa  no_torniquete  \\\n",
       "count  1.063089e+06  1063089.000            1063089.0      1063089.0   \n",
       "mean   2.251981e+09        1.637                  0.0            1.0   \n",
       "std    1.294548e+09        0.862                  0.0            0.0   \n",
       "min    5.454520e+05        1.000                  0.0            1.0   \n",
       "25%    9.356767e+08        1.000                  0.0            1.0   \n",
       "50%    2.512576e+09        1.000                  0.0            1.0   \n",
       "75%    3.418036e+09        2.000                  0.0            1.0   \n",
       "max    4.293302e+09       19.000                  0.0            1.0   \n",
       "\n",
       "            diferencia_tiempo  diferencia_tiempo_secs  \n",
       "count                 1063089             1063089.000  \n",
       "mean   0 days 00:00:03.932738                   3.933  \n",
       "std    0 days 00:00:05.192272                   5.192  \n",
       "min           0 days 00:00:00                   0.000  \n",
       "25%           0 days 00:00:02                   2.000  \n",
       "50%           0 days 00:00:03                   3.000  \n",
       "75%           0 days 00:00:04                   4.000  \n",
       "max           0 days 00:00:40                  40.000  "
      ]
     },
     "execution_count": 9,
     "metadata": {},
     "output_type": "execute_result"
    }
   ],
   "source": [
    "no_turnstile_97_df.describe().round(3)"
   ]
  },
  {
   "cell_type": "markdown",
   "metadata": {},
   "source": [
    "* Plotting"
   ]
  },
  {
   "cell_type": "code",
   "execution_count": 10,
   "metadata": {
    "collapsed": true
   },
   "outputs": [],
   "source": [
    "turns_vals = turnstile_97_df.diferencia_tiempo_secs.values\n",
    "no_turns_vals = no_turnstile_97_df.diferencia_tiempo_secs.values\n",
    "max_97 = max(turnstile_97,no_turnstile_97).total_seconds()\n",
    "bins = range(0,int(max_97),1)"
   ]
  },
  {
   "cell_type": "code",
   "execution_count": 11,
   "metadata": {
    "collapsed": true
   },
   "outputs": [],
   "source": [
    "colors = [(85,98,112),(78,205,196),(199,244,100),(255,107,107),(196,77,88)]\n",
    "for i in range(len(colors)):\n",
    "    r, g, b = colors[i]  \n",
    "    colors[i] = (r / 255., g / 255., b / 255.)"
   ]
  },
  {
   "cell_type": "code",
   "execution_count": 12,
   "metadata": {
    "scrolled": true
   },
   "outputs": [
    {
     "data": {
      "image/png": "[encoded data removed]",
      "text/plain": [
       "<matplotlib.figure.Figure at 0x141090c2ba8>"
      ]
     },
     "metadata": {},
     "output_type": "display_data"
    }
   ],
   "source": [
    "hist_fig, ax = plt.subplots()\n",
    "\n",
    "plot1 = ax.hist(turns_vals,normed=True,bins=bins,color=colors[3], alpha=0.8, label='con torniquete mariposa')\n",
    "plot2 = ax.hist(no_turns_vals,normed=True,bins=bins,color=colors[0], alpha = 0.8, label='sin torniquete')\n",
    "\n",
    "\n",
    "ax.set_title('Intervalo entre validaciones, 1 de marzo de 2017')\n",
    "ax.set_xlabel('Intervalo [s]')\n",
    "ax.set_ylabel('Frecuencia relativa')\n",
    "ax.set_xlim(0,30)\n",
    "ax.legend()\n",
    "plt.savefig('C:/Users/leoca_000/Desktop/Evasion/03_report/02_Figs/2_daily_' + date + '.pdf')"
   ]
  },
  {
   "cell_type": "code",
   "execution_count": 13,
   "metadata": {
    "collapsed": true
   },
   "outputs": [],
   "source": [
    "import scipy as sp\n",
    "import scipy.stats\n",
    "\n",
    "def mean_confidence_interval(data, confidence=0.95):\n",
    "    a = 1.0*np.array(data)\n",
    "    n = len(a)\n",
    "    m, se = np.mean(a), scipy.stats.sem(a)\n",
    "    h = se * sp.stats.t.ppf((1+confidence)/2., n-1)\n",
    "    return h, m-h, m, m+h"
   ]
  },
  {
   "cell_type": "code",
   "execution_count": 14,
   "metadata": {},
   "outputs": [
    {
     "data": {
      "text/plain": [
       "(0.045347726820557009,\n",
       " 6.721759635559942,\n",
       " 6.7671073623804991,\n",
       " 6.8124550892010562)"
      ]
     },
     "execution_count": 14,
     "metadata": {},
     "output_type": "execute_result"
    }
   ],
   "source": [
    "mean_confidence_interval(turnstile_97_df['diferencia_tiempo_secs'])"
   ]
  },
  {
   "cell_type": "code",
   "execution_count": 15,
   "metadata": {},
   "outputs": [
    {
     "data": {
      "text/plain": [
       "(0.0098700928812039661,\n",
       " 3.9228683702201921,\n",
       " 3.932738463101396,\n",
       " 3.9426085559825998)"
      ]
     },
     "execution_count": 15,
     "metadata": {},
     "output_type": "execute_result"
    }
   ],
   "source": [
    "mean_confidence_interval(no_turnstile_97_df['diferencia_tiempo_secs'])"
   ]
  },
  {
   "cell_type": "markdown",
   "metadata": {},
   "source": [
    "#### Running the builder of the dataframe for date = 2017-08-25"
   ]
  },
  {
   "cell_type": "code",
   "execution_count": 16,
   "metadata": {},
   "outputs": [
    {
     "name": "stdout",
     "output_type": "stream",
     "text": [
      "Not found in BOTH turnstile databases: 1493974\n"
     ]
    }
   ],
   "source": [
    "date = '2017-08-25' #Last date.\n",
    "#Creating the object.\n",
    "etapas_builder = DailyEtapasBuilder.RunSilentlyDailyEtapasBuilderClass(date)\n",
    "#Building.\n",
    "etapas_builder.loadSimplifiedEtapas()\n",
    "etapas_builder.mergeTurnstileData()\n",
    "etapas_builder.cleanDataFrame() #Be aware of this condition\n",
    "etapas_builder.sortDataFrame()\n",
    "etapas_builder.postProcessingSortedDataFrame()\n",
    "#Retrieving the info.\n",
    "etapas_df = etapas_builder.etapas_df\n",
    "[filtered_df,filtered_turnstile_df,filtered_no_turnstile_df] = etapas_builder.filteringDf()"
   ]
  },
  {
   "cell_type": "markdown",
   "metadata": {},
   "source": [
    "TODO: Currently, there are rows with extremely high values for the 'diferencia_tiempo' attribute (e.g. >=25 mins). <strong>Be aware of this</strong>. <strike>This should be fixed considering the idExpedicion attribute present in the corresponding 'perfiles' database. The following graphs and descriptive statistics consider only the 95th percentile for the 'diferencia_tiempo_secs' attribute.</strike>"
   ]
  },
  {
   "cell_type": "markdown",
   "metadata": {},
   "source": [
    "Filtering by diferencia_tiempo<=97th percentile in the corresponding databases. <font color=\"red\">BE AWARE.</font>"
   ]
  },
  {
   "cell_type": "code",
   "execution_count": 17,
   "metadata": {},
   "outputs": [
    {
     "name": "stdout",
     "output_type": "stream",
     "text": [
      "Percentile 97th for 2017-turnstile database is: 0 days 00:00:28\n",
      "Percentile 97th for without_turnstile database is: 0 days 00:00:25\n"
     ]
    }
   ],
   "source": [
    "turnstile_97 = filtered_turnstile_df.diferencia_tiempo.quantile(0.97)\n",
    "print ('Percentile 97th for 2017-turnstile database is: ' + str(turnstile_97))\n",
    "no_turnstile_97 = filtered_no_turnstile_df.diferencia_tiempo.quantile(0.97)\n",
    "print('Percentile 97th for without_turnstile database is: ' + str(no_turnstile_97))"
   ]
  },
  {
   "cell_type": "code",
   "execution_count": 18,
   "metadata": {
    "collapsed": true
   },
   "outputs": [],
   "source": [
    "turnstile_97_df = filtered_turnstile_df[filtered_turnstile_df['diferencia_tiempo']<=turnstile_97]"
   ]
  },
  {
   "cell_type": "code",
   "execution_count": 19,
   "metadata": {
    "collapsed": true
   },
   "outputs": [],
   "source": [
    "no_turnstile_97_df = filtered_no_turnstile_df[filtered_no_turnstile_df['diferencia_tiempo']<=no_turnstile_97]"
   ]
  },
  {
   "cell_type": "code",
   "execution_count": 20,
   "metadata": {
    "scrolled": false
   },
   "outputs": [
    {
     "data": {
      "text/html": [
       "<div>\n",
       "<style>\n",
       "    .dataframe thead tr:only-child th {\n",
       "        text-align: right;\n",
       "    }\n",
       "\n",
       "    .dataframe thead th {\n",
       "        text-align: left;\n",
       "    }\n",
       "\n",
       "    .dataframe tbody tr th {\n",
       "        vertical-align: top;\n",
       "    }\n",
       "</style>\n",
       "<table border=\"1\" class=\"dataframe\">\n",
       "  <thead>\n",
       "    <tr style=\"text-align: right;\">\n",
       "      <th></th>\n",
       "      <th>id</th>\n",
       "      <th>nviaje</th>\n",
       "      <th>torniquete_mariposa</th>\n",
       "      <th>no_torniquete</th>\n",
       "      <th>diferencia_tiempo</th>\n",
       "      <th>diferencia_tiempo_secs</th>\n",
       "    </tr>\n",
       "  </thead>\n",
       "  <tbody>\n",
       "    <tr>\n",
       "      <th>count</th>\n",
       "      <td>4.076040e+05</td>\n",
       "      <td>407604.000</td>\n",
       "      <td>407604.0</td>\n",
       "      <td>407604.0</td>\n",
       "      <td>407604</td>\n",
       "      <td>407604.000</td>\n",
       "    </tr>\n",
       "    <tr>\n",
       "      <th>mean</th>\n",
       "      <td>1.706624e+09</td>\n",
       "      <td>1.634</td>\n",
       "      <td>1.0</td>\n",
       "      <td>0.0</td>\n",
       "      <td>0 days 00:00:05.725213</td>\n",
       "      <td>5.725</td>\n",
       "    </tr>\n",
       "    <tr>\n",
       "      <th>std</th>\n",
       "      <td>1.416966e+09</td>\n",
       "      <td>0.878</td>\n",
       "      <td>0.0</td>\n",
       "      <td>0.0</td>\n",
       "      <td>0 days 00:00:04.076640</td>\n",
       "      <td>4.077</td>\n",
       "    </tr>\n",
       "    <tr>\n",
       "      <th>min</th>\n",
       "      <td>1.129674e+06</td>\n",
       "      <td>1.000</td>\n",
       "      <td>1.0</td>\n",
       "      <td>0.0</td>\n",
       "      <td>0 days 00:00:00</td>\n",
       "      <td>0.000</td>\n",
       "    </tr>\n",
       "    <tr>\n",
       "      <th>25%</th>\n",
       "      <td>3.480295e+08</td>\n",
       "      <td>1.000</td>\n",
       "      <td>1.0</td>\n",
       "      <td>0.0</td>\n",
       "      <td>0 days 00:00:03</td>\n",
       "      <td>3.000</td>\n",
       "    </tr>\n",
       "    <tr>\n",
       "      <th>50%</th>\n",
       "      <td>1.521674e+09</td>\n",
       "      <td>1.000</td>\n",
       "      <td>1.0</td>\n",
       "      <td>0.0</td>\n",
       "      <td>0 days 00:00:04</td>\n",
       "      <td>4.000</td>\n",
       "    </tr>\n",
       "    <tr>\n",
       "      <th>75%</th>\n",
       "      <td>3.069431e+09</td>\n",
       "      <td>2.000</td>\n",
       "      <td>1.0</td>\n",
       "      <td>0.0</td>\n",
       "      <td>0 days 00:00:06</td>\n",
       "      <td>6.000</td>\n",
       "    </tr>\n",
       "    <tr>\n",
       "      <th>max</th>\n",
       "      <td>4.293271e+09</td>\n",
       "      <td>21.000</td>\n",
       "      <td>1.0</td>\n",
       "      <td>0.0</td>\n",
       "      <td>0 days 00:00:28</td>\n",
       "      <td>28.000</td>\n",
       "    </tr>\n",
       "  </tbody>\n",
       "</table>\n",
       "</div>"
      ],
      "text/plain": [
       "                 id      nviaje  torniquete_mariposa  no_torniquete  \\\n",
       "count  4.076040e+05  407604.000             407604.0       407604.0   \n",
       "mean   1.706624e+09       1.634                  1.0            0.0   \n",
       "std    1.416966e+09       0.878                  0.0            0.0   \n",
       "min    1.129674e+06       1.000                  1.0            0.0   \n",
       "25%    3.480295e+08       1.000                  1.0            0.0   \n",
       "50%    1.521674e+09       1.000                  1.0            0.0   \n",
       "75%    3.069431e+09       2.000                  1.0            0.0   \n",
       "max    4.293271e+09      21.000                  1.0            0.0   \n",
       "\n",
       "            diferencia_tiempo  diferencia_tiempo_secs  \n",
       "count                  407604              407604.000  \n",
       "mean   0 days 00:00:05.725213                   5.725  \n",
       "std    0 days 00:00:04.076640                   4.077  \n",
       "min           0 days 00:00:00                   0.000  \n",
       "25%           0 days 00:00:03                   3.000  \n",
       "50%           0 days 00:00:04                   4.000  \n",
       "75%           0 days 00:00:06                   6.000  \n",
       "max           0 days 00:00:28                  28.000  "
      ]
     },
     "execution_count": 20,
     "metadata": {},
     "output_type": "execute_result"
    }
   ],
   "source": [
    "turnstile_97_df.describe().round(3)"
   ]
  },
  {
   "cell_type": "code",
   "execution_count": 21,
   "metadata": {},
   "outputs": [
    {
     "data": {
      "text/html": [
       "<div>\n",
       "<style>\n",
       "    .dataframe thead tr:only-child th {\n",
       "        text-align: right;\n",
       "    }\n",
       "\n",
       "    .dataframe thead th {\n",
       "        text-align: left;\n",
       "    }\n",
       "\n",
       "    .dataframe tbody tr th {\n",
       "        vertical-align: top;\n",
       "    }\n",
       "</style>\n",
       "<table border=\"1\" class=\"dataframe\">\n",
       "  <thead>\n",
       "    <tr style=\"text-align: right;\">\n",
       "      <th></th>\n",
       "      <th>id</th>\n",
       "      <th>nviaje</th>\n",
       "      <th>torniquete_mariposa</th>\n",
       "      <th>no_torniquete</th>\n",
       "      <th>diferencia_tiempo</th>\n",
       "      <th>diferencia_tiempo_secs</th>\n",
       "    </tr>\n",
       "  </thead>\n",
       "  <tbody>\n",
       "    <tr>\n",
       "      <th>count</th>\n",
       "      <td>1.047075e+06</td>\n",
       "      <td>1047075.000</td>\n",
       "      <td>1047075.0</td>\n",
       "      <td>1047075.0</td>\n",
       "      <td>1047075</td>\n",
       "      <td>1047075.000</td>\n",
       "    </tr>\n",
       "    <tr>\n",
       "      <th>mean</th>\n",
       "      <td>1.750246e+09</td>\n",
       "      <td>1.680</td>\n",
       "      <td>0.0</td>\n",
       "      <td>1.0</td>\n",
       "      <td>0 days 00:00:03.517166</td>\n",
       "      <td>3.517</td>\n",
       "    </tr>\n",
       "    <tr>\n",
       "      <th>std</th>\n",
       "      <td>1.408301e+09</td>\n",
       "      <td>0.897</td>\n",
       "      <td>0.0</td>\n",
       "      <td>0.0</td>\n",
       "      <td>0 days 00:00:03.588124</td>\n",
       "      <td>3.588</td>\n",
       "    </tr>\n",
       "    <tr>\n",
       "      <th>min</th>\n",
       "      <td>1.099242e+06</td>\n",
       "      <td>1.000</td>\n",
       "      <td>0.0</td>\n",
       "      <td>1.0</td>\n",
       "      <td>0 days 00:00:00</td>\n",
       "      <td>0.000</td>\n",
       "    </tr>\n",
       "    <tr>\n",
       "      <th>25%</th>\n",
       "      <td>4.229356e+08</td>\n",
       "      <td>1.000</td>\n",
       "      <td>0.0</td>\n",
       "      <td>1.0</td>\n",
       "      <td>0 days 00:00:02</td>\n",
       "      <td>2.000</td>\n",
       "    </tr>\n",
       "    <tr>\n",
       "      <th>50%</th>\n",
       "      <td>1.665889e+09</td>\n",
       "      <td>1.000</td>\n",
       "      <td>0.0</td>\n",
       "      <td>1.0</td>\n",
       "      <td>0 days 00:00:03</td>\n",
       "      <td>3.000</td>\n",
       "    </tr>\n",
       "    <tr>\n",
       "      <th>75%</th>\n",
       "      <td>3.129465e+09</td>\n",
       "      <td>2.000</td>\n",
       "      <td>0.0</td>\n",
       "      <td>1.0</td>\n",
       "      <td>0 days 00:00:04</td>\n",
       "      <td>4.000</td>\n",
       "    </tr>\n",
       "    <tr>\n",
       "      <th>max</th>\n",
       "      <td>4.293302e+09</td>\n",
       "      <td>17.000</td>\n",
       "      <td>0.0</td>\n",
       "      <td>1.0</td>\n",
       "      <td>0 days 00:00:25</td>\n",
       "      <td>25.000</td>\n",
       "    </tr>\n",
       "  </tbody>\n",
       "</table>\n",
       "</div>"
      ],
      "text/plain": [
       "                 id       nviaje  torniquete_mariposa  no_torniquete  \\\n",
       "count  1.047075e+06  1047075.000            1047075.0      1047075.0   \n",
       "mean   1.750246e+09        1.680                  0.0            1.0   \n",
       "std    1.408301e+09        0.897                  0.0            0.0   \n",
       "min    1.099242e+06        1.000                  0.0            1.0   \n",
       "25%    4.229356e+08        1.000                  0.0            1.0   \n",
       "50%    1.665889e+09        1.000                  0.0            1.0   \n",
       "75%    3.129465e+09        2.000                  0.0            1.0   \n",
       "max    4.293302e+09       17.000                  0.0            1.0   \n",
       "\n",
       "            diferencia_tiempo  diferencia_tiempo_secs  \n",
       "count                 1047075             1047075.000  \n",
       "mean   0 days 00:00:03.517166                   3.517  \n",
       "std    0 days 00:00:03.588124                   3.588  \n",
       "min           0 days 00:00:00                   0.000  \n",
       "25%           0 days 00:00:02                   2.000  \n",
       "50%           0 days 00:00:03                   3.000  \n",
       "75%           0 days 00:00:04                   4.000  \n",
       "max           0 days 00:00:25                  25.000  "
      ]
     },
     "execution_count": 21,
     "metadata": {},
     "output_type": "execute_result"
    }
   ],
   "source": [
    "no_turnstile_97_df.describe().round(3)"
   ]
  },
  {
   "cell_type": "markdown",
   "metadata": {},
   "source": [
    "* Plotting"
   ]
  },
  {
   "cell_type": "code",
   "execution_count": 22,
   "metadata": {
    "collapsed": true
   },
   "outputs": [],
   "source": [
    "turns_vals = turnstile_97_df.diferencia_tiempo_secs.values\n",
    "no_turns_vals = no_turnstile_97_df.diferencia_tiempo_secs.values\n",
    "max_97 = max(turnstile_97,no_turnstile_97).total_seconds()\n",
    "bins = range(0,int(max_97),1)"
   ]
  },
  {
   "cell_type": "code",
   "execution_count": 23,
   "metadata": {
    "collapsed": true
   },
   "outputs": [],
   "source": [
    "colors = [(85,98,112),(78,205,196),(199,244,100),(255,107,107),(196,77,88)]\n",
    "for i in range(len(colors)):\n",
    "    r, g, b = colors[i]  \n",
    "    colors[i] = (r / 255., g / 255., b / 255.)"
   ]
  },
  {
   "cell_type": "code",
   "execution_count": 24,
   "metadata": {
    "scrolled": true
   },
   "outputs": [
    {
     "data": {
      "image/png": "[encoded data removed]",
      "text/plain": [
       "<matplotlib.figure.Figure at 0x14149484358>"
      ]
     },
     "metadata": {},
     "output_type": "display_data"
    }
   ],
   "source": [
    "hist_fig, ax = plt.subplots()\n",
    "\n",
    "plot1 = ax.hist(turns_vals,normed=True,bins=bins,color=colors[3], alpha=0.8, label='con torniquete mariposa')\n",
    "plot2 = ax.hist(no_turns_vals,normed=True,bins=bins,color=colors[0], alpha = 0.8, label='sin torniquete')\n",
    "\n",
    "\n",
    "ax.set_title('Intervalo entre validaciones, 25 de agosto de 2017')\n",
    "ax.set_xlabel('Intervalo [s]')\n",
    "ax.set_xlim(0,30)\n",
    "ax.set_ylabel('Frecuencia relativa')\n",
    "ax.legend()\n",
    "plt.savefig('C:/Users/leoca_000/Desktop/Evasion/03_report/02_Figs/2_daily_' + date + '.pdf')"
   ]
  },
  {
   "cell_type": "code",
   "execution_count": 25,
   "metadata": {
    "collapsed": true
   },
   "outputs": [],
   "source": [
    "import scipy as sp\n",
    "import scipy.stats\n",
    "\n",
    "def mean_confidence_interval(data, confidence=0.95):\n",
    "    a = 1.0*np.array(data)\n",
    "    n = len(a)\n",
    "    m, se = np.mean(a), scipy.stats.sem(a)\n",
    "    h = se * sp.stats.t.ppf((1+confidence)/2., n-1)\n",
    "    return h, m-h, m, m+h"
   ]
  },
  {
   "cell_type": "code",
   "execution_count": 26,
   "metadata": {},
   "outputs": [
    {
     "data": {
      "text/plain": [
       "(0.01251504917188548,\n",
       " 5.7126986386231309,\n",
       " 5.7252136877950166,\n",
       " 5.7377287369669023)"
      ]
     },
     "execution_count": 26,
     "metadata": {},
     "output_type": "execute_result"
    }
   ],
   "source": [
    "mean_confidence_interval(turnstile_97_df['diferencia_tiempo_secs'])"
   ]
  },
  {
   "cell_type": "code",
   "execution_count": 27,
   "metadata": {},
   "outputs": [
    {
     "data": {
      "text/plain": [
       "(0.0068726965765040695,\n",
       " 3.5102936955157529,\n",
       " 3.5171663920922569,\n",
       " 3.5240390886687609)"
      ]
     },
     "execution_count": 27,
     "metadata": {},
     "output_type": "execute_result"
    }
   ],
   "source": [
    "mean_confidence_interval(no_turnstile_97_df['diferencia_tiempo_secs'])"
   ]
  },
  {
   "cell_type": "markdown",
   "metadata": {},
   "source": [
    "### Closed"
   ]
  }
 ],
 "metadata": {
  "kernelspec": {
   "display_name": "Python 3",
   "language": "python",
   "name": "python3"
  },
  "language_info": {
   "codemirror_mode": {
    "name": "ipython",
    "version": 3
   },
   "file_extension": ".py",
   "mimetype": "text/x-python",
   "name": "python",
   "nbconvert_exporter": "python",
   "pygments_lexer": "ipython3",
   "version": "3.6.1"
  }
 },
 "nbformat": 4,
 "nbformat_minor": 2
}
