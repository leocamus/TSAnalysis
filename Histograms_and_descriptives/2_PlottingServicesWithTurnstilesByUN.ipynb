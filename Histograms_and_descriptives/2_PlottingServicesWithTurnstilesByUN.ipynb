{
 "cells": [
  {
   "cell_type": "markdown",
   "metadata": {},
   "source": [
    "## Plotting number of vehicles with turnstile by unidad_de_negocio"
   ]
  },
  {
   "cell_type": "code",
   "execution_count": null,
   "metadata": {},
   "outputs": [],
   "source": [
    "import os\n",
    "import sys\n",
    "module_path = os.path.abspath(os.path.join('..'))\n",
    "if module_path not in sys.path:\n",
    "    sys.path.append(module_path)"
   ]
  },
  {
   "cell_type": "code",
   "execution_count": null,
   "metadata": {},
   "outputs": [],
   "source": [
    "%matplotlib inline\n",
    "from IPython.core.display import display, HTML\n",
    "display(HTML(\"<style>.container { width:95% !important; }</style>\"))\n",
    "\n",
    "import pandas as pd\n",
    "import matplotlib\n",
    "import matplotlib.pyplot as plt\n",
    "import matplotlib.dates as mdates\n",
    "\n",
    "from Utils import ReadTurnstilesDataBase"
   ]
  },
  {
   "cell_type": "markdown",
   "metadata": {},
   "source": [
    "#### Turnstile data"
   ]
  },
  {
   "cell_type": "code",
   "execution_count": null,
   "metadata": {},
   "outputs": [],
   "source": [
    "ana_turnstile_df = ReadTurnstilesDataBase.readTurnstileData()[0]"
   ]
  },
  {
   "cell_type": "code",
   "execution_count": null,
   "metadata": {},
   "outputs": [],
   "source": [
    "ana_turnstile_df.head()"
   ]
  },
  {
   "cell_type": "code",
   "execution_count": null,
   "metadata": {},
   "outputs": [],
   "source": [
    "ana_turnstile_df = ReadTurnstilesDataBase.processAnaTurnstiles(ana_turnstile_df)"
   ]
  },
  {
   "cell_type": "code",
   "execution_count": null,
   "metadata": {},
   "outputs": [],
   "source": [
    "u1_turnstile_buses = ana_turnstile_df.loc[ana_turnstile_df['UN']=='U1',:]\n",
    "u2_turnstile_buses = ana_turnstile_df.loc[ana_turnstile_df['UN']=='U2',:]\n",
    "u3_turnstile_buses = ana_turnstile_df.loc[ana_turnstile_df['UN']=='U3',:]\n",
    "u4_turnstile_buses = ana_turnstile_df.loc[ana_turnstile_df['UN']=='U4',:]\n",
    "u5_turnstile_buses = ana_turnstile_df.loc[ana_turnstile_df['UN']=='U5',:]\n",
    "u6_turnstile_buses = ana_turnstile_df.loc[ana_turnstile_df['UN']=='U6',:]\n",
    "u7_turnstile_buses = ana_turnstile_df.loc[ana_turnstile_df['UN']=='U7',:]"
   ]
  },
  {
   "cell_type": "markdown",
   "metadata": {},
   "source": [
    "#### Matplotlib settings"
   ]
  },
  {
   "cell_type": "code",
   "execution_count": null,
   "metadata": {},
   "outputs": [],
   "source": [
    "colors = [(3, 169, 244), (13, 71, 161),(51, 105, 30),(244, 81, 30),(0, 150, 136),(211, 47, 47),(251, 192, 45)]\n",
    "for i in range(len(colors)):\n",
    "    r, g, b = colors[i]  \n",
    "    colors[i] = (r / 255., g / 255., b / 255.)"
   ]
  },
  {
   "cell_type": "markdown",
   "metadata": {},
   "source": [
    "#### Grouping by month"
   ]
  },
  {
   "cell_type": "code",
   "execution_count": null,
   "metadata": {},
   "outputs": [],
   "source": [
    "grouped_u1 = u1_turnstile_buses.groupby(pd.Grouper(key='fecha_instalacion', freq='M')).size().to_frame().reset_index().rename(columns = {0:'VEHICULOS'})\n",
    "grouped_u2 = u2_turnstile_buses.groupby(pd.Grouper(key='fecha_instalacion', freq='M')).size().to_frame().reset_index().rename(columns = {0:'VEHICULOS'})\n",
    "grouped_u3 = u3_turnstile_buses.groupby(pd.Grouper(key='fecha_instalacion', freq='M')).size().to_frame().reset_index().rename(columns = {0:'VEHICULOS'})\n",
    "grouped_u4 = u4_turnstile_buses.groupby(pd.Grouper(key='fecha_instalacion', freq='M')).size().to_frame().reset_index().rename(columns = {0:'VEHICULOS'})\n",
    "grouped_u5 = u5_turnstile_buses.groupby(pd.Grouper(key='fecha_instalacion', freq='M')).size().to_frame().reset_index().rename(columns = {0:'VEHICULOS'})\n",
    "grouped_u6 = u6_turnstile_buses.groupby(pd.Grouper(key='fecha_instalacion', freq='M')).size().to_frame().reset_index().rename(columns = {0:'VEHICULOS'})\n",
    "grouped_u7 = u7_turnstile_buses.groupby(pd.Grouper(key='fecha_instalacion', freq='M')).size().to_frame().reset_index().rename(columns = {0:'VEHICULOS'})"
   ]
  },
  {
   "cell_type": "code",
   "execution_count": null,
   "metadata": {},
   "outputs": [],
   "source": [
    "grouped_u1.loc[:,'CUMSUM'] = grouped_u1.loc[:,'VEHICULOS'].cumsum()\n",
    "grouped_u2.loc[:,'CUMSUM'] = grouped_u2.loc[:,'VEHICULOS'].cumsum()\n",
    "grouped_u3.loc[:,'CUMSUM'] = grouped_u3.loc[:,'VEHICULOS'].cumsum()\n",
    "grouped_u4.loc[:,'CUMSUM'] = grouped_u4.loc[:,'VEHICULOS'].cumsum()\n",
    "grouped_u5.loc[:,'CUMSUM'] = grouped_u5.loc[:,'VEHICULOS'].cumsum()\n",
    "grouped_u6.loc[:,'CUMSUM'] = grouped_u6.loc[:,'VEHICULOS'].cumsum()\n",
    "grouped_u7.loc[:,'CUMSUM'] = grouped_u7.loc[:,'VEHICULOS'].cumsum()"
   ]
  },
  {
   "cell_type": "markdown",
   "metadata": {},
   "source": [
    "#### Plotting monthly installation state"
   ]
  },
  {
   "cell_type": "code",
   "execution_count": null,
   "metadata": {},
   "outputs": [],
   "source": [
    "#General settings\n",
    "marker_size = 3\n",
    "marker_type = 'o-'\n",
    "\n",
    "#Creating axes.\n",
    "fig_1, ax_1 = plt.subplots()\n",
    "u1 = ax_1.plot(grouped_u1['fecha_instalacion'],grouped_u1['CUMSUM'],marker_type, color = colors[0], markersize=marker_size)\n",
    "u2 = ax_1.plot(grouped_u2['fecha_instalacion'],grouped_u2['CUMSUM'],marker_type, color = colors[1], markersize=marker_size)\n",
    "u3 = ax_1.plot(grouped_u3['fecha_instalacion'],grouped_u3['CUMSUM'],marker_type, color = colors[2], markersize=marker_size)\n",
    "u4 = ax_1.plot(grouped_u4['fecha_instalacion'],grouped_u4['CUMSUM'],marker_type, color = colors[3], markersize=marker_size)\n",
    "u5 = ax_1.plot(grouped_u5['fecha_instalacion'],grouped_u5['CUMSUM'],marker_type, color = colors[4], markersize=marker_size)\n",
    "u6 = ax_1.plot(grouped_u6['fecha_instalacion'],grouped_u6['CUMSUM'],marker_type, color = colors[5], markersize=marker_size)\n",
    "u7 = ax_1.plot(grouped_u7['fecha_instalacion'],grouped_u7['CUMSUM'],marker_type, color = colors[6], markersize=marker_size)\n",
    "\n",
    "#Configuring axes' x-axis ticks\n",
    "majorLocator = mdates.YearLocator()\n",
    "majorFormatter = mdates.DateFormatter('%Y/')\n",
    "minorLocator = mdates.MonthLocator()\n",
    "minorFormatter = mdates.DateFormatter('%m')\n",
    "\n",
    "xax = ax_1.get_xaxis()\n",
    "\n",
    "xax.set_major_locator(majorLocator)\n",
    "xax.set_major_formatter(majorFormatter)\n",
    "xax.set_minor_locator(minorLocator)\n",
    "xax.set_minor_formatter(minorFormatter)\n",
    "\n",
    "xax.set_tick_params(which='major', pad=15) #For major ticks appearing below minor ticks\n",
    "\n",
    "#Configuring axes titles\n",
    "ax_1.set_title('Vehículos con torniquete por Unidad de Negocio')\n",
    "ax_1.set_ylabel('Número de vehículos')\n",
    "\n",
    "#Legend.\n",
    "plt.setp(xax.get_majorticklabels(), weight = 'bold', rotation=90) #For major ticks\n",
    "plt.setp(xax.get_minorticklabels(), weight = 'light', rotation=90) #For minor ticks\n",
    "plt.legend((u1[0],u2[0],u3[0],u4[0],u5[0], u6[0], u7[0]), ('UN1','UN2','UN3','UN4','UN5','UN6','UN7'))\n",
    "\n",
    "#Configuring fig\n",
    "plt.tight_layout()\n",
    "\n",
    "#Save\n",
    "plt.savefig('/home/leonardo/Desktop/Evasion/03_report/03_Medium/1_vehConTorniquetePorMes.pdf')"
   ]
  },
  {
   "cell_type": "markdown",
   "metadata": {},
   "source": [
    "### Closed"
   ]
  }
 ],
 "metadata": {
  "kernelspec": {
   "display_name": "Python 3",
   "language": "python",
   "name": "python3"
  },
  "language_info": {
   "codemirror_mode": {
    "name": "ipython",
    "version": 3
   },
   "file_extension": ".py",
   "mimetype": "text/x-python",
   "name": "python",
   "nbconvert_exporter": "python",
   "pygments_lexer": "ipython3",
   "version": "3.5.2+"
  }
 },
 "nbformat": 4,
 "nbformat_minor": 2
}
