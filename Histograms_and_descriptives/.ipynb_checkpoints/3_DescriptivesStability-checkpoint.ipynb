{
 "cells": [
  {
   "cell_type": "markdown",
   "metadata": {},
   "source": [
    "# Studying descriptive statistics stability"
   ]
  },
  {
   "cell_type": "code",
   "execution_count": 1,
   "metadata": {
    "collapsed": true
   },
   "outputs": [],
   "source": [
    "import os\n",
    "import sys\n",
    "module_path = os.path.abspath(os.path.join('..'))\n",
    "if module_path not in sys.path:\n",
    "    sys.path.append(module_path)"
   ]
  },
  {
   "cell_type": "code",
   "execution_count": 2,
   "metadata": {
    "collapsed": true
   },
   "outputs": [],
   "source": [
    "%matplotlib inline\n",
    "import pandas as pd\n",
    "import matplotlib\n",
    "import matplotlib.pyplot as plt\n",
    "import numpy as np\n",
    "from importlib import reload\n",
    "import datetime\n",
    "import DailyEtapasBuilder"
   ]
  },
  {
   "cell_type": "code",
   "execution_count": 3,
   "metadata": {
    "collapsed": true
   },
   "outputs": [],
   "source": [
    "date = '2017-03-01' #First date.\n",
    "#Creating the object.\n",
    "etapas_builder = DailyEtapasBuilder.RunSilentlyDailyEtapasBuilderClass(date)\n",
    "#Building.\n",
    "etapas_builder.loadSimplifiedEtapas()\n",
    "etapas_builder.cleanDataFrame() #Be aware of this condition\n",
    "etapas_builder.mergeTurnstileData()\n",
    "etapas_builder.sortDataFrame()\n",
    "etapas_builder.postProcessingSortedDataFrame()\n",
    "#Retrieving the info.\n",
    "etapas_df = etapas_builder.etapas_df\n",
    "[filtered_df,filtered_turnstile_df, filtered_no_turnstile_df] = etapas_builder.filteringDf()"
   ]
  },
  {
   "cell_type": "markdown",
   "metadata": {},
   "source": [
    "### Data Distribution"
   ]
  },
  {
   "cell_type": "code",
   "execution_count": 4,
   "metadata": {
    "collapsed": true
   },
   "outputs": [],
   "source": [
    "threshold = 120 #In seconds\n",
    "\n",
    "time_keys = []\n",
    "\n",
    "cumulative_counts_turnstile = []\n",
    "cumulative_counts_noturnstile = []\n",
    "\n",
    "total_count_turnstile = filtered_turnstile_df.count()[0]\n",
    "total_count_noturnstile = filtered_no_turnstile_df.count()[0]\n",
    "\n",
    "for i in range(0,threshold):\n",
    "    time_keys.append(i)\n",
    "    cumulative_counts_turnstile.append(filtered_turnstile_df[filtered_turnstile_df['diferencia_tiempo_secs']<i].count()[0])\n",
    "    cumulative_counts_noturnstile.append(filtered_no_turnstile_df[filtered_no_turnstile_df['diferencia_tiempo_secs']<i].count()[0])\n",
    "\n",
    "\n",
    "cumulative_counts_turnstile = cumulative_counts_turnstile/total_count_turnstile*100\n",
    "cumulative_counts_noturnstile = cumulative_counts_noturnstile/total_count_noturnstile*100"
   ]
  },
  {
   "cell_type": "code",
   "execution_count": 5,
   "metadata": {},
   "outputs": [
    {
     "name": "stdout",
     "output_type": "stream",
     "text": [
      "99.165854187\n",
      "99.4831399749\n"
     ]
    }
   ],
   "source": [
    "count_turnstile = filtered_turnstile_df[filtered_turnstile_df['diferencia_tiempo_secs']<=threshold].count()[0]\n",
    "count_noturnstile = filtered_no_turnstile_df[filtered_no_turnstile_df['diferencia_tiempo_secs']<=threshold].count()[0]\n",
    "\n",
    "\n",
    "percent_turnstile = (count_turnstile/total_count_turnstile)*100\n",
    "percent_noturnstile = (count_noturnstile/total_count_noturnstile)*100\n",
    "\n",
    "print(percent_turnstile)\n",
    "print(percent_noturnstile)"
   ]
  },
  {
   "cell_type": "code",
   "execution_count": 6,
   "metadata": {
    "collapsed": true
   },
   "outputs": [],
   "source": [
    "colors = [(85,98,112),(78,205,196),(199,244,100),(255,107,107),(196,77,88)]\n",
    "for i in range(len(colors)):\n",
    "    r, g, b = colors[i]  \n",
    "    colors[i] = (r / 255., g / 255., b / 255.)"
   ]
  },
  {
   "cell_type": "code",
   "execution_count": 7,
   "metadata": {},
   "outputs": [
    {
     "data": {
      "image/png": "[encoded data removed]",
      "text/plain": [
       "<matplotlib.figure.Figure at 0x1cb4ed9f898>"
      ]
     },
     "metadata": {},
     "output_type": "display_data"
    }
   ],
   "source": [
    "fig_1, ax_1 = plt.subplots()\n",
    "ax_1.plot(time_keys,cumulative_counts_noturnstile,color=colors[0],label='sin torniquete')\n",
    "ax_1.plot(time_keys,cumulative_counts_turnstile,color=colors[3],label='con torniquete mariposa')\n",
    "ax_1.set_title('Distribución acumulada intervalo entre validaciones - 01/03/2017')\n",
    "ax_1.set_xlabel('Intervalo [s]')\n",
    "ax_1.set_xlim(0,100)\n",
    "ax_1.set_ylabel('% de observaciones')\n",
    "ax_1.legend()\n",
    "ax_1.grid(True)\n",
    "plt.savefig('C:/Users/leoca_000/Desktop/Evasion/03_report/02_Figs/2_IntervaloVsObs_' + date + '.pdf')"
   ]
  },
  {
   "cell_type": "markdown",
   "metadata": {},
   "source": [
    "### Descriptive statistics stability"
   ]
  },
  {
   "cell_type": "code",
   "execution_count": 8,
   "metadata": {
    "collapsed": true,
    "scrolled": true
   },
   "outputs": [],
   "source": [
    "percentiles = np.arange(0.9, 1.005, 0.005)\n",
    "\n",
    "turnstile_mean_percentiles = []\n",
    "turnstile_std_percentiles = []\n",
    "turnstile_min_percentiles = []\n",
    "turnstile_25_percentiles = []\n",
    "turnstile_50_percentiles = []\n",
    "turnstile_75_percentiles = []\n",
    "turnstile_max_percentiles = []\n",
    "\n",
    "no_turnstile_mean_percentiles = []\n",
    "no_turnstile_std_percentiles = []\n",
    "no_turnstile_min_percentiles = []\n",
    "no_turnstile_25_percentiles = []\n",
    "no_turnstile_50_percentiles = []\n",
    "no_turnstile_75_percentiles = []\n",
    "no_turnstile_max_percentiles = []\n",
    "\n",
    "\n",
    "for i in percentiles:\n",
    "    time = filtered_df['diferencia_tiempo'].quantile(i)\n",
    "    percentile_df = filtered_df[filtered_df['diferencia_tiempo']<=time]\n",
    "    turnstile_percentile_df = percentile_df[percentile_df['torniquete_mariposa']==1]    \n",
    "    turnstile_descriptive = turnstile_percentile_df.describe()\n",
    "    turnstile_mean_percentiles.append(turnstile_descriptive['diferencia_tiempo_secs'].loc['mean'])\n",
    "    turnstile_std_percentiles.append(turnstile_descriptive['diferencia_tiempo_secs'].loc['std'])\n",
    "    turnstile_min_percentiles.append(turnstile_descriptive['diferencia_tiempo_secs'].loc['min'])\n",
    "    turnstile_25_percentiles.append(turnstile_descriptive['diferencia_tiempo_secs'].loc['25%'])\n",
    "    turnstile_50_percentiles.append(turnstile_descriptive['diferencia_tiempo_secs'].loc['50%'])\n",
    "    turnstile_75_percentiles.append(turnstile_descriptive['diferencia_tiempo_secs'].loc['75%'])\n",
    "    turnstile_max_percentiles.append(turnstile_descriptive['diferencia_tiempo_secs'].loc['max'])\n",
    "    \n",
    "    no_turnstile_percentile_df = percentile_df[percentile_df['no_torniquete']==1]\n",
    "    no_turnstile_descriptive = no_turnstile_percentile_df.describe()\n",
    "    no_turnstile_mean_percentiles.append(no_turnstile_descriptive['diferencia_tiempo_secs'].loc['mean'])\n",
    "    no_turnstile_std_percentiles.append(no_turnstile_descriptive['diferencia_tiempo_secs'].loc['std'])\n",
    "    no_turnstile_min_percentiles.append(no_turnstile_descriptive['diferencia_tiempo_secs'].loc['min'])\n",
    "    no_turnstile_25_percentiles.append(no_turnstile_descriptive['diferencia_tiempo_secs'].loc['25%'])\n",
    "    no_turnstile_50_percentiles.append(no_turnstile_descriptive['diferencia_tiempo_secs'].loc['50%'])\n",
    "    no_turnstile_75_percentiles.append(no_turnstile_descriptive['diferencia_tiempo_secs'].loc['75%'])\n",
    "    no_turnstile_max_percentiles.append(no_turnstile_descriptive['diferencia_tiempo_secs'].loc['max'])\n"
   ]
  },
  {
   "cell_type": "code",
   "execution_count": 9,
   "metadata": {
    "collapsed": true,
    "scrolled": true
   },
   "outputs": [],
   "source": [
    "summary_df = pd.DataFrame({'percentile': percentiles,\n",
    "                          'turnstile-mean': turnstile_mean_percentiles,\n",
    "                          'turnstile-std': turnstile_std_percentiles,\n",
    "                          'turnstile-median': turnstile_50_percentiles,\n",
    "                          'turnstile-max': turnstile_max_percentiles,\n",
    "                          'no-turnstile-mean': no_turnstile_mean_percentiles,\n",
    "                          'no-turnstile-std': no_turnstile_std_percentiles,\n",
    "                          'no-turnstile-median': no_turnstile_50_percentiles,\n",
    "                          'no-turnstile-max': no_turnstile_max_percentiles})\n"
   ]
  },
  {
   "cell_type": "code",
   "execution_count": 10,
   "metadata": {
    "collapsed": true
   },
   "outputs": [],
   "source": [
    "def slope_calc(x,y):\n",
    "    delta_y = (y.shift()-y)\n",
    "    delta_x = (x.shift()-x)\n",
    "    slope = (delta_y/delta_x).fillna(0)\n",
    "    return slope\n"
   ]
  },
  {
   "cell_type": "code",
   "execution_count": 11,
   "metadata": {
    "collapsed": true
   },
   "outputs": [],
   "source": [
    "summary_df['difference_means'] = summary_df['turnstile-mean']-summary_df['no-turnstile-mean']"
   ]
  },
  {
   "cell_type": "code",
   "execution_count": 16,
   "metadata": {
    "scrolled": true
   },
   "outputs": [
    {
     "data": {
      "text/html": [
       "<div>\n",
       "<style>\n",
       "    .dataframe thead tr:only-child th {\n",
       "        text-align: right;\n",
       "    }\n",
       "\n",
       "    .dataframe thead th {\n",
       "        text-align: left;\n",
       "    }\n",
       "\n",
       "    .dataframe tbody tr th {\n",
       "        vertical-align: top;\n",
       "    }\n",
       "</style>\n",
       "<table border=\"1\" class=\"dataframe\">\n",
       "  <thead>\n",
       "    <tr style=\"text-align: right;\">\n",
       "      <th></th>\n",
       "      <th>percentile</th>\n",
       "      <th>difference_means</th>\n",
       "    </tr>\n",
       "  </thead>\n",
       "  <tbody>\n",
       "    <tr>\n",
       "      <th>0</th>\n",
       "      <td>0.9</td>\n",
       "      <td>2.065703</td>\n",
       "    </tr>\n",
       "  </tbody>\n",
       "</table>\n",
       "</div>"
      ],
      "text/plain": [
       "   percentile  difference_means\n",
       "0         0.9          2.065703"
      ]
     },
     "execution_count": 16,
     "metadata": {},
     "output_type": "execute_result"
    }
   ],
   "source": [
    "summary_df.loc[summary_df['difference_means']==summary_df['difference_means'].min(),['percentile','difference_means']]"
   ]
  },
  {
   "cell_type": "code",
   "execution_count": 17,
   "metadata": {},
   "outputs": [
    {
     "data": {
      "text/html": [
       "<div>\n",
       "<style>\n",
       "    .dataframe thead tr:only-child th {\n",
       "        text-align: right;\n",
       "    }\n",
       "\n",
       "    .dataframe thead th {\n",
       "        text-align: left;\n",
       "    }\n",
       "\n",
       "    .dataframe tbody tr th {\n",
       "        vertical-align: top;\n",
       "    }\n",
       "</style>\n",
       "<table border=\"1\" class=\"dataframe\">\n",
       "  <thead>\n",
       "    <tr style=\"text-align: right;\">\n",
       "      <th></th>\n",
       "      <th>percentile</th>\n",
       "      <th>difference_means</th>\n",
       "    </tr>\n",
       "  </thead>\n",
       "  <tbody>\n",
       "    <tr>\n",
       "      <th>20</th>\n",
       "      <td>1.0</td>\n",
       "      <td>3.424557</td>\n",
       "    </tr>\n",
       "  </tbody>\n",
       "</table>\n",
       "</div>"
      ],
      "text/plain": [
       "    percentile  difference_means\n",
       "20         1.0          3.424557"
      ]
     },
     "execution_count": 17,
     "metadata": {},
     "output_type": "execute_result"
    }
   ],
   "source": [
    "summary_df.loc[summary_df['difference_means']==summary_df['difference_means'].max(),['percentile','difference_means']]"
   ]
  },
  {
   "cell_type": "code",
   "execution_count": 18,
   "metadata": {
    "collapsed": true
   },
   "outputs": [],
   "source": [
    "summary_df['turnstile-mean-slope'] = slope_calc(summary_df['percentile'],summary_df['turnstile-mean'])\n",
    "summary_df['no-turnstile-mean-slope'] = slope_calc(summary_df['percentile'],summary_df['no-turnstile-mean'])\n",
    "\n",
    "summary_df['turnstile-std-slope'] = slope_calc(summary_df['percentile'],summary_df['turnstile-std'])\n",
    "summary_df['no-turnstile-std-slope'] = slope_calc(summary_df['percentile'],summary_df['no-turnstile-std'])\n",
    "\n",
    "summary_df['turnstile-max-slope'] = slope_calc(summary_df['percentile'],summary_df['turnstile-max'])\n",
    "summary_df['no-turnstile-max-slope'] = slope_calc(summary_df['percentile'],summary_df['no-turnstile-max'])\n"
   ]
  },
  {
   "cell_type": "code",
   "execution_count": 19,
   "metadata": {
    "collapsed": true
   },
   "outputs": [],
   "source": [
    "turnstile_mean_slope = summary_df['turnstile-mean-slope'].values\n",
    "no_turnstile_mean_slope = summary_df['no-turnstile-mean-slope'].values\n",
    "\n",
    "turnstile_std_slope = summary_df['turnstile-std-slope'].values\n",
    "no_turnstile_std_slope = summary_df['no-turnstile-std-slope'].values\n",
    "\n",
    "turnstile_max_slope = summary_df['turnstile-max-slope'].values\n",
    "no_turnstile_max_slope = summary_df['no-turnstile-max-slope'].values"
   ]
  },
  {
   "cell_type": "code",
   "execution_count": 20,
   "metadata": {
    "collapsed": true
   },
   "outputs": [],
   "source": [
    "#cols = ['percentile', \n",
    "#        'turnstile-mean', 'turnstile-mean-slope' ,'no-turnstile-mean', 'no-turnstile-mean-slope',\n",
    "#        'turnstile-std', 'turnstile-std-slope', 'no-turnstile-std', 'no-turnstile-std-slope',\n",
    "#        'turnstile-median', 'no-turnstile-median', \n",
    "#        'turnstile-max','turnstile-max-slope', 'no-turnstile-max', 'no-turnstile-max-slope']\n",
    "#summary_df = summary_df[cols]\n"
   ]
  },
  {
   "cell_type": "markdown",
   "metadata": {},
   "source": [
    "* To LaTeX"
   ]
  },
  {
   "cell_type": "code",
   "execution_count": 21,
   "metadata": {
    "collapsed": true
   },
   "outputs": [],
   "source": [
    "#means_df = summary_df[['percentile','turnstile-mean','turnstile-mean-slope','no-turnstile-mean','no-turnstile-mean-slope']]\n",
    "#stds_df = summary_df[['percentile','turnstile-std','turnstile-std-slope','no-turnstile-std','no-turnstile-std-slope']]\n",
    "#maxs_df = summary_df[['percentile','turnstile-max','turnstile-max-slope','no-turnstile-max','no-turnstile-max-slope']]"
   ]
  },
  {
   "cell_type": "code",
   "execution_count": 22,
   "metadata": {
    "collapsed": true
   },
   "outputs": [],
   "source": [
    "#means_df"
   ]
  },
  {
   "cell_type": "code",
   "execution_count": 23,
   "metadata": {
    "collapsed": true
   },
   "outputs": [],
   "source": [
    "#stds_df"
   ]
  },
  {
   "cell_type": "code",
   "execution_count": 24,
   "metadata": {
    "collapsed": true
   },
   "outputs": [],
   "source": [
    "#maxs_df"
   ]
  },
  {
   "cell_type": "markdown",
   "metadata": {},
   "source": [
    "* To plotting"
   ]
  },
  {
   "cell_type": "code",
   "execution_count": 25,
   "metadata": {},
   "outputs": [
    {
     "data": {
      "image/png": "[encoded data removed]",
      "text/plain": [
       "<matplotlib.figure.Figure at 0x1cb4ed9fe80>"
      ]
     },
     "metadata": {},
     "output_type": "display_data"
    }
   ],
   "source": [
    "fig_2, ax_2 = plt.subplots()\n",
    "\n",
    "ax_2.plot(percentiles,turnstile_mean_percentiles,'-o',color=colors[3],label='con torniquete mariposa')\n",
    "ax_2.plot(percentiles,no_turnstile_mean_percentiles,'-o',color=colors[0],label='sin torniquete')\n",
    "\n",
    "ax_2.set_title('Percentil vs. Intervalo Promedio - 01/03/2017')\n",
    "ax_2.set_xlabel('Percentil')\n",
    "ax_2.set_ylabel('Intervalo promedio [s]')\n",
    "ax_2.legend()\n",
    "ax_2.grid(True)\n",
    "plt.savefig('C:/Users/leoca_000/Desktop/Evasion/03_report/02_Figs/2_percentilVsPromedio_' + date + '.pdf')"
   ]
  },
  {
   "cell_type": "code",
   "execution_count": 26,
   "metadata": {
    "scrolled": true
   },
   "outputs": [
    {
     "data": {
      "image/png": "[encoded data removed]",
      "text/plain": [
       "<matplotlib.figure.Figure at 0x1cb52b006a0>"
      ]
     },
     "metadata": {},
     "output_type": "display_data"
    }
   ],
   "source": [
    "fig_3, ax_3 = plt.subplots()\n",
    "ax_3.plot(percentiles,turnstile_50_percentiles,'-o',color=colors[3],label='con torniquete mariposa')\n",
    "ax_3.plot(percentiles,no_turnstile_50_percentiles, '-o', color=colors[0], label='sin torniquete')\n",
    "ax_3.legend()\n",
    "ax_3.set_title('Percentil vs. Mediana del intervalo - 01/03/2017')\n",
    "ax_3.set_xlabel('Percentil')\n",
    "ax_3.set_ylabel('Mediana del intervalo [s]')\n",
    "ax_3.grid(True)\n",
    "plt.savefig('C:/Users/leoca_000/Desktop/Evasion/03_report/02_Figs/2_percentilVsMediana_' + date + '.pdf')"
   ]
  },
  {
   "cell_type": "code",
   "execution_count": 27,
   "metadata": {
    "scrolled": true
   },
   "outputs": [
    {
     "data": {
      "image/png": "[encoded data removed]",
      "text/plain": [
       "<matplotlib.figure.Figure at 0x1cb4f05ad68>"
      ]
     },
     "metadata": {},
     "output_type": "display_data"
    }
   ],
   "source": [
    "fig_4, ax_4 = plt.subplots()\n",
    "\n",
    "#Filtering for plotting:\n",
    "new_percentiles = percentiles[percentiles<1]\n",
    "new_turnstile_std_percentiles = [x for x in turnstile_std_percentiles if x < 20]\n",
    "new_no_turnstile_std_percentiles = [x for x in no_turnstile_std_percentiles if x < 20]\n",
    "#End of filter.\n",
    "\n",
    "ax_4.plot(new_percentiles,new_turnstile_std_percentiles,'-o',color=colors[3],label='con torniquete mariposa')\n",
    "ax_4.plot(new_percentiles,new_no_turnstile_std_percentiles, '-o', color=colors[0], label='sin torniquete')\n",
    "ax_4.legend()\n",
    "ax_4.set_title('Percentil vs. Desviación Estándar del Intervalo - 01/03/2017')\n",
    "ax_4.set_xlabel('Percentil')\n",
    "ax_4.set_ylabel('Desviación Estándar del Intervalo [s]')\n",
    "ax_4.grid(True)\n",
    "\n",
    "plt.savefig('C:/Users/leoca_000/Desktop/Evasion/03_report/02_Figs/2_percentilVsStd_' + date + '.pdf')"
   ]
  },
  {
   "cell_type": "code",
   "execution_count": 28,
   "metadata": {},
   "outputs": [
    {
     "data": {
      "image/png": "[encoded data removed]",
      "text/plain": [
       "<matplotlib.figure.Figure at 0x1cb54863c88>"
      ]
     },
     "metadata": {},
     "output_type": "display_data"
    }
   ],
   "source": [
    "fig_5, ax_5 = plt.subplots()\n",
    "\n",
    "#Filtering for plotting:\n",
    "new_turnstile_max_percentiles = [x for x in turnstile_max_percentiles if x < 200]\n",
    "new_no_turnstile_max_percentiles = [x for x in no_turnstile_max_percentiles if x < 200]\n",
    "#End of filter.\n",
    "\n",
    "ax_5.plot(new_percentiles,new_turnstile_max_percentiles,'-o',color=colors[3],label='con torniquete mariposa')\n",
    "ax_5.plot(new_percentiles,new_no_turnstile_max_percentiles, '-o', color=colors[0], label='sin torniquete')\n",
    "ax_5.legend()\n",
    "ax_5.set_title('Percentil vs. Intervalo Máximo - 01/03/2017')\n",
    "ax_5.set_xlabel('Percentil')\n",
    "ax_5.set_ylabel('Intervalo Máximo [s]')\n",
    "ax_5.grid(True)\n",
    "\n",
    "plt.savefig('C:/Users/leoca_000/Desktop/Evasion/03_report/02_Figs/2_percentilVsMax_' + date + '.pdf')"
   ]
  },
  {
   "cell_type": "code",
   "execution_count": 29,
   "metadata": {
    "collapsed": true
   },
   "outputs": [],
   "source": [
    "summary_df['difference_stds'] = summary_df['turnstile-std']-summary_df['no-turnstile-std']"
   ]
  },
  {
   "cell_type": "code",
   "execution_count": 30,
   "metadata": {},
   "outputs": [
    {
     "data": {
      "text/html": [
       "<div>\n",
       "<style>\n",
       "    .dataframe thead tr:only-child th {\n",
       "        text-align: right;\n",
       "    }\n",
       "\n",
       "    .dataframe thead th {\n",
       "        text-align: left;\n",
       "    }\n",
       "\n",
       "    .dataframe tbody tr th {\n",
       "        vertical-align: top;\n",
       "    }\n",
       "</style>\n",
       "<table border=\"1\" class=\"dataframe\">\n",
       "  <thead>\n",
       "    <tr style=\"text-align: right;\">\n",
       "      <th></th>\n",
       "      <th>no-turnstile-max</th>\n",
       "      <th>no-turnstile-mean</th>\n",
       "      <th>no-turnstile-median</th>\n",
       "      <th>no-turnstile-std</th>\n",
       "      <th>percentile</th>\n",
       "      <th>turnstile-max</th>\n",
       "      <th>turnstile-mean</th>\n",
       "      <th>turnstile-median</th>\n",
       "      <th>turnstile-std</th>\n",
       "      <th>difference_means</th>\n",
       "      <th>turnstile-mean-slope</th>\n",
       "      <th>no-turnstile-mean-slope</th>\n",
       "      <th>turnstile-std-slope</th>\n",
       "      <th>no-turnstile-std-slope</th>\n",
       "      <th>turnstile-max-slope</th>\n",
       "      <th>no-turnstile-max-slope</th>\n",
       "      <th>difference_stds</th>\n",
       "    </tr>\n",
       "  </thead>\n",
       "  <tbody>\n",
       "    <tr>\n",
       "      <th>0</th>\n",
       "      <td>11.0</td>\n",
       "      <td>2.849274</td>\n",
       "      <td>2.0</td>\n",
       "      <td>2.061967</td>\n",
       "      <td>0.900</td>\n",
       "      <td>11.0</td>\n",
       "      <td>4.914977</td>\n",
       "      <td>5.0</td>\n",
       "      <td>2.119461</td>\n",
       "      <td>2.065703</td>\n",
       "      <td>0.000000</td>\n",
       "      <td>0.000000</td>\n",
       "      <td>0.000000</td>\n",
       "      <td>0.000000</td>\n",
       "      <td>0.0</td>\n",
       "      <td>0.0</td>\n",
       "      <td>0.057494</td>\n",
       "    </tr>\n",
       "    <tr>\n",
       "      <th>1</th>\n",
       "      <td>12.0</td>\n",
       "      <td>2.906771</td>\n",
       "      <td>2.0</td>\n",
       "      <td>2.178952</td>\n",
       "      <td>0.905</td>\n",
       "      <td>12.0</td>\n",
       "      <td>5.017868</td>\n",
       "      <td>5.0</td>\n",
       "      <td>2.268323</td>\n",
       "      <td>2.111097</td>\n",
       "      <td>20.578260</td>\n",
       "      <td>11.499459</td>\n",
       "      <td>29.772353</td>\n",
       "      <td>23.396889</td>\n",
       "      <td>200.0</td>\n",
       "      <td>200.0</td>\n",
       "      <td>0.089372</td>\n",
       "    </tr>\n",
       "    <tr>\n",
       "      <th>2</th>\n",
       "      <td>12.0</td>\n",
       "      <td>2.906771</td>\n",
       "      <td>2.0</td>\n",
       "      <td>2.178952</td>\n",
       "      <td>0.910</td>\n",
       "      <td>12.0</td>\n",
       "      <td>5.017868</td>\n",
       "      <td>5.0</td>\n",
       "      <td>2.268323</td>\n",
       "      <td>2.111097</td>\n",
       "      <td>-0.000000</td>\n",
       "      <td>-0.000000</td>\n",
       "      <td>-0.000000</td>\n",
       "      <td>-0.000000</td>\n",
       "      <td>-0.0</td>\n",
       "      <td>-0.0</td>\n",
       "      <td>0.089372</td>\n",
       "    </tr>\n",
       "    <tr>\n",
       "      <th>3</th>\n",
       "      <td>13.0</td>\n",
       "      <td>2.960842</td>\n",
       "      <td>2.0</td>\n",
       "      <td>2.294608</td>\n",
       "      <td>0.915</td>\n",
       "      <td>13.0</td>\n",
       "      <td>5.109838</td>\n",
       "      <td>5.0</td>\n",
       "      <td>2.410741</td>\n",
       "      <td>2.148996</td>\n",
       "      <td>18.394003</td>\n",
       "      <td>10.814220</td>\n",
       "      <td>28.483614</td>\n",
       "      <td>23.131197</td>\n",
       "      <td>200.0</td>\n",
       "      <td>200.0</td>\n",
       "      <td>0.116134</td>\n",
       "    </tr>\n",
       "    <tr>\n",
       "      <th>4</th>\n",
       "      <td>14.0</td>\n",
       "      <td>3.011421</td>\n",
       "      <td>2.0</td>\n",
       "      <td>2.407673</td>\n",
       "      <td>0.920</td>\n",
       "      <td>14.0</td>\n",
       "      <td>5.199901</td>\n",
       "      <td>5.0</td>\n",
       "      <td>2.558391</td>\n",
       "      <td>2.188480</td>\n",
       "      <td>18.012457</td>\n",
       "      <td>10.115773</td>\n",
       "      <td>29.529960</td>\n",
       "      <td>22.613126</td>\n",
       "      <td>200.0</td>\n",
       "      <td>200.0</td>\n",
       "      <td>0.150718</td>\n",
       "    </tr>\n",
       "    <tr>\n",
       "      <th>5</th>\n",
       "      <td>15.0</td>\n",
       "      <td>3.058377</td>\n",
       "      <td>2.0</td>\n",
       "      <td>2.516927</td>\n",
       "      <td>0.925</td>\n",
       "      <td>15.0</td>\n",
       "      <td>5.277004</td>\n",
       "      <td>5.0</td>\n",
       "      <td>2.691385</td>\n",
       "      <td>2.218627</td>\n",
       "      <td>15.420695</td>\n",
       "      <td>9.391237</td>\n",
       "      <td>26.598831</td>\n",
       "      <td>21.850653</td>\n",
       "      <td>200.0</td>\n",
       "      <td>200.0</td>\n",
       "      <td>0.174459</td>\n",
       "    </tr>\n",
       "    <tr>\n",
       "      <th>6</th>\n",
       "      <td>16.0</td>\n",
       "      <td>3.101762</td>\n",
       "      <td>2.0</td>\n",
       "      <td>2.621693</td>\n",
       "      <td>0.930</td>\n",
       "      <td>16.0</td>\n",
       "      <td>5.350301</td>\n",
       "      <td>5.0</td>\n",
       "      <td>2.823940</td>\n",
       "      <td>2.248539</td>\n",
       "      <td>14.659321</td>\n",
       "      <td>8.677009</td>\n",
       "      <td>26.510981</td>\n",
       "      <td>20.953262</td>\n",
       "      <td>200.0</td>\n",
       "      <td>200.0</td>\n",
       "      <td>0.202247</td>\n",
       "    </tr>\n",
       "    <tr>\n",
       "      <th>7</th>\n",
       "      <td>18.0</td>\n",
       "      <td>3.184591</td>\n",
       "      <td>2.0</td>\n",
       "      <td>2.831620</td>\n",
       "      <td>0.935</td>\n",
       "      <td>18.0</td>\n",
       "      <td>5.480041</td>\n",
       "      <td>5.0</td>\n",
       "      <td>3.072842</td>\n",
       "      <td>2.295450</td>\n",
       "      <td>25.948004</td>\n",
       "      <td>16.565678</td>\n",
       "      <td>49.780392</td>\n",
       "      <td>41.985377</td>\n",
       "      <td>400.0</td>\n",
       "      <td>400.0</td>\n",
       "      <td>0.241222</td>\n",
       "    </tr>\n",
       "    <tr>\n",
       "      <th>8</th>\n",
       "      <td>19.0</td>\n",
       "      <td>3.223768</td>\n",
       "      <td>2.0</td>\n",
       "      <td>2.935349</td>\n",
       "      <td>0.940</td>\n",
       "      <td>19.0</td>\n",
       "      <td>5.542001</td>\n",
       "      <td>5.0</td>\n",
       "      <td>3.198899</td>\n",
       "      <td>2.318233</td>\n",
       "      <td>12.392005</td>\n",
       "      <td>7.835380</td>\n",
       "      <td>25.211350</td>\n",
       "      <td>20.745826</td>\n",
       "      <td>200.0</td>\n",
       "      <td>200.0</td>\n",
       "      <td>0.263550</td>\n",
       "    </tr>\n",
       "    <tr>\n",
       "      <th>9</th>\n",
       "      <td>21.0</td>\n",
       "      <td>3.298161</td>\n",
       "      <td>2.0</td>\n",
       "      <td>3.139701</td>\n",
       "      <td>0.945</td>\n",
       "      <td>21.0</td>\n",
       "      <td>5.639569</td>\n",
       "      <td>5.0</td>\n",
       "      <td>3.408172</td>\n",
       "      <td>2.341408</td>\n",
       "      <td>19.513638</td>\n",
       "      <td>14.878704</td>\n",
       "      <td>41.854679</td>\n",
       "      <td>40.870361</td>\n",
       "      <td>400.0</td>\n",
       "      <td>400.0</td>\n",
       "      <td>0.268472</td>\n",
       "    </tr>\n",
       "    <tr>\n",
       "      <th>10</th>\n",
       "      <td>24.0</td>\n",
       "      <td>3.398359</td>\n",
       "      <td>3.0</td>\n",
       "      <td>3.430961</td>\n",
       "      <td>0.950</td>\n",
       "      <td>24.0</td>\n",
       "      <td>5.784006</td>\n",
       "      <td>5.0</td>\n",
       "      <td>3.741377</td>\n",
       "      <td>2.385646</td>\n",
       "      <td>28.887324</td>\n",
       "      <td>20.039660</td>\n",
       "      <td>66.641023</td>\n",
       "      <td>58.252042</td>\n",
       "      <td>600.0</td>\n",
       "      <td>600.0</td>\n",
       "      <td>0.310416</td>\n",
       "    </tr>\n",
       "    <tr>\n",
       "      <th>11</th>\n",
       "      <td>28.0</td>\n",
       "      <td>3.522569</td>\n",
       "      <td>3.0</td>\n",
       "      <td>3.816278</td>\n",
       "      <td>0.955</td>\n",
       "      <td>28.0</td>\n",
       "      <td>5.951069</td>\n",
       "      <td>5.0</td>\n",
       "      <td>4.161275</td>\n",
       "      <td>2.428500</td>\n",
       "      <td>33.412736</td>\n",
       "      <td>24.841937</td>\n",
       "      <td>83.979439</td>\n",
       "      <td>77.063448</td>\n",
       "      <td>800.0</td>\n",
       "      <td>800.0</td>\n",
       "      <td>0.344996</td>\n",
       "    </tr>\n",
       "    <tr>\n",
       "      <th>12</th>\n",
       "      <td>31.0</td>\n",
       "      <td>3.621071</td>\n",
       "      <td>3.0</td>\n",
       "      <td>4.136148</td>\n",
       "      <td>0.960</td>\n",
       "      <td>31.0</td>\n",
       "      <td>6.065083</td>\n",
       "      <td>5.0</td>\n",
       "      <td>4.467869</td>\n",
       "      <td>2.444012</td>\n",
       "      <td>22.802748</td>\n",
       "      <td>19.700347</td>\n",
       "      <td>61.318909</td>\n",
       "      <td>63.974036</td>\n",
       "      <td>600.0</td>\n",
       "      <td>600.0</td>\n",
       "      <td>0.331721</td>\n",
       "    </tr>\n",
       "    <tr>\n",
       "      <th>13</th>\n",
       "      <td>36.0</td>\n",
       "      <td>3.791091</td>\n",
       "      <td>3.0</td>\n",
       "      <td>4.706555</td>\n",
       "      <td>0.965</td>\n",
       "      <td>36.0</td>\n",
       "      <td>6.255521</td>\n",
       "      <td>5.0</td>\n",
       "      <td>5.010342</td>\n",
       "      <td>2.464430</td>\n",
       "      <td>38.087512</td>\n",
       "      <td>34.004044</td>\n",
       "      <td>108.494500</td>\n",
       "      <td>114.081364</td>\n",
       "      <td>1000.0</td>\n",
       "      <td>1000.0</td>\n",
       "      <td>0.303786</td>\n",
       "    </tr>\n",
       "    <tr>\n",
       "      <th>14</th>\n",
       "      <td>41.0</td>\n",
       "      <td>3.967225</td>\n",
       "      <td>3.0</td>\n",
       "      <td>5.311473</td>\n",
       "      <td>0.970</td>\n",
       "      <td>41.0</td>\n",
       "      <td>6.455812</td>\n",
       "      <td>5.0</td>\n",
       "      <td>5.608817</td>\n",
       "      <td>2.488587</td>\n",
       "      <td>40.058340</td>\n",
       "      <td>35.226838</td>\n",
       "      <td>119.695001</td>\n",
       "      <td>120.983645</td>\n",
       "      <td>1000.0</td>\n",
       "      <td>1000.0</td>\n",
       "      <td>0.297343</td>\n",
       "    </tr>\n",
       "    <tr>\n",
       "      <th>15</th>\n",
       "      <td>47.0</td>\n",
       "      <td>4.165814</td>\n",
       "      <td>3.0</td>\n",
       "      <td>6.007384</td>\n",
       "      <td>0.975</td>\n",
       "      <td>47.0</td>\n",
       "      <td>6.666484</td>\n",
       "      <td>5.0</td>\n",
       "      <td>6.264529</td>\n",
       "      <td>2.500670</td>\n",
       "      <td>42.134410</td>\n",
       "      <td>39.717785</td>\n",
       "      <td>131.142450</td>\n",
       "      <td>139.182183</td>\n",
       "      <td>1200.0</td>\n",
       "      <td>1200.0</td>\n",
       "      <td>0.257145</td>\n",
       "    </tr>\n",
       "    <tr>\n",
       "      <th>16</th>\n",
       "      <td>54.0</td>\n",
       "      <td>4.378121</td>\n",
       "      <td>3.0</td>\n",
       "      <td>6.767791</td>\n",
       "      <td>0.980</td>\n",
       "      <td>54.0</td>\n",
       "      <td>6.890612</td>\n",
       "      <td>5.0</td>\n",
       "      <td>6.994473</td>\n",
       "      <td>2.512491</td>\n",
       "      <td>44.825497</td>\n",
       "      <td>42.461358</td>\n",
       "      <td>145.988857</td>\n",
       "      <td>152.081327</td>\n",
       "      <td>1400.0</td>\n",
       "      <td>1400.0</td>\n",
       "      <td>0.226682</td>\n",
       "    </tr>\n",
       "    <tr>\n",
       "      <th>17</th>\n",
       "      <td>65.0</td>\n",
       "      <td>4.650134</td>\n",
       "      <td>3.0</td>\n",
       "      <td>7.782431</td>\n",
       "      <td>0.985</td>\n",
       "      <td>65.0</td>\n",
       "      <td>7.210165</td>\n",
       "      <td>5.0</td>\n",
       "      <td>8.091742</td>\n",
       "      <td>2.560031</td>\n",
       "      <td>63.910568</td>\n",
       "      <td>54.402537</td>\n",
       "      <td>219.453768</td>\n",
       "      <td>202.928001</td>\n",
       "      <td>2200.0</td>\n",
       "      <td>2200.0</td>\n",
       "      <td>0.309311</td>\n",
       "    </tr>\n",
       "    <tr>\n",
       "      <th>18</th>\n",
       "      <td>84.0</td>\n",
       "      <td>4.993349</td>\n",
       "      <td>3.0</td>\n",
       "      <td>9.173711</td>\n",
       "      <td>0.990</td>\n",
       "      <td>84.0</td>\n",
       "      <td>7.623175</td>\n",
       "      <td>5.0</td>\n",
       "      <td>9.635805</td>\n",
       "      <td>2.629827</td>\n",
       "      <td>82.602121</td>\n",
       "      <td>68.643009</td>\n",
       "      <td>308.812636</td>\n",
       "      <td>278.255967</td>\n",
       "      <td>3800.0</td>\n",
       "      <td>3800.0</td>\n",
       "      <td>0.462094</td>\n",
       "    </tr>\n",
       "    <tr>\n",
       "      <th>19</th>\n",
       "      <td>123.0</td>\n",
       "      <td>5.456144</td>\n",
       "      <td>3.0</td>\n",
       "      <td>11.341466</td>\n",
       "      <td>0.995</td>\n",
       "      <td>123.0</td>\n",
       "      <td>8.246254</td>\n",
       "      <td>5.0</td>\n",
       "      <td>12.272241</td>\n",
       "      <td>2.790109</td>\n",
       "      <td>124.615682</td>\n",
       "      <td>92.559160</td>\n",
       "      <td>527.287147</td>\n",
       "      <td>433.550974</td>\n",
       "      <td>7800.0</td>\n",
       "      <td>7800.0</td>\n",
       "      <td>0.930775</td>\n",
       "    </tr>\n",
       "    <tr>\n",
       "      <th>20</th>\n",
       "      <td>34433.0</td>\n",
       "      <td>6.919862</td>\n",
       "      <td>3.0</td>\n",
       "      <td>62.558937</td>\n",
       "      <td>1.000</td>\n",
       "      <td>5442.0</td>\n",
       "      <td>10.344419</td>\n",
       "      <td>5.0</td>\n",
       "      <td>45.470704</td>\n",
       "      <td>3.424557</td>\n",
       "      <td>419.633090</td>\n",
       "      <td>292.743525</td>\n",
       "      <td>6639.692522</td>\n",
       "      <td>10243.494233</td>\n",
       "      <td>1063800.0</td>\n",
       "      <td>6862000.0</td>\n",
       "      <td>-17.088233</td>\n",
       "    </tr>\n",
       "  </tbody>\n",
       "</table>\n",
       "</div>"
      ],
      "text/plain": [
       "    no-turnstile-max  no-turnstile-mean  no-turnstile-median  \\\n",
       "0               11.0           2.849274                  2.0   \n",
       "1               12.0           2.906771                  2.0   \n",
       "2               12.0           2.906771                  2.0   \n",
       "3               13.0           2.960842                  2.0   \n",
       "4               14.0           3.011421                  2.0   \n",
       "5               15.0           3.058377                  2.0   \n",
       "6               16.0           3.101762                  2.0   \n",
       "7               18.0           3.184591                  2.0   \n",
       "8               19.0           3.223768                  2.0   \n",
       "9               21.0           3.298161                  2.0   \n",
       "10              24.0           3.398359                  3.0   \n",
       "11              28.0           3.522569                  3.0   \n",
       "12              31.0           3.621071                  3.0   \n",
       "13              36.0           3.791091                  3.0   \n",
       "14              41.0           3.967225                  3.0   \n",
       "15              47.0           4.165814                  3.0   \n",
       "16              54.0           4.378121                  3.0   \n",
       "17              65.0           4.650134                  3.0   \n",
       "18              84.0           4.993349                  3.0   \n",
       "19             123.0           5.456144                  3.0   \n",
       "20           34433.0           6.919862                  3.0   \n",
       "\n",
       "    no-turnstile-std  percentile  turnstile-max  turnstile-mean  \\\n",
       "0           2.061967       0.900           11.0        4.914977   \n",
       "1           2.178952       0.905           12.0        5.017868   \n",
       "2           2.178952       0.910           12.0        5.017868   \n",
       "3           2.294608       0.915           13.0        5.109838   \n",
       "4           2.407673       0.920           14.0        5.199901   \n",
       "5           2.516927       0.925           15.0        5.277004   \n",
       "6           2.621693       0.930           16.0        5.350301   \n",
       "7           2.831620       0.935           18.0        5.480041   \n",
       "8           2.935349       0.940           19.0        5.542001   \n",
       "9           3.139701       0.945           21.0        5.639569   \n",
       "10          3.430961       0.950           24.0        5.784006   \n",
       "11          3.816278       0.955           28.0        5.951069   \n",
       "12          4.136148       0.960           31.0        6.065083   \n",
       "13          4.706555       0.965           36.0        6.255521   \n",
       "14          5.311473       0.970           41.0        6.455812   \n",
       "15          6.007384       0.975           47.0        6.666484   \n",
       "16          6.767791       0.980           54.0        6.890612   \n",
       "17          7.782431       0.985           65.0        7.210165   \n",
       "18          9.173711       0.990           84.0        7.623175   \n",
       "19         11.341466       0.995          123.0        8.246254   \n",
       "20         62.558937       1.000         5442.0       10.344419   \n",
       "\n",
       "    turnstile-median  turnstile-std  difference_means  turnstile-mean-slope  \\\n",
       "0                5.0       2.119461          2.065703              0.000000   \n",
       "1                5.0       2.268323          2.111097             20.578260   \n",
       "2                5.0       2.268323          2.111097             -0.000000   \n",
       "3                5.0       2.410741          2.148996             18.394003   \n",
       "4                5.0       2.558391          2.188480             18.012457   \n",
       "5                5.0       2.691385          2.218627             15.420695   \n",
       "6                5.0       2.823940          2.248539             14.659321   \n",
       "7                5.0       3.072842          2.295450             25.948004   \n",
       "8                5.0       3.198899          2.318233             12.392005   \n",
       "9                5.0       3.408172          2.341408             19.513638   \n",
       "10               5.0       3.741377          2.385646             28.887324   \n",
       "11               5.0       4.161275          2.428500             33.412736   \n",
       "12               5.0       4.467869          2.444012             22.802748   \n",
       "13               5.0       5.010342          2.464430             38.087512   \n",
       "14               5.0       5.608817          2.488587             40.058340   \n",
       "15               5.0       6.264529          2.500670             42.134410   \n",
       "16               5.0       6.994473          2.512491             44.825497   \n",
       "17               5.0       8.091742          2.560031             63.910568   \n",
       "18               5.0       9.635805          2.629827             82.602121   \n",
       "19               5.0      12.272241          2.790109            124.615682   \n",
       "20               5.0      45.470704          3.424557            419.633090   \n",
       "\n",
       "    no-turnstile-mean-slope  turnstile-std-slope  no-turnstile-std-slope  \\\n",
       "0                  0.000000             0.000000                0.000000   \n",
       "1                 11.499459            29.772353               23.396889   \n",
       "2                 -0.000000            -0.000000               -0.000000   \n",
       "3                 10.814220            28.483614               23.131197   \n",
       "4                 10.115773            29.529960               22.613126   \n",
       "5                  9.391237            26.598831               21.850653   \n",
       "6                  8.677009            26.510981               20.953262   \n",
       "7                 16.565678            49.780392               41.985377   \n",
       "8                  7.835380            25.211350               20.745826   \n",
       "9                 14.878704            41.854679               40.870361   \n",
       "10                20.039660            66.641023               58.252042   \n",
       "11                24.841937            83.979439               77.063448   \n",
       "12                19.700347            61.318909               63.974036   \n",
       "13                34.004044           108.494500              114.081364   \n",
       "14                35.226838           119.695001              120.983645   \n",
       "15                39.717785           131.142450              139.182183   \n",
       "16                42.461358           145.988857              152.081327   \n",
       "17                54.402537           219.453768              202.928001   \n",
       "18                68.643009           308.812636              278.255967   \n",
       "19                92.559160           527.287147              433.550974   \n",
       "20               292.743525          6639.692522            10243.494233   \n",
       "\n",
       "    turnstile-max-slope  no-turnstile-max-slope  difference_stds  \n",
       "0                   0.0                     0.0         0.057494  \n",
       "1                 200.0                   200.0         0.089372  \n",
       "2                  -0.0                    -0.0         0.089372  \n",
       "3                 200.0                   200.0         0.116134  \n",
       "4                 200.0                   200.0         0.150718  \n",
       "5                 200.0                   200.0         0.174459  \n",
       "6                 200.0                   200.0         0.202247  \n",
       "7                 400.0                   400.0         0.241222  \n",
       "8                 200.0                   200.0         0.263550  \n",
       "9                 400.0                   400.0         0.268472  \n",
       "10                600.0                   600.0         0.310416  \n",
       "11                800.0                   800.0         0.344996  \n",
       "12                600.0                   600.0         0.331721  \n",
       "13               1000.0                  1000.0         0.303786  \n",
       "14               1000.0                  1000.0         0.297343  \n",
       "15               1200.0                  1200.0         0.257145  \n",
       "16               1400.0                  1400.0         0.226682  \n",
       "17               2200.0                  2200.0         0.309311  \n",
       "18               3800.0                  3800.0         0.462094  \n",
       "19               7800.0                  7800.0         0.930775  \n",
       "20            1063800.0               6862000.0       -17.088233  "
      ]
     },
     "execution_count": 30,
     "metadata": {},
     "output_type": "execute_result"
    }
   ],
   "source": [
    "summary_df"
   ]
  },
  {
   "cell_type": "code",
   "execution_count": 31,
   "metadata": {},
   "outputs": [
    {
     "data": {
      "text/plain": [
       "0.057494242675418139"
      ]
     },
     "execution_count": 31,
     "metadata": {},
     "output_type": "execute_result"
    }
   ],
   "source": [
    "summary_df.loc[summary_df['percentile']!=1.000,'difference_stds'].min()"
   ]
  },
  {
   "cell_type": "code",
   "execution_count": 32,
   "metadata": {},
   "outputs": [
    {
     "data": {
      "text/plain": [
       "0.93077529656107671"
      ]
     },
     "execution_count": 32,
     "metadata": {},
     "output_type": "execute_result"
    }
   ],
   "source": [
    "summary_df['difference_stds'].max()"
   ]
  },
  {
   "cell_type": "markdown",
   "metadata": {},
   "source": [
    "### Closed"
   ]
  }
 ],
 "metadata": {
  "kernelspec": {
   "display_name": "Python 3",
   "language": "python",
   "name": "python3"
  },
  "language_info": {
   "codemirror_mode": {
    "name": "ipython",
    "version": 3
   },
   "file_extension": ".py",
   "mimetype": "text/x-python",
   "name": "python",
   "nbconvert_exporter": "python",
   "pygments_lexer": "ipython3",
   "version": "3.6.1"
  }
 },
 "nbformat": 4,
 "nbformat_minor": 2
}
