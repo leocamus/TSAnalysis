{
 "cells": [
  {
   "cell_type": "markdown",
   "metadata": {},
   "source": [
    "## Plotting number of vehicles with turnstile by unidad_de_negocio"
   ]
  },
  {
   "cell_type": "code",
   "execution_count": 1,
   "metadata": {
    "collapsed": true
   },
   "outputs": [],
   "source": [
    "import os\n",
    "import sys\n",
    "module_path = os.path.abspath(os.path.join('..'))\n",
    "if module_path not in sys.path:\n",
    "    sys.path.append(module_path)"
   ]
  },
  {
   "cell_type": "code",
   "execution_count": 2,
   "metadata": {},
   "outputs": [
    {
     "data": {
      "text/html": [
       "<style>.container { width:80% !important; }</style>"
      ],
      "text/plain": [
       "<IPython.core.display.HTML object>"
      ]
     },
     "metadata": {},
     "output_type": "display_data"
    }
   ],
   "source": [
    "%matplotlib inline\n",
    "from IPython.core.display import display, HTML\n",
    "display(HTML(\"<style>.container { width:80% !important; }</style>\"))\n",
    "\n",
    "import pandas as pd\n",
    "import matplotlib\n",
    "import matplotlib.pyplot as plt\n",
    "import matplotlib.dates as mdates\n",
    "import numpy as np\n",
    "import datetime as dt\n",
    "import time\n",
    "import re\n",
    "\n",
    "from Utils import TransantiagoConstants\n",
    "from Utils import ReadTurnstilesDataBase"
   ]
  },
  {
   "cell_type": "code",
   "execution_count": 3,
   "metadata": {
    "collapsed": true
   },
   "outputs": [],
   "source": [
    "ana_turnstile_df = ReadTurnstilesDataBase.readTurnstileData()[0]"
   ]
  },
  {
   "cell_type": "code",
   "execution_count": 4,
   "metadata": {},
   "outputs": [
    {
     "data": {
      "text/html": [
       "<div>\n",
       "<style>\n",
       "    .dataframe thead tr:only-child th {\n",
       "        text-align: right;\n",
       "    }\n",
       "\n",
       "    .dataframe thead th {\n",
       "        text-align: left;\n",
       "    }\n",
       "\n",
       "    .dataframe tbody tr th {\n",
       "        vertical-align: top;\n",
       "    }\n",
       "</style>\n",
       "<table border=\"1\" class=\"dataframe\">\n",
       "  <thead>\n",
       "    <tr style=\"text-align: right;\">\n",
       "      <th></th>\n",
       "      <th>UN</th>\n",
       "      <th>sitio_subida</th>\n",
       "      <th>fecha_instalacion</th>\n",
       "    </tr>\n",
       "  </thead>\n",
       "  <tbody>\n",
       "    <tr>\n",
       "      <th>0</th>\n",
       "      <td>U1</td>\n",
       "      <td>WA-9900</td>\n",
       "      <td>2017-05-30</td>\n",
       "    </tr>\n",
       "    <tr>\n",
       "      <th>1</th>\n",
       "      <td>U1</td>\n",
       "      <td>ZN-6458</td>\n",
       "      <td>2017-05-30</td>\n",
       "    </tr>\n",
       "    <tr>\n",
       "      <th>2</th>\n",
       "      <td>U1</td>\n",
       "      <td>BJFD-16</td>\n",
       "      <td>2017-05-31</td>\n",
       "    </tr>\n",
       "    <tr>\n",
       "      <th>3</th>\n",
       "      <td>U1</td>\n",
       "      <td>ZN-5962</td>\n",
       "      <td>2017-05-31</td>\n",
       "    </tr>\n",
       "    <tr>\n",
       "      <th>4</th>\n",
       "      <td>U1</td>\n",
       "      <td>WA-8256</td>\n",
       "      <td>2017-05-31</td>\n",
       "    </tr>\n",
       "  </tbody>\n",
       "</table>\n",
       "</div>"
      ],
      "text/plain": [
       "   UN sitio_subida fecha_instalacion\n",
       "0  U1      WA-9900        2017-05-30\n",
       "1  U1      ZN-6458        2017-05-30\n",
       "2  U1      BJFD-16        2017-05-31\n",
       "3  U1      ZN-5962        2017-05-31\n",
       "4  U1      WA-8256        2017-05-31"
      ]
     },
     "execution_count": 4,
     "metadata": {},
     "output_type": "execute_result"
    }
   ],
   "source": [
    "ana_turnstile_df.head()"
   ]
  },
  {
   "cell_type": "code",
   "execution_count": 5,
   "metadata": {
    "collapsed": true
   },
   "outputs": [],
   "source": [
    "ana_turnstile_df = ReadTurnstilesDataBase.processAnaTurnstiles(ana_turnstile_df)"
   ]
  },
  {
   "cell_type": "code",
   "execution_count": 6,
   "metadata": {
    "collapsed": true
   },
   "outputs": [],
   "source": [
    "u1_turnstile_buses = ana_turnstile_df.loc[ana_turnstile_df['UN']=='U1',:]\n",
    "u2_turnstile_buses = ana_turnstile_df.loc[ana_turnstile_df['UN']=='U2',:]\n",
    "u3_turnstile_buses = ana_turnstile_df.loc[ana_turnstile_df['UN']=='U3',:]\n",
    "u4_turnstile_buses = ana_turnstile_df.loc[ana_turnstile_df['UN']=='U4',:]\n",
    "u5_turnstile_buses = ana_turnstile_df.loc[ana_turnstile_df['UN']=='U5',:]\n",
    "u6_turnstile_buses = ana_turnstile_df.loc[ana_turnstile_df['UN']=='U6',:]\n",
    "u7_turnstile_buses = ana_turnstile_df.loc[ana_turnstile_df['UN']=='U7',:]"
   ]
  },
  {
   "cell_type": "code",
   "execution_count": 7,
   "metadata": {
    "collapsed": true
   },
   "outputs": [],
   "source": [
    "grouped_u1 = u1_turnstile_buses.groupby(['fecha_instalacion']).size().to_frame().reset_index().rename(columns = {0:'VEHICULOS'})\n",
    "grouped_u2 = u2_turnstile_buses.groupby(['fecha_instalacion']).size().to_frame().reset_index().rename(columns = {0:'VEHICULOS'})\n",
    "grouped_u3 = u3_turnstile_buses.groupby(['fecha_instalacion']).size().to_frame().reset_index().rename(columns = {0:'VEHICULOS'})\n",
    "grouped_u4 = u4_turnstile_buses.groupby(['fecha_instalacion']).size().to_frame().reset_index().rename(columns = {0:'VEHICULOS'})\n",
    "grouped_u5 = u5_turnstile_buses.groupby(['fecha_instalacion']).size().to_frame().reset_index().rename(columns = {0:'VEHICULOS'})\n",
    "grouped_u6 = u6_turnstile_buses.groupby(['fecha_instalacion']).size().to_frame().reset_index().rename(columns = {0:'VEHICULOS'})\n",
    "grouped_u7 = u7_turnstile_buses.groupby(['fecha_instalacion']).size().to_frame().reset_index().rename(columns = {0:'VEHICULOS'})"
   ]
  },
  {
   "cell_type": "code",
   "execution_count": 8,
   "metadata": {
    "collapsed": true
   },
   "outputs": [],
   "source": [
    "grouped_u1.loc[:,'CUMSUM'] = grouped_u1.loc[:,'VEHICULOS'].cumsum()\n",
    "grouped_u2.loc[:,'CUMSUM'] = grouped_u2.loc[:,'VEHICULOS'].cumsum()\n",
    "grouped_u3.loc[:,'CUMSUM'] = grouped_u3.loc[:,'VEHICULOS'].cumsum()\n",
    "grouped_u4.loc[:,'CUMSUM'] = grouped_u4.loc[:,'VEHICULOS'].cumsum()\n",
    "grouped_u5.loc[:,'CUMSUM'] = grouped_u5.loc[:,'VEHICULOS'].cumsum()\n",
    "grouped_u6.loc[:,'CUMSUM'] = grouped_u6.loc[:,'VEHICULOS'].cumsum()\n",
    "grouped_u7.loc[:,'CUMSUM'] = grouped_u7.loc[:,'VEHICULOS'].cumsum()"
   ]
  },
  {
   "cell_type": "code",
   "execution_count": 9,
   "metadata": {
    "collapsed": true
   },
   "outputs": [],
   "source": [
    "colors = [(3, 169, 244), (13, 71, 161),(51, 105, 30),(244, 81, 30),(0, 150, 136),(211, 47, 47),(251, 192, 45)]\n",
    "for i in range(len(colors)):\n",
    "    r, g, b = colors[i]  \n",
    "    colors[i] = (r / 255., g / 255., b / 255.)"
   ]
  },
  {
   "cell_type": "markdown",
   "metadata": {},
   "source": [
    "* Be aware of the dates condition in the plots above"
   ]
  },
  {
   "cell_type": "code",
   "execution_count": 10,
   "metadata": {},
   "outputs": [
    {
     "data": {
      "image/png": "[encoded data removed]",
      "text/plain": [
       "<matplotlib.figure.Figure at 0x1ddbfaab780>"
      ]
     },
     "metadata": {},
     "output_type": "display_data"
    }
   ],
   "source": [
    "fig_1, ax_1 = plt.subplots()\n",
    "u1 = ax_1.plot(grouped_u1['fecha_instalacion'],grouped_u1['CUMSUM'],'o-',color = colors[0])\n",
    "u3 = ax_1.plot(grouped_u3['fecha_instalacion'],grouped_u3['CUMSUM'],'o-',color = colors[2])\n",
    "u4 = ax_1.plot(grouped_u4['fecha_instalacion'],grouped_u4['CUMSUM'],'o-',color = colors[3])\n",
    "u5 = ax_1.plot(grouped_u5['fecha_instalacion'],grouped_u5['CUMSUM'],'o-',color = colors[4])\n",
    "u6 = ax_1.plot(grouped_u6['fecha_instalacion'],grouped_u6['CUMSUM'],'o-',color = colors[5])\n",
    "u7 = ax_1.plot(grouped_u7['fecha_instalacion'],grouped_u7['CUMSUM'],'o-',color = colors[6])\n",
    "ax_1.format_xdata = mdates.DateFormatter('%Y-%m')\n",
    "fig_1.autofmt_xdate()\n",
    "#ax_1.grid(True)\n",
    "ax_1.set_title('Vehículos con torniquete por unidad de negocio')\n",
    "plt.legend((u1[0],u3[0],u4[0],u5[0], u6[0], u7[0]), ('UN1','UN3','UN4','UN5','UN6','UN7'))\n",
    "plt.savefig('C:/Users/leoca_000/Desktop/Evasion/03_report/02_Figs/1_vehWithTurnsByUn.pdf')"
   ]
  },
  {
   "cell_type": "code",
   "execution_count": 12,
   "metadata": {},
   "outputs": [
    {
     "data": {
      "image/png": "[encoded data removed]",
      "text/plain": [
       "<matplotlib.figure.Figure at 0x1ddc0179b70>"
      ]
     },
     "metadata": {},
     "output_type": "display_data"
    }
   ],
   "source": [
    "fig_2, ax_2 = plt.subplots()\n",
    "u1 = ax_2.plot(grouped_u1['fecha_instalacion'],grouped_u1['CUMSUM'],'o-',color = colors[0])\n",
    "u3 = ax_2.plot(grouped_u3['fecha_instalacion'],grouped_u3['CUMSUM'],'o-',color = colors[2])\n",
    "u4 = ax_2.plot(grouped_u4['fecha_instalacion'],grouped_u4['CUMSUM'],'o-',color = colors[3])\n",
    "u5 = ax_2.plot(grouped_u5['fecha_instalacion'],grouped_u5['CUMSUM'],'o-',color = colors[4])\n",
    "u6 = ax_2.plot(grouped_u6['fecha_instalacion'],grouped_u6['CUMSUM'],'o-',color = colors[5])\n",
    "u7 = ax_2.plot(grouped_u7['fecha_instalacion'],grouped_u7['CUMSUM'],'o-',color = colors[6])\n",
    "ax_2.format_xdata = mdates.DateFormatter('%Y-%m')\n",
    "fig_2.autofmt_xdate()\n",
    "#ax_2.grid(True)\n",
    "ax_2.set_title('Vehículos con torniquete por unidad de negocio')\n",
    "start_limit = pd.to_datetime('2017-01-01')\n",
    "end_limit = pd.to_datetime('2018-02-01')\n",
    "ax_2.set_xlim(start_limit,end_limit)\n",
    "plt.legend((u1[0],u3[0],u4[0],u5[0], u6[0], u7[0]), ('UN1','UN3','UN4','UN5','UN6','UN7'))\n",
    "plt.savefig('C:/Users/leoca_000/Desktop/Evasion/03_report/02_Figs/1_vehWithTurnsByUn_2017.pdf')"
   ]
  },
  {
   "cell_type": "markdown",
   "metadata": {},
   "source": [
    "### Closed"
   ]
  }
 ],
 "metadata": {
  "kernelspec": {
   "display_name": "Python 3",
   "language": "python",
   "name": "python3"
  },
  "language_info": {
   "codemirror_mode": {
    "name": "ipython",
    "version": 3
   },
   "file_extension": ".py",
   "mimetype": "text/x-python",
   "name": "python",
   "nbconvert_exporter": "python",
   "pygments_lexer": "ipython3",
   "version": "3.6.1"
  }
 },
 "nbformat": 4,
 "nbformat_minor": 2
}
