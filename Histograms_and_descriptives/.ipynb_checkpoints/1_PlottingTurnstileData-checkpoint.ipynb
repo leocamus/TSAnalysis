{
 "cells": [
  {
   "cell_type": "markdown",
   "metadata": {},
   "source": [
    "# Plotting turnstile data"
   ]
  },
  {
   "cell_type": "code",
   "execution_count": 1,
   "metadata": {},
   "outputs": [],
   "source": [
    "import os\n",
    "import sys\n",
    "module_path = os.path.abspath(os.path.join('..'))\n",
    "if module_path not in sys.path:\n",
    "    sys.path.append(module_path)"
   ]
  },
  {
   "cell_type": "code",
   "execution_count": 2,
   "metadata": {},
   "outputs": [],
   "source": [
    "from Utils import ReadTurnstilesDataBase\n",
    "%matplotlib inline\n",
    "import pandas as pd\n",
    "import matplotlib\n",
    "import matplotlib.pyplot as plt\n",
    "import matplotlib.dates as mdates\n",
    "import numpy as np\n",
    "import datetime"
   ]
  },
  {
   "cell_type": "code",
   "execution_count": 3,
   "metadata": {},
   "outputs": [],
   "source": [
    "[ana_turnstile_df, mauricio_turnstile_df] = ReadTurnstilesDataBase.readTurnstileData()"
   ]
  },
  {
   "cell_type": "code",
   "execution_count": 4,
   "metadata": {},
   "outputs": [],
   "source": [
    "ana_turnstile_df = ReadTurnstilesDataBase.processAnaTurnstiles(ana_turnstile_df)"
   ]
  },
  {
   "cell_type": "code",
   "execution_count": 5,
   "metadata": {},
   "outputs": [],
   "source": [
    "#ReadTurnstilesDataBase.printTurnstile(ana_turnstile_df,mauricio_turnstile_df)"
   ]
  },
  {
   "cell_type": "code",
   "execution_count": 6,
   "metadata": {},
   "outputs": [],
   "source": [
    "ana_turnstile_df['day'] = ana_turnstile_df['fecha_instalacion'].apply(lambda x: \"%d\" % (x.day))\n",
    "ana_turnstile_df['month'] = ana_turnstile_df['fecha_instalacion'].apply(lambda x: \"%d\" % (x.month))\n",
    "ana_turnstile_df['year'] = ana_turnstile_df['fecha_instalacion'].apply(lambda x: \"%d\" % (x.year))\n",
    "ana_turnstile_df['month_year'] = ana_turnstile_df['fecha_instalacion'].apply(lambda x: \"%d/%d\" % (x.month, x.year))"
   ]
  },
  {
   "cell_type": "code",
   "execution_count": 7,
   "metadata": {},
   "outputs": [
    {
     "data": {
      "text/html": [
       "<div>\n",
       "<style scoped>\n",
       "    .dataframe tbody tr th:only-of-type {\n",
       "        vertical-align: middle;\n",
       "    }\n",
       "\n",
       "    .dataframe tbody tr th {\n",
       "        vertical-align: top;\n",
       "    }\n",
       "\n",
       "    .dataframe thead th {\n",
       "        text-align: right;\n",
       "    }\n",
       "</style>\n",
       "<table border=\"1\" class=\"dataframe\">\n",
       "  <thead>\n",
       "    <tr style=\"text-align: right;\">\n",
       "      <th></th>\n",
       "      <th>UN</th>\n",
       "      <th>sitio_subida</th>\n",
       "      <th>fecha_instalacion</th>\n",
       "      <th>day</th>\n",
       "      <th>month</th>\n",
       "      <th>year</th>\n",
       "      <th>month_year</th>\n",
       "    </tr>\n",
       "  </thead>\n",
       "  <tbody>\n",
       "    <tr>\n",
       "      <th>0</th>\n",
       "      <td>U1</td>\n",
       "      <td>WA-9900</td>\n",
       "      <td>2017-05-30</td>\n",
       "      <td>30</td>\n",
       "      <td>5</td>\n",
       "      <td>2017</td>\n",
       "      <td>5/2017</td>\n",
       "    </tr>\n",
       "    <tr>\n",
       "      <th>1</th>\n",
       "      <td>U1</td>\n",
       "      <td>ZN-6458</td>\n",
       "      <td>2017-05-30</td>\n",
       "      <td>30</td>\n",
       "      <td>5</td>\n",
       "      <td>2017</td>\n",
       "      <td>5/2017</td>\n",
       "    </tr>\n",
       "    <tr>\n",
       "      <th>2</th>\n",
       "      <td>U1</td>\n",
       "      <td>BJFD-16</td>\n",
       "      <td>2017-05-31</td>\n",
       "      <td>31</td>\n",
       "      <td>5</td>\n",
       "      <td>2017</td>\n",
       "      <td>5/2017</td>\n",
       "    </tr>\n",
       "    <tr>\n",
       "      <th>3</th>\n",
       "      <td>U1</td>\n",
       "      <td>ZN-5962</td>\n",
       "      <td>2017-05-31</td>\n",
       "      <td>31</td>\n",
       "      <td>5</td>\n",
       "      <td>2017</td>\n",
       "      <td>5/2017</td>\n",
       "    </tr>\n",
       "    <tr>\n",
       "      <th>4</th>\n",
       "      <td>U1</td>\n",
       "      <td>WA-8256</td>\n",
       "      <td>2017-05-31</td>\n",
       "      <td>31</td>\n",
       "      <td>5</td>\n",
       "      <td>2017</td>\n",
       "      <td>5/2017</td>\n",
       "    </tr>\n",
       "  </tbody>\n",
       "</table>\n",
       "</div>"
      ],
      "text/plain": [
       "   UN sitio_subida fecha_instalacion day month  year month_year\n",
       "0  U1      WA-9900        2017-05-30  30     5  2017     5/2017\n",
       "1  U1      ZN-6458        2017-05-30  30     5  2017     5/2017\n",
       "2  U1      BJFD-16        2017-05-31  31     5  2017     5/2017\n",
       "3  U1      ZN-5962        2017-05-31  31     5  2017     5/2017\n",
       "4  U1      WA-8256        2017-05-31  31     5  2017     5/2017"
      ]
     },
     "execution_count": 7,
     "metadata": {},
     "output_type": "execute_result"
    }
   ],
   "source": [
    "ana_turnstile_df.head()"
   ]
  },
  {
   "cell_type": "markdown",
   "metadata": {},
   "source": [
    "* Grouping by year"
   ]
  },
  {
   "cell_type": "code",
   "execution_count": 8,
   "metadata": {},
   "outputs": [],
   "source": [
    "counts_by_year = ana_turnstile_df.groupby(['year']).size().to_frame().reset_index()\n",
    "N=1\n",
    "ind = np.arange(N)\n",
    "width = 1\n",
    "counts_by_year.columns = ['year', 'counts']"
   ]
  },
  {
   "cell_type": "code",
   "execution_count": 9,
   "metadata": {},
   "outputs": [
    {
     "data": {
      "text/html": [
       "<div>\n",
       "<style scoped>\n",
       "    .dataframe tbody tr th:only-of-type {\n",
       "        vertical-align: middle;\n",
       "    }\n",
       "\n",
       "    .dataframe tbody tr th {\n",
       "        vertical-align: top;\n",
       "    }\n",
       "\n",
       "    .dataframe thead th {\n",
       "        text-align: right;\n",
       "    }\n",
       "</style>\n",
       "<table border=\"1\" class=\"dataframe\">\n",
       "  <thead>\n",
       "    <tr style=\"text-align: right;\">\n",
       "      <th></th>\n",
       "      <th>year</th>\n",
       "      <th>counts</th>\n",
       "    </tr>\n",
       "  </thead>\n",
       "  <tbody>\n",
       "    <tr>\n",
       "      <th>0</th>\n",
       "      <td>2015</td>\n",
       "      <td>20</td>\n",
       "    </tr>\n",
       "    <tr>\n",
       "      <th>1</th>\n",
       "      <td>2016</td>\n",
       "      <td>199</td>\n",
       "    </tr>\n",
       "    <tr>\n",
       "      <th>2</th>\n",
       "      <td>2017</td>\n",
       "      <td>1881</td>\n",
       "    </tr>\n",
       "    <tr>\n",
       "      <th>3</th>\n",
       "      <td>2018</td>\n",
       "      <td>21</td>\n",
       "    </tr>\n",
       "  </tbody>\n",
       "</table>\n",
       "</div>"
      ],
      "text/plain": [
       "   year  counts\n",
       "0  2015      20\n",
       "1  2016     199\n",
       "2  2017    1881\n",
       "3  2018      21"
      ]
     },
     "execution_count": 9,
     "metadata": {},
     "output_type": "execute_result"
    }
   ],
   "source": [
    "counts_by_year.head()"
   ]
  },
  {
   "cell_type": "code",
   "execution_count": 10,
   "metadata": {},
   "outputs": [
    {
     "name": "stdout",
     "output_type": "stream",
     "text": [
      "20\n",
      "199\n",
      "1881\n",
      "21\n"
     ]
    }
   ],
   "source": [
    "start_count = int(counts_by_year.counts[0])\n",
    "second_year_count = int(counts_by_year.counts[1])\n",
    "third_year_count = int(counts_by_year.counts[2])\n",
    "fourth_year_count = int(counts_by_year.counts[3])\n",
    "print(start_count)\n",
    "print(second_year_count)\n",
    "print(third_year_count)\n",
    "print(fourth_year_count)"
   ]
  },
  {
   "cell_type": "markdown",
   "metadata": {},
   "source": [
    "* Plotting"
   ]
  },
  {
   "cell_type": "code",
   "execution_count": 11,
   "metadata": {},
   "outputs": [],
   "source": [
    "colors = [(3, 169, 244),(0, 150, 136),(76, 175, 80),(205, 220, 57)]\n",
    "for i in range(len(colors)):\n",
    "    r, g, b = colors[i]  \n",
    "    colors[i] = (r / 255., g / 255., b / 255.)"
   ]
  },
  {
   "cell_type": "code",
   "execution_count": 12,
   "metadata": {
    "scrolled": true
   },
   "outputs": [
    {
     "data": {
      "text/plain": [
       "<matplotlib.legend.Legend at 0x7f5a6ee12240>"
      ]
     },
     "execution_count": 12,
     "metadata": {},
     "output_type": "execute_result"
    },
    {
     "data": {
      "image/png": "[encoded data removed]",
      "text/plain": [
       "<Figure size 432x288 with 1 Axes>"
      ]
     },
     "metadata": {},
     "output_type": "display_data"
    }
   ],
   "source": [
    "fig, ax = plt.subplots()\n",
    "p1 = ax.bar(ind, start_count, width = width, color = colors[0])\n",
    "p2 = ax.bar(ind, second_year_count, bottom = start_count, width = width, color = colors[1])\n",
    "p3 = ax.bar(ind, third_year_count, bottom = start_count+second_year_count, width = width, color = colors[2])\n",
    "p4 = ax.bar(ind, fourth_year_count, bottom = start_count+second_year_count+third_year_count, width = width, color = colors[3])\n",
    "plt.xticks(ind, (' '))\n",
    "ax.set_xlim(-2, 2)\n",
    "ax.set_title('Vehículos con torniquete mariposa')\n",
    "ax.set_ylabel('N° vehículos')\n",
    "plt.legend((p4[0],p3[0],p2[0],p1[0]), ('2018','2017','2016','2015'))\n",
    "#plt.savefig('C:/Users/leoca_000/Desktop/Evasion/03_report/02_Figs/0_vehWithTurnsByYear.pdf')"
   ]
  },
  {
   "cell_type": "markdown",
   "metadata": {},
   "source": [
    "* Grouping by month-year"
   ]
  },
  {
   "cell_type": "code",
   "execution_count": 13,
   "metadata": {
    "scrolled": true
   },
   "outputs": [],
   "source": [
    "counts_by_month_year = ana_turnstile_df.groupby(['month_year']).size().to_frame().reset_index()\n",
    "counts_by_month_year['month_year'] =  pd.to_datetime(counts_by_month_year['month_year'])\n",
    "counts_by_month_year.columns = ['month_year', 'counts']\n",
    "counts_by_month_year.sort_values(by=['month_year'], ascending=[True], inplace=True)\n",
    "counts_by_month_year['Cumulative'] = counts_by_month_year['counts'].cumsum()"
   ]
  },
  {
   "cell_type": "code",
   "execution_count": 14,
   "metadata": {},
   "outputs": [
    {
     "data": {
      "text/html": [
       "<div>\n",
       "<style scoped>\n",
       "    .dataframe tbody tr th:only-of-type {\n",
       "        vertical-align: middle;\n",
       "    }\n",
       "\n",
       "    .dataframe tbody tr th {\n",
       "        vertical-align: top;\n",
       "    }\n",
       "\n",
       "    .dataframe thead th {\n",
       "        text-align: right;\n",
       "    }\n",
       "</style>\n",
       "<table border=\"1\" class=\"dataframe\">\n",
       "  <thead>\n",
       "    <tr style=\"text-align: right;\">\n",
       "      <th></th>\n",
       "      <th>month_year</th>\n",
       "      <th>counts</th>\n",
       "      <th>Cumulative</th>\n",
       "    </tr>\n",
       "  </thead>\n",
       "  <tbody>\n",
       "    <tr>\n",
       "      <th>12</th>\n",
       "      <td>2015-05-01</td>\n",
       "      <td>20</td>\n",
       "      <td>20</td>\n",
       "    </tr>\n",
       "    <tr>\n",
       "      <th>10</th>\n",
       "      <td>2016-04-01</td>\n",
       "      <td>18</td>\n",
       "      <td>38</td>\n",
       "    </tr>\n",
       "    <tr>\n",
       "      <th>13</th>\n",
       "      <td>2016-05-01</td>\n",
       "      <td>40</td>\n",
       "      <td>78</td>\n",
       "    </tr>\n",
       "    <tr>\n",
       "      <th>16</th>\n",
       "      <td>2016-07-01</td>\n",
       "      <td>36</td>\n",
       "      <td>114</td>\n",
       "    </tr>\n",
       "    <tr>\n",
       "      <th>18</th>\n",
       "      <td>2016-08-01</td>\n",
       "      <td>33</td>\n",
       "      <td>147</td>\n",
       "    </tr>\n",
       "    <tr>\n",
       "      <th>20</th>\n",
       "      <td>2016-09-01</td>\n",
       "      <td>4</td>\n",
       "      <td>151</td>\n",
       "    </tr>\n",
       "    <tr>\n",
       "      <th>2</th>\n",
       "      <td>2016-10-01</td>\n",
       "      <td>31</td>\n",
       "      <td>182</td>\n",
       "    </tr>\n",
       "    <tr>\n",
       "      <th>4</th>\n",
       "      <td>2016-11-01</td>\n",
       "      <td>5</td>\n",
       "      <td>187</td>\n",
       "    </tr>\n",
       "    <tr>\n",
       "      <th>6</th>\n",
       "      <td>2016-12-01</td>\n",
       "      <td>32</td>\n",
       "      <td>219</td>\n",
       "    </tr>\n",
       "    <tr>\n",
       "      <th>0</th>\n",
       "      <td>2017-01-01</td>\n",
       "      <td>17</td>\n",
       "      <td>236</td>\n",
       "    </tr>\n",
       "    <tr>\n",
       "      <th>8</th>\n",
       "      <td>2017-02-01</td>\n",
       "      <td>150</td>\n",
       "      <td>386</td>\n",
       "    </tr>\n",
       "    <tr>\n",
       "      <th>9</th>\n",
       "      <td>2017-03-01</td>\n",
       "      <td>57</td>\n",
       "      <td>443</td>\n",
       "    </tr>\n",
       "    <tr>\n",
       "      <th>11</th>\n",
       "      <td>2017-04-01</td>\n",
       "      <td>181</td>\n",
       "      <td>624</td>\n",
       "    </tr>\n",
       "    <tr>\n",
       "      <th>14</th>\n",
       "      <td>2017-05-01</td>\n",
       "      <td>210</td>\n",
       "      <td>834</td>\n",
       "    </tr>\n",
       "    <tr>\n",
       "      <th>15</th>\n",
       "      <td>2017-06-01</td>\n",
       "      <td>213</td>\n",
       "      <td>1047</td>\n",
       "    </tr>\n",
       "    <tr>\n",
       "      <th>17</th>\n",
       "      <td>2017-07-01</td>\n",
       "      <td>364</td>\n",
       "      <td>1411</td>\n",
       "    </tr>\n",
       "    <tr>\n",
       "      <th>19</th>\n",
       "      <td>2017-08-01</td>\n",
       "      <td>175</td>\n",
       "      <td>1586</td>\n",
       "    </tr>\n",
       "    <tr>\n",
       "      <th>21</th>\n",
       "      <td>2017-09-01</td>\n",
       "      <td>157</td>\n",
       "      <td>1743</td>\n",
       "    </tr>\n",
       "    <tr>\n",
       "      <th>3</th>\n",
       "      <td>2017-10-01</td>\n",
       "      <td>77</td>\n",
       "      <td>1820</td>\n",
       "    </tr>\n",
       "    <tr>\n",
       "      <th>5</th>\n",
       "      <td>2017-11-01</td>\n",
       "      <td>138</td>\n",
       "      <td>1958</td>\n",
       "    </tr>\n",
       "    <tr>\n",
       "      <th>7</th>\n",
       "      <td>2017-12-01</td>\n",
       "      <td>142</td>\n",
       "      <td>2100</td>\n",
       "    </tr>\n",
       "    <tr>\n",
       "      <th>1</th>\n",
       "      <td>2018-01-01</td>\n",
       "      <td>21</td>\n",
       "      <td>2121</td>\n",
       "    </tr>\n",
       "  </tbody>\n",
       "</table>\n",
       "</div>"
      ],
      "text/plain": [
       "   month_year  counts  Cumulative\n",
       "12 2015-05-01      20          20\n",
       "10 2016-04-01      18          38\n",
       "13 2016-05-01      40          78\n",
       "16 2016-07-01      36         114\n",
       "18 2016-08-01      33         147\n",
       "20 2016-09-01       4         151\n",
       "2  2016-10-01      31         182\n",
       "4  2016-11-01       5         187\n",
       "6  2016-12-01      32         219\n",
       "0  2017-01-01      17         236\n",
       "8  2017-02-01     150         386\n",
       "9  2017-03-01      57         443\n",
       "11 2017-04-01     181         624\n",
       "14 2017-05-01     210         834\n",
       "15 2017-06-01     213        1047\n",
       "17 2017-07-01     364        1411\n",
       "19 2017-08-01     175        1586\n",
       "21 2017-09-01     157        1743\n",
       "3  2017-10-01      77        1820\n",
       "5  2017-11-01     138        1958\n",
       "7  2017-12-01     142        2100\n",
       "1  2018-01-01      21        2121"
      ]
     },
     "execution_count": 14,
     "metadata": {},
     "output_type": "execute_result"
    }
   ],
   "source": [
    "counts_by_month_year"
   ]
  },
  {
   "cell_type": "code",
   "execution_count": 15,
   "metadata": {},
   "outputs": [
    {
     "data": {
      "image/png": "[encoded data removed]",
      "text/plain": [
       "<Figure size 432x288 with 1 Axes>"
      ]
     },
     "metadata": {},
     "output_type": "display_data"
    }
   ],
   "source": [
    "fig, ax_1 = plt.subplots()\n",
    "ax_1.plot(counts_by_month_year['month_year'],counts_by_month_year['Cumulative'], 'o-', color=colors[1])\n",
    "ax_1.format_xdata = mdates.DateFormatter('%Y-%m')\n",
    "fig.autofmt_xdate(rotation=90)\n",
    "#ax_1.grid(True)\n",
    "ax_1.set_title('Vehículos con torniquete mariposa')\n",
    "ax_1.set_ylim([-250,2250])\n",
    "ax_1.set_ylabel('N° vehículos')\n",
    "for (x,y) in zip(counts_by_month_year['month_year'],counts_by_month_year['Cumulative']):\n",
    "    ax_1.annotate('%s' % y, xy=(x,y), xytext=(x,y-150),rotation='vertical')\n",
    "    \n",
    "#plt.savefig('C:/Users/leoca_000/Desktop/Evasion/03_report/02_Figs/0_vehWithTurnsByMonth.pdf')"
   ]
  },
  {
   "cell_type": "markdown",
   "metadata": {
    "collapsed": true
   },
   "source": [
    "### Closed. ReadTurnstilesDataBase methods <font color = 'green'>passed</font> the tests"
   ]
  }
 ],
 "metadata": {
  "kernelspec": {
   "display_name": "Python 3",
   "language": "python",
   "name": "python3"
  },
  "language_info": {
   "codemirror_mode": {
    "name": "ipython",
    "version": 3
   },
   "file_extension": ".py",
   "mimetype": "text/x-python",
   "name": "python",
   "nbconvert_exporter": "python",
   "pygments_lexer": "ipython3",
   "version": "3.5.2+"
  }
 },
 "nbformat": 4,
 "nbformat_minor": 2
}
