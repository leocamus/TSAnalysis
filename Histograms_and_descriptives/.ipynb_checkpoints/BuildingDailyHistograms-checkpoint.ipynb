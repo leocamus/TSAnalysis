{
 "cells": [
  {
   "cell_type": "markdown",
   "metadata": {},
   "source": [
    "# Building Histograms"
   ]
  },
  {
   "cell_type": "code",
   "execution_count": 1,
   "metadata": {
    "collapsed": true
   },
   "outputs": [],
   "source": [
    "import os\n",
    "import sys\n",
    "module_path = os.path.abspath(os.path.join('..'))\n",
    "if module_path not in sys.path:\n",
    "    sys.path.append(module_path)"
   ]
  },
  {
   "cell_type": "code",
   "execution_count": 2,
   "metadata": {},
   "outputs": [
    {
     "data": {
      "text/html": [
       "<style>.container { width:90% !important; }</style>"
      ],
      "text/plain": [
       "<IPython.core.display.HTML object>"
      ]
     },
     "metadata": {},
     "output_type": "display_data"
    }
   ],
   "source": [
    "from IPython.core.display import display, HTML\n",
    "display(HTML(\"<style>.container { width:90% !important; }</style>\"))"
   ]
  },
  {
   "cell_type": "code",
   "execution_count": 3,
   "metadata": {
    "collapsed": true,
    "scrolled": true
   },
   "outputs": [],
   "source": [
    "%matplotlib inline\n",
    "import pandas as pd\n",
    "import matplotlib\n",
    "import matplotlib.pyplot as plt\n",
    "import numpy as np\n",
    "from importlib import reload\n",
    "import datetime"
   ]
  },
  {
   "cell_type": "code",
   "execution_count": 4,
   "metadata": {
    "collapsed": true
   },
   "outputs": [],
   "source": [
    "import DailyEtapasBuilder"
   ]
  },
  {
   "cell_type": "markdown",
   "metadata": {},
   "source": [
    "-------------"
   ]
  },
  {
   "cell_type": "markdown",
   "metadata": {},
   "source": [
    "#### Running the builder of the dataframe for date = 2017-03-15"
   ]
  },
  {
   "cell_type": "code",
   "execution_count": 5,
   "metadata": {
    "collapsed": true
   },
   "outputs": [],
   "source": [
    "date = '2017-03-15' #First date, Wednesday\n",
    "#Creating the object.\n",
    "etapas_builder = DailyEtapasBuilder.RunSilentlyDailyEtapasBuilderClass(date)\n",
    "#Building.\n",
    "etapas_builder.loadSimplifiedEtapas()\n",
    "etapas_builder.cleanDataFrame() #Be aware of this condition\n",
    "etapas_builder.mergeTurnstileData()\n",
    "etapas_builder.sortDataFrame()\n",
    "etapas_builder.postProcessingSortedDataFrame()\n",
    "#Retrieving the info.\n",
    "etapas_df = etapas_builder.etapas_df\n",
    "filtered_df = etapas_builder.filteringDf()[0]"
   ]
  },
  {
   "cell_type": "markdown",
   "metadata": {},
   "source": [
    "TODO: Currently, there are rows with extremely high values for the 'diferencia_tiempo' attribute (e.g. >=25 mins). <strong>Be aware of this</strong>. <strike>This should be fixed considering the idExpedicion attribute present in the corresponding 'perfiles' database. The following graphs and descriptive statistics consider only the 95th percentile for the 'diferencia_tiempo_secs' attribute.</strike>"
   ]
  },
  {
   "cell_type": "markdown",
   "metadata": {},
   "source": [
    "Filtering by diferencia_tiempo<=97th percentile in the <strong>whole</strong> databases. <font color=\"red\"><strong>BE AWARE.</strong></font>"
   ]
  },
  {
   "cell_type": "code",
   "execution_count": 6,
   "metadata": {},
   "outputs": [
    {
     "name": "stdout",
     "output_type": "stream",
     "text": [
      "Percentile 97th for database is: 0 days 00:00:25\n"
     ]
    }
   ],
   "source": [
    "percentil_97 = filtered_df['diferencia_tiempo'].quantile(0.97)\n",
    "print ('Percentile 97th for database is: ' + str(percentil_97))\n",
    "percentil_97_df = filtered_df[filtered_df['diferencia_tiempo']<=percentil_97]"
   ]
  },
  {
   "cell_type": "code",
   "execution_count": 7,
   "metadata": {
    "collapsed": true
   },
   "outputs": [],
   "source": [
    "turnstile_97_df = percentil_97_df[percentil_97_df['torniquete_mariposa']==1]\n",
    "no_turnstile_97_df = percentil_97_df[percentil_97_df['no_torniquete']==1]"
   ]
  },
  {
   "cell_type": "code",
   "execution_count": 8,
   "metadata": {
    "scrolled": false
   },
   "outputs": [
    {
     "data": {
      "text/html": [
       "<div>\n",
       "<style>\n",
       "    .dataframe thead tr:only-child th {\n",
       "        text-align: right;\n",
       "    }\n",
       "\n",
       "    .dataframe thead th {\n",
       "        text-align: left;\n",
       "    }\n",
       "\n",
       "    .dataframe tbody tr th {\n",
       "        vertical-align: top;\n",
       "    }\n",
       "</style>\n",
       "<table border=\"1\" class=\"dataframe\">\n",
       "  <thead>\n",
       "    <tr style=\"text-align: right;\">\n",
       "      <th></th>\n",
       "      <th>id</th>\n",
       "      <th>nviaje</th>\n",
       "      <th>torniquete_mariposa</th>\n",
       "      <th>no_torniquete</th>\n",
       "      <th>diferencia_tiempo</th>\n",
       "      <th>diferencia_tiempo_secs</th>\n",
       "    </tr>\n",
       "  </thead>\n",
       "  <tbody>\n",
       "    <tr>\n",
       "      <th>count</th>\n",
       "      <td>1.022250e+05</td>\n",
       "      <td>102225.000</td>\n",
       "      <td>102225.0</td>\n",
       "      <td>102225.0</td>\n",
       "      <td>102225</td>\n",
       "      <td>102225.000</td>\n",
       "    </tr>\n",
       "    <tr>\n",
       "      <th>mean</th>\n",
       "      <td>2.197905e+09</td>\n",
       "      <td>1.621</td>\n",
       "      <td>1.0</td>\n",
       "      <td>0.0</td>\n",
       "      <td>0 days 00:00:05.642611</td>\n",
       "      <td>5.643</td>\n",
       "    </tr>\n",
       "    <tr>\n",
       "      <th>std</th>\n",
       "      <td>1.313894e+09</td>\n",
       "      <td>0.859</td>\n",
       "      <td>0.0</td>\n",
       "      <td>0.0</td>\n",
       "      <td>0 days 00:00:03.760755</td>\n",
       "      <td>3.761</td>\n",
       "    </tr>\n",
       "    <tr>\n",
       "      <th>min</th>\n",
       "      <td>1.220794e+06</td>\n",
       "      <td>1.000</td>\n",
       "      <td>1.0</td>\n",
       "      <td>0.0</td>\n",
       "      <td>0 days 00:00:00</td>\n",
       "      <td>0.000</td>\n",
       "    </tr>\n",
       "    <tr>\n",
       "      <th>25%</th>\n",
       "      <td>9.312073e+08</td>\n",
       "      <td>1.000</td>\n",
       "      <td>1.0</td>\n",
       "      <td>0.0</td>\n",
       "      <td>0 days 00:00:03</td>\n",
       "      <td>3.000</td>\n",
       "    </tr>\n",
       "    <tr>\n",
       "      <th>50%</th>\n",
       "      <td>2.511207e+09</td>\n",
       "      <td>1.000</td>\n",
       "      <td>1.0</td>\n",
       "      <td>0.0</td>\n",
       "      <td>0 days 00:00:05</td>\n",
       "      <td>5.000</td>\n",
       "    </tr>\n",
       "    <tr>\n",
       "      <th>75%</th>\n",
       "      <td>3.310706e+09</td>\n",
       "      <td>2.000</td>\n",
       "      <td>1.0</td>\n",
       "      <td>0.0</td>\n",
       "      <td>0 days 00:00:06</td>\n",
       "      <td>6.000</td>\n",
       "    </tr>\n",
       "    <tr>\n",
       "      <th>max</th>\n",
       "      <td>4.293020e+09</td>\n",
       "      <td>12.000</td>\n",
       "      <td>1.0</td>\n",
       "      <td>0.0</td>\n",
       "      <td>0 days 00:00:25</td>\n",
       "      <td>25.000</td>\n",
       "    </tr>\n",
       "  </tbody>\n",
       "</table>\n",
       "</div>"
      ],
      "text/plain": [
       "                 id      nviaje  torniquete_mariposa  no_torniquete  \\\n",
       "count  1.022250e+05  102225.000             102225.0       102225.0   \n",
       "mean   2.197905e+09       1.621                  1.0            0.0   \n",
       "std    1.313894e+09       0.859                  0.0            0.0   \n",
       "min    1.220794e+06       1.000                  1.0            0.0   \n",
       "25%    9.312073e+08       1.000                  1.0            0.0   \n",
       "50%    2.511207e+09       1.000                  1.0            0.0   \n",
       "75%    3.310706e+09       2.000                  1.0            0.0   \n",
       "max    4.293020e+09      12.000                  1.0            0.0   \n",
       "\n",
       "            diferencia_tiempo  diferencia_tiempo_secs  \n",
       "count                  102225              102225.000  \n",
       "mean   0 days 00:00:05.642611                   5.643  \n",
       "std    0 days 00:00:03.760755                   3.761  \n",
       "min           0 days 00:00:00                   0.000  \n",
       "25%           0 days 00:00:03                   3.000  \n",
       "50%           0 days 00:00:05                   5.000  \n",
       "75%           0 days 00:00:06                   6.000  \n",
       "max           0 days 00:00:25                  25.000  "
      ]
     },
     "execution_count": 8,
     "metadata": {},
     "output_type": "execute_result"
    }
   ],
   "source": [
    "turnstile_97_df.describe().round(3)"
   ]
  },
  {
   "cell_type": "code",
   "execution_count": 9,
   "metadata": {},
   "outputs": [
    {
     "data": {
      "text/html": [
       "<div>\n",
       "<style>\n",
       "    .dataframe thead tr:only-child th {\n",
       "        text-align: right;\n",
       "    }\n",
       "\n",
       "    .dataframe thead th {\n",
       "        text-align: left;\n",
       "    }\n",
       "\n",
       "    .dataframe tbody tr th {\n",
       "        vertical-align: top;\n",
       "    }\n",
       "</style>\n",
       "<table border=\"1\" class=\"dataframe\">\n",
       "  <thead>\n",
       "    <tr style=\"text-align: right;\">\n",
       "      <th></th>\n",
       "      <th>id</th>\n",
       "      <th>nviaje</th>\n",
       "      <th>torniquete_mariposa</th>\n",
       "      <th>no_torniquete</th>\n",
       "      <th>diferencia_tiempo</th>\n",
       "      <th>diferencia_tiempo_secs</th>\n",
       "    </tr>\n",
       "  </thead>\n",
       "  <tbody>\n",
       "    <tr>\n",
       "      <th>count</th>\n",
       "      <td>1.275517e+06</td>\n",
       "      <td>1275517.000</td>\n",
       "      <td>1275517.0</td>\n",
       "      <td>1275517.0</td>\n",
       "      <td>1275517</td>\n",
       "      <td>1275517.000</td>\n",
       "    </tr>\n",
       "    <tr>\n",
       "      <th>mean</th>\n",
       "      <td>2.191368e+09</td>\n",
       "      <td>1.681</td>\n",
       "      <td>0.0</td>\n",
       "      <td>1.0</td>\n",
       "      <td>0 days 00:00:03.436829</td>\n",
       "      <td>3.437</td>\n",
       "    </tr>\n",
       "    <tr>\n",
       "      <th>std</th>\n",
       "      <td>1.307317e+09</td>\n",
       "      <td>0.893</td>\n",
       "      <td>0.0</td>\n",
       "      <td>0.0</td>\n",
       "      <td>0 days 00:00:03.545354</td>\n",
       "      <td>3.545</td>\n",
       "    </tr>\n",
       "    <tr>\n",
       "      <th>min</th>\n",
       "      <td>5.454520e+05</td>\n",
       "      <td>1.000</td>\n",
       "      <td>0.0</td>\n",
       "      <td>1.0</td>\n",
       "      <td>0 days 00:00:00</td>\n",
       "      <td>0.000</td>\n",
       "    </tr>\n",
       "    <tr>\n",
       "      <th>25%</th>\n",
       "      <td>9.321506e+08</td>\n",
       "      <td>1.000</td>\n",
       "      <td>0.0</td>\n",
       "      <td>1.0</td>\n",
       "      <td>0 days 00:00:02</td>\n",
       "      <td>2.000</td>\n",
       "    </tr>\n",
       "    <tr>\n",
       "      <th>50%</th>\n",
       "      <td>2.506513e+09</td>\n",
       "      <td>1.000</td>\n",
       "      <td>0.0</td>\n",
       "      <td>1.0</td>\n",
       "      <td>0 days 00:00:02</td>\n",
       "      <td>2.000</td>\n",
       "    </tr>\n",
       "    <tr>\n",
       "      <th>75%</th>\n",
       "      <td>3.304180e+09</td>\n",
       "      <td>2.000</td>\n",
       "      <td>0.0</td>\n",
       "      <td>1.0</td>\n",
       "      <td>0 days 00:00:04</td>\n",
       "      <td>4.000</td>\n",
       "    </tr>\n",
       "    <tr>\n",
       "      <th>max</th>\n",
       "      <td>4.293274e+09</td>\n",
       "      <td>14.000</td>\n",
       "      <td>0.0</td>\n",
       "      <td>1.0</td>\n",
       "      <td>0 days 00:00:25</td>\n",
       "      <td>25.000</td>\n",
       "    </tr>\n",
       "  </tbody>\n",
       "</table>\n",
       "</div>"
      ],
      "text/plain": [
       "                 id       nviaje  torniquete_mariposa  no_torniquete  \\\n",
       "count  1.275517e+06  1275517.000            1275517.0      1275517.0   \n",
       "mean   2.191368e+09        1.681                  0.0            1.0   \n",
       "std    1.307317e+09        0.893                  0.0            0.0   \n",
       "min    5.454520e+05        1.000                  0.0            1.0   \n",
       "25%    9.321506e+08        1.000                  0.0            1.0   \n",
       "50%    2.506513e+09        1.000                  0.0            1.0   \n",
       "75%    3.304180e+09        2.000                  0.0            1.0   \n",
       "max    4.293274e+09       14.000                  0.0            1.0   \n",
       "\n",
       "            diferencia_tiempo  diferencia_tiempo_secs  \n",
       "count                 1275517             1275517.000  \n",
       "mean   0 days 00:00:03.436829                   3.437  \n",
       "std    0 days 00:00:03.545354                   3.545  \n",
       "min           0 days 00:00:00                   0.000  \n",
       "25%           0 days 00:00:02                   2.000  \n",
       "50%           0 days 00:00:02                   2.000  \n",
       "75%           0 days 00:00:04                   4.000  \n",
       "max           0 days 00:00:25                  25.000  "
      ]
     },
     "execution_count": 9,
     "metadata": {},
     "output_type": "execute_result"
    }
   ],
   "source": [
    "no_turnstile_97_df.describe().round(3)"
   ]
  },
  {
   "cell_type": "markdown",
   "metadata": {},
   "source": [
    "* Plotting"
   ]
  },
  {
   "cell_type": "code",
   "execution_count": 10,
   "metadata": {
    "collapsed": true
   },
   "outputs": [],
   "source": [
    "turns_vals = turnstile_97_df['diferencia_tiempo_secs'].values\n",
    "no_turns_vals = no_turnstile_97_df['diferencia_tiempo_secs'].values\n",
    "bins = range(0,int(percentil_97.total_seconds()),1)"
   ]
  },
  {
   "cell_type": "code",
   "execution_count": 11,
   "metadata": {
    "collapsed": true
   },
   "outputs": [],
   "source": [
    "colors = [(85,98,112),(78,205,196),(199,244,100),(255,107,107),(196,77,88)]\n",
    "for i in range(len(colors)):\n",
    "    r, g, b = colors[i]  \n",
    "    colors[i] = (r / 255., g / 255., b / 255.)"
   ]
  },
  {
   "cell_type": "code",
   "execution_count": 12,
   "metadata": {
    "scrolled": true
   },
   "outputs": [
    {
     "data": {
      "text/plain": [
       "<matplotlib.legend.Legend at 0x1cfb3b17240>"
      ]
     },
     "execution_count": 12,
     "metadata": {},
     "output_type": "execute_result"
    },
    {
     "data": {
      "image/png": "[encoded data removed]",
      "text/plain": [
       "<matplotlib.figure.Figure at 0x1cfbf5e2f98>"
      ]
     },
     "metadata": {},
     "output_type": "display_data"
    }
   ],
   "source": [
    "hist_fig, ax = plt.subplots()\n",
    "\n",
    "plot1 = ax.hist(turns_vals,normed=True,bins=bins,color=colors[3], alpha=0.8, label='con torniquete mariposa')\n",
    "plot2 = ax.hist(no_turns_vals,normed=True,bins=bins,color=colors[0], alpha = 0.8, label='sin torniquete')\n",
    "\n",
    "\n",
    "ax.set_title('Intervalo entre validaciones, 15 de marzo de 2017')\n",
    "ax.set_xlabel('Intervalo [s]')\n",
    "ax.set_ylabel('Frecuencia relativa')\n",
    "ax.set_xlim(0,30)\n",
    "ax.legend()\n",
    "#plt.savefig('C:/Users/Tesista/Desktop/Evasion/03_report/02_Figs/2_daily_' + date + '.pdf')"
   ]
  },
  {
   "cell_type": "code",
   "execution_count": 13,
   "metadata": {
    "collapsed": true
   },
   "outputs": [],
   "source": [
    "import scipy as sp\n",
    "import scipy.stats\n",
    "\n",
    "def mean_confidence_interval(data, confidence=0.95):\n",
    "    a = 1.0*np.array(data)\n",
    "    n = len(a)\n",
    "    m, se = np.mean(a), scipy.stats.sem(a)\n",
    "    h = se * sp.stats.t.ppf((1+confidence)/2., n-1)\n",
    "    return h, m-h, m, m+h"
   ]
  },
  {
   "cell_type": "code",
   "execution_count": 14,
   "metadata": {},
   "outputs": [
    {
     "data": {
      "text/plain": [
       "(0.023054187586336636,\n",
       " 5.6195576979602517,\n",
       " 5.6426118855465885,\n",
       " 5.6656660731329254)"
      ]
     },
     "execution_count": 14,
     "metadata": {},
     "output_type": "execute_result"
    }
   ],
   "source": [
    "mean_confidence_interval(turnstile_97_df['diferencia_tiempo_secs'])"
   ]
  },
  {
   "cell_type": "code",
   "execution_count": 15,
   "metadata": {},
   "outputs": [
    {
     "data": {
      "text/plain": [
       "(0.0061526900928337951,\n",
       " 3.4306764544814841,\n",
       " 3.4368291445743178,\n",
       " 3.4429818346671515)"
      ]
     },
     "execution_count": 15,
     "metadata": {},
     "output_type": "execute_result"
    }
   ],
   "source": [
    "mean_confidence_interval(no_turnstile_97_df['diferencia_tiempo_secs'])"
   ]
  },
  {
   "cell_type": "markdown",
   "metadata": {},
   "source": [
    "---------------"
   ]
  },
  {
   "cell_type": "markdown",
   "metadata": {},
   "source": [
    "#### Running the builder of the dataframe for date = 2017-08-23"
   ]
  },
  {
   "cell_type": "code",
   "execution_count": 16,
   "metadata": {
    "collapsed": true
   },
   "outputs": [],
   "source": [
    "date = '2017-08-23' #Last date, Wednesday\n",
    "#Creating the object.\n",
    "etapas_builder = DailyEtapasBuilder.RunSilentlyDailyEtapasBuilderClass(date)\n",
    "#Building.\n",
    "etapas_builder.loadSimplifiedEtapas()\n",
    "etapas_builder.cleanDataFrame() #Be aware of this condition\n",
    "etapas_builder.mergeTurnstileData()\n",
    "etapas_builder.sortDataFrame()\n",
    "etapas_builder.postProcessingSortedDataFrame()\n",
    "#Retrieving the info.\n",
    "etapas_df = etapas_builder.etapas_df\n",
    "filtered_df = etapas_builder.filteringDf()[0]"
   ]
  },
  {
   "cell_type": "markdown",
   "metadata": {},
   "source": [
    "TODO: Currently, there are rows with extremely high values for the 'diferencia_tiempo' attribute (e.g. >=25 mins). <strong>Be aware of this</strong>. <strike>This should be fixed considering the idExpedicion attribute present in the corresponding 'perfiles' database. The following graphs and descriptive statistics consider only the 95th percentile for the 'diferencia_tiempo_secs' attribute.</strike>"
   ]
  },
  {
   "cell_type": "markdown",
   "metadata": {},
   "source": [
    "Filtering by diferencia_tiempo<=97th percentile in the  in the <strong>whole</strong> databases. <strong><font color=\"red\">BE AWARE.</font></strong>"
   ]
  },
  {
   "cell_type": "code",
   "execution_count": 17,
   "metadata": {},
   "outputs": [
    {
     "name": "stdout",
     "output_type": "stream",
     "text": [
      "Percentile 97th for 2017-turnstile database is: 0 days 00:00:26\n"
     ]
    }
   ],
   "source": [
    "percentil_97 = filtered_df['diferencia_tiempo'].quantile(0.97)\n",
    "print ('Percentile 97th for 2017-turnstile database is: ' + str(percentil_97))\n",
    "percentil_97_df = filtered_df[filtered_df['diferencia_tiempo']<=percentil_97]"
   ]
  },
  {
   "cell_type": "code",
   "execution_count": 18,
   "metadata": {
    "collapsed": true
   },
   "outputs": [],
   "source": [
    "turnstile_97_df = percentil_97_df[percentil_97_df['torniquete_mariposa']==1]\n",
    "no_turnstile_97_df = percentil_97_df[percentil_97_df['no_torniquete']==1]"
   ]
  },
  {
   "cell_type": "code",
   "execution_count": 19,
   "metadata": {},
   "outputs": [
    {
     "data": {
      "text/html": [
       "<div>\n",
       "<style>\n",
       "    .dataframe thead tr:only-child th {\n",
       "        text-align: right;\n",
       "    }\n",
       "\n",
       "    .dataframe thead th {\n",
       "        text-align: left;\n",
       "    }\n",
       "\n",
       "    .dataframe tbody tr th {\n",
       "        vertical-align: top;\n",
       "    }\n",
       "</style>\n",
       "<table border=\"1\" class=\"dataframe\">\n",
       "  <thead>\n",
       "    <tr style=\"text-align: right;\">\n",
       "      <th></th>\n",
       "      <th>id</th>\n",
       "      <th>nviaje</th>\n",
       "      <th>torniquete_mariposa</th>\n",
       "      <th>no_torniquete</th>\n",
       "      <th>diferencia_tiempo</th>\n",
       "      <th>diferencia_tiempo_secs</th>\n",
       "    </tr>\n",
       "  </thead>\n",
       "  <tbody>\n",
       "    <tr>\n",
       "      <th>count</th>\n",
       "      <td>4.043730e+05</td>\n",
       "      <td>404373.000</td>\n",
       "      <td>404373.0</td>\n",
       "      <td>404373.0</td>\n",
       "      <td>404373</td>\n",
       "      <td>404373.000</td>\n",
       "    </tr>\n",
       "    <tr>\n",
       "      <th>mean</th>\n",
       "      <td>1.707572e+09</td>\n",
       "      <td>1.626</td>\n",
       "      <td>1.0</td>\n",
       "      <td>0.0</td>\n",
       "      <td>0 days 00:00:05.559337</td>\n",
       "      <td>5.559</td>\n",
       "    </tr>\n",
       "    <tr>\n",
       "      <th>std</th>\n",
       "      <td>1.416779e+09</td>\n",
       "      <td>0.859</td>\n",
       "      <td>0.0</td>\n",
       "      <td>0.0</td>\n",
       "      <td>0 days 00:00:03.785015</td>\n",
       "      <td>3.785</td>\n",
       "    </tr>\n",
       "    <tr>\n",
       "      <th>min</th>\n",
       "      <td>1.163274e+06</td>\n",
       "      <td>1.000</td>\n",
       "      <td>1.0</td>\n",
       "      <td>0.0</td>\n",
       "      <td>0 days 00:00:00</td>\n",
       "      <td>0.000</td>\n",
       "    </tr>\n",
       "    <tr>\n",
       "      <th>25%</th>\n",
       "      <td>4.148700e+08</td>\n",
       "      <td>1.000</td>\n",
       "      <td>1.0</td>\n",
       "      <td>0.0</td>\n",
       "      <td>0 days 00:00:03</td>\n",
       "      <td>3.000</td>\n",
       "    </tr>\n",
       "    <tr>\n",
       "      <th>50%</th>\n",
       "      <td>1.521784e+09</td>\n",
       "      <td>1.000</td>\n",
       "      <td>1.0</td>\n",
       "      <td>0.0</td>\n",
       "      <td>0 days 00:00:04</td>\n",
       "      <td>4.000</td>\n",
       "    </tr>\n",
       "    <tr>\n",
       "      <th>75%</th>\n",
       "      <td>3.071544e+09</td>\n",
       "      <td>2.000</td>\n",
       "      <td>1.0</td>\n",
       "      <td>0.0</td>\n",
       "      <td>0 days 00:00:06</td>\n",
       "      <td>6.000</td>\n",
       "    </tr>\n",
       "    <tr>\n",
       "      <th>max</th>\n",
       "      <td>4.293271e+09</td>\n",
       "      <td>13.000</td>\n",
       "      <td>1.0</td>\n",
       "      <td>0.0</td>\n",
       "      <td>0 days 00:00:26</td>\n",
       "      <td>26.000</td>\n",
       "    </tr>\n",
       "  </tbody>\n",
       "</table>\n",
       "</div>"
      ],
      "text/plain": [
       "                 id      nviaje  torniquete_mariposa  no_torniquete  \\\n",
       "count  4.043730e+05  404373.000             404373.0       404373.0   \n",
       "mean   1.707572e+09       1.626                  1.0            0.0   \n",
       "std    1.416779e+09       0.859                  0.0            0.0   \n",
       "min    1.163274e+06       1.000                  1.0            0.0   \n",
       "25%    4.148700e+08       1.000                  1.0            0.0   \n",
       "50%    1.521784e+09       1.000                  1.0            0.0   \n",
       "75%    3.071544e+09       2.000                  1.0            0.0   \n",
       "max    4.293271e+09      13.000                  1.0            0.0   \n",
       "\n",
       "            diferencia_tiempo  diferencia_tiempo_secs  \n",
       "count                  404373              404373.000  \n",
       "mean   0 days 00:00:05.559337                   5.559  \n",
       "std    0 days 00:00:03.785015                   3.785  \n",
       "min           0 days 00:00:00                   0.000  \n",
       "25%           0 days 00:00:03                   3.000  \n",
       "50%           0 days 00:00:04                   4.000  \n",
       "75%           0 days 00:00:06                   6.000  \n",
       "max           0 days 00:00:26                  26.000  "
      ]
     },
     "execution_count": 19,
     "metadata": {},
     "output_type": "execute_result"
    }
   ],
   "source": [
    "turnstile_97_df.describe().round(3)"
   ]
  },
  {
   "cell_type": "code",
   "execution_count": 20,
   "metadata": {},
   "outputs": [
    {
     "data": {
      "text/html": [
       "<div>\n",
       "<style>\n",
       "    .dataframe thead tr:only-child th {\n",
       "        text-align: right;\n",
       "    }\n",
       "\n",
       "    .dataframe thead th {\n",
       "        text-align: left;\n",
       "    }\n",
       "\n",
       "    .dataframe tbody tr th {\n",
       "        vertical-align: top;\n",
       "    }\n",
       "</style>\n",
       "<table border=\"1\" class=\"dataframe\">\n",
       "  <thead>\n",
       "    <tr style=\"text-align: right;\">\n",
       "      <th></th>\n",
       "      <th>id</th>\n",
       "      <th>nviaje</th>\n",
       "      <th>torniquete_mariposa</th>\n",
       "      <th>no_torniquete</th>\n",
       "      <th>diferencia_tiempo</th>\n",
       "      <th>diferencia_tiempo_secs</th>\n",
       "    </tr>\n",
       "  </thead>\n",
       "  <tbody>\n",
       "    <tr>\n",
       "      <th>count</th>\n",
       "      <td>1.030770e+06</td>\n",
       "      <td>1030770.000</td>\n",
       "      <td>1030770.0</td>\n",
       "      <td>1030770.0</td>\n",
       "      <td>1030770</td>\n",
       "      <td>1030770.000</td>\n",
       "    </tr>\n",
       "    <tr>\n",
       "      <th>mean</th>\n",
       "      <td>1.754878e+09</td>\n",
       "      <td>1.663</td>\n",
       "      <td>0.0</td>\n",
       "      <td>1.0</td>\n",
       "      <td>0 days 00:00:03.511988</td>\n",
       "      <td>3.512</td>\n",
       "    </tr>\n",
       "    <tr>\n",
       "      <th>std</th>\n",
       "      <td>1.408982e+09</td>\n",
       "      <td>0.876</td>\n",
       "      <td>0.0</td>\n",
       "      <td>0.0</td>\n",
       "      <td>0 days 00:00:03.662275</td>\n",
       "      <td>3.662</td>\n",
       "    </tr>\n",
       "    <tr>\n",
       "      <th>min</th>\n",
       "      <td>1.163274e+06</td>\n",
       "      <td>1.000</td>\n",
       "      <td>0.0</td>\n",
       "      <td>1.0</td>\n",
       "      <td>0 days 00:00:00</td>\n",
       "      <td>0.000</td>\n",
       "    </tr>\n",
       "    <tr>\n",
       "      <th>25%</th>\n",
       "      <td>4.229699e+08</td>\n",
       "      <td>1.000</td>\n",
       "      <td>0.0</td>\n",
       "      <td>1.0</td>\n",
       "      <td>0 days 00:00:02</td>\n",
       "      <td>2.000</td>\n",
       "    </tr>\n",
       "    <tr>\n",
       "      <th>50%</th>\n",
       "      <td>1.666432e+09</td>\n",
       "      <td>1.000</td>\n",
       "      <td>0.0</td>\n",
       "      <td>1.0</td>\n",
       "      <td>0 days 00:00:03</td>\n",
       "      <td>3.000</td>\n",
       "    </tr>\n",
       "    <tr>\n",
       "      <th>75%</th>\n",
       "      <td>3.132472e+09</td>\n",
       "      <td>2.000</td>\n",
       "      <td>0.0</td>\n",
       "      <td>1.0</td>\n",
       "      <td>0 days 00:00:04</td>\n",
       "      <td>4.000</td>\n",
       "    </tr>\n",
       "    <tr>\n",
       "      <th>max</th>\n",
       "      <td>4.293295e+09</td>\n",
       "      <td>16.000</td>\n",
       "      <td>0.0</td>\n",
       "      <td>1.0</td>\n",
       "      <td>0 days 00:00:26</td>\n",
       "      <td>26.000</td>\n",
       "    </tr>\n",
       "  </tbody>\n",
       "</table>\n",
       "</div>"
      ],
      "text/plain": [
       "                 id       nviaje  torniquete_mariposa  no_torniquete  \\\n",
       "count  1.030770e+06  1030770.000            1030770.0      1030770.0   \n",
       "mean   1.754878e+09        1.663                  0.0            1.0   \n",
       "std    1.408982e+09        0.876                  0.0            0.0   \n",
       "min    1.163274e+06        1.000                  0.0            1.0   \n",
       "25%    4.229699e+08        1.000                  0.0            1.0   \n",
       "50%    1.666432e+09        1.000                  0.0            1.0   \n",
       "75%    3.132472e+09        2.000                  0.0            1.0   \n",
       "max    4.293295e+09       16.000                  0.0            1.0   \n",
       "\n",
       "            diferencia_tiempo  diferencia_tiempo_secs  \n",
       "count                 1030770             1030770.000  \n",
       "mean   0 days 00:00:03.511988                   3.512  \n",
       "std    0 days 00:00:03.662275                   3.662  \n",
       "min           0 days 00:00:00                   0.000  \n",
       "25%           0 days 00:00:02                   2.000  \n",
       "50%           0 days 00:00:03                   3.000  \n",
       "75%           0 days 00:00:04                   4.000  \n",
       "max           0 days 00:00:26                  26.000  "
      ]
     },
     "execution_count": 20,
     "metadata": {},
     "output_type": "execute_result"
    }
   ],
   "source": [
    "no_turnstile_97_df.describe().round(3)"
   ]
  },
  {
   "cell_type": "markdown",
   "metadata": {},
   "source": [
    "* Plotting"
   ]
  },
  {
   "cell_type": "code",
   "execution_count": 21,
   "metadata": {
    "collapsed": true
   },
   "outputs": [],
   "source": [
    "turns_vals = turnstile_97_df['diferencia_tiempo_secs'].values\n",
    "no_turns_vals = no_turnstile_97_df['diferencia_tiempo_secs'].values\n",
    "bins = range(0,int(percentil_97.total_seconds()),1)"
   ]
  },
  {
   "cell_type": "code",
   "execution_count": 22,
   "metadata": {
    "collapsed": true
   },
   "outputs": [],
   "source": [
    "colors = [(85,98,112),(78,205,196),(199,244,100),(255,107,107),(196,77,88)]\n",
    "for i in range(len(colors)):\n",
    "    r, g, b = colors[i]  \n",
    "    colors[i] = (r / 255., g / 255., b / 255.)"
   ]
  },
  {
   "cell_type": "code",
   "execution_count": 23,
   "metadata": {
    "scrolled": true
   },
   "outputs": [
    {
     "data": {
      "text/plain": [
       "<matplotlib.legend.Legend at 0x1cfc8428390>"
      ]
     },
     "execution_count": 23,
     "metadata": {},
     "output_type": "execute_result"
    },
    {
     "data": {
      "image/png": "[encoded data removed]",
      "text/plain": [
       "<matplotlib.figure.Figure at 0x1cfc6e726d8>"
      ]
     },
     "metadata": {},
     "output_type": "display_data"
    }
   ],
   "source": [
    "hist_fig, ax = plt.subplots()\n",
    "\n",
    "plot1 = ax.hist(turns_vals,normed=True,bins=bins,color=colors[3], alpha=0.8, label='con torniquete mariposa')\n",
    "plot2 = ax.hist(no_turns_vals,normed=True,bins=bins,color=colors[0], alpha = 0.8, label='sin torniquete')\n",
    "\n",
    "\n",
    "ax.set_title('Intervalo entre validaciones, 23 de agosto de 2017')\n",
    "ax.set_xlabel('Intervalo [s]')\n",
    "ax.set_xlim(0,30)\n",
    "ax.set_ylabel('Frecuencia relativa')\n",
    "ax.legend()\n",
    "#plt.savefig('C:/Users/Tesista/Desktop/Evasion/03_report/02_Figs/2_daily_' + date + '.pdf')"
   ]
  },
  {
   "cell_type": "code",
   "execution_count": 24,
   "metadata": {
    "collapsed": true
   },
   "outputs": [],
   "source": [
    "import scipy as sp\n",
    "import scipy.stats\n",
    "\n",
    "def mean_confidence_interval(data, confidence=0.95):\n",
    "    a = 1.0*np.array(data)\n",
    "    n = len(a)\n",
    "    m, se = np.mean(a), scipy.stats.sem(a)\n",
    "    h = se * sp.stats.t.ppf((1+confidence)/2., n-1)\n",
    "    return h, m-h, m, m+h"
   ]
  },
  {
   "cell_type": "code",
   "execution_count": 25,
   "metadata": {},
   "outputs": [
    {
     "data": {
      "text/plain": [
       "(0.011666107384770263,\n",
       " 5.5476714349338314,\n",
       " 5.5593375423186018,\n",
       " 5.5710036497033721)"
      ]
     },
     "execution_count": 25,
     "metadata": {},
     "output_type": "execute_result"
    }
   ],
   "source": [
    "mean_confidence_interval(turnstile_97_df['diferencia_tiempo_secs'])"
   ]
  },
  {
   "cell_type": "code",
   "execution_count": 26,
   "metadata": {},
   "outputs": [
    {
     "data": {
      "text/plain": [
       "(0.0070699895032642944,\n",
       " 3.5049181358787318,\n",
       " 3.511988125381996,\n",
       " 3.5190581148852602)"
      ]
     },
     "execution_count": 26,
     "metadata": {},
     "output_type": "execute_result"
    }
   ],
   "source": [
    "mean_confidence_interval(no_turnstile_97_df['diferencia_tiempo_secs'])"
   ]
  },
  {
   "cell_type": "markdown",
   "metadata": {},
   "source": [
    "--------------------"
   ]
  },
  {
   "cell_type": "markdown",
   "metadata": {},
   "source": [
    "#### Running the builder of the dataframe for date = 2017-08-20"
   ]
  },
  {
   "cell_type": "code",
   "execution_count": 27,
   "metadata": {
    "collapsed": true
   },
   "outputs": [],
   "source": [
    "date = '2017-08-20' #Weekend, sunday\n",
    "#Creating the object.\n",
    "etapas_builder = DailyEtapasBuilder.RunSilentlyDailyEtapasBuilderClass(date)\n",
    "#Building.\n",
    "etapas_builder.loadSimplifiedEtapas()\n",
    "etapas_builder.cleanDataFrame() #Be aware of this condition\n",
    "etapas_builder.mergeTurnstileData()\n",
    "etapas_builder.sortDataFrame()\n",
    "etapas_builder.postProcessingSortedDataFrame()\n",
    "#Retrieving the info.\n",
    "etapas_df = etapas_builder.etapas_df\n",
    "filtered_df = etapas_builder.filteringDf()[0]"
   ]
  },
  {
   "cell_type": "markdown",
   "metadata": {},
   "source": [
    "TODO: Currently, there are rows with extremely high values for the 'diferencia_tiempo' attribute (e.g. >=25 mins). <strong>Be aware of this</strong>. <strike>This should be fixed considering the idExpedicion attribute present in the corresponding 'perfiles' database. The following graphs and descriptive statistics consider only the 95th percentile for the 'diferencia_tiempo_secs' attribute.</strike>"
   ]
  },
  {
   "cell_type": "markdown",
   "metadata": {},
   "source": [
    "Filtering by diferencia_tiempo<=97th percentile in the  in the <strong>whole</strong> databases. <strong><font color=\"red\">BE AWARE.</font></strong>"
   ]
  },
  {
   "cell_type": "code",
   "execution_count": 28,
   "metadata": {},
   "outputs": [
    {
     "name": "stdout",
     "output_type": "stream",
     "text": [
      "Percentile 97th for 2017-turnstile database is: 0 days 00:00:26\n"
     ]
    }
   ],
   "source": [
    "percentil_97 = filtered_df['diferencia_tiempo'].quantile(0.97)\n",
    "print ('Percentile 97th for 2017-turnstile database is: ' + str(percentil_97))\n",
    "percentil_97_df = filtered_df[filtered_df['diferencia_tiempo']<=percentil_97]"
   ]
  },
  {
   "cell_type": "code",
   "execution_count": 29,
   "metadata": {
    "collapsed": true
   },
   "outputs": [],
   "source": [
    "turnstile_97_df = percentil_97_df[percentil_97_df['torniquete_mariposa']==1]\n",
    "no_turnstile_97_df = percentil_97_df[percentil_97_df['no_torniquete']==1]"
   ]
  },
  {
   "cell_type": "code",
   "execution_count": 30,
   "metadata": {},
   "outputs": [
    {
     "data": {
      "text/html": [
       "<div>\n",
       "<style>\n",
       "    .dataframe thead tr:only-child th {\n",
       "        text-align: right;\n",
       "    }\n",
       "\n",
       "    .dataframe thead th {\n",
       "        text-align: left;\n",
       "    }\n",
       "\n",
       "    .dataframe tbody tr th {\n",
       "        vertical-align: top;\n",
       "    }\n",
       "</style>\n",
       "<table border=\"1\" class=\"dataframe\">\n",
       "  <thead>\n",
       "    <tr style=\"text-align: right;\">\n",
       "      <th></th>\n",
       "      <th>id</th>\n",
       "      <th>nviaje</th>\n",
       "      <th>torniquete_mariposa</th>\n",
       "      <th>no_torniquete</th>\n",
       "      <th>diferencia_tiempo</th>\n",
       "      <th>diferencia_tiempo_secs</th>\n",
       "    </tr>\n",
       "  </thead>\n",
       "  <tbody>\n",
       "    <tr>\n",
       "      <th>count</th>\n",
       "      <td>1.307710e+05</td>\n",
       "      <td>130771.000</td>\n",
       "      <td>130771.0</td>\n",
       "      <td>130771.0</td>\n",
       "      <td>130771</td>\n",
       "      <td>130771.000</td>\n",
       "    </tr>\n",
       "    <tr>\n",
       "      <th>mean</th>\n",
       "      <td>1.682707e+09</td>\n",
       "      <td>1.575</td>\n",
       "      <td>1.0</td>\n",
       "      <td>0.0</td>\n",
       "      <td>0 days 00:00:06.088773</td>\n",
       "      <td>6.089</td>\n",
       "    </tr>\n",
       "    <tr>\n",
       "      <th>std</th>\n",
       "      <td>1.409532e+09</td>\n",
       "      <td>0.802</td>\n",
       "      <td>0.0</td>\n",
       "      <td>0.0</td>\n",
       "      <td>0 days 00:00:04.171294</td>\n",
       "      <td>4.171</td>\n",
       "    </tr>\n",
       "    <tr>\n",
       "      <th>min</th>\n",
       "      <td>1.182202e+06</td>\n",
       "      <td>1.000</td>\n",
       "      <td>1.0</td>\n",
       "      <td>0.0</td>\n",
       "      <td>0 days 00:00:00</td>\n",
       "      <td>0.000</td>\n",
       "    </tr>\n",
       "    <tr>\n",
       "      <th>25%</th>\n",
       "      <td>4.200741e+08</td>\n",
       "      <td>1.000</td>\n",
       "      <td>1.0</td>\n",
       "      <td>0.0</td>\n",
       "      <td>0 days 00:00:04</td>\n",
       "      <td>4.000</td>\n",
       "    </tr>\n",
       "    <tr>\n",
       "      <th>50%</th>\n",
       "      <td>1.439409e+09</td>\n",
       "      <td>1.000</td>\n",
       "      <td>1.0</td>\n",
       "      <td>0.0</td>\n",
       "      <td>0 days 00:00:05</td>\n",
       "      <td>5.000</td>\n",
       "    </tr>\n",
       "    <tr>\n",
       "      <th>75%</th>\n",
       "      <td>2.981935e+09</td>\n",
       "      <td>2.000</td>\n",
       "      <td>1.0</td>\n",
       "      <td>0.0</td>\n",
       "      <td>0 days 00:00:07</td>\n",
       "      <td>7.000</td>\n",
       "    </tr>\n",
       "    <tr>\n",
       "      <th>max</th>\n",
       "      <td>4.288136e+09</td>\n",
       "      <td>17.000</td>\n",
       "      <td>1.0</td>\n",
       "      <td>0.0</td>\n",
       "      <td>0 days 00:00:26</td>\n",
       "      <td>26.000</td>\n",
       "    </tr>\n",
       "  </tbody>\n",
       "</table>\n",
       "</div>"
      ],
      "text/plain": [
       "                 id      nviaje  torniquete_mariposa  no_torniquete  \\\n",
       "count  1.307710e+05  130771.000             130771.0       130771.0   \n",
       "mean   1.682707e+09       1.575                  1.0            0.0   \n",
       "std    1.409532e+09       0.802                  0.0            0.0   \n",
       "min    1.182202e+06       1.000                  1.0            0.0   \n",
       "25%    4.200741e+08       1.000                  1.0            0.0   \n",
       "50%    1.439409e+09       1.000                  1.0            0.0   \n",
       "75%    2.981935e+09       2.000                  1.0            0.0   \n",
       "max    4.288136e+09      17.000                  1.0            0.0   \n",
       "\n",
       "            diferencia_tiempo  diferencia_tiempo_secs  \n",
       "count                  130771              130771.000  \n",
       "mean   0 days 00:00:06.088773                   6.089  \n",
       "std    0 days 00:00:04.171294                   4.171  \n",
       "min           0 days 00:00:00                   0.000  \n",
       "25%           0 days 00:00:04                   4.000  \n",
       "50%           0 days 00:00:05                   5.000  \n",
       "75%           0 days 00:00:07                   7.000  \n",
       "max           0 days 00:00:26                  26.000  "
      ]
     },
     "execution_count": 30,
     "metadata": {},
     "output_type": "execute_result"
    }
   ],
   "source": [
    "turnstile_97_df.describe().round(3)"
   ]
  },
  {
   "cell_type": "code",
   "execution_count": 31,
   "metadata": {},
   "outputs": [
    {
     "data": {
      "text/html": [
       "<div>\n",
       "<style>\n",
       "    .dataframe thead tr:only-child th {\n",
       "        text-align: right;\n",
       "    }\n",
       "\n",
       "    .dataframe thead th {\n",
       "        text-align: left;\n",
       "    }\n",
       "\n",
       "    .dataframe tbody tr th {\n",
       "        vertical-align: top;\n",
       "    }\n",
       "</style>\n",
       "<table border=\"1\" class=\"dataframe\">\n",
       "  <thead>\n",
       "    <tr style=\"text-align: right;\">\n",
       "      <th></th>\n",
       "      <th>id</th>\n",
       "      <th>nviaje</th>\n",
       "      <th>torniquete_mariposa</th>\n",
       "      <th>no_torniquete</th>\n",
       "      <th>diferencia_tiempo</th>\n",
       "      <th>diferencia_tiempo_secs</th>\n",
       "    </tr>\n",
       "  </thead>\n",
       "  <tbody>\n",
       "    <tr>\n",
       "      <th>count</th>\n",
       "      <td>3.094960e+05</td>\n",
       "      <td>309496.000</td>\n",
       "      <td>309496.0</td>\n",
       "      <td>309496.0</td>\n",
       "      <td>309496</td>\n",
       "      <td>309496.000</td>\n",
       "    </tr>\n",
       "    <tr>\n",
       "      <th>mean</th>\n",
       "      <td>1.721884e+09</td>\n",
       "      <td>1.542</td>\n",
       "      <td>0.0</td>\n",
       "      <td>1.0</td>\n",
       "      <td>0 days 00:00:03.563839</td>\n",
       "      <td>3.564</td>\n",
       "    </tr>\n",
       "    <tr>\n",
       "      <th>std</th>\n",
       "      <td>1.406907e+09</td>\n",
       "      <td>0.820</td>\n",
       "      <td>0.0</td>\n",
       "      <td>0.0</td>\n",
       "      <td>0 days 00:00:03.551581</td>\n",
       "      <td>3.552</td>\n",
       "    </tr>\n",
       "    <tr>\n",
       "      <th>min</th>\n",
       "      <td>1.129674e+06</td>\n",
       "      <td>1.000</td>\n",
       "      <td>0.0</td>\n",
       "      <td>1.0</td>\n",
       "      <td>0 days 00:00:00</td>\n",
       "      <td>0.000</td>\n",
       "    </tr>\n",
       "    <tr>\n",
       "      <th>25%</th>\n",
       "      <td>4.223623e+08</td>\n",
       "      <td>1.000</td>\n",
       "      <td>0.0</td>\n",
       "      <td>1.0</td>\n",
       "      <td>0 days 00:00:02</td>\n",
       "      <td>2.000</td>\n",
       "    </tr>\n",
       "    <tr>\n",
       "      <th>50%</th>\n",
       "      <td>1.571886e+09</td>\n",
       "      <td>1.000</td>\n",
       "      <td>0.0</td>\n",
       "      <td>1.0</td>\n",
       "      <td>0 days 00:00:03</td>\n",
       "      <td>3.000</td>\n",
       "    </tr>\n",
       "    <tr>\n",
       "      <th>75%</th>\n",
       "      <td>3.077164e+09</td>\n",
       "      <td>2.000</td>\n",
       "      <td>0.0</td>\n",
       "      <td>1.0</td>\n",
       "      <td>0 days 00:00:04</td>\n",
       "      <td>4.000</td>\n",
       "    </tr>\n",
       "    <tr>\n",
       "      <th>max</th>\n",
       "      <td>4.293272e+09</td>\n",
       "      <td>57.000</td>\n",
       "      <td>0.0</td>\n",
       "      <td>1.0</td>\n",
       "      <td>0 days 00:00:26</td>\n",
       "      <td>26.000</td>\n",
       "    </tr>\n",
       "  </tbody>\n",
       "</table>\n",
       "</div>"
      ],
      "text/plain": [
       "                 id      nviaje  torniquete_mariposa  no_torniquete  \\\n",
       "count  3.094960e+05  309496.000             309496.0       309496.0   \n",
       "mean   1.721884e+09       1.542                  0.0            1.0   \n",
       "std    1.406907e+09       0.820                  0.0            0.0   \n",
       "min    1.129674e+06       1.000                  0.0            1.0   \n",
       "25%    4.223623e+08       1.000                  0.0            1.0   \n",
       "50%    1.571886e+09       1.000                  0.0            1.0   \n",
       "75%    3.077164e+09       2.000                  0.0            1.0   \n",
       "max    4.293272e+09      57.000                  0.0            1.0   \n",
       "\n",
       "            diferencia_tiempo  diferencia_tiempo_secs  \n",
       "count                  309496              309496.000  \n",
       "mean   0 days 00:00:03.563839                   3.564  \n",
       "std    0 days 00:00:03.551581                   3.552  \n",
       "min           0 days 00:00:00                   0.000  \n",
       "25%           0 days 00:00:02                   2.000  \n",
       "50%           0 days 00:00:03                   3.000  \n",
       "75%           0 days 00:00:04                   4.000  \n",
       "max           0 days 00:00:26                  26.000  "
      ]
     },
     "execution_count": 31,
     "metadata": {},
     "output_type": "execute_result"
    }
   ],
   "source": [
    "no_turnstile_97_df.describe().round(3)"
   ]
  },
  {
   "cell_type": "markdown",
   "metadata": {},
   "source": [
    "* Plotting"
   ]
  },
  {
   "cell_type": "code",
   "execution_count": 32,
   "metadata": {
    "collapsed": true
   },
   "outputs": [],
   "source": [
    "turns_vals = turnstile_97_df['diferencia_tiempo_secs'].values\n",
    "no_turns_vals = no_turnstile_97_df['diferencia_tiempo_secs'].values\n",
    "bins = range(0,int(percentil_97.total_seconds()),1)"
   ]
  },
  {
   "cell_type": "code",
   "execution_count": 33,
   "metadata": {
    "collapsed": true
   },
   "outputs": [],
   "source": [
    "colors = [(85,98,112),(78,205,196),(199,244,100),(255,107,107),(196,77,88)]\n",
    "for i in range(len(colors)):\n",
    "    r, g, b = colors[i]  \n",
    "    colors[i] = (r / 255., g / 255., b / 255.)"
   ]
  },
  {
   "cell_type": "code",
   "execution_count": 42,
   "metadata": {
    "scrolled": true
   },
   "outputs": [
    {
     "data": {
      "image/png": "[encoded data removed]",
      "text/plain": [
       "<matplotlib.figure.Figure at 0x1cfb80a8b00>"
      ]
     },
     "metadata": {},
     "output_type": "display_data"
    }
   ],
   "source": [
    "hist_fig, ax = plt.subplots()\n",
    "\n",
    "plot1 = ax.hist(turns_vals,normed=True,bins=bins,color=colors[3], alpha=0.8, label='con torniquete mariposa')\n",
    "plot2 = ax.hist(no_turns_vals,normed=True,bins=bins,color=colors[0], alpha = 0.8, label='sin torniquete')\n",
    "\n",
    "\n",
    "ax.set_title('Intervalo entre validaciones, 20 de agosto de 2017')\n",
    "ax.set_xlabel('Intervalo [s]')\n",
    "ax.set_xlim(0,30)\n",
    "ax.set_ylim(0,0.30)\n",
    "ax.set_ylabel('Frecuencia relativa')\n",
    "ax.legend()\n",
    "#plt.savefig('C:/Users/leoca_000/Desktop/Evasion/03_report/02_Figs/2_daily_' + date + '.pdf')"
   ]
  },
  {
   "cell_type": "code",
   "execution_count": 36,
   "metadata": {
    "collapsed": true
   },
   "outputs": [],
   "source": [
    "import scipy as sp\n",
    "import scipy.stats\n",
    "\n",
    "def mean_confidence_interval(data, confidence=0.95):\n",
    "    a = 1.0*np.array(data)\n",
    "    n = len(a)\n",
    "    m, se = np.mean(a), scipy.stats.sem(a)\n",
    "    h = se * sp.stats.t.ppf((1+confidence)/2., n-1)\n",
    "    return h, m-h, m, m+h"
   ]
  },
  {
   "cell_type": "code",
   "execution_count": 37,
   "metadata": {},
   "outputs": [
    {
     "data": {
      "text/plain": [
       "(0.022608265049842334,\n",
       " 6.0661652397792096,\n",
       " 6.0887735048290521,\n",
       " 6.1113817698788946)"
      ]
     },
     "execution_count": 37,
     "metadata": {},
     "output_type": "execute_result"
    }
   ],
   "source": [
    "mean_confidence_interval(turnstile_97_df['diferencia_tiempo_secs'])"
   ]
  },
  {
   "cell_type": "code",
   "execution_count": 38,
   "metadata": {},
   "outputs": [
    {
     "data": {
      "text/plain": [
       "(0.012512498863487187,\n",
       " 3.5513267753113005,\n",
       " 3.5638392741747875,\n",
       " 3.5763517730382746)"
      ]
     },
     "execution_count": 38,
     "metadata": {},
     "output_type": "execute_result"
    }
   ],
   "source": [
    "mean_confidence_interval(no_turnstile_97_df['diferencia_tiempo_secs'])"
   ]
  },
  {
   "cell_type": "markdown",
   "metadata": {},
   "source": [
    "### Closed"
   ]
  }
 ],
 "metadata": {
  "kernelspec": {
   "display_name": "Python 3",
   "language": "python",
   "name": "python3"
  },
  "language_info": {
   "codemirror_mode": {
    "name": "ipython",
    "version": 3
   },
   "file_extension": ".py",
   "mimetype": "text/x-python",
   "name": "python",
   "nbconvert_exporter": "python",
   "pygments_lexer": "ipython3",
   "version": "3.6.1"
  }
 },
 "nbformat": 4,
 "nbformat_minor": 2
}
