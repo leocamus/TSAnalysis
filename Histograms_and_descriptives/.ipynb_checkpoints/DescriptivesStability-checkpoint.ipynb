{
 "cells": [
  {
   "cell_type": "markdown",
   "metadata": {},
   "source": [
    "# Studying descriptive statistics stability"
   ]
  },
  {
   "cell_type": "code",
   "execution_count": 1,
   "metadata": {
    "collapsed": true
   },
   "outputs": [],
   "source": [
    "import os\n",
    "import sys\n",
    "module_path = os.path.abspath(os.path.join('..'))\n",
    "if module_path not in sys.path:\n",
    "    sys.path.append(module_path)"
   ]
  },
  {
   "cell_type": "code",
   "execution_count": 2,
   "metadata": {},
   "outputs": [],
   "source": [
    "%matplotlib inline\n",
    "import pandas as pd\n",
    "import matplotlib\n",
    "import matplotlib.pyplot as plt\n",
    "import numpy as np\n",
    "from importlib import reload\n",
    "import datetime\n",
    "import DailyEtapasBuilder"
   ]
  },
  {
   "cell_type": "code",
   "execution_count": 3,
   "metadata": {},
   "outputs": [
    {
     "name": "stdout",
     "output_type": "stream",
     "text": [
      "Not found in BOTH turnstile databases: 1282226\n"
     ]
    }
   ],
   "source": [
    "date = '2017-03-01' #First date.\n",
    "#Creating the object.\n",
    "etapas_builder = DailyEtapasBuilder.RunSilentlyDailyEtapasBuilderClass(date)\n",
    "#Building.\n",
    "etapas_builder.loadSimplifiedEtapas()\n",
    "etapas_builder.mergeTurnstileData()\n",
    "etapas_builder.cleanDataFrame() #Be aware of this condition\n",
    "etapas_builder.sortDataFrame()\n",
    "etapas_builder.postProcessingSortedDataFrame()\n",
    "#Retrieving the info.\n",
    "etapas_df = etapas_builder.etapas_df\n",
    "[filtered_df,filtered_turnstile_df,filtered_no_turnstile_df] = etapas_builder.filteringDf()"
   ]
  },
  {
   "cell_type": "markdown",
   "metadata": {},
   "source": [
    "### Data Distribution"
   ]
  },
  {
   "cell_type": "code",
   "execution_count": 4,
   "metadata": {
    "collapsed": true
   },
   "outputs": [],
   "source": [
    "threshold = 120 #In seconds\n",
    "\n",
    "time_keys = []\n",
    "\n",
    "cumulative_counts_turnstile = []\n",
    "cumulative_counts_noturnstile = []\n",
    "\n",
    "total_count_turnstile = filtered_turnstile_df.count()[0]\n",
    "total_count_noturnstile = filtered_no_turnstile_df.count()[0]\n",
    "\n",
    "for i in range(0,threshold):\n",
    "    time_keys.append(i)\n",
    "    cumulative_counts_turnstile.append(filtered_turnstile_df[filtered_turnstile_df['diferencia_tiempo_secs']<i].count()[0])\n",
    "    cumulative_counts_noturnstile.append(filtered_no_turnstile_df[filtered_no_turnstile_df['diferencia_tiempo_secs']<i].count()[0])\n",
    "\n",
    "\n",
    "cumulative_counts_turnstile = cumulative_counts_turnstile/total_count_turnstile*100\n",
    "cumulative_counts_noturnstile = cumulative_counts_noturnstile/total_count_noturnstile*100"
   ]
  },
  {
   "cell_type": "code",
   "execution_count": 5,
   "metadata": {},
   "outputs": [
    {
     "name": "stdout",
     "output_type": "stream",
     "text": [
      "99.1668367408\n",
      "99.4831399749\n"
     ]
    }
   ],
   "source": [
    "count_turnstile = filtered_turnstile_df[filtered_turnstile_df['diferencia_tiempo_secs']<=threshold].count()[0]\n",
    "count_noturnstile = filtered_no_turnstile_df[filtered_no_turnstile_df['diferencia_tiempo_secs']<=threshold].count()[0]\n",
    "\n",
    "\n",
    "percent_turnstile = (count_turnstile/total_count_turnstile)*100\n",
    "percent_noturnstile = (count_noturnstile/total_count_noturnstile)*100\n",
    "\n",
    "print(percent_turnstile)\n",
    "print(percent_noturnstile)"
   ]
  },
  {
   "cell_type": "code",
   "execution_count": 6,
   "metadata": {
    "collapsed": true
   },
   "outputs": [],
   "source": [
    "colors = [(85,98,112),(78,205,196),(199,244,100),(255,107,107),(196,77,88)]\n",
    "for i in range(len(colors)):\n",
    "    r, g, b = colors[i]  \n",
    "    colors[i] = (r / 255., g / 255., b / 255.)"
   ]
  },
  {
   "cell_type": "code",
   "execution_count": 7,
   "metadata": {},
   "outputs": [
    {
     "data": {
      "image/png": "[encoded data removed]",
      "text/plain": [
       "<matplotlib.figure.Figure at 0x19c99e3f358>"
      ]
     },
     "metadata": {},
     "output_type": "display_data"
    }
   ],
   "source": [
    "fig_1, ax_1 = plt.subplots()\n",
    "ax_1.plot(time_keys,cumulative_counts_noturnstile,color=colors[0],label='sin torniquete')\n",
    "ax_1.plot(time_keys,cumulative_counts_turnstile,color=colors[3],label='con torniquete mariposa')\n",
    "ax_1.set_title('Distribución acumulada intervalo entre validaciones - 01/03/2017')\n",
    "ax_1.set_xlabel('Intervalo [s]')\n",
    "ax_1.set_xlim(0,100)\n",
    "ax_1.set_ylabel('% de observaciones')\n",
    "ax_1.legend()\n",
    "ax_1.grid(True)\n",
    "#plt.savefig('C:/Users/leoca_000/Desktop/Evasion/03_report/02_Figs/2_IntervaloVsObs_' + date + '.pdf')"
   ]
  },
  {
   "cell_type": "markdown",
   "metadata": {},
   "source": [
    "### Descriptive statistics stability"
   ]
  },
  {
   "cell_type": "code",
   "execution_count": 8,
   "metadata": {
    "collapsed": true,
    "scrolled": true
   },
   "outputs": [],
   "source": [
    "percentiles = np.arange(0.9, 1.005, 0.005)\n",
    "\n",
    "turnstile_mean_percentiles = []\n",
    "turnstile_std_percentiles = []\n",
    "turnstile_min_percentiles = []\n",
    "turnstile_25_percentiles = []\n",
    "turnstile_50_percentiles = []\n",
    "turnstile_75_percentiles = []\n",
    "turnstile_max_percentiles = []\n",
    "\n",
    "no_turnstile_mean_percentiles = []\n",
    "no_turnstile_std_percentiles = []\n",
    "no_turnstile_min_percentiles = []\n",
    "no_turnstile_25_percentiles = []\n",
    "no_turnstile_50_percentiles = []\n",
    "no_turnstile_75_percentiles = []\n",
    "no_turnstile_max_percentiles = []\n",
    "\n",
    "\n",
    "for i in percentiles:\n",
    "    turnstile_time = filtered_turnstile_df.diferencia_tiempo.quantile(i)\n",
    "    turnstile_percentile_df = filtered_turnstile_df[filtered_turnstile_df.diferencia_tiempo<=turnstile_time]\n",
    "    turnstile_descriptive = turnstile_percentile_df.describe()\n",
    "    turnstile_mean_percentiles.append(turnstile_descriptive['diferencia_tiempo_secs'].loc['mean'])\n",
    "    turnstile_std_percentiles.append(turnstile_descriptive['diferencia_tiempo_secs'].loc['std'])\n",
    "    turnstile_min_percentiles.append(turnstile_descriptive['diferencia_tiempo_secs'].loc['min'])\n",
    "    turnstile_25_percentiles.append(turnstile_descriptive['diferencia_tiempo_secs'].loc['25%'])\n",
    "    turnstile_50_percentiles.append(turnstile_descriptive['diferencia_tiempo_secs'].loc['50%'])\n",
    "    turnstile_75_percentiles.append(turnstile_descriptive['diferencia_tiempo_secs'].loc['75%'])\n",
    "    turnstile_max_percentiles.append(turnstile_descriptive['diferencia_tiempo_secs'].loc['max'])\n",
    "\n",
    "\n",
    "for j in percentiles:\n",
    "    no_turnstile_time = filtered_no_turnstile_df.diferencia_tiempo.quantile(j)\n",
    "    no_turnstile_percentile_df = filtered_no_turnstile_df[filtered_no_turnstile_df.diferencia_tiempo<=no_turnstile_time]\n",
    "    no_turnstile_descriptive = no_turnstile_percentile_df.describe()\n",
    "    no_turnstile_mean_percentiles.append(no_turnstile_descriptive['diferencia_tiempo_secs'].loc['mean'])\n",
    "    no_turnstile_std_percentiles.append(no_turnstile_descriptive['diferencia_tiempo_secs'].loc['std'])\n",
    "    no_turnstile_min_percentiles.append(no_turnstile_descriptive['diferencia_tiempo_secs'].loc['min'])\n",
    "    no_turnstile_25_percentiles.append(no_turnstile_descriptive['diferencia_tiempo_secs'].loc['25%'])\n",
    "    no_turnstile_50_percentiles.append(no_turnstile_descriptive['diferencia_tiempo_secs'].loc['50%'])\n",
    "    no_turnstile_75_percentiles.append(no_turnstile_descriptive['diferencia_tiempo_secs'].loc['75%'])\n",
    "    no_turnstile_max_percentiles.append(no_turnstile_descriptive['diferencia_tiempo_secs'].loc['max'])\n"
   ]
  },
  {
   "cell_type": "code",
   "execution_count": 9,
   "metadata": {
    "collapsed": true,
    "scrolled": true
   },
   "outputs": [],
   "source": [
    "summary_df = pd.DataFrame({'percentile': percentiles,\n",
    "                          'turnstile-mean': turnstile_mean_percentiles,\n",
    "                          'turnstile-std': turnstile_std_percentiles,\n",
    "                          'turnstile-median': turnstile_50_percentiles,\n",
    "                          'turnstile-max': turnstile_max_percentiles,\n",
    "                          'no-turnstile-mean': no_turnstile_mean_percentiles,\n",
    "                          'no-turnstile-std': no_turnstile_std_percentiles,\n",
    "                          'no-turnstile-median': no_turnstile_50_percentiles,\n",
    "                          'no-turnstile-max': no_turnstile_max_percentiles})\n"
   ]
  },
  {
   "cell_type": "code",
   "execution_count": 10,
   "metadata": {
    "collapsed": true
   },
   "outputs": [],
   "source": [
    "def slope_calc(x,y):\n",
    "    delta_y = (y.shift()-y)\n",
    "    delta_x = (x.shift()-x)\n",
    "    slope = (delta_y/delta_x).fillna(0)\n",
    "    return slope\n"
   ]
  },
  {
   "cell_type": "code",
   "execution_count": 11,
   "metadata": {
    "collapsed": true
   },
   "outputs": [],
   "source": [
    "summary_df['difference_means'] = summary_df['turnstile-mean']-summary_df['no-turnstile-mean']"
   ]
  },
  {
   "cell_type": "code",
   "execution_count": 12,
   "metadata": {
    "scrolled": true
   },
   "outputs": [
    {
     "data": {
      "text/plain": [
       "2.4916139752252544"
      ]
     },
     "execution_count": 12,
     "metadata": {},
     "output_type": "execute_result"
    }
   ],
   "source": [
    "summary_df['difference_means'].min()"
   ]
  },
  {
   "cell_type": "code",
   "execution_count": 13,
   "metadata": {},
   "outputs": [
    {
     "data": {
      "text/plain": [
       "3.4242799969864226"
      ]
     },
     "execution_count": 13,
     "metadata": {},
     "output_type": "execute_result"
    }
   ],
   "source": [
    "summary_df['difference_means'].max()"
   ]
  },
  {
   "cell_type": "code",
   "execution_count": 14,
   "metadata": {
    "collapsed": true
   },
   "outputs": [],
   "source": [
    "summary_df['turnstile-mean-slope'] = slope_calc(summary_df['percentile'],summary_df['turnstile-mean'])\n",
    "summary_df['no-turnstile-mean-slope'] = slope_calc(summary_df['percentile'],summary_df['no-turnstile-mean'])\n",
    "\n",
    "summary_df['turnstile-std-slope'] = slope_calc(summary_df['percentile'],summary_df['turnstile-std'])\n",
    "summary_df['no-turnstile-std-slope'] = slope_calc(summary_df['percentile'],summary_df['no-turnstile-std'])\n",
    "\n",
    "summary_df['turnstile-max-slope'] = slope_calc(summary_df['percentile'],summary_df['turnstile-max'])\n",
    "summary_df['no-turnstile-max-slope'] = slope_calc(summary_df['percentile'],summary_df['no-turnstile-max'])\n"
   ]
  },
  {
   "cell_type": "code",
   "execution_count": 15,
   "metadata": {
    "collapsed": true
   },
   "outputs": [],
   "source": [
    "turnstile_mean_slope = summary_df['turnstile-mean-slope'].values\n",
    "no_turnstile_mean_slope = summary_df['no-turnstile-mean-slope'].values\n",
    "\n",
    "turnstile_std_slope = summary_df['turnstile-std-slope'].values\n",
    "no_turnstile_std_slope = summary_df['no-turnstile-std-slope'].values\n",
    "\n",
    "turnstile_max_slope = summary_df['turnstile-max-slope'].values\n",
    "no_turnstile_max_slope = summary_df['no-turnstile-max-slope'].values"
   ]
  },
  {
   "cell_type": "code",
   "execution_count": 16,
   "metadata": {
    "collapsed": true
   },
   "outputs": [],
   "source": [
    "#cols = ['percentile', \n",
    "#        'turnstile-mean', 'turnstile-mean-slope' ,'no-turnstile-mean', 'no-turnstile-mean-slope',\n",
    "#        'turnstile-std', 'turnstile-std-slope', 'no-turnstile-std', 'no-turnstile-std-slope',\n",
    "#        'turnstile-median', 'no-turnstile-median', \n",
    "#        'turnstile-max','turnstile-max-slope', 'no-turnstile-max', 'no-turnstile-max-slope']\n",
    "#summary_df = summary_df[cols]\n"
   ]
  },
  {
   "cell_type": "markdown",
   "metadata": {},
   "source": [
    "* To LaTeX"
   ]
  },
  {
   "cell_type": "code",
   "execution_count": 17,
   "metadata": {
    "collapsed": true
   },
   "outputs": [],
   "source": [
    "#means_df = summary_df[['percentile','turnstile-mean','turnstile-mean-slope','no-turnstile-mean','no-turnstile-mean-slope']]\n",
    "#stds_df = summary_df[['percentile','turnstile-std','turnstile-std-slope','no-turnstile-std','no-turnstile-std-slope']]\n",
    "#maxs_df = summary_df[['percentile','turnstile-max','turnstile-max-slope','no-turnstile-max','no-turnstile-max-slope']]"
   ]
  },
  {
   "cell_type": "code",
   "execution_count": 18,
   "metadata": {},
   "outputs": [],
   "source": [
    "#means_df"
   ]
  },
  {
   "cell_type": "code",
   "execution_count": 19,
   "metadata": {},
   "outputs": [],
   "source": [
    "#stds_df"
   ]
  },
  {
   "cell_type": "code",
   "execution_count": 20,
   "metadata": {},
   "outputs": [],
   "source": [
    "#maxs_df"
   ]
  },
  {
   "cell_type": "markdown",
   "metadata": {},
   "source": [
    "* To plotting"
   ]
  },
  {
   "cell_type": "code",
   "execution_count": 22,
   "metadata": {},
   "outputs": [
    {
     "data": {
      "image/png": "[encoded data removed]",
      "text/plain": [
       "<matplotlib.figure.Figure at 0x19c973f2748>"
      ]
     },
     "metadata": {},
     "output_type": "display_data"
    }
   ],
   "source": [
    "fig_2, ax_2 = plt.subplots()\n",
    "\n",
    "ax_2.plot(percentiles,turnstile_mean_percentiles,'-o',color=colors[3],label='con torniquete mariposa')\n",
    "ax_2.plot(percentiles,no_turnstile_mean_percentiles,'-o',color=colors[0],label='sin torniquete')\n",
    "\n",
    "ax_2.set_title('Percentil vs. Intervalo Promedio - 01/03/2017')\n",
    "ax_2.set_xlabel('Percentil')\n",
    "ax_2.set_ylabel('Intervalo promedio [s]')\n",
    "ax_2.legend()\n",
    "ax_2.grid(True)\n",
    "#plt.savefig('C:/Users/leoca_000/Desktop/Evasion/03_report/02_Figs/2_percentilVsPromedio_' + date + '.pdf')"
   ]
  },
  {
   "cell_type": "code",
   "execution_count": 23,
   "metadata": {
    "scrolled": true
   },
   "outputs": [
    {
     "data": {
      "image/png": "[encoded data removed]",
      "text/plain": [
       "<matplotlib.figure.Figure at 0x19c9f912860>"
      ]
     },
     "metadata": {},
     "output_type": "display_data"
    }
   ],
   "source": [
    "fig_3, ax_3 = plt.subplots()\n",
    "ax_3.plot(percentiles,turnstile_50_percentiles,'-o',color=colors[3],label='con torniquete mariposa')\n",
    "ax_3.plot(percentiles,no_turnstile_50_percentiles, '-o', color=colors[0], label='sin torniquete')\n",
    "ax_3.legend()\n",
    "ax_3.set_title('Percentil vs. Mediana del intervalo - 01/03/2017')\n",
    "ax_3.set_xlabel('Percentil')\n",
    "ax_3.set_ylabel('Mediana del intervalo [s]')\n",
    "ax_3.grid(True)\n",
    "plt.savefig('C:/Users/leoca_000/Desktop/Evasion/03_report/02_Figs/2_percentilVsMediana_' + date + '.pdf')"
   ]
  },
  {
   "cell_type": "code",
   "execution_count": 24,
   "metadata": {
    "scrolled": true
   },
   "outputs": [
    {
     "data": {
      "image/png": "[encoded data removed]",
      "text/plain": [
       "<matplotlib.figure.Figure at 0x19ca873d438>"
      ]
     },
     "metadata": {},
     "output_type": "display_data"
    }
   ],
   "source": [
    "fig_4, ax_4 = plt.subplots()\n",
    "\n",
    "#Filtering for plotting:\n",
    "new_percentiles = percentiles[percentiles<1]\n",
    "new_turnstile_std_percentiles = [x for x in turnstile_std_percentiles if x < 20]\n",
    "new_no_turnstile_std_percentiles = [x for x in no_turnstile_std_percentiles if x < 20]\n",
    "#End of filter.\n",
    "\n",
    "ax_4.plot(new_percentiles,new_turnstile_std_percentiles,'-o',color=colors[3],label='con torniquete mariposa')\n",
    "ax_4.plot(new_percentiles,new_no_turnstile_std_percentiles, '-o', color=colors[0], label='sin torniquete')\n",
    "ax_4.legend()\n",
    "ax_4.set_title('Percentil vs. Desviación Estándar del Intervalo - 01/03/2017')\n",
    "ax_4.set_xlabel('Percentil')\n",
    "ax_4.set_ylabel('Desviación Estándar del Intervalo [s]')\n",
    "ax_4.grid(True)\n",
    "\n",
    "plt.savefig('C:/Users/leoca_000/Desktop/Evasion/03_report/02_Figs/2_percentilVsStd_' + date + '.pdf')"
   ]
  },
  {
   "cell_type": "code",
   "execution_count": 26,
   "metadata": {},
   "outputs": [
    {
     "data": {
      "image/png": "[encoded data removed]",
      "text/plain": [
       "<matplotlib.figure.Figure at 0x19ca6d6a6a0>"
      ]
     },
     "metadata": {},
     "output_type": "display_data"
    }
   ],
   "source": [
    "fig_5, ax_5 = plt.subplots()\n",
    "\n",
    "#Filtering for plotting:\n",
    "new_turnstile_max_percentiles = [x for x in turnstile_max_percentiles if x < 200]\n",
    "new_no_turnstile_max_percentiles = [x for x in no_turnstile_max_percentiles if x < 200]\n",
    "#End of filter.\n",
    "\n",
    "ax_5.plot(new_percentiles,new_turnstile_max_percentiles,'-o',color=colors[3],label='con torniquete mariposa')\n",
    "ax_5.plot(new_percentiles,new_no_turnstile_max_percentiles, '-o', color=colors[0], label='sin torniquete')\n",
    "ax_5.legend()\n",
    "ax_5.set_title('Percentil vs. Intervalo Máximo - 01/03/2017')\n",
    "ax_5.set_xlabel('Percentil')\n",
    "ax_5.set_ylabel('Intervalo Máximo [s]')\n",
    "ax_5.grid(True)\n",
    "\n",
    "plt.savefig('C:/Users/leoca_000/Desktop/Evasion/03_report/02_Figs/2_percentilVsMax_' + date + '.pdf')"
   ]
  },
  {
   "cell_type": "code",
   "execution_count": 27,
   "metadata": {
    "collapsed": true
   },
   "outputs": [],
   "source": [
    "summary_df['difference_stds'] = summary_df['turnstile-std']-summary_df['no-turnstile-std']"
   ]
  },
  {
   "cell_type": "code",
   "execution_count": 30,
   "metadata": {},
   "outputs": [
    {
     "data": {
      "text/html": [
       "<div>\n",
       "<style>\n",
       "    .dataframe thead tr:only-child th {\n",
       "        text-align: right;\n",
       "    }\n",
       "\n",
       "    .dataframe thead th {\n",
       "        text-align: left;\n",
       "    }\n",
       "\n",
       "    .dataframe tbody tr th {\n",
       "        vertical-align: top;\n",
       "    }\n",
       "</style>\n",
       "<table border=\"1\" class=\"dataframe\">\n",
       "  <thead>\n",
       "    <tr style=\"text-align: right;\">\n",
       "      <th></th>\n",
       "      <th>no-turnstile-max</th>\n",
       "      <th>no-turnstile-mean</th>\n",
       "      <th>no-turnstile-median</th>\n",
       "      <th>no-turnstile-std</th>\n",
       "      <th>percentile</th>\n",
       "      <th>turnstile-max</th>\n",
       "      <th>turnstile-mean</th>\n",
       "      <th>turnstile-median</th>\n",
       "      <th>turnstile-std</th>\n",
       "      <th>difference_means</th>\n",
       "      <th>turnstile-mean-slope</th>\n",
       "      <th>no-turnstile-mean-slope</th>\n",
       "      <th>turnstile-std-slope</th>\n",
       "      <th>no-turnstile-std-slope</th>\n",
       "      <th>turnstile-max-slope</th>\n",
       "      <th>no-turnstile-max-slope</th>\n",
       "      <th>difference_stds</th>\n",
       "    </tr>\n",
       "  </thead>\n",
       "  <tbody>\n",
       "    <tr>\n",
       "      <th>0</th>\n",
       "      <td>10.0</td>\n",
       "      <td>2.787104</td>\n",
       "      <td>2.0</td>\n",
       "      <td>1.942562</td>\n",
       "      <td>0.900</td>\n",
       "      <td>15.0</td>\n",
       "      <td>5.278718</td>\n",
       "      <td>5.0</td>\n",
       "      <td>2.692717</td>\n",
       "      <td>2.491614</td>\n",
       "      <td>0.000000</td>\n",
       "      <td>0.000000</td>\n",
       "      <td>0.000000</td>\n",
       "      <td>0.000000</td>\n",
       "      <td>0.0</td>\n",
       "      <td>0.0</td>\n",
       "      <td>0.750155</td>\n",
       "    </tr>\n",
       "    <tr>\n",
       "      <th>1</th>\n",
       "      <td>10.0</td>\n",
       "      <td>2.787104</td>\n",
       "      <td>2.0</td>\n",
       "      <td>1.942562</td>\n",
       "      <td>0.905</td>\n",
       "      <td>16.0</td>\n",
       "      <td>5.351819</td>\n",
       "      <td>5.0</td>\n",
       "      <td>2.824833</td>\n",
       "      <td>2.564714</td>\n",
       "      <td>14.620058</td>\n",
       "      <td>-0.000000</td>\n",
       "      <td>26.423230</td>\n",
       "      <td>-0.000000</td>\n",
       "      <td>200.0</td>\n",
       "      <td>-0.0</td>\n",
       "      <td>0.882271</td>\n",
       "    </tr>\n",
       "    <tr>\n",
       "      <th>2</th>\n",
       "      <td>11.0</td>\n",
       "      <td>2.849274</td>\n",
       "      <td>2.0</td>\n",
       "      <td>2.061967</td>\n",
       "      <td>0.910</td>\n",
       "      <td>16.0</td>\n",
       "      <td>5.351819</td>\n",
       "      <td>5.0</td>\n",
       "      <td>2.824833</td>\n",
       "      <td>2.502545</td>\n",
       "      <td>-0.000000</td>\n",
       "      <td>12.433874</td>\n",
       "      <td>-0.000000</td>\n",
       "      <td>23.881023</td>\n",
       "      <td>-0.0</td>\n",
       "      <td>200.0</td>\n",
       "      <td>0.762866</td>\n",
       "    </tr>\n",
       "    <tr>\n",
       "      <th>3</th>\n",
       "      <td>12.0</td>\n",
       "      <td>2.906771</td>\n",
       "      <td>2.0</td>\n",
       "      <td>2.178952</td>\n",
       "      <td>0.915</td>\n",
       "      <td>17.0</td>\n",
       "      <td>5.423119</td>\n",
       "      <td>5.0</td>\n",
       "      <td>2.959102</td>\n",
       "      <td>2.516348</td>\n",
       "      <td>14.260026</td>\n",
       "      <td>11.499459</td>\n",
       "      <td>26.853640</td>\n",
       "      <td>23.396889</td>\n",
       "      <td>200.0</td>\n",
       "      <td>200.0</td>\n",
       "      <td>0.780150</td>\n",
       "    </tr>\n",
       "    <tr>\n",
       "      <th>4</th>\n",
       "      <td>13.0</td>\n",
       "      <td>2.960842</td>\n",
       "      <td>2.0</td>\n",
       "      <td>2.294608</td>\n",
       "      <td>0.920</td>\n",
       "      <td>18.0</td>\n",
       "      <td>5.481369</td>\n",
       "      <td>5.0</td>\n",
       "      <td>3.073264</td>\n",
       "      <td>2.520527</td>\n",
       "      <td>11.650122</td>\n",
       "      <td>10.814220</td>\n",
       "      <td>22.832553</td>\n",
       "      <td>23.131197</td>\n",
       "      <td>200.0</td>\n",
       "      <td>200.0</td>\n",
       "      <td>0.778657</td>\n",
       "    </tr>\n",
       "    <tr>\n",
       "      <th>5</th>\n",
       "      <td>14.0</td>\n",
       "      <td>3.011421</td>\n",
       "      <td>2.0</td>\n",
       "      <td>2.407673</td>\n",
       "      <td>0.925</td>\n",
       "      <td>20.0</td>\n",
       "      <td>5.593633</td>\n",
       "      <td>5.0</td>\n",
       "      <td>3.305143</td>\n",
       "      <td>2.582212</td>\n",
       "      <td>22.452668</td>\n",
       "      <td>10.115773</td>\n",
       "      <td>46.375645</td>\n",
       "      <td>22.613126</td>\n",
       "      <td>400.0</td>\n",
       "      <td>200.0</td>\n",
       "      <td>0.897469</td>\n",
       "    </tr>\n",
       "    <tr>\n",
       "      <th>6</th>\n",
       "      <td>15.0</td>\n",
       "      <td>3.058377</td>\n",
       "      <td>2.0</td>\n",
       "      <td>2.516927</td>\n",
       "      <td>0.930</td>\n",
       "      <td>21.0</td>\n",
       "      <td>5.642129</td>\n",
       "      <td>5.0</td>\n",
       "      <td>3.410923</td>\n",
       "      <td>2.583752</td>\n",
       "      <td>9.699289</td>\n",
       "      <td>9.391237</td>\n",
       "      <td>21.155979</td>\n",
       "      <td>21.850653</td>\n",
       "      <td>200.0</td>\n",
       "      <td>200.0</td>\n",
       "      <td>0.893996</td>\n",
       "    </tr>\n",
       "    <tr>\n",
       "      <th>7</th>\n",
       "      <td>16.0</td>\n",
       "      <td>3.101762</td>\n",
       "      <td>2.0</td>\n",
       "      <td>2.621693</td>\n",
       "      <td>0.935</td>\n",
       "      <td>23.0</td>\n",
       "      <td>5.741754</td>\n",
       "      <td>5.0</td>\n",
       "      <td>3.637605</td>\n",
       "      <td>2.639992</td>\n",
       "      <td>19.924942</td>\n",
       "      <td>8.677009</td>\n",
       "      <td>45.336577</td>\n",
       "      <td>20.953262</td>\n",
       "      <td>400.0</td>\n",
       "      <td>200.0</td>\n",
       "      <td>1.015913</td>\n",
       "    </tr>\n",
       "    <tr>\n",
       "      <th>8</th>\n",
       "      <td>18.0</td>\n",
       "      <td>3.184591</td>\n",
       "      <td>2.0</td>\n",
       "      <td>2.831620</td>\n",
       "      <td>0.940</td>\n",
       "      <td>25.0</td>\n",
       "      <td>5.829764</td>\n",
       "      <td>5.0</td>\n",
       "      <td>3.848696</td>\n",
       "      <td>2.645173</td>\n",
       "      <td>17.601947</td>\n",
       "      <td>16.565678</td>\n",
       "      <td>42.218096</td>\n",
       "      <td>41.985377</td>\n",
       "      <td>400.0</td>\n",
       "      <td>400.0</td>\n",
       "      <td>1.017076</td>\n",
       "    </tr>\n",
       "    <tr>\n",
       "      <th>9</th>\n",
       "      <td>20.0</td>\n",
       "      <td>3.262136</td>\n",
       "      <td>2.0</td>\n",
       "      <td>3.039535</td>\n",
       "      <td>0.945</td>\n",
       "      <td>28.0</td>\n",
       "      <td>5.953951</td>\n",
       "      <td>5.0</td>\n",
       "      <td>4.164007</td>\n",
       "      <td>2.691815</td>\n",
       "      <td>24.837437</td>\n",
       "      <td>15.509080</td>\n",
       "      <td>63.062300</td>\n",
       "      <td>41.583092</td>\n",
       "      <td>600.0</td>\n",
       "      <td>400.0</td>\n",
       "      <td>1.124472</td>\n",
       "    </tr>\n",
       "    <tr>\n",
       "      <th>10</th>\n",
       "      <td>23.0</td>\n",
       "      <td>3.364932</td>\n",
       "      <td>3.0</td>\n",
       "      <td>3.331788</td>\n",
       "      <td>0.950</td>\n",
       "      <td>31.0</td>\n",
       "      <td>6.067957</td>\n",
       "      <td>5.0</td>\n",
       "      <td>4.470344</td>\n",
       "      <td>2.703025</td>\n",
       "      <td>22.801143</td>\n",
       "      <td>20.559121</td>\n",
       "      <td>61.267373</td>\n",
       "      <td>58.450488</td>\n",
       "      <td>600.0</td>\n",
       "      <td>600.0</td>\n",
       "      <td>1.138557</td>\n",
       "    </tr>\n",
       "    <tr>\n",
       "      <th>11</th>\n",
       "      <td>26.0</td>\n",
       "      <td>3.460821</td>\n",
       "      <td>3.0</td>\n",
       "      <td>3.621646</td>\n",
       "      <td>0.955</td>\n",
       "      <td>35.0</td>\n",
       "      <td>6.224877</td>\n",
       "      <td>5.0</td>\n",
       "      <td>4.914520</td>\n",
       "      <td>2.764057</td>\n",
       "      <td>31.384151</td>\n",
       "      <td>19.177784</td>\n",
       "      <td>88.835235</td>\n",
       "      <td>57.971570</td>\n",
       "      <td>800.0</td>\n",
       "      <td>600.0</td>\n",
       "      <td>1.292875</td>\n",
       "    </tr>\n",
       "    <tr>\n",
       "      <th>12</th>\n",
       "      <td>31.0</td>\n",
       "      <td>3.621071</td>\n",
       "      <td>3.0</td>\n",
       "      <td>4.136148</td>\n",
       "      <td>0.960</td>\n",
       "      <td>39.0</td>\n",
       "      <td>6.382029</td>\n",
       "      <td>5.0</td>\n",
       "      <td>5.378642</td>\n",
       "      <td>2.760958</td>\n",
       "      <td>31.430390</td>\n",
       "      <td>32.050043</td>\n",
       "      <td>92.824300</td>\n",
       "      <td>102.900564</td>\n",
       "      <td>800.0</td>\n",
       "      <td>1000.0</td>\n",
       "      <td>1.242494</td>\n",
       "    </tr>\n",
       "    <tr>\n",
       "      <th>13</th>\n",
       "      <td>35.0</td>\n",
       "      <td>3.756922</td>\n",
       "      <td>3.0</td>\n",
       "      <td>4.590581</td>\n",
       "      <td>0.965</td>\n",
       "      <td>43.0</td>\n",
       "      <td>6.532002</td>\n",
       "      <td>5.0</td>\n",
       "      <td>5.834784</td>\n",
       "      <td>2.775081</td>\n",
       "      <td>29.994606</td>\n",
       "      <td>27.170173</td>\n",
       "      <td>91.228502</td>\n",
       "      <td>90.886562</td>\n",
       "      <td>800.0</td>\n",
       "      <td>800.0</td>\n",
       "      <td>1.244203</td>\n",
       "    </tr>\n",
       "    <tr>\n",
       "      <th>14</th>\n",
       "      <td>40.0</td>\n",
       "      <td>3.932738</td>\n",
       "      <td>3.0</td>\n",
       "      <td>5.192272</td>\n",
       "      <td>0.970</td>\n",
       "      <td>50.0</td>\n",
       "      <td>6.767107</td>\n",
       "      <td>5.0</td>\n",
       "      <td>6.578998</td>\n",
       "      <td>2.834369</td>\n",
       "      <td>47.021025</td>\n",
       "      <td>35.163366</td>\n",
       "      <td>148.842673</td>\n",
       "      <td>120.338245</td>\n",
       "      <td>1400.0</td>\n",
       "      <td>1000.0</td>\n",
       "      <td>1.386725</td>\n",
       "    </tr>\n",
       "    <tr>\n",
       "      <th>15</th>\n",
       "      <td>46.0</td>\n",
       "      <td>4.131538</td>\n",
       "      <td>3.0</td>\n",
       "      <td>5.886269</td>\n",
       "      <td>0.975</td>\n",
       "      <td>57.0</td>\n",
       "      <td>6.992036</td>\n",
       "      <td>5.0</td>\n",
       "      <td>7.323901</td>\n",
       "      <td>2.860499</td>\n",
       "      <td>44.985814</td>\n",
       "      <td>39.759856</td>\n",
       "      <td>148.980674</td>\n",
       "      <td>138.799421</td>\n",
       "      <td>1400.0</td>\n",
       "      <td>1200.0</td>\n",
       "      <td>1.437632</td>\n",
       "    </tr>\n",
       "    <tr>\n",
       "      <th>16</th>\n",
       "      <td>53.0</td>\n",
       "      <td>4.351961</td>\n",
       "      <td>3.0</td>\n",
       "      <td>6.672958</td>\n",
       "      <td>0.980</td>\n",
       "      <td>67.0</td>\n",
       "      <td>7.259922</td>\n",
       "      <td>5.0</td>\n",
       "      <td>8.256989</td>\n",
       "      <td>2.907960</td>\n",
       "      <td>53.577035</td>\n",
       "      <td>44.084741</td>\n",
       "      <td>186.617498</td>\n",
       "      <td>157.337787</td>\n",
       "      <td>2000.0</td>\n",
       "      <td>1400.0</td>\n",
       "      <td>1.584030</td>\n",
       "    </tr>\n",
       "    <tr>\n",
       "      <th>17</th>\n",
       "      <td>64.0</td>\n",
       "      <td>4.629498</td>\n",
       "      <td>3.0</td>\n",
       "      <td>7.703322</td>\n",
       "      <td>0.985</td>\n",
       "      <td>83.0</td>\n",
       "      <td>7.604002</td>\n",
       "      <td>5.0</td>\n",
       "      <td>9.548381</td>\n",
       "      <td>2.974504</td>\n",
       "      <td>68.816108</td>\n",
       "      <td>55.507320</td>\n",
       "      <td>258.278527</td>\n",
       "      <td>206.072620</td>\n",
       "      <td>3200.0</td>\n",
       "      <td>2200.0</td>\n",
       "      <td>1.845060</td>\n",
       "    </tr>\n",
       "    <tr>\n",
       "      <th>18</th>\n",
       "      <td>83.0</td>\n",
       "      <td>4.978125</td>\n",
       "      <td>3.0</td>\n",
       "      <td>9.108799</td>\n",
       "      <td>0.990</td>\n",
       "      <td>107.0</td>\n",
       "      <td>8.032644</td>\n",
       "      <td>5.0</td>\n",
       "      <td>11.305297</td>\n",
       "      <td>3.054519</td>\n",
       "      <td>85.728401</td>\n",
       "      <td>69.725456</td>\n",
       "      <td>351.383108</td>\n",
       "      <td>281.095401</td>\n",
       "      <td>4800.0</td>\n",
       "      <td>3800.0</td>\n",
       "      <td>2.196498</td>\n",
       "    </tr>\n",
       "    <tr>\n",
       "      <th>19</th>\n",
       "      <td>122.0</td>\n",
       "      <td>5.447626</td>\n",
       "      <td>3.0</td>\n",
       "      <td>11.297644</td>\n",
       "      <td>0.995</td>\n",
       "      <td>164.0</td>\n",
       "      <td>8.658390</td>\n",
       "      <td>5.0</td>\n",
       "      <td>14.343354</td>\n",
       "      <td>3.210764</td>\n",
       "      <td>125.149177</td>\n",
       "      <td>93.900060</td>\n",
       "      <td>607.611478</td>\n",
       "      <td>437.769092</td>\n",
       "      <td>11400.0</td>\n",
       "      <td>7800.0</td>\n",
       "      <td>3.045710</td>\n",
       "    </tr>\n",
       "    <tr>\n",
       "      <th>20</th>\n",
       "      <td>34433.0</td>\n",
       "      <td>6.919862</td>\n",
       "      <td>3.0</td>\n",
       "      <td>62.558937</td>\n",
       "      <td>1.000</td>\n",
       "      <td>5442.0</td>\n",
       "      <td>10.344142</td>\n",
       "      <td>5.0</td>\n",
       "      <td>45.425152</td>\n",
       "      <td>3.424280</td>\n",
       "      <td>337.150401</td>\n",
       "      <td>294.447284</td>\n",
       "      <td>6216.359534</td>\n",
       "      <td>10252.258566</td>\n",
       "      <td>1055600.0</td>\n",
       "      <td>6862200.0</td>\n",
       "      <td>-17.133785</td>\n",
       "    </tr>\n",
       "  </tbody>\n",
       "</table>\n",
       "</div>"
      ],
      "text/plain": [
       "    no-turnstile-max  no-turnstile-mean  no-turnstile-median  \\\n",
       "0               10.0           2.787104                  2.0   \n",
       "1               10.0           2.787104                  2.0   \n",
       "2               11.0           2.849274                  2.0   \n",
       "3               12.0           2.906771                  2.0   \n",
       "4               13.0           2.960842                  2.0   \n",
       "5               14.0           3.011421                  2.0   \n",
       "6               15.0           3.058377                  2.0   \n",
       "7               16.0           3.101762                  2.0   \n",
       "8               18.0           3.184591                  2.0   \n",
       "9               20.0           3.262136                  2.0   \n",
       "10              23.0           3.364932                  3.0   \n",
       "11              26.0           3.460821                  3.0   \n",
       "12              31.0           3.621071                  3.0   \n",
       "13              35.0           3.756922                  3.0   \n",
       "14              40.0           3.932738                  3.0   \n",
       "15              46.0           4.131538                  3.0   \n",
       "16              53.0           4.351961                  3.0   \n",
       "17              64.0           4.629498                  3.0   \n",
       "18              83.0           4.978125                  3.0   \n",
       "19             122.0           5.447626                  3.0   \n",
       "20           34433.0           6.919862                  3.0   \n",
       "\n",
       "    no-turnstile-std  percentile  turnstile-max  turnstile-mean  \\\n",
       "0           1.942562       0.900           15.0        5.278718   \n",
       "1           1.942562       0.905           16.0        5.351819   \n",
       "2           2.061967       0.910           16.0        5.351819   \n",
       "3           2.178952       0.915           17.0        5.423119   \n",
       "4           2.294608       0.920           18.0        5.481369   \n",
       "5           2.407673       0.925           20.0        5.593633   \n",
       "6           2.516927       0.930           21.0        5.642129   \n",
       "7           2.621693       0.935           23.0        5.741754   \n",
       "8           2.831620       0.940           25.0        5.829764   \n",
       "9           3.039535       0.945           28.0        5.953951   \n",
       "10          3.331788       0.950           31.0        6.067957   \n",
       "11          3.621646       0.955           35.0        6.224877   \n",
       "12          4.136148       0.960           39.0        6.382029   \n",
       "13          4.590581       0.965           43.0        6.532002   \n",
       "14          5.192272       0.970           50.0        6.767107   \n",
       "15          5.886269       0.975           57.0        6.992036   \n",
       "16          6.672958       0.980           67.0        7.259922   \n",
       "17          7.703322       0.985           83.0        7.604002   \n",
       "18          9.108799       0.990          107.0        8.032644   \n",
       "19         11.297644       0.995          164.0        8.658390   \n",
       "20         62.558937       1.000         5442.0       10.344142   \n",
       "\n",
       "    turnstile-median  turnstile-std  difference_means  turnstile-mean-slope  \\\n",
       "0                5.0       2.692717          2.491614              0.000000   \n",
       "1                5.0       2.824833          2.564714             14.620058   \n",
       "2                5.0       2.824833          2.502545             -0.000000   \n",
       "3                5.0       2.959102          2.516348             14.260026   \n",
       "4                5.0       3.073264          2.520527             11.650122   \n",
       "5                5.0       3.305143          2.582212             22.452668   \n",
       "6                5.0       3.410923          2.583752              9.699289   \n",
       "7                5.0       3.637605          2.639992             19.924942   \n",
       "8                5.0       3.848696          2.645173             17.601947   \n",
       "9                5.0       4.164007          2.691815             24.837437   \n",
       "10               5.0       4.470344          2.703025             22.801143   \n",
       "11               5.0       4.914520          2.764057             31.384151   \n",
       "12               5.0       5.378642          2.760958             31.430390   \n",
       "13               5.0       5.834784          2.775081             29.994606   \n",
       "14               5.0       6.578998          2.834369             47.021025   \n",
       "15               5.0       7.323901          2.860499             44.985814   \n",
       "16               5.0       8.256989          2.907960             53.577035   \n",
       "17               5.0       9.548381          2.974504             68.816108   \n",
       "18               5.0      11.305297          3.054519             85.728401   \n",
       "19               5.0      14.343354          3.210764            125.149177   \n",
       "20               5.0      45.425152          3.424280            337.150401   \n",
       "\n",
       "    no-turnstile-mean-slope  turnstile-std-slope  no-turnstile-std-slope  \\\n",
       "0                  0.000000             0.000000                0.000000   \n",
       "1                 -0.000000            26.423230               -0.000000   \n",
       "2                 12.433874            -0.000000               23.881023   \n",
       "3                 11.499459            26.853640               23.396889   \n",
       "4                 10.814220            22.832553               23.131197   \n",
       "5                 10.115773            46.375645               22.613126   \n",
       "6                  9.391237            21.155979               21.850653   \n",
       "7                  8.677009            45.336577               20.953262   \n",
       "8                 16.565678            42.218096               41.985377   \n",
       "9                 15.509080            63.062300               41.583092   \n",
       "10                20.559121            61.267373               58.450488   \n",
       "11                19.177784            88.835235               57.971570   \n",
       "12                32.050043            92.824300              102.900564   \n",
       "13                27.170173            91.228502               90.886562   \n",
       "14                35.163366           148.842673              120.338245   \n",
       "15                39.759856           148.980674              138.799421   \n",
       "16                44.084741           186.617498              157.337787   \n",
       "17                55.507320           258.278527              206.072620   \n",
       "18                69.725456           351.383108              281.095401   \n",
       "19                93.900060           607.611478              437.769092   \n",
       "20               294.447284          6216.359534            10252.258566   \n",
       "\n",
       "    turnstile-max-slope  no-turnstile-max-slope  difference_stds  \n",
       "0                   0.0                     0.0         0.750155  \n",
       "1                 200.0                    -0.0         0.882271  \n",
       "2                  -0.0                   200.0         0.762866  \n",
       "3                 200.0                   200.0         0.780150  \n",
       "4                 200.0                   200.0         0.778657  \n",
       "5                 400.0                   200.0         0.897469  \n",
       "6                 200.0                   200.0         0.893996  \n",
       "7                 400.0                   200.0         1.015913  \n",
       "8                 400.0                   400.0         1.017076  \n",
       "9                 600.0                   400.0         1.124472  \n",
       "10                600.0                   600.0         1.138557  \n",
       "11                800.0                   600.0         1.292875  \n",
       "12                800.0                  1000.0         1.242494  \n",
       "13                800.0                   800.0         1.244203  \n",
       "14               1400.0                  1000.0         1.386725  \n",
       "15               1400.0                  1200.0         1.437632  \n",
       "16               2000.0                  1400.0         1.584030  \n",
       "17               3200.0                  2200.0         1.845060  \n",
       "18               4800.0                  3800.0         2.196498  \n",
       "19              11400.0                  7800.0         3.045710  \n",
       "20            1055600.0               6862200.0       -17.133785  "
      ]
     },
     "execution_count": 30,
     "metadata": {},
     "output_type": "execute_result"
    }
   ],
   "source": [
    "summary_df"
   ]
  },
  {
   "cell_type": "code",
   "execution_count": 31,
   "metadata": {},
   "outputs": [
    {
     "data": {
      "text/plain": [
       "0.75015515936459032"
      ]
     },
     "execution_count": 31,
     "metadata": {},
     "output_type": "execute_result"
    }
   ],
   "source": [
    "summary_df.loc[summary_df['percentile']!=1.000,'difference_stds'].min()"
   ]
  },
  {
   "cell_type": "code",
   "execution_count": 32,
   "metadata": {},
   "outputs": [
    {
     "data": {
      "text/plain": [
       "3.0457102493399724"
      ]
     },
     "execution_count": 32,
     "metadata": {},
     "output_type": "execute_result"
    }
   ],
   "source": [
    "summary_df['difference_stds'].max()"
   ]
  },
  {
   "cell_type": "markdown",
   "metadata": {},
   "source": [
    "### Closed"
   ]
  }
 ],
 "metadata": {
  "kernelspec": {
   "display_name": "Python 3",
   "language": "python",
   "name": "python3"
  },
  "language_info": {
   "codemirror_mode": {
    "name": "ipython",
    "version": 3
   },
   "file_extension": ".py",
   "mimetype": "text/x-python",
   "name": "python",
   "nbconvert_exporter": "python",
   "pygments_lexer": "ipython3",
   "version": "3.6.1"
  }
 },
 "nbformat": 4,
 "nbformat_minor": 2
}
