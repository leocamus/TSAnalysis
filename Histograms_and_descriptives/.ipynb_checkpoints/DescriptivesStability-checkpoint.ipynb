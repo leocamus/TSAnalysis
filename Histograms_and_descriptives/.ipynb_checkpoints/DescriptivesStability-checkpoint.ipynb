{
 "cells": [
  {
   "cell_type": "markdown",
   "metadata": {},
   "source": [
    "# Studying descriptive statistics stability"
   ]
  },
  {
   "cell_type": "code",
   "execution_count": 1,
   "metadata": {
    "collapsed": true
   },
   "outputs": [],
   "source": [
    "import os\n",
    "import sys\n",
    "module_path = os.path.abspath(os.path.join('..'))\n",
    "if module_path not in sys.path:\n",
    "    sys.path.append(module_path)"
   ]
  },
  {
   "cell_type": "code",
   "execution_count": 2,
   "metadata": {
    "collapsed": true
   },
   "outputs": [],
   "source": [
    "%matplotlib inline\n",
    "import pandas as pd\n",
    "import matplotlib\n",
    "import matplotlib.pyplot as plt\n",
    "import numpy as np\n",
    "from importlib import reload\n",
    "import datetime\n",
    "import DailyEtapasBuilder"
   ]
  },
  {
   "cell_type": "code",
   "execution_count": 3,
   "metadata": {},
   "outputs": [],
   "source": [
    "date = '2017-03-01' #First date.\n",
    "#Creating the object.\n",
    "etapas_builder = DailyEtapasBuilder.RunSilentlyDailyEtapasBuilderClass(date)\n",
    "#Building.\n",
    "etapas_builder.loadSimplifiedEtapas()\n",
    "etapas_builder.cleanDataFrame() #Be aware of this condition\n",
    "etapas_builder.mergeTurnstileData()\n",
    "etapas_builder.sortDataFrame()\n",
    "etapas_builder.postProcessingSortedDataFrame()\n",
    "#Retrieving the info.\n",
    "etapas_df = etapas_builder.etapas_df\n",
    "[filtered_df,filtered_turnstile_df, filtered_no_turnstile_df] = etapas_builder.filteringDf()"
   ]
  },
  {
   "cell_type": "markdown",
   "metadata": {},
   "source": [
    "### Data Distribution"
   ]
  },
  {
   "cell_type": "code",
   "execution_count": 4,
   "metadata": {
    "collapsed": true
   },
   "outputs": [],
   "source": [
    "threshold = 120 #In seconds\n",
    "\n",
    "time_keys = []\n",
    "\n",
    "cumulative_counts_turnstile = []\n",
    "cumulative_counts_noturnstile = []\n",
    "\n",
    "total_count_turnstile = filtered_turnstile_df.count()[0]\n",
    "total_count_noturnstile = filtered_no_turnstile_df.count()[0]\n",
    "\n",
    "for i in range(0,threshold):\n",
    "    time_keys.append(i)\n",
    "    cumulative_counts_turnstile.append(filtered_turnstile_df[filtered_turnstile_df['diferencia_tiempo_secs']<i].count()[0])\n",
    "    cumulative_counts_noturnstile.append(filtered_no_turnstile_df[filtered_no_turnstile_df['diferencia_tiempo_secs']<i].count()[0])\n",
    "\n",
    "\n",
    "cumulative_counts_turnstile = cumulative_counts_turnstile/total_count_turnstile*100\n",
    "cumulative_counts_noturnstile = cumulative_counts_noturnstile/total_count_noturnstile*100"
   ]
  },
  {
   "cell_type": "code",
   "execution_count": 5,
   "metadata": {},
   "outputs": [
    {
     "name": "stdout",
     "output_type": "stream",
     "text": [
      "99.1668367408\n",
      "99.4831399749\n"
     ]
    }
   ],
   "source": [
    "count_turnstile = filtered_turnstile_df[filtered_turnstile_df['diferencia_tiempo_secs']<=threshold].count()[0]\n",
    "count_noturnstile = filtered_no_turnstile_df[filtered_no_turnstile_df['diferencia_tiempo_secs']<=threshold].count()[0]\n",
    "\n",
    "\n",
    "percent_turnstile = (count_turnstile/total_count_turnstile)*100\n",
    "percent_noturnstile = (count_noturnstile/total_count_noturnstile)*100\n",
    "\n",
    "print(percent_turnstile)\n",
    "print(percent_noturnstile)"
   ]
  },
  {
   "cell_type": "code",
   "execution_count": 6,
   "metadata": {
    "collapsed": true
   },
   "outputs": [],
   "source": [
    "colors = [(85,98,112),(78,205,196),(199,244,100),(255,107,107),(196,77,88)]\n",
    "for i in range(len(colors)):\n",
    "    r, g, b = colors[i]  \n",
    "    colors[i] = (r / 255., g / 255., b / 255.)"
   ]
  },
  {
   "cell_type": "code",
   "execution_count": 7,
   "metadata": {},
   "outputs": [
    {
     "data": {
      "image/png": "[encoded data removed]",
      "text/plain": [
       "<matplotlib.figure.Figure at 0x1e43cb80588>"
      ]
     },
     "metadata": {},
     "output_type": "display_data"
    }
   ],
   "source": [
    "fig_1, ax_1 = plt.subplots()\n",
    "ax_1.plot(time_keys,cumulative_counts_noturnstile,color=colors[0],label='sin torniquete')\n",
    "ax_1.plot(time_keys,cumulative_counts_turnstile,color=colors[3],label='con torniquete mariposa')\n",
    "ax_1.set_title('Distribución acumulada intervalo entre validaciones - 01/03/2017')\n",
    "ax_1.set_xlabel('Intervalo [s]')\n",
    "ax_1.set_xlim(0,100)\n",
    "ax_1.set_ylabel('% de observaciones')\n",
    "ax_1.legend()\n",
    "ax_1.grid(True)\n",
    "plt.savefig('C:/Users/Tesista/Desktop/Evasion/03_report/02_Figs/2_IntervaloVsObs_' + date + '.pdf')"
   ]
  },
  {
   "cell_type": "markdown",
   "metadata": {},
   "source": [
    "### Descriptive statistics stability"
   ]
  },
  {
   "cell_type": "code",
   "execution_count": 8,
   "metadata": {
    "collapsed": true,
    "scrolled": true
   },
   "outputs": [],
   "source": [
    "percentiles = np.arange(0.9, 1.005, 0.005)\n",
    "\n",
    "turnstile_mean_percentiles = []\n",
    "turnstile_std_percentiles = []\n",
    "turnstile_min_percentiles = []\n",
    "turnstile_25_percentiles = []\n",
    "turnstile_50_percentiles = []\n",
    "turnstile_75_percentiles = []\n",
    "turnstile_max_percentiles = []\n",
    "\n",
    "no_turnstile_mean_percentiles = []\n",
    "no_turnstile_std_percentiles = []\n",
    "no_turnstile_min_percentiles = []\n",
    "no_turnstile_25_percentiles = []\n",
    "no_turnstile_50_percentiles = []\n",
    "no_turnstile_75_percentiles = []\n",
    "no_turnstile_max_percentiles = []\n",
    "\n",
    "\n",
    "for i in percentiles:\n",
    "    time = filtered_df['diferencia_tiempo'].quantile(i)\n",
    "    percentile_df = filtered_df[filtered_df['diferencia_tiempo']<=time]\n",
    "    turnstile_percentile_df = percentile_df[percentile_df['torniquete_mariposa']==1]    \n",
    "    turnstile_descriptive = turnstile_percentile_df.describe()\n",
    "    turnstile_mean_percentiles.append(turnstile_descriptive['diferencia_tiempo_secs'].loc['mean'])\n",
    "    turnstile_std_percentiles.append(turnstile_descriptive['diferencia_tiempo_secs'].loc['std'])\n",
    "    turnstile_min_percentiles.append(turnstile_descriptive['diferencia_tiempo_secs'].loc['min'])\n",
    "    turnstile_25_percentiles.append(turnstile_descriptive['diferencia_tiempo_secs'].loc['25%'])\n",
    "    turnstile_50_percentiles.append(turnstile_descriptive['diferencia_tiempo_secs'].loc['50%'])\n",
    "    turnstile_75_percentiles.append(turnstile_descriptive['diferencia_tiempo_secs'].loc['75%'])\n",
    "    turnstile_max_percentiles.append(turnstile_descriptive['diferencia_tiempo_secs'].loc['max'])\n",
    "    \n",
    "    no_turnstile_percentile_df = percentile_df[percentile_df['no_torniquete']==1]\n",
    "    no_turnstile_descriptive = no_turnstile_percentile_df.describe()\n",
    "    no_turnstile_mean_percentiles.append(no_turnstile_descriptive['diferencia_tiempo_secs'].loc['mean'])\n",
    "    no_turnstile_std_percentiles.append(no_turnstile_descriptive['diferencia_tiempo_secs'].loc['std'])\n",
    "    no_turnstile_min_percentiles.append(no_turnstile_descriptive['diferencia_tiempo_secs'].loc['min'])\n",
    "    no_turnstile_25_percentiles.append(no_turnstile_descriptive['diferencia_tiempo_secs'].loc['25%'])\n",
    "    no_turnstile_50_percentiles.append(no_turnstile_descriptive['diferencia_tiempo_secs'].loc['50%'])\n",
    "    no_turnstile_75_percentiles.append(no_turnstile_descriptive['diferencia_tiempo_secs'].loc['75%'])\n",
    "    no_turnstile_max_percentiles.append(no_turnstile_descriptive['diferencia_tiempo_secs'].loc['max'])\n"
   ]
  },
  {
   "cell_type": "code",
   "execution_count": 9,
   "metadata": {
    "collapsed": true,
    "scrolled": true
   },
   "outputs": [],
   "source": [
    "summary_df = pd.DataFrame({'percentile': percentiles,\n",
    "                          'turnstile-mean': turnstile_mean_percentiles,\n",
    "                          'turnstile-std': turnstile_std_percentiles,\n",
    "                          'turnstile-median': turnstile_50_percentiles,\n",
    "                          'turnstile-max': turnstile_max_percentiles,\n",
    "                          'no-turnstile-mean': no_turnstile_mean_percentiles,\n",
    "                          'no-turnstile-std': no_turnstile_std_percentiles,\n",
    "                          'no-turnstile-median': no_turnstile_50_percentiles,\n",
    "                          'no-turnstile-max': no_turnstile_max_percentiles})\n"
   ]
  },
  {
   "cell_type": "code",
   "execution_count": 10,
   "metadata": {
    "collapsed": true
   },
   "outputs": [],
   "source": [
    "def slope_calc(x,y):\n",
    "    delta_y = (y.shift()-y)\n",
    "    delta_x = (x.shift()-x)\n",
    "    slope = (delta_y/delta_x).fillna(0)\n",
    "    return slope\n"
   ]
  },
  {
   "cell_type": "code",
   "execution_count": 11,
   "metadata": {
    "collapsed": true
   },
   "outputs": [],
   "source": [
    "summary_df['difference_means'] = summary_df['turnstile-mean']-summary_df['no-turnstile-mean']"
   ]
  },
  {
   "cell_type": "code",
   "execution_count": 12,
   "metadata": {
    "scrolled": true
   },
   "outputs": [
    {
     "data": {
      "text/plain": [
       "2.06647788383777"
      ]
     },
     "execution_count": 12,
     "metadata": {},
     "output_type": "execute_result"
    }
   ],
   "source": [
    "summary_df['difference_means'].min()"
   ]
  },
  {
   "cell_type": "code",
   "execution_count": 13,
   "metadata": {},
   "outputs": [
    {
     "data": {
      "text/plain": [
       "3.4242799969864226"
      ]
     },
     "execution_count": 13,
     "metadata": {},
     "output_type": "execute_result"
    }
   ],
   "source": [
    "summary_df['difference_means'].max()"
   ]
  },
  {
   "cell_type": "code",
   "execution_count": 14,
   "metadata": {
    "collapsed": true
   },
   "outputs": [],
   "source": [
    "summary_df['turnstile-mean-slope'] = slope_calc(summary_df['percentile'],summary_df['turnstile-mean'])\n",
    "summary_df['no-turnstile-mean-slope'] = slope_calc(summary_df['percentile'],summary_df['no-turnstile-mean'])\n",
    "\n",
    "summary_df['turnstile-std-slope'] = slope_calc(summary_df['percentile'],summary_df['turnstile-std'])\n",
    "summary_df['no-turnstile-std-slope'] = slope_calc(summary_df['percentile'],summary_df['no-turnstile-std'])\n",
    "\n",
    "summary_df['turnstile-max-slope'] = slope_calc(summary_df['percentile'],summary_df['turnstile-max'])\n",
    "summary_df['no-turnstile-max-slope'] = slope_calc(summary_df['percentile'],summary_df['no-turnstile-max'])\n"
   ]
  },
  {
   "cell_type": "code",
   "execution_count": 15,
   "metadata": {
    "collapsed": true
   },
   "outputs": [],
   "source": [
    "turnstile_mean_slope = summary_df['turnstile-mean-slope'].values\n",
    "no_turnstile_mean_slope = summary_df['no-turnstile-mean-slope'].values\n",
    "\n",
    "turnstile_std_slope = summary_df['turnstile-std-slope'].values\n",
    "no_turnstile_std_slope = summary_df['no-turnstile-std-slope'].values\n",
    "\n",
    "turnstile_max_slope = summary_df['turnstile-max-slope'].values\n",
    "no_turnstile_max_slope = summary_df['no-turnstile-max-slope'].values"
   ]
  },
  {
   "cell_type": "code",
   "execution_count": 16,
   "metadata": {
    "collapsed": true
   },
   "outputs": [],
   "source": [
    "#cols = ['percentile', \n",
    "#        'turnstile-mean', 'turnstile-mean-slope' ,'no-turnstile-mean', 'no-turnstile-mean-slope',\n",
    "#        'turnstile-std', 'turnstile-std-slope', 'no-turnstile-std', 'no-turnstile-std-slope',\n",
    "#        'turnstile-median', 'no-turnstile-median', \n",
    "#        'turnstile-max','turnstile-max-slope', 'no-turnstile-max', 'no-turnstile-max-slope']\n",
    "#summary_df = summary_df[cols]\n"
   ]
  },
  {
   "cell_type": "markdown",
   "metadata": {},
   "source": [
    "* To LaTeX"
   ]
  },
  {
   "cell_type": "code",
   "execution_count": 17,
   "metadata": {
    "collapsed": true
   },
   "outputs": [],
   "source": [
    "#means_df = summary_df[['percentile','turnstile-mean','turnstile-mean-slope','no-turnstile-mean','no-turnstile-mean-slope']]\n",
    "#stds_df = summary_df[['percentile','turnstile-std','turnstile-std-slope','no-turnstile-std','no-turnstile-std-slope']]\n",
    "#maxs_df = summary_df[['percentile','turnstile-max','turnstile-max-slope','no-turnstile-max','no-turnstile-max-slope']]"
   ]
  },
  {
   "cell_type": "code",
   "execution_count": 18,
   "metadata": {
    "collapsed": true
   },
   "outputs": [],
   "source": [
    "#means_df"
   ]
  },
  {
   "cell_type": "code",
   "execution_count": 19,
   "metadata": {
    "collapsed": true
   },
   "outputs": [],
   "source": [
    "#stds_df"
   ]
  },
  {
   "cell_type": "code",
   "execution_count": 20,
   "metadata": {
    "collapsed": true
   },
   "outputs": [],
   "source": [
    "#maxs_df"
   ]
  },
  {
   "cell_type": "markdown",
   "metadata": {},
   "source": [
    "* To plotting"
   ]
  },
  {
   "cell_type": "code",
   "execution_count": 21,
   "metadata": {},
   "outputs": [
    {
     "data": {
      "image/png": "[encoded data removed]",
      "text/plain": [
       "<matplotlib.figure.Figure at 0x1e446da1630>"
      ]
     },
     "metadata": {},
     "output_type": "display_data"
    }
   ],
   "source": [
    "fig_2, ax_2 = plt.subplots()\n",
    "\n",
    "ax_2.plot(percentiles,turnstile_mean_percentiles,'-o',color=colors[3],label='con torniquete mariposa')\n",
    "ax_2.plot(percentiles,no_turnstile_mean_percentiles,'-o',color=colors[0],label='sin torniquete')\n",
    "\n",
    "ax_2.set_title('Percentil vs. Intervalo Promedio - 01/03/2017')\n",
    "ax_2.set_xlabel('Percentil')\n",
    "ax_2.set_ylabel('Intervalo promedio [s]')\n",
    "ax_2.legend()\n",
    "ax_2.grid(True)\n",
    "plt.savefig('C:/Users/Tesista/Desktop/Evasion/03_report/02_Figs/2_percentilVsPromedio_' + date + '.pdf')"
   ]
  },
  {
   "cell_type": "code",
   "execution_count": 22,
   "metadata": {
    "scrolled": true
   },
   "outputs": [
    {
     "data": {
      "image/png": "[encoded data removed]",
      "text/plain": [
       "<matplotlib.figure.Figure at 0x1e4452c9128>"
      ]
     },
     "metadata": {},
     "output_type": "display_data"
    }
   ],
   "source": [
    "fig_3, ax_3 = plt.subplots()\n",
    "ax_3.plot(percentiles,turnstile_50_percentiles,'-o',color=colors[3],label='con torniquete mariposa')\n",
    "ax_3.plot(percentiles,no_turnstile_50_percentiles, '-o', color=colors[0], label='sin torniquete')\n",
    "ax_3.legend()\n",
    "ax_3.set_title('Percentil vs. Mediana del intervalo - 01/03/2017')\n",
    "ax_3.set_xlabel('Percentil')\n",
    "ax_3.set_ylabel('Mediana del intervalo [s]')\n",
    "ax_3.grid(True)\n",
    "plt.savefig('C:/Users/Tesista/Desktop/Evasion/03_report/02_Figs/2_percentilVsMediana_' + date + '.pdf')"
   ]
  },
  {
   "cell_type": "code",
   "execution_count": 23,
   "metadata": {
    "scrolled": true
   },
   "outputs": [
    {
     "data": {
      "image/png": "[encoded data removed]",
      "text/plain": [
       "<matplotlib.figure.Figure at 0x1e443069160>"
      ]
     },
     "metadata": {},
     "output_type": "display_data"
    }
   ],
   "source": [
    "fig_4, ax_4 = plt.subplots()\n",
    "\n",
    "#Filtering for plotting:\n",
    "new_percentiles = percentiles[percentiles<1]\n",
    "new_turnstile_std_percentiles = [x for x in turnstile_std_percentiles if x < 20]\n",
    "new_no_turnstile_std_percentiles = [x for x in no_turnstile_std_percentiles if x < 20]\n",
    "#End of filter.\n",
    "\n",
    "ax_4.plot(new_percentiles,new_turnstile_std_percentiles,'-o',color=colors[3],label='con torniquete mariposa')\n",
    "ax_4.plot(new_percentiles,new_no_turnstile_std_percentiles, '-o', color=colors[0], label='sin torniquete')\n",
    "ax_4.legend()\n",
    "ax_4.set_title('Percentil vs. Desviación Estándar del Intervalo - 01/03/2017')\n",
    "ax_4.set_xlabel('Percentil')\n",
    "ax_4.set_ylabel('Desviación Estándar del Intervalo [s]')\n",
    "ax_4.grid(True)\n",
    "\n",
    "plt.savefig('C:/Users/Tesista/Desktop/Evasion/03_report/02_Figs/2_percentilVsStd_' + date + '.pdf')"
   ]
  },
  {
   "cell_type": "code",
   "execution_count": 24,
   "metadata": {},
   "outputs": [
    {
     "data": {
      "image/png": "[encoded data removed]",
      "text/plain": [
       "<matplotlib.figure.Figure at 0x1e44305e7f0>"
      ]
     },
     "metadata": {},
     "output_type": "display_data"
    }
   ],
   "source": [
    "fig_5, ax_5 = plt.subplots()\n",
    "\n",
    "#Filtering for plotting:\n",
    "new_turnstile_max_percentiles = [x for x in turnstile_max_percentiles if x < 200]\n",
    "new_no_turnstile_max_percentiles = [x for x in no_turnstile_max_percentiles if x < 200]\n",
    "#End of filter.\n",
    "\n",
    "ax_5.plot(new_percentiles,new_turnstile_max_percentiles,'-o',color=colors[3],label='con torniquete mariposa')\n",
    "ax_5.plot(new_percentiles,new_no_turnstile_max_percentiles, '-o', color=colors[0], label='sin torniquete')\n",
    "ax_5.legend()\n",
    "ax_5.set_title('Percentil vs. Intervalo Máximo - 01/03/2017')\n",
    "ax_5.set_xlabel('Percentil')\n",
    "ax_5.set_ylabel('Intervalo Máximo [s]')\n",
    "ax_5.grid(True)\n",
    "\n",
    "plt.savefig('C:/Users/Tesista/Desktop/Evasion/03_report/02_Figs/2_percentilVsMax_' + date + '.pdf')"
   ]
  },
  {
   "cell_type": "code",
   "execution_count": 25,
   "metadata": {
    "collapsed": true
   },
   "outputs": [],
   "source": [
    "summary_df['difference_stds'] = summary_df['turnstile-std']-summary_df['no-turnstile-std']"
   ]
  },
  {
   "cell_type": "code",
   "execution_count": 26,
   "metadata": {},
   "outputs": [
    {
     "data": {
      "text/html": [
       "<div>\n",
       "<style>\n",
       "    .dataframe thead tr:only-child th {\n",
       "        text-align: right;\n",
       "    }\n",
       "\n",
       "    .dataframe thead th {\n",
       "        text-align: left;\n",
       "    }\n",
       "\n",
       "    .dataframe tbody tr th {\n",
       "        vertical-align: top;\n",
       "    }\n",
       "</style>\n",
       "<table border=\"1\" class=\"dataframe\">\n",
       "  <thead>\n",
       "    <tr style=\"text-align: right;\">\n",
       "      <th></th>\n",
       "      <th>no-turnstile-max</th>\n",
       "      <th>no-turnstile-mean</th>\n",
       "      <th>no-turnstile-median</th>\n",
       "      <th>no-turnstile-std</th>\n",
       "      <th>percentile</th>\n",
       "      <th>turnstile-max</th>\n",
       "      <th>turnstile-mean</th>\n",
       "      <th>turnstile-median</th>\n",
       "      <th>turnstile-std</th>\n",
       "      <th>difference_means</th>\n",
       "      <th>turnstile-mean-slope</th>\n",
       "      <th>no-turnstile-mean-slope</th>\n",
       "      <th>turnstile-std-slope</th>\n",
       "      <th>no-turnstile-std-slope</th>\n",
       "      <th>turnstile-max-slope</th>\n",
       "      <th>no-turnstile-max-slope</th>\n",
       "      <th>difference_stds</th>\n",
       "    </tr>\n",
       "  </thead>\n",
       "  <tbody>\n",
       "    <tr>\n",
       "      <th>0</th>\n",
       "      <td>11.0</td>\n",
       "      <td>2.849274</td>\n",
       "      <td>2.0</td>\n",
       "      <td>2.061967</td>\n",
       "      <td>0.900</td>\n",
       "      <td>11.0</td>\n",
       "      <td>4.915752</td>\n",
       "      <td>5.0</td>\n",
       "      <td>2.119617</td>\n",
       "      <td>2.066478</td>\n",
       "      <td>0.000000</td>\n",
       "      <td>0.000000</td>\n",
       "      <td>0.000000</td>\n",
       "      <td>0.000000</td>\n",
       "      <td>0.0</td>\n",
       "      <td>0.0</td>\n",
       "      <td>0.057650</td>\n",
       "    </tr>\n",
       "    <tr>\n",
       "      <th>1</th>\n",
       "      <td>12.0</td>\n",
       "      <td>2.906771</td>\n",
       "      <td>2.0</td>\n",
       "      <td>2.178952</td>\n",
       "      <td>0.905</td>\n",
       "      <td>12.0</td>\n",
       "      <td>5.018864</td>\n",
       "      <td>5.0</td>\n",
       "      <td>2.268752</td>\n",
       "      <td>2.112093</td>\n",
       "      <td>20.622537</td>\n",
       "      <td>11.499459</td>\n",
       "      <td>29.826992</td>\n",
       "      <td>23.396889</td>\n",
       "      <td>200.0</td>\n",
       "      <td>200.0</td>\n",
       "      <td>0.089800</td>\n",
       "    </tr>\n",
       "    <tr>\n",
       "      <th>2</th>\n",
       "      <td>12.0</td>\n",
       "      <td>2.906771</td>\n",
       "      <td>2.0</td>\n",
       "      <td>2.178952</td>\n",
       "      <td>0.910</td>\n",
       "      <td>12.0</td>\n",
       "      <td>5.018864</td>\n",
       "      <td>5.0</td>\n",
       "      <td>2.268752</td>\n",
       "      <td>2.112093</td>\n",
       "      <td>-0.000000</td>\n",
       "      <td>-0.000000</td>\n",
       "      <td>-0.000000</td>\n",
       "      <td>-0.000000</td>\n",
       "      <td>-0.0</td>\n",
       "      <td>-0.0</td>\n",
       "      <td>0.089800</td>\n",
       "    </tr>\n",
       "    <tr>\n",
       "      <th>3</th>\n",
       "      <td>13.0</td>\n",
       "      <td>2.960842</td>\n",
       "      <td>2.0</td>\n",
       "      <td>2.294608</td>\n",
       "      <td>0.915</td>\n",
       "      <td>13.0</td>\n",
       "      <td>5.111134</td>\n",
       "      <td>5.0</td>\n",
       "      <td>2.411564</td>\n",
       "      <td>2.150292</td>\n",
       "      <td>18.453867</td>\n",
       "      <td>10.814220</td>\n",
       "      <td>28.562289</td>\n",
       "      <td>23.131197</td>\n",
       "      <td>200.0</td>\n",
       "      <td>200.0</td>\n",
       "      <td>0.116956</td>\n",
       "    </tr>\n",
       "    <tr>\n",
       "      <th>4</th>\n",
       "      <td>14.0</td>\n",
       "      <td>3.011421</td>\n",
       "      <td>2.0</td>\n",
       "      <td>2.407673</td>\n",
       "      <td>0.920</td>\n",
       "      <td>14.0</td>\n",
       "      <td>5.201432</td>\n",
       "      <td>5.0</td>\n",
       "      <td>2.559505</td>\n",
       "      <td>2.190011</td>\n",
       "      <td>18.059692</td>\n",
       "      <td>10.115773</td>\n",
       "      <td>29.588333</td>\n",
       "      <td>22.613126</td>\n",
       "      <td>200.0</td>\n",
       "      <td>200.0</td>\n",
       "      <td>0.151832</td>\n",
       "    </tr>\n",
       "    <tr>\n",
       "      <th>5</th>\n",
       "      <td>15.0</td>\n",
       "      <td>3.058377</td>\n",
       "      <td>2.0</td>\n",
       "      <td>2.516927</td>\n",
       "      <td>0.925</td>\n",
       "      <td>15.0</td>\n",
       "      <td>5.278718</td>\n",
       "      <td>5.0</td>\n",
       "      <td>2.692717</td>\n",
       "      <td>2.220341</td>\n",
       "      <td>15.457248</td>\n",
       "      <td>9.391237</td>\n",
       "      <td>26.642398</td>\n",
       "      <td>21.850653</td>\n",
       "      <td>200.0</td>\n",
       "      <td>200.0</td>\n",
       "      <td>0.175791</td>\n",
       "    </tr>\n",
       "    <tr>\n",
       "      <th>6</th>\n",
       "      <td>16.0</td>\n",
       "      <td>3.101762</td>\n",
       "      <td>2.0</td>\n",
       "      <td>2.621693</td>\n",
       "      <td>0.930</td>\n",
       "      <td>16.0</td>\n",
       "      <td>5.351819</td>\n",
       "      <td>5.0</td>\n",
       "      <td>2.824833</td>\n",
       "      <td>2.250056</td>\n",
       "      <td>14.620058</td>\n",
       "      <td>8.677009</td>\n",
       "      <td>26.423230</td>\n",
       "      <td>20.953262</td>\n",
       "      <td>200.0</td>\n",
       "      <td>200.0</td>\n",
       "      <td>0.203141</td>\n",
       "    </tr>\n",
       "    <tr>\n",
       "      <th>7</th>\n",
       "      <td>18.0</td>\n",
       "      <td>3.184591</td>\n",
       "      <td>2.0</td>\n",
       "      <td>2.831620</td>\n",
       "      <td>0.935</td>\n",
       "      <td>18.0</td>\n",
       "      <td>5.481369</td>\n",
       "      <td>5.0</td>\n",
       "      <td>3.073264</td>\n",
       "      <td>2.296779</td>\n",
       "      <td>25.910148</td>\n",
       "      <td>16.565678</td>\n",
       "      <td>49.686193</td>\n",
       "      <td>41.985377</td>\n",
       "      <td>400.0</td>\n",
       "      <td>400.0</td>\n",
       "      <td>0.241645</td>\n",
       "    </tr>\n",
       "    <tr>\n",
       "      <th>8</th>\n",
       "      <td>19.0</td>\n",
       "      <td>3.223768</td>\n",
       "      <td>2.0</td>\n",
       "      <td>2.935349</td>\n",
       "      <td>0.940</td>\n",
       "      <td>19.0</td>\n",
       "      <td>5.543868</td>\n",
       "      <td>5.0</td>\n",
       "      <td>3.200357</td>\n",
       "      <td>2.320100</td>\n",
       "      <td>12.499695</td>\n",
       "      <td>7.835380</td>\n",
       "      <td>25.418580</td>\n",
       "      <td>20.745826</td>\n",
       "      <td>200.0</td>\n",
       "      <td>200.0</td>\n",
       "      <td>0.265008</td>\n",
       "    </tr>\n",
       "    <tr>\n",
       "      <th>9</th>\n",
       "      <td>21.0</td>\n",
       "      <td>3.298161</td>\n",
       "      <td>2.0</td>\n",
       "      <td>3.139701</td>\n",
       "      <td>0.945</td>\n",
       "      <td>21.0</td>\n",
       "      <td>5.642129</td>\n",
       "      <td>5.0</td>\n",
       "      <td>3.410923</td>\n",
       "      <td>2.343968</td>\n",
       "      <td>19.652263</td>\n",
       "      <td>14.878704</td>\n",
       "      <td>42.113045</td>\n",
       "      <td>40.870361</td>\n",
       "      <td>400.0</td>\n",
       "      <td>400.0</td>\n",
       "      <td>0.271222</td>\n",
       "    </tr>\n",
       "    <tr>\n",
       "      <th>10</th>\n",
       "      <td>24.0</td>\n",
       "      <td>3.398359</td>\n",
       "      <td>3.0</td>\n",
       "      <td>3.430961</td>\n",
       "      <td>0.950</td>\n",
       "      <td>24.0</td>\n",
       "      <td>5.786601</td>\n",
       "      <td>5.0</td>\n",
       "      <td>3.743861</td>\n",
       "      <td>2.388241</td>\n",
       "      <td>28.894298</td>\n",
       "      <td>20.039660</td>\n",
       "      <td>66.587663</td>\n",
       "      <td>58.252042</td>\n",
       "      <td>600.0</td>\n",
       "      <td>600.0</td>\n",
       "      <td>0.312900</td>\n",
       "    </tr>\n",
       "    <tr>\n",
       "      <th>11</th>\n",
       "      <td>28.0</td>\n",
       "      <td>3.522569</td>\n",
       "      <td>3.0</td>\n",
       "      <td>3.816278</td>\n",
       "      <td>0.955</td>\n",
       "      <td>28.0</td>\n",
       "      <td>5.953951</td>\n",
       "      <td>5.0</td>\n",
       "      <td>4.164007</td>\n",
       "      <td>2.431382</td>\n",
       "      <td>33.470027</td>\n",
       "      <td>24.841937</td>\n",
       "      <td>84.029310</td>\n",
       "      <td>77.063448</td>\n",
       "      <td>800.0</td>\n",
       "      <td>800.0</td>\n",
       "      <td>0.347729</td>\n",
       "    </tr>\n",
       "    <tr>\n",
       "      <th>12</th>\n",
       "      <td>31.0</td>\n",
       "      <td>3.621071</td>\n",
       "      <td>3.0</td>\n",
       "      <td>4.136148</td>\n",
       "      <td>0.960</td>\n",
       "      <td>31.0</td>\n",
       "      <td>6.067957</td>\n",
       "      <td>5.0</td>\n",
       "      <td>4.470344</td>\n",
       "      <td>2.446886</td>\n",
       "      <td>22.801143</td>\n",
       "      <td>19.700347</td>\n",
       "      <td>61.267373</td>\n",
       "      <td>63.974036</td>\n",
       "      <td>600.0</td>\n",
       "      <td>600.0</td>\n",
       "      <td>0.334196</td>\n",
       "    </tr>\n",
       "    <tr>\n",
       "      <th>13</th>\n",
       "      <td>36.0</td>\n",
       "      <td>3.791091</td>\n",
       "      <td>3.0</td>\n",
       "      <td>4.706555</td>\n",
       "      <td>0.965</td>\n",
       "      <td>36.0</td>\n",
       "      <td>6.259234</td>\n",
       "      <td>5.0</td>\n",
       "      <td>5.014624</td>\n",
       "      <td>2.468143</td>\n",
       "      <td>38.255534</td>\n",
       "      <td>34.004044</td>\n",
       "      <td>108.855980</td>\n",
       "      <td>114.081364</td>\n",
       "      <td>1000.0</td>\n",
       "      <td>1000.0</td>\n",
       "      <td>0.308069</td>\n",
       "    </tr>\n",
       "    <tr>\n",
       "      <th>14</th>\n",
       "      <td>41.0</td>\n",
       "      <td>3.967225</td>\n",
       "      <td>3.0</td>\n",
       "      <td>5.311473</td>\n",
       "      <td>0.970</td>\n",
       "      <td>41.0</td>\n",
       "      <td>6.459407</td>\n",
       "      <td>5.0</td>\n",
       "      <td>5.612298</td>\n",
       "      <td>2.492182</td>\n",
       "      <td>40.034546</td>\n",
       "      <td>35.226838</td>\n",
       "      <td>119.534752</td>\n",
       "      <td>120.983645</td>\n",
       "      <td>1000.0</td>\n",
       "      <td>1000.0</td>\n",
       "      <td>0.300825</td>\n",
       "    </tr>\n",
       "    <tr>\n",
       "      <th>15</th>\n",
       "      <td>47.0</td>\n",
       "      <td>4.165814</td>\n",
       "      <td>3.0</td>\n",
       "      <td>6.007384</td>\n",
       "      <td>0.975</td>\n",
       "      <td>47.0</td>\n",
       "      <td>6.671319</td>\n",
       "      <td>5.0</td>\n",
       "      <td>6.271025</td>\n",
       "      <td>2.505505</td>\n",
       "      <td>42.382447</td>\n",
       "      <td>39.717785</td>\n",
       "      <td>131.745438</td>\n",
       "      <td>139.182183</td>\n",
       "      <td>1200.0</td>\n",
       "      <td>1200.0</td>\n",
       "      <td>0.263641</td>\n",
       "    </tr>\n",
       "    <tr>\n",
       "      <th>16</th>\n",
       "      <td>54.0</td>\n",
       "      <td>4.378121</td>\n",
       "      <td>3.0</td>\n",
       "      <td>6.767791</td>\n",
       "      <td>0.980</td>\n",
       "      <td>54.0</td>\n",
       "      <td>6.894825</td>\n",
       "      <td>5.0</td>\n",
       "      <td>6.998277</td>\n",
       "      <td>2.516704</td>\n",
       "      <td>44.701197</td>\n",
       "      <td>42.461358</td>\n",
       "      <td>145.450329</td>\n",
       "      <td>152.081327</td>\n",
       "      <td>1400.0</td>\n",
       "      <td>1400.0</td>\n",
       "      <td>0.230486</td>\n",
       "    </tr>\n",
       "    <tr>\n",
       "      <th>17</th>\n",
       "      <td>65.0</td>\n",
       "      <td>4.650134</td>\n",
       "      <td>3.0</td>\n",
       "      <td>7.782431</td>\n",
       "      <td>0.985</td>\n",
       "      <td>65.0</td>\n",
       "      <td>7.213506</td>\n",
       "      <td>5.0</td>\n",
       "      <td>8.092154</td>\n",
       "      <td>2.563373</td>\n",
       "      <td>63.736261</td>\n",
       "      <td>54.402537</td>\n",
       "      <td>218.775480</td>\n",
       "      <td>202.928001</td>\n",
       "      <td>2200.0</td>\n",
       "      <td>2200.0</td>\n",
       "      <td>0.309723</td>\n",
       "    </tr>\n",
       "    <tr>\n",
       "      <th>18</th>\n",
       "      <td>84.0</td>\n",
       "      <td>4.993349</td>\n",
       "      <td>3.0</td>\n",
       "      <td>9.173711</td>\n",
       "      <td>0.990</td>\n",
       "      <td>84.0</td>\n",
       "      <td>7.625410</td>\n",
       "      <td>5.0</td>\n",
       "      <td>9.632292</td>\n",
       "      <td>2.632061</td>\n",
       "      <td>82.380649</td>\n",
       "      <td>68.643009</td>\n",
       "      <td>308.027557</td>\n",
       "      <td>278.255967</td>\n",
       "      <td>3800.0</td>\n",
       "      <td>3800.0</td>\n",
       "      <td>0.458581</td>\n",
       "    </tr>\n",
       "    <tr>\n",
       "      <th>19</th>\n",
       "      <td>123.0</td>\n",
       "      <td>5.456144</td>\n",
       "      <td>3.0</td>\n",
       "      <td>11.341466</td>\n",
       "      <td>0.995</td>\n",
       "      <td>123.0</td>\n",
       "      <td>8.248027</td>\n",
       "      <td>5.0</td>\n",
       "      <td>12.267915</td>\n",
       "      <td>2.791883</td>\n",
       "      <td>124.523546</td>\n",
       "      <td>92.559160</td>\n",
       "      <td>527.124666</td>\n",
       "      <td>433.550974</td>\n",
       "      <td>7800.0</td>\n",
       "      <td>7800.0</td>\n",
       "      <td>0.926450</td>\n",
       "    </tr>\n",
       "    <tr>\n",
       "      <th>20</th>\n",
       "      <td>34433.0</td>\n",
       "      <td>6.919862</td>\n",
       "      <td>3.0</td>\n",
       "      <td>62.558937</td>\n",
       "      <td>1.000</td>\n",
       "      <td>5442.0</td>\n",
       "      <td>10.344142</td>\n",
       "      <td>5.0</td>\n",
       "      <td>45.425152</td>\n",
       "      <td>3.424280</td>\n",
       "      <td>419.222929</td>\n",
       "      <td>292.743525</td>\n",
       "      <td>6631.447328</td>\n",
       "      <td>10243.494233</td>\n",
       "      <td>1063800.0</td>\n",
       "      <td>6862000.0</td>\n",
       "      <td>-17.133785</td>\n",
       "    </tr>\n",
       "  </tbody>\n",
       "</table>\n",
       "</div>"
      ],
      "text/plain": [
       "    no-turnstile-max  no-turnstile-mean  no-turnstile-median  \\\n",
       "0               11.0           2.849274                  2.0   \n",
       "1               12.0           2.906771                  2.0   \n",
       "2               12.0           2.906771                  2.0   \n",
       "3               13.0           2.960842                  2.0   \n",
       "4               14.0           3.011421                  2.0   \n",
       "5               15.0           3.058377                  2.0   \n",
       "6               16.0           3.101762                  2.0   \n",
       "7               18.0           3.184591                  2.0   \n",
       "8               19.0           3.223768                  2.0   \n",
       "9               21.0           3.298161                  2.0   \n",
       "10              24.0           3.398359                  3.0   \n",
       "11              28.0           3.522569                  3.0   \n",
       "12              31.0           3.621071                  3.0   \n",
       "13              36.0           3.791091                  3.0   \n",
       "14              41.0           3.967225                  3.0   \n",
       "15              47.0           4.165814                  3.0   \n",
       "16              54.0           4.378121                  3.0   \n",
       "17              65.0           4.650134                  3.0   \n",
       "18              84.0           4.993349                  3.0   \n",
       "19             123.0           5.456144                  3.0   \n",
       "20           34433.0           6.919862                  3.0   \n",
       "\n",
       "    no-turnstile-std  percentile  turnstile-max  turnstile-mean  \\\n",
       "0           2.061967       0.900           11.0        4.915752   \n",
       "1           2.178952       0.905           12.0        5.018864   \n",
       "2           2.178952       0.910           12.0        5.018864   \n",
       "3           2.294608       0.915           13.0        5.111134   \n",
       "4           2.407673       0.920           14.0        5.201432   \n",
       "5           2.516927       0.925           15.0        5.278718   \n",
       "6           2.621693       0.930           16.0        5.351819   \n",
       "7           2.831620       0.935           18.0        5.481369   \n",
       "8           2.935349       0.940           19.0        5.543868   \n",
       "9           3.139701       0.945           21.0        5.642129   \n",
       "10          3.430961       0.950           24.0        5.786601   \n",
       "11          3.816278       0.955           28.0        5.953951   \n",
       "12          4.136148       0.960           31.0        6.067957   \n",
       "13          4.706555       0.965           36.0        6.259234   \n",
       "14          5.311473       0.970           41.0        6.459407   \n",
       "15          6.007384       0.975           47.0        6.671319   \n",
       "16          6.767791       0.980           54.0        6.894825   \n",
       "17          7.782431       0.985           65.0        7.213506   \n",
       "18          9.173711       0.990           84.0        7.625410   \n",
       "19         11.341466       0.995          123.0        8.248027   \n",
       "20         62.558937       1.000         5442.0       10.344142   \n",
       "\n",
       "    turnstile-median  turnstile-std  difference_means  turnstile-mean-slope  \\\n",
       "0                5.0       2.119617          2.066478              0.000000   \n",
       "1                5.0       2.268752          2.112093             20.622537   \n",
       "2                5.0       2.268752          2.112093             -0.000000   \n",
       "3                5.0       2.411564          2.150292             18.453867   \n",
       "4                5.0       2.559505          2.190011             18.059692   \n",
       "5                5.0       2.692717          2.220341             15.457248   \n",
       "6                5.0       2.824833          2.250056             14.620058   \n",
       "7                5.0       3.073264          2.296779             25.910148   \n",
       "8                5.0       3.200357          2.320100             12.499695   \n",
       "9                5.0       3.410923          2.343968             19.652263   \n",
       "10               5.0       3.743861          2.388241             28.894298   \n",
       "11               5.0       4.164007          2.431382             33.470027   \n",
       "12               5.0       4.470344          2.446886             22.801143   \n",
       "13               5.0       5.014624          2.468143             38.255534   \n",
       "14               5.0       5.612298          2.492182             40.034546   \n",
       "15               5.0       6.271025          2.505505             42.382447   \n",
       "16               5.0       6.998277          2.516704             44.701197   \n",
       "17               5.0       8.092154          2.563373             63.736261   \n",
       "18               5.0       9.632292          2.632061             82.380649   \n",
       "19               5.0      12.267915          2.791883            124.523546   \n",
       "20               5.0      45.425152          3.424280            419.222929   \n",
       "\n",
       "    no-turnstile-mean-slope  turnstile-std-slope  no-turnstile-std-slope  \\\n",
       "0                  0.000000             0.000000                0.000000   \n",
       "1                 11.499459            29.826992               23.396889   \n",
       "2                 -0.000000            -0.000000               -0.000000   \n",
       "3                 10.814220            28.562289               23.131197   \n",
       "4                 10.115773            29.588333               22.613126   \n",
       "5                  9.391237            26.642398               21.850653   \n",
       "6                  8.677009            26.423230               20.953262   \n",
       "7                 16.565678            49.686193               41.985377   \n",
       "8                  7.835380            25.418580               20.745826   \n",
       "9                 14.878704            42.113045               40.870361   \n",
       "10                20.039660            66.587663               58.252042   \n",
       "11                24.841937            84.029310               77.063448   \n",
       "12                19.700347            61.267373               63.974036   \n",
       "13                34.004044           108.855980              114.081364   \n",
       "14                35.226838           119.534752              120.983645   \n",
       "15                39.717785           131.745438              139.182183   \n",
       "16                42.461358           145.450329              152.081327   \n",
       "17                54.402537           218.775480              202.928001   \n",
       "18                68.643009           308.027557              278.255967   \n",
       "19                92.559160           527.124666              433.550974   \n",
       "20               292.743525          6631.447328            10243.494233   \n",
       "\n",
       "    turnstile-max-slope  no-turnstile-max-slope  difference_stds  \n",
       "0                   0.0                     0.0         0.057650  \n",
       "1                 200.0                   200.0         0.089800  \n",
       "2                  -0.0                    -0.0         0.089800  \n",
       "3                 200.0                   200.0         0.116956  \n",
       "4                 200.0                   200.0         0.151832  \n",
       "5                 200.0                   200.0         0.175791  \n",
       "6                 200.0                   200.0         0.203141  \n",
       "7                 400.0                   400.0         0.241645  \n",
       "8                 200.0                   200.0         0.265008  \n",
       "9                 400.0                   400.0         0.271222  \n",
       "10                600.0                   600.0         0.312900  \n",
       "11                800.0                   800.0         0.347729  \n",
       "12                600.0                   600.0         0.334196  \n",
       "13               1000.0                  1000.0         0.308069  \n",
       "14               1000.0                  1000.0         0.300825  \n",
       "15               1200.0                  1200.0         0.263641  \n",
       "16               1400.0                  1400.0         0.230486  \n",
       "17               2200.0                  2200.0         0.309723  \n",
       "18               3800.0                  3800.0         0.458581  \n",
       "19               7800.0                  7800.0         0.926450  \n",
       "20            1063800.0               6862000.0       -17.133785  "
      ]
     },
     "execution_count": 26,
     "metadata": {},
     "output_type": "execute_result"
    }
   ],
   "source": [
    "summary_df"
   ]
  },
  {
   "cell_type": "code",
   "execution_count": 27,
   "metadata": {},
   "outputs": [
    {
     "data": {
      "text/plain": [
       "0.057649983964076945"
      ]
     },
     "execution_count": 27,
     "metadata": {},
     "output_type": "execute_result"
    }
   ],
   "source": [
    "summary_df.loc[summary_df['percentile']!=1.000,'difference_stds'].min()"
   ]
  },
  {
   "cell_type": "code",
   "execution_count": 28,
   "metadata": {},
   "outputs": [
    {
     "data": {
      "text/plain": [
       "0.92644961707420137"
      ]
     },
     "execution_count": 28,
     "metadata": {},
     "output_type": "execute_result"
    }
   ],
   "source": [
    "summary_df['difference_stds'].max()"
   ]
  },
  {
   "cell_type": "markdown",
   "metadata": {},
   "source": [
    "### Closed"
   ]
  }
 ],
 "metadata": {
  "kernelspec": {
   "display_name": "Python 3",
   "language": "python",
   "name": "python3"
  },
  "language_info": {
   "codemirror_mode": {
    "name": "ipython",
    "version": 3
   },
   "file_extension": ".py",
   "mimetype": "text/x-python",
   "name": "python",
   "nbconvert_exporter": "python",
   "pygments_lexer": "ipython3",
   "version": "3.6.1"
  }
 },
 "nbformat": 4,
 "nbformat_minor": 2
}
