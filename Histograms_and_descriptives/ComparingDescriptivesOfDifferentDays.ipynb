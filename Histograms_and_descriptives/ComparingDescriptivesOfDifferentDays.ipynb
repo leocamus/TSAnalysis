{
 "cells": [
  {
   "cell_type": "markdown",
   "metadata": {},
   "source": [
    "## Comparing descriptives of different dates"
   ]
  },
  {
   "cell_type": "code",
   "execution_count": 1,
   "metadata": {},
   "outputs": [
    {
     "data": {
      "text/html": [
       "<style>.container { width:80% !important; }</style>"
      ],
      "text/plain": [
       "<IPython.core.display.HTML object>"
      ]
     },
     "metadata": {},
     "output_type": "display_data"
    }
   ],
   "source": [
    "%matplotlib inline\n",
    "from IPython.core.display import display, HTML\n",
    "display(HTML(\"<style>.container { width:80% !important; }</style>\"))\n",
    "import pandas as pd\n",
    "import matplotlib\n",
    "import matplotlib.pyplot as plt\n",
    "import numpy as np\n",
    "from importlib import reload\n",
    "import datetime\n",
    "import time\n",
    "from RunSilentlyDailyEtapasBuilder import RunSilentlyDailyEtapasBuilderClass\n",
    "from matplotlib.dates import date2num"
   ]
  },
  {
   "cell_type": "code",
   "execution_count": 2,
   "metadata": {
    "collapsed": true
   },
   "outputs": [],
   "source": [
    "import scipy as sp\n",
    "import scipy.stats\n",
    "\n",
    "def mean_confidence_interval(data, confidence=0.95):\n",
    "    a = 1.0*np.array(data)\n",
    "    n = len(a)\n",
    "    m, se = np.mean(a), scipy.stats.sem(a)\n",
    "    h = se * sp.stats.t.ppf((1+confidence)/2., n-1)\n",
    "    return h, m-h, m, m+h"
   ]
  },
  {
   "cell_type": "code",
   "execution_count": 3,
   "metadata": {
    "collapsed": true
   },
   "outputs": [],
   "source": [
    "dates = ['2017-03-01','2017-03-05', '2017-07-19']"
   ]
  },
  {
   "cell_type": "code",
   "execution_count": 4,
   "metadata": {
    "scrolled": true
   },
   "outputs": [
    {
     "name": "stdout",
     "output_type": "stream",
     "text": [
      "Not found in turnstile database: 1614656\n",
      "Not found in turnstile database: 656097\n",
      "Not found in turnstile database: 1637796\n"
     ]
    },
    {
     "data": {
      "text/plain": [
       "46.559596271518025"
      ]
     },
     "execution_count": 4,
     "metadata": {},
     "output_type": "execute_result"
    }
   ],
   "source": [
    "turnstile_means = []\n",
    "turnstile_means_errors = []\n",
    "turnstile_medians = []\n",
    "turnstile_stds = []\n",
    "turnstile_maxs = []\n",
    "\n",
    "no_turnstile_means = []\n",
    "no_turnstile_means_errors = []\n",
    "no_turnstile_medians = []\n",
    "no_turnstile_stds = []\n",
    "no_turnstile_maxs = []\n",
    "\n",
    "quantile = 0.97\n",
    "\n",
    "tic = time.clock()\n",
    "\n",
    "for date in dates:\n",
    "    etapas_builder = RunSilentlyDailyEtapasBuilderClass(date)\n",
    "    [etapas_df, processed_sorted_df, filtered_df, filtered_turnstile_df, filtered_no_turnstile_df]=etapas_builder.runCompleteProcess()\n",
    "    \n",
    "    turnstile_q = filtered_turnstile_df.diferencia_tiempo.quantile(quantile)\n",
    "    no_turnstile_q = filtered_no_turnstile_df.diferencia_tiempo.quantile(quantile)    \n",
    "    \n",
    "    filtered_turnstile_q_df = filtered_turnstile_df[filtered_turnstile_df.diferencia_tiempo<=turnstile_q]\n",
    "    filtered_no_turnstile_q_df = filtered_no_turnstile_df[filtered_no_turnstile_df.diferencia_tiempo<=no_turnstile_q]\n",
    "    \n",
    "    turnstile_means.append(filtered_turnstile_q_df['diferencia_tiempo_secs'].mean())\n",
    "    turnstile_means_errors.append(mean_confidence_interval(filtered_turnstile_q_df['diferencia_tiempo_secs'])[0])\n",
    "    turnstile_stds.append(filtered_turnstile_q_df['diferencia_tiempo_secs'].std())\n",
    "    turnstile_medians.append(filtered_turnstile_q_df['diferencia_tiempo_secs'].quantile(0.50))\n",
    "    turnstile_maxs.append(filtered_turnstile_q_df['diferencia_tiempo_secs'].max())\n",
    "    \n",
    "    no_turnstile_means.append(filtered_no_turnstile_q_df['diferencia_tiempo_secs'].mean())\n",
    "    no_turnstile_means_errors.append(mean_confidence_interval(filtered_no_turnstile_q_df['diferencia_tiempo_secs'])[0])\n",
    "    no_turnstile_stds.append(filtered_no_turnstile_q_df['diferencia_tiempo_secs'].std())    \n",
    "    no_turnstile_medians.append(filtered_no_turnstile_q_df['diferencia_tiempo_secs'].quantile(0.50))\n",
    "    no_turnstile_maxs.append(filtered_no_turnstile_q_df['diferencia_tiempo_secs'].max())\n",
    "    del etapas_builder\n",
    "    \n",
    "toc = time.clock()  \n",
    "toc-tic"
   ]
  },
  {
   "cell_type": "markdown",
   "metadata": {},
   "source": [
    "* Plotting Means (to <strong>report</strong>)"
   ]
  },
  {
   "cell_type": "code",
   "execution_count": 5,
   "metadata": {
    "collapsed": true
   },
   "outputs": [],
   "source": [
    "colors = [(85,98,112),(78,205,196),(199,244,100),(255,107,107),(196,77,88)]\n",
    "for i in range(len(colors)):\n",
    "    r, g, b = colors[i]  \n",
    "    colors[i] = (r / 255., g / 255., b / 255.)\n",
    "\n",
    "width = 0.2"
   ]
  },
  {
   "cell_type": "code",
   "execution_count": 6,
   "metadata": {},
   "outputs": [
    {
     "data": {
      "text/plain": [
       "<matplotlib.legend.Legend at 0x1bb2f80fe48>"
      ]
     },
     "execution_count": 6,
     "metadata": {},
     "output_type": "execute_result"
    },
    {
     "data": {
      "image/png": "[encoded data removed]",
      "text/plain": [
       "<matplotlib.figure.Figure at 0x1bb1a61e518>"
      ]
     },
     "metadata": {},
     "output_type": "display_data"
    }
   ],
   "source": [
    "ind = np.arange(3)\n",
    "fig_1, ax_1 = plt.subplots()\n",
    "\n",
    "p1 = ax_1.bar(ind, turnstile_means , width = width, color = colors[3], zorder=3)\n",
    "p2 = ax_1.bar(ind+width, no_turnstile_means , width = width, color = colors[0],zorder=3)\n",
    "ax_1.set_xticks(ind + width / 2)\n",
    "ax_1.set_xticklabels(('March 1st', 'March 5th', 'July 19th'))\n",
    "ax_1.set_title('Means of time intervals')\n",
    "ax_1.set_ylabel('Mean of time intervals [s]')\n",
    "ax_1.grid(zorder=0)\n",
    "\n",
    "plt.legend((p1[0],p2[0]), ('turns.','no turns.'),bbox_to_anchor=(0.8, 1))\n",
    "#plt.savefig('C:/Users/Tesista/Desktop/Evasion/03_report/02_Figs/3_meansComparison.pdf')"
   ]
  },
  {
   "cell_type": "markdown",
   "metadata": {},
   "source": [
    "* Plotting Means (to <strong>ppt</strong>)"
   ]
  },
  {
   "cell_type": "code",
   "execution_count": 7,
   "metadata": {},
   "outputs": [
    {
     "data": {
      "image/png": "[encoded data removed]",
      "text/plain": [
       "<matplotlib.figure.Figure at 0x1bb2ecdf5c0>"
      ]
     },
     "metadata": {},
     "output_type": "display_data"
    }
   ],
   "source": [
    "ind = np.arange(3)\n",
    "fig_2, ax_2 = plt.subplots()\n",
    "\n",
    "p1 = ax_2.bar(ind, turnstile_means , width = width, color = colors[3], yerr=turnstile_means_errors)\n",
    "p2 = ax_2.bar(ind+width, no_turnstile_means , width = width, color = colors[0], yerr=no_turnstile_means_errors)\n",
    "ax_2.set_xticks(ind + width / 2)\n",
    "ax_2.set_xticklabels(('March 1st', 'March 5th', 'July 19th'))\n",
    "ax_2.set_title('Means of time intervals')\n",
    "ax_2.set_ylabel('Mean of time intervals [s]')\n",
    "#ax_2.grid(zorder=0)\n",
    "\n",
    "x_labels = [0.05,0.15,1.05,1.15,2.05,2.15]\n",
    "rects = ax_2.patches\n",
    "labels_means = [ '%.2f' % elem for elem in turnstile_means ]\n",
    "labels_no_means = [ '%.2f' % elem for elem in no_turnstile_means ]\n",
    "labels = []\n",
    "\n",
    "for x in labels_means:\n",
    "    labels.append(x)\n",
    "\n",
    "for x in labels_no_means:\n",
    "    labels.append(x)\n",
    "\n",
    "for rect, label in zip(rects, labels):\n",
    "    height = rect.get_height()\n",
    "    ax_2.text(rect.get_x() + rect.get_width()/2, height, label, ha='center', va='bottom')\n",
    "\n",
    "\n",
    "plt.legend((p1[0],p2[0]), ('turns.','no turns.'),bbox_to_anchor=(0.8, 1))\n",
    "#plt.savefig('C:/Users/Tesista/Desktop/Evasion/03_report/02_Figs/3_meansComparisonToPPT.pdf')\n",
    "plt.savefig('C:/Users/leoca_000/Desktop/Evasion/03_report/02_Figs/3_meansComparisonToPPT.pdf')"
   ]
  },
  {
   "cell_type": "markdown",
   "metadata": {},
   "source": [
    "* Plotting std (to <strong>report</strong>)"
   ]
  },
  {
   "cell_type": "code",
   "execution_count": 8,
   "metadata": {},
   "outputs": [
    {
     "data": {
      "text/plain": [
       "<matplotlib.legend.Legend at 0x1bb310f21d0>"
      ]
     },
     "execution_count": 8,
     "metadata": {},
     "output_type": "execute_result"
    },
    {
     "data": {
      "image/png": "[encoded data removed]",
      "text/plain": [
       "<matplotlib.figure.Figure at 0x1bb2ecdf080>"
      ]
     },
     "metadata": {},
     "output_type": "display_data"
    }
   ],
   "source": [
    "ind = np.arange(3)\n",
    "fig, ax_3 = plt.subplots()\n",
    "\n",
    "p1 = ax_3.bar(ind, turnstile_stds , width = width, color = colors[3], zorder=3)\n",
    "p2 = ax_3.bar(ind+width, no_turnstile_stds , width = width, color = colors[0],zorder=3)\n",
    "ax_3.set_xticks(ind + width / 2)\n",
    "ax_3.set_xticklabels(('March 1st', 'March 5th', 'July 19th'))\n",
    "ax_3.set_title('Stds. of time intervals')\n",
    "ax_3.set_ylabel('Std. of time intervals [s]')\n",
    "ax_3.grid(zorder=0)\n",
    "\n",
    "plt.legend((p1[0],p2[0]), ('turns.','no turns.'),bbox_to_anchor=(0.8, 1))\n",
    "#plt.savefig('C:/Users/Tesista/Desktop/Evasion/03_report/02_Figs/3_stdsComparison.pdf')"
   ]
  },
  {
   "cell_type": "markdown",
   "metadata": {},
   "source": [
    "* Plotting std (to <strong>ppt</strong>)"
   ]
  },
  {
   "cell_type": "code",
   "execution_count": 9,
   "metadata": {},
   "outputs": [
    {
     "data": {
      "text/plain": [
       "<matplotlib.legend.Legend at 0x1bb30fda320>"
      ]
     },
     "execution_count": 9,
     "metadata": {},
     "output_type": "execute_result"
    },
    {
     "data": {
      "image/png": "[encoded data removed]",
      "text/plain": [
       "<matplotlib.figure.Figure at 0x1bb3356e470>"
      ]
     },
     "metadata": {},
     "output_type": "display_data"
    }
   ],
   "source": [
    "ind = np.arange(3)\n",
    "fig, ax_4 = plt.subplots()\n",
    "\n",
    "p1 = ax_4.bar(ind, turnstile_stds , width = width, color = colors[3], zorder=3)\n",
    "p2 = ax_4.bar(ind+width, no_turnstile_stds , width = width, color = colors[0],zorder=3)\n",
    "ax_4.set_xticks(ind + width / 2)\n",
    "ax_4.set_xticklabels(('March 1st', 'March 5th', 'July 19th'))\n",
    "ax_4.set_title('Stds. of time intervals')\n",
    "ax_4.set_ylabel('Std. of time intervals [s]')\n",
    "ax_4.grid(zorder=0)\n",
    "\n",
    "x_labels = [0.05,0.15,1.05,1.15,2.05,2.15]\n",
    "rects = ax_4.patches\n",
    "labels_stds = [ '%.2f' % elem for elem in turnstile_stds ]\n",
    "labels_no_stds = [ '%.2f' % elem for elem in no_turnstile_stds ]\n",
    "labels = []\n",
    "\n",
    "for x in labels_stds:\n",
    "    labels.append(x)\n",
    "\n",
    "for x in labels_no_stds:\n",
    "    labels.append(x)\n",
    "\n",
    "for rect, label in zip(rects, labels):\n",
    "    height = rect.get_height()\n",
    "    ax_4.text(rect.get_x() + rect.get_width()/2, height, label, ha='center', va='bottom')\n",
    "\n",
    "plt.legend((p1[0],p2[0]), ('turns.','no turns.'),bbox_to_anchor=(0.8, 1))\n",
    "#plt.savefig('C:/Users/Tesista/Desktop/Evasion/03_report/02_Figs/3_stdsComparisonToPPT.pdf')"
   ]
  },
  {
   "cell_type": "markdown",
   "metadata": {},
   "source": [
    "* Plotting Medians (to <strong>report</strong>)"
   ]
  },
  {
   "cell_type": "code",
   "execution_count": 10,
   "metadata": {
    "scrolled": true
   },
   "outputs": [
    {
     "data": {
      "text/plain": [
       "<matplotlib.legend.Legend at 0x1bb310f0898>"
      ]
     },
     "execution_count": 10,
     "metadata": {},
     "output_type": "execute_result"
    },
    {
     "data": {
      "image/png": "[encoded data removed]",
      "text/plain": [
       "<matplotlib.figure.Figure at 0x1bb30fdcf60>"
      ]
     },
     "metadata": {},
     "output_type": "display_data"
    }
   ],
   "source": [
    "ind = np.arange(3)\n",
    "fig, ax_5 = plt.subplots()\n",
    "\n",
    "p1 = ax_5.bar(ind, turnstile_medians , width = width, color = colors[3], zorder=3)\n",
    "p2 = ax_5.bar(ind+width, no_turnstile_medians , width = width, color = colors[0],zorder=3)\n",
    "ax_5.set_xticks(ind + width / 2)\n",
    "ax_5.set_xticklabels(('March 1st', 'March 5th', 'July 19th'))\n",
    "ax_5.set_title('Medians of time intervals')\n",
    "ax_5.set_ylabel('Median of time intervals [s]')\n",
    "ax_5.grid(zorder=0)\n",
    "\n",
    "plt.legend((p1[0],p2[0]), ('turns.','no turns.'),bbox_to_anchor=(0.8, 1))\n",
    "#plt.savefig('C:/Users/Tesista/Desktop/Evasion/03_report/02_Figs/3_mediansComparison.pdf')"
   ]
  },
  {
   "cell_type": "markdown",
   "metadata": {},
   "source": [
    "* Plotting Medians (to <strong>ppt</strong>)"
   ]
  },
  {
   "cell_type": "code",
   "execution_count": 11,
   "metadata": {},
   "outputs": [
    {
     "data": {
      "text/plain": [
       "<matplotlib.legend.Legend at 0x1bb3645a588>"
      ]
     },
     "execution_count": 11,
     "metadata": {},
     "output_type": "execute_result"
    },
    {
     "data": {
      "image/png": "[encoded data removed]",
      "text/plain": [
       "<matplotlib.figure.Figure at 0x1bb3645e518>"
      ]
     },
     "metadata": {},
     "output_type": "display_data"
    }
   ],
   "source": [
    "ind = np.arange(3)\n",
    "fig, ax_6 = plt.subplots()\n",
    "\n",
    "p1 = ax_6.bar(ind, turnstile_medians , width = width, color = colors[3], zorder=3)\n",
    "p2 = ax_6.bar(ind+width, no_turnstile_medians , width = width, color = colors[0],zorder=3)\n",
    "ax_6.set_xticks(ind + width / 2)\n",
    "ax_6.set_xticklabels(('March 1st', 'March 5th', 'July 19th'))\n",
    "ax_6.set_title('Medians of time intervals')\n",
    "ax_6.set_ylabel('Median of time intervals [s]')\n",
    "ax_6.grid(zorder=0)\n",
    "\n",
    "x_labels = [0.05,0.15,1.05,1.15,2.05,2.15]\n",
    "rects = ax_6.patches\n",
    "labels_medians = [ '%.2f' % elem for elem in turnstile_medians ]\n",
    "labels_no_medians = [ '%.2f' % elem for elem in no_turnstile_medians ]\n",
    "labels = []\n",
    "\n",
    "for x in labels_medians:\n",
    "    labels.append(x)\n",
    "\n",
    "for x in labels_no_medians:\n",
    "    labels.append(x)\n",
    "\n",
    "for rect, label in zip(rects, labels):\n",
    "    height = rect.get_height()\n",
    "    ax_6.text(rect.get_x() + rect.get_width()/2, height, label, ha='center', va='bottom')\n",
    "\n",
    "plt.legend((p1[0],p2[0]), ('turns.','no turns.'),bbox_to_anchor=(0.8, 1))\n",
    "#plt.savefig('C:/Users/Tesista/Desktop/Evasion/03_report/02_Figs/3_mediansComparisonToPPT.pdf')"
   ]
  },
  {
   "cell_type": "markdown",
   "metadata": {},
   "source": [
    "* Plotting Maxs <strong>(to report)</strong>"
   ]
  },
  {
   "cell_type": "code",
   "execution_count": 12,
   "metadata": {},
   "outputs": [
    {
     "data": {
      "text/plain": [
       "<matplotlib.legend.Legend at 0x1bb326f7278>"
      ]
     },
     "execution_count": 12,
     "metadata": {},
     "output_type": "execute_result"
    },
    {
     "data": {
      "image/png": "[encoded data removed]",
      "text/plain": [
       "<matplotlib.figure.Figure at 0x1bb34e5c5f8>"
      ]
     },
     "metadata": {},
     "output_type": "display_data"
    }
   ],
   "source": [
    "ind = np.arange(3)\n",
    "fig, ax_7 = plt.subplots()\n",
    "\n",
    "p1 = ax_7.bar(ind, turnstile_maxs , width = width, color = colors[3], zorder=3)\n",
    "p2 = ax_7.bar(ind+width, no_turnstile_maxs , width = width, color = colors[0],zorder=3)\n",
    "ax_7.set_xticks(ind + width / 2)\n",
    "ax_7.set_xticklabels(('March 1st', 'March 5th', 'July 19th'))\n",
    "ax_7.set_title('Maxs. of time intervals')\n",
    "ax_7.set_ylabel('Max of time intervals [s]')\n",
    "ax_7.grid(zorder=0)\n",
    "\n",
    "plt.legend((p1[0],p2[0]), ('turns.','no turns.'),bbox_to_anchor=(0.8, 1))\n",
    "#plt.savefig('C:/Users/Tesista/Desktop/Evasion/03_report/02_Figs/3_maxsComparison.pdf')"
   ]
  },
  {
   "cell_type": "markdown",
   "metadata": {},
   "source": [
    "* Plotting Maxs (to ppt)"
   ]
  },
  {
   "cell_type": "code",
   "execution_count": 13,
   "metadata": {},
   "outputs": [
    {
     "data": {
      "text/plain": [
       "<matplotlib.legend.Legend at 0x1bb362dc160>"
      ]
     },
     "execution_count": 13,
     "metadata": {},
     "output_type": "execute_result"
    },
    {
     "data": {
      "image/png": "[encoded data removed]",
      "text/plain": [
       "<matplotlib.figure.Figure at 0x1bb36b70940>"
      ]
     },
     "metadata": {},
     "output_type": "display_data"
    }
   ],
   "source": [
    "ind = np.arange(3)\n",
    "fig, ax_8 = plt.subplots()\n",
    "\n",
    "p1 = ax_8.bar(ind, turnstile_maxs , width = width, color = colors[3], zorder=3)\n",
    "p2 = ax_8.bar(ind+width, no_turnstile_maxs , width = width, color = colors[0],zorder=3)\n",
    "ax_8.set_xticks(ind + width / 2)\n",
    "ax_8.set_xticklabels(('March 1st', 'March 5th', 'July 19th'))\n",
    "ax_8.set_title('Maxs. of time intervals')\n",
    "ax_8.set_ylabel('Max of time intervals [s]')\n",
    "ax_8.grid(zorder=0)\n",
    "\n",
    "\n",
    "x_labels = [0.05,0.15,1.05,1.15,2.05,2.15]\n",
    "rects = ax_8.patches\n",
    "labels_maxs = [ '%.0f' % elem for elem in turnstile_maxs ]\n",
    "labels_no_maxs = [ '%.0f' % elem for elem in no_turnstile_maxs ]\n",
    "labels = []\n",
    "\n",
    "for x in labels_maxs:\n",
    "    labels.append(x)\n",
    "\n",
    "for x in labels_no_maxs:\n",
    "    labels.append(x)\n",
    "\n",
    "for rect, label in zip(rects, labels):\n",
    "    height = rect.get_height()\n",
    "    ax_8.text(rect.get_x() + rect.get_width()/2, height, label, ha='center', va='bottom')\n",
    "\n",
    "plt.legend((p1[0],p2[0]), ('turns.','no turns.'),bbox_to_anchor=(0.8, 1))\n",
    "#plt.savefig('C:/Users/Tesista/Desktop/Evasion/03_report/02_Figs/3_maxsComparisonToPPT.pdf')"
   ]
  },
  {
   "cell_type": "markdown",
   "metadata": {},
   "source": [
    "### Closed"
   ]
  }
 ],
 "metadata": {
  "kernelspec": {
   "display_name": "Python 3",
   "language": "python",
   "name": "python3"
  },
  "language_info": {
   "codemirror_mode": {
    "name": "ipython",
    "version": 3
   },
   "file_extension": ".py",
   "mimetype": "text/x-python",
   "name": "python",
   "nbconvert_exporter": "python",
   "pygments_lexer": "ipython3",
   "version": "3.6.1"
  }
 },
 "nbformat": 4,
 "nbformat_minor": 2
}
