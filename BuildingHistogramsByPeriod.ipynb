{
 "cells": [
  {
   "cell_type": "markdown",
   "metadata": {},
   "source": [
    "# Building (Noc vs Day) Histograms"
   ]
  },
  {
   "cell_type": "markdown",
   "metadata": {},
   "source": [
    "### How to run this notebook:\n",
    "* Give date and type of vehicle as arguments\n",
    "* If simplified etapas file does not exist, then run RunDailyEtapasBuilder.runSimplifyEtapas(). If it already exists, then omit it\n",
    "* If simplified perfiles file does not exist, then run RunDailyEtapasBuilder.runSimplifyPerfiles(). If it already exists, then omit it. TODO: This is not (yet) needed"
   ]
  },
  {
   "cell_type": "markdown",
   "metadata": {},
   "source": [
    "Run the builder in this order:\n",
    "1. etapas_df = RunDailyEtapasBuilder.loadSimplifiedEtapas()\n",
    "2. merged_df = RunDailyEtapasBuilder.includeTorniquetesDate(etapas_df)\n",
    "3. clean_df = RunDailyEtapasBuilder.cleanDataFrame(merged_df)\n",
    "4. sorted_df = RunDailyEtapasBuilder.sortDataFrame(clean_df)"
   ]
  },
  {
   "cell_type": "code",
   "execution_count": 1,
   "metadata": {
    "collapsed": true,
    "scrolled": true
   },
   "outputs": [],
   "source": [
    "%matplotlib inline\n",
    "import pandas as pd\n",
    "import matplotlib\n",
    "import matplotlib.pyplot as plt\n",
    "import numpy as np\n",
    "from importlib import reload\n",
    "import datetime as dt"
   ]
  },
  {
   "cell_type": "code",
   "execution_count": 2,
   "metadata": {},
   "outputs": [
    {
     "name": "stdout",
     "output_type": "stream",
     "text": [
      "Enter the date to analyze: 2017-03-01\n",
      "Enter the vehicle to analyze: BUS\n",
      "Consider ZP in perfiles file (0/1)?: 0\n"
     ]
    }
   ],
   "source": [
    "import RunDailyEtapasBuilder"
   ]
  },
  {
   "cell_type": "markdown",
   "metadata": {},
   "source": [
    "* Running the builder of the dataframe"
   ]
  },
  {
   "cell_type": "code",
   "execution_count": 3,
   "metadata": {},
   "outputs": [
    {
     "name": "stdout",
     "output_type": "stream",
     "text": [
      "Not found in turnstile database: 1614656\n"
     ]
    }
   ],
   "source": [
    "#RunDailyEtapasBuilder.runSimplifyEtapas()\n",
    "etapas_df = RunDailyEtapasBuilder.loadSimplifiedEtapas()\n",
    "merged_df = RunDailyEtapasBuilder.mergeTurnstileData(etapas_df)\n",
    "clean_df = RunDailyEtapasBuilder.cleanDataFrame(merged_df)\n",
    "sorted_df = RunDailyEtapasBuilder.sortDataFrame(clean_df)"
   ]
  },
  {
   "cell_type": "markdown",
   "metadata": {},
   "source": [
    "* Counting."
   ]
  },
  {
   "cell_type": "code",
   "execution_count": 4,
   "metadata": {},
   "outputs": [
    {
     "name": "stdout",
     "output_type": "stream",
     "text": [
      "2329229\n",
      "2329229\n",
      "2210399\n",
      "2210399\n"
     ]
    }
   ],
   "source": [
    "print(etapas_df['id'].count())\n",
    "print(merged_df['id'].count())\n",
    "print(clean_df['id'].count())\n",
    "print(sorted_df['id'].count())"
   ]
  },
  {
   "cell_type": "markdown",
   "metadata": {},
   "source": [
    "* Adding necessary attributes"
   ]
  },
  {
   "cell_type": "code",
   "execution_count": 5,
   "metadata": {
    "collapsed": true
   },
   "outputs": [],
   "source": [
    "sorted_df['mismo_paradero'] = (sorted_df['par_subida']==sorted_df['par_subida'].shift()).fillna(False)\n",
    "sorted_df['misma_patente'] = (sorted_df['sitio_subida']==sorted_df['sitio_subida'].shift()).fillna(False)\n",
    "sorted_df.loc[(sorted_df.mismo_paradero == True) & (sorted_df.misma_patente == True), 'diferencia_tiempo'] = (sorted_df['t_subida']-sorted_df['t_subida'].shift())\n",
    "sorted_df.loc[(sorted_df.mismo_paradero == True) & (sorted_df.misma_patente == False), 'diferencia_tiempo'] = pd.NaT\n",
    "sorted_df['fecha_instalacion'] = pd.to_datetime(sorted_df.fecha_instalacion)\n",
    "sorted_df['diferencia_tiempo_secs'] = sorted_df['diferencia_tiempo'].dt.total_seconds()\n",
    "sorted_df['si_torniquete'] = (sorted_df['fecha_instalacion']<=sorted_df['t_subida'])"
   ]
  },
  {
   "cell_type": "markdown",
   "metadata": {},
   "source": [
    "* Filtering by mismo_paradero, misma_patente and by si_torniquete"
   ]
  },
  {
   "cell_type": "code",
   "execution_count": 6,
   "metadata": {
    "collapsed": true
   },
   "outputs": [],
   "source": [
    "filtered_df = sorted_df[(sorted_df.mismo_paradero==True) & (sorted_df.misma_patente==True)]\n",
    "filtered_turnstile_df = filtered_df[filtered_df.si_torniquete==True]\n",
    "filtered_no_turnstile_df = filtered_df[filtered_df.si_torniquete==False]"
   ]
  },
  {
   "cell_type": "markdown",
   "metadata": {},
   "source": [
    "* Counting and checking"
   ]
  },
  {
   "cell_type": "code",
   "execution_count": 7,
   "metadata": {
    "scrolled": true
   },
   "outputs": [
    {
     "name": "stdout",
     "output_type": "stream",
     "text": [
      "1380689\n",
      "285058\n",
      "1095631\n",
      "1380689\n"
     ]
    }
   ],
   "source": [
    "print(filtered_df['id'].count())\n",
    "print(filtered_turnstile_df['id'].count())\n",
    "print(filtered_no_turnstile_df['id'].count())\n",
    "checking = filtered_turnstile_df['id'].count() + filtered_no_turnstile_df['id'].count()\n",
    "print(checking)"
   ]
  },
  {
   "cell_type": "markdown",
   "metadata": {},
   "source": [
    "* Getting rid of unecessary dataframes"
   ]
  },
  {
   "cell_type": "code",
   "execution_count": 8,
   "metadata": {
    "collapsed": true,
    "scrolled": false
   },
   "outputs": [],
   "source": [
    "del etapas_df\n",
    "del merged_df\n",
    "del clean_df"
   ]
  },
  {
   "cell_type": "markdown",
   "metadata": {},
   "source": [
    "* Filtering by period (noc vs. diur)"
   ]
  },
  {
   "cell_type": "code",
   "execution_count": 9,
   "metadata": {},
   "outputs": [],
   "source": [
    "diur_start_1 = dt.time(0,0,0)\n",
    "diur_end_1 = dt.time(0,59,0)\n",
    "noc_start = dt.time(1,0,0)\n",
    "noc_end = dt.time(5,29,0)\n",
    "diur_start_2 = dt.time(5,30,0)\n",
    "diur_end_2 = dt.time(23,59,0)"
   ]
  },
  {
   "cell_type": "code",
   "execution_count": 10,
   "metadata": {},
   "outputs": [],
   "source": [
    "noc_turnstile_df = filtered_turnstile_df[(noc_start<=filtered_turnstile_df['t_subida'].dt.time) \n",
    "                                         & (filtered_turnstile_df['t_subida'].dt.time<=noc_end)]\n",
    "\n",
    "noc_no_turnstile_df = filtered_no_turnstile_df[(noc_start<=filtered_no_turnstile_df['t_subida'].dt.time)\n",
    "                                        & (filtered_no_turnstile_df['t_subida'].dt.time<=noc_end)]\n",
    "\n",
    "diur_turnstile_df = filtered_turnstile_df[((diur_start_1<=filtered_turnstile_df['t_subida'].dt.time)\n",
    "                                         & (filtered_turnstile_df['t_subida'].dt.time<=diur_end_1))\n",
    "                                         | ((diur_start_2<=filtered_turnstile_df['t_subida'].dt.time)\n",
    "                                         & (filtered_turnstile_df['t_subida'].dt.time<=diur_end_2))]\n",
    "\n",
    "diur_no_turnstile_df = filtered_no_turnstile_df[((diur_start_1<=filtered_no_turnstile_df['t_subida'].dt.time)\n",
    "                                         & (filtered_no_turnstile_df['t_subida'].dt.time<=diur_end_1))\n",
    "                                         | ((diur_start_2<=filtered_no_turnstile_df['t_subida'].dt.time)\n",
    "                                         & (filtered_no_turnstile_df['t_subida'].dt.time<=diur_end_2))]"
   ]
  },
  {
   "cell_type": "markdown",
   "metadata": {},
   "source": [
    "* TODO: Currently, there are rows with extremely high values for the 'diferencia_tiempo' attribute (e.g. >=25 mins). This should be fixed considering the idExpedicion attribute present in the corresponding 'perfiles' database. The following graphs and descriptive statistics consider only the 95th percentile for the 'diferencia_tiempo_secs' attribute. "
   ]
  },
  {
   "cell_type": "code",
   "execution_count": 11,
   "metadata": {},
   "outputs": [
    {
     "name": "stdout",
     "output_type": "stream",
     "text": [
      "Percentile 95th for noc_turnstile database is: 0 days 00:00:18\n",
      "Percentile 95th for noc_no_turnstile database is: 0 days 00:00:13\n",
      "Percentile 95th for diur_turnstile database is: 0 days 00:00:28\n",
      "Percentile 95th for diur_no_turnstile database is: 0 days 00:00:23\n"
     ]
    }
   ],
   "source": [
    "noc_turnstile_95 = noc_turnstile_df.diferencia_tiempo.quantile(0.95)\n",
    "print ('Percentile 95th for noc_turnstile database is: ' + str(noc_turnstile_95))\n",
    "noc_no_turnstile_95 = noc_no_turnstile_df.diferencia_tiempo.quantile(0.95)\n",
    "print ('Percentile 95th for noc_no_turnstile database is: ' + str(noc_no_turnstile_95))\n",
    "diur_turnstile_95 = diur_turnstile_df.diferencia_tiempo.quantile(0.95)\n",
    "print ('Percentile 95th for diur_turnstile database is: ' + str(diur_turnstile_95))\n",
    "diur_no_turnstile_95 = diur_no_turnstile_df.diferencia_tiempo.quantile(0.95)\n",
    "print ('Percentile 95th for diur_no_turnstile database is: ' + str(diur_no_turnstile_95))"
   ]
  },
  {
   "cell_type": "markdown",
   "metadata": {},
   "source": [
    "### Filtering by diferencia_tiempo<=95th percentile in the corresponding databases. BE AWARE."
   ]
  },
  {
   "cell_type": "code",
   "execution_count": 12,
   "metadata": {
    "collapsed": true
   },
   "outputs": [],
   "source": [
    "noc_turnstile_95_df = noc_turnstile_df[noc_turnstile_df.diferencia_tiempo<=noc_turnstile_95]\n",
    "noc_no_turnstile_95_df = noc_no_turnstile_df[noc_no_turnstile_df.diferencia_tiempo<=noc_no_turnstile_95]\n",
    "diur_turnstile_95_df = diur_turnstile_df[diur_turnstile_df.diferencia_tiempo<=diur_turnstile_95]\n",
    "diur_no_turnstile_95_df = diur_no_turnstile_df[diur_no_turnstile_df.diferencia_tiempo<=diur_no_turnstile_95]"
   ]
  },
  {
   "cell_type": "code",
   "execution_count": 13,
   "metadata": {
    "scrolled": false
   },
   "outputs": [
    {
     "data": {
      "text/html": [
       "<div>\n",
       "<style>\n",
       "    .dataframe thead tr:only-child th {\n",
       "        text-align: right;\n",
       "    }\n",
       "\n",
       "    .dataframe thead th {\n",
       "        text-align: left;\n",
       "    }\n",
       "\n",
       "    .dataframe tbody tr th {\n",
       "        vertical-align: top;\n",
       "    }\n",
       "</style>\n",
       "<table border=\"1\" class=\"dataframe\">\n",
       "  <thead>\n",
       "    <tr style=\"text-align: right;\">\n",
       "      <th></th>\n",
       "      <th>id</th>\n",
       "      <th>nviaje</th>\n",
       "      <th>diferencia_tiempo</th>\n",
       "      <th>diferencia_tiempo_secs</th>\n",
       "    </tr>\n",
       "  </thead>\n",
       "  <tbody>\n",
       "    <tr>\n",
       "      <th>count</th>\n",
       "      <td>1.071000e+03</td>\n",
       "      <td>1071.000000</td>\n",
       "      <td>1071</td>\n",
       "      <td>1071.000000</td>\n",
       "    </tr>\n",
       "    <tr>\n",
       "      <th>mean</th>\n",
       "      <td>2.310199e+09</td>\n",
       "      <td>1.041083</td>\n",
       "      <td>0 days 00:00:05.365079</td>\n",
       "      <td>5.365079</td>\n",
       "    </tr>\n",
       "    <tr>\n",
       "      <th>std</th>\n",
       "      <td>1.285875e+09</td>\n",
       "      <td>0.207775</td>\n",
       "      <td>0 days 00:00:03.349187</td>\n",
       "      <td>3.349188</td>\n",
       "    </tr>\n",
       "    <tr>\n",
       "      <th>min</th>\n",
       "      <td>2.290703e+07</td>\n",
       "      <td>1.000000</td>\n",
       "      <td>0 days 00:00:00</td>\n",
       "      <td>0.000000</td>\n",
       "    </tr>\n",
       "    <tr>\n",
       "      <th>25%</th>\n",
       "      <td>1.348146e+09</td>\n",
       "      <td>1.000000</td>\n",
       "      <td>0 days 00:00:03</td>\n",
       "      <td>3.000000</td>\n",
       "    </tr>\n",
       "    <tr>\n",
       "      <th>50%</th>\n",
       "      <td>2.529046e+09</td>\n",
       "      <td>1.000000</td>\n",
       "      <td>0 days 00:00:04</td>\n",
       "      <td>4.000000</td>\n",
       "    </tr>\n",
       "    <tr>\n",
       "      <th>75%</th>\n",
       "      <td>3.495266e+09</td>\n",
       "      <td>1.000000</td>\n",
       "      <td>0 days 00:00:06</td>\n",
       "      <td>6.000000</td>\n",
       "    </tr>\n",
       "    <tr>\n",
       "      <th>max</th>\n",
       "      <td>4.285161e+09</td>\n",
       "      <td>3.000000</td>\n",
       "      <td>0 days 00:00:18</td>\n",
       "      <td>18.000000</td>\n",
       "    </tr>\n",
       "  </tbody>\n",
       "</table>\n",
       "</div>"
      ],
      "text/plain": [
       "                 id       nviaje       diferencia_tiempo  \\\n",
       "count  1.071000e+03  1071.000000                    1071   \n",
       "mean   2.310199e+09     1.041083  0 days 00:00:05.365079   \n",
       "std    1.285875e+09     0.207775  0 days 00:00:03.349187   \n",
       "min    2.290703e+07     1.000000         0 days 00:00:00   \n",
       "25%    1.348146e+09     1.000000         0 days 00:00:03   \n",
       "50%    2.529046e+09     1.000000         0 days 00:00:04   \n",
       "75%    3.495266e+09     1.000000         0 days 00:00:06   \n",
       "max    4.285161e+09     3.000000         0 days 00:00:18   \n",
       "\n",
       "       diferencia_tiempo_secs  \n",
       "count             1071.000000  \n",
       "mean                 5.365079  \n",
       "std                  3.349188  \n",
       "min                  0.000000  \n",
       "25%                  3.000000  \n",
       "50%                  4.000000  \n",
       "75%                  6.000000  \n",
       "max                 18.000000  "
      ]
     },
     "execution_count": 13,
     "metadata": {},
     "output_type": "execute_result"
    }
   ],
   "source": [
    "noc_turnstile_95_df.describe()"
   ]
  },
  {
   "cell_type": "code",
   "execution_count": 14,
   "metadata": {
    "scrolled": true
   },
   "outputs": [
    {
     "data": {
      "text/html": [
       "<div>\n",
       "<style>\n",
       "    .dataframe thead tr:only-child th {\n",
       "        text-align: right;\n",
       "    }\n",
       "\n",
       "    .dataframe thead th {\n",
       "        text-align: left;\n",
       "    }\n",
       "\n",
       "    .dataframe tbody tr th {\n",
       "        vertical-align: top;\n",
       "    }\n",
       "</style>\n",
       "<table border=\"1\" class=\"dataframe\">\n",
       "  <thead>\n",
       "    <tr style=\"text-align: right;\">\n",
       "      <th></th>\n",
       "      <th>id</th>\n",
       "      <th>nviaje</th>\n",
       "      <th>diferencia_tiempo</th>\n",
       "      <th>diferencia_tiempo_secs</th>\n",
       "    </tr>\n",
       "  </thead>\n",
       "  <tbody>\n",
       "    <tr>\n",
       "      <th>count</th>\n",
       "      <td>2.505000e+03</td>\n",
       "      <td>2505.000000</td>\n",
       "      <td>2505</td>\n",
       "      <td>2505.000000</td>\n",
       "    </tr>\n",
       "    <tr>\n",
       "      <th>mean</th>\n",
       "      <td>2.282180e+09</td>\n",
       "      <td>1.022754</td>\n",
       "      <td>0 days 00:00:03.034730</td>\n",
       "      <td>3.034731</td>\n",
       "    </tr>\n",
       "    <tr>\n",
       "      <th>std</th>\n",
       "      <td>1.311436e+09</td>\n",
       "      <td>0.154412</td>\n",
       "      <td>0 days 00:00:02.296334</td>\n",
       "      <td>2.296335</td>\n",
       "    </tr>\n",
       "    <tr>\n",
       "      <th>min</th>\n",
       "      <td>1.922632e+07</td>\n",
       "      <td>1.000000</td>\n",
       "      <td>0 days 00:00:00</td>\n",
       "      <td>0.000000</td>\n",
       "    </tr>\n",
       "    <tr>\n",
       "      <th>25%</th>\n",
       "      <td>1.029179e+09</td>\n",
       "      <td>1.000000</td>\n",
       "      <td>0 days 00:00:02</td>\n",
       "      <td>2.000000</td>\n",
       "    </tr>\n",
       "    <tr>\n",
       "      <th>50%</th>\n",
       "      <td>2.531147e+09</td>\n",
       "      <td>1.000000</td>\n",
       "      <td>0 days 00:00:03</td>\n",
       "      <td>3.000000</td>\n",
       "    </tr>\n",
       "    <tr>\n",
       "      <th>75%</th>\n",
       "      <td>3.486002e+09</td>\n",
       "      <td>1.000000</td>\n",
       "      <td>0 days 00:00:04</td>\n",
       "      <td>4.000000</td>\n",
       "    </tr>\n",
       "    <tr>\n",
       "      <th>max</th>\n",
       "      <td>4.287654e+09</td>\n",
       "      <td>3.000000</td>\n",
       "      <td>0 days 00:00:13</td>\n",
       "      <td>13.000000</td>\n",
       "    </tr>\n",
       "  </tbody>\n",
       "</table>\n",
       "</div>"
      ],
      "text/plain": [
       "                 id       nviaje       diferencia_tiempo  \\\n",
       "count  2.505000e+03  2505.000000                    2505   \n",
       "mean   2.282180e+09     1.022754  0 days 00:00:03.034730   \n",
       "std    1.311436e+09     0.154412  0 days 00:00:02.296334   \n",
       "min    1.922632e+07     1.000000         0 days 00:00:00   \n",
       "25%    1.029179e+09     1.000000         0 days 00:00:02   \n",
       "50%    2.531147e+09     1.000000         0 days 00:00:03   \n",
       "75%    3.486002e+09     1.000000         0 days 00:00:04   \n",
       "max    4.287654e+09     3.000000         0 days 00:00:13   \n",
       "\n",
       "       diferencia_tiempo_secs  \n",
       "count             2505.000000  \n",
       "mean                 3.034731  \n",
       "std                  2.296335  \n",
       "min                  0.000000  \n",
       "25%                  2.000000  \n",
       "50%                  3.000000  \n",
       "75%                  4.000000  \n",
       "max                 13.000000  "
      ]
     },
     "execution_count": 14,
     "metadata": {},
     "output_type": "execute_result"
    }
   ],
   "source": [
    "noc_no_turnstile_95_df.describe()"
   ]
  },
  {
   "cell_type": "code",
   "execution_count": 15,
   "metadata": {},
   "outputs": [
    {
     "data": {
      "text/html": [
       "<div>\n",
       "<style>\n",
       "    .dataframe thead tr:only-child th {\n",
       "        text-align: right;\n",
       "    }\n",
       "\n",
       "    .dataframe thead th {\n",
       "        text-align: left;\n",
       "    }\n",
       "\n",
       "    .dataframe tbody tr th {\n",
       "        vertical-align: top;\n",
       "    }\n",
       "</style>\n",
       "<table border=\"1\" class=\"dataframe\">\n",
       "  <thead>\n",
       "    <tr style=\"text-align: right;\">\n",
       "      <th></th>\n",
       "      <th>id</th>\n",
       "      <th>nviaje</th>\n",
       "      <th>diferencia_tiempo</th>\n",
       "      <th>diferencia_tiempo_secs</th>\n",
       "    </tr>\n",
       "  </thead>\n",
       "  <tbody>\n",
       "    <tr>\n",
       "      <th>count</th>\n",
       "      <td>2.701350e+05</td>\n",
       "      <td>270135.000000</td>\n",
       "      <td>270135</td>\n",
       "      <td>270135.000000</td>\n",
       "    </tr>\n",
       "    <tr>\n",
       "      <th>mean</th>\n",
       "      <td>2.241494e+09</td>\n",
       "      <td>1.584437</td>\n",
       "      <td>0 days 00:00:05.751242</td>\n",
       "      <td>5.751243</td>\n",
       "    </tr>\n",
       "    <tr>\n",
       "      <th>std</th>\n",
       "      <td>1.299185e+09</td>\n",
       "      <td>0.845756</td>\n",
       "      <td>0 days 00:00:04.275162</td>\n",
       "      <td>4.275162</td>\n",
       "    </tr>\n",
       "    <tr>\n",
       "      <th>min</th>\n",
       "      <td>1.163146e+06</td>\n",
       "      <td>1.000000</td>\n",
       "      <td>0 days 00:00:00</td>\n",
       "      <td>0.000000</td>\n",
       "    </tr>\n",
       "    <tr>\n",
       "      <th>25%</th>\n",
       "      <td>9.350319e+08</td>\n",
       "      <td>1.000000</td>\n",
       "      <td>0 days 00:00:03</td>\n",
       "      <td>3.000000</td>\n",
       "    </tr>\n",
       "    <tr>\n",
       "      <th>50%</th>\n",
       "      <td>2.512588e+09</td>\n",
       "      <td>1.000000</td>\n",
       "      <td>0 days 00:00:04</td>\n",
       "      <td>4.000000</td>\n",
       "    </tr>\n",
       "    <tr>\n",
       "      <th>75%</th>\n",
       "      <td>3.380584e+09</td>\n",
       "      <td>2.000000</td>\n",
       "      <td>0 days 00:00:06</td>\n",
       "      <td>6.000000</td>\n",
       "    </tr>\n",
       "    <tr>\n",
       "      <th>max</th>\n",
       "      <td>4.293306e+09</td>\n",
       "      <td>14.000000</td>\n",
       "      <td>0 days 00:00:28</td>\n",
       "      <td>28.000000</td>\n",
       "    </tr>\n",
       "  </tbody>\n",
       "</table>\n",
       "</div>"
      ],
      "text/plain": [
       "                 id         nviaje       diferencia_tiempo  \\\n",
       "count  2.701350e+05  270135.000000                  270135   \n",
       "mean   2.241494e+09       1.584437  0 days 00:00:05.751242   \n",
       "std    1.299185e+09       0.845756  0 days 00:00:04.275162   \n",
       "min    1.163146e+06       1.000000         0 days 00:00:00   \n",
       "25%    9.350319e+08       1.000000         0 days 00:00:03   \n",
       "50%    2.512588e+09       1.000000         0 days 00:00:04   \n",
       "75%    3.380584e+09       2.000000         0 days 00:00:06   \n",
       "max    4.293306e+09      14.000000         0 days 00:00:28   \n",
       "\n",
       "       diferencia_tiempo_secs  \n",
       "count           270135.000000  \n",
       "mean                 5.751243  \n",
       "std                  4.275162  \n",
       "min                  0.000000  \n",
       "25%                  3.000000  \n",
       "50%                  4.000000  \n",
       "75%                  6.000000  \n",
       "max                 28.000000  "
      ]
     },
     "execution_count": 15,
     "metadata": {},
     "output_type": "execute_result"
    }
   ],
   "source": [
    "diur_turnstile_95_df.describe()"
   ]
  },
  {
   "cell_type": "code",
   "execution_count": 16,
   "metadata": {},
   "outputs": [
    {
     "data": {
      "text/html": [
       "<div>\n",
       "<style>\n",
       "    .dataframe thead tr:only-child th {\n",
       "        text-align: right;\n",
       "    }\n",
       "\n",
       "    .dataframe thead th {\n",
       "        text-align: left;\n",
       "    }\n",
       "\n",
       "    .dataframe tbody tr th {\n",
       "        vertical-align: top;\n",
       "    }\n",
       "</style>\n",
       "<table border=\"1\" class=\"dataframe\">\n",
       "  <thead>\n",
       "    <tr style=\"text-align: right;\">\n",
       "      <th></th>\n",
       "      <th>id</th>\n",
       "      <th>nviaje</th>\n",
       "      <th>diferencia_tiempo</th>\n",
       "      <th>diferencia_tiempo_secs</th>\n",
       "    </tr>\n",
       "  </thead>\n",
       "  <tbody>\n",
       "    <tr>\n",
       "      <th>count</th>\n",
       "      <td>1.038882e+06</td>\n",
       "      <td>1.038882e+06</td>\n",
       "      <td>1038882</td>\n",
       "      <td>1.038882e+06</td>\n",
       "    </tr>\n",
       "    <tr>\n",
       "      <th>mean</th>\n",
       "      <td>2.252206e+09</td>\n",
       "      <td>1.640421e+00</td>\n",
       "      <td>0 days 00:00:03.365230</td>\n",
       "      <td>3.365230e+00</td>\n",
       "    </tr>\n",
       "    <tr>\n",
       "      <th>std</th>\n",
       "      <td>1.294359e+09</td>\n",
       "      <td>8.627252e-01</td>\n",
       "      <td>0 days 00:00:03.332575</td>\n",
       "      <td>3.332575e+00</td>\n",
       "    </tr>\n",
       "    <tr>\n",
       "      <th>min</th>\n",
       "      <td>5.454520e+05</td>\n",
       "      <td>1.000000e+00</td>\n",
       "      <td>0 days 00:00:00</td>\n",
       "      <td>0.000000e+00</td>\n",
       "    </tr>\n",
       "    <tr>\n",
       "      <th>25%</th>\n",
       "      <td>9.356943e+08</td>\n",
       "      <td>1.000000e+00</td>\n",
       "      <td>0 days 00:00:02</td>\n",
       "      <td>2.000000e+00</td>\n",
       "    </tr>\n",
       "    <tr>\n",
       "      <th>50%</th>\n",
       "      <td>2.512582e+09</td>\n",
       "      <td>1.000000e+00</td>\n",
       "      <td>0 days 00:00:03</td>\n",
       "      <td>3.000000e+00</td>\n",
       "    </tr>\n",
       "    <tr>\n",
       "      <th>75%</th>\n",
       "      <td>3.417844e+09</td>\n",
       "      <td>2.000000e+00</td>\n",
       "      <td>0 days 00:00:04</td>\n",
       "      <td>4.000000e+00</td>\n",
       "    </tr>\n",
       "    <tr>\n",
       "      <th>max</th>\n",
       "      <td>4.293302e+09</td>\n",
       "      <td>1.900000e+01</td>\n",
       "      <td>0 days 00:00:23</td>\n",
       "      <td>2.300000e+01</td>\n",
       "    </tr>\n",
       "  </tbody>\n",
       "</table>\n",
       "</div>"
      ],
      "text/plain": [
       "                 id        nviaje       diferencia_tiempo  \\\n",
       "count  1.038882e+06  1.038882e+06                 1038882   \n",
       "mean   2.252206e+09  1.640421e+00  0 days 00:00:03.365230   \n",
       "std    1.294359e+09  8.627252e-01  0 days 00:00:03.332575   \n",
       "min    5.454520e+05  1.000000e+00         0 days 00:00:00   \n",
       "25%    9.356943e+08  1.000000e+00         0 days 00:00:02   \n",
       "50%    2.512582e+09  1.000000e+00         0 days 00:00:03   \n",
       "75%    3.417844e+09  2.000000e+00         0 days 00:00:04   \n",
       "max    4.293302e+09  1.900000e+01         0 days 00:00:23   \n",
       "\n",
       "       diferencia_tiempo_secs  \n",
       "count            1.038882e+06  \n",
       "mean             3.365230e+00  \n",
       "std              3.332575e+00  \n",
       "min              0.000000e+00  \n",
       "25%              2.000000e+00  \n",
       "50%              3.000000e+00  \n",
       "75%              4.000000e+00  \n",
       "max              2.300000e+01  "
      ]
     },
     "execution_count": 16,
     "metadata": {},
     "output_type": "execute_result"
    }
   ],
   "source": [
    "diur_no_turnstile_95_df.describe()"
   ]
  },
  {
   "cell_type": "markdown",
   "metadata": {},
   "source": [
    "* Plotting"
   ]
  },
  {
   "cell_type": "code",
   "execution_count": 17,
   "metadata": {
    "collapsed": true
   },
   "outputs": [],
   "source": [
    "colors = [(244, 67, 54),(3, 169, 244),(205, 220, 57)]\n",
    "for i in range(len(colors)):\n",
    "    r, g, b = colors[i]\n",
    "    colors[i] = (r / 255., g / 255., b / 255.)"
   ]
  },
  {
   "cell_type": "code",
   "execution_count": 18,
   "metadata": {
    "collapsed": true
   },
   "outputs": [],
   "source": [
    "noc_turnstile_values = noc_turnstile_95_df.diferencia_tiempo_secs.values\n",
    "noc_no_turnstile_values = noc_no_turnstile_95_df.diferencia_tiempo_secs.values\n",
    "diur_turnstile_values = diur_turnstile_95_df.diferencia_tiempo_secs.values\n",
    "diur_no_turnstile_values = diur_no_turnstile_95_df.diferencia_tiempo_secs.values"
   ]
  },
  {
   "cell_type": "markdown",
   "metadata": {},
   "source": [
    "* NIGHT: turns vs. without turns"
   ]
  },
  {
   "cell_type": "code",
   "execution_count": 19,
   "metadata": {
    "collapsed": true
   },
   "outputs": [],
   "source": [
    "noc_max_95 = max(noc_turnstile_95,noc_no_turnstile_95).total_seconds()\n",
    "bins = range(0,int(noc_max_95),1)"
   ]
  },
  {
   "cell_type": "code",
   "execution_count": 20,
   "metadata": {
    "scrolled": true
   },
   "outputs": [
    {
     "data": {
      "image/png": "[encoded data removed]",
      "text/plain": [
       "<matplotlib.figure.Figure at 0x1a825d0d048>"
      ]
     },
     "metadata": {},
     "output_type": "display_data"
    }
   ],
   "source": [
    "hist_fig, ax = plt.subplots()\n",
    "\n",
    "plot1 = ax.hist(noc_turnstile_values,normed=True,bins=bins,color=colors[0], alpha=0.5, label='noc - with all turnstiles')\n",
    "plot2 = ax.hist(noc_no_turnstile_values,normed=True,bins=bins,color=colors[1], alpha = 0.5, label='noc - without turnstiles')\n",
    "\n",
    "\n",
    "ax.set_title('NOC Time-interval between transactions (95th)')\n",
    "ax.set_xlabel('time-interval[s]')\n",
    "ax.set_ylabel('Relative Frequency')\n",
    "ax.legend()\n",
    "plt.savefig('C:/Users/Tesista/Desktop/Evasion/03_report/02_Figs/NOC-2017-03-01.pdf')"
   ]
  },
  {
   "cell_type": "markdown",
   "metadata": {},
   "source": [
    "* DAY: turns vs. without turns"
   ]
  },
  {
   "cell_type": "code",
   "execution_count": 21,
   "metadata": {
    "collapsed": true
   },
   "outputs": [],
   "source": [
    "diur_max_95 = max(diur_turnstile_95,diur_no_turnstile_95).total_seconds()\n",
    "bins = range(0,int(diur_max_95),1)"
   ]
  },
  {
   "cell_type": "code",
   "execution_count": 22,
   "metadata": {},
   "outputs": [
    {
     "data": {
      "image/png": "[encoded data removed]",
      "text/plain": [
       "<matplotlib.figure.Figure at 0x1a827171be0>"
      ]
     },
     "metadata": {},
     "output_type": "display_data"
    }
   ],
   "source": [
    "hist_fig, ax = plt.subplots()\n",
    "\n",
    "plot1 = ax.hist(diur_turnstile_values,normed=True,bins=bins,color=colors[0], alpha=0.5, label='diur - with all turnstiles')\n",
    "plot2 = ax.hist(diur_no_turnstile_values,normed=True,bins=bins,color=colors[1], alpha = 0.5, label='diur - without turnstiles')\n",
    "\n",
    "\n",
    "ax.set_title('DIUR Time-interval between transactions (95th)')\n",
    "ax.set_xlabel('time-interval[s]')\n",
    "ax.set_ylabel('Relative Frequency')\n",
    "ax.legend()\n",
    "plt.savefig('C:/Users/Tesista/Desktop/Evasion/03_report/02_Figs/DIUR-2017-03-01.pdf')"
   ]
  },
  {
   "cell_type": "markdown",
   "metadata": {},
   "source": [
    "* TURNS: day vs. night"
   ]
  },
  {
   "cell_type": "code",
   "execution_count": 23,
   "metadata": {
    "collapsed": true
   },
   "outputs": [],
   "source": [
    "turns_max_95 = max(noc_turnstile_95,diur_turnstile_95).total_seconds()\n",
    "bins = range(0,int(turns_max_95),1)"
   ]
  },
  {
   "cell_type": "code",
   "execution_count": 25,
   "metadata": {},
   "outputs": [
    {
     "data": {
      "image/png": "[encoded data removed]",
      "text/plain": [
       "<matplotlib.figure.Figure at 0x1a829797b38>"
      ]
     },
     "metadata": {},
     "output_type": "display_data"
    }
   ],
   "source": [
    "hist_fig, ax = plt.subplots()\n",
    "\n",
    "plot1 = ax.hist(diur_turnstile_values,normed=True,bins=bins,color=colors[2], alpha=0.9, label='diur - turnstiles')\n",
    "plot2 = ax.hist(noc_turnstile_values,normed=True,bins=bins,color=colors[1], alpha = 0.5, label='noc - turnstiles')\n",
    "\n",
    "\n",
    "ax.set_title('Turnstiles Time-interval between transactions (95th)')\n",
    "ax.set_xlabel('time-interval[s]')\n",
    "ax.set_ylabel('Relative Frequency')\n",
    "ax.legend()\n",
    "plt.savefig('C:/Users/Tesista/Desktop/Evasion/03_report/02_Figs/turnstiles-2017-03-01.pdf')"
   ]
  },
  {
   "cell_type": "markdown",
   "metadata": {},
   "source": [
    "* NO-TURNS: day vs. night"
   ]
  },
  {
   "cell_type": "code",
   "execution_count": 26,
   "metadata": {
    "collapsed": true
   },
   "outputs": [],
   "source": [
    "no_turns_max_95 = max(noc_no_turnstile_95,diur_no_turnstile_95).total_seconds()\n",
    "bins = range(0,int(no_turns_max_95),1)"
   ]
  },
  {
   "cell_type": "code",
   "execution_count": 27,
   "metadata": {},
   "outputs": [
    {
     "data": {
      "image/png": "[encoded data removed]",
      "text/plain": [
       "<matplotlib.figure.Figure at 0x1a826063be0>"
      ]
     },
     "metadata": {},
     "output_type": "display_data"
    }
   ],
   "source": [
    "hist_fig, ax = plt.subplots()\n",
    "\n",
    "plot1 = ax.hist(diur_no_turnstile_values,normed=True,bins=bins,color=colors[2], alpha=0.9, label='diur - no turnstiles')\n",
    "plot2 = ax.hist(noc_no_turnstile_values,normed=True,bins=bins,color=colors[1], alpha = 0.5, label='noc - no turnstiles')\n",
    "\n",
    "\n",
    "ax.set_title('No turnstiles Time-interval between transactions (95th)')\n",
    "ax.set_xlabel('time-interval[s]')\n",
    "ax.set_ylabel('Relative Frequency')\n",
    "ax.legend()\n",
    "plt.savefig('C:/Users/Tesista/Desktop/Evasion/03_report/02_Figs/no-turnstiles-2017-03-01.pdf')"
   ]
  },
  {
   "cell_type": "code",
   "execution_count": null,
   "metadata": {
    "collapsed": true
   },
   "outputs": [],
   "source": []
  }
 ],
 "metadata": {
  "kernelspec": {
   "display_name": "Python 3",
   "language": "python",
   "name": "python3"
  },
  "language_info": {
   "codemirror_mode": {
    "name": "ipython",
    "version": 3
   },
   "file_extension": ".py",
   "mimetype": "text/x-python",
   "name": "python",
   "nbconvert_exporter": "python",
   "pygments_lexer": "ipython3",
   "version": "3.6.1"
  }
 },
 "nbformat": 4,
 "nbformat_minor": 2
}
