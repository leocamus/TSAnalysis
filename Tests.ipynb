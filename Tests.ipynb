{
 "cells": [
  {
   "cell_type": "markdown",
   "metadata": {},
   "source": [
    "## This is an initial testing of TS codes"
   ]
  },
  {
   "cell_type": "code",
   "execution_count": 1,
   "metadata": {
    "collapsed": true
   },
   "outputs": [],
   "source": [
    "from Utils import headersUtils"
   ]
  },
  {
   "cell_type": "code",
   "execution_count": 9,
   "metadata": {},
   "outputs": [
    {
     "data": {
      "text/plain": [
       "'Module to handling Transantiago-data headers'"
      ]
     },
     "execution_count": 9,
     "metadata": {},
     "output_type": "execute_result"
    }
   ],
   "source": [
    "headersUtils.__doc__"
   ]
  },
  {
   "cell_type": "code",
   "execution_count": 4,
   "metadata": {},
   "outputs": [
    {
     "data": {
      "text/plain": [
       "['SSHDir',\n",
       " 'TRXPPUDir',\n",
       " 'TransantiagoConstants',\n",
       " '__builtins__',\n",
       " '__cached__',\n",
       " '__doc__',\n",
       " '__file__',\n",
       " '__loader__',\n",
       " '__name__',\n",
       " '__package__',\n",
       " '__spec__',\n",
       " 'currentSSHDates',\n",
       " 'defaultEtapasHeaders',\n",
       " 'defaultPerfilesHeaders',\n",
       " 'defaultTRXPPUHeaders',\n",
       " 'defaultViajesHeaders',\n",
       " 'getCurrentSSHDates',\n",
       " 'getHeaders',\n",
       " 'getNumberOfAttribute',\n",
       " 'os',\n",
       " 'readAndPrintHeader',\n",
       " 'threeLevelsUp']"
      ]
     },
     "execution_count": 4,
     "metadata": {},
     "output_type": "execute_result"
    }
   ],
   "source": [
    "dir(headersUtils)"
   ]
  },
  {
   "cell_type": "code",
   "execution_count": 5,
   "metadata": {},
   "outputs": [
    {
     "data": {
      "text/plain": [
       "{'2017-03-01'}"
      ]
     },
     "execution_count": 5,
     "metadata": {},
     "output_type": "execute_result"
    }
   ],
   "source": [
    "headersUtils.currentSSHDates"
   ]
  },
  {
   "cell_type": "code",
   "execution_count": 6,
   "metadata": {},
   "outputs": [
    {
     "data": {
      "text/plain": [
       "{'2017-03-01'}"
      ]
     },
     "execution_count": 6,
     "metadata": {},
     "output_type": "execute_result"
    }
   ],
   "source": [
    "headersUtils.getCurrentSSHDates()"
   ]
  },
  {
   "cell_type": "code",
   "execution_count": 7,
   "metadata": {
    "scrolled": true
   },
   "outputs": [
    {
     "data": {
      "text/plain": [
       "['id',\n",
       " 'nviaje',\n",
       " 'netapa',\n",
       " 'tipo_dia',\n",
       " 'tipo_transporte',\n",
       " 'fExpansionServicioPeriodoTS',\n",
       " 'tiene_bajada',\n",
       " 'tiempo2',\n",
       " 't_subida',\n",
       " 't_bajada',\n",
       " 't_etapa',\n",
       " 'media_hora_subida',\n",
       " 'media_hora_bajada',\n",
       " 'x_subida',\n",
       " 'y_subida',\n",
       " 'x_bajada',\n",
       " 'y_bajada',\n",
       " 'dist_ruta_paraderos',\n",
       " 'dist_eucl_paraderos',\n",
       " 'servicio_subida',\n",
       " 'servicio_bajada',\n",
       " 'par_subida',\n",
       " 'par_bajada',\n",
       " 'comuna_subida',\n",
       " 'comuna_bajada',\n",
       " 'zona_subida',\n",
       " 'zona_bajada',\n",
       " 'sitio_subida',\n",
       " 'fExpansionZonaPeriodoTS',\n",
       " 'tEsperaMediaIntervalo']"
      ]
     },
     "execution_count": 7,
     "metadata": {},
     "output_type": "execute_result"
    }
   ],
   "source": [
    "headersUtils.getHeaders('etapas')"
   ]
  },
  {
   "cell_type": "code",
   "execution_count": 4,
   "metadata": {},
   "outputs": [
    {
     "data": {
      "text/plain": [
       "'C:\\\\Users\\\\Tesista\\\\Desktop\\\\Evasión\\\\01_analisis'"
      ]
     },
     "execution_count": 4,
     "metadata": {},
     "output_type": "execute_result"
    }
   ],
   "source": [
    "headersUtils.fourLevelsUp"
   ]
  },
  {
   "cell_type": "code",
   "execution_count": 5,
   "metadata": {},
   "outputs": [
    {
     "data": {
      "text/plain": [
       "'C:\\\\Users\\\\Tesista\\\\Desktop\\\\Evasión\\\\01_analisis\\\\03_datos\\\\01_SSH'"
      ]
     },
     "execution_count": 5,
     "metadata": {},
     "output_type": "execute_result"
    }
   ],
   "source": [
    "headersUtils.SSHDir"
   ]
  },
  {
   "cell_type": "code",
   "execution_count": 2,
   "metadata": {},
   "outputs": [
    {
     "name": "stdout",
     "output_type": "stream",
     "text": [
      "['id', 'nviaje', 'netapa', 'tipo_dia', 'tipo_transporte', 'fExpansionServicioPeriodoTS', 'tiene_bajada', 'tiempo2', 't_subida', 't_bajada', 't_etapa', 'media_hora_subida', 'media_hora_bajada', 'x_subida', 'y_subida', 'x_bajada', 'y_bajada', 'dist_ruta_paraderos', 'dist_eucl_paraderos', 'servicio_subida', 'servicio_bajada', 'par_subida', 'par_bajada', 'comuna_subida', 'comuna_bajada', 'zona_subida', 'zona_bajada', 'sitio_subida', 'fExpansionZonaPeriodoTS', 'tEsperaMediaIntervalo\\n']\n"
     ]
    }
   ],
   "source": [
    "headersUtils.getHeaders('etapas','2017-03-01')"
   ]
  },
  {
   "cell_type": "code",
   "execution_count": 3,
   "metadata": {},
   "outputs": [
    {
     "name": "stdout",
     "output_type": "stream",
     "text": [
      "['id', 'nviaje', 'netapa', 'etapas', 'netapassinbajada', 'ultimaetapaconbajada', 'tviaje_seg', 'tviaje_min', 'dviajeeuclidiana_mts', 'dviajeenruta_mts', 'paraderosubida', 'paraderobajada', 'comunasubida', 'comunabajada', 'diseno777subida', 'diseno777bajada', 'tiemposubida', 'tiempobajada', 'periodosubida', 'periodobajada', 'tipodia', 'mediahora', 'contrato', 'factorexpansion', 'tiempomediodeviaje', 'periodomediodeviaje', 'mediahoramediodeviaje', 'tipodiamediodeviaje', 't_1era_etapa', 'd_1era_etapa', 'tespera_1era_etapa', 'ttrasbordo_1era_etapa', 'tcaminata_1era_etapa', 'dtransbordo_1era_etapa', 't_2da_etapa', 'd_2da_etapa', 'tespera_2da_etapa', 'ttrasbordo_2da_etapa', 'tcaminata_2da_etapa', 'dtransbordo_2da_etapa', 't_3era_etapa', 'd_3era_etapa', 'tespera_3era_etapa', 'ttrasbordo_3era_etapa', 'tcaminata_3era_etapa', 'dtransbordo_3era_etapa', 't_4ta_etapa', 'd_4ta_etapa', 'tespera_4ta_etapa', 'ttrasbordo_4ta_etapa', 'tcaminata_4ta_etapa', 'dtransbordo_4ta_etapa', 'op_1era_etapa', 'op_2da_etapa', 'op_3era_etapa', 'op_4ta_etapa', 'tipoop_1era_etapa', 'tipoop_2da_etapa', 'tipoop_3era_etapa', 'tipoop_4ta_etapa', 'serv_1era_etapa', 'serv_2da_etapa', 'serv_3era_etapa', 'serv_4ta_etapa', 'linea_metro_subida_1', 'linea_metro_subida_2', 'linea_metro_subida_3', 'linea_metro_subida_4', 'linea_metro_bajada_1', 'linea_metro_bajada_2', 'linea_metro_bajada_3', 'linea_metro_bajada_4', 'paraderosubida_1era', 'paraderosubida_2da', 'paraderosubida_3era', 'paraderosubida_4ta', 'tiemposubida_1era', 'tiemposubida_2da', 'tiemposubida_3era', 'tiemposubida_4ta', 'zona777subida_1era', 'zona777subida_2da', 'zona777subida_3era', 'zona777subida_4ta', 'paraderobajada_1era', 'paraderobajada_2da', 'paraderobajada_3era', 'paraderobajada_4ta', 'tiempobajada_1era', 'tiempobajada_2da', 'tiempobajada_3era', 'tiempobajada_4ta', 'zona777bajada_1era', 'zona777bajada_2da', 'zona777bajada_3era', 'zona777bajada_4ta', 'tipotransporte_1era', 'tipotransporte_2da', 'tipotransporte_3era', 'tipotransporte_4ta', 'tesperaest_1era', 'tesperaest_2da', 'tesperaest_3era', 'tesperaest_4ta', 'escolar', 'tviaje_en_vehiculo_min', 'tipo_corte_etapa_viaje', 'proposito', 'dviaje_buses\\n']\n"
     ]
    }
   ],
   "source": [
    "headersUtils.getHeaders('viajes','2017-03-01')"
   ]
  },
  {
   "cell_type": "code",
   "execution_count": 10,
   "metadata": {
    "scrolled": true
   },
   "outputs": [
    {
     "ename": "AttributeError",
     "evalue": "module 'Utils.headersUtils' has no attribute 'getIndexOfAttribute'",
     "output_type": "error",
     "traceback": [
      "\u001b[1;31m---------------------------------------------------------------------------\u001b[0m",
      "\u001b[1;31mAttributeError\u001b[0m                            Traceback (most recent call last)",
      "\u001b[1;32m<ipython-input-10-58a274b443a2>\u001b[0m in \u001b[0;36m<module>\u001b[1;34m()\u001b[0m\n\u001b[1;32m----> 1\u001b[1;33m \u001b[0mheadersUtils\u001b[0m\u001b[1;33m.\u001b[0m\u001b[0mgetIndexOfAttribute\u001b[0m\u001b[1;33m(\u001b[0m\u001b[1;34m'etapas'\u001b[0m\u001b[1;33m,\u001b[0m\u001b[1;34m'id'\u001b[0m\u001b[1;33m)\u001b[0m\u001b[1;33m\u001b[0m\u001b[0m\n\u001b[0m",
      "\u001b[1;31mAttributeError\u001b[0m: module 'Utils.headersUtils' has no attribute 'getIndexOfAttribute'"
     ]
    }
   ],
   "source": [
    "headersUtils.getIndexOfAttribute('etapas','id')"
   ]
  },
  {
   "cell_type": "code",
   "execution_count": 11,
   "metadata": {},
   "outputs": [
    {
     "data": {
      "text/plain": [
       "['SSHDir',\n",
       " 'TRXPPUDir',\n",
       " 'TransantiagoConstants',\n",
       " '__builtins__',\n",
       " '__cached__',\n",
       " '__doc__',\n",
       " '__file__',\n",
       " '__loader__',\n",
       " '__name__',\n",
       " '__package__',\n",
       " '__spec__',\n",
       " 'currentSSHDates',\n",
       " 'defaultEtapasHeaders',\n",
       " 'defaultPerfilesHeaders',\n",
       " 'defaultTRXPPUHeaders',\n",
       " 'defaultViajesHeaders',\n",
       " 'fourLevelsUp',\n",
       " 'getCurrentSSHDates',\n",
       " 'getHeaders',\n",
       " 'getNumberOfAttribute',\n",
       " 'os',\n",
       " 'readAndPrintHeader']"
      ]
     },
     "execution_count": 11,
     "metadata": {},
     "output_type": "execute_result"
    }
   ],
   "source": [
    "dir(headersUtils)"
   ]
  },
  {
   "cell_type": "code",
   "execution_count": 3,
   "metadata": {
    "collapsed": true
   },
   "outputs": [],
   "source": [
    "from importlib import reload"
   ]
  },
  {
   "cell_type": "code",
   "execution_count": 16,
   "metadata": {},
   "outputs": [
    {
     "data": {
      "text/plain": [
       "<module 'Utils.headersUtils' from 'C:\\\\Users\\\\Tesista\\\\Desktop\\\\Evasión\\\\01_analisis\\\\04_scripts\\\\TSAnalysis\\\\Utils\\\\headersUtils.py'>"
      ]
     },
     "execution_count": 16,
     "metadata": {},
     "output_type": "execute_result"
    }
   ],
   "source": [
    "reload(headersUtils)"
   ]
  },
  {
   "cell_type": "code",
   "execution_count": 17,
   "metadata": {},
   "outputs": [
    {
     "data": {
      "text/plain": [
       "[0]"
      ]
     },
     "execution_count": 17,
     "metadata": {},
     "output_type": "execute_result"
    }
   ],
   "source": [
    "headersUtils.getIndexOfAttribute('etapas','id')"
   ]
  },
  {
   "cell_type": "code",
   "execution_count": 18,
   "metadata": {},
   "outputs": [
    {
     "data": {
      "text/plain": [
       "[15]"
      ]
     },
     "execution_count": 18,
     "metadata": {},
     "output_type": "execute_result"
    }
   ],
   "source": [
    "headersUtils.getIndexOfAttribute('etapas','x_bajada')"
   ]
  },
  {
   "cell_type": "code",
   "execution_count": 8,
   "metadata": {},
   "outputs": [],
   "source": [
    "from Utils import printLinesUtils"
   ]
  },
  {
   "cell_type": "code",
   "execution_count": 9,
   "metadata": {},
   "outputs": [
    {
     "data": {
      "text/plain": [
       "<module 'Utils.printLinesUtils' from 'C:\\\\Users\\\\Tesista\\\\Desktop\\\\Evasión\\\\01_analisis\\\\04_scripts\\\\TSAnalysis\\\\Utils\\\\printLinesUtils.py'>"
      ]
     },
     "execution_count": 9,
     "metadata": {},
     "output_type": "execute_result"
    }
   ],
   "source": [
    "reload(printLinesUtils)"
   ]
  },
  {
   "cell_type": "code",
   "execution_count": null,
   "metadata": {
    "collapsed": true
   },
   "outputs": [],
   "source": []
  }
 ],
 "metadata": {
  "kernelspec": {
   "display_name": "Python 3",
   "language": "python",
   "name": "python3"
  },
  "language_info": {
   "codemirror_mode": {
    "name": "ipython",
    "version": 3
   },
   "file_extension": ".py",
   "mimetype": "text/x-python",
   "name": "python",
   "nbconvert_exporter": "python",
   "pygments_lexer": "ipython3",
   "version": "3.6.1"
  }
 },
 "nbformat": 4,
 "nbformat_minor": 2
}
