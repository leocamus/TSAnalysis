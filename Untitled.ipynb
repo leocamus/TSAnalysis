{
 "cells": [
  {
   "cell_type": "code",
   "execution_count": 1,
   "metadata": {},
   "outputs": [
    {
     "name": "stdout",
     "output_type": "stream",
     "text": [
      "Enter the date to analyze: 2017-03-01\n",
      "Enter the vehicle to analyze: BUS\n",
      "Consider ZP in perfiles file (0/1)?: 0\n"
     ]
    }
   ],
   "source": [
    "import RunDailyEtapasBuilder"
   ]
  },
  {
   "cell_type": "code",
   "execution_count": 6,
   "metadata": {
    "collapsed": true
   },
   "outputs": [],
   "source": [
    "import pandas as pd"
   ]
  },
  {
   "cell_type": "code",
   "execution_count": 4,
   "metadata": {
    "collapsed": true
   },
   "outputs": [],
   "source": [
    "import time"
   ]
  },
  {
   "cell_type": "code",
   "execution_count": 2,
   "metadata": {
    "collapsed": true
   },
   "outputs": [],
   "source": [
    "etapas_df = RunDailyEtapasBuilder.loadSimplifiedEtapas()"
   ]
  },
  {
   "cell_type": "code",
   "execution_count": 3,
   "metadata": {
    "collapsed": true
   },
   "outputs": [],
   "source": [
    "perfiles_df = RunDailyEtapasBuilder.loadSimplifiedPerfiles()"
   ]
  },
  {
   "cell_type": "code",
   "execution_count": null,
   "metadata": {},
   "outputs": [],
   "source": [
    "tic = time.clock()\n",
    "etapas_df['t_subida'] = pd.to_datetime(etapas_df.t_subida)\n",
    "perfiles_df['Hini'] = pd.to_datetime(perfiles_df.Hini)\n",
    "perfiles_df['Hfin'] = pd.to_datetime(perfiles_df.Hfin)\n",
    "for etapas_index, etapas_row in etapas_df.iterrows():\n",
    "\tfor perfiles_index, perfiles_row in perfiles_df.iterrows():\n",
    "\t\tif ((etapas_row['servicio_subida']==perfiles_row['ServicioSentido']) &\n",
    "\t\t\t(etapas_row['sitio_subida']==perfiles_row['Patente']) &\n",
    "\t\t\t(etapas_row['par_subida']==perfiles_row['Paradero']) &\n",
    "\t\t\t(perfiles_row['Hini']<=etapas_row['t_subida']<=perfiles_row['Hfin'])):\n",
    "\t\t\tetapas_row['id_expedicion']=perfiles_row['idExpedicion']\n",
    "\t\t\tbreak\n",
    "toc = time.clock()\n",
    "toc - tic"
   ]
  },
  {
   "cell_type": "code",
   "execution_count": null,
   "metadata": {
    "collapsed": true
   },
   "outputs": [],
   "source": []
  }
 ],
 "metadata": {
  "kernelspec": {
   "display_name": "Python 3",
   "language": "python",
   "name": "python3"
  },
  "language_info": {
   "codemirror_mode": {
    "name": "ipython",
    "version": 3
   },
   "file_extension": ".py",
   "mimetype": "text/x-python",
   "name": "python",
   "nbconvert_exporter": "python",
   "pygments_lexer": "ipython3",
   "version": "3.6.1"
  }
 },
 "nbformat": 4,
 "nbformat_minor": 2
}
