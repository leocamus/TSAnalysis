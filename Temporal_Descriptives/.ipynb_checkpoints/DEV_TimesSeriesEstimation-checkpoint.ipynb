{
 "cells": [
  {
   "cell_type": "markdown",
   "metadata": {},
   "source": [
    "## Time series estimation"
   ]
  },
  {
   "cell_type": "code",
   "execution_count": 1,
   "metadata": {
    "collapsed": true
   },
   "outputs": [],
   "source": [
    "import os\n",
    "import sys\n",
    "module_path = os.path.abspath(os.path.join('..'))\n",
    "if module_path not in sys.path:\n",
    "    sys.path.append(module_path)"
   ]
  },
  {
   "cell_type": "code",
   "execution_count": 2,
   "metadata": {},
   "outputs": [
    {
     "data": {
      "text/html": [
       "<style>.container { width:80% !important; }</style>"
      ],
      "text/plain": [
       "<IPython.core.display.HTML object>"
      ]
     },
     "metadata": {},
     "output_type": "display_data"
    }
   ],
   "source": [
    "%matplotlib inline\n",
    "from IPython.core.display import display, HTML\n",
    "display(HTML(\"<style>.container { width:80% !important; }</style>\"))\n",
    "\n",
    "import pandas as pd\n",
    "import matplotlib\n",
    "import matplotlib.pyplot as plt\n",
    "import matplotlib.dates as mdates\n",
    "import numpy as np\n",
    "import datetime as dt\n",
    "import time"
   ]
  },
  {
   "cell_type": "code",
   "execution_count": 3,
   "metadata": {},
   "outputs": [
    {
     "name": "stderr",
     "output_type": "stream",
     "text": [
      "C:\\Users\\leoca_000\\Anaconda3\\lib\\site-packages\\statsmodels\\compat\\pandas.py:56: FutureWarning: The pandas.core.datetools module is deprecated and will be removed in a future version. Please use the pandas.tseries module instead.\n",
      "  from pandas.core import datetools\n"
     ]
    }
   ],
   "source": [
    "import statsmodels.api as sm"
   ]
  },
  {
   "cell_type": "code",
   "execution_count": 4,
   "metadata": {
    "collapsed": true
   },
   "outputs": [],
   "source": [
    "from Utils import TransantiagoConstants"
   ]
  },
  {
   "cell_type": "code",
   "execution_count": 5,
   "metadata": {
    "collapsed": true
   },
   "outputs": [],
   "source": [
    "DTPMDir = TransantiagoConstants.DTPMDir\n",
    "DTPM_TRXDir = TransantiagoConstants.DTPM_TRXDir"
   ]
  },
  {
   "cell_type": "code",
   "execution_count": 6,
   "metadata": {
    "collapsed": true
   },
   "outputs": [],
   "source": [
    "independent_variables_path = os.path.join(DTPM_TRXDir,'0_INDEPENDENTS/independents_variables.csv')\n",
    "independent_variables = pd.read_csv(independent_variables_path,sep=';',encoding='latin-1', index_col=0)"
   ]
  },
  {
   "cell_type": "code",
   "execution_count": 7,
   "metadata": {},
   "outputs": [],
   "source": [
    "independent_variables.sort_values(by=['YEAR','MONTH','YEAR_DAY'],inplace=True)"
   ]
  },
  {
   "cell_type": "markdown",
   "metadata": {},
   "source": [
    "### DAILY AT SYSTEM LEVEL. CREATING NEW INDEPENDENT VARIABLES"
   ]
  },
  {
   "cell_type": "code",
   "execution_count": 8,
   "metadata": {
    "collapsed": true
   },
   "outputs": [],
   "source": [
    "daily_input_path = os.path.join(DTPM_TRXDir,'3_DAILY/daily_summary.csv')\n",
    "daily_trx = pd.read_csv(daily_input_path,sep=';',encoding='latin-1', index_col=0)"
   ]
  },
  {
   "cell_type": "code",
   "execution_count": 9,
   "metadata": {},
   "outputs": [],
   "source": [
    "daily_trx.sort_values(by=['YEAR','MONTH','YEAR_DAY'],inplace=True)"
   ]
  },
  {
   "cell_type": "code",
   "execution_count": 10,
   "metadata": {
    "collapsed": true
   },
   "outputs": [],
   "source": [
    "independent_variables.loc[:,'Verano'] =  independent_variables.loc[:,'Enero'] + independent_variables.loc[:,'Febrero']"
   ]
  },
  {
   "cell_type": "code",
   "execution_count": 11,
   "metadata": {
    "collapsed": true
   },
   "outputs": [],
   "source": [
    "independent_variables.loc[:,'Nov_Dic_2017'] = independent_variables.loc[:,'Nov_2017'] + independent_variables.loc[:,'Dic_2017']"
   ]
  },
  {
   "cell_type": "code",
   "execution_count": 12,
   "metadata": {},
   "outputs": [],
   "source": [
    "independent_variables = independent_variables.merge(daily_trx.loc[:,['YEAR','MONTH','YEAR_DAY','ratio_tm']], on=['YEAR','MONTH','YEAR_DAY'], how='left')"
   ]
  },
  {
   "cell_type": "code",
   "execution_count": 13,
   "metadata": {
    "collapsed": true
   },
   "outputs": [],
   "source": [
    "total_trx = daily_trx.loc[:,'pn_SUM_TRX_no_t'] + daily_trx.loc[:,'pn_SUM_TRX_3t'] + daily_trx.loc[:,'pn_SUM_TRX_tm'] + daily_trx.loc[:,'zp_SUM_TRX']"
   ]
  },
  {
   "cell_type": "markdown",
   "metadata": {},
   "source": [
    "#### ESTIMATION. 1ST MODEL"
   ]
  },
  {
   "cell_type": "markdown",
   "metadata": {},
   "source": [
    "Estimado por OLS.<br>\n",
    "<strong>Y:</strong><br>\n",
    "'total de transacciones'<br>\n",
    "<strong>X:</strong><br>\n",
    "'SATURDAY',<br>\n",
    "'SUNDAY',<br>\n",
    "'ratio',<br>\n",
    "'kms_ofertados',<br>\n",
    "'Verano',<br>\n",
    "'Julio',<br>\n",
    "'Nov_Dic_2017',<br>\n",
    "'t',<br>\n",
    "'Feriado_laboral',<br>\n",
    "'Feriado_no_laboral',<br>\n",
    "'Censo_Elecciones',<br>\n",
    "'Partido',<br>\n",
    "'FDS_Largo',<br>\n",
    "'Disturbios',<br>\n",
    "'Bucle',<br>\n",
    "'Clima',<br>\n",
    "'visperas_laborales'"
   ]
  },
  {
   "cell_type": "code",
   "execution_count": 14,
   "metadata": {
    "collapsed": true
   },
   "outputs": [],
   "source": [
    "Y = total_trx\n",
    "X = independent_variables.loc[:,['SATURDAY', 'SUNDAY', 'ratio_tm', 'kms_ofertados', 'Verano', 'Julio', 'Nov_Dic_2017',\n",
    "                                                't', 'Feriado_laboral', 'Feriado_no_laboral', 'Censo_Elecciones', 'Partido',\n",
    "                                                'FDS_Largo', 'Disturbios','Bucle', 'Clima', 'visperas_laborales']]"
   ]
  },
  {
   "cell_type": "code",
   "execution_count": 15,
   "metadata": {
    "collapsed": true
   },
   "outputs": [],
   "source": [
    "X = sm.add_constant(X)"
   ]
  },
  {
   "cell_type": "code",
   "execution_count": 16,
   "metadata": {
    "collapsed": true
   },
   "outputs": [],
   "source": [
    "model = sm.OLS(Y, X)"
   ]
  },
  {
   "cell_type": "code",
   "execution_count": 17,
   "metadata": {},
   "outputs": [
    {
     "name": "stdout",
     "output_type": "stream",
     "text": [
      "                            OLS Regression Results                            \n",
      "==============================================================================\n",
      "Dep. Variable:                      y   R-squared:                       0.952\n",
      "Model:                            OLS   Adj. R-squared:                  0.951\n",
      "Method:                 Least Squares   F-statistic:                     1255.\n",
      "Date:                Mon, 05 Mar 2018   Prob (F-statistic):               0.00\n",
      "Time:                        16:18:06   Log-Likelihood:                -14842.\n",
      "No. Observations:                1096   AIC:                         2.972e+04\n",
      "Df Residuals:                    1078   BIC:                         2.981e+04\n",
      "Df Model:                          17                                         \n",
      "Covariance Type:            nonrobust                                         \n",
      "======================================================================================\n",
      "                         coef    std err          t      P>|t|      [0.025      0.975]\n",
      "--------------------------------------------------------------------------------------\n",
      "const               3.049e+06   3.33e+04     91.665      0.000    2.98e+06    3.11e+06\n",
      "SATURDAY           -1.291e+06   1.76e+04    -73.227      0.000   -1.33e+06   -1.26e+06\n",
      "SUNDAY             -1.874e+06   1.92e+04    -97.804      0.000   -1.91e+06   -1.84e+06\n",
      "ratio_tm            7546.4269   1083.357      6.966      0.000    5420.699    9672.155\n",
      "kms_ofertados          0.1127      0.018      6.128      0.000       0.077       0.149\n",
      "Verano             -4.763e+05   1.62e+04    -29.395      0.000   -5.08e+05   -4.45e+05\n",
      "Julio              -1.634e+05   2.05e+04     -7.963      0.000   -2.04e+05   -1.23e+05\n",
      "Nov_Dic_2017        2.694e+04   3.15e+04      0.856      0.392   -3.48e+04    8.87e+04\n",
      "t                   -380.6367     33.913    -11.224      0.000    -447.181    -314.093\n",
      "Feriado_laboral    -1.653e+06   4.02e+04    -41.066      0.000   -1.73e+06   -1.57e+06\n",
      "Feriado_no_laboral  -2.06e+05    4.1e+04     -5.025      0.000   -2.86e+05   -1.26e+05\n",
      "Censo_Elecciones   -1.916e+05   9.51e+04     -2.014      0.044   -3.78e+05   -4963.869\n",
      "Partido            -1.867e+05   7.64e+04     -2.442      0.015   -3.37e+05   -3.67e+04\n",
      "FDS_Largo          -1.184e+05   2.72e+04     -4.358      0.000   -1.72e+05   -6.51e+04\n",
      "Disturbios          -2.47e+05   7.63e+04     -3.237      0.001   -3.97e+05   -9.73e+04\n",
      "Bucle               1.928e+04   2.45e+04      0.788      0.431   -2.87e+04    6.73e+04\n",
      "Clima              -3.077e+05   4.56e+04     -6.745      0.000   -3.97e+05   -2.18e+05\n",
      "visperas_laborales -4.127e+05   6.25e+04     -6.598      0.000   -5.35e+05    -2.9e+05\n",
      "==============================================================================\n",
      "Omnibus:                      424.236   Durbin-Watson:                   1.388\n",
      "Prob(Omnibus):                  0.000   Jarque-Bera (JB):             8408.186\n",
      "Skew:                           1.277   Prob(JB):                         0.00\n",
      "Kurtosis:                      16.327   Cond. No.                     2.24e+07\n",
      "==============================================================================\n",
      "\n",
      "Warnings:\n",
      "[1] Standard Errors assume that the covariance matrix of the errors is correctly specified.\n",
      "[2] The condition number is large, 2.24e+07. This might indicate that there are\n",
      "strong multicollinearity or other numerical problems.\n"
     ]
    }
   ],
   "source": [
    "results = model.fit()\n",
    "print(results.summary())"
   ]
  },
  {
   "cell_type": "markdown",
   "metadata": {},
   "source": [
    "----------------"
   ]
  },
  {
   "cell_type": "markdown",
   "metadata": {},
   "source": [
    "#### ESTIMATION. 2ND MODEL"
   ]
  },
  {
   "cell_type": "markdown",
   "metadata": {},
   "source": [
    "Estimado por OLS.<br>\n",
    "<strong>Y:</strong><br>\n",
    "'total de transacciones'<br>\n",
    "<strong>X:</strong><br>\n",
    "'SATURDAY',<br>\n",
    "'SUNDAY',<br>\n",
    "'ratio',<br>\n",
    "'kms_ofertados',<br>\n",
    "'Verano',<br>\n",
    "'Julio',<br>\n",
    "'Nov_Dic_2017',<br>\n",
    "'t',<br>\n",
    "'Feriado_laboral',<br>\n",
    "'Feriado_no_laboral',<br>\n",
    "'Censo_Elecciones',<br>\n",
    "'Partido',<br>\n",
    "'FDS_Largo',<br>\n",
    "'Disturbios',<br>\n",
    "'Bucle',<br>\n",
    "'Clima',<br>\n",
    "'visperas_laborales'<br>\n",
    "<strong>Omitidas:</strong><br>\n",
    "'Nov_Dic_2017',<br>\n",
    "'Bucle'"
   ]
  },
  {
   "cell_type": "code",
   "execution_count": 22,
   "metadata": {
    "collapsed": true
   },
   "outputs": [],
   "source": [
    "Y = total_trx\n",
    "X = independent_variables.loc[:,['SATURDAY','SUNDAY','ratio_tm','kms_ofertados','Verano','Julio','t','Feriado_laboral','Feriado_no_laboral','Censo_Elecciones',\n",
    "                                 'Partido','FDS_Largo','Disturbios','Clima','visperas_laborales']]"
   ]
  },
  {
   "cell_type": "code",
   "execution_count": 23,
   "metadata": {
    "collapsed": true
   },
   "outputs": [],
   "source": [
    "X = sm.add_constant(X)"
   ]
  },
  {
   "cell_type": "code",
   "execution_count": 24,
   "metadata": {
    "collapsed": true
   },
   "outputs": [],
   "source": [
    "model = sm.OLS(Y, X)"
   ]
  },
  {
   "cell_type": "code",
   "execution_count": 25,
   "metadata": {},
   "outputs": [
    {
     "name": "stdout",
     "output_type": "stream",
     "text": [
      "                            OLS Regression Results                            \n",
      "==============================================================================\n",
      "Dep. Variable:                      y   R-squared:                       0.952\n",
      "Model:                            OLS   Adj. R-squared:                  0.951\n",
      "Method:                 Least Squares   F-statistic:                     1423.\n",
      "Date:                Mon, 05 Mar 2018   Prob (F-statistic):               0.00\n",
      "Time:                        16:35:47   Log-Likelihood:                -14843.\n",
      "No. Observations:                1096   AIC:                         2.972e+04\n",
      "Df Residuals:                    1080   BIC:                         2.980e+04\n",
      "Df Model:                          15                                         \n",
      "Covariance Type:            nonrobust                                         \n",
      "======================================================================================\n",
      "                         coef    std err          t      P>|t|      [0.025      0.975]\n",
      "--------------------------------------------------------------------------------------\n",
      "const               3.053e+06   3.31e+04     92.338      0.000    2.99e+06    3.12e+06\n",
      "SATURDAY           -1.292e+06   1.76e+04    -73.391      0.000   -1.33e+06   -1.26e+06\n",
      "SUNDAY             -1.876e+06   1.91e+04    -98.238      0.000   -1.91e+06   -1.84e+06\n",
      "ratio_tm            8030.3190    929.217      8.642      0.000    6207.043    9853.595\n",
      "kms_ofertados          0.1123      0.018      6.111      0.000       0.076       0.148\n",
      "Verano              -4.77e+05   1.62e+04    -29.477      0.000   -5.09e+05   -4.45e+05\n",
      "Julio              -1.658e+05   2.04e+04     -8.136      0.000   -2.06e+05   -1.26e+05\n",
      "t                   -387.9495     33.090    -11.724      0.000    -452.877    -323.022\n",
      "Feriado_laboral    -1.654e+06   4.02e+04    -41.131      0.000   -1.73e+06   -1.58e+06\n",
      "Feriado_no_laboral -2.058e+05    4.1e+04     -5.021      0.000   -2.86e+05   -1.25e+05\n",
      "Censo_Elecciones   -1.843e+05   9.47e+04     -1.946      0.052    -3.7e+05    1494.251\n",
      "Partido            -1.881e+05   7.64e+04     -2.461      0.014   -3.38e+05   -3.81e+04\n",
      "FDS_Largo          -1.183e+05   2.72e+04     -4.356      0.000   -1.72e+05    -6.5e+04\n",
      "Disturbios         -2.464e+05   7.62e+04     -3.233      0.001   -3.96e+05   -9.69e+04\n",
      "Clima              -3.072e+05   4.56e+04     -6.740      0.000   -3.97e+05   -2.18e+05\n",
      "visperas_laborales -4.115e+05   6.24e+04     -6.591      0.000   -5.34e+05   -2.89e+05\n",
      "==============================================================================\n",
      "Omnibus:                      421.378   Durbin-Watson:                   1.385\n",
      "Prob(Omnibus):                  0.000   Jarque-Bera (JB):             8329.798\n",
      "Skew:                           1.266   Prob(JB):                         0.00\n",
      "Kurtosis:                      16.266   Cond. No.                     2.23e+07\n",
      "==============================================================================\n",
      "\n",
      "Warnings:\n",
      "[1] Standard Errors assume that the covariance matrix of the errors is correctly specified.\n",
      "[2] The condition number is large, 2.23e+07. This might indicate that there are\n",
      "strong multicollinearity or other numerical problems.\n"
     ]
    }
   ],
   "source": [
    "results = model.fit()\n",
    "print(results.summary())"
   ]
  },
  {
   "cell_type": "markdown",
   "metadata": {},
   "source": [
    "----------------"
   ]
  },
  {
   "cell_type": "markdown",
   "metadata": {},
   "source": [
    "#### ESTIMATION. 3RD MODEL"
   ]
  },
  {
   "cell_type": "markdown",
   "metadata": {},
   "source": [
    "Estimado por OLS.<br>\n",
    "<strong>Y:</strong><br>\n",
    "'total de transacciones'<br>\n",
    "<strong>X:</strong><br>\n",
    "'SATURDAY',<br>\n",
    "'SUNDAY',<br>\n",
    "'ratio',<br>\n",
    "'kms_ofertados',<br>\n",
    "'Verano',<br>\n",
    "'Julio',<br>\n",
    "'Nov_Dic_2017',<br>\n",
    "'t',<br>\n",
    "'Feriado_laboral',<br>\n",
    "'Feriado_no_laboral',<br>\n",
    "'Partido',<br>\n",
    "'FDS_Largo',<br>\n",
    "'Disturbios',<br>\n",
    "'Bucle',<br>\n",
    "'Clima',<br>\n",
    "'visperas_laborales'<br>\n",
    "<strong>Omitidas:</strong><br>\n",
    "'Nov_Dic_2017',<br>\n",
    "'Bucle',<br>\n",
    "'Censo_Elecciones'"
   ]
  },
  {
   "cell_type": "code",
   "execution_count": 26,
   "metadata": {
    "collapsed": true
   },
   "outputs": [],
   "source": [
    "Y = total_trx\n",
    "X = independent_variables.loc[:,['SATURDAY','SUNDAY','ratio_tm','kms_ofertados','Verano','Julio','t','Feriado_laboral','Feriado_no_laboral',\n",
    "                                 'Partido','FDS_Largo','Disturbios','Clima','visperas_laborales']]"
   ]
  },
  {
   "cell_type": "code",
   "execution_count": 27,
   "metadata": {
    "collapsed": true
   },
   "outputs": [],
   "source": [
    "X = sm.add_constant(X)"
   ]
  },
  {
   "cell_type": "code",
   "execution_count": 28,
   "metadata": {
    "collapsed": true
   },
   "outputs": [],
   "source": [
    "model = sm.OLS(Y, X)"
   ]
  },
  {
   "cell_type": "code",
   "execution_count": 29,
   "metadata": {},
   "outputs": [
    {
     "name": "stdout",
     "output_type": "stream",
     "text": [
      "                            OLS Regression Results                            \n",
      "==============================================================================\n",
      "Dep. Variable:                      y   R-squared:                       0.952\n",
      "Model:                            OLS   Adj. R-squared:                  0.951\n",
      "Method:                 Least Squares   F-statistic:                     1521.\n",
      "Date:                Mon, 05 Mar 2018   Prob (F-statistic):               0.00\n",
      "Time:                        16:47:43   Log-Likelihood:                -14845.\n",
      "No. Observations:                1096   AIC:                         2.972e+04\n",
      "Df Residuals:                    1081   BIC:                         2.979e+04\n",
      "Df Model:                          14                                         \n",
      "Covariance Type:            nonrobust                                         \n",
      "======================================================================================\n",
      "                         coef    std err          t      P>|t|      [0.025      0.975]\n",
      "--------------------------------------------------------------------------------------\n",
      "const               3.053e+06   3.31e+04     92.217      0.000    2.99e+06    3.12e+06\n",
      "SATURDAY           -1.293e+06   1.76e+04    -73.378      0.000   -1.33e+06   -1.26e+06\n",
      "SUNDAY             -1.881e+06    1.9e+04    -99.073      0.000   -1.92e+06   -1.84e+06\n",
      "ratio_tm            7964.4451    929.798      8.566      0.000    6140.033    9788.858\n",
      "kms_ofertados          0.1126      0.018      6.121      0.000       0.077       0.149\n",
      "Verano             -4.763e+05   1.62e+04    -29.403      0.000   -5.08e+05   -4.44e+05\n",
      "Julio              -1.647e+05   2.04e+04     -8.075      0.000   -2.05e+05   -1.25e+05\n",
      "t                   -388.2352     33.132    -11.718      0.000    -453.246    -323.225\n",
      "Feriado_laboral    -1.664e+06      4e+04    -41.649      0.000   -1.74e+06   -1.59e+06\n",
      "Feriado_no_laboral -2.045e+05    4.1e+04     -4.984      0.000   -2.85e+05   -1.24e+05\n",
      "Partido            -1.885e+05   7.65e+04     -2.465      0.014   -3.39e+05   -3.84e+04\n",
      "FDS_Largo          -1.125e+05    2.7e+04     -4.163      0.000   -1.66e+05   -5.95e+04\n",
      "Disturbios         -2.446e+05   7.63e+04     -3.206      0.001   -3.94e+05   -9.49e+04\n",
      "Clima              -3.058e+05   4.56e+04     -6.701      0.000   -3.95e+05   -2.16e+05\n",
      "visperas_laborales -4.108e+05   6.25e+04     -6.571      0.000   -5.33e+05   -2.88e+05\n",
      "==============================================================================\n",
      "Omnibus:                      418.926   Durbin-Watson:                   1.389\n",
      "Prob(Omnibus):                  0.000   Jarque-Bera (JB):             8553.632\n",
      "Skew:                           1.245   Prob(JB):                         0.00\n",
      "Kurtosis:                      16.457   Cond. No.                     1.80e+07\n",
      "==============================================================================\n",
      "\n",
      "Warnings:\n",
      "[1] Standard Errors assume that the covariance matrix of the errors is correctly specified.\n",
      "[2] The condition number is large, 1.8e+07. This might indicate that there are\n",
      "strong multicollinearity or other numerical problems.\n"
     ]
    }
   ],
   "source": [
    "results = model.fit()\n",
    "print(results.summary())"
   ]
  },
  {
   "cell_type": "markdown",
   "metadata": {},
   "source": [
    "## Closed"
   ]
  }
 ],
 "metadata": {
  "kernelspec": {
   "display_name": "Python 3",
   "language": "python",
   "name": "python3"
  },
  "language_info": {
   "codemirror_mode": {
    "name": "ipython",
    "version": 3
   },
   "file_extension": ".py",
   "mimetype": "text/x-python",
   "name": "python",
   "nbconvert_exporter": "python",
   "pygments_lexer": "ipython3",
   "version": "3.6.1"
  }
 },
 "nbformat": 4,
 "nbformat_minor": 2
}
