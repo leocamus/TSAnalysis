{
 "cells": [
  {
   "cell_type": "markdown",
   "metadata": {},
   "source": [
    "# Concatenating kms validamente ofertados"
   ]
  },
  {
   "cell_type": "code",
   "execution_count": 1,
   "metadata": {},
   "outputs": [],
   "source": [
    "import os\n",
    "import sys\n",
    "module_path = os.path.abspath(os.path.join('..'))\n",
    "if module_path not in sys.path:\n",
    "    sys.path.append(module_path)"
   ]
  },
  {
   "cell_type": "code",
   "execution_count": 2,
   "metadata": {},
   "outputs": [
    {
     "data": {
      "text/html": [
       "<style>.container { width:80% !important; }</style>"
      ],
      "text/plain": [
       "<IPython.core.display.HTML object>"
      ]
     },
     "metadata": {},
     "output_type": "display_data"
    }
   ],
   "source": [
    "from IPython.core.display import display, HTML\n",
    "display(HTML(\"<style>.container { width:80% !important; }</style>\"))\n",
    "\n",
    "import pandas as pd"
   ]
  },
  {
   "cell_type": "code",
   "execution_count": 3,
   "metadata": {},
   "outputs": [],
   "source": [
    "from Utils import TransantiagoConstants\n",
    "DTPMDir = TransantiagoConstants.DTPMDir"
   ]
  },
  {
   "cell_type": "code",
   "execution_count": 4,
   "metadata": {},
   "outputs": [],
   "source": [
    "years = ['2015','2016','2017']"
   ]
  },
  {
   "cell_type": "code",
   "execution_count": 5,
   "metadata": {},
   "outputs": [],
   "source": [
    "df_2015_path = os.path.join(DTPMDir, '11_TRXPPU_KMS/0_kms_recorridos/2015/2015.csv')\n",
    "df_2016_path = os.path.join(DTPMDir, '11_TRXPPU_KMS/0_kms_recorridos/2016/2016.csv')\n",
    "df_2017_path = os.path.join(DTPMDir, '11_TRXPPU_KMS/0_kms_recorridos/2017/2017.csv')\n",
    "\n",
    "df_2015 = pd.read_csv(df_2015_path, sep=';', encoding='latin-1')\n",
    "df_2016 = pd.read_csv(df_2016_path, sep=';', encoding='latin-1')\n",
    "df_2017 = pd.read_csv(df_2017_path, sep=';', encoding='latin-1')\n",
    "\n",
    "df_2015.rename(columns={\"sum\":\"kms_ofertados\"},inplace=True)\n",
    "df_2016.rename(columns={\"sum\":\"kms_ofertados\"},inplace=True)\n",
    "df_2017.rename(columns={\"sum\":\"kms_ofertados\"},inplace=True)\n",
    "\n",
    "\n",
    "frames = [df_2015, df_2016, df_2017]\n",
    "result = pd.concat(frames)\n",
    "\n",
    "result.reset_index(inplace=True, drop=True)"
   ]
  },
  {
   "cell_type": "code",
   "execution_count": 6,
   "metadata": {},
   "outputs": [],
   "source": [
    "consolidado_path = os.path.join(DTPMDir, '11_TRXPPU_KMS/1_consolidados/kms_recorridos.txt')\n",
    "result.to_csv(consolidado_path,sep=';', encoding='latin-1')"
   ]
  },
  {
   "cell_type": "markdown",
   "metadata": {},
   "source": [
    "### CLOSED"
   ]
  }
 ],
 "metadata": {
  "kernelspec": {
   "display_name": "Python 3",
   "language": "python",
   "name": "python3"
  },
  "language_info": {
   "codemirror_mode": {
    "name": "ipython",
    "version": 3
   },
   "file_extension": ".py",
   "mimetype": "text/x-python",
   "name": "python",
   "nbconvert_exporter": "python",
   "pygments_lexer": "ipython3",
   "version": "3.5.2+"
  }
 },
 "nbformat": 4,
 "nbformat_minor": 2
}
