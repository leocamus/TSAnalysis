{
 "cells": [
  {
   "cell_type": "markdown",
   "metadata": {},
   "source": [
    "## Plotting times series - Interactive"
   ]
  },
  {
   "cell_type": "code",
   "execution_count": 1,
   "metadata": {
    "collapsed": true
   },
   "outputs": [],
   "source": [
    "import os\n",
    "import sys\n",
    "module_path = os.path.abspath(os.path.join('..'))\n",
    "if module_path not in sys.path:\n",
    "    sys.path.append(module_path)"
   ]
  },
  {
   "cell_type": "code",
   "execution_count": 2,
   "metadata": {},
   "outputs": [
    {
     "data": {
      "text/html": [
       "<style>.container { width:80% !important; }</style>"
      ],
      "text/plain": [
       "<IPython.core.display.HTML object>"
      ]
     },
     "metadata": {},
     "output_type": "display_data"
    }
   ],
   "source": [
    "%matplotlib inline\n",
    "from IPython.core.display import display, HTML\n",
    "display(HTML(\"<style>.container { width:80% !important; }</style>\"))\n",
    "\n",
    "import pandas as pd\n",
    "import matplotlib\n",
    "import matplotlib.pyplot as plt\n",
    "import matplotlib.dates as mdates\n",
    "from matplotlib.ticker import FuncFormatter\n",
    "import numpy as np\n",
    "import datetime as dt\n",
    "import time"
   ]
  },
  {
   "cell_type": "code",
   "execution_count": 3,
   "metadata": {
    "collapsed": true
   },
   "outputs": [],
   "source": [
    "from Utils import TransantiagoConstants\n",
    "DTPM_TRXDir = TransantiagoConstants.DTPM_TRXDir"
   ]
  },
  {
   "cell_type": "code",
   "execution_count": 4,
   "metadata": {
    "collapsed": true
   },
   "outputs": [],
   "source": [
    "import plotly.plotly\n",
    "import plotly.graph_objs as go"
   ]
  },
  {
   "cell_type": "markdown",
   "metadata": {},
   "source": [
    "* Defining global things"
   ]
  },
  {
   "cell_type": "code",
   "execution_count": 5,
   "metadata": {
    "collapsed": true
   },
   "outputs": [],
   "source": [
    "colors = [(76, 181, 245),(183, 184, 182),(52, 103, 92),(179, 193, 0)]\n",
    "for i in range(len(colors)):\n",
    "    r, g, b = colors[i]  \n",
    "    colors[i] = (r / 255., g / 255., b / 255.)"
   ]
  },
  {
   "cell_type": "markdown",
   "metadata": {},
   "source": [
    "* Defining function to plot"
   ]
  },
  {
   "cell_type": "code",
   "execution_count": 6,
   "metadata": {
    "collapsed": true
   },
   "outputs": [],
   "source": [
    "def plottingInteractively(dates,y_zp,y_st,y_3t,y_tm,y_exp, name):\n",
    "    trace1 = go.Bar(\n",
    "        x=dates,\n",
    "        y=y_zp,\n",
    "        name='ZP',\n",
    "        marker=dict(\n",
    "            color='rgb(76, 181, 245)',\n",
    "        ),\n",
    "        opacity=0.6\n",
    "    )\n",
    "\n",
    "    trace2 = go.Bar(\n",
    "        x=dates,\n",
    "        y=y_st,\n",
    "        name='S/T',\n",
    "        marker=dict(\n",
    "            color='rgb(183, 184, 182)',\n",
    "        ),\n",
    "        opacity=0.6\n",
    "    )\n",
    "\n",
    "    trace3 = go.Bar(\n",
    "        x=dates,\n",
    "        y=y_3t,\n",
    "        name='C/T3',\n",
    "        marker=dict(\n",
    "            color='rgb(52, 103, 92)',\n",
    "        ),\n",
    "        opacity=0.6    \n",
    "\n",
    "    )\n",
    "    \n",
    "    trace4 = go.Bar(\n",
    "        x=dates,\n",
    "        y=y_tm,\n",
    "        name='C/TM',\n",
    "        marker=dict(\n",
    "            color='rgb(179, 193, 0)',\n",
    "        ),\n",
    "        opacity=0.6 \n",
    "    )\n",
    "\n",
    "    trace5 = go.Scatter(\n",
    "        x = dates,\n",
    "        y = y_exp,\n",
    "        yaxis='y2',\n",
    "        name = '%Exp.C/TM',\n",
    "        marker=dict(\n",
    "            color='rgb(0, 0, 0)',\n",
    "        ),\n",
    "    )\n",
    "\n",
    "\n",
    "    data = [trace1, trace2, trace3, trace4, trace5]\n",
    "\n",
    "    layout = go.Layout(\n",
    "        title='Transacciones en bus y zona paga, ' + name + ', 2015 a 2017',\n",
    "        barmode='stack',\n",
    "        yaxis=dict(\n",
    "            title='Transacciones'\n",
    "        ),\n",
    "        yaxis2=dict(\n",
    "            title='% exps. diarias C/TM',\n",
    "            overlaying='y',\n",
    "            side='right',\n",
    "            range=[0, 100]\n",
    "        )\n",
    "    )\n",
    "\n",
    "    fig = go.Figure(data=data, layout=layout)\n",
    "    plotly.offline.plot(fig, filename=name)"
   ]
  },
  {
   "cell_type": "markdown",
   "metadata": {},
   "source": [
    "* Plotting interactively"
   ]
  },
  {
   "cell_type": "code",
   "execution_count": 7,
   "metadata": {
    "collapsed": true
   },
   "outputs": [],
   "source": [
    "monthly_input_path = os.path.join(DTPM_TRXDir,'1_MONTHLY/monthly_summary.csv')\n",
    "monthly_trx = pd.read_csv(monthly_input_path,sep=';',encoding='latin-1', index_col=0)"
   ]
  },
  {
   "cell_type": "code",
   "execution_count": 8,
   "metadata": {
    "collapsed": true
   },
   "outputs": [],
   "source": [
    "dates = pd.date_range(start='2015-01',end='2018-01',freq='M')\n",
    "no_turnstile_values = list(map(int, monthly_trx['pn_SUM_TRX_no_t'].values))\n",
    "three_turnstile_values = list(map(int,monthly_trx['pn_SUM_TRX_3t'].values))\n",
    "butterfly_turnstile_values = list(map(int,monthly_trx['pn_SUM_TRX_tm'].values))\n",
    "zp_values = list(map(int,monthly_trx['zp_SUM_TRX'].values))\n",
    "ratio_butterfly_turnstile_values = list(map(int,monthly_trx['ratio_tm'].values))"
   ]
  },
  {
   "cell_type": "code",
   "execution_count": 9,
   "metadata": {},
   "outputs": [
    {
     "name": "stderr",
     "output_type": "stream",
     "text": [
      "C:\\Users\\leoca_000\\Anaconda3\\lib\\site-packages\\plotly\\offline\\offline.py:459: UserWarning:\n",
      "\n",
      "Your filename `sistema` didn't end with .html. Adding .html to the end of your file.\n",
      "\n"
     ]
    }
   ],
   "source": [
    "plottingInteractively(dates,zp_values,no_turnstile_values,three_turnstile_values,butterfly_turnstile_values,ratio_butterfly_turnstile_values,'sistema')"
   ]
  },
  {
   "cell_type": "code",
   "execution_count": 10,
   "metadata": {
    "collapsed": true
   },
   "outputs": [],
   "source": [
    "UN = 'U1'\n",
    "monthly_input_path = os.path.join(DTPM_TRXDir,'2_MONTHLY_UN/' + UN + '/' + UN + '_summary.csv')\n",
    "monthly_trx = pd.read_csv(monthly_input_path,sep=';',encoding='latin-1', index_col=0)"
   ]
  },
  {
   "cell_type": "code",
   "execution_count": 11,
   "metadata": {
    "collapsed": true
   },
   "outputs": [],
   "source": [
    "dates = pd.date_range(start='2015-01',end='2018-01',freq='M')\n",
    "no_turnstile_values = list(map(int, monthly_trx['pn_SUM_TRX_no_t'].values))\n",
    "three_turnstile_values = list(map(int,monthly_trx['pn_SUM_TRX_3t'].values))\n",
    "butterfly_turnstile_values = list(map(int,monthly_trx['pn_SUM_TRX_tm'].values))\n",
    "zp_values = list(map(int,monthly_trx['zp_SUM_TRX'].values))\n",
    "ratio_butterfly_turnstile_values = list(map(int,monthly_trx['ratio_tm'].values))"
   ]
  },
  {
   "cell_type": "code",
   "execution_count": 12,
   "metadata": {},
   "outputs": [
    {
     "name": "stderr",
     "output_type": "stream",
     "text": [
      "C:\\Users\\leoca_000\\Anaconda3\\lib\\site-packages\\plotly\\offline\\offline.py:459: UserWarning:\n",
      "\n",
      "Your filename `U1` didn't end with .html. Adding .html to the end of your file.\n",
      "\n"
     ]
    }
   ],
   "source": [
    "plottingInteractively(dates,zp_values,no_turnstile_values,three_turnstile_values,butterfly_turnstile_values,ratio_butterfly_turnstile_values,UN)"
   ]
  },
  {
   "cell_type": "code",
   "execution_count": 13,
   "metadata": {
    "collapsed": true
   },
   "outputs": [],
   "source": [
    "UN = 'U2'\n",
    "monthly_input_path = os.path.join(DTPM_TRXDir,'2_MONTHLY_UN/' + UN + '/' + UN + '_summary.csv')\n",
    "monthly_trx = pd.read_csv(monthly_input_path,sep=';',encoding='latin-1', index_col=0)"
   ]
  },
  {
   "cell_type": "code",
   "execution_count": 14,
   "metadata": {
    "collapsed": true
   },
   "outputs": [],
   "source": [
    "dates = pd.date_range(start='2015-01',end='2018-01',freq='M')\n",
    "no_turnstile_values = list(map(int, monthly_trx['pn_SUM_TRX_no_t'].values))\n",
    "three_turnstile_values = list(map(int,monthly_trx['pn_SUM_TRX_3t'].values))\n",
    "butterfly_turnstile_values = list(map(int,monthly_trx['pn_SUM_TRX_tm'].values))\n",
    "zp_values = list(map(int,monthly_trx['zp_SUM_TRX'].values))\n",
    "ratio_butterfly_turnstile_values = list(map(int,monthly_trx['ratio_tm'].values))"
   ]
  },
  {
   "cell_type": "code",
   "execution_count": 15,
   "metadata": {},
   "outputs": [
    {
     "name": "stderr",
     "output_type": "stream",
     "text": [
      "C:\\Users\\leoca_000\\Anaconda3\\lib\\site-packages\\plotly\\offline\\offline.py:459: UserWarning:\n",
      "\n",
      "Your filename `U2` didn't end with .html. Adding .html to the end of your file.\n",
      "\n"
     ]
    }
   ],
   "source": [
    "plottingInteractively(dates,zp_values,no_turnstile_values,three_turnstile_values,butterfly_turnstile_values,ratio_butterfly_turnstile_values,UN)"
   ]
  },
  {
   "cell_type": "code",
   "execution_count": 16,
   "metadata": {
    "collapsed": true
   },
   "outputs": [],
   "source": [
    "UN = 'U3'\n",
    "monthly_input_path = os.path.join(DTPM_TRXDir,'2_MONTHLY_UN/' + UN + '/' + UN + '_summary.csv')\n",
    "monthly_trx = pd.read_csv(monthly_input_path,sep=';',encoding='latin-1', index_col=0)"
   ]
  },
  {
   "cell_type": "code",
   "execution_count": 17,
   "metadata": {
    "collapsed": true
   },
   "outputs": [],
   "source": [
    "dates = pd.date_range(start='2015-01',end='2018-01',freq='M')\n",
    "no_turnstile_values = list(map(int, monthly_trx['pn_SUM_TRX_no_t'].values))\n",
    "three_turnstile_values = list(map(int,monthly_trx['pn_SUM_TRX_3t'].values))\n",
    "butterfly_turnstile_values = list(map(int,monthly_trx['pn_SUM_TRX_tm'].values))\n",
    "zp_values = list(map(int,monthly_trx['zp_SUM_TRX'].values))\n",
    "ratio_butterfly_turnstile_values = list(map(int,monthly_trx['ratio_tm'].values))"
   ]
  },
  {
   "cell_type": "code",
   "execution_count": 18,
   "metadata": {},
   "outputs": [
    {
     "name": "stderr",
     "output_type": "stream",
     "text": [
      "C:\\Users\\leoca_000\\Anaconda3\\lib\\site-packages\\plotly\\offline\\offline.py:459: UserWarning:\n",
      "\n",
      "Your filename `U3` didn't end with .html. Adding .html to the end of your file.\n",
      "\n"
     ]
    }
   ],
   "source": [
    "plottingInteractively(dates,zp_values,no_turnstile_values,three_turnstile_values,butterfly_turnstile_values,ratio_butterfly_turnstile_values,UN)"
   ]
  },
  {
   "cell_type": "code",
   "execution_count": 19,
   "metadata": {
    "collapsed": true
   },
   "outputs": [],
   "source": [
    "UN = 'U4'\n",
    "monthly_input_path = os.path.join(DTPM_TRXDir,'2_MONTHLY_UN/' + UN + '/' + UN + '_summary.csv')\n",
    "monthly_trx = pd.read_csv(monthly_input_path,sep=';',encoding='latin-1', index_col=0)"
   ]
  },
  {
   "cell_type": "code",
   "execution_count": 20,
   "metadata": {
    "collapsed": true
   },
   "outputs": [],
   "source": [
    "dates = pd.date_range(start='2015-01',end='2018-01',freq='M')\n",
    "no_turnstile_values = list(map(int, monthly_trx['pn_SUM_TRX_no_t'].values))\n",
    "three_turnstile_values = list(map(int,monthly_trx['pn_SUM_TRX_3t'].values))\n",
    "butterfly_turnstile_values = list(map(int,monthly_trx['pn_SUM_TRX_tm'].values))\n",
    "zp_values = list(map(int,monthly_trx['zp_SUM_TRX'].values))\n",
    "ratio_butterfly_turnstile_values = list(map(int,monthly_trx['ratio_tm'].values))"
   ]
  },
  {
   "cell_type": "code",
   "execution_count": 21,
   "metadata": {},
   "outputs": [
    {
     "name": "stderr",
     "output_type": "stream",
     "text": [
      "C:\\Users\\leoca_000\\Anaconda3\\lib\\site-packages\\plotly\\offline\\offline.py:459: UserWarning:\n",
      "\n",
      "Your filename `U4` didn't end with .html. Adding .html to the end of your file.\n",
      "\n"
     ]
    }
   ],
   "source": [
    "plottingInteractively(dates,zp_values,no_turnstile_values,three_turnstile_values,butterfly_turnstile_values,ratio_butterfly_turnstile_values,UN)"
   ]
  },
  {
   "cell_type": "code",
   "execution_count": 22,
   "metadata": {
    "collapsed": true
   },
   "outputs": [],
   "source": [
    "UN = 'U5'\n",
    "monthly_input_path = os.path.join(DTPM_TRXDir,'2_MONTHLY_UN/' + UN + '/' + UN + '_summary.csv')\n",
    "monthly_trx = pd.read_csv(monthly_input_path,sep=';',encoding='latin-1', index_col=0)"
   ]
  },
  {
   "cell_type": "code",
   "execution_count": 23,
   "metadata": {
    "collapsed": true
   },
   "outputs": [],
   "source": [
    "dates = pd.date_range(start='2015-01',end='2018-01',freq='M')\n",
    "no_turnstile_values = list(map(int, monthly_trx['pn_SUM_TRX_no_t'].values))\n",
    "three_turnstile_values = list(map(int,monthly_trx['pn_SUM_TRX_3t'].values))\n",
    "butterfly_turnstile_values = list(map(int,monthly_trx['pn_SUM_TRX_tm'].values))\n",
    "zp_values = list(map(int,monthly_trx['zp_SUM_TRX'].values))\n",
    "ratio_butterfly_turnstile_values = list(map(int,monthly_trx['ratio_tm'].values))"
   ]
  },
  {
   "cell_type": "code",
   "execution_count": 24,
   "metadata": {},
   "outputs": [
    {
     "name": "stderr",
     "output_type": "stream",
     "text": [
      "C:\\Users\\leoca_000\\Anaconda3\\lib\\site-packages\\plotly\\offline\\offline.py:459: UserWarning:\n",
      "\n",
      "Your filename `U5` didn't end with .html. Adding .html to the end of your file.\n",
      "\n"
     ]
    }
   ],
   "source": [
    "plottingInteractively(dates,zp_values,no_turnstile_values,three_turnstile_values,butterfly_turnstile_values,ratio_butterfly_turnstile_values,UN)"
   ]
  },
  {
   "cell_type": "code",
   "execution_count": 25,
   "metadata": {
    "collapsed": true
   },
   "outputs": [],
   "source": [
    "UN = 'U6'\n",
    "monthly_input_path = os.path.join(DTPM_TRXDir,'2_MONTHLY_UN/' + UN + '/' + UN + '_summary.csv')\n",
    "monthly_trx = pd.read_csv(monthly_input_path,sep=';',encoding='latin-1', index_col=0)"
   ]
  },
  {
   "cell_type": "code",
   "execution_count": 26,
   "metadata": {
    "collapsed": true
   },
   "outputs": [],
   "source": [
    "dates = pd.date_range(start='2015-01',end='2018-01',freq='M')\n",
    "no_turnstile_values = list(map(int, monthly_trx['pn_SUM_TRX_no_t'].values))\n",
    "three_turnstile_values = list(map(int,monthly_trx['pn_SUM_TRX_3t'].values))\n",
    "butterfly_turnstile_values = list(map(int,monthly_trx['pn_SUM_TRX_tm'].values))\n",
    "zp_values = list(map(int,monthly_trx['zp_SUM_TRX'].values))\n",
    "ratio_butterfly_turnstile_values = list(map(int,monthly_trx['ratio_tm'].values))"
   ]
  },
  {
   "cell_type": "code",
   "execution_count": 27,
   "metadata": {},
   "outputs": [
    {
     "name": "stderr",
     "output_type": "stream",
     "text": [
      "C:\\Users\\leoca_000\\Anaconda3\\lib\\site-packages\\plotly\\offline\\offline.py:459: UserWarning:\n",
      "\n",
      "Your filename `U6` didn't end with .html. Adding .html to the end of your file.\n",
      "\n"
     ]
    }
   ],
   "source": [
    "plottingInteractively(dates,zp_values,no_turnstile_values,three_turnstile_values,butterfly_turnstile_values,ratio_butterfly_turnstile_values,UN)"
   ]
  },
  {
   "cell_type": "code",
   "execution_count": 28,
   "metadata": {
    "collapsed": true
   },
   "outputs": [],
   "source": [
    "UN = 'U7'\n",
    "monthly_input_path = os.path.join(DTPM_TRXDir,'2_MONTHLY_UN/' + UN + '/' + UN + '_summary.csv')\n",
    "monthly_trx = pd.read_csv(monthly_input_path,sep=';',encoding='latin-1', index_col=0)"
   ]
  },
  {
   "cell_type": "code",
   "execution_count": 29,
   "metadata": {
    "collapsed": true
   },
   "outputs": [],
   "source": [
    "dates = pd.date_range(start='2015-01',end='2018-01',freq='M')\n",
    "no_turnstile_values = list(map(int, monthly_trx['pn_SUM_TRX_no_t'].values))\n",
    "three_turnstile_values = list(map(int,monthly_trx['pn_SUM_TRX_3t'].values))\n",
    "butterfly_turnstile_values = list(map(int,monthly_trx['pn_SUM_TRX_tm'].values))\n",
    "zp_values = list(map(int,monthly_trx['zp_SUM_TRX'].values))\n",
    "ratio_butterfly_turnstile_values = list(map(int,monthly_trx['ratio_tm'].values))"
   ]
  },
  {
   "cell_type": "code",
   "execution_count": 30,
   "metadata": {},
   "outputs": [
    {
     "name": "stderr",
     "output_type": "stream",
     "text": [
      "C:\\Users\\leoca_000\\Anaconda3\\lib\\site-packages\\plotly\\offline\\offline.py:459: UserWarning:\n",
      "\n",
      "Your filename `U7` didn't end with .html. Adding .html to the end of your file.\n",
      "\n"
     ]
    }
   ],
   "source": [
    "plottingInteractively(dates,zp_values,no_turnstile_values,three_turnstile_values,butterfly_turnstile_values,ratio_butterfly_turnstile_values,UN)"
   ]
  }
 ],
 "metadata": {
  "kernelspec": {
   "display_name": "Python 3",
   "language": "python",
   "name": "python3"
  },
  "language_info": {
   "codemirror_mode": {
    "name": "ipython",
    "version": 3
   },
   "file_extension": ".py",
   "mimetype": "text/x-python",
   "name": "python",
   "nbconvert_exporter": "python",
   "pygments_lexer": "ipython3",
   "version": "3.6.1"
  }
 },
 "nbformat": 4,
 "nbformat_minor": 2
}
