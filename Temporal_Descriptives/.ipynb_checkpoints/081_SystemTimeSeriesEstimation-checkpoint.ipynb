{
 "cells": [
  {
   "cell_type": "markdown",
   "metadata": {},
   "source": [
    "# Time series estimation at system level"
   ]
  },
  {
   "cell_type": "markdown",
   "metadata": {},
   "source": [
    "1. Import datasets\n",
    "2. Unit root testing.\n",
    "3. Estimation and saving results\n",
    "4. Summarizing and printing results to files"
   ]
  },
  {
   "cell_type": "code",
   "execution_count": 1,
   "metadata": {},
   "outputs": [
    {
     "name": "stderr",
     "output_type": "stream",
     "text": [
      "/usr/local/lib/python3.5/dist-packages/statsmodels/compat/pandas.py:56: FutureWarning: The pandas.core.datetools module is deprecated and will be removed in a future version. Please use the pandas.tseries module instead.\n",
      "  from pandas.core import datetools\n"
     ]
    },
    {
     "data": {
      "text/html": [
       "<style>.container { width:100% !important; }</style>"
      ],
      "text/plain": [
       "<IPython.core.display.HTML object>"
      ]
     },
     "metadata": {},
     "output_type": "display_data"
    }
   ],
   "source": [
    "import os\n",
    "import sys\n",
    "module_path = os.path.abspath(os.path.join('..'))\n",
    "if module_path not in sys.path:\n",
    "    sys.path.append(module_path)\n",
    "\n",
    "import pandas as pd\n",
    "import statsmodels.api as sm\n",
    "import math\n",
    "\n",
    "from Utils import TransantiagoConstants\n",
    "from IPython.core.display import display, HTML\n",
    "display(HTML(\"<style>.container { width:100% !important; }</style>\"))"
   ]
  },
  {
   "cell_type": "code",
   "execution_count": 2,
   "metadata": {},
   "outputs": [],
   "source": [
    "DTPMDir = TransantiagoConstants.DTPMDir\n",
    "DTPM_TRXDir = TransantiagoConstants.DTPM_TRXDir"
   ]
  },
  {
   "cell_type": "markdown",
   "metadata": {},
   "source": [
    "* Importing datasets"
   ]
  },
  {
   "cell_type": "code",
   "execution_count": 3,
   "metadata": {},
   "outputs": [],
   "source": [
    "daily_input_path = os.path.join(DTPM_TRXDir,'3_DAILY/daily_summary.csv')\n",
    "daily_trx = pd.read_csv(daily_input_path,sep=';',encoding='latin-1', index_col=0)"
   ]
  },
  {
   "cell_type": "code",
   "execution_count": 4,
   "metadata": {},
   "outputs": [],
   "source": [
    "daily_trx.loc[:,'TOTAL_trx'] = daily_trx.loc[:,'pn_SUM_TRX_no_t'] + daily_trx.loc[:,'pn_SUM_TRX_3t'] + daily_trx.loc[:,'pn_SUM_TRX_tm'] + daily_trx.loc[:,'zp_SUM_TRX']"
   ]
  },
  {
   "cell_type": "code",
   "execution_count": 5,
   "metadata": {},
   "outputs": [],
   "source": [
    "independent_variables_path = os.path.join(DTPM_TRXDir,'0_INDEPENDENTS/independents_variables.csv')\n",
    "independent_variables = pd.read_csv(independent_variables_path,sep=';',encoding='latin-1', index_col=0, parse_dates=[1])"
   ]
  },
  {
   "cell_type": "code",
   "execution_count": 6,
   "metadata": {},
   "outputs": [],
   "source": [
    "independent_variables.loc[:,'Verano'] =  independent_variables.loc[:,'Enero'] + independent_variables.loc[:,'Febrero']\n",
    "independent_variables.loc[:,'Nov_Dic_2017'] = independent_variables.loc[:,'Nov_2017'] + independent_variables.loc[:,'Dic_2017']\n",
    "independent_variables.loc[:,'WEEK_OF_YEAR'] = independent_variables.loc[:,'DATE'].apply(lambda x: x.week) #x.week returns the iso-week attribute!\n",
    "independent_variables = pd.get_dummies(independent_variables, columns=['WEEK_OF_YEAR'])"
   ]
  },
  {
   "cell_type": "code",
   "execution_count": 7,
   "metadata": {},
   "outputs": [],
   "source": [
    "complete_db = daily_trx.merge(independent_variables, on =['YEAR','MONTH','YEAR_DAY'], how='left')"
   ]
  },
  {
   "cell_type": "code",
   "execution_count": 8,
   "metadata": {},
   "outputs": [],
   "source": [
    "complete_db.sort_values(by=['YEAR','MONTH','YEAR_DAY'], ascending=[True,True,True], inplace=True)"
   ]
  },
  {
   "cell_type": "code",
   "execution_count": 9,
   "metadata": {},
   "outputs": [
    {
     "data": {
      "text/html": [
       "<div>\n",
       "<style scoped>\n",
       "    .dataframe tbody tr th:only-of-type {\n",
       "        vertical-align: middle;\n",
       "    }\n",
       "\n",
       "    .dataframe tbody tr th {\n",
       "        vertical-align: top;\n",
       "    }\n",
       "\n",
       "    .dataframe thead th {\n",
       "        text-align: right;\n",
       "    }\n",
       "</style>\n",
       "<table border=\"1\" class=\"dataframe\">\n",
       "  <thead>\n",
       "    <tr style=\"text-align: right;\">\n",
       "      <th></th>\n",
       "      <th>YEAR</th>\n",
       "      <th>MONTH</th>\n",
       "      <th>YEAR_DAY</th>\n",
       "      <th>pn_SUM_TRX_no_t</th>\n",
       "      <th>pn_SUM_EXP_no_t</th>\n",
       "      <th>ratio_no_t</th>\n",
       "      <th>pn_SUM_TRX_3t</th>\n",
       "      <th>pn_SUM_EXP_3t</th>\n",
       "      <th>ratio_3t</th>\n",
       "      <th>pn_SUM_TRX_tm</th>\n",
       "      <th>...</th>\n",
       "      <th>WEEK_OF_YEAR_44</th>\n",
       "      <th>WEEK_OF_YEAR_45</th>\n",
       "      <th>WEEK_OF_YEAR_46</th>\n",
       "      <th>WEEK_OF_YEAR_47</th>\n",
       "      <th>WEEK_OF_YEAR_48</th>\n",
       "      <th>WEEK_OF_YEAR_49</th>\n",
       "      <th>WEEK_OF_YEAR_50</th>\n",
       "      <th>WEEK_OF_YEAR_51</th>\n",
       "      <th>WEEK_OF_YEAR_52</th>\n",
       "      <th>WEEK_OF_YEAR_53</th>\n",
       "    </tr>\n",
       "  </thead>\n",
       "  <tbody>\n",
       "    <tr>\n",
       "      <th>0</th>\n",
       "      <td>2015</td>\n",
       "      <td>1</td>\n",
       "      <td>1</td>\n",
       "      <td>514892</td>\n",
       "      <td>30226</td>\n",
       "      <td>82.109095</td>\n",
       "      <td>116766</td>\n",
       "      <td>6586</td>\n",
       "      <td>17.890905</td>\n",
       "      <td>0.0</td>\n",
       "      <td>...</td>\n",
       "      <td>0</td>\n",
       "      <td>0</td>\n",
       "      <td>0</td>\n",
       "      <td>0</td>\n",
       "      <td>0</td>\n",
       "      <td>0</td>\n",
       "      <td>0</td>\n",
       "      <td>0</td>\n",
       "      <td>0</td>\n",
       "      <td>0</td>\n",
       "    </tr>\n",
       "    <tr>\n",
       "      <th>1</th>\n",
       "      <td>2015</td>\n",
       "      <td>1</td>\n",
       "      <td>2</td>\n",
       "      <td>1604441</td>\n",
       "      <td>55015</td>\n",
       "      <td>80.459518</td>\n",
       "      <td>326616</td>\n",
       "      <td>13361</td>\n",
       "      <td>19.540482</td>\n",
       "      <td>0.0</td>\n",
       "      <td>...</td>\n",
       "      <td>0</td>\n",
       "      <td>0</td>\n",
       "      <td>0</td>\n",
       "      <td>0</td>\n",
       "      <td>0</td>\n",
       "      <td>0</td>\n",
       "      <td>0</td>\n",
       "      <td>0</td>\n",
       "      <td>0</td>\n",
       "      <td>0</td>\n",
       "    </tr>\n",
       "    <tr>\n",
       "      <th>2</th>\n",
       "      <td>2015</td>\n",
       "      <td>1</td>\n",
       "      <td>3</td>\n",
       "      <td>1180428</td>\n",
       "      <td>45466</td>\n",
       "      <td>82.639911</td>\n",
       "      <td>247882</td>\n",
       "      <td>9551</td>\n",
       "      <td>17.360089</td>\n",
       "      <td>0.0</td>\n",
       "      <td>...</td>\n",
       "      <td>0</td>\n",
       "      <td>0</td>\n",
       "      <td>0</td>\n",
       "      <td>0</td>\n",
       "      <td>0</td>\n",
       "      <td>0</td>\n",
       "      <td>0</td>\n",
       "      <td>0</td>\n",
       "      <td>0</td>\n",
       "      <td>0</td>\n",
       "    </tr>\n",
       "    <tr>\n",
       "      <th>3</th>\n",
       "      <td>2015</td>\n",
       "      <td>1</td>\n",
       "      <td>4</td>\n",
       "      <td>837263</td>\n",
       "      <td>36882</td>\n",
       "      <td>82.830642</td>\n",
       "      <td>172004</td>\n",
       "      <td>7645</td>\n",
       "      <td>17.169358</td>\n",
       "      <td>0.0</td>\n",
       "      <td>...</td>\n",
       "      <td>0</td>\n",
       "      <td>0</td>\n",
       "      <td>0</td>\n",
       "      <td>0</td>\n",
       "      <td>0</td>\n",
       "      <td>0</td>\n",
       "      <td>0</td>\n",
       "      <td>0</td>\n",
       "      <td>0</td>\n",
       "      <td>0</td>\n",
       "    </tr>\n",
       "    <tr>\n",
       "      <th>4</th>\n",
       "      <td>2015</td>\n",
       "      <td>1</td>\n",
       "      <td>5</td>\n",
       "      <td>2211510</td>\n",
       "      <td>55316</td>\n",
       "      <td>81.148960</td>\n",
       "      <td>450375</td>\n",
       "      <td>12850</td>\n",
       "      <td>18.851040</td>\n",
       "      <td>0.0</td>\n",
       "      <td>...</td>\n",
       "      <td>0</td>\n",
       "      <td>0</td>\n",
       "      <td>0</td>\n",
       "      <td>0</td>\n",
       "      <td>0</td>\n",
       "      <td>0</td>\n",
       "      <td>0</td>\n",
       "      <td>0</td>\n",
       "      <td>0</td>\n",
       "      <td>0</td>\n",
       "    </tr>\n",
       "  </tbody>\n",
       "</table>\n",
       "<p>5 rows × 125 columns</p>\n",
       "</div>"
      ],
      "text/plain": [
       "   YEAR  MONTH  YEAR_DAY  pn_SUM_TRX_no_t  pn_SUM_EXP_no_t  ratio_no_t  \\\n",
       "0  2015      1         1           514892            30226   82.109095   \n",
       "1  2015      1         2          1604441            55015   80.459518   \n",
       "2  2015      1         3          1180428            45466   82.639911   \n",
       "3  2015      1         4           837263            36882   82.830642   \n",
       "4  2015      1         5          2211510            55316   81.148960   \n",
       "\n",
       "   pn_SUM_TRX_3t  pn_SUM_EXP_3t   ratio_3t  pn_SUM_TRX_tm       ...         \\\n",
       "0         116766           6586  17.890905            0.0       ...          \n",
       "1         326616          13361  19.540482            0.0       ...          \n",
       "2         247882           9551  17.360089            0.0       ...          \n",
       "3         172004           7645  17.169358            0.0       ...          \n",
       "4         450375          12850  18.851040            0.0       ...          \n",
       "\n",
       "   WEEK_OF_YEAR_44  WEEK_OF_YEAR_45  WEEK_OF_YEAR_46  WEEK_OF_YEAR_47  \\\n",
       "0                0                0                0                0   \n",
       "1                0                0                0                0   \n",
       "2                0                0                0                0   \n",
       "3                0                0                0                0   \n",
       "4                0                0                0                0   \n",
       "\n",
       "   WEEK_OF_YEAR_48 WEEK_OF_YEAR_49  WEEK_OF_YEAR_50  WEEK_OF_YEAR_51  \\\n",
       "0                0               0                0                0   \n",
       "1                0               0                0                0   \n",
       "2                0               0                0                0   \n",
       "3                0               0                0                0   \n",
       "4                0               0                0                0   \n",
       "\n",
       "  WEEK_OF_YEAR_52  WEEK_OF_YEAR_53  \n",
       "0               0                0  \n",
       "1               0                0  \n",
       "2               0                0  \n",
       "3               0                0  \n",
       "4               0                0  \n",
       "\n",
       "[5 rows x 125 columns]"
      ]
     },
     "execution_count": 9,
     "metadata": {},
     "output_type": "execute_result"
    }
   ],
   "source": [
    "complete_db.head()"
   ]
  },
  {
   "cell_type": "markdown",
   "metadata": {},
   "source": [
    "* Unit root testing"
   ]
  },
  {
   "cell_type": "markdown",
   "metadata": {},
   "source": [
    "The existence of unit root in a process is checked via the Augmented-Dickey-Fuller(ADF) test. <br>\n",
    "This test makes use of the equation $\\Delta y_t = \\alpha + \\theta y_{t-1} + \\gamma_{1}\\Delta y_{t-1} +  ... + \\gamma_{p}\\Delta y_{t-p} + e_{t}$, where $e_{t}$ is assumed to be a _martingale difference sequence_ (which implies that the model should be dynamically complete), and $\\theta = \\rho-1$. <br>\n",
    "The test is <br>\n",
    "H0 : $\\theta = 0$ (i.e. there's evidence that unit roots exist) <br>\n",
    "H1 : $\\theta < 0$ (i.e. \"the data do not provide strong evidence against H0\" (Wooldridge, 2013)). <br>\n",
    "\n",
    "H0 is rejected agains H1 if $t_{\\theta}<c$, where $c$ is the critical value."
   ]
  },
  {
   "cell_type": "code",
   "execution_count": 10,
   "metadata": {},
   "outputs": [],
   "source": [
    "from statsmodels.tsa.stattools import adfuller"
   ]
  },
  {
   "cell_type": "code",
   "execution_count": 11,
   "metadata": {},
   "outputs": [],
   "source": [
    "def applyADFTest(column, maxlag, regression, autolag):\n",
    "    #Be aware that when autolag is specified (i.e not None), maxlag is not considered#\n",
    "    x = complete_db.loc[:,column].values\n",
    "    result = adfuller(x, maxlag = maxlag, regression = regression, autolag = autolag)\n",
    "    print('ADF Statistic (t of theta): %f' % result[0])\n",
    "    print('p-value: %f' % result[1])\n",
    "    print('lags used: %f' % result[2])\n",
    "    print('obs: %f' % result[3])\n",
    "    for key, value in result[4].items():\n",
    "        print('\\t%s: %.3f' % (key, value))\n"
   ]
  },
  {
   "cell_type": "code",
   "execution_count": 12,
   "metadata": {},
   "outputs": [
    {
     "name": "stdout",
     "output_type": "stream",
     "text": [
      "ADF Statistic (t of theta): -21.310225\n",
      "p-value: 0.000000\n",
      "lags used: 0.000000\n",
      "obs: 1095.000000\n",
      "\t1%: -3.967\n",
      "\t10%: -3.129\n",
      "\t5%: -3.415\n"
     ]
    }
   ],
   "source": [
    "applyADFTest('pn_SUM_EXP_no_t', 0, 'ct', None)"
   ]
  },
  {
   "cell_type": "code",
   "execution_count": 13,
   "metadata": {},
   "outputs": [],
   "source": [
    "complete_db.loc[:,'pn_SUM_EXP_no_t - 1'] = complete_db.loc[:,'pn_SUM_EXP_no_t'].shift(periods=1)"
   ]
  },
  {
   "cell_type": "code",
   "execution_count": 14,
   "metadata": {},
   "outputs": [],
   "source": [
    "Y = complete_db.loc[:,'pn_SUM_EXP_no_t'] - complete_db.loc[:,'pn_SUM_EXP_no_t - 1']"
   ]
  },
  {
   "cell_type": "code",
   "execution_count": 15,
   "metadata": {},
   "outputs": [],
   "source": [
    "Y.dropna(inplace=True)"
   ]
  },
  {
   "cell_type": "code",
   "execution_count": 16,
   "metadata": {},
   "outputs": [
    {
     "data": {
      "text/html": [
       "<table class=\"simpletable\">\n",
       "<caption>OLS Regression Results</caption>\n",
       "<tr>\n",
       "  <th>Dep. Variable:</th>            <td>y</td>        <th>  R-squared:         </th> <td>   0.294</td> \n",
       "</tr>\n",
       "<tr>\n",
       "  <th>Model:</th>                   <td>OLS</td>       <th>  Adj. R-squared:    </th> <td>   0.292</td> \n",
       "</tr>\n",
       "<tr>\n",
       "  <th>Method:</th>             <td>Least Squares</td>  <th>  F-statistic:       </th> <td>   227.1</td> \n",
       "</tr>\n",
       "<tr>\n",
       "  <th>Date:</th>             <td>Tue, 19 Jun 2018</td> <th>  Prob (F-statistic):</th> <td>3.37e-83</td> \n",
       "</tr>\n",
       "<tr>\n",
       "  <th>Time:</th>                 <td>22:55:48</td>     <th>  Log-Likelihood:    </th> <td> -11367.</td> \n",
       "</tr>\n",
       "<tr>\n",
       "  <th>No. Observations:</th>      <td>  1095</td>      <th>  AIC:               </th> <td>2.274e+04</td>\n",
       "</tr>\n",
       "<tr>\n",
       "  <th>Df Residuals:</th>          <td>  1092</td>      <th>  BIC:               </th> <td>2.276e+04</td>\n",
       "</tr>\n",
       "<tr>\n",
       "  <th>Df Model:</th>              <td>     2</td>      <th>                     </th>     <td> </td>    \n",
       "</tr>\n",
       "<tr>\n",
       "  <th>Covariance Type:</th>      <td>nonrobust</td>    <th>                     </th>     <td> </td>    \n",
       "</tr>\n",
       "</table>\n",
       "<table class=\"simpletable\">\n",
       "<tr>\n",
       "           <td></td>              <th>coef</th>     <th>std err</th>      <th>t</th>      <th>P>|t|</th>  <th>[0.025</th>    <th>0.975]</th>  \n",
       "</tr>\n",
       "<tr>\n",
       "  <th>const</th>               <td> 3.416e+04</td> <td> 1666.008</td> <td>   20.504</td> <td> 0.000</td> <td> 3.09e+04</td> <td> 3.74e+04</td>\n",
       "</tr>\n",
       "<tr>\n",
       "  <th>pn_SUM_EXP_no_t - 1</th> <td>   -0.5846</td> <td>    0.027</td> <td>  -21.310</td> <td> 0.000</td> <td>   -0.638</td> <td>   -0.531</td>\n",
       "</tr>\n",
       "<tr>\n",
       "  <th>t</th>                   <td>  -10.8337</td> <td>    0.897</td> <td>  -12.073</td> <td> 0.000</td> <td>  -12.594</td> <td>   -9.073</td>\n",
       "</tr>\n",
       "</table>\n",
       "<table class=\"simpletable\">\n",
       "<tr>\n",
       "  <th>Omnibus:</th>       <td>71.888</td> <th>  Durbin-Watson:     </th> <td>   1.777</td>\n",
       "</tr>\n",
       "<tr>\n",
       "  <th>Prob(Omnibus):</th> <td> 0.000</td> <th>  Jarque-Bera (JB):  </th> <td>  32.742</td>\n",
       "</tr>\n",
       "<tr>\n",
       "  <th>Skew:</th>          <td>-0.217</td> <th>  Prob(JB):          </th> <td>7.76e-08</td>\n",
       "</tr>\n",
       "<tr>\n",
       "  <th>Kurtosis:</th>      <td> 2.273</td> <th>  Cond. No.          </th> <td>3.48e+05</td>\n",
       "</tr>\n",
       "</table>"
      ],
      "text/plain": [
       "<class 'statsmodels.iolib.summary.Summary'>\n",
       "\"\"\"\n",
       "                            OLS Regression Results                            \n",
       "==============================================================================\n",
       "Dep. Variable:                      y   R-squared:                       0.294\n",
       "Model:                            OLS   Adj. R-squared:                  0.292\n",
       "Method:                 Least Squares   F-statistic:                     227.1\n",
       "Date:                Tue, 19 Jun 2018   Prob (F-statistic):           3.37e-83\n",
       "Time:                        22:55:48   Log-Likelihood:                -11367.\n",
       "No. Observations:                1095   AIC:                         2.274e+04\n",
       "Df Residuals:                    1092   BIC:                         2.276e+04\n",
       "Df Model:                           2                                         \n",
       "Covariance Type:            nonrobust                                         \n",
       "=======================================================================================\n",
       "                          coef    std err          t      P>|t|      [0.025      0.975]\n",
       "---------------------------------------------------------------------------------------\n",
       "const                3.416e+04   1666.008     20.504      0.000    3.09e+04    3.74e+04\n",
       "pn_SUM_EXP_no_t - 1    -0.5846      0.027    -21.310      0.000      -0.638      -0.531\n",
       "t                     -10.8337      0.897    -12.073      0.000     -12.594      -9.073\n",
       "==============================================================================\n",
       "Omnibus:                       71.888   Durbin-Watson:                   1.777\n",
       "Prob(Omnibus):                  0.000   Jarque-Bera (JB):               32.742\n",
       "Skew:                          -0.217   Prob(JB):                     7.76e-08\n",
       "Kurtosis:                       2.273   Cond. No.                     3.48e+05\n",
       "==============================================================================\n",
       "\n",
       "Warnings:\n",
       "[1] Standard Errors assume that the covariance matrix of the errors is correctly specified.\n",
       "[2] The condition number is large, 3.48e+05. This might indicate that there are\n",
       "strong multicollinearity or other numerical problems.\n",
       "\"\"\""
      ]
     },
     "execution_count": 16,
     "metadata": {},
     "output_type": "execute_result"
    }
   ],
   "source": [
    "X = complete_db.loc[:,['pn_SUM_EXP_no_t - 1','t']].dropna()\n",
    "X = sm.add_constant(X)\n",
    "\n",
    "m = sm.OLS(Y, X)\n",
    "results = m.fit()\n",
    "\n",
    "results.summary()"
   ]
  }
 ],
 "metadata": {
  "kernelspec": {
   "display_name": "Python 3",
   "language": "python",
   "name": "python3"
  },
  "language_info": {
   "codemirror_mode": {
    "name": "ipython",
    "version": 3
   },
   "file_extension": ".py",
   "mimetype": "text/x-python",
   "name": "python",
   "nbconvert_exporter": "python",
   "pygments_lexer": "ipython3",
   "version": "3.5.2+"
  }
 },
 "nbformat": 4,
 "nbformat_minor": 2
}
