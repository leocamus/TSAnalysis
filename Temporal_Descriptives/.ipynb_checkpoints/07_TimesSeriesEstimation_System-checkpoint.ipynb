{
 "cells": [
  {
   "cell_type": "markdown",
   "metadata": {},
   "source": [
    "## Time series estimation - Daily at system level"
   ]
  },
  {
   "cell_type": "markdown",
   "metadata": {},
   "source": [
    "% TODO: Check if R-squared are correctly computed"
   ]
  },
  {
   "cell_type": "code",
   "execution_count": 1,
   "metadata": {
    "collapsed": true
   },
   "outputs": [],
   "source": [
    "import os\n",
    "import sys\n",
    "module_path = os.path.abspath(os.path.join('..'))\n",
    "if module_path not in sys.path:\n",
    "    sys.path.append(module_path)"
   ]
  },
  {
   "cell_type": "code",
   "execution_count": 2,
   "metadata": {},
   "outputs": [
    {
     "data": {
      "text/html": [
       "<style>.container { width:90% !important; }</style>"
      ],
      "text/plain": [
       "<IPython.core.display.HTML object>"
      ]
     },
     "metadata": {},
     "output_type": "display_data"
    }
   ],
   "source": [
    "%matplotlib inline\n",
    "from IPython.core.display import display, HTML\n",
    "display(HTML(\"<style>.container { width:90% !important; }</style>\"))\n",
    "\n",
    "import plotly.plotly\n",
    "import plotly.tools as tls\n",
    "import plotly.graph_objs as go\n",
    "\n",
    "import pandas as pd\n",
    "import matplotlib\n",
    "import matplotlib.pyplot as plt\n",
    "import matplotlib.dates as mdates\n",
    "from matplotlib.ticker import FuncFormatter\n",
    "import numpy as np\n",
    "import datetime as dt\n",
    "import time"
   ]
  },
  {
   "cell_type": "code",
   "execution_count": 3,
   "metadata": {},
   "outputs": [
    {
     "name": "stderr",
     "output_type": "stream",
     "text": [
      "C:\\Users\\leoca_000\\Anaconda3\\lib\\site-packages\\statsmodels\\compat\\pandas.py:56: FutureWarning:\n",
      "\n",
      "The pandas.core.datetools module is deprecated and will be removed in a future version. Please use the pandas.tseries module instead.\n",
      "\n"
     ]
    }
   ],
   "source": [
    "import statsmodels.api as sm"
   ]
  },
  {
   "cell_type": "code",
   "execution_count": 4,
   "metadata": {
    "collapsed": true
   },
   "outputs": [],
   "source": [
    "from Utils import TransantiagoConstants"
   ]
  },
  {
   "cell_type": "code",
   "execution_count": 5,
   "metadata": {
    "collapsed": true
   },
   "outputs": [],
   "source": [
    "DTPMDir = TransantiagoConstants.DTPMDir\n",
    "DTPM_TRXDir = TransantiagoConstants.DTPM_TRXDir"
   ]
  },
  {
   "cell_type": "code",
   "execution_count": 6,
   "metadata": {
    "collapsed": true
   },
   "outputs": [],
   "source": [
    "daily_input_path = os.path.join(DTPM_TRXDir,'3_DAILY/daily_summary.csv')\n",
    "daily_trx = pd.read_csv(daily_input_path,sep=';',encoding='latin-1', index_col=0)"
   ]
  },
  {
   "cell_type": "code",
   "execution_count": 7,
   "metadata": {
    "collapsed": true
   },
   "outputs": [],
   "source": [
    "daily_trx.loc[:,'TOTAL_trx'] = daily_trx.loc[:,'pn_SUM_TRX_no_t'] + daily_trx.loc[:,'pn_SUM_TRX_3t'] + daily_trx.loc[:,'pn_SUM_TRX_tm'] + daily_trx.loc[:,'zp_SUM_TRX']"
   ]
  },
  {
   "cell_type": "markdown",
   "metadata": {},
   "source": [
    "### DAILY AT SYSTEM LEVEL. CREATING NEW INDEPENDENT VARIABLES"
   ]
  },
  {
   "cell_type": "code",
   "execution_count": 8,
   "metadata": {
    "collapsed": true
   },
   "outputs": [],
   "source": [
    "independent_variables_path = os.path.join(DTPM_TRXDir,'0_INDEPENDENTS/independents_variables.csv')\n",
    "independent_variables = pd.read_csv(independent_variables_path,sep=';',encoding='latin-1', index_col=0, parse_dates=[1])"
   ]
  },
  {
   "cell_type": "code",
   "execution_count": 9,
   "metadata": {
    "collapsed": true
   },
   "outputs": [],
   "source": [
    "independent_variables.loc[:,'Verano'] =  independent_variables.loc[:,'Enero'] + independent_variables.loc[:,'Febrero']\n",
    "independent_variables.loc[:,'Nov_Dic_2017'] = independent_variables.loc[:,'Nov_2017'] + independent_variables.loc[:,'Dic_2017']\n",
    "independent_variables.loc[:,'WEEK_OF_YEAR'] = independent_variables.loc[:,'DATE'].apply(lambda x: x.week)\n",
    "independent_variables = pd.get_dummies(independent_variables, columns=['WEEK_OF_YEAR'])"
   ]
  },
  {
   "cell_type": "code",
   "execution_count": 10,
   "metadata": {
    "collapsed": true
   },
   "outputs": [],
   "source": [
    "complete_db = daily_trx.merge(independent_variables, on =['YEAR','MONTH','YEAR_DAY'], how='left')"
   ]
  },
  {
   "cell_type": "code",
   "execution_count": 11,
   "metadata": {
    "collapsed": true
   },
   "outputs": [],
   "source": [
    "complete_db.sort_values(by=['YEAR','MONTH','YEAR_DAY'], ascending=[True,True,True], inplace=True)"
   ]
  },
  {
   "cell_type": "markdown",
   "metadata": {},
   "source": [
    "#### DESCRIPTIVES"
   ]
  },
  {
   "cell_type": "markdown",
   "metadata": {},
   "source": [
    "* General"
   ]
  },
  {
   "cell_type": "code",
   "execution_count": 12,
   "metadata": {
    "collapsed": true
   },
   "outputs": [],
   "source": [
    "descriptives = pd.DataFrame()"
   ]
  },
  {
   "cell_type": "code",
   "execution_count": 13,
   "metadata": {
    "collapsed": true
   },
   "outputs": [],
   "source": [
    "descriptives = complete_db.loc[:,'TOTAL_trx'].describe().to_frame('total_trx')\n",
    "descriptives = pd.concat([descriptives, complete_db.loc[:,'pn_SUM_TRX_no_t'].describe().to_frame()], axis=1, join='inner')\n",
    "descriptives = pd.concat([descriptives, complete_db.loc[:,'pn_SUM_TRX_3t'].describe().to_frame()], axis=1, join='inner')\n",
    "descriptives = pd.concat([descriptives, complete_db.loc[:,'pn_SUM_TRX_tm'].describe().to_frame()], axis=1, join='inner')\n",
    "descriptives = pd.concat([descriptives, complete_db.loc[:,'zp_SUM_TRX'].describe().to_frame()], axis=1, join='inner')"
   ]
  },
  {
   "cell_type": "code",
   "execution_count": 14,
   "metadata": {
    "collapsed": true
   },
   "outputs": [],
   "source": [
    "pd.set_option('display.float_format', '{:.3e}'.format)"
   ]
  },
  {
   "cell_type": "code",
   "execution_count": 15,
   "metadata": {},
   "outputs": [
    {
     "name": "stdout",
     "output_type": "stream",
     "text": [
      "\\begin{tabular}{lrrrrr}\n",
      "\\toprule\n",
      "{} &  total\\_trx &  pn\\_SUM\\_TRX\\_no\\_t &  pn\\_SUM\\_TRX\\_3t &  pn\\_SUM\\_TRX\\_tm &  zp\\_SUM\\_TRX \\\\\n",
      "\\midrule\n",
      "count &  1.096e+03 &        1.096e+03 &      1.096e+03 &      1.096e+03 &   1.096e+03 \\\\\n",
      "mean  &  2.416e+06 &        1.675e+06 &      3.422e+05 &      1.384e+05 &   2.606e+05 \\\\\n",
      "std   &  8.399e+05 &        5.752e+05 &      1.095e+05 &      2.298e+05 &   1.641e+05 \\\\\n",
      "min   &  4.875e+05 &        3.254e+05 &      8.058e+04 &      0.000e+00 &   3.202e+03 \\\\\n",
      "25\\%   &  1.670e+06 &        1.251e+06 &      2.632e+05 &      4.256e+03 &   4.122e+04 \\\\\n",
      "50\\%   &  2.874e+06 &        1.782e+06 &      3.607e+05 &      2.627e+04 &   3.438e+05 \\\\\n",
      "75\\%   &  3.084e+06 &        2.178e+06 &      4.358e+05 &      1.506e+05 &   3.845e+05 \\\\\n",
      "max   &  3.365e+06 &        2.473e+06 &      5.100e+05 &      8.619e+05 &   4.778e+05 \\\\\n",
      "\\bottomrule\n",
      "\\end{tabular}\n",
      "\n"
     ]
    }
   ],
   "source": [
    "print(descriptives.to_latex())"
   ]
  },
  {
   "cell_type": "markdown",
   "metadata": {},
   "source": [
    "* Plotting by year"
   ]
  },
  {
   "cell_type": "code",
   "execution_count": 16,
   "metadata": {
    "collapsed": true
   },
   "outputs": [],
   "source": [
    "grouped_by_year = complete_db.groupby(['YEAR'])['TOTAL_trx','pn_SUM_TRX_no_t','pn_SUM_TRX_3t','pn_SUM_TRX_tm','zp_SUM_TRX'].sum()"
   ]
  },
  {
   "cell_type": "code",
   "execution_count": 17,
   "metadata": {},
   "outputs": [
    {
     "data": {
      "text/html": [
       "<div>\n",
       "<style>\n",
       "    .dataframe thead tr:only-child th {\n",
       "        text-align: right;\n",
       "    }\n",
       "\n",
       "    .dataframe thead th {\n",
       "        text-align: left;\n",
       "    }\n",
       "\n",
       "    .dataframe tbody tr th {\n",
       "        vertical-align: top;\n",
       "    }\n",
       "</style>\n",
       "<table border=\"1\" class=\"dataframe\">\n",
       "  <thead>\n",
       "    <tr style=\"text-align: right;\">\n",
       "      <th></th>\n",
       "      <th>TOTAL_trx</th>\n",
       "      <th>pn_SUM_TRX_no_t</th>\n",
       "      <th>pn_SUM_TRX_3t</th>\n",
       "      <th>pn_SUM_TRX_tm</th>\n",
       "      <th>zp_SUM_TRX</th>\n",
       "    </tr>\n",
       "    <tr>\n",
       "      <th>YEAR</th>\n",
       "      <th></th>\n",
       "      <th></th>\n",
       "      <th></th>\n",
       "      <th></th>\n",
       "      <th></th>\n",
       "    </tr>\n",
       "  </thead>\n",
       "  <tbody>\n",
       "    <tr>\n",
       "      <th>2015</th>\n",
       "      <td>9.143e+08</td>\n",
       "      <td>681051074</td>\n",
       "      <td>138508996</td>\n",
       "      <td>1.051e+06</td>\n",
       "      <td>93655658</td>\n",
       "    </tr>\n",
       "    <tr>\n",
       "      <th>2016</th>\n",
       "      <td>8.737e+08</td>\n",
       "      <td>643134397</td>\n",
       "      <td>129177128</td>\n",
       "      <td>1.124e+07</td>\n",
       "      <td>90139153</td>\n",
       "    </tr>\n",
       "    <tr>\n",
       "      <th>2017</th>\n",
       "      <td>8.603e+08</td>\n",
       "      <td>511644071</td>\n",
       "      <td>107372896</td>\n",
       "      <td>1.394e+08</td>\n",
       "      <td>101865555</td>\n",
       "    </tr>\n",
       "  </tbody>\n",
       "</table>\n",
       "</div>"
      ],
      "text/plain": [
       "      TOTAL_trx  pn_SUM_TRX_no_t  pn_SUM_TRX_3t  pn_SUM_TRX_tm  zp_SUM_TRX\n",
       "YEAR                                                                      \n",
       "2015  9.143e+08        681051074      138508996      1.051e+06    93655658\n",
       "2016  8.737e+08        643134397      129177128      1.124e+07    90139153\n",
       "2017  8.603e+08        511644071      107372896      1.394e+08   101865555"
      ]
     },
     "execution_count": 17,
     "metadata": {},
     "output_type": "execute_result"
    }
   ],
   "source": [
    "grouped_by_year"
   ]
  },
  {
   "cell_type": "code",
   "execution_count": 18,
   "metadata": {
    "collapsed": true
   },
   "outputs": [],
   "source": [
    "colors = [(76, 181, 245),(183, 184, 182),(52, 103, 92),(179, 193, 0)]\n",
    "for i in range(len(colors)):\n",
    "    r, g, b = colors[i]  \n",
    "    colors[i] = (r / 255., g / 255., b / 255.)"
   ]
  },
  {
   "cell_type": "code",
   "execution_count": 19,
   "metadata": {
    "collapsed": true
   },
   "outputs": [],
   "source": [
    "def millions(x, pos):\n",
    "    'The two args are the value and tick position'\n",
    "    return '%1.1fM' % (x*1e-6)"
   ]
  },
  {
   "cell_type": "code",
   "execution_count": 20,
   "metadata": {},
   "outputs": [
    {
     "data": {
      "image/png": "[encoded data removed]",
      "text/plain": [
       "<matplotlib.figure.Figure at 0x1e4e62cf358>"
      ]
     },
     "metadata": {},
     "output_type": "display_data"
    }
   ],
   "source": [
    "year_values = grouped_by_year.index.values\n",
    "no_turnstile_values = list(map(int, grouped_by_year['pn_SUM_TRX_no_t'].values))\n",
    "three_turnstile_values = list(map(int,grouped_by_year['pn_SUM_TRX_3t'].values))\n",
    "butterfly_turnstile_values = list(map(int,grouped_by_year['pn_SUM_TRX_tm'].values))\n",
    "zp_values = list(map(int,grouped_by_year['zp_SUM_TRX'].values))\n",
    "    \n",
    "formatter = FuncFormatter(millions)\n",
    "    \n",
    "labels = [\"ZP\", \"S/T\", \"C/T3\", \"C/TM\"]\n",
    "fig, ax = plt.subplots()\n",
    "\n",
    "p1 = plt.bar(year_values, zp_values, color = colors[0], label='ZP')\n",
    "p2 = plt.bar(year_values, no_turnstile_values, bottom=zp_values, color = colors[1], label='S/T')\n",
    "p3 = plt.bar(year_values, three_turnstile_values, bottom= [sum(x) for x in zip(zp_values, no_turnstile_values)], color = colors[2],label='C/T3')\n",
    "p4 = plt.bar(year_values, butterfly_turnstile_values, bottom= [sum(x) for x in zip(zp_values, no_turnstile_values,three_turnstile_values)], color = colors[3], label='C/TM')\n",
    "\n",
    "ax.legend()\n",
    "ax.set_title('Transacciones por año, 2015 a 2017')\n",
    "ax.set_ylabel('Transacciones')\n",
    "ax.yaxis.set_major_formatter(formatter)\n",
    "ax.set_xlabel('Año')\n",
    "#fig.autofmt_xdate()\n",
    "plt.xticks(np.arange(min(year_values), max(year_values)+1, 1.0))\n",
    "plt.tight_layout()\n",
    "#plt.savefig('C:/Users/leoca_000/Desktop/Evasion/03_report/02_Figs/6_trxOverTimeByYear_all.pdf')\n",
    "        \n",
    "plt.show()"
   ]
  },
  {
   "cell_type": "markdown",
   "metadata": {},
   "source": [
    "#### ESTIMATION. 1ST MODEL"
   ]
  },
  {
   "cell_type": "markdown",
   "metadata": {},
   "source": [
    "Estimado por OLS.<br>\n",
    "<strong>Y:</strong><br>\n",
    "'total de transacciones'<br>\n",
    "<strong>X:</strong><br>\n",
    "'SATURDAY',<br>\n",
    "'SUNDAY',<br>\n",
    "'ratio_tm',<br>\n",
    "'kms_ofertados',<br>\n",
    "'Verano',<br>\n",
    "'Julio',<br>\n",
    "'Nov_Dic_2017',<br>\n",
    "'t',<br>\n",
    "'Feriado_laboral',<br>\n",
    "'Feriado_no_laboral',<br>\n",
    "'Censo',<br>\n",
    "'Elecciones',<br>\n",
    "'Partido',<br>\n",
    "'FDS_Largo',<br>\n",
    "'Disturbios',<br>\n",
    "'Bucle',<br>\n",
    "'Clima',<br>\n",
    "'visperas_laborales', <br>\n",
    "'N_ZPs'"
   ]
  },
  {
   "cell_type": "code",
   "execution_count": 21,
   "metadata": {
    "collapsed": true
   },
   "outputs": [],
   "source": [
    "Y = complete_db.loc[:,'TOTAL_trx']\n",
    "X = complete_db.loc[:,['SATURDAY',\n",
    "                       'SUNDAY',\n",
    "                       'ratio_tm',\n",
    "                       'kms_ofertados',\n",
    "                       'Verano',\n",
    "                       'Julio',\n",
    "                       'Nov_Dic_2017',\n",
    "                       't',\n",
    "                       'Feriado_laboral',\n",
    "                       'Feriado_no_laboral',\n",
    "                       'Censo',\n",
    "                       'Elecciones',\n",
    "                       'Partido',\n",
    "                       'FDS_Largo',\n",
    "                       'Disturbios',\n",
    "                       'Bucle',\n",
    "                       'Clima',\n",
    "                       'visperas_laborales',\n",
    "                       'N_ZPs']]"
   ]
  },
  {
   "cell_type": "code",
   "execution_count": 22,
   "metadata": {
    "collapsed": true
   },
   "outputs": [],
   "source": [
    "X = sm.add_constant(X)"
   ]
  },
  {
   "cell_type": "code",
   "execution_count": 23,
   "metadata": {
    "collapsed": true
   },
   "outputs": [],
   "source": [
    "model = sm.OLS(Y, X)"
   ]
  },
  {
   "cell_type": "code",
   "execution_count": 24,
   "metadata": {},
   "outputs": [
    {
     "name": "stdout",
     "output_type": "stream",
     "text": [
      "                            OLS Regression Results                            \n",
      "==============================================================================\n",
      "Dep. Variable:              TOTAL_trx   R-squared:                       0.953\n",
      "Model:                            OLS   Adj. R-squared:                  0.952\n",
      "Method:                 Least Squares   F-statistic:                     1140.\n",
      "Date:                Mon, 12 Mar 2018   Prob (F-statistic):               0.00\n",
      "Time:                        18:32:43   Log-Likelihood:                -14834.\n",
      "No. Observations:                1096   AIC:                         2.971e+04\n",
      "Df Residuals:                    1076   BIC:                         2.981e+04\n",
      "Df Model:                          19                                         \n",
      "Covariance Type:            nonrobust                                         \n",
      "======================================================================================\n",
      "                         coef    std err          t      P>|t|      [0.025      0.975]\n",
      "--------------------------------------------------------------------------------------\n",
      "const               2.901e+06   8.33e+04     34.837      0.000    2.74e+06    3.06e+06\n",
      "SATURDAY           -1.163e+06   6.76e+04    -17.208      0.000    -1.3e+06   -1.03e+06\n",
      "SUNDAY             -1.733e+06   7.69e+04    -22.521      0.000   -1.88e+06   -1.58e+06\n",
      "ratio_tm            6262.0525   1253.556      4.995      0.000    3802.362    8721.744\n",
      "kms_ofertados          0.1115      0.018      6.106      0.000       0.076       0.147\n",
      "Verano             -4.757e+05   1.61e+04    -29.543      0.000   -5.07e+05   -4.44e+05\n",
      "Julio              -1.637e+05   2.04e+04     -8.033      0.000   -2.04e+05   -1.24e+05\n",
      "Nov_Dic_2017         2.29e+04   3.14e+04      0.730      0.466   -3.87e+04    8.45e+04\n",
      "t                   -376.4601     33.693    -11.173      0.000    -442.571    -310.350\n",
      "Feriado_laboral    -1.485e+06   8.45e+04    -17.581      0.000   -1.65e+06   -1.32e+06\n",
      "Feriado_no_laboral -2.076e+05   4.08e+04     -5.085      0.000   -2.88e+05   -1.28e+05\n",
      "Censo              -7.905e+05   1.89e+05     -4.188      0.000   -1.16e+06    -4.2e+05\n",
      "Elecciones          2.668e+04   1.09e+05      0.244      0.807   -1.88e+05    2.41e+05\n",
      "Partido             -1.89e+05   7.59e+04     -2.489      0.013   -3.38e+05      -4e+04\n",
      "FDS_Largo          -1.234e+05   2.72e+04     -4.538      0.000   -1.77e+05      -7e+04\n",
      "Disturbios         -2.497e+05   7.58e+04     -3.295      0.001   -3.98e+05   -1.01e+05\n",
      "Bucle               1.991e+04   2.43e+04      0.819      0.413   -2.78e+04    6.76e+04\n",
      "Clima              -3.105e+05   4.53e+04     -6.853      0.000   -3.99e+05   -2.22e+05\n",
      "visperas_laborales -4.176e+05   6.22e+04     -6.716      0.000    -5.4e+05   -2.96e+05\n",
      "N_ZPs                878.5613    454.201      1.934      0.053     -12.658    1769.781\n",
      "==============================================================================\n",
      "Omnibus:                      409.898   Durbin-Watson:                   1.379\n",
      "Prob(Omnibus):                  0.000   Jarque-Bera (JB):             7915.894\n",
      "Skew:                           1.224   Prob(JB):                         0.00\n",
      "Kurtosis:                      15.936   Cond. No.                     4.46e+07\n",
      "==============================================================================\n",
      "\n",
      "Warnings:\n",
      "[1] Standard Errors assume that the covariance matrix of the errors is correctly specified.\n",
      "[2] The condition number is large, 4.46e+07. This might indicate that there are\n",
      "strong multicollinearity or other numerical problems.\n"
     ]
    }
   ],
   "source": [
    "results = model.fit()\n",
    "print(results.summary())"
   ]
  },
  {
   "cell_type": "markdown",
   "metadata": {},
   "source": [
    "----------------"
   ]
  },
  {
   "cell_type": "markdown",
   "metadata": {},
   "source": [
    "#### ESTIMATION. 2ND MODEL"
   ]
  },
  {
   "cell_type": "markdown",
   "metadata": {},
   "source": [
    "Estimado por OLS.<br>\n",
    "<strong>Y:</strong><br>\n",
    "'total de transacciones'<br>\n",
    "<strong>X:</strong><br>\n",
    "'SATURDAY',<br>\n",
    "'SUNDAY',<br>\n",
    "'ratio_tm',<br>\n",
    "'kms_ofertados',<br>\n",
    "'Verano',<br>\n",
    "'Julio',<br>\n",
    "'Nov_Dic_2017',<br>\n",
    "'t',<br>\n",
    "'Feriado_laboral',<br>\n",
    "'Feriado_no_laboral',<br>\n",
    "'Censo',<br>\n",
    "'Partido',<br>\n",
    "'FDS_Largo',<br>\n",
    "'Disturbios',<br>\n",
    "'Bucle',<br>\n",
    "'Clima',<br>\n",
    "'visperas_laborales', <br>\n",
    "'N_ZPs'<br>\n",
    "<strong>Omitidas:</strong><br>\n",
    "'Elecciones'<br>"
   ]
  },
  {
   "cell_type": "code",
   "execution_count": 25,
   "metadata": {
    "collapsed": true
   },
   "outputs": [],
   "source": [
    "Y = complete_db.loc[:,'TOTAL_trx']\n",
    "X = complete_db.loc[:,['SATURDAY',\n",
    "                       'SUNDAY',\n",
    "                       'ratio_tm',\n",
    "                       'kms_ofertados',\n",
    "                       'Verano',\n",
    "                       'Julio',\n",
    "                       'Nov_Dic_2017',\n",
    "                       't',\n",
    "                       'Feriado_laboral',\n",
    "                       'Feriado_no_laboral',\n",
    "                       'Censo',\n",
    "                       'Partido',\n",
    "                       'FDS_Largo',\n",
    "                       'Disturbios',\n",
    "                       'Bucle',\n",
    "                       'Clima',\n",
    "                       'visperas_laborales',\n",
    "                       'N_ZPs']]"
   ]
  },
  {
   "cell_type": "code",
   "execution_count": 26,
   "metadata": {
    "collapsed": true
   },
   "outputs": [],
   "source": [
    "X = sm.add_constant(X)"
   ]
  },
  {
   "cell_type": "code",
   "execution_count": 27,
   "metadata": {
    "collapsed": true
   },
   "outputs": [],
   "source": [
    "model = sm.OLS(Y, X)"
   ]
  },
  {
   "cell_type": "code",
   "execution_count": 28,
   "metadata": {},
   "outputs": [
    {
     "name": "stdout",
     "output_type": "stream",
     "text": [
      "                            OLS Regression Results                            \n",
      "==============================================================================\n",
      "Dep. Variable:              TOTAL_trx   R-squared:                       0.953\n",
      "Model:                            OLS   Adj. R-squared:                  0.952\n",
      "Method:                 Least Squares   F-statistic:                     1204.\n",
      "Date:                Mon, 12 Mar 2018   Prob (F-statistic):               0.00\n",
      "Time:                        18:32:43   Log-Likelihood:                -14834.\n",
      "No. Observations:                1096   AIC:                         2.971e+04\n",
      "Df Residuals:                    1077   BIC:                         2.980e+04\n",
      "Df Model:                          18                                         \n",
      "Covariance Type:            nonrobust                                         \n",
      "======================================================================================\n",
      "                         coef    std err          t      P>|t|      [0.025      0.975]\n",
      "--------------------------------------------------------------------------------------\n",
      "const               2.902e+06   8.29e+04     35.005      0.000    2.74e+06    3.07e+06\n",
      "SATURDAY           -1.165e+06   6.73e+04    -17.305      0.000    -1.3e+06   -1.03e+06\n",
      "SUNDAY             -1.734e+06   7.68e+04    -22.589      0.000   -1.88e+06   -1.58e+06\n",
      "ratio_tm            6274.4225   1251.985      5.012      0.000    3817.816    8731.029\n",
      "kms_ofertados          0.1115      0.018      6.108      0.000       0.076       0.147\n",
      "Verano             -4.757e+05   1.61e+04    -29.567      0.000   -5.07e+05   -4.44e+05\n",
      "Julio              -1.637e+05   2.04e+04     -8.040      0.000   -2.04e+05   -1.24e+05\n",
      "Nov_Dic_2017        2.371e+04   3.12e+04      0.761      0.447   -3.75e+04    8.49e+04\n",
      "t                   -376.3936     33.677    -11.177      0.000    -442.473    -310.314\n",
      "Feriado_laboral    -1.486e+06   8.42e+04    -17.649      0.000   -1.65e+06   -1.32e+06\n",
      "Feriado_no_laboral -2.078e+05   4.08e+04     -5.093      0.000   -2.88e+05   -1.28e+05\n",
      "Censo              -7.908e+05   1.89e+05     -4.192      0.000   -1.16e+06   -4.21e+05\n",
      "Partido             -1.89e+05   7.59e+04     -2.489      0.013   -3.38e+05      -4e+04\n",
      "FDS_Largo          -1.238e+05   2.71e+04     -4.561      0.000   -1.77e+05   -7.05e+04\n",
      "Disturbios         -2.498e+05   7.57e+04     -3.299      0.001   -3.98e+05   -1.01e+05\n",
      "Bucle               1.989e+04   2.43e+04      0.819      0.413   -2.78e+04    6.76e+04\n",
      "Clima              -3.106e+05   4.53e+04     -6.857      0.000   -3.99e+05   -2.22e+05\n",
      "visperas_laborales -4.177e+05   6.22e+04     -6.721      0.000    -5.4e+05   -2.96e+05\n",
      "N_ZPs                868.0258    451.950      1.921      0.055     -18.777    1754.828\n",
      "==============================================================================\n",
      "Omnibus:                      410.039   Durbin-Watson:                   1.379\n",
      "Prob(Omnibus):                  0.000   Jarque-Bera (JB):             7921.655\n",
      "Skew:                           1.224   Prob(JB):                         0.00\n",
      "Kurtosis:                      15.941   Cond. No.                     4.46e+07\n",
      "==============================================================================\n",
      "\n",
      "Warnings:\n",
      "[1] Standard Errors assume that the covariance matrix of the errors is correctly specified.\n",
      "[2] The condition number is large, 4.46e+07. This might indicate that there are\n",
      "strong multicollinearity or other numerical problems.\n"
     ]
    }
   ],
   "source": [
    "results = model.fit()\n",
    "print(results.summary())"
   ]
  },
  {
   "cell_type": "markdown",
   "metadata": {},
   "source": [
    "----------------"
   ]
  },
  {
   "cell_type": "markdown",
   "metadata": {},
   "source": [
    "#### ESTIMATION. 3RD MODEL"
   ]
  },
  {
   "cell_type": "markdown",
   "metadata": {},
   "source": [
    "Estimado por OLS.<br>\n",
    "<strong>Y:</strong><br>\n",
    "'total de transacciones'<br>\n",
    "<strong>X:</strong><br>\n",
    "'SATURDAY',<br>\n",
    "'SUNDAY',<br>\n",
    "'ratio_tm',<br>\n",
    "'kms_ofertados',<br>\n",
    "'Verano',<br>\n",
    "'Julio',<br>\n",
    "'t',<br>\n",
    "'Feriado_laboral',<br>\n",
    "'Feriado_no_laboral',<br>\n",
    "'Censo',<br>\n",
    "'Partido',<br>\n",
    "'FDS_Largo',<br>\n",
    "'Disturbios',<br>\n",
    "'Bucle',<br>\n",
    "'Clima',<br>\n",
    "'visperas_laborales', <br>\n",
    "'N_ZPs'<br>\n",
    "<strong>Omitidas:</strong><br>\n",
    "'Elecciones',<br>\n",
    "'Nov_Dic_2017'"
   ]
  },
  {
   "cell_type": "code",
   "execution_count": 29,
   "metadata": {
    "collapsed": true
   },
   "outputs": [],
   "source": [
    "Y = complete_db.loc[:,'TOTAL_trx']\n",
    "X = complete_db.loc[:,['SATURDAY',\n",
    "                       'SUNDAY',\n",
    "                       'ratio_tm',\n",
    "                       'kms_ofertados',\n",
    "                       'Verano',\n",
    "                       'Julio',\n",
    "                       't',\n",
    "                       'Feriado_laboral',\n",
    "                       'Feriado_no_laboral',\n",
    "                       'Censo',\n",
    "                       'Partido',\n",
    "                       'FDS_Largo',\n",
    "                       'Disturbios',\n",
    "                       'Bucle',\n",
    "                       'Clima',\n",
    "                       'visperas_laborales',\n",
    "                       'N_ZPs']]"
   ]
  },
  {
   "cell_type": "code",
   "execution_count": 30,
   "metadata": {
    "collapsed": true
   },
   "outputs": [],
   "source": [
    "X = sm.add_constant(X)"
   ]
  },
  {
   "cell_type": "code",
   "execution_count": 31,
   "metadata": {
    "collapsed": true
   },
   "outputs": [],
   "source": [
    "model = sm.OLS(Y, X)"
   ]
  },
  {
   "cell_type": "code",
   "execution_count": 32,
   "metadata": {},
   "outputs": [
    {
     "name": "stdout",
     "output_type": "stream",
     "text": [
      "                            OLS Regression Results                            \n",
      "==============================================================================\n",
      "Dep. Variable:              TOTAL_trx   R-squared:                       0.953\n",
      "Model:                            OLS   Adj. R-squared:                  0.952\n",
      "Method:                 Least Squares   F-statistic:                     1275.\n",
      "Date:                Mon, 12 Mar 2018   Prob (F-statistic):               0.00\n",
      "Time:                        18:32:44   Log-Likelihood:                -14834.\n",
      "No. Observations:                1096   AIC:                         2.970e+04\n",
      "Df Residuals:                    1078   BIC:                         2.979e+04\n",
      "Df Model:                          17                                         \n",
      "Covariance Type:            nonrobust                                         \n",
      "======================================================================================\n",
      "                         coef    std err          t      P>|t|      [0.025      0.975]\n",
      "--------------------------------------------------------------------------------------\n",
      "const               2.908e+06   8.26e+04     35.188      0.000    2.75e+06    3.07e+06\n",
      "SATURDAY           -1.168e+06   6.72e+04    -17.391      0.000    -1.3e+06   -1.04e+06\n",
      "SUNDAY             -1.738e+06   7.66e+04    -22.691      0.000   -1.89e+06   -1.59e+06\n",
      "ratio_tm            6724.3909   1103.157      6.096      0.000    4559.813    8888.969\n",
      "kms_ofertados          0.1114      0.018      6.103      0.000       0.076       0.147\n",
      "Verano             -4.758e+05   1.61e+04    -29.578      0.000   -5.07e+05   -4.44e+05\n",
      "Julio              -1.654e+05   2.02e+04     -8.171      0.000   -2.05e+05   -1.26e+05\n",
      "t                   -381.8485     32.898    -11.607      0.000    -446.399    -317.298\n",
      "Feriado_laboral     -1.49e+06   8.41e+04    -17.729      0.000   -1.66e+06   -1.33e+06\n",
      "Feriado_no_laboral -2.077e+05   4.08e+04     -5.091      0.000   -2.88e+05   -1.28e+05\n",
      "Censo              -7.919e+05   1.89e+05     -4.199      0.000   -1.16e+06   -4.22e+05\n",
      "Partido            -1.888e+05   7.59e+04     -2.488      0.013   -3.38e+05   -3.99e+04\n",
      "FDS_Largo          -1.241e+05   2.71e+04     -4.576      0.000   -1.77e+05   -7.09e+04\n",
      "Disturbios         -2.511e+05   7.57e+04     -3.317      0.001      -4e+05   -1.03e+05\n",
      "Bucle               1.963e+04   2.43e+04      0.808      0.419    -2.8e+04    6.73e+04\n",
      "Clima              -3.111e+05   4.53e+04     -6.872      0.000      -4e+05   -2.22e+05\n",
      "visperas_laborales -4.154e+05   6.21e+04     -6.693      0.000   -5.37e+05   -2.94e+05\n",
      "N_ZPs                846.6471    450.987      1.877      0.061     -38.265    1731.559\n",
      "==============================================================================\n",
      "Omnibus:                      408.862   Durbin-Watson:                   1.378\n",
      "Prob(Omnibus):                  0.000   Jarque-Bera (JB):             7889.700\n",
      "Skew:                           1.219   Prob(JB):                         0.00\n",
      "Kurtosis:                      15.916   Cond. No.                     4.46e+07\n",
      "==============================================================================\n",
      "\n",
      "Warnings:\n",
      "[1] Standard Errors assume that the covariance matrix of the errors is correctly specified.\n",
      "[2] The condition number is large, 4.46e+07. This might indicate that there are\n",
      "strong multicollinearity or other numerical problems.\n"
     ]
    }
   ],
   "source": [
    "results = model.fit()\n",
    "print(results.summary())"
   ]
  },
  {
   "cell_type": "markdown",
   "metadata": {},
   "source": [
    "-------------------------------"
   ]
  },
  {
   "cell_type": "markdown",
   "metadata": {},
   "source": [
    "#### ESTIMATION. 4TH MODEL"
   ]
  },
  {
   "cell_type": "markdown",
   "metadata": {},
   "source": [
    "Estimado por OLS.<br>\n",
    "<strong>Y:</strong><br>\n",
    "'total de transacciones'<br>\n",
    "<strong>X:</strong><br>\n",
    "'SATURDAY',<br>\n",
    "'SUNDAY',<br>\n",
    "'ratio_tm',<br>\n",
    "'kms_ofertados',<br>\n",
    "'Verano',<br>\n",
    "'Julio',<br>\n",
    "'t',<br>\n",
    "'Feriado_laboral',<br>\n",
    "'Feriado_no_laboral',<br>\n",
    "'Censo',<br>\n",
    "'Partido',<br>\n",
    "'FDS_Largo',<br>\n",
    "'Disturbios',<br>\n",
    "'Clima',<br>\n",
    "'visperas_laborales', <br>\n",
    "'N_ZPs'<br>\n",
    "<strong>Omitidas:</strong><br>\n",
    "'Elecciones',<br>\n",
    "'Nov_Dic_2017',<br>\n",
    "'Bucle'"
   ]
  },
  {
   "cell_type": "code",
   "execution_count": 33,
   "metadata": {
    "collapsed": true
   },
   "outputs": [],
   "source": [
    "Y = complete_db.loc[:,'TOTAL_trx']\n",
    "X = complete_db.loc[:,['SATURDAY',\n",
    "                       'SUNDAY',\n",
    "                       'ratio_tm',\n",
    "                       'kms_ofertados',\n",
    "                       'Verano',\n",
    "                       'Julio',\n",
    "                       't',\n",
    "                       'Feriado_laboral',\n",
    "                       'Feriado_no_laboral',\n",
    "                       'Censo',\n",
    "                       'Partido',\n",
    "                       'FDS_Largo',\n",
    "                       'Disturbios',\n",
    "                       'Clima',\n",
    "                       'visperas_laborales',\n",
    "                       'N_ZPs']]"
   ]
  },
  {
   "cell_type": "code",
   "execution_count": 34,
   "metadata": {
    "collapsed": true
   },
   "outputs": [],
   "source": [
    "X = sm.add_constant(X)"
   ]
  },
  {
   "cell_type": "code",
   "execution_count": 35,
   "metadata": {
    "collapsed": true
   },
   "outputs": [],
   "source": [
    "model = sm.OLS(Y, X)"
   ]
  },
  {
   "cell_type": "code",
   "execution_count": 36,
   "metadata": {},
   "outputs": [
    {
     "name": "stdout",
     "output_type": "stream",
     "text": [
      "                            OLS Regression Results                            \n",
      "==============================================================================\n",
      "Dep. Variable:              TOTAL_trx   R-squared:                       0.953\n",
      "Model:                            OLS   Adj. R-squared:                  0.952\n",
      "Method:                 Least Squares   F-statistic:                     1356.\n",
      "Date:                Mon, 12 Mar 2018   Prob (F-statistic):               0.00\n",
      "Time:                        18:32:45   Log-Likelihood:                -14834.\n",
      "No. Observations:                1096   AIC:                         2.970e+04\n",
      "Df Residuals:                    1079   BIC:                         2.979e+04\n",
      "Df Model:                          16                                         \n",
      "Covariance Type:            nonrobust                                         \n",
      "======================================================================================\n",
      "                         coef    std err          t      P>|t|      [0.025      0.975]\n",
      "--------------------------------------------------------------------------------------\n",
      "const               2.911e+06   8.25e+04     35.288      0.000    2.75e+06    3.07e+06\n",
      "SATURDAY            -1.17e+06   6.71e+04    -17.428      0.000    -1.3e+06   -1.04e+06\n",
      "SUNDAY              -1.74e+06   7.65e+04    -22.741      0.000   -1.89e+06   -1.59e+06\n",
      "ratio_tm            6742.0195   1102.764      6.114      0.000    4578.215    8905.824\n",
      "kms_ofertados          0.1112      0.018      6.093      0.000       0.075       0.147\n",
      "Verano             -4.765e+05   1.61e+04    -29.657      0.000   -5.08e+05   -4.45e+05\n",
      "Julio               -1.66e+05   2.02e+04     -8.208      0.000   -2.06e+05   -1.26e+05\n",
      "t                   -383.0025     32.861    -11.655      0.000    -447.482    -318.523\n",
      "Feriado_laboral    -1.492e+06    8.4e+04    -17.759      0.000   -1.66e+06   -1.33e+06\n",
      "Feriado_no_laboral -2.075e+05   4.08e+04     -5.087      0.000   -2.87e+05   -1.27e+05\n",
      "Censo              -7.926e+05   1.89e+05     -4.204      0.000   -1.16e+06   -4.23e+05\n",
      "Partido            -1.902e+05   7.59e+04     -2.508      0.012   -3.39e+05   -4.14e+04\n",
      "FDS_Largo           -1.24e+05   2.71e+04     -4.573      0.000   -1.77e+05   -7.08e+04\n",
      "Disturbios          -2.49e+05   7.56e+04     -3.291      0.001   -3.97e+05   -1.01e+05\n",
      "Clima              -3.099e+05   4.52e+04     -6.850      0.000   -3.99e+05   -2.21e+05\n",
      "visperas_laborales -4.168e+05    6.2e+04     -6.718      0.000   -5.39e+05   -2.95e+05\n",
      "N_ZPs                839.3790    450.825      1.862      0.063     -45.214    1723.972\n",
      "==============================================================================\n",
      "Omnibus:                      407.430   Durbin-Watson:                   1.376\n",
      "Prob(Omnibus):                  0.000   Jarque-Bera (JB):             7843.654\n",
      "Skew:                           1.214   Prob(JB):                         0.00\n",
      "Kurtosis:                      15.879   Cond. No.                     4.46e+07\n",
      "==============================================================================\n",
      "\n",
      "Warnings:\n",
      "[1] Standard Errors assume that the covariance matrix of the errors is correctly specified.\n",
      "[2] The condition number is large, 4.46e+07. This might indicate that there are\n",
      "strong multicollinearity or other numerical problems.\n"
     ]
    }
   ],
   "source": [
    "results = model.fit()\n",
    "print(results.summary())"
   ]
  },
  {
   "cell_type": "markdown",
   "metadata": {},
   "source": [
    "---------------"
   ]
  },
  {
   "cell_type": "markdown",
   "metadata": {},
   "source": [
    "#### ESTIMATION. 5TH MODEL <- <font color='green'> base model </font>"
   ]
  },
  {
   "cell_type": "markdown",
   "metadata": {},
   "source": [
    "Estimado por OLS.<br>\n",
    "<strong>Y:</strong><br>\n",
    "'total de transacciones'<br>\n",
    "<strong>X:</strong><br>\n",
    "'SATURDAY',<br>\n",
    "'SUNDAY',<br>\n",
    "'ratio_tm',<br>\n",
    "'kms_ofertados',<br>\n",
    "'Verano 52, 53, 1, 2, 3, 4, 5, 6, 7, 8, 9',<br>\n",
    "'Julio',<br>\n",
    "'t',<br>\n",
    "'Feriado_laboral',<br>\n",
    "'Feriado_no_laboral',<br>\n",
    "'FDS_Largo',<br>\n",
    "'Disturbios',<br>\n",
    "'Clima',<br>\n",
    "'Partido',<br>\n",
    "'Censo',<br>\n",
    "'visperas_laborales',<br>\n",
    "'N_ZPs'<br>\n",
    "<strong>Omitidas:</strong><br>\n",
    "'Elecciones',<br>\n",
    "'Nov_Dic_2017',<br>\n",
    "'Bucle',<br>"
   ]
  },
  {
   "cell_type": "code",
   "execution_count": 37,
   "metadata": {
    "collapsed": true
   },
   "outputs": [],
   "source": [
    "Y = complete_db.loc[:,'TOTAL_trx']\n",
    "X = complete_db.loc[:,['SATURDAY',\n",
    "                        'SUNDAY',\n",
    "                        'ratio_tm',\n",
    "                        'kms_ofertados',\n",
    "                        'WEEK_OF_YEAR_52',\n",
    "                        'WEEK_OF_YEAR_53',\n",
    "                        'WEEK_OF_YEAR_1',\n",
    "                        'WEEK_OF_YEAR_2',\n",
    "                        'WEEK_OF_YEAR_3',\n",
    "                        'WEEK_OF_YEAR_4',\n",
    "                        'WEEK_OF_YEAR_5',\n",
    "                        'WEEK_OF_YEAR_6',\n",
    "                        'WEEK_OF_YEAR_7',\n",
    "                        'WEEK_OF_YEAR_8',\n",
    "                        'WEEK_OF_YEAR_9',\n",
    "                        'Julio',\n",
    "                        't',\n",
    "                        'Feriado_laboral',\n",
    "                        'Feriado_no_laboral',\n",
    "                        'FDS_Largo',\n",
    "                        'Disturbios',\n",
    "                        'Clima',\n",
    "                        'Partido',\n",
    "                        'Censo',\n",
    "                        'visperas_laborales',\n",
    "                        'N_ZPs']]"
   ]
  },
  {
   "cell_type": "code",
   "execution_count": 38,
   "metadata": {
    "collapsed": true
   },
   "outputs": [],
   "source": [
    "X = sm.add_constant(X)"
   ]
  },
  {
   "cell_type": "code",
   "execution_count": 39,
   "metadata": {
    "collapsed": true
   },
   "outputs": [],
   "source": [
    "model = sm.OLS(Y, X)"
   ]
  },
  {
   "cell_type": "code",
   "execution_count": 40,
   "metadata": {},
   "outputs": [
    {
     "name": "stdout",
     "output_type": "stream",
     "text": [
      "                            OLS Regression Results                            \n",
      "==============================================================================\n",
      "Dep. Variable:              TOTAL_trx   R-squared:                       0.959\n",
      "Model:                            OLS   Adj. R-squared:                  0.958\n",
      "Method:                 Least Squares   F-statistic:                     960.0\n",
      "Date:                Mon, 12 Mar 2018   Prob (F-statistic):               0.00\n",
      "Time:                        18:32:45   Log-Likelihood:                -14756.\n",
      "No. Observations:                1096   AIC:                         2.957e+04\n",
      "Df Residuals:                    1069   BIC:                         2.970e+04\n",
      "Df Model:                          26                                         \n",
      "Covariance Type:            nonrobust                                         \n",
      "======================================================================================\n",
      "                         coef    std err          t      P>|t|      [0.025      0.975]\n",
      "--------------------------------------------------------------------------------------\n",
      "const               2.883e+06   7.77e+04     37.123      0.000    2.73e+06    3.04e+06\n",
      "SATURDAY           -1.133e+06   6.33e+04    -17.921      0.000   -1.26e+06   -1.01e+06\n",
      "SUNDAY             -1.698e+06   7.21e+04    -23.560      0.000   -1.84e+06   -1.56e+06\n",
      "ratio_tm            6163.0829   1037.050      5.943      0.000    4128.199    8197.967\n",
      "kms_ofertados          0.1016      0.017      5.939      0.000       0.068       0.135\n",
      "WEEK_OF_YEAR_52    -2.298e+05   3.93e+04     -5.847      0.000   -3.07e+05   -1.53e+05\n",
      "WEEK_OF_YEAR_53    -3.352e+05   6.66e+04     -5.030      0.000   -4.66e+05   -2.04e+05\n",
      "WEEK_OF_YEAR_1     -2.216e+05   4.15e+04     -5.338      0.000   -3.03e+05    -1.4e+05\n",
      "WEEK_OF_YEAR_2     -2.883e+05   3.85e+04     -7.486      0.000   -3.64e+05   -2.13e+05\n",
      "WEEK_OF_YEAR_3      -3.99e+05   3.85e+04    -10.364      0.000   -4.75e+05   -3.23e+05\n",
      "WEEK_OF_YEAR_4     -4.536e+05   3.84e+04    -11.812      0.000   -5.29e+05   -3.78e+05\n",
      "WEEK_OF_YEAR_5     -4.966e+05   3.86e+04    -12.877      0.000   -5.72e+05   -4.21e+05\n",
      "WEEK_OF_YEAR_6     -6.271e+05   3.85e+04    -16.301      0.000   -7.03e+05   -5.52e+05\n",
      "WEEK_OF_YEAR_7     -7.069e+05   3.84e+04    -18.413      0.000   -7.82e+05   -6.32e+05\n",
      "WEEK_OF_YEAR_8     -6.431e+05   3.84e+04    -16.737      0.000   -7.18e+05   -5.68e+05\n",
      "WEEK_OF_YEAR_9     -3.292e+05   3.84e+04     -8.578      0.000   -4.05e+05   -2.54e+05\n",
      "Julio              -1.748e+05    1.9e+04     -9.223      0.000   -2.12e+05   -1.38e+05\n",
      "t                   -371.7540     30.722    -12.101      0.000    -432.037    -311.471\n",
      "Feriado_laboral    -1.471e+06   7.92e+04    -18.578      0.000   -1.63e+06   -1.32e+06\n",
      "Feriado_no_laboral -2.308e+05   3.82e+04     -6.039      0.000   -3.06e+05   -1.56e+05\n",
      "FDS_Largo          -1.227e+05   2.57e+04     -4.777      0.000   -1.73e+05   -7.23e+04\n",
      "Disturbios         -2.603e+05   7.08e+04     -3.678      0.000   -3.99e+05   -1.21e+05\n",
      "Clima              -3.174e+05   4.23e+04     -7.499      0.000      -4e+05   -2.34e+05\n",
      "Partido            -1.975e+05    7.1e+04     -2.783      0.005   -3.37e+05   -5.83e+04\n",
      "Censo              -7.842e+05   1.76e+05     -4.446      0.000   -1.13e+06   -4.38e+05\n",
      "visperas_laborales  -3.16e+05   5.98e+04     -5.288      0.000   -4.33e+05   -1.99e+05\n",
      "N_ZPs               1110.0489    425.212      2.611      0.009     275.704    1944.394\n",
      "==============================================================================\n",
      "Omnibus:                      546.255   Durbin-Watson:                   1.543\n",
      "Prob(Omnibus):                  0.000   Jarque-Bera (JB):            13736.054\n",
      "Skew:                           1.746   Prob(JB):                         0.00\n",
      "Kurtosis:                      19.988   Cond. No.                     4.46e+07\n",
      "==============================================================================\n",
      "\n",
      "Warnings:\n",
      "[1] Standard Errors assume that the covariance matrix of the errors is correctly specified.\n",
      "[2] The condition number is large, 4.46e+07. This might indicate that there are\n",
      "strong multicollinearity or other numerical problems.\n"
     ]
    }
   ],
   "source": [
    "results = model.fit()\n",
    "print(results.summary())"
   ]
  },
  {
   "cell_type": "code",
   "execution_count": 41,
   "metadata": {
    "collapsed": true
   },
   "outputs": [],
   "source": [
    "ypred_m5 = results.predict(X)\n",
    "complete_db.loc[:,'ypred_m5'] = ypred_m5"
   ]
  },
  {
   "cell_type": "markdown",
   "metadata": {},
   "source": [
    "-----------------------------"
   ]
  },
  {
   "cell_type": "markdown",
   "metadata": {},
   "source": [
    "#### ESTIMATION. 6TH MODEL"
   ]
  },
  {
   "cell_type": "markdown",
   "metadata": {},
   "source": [
    "Estimado por OLS.<br>\n",
    "<strong>Y:</strong><br>\n",
    "'total de transacciones'<br>\n",
    "<strong>X:</strong><br>\n",
    "'SATURDAY',<br>\n",
    "'SUNDAY',<br>\n",
    "'ratio_tm',<br>\n",
    "'ratio_tm_2',<br>\n",
    "'kms_ofertados',<br>\n",
    "'Verano 52, 53, 1, 2, 3, 4, 5, 6, 7, 8, 9',<br>\n",
    "'Julio',<br>\n",
    "'t',<br>\n",
    "'Feriado_laboral',<br>\n",
    "'Feriado_no_laboral',<br>\n",
    "'FDS_Largo',<br>\n",
    "'Disturbios',<br>\n",
    "'Clima',<br>\n",
    "'Partido',<br>\n",
    "'Censo',<br>\n",
    "'visperas_laborales',<br>\n",
    "'N_ZPs'<br>\n",
    "<strong>Omitidas:</strong><br>\n",
    "'Elecciones',<br>\n",
    "'Nov_Dic_2017',<br>\n",
    "'Bucle',<br>"
   ]
  },
  {
   "cell_type": "code",
   "execution_count": 42,
   "metadata": {
    "collapsed": true
   },
   "outputs": [],
   "source": [
    "complete_db.loc[:,'ratio_tm_2'] = complete_db.loc[:,'ratio_tm']*complete_db.loc[:,'ratio_tm']"
   ]
  },
  {
   "cell_type": "code",
   "execution_count": 43,
   "metadata": {
    "collapsed": true
   },
   "outputs": [],
   "source": [
    "Y = complete_db.loc[:,'TOTAL_trx']\n",
    "X = complete_db.loc[:,['SATURDAY',\n",
    "                        'SUNDAY',\n",
    "                        'ratio_tm',\n",
    "                        'ratio_tm_2',\n",
    "                        'kms_ofertados',\n",
    "                        'WEEK_OF_YEAR_52',\n",
    "                        'WEEK_OF_YEAR_53',\n",
    "                        'WEEK_OF_YEAR_1',\n",
    "                        'WEEK_OF_YEAR_2',\n",
    "                        'WEEK_OF_YEAR_3',\n",
    "                        'WEEK_OF_YEAR_4',\n",
    "                        'WEEK_OF_YEAR_5',\n",
    "                        'WEEK_OF_YEAR_6',\n",
    "                        'WEEK_OF_YEAR_7',\n",
    "                        'WEEK_OF_YEAR_8',\n",
    "                        'WEEK_OF_YEAR_9',\n",
    "                        'Julio',\n",
    "                        't',\n",
    "                        'Feriado_laboral',\n",
    "                        'Feriado_no_laboral',\n",
    "                        'FDS_Largo',\n",
    "                        'Disturbios',\n",
    "                        'Clima',\n",
    "                        'Partido',\n",
    "                        'Censo',\n",
    "                        'visperas_laborales',\n",
    "                        'N_ZPs']]"
   ]
  },
  {
   "cell_type": "code",
   "execution_count": 44,
   "metadata": {
    "collapsed": true
   },
   "outputs": [],
   "source": [
    "X = sm.add_constant(X)"
   ]
  },
  {
   "cell_type": "code",
   "execution_count": 45,
   "metadata": {
    "collapsed": true
   },
   "outputs": [],
   "source": [
    "model = sm.OLS(Y, X)"
   ]
  },
  {
   "cell_type": "code",
   "execution_count": 46,
   "metadata": {},
   "outputs": [
    {
     "name": "stdout",
     "output_type": "stream",
     "text": [
      "                            OLS Regression Results                            \n",
      "==============================================================================\n",
      "Dep. Variable:              TOTAL_trx   R-squared:                       0.959\n",
      "Model:                            OLS   Adj. R-squared:                  0.958\n",
      "Method:                 Least Squares   F-statistic:                     930.8\n",
      "Date:                Mon, 12 Mar 2018   Prob (F-statistic):               0.00\n",
      "Time:                        18:32:46   Log-Likelihood:                -14752.\n",
      "No. Observations:                1096   AIC:                         2.956e+04\n",
      "Df Residuals:                    1068   BIC:                         2.970e+04\n",
      "Df Model:                          27                                         \n",
      "Covariance Type:            nonrobust                                         \n",
      "======================================================================================\n",
      "                         coef    std err          t      P>|t|      [0.025      0.975]\n",
      "--------------------------------------------------------------------------------------\n",
      "const               2.792e+06   8.39e+04     33.294      0.000    2.63e+06    2.96e+06\n",
      "SATURDAY           -1.074e+06   6.65e+04    -16.155      0.000    -1.2e+06   -9.43e+05\n",
      "SUNDAY              -1.63e+06   7.58e+04    -21.509      0.000   -1.78e+06   -1.48e+06\n",
      "ratio_tm           -4419.3926   3876.752     -1.140      0.255    -1.2e+04    3187.523\n",
      "ratio_tm_2           248.9900     87.912      2.832      0.005      76.490     421.490\n",
      "kms_ofertados          0.1040      0.017      6.088      0.000       0.070       0.137\n",
      "WEEK_OF_YEAR_52    -2.506e+05   3.98e+04     -6.288      0.000   -3.29e+05   -1.72e+05\n",
      "WEEK_OF_YEAR_53     -3.48e+05   6.66e+04     -5.227      0.000   -4.79e+05   -2.17e+05\n",
      "WEEK_OF_YEAR_1     -2.235e+05   4.14e+04     -5.402      0.000   -3.05e+05   -1.42e+05\n",
      "WEEK_OF_YEAR_2     -2.832e+05   3.84e+04     -7.368      0.000   -3.59e+05   -2.08e+05\n",
      "WEEK_OF_YEAR_3     -3.945e+05   3.84e+04    -10.273      0.000    -4.7e+05   -3.19e+05\n",
      "WEEK_OF_YEAR_4     -4.518e+05   3.83e+04    -11.802      0.000   -5.27e+05   -3.77e+05\n",
      "WEEK_OF_YEAR_5     -4.958e+05   3.84e+04    -12.900      0.000   -5.71e+05    -4.2e+05\n",
      "WEEK_OF_YEAR_6     -6.257e+05   3.83e+04    -16.317      0.000   -7.01e+05    -5.5e+05\n",
      "WEEK_OF_YEAR_7     -7.043e+05   3.83e+04    -18.399      0.000   -7.79e+05   -6.29e+05\n",
      "WEEK_OF_YEAR_8     -6.393e+05   3.83e+04    -16.684      0.000   -7.14e+05   -5.64e+05\n",
      "WEEK_OF_YEAR_9     -3.255e+05   3.83e+04     -8.504      0.000   -4.01e+05    -2.5e+05\n",
      "Julio              -1.664e+05   1.91e+04     -8.705      0.000   -2.04e+05   -1.29e+05\n",
      "t                   -280.2149     44.523     -6.294      0.000    -367.577    -192.853\n",
      "Feriado_laboral    -1.401e+06   8.27e+04    -16.944      0.000   -1.56e+06   -1.24e+06\n",
      "Feriado_no_laboral -2.281e+05   3.81e+04     -5.984      0.000   -3.03e+05   -1.53e+05\n",
      "FDS_Largo           -1.23e+05   2.56e+04     -4.805      0.000   -1.73e+05   -7.28e+04\n",
      "Disturbios         -2.596e+05   7.05e+04     -3.680      0.000   -3.98e+05   -1.21e+05\n",
      "Clima              -3.203e+05   4.22e+04     -7.589      0.000   -4.03e+05   -2.37e+05\n",
      "Partido            -1.959e+05   7.07e+04     -2.769      0.006   -3.35e+05   -5.71e+04\n",
      "Censo               -7.63e+05   1.76e+05     -4.336      0.000   -1.11e+06   -4.18e+05\n",
      "visperas_laborales -3.237e+05   5.96e+04     -5.428      0.000   -4.41e+05   -2.07e+05\n",
      "N_ZPs               1522.6710    448.163      3.398      0.001     643.291    2402.051\n",
      "==============================================================================\n",
      "Omnibus:                      552.897   Durbin-Watson:                   1.556\n",
      "Prob(Omnibus):                  0.000   Jarque-Bera (JB):            14001.633\n",
      "Skew:                           1.774   Prob(JB):                         0.00\n",
      "Kurtosis:                      20.147   Cond. No.                     4.46e+07\n",
      "==============================================================================\n",
      "\n",
      "Warnings:\n",
      "[1] Standard Errors assume that the covariance matrix of the errors is correctly specified.\n",
      "[2] The condition number is large, 4.46e+07. This might indicate that there are\n",
      "strong multicollinearity or other numerical problems.\n"
     ]
    }
   ],
   "source": [
    "results = model.fit()\n",
    "print(results.summary())"
   ]
  },
  {
   "cell_type": "markdown",
   "metadata": {},
   "source": [
    "-------------------"
   ]
  },
  {
   "cell_type": "markdown",
   "metadata": {},
   "source": [
    "#### ESTIMATION. 7TH MODEL"
   ]
  },
  {
   "cell_type": "markdown",
   "metadata": {},
   "source": [
    "Estimado por OLS.<br>\n",
    "<strong>Y:</strong><br>\n",
    "'total de transacciones'<br>\n",
    "<strong>X:</strong><br>\n",
    "'SATURDAY',<br>\n",
    "'SUNDAY',<br>\n",
    "'ratio_tm_2',<br>\n",
    "'kms_ofertados',<br>\n",
    "'Verano 52, 53, 1, 2, 3, 4, 5, 6, 7, 8, 9',<br>\n",
    "'Julio',<br>\n",
    "'t',<br>\n",
    "'Feriado_laboral',<br>\n",
    "'Feriado_no_laboral',<br>\n",
    "'FDS_Largo',<br>\n",
    "'Disturbios',<br>\n",
    "'Clima',<br>\n",
    "'Partido',<br>\n",
    "'Censo',<br>\n",
    "'visperas_laborales',<br>\n",
    "'N_ZPs'<br>\n",
    "<strong>Omitidas:</strong><br>\n",
    "'Elecciones',<br>\n",
    "'Nov_Dic_2017',<br>\n",
    "'Bucle',<br>\n",
    "'ratio_tm'"
   ]
  },
  {
   "cell_type": "code",
   "execution_count": 47,
   "metadata": {
    "collapsed": true
   },
   "outputs": [],
   "source": [
    "Y = complete_db.loc[:,'TOTAL_trx']\n",
    "X = complete_db.loc[:,['SATURDAY',\n",
    "                        'SUNDAY',\n",
    "                        'ratio_tm_2',\n",
    "                        'kms_ofertados',\n",
    "                        'WEEK_OF_YEAR_52',\n",
    "                        'WEEK_OF_YEAR_53',\n",
    "                        'WEEK_OF_YEAR_1',\n",
    "                        'WEEK_OF_YEAR_2',\n",
    "                        'WEEK_OF_YEAR_3',\n",
    "                        'WEEK_OF_YEAR_4',\n",
    "                        'WEEK_OF_YEAR_5',\n",
    "                        'WEEK_OF_YEAR_6',\n",
    "                        'WEEK_OF_YEAR_7',\n",
    "                        'WEEK_OF_YEAR_8',\n",
    "                        'WEEK_OF_YEAR_9',\n",
    "                        'Julio',\n",
    "                        't',\n",
    "                        'Feriado_laboral',\n",
    "                        'Feriado_no_laboral',\n",
    "                        'FDS_Largo',\n",
    "                        'Disturbios',\n",
    "                        'Clima',\n",
    "                        'Partido',\n",
    "                        'Censo',\n",
    "                        'visperas_laborales',\n",
    "                        'N_ZPs']]"
   ]
  },
  {
   "cell_type": "code",
   "execution_count": 48,
   "metadata": {
    "collapsed": true
   },
   "outputs": [],
   "source": [
    "X = sm.add_constant(X)"
   ]
  },
  {
   "cell_type": "code",
   "execution_count": 49,
   "metadata": {
    "collapsed": true
   },
   "outputs": [],
   "source": [
    "model = sm.OLS(Y, X)"
   ]
  },
  {
   "cell_type": "code",
   "execution_count": 50,
   "metadata": {},
   "outputs": [
    {
     "name": "stdout",
     "output_type": "stream",
     "text": [
      "                            OLS Regression Results                            \n",
      "==============================================================================\n",
      "Dep. Variable:              TOTAL_trx   R-squared:                       0.959\n",
      "Model:                            OLS   Adj. R-squared:                  0.958\n",
      "Method:                 Least Squares   F-statistic:                     966.3\n",
      "Date:                Mon, 12 Mar 2018   Prob (F-statistic):               0.00\n",
      "Time:                        18:32:47   Log-Likelihood:                -14752.\n",
      "No. Observations:                1096   AIC:                         2.956e+04\n",
      "Df Residuals:                    1069   BIC:                         2.969e+04\n",
      "Df Model:                          26                                         \n",
      "Covariance Type:            nonrobust                                         \n",
      "======================================================================================\n",
      "                         coef    std err          t      P>|t|      [0.025      0.975]\n",
      "--------------------------------------------------------------------------------------\n",
      "const               2.842e+06   7.16e+04     39.688      0.000     2.7e+06    2.98e+06\n",
      "SATURDAY           -1.107e+06   5.96e+04    -18.580      0.000   -1.22e+06    -9.9e+05\n",
      "SUNDAY             -1.669e+06   6.78e+04    -24.600      0.000    -1.8e+06   -1.54e+06\n",
      "ratio_tm_2           152.4005     23.443      6.501      0.000     106.400     198.401\n",
      "kms_ofertados          0.1027      0.017      6.027      0.000       0.069       0.136\n",
      "WEEK_OF_YEAR_52    -2.425e+05   3.92e+04     -6.183      0.000   -3.19e+05   -1.66e+05\n",
      "WEEK_OF_YEAR_53    -3.418e+05   6.64e+04     -5.151      0.000   -4.72e+05   -2.12e+05\n",
      "WEEK_OF_YEAR_1      -2.22e+05   4.14e+04     -5.366      0.000   -3.03e+05   -1.41e+05\n",
      "WEEK_OF_YEAR_2     -2.856e+05   3.84e+04     -7.441      0.000   -3.61e+05    -2.1e+05\n",
      "WEEK_OF_YEAR_3     -3.966e+05   3.84e+04    -10.335      0.000   -4.72e+05   -3.21e+05\n",
      "WEEK_OF_YEAR_4     -4.523e+05   3.83e+04    -11.815      0.000   -5.27e+05   -3.77e+05\n",
      "WEEK_OF_YEAR_5     -4.959e+05   3.84e+04    -12.900      0.000   -5.71e+05    -4.2e+05\n",
      "WEEK_OF_YEAR_6      -6.26e+05   3.84e+04    -16.322      0.000   -7.01e+05   -5.51e+05\n",
      "WEEK_OF_YEAR_7      -7.05e+05   3.83e+04    -18.418      0.000    -7.8e+05    -6.3e+05\n",
      "WEEK_OF_YEAR_8     -6.406e+05   3.83e+04    -16.723      0.000   -7.16e+05   -5.65e+05\n",
      "WEEK_OF_YEAR_9     -3.268e+05   3.83e+04     -8.540      0.000   -4.02e+05   -2.52e+05\n",
      "Julio              -1.697e+05   1.89e+04     -8.976      0.000   -2.07e+05   -1.33e+05\n",
      "t                   -322.1423     25.095    -12.837      0.000    -371.383    -272.902\n",
      "Feriado_laboral     -1.44e+06   7.53e+04    -19.121      0.000   -1.59e+06   -1.29e+06\n",
      "Feriado_no_laboral  -2.28e+05   3.81e+04     -5.982      0.000   -3.03e+05   -1.53e+05\n",
      "FDS_Largo          -1.238e+05   2.56e+04     -4.835      0.000   -1.74e+05   -7.35e+04\n",
      "Disturbios         -2.596e+05   7.05e+04     -3.680      0.000   -3.98e+05   -1.21e+05\n",
      "Clima              -3.186e+05   4.22e+04     -7.553      0.000   -4.01e+05   -2.36e+05\n",
      "Partido            -1.965e+05   7.07e+04     -2.778      0.006   -3.35e+05   -5.77e+04\n",
      "Censo              -7.702e+05   1.76e+05     -4.379      0.000   -1.12e+06   -4.25e+05\n",
      "visperas_laborales -3.207e+05   5.96e+04     -5.383      0.000   -4.38e+05   -2.04e+05\n",
      "N_ZPs               1291.3789    399.662      3.231      0.001     507.169    2075.589\n",
      "==============================================================================\n",
      "Omnibus:                      552.783   Durbin-Watson:                   1.554\n",
      "Prob(Omnibus):                  0.000   Jarque-Bera (JB):            14077.528\n",
      "Skew:                           1.772   Prob(JB):                         0.00\n",
      "Kurtosis:                      20.196   Cond. No.                     4.46e+07\n",
      "==============================================================================\n",
      "\n",
      "Warnings:\n",
      "[1] Standard Errors assume that the covariance matrix of the errors is correctly specified.\n",
      "[2] The condition number is large, 4.46e+07. This might indicate that there are\n",
      "strong multicollinearity or other numerical problems.\n"
     ]
    }
   ],
   "source": [
    "results = model.fit()\n",
    "print(results.summary())"
   ]
  },
  {
   "cell_type": "code",
   "execution_count": 51,
   "metadata": {
    "collapsed": true
   },
   "outputs": [],
   "source": [
    "ypred_m7 = results.predict(X)\n",
    "complete_db.loc[:,'ypred_m7'] = ypred_m7"
   ]
  },
  {
   "cell_type": "markdown",
   "metadata": {},
   "source": [
    "----------------------------"
   ]
  },
  {
   "cell_type": "markdown",
   "metadata": {},
   "source": [
    "#### ESTIMATION. 8TH MODEL"
   ]
  },
  {
   "cell_type": "markdown",
   "metadata": {},
   "source": [
    "Estimado por OLS.<br>\n",
    "<strong>Y:</strong><br>\n",
    "'total de transacciones'<br>\n",
    "<strong>X:</strong><br>\n",
    "'SATURDAY',<br>\n",
    "'SUNDAY',<br>\n",
    "'ratio_tm',<br>\n",
    "'r_tm_x_rtm_18'<br>\n",
    "'kms_ofertados',<br>\n",
    "'Verano 52, 53, 1, 2, 3, 4, 5, 6, 7, 8, 9',<br>\n",
    "'Julio',<br>\n",
    "'t',<br>\n",
    "'Feriado_laboral',<br>\n",
    "'Feriado_no_laboral',<br>\n",
    "'FDS_Largo',<br>\n",
    "'Disturbios',<br>\n",
    "'Clima',<br>\n",
    "'Partido',<br>\n",
    "'Censo',<br>\n",
    "'visperas_laborales',<br>\n",
    "'N_ZPs'<br>\n",
    "<strong>Omitidas:</strong><br>\n",
    "'Elecciones',<br>\n",
    "'Nov_Dic_2017',<br>\n",
    "'Bucle',<br>\n",
    "'ratio_tm_2'"
   ]
  },
  {
   "cell_type": "code",
   "execution_count": 52,
   "metadata": {
    "collapsed": true
   },
   "outputs": [],
   "source": [
    "complete_db.loc[:,'rtm_17'] = np.where((17<=complete_db.loc[:,'ratio_tm']),1,0)\n",
    "complete_db.loc[:,'rtm_18'] = np.where((18<=complete_db.loc[:,'ratio_tm']),1,0)\n",
    "\n",
    "complete_db.loc[:,'r_tm_x_rtm_17'] = complete_db.loc[:,'ratio_tm'] * complete_db.loc[:,'rtm_17']\n",
    "complete_db.loc[:,'r_tm_x_rtm_18'] = complete_db.loc[:,'ratio_tm'] * complete_db.loc[:,'rtm_18']"
   ]
  },
  {
   "cell_type": "code",
   "execution_count": 53,
   "metadata": {
    "collapsed": true
   },
   "outputs": [],
   "source": [
    "Y = complete_db.loc[:,'TOTAL_trx']\n",
    "X = complete_db.loc[:,['SATURDAY',\n",
    "                        'SUNDAY',\n",
    "                        'ratio_tm',\n",
    "                        'r_tm_x_rtm_18',\n",
    "                        'kms_ofertados',\n",
    "                        'WEEK_OF_YEAR_52',\n",
    "                        'WEEK_OF_YEAR_53',\n",
    "                        'WEEK_OF_YEAR_1',\n",
    "                        'WEEK_OF_YEAR_2',\n",
    "                        'WEEK_OF_YEAR_3',\n",
    "                        'WEEK_OF_YEAR_4',\n",
    "                        'WEEK_OF_YEAR_5',\n",
    "                        'WEEK_OF_YEAR_6',\n",
    "                        'WEEK_OF_YEAR_7',\n",
    "                        'WEEK_OF_YEAR_8',\n",
    "                        'WEEK_OF_YEAR_9',\n",
    "                        'Julio',\n",
    "                        't',\n",
    "                        'Feriado_laboral',\n",
    "                        'Feriado_no_laboral',\n",
    "                        'FDS_Largo',\n",
    "                        'Disturbios',\n",
    "                        'Clima',\n",
    "                        'Partido',\n",
    "                        'Censo',\n",
    "                        'visperas_laborales',\n",
    "                        'N_ZPs']]"
   ]
  },
  {
   "cell_type": "code",
   "execution_count": 54,
   "metadata": {
    "collapsed": true
   },
   "outputs": [],
   "source": [
    "X = sm.add_constant(X)"
   ]
  },
  {
   "cell_type": "code",
   "execution_count": 55,
   "metadata": {
    "collapsed": true
   },
   "outputs": [],
   "source": [
    "model = sm.OLS(Y, X)"
   ]
  },
  {
   "cell_type": "code",
   "execution_count": 56,
   "metadata": {},
   "outputs": [
    {
     "name": "stdout",
     "output_type": "stream",
     "text": [
      "                            OLS Regression Results                            \n",
      "==============================================================================\n",
      "Dep. Variable:              TOTAL_trx   R-squared:                       0.959\n",
      "Model:                            OLS   Adj. R-squared:                  0.958\n",
      "Method:                 Least Squares   F-statistic:                     927.9\n",
      "Date:                Mon, 12 Mar 2018   Prob (F-statistic):               0.00\n",
      "Time:                        18:32:48   Log-Likelihood:                -14753.\n",
      "No. Observations:                1096   AIC:                         2.956e+04\n",
      "Df Residuals:                    1068   BIC:                         2.970e+04\n",
      "Df Model:                          27                                         \n",
      "Covariance Type:            nonrobust                                         \n",
      "======================================================================================\n",
      "                         coef    std err          t      P>|t|      [0.025      0.975]\n",
      "--------------------------------------------------------------------------------------\n",
      "const               2.833e+06   8.08e+04     35.062      0.000    2.67e+06    2.99e+06\n",
      "SATURDAY           -1.101e+06   6.48e+04    -16.997      0.000   -1.23e+06   -9.74e+05\n",
      "SUNDAY             -1.662e+06   7.39e+04    -22.496      0.000   -1.81e+06   -1.52e+06\n",
      "ratio_tm             461.8632   2797.524      0.165      0.869   -5027.403    5951.130\n",
      "r_tm_x_rtm_18       4093.0140   1865.828      2.194      0.028     431.909    7754.119\n",
      "kms_ofertados          0.1030      0.017      6.026      0.000       0.069       0.137\n",
      "WEEK_OF_YEAR_52    -2.346e+05   3.93e+04     -5.971      0.000   -3.12e+05   -1.57e+05\n",
      "WEEK_OF_YEAR_53    -3.445e+05   6.67e+04     -5.168      0.000   -4.75e+05   -2.14e+05\n",
      "WEEK_OF_YEAR_1     -2.237e+05   4.14e+04     -5.397      0.000   -3.05e+05   -1.42e+05\n",
      "WEEK_OF_YEAR_2     -2.861e+05   3.85e+04     -7.439      0.000   -3.62e+05   -2.11e+05\n",
      "WEEK_OF_YEAR_3     -3.971e+05   3.84e+04    -10.330      0.000   -4.73e+05   -3.22e+05\n",
      "WEEK_OF_YEAR_4      -4.53e+05   3.83e+04    -11.818      0.000   -5.28e+05   -3.78e+05\n",
      "WEEK_OF_YEAR_5     -4.968e+05   3.85e+04    -12.905      0.000   -5.72e+05   -4.21e+05\n",
      "WEEK_OF_YEAR_6     -6.266e+05   3.84e+04    -16.316      0.000   -7.02e+05   -5.51e+05\n",
      "WEEK_OF_YEAR_7     -7.052e+05   3.83e+04    -18.397      0.000    -7.8e+05    -6.3e+05\n",
      "WEEK_OF_YEAR_8     -6.404e+05   3.84e+04    -16.689      0.000   -7.16e+05   -5.65e+05\n",
      "WEEK_OF_YEAR_9     -3.265e+05   3.83e+04     -8.517      0.000   -4.02e+05   -2.51e+05\n",
      "Julio              -1.818e+05   1.92e+04     -9.475      0.000   -2.19e+05   -1.44e+05\n",
      "t                   -312.9714     40.725     -7.685      0.000    -392.882    -233.061\n",
      "Feriado_laboral    -1.435e+06   8.08e+04    -17.760      0.000   -1.59e+06   -1.28e+06\n",
      "Feriado_no_laboral -2.299e+05   3.82e+04     -6.024      0.000   -3.05e+05   -1.55e+05\n",
      "FDS_Largo          -1.219e+05   2.56e+04     -4.756      0.000   -1.72e+05   -7.16e+04\n",
      "Disturbios         -2.618e+05   7.06e+04     -3.706      0.000      -4e+05   -1.23e+05\n",
      "Clima              -3.179e+05   4.23e+04     -7.523      0.000   -4.01e+05   -2.35e+05\n",
      "Partido            -1.954e+05   7.08e+04     -2.758      0.006   -3.34e+05   -5.64e+04\n",
      "Censo              -7.625e+05   1.76e+05     -4.324      0.000   -1.11e+06   -4.16e+05\n",
      "visperas_laborales -3.192e+05   5.97e+04     -5.349      0.000   -4.36e+05   -2.02e+05\n",
      "N_ZPs               1325.8294    435.705      3.043      0.002     470.895    2180.764\n",
      "==============================================================================\n",
      "Omnibus:                      545.295   Durbin-Watson:                   1.549\n",
      "Prob(Omnibus):                  0.000   Jarque-Bera (JB):            13691.540\n",
      "Skew:                           1.742   Prob(JB):                         0.00\n",
      "Kurtosis:                      19.961   Cond. No.                     4.46e+07\n",
      "==============================================================================\n",
      "\n",
      "Warnings:\n",
      "[1] Standard Errors assume that the covariance matrix of the errors is correctly specified.\n",
      "[2] The condition number is large, 4.46e+07. This might indicate that there are\n",
      "strong multicollinearity or other numerical problems.\n"
     ]
    }
   ],
   "source": [
    "results = model.fit()\n",
    "print(results.summary())"
   ]
  },
  {
   "cell_type": "markdown",
   "metadata": {},
   "source": [
    "----------------------"
   ]
  },
  {
   "cell_type": "markdown",
   "metadata": {},
   "source": [
    "#### ESTIMATION. 9TH MODEL <- <font color='green'> most appealing non-linear model </font>"
   ]
  },
  {
   "cell_type": "markdown",
   "metadata": {},
   "source": [
    "Estimado por OLS.<br>\n",
    "<strong>Y:</strong><br>\n",
    "'total de transacciones'<br>\n",
    "<strong>X:</strong><br>\n",
    "'SATURDAY',<br>\n",
    "'SUNDAY',<br>\n",
    "'r_tm_x_rtm_18'<br>\n",
    "'kms_ofertados',<br>\n",
    "'Verano 52, 53, 1, 2, 3, 4, 5, 6, 7, 8, 9',<br>\n",
    "'Julio',<br>\n",
    "'t',<br>\n",
    "'Feriado_laboral',<br>\n",
    "'Feriado_no_laboral',<br>\n",
    "'FDS_Largo',<br>\n",
    "'Disturbios',<br>\n",
    "'Clima',<br>\n",
    "'Partido',<br>\n",
    "'Censo',<br>\n",
    "'visperas_laborales',<br>\n",
    "'N_ZPs'<br>\n",
    "<strong>Omitidas:</strong><br>\n",
    "'Elecciones',<br>\n",
    "'Nov_Dic_2017',<br>\n",
    "'Bucle',<br>\n",
    "'ratio_tm',<br>\n",
    "'ratio_tm_2'"
   ]
  },
  {
   "cell_type": "code",
   "execution_count": 57,
   "metadata": {
    "collapsed": true
   },
   "outputs": [],
   "source": [
    "Y = complete_db.loc[:,'TOTAL_trx']\n",
    "X = complete_db.loc[:,['SATURDAY',\n",
    "                        'SUNDAY',\n",
    "                        'r_tm_x_rtm_18',\n",
    "                        'kms_ofertados',\n",
    "                        'WEEK_OF_YEAR_52',\n",
    "                        'WEEK_OF_YEAR_53',\n",
    "                        'WEEK_OF_YEAR_1',\n",
    "                        'WEEK_OF_YEAR_2',\n",
    "                        'WEEK_OF_YEAR_3',\n",
    "                        'WEEK_OF_YEAR_4',\n",
    "                        'WEEK_OF_YEAR_5',\n",
    "                        'WEEK_OF_YEAR_6',\n",
    "                        'WEEK_OF_YEAR_7',\n",
    "                        'WEEK_OF_YEAR_8',\n",
    "                        'WEEK_OF_YEAR_9',\n",
    "                        'Julio',\n",
    "                        't',\n",
    "                        'Feriado_laboral',\n",
    "                        'Feriado_no_laboral',\n",
    "                        'FDS_Largo',\n",
    "                        'Disturbios',\n",
    "                        'Clima',\n",
    "                        'Partido',\n",
    "                        'Censo',\n",
    "                        'visperas_laborales',\n",
    "                        'N_ZPs']]"
   ]
  },
  {
   "cell_type": "code",
   "execution_count": 58,
   "metadata": {
    "collapsed": true
   },
   "outputs": [],
   "source": [
    "X = sm.add_constant(X)"
   ]
  },
  {
   "cell_type": "code",
   "execution_count": 59,
   "metadata": {
    "collapsed": true
   },
   "outputs": [],
   "source": [
    "model = sm.OLS(Y, X)"
   ]
  },
  {
   "cell_type": "code",
   "execution_count": 60,
   "metadata": {},
   "outputs": [
    {
     "name": "stdout",
     "output_type": "stream",
     "text": [
      "                            OLS Regression Results                            \n",
      "==============================================================================\n",
      "Dep. Variable:              TOTAL_trx   R-squared:                       0.959\n",
      "Model:                            OLS   Adj. R-squared:                  0.958\n",
      "Method:                 Least Squares   F-statistic:                     964.4\n",
      "Date:                Mon, 12 Mar 2018   Prob (F-statistic):               0.00\n",
      "Time:                        18:32:48   Log-Likelihood:                -14753.\n",
      "No. Observations:                1096   AIC:                         2.956e+04\n",
      "Df Residuals:                    1069   BIC:                         2.970e+04\n",
      "Df Model:                          26                                         \n",
      "Covariance Type:            nonrobust                                         \n",
      "======================================================================================\n",
      "                         coef    std err          t      P>|t|      [0.025      0.975]\n",
      "--------------------------------------------------------------------------------------\n",
      "const               2.827e+06   7.09e+04     39.861      0.000    2.69e+06    2.97e+06\n",
      "SATURDAY           -1.097e+06   5.92e+04    -18.528      0.000   -1.21e+06   -9.81e+05\n",
      "SUNDAY             -1.657e+06   6.74e+04    -24.591      0.000   -1.79e+06   -1.52e+06\n",
      "r_tm_x_rtm_18       4379.1903    690.123      6.346      0.000    3025.040    5733.340\n",
      "kms_ofertados          0.1032      0.017      6.048      0.000       0.070       0.137\n",
      "WEEK_OF_YEAR_52    -2.349e+05   3.92e+04     -5.991      0.000   -3.12e+05   -1.58e+05\n",
      "WEEK_OF_YEAR_53    -3.454e+05   6.64e+04     -5.201      0.000   -4.76e+05   -2.15e+05\n",
      "WEEK_OF_YEAR_1      -2.24e+05   4.14e+04     -5.413      0.000   -3.05e+05   -1.43e+05\n",
      "WEEK_OF_YEAR_2     -2.858e+05   3.84e+04     -7.441      0.000   -3.61e+05    -2.1e+05\n",
      "WEEK_OF_YEAR_3     -3.969e+05   3.84e+04    -10.335      0.000   -4.72e+05   -3.22e+05\n",
      "WEEK_OF_YEAR_4      -4.53e+05   3.83e+04    -11.823      0.000   -5.28e+05   -3.78e+05\n",
      "WEEK_OF_YEAR_5     -4.968e+05   3.85e+04    -12.913      0.000   -5.72e+05   -4.21e+05\n",
      "WEEK_OF_YEAR_6     -6.266e+05   3.84e+04    -16.324      0.000   -7.02e+05   -5.51e+05\n",
      "WEEK_OF_YEAR_7     -7.051e+05   3.83e+04    -18.405      0.000    -7.8e+05    -6.3e+05\n",
      "WEEK_OF_YEAR_8     -6.402e+05   3.83e+04    -16.698      0.000   -7.15e+05   -5.65e+05\n",
      "WEEK_OF_YEAR_9     -3.263e+05   3.83e+04     -8.520      0.000   -4.02e+05   -2.51e+05\n",
      "Julio              -1.823e+05    1.9e+04     -9.617      0.000   -2.19e+05   -1.45e+05\n",
      "t                   -307.5697     24.239    -12.689      0.000    -355.131    -260.009\n",
      "Feriado_laboral     -1.43e+06    7.5e+04    -19.059      0.000   -1.58e+06   -1.28e+06\n",
      "Feriado_no_laboral -2.301e+05   3.81e+04     -6.033      0.000   -3.05e+05   -1.55e+05\n",
      "FDS_Largo          -1.217e+05   2.56e+04     -4.756      0.000   -1.72e+05   -7.15e+04\n",
      "Disturbios          -2.62e+05   7.06e+04     -3.710      0.000      -4e+05   -1.23e+05\n",
      "Clima               -3.18e+05   4.22e+04     -7.531      0.000   -4.01e+05   -2.35e+05\n",
      "Partido            -1.953e+05   7.08e+04     -2.758      0.006   -3.34e+05   -5.63e+04\n",
      "Censo              -7.611e+05   1.76e+05     -4.322      0.000   -1.11e+06   -4.16e+05\n",
      "visperas_laborales -3.194e+05   5.96e+04     -5.357      0.000   -4.36e+05   -2.02e+05\n",
      "N_ZPs               1355.2539    397.405      3.410      0.001     575.472    2135.036\n",
      "==============================================================================\n",
      "Omnibus:                      544.713   Durbin-Watson:                   1.549\n",
      "Prob(Omnibus):                  0.000   Jarque-Bera (JB):            13651.666\n",
      "Skew:                           1.740   Prob(JB):                         0.00\n",
      "Kurtosis:                      19.936   Cond. No.                     4.46e+07\n",
      "==============================================================================\n",
      "\n",
      "Warnings:\n",
      "[1] Standard Errors assume that the covariance matrix of the errors is correctly specified.\n",
      "[2] The condition number is large, 4.46e+07. This might indicate that there are\n",
      "strong multicollinearity or other numerical problems.\n"
     ]
    }
   ],
   "source": [
    "results = model.fit()\n",
    "print(results.summary())"
   ]
  },
  {
   "cell_type": "code",
   "execution_count": 61,
   "metadata": {
    "collapsed": true
   },
   "outputs": [],
   "source": [
    "ypred_m9 = results.predict(X)\n",
    "complete_db.loc[:,'ypred_m9'] = ypred_m9"
   ]
  },
  {
   "cell_type": "markdown",
   "metadata": {},
   "source": [
    "--------------------"
   ]
  },
  {
   "cell_type": "markdown",
   "metadata": {},
   "source": [
    "##### Creating a new variable: log(r_m + 1) and estimating 10TH MODEL"
   ]
  },
  {
   "cell_type": "markdown",
   "metadata": {},
   "source": [
    "Estimado por OLS.<br>\n",
    "<strong>Y:</strong><br>\n",
    "'total de transacciones'<br>\n",
    "<strong>X:</strong><br>\n",
    "'SATURDAY',<br>\n",
    "'SUNDAY',<br>\n",
    "'log(r_m + 1)',<br>\n",
    "'kms_ofertados',<br>\n",
    "'Verano 52, 53, 1, 2, 3, 4, 5, 6, 7, 8, 9',<br>\n",
    "'Julio',<br>\n",
    "'t',<br>\n",
    "'Feriado_laboral',<br>\n",
    "'Feriado_no_laboral',<br>\n",
    "'FDS_Largo',<br>\n",
    "'Disturbios',<br>\n",
    "'Clima',<br>\n",
    "'Partido',<br>\n",
    "'Censo_Elecciones',<br>\n",
    "'visperas_laborales'<br>\n",
    "<strong>Omitidas:</strong><br>\n",
    "'Elecciones',<br>\n",
    "'Nov_Dic_2017',<br>\n",
    "'Bucle',<br>\n",
    "'ratio_tm"
   ]
  },
  {
   "cell_type": "code",
   "execution_count": 62,
   "metadata": {
    "collapsed": true
   },
   "outputs": [],
   "source": [
    "import math"
   ]
  },
  {
   "cell_type": "code",
   "execution_count": 63,
   "metadata": {
    "collapsed": true
   },
   "outputs": [],
   "source": [
    "complete_db.loc[:,'log(r_tm + 1)'] = complete_db['ratio_tm'].apply(lambda x: math.log1p(x))"
   ]
  },
  {
   "cell_type": "code",
   "execution_count": 64,
   "metadata": {
    "collapsed": true
   },
   "outputs": [],
   "source": [
    "Y = complete_db.loc[:,'TOTAL_trx']\n",
    "X = complete_db.loc[:,['SATURDAY',\n",
    "                        'SUNDAY',\n",
    "                        'log(r_tm + 1)',\n",
    "                        'kms_ofertados',\n",
    "                        'WEEK_OF_YEAR_52',\n",
    "                        'WEEK_OF_YEAR_53',\n",
    "                        'WEEK_OF_YEAR_1',\n",
    "                        'WEEK_OF_YEAR_2',\n",
    "                        'WEEK_OF_YEAR_3',\n",
    "                        'WEEK_OF_YEAR_4',\n",
    "                        'WEEK_OF_YEAR_5',\n",
    "                        'WEEK_OF_YEAR_6',\n",
    "                        'WEEK_OF_YEAR_7',\n",
    "                        'WEEK_OF_YEAR_8',\n",
    "                        'WEEK_OF_YEAR_9',\n",
    "                        'Julio',\n",
    "                        't',\n",
    "                        'Feriado_laboral',\n",
    "                        'Feriado_no_laboral',\n",
    "                        'FDS_Largo',\n",
    "                        'Disturbios',\n",
    "                        'Clima',\n",
    "                        'Partido',\n",
    "                        'Censo',\n",
    "                        'visperas_laborales']]"
   ]
  },
  {
   "cell_type": "code",
   "execution_count": 65,
   "metadata": {
    "collapsed": true
   },
   "outputs": [],
   "source": [
    "X = sm.add_constant(X)"
   ]
  },
  {
   "cell_type": "code",
   "execution_count": 66,
   "metadata": {
    "collapsed": true
   },
   "outputs": [],
   "source": [
    "model = sm.OLS(Y, X)"
   ]
  },
  {
   "cell_type": "code",
   "execution_count": 67,
   "metadata": {},
   "outputs": [
    {
     "name": "stdout",
     "output_type": "stream",
     "text": [
      "                            OLS Regression Results                            \n",
      "==============================================================================\n",
      "Dep. Variable:              TOTAL_trx   R-squared:                       0.956\n",
      "Model:                            OLS   Adj. R-squared:                  0.955\n",
      "Method:                 Least Squares   F-statistic:                     939.0\n",
      "Date:                Mon, 12 Mar 2018   Prob (F-statistic):               0.00\n",
      "Time:                        18:32:49   Log-Likelihood:                -14788.\n",
      "No. Observations:                1096   AIC:                         2.963e+04\n",
      "Df Residuals:                    1070   BIC:                         2.976e+04\n",
      "Df Model:                          25                                         \n",
      "Covariance Type:            nonrobust                                         \n",
      "======================================================================================\n",
      "                         coef    std err          t      P>|t|      [0.025      0.975]\n",
      "--------------------------------------------------------------------------------------\n",
      "const               3.043e+06    3.3e+04     92.111      0.000    2.98e+06    3.11e+06\n",
      "SATURDAY            -1.29e+06   1.69e+04    -76.581      0.000   -1.32e+06   -1.26e+06\n",
      "SUNDAY             -1.876e+06   1.82e+04   -103.215      0.000   -1.91e+06   -1.84e+06\n",
      "log(r_tm + 1)        7.16e+04   1.66e+04      4.319      0.000    3.91e+04    1.04e+05\n",
      "kms_ofertados          0.1099      0.018      6.235      0.000       0.075       0.145\n",
      "WEEK_OF_YEAR_52      -2.1e+05   4.05e+04     -5.179      0.000    -2.9e+05    -1.3e+05\n",
      "WEEK_OF_YEAR_53    -3.166e+05    6.9e+04     -4.591      0.000   -4.52e+05   -1.81e+05\n",
      "WEEK_OF_YEAR_1      -2.26e+05   4.27e+04     -5.290      0.000    -3.1e+05   -1.42e+05\n",
      "WEEK_OF_YEAR_2     -3.013e+05   3.95e+04     -7.628      0.000   -3.79e+05   -2.24e+05\n",
      "WEEK_OF_YEAR_3     -4.097e+05   3.95e+04    -10.361      0.000   -4.87e+05   -3.32e+05\n",
      "WEEK_OF_YEAR_4     -4.576e+05   3.95e+04    -11.573      0.000   -5.35e+05    -3.8e+05\n",
      "WEEK_OF_YEAR_5     -4.986e+05   3.97e+04    -12.555      0.000   -5.77e+05   -4.21e+05\n",
      "WEEK_OF_YEAR_6     -6.288e+05   3.96e+04    -15.873      0.000   -7.07e+05   -5.51e+05\n",
      "WEEK_OF_YEAR_7     -7.094e+05   3.95e+04    -17.945      0.000   -7.87e+05   -6.32e+05\n",
      "WEEK_OF_YEAR_8     -6.464e+05   3.96e+04    -16.336      0.000   -7.24e+05   -5.69e+05\n",
      "WEEK_OF_YEAR_9     -3.327e+05   3.95e+04     -8.414      0.000    -4.1e+05   -2.55e+05\n",
      "Julio              -1.808e+05   1.96e+04     -9.231      0.000   -2.19e+05   -1.42e+05\n",
      "t                   -417.1570     64.488     -6.469      0.000    -543.694    -290.620\n",
      "Feriado_laboral    -1.652e+06   3.91e+04    -42.246      0.000   -1.73e+06   -1.58e+06\n",
      "Feriado_no_laboral -2.388e+05   3.92e+04     -6.090      0.000   -3.16e+05   -1.62e+05\n",
      "FDS_Largo          -1.182e+05   2.63e+04     -4.490      0.000    -1.7e+05   -6.66e+04\n",
      "Disturbios         -2.564e+05   7.29e+04     -3.519      0.000   -3.99e+05   -1.13e+05\n",
      "Clima              -3.183e+05   4.36e+04     -7.297      0.000   -4.04e+05   -2.33e+05\n",
      "Partido            -1.968e+05   7.31e+04     -2.690      0.007    -3.4e+05   -5.33e+04\n",
      "Censo              -8.234e+05   1.82e+05     -4.535      0.000   -1.18e+06   -4.67e+05\n",
      "visperas_laborales -3.016e+05   6.15e+04     -4.906      0.000   -4.22e+05   -1.81e+05\n",
      "==============================================================================\n",
      "Omnibus:                      508.206   Durbin-Watson:                   1.465\n",
      "Prob(Omnibus):                  0.000   Jarque-Bera (JB):            10597.498\n",
      "Skew:                           1.631   Prob(JB):                         0.00\n",
      "Kurtosis:                      17.880   Cond. No.                     4.46e+07\n",
      "==============================================================================\n",
      "\n",
      "Warnings:\n",
      "[1] Standard Errors assume that the covariance matrix of the errors is correctly specified.\n",
      "[2] The condition number is large, 4.46e+07. This might indicate that there are\n",
      "strong multicollinearity or other numerical problems.\n"
     ]
    }
   ],
   "source": [
    "results = model.fit()\n",
    "print(results.summary())"
   ]
  },
  {
   "cell_type": "code",
   "execution_count": 68,
   "metadata": {
    "collapsed": true
   },
   "outputs": [],
   "source": [
    "ypred_m10 = results.predict(X)\n",
    "complete_db.loc[:,'ypred_m10'] = ypred_m10"
   ]
  },
  {
   "cell_type": "markdown",
   "metadata": {},
   "source": [
    "##### Plotting Interactive - Daily"
   ]
  },
  {
   "cell_type": "code",
   "execution_count": 69,
   "metadata": {
    "collapsed": true
   },
   "outputs": [],
   "source": [
    "days_values = complete_db.loc[:,'DATE']\n",
    "yact = complete_db.loc[:,'TOTAL_trx']"
   ]
  },
  {
   "cell_type": "code",
   "execution_count": 70,
   "metadata": {},
   "outputs": [
    {
     "data": {
      "text/plain": [
       "'file://C:\\\\Users\\\\leoca_000\\\\Desktop\\\\Evasion\\\\01_analisis\\\\04_scripts\\\\TSAnalysis\\\\Temporal_Descriptives\\\\act_vs_predict_day_m5.html'"
      ]
     },
     "execution_count": 70,
     "metadata": {},
     "output_type": "execute_result"
    }
   ],
   "source": [
    "trace1 = go.Scatter(x=days_values, y=yact, name='Actual', marker=dict(color='rgb(76, 181, 245)'),opacity=1)\n",
    "\n",
    "trace2 = go.Scatter(x=days_values,y=ypred_m5,name='Predict', marker=dict(color='rgb(183, 184, 182)'),opacity=1)\n",
    "\n",
    "data = [trace1, trace2]\n",
    "\n",
    "layout = go.Layout(title='Transacciones por día (actual vs. predict.), M5',  yaxis=dict(title='Transacciones'))\n",
    "\n",
    "fig = go.Figure(data=data, layout=layout)\n",
    "plotly.offline.plot(fig, filename='act_vs_predict_day_m5.html')"
   ]
  },
  {
   "cell_type": "code",
   "execution_count": 71,
   "metadata": {},
   "outputs": [
    {
     "data": {
      "text/plain": [
       "'file://C:\\\\Users\\\\leoca_000\\\\Desktop\\\\Evasion\\\\01_analisis\\\\04_scripts\\\\TSAnalysis\\\\Temporal_Descriptives\\\\act_vs_predict_day_m7.html'"
      ]
     },
     "execution_count": 71,
     "metadata": {},
     "output_type": "execute_result"
    }
   ],
   "source": [
    "trace1 = go.Scatter(x=days_values, y=yact, name='Actual', marker=dict(color='rgb(76, 181, 245)'),opacity=1)\n",
    "\n",
    "trace2 = go.Scatter(x=days_values,y=ypred_m7,name='Predict', marker=dict(color='rgb(183, 184, 182)'),opacity=1)\n",
    "\n",
    "data = [trace1, trace2]\n",
    "\n",
    "layout = go.Layout(title='Transacciones por día (actual vs. predict.), M7',  yaxis=dict(title='Transacciones'))\n",
    "\n",
    "fig = go.Figure(data=data, layout=layout)\n",
    "plotly.offline.plot(fig, filename='act_vs_predict_day_m7.html')"
   ]
  },
  {
   "cell_type": "code",
   "execution_count": 72,
   "metadata": {},
   "outputs": [
    {
     "data": {
      "text/plain": [
       "'file://C:\\\\Users\\\\leoca_000\\\\Desktop\\\\Evasion\\\\01_analisis\\\\04_scripts\\\\TSAnalysis\\\\Temporal_Descriptives\\\\act_vs_predict_day_m9.html'"
      ]
     },
     "execution_count": 72,
     "metadata": {},
     "output_type": "execute_result"
    }
   ],
   "source": [
    "trace1 = go.Scatter(x=days_values, y=yact, name='Actual', marker=dict(color='rgb(76, 181, 245)'),opacity=1)\n",
    "\n",
    "trace2 = go.Scatter(x=days_values,y=ypred_m9,name='Predict', marker=dict(color='rgb(183, 184, 182)'),opacity=1)\n",
    "\n",
    "data = [trace1, trace2]\n",
    "\n",
    "layout = go.Layout(title='Transacciones por día (actual vs. predict.), M9',  yaxis=dict(title='Transacciones'))\n",
    "\n",
    "fig = go.Figure(data=data, layout=layout)\n",
    "plotly.offline.plot(fig, filename='act_vs_predict_day_m9.html')"
   ]
  },
  {
   "cell_type": "code",
   "execution_count": 73,
   "metadata": {},
   "outputs": [
    {
     "data": {
      "text/plain": [
       "'file://C:\\\\Users\\\\leoca_000\\\\Desktop\\\\Evasion\\\\01_analisis\\\\04_scripts\\\\TSAnalysis\\\\Temporal_Descriptives\\\\act_vs_predict_day_m10.html'"
      ]
     },
     "execution_count": 73,
     "metadata": {},
     "output_type": "execute_result"
    }
   ],
   "source": [
    "trace1 = go.Scatter(x=days_values, y=yact, name='Actual', marker=dict(color='rgb(76, 181, 245)'),opacity=1)\n",
    "\n",
    "trace2 = go.Scatter(x=days_values,y=ypred_m10,name='Predict', marker=dict(color='rgb(183, 184, 182)'),opacity=1)\n",
    "\n",
    "data = [trace1, trace2]\n",
    "\n",
    "layout = go.Layout(title='Transacciones por día (actual vs. predict.), M10',  yaxis=dict(title='Transacciones'))\n",
    "\n",
    "fig = go.Figure(data=data, layout=layout)\n",
    "plotly.offline.plot(fig, filename='act_vs_predict_day_m10.html')"
   ]
  },
  {
   "cell_type": "markdown",
   "metadata": {},
   "source": [
    "##### Plotting Interactive - Monthly"
   ]
  },
  {
   "cell_type": "code",
   "execution_count": 74,
   "metadata": {
    "collapsed": true
   },
   "outputs": [],
   "source": [
    "grouped_by_month = complete_db.groupby(pd.Grouper(key='DATE', freq='M'))\n",
    "months_values = list(grouped_by_month.groups.keys())\n",
    "yact = grouped_by_month['TOTAL_trx'].sum()\n",
    "\n",
    "ypred_m5 = grouped_by_month['ypred_m5'].sum()\n",
    "ypred_m7 = grouped_by_month['ypred_m7'].sum()\n",
    "ypred_m9 = grouped_by_month['ypred_m9'].sum()\n",
    "ypred_m10 = grouped_by_month['ypred_m10'].sum()"
   ]
  },
  {
   "cell_type": "code",
   "execution_count": 75,
   "metadata": {},
   "outputs": [
    {
     "data": {
      "text/plain": [
       "'file://C:\\\\Users\\\\leoca_000\\\\Desktop\\\\Evasion\\\\01_analisis\\\\04_scripts\\\\TSAnalysis\\\\Temporal_Descriptives\\\\act_vs_predict_month_m5.html'"
      ]
     },
     "execution_count": 75,
     "metadata": {},
     "output_type": "execute_result"
    }
   ],
   "source": [
    "trace1 = go.Scatter(x=months_values, y=yact, name='Actual', marker=dict(color='rgb(76, 181, 245)'),opacity=1)\n",
    "\n",
    "trace2 = go.Scatter(x=months_values,y=ypred_m5,name='Predict', marker=dict(color='rgb(183, 184, 182)'),opacity=1)\n",
    "\n",
    "data = [trace1, trace2]\n",
    "\n",
    "layout = go.Layout(title='Transacciones por mes (actual vs. predict.), M5',  yaxis=dict(title='Transacciones'))\n",
    "\n",
    "fig = go.Figure(data=data, layout=layout)\n",
    "plotly.offline.plot(fig, filename='act_vs_predict_month_m5.html')"
   ]
  },
  {
   "cell_type": "code",
   "execution_count": 76,
   "metadata": {},
   "outputs": [
    {
     "data": {
      "text/plain": [
       "'file://C:\\\\Users\\\\leoca_000\\\\Desktop\\\\Evasion\\\\01_analisis\\\\04_scripts\\\\TSAnalysis\\\\Temporal_Descriptives\\\\act_vs_predict_month_m7.html'"
      ]
     },
     "execution_count": 76,
     "metadata": {},
     "output_type": "execute_result"
    }
   ],
   "source": [
    "trace1 = go.Scatter(x=months_values, y=yact, name='Actual', marker=dict(color='rgb(76, 181, 245)'),opacity=1)\n",
    "\n",
    "trace2 = go.Scatter(x=months_values,y=ypred_m7,name='Predict', marker=dict(color='rgb(183, 184, 182)'),opacity=1)\n",
    "\n",
    "data = [trace1, trace2]\n",
    "\n",
    "layout = go.Layout(title='Transacciones por mes (actual vs. predict.), M7',  yaxis=dict(title='Transacciones'))\n",
    "\n",
    "fig = go.Figure(data=data, layout=layout)\n",
    "plotly.offline.plot(fig, filename='act_vs_predict_month_m7.html')"
   ]
  },
  {
   "cell_type": "code",
   "execution_count": 77,
   "metadata": {},
   "outputs": [
    {
     "data": {
      "text/plain": [
       "'file://C:\\\\Users\\\\leoca_000\\\\Desktop\\\\Evasion\\\\01_analisis\\\\04_scripts\\\\TSAnalysis\\\\Temporal_Descriptives\\\\act_vs_predict_month_m9.html'"
      ]
     },
     "execution_count": 77,
     "metadata": {},
     "output_type": "execute_result"
    }
   ],
   "source": [
    "trace1 = go.Scatter(x=months_values, y=yact, name='Actual', marker=dict(color='rgb(76, 181, 245)'),opacity=1)\n",
    "\n",
    "trace2 = go.Scatter(x=months_values,y=ypred_m9,name='Predict', marker=dict(color='rgb(183, 184, 182)'),opacity=1)\n",
    "\n",
    "data = [trace1, trace2]\n",
    "\n",
    "layout = go.Layout(title='Transacciones por mes (actual vs. predict.), M9',  yaxis=dict(title='Transacciones'))\n",
    "\n",
    "fig = go.Figure(data=data, layout=layout)\n",
    "plotly.offline.plot(fig, filename='act_vs_predict_month_m9.html')"
   ]
  },
  {
   "cell_type": "code",
   "execution_count": 78,
   "metadata": {},
   "outputs": [
    {
     "data": {
      "text/plain": [
       "'file://C:\\\\Users\\\\leoca_000\\\\Desktop\\\\Evasion\\\\01_analisis\\\\04_scripts\\\\TSAnalysis\\\\Temporal_Descriptives\\\\act_vs_predict_month_m10.html'"
      ]
     },
     "execution_count": 78,
     "metadata": {},
     "output_type": "execute_result"
    }
   ],
   "source": [
    "trace1 = go.Scatter(x=months_values, y=yact, name='Actual', marker=dict(color='rgb(76, 181, 245)'),opacity=1)\n",
    "\n",
    "trace2 = go.Scatter(x=months_values,y=ypred_m10,name='Predict', marker=dict(color='rgb(183, 184, 182)'),opacity=1)\n",
    "\n",
    "data = [trace1, trace2]\n",
    "\n",
    "layout = go.Layout(title='Transacciones por mes (actual vs. predict.), M10',  yaxis=dict(title='Transacciones'))\n",
    "\n",
    "fig = go.Figure(data=data, layout=layout)\n",
    "plotly.offline.plot(fig, filename='act_vs_predict_month_m10.html')"
   ]
  },
  {
   "cell_type": "markdown",
   "metadata": {},
   "source": [
    "##### Plotting Static - Monthly"
   ]
  },
  {
   "cell_type": "code",
   "execution_count": 79,
   "metadata": {
    "collapsed": true
   },
   "outputs": [],
   "source": [
    "colors = [(76, 181, 245),(183, 184, 182),(52, 103, 92),(179, 193, 0)]\n",
    "for i in range(len(colors)):\n",
    "    r, g, b = colors[i]  \n",
    "    colors[i] = (r / 255., g / 255., b / 255.)"
   ]
  },
  {
   "cell_type": "code",
   "execution_count": 80,
   "metadata": {
    "collapsed": true
   },
   "outputs": [],
   "source": [
    "def millions(x, pos):\n",
    "    'The two args are the value and tick position'\n",
    "    return '%1.1fM' % (x*1e-6)"
   ]
  },
  {
   "cell_type": "code",
   "execution_count": 81,
   "metadata": {
    "scrolled": true
   },
   "outputs": [
    {
     "data": {
      "image/png": "[encoded data removed]",
      "text/plain": [
       "<matplotlib.figure.Figure at 0x1e4e6016128>"
      ]
     },
     "metadata": {},
     "output_type": "display_data"
    }
   ],
   "source": [
    "formatter = FuncFormatter(millions)\n",
    "fig, ax = plt.subplots()\n",
    "ax.plot(months_values, yact,'ro-' ,color = colors[0], label = 'Actual')\n",
    "ax.plot(months_values,ypred_m5,'d-', color = colors[1], label = 'Predict')\n",
    "formatter = FuncFormatter(millions)\n",
    "ax.yaxis.set_major_formatter(formatter)\n",
    "ax.set_title('Transacciones - Actual vs. Predict., M5')\n",
    "ax.set_ylabel('Transacciones')\n",
    "ax.set_xlabel('Mes del año')\n",
    "fig.autofmt_xdate()\n",
    "ax.legend(loc=3)\n",
    "\n",
    "plt.savefig('C:/Users/leoca_000/Desktop/Evasion/03_report/02_Figs/act_vs_predict_month_m5.pdf')"
   ]
  },
  {
   "cell_type": "code",
   "execution_count": 82,
   "metadata": {},
   "outputs": [
    {
     "data": {
      "image/png": "[encoded data removed]",
      "text/plain": [
       "<matplotlib.figure.Figure at 0x1e4e60660f0>"
      ]
     },
     "metadata": {},
     "output_type": "display_data"
    }
   ],
   "source": [
    "formatter = FuncFormatter(millions)\n",
    "fig, ax = plt.subplots()\n",
    "ax.plot(months_values, yact,'ro-' ,color = colors[0], label = 'Actual')\n",
    "ax.plot(months_values,ypred_m7,'d-', color = colors[1], label = 'Predict')\n",
    "formatter = FuncFormatter(millions)\n",
    "ax.yaxis.set_major_formatter(formatter)\n",
    "ax.set_title('Transacciones - Actual vs. Predict., M7')\n",
    "ax.set_ylabel('Transacciones')\n",
    "ax.set_xlabel('Mes del año')\n",
    "fig.autofmt_xdate()\n",
    "ax.legend(loc=3)\n",
    "\n",
    "plt.savefig('C:/Users/leoca_000/Desktop/Evasion/03_report/02_Figs/act_vs_predict_month_m7.pdf')"
   ]
  },
  {
   "cell_type": "code",
   "execution_count": 83,
   "metadata": {},
   "outputs": [
    {
     "data": {
      "image/png": "[encoded data removed]",
      "text/plain": [
       "<matplotlib.figure.Figure at 0x1e4e603f748>"
      ]
     },
     "metadata": {},
     "output_type": "display_data"
    }
   ],
   "source": [
    "formatter = FuncFormatter(millions)\n",
    "fig, ax = plt.subplots()\n",
    "ax.plot(months_values, yact,'ro-' ,color = colors[0], label = 'Actual')\n",
    "ax.plot(months_values,ypred_m9,'d-', color = colors[1], label = 'Predict')\n",
    "formatter = FuncFormatter(millions)\n",
    "ax.yaxis.set_major_formatter(formatter)\n",
    "ax.set_title('Transacciones - Actual vs. Predict., M9')\n",
    "ax.set_ylabel('Transacciones')\n",
    "ax.set_xlabel('Mes del año')\n",
    "fig.autofmt_xdate()\n",
    "ax.legend(loc=3)\n",
    "\n",
    "plt.savefig('C:/Users/leoca_000/Desktop/Evasion/03_report/02_Figs/act_vs_predict_month_m9.pdf')"
   ]
  },
  {
   "cell_type": "code",
   "execution_count": 84,
   "metadata": {},
   "outputs": [
    {
     "data": {
      "image/png": "[encoded data removed]",
      "text/plain": [
       "<matplotlib.figure.Figure at 0x1e4e71c8668>"
      ]
     },
     "metadata": {},
     "output_type": "display_data"
    }
   ],
   "source": [
    "formatter = FuncFormatter(millions)\n",
    "fig, ax = plt.subplots()\n",
    "ax.plot(months_values, yact,'ro-' ,color = colors[0], label = 'Actual')\n",
    "ax.plot(months_values,ypred_m10,'d-', color = colors[1], label = 'Predict')\n",
    "formatter = FuncFormatter(millions)\n",
    "ax.yaxis.set_major_formatter(formatter)\n",
    "ax.set_title('Transacciones - Actual vs. Predict., M10')\n",
    "ax.set_ylabel('Transacciones')\n",
    "ax.set_xlabel('Mes del año')\n",
    "fig.autofmt_xdate()\n",
    "ax.legend(loc=3)\n",
    "\n",
    "plt.savefig('C:/Users/leoca_000/Desktop/Evasion/03_report/02_Figs/act_vs_predict_month_m10.pdf')"
   ]
  }
 ],
 "metadata": {
  "kernelspec": {
   "display_name": "Python 3",
   "language": "python",
   "name": "python3"
  },
  "language_info": {
   "codemirror_mode": {
    "name": "ipython",
    "version": 3
   },
   "file_extension": ".py",
   "mimetype": "text/x-python",
   "name": "python",
   "nbconvert_exporter": "python",
   "pygments_lexer": "ipython3",
   "version": "3.6.1"
  }
 },
 "nbformat": 4,
 "nbformat_minor": 2
}
