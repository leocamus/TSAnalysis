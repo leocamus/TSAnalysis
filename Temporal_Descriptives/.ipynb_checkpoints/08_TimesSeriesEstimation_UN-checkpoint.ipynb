{
 "cells": [
  {
   "cell_type": "markdown",
   "metadata": {},
   "source": [
    "## Time series estimation - Daily at UN level"
   ]
  },
  {
   "cell_type": "markdown",
   "metadata": {},
   "source": [
    "% TODO: Check if R-squared are correctly computed"
   ]
  },
  {
   "cell_type": "code",
   "execution_count": 1,
   "metadata": {
    "collapsed": true
   },
   "outputs": [],
   "source": [
    "import os\n",
    "import sys\n",
    "module_path = os.path.abspath(os.path.join('..'))\n",
    "if module_path not in sys.path:\n",
    "    sys.path.append(module_path)"
   ]
  },
  {
   "cell_type": "code",
   "execution_count": 2,
   "metadata": {},
   "outputs": [
    {
     "data": {
      "text/html": [
       "<style>.container { width:80% !important; }</style>"
      ],
      "text/plain": [
       "<IPython.core.display.HTML object>"
      ]
     },
     "metadata": {},
     "output_type": "display_data"
    }
   ],
   "source": [
    "%matplotlib inline\n",
    "from IPython.core.display import display, HTML\n",
    "display(HTML(\"<style>.container { width:80% !important; }</style>\"))\n",
    "\n",
    "import pandas as pd\n",
    "import matplotlib\n",
    "import matplotlib.pyplot as plt\n",
    "import matplotlib.dates as mdates\n",
    "import numpy as np\n",
    "import datetime as dt\n",
    "import time"
   ]
  },
  {
   "cell_type": "code",
   "execution_count": 3,
   "metadata": {},
   "outputs": [
    {
     "name": "stderr",
     "output_type": "stream",
     "text": [
      "C:\\Users\\leoca_000\\Anaconda3\\lib\\site-packages\\statsmodels\\compat\\pandas.py:56: FutureWarning: The pandas.core.datetools module is deprecated and will be removed in a future version. Please use the pandas.tseries module instead.\n",
      "  from pandas.core import datetools\n"
     ]
    }
   ],
   "source": [
    "import statsmodels.api as sm"
   ]
  },
  {
   "cell_type": "code",
   "execution_count": 4,
   "metadata": {
    "collapsed": true
   },
   "outputs": [],
   "source": [
    "from Utils import TransantiagoConstants"
   ]
  },
  {
   "cell_type": "code",
   "execution_count": 5,
   "metadata": {
    "collapsed": true
   },
   "outputs": [],
   "source": [
    "DTPMDir = TransantiagoConstants.DTPMDir\n",
    "DTPM_TRXDir = TransantiagoConstants.DTPM_TRXDir"
   ]
  },
  {
   "cell_type": "code",
   "execution_count": 6,
   "metadata": {
    "collapsed": true
   },
   "outputs": [],
   "source": [
    "independent_variables_path = os.path.join(DTPM_TRXDir,'0_INDEPENDENTS/independents_variables.csv')\n",
    "independent_variables = pd.read_csv(independent_variables_path,sep=';',encoding='latin-1', index_col=0)"
   ]
  },
  {
   "cell_type": "code",
   "execution_count": 7,
   "metadata": {
    "collapsed": true
   },
   "outputs": [],
   "source": [
    "independent_variables.loc[:,'Verano'] =  independent_variables.loc[:,'Enero'] + independent_variables.loc[:,'Febrero']"
   ]
  },
  {
   "cell_type": "code",
   "execution_count": 8,
   "metadata": {
    "collapsed": true
   },
   "outputs": [],
   "source": [
    "independent_variables.loc[:,'Nov_Dic_2017'] = independent_variables.loc[:,'Nov_2017'] + independent_variables.loc[:,'Dic_2017']"
   ]
  },
  {
   "cell_type": "code",
   "execution_count": 9,
   "metadata": {
    "collapsed": true
   },
   "outputs": [],
   "source": [
    "independent_variables.sort_values(by=['YEAR','MONTH','YEAR_DAY'],inplace=True)"
   ]
  },
  {
   "cell_type": "markdown",
   "metadata": {},
   "source": [
    "### DAILY AT UN LEVEL. CREATING NEW INDEPENDENT VARIABLES"
   ]
  },
  {
   "cell_type": "markdown",
   "metadata": {},
   "source": [
    "#### ESTIMATION. 3RD MODEL APPLIED TO UN1"
   ]
  },
  {
   "cell_type": "code",
   "execution_count": 10,
   "metadata": {
    "collapsed": true
   },
   "outputs": [],
   "source": [
    "UN = 'U1'\n",
    "daily_input_path = os.path.join(DTPM_TRXDir,'4_DAILY_UN/' + UN + '/' + UN + '_summary.csv')\n",
    "daily_trx = pd.read_csv(daily_input_path,sep=';',encoding='latin-1', index_col=0)"
   ]
  },
  {
   "cell_type": "code",
   "execution_count": 11,
   "metadata": {
    "collapsed": true
   },
   "outputs": [],
   "source": [
    "daily_trx.sort_values(by=['YEAR','MONTH','YEAR_DAY'],inplace=True)"
   ]
  },
  {
   "cell_type": "code",
   "execution_count": 12,
   "metadata": {
    "collapsed": true
   },
   "outputs": [],
   "source": [
    "independent_variables = independent_variables.merge(daily_trx.loc[:,['YEAR','MONTH','YEAR_DAY','ratio_tm']], on=['YEAR','MONTH','YEAR_DAY'], how='left')"
   ]
  },
  {
   "cell_type": "code",
   "execution_count": 13,
   "metadata": {
    "collapsed": true
   },
   "outputs": [],
   "source": [
    "total_trx = daily_trx.loc[:,'pn_SUM_TRX_no_t'] + daily_trx.loc[:,'pn_SUM_TRX_3t'] + daily_trx.loc[:,'pn_SUM_TRX_tm'] + daily_trx.loc[:,'zp_SUM_TRX']"
   ]
  },
  {
   "cell_type": "code",
   "execution_count": 14,
   "metadata": {
    "collapsed": true
   },
   "outputs": [],
   "source": [
    "Y = total_trx\n",
    "X = independent_variables.loc[:,['SATURDAY','SUNDAY','ratio_tm','kms_ofertados','Verano','Julio','t','Feriado_laboral','Feriado_no_laboral',\n",
    "                                 'Partido','FDS_Largo','Disturbios','Clima','visperas_laborales']]"
   ]
  },
  {
   "cell_type": "code",
   "execution_count": 15,
   "metadata": {
    "collapsed": true
   },
   "outputs": [],
   "source": [
    "X = sm.add_constant(X)"
   ]
  },
  {
   "cell_type": "code",
   "execution_count": 16,
   "metadata": {
    "collapsed": true
   },
   "outputs": [],
   "source": [
    "model = sm.OLS(Y, X)"
   ]
  },
  {
   "cell_type": "code",
   "execution_count": 17,
   "metadata": {},
   "outputs": [
    {
     "name": "stdout",
     "output_type": "stream",
     "text": [
      "                            OLS Regression Results                            \n",
      "==============================================================================\n",
      "Dep. Variable:                      y   R-squared:                       0.952\n",
      "Model:                            OLS   Adj. R-squared:                  0.951\n",
      "Method:                 Least Squares   F-statistic:                     1524.\n",
      "Date:                Tue, 06 Mar 2018   Prob (F-statistic):               0.00\n",
      "Time:                        10:52:27   Log-Likelihood:                -12473.\n",
      "No. Observations:                1096   AIC:                         2.498e+04\n",
      "Df Residuals:                    1081   BIC:                         2.505e+04\n",
      "Df Model:                          14                                         \n",
      "Covariance Type:            nonrobust                                         \n",
      "======================================================================================\n",
      "                         coef    std err          t      P>|t|      [0.025      0.975]\n",
      "--------------------------------------------------------------------------------------\n",
      "const               3.552e+05   3720.742     95.452      0.000    3.48e+05    3.62e+05\n",
      "SATURDAY           -1.513e+05   2022.576    -74.800      0.000   -1.55e+05   -1.47e+05\n",
      "SUNDAY             -2.153e+05   2174.871    -98.986      0.000    -2.2e+05   -2.11e+05\n",
      "ratio_tm            2106.0901    145.424     14.482      0.000    1820.745    2391.435\n",
      "kms_ofertados          0.0135      0.002      6.400      0.000       0.009       0.018\n",
      "Verano             -5.024e+04   1861.540    -26.989      0.000   -5.39e+04   -4.66e+04\n",
      "Julio              -1.966e+04   2357.958     -8.337      0.000   -2.43e+04    -1.5e+04\n",
      "t                    -56.2434      2.929    -19.200      0.000     -61.991     -50.496\n",
      "Feriado_laboral    -1.875e+05   4588.431    -40.859      0.000   -1.96e+05   -1.78e+05\n",
      "Feriado_no_laboral -1.664e+04   4712.830     -3.530      0.000   -2.59e+04   -7389.239\n",
      "Partido            -1.983e+04   8784.897     -2.257      0.024   -3.71e+04   -2593.433\n",
      "FDS_Largo          -1.112e+04   3103.273     -3.583      0.000   -1.72e+04   -5029.999\n",
      "Disturbios         -3.152e+04   8763.026     -3.597      0.000   -4.87e+04   -1.43e+04\n",
      "Clima              -3.888e+04   5238.184     -7.423      0.000   -4.92e+04   -2.86e+04\n",
      "visperas_laborales -5.372e+04   7178.215     -7.484      0.000   -6.78e+04   -3.96e+04\n",
      "==============================================================================\n",
      "Omnibus:                      341.020   Durbin-Watson:                   1.326\n",
      "Prob(Omnibus):                  0.000   Jarque-Bera (JB):             5611.633\n",
      "Skew:                           0.980   Prob(JB):                         0.00\n",
      "Kurtosis:                      13.911   Cond. No.                     1.80e+07\n",
      "==============================================================================\n",
      "\n",
      "Warnings:\n",
      "[1] Standard Errors assume that the covariance matrix of the errors is correctly specified.\n",
      "[2] The condition number is large, 1.8e+07. This might indicate that there are\n",
      "strong multicollinearity or other numerical problems.\n"
     ]
    }
   ],
   "source": [
    "results = model.fit()\n",
    "print(results.summary())"
   ]
  },
  {
   "cell_type": "markdown",
   "metadata": {},
   "source": [
    "#### ESTIMATION. 3RD MODEL APPLIED TO UN2"
   ]
  },
  {
   "cell_type": "code",
   "execution_count": 18,
   "metadata": {
    "collapsed": true
   },
   "outputs": [],
   "source": [
    "UN = 'U2'\n",
    "daily_input_path = os.path.join(DTPM_TRXDir,'4_DAILY_UN/' + UN + '/' + UN + '_summary.csv')\n",
    "daily_trx = pd.read_csv(daily_input_path,sep=';',encoding='latin-1', index_col=0)"
   ]
  },
  {
   "cell_type": "code",
   "execution_count": 19,
   "metadata": {
    "collapsed": true
   },
   "outputs": [],
   "source": [
    "daily_trx.sort_values(by=['YEAR','MONTH','YEAR_DAY'],inplace=True)"
   ]
  },
  {
   "cell_type": "code",
   "execution_count": 20,
   "metadata": {
    "collapsed": true
   },
   "outputs": [],
   "source": [
    "independent_variables.drop(labels = ['ratio_tm'], inplace=True, axis=1)"
   ]
  },
  {
   "cell_type": "code",
   "execution_count": 21,
   "metadata": {
    "collapsed": true
   },
   "outputs": [],
   "source": [
    "independent_variables = independent_variables.merge(daily_trx.loc[:,['YEAR','MONTH','YEAR_DAY','ratio_tm']], on=['YEAR','MONTH','YEAR_DAY'], how='left')"
   ]
  },
  {
   "cell_type": "code",
   "execution_count": 22,
   "metadata": {
    "collapsed": true
   },
   "outputs": [],
   "source": [
    "total_trx = daily_trx.loc[:,'pn_SUM_TRX_no_t'] + daily_trx.loc[:,'pn_SUM_TRX_3t'] + daily_trx.loc[:,'pn_SUM_TRX_tm'] + daily_trx.loc[:,'zp_SUM_TRX']"
   ]
  },
  {
   "cell_type": "code",
   "execution_count": 23,
   "metadata": {
    "collapsed": true
   },
   "outputs": [],
   "source": [
    "Y = total_trx\n",
    "X = independent_variables.loc[:,['SATURDAY','SUNDAY','ratio_tm','kms_ofertados','Verano','Julio','t','Feriado_laboral','Feriado_no_laboral',\n",
    "                                 'Partido','FDS_Largo','Disturbios','Clima','visperas_laborales']]"
   ]
  },
  {
   "cell_type": "code",
   "execution_count": 24,
   "metadata": {
    "collapsed": true
   },
   "outputs": [],
   "source": [
    "X = sm.add_constant(X)"
   ]
  },
  {
   "cell_type": "code",
   "execution_count": 25,
   "metadata": {
    "collapsed": true
   },
   "outputs": [],
   "source": [
    "model = sm.OLS(Y, X)"
   ]
  },
  {
   "cell_type": "code",
   "execution_count": 26,
   "metadata": {},
   "outputs": [
    {
     "name": "stdout",
     "output_type": "stream",
     "text": [
      "                            OLS Regression Results                            \n",
      "==============================================================================\n",
      "Dep. Variable:                      y   R-squared:                       0.945\n",
      "Model:                            OLS   Adj. R-squared:                  0.944\n",
      "Method:                 Least Squares   F-statistic:                     1325.\n",
      "Date:                Tue, 06 Mar 2018   Prob (F-statistic):               0.00\n",
      "Time:                        10:52:40   Log-Likelihood:                -13001.\n",
      "No. Observations:                1096   AIC:                         2.603e+04\n",
      "Df Residuals:                    1081   BIC:                         2.611e+04\n",
      "Df Model:                          14                                         \n",
      "Covariance Type:            nonrobust                                         \n",
      "======================================================================================\n",
      "                         coef    std err          t      P>|t|      [0.025      0.975]\n",
      "--------------------------------------------------------------------------------------\n",
      "const                5.49e+05   5988.124     91.689      0.000    5.37e+05    5.61e+05\n",
      "SATURDAY           -2.218e+05   3276.598    -67.702      0.000   -2.28e+05   -2.15e+05\n",
      "SUNDAY             -3.247e+05   3525.926    -92.090      0.000   -3.32e+05   -3.18e+05\n",
      "ratio_tm            1122.4886    335.551      3.345      0.001     464.083    1780.894\n",
      "kms_ofertados          0.0196      0.003      5.747      0.000       0.013       0.026\n",
      "Verano             -8.374e+04   3020.833    -27.720      0.000   -8.97e+04   -7.78e+04\n",
      "Julio              -3.139e+04   3797.370     -8.267      0.000   -3.88e+04   -2.39e+04\n",
      "t                    -81.0742      5.854    -13.849      0.000     -92.561     -69.587\n",
      "Feriado_laboral    -2.865e+05   7431.156    -38.559      0.000   -3.01e+05   -2.72e+05\n",
      "Feriado_no_laboral -3.929e+04   7624.306     -5.154      0.000   -5.43e+04   -2.43e+04\n",
      "Partido             -1.66e+04   1.42e+04     -1.166      0.244   -4.45e+04    1.13e+04\n",
      "FDS_Largo          -1.617e+04   5026.014     -3.218      0.001    -2.6e+04   -6310.837\n",
      "Disturbios         -5.036e+04   1.42e+04     -3.549      0.000   -7.82e+04   -2.25e+04\n",
      "Clima              -6.041e+04   8485.856     -7.119      0.000   -7.71e+04   -4.38e+04\n",
      "visperas_laborales -7.369e+04   1.16e+04     -6.339      0.000   -9.65e+04   -5.09e+04\n",
      "==============================================================================\n",
      "Omnibus:                      284.466   Durbin-Watson:                   1.400\n",
      "Prob(Omnibus):                  0.000   Jarque-Bera (JB):             4487.016\n",
      "Skew:                           0.750   Prob(JB):                         0.00\n",
      "Kurtosis:                      12.798   Cond. No.                     1.80e+07\n",
      "==============================================================================\n",
      "\n",
      "Warnings:\n",
      "[1] Standard Errors assume that the covariance matrix of the errors is correctly specified.\n",
      "[2] The condition number is large, 1.8e+07. This might indicate that there are\n",
      "strong multicollinearity or other numerical problems.\n"
     ]
    }
   ],
   "source": [
    "results = model.fit()\n",
    "print(results.summary())"
   ]
  },
  {
   "cell_type": "markdown",
   "metadata": {},
   "source": [
    "#### ESTIMATION. 3RD MODEL APPLIED TO UN2 WITH ONLY STATISTICALLY SIGNIFICANT VARIABLES"
   ]
  },
  {
   "cell_type": "code",
   "execution_count": 27,
   "metadata": {
    "collapsed": true
   },
   "outputs": [],
   "source": [
    "Y = total_trx\n",
    "X = independent_variables.loc[:,['SATURDAY','SUNDAY','ratio_tm','kms_ofertados','Verano','Julio','t','Feriado_laboral','Feriado_no_laboral',\n",
    "                                 'FDS_Largo','Disturbios','Clima','visperas_laborales']]"
   ]
  },
  {
   "cell_type": "code",
   "execution_count": 28,
   "metadata": {
    "collapsed": true
   },
   "outputs": [],
   "source": [
    "X = sm.add_constant(X)"
   ]
  },
  {
   "cell_type": "code",
   "execution_count": 29,
   "metadata": {
    "collapsed": true
   },
   "outputs": [],
   "source": [
    "model = sm.OLS(Y, X)"
   ]
  },
  {
   "cell_type": "code",
   "execution_count": 30,
   "metadata": {},
   "outputs": [
    {
     "name": "stdout",
     "output_type": "stream",
     "text": [
      "                            OLS Regression Results                            \n",
      "==============================================================================\n",
      "Dep. Variable:                      y   R-squared:                       0.945\n",
      "Model:                            OLS   Adj. R-squared:                  0.944\n",
      "Method:                 Least Squares   F-statistic:                     1426.\n",
      "Date:                Tue, 06 Mar 2018   Prob (F-statistic):               0.00\n",
      "Time:                        10:57:12   Log-Likelihood:                -13002.\n",
      "No. Observations:                1096   AIC:                         2.603e+04\n",
      "Df Residuals:                    1082   BIC:                         2.610e+04\n",
      "Df Model:                          13                                         \n",
      "Covariance Type:            nonrobust                                         \n",
      "======================================================================================\n",
      "                         coef    std err          t      P>|t|      [0.025      0.975]\n",
      "--------------------------------------------------------------------------------------\n",
      "const               5.486e+05   5975.099     91.809      0.000    5.37e+05     5.6e+05\n",
      "SATURDAY           -2.218e+05   3276.968    -67.682      0.000   -2.28e+05   -2.15e+05\n",
      "SUNDAY             -3.247e+05   3526.283    -92.067      0.000   -3.32e+05   -3.18e+05\n",
      "ratio_tm            1108.4812    335.392      3.305      0.001     450.389    1766.574\n",
      "kms_ofertados          0.0197      0.003      5.776      0.000       0.013       0.026\n",
      "Verano             -8.357e+04   3018.070    -27.691      0.000   -8.95e+04   -7.77e+04\n",
      "Julio              -3.147e+04   3797.399     -8.288      0.000   -3.89e+04    -2.4e+04\n",
      "t                    -80.5263      5.836    -13.797      0.000     -91.978     -69.074\n",
      "Feriado_laboral    -2.862e+05   7427.332    -38.536      0.000   -3.01e+05   -2.72e+05\n",
      "Feriado_no_laboral  -3.91e+04   7623.831     -5.129      0.000   -5.41e+04   -2.41e+04\n",
      "FDS_Largo          -1.638e+04   5023.746     -3.260      0.001   -2.62e+04   -6521.346\n",
      "Disturbios         -5.024e+04   1.42e+04     -3.540      0.000   -7.81e+04   -2.24e+04\n",
      "Clima              -6.032e+04   8486.908     -7.108      0.000    -7.7e+04   -4.37e+04\n",
      "visperas_laborales -7.361e+04   1.16e+04     -6.331      0.000   -9.64e+04   -5.08e+04\n",
      "==============================================================================\n",
      "Omnibus:                      284.378   Durbin-Watson:                   1.399\n",
      "Prob(Omnibus):                  0.000   Jarque-Bera (JB):             4462.748\n",
      "Skew:                           0.752   Prob(JB):                         0.00\n",
      "Kurtosis:                      12.771   Cond. No.                     1.79e+07\n",
      "==============================================================================\n",
      "\n",
      "Warnings:\n",
      "[1] Standard Errors assume that the covariance matrix of the errors is correctly specified.\n",
      "[2] The condition number is large, 1.79e+07. This might indicate that there are\n",
      "strong multicollinearity or other numerical problems.\n"
     ]
    }
   ],
   "source": [
    "results = model.fit()\n",
    "print(results.summary())"
   ]
  },
  {
   "cell_type": "markdown",
   "metadata": {},
   "source": [
    "#### ESTIMATION. 3RD MODEL APPLIED TO UN3"
   ]
  },
  {
   "cell_type": "code",
   "execution_count": 31,
   "metadata": {
    "collapsed": true
   },
   "outputs": [],
   "source": [
    "UN = 'U3'\n",
    "daily_input_path = os.path.join(DTPM_TRXDir,'4_DAILY_UN/' + UN + '/' + UN + '_summary.csv')\n",
    "daily_trx = pd.read_csv(daily_input_path,sep=';',encoding='latin-1', index_col=0)"
   ]
  },
  {
   "cell_type": "code",
   "execution_count": 32,
   "metadata": {
    "collapsed": true
   },
   "outputs": [],
   "source": [
    "daily_trx.sort_values(by=['YEAR','MONTH','YEAR_DAY'],inplace=True)"
   ]
  },
  {
   "cell_type": "code",
   "execution_count": 33,
   "metadata": {
    "collapsed": true
   },
   "outputs": [],
   "source": [
    "independent_variables.drop(labels = ['ratio_tm'], inplace=True, axis=1)"
   ]
  },
  {
   "cell_type": "code",
   "execution_count": 34,
   "metadata": {
    "collapsed": true
   },
   "outputs": [],
   "source": [
    "independent_variables = independent_variables.merge(daily_trx.loc[:,['YEAR','MONTH','YEAR_DAY','ratio_tm']], on=['YEAR','MONTH','YEAR_DAY'], how='left')"
   ]
  },
  {
   "cell_type": "code",
   "execution_count": 35,
   "metadata": {
    "collapsed": true
   },
   "outputs": [],
   "source": [
    "total_trx = daily_trx.loc[:,'pn_SUM_TRX_no_t'] + daily_trx.loc[:,'pn_SUM_TRX_3t'] + daily_trx.loc[:,'pn_SUM_TRX_tm'] + daily_trx.loc[:,'zp_SUM_TRX']"
   ]
  },
  {
   "cell_type": "code",
   "execution_count": 36,
   "metadata": {
    "collapsed": true
   },
   "outputs": [],
   "source": [
    "Y = total_trx\n",
    "X = independent_variables.loc[:,['SATURDAY','SUNDAY','ratio_tm','kms_ofertados','Verano','Julio','t','Feriado_laboral','Feriado_no_laboral',\n",
    "                                 'Partido','FDS_Largo','Disturbios','Clima','visperas_laborales']]"
   ]
  },
  {
   "cell_type": "code",
   "execution_count": 37,
   "metadata": {
    "collapsed": true
   },
   "outputs": [],
   "source": [
    "X = sm.add_constant(X)"
   ]
  },
  {
   "cell_type": "code",
   "execution_count": 38,
   "metadata": {
    "collapsed": true
   },
   "outputs": [],
   "source": [
    "model = sm.OLS(Y, X)"
   ]
  },
  {
   "cell_type": "code",
   "execution_count": 39,
   "metadata": {},
   "outputs": [
    {
     "name": "stdout",
     "output_type": "stream",
     "text": [
      "                            OLS Regression Results                            \n",
      "==============================================================================\n",
      "Dep. Variable:                      y   R-squared:                       0.943\n",
      "Model:                            OLS   Adj. R-squared:                  0.943\n",
      "Method:                 Least Squares   F-statistic:                     1285.\n",
      "Date:                Tue, 06 Mar 2018   Prob (F-statistic):               0.00\n",
      "Time:                        10:58:18   Log-Likelihood:                -13027.\n",
      "No. Observations:                1096   AIC:                         2.608e+04\n",
      "Df Residuals:                    1081   BIC:                         2.616e+04\n",
      "Df Model:                          14                                         \n",
      "Covariance Type:            nonrobust                                         \n",
      "======================================================================================\n",
      "                         coef    std err          t      P>|t|      [0.025      0.975]\n",
      "--------------------------------------------------------------------------------------\n",
      "const               5.601e+05   6151.692     91.050      0.000    5.48e+05    5.72e+05\n",
      "SATURDAY           -2.159e+05   3352.688    -64.404      0.000   -2.23e+05   -2.09e+05\n",
      "SUNDAY             -3.246e+05   3606.300    -90.016      0.000   -3.32e+05   -3.18e+05\n",
      "ratio_tm            1319.9377    100.314     13.158      0.000    1123.105    1516.770\n",
      "kms_ofertados          0.0201      0.003      5.744      0.000       0.013       0.027\n",
      "Verano             -9.959e+04   3086.793    -32.264      0.000   -1.06e+05   -9.35e+04\n",
      "Julio              -2.661e+04   3884.324     -6.849      0.000   -3.42e+04    -1.9e+04\n",
      "t                    -79.2850      4.810    -16.485      0.000     -88.722     -69.848\n",
      "Feriado_laboral    -2.912e+05   7604.976    -38.291      0.000   -3.06e+05   -2.76e+05\n",
      "Feriado_no_laboral  -3.59e+04   7817.278     -4.593      0.000   -5.12e+04   -2.06e+04\n",
      "Partido            -1.685e+04   1.46e+04     -1.157      0.247   -4.54e+04    1.17e+04\n",
      "FDS_Largo           -2.38e+04   5149.315     -4.621      0.000   -3.39e+04   -1.37e+04\n",
      "Disturbios         -4.568e+04   1.45e+04     -3.145      0.002   -7.42e+04   -1.72e+04\n",
      "Clima              -5.017e+04   8683.497     -5.778      0.000   -6.72e+04   -3.31e+04\n",
      "visperas_laborales -6.349e+04   1.19e+04     -5.333      0.000   -8.68e+04   -4.01e+04\n",
      "==============================================================================\n",
      "Omnibus:                      327.482   Durbin-Watson:                   1.299\n",
      "Prob(Omnibus):                  0.000   Jarque-Bera (JB):             5818.708\n",
      "Skew:                           0.898   Prob(JB):                         0.00\n",
      "Kurtosis:                      14.144   Cond. No.                     1.80e+07\n",
      "==============================================================================\n",
      "\n",
      "Warnings:\n",
      "[1] Standard Errors assume that the covariance matrix of the errors is correctly specified.\n",
      "[2] The condition number is large, 1.8e+07. This might indicate that there are\n",
      "strong multicollinearity or other numerical problems.\n"
     ]
    }
   ],
   "source": [
    "results = model.fit()\n",
    "print(results.summary())"
   ]
  },
  {
   "cell_type": "markdown",
   "metadata": {},
   "source": [
    "#### ESTIMATION. 3RD MODEL APPLIED TO UN3 WITH ONLY STATISTICALLY SIGNIFICANT VARIABLES"
   ]
  },
  {
   "cell_type": "code",
   "execution_count": 40,
   "metadata": {
    "collapsed": true
   },
   "outputs": [],
   "source": [
    "Y = total_trx\n",
    "X = independent_variables.loc[:,['SATURDAY','SUNDAY','ratio_tm','kms_ofertados','Verano','Julio','t','Feriado_laboral','Feriado_no_laboral',\n",
    "                                 'FDS_Largo','Disturbios','Clima','visperas_laborales']]"
   ]
  },
  {
   "cell_type": "code",
   "execution_count": 41,
   "metadata": {
    "collapsed": true
   },
   "outputs": [],
   "source": [
    "X = sm.add_constant(X)"
   ]
  },
  {
   "cell_type": "code",
   "execution_count": 42,
   "metadata": {
    "collapsed": true
   },
   "outputs": [],
   "source": [
    "model = sm.OLS(Y, X)"
   ]
  },
  {
   "cell_type": "code",
   "execution_count": 43,
   "metadata": {},
   "outputs": [
    {
     "name": "stdout",
     "output_type": "stream",
     "text": [
      "                            OLS Regression Results                            \n",
      "==============================================================================\n",
      "Dep. Variable:                      y   R-squared:                       0.943\n",
      "Model:                            OLS   Adj. R-squared:                  0.943\n",
      "Method:                 Least Squares   F-statistic:                     1383.\n",
      "Date:                Tue, 06 Mar 2018   Prob (F-statistic):               0.00\n",
      "Time:                        10:59:47   Log-Likelihood:                -13027.\n",
      "No. Observations:                1096   AIC:                         2.608e+04\n",
      "Df Residuals:                    1082   BIC:                         2.615e+04\n",
      "Df Model:                          13                                         \n",
      "Covariance Type:            nonrobust                                         \n",
      "======================================================================================\n",
      "                         coef    std err          t      P>|t|      [0.025      0.975]\n",
      "--------------------------------------------------------------------------------------\n",
      "const               5.597e+05   6140.101     91.148      0.000    5.48e+05    5.72e+05\n",
      "SATURDAY           -2.159e+05   3353.062    -64.385      0.000   -2.22e+05   -2.09e+05\n",
      "SUNDAY             -3.246e+05   3606.688    -89.995      0.000   -3.32e+05   -3.18e+05\n",
      "ratio_tm            1318.2018    100.319     13.140      0.000    1121.361    1515.043\n",
      "kms_ofertados          0.0202      0.003      5.770      0.000       0.013       0.027\n",
      "Verano             -9.942e+04   3083.613    -32.241      0.000   -1.05e+05   -9.34e+04\n",
      "Julio              -2.668e+04   3884.388     -6.869      0.000   -3.43e+04   -1.91e+04\n",
      "t                    -78.8715      4.797    -16.442      0.000     -88.284     -69.459\n",
      "Feriado_laboral    -2.909e+05   7601.101    -38.269      0.000   -3.06e+05   -2.76e+05\n",
      "Feriado_no_laboral  -3.57e+04   7816.625     -4.568      0.000    -5.1e+04   -2.04e+04\n",
      "FDS_Largo          -2.401e+04   5146.691     -4.666      0.000   -3.41e+04   -1.39e+04\n",
      "Disturbios         -4.556e+04   1.45e+04     -3.136      0.002   -7.41e+04   -1.71e+04\n",
      "Clima              -5.007e+04   8684.429     -5.766      0.000   -6.71e+04    -3.3e+04\n",
      "visperas_laborales  -6.34e+04   1.19e+04     -5.325      0.000   -8.68e+04      -4e+04\n",
      "==============================================================================\n",
      "Omnibus:                      326.817   Durbin-Watson:                   1.298\n",
      "Prob(Omnibus):                  0.000   Jarque-Bera (JB):             5798.443\n",
      "Skew:                           0.896   Prob(JB):                         0.00\n",
      "Kurtosis:                      14.125   Cond. No.                     1.79e+07\n",
      "==============================================================================\n",
      "\n",
      "Warnings:\n",
      "[1] Standard Errors assume that the covariance matrix of the errors is correctly specified.\n",
      "[2] The condition number is large, 1.79e+07. This might indicate that there are\n",
      "strong multicollinearity or other numerical problems.\n"
     ]
    }
   ],
   "source": [
    "results = model.fit()\n",
    "print(results.summary())"
   ]
  },
  {
   "cell_type": "markdown",
   "metadata": {},
   "source": [
    "#### ESTIMATION. 3RD MODEL APPLIED TO UN4"
   ]
  },
  {
   "cell_type": "code",
   "execution_count": 44,
   "metadata": {
    "collapsed": true
   },
   "outputs": [],
   "source": [
    "UN = 'U4'\n",
    "daily_input_path = os.path.join(DTPM_TRXDir,'4_DAILY_UN/' + UN + '/' + UN + '_summary.csv')\n",
    "daily_trx = pd.read_csv(daily_input_path,sep=';',encoding='latin-1', index_col=0)"
   ]
  },
  {
   "cell_type": "code",
   "execution_count": 45,
   "metadata": {
    "collapsed": true
   },
   "outputs": [],
   "source": [
    "daily_trx.sort_values(by=['YEAR','MONTH','YEAR_DAY'],inplace=True)"
   ]
  },
  {
   "cell_type": "code",
   "execution_count": 46,
   "metadata": {
    "collapsed": true
   },
   "outputs": [],
   "source": [
    "independent_variables.drop(labels = ['ratio_tm'], inplace=True, axis=1)"
   ]
  },
  {
   "cell_type": "code",
   "execution_count": 47,
   "metadata": {
    "collapsed": true
   },
   "outputs": [],
   "source": [
    "independent_variables = independent_variables.merge(daily_trx.loc[:,['YEAR','MONTH','YEAR_DAY','ratio_tm']], on=['YEAR','MONTH','YEAR_DAY'], how='left')"
   ]
  },
  {
   "cell_type": "code",
   "execution_count": 48,
   "metadata": {
    "collapsed": true
   },
   "outputs": [],
   "source": [
    "total_trx = daily_trx.loc[:,'pn_SUM_TRX_no_t'] + daily_trx.loc[:,'pn_SUM_TRX_3t'] + daily_trx.loc[:,'pn_SUM_TRX_tm'] + daily_trx.loc[:,'zp_SUM_TRX']"
   ]
  },
  {
   "cell_type": "code",
   "execution_count": 49,
   "metadata": {
    "collapsed": true
   },
   "outputs": [],
   "source": [
    "Y = total_trx\n",
    "X = independent_variables.loc[:,['SATURDAY','SUNDAY','ratio_tm','kms_ofertados','Verano','Julio','t','Feriado_laboral','Feriado_no_laboral',\n",
    "                                 'Partido','FDS_Largo','Disturbios','Clima','visperas_laborales']]"
   ]
  },
  {
   "cell_type": "code",
   "execution_count": 50,
   "metadata": {
    "collapsed": true
   },
   "outputs": [],
   "source": [
    "X = sm.add_constant(X)"
   ]
  },
  {
   "cell_type": "code",
   "execution_count": 51,
   "metadata": {
    "collapsed": true
   },
   "outputs": [],
   "source": [
    "model = sm.OLS(Y, X)"
   ]
  },
  {
   "cell_type": "code",
   "execution_count": 52,
   "metadata": {},
   "outputs": [
    {
     "name": "stdout",
     "output_type": "stream",
     "text": [
      "                            OLS Regression Results                            \n",
      "==============================================================================\n",
      "Dep. Variable:                      y   R-squared:                       0.943\n",
      "Model:                            OLS   Adj. R-squared:                  0.942\n",
      "Method:                 Least Squares   F-statistic:                     1281.\n",
      "Date:                Tue, 06 Mar 2018   Prob (F-statistic):               0.00\n",
      "Time:                        11:00:27   Log-Likelihood:                -13164.\n",
      "No. Observations:                1096   AIC:                         2.636e+04\n",
      "Df Residuals:                    1081   BIC:                         2.643e+04\n",
      "Df Model:                          14                                         \n",
      "Covariance Type:            nonrobust                                         \n",
      "======================================================================================\n",
      "                         coef    std err          t      P>|t|      [0.025      0.975]\n",
      "--------------------------------------------------------------------------------------\n",
      "const               5.939e+05   6922.150     85.803      0.000     5.8e+05    6.08e+05\n",
      "SATURDAY           -2.628e+05   3798.993    -69.175      0.000    -2.7e+05   -2.55e+05\n",
      "SUNDAY             -3.712e+05   4082.511    -90.929      0.000   -3.79e+05   -3.63e+05\n",
      "ratio_tm            4659.9558    818.849      5.691      0.000    3053.243    6266.669\n",
      "kms_ofertados          0.0200      0.004      5.040      0.000       0.012       0.028\n",
      "Verano             -7.597e+04   3496.680    -21.725      0.000   -8.28e+04   -6.91e+04\n",
      "Julio              -2.672e+04   4403.602     -6.067      0.000   -3.54e+04   -1.81e+04\n",
      "t                    -83.5012      5.135    -16.260      0.000     -93.578     -73.425\n",
      "Feriado_laboral    -3.248e+05   8620.824    -37.675      0.000   -3.42e+05   -3.08e+05\n",
      "Feriado_no_laboral  -4.24e+04   8848.450     -4.792      0.000   -5.98e+04    -2.5e+04\n",
      "Partido            -1.214e+05   1.65e+04     -7.357      0.000   -1.54e+05    -8.9e+04\n",
      "FDS_Largo          -1.804e+04   5822.319     -3.098      0.002   -2.95e+04   -6611.882\n",
      "Disturbios          -4.04e+04   1.65e+04     -2.454      0.014   -7.27e+04   -8097.435\n",
      "Clima              -6.338e+04   9841.220     -6.440      0.000   -8.27e+04   -4.41e+04\n",
      "visperas_laborales -8.971e+04   1.35e+04     -6.651      0.000   -1.16e+05   -6.32e+04\n",
      "==============================================================================\n",
      "Omnibus:                      234.180   Durbin-Watson:                   1.277\n",
      "Prob(Omnibus):                  0.000   Jarque-Bera (JB):             6491.859\n",
      "Skew:                           0.247   Prob(JB):                         0.00\n",
      "Kurtosis:                      14.913   Cond. No.                     1.80e+07\n",
      "==============================================================================\n",
      "\n",
      "Warnings:\n",
      "[1] Standard Errors assume that the covariance matrix of the errors is correctly specified.\n",
      "[2] The condition number is large, 1.8e+07. This might indicate that there are\n",
      "strong multicollinearity or other numerical problems.\n"
     ]
    }
   ],
   "source": [
    "results = model.fit()\n",
    "print(results.summary())"
   ]
  },
  {
   "cell_type": "markdown",
   "metadata": {},
   "source": [
    "#### ESTIMATION. 3RD MODEL APPLIED TO UN5"
   ]
  },
  {
   "cell_type": "code",
   "execution_count": 53,
   "metadata": {
    "collapsed": true
   },
   "outputs": [],
   "source": [
    "UN = 'U5'\n",
    "daily_input_path = os.path.join(DTPM_TRXDir,'4_DAILY_UN/' + UN + '/' + UN + '_summary.csv')\n",
    "daily_trx = pd.read_csv(daily_input_path,sep=';',encoding='latin-1', index_col=0)"
   ]
  },
  {
   "cell_type": "code",
   "execution_count": 54,
   "metadata": {
    "collapsed": true
   },
   "outputs": [],
   "source": [
    "daily_trx.sort_values(by=['YEAR','MONTH','YEAR_DAY'],inplace=True)"
   ]
  },
  {
   "cell_type": "code",
   "execution_count": 55,
   "metadata": {
    "collapsed": true
   },
   "outputs": [],
   "source": [
    "independent_variables.drop(labels = ['ratio_tm'], inplace=True, axis=1)"
   ]
  },
  {
   "cell_type": "code",
   "execution_count": 56,
   "metadata": {
    "collapsed": true
   },
   "outputs": [],
   "source": [
    "independent_variables = independent_variables.merge(daily_trx.loc[:,['YEAR','MONTH','YEAR_DAY','ratio_tm']], on=['YEAR','MONTH','YEAR_DAY'], how='left')"
   ]
  },
  {
   "cell_type": "code",
   "execution_count": 57,
   "metadata": {
    "collapsed": true
   },
   "outputs": [],
   "source": [
    "total_trx = daily_trx.loc[:,'pn_SUM_TRX_no_t'] + daily_trx.loc[:,'pn_SUM_TRX_3t'] + daily_trx.loc[:,'pn_SUM_TRX_tm'] + daily_trx.loc[:,'zp_SUM_TRX']"
   ]
  },
  {
   "cell_type": "code",
   "execution_count": 58,
   "metadata": {
    "collapsed": true
   },
   "outputs": [],
   "source": [
    "Y = total_trx\n",
    "X = independent_variables.loc[:,['SATURDAY','SUNDAY','ratio_tm','kms_ofertados','Verano','Julio','t','Feriado_laboral','Feriado_no_laboral',\n",
    "                                 'Partido','FDS_Largo','Disturbios','Clima','visperas_laborales']]"
   ]
  },
  {
   "cell_type": "code",
   "execution_count": 59,
   "metadata": {
    "collapsed": true
   },
   "outputs": [],
   "source": [
    "X = sm.add_constant(X)"
   ]
  },
  {
   "cell_type": "code",
   "execution_count": 60,
   "metadata": {
    "collapsed": true
   },
   "outputs": [],
   "source": [
    "model = sm.OLS(Y, X)"
   ]
  },
  {
   "cell_type": "code",
   "execution_count": 61,
   "metadata": {
    "scrolled": false
   },
   "outputs": [
    {
     "name": "stdout",
     "output_type": "stream",
     "text": [
      "                            OLS Regression Results                            \n",
      "==============================================================================\n",
      "Dep. Variable:                      y   R-squared:                       0.948\n",
      "Model:                            OLS   Adj. R-squared:                  0.948\n",
      "Method:                 Least Squares   F-statistic:                     1421.\n",
      "Date:                Tue, 06 Mar 2018   Prob (F-statistic):               0.00\n",
      "Time:                        11:01:21   Log-Likelihood:                -13004.\n",
      "No. Observations:                1096   AIC:                         2.604e+04\n",
      "Df Residuals:                    1081   BIC:                         2.611e+04\n",
      "Df Model:                          14                                         \n",
      "Covariance Type:            nonrobust                                         \n",
      "======================================================================================\n",
      "                         coef    std err          t      P>|t|      [0.025      0.975]\n",
      "--------------------------------------------------------------------------------------\n",
      "const               5.155e+05   6040.242     85.351      0.000    5.04e+05    5.27e+05\n",
      "SATURDAY           -2.341e+05   3283.176    -71.290      0.000    -2.4e+05   -2.28e+05\n",
      "SUNDAY             -3.365e+05   3531.820    -95.275      0.000   -3.43e+05    -3.3e+05\n",
      "ratio_tm            1005.5500    153.494      6.551      0.000     704.370    1306.730\n",
      "kms_ofertados          0.0201      0.003      5.862      0.000       0.013       0.027\n",
      "Verano             -8.984e+04   3022.555    -29.723      0.000   -9.58e+04   -8.39e+04\n",
      "Julio              -3.108e+04   3805.502     -8.168      0.000   -3.86e+04   -2.36e+04\n",
      "t                    -21.9991      4.778     -4.604      0.000     -31.375     -12.623\n",
      "Feriado_laboral    -3.003e+05   7448.494    -40.312      0.000   -3.15e+05   -2.86e+05\n",
      "Feriado_no_laboral -3.498e+04   7651.738     -4.571      0.000      -5e+04      -2e+04\n",
      "Partido            -5415.2659   1.43e+04     -0.380      0.704   -3.34e+04    2.26e+04\n",
      "FDS_Largo          -2.124e+04   5046.307     -4.208      0.000   -3.11e+04   -1.13e+04\n",
      "Disturbios         -4.837e+04   1.42e+04     -3.401      0.001   -7.63e+04   -2.05e+04\n",
      "Clima              -4.797e+04   8505.280     -5.639      0.000   -6.47e+04   -3.13e+04\n",
      "visperas_laborales -6.769e+04   1.17e+04     -5.804      0.000   -9.06e+04   -4.48e+04\n",
      "==============================================================================\n",
      "Omnibus:                      367.309   Durbin-Watson:                   1.365\n",
      "Prob(Omnibus):                  0.000   Jarque-Bera (JB):             6259.417\n",
      "Skew:                           1.080   Prob(JB):                         0.00\n",
      "Kurtosis:                      14.506   Cond. No.                     1.80e+07\n",
      "==============================================================================\n",
      "\n",
      "Warnings:\n",
      "[1] Standard Errors assume that the covariance matrix of the errors is correctly specified.\n",
      "[2] The condition number is large, 1.8e+07. This might indicate that there are\n",
      "strong multicollinearity or other numerical problems.\n"
     ]
    }
   ],
   "source": [
    "results = model.fit()\n",
    "print(results.summary())"
   ]
  },
  {
   "cell_type": "markdown",
   "metadata": {},
   "source": [
    "#### ESTIMATION. 3RD MODEL APPLIED TO UN5 WITH ONLY STATISTICALLY SIGNIFICANT VARIABLES"
   ]
  },
  {
   "cell_type": "code",
   "execution_count": 62,
   "metadata": {
    "collapsed": true
   },
   "outputs": [],
   "source": [
    "Y = total_trx\n",
    "X = independent_variables.loc[:,['SATURDAY','SUNDAY','ratio_tm','kms_ofertados','Verano','Julio','t','Feriado_laboral','Feriado_no_laboral',\n",
    "                                 'FDS_Largo','Disturbios','Clima','visperas_laborales']]"
   ]
  },
  {
   "cell_type": "code",
   "execution_count": 63,
   "metadata": {
    "collapsed": true
   },
   "outputs": [],
   "source": [
    "X = sm.add_constant(X)"
   ]
  },
  {
   "cell_type": "code",
   "execution_count": 64,
   "metadata": {
    "collapsed": true
   },
   "outputs": [],
   "source": [
    "model = sm.OLS(Y, X)"
   ]
  },
  {
   "cell_type": "code",
   "execution_count": 65,
   "metadata": {},
   "outputs": [
    {
     "name": "stdout",
     "output_type": "stream",
     "text": [
      "                            OLS Regression Results                            \n",
      "==============================================================================\n",
      "Dep. Variable:                      y   R-squared:                       0.948\n",
      "Model:                            OLS   Adj. R-squared:                  0.948\n",
      "Method:                 Least Squares   F-statistic:                     1531.\n",
      "Date:                Tue, 06 Mar 2018   Prob (F-statistic):               0.00\n",
      "Time:                        11:02:42   Log-Likelihood:                -13004.\n",
      "No. Observations:                1096   AIC:                         2.604e+04\n",
      "Df Residuals:                    1082   BIC:                         2.611e+04\n",
      "Df Model:                          13                                         \n",
      "Covariance Type:            nonrobust                                         \n",
      "======================================================================================\n",
      "                         coef    std err          t      P>|t|      [0.025      0.975]\n",
      "--------------------------------------------------------------------------------------\n",
      "const               5.154e+05   6025.602     85.535      0.000    5.04e+05    5.27e+05\n",
      "SATURDAY            -2.34e+05   3281.731    -71.318      0.000    -2.4e+05   -2.28e+05\n",
      "SUNDAY             -3.365e+05   3530.250    -95.313      0.000   -3.43e+05    -3.3e+05\n",
      "ratio_tm            1004.7217    153.418      6.549      0.000     703.692    1305.752\n",
      "kms_ofertados          0.0201      0.003      5.874      0.000       0.013       0.027\n",
      "Verano             -8.978e+04   3017.758    -29.751      0.000   -9.57e+04   -8.39e+04\n",
      "Julio              -3.111e+04   3803.506     -8.178      0.000   -3.86e+04   -2.36e+04\n",
      "t                    -21.8665      4.764     -4.590      0.000     -31.214     -12.519\n",
      "Feriado_laboral    -3.002e+05   7440.608    -40.340      0.000   -3.15e+05   -2.86e+05\n",
      "Feriado_no_laboral -3.491e+04   7646.841     -4.566      0.000   -4.99e+04   -1.99e+04\n",
      "FDS_Largo          -2.131e+04   5040.959     -4.227      0.000   -3.12e+04   -1.14e+04\n",
      "Disturbios         -4.834e+04   1.42e+04     -3.399      0.001   -7.62e+04   -2.04e+04\n",
      "Clima              -4.793e+04   8501.495     -5.638      0.000   -6.46e+04   -3.13e+04\n",
      "visperas_laborales -6.767e+04   1.17e+04     -5.804      0.000   -9.05e+04   -4.48e+04\n",
      "==============================================================================\n",
      "Omnibus:                      367.338   Durbin-Watson:                   1.365\n",
      "Prob(Omnibus):                  0.000   Jarque-Bera (JB):             6257.747\n",
      "Skew:                           1.081   Prob(JB):                         0.00\n",
      "Kurtosis:                      14.505   Cond. No.                     1.79e+07\n",
      "==============================================================================\n",
      "\n",
      "Warnings:\n",
      "[1] Standard Errors assume that the covariance matrix of the errors is correctly specified.\n",
      "[2] The condition number is large, 1.79e+07. This might indicate that there are\n",
      "strong multicollinearity or other numerical problems.\n"
     ]
    }
   ],
   "source": [
    "results = model.fit()\n",
    "print(results.summary())"
   ]
  },
  {
   "cell_type": "markdown",
   "metadata": {},
   "source": [
    "#### ESTIMATION. 3RD MODEL APPLIED TO UN6"
   ]
  },
  {
   "cell_type": "code",
   "execution_count": 66,
   "metadata": {
    "collapsed": true
   },
   "outputs": [],
   "source": [
    "UN = 'U6'\n",
    "daily_input_path = os.path.join(DTPM_TRXDir,'4_DAILY_UN/' + UN + '/' + UN + '_summary.csv')\n",
    "daily_trx = pd.read_csv(daily_input_path,sep=';',encoding='latin-1', index_col=0)"
   ]
  },
  {
   "cell_type": "code",
   "execution_count": 67,
   "metadata": {
    "collapsed": true
   },
   "outputs": [],
   "source": [
    "daily_trx.sort_values(by=['YEAR','MONTH','YEAR_DAY'],inplace=True)"
   ]
  },
  {
   "cell_type": "code",
   "execution_count": 68,
   "metadata": {
    "collapsed": true
   },
   "outputs": [],
   "source": [
    "independent_variables.drop(labels = ['ratio_tm'], inplace=True, axis=1)"
   ]
  },
  {
   "cell_type": "code",
   "execution_count": 69,
   "metadata": {
    "collapsed": true
   },
   "outputs": [],
   "source": [
    "independent_variables = independent_variables.merge(daily_trx.loc[:,['YEAR','MONTH','YEAR_DAY','ratio_tm']], on=['YEAR','MONTH','YEAR_DAY'], how='left')"
   ]
  },
  {
   "cell_type": "code",
   "execution_count": 70,
   "metadata": {
    "collapsed": true
   },
   "outputs": [],
   "source": [
    "total_trx = daily_trx.loc[:,'pn_SUM_TRX_no_t'] + daily_trx.loc[:,'pn_SUM_TRX_3t'] + daily_trx.loc[:,'pn_SUM_TRX_tm'] + daily_trx.loc[:,'zp_SUM_TRX']"
   ]
  },
  {
   "cell_type": "code",
   "execution_count": 71,
   "metadata": {
    "collapsed": true
   },
   "outputs": [],
   "source": [
    "Y = total_trx\n",
    "X = independent_variables.loc[:,['SATURDAY','SUNDAY','ratio_tm','kms_ofertados','Verano','Julio','t','Feriado_laboral','Feriado_no_laboral',\n",
    "                                 'Partido','FDS_Largo','Disturbios','Clima','visperas_laborales']]"
   ]
  },
  {
   "cell_type": "code",
   "execution_count": 72,
   "metadata": {
    "collapsed": true
   },
   "outputs": [],
   "source": [
    "X = sm.add_constant(X)"
   ]
  },
  {
   "cell_type": "code",
   "execution_count": 73,
   "metadata": {
    "collapsed": true
   },
   "outputs": [],
   "source": [
    "model = sm.OLS(Y, X)"
   ]
  },
  {
   "cell_type": "code",
   "execution_count": 74,
   "metadata": {},
   "outputs": [
    {
     "name": "stdout",
     "output_type": "stream",
     "text": [
      "                            OLS Regression Results                            \n",
      "==============================================================================\n",
      "Dep. Variable:                      y   R-squared:                       0.948\n",
      "Model:                            OLS   Adj. R-squared:                  0.947\n",
      "Method:                 Least Squares   F-statistic:                     1401.\n",
      "Date:                Tue, 06 Mar 2018   Prob (F-statistic):               0.00\n",
      "Time:                        11:03:00   Log-Likelihood:                -12368.\n",
      "No. Observations:                1096   AIC:                         2.477e+04\n",
      "Df Residuals:                    1081   BIC:                         2.484e+04\n",
      "Df Model:                          14                                         \n",
      "Covariance Type:            nonrobust                                         \n",
      "======================================================================================\n",
      "                         coef    std err          t      P>|t|      [0.025      0.975]\n",
      "--------------------------------------------------------------------------------------\n",
      "const               2.968e+05   3648.185     81.358      0.000     2.9e+05    3.04e+05\n",
      "SATURDAY           -1.255e+05   1838.587    -68.266      0.000   -1.29e+05   -1.22e+05\n",
      "SUNDAY             -1.867e+05   1982.526    -94.177      0.000   -1.91e+05   -1.83e+05\n",
      "ratio_tm             494.0051     63.957      7.724      0.000     368.511     619.499\n",
      "kms_ofertados          0.0120      0.002      6.258      0.000       0.008       0.016\n",
      "Verano             -5.056e+04   1689.825    -29.918      0.000   -5.39e+04   -4.72e+04\n",
      "Julio              -1.894e+04   2131.555     -8.887      0.000   -2.31e+04   -1.48e+04\n",
      "t                    -28.8655      5.377     -5.368      0.000     -39.417     -18.314\n",
      "Feriado_laboral    -1.682e+05   4172.326    -40.314      0.000   -1.76e+05    -1.6e+05\n",
      "Feriado_no_laboral -2.475e+04   4273.818     -5.792      0.000   -3.31e+04   -1.64e+04\n",
      "Partido            -6206.4987   7982.304     -0.778      0.437   -2.19e+04    9456.067\n",
      "FDS_Largo            -1.4e+04   2813.147     -4.978      0.000   -1.95e+04   -8485.129\n",
      "Disturbios         -1.724e+04   7960.709     -2.166      0.031   -3.29e+04   -1619.315\n",
      "Clima              -2.785e+04   4764.213     -5.845      0.000   -3.72e+04   -1.85e+04\n",
      "visperas_laborales -3.872e+04   6521.387     -5.937      0.000   -5.15e+04   -2.59e+04\n",
      "==============================================================================\n",
      "Omnibus:                      380.207   Durbin-Watson:                   1.283\n",
      "Prob(Omnibus):                  0.000   Jarque-Bera (JB):             7025.191\n",
      "Skew:                           1.110   Prob(JB):                         0.00\n",
      "Kurtosis:                      15.203   Cond. No.                     1.80e+07\n",
      "==============================================================================\n",
      "\n",
      "Warnings:\n",
      "[1] Standard Errors assume that the covariance matrix of the errors is correctly specified.\n",
      "[2] The condition number is large, 1.8e+07. This might indicate that there are\n",
      "strong multicollinearity or other numerical problems.\n"
     ]
    }
   ],
   "source": [
    "results = model.fit()\n",
    "print(results.summary())"
   ]
  },
  {
   "cell_type": "markdown",
   "metadata": {},
   "source": [
    "#### ESTIMATION. 3RD MODEL APPLIED TO UN6 WITH ONLY STATISTICALLY SIGNIFICANT VARIABLES"
   ]
  },
  {
   "cell_type": "code",
   "execution_count": 75,
   "metadata": {
    "collapsed": true
   },
   "outputs": [],
   "source": [
    "Y = total_trx\n",
    "X = independent_variables.loc[:,['SATURDAY','SUNDAY','ratio_tm','kms_ofertados','Verano','Julio','t','Feriado_laboral','Feriado_no_laboral',\n",
    "                                 'FDS_Largo','Disturbios','Clima','visperas_laborales']]"
   ]
  },
  {
   "cell_type": "code",
   "execution_count": 76,
   "metadata": {
    "collapsed": true
   },
   "outputs": [],
   "source": [
    "X = sm.add_constant(X)"
   ]
  },
  {
   "cell_type": "code",
   "execution_count": 77,
   "metadata": {
    "collapsed": true
   },
   "outputs": [],
   "source": [
    "model = sm.OLS(Y, X)"
   ]
  },
  {
   "cell_type": "code",
   "execution_count": 78,
   "metadata": {},
   "outputs": [
    {
     "name": "stdout",
     "output_type": "stream",
     "text": [
      "                            OLS Regression Results                            \n",
      "==============================================================================\n",
      "Dep. Variable:                      y   R-squared:                       0.948\n",
      "Model:                            OLS   Adj. R-squared:                  0.947\n",
      "Method:                 Least Squares   F-statistic:                     1509.\n",
      "Date:                Tue, 06 Mar 2018   Prob (F-statistic):               0.00\n",
      "Time:                        11:03:56   Log-Likelihood:                -12368.\n",
      "No. Observations:                1096   AIC:                         2.476e+04\n",
      "Df Residuals:                    1082   BIC:                         2.483e+04\n",
      "Df Model:                          13                                         \n",
      "Covariance Type:            nonrobust                                         \n",
      "======================================================================================\n",
      "                         coef    std err          t      P>|t|      [0.025      0.975]\n",
      "--------------------------------------------------------------------------------------\n",
      "const               2.966e+05   3639.447     81.501      0.000    2.89e+05    3.04e+05\n",
      "SATURDAY           -1.255e+05   1838.156    -68.274      0.000   -1.29e+05   -1.22e+05\n",
      "SUNDAY             -1.867e+05   1982.035    -94.191      0.000   -1.91e+05   -1.83e+05\n",
      "ratio_tm             492.7901     63.926      7.709      0.000     367.356     618.224\n",
      "kms_ofertados          0.0121      0.002      6.279      0.000       0.008       0.016\n",
      "Verano             -5.049e+04   1687.330    -29.922      0.000   -5.38e+04   -4.72e+04\n",
      "Julio              -1.897e+04   2130.919     -8.901      0.000   -2.31e+04   -1.48e+04\n",
      "t                    -28.6385      5.369     -5.334      0.000     -39.172     -18.105\n",
      "Feriado_laboral    -1.681e+05   4168.620    -40.320      0.000   -1.76e+05    -1.6e+05\n",
      "Feriado_no_laboral -2.468e+04   4271.963     -5.777      0.000   -3.31e+04   -1.63e+04\n",
      "FDS_Largo          -1.409e+04   2810.699     -5.012      0.000   -1.96e+04   -8571.022\n",
      "Disturbios         -1.719e+04   7959.033     -2.160      0.031   -3.28e+04   -1576.465\n",
      "Clima              -2.781e+04   4763.146     -5.839      0.000   -3.72e+04   -1.85e+04\n",
      "visperas_laborales -3.869e+04   6520.109     -5.934      0.000   -5.15e+04   -2.59e+04\n",
      "==============================================================================\n",
      "Omnibus:                      380.278   Durbin-Watson:                   1.284\n",
      "Prob(Omnibus):                  0.000   Jarque-Bera (JB):             7012.989\n",
      "Skew:                           1.111   Prob(JB):                         0.00\n",
      "Kurtosis:                      15.191   Cond. No.                     1.79e+07\n",
      "==============================================================================\n",
      "\n",
      "Warnings:\n",
      "[1] Standard Errors assume that the covariance matrix of the errors is correctly specified.\n",
      "[2] The condition number is large, 1.79e+07. This might indicate that there are\n",
      "strong multicollinearity or other numerical problems.\n"
     ]
    }
   ],
   "source": [
    "results = model.fit()\n",
    "print(results.summary())"
   ]
  },
  {
   "cell_type": "markdown",
   "metadata": {},
   "source": [
    "#### ESTIMATION. 3RD MODEL APPLIED TO UN7"
   ]
  },
  {
   "cell_type": "code",
   "execution_count": 79,
   "metadata": {
    "collapsed": true
   },
   "outputs": [],
   "source": [
    "UN = 'U7'\n",
    "daily_input_path = os.path.join(DTPM_TRXDir,'4_DAILY_UN/' + UN + '/' + UN + '_summary.csv')\n",
    "daily_trx = pd.read_csv(daily_input_path,sep=';',encoding='latin-1', index_col=0)"
   ]
  },
  {
   "cell_type": "code",
   "execution_count": 80,
   "metadata": {
    "collapsed": true
   },
   "outputs": [],
   "source": [
    "daily_trx.sort_values(by=['YEAR','MONTH','YEAR_DAY'],inplace=True)"
   ]
  },
  {
   "cell_type": "code",
   "execution_count": 81,
   "metadata": {
    "collapsed": true
   },
   "outputs": [],
   "source": [
    "independent_variables.drop(labels = ['ratio_tm'], inplace=True, axis=1)"
   ]
  },
  {
   "cell_type": "code",
   "execution_count": 82,
   "metadata": {
    "collapsed": true
   },
   "outputs": [],
   "source": [
    "independent_variables = independent_variables.merge(daily_trx.loc[:,['YEAR','MONTH','YEAR_DAY','ratio_tm']], on=['YEAR','MONTH','YEAR_DAY'], how='left')"
   ]
  },
  {
   "cell_type": "code",
   "execution_count": 83,
   "metadata": {
    "collapsed": true
   },
   "outputs": [],
   "source": [
    "total_trx = daily_trx.loc[:,'pn_SUM_TRX_no_t'] + daily_trx.loc[:,'pn_SUM_TRX_3t'] + daily_trx.loc[:,'pn_SUM_TRX_tm'] + daily_trx.loc[:,'zp_SUM_TRX']"
   ]
  },
  {
   "cell_type": "code",
   "execution_count": 84,
   "metadata": {
    "collapsed": true
   },
   "outputs": [],
   "source": [
    "Y = total_trx\n",
    "X = independent_variables.loc[:,['SATURDAY','SUNDAY','ratio_tm','kms_ofertados','Verano','Julio','t','Feriado_laboral','Feriado_no_laboral',\n",
    "                                 'Partido','FDS_Largo','Disturbios','Clima','visperas_laborales']]"
   ]
  },
  {
   "cell_type": "code",
   "execution_count": 85,
   "metadata": {
    "collapsed": true
   },
   "outputs": [],
   "source": [
    "X = sm.add_constant(X)"
   ]
  },
  {
   "cell_type": "code",
   "execution_count": 86,
   "metadata": {
    "collapsed": true
   },
   "outputs": [],
   "source": [
    "model = sm.OLS(Y, X)"
   ]
  },
  {
   "cell_type": "code",
   "execution_count": 87,
   "metadata": {},
   "outputs": [
    {
     "name": "stdout",
     "output_type": "stream",
     "text": [
      "                            OLS Regression Results                            \n",
      "==============================================================================\n",
      "Dep. Variable:                      y   R-squared:                       0.941\n",
      "Model:                            OLS   Adj. R-squared:                  0.940\n",
      "Method:                 Least Squares   F-statistic:                     1227.\n",
      "Date:                Tue, 06 Mar 2018   Prob (F-statistic):               0.00\n",
      "Time:                        11:06:22   Log-Likelihood:                -11941.\n",
      "No. Observations:                1096   AIC:                         2.391e+04\n",
      "Df Residuals:                    1081   BIC:                         2.399e+04\n",
      "Df Model:                          14                                         \n",
      "Covariance Type:            nonrobust                                         \n",
      "======================================================================================\n",
      "                         coef    std err          t      P>|t|      [0.025      0.975]\n",
      "--------------------------------------------------------------------------------------\n",
      "const               1.695e+05   2311.982     73.334      0.000    1.65e+05    1.74e+05\n",
      "SATURDAY             -7.9e+04   1244.550    -63.478      0.000   -8.14e+04   -7.66e+04\n",
      "SUNDAY             -1.167e+05   1339.556    -87.099      0.000   -1.19e+05   -1.14e+05\n",
      "ratio_tm             572.0309     37.241     15.360      0.000     498.958     645.104\n",
      "kms_ofertados          0.0085      0.001      6.544      0.000       0.006       0.011\n",
      "Verano             -2.461e+04   1146.754    -21.458      0.000   -2.69e+04   -2.24e+04\n",
      "Julio              -1.184e+04   1441.958     -8.214      0.000   -1.47e+04   -9015.245\n",
      "t                      9.2011      2.017      4.562      0.000       5.244      13.159\n",
      "Feriado_laboral    -1.025e+05   2823.116    -36.322      0.000   -1.08e+05    -9.7e+04\n",
      "Feriado_no_laboral -1.076e+04   2897.286     -3.714      0.000   -1.64e+04   -5074.624\n",
      "Partido              115.9776   5405.203      0.021      0.983   -1.05e+04    1.07e+04\n",
      "FDS_Largo          -7698.1972   1910.310     -4.030      0.000   -1.14e+04   -3949.861\n",
      "Disturbios         -1.097e+04   5391.548     -2.034      0.042   -2.15e+04    -389.740\n",
      "Clima              -2.042e+04   3223.694     -6.334      0.000   -2.67e+04   -1.41e+04\n",
      "visperas_laborales -2.286e+04   4416.667     -5.177      0.000   -3.15e+04   -1.42e+04\n",
      "==============================================================================\n",
      "Omnibus:                      271.187   Durbin-Watson:                   1.231\n",
      "Prob(Omnibus):                  0.000   Jarque-Bera (JB):             3445.262\n",
      "Skew:                           0.762   Prob(JB):                         0.00\n",
      "Kurtosis:                      11.551   Cond. No.                     1.80e+07\n",
      "==============================================================================\n",
      "\n",
      "Warnings:\n",
      "[1] Standard Errors assume that the covariance matrix of the errors is correctly specified.\n",
      "[2] The condition number is large, 1.8e+07. This might indicate that there are\n",
      "strong multicollinearity or other numerical problems.\n"
     ]
    }
   ],
   "source": [
    "results = model.fit()\n",
    "print(results.summary())"
   ]
  },
  {
   "cell_type": "markdown",
   "metadata": {
    "collapsed": true
   },
   "source": [
    "#### ESTIMATION. 3RD MODEL APPLIED TO UN7 WITH ONLY STATISTICALLY SIGNIFICANT VARIABLES"
   ]
  },
  {
   "cell_type": "code",
   "execution_count": 88,
   "metadata": {
    "collapsed": true
   },
   "outputs": [],
   "source": [
    "Y = total_trx\n",
    "X = independent_variables.loc[:,['SATURDAY','SUNDAY','ratio_tm','kms_ofertados','Verano','Julio','t','Feriado_laboral','Feriado_no_laboral',\n",
    "                                 'FDS_Largo','Disturbios','Clima','visperas_laborales']]"
   ]
  },
  {
   "cell_type": "code",
   "execution_count": 89,
   "metadata": {
    "collapsed": true
   },
   "outputs": [],
   "source": [
    "X = sm.add_constant(X)"
   ]
  },
  {
   "cell_type": "code",
   "execution_count": 90,
   "metadata": {
    "collapsed": true
   },
   "outputs": [],
   "source": [
    "model = sm.OLS(Y, X)"
   ]
  },
  {
   "cell_type": "code",
   "execution_count": 91,
   "metadata": {},
   "outputs": [
    {
     "name": "stdout",
     "output_type": "stream",
     "text": [
      "                            OLS Regression Results                            \n",
      "==============================================================================\n",
      "Dep. Variable:                      y   R-squared:                       0.941\n",
      "Model:                            OLS   Adj. R-squared:                  0.940\n",
      "Method:                 Least Squares   F-statistic:                     1323.\n",
      "Date:                Tue, 06 Mar 2018   Prob (F-statistic):               0.00\n",
      "Time:                        11:07:19   Log-Likelihood:                -11941.\n",
      "No. Observations:                1096   AIC:                         2.391e+04\n",
      "Df Residuals:                    1082   BIC:                         2.398e+04\n",
      "Df Model:                          13                                         \n",
      "Covariance Type:            nonrobust                                         \n",
      "======================================================================================\n",
      "                         coef    std err          t      P>|t|      [0.025      0.975]\n",
      "--------------------------------------------------------------------------------------\n",
      "const               1.696e+05   2306.138     73.521      0.000    1.65e+05    1.74e+05\n",
      "SATURDAY             -7.9e+04   1243.918    -63.510      0.000   -8.14e+04   -7.66e+04\n",
      "SUNDAY             -1.167e+05   1338.867    -87.144      0.000   -1.19e+05   -1.14e+05\n",
      "ratio_tm             572.0442     37.219     15.370      0.000     499.015     645.074\n",
      "kms_ofertados          0.0085      0.001      6.548      0.000       0.006       0.011\n",
      "Verano             -2.461e+04   1144.882    -21.494      0.000   -2.69e+04   -2.24e+04\n",
      "Julio              -1.184e+04   1441.087     -8.219      0.000   -1.47e+04   -9016.435\n",
      "t                      9.1981      2.011      4.574      0.000       5.252      13.144\n",
      "Feriado_laboral    -1.025e+05   2819.913    -36.364      0.000   -1.08e+05    -9.7e+04\n",
      "Feriado_no_laboral -1.076e+04   2895.231     -3.717      0.000   -1.64e+04   -5080.043\n",
      "FDS_Largo          -7696.7015   1908.156     -4.034      0.000   -1.14e+04   -3952.596\n",
      "Disturbios         -1.097e+04   5388.917     -2.036      0.042   -2.15e+04    -395.750\n",
      "Clima              -2.042e+04   3222.048     -6.338      0.000   -2.67e+04   -1.41e+04\n",
      "visperas_laborales -2.286e+04   4414.552     -5.179      0.000   -3.15e+04   -1.42e+04\n",
      "==============================================================================\n",
      "Omnibus:                      271.178   Durbin-Watson:                   1.230\n",
      "Prob(Omnibus):                  0.000   Jarque-Bera (JB):             3445.111\n",
      "Skew:                           0.762   Prob(JB):                         0.00\n",
      "Kurtosis:                      11.551   Cond. No.                     1.79e+07\n",
      "==============================================================================\n",
      "\n",
      "Warnings:\n",
      "[1] Standard Errors assume that the covariance matrix of the errors is correctly specified.\n",
      "[2] The condition number is large, 1.79e+07. This might indicate that there are\n",
      "strong multicollinearity or other numerical problems.\n"
     ]
    }
   ],
   "source": [
    "results = model.fit()\n",
    "print(results.summary())"
   ]
  },
  {
   "cell_type": "code",
   "execution_count": null,
   "metadata": {
    "collapsed": true
   },
   "outputs": [],
   "source": []
  }
 ],
 "metadata": {
  "kernelspec": {
   "display_name": "Python 3",
   "language": "python",
   "name": "python3"
  },
  "language_info": {
   "codemirror_mode": {
    "name": "ipython",
    "version": 3
   },
   "file_extension": ".py",
   "mimetype": "text/x-python",
   "name": "python",
   "nbconvert_exporter": "python",
   "pygments_lexer": "ipython3",
   "version": "3.6.1"
  }
 },
 "nbformat": 4,
 "nbformat_minor": 2
}
