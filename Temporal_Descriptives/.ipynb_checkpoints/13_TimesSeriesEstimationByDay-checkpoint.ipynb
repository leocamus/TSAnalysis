{
 "cells": [
  {
   "cell_type": "markdown",
   "metadata": {},
   "source": [
    "### Time series estimation"
   ]
  },
  {
   "cell_type": "code",
   "execution_count": 1,
   "metadata": {
    "collapsed": true
   },
   "outputs": [],
   "source": [
    "import os\n",
    "import sys\n",
    "module_path = os.path.abspath(os.path.join('..'))\n",
    "if module_path not in sys.path:\n",
    "    sys.path.append(module_path)"
   ]
  },
  {
   "cell_type": "code",
   "execution_count": 2,
   "metadata": {},
   "outputs": [
    {
     "data": {
      "text/html": [
       "<style>.container { width:80% !important; }</style>"
      ],
      "text/plain": [
       "<IPython.core.display.HTML object>"
      ]
     },
     "metadata": {},
     "output_type": "display_data"
    }
   ],
   "source": [
    "%matplotlib inline\n",
    "from IPython.core.display import display, HTML\n",
    "display(HTML(\"<style>.container { width:80% !important; }</style>\"))\n",
    "\n",
    "import pandas as pd\n",
    "import matplotlib\n",
    "import matplotlib.pyplot as plt\n",
    "import matplotlib.dates as mdates\n",
    "import numpy as np\n",
    "import datetime as dt\n",
    "import time"
   ]
  },
  {
   "cell_type": "code",
   "execution_count": 3,
   "metadata": {
    "collapsed": true
   },
   "outputs": [],
   "source": [
    "from Utils import TransantiagoConstants"
   ]
  },
  {
   "cell_type": "code",
   "execution_count": 4,
   "metadata": {
    "collapsed": true
   },
   "outputs": [],
   "source": [
    "DTPMDir = TransantiagoConstants.DTPMDir\n",
    "DTPM_TRXDir = TransantiagoConstants.DTPM_TRXDir"
   ]
  },
  {
   "cell_type": "code",
   "execution_count": 5,
   "metadata": {
    "collapsed": true
   },
   "outputs": [],
   "source": [
    "def reOrderingDataFrames():\n",
    "    summary = pd.DataFrame() \n",
    "    pn_input_path = os.path.join(DTPM_TRXDir, '1_DAILY_SUMMARY/daily_pn_summary.csv')\n",
    "    zp_input_path = os.path.join(DTPM_TRXDir, '1_DAILY_SUMMARY/daily_zp_summary.csv')\n",
    "    \n",
    "    pn_summary = pd.read_csv(pn_input_path, sep=';', encoding = 'latin-1', index_col = 0)\n",
    "    zp_summary = pd.read_csv(zp_input_path, sep=';', encoding = 'latin-1', index_col = 0)\n",
    "    \n",
    "    pn_summary['DATE'] = pn_summary['DATE'].apply(lambda x: pd.to_datetime(x).date())\n",
    "    zp_summary['DATE'] = zp_summary['DATE'].apply(lambda x: pd.to_datetime(x).date())\n",
    "    \n",
    "    no_turnstile = pn_summary.loc[(pn_summary['torniquete_mariposa']==0)\n",
    "                                  &(pn_summary['no_torniquete']==1),:]\n",
    "\n",
    "    three_turnstile = pn_summary.loc[(pn_summary['torniquete_mariposa']==0)\n",
    "                                     &(pn_summary['no_torniquete']==0),:]\n",
    "\n",
    "    butterfly_turnstile = pn_summary.loc[(pn_summary['torniquete_mariposa']==1)\n",
    "                                         &(pn_summary['no_torniquete']==0),:]\n",
    "    \n",
    "    summary = no_turnstile.loc[:,['YEAR_DAY', 'UN', 'YEAR', 'MONTH', 'SATURDAY', 'SUNDAY', 'DATE','pn_SUM_TRX', 'pn_SUM_EXP',\n",
    "                                  'ratio', 'Buses', 'Estudiantes Ed. Media/Superior', 'm_ofertados', 'kms_ofertados',\n",
    "                                  'Enero', 'Febrero', 'Julio', 'Nov_2017', 'Dic_2017','t', 'Feriado_laboral', 'Feriado_no_laboral',\n",
    "                                  'Censo_Elecciones', 'Partido', 'FDS_Largo', 'Disturbios', 'Corte_Metro', 'Retraso_Metro',\n",
    "                                  'Incidente_Metro', 'Bucle', 'Clima','visperas_laborales']]\n",
    "    #First merge...\n",
    "    three_turnstile = three_turnstile.merge(no_turnstile.loc[:,['YEAR','MONTH','YEAR_DAY']], how='outer', on = ['YEAR','MONTH','YEAR_DAY'])\n",
    "    three_turnstile = three_turnstile.fillna(0)\n",
    "    summary = summary.merge(three_turnstile.loc[:,['YEAR','MONTH','YEAR_DAY','pn_SUM_TRX','pn_SUM_EXP','ratio']], how='left', on=['YEAR','MONTH','YEAR_DAY'], suffixes=('_no_t','_3t'))\n",
    "    \n",
    "    #Second merge...\n",
    "    butterfly_turnstile = butterfly_turnstile.merge(no_turnstile.loc[:,['YEAR','MONTH','YEAR_DAY']], how='outer', on = ['YEAR','MONTH','YEAR_DAY'])\n",
    "    butterfly_turnstile = butterfly_turnstile.fillna(0)\n",
    "    summary = summary.merge(butterfly_turnstile.loc[:,['YEAR','MONTH','YEAR_DAY','pn_SUM_TRX','pn_SUM_EXP','ratio']], how='left', on=['YEAR','MONTH','YEAR_DAY'])\n",
    "    \n",
    "    #Third merge...\n",
    "    zp_summary = zp_summary.merge(no_turnstile.loc[:,['YEAR','MONTH','YEAR_DAY']], how='outer', on = ['YEAR','MONTH','YEAR_DAY'])\n",
    "    zp_summary = zp_summary.fillna(0)\n",
    "    summary = summary.merge(zp_summary.loc[:,['YEAR','MONTH','YEAR_DAY','zp_SUM_TRX','zp_SUM_TRX_NO_VALIDAS']], how='left', on=['YEAR','MONTH','YEAR_DAY'])\n",
    "    \n",
    "    #Renaming and final sorting...\n",
    "    summary.rename(columns={\"pn_SUM_TRX\": \"pn_SUM_TRX_tm\", \"pn_SUM_EXP\": \"pn_SUM_EXP_tm\", \"ratio\":\"ratio_tm\"}, inplace=True)\n",
    "    summary.sort_values(by=['YEAR','MONTH','YEAR_DAY'], ascending=[True, True, True], inplace=True)\n",
    "    \n",
    "    #Returning\n",
    "    return summary"
   ]
  },
  {
   "cell_type": "markdown",
   "metadata": {},
   "source": [
    "### Estimation"
   ]
  },
  {
   "cell_type": "code",
   "execution_count": 6,
   "metadata": {},
   "outputs": [
    {
     "name": "stderr",
     "output_type": "stream",
     "text": [
      "C:\\Users\\leoca_000\\Anaconda3\\lib\\site-packages\\statsmodels\\compat\\pandas.py:56: FutureWarning: The pandas.core.datetools module is deprecated and will be removed in a future version. Please use the pandas.tseries module instead.\n",
      "  from pandas.core import datetools\n"
     ]
    }
   ],
   "source": [
    "import statsmodels.api as sm"
   ]
  },
  {
   "cell_type": "code",
   "execution_count": null,
   "metadata": {
    "collapsed": true
   },
   "outputs": [],
   "source": [
    "#summary = reOrderingDataFrames()\n",
    "\n",
    "#summary_output_path = os.path.join(DTPM_TRXDir, '1_DAILY_SUMMARY/daily_summary.csv')\n",
    "\n",
    "#summary.to_csv(summary_output_path, sep=\";\", encoding=\"latin-1\")"
   ]
  },
  {
   "cell_type": "code",
   "execution_count": 7,
   "metadata": {
    "collapsed": true
   },
   "outputs": [],
   "source": [
    "summary_input_path = os.path.join(DTPM_TRXDir, '1_DAILY_SUMMARY/daily_summary.csv')\n",
    "summary = pd.read_csv(summary_input_path, sep=\";\", encoding=\"latin-1\")"
   ]
  },
  {
   "cell_type": "code",
   "execution_count": 8,
   "metadata": {
    "collapsed": true
   },
   "outputs": [],
   "source": [
    "no_turnstile_trx = summary.loc[:,'pn_SUM_TRX_no_t'].values\n",
    "three_turnstile_trx = summary.loc[:,'pn_SUM_TRX_3t'].values\n",
    "butterfly_turnstile_trx = summary.loc[:,'pn_SUM_TRX_tm'].values\n",
    "zp_trx = summary.loc[:,'zp_SUM_TRX'].values"
   ]
  },
  {
   "cell_type": "code",
   "execution_count": 9,
   "metadata": {
    "collapsed": true
   },
   "outputs": [],
   "source": [
    "total_trx = [sum(x) for x in zip(no_turnstile_trx, three_turnstile_trx, butterfly_turnstile_trx, zp_trx)]"
   ]
  },
  {
   "cell_type": "code",
   "execution_count": 10,
   "metadata": {
    "collapsed": true
   },
   "outputs": [],
   "source": [
    "variables_independientes = summary.loc[:, ['SATURDAY', 'SUNDAY', 'ratio_tm', 'Buses', 'Estudiantes Ed. Media/Superior', \n",
    "                                                'kms_ofertados', 'Enero', 'Febrero', 'Julio', 'Nov_2017', 'Dic_2017',\n",
    "                                                't', 'Feriado_laboral', 'Feriado_no_laboral', 'Censo_Elecciones', 'Partido',\n",
    "                                                'FDS_Largo', 'Disturbios', 'Corte_Metro', 'Retraso_Metro', 'Incidente_Metro',\n",
    "                                                'Bucle', 'Clima', 'visperas_laborales']]"
   ]
  },
  {
   "cell_type": "code",
   "execution_count": 11,
   "metadata": {
    "collapsed": true
   },
   "outputs": [],
   "source": [
    "variables_independientes.loc[:,'Verano'] =  variables_independientes.loc[:,'Enero'] + variables_independientes.loc[:,'Febrero']"
   ]
  },
  {
   "cell_type": "code",
   "execution_count": 12,
   "metadata": {
    "collapsed": true
   },
   "outputs": [],
   "source": [
    "variables_independientes.loc[:,'Nov_Dic_2017'] = variables_independientes.loc[:,'Nov_2017'] + variables_independientes.loc[:,'Dic_2017']"
   ]
  },
  {
   "cell_type": "markdown",
   "metadata": {},
   "source": [
    "### FIRST MODEL"
   ]
  },
  {
   "cell_type": "markdown",
   "metadata": {},
   "source": [
    "Estimado por OLS.\n",
    "<br>\n",
    "<strong>Y</strong>:<br>\n",
    " 'total de transacciones'\n",
    "<br>\n",
    "<strong>X</strong>: <br>\n",
    "'SATURDAY',<br>\n",
    " 'SUNDAY',<br>\n",
    " 'ratio',<br>\n",
    " 'kms_ofertados',<br>\n",
    " 'Verano',<br>\n",
    " 'Julio',<br>\n",
    " 'Nov_Dic_2017',<br>\n",
    " 't',<br>\n",
    " 'Feriado_laboral',<br>\n",
    " 'Feriado_no_laboral',<br>\n",
    " 'Censo_Elecciones',<br>\n",
    " 'Partido',<br>\n",
    " 'FDS_Largo',<br>\n",
    " 'Disturbios',<br>\n",
    " 'Bucle',<br>\n",
    " 'Clima',<br>\n",
    " 'visperas_laborales'"
   ]
  },
  {
   "cell_type": "code",
   "execution_count": 13,
   "metadata": {
    "collapsed": true
   },
   "outputs": [],
   "source": [
    "Y = total_trx\n",
    "X = variables_independientes.loc[:,['SATURDAY', 'SUNDAY', 'ratio_tm', 'kms_ofertados', 'Verano', 'Julio', 'Nov_Dic_2017',\n",
    "                                                't', 'Feriado_laboral', 'Feriado_no_laboral', 'Censo_Elecciones', 'Partido',\n",
    "                                                'FDS_Largo', 'Disturbios','Bucle', 'Clima', 'visperas_laborales']]"
   ]
  },
  {
   "cell_type": "code",
   "execution_count": 14,
   "metadata": {
    "collapsed": true
   },
   "outputs": [],
   "source": [
    "X = sm.add_constant(X)"
   ]
  },
  {
   "cell_type": "code",
   "execution_count": 15,
   "metadata": {
    "collapsed": true
   },
   "outputs": [],
   "source": [
    "model = sm.OLS(Y, X)"
   ]
  },
  {
   "cell_type": "code",
   "execution_count": 17,
   "metadata": {},
   "outputs": [
    {
     "name": "stdout",
     "output_type": "stream",
     "text": [
      "                            OLS Regression Results                            \n",
      "==============================================================================\n",
      "Dep. Variable:                      y   R-squared:                       0.952\n",
      "Model:                            OLS   Adj. R-squared:                  0.951\n",
      "Method:                 Least Squares   F-statistic:                     1255.\n",
      "Date:                Thu, 01 Mar 2018   Prob (F-statistic):               0.00\n",
      "Time:                        15:25:03   Log-Likelihood:                -14842.\n",
      "No. Observations:                1096   AIC:                         2.972e+04\n",
      "Df Residuals:                    1078   BIC:                         2.981e+04\n",
      "Df Model:                          17                                         \n",
      "Covariance Type:            nonrobust                                         \n",
      "======================================================================================\n",
      "                         coef    std err          t      P>|t|      [0.025      0.975]\n",
      "--------------------------------------------------------------------------------------\n",
      "const               3.049e+06   3.33e+04     91.665      0.000    2.98e+06    3.11e+06\n",
      "SATURDAY           -1.291e+06   1.76e+04    -73.227      0.000   -1.33e+06   -1.26e+06\n",
      "SUNDAY             -1.874e+06   1.92e+04    -97.804      0.000   -1.91e+06   -1.84e+06\n",
      "ratio_tm            7546.4269   1083.357      6.966      0.000    5420.699    9672.155\n",
      "kms_ofertados          0.1127      0.018      6.128      0.000       0.077       0.149\n",
      "Verano             -4.763e+05   1.62e+04    -29.395      0.000   -5.08e+05   -4.45e+05\n",
      "Julio              -1.634e+05   2.05e+04     -7.963      0.000   -2.04e+05   -1.23e+05\n",
      "Nov_Dic_2017        2.694e+04   3.15e+04      0.856      0.392   -3.48e+04    8.87e+04\n",
      "t                   -380.6367     33.913    -11.224      0.000    -447.181    -314.093\n",
      "Feriado_laboral    -1.653e+06   4.02e+04    -41.066      0.000   -1.73e+06   -1.57e+06\n",
      "Feriado_no_laboral  -2.06e+05    4.1e+04     -5.025      0.000   -2.86e+05   -1.26e+05\n",
      "Censo_Elecciones   -1.916e+05   9.51e+04     -2.014      0.044   -3.78e+05   -4963.869\n",
      "Partido            -1.867e+05   7.64e+04     -2.442      0.015   -3.37e+05   -3.67e+04\n",
      "FDS_Largo          -1.184e+05   2.72e+04     -4.358      0.000   -1.72e+05   -6.51e+04\n",
      "Disturbios          -2.47e+05   7.63e+04     -3.237      0.001   -3.97e+05   -9.73e+04\n",
      "Bucle               1.928e+04   2.45e+04      0.788      0.431   -2.87e+04    6.73e+04\n",
      "Clima              -3.077e+05   4.56e+04     -6.745      0.000   -3.97e+05   -2.18e+05\n",
      "visperas_laborales -4.127e+05   6.25e+04     -6.598      0.000   -5.35e+05    -2.9e+05\n",
      "==============================================================================\n",
      "Omnibus:                      424.236   Durbin-Watson:                   1.388\n",
      "Prob(Omnibus):                  0.000   Jarque-Bera (JB):             8408.186\n",
      "Skew:                           1.277   Prob(JB):                         0.00\n",
      "Kurtosis:                      16.327   Cond. No.                     2.24e+07\n",
      "==============================================================================\n",
      "\n",
      "Warnings:\n",
      "[1] Standard Errors assume that the covariance matrix of the errors is correctly specified.\n",
      "[2] The condition number is large, 2.24e+07. This might indicate that there are\n",
      "strong multicollinearity or other numerical problems.\n"
     ]
    }
   ],
   "source": [
    "results = model.fit()\n",
    "print(results.summary())"
   ]
  },
  {
   "cell_type": "markdown",
   "metadata": {},
   "source": [
    "### SECOND MODEL"
   ]
  },
  {
   "cell_type": "markdown",
   "metadata": {},
   "source": [
    "Estimado por OLS.\n",
    "<br>\n",
    "<strong>Y</strong>:<br>\n",
    " 'total de transacciones'\n",
    "<br>\n",
    "<strong>X</strong>: <br>\n",
    "'SATURDAY',<br>\n",
    " 'SUNDAY',<br>\n",
    " 'ratio',<br>\n",
    " 'kms_ofertados',<br>\n",
    " 'Verano',<br>\n",
    " 'Julio',<br>\n",
    " 't',<br>\n",
    " 'Feriado_laboral',<br>\n",
    " 'Feriado_no_laboral',<br>\n",
    " 'Censo_Elecciones',<br>\n",
    " 'Partido',<br>\n",
    " 'FDS_Largo',<br>\n",
    " 'Disturbios',<br>\n",
    " 'Clima',<br>\n",
    " 'visperas_laborales'<br> \n",
    "<strong>Omitidas</strong>: <br>\n",
    " 'Nov_Dic_2017',<br>\n",
    " 'Bucle'"
   ]
  },
  {
   "cell_type": "code",
   "execution_count": 18,
   "metadata": {
    "collapsed": true
   },
   "outputs": [],
   "source": [
    "Y = total_trx\n",
    "X = variables_independientes.loc[:,['SATURDAY', 'SUNDAY', 'ratio_tm', 'kms_ofertados', 'Verano', 'Julio',\n",
    "                                                't', 'Feriado_laboral', 'Feriado_no_laboral', 'Censo_Elecciones', 'Partido',\n",
    "                                                'FDS_Largo', 'Disturbios', 'Clima', 'visperas_laborales']]"
   ]
  },
  {
   "cell_type": "code",
   "execution_count": 19,
   "metadata": {
    "collapsed": true
   },
   "outputs": [],
   "source": [
    "X = sm.add_constant(X)"
   ]
  },
  {
   "cell_type": "code",
   "execution_count": 20,
   "metadata": {
    "collapsed": true
   },
   "outputs": [],
   "source": [
    "model = sm.OLS(Y, X)"
   ]
  },
  {
   "cell_type": "code",
   "execution_count": 21,
   "metadata": {
    "scrolled": false
   },
   "outputs": [
    {
     "name": "stdout",
     "output_type": "stream",
     "text": [
      "                            OLS Regression Results                            \n",
      "==============================================================================\n",
      "Dep. Variable:                      y   R-squared:                       0.952\n",
      "Model:                            OLS   Adj. R-squared:                  0.951\n",
      "Method:                 Least Squares   F-statistic:                     1423.\n",
      "Date:                Thu, 01 Mar 2018   Prob (F-statistic):               0.00\n",
      "Time:                        15:25:12   Log-Likelihood:                -14843.\n",
      "No. Observations:                1096   AIC:                         2.972e+04\n",
      "Df Residuals:                    1080   BIC:                         2.980e+04\n",
      "Df Model:                          15                                         \n",
      "Covariance Type:            nonrobust                                         \n",
      "======================================================================================\n",
      "                         coef    std err          t      P>|t|      [0.025      0.975]\n",
      "--------------------------------------------------------------------------------------\n",
      "const               3.053e+06   3.31e+04     92.338      0.000    2.99e+06    3.12e+06\n",
      "SATURDAY           -1.292e+06   1.76e+04    -73.391      0.000   -1.33e+06   -1.26e+06\n",
      "SUNDAY             -1.876e+06   1.91e+04    -98.238      0.000   -1.91e+06   -1.84e+06\n",
      "ratio_tm            8030.3190    929.217      8.642      0.000    6207.043    9853.595\n",
      "kms_ofertados          0.1123      0.018      6.111      0.000       0.076       0.148\n",
      "Verano              -4.77e+05   1.62e+04    -29.477      0.000   -5.09e+05   -4.45e+05\n",
      "Julio              -1.658e+05   2.04e+04     -8.136      0.000   -2.06e+05   -1.26e+05\n",
      "t                   -387.9495     33.090    -11.724      0.000    -452.877    -323.022\n",
      "Feriado_laboral    -1.654e+06   4.02e+04    -41.131      0.000   -1.73e+06   -1.58e+06\n",
      "Feriado_no_laboral -2.058e+05    4.1e+04     -5.021      0.000   -2.86e+05   -1.25e+05\n",
      "Censo_Elecciones   -1.843e+05   9.47e+04     -1.946      0.052    -3.7e+05    1494.251\n",
      "Partido            -1.881e+05   7.64e+04     -2.461      0.014   -3.38e+05   -3.81e+04\n",
      "FDS_Largo          -1.183e+05   2.72e+04     -4.356      0.000   -1.72e+05    -6.5e+04\n",
      "Disturbios         -2.464e+05   7.62e+04     -3.233      0.001   -3.96e+05   -9.69e+04\n",
      "Clima              -3.072e+05   4.56e+04     -6.740      0.000   -3.97e+05   -2.18e+05\n",
      "visperas_laborales -4.115e+05   6.24e+04     -6.591      0.000   -5.34e+05   -2.89e+05\n",
      "==============================================================================\n",
      "Omnibus:                      421.378   Durbin-Watson:                   1.385\n",
      "Prob(Omnibus):                  0.000   Jarque-Bera (JB):             8329.798\n",
      "Skew:                           1.266   Prob(JB):                         0.00\n",
      "Kurtosis:                      16.266   Cond. No.                     2.23e+07\n",
      "==============================================================================\n",
      "\n",
      "Warnings:\n",
      "[1] Standard Errors assume that the covariance matrix of the errors is correctly specified.\n",
      "[2] The condition number is large, 2.23e+07. This might indicate that there are\n",
      "strong multicollinearity or other numerical problems.\n"
     ]
    }
   ],
   "source": [
    "results = model.fit()\n",
    "print(results.summary())"
   ]
  },
  {
   "cell_type": "markdown",
   "metadata": {
    "collapsed": true
   },
   "source": [
    "### THIRD MODEL"
   ]
  },
  {
   "cell_type": "markdown",
   "metadata": {},
   "source": [
    "Estimado por OLS.\n",
    "<br>\n",
    "<strong>Y</strong>:<br>\n",
    " 'total de transacciones'\n",
    "<br>\n",
    "<strong>X</strong>: <br>\n",
    "'SATURDAY',<br>\n",
    " 'SUNDAY',<br>\n",
    " 'ratio',<br>\n",
    " 'kms_ofertados',<br>\n",
    " 'Verano',<br>\n",
    " 'Julio',<br>\n",
    " 'Feriado_laboral',<br>\n",
    " 'Feriado_no_laboral',<br>\n",
    " 'Censo_Elecciones',<br>\n",
    " 'Partido',<br>\n",
    " 'FDS_Largo',<br>\n",
    " 'Disturbios',<br>\n",
    " 'Clima',<br>\n",
    " 'visperas_laborales'<br> \n",
    "<strong>Omitidas</strong>: <br>\n",
    " 't',<br>\n",
    " 'Nov_Dic_2017',<br>\n",
    " 'Bucle'"
   ]
  },
  {
   "cell_type": "code",
   "execution_count": 23,
   "metadata": {
    "collapsed": true
   },
   "outputs": [],
   "source": [
    "Y = total_trx\n",
    "X = variables_independientes.loc[:,['SATURDAY', 'SUNDAY', 'ratio_tm', 'kms_ofertados', 'Verano', 'Julio',\n",
    "                                                'Feriado_laboral', 'Feriado_no_laboral', 'Censo_Elecciones', 'Partido',\n",
    "                                                'FDS_Largo', 'Disturbios', 'Clima', 'visperas_laborales']]"
   ]
  },
  {
   "cell_type": "code",
   "execution_count": 24,
   "metadata": {
    "collapsed": true
   },
   "outputs": [],
   "source": [
    "X = sm.add_constant(X)"
   ]
  },
  {
   "cell_type": "code",
   "execution_count": 25,
   "metadata": {
    "collapsed": true
   },
   "outputs": [],
   "source": [
    "model = sm.OLS(Y, X)"
   ]
  },
  {
   "cell_type": "code",
   "execution_count": 26,
   "metadata": {},
   "outputs": [
    {
     "name": "stdout",
     "output_type": "stream",
     "text": [
      "                            OLS Regression Results                            \n",
      "==============================================================================\n",
      "Dep. Variable:                      y   R-squared:                       0.946\n",
      "Model:                            OLS   Adj. R-squared:                  0.945\n",
      "Method:                 Least Squares   F-statistic:                     1345.\n",
      "Date:                Thu, 01 Mar 2018   Prob (F-statistic):               0.00\n",
      "Time:                        15:27:00   Log-Likelihood:                -14909.\n",
      "No. Observations:                1096   AIC:                         2.985e+04\n",
      "Df Residuals:                    1081   BIC:                         2.992e+04\n",
      "Df Model:                          14                                         \n",
      "Covariance Type:            nonrobust                                         \n",
      "======================================================================================\n",
      "                         coef    std err          t      P>|t|      [0.025      0.975]\n",
      "--------------------------------------------------------------------------------------\n",
      "const               2.832e+06   2.88e+04     98.314      0.000    2.78e+06    2.89e+06\n",
      "SATURDAY           -1.278e+06   1.86e+04    -68.548      0.000   -1.31e+06   -1.24e+06\n",
      "SUNDAY             -1.849e+06   2.01e+04    -91.908      0.000   -1.89e+06   -1.81e+06\n",
      "ratio_tm            -891.3657    565.923     -1.575      0.116   -2001.798     219.067\n",
      "kms_ofertados          0.1644      0.019      8.688      0.000       0.127       0.202\n",
      "Verano             -4.565e+05   1.71e+04    -26.739      0.000    -4.9e+05   -4.23e+05\n",
      "Julio              -1.614e+05   2.16e+04     -7.464      0.000   -2.04e+05   -1.19e+05\n",
      "Feriado_laboral     -1.64e+06   4.27e+04    -38.448      0.000   -1.72e+06   -1.56e+06\n",
      "Feriado_no_laboral -2.157e+05   4.35e+04     -4.961      0.000   -3.01e+05    -1.3e+05\n",
      "Censo_Elecciones   -1.892e+05      1e+05     -1.883      0.060   -3.86e+05    7944.523\n",
      "Partido            -1.283e+05   8.09e+04     -1.586      0.113   -2.87e+05    3.04e+04\n",
      "FDS_Largo          -9.759e+04   2.88e+04     -3.392      0.001   -1.54e+05   -4.11e+04\n",
      "Disturbios         -2.383e+05   8.09e+04     -2.947      0.003   -3.97e+05   -7.96e+04\n",
      "Clima              -3.195e+05   4.84e+04     -6.608      0.000   -4.14e+05   -2.25e+05\n",
      "visperas_laborales -4.051e+05   6.63e+04     -6.114      0.000   -5.35e+05   -2.75e+05\n",
      "==============================================================================\n",
      "Omnibus:                      350.271   Durbin-Watson:                   1.229\n",
      "Prob(Omnibus):                  0.000   Jarque-Bera (JB):             4784.705\n",
      "Skew:                           1.076   Prob(JB):                         0.00\n",
      "Kurtosis:                      13.007   Cond. No.                     2.23e+07\n",
      "==============================================================================\n",
      "\n",
      "Warnings:\n",
      "[1] Standard Errors assume that the covariance matrix of the errors is correctly specified.\n",
      "[2] The condition number is large, 2.23e+07. This might indicate that there are\n",
      "strong multicollinearity or other numerical problems.\n"
     ]
    }
   ],
   "source": [
    "results = model.fit()\n",
    "print(results.summary())"
   ]
  },
  {
   "cell_type": "markdown",
   "metadata": {},
   "source": [
    "### FOURTH MODEL"
   ]
  },
  {
   "cell_type": "markdown",
   "metadata": {},
   "source": [
    "Estimado por OLS.\n",
    "<br>\n",
    "<strong>Y</strong>:<br>\n",
    " 'total de transacciones'\n",
    "<br>\n",
    "<strong>X</strong>: <br>\n",
    "'SATURDAY',<br>\n",
    " 'SUNDAY',<br>\n",
    " 'ratio',<br>\n",
    " 'kms_ofertados',<br>\n",
    " 'Verano',<br>\n",
    " 'Julio',<br>\n",
    " 'Feriado_laboral',<br>\n",
    " 'Feriado_no_laboral',<br>\n",
    " 'Censo_Elecciones',<br>\n",
    " 'FDS_Largo',<br>\n",
    " 'Disturbios',<br>\n",
    " 'Clima',<br>\n",
    " 'visperas_laborales'<br> \n",
    "<strong>Omitidas</strong>: <br>\n",
    " 't',<br>\n",
    " 'Nov_Dic_2017',<br>\n",
    " 'Partido',<br>\n",
    " 'Bucle'"
   ]
  },
  {
   "cell_type": "code",
   "execution_count": 27,
   "metadata": {
    "collapsed": true
   },
   "outputs": [],
   "source": [
    "Y = total_trx\n",
    "X = variables_independientes.loc[:,['SATURDAY', 'SUNDAY', 'ratio_tm', 'kms_ofertados', 'Verano', 'Julio',\n",
    "                                                'Feriado_laboral', 'Feriado_no_laboral', 'Censo_Elecciones',\n",
    "                                                'FDS_Largo', 'Disturbios', 'Clima', 'visperas_laborales']]"
   ]
  },
  {
   "cell_type": "code",
   "execution_count": 28,
   "metadata": {
    "collapsed": true
   },
   "outputs": [],
   "source": [
    "X = sm.add_constant(X)"
   ]
  },
  {
   "cell_type": "code",
   "execution_count": 29,
   "metadata": {
    "collapsed": true
   },
   "outputs": [],
   "source": [
    "model = sm.OLS(Y, X)"
   ]
  },
  {
   "cell_type": "code",
   "execution_count": 30,
   "metadata": {},
   "outputs": [
    {
     "name": "stdout",
     "output_type": "stream",
     "text": [
      "                            OLS Regression Results                            \n",
      "==============================================================================\n",
      "Dep. Variable:                      y   R-squared:                       0.946\n",
      "Model:                            OLS   Adj. R-squared:                  0.945\n",
      "Method:                 Least Squares   F-statistic:                     1446.\n",
      "Date:                Thu, 01 Mar 2018   Prob (F-statistic):               0.00\n",
      "Time:                        15:27:01   Log-Likelihood:                -14910.\n",
      "No. Observations:                1096   AIC:                         2.985e+04\n",
      "Df Residuals:                    1082   BIC:                         2.992e+04\n",
      "Df Model:                          13                                         \n",
      "Covariance Type:            nonrobust                                         \n",
      "======================================================================================\n",
      "                         coef    std err          t      P>|t|      [0.025      0.975]\n",
      "--------------------------------------------------------------------------------------\n",
      "const                2.83e+06   2.88e+04     98.248      0.000    2.77e+06    2.89e+06\n",
      "SATURDAY           -1.277e+06   1.87e+04    -68.492      0.000   -1.31e+06   -1.24e+06\n",
      "SUNDAY             -1.849e+06   2.01e+04    -91.839      0.000   -1.89e+06   -1.81e+06\n",
      "ratio_tm            -839.1295    565.359     -1.484      0.138   -1948.454     270.195\n",
      "kms_ofertados          0.1646      0.019      8.694      0.000       0.127       0.202\n",
      "Verano             -4.553e+05   1.71e+04    -26.677      0.000   -4.89e+05   -4.22e+05\n",
      "Julio              -1.621e+05   2.16e+04     -7.488      0.000   -2.05e+05    -1.2e+05\n",
      "Feriado_laboral    -1.638e+06   4.27e+04    -38.389      0.000   -1.72e+06   -1.55e+06\n",
      "Feriado_no_laboral -2.142e+05   4.35e+04     -4.922      0.000      -3e+05   -1.29e+05\n",
      "Censo_Elecciones   -1.897e+05   1.01e+05     -1.887      0.059   -3.87e+05    7599.975\n",
      "FDS_Largo          -9.944e+04   2.88e+04     -3.457      0.001   -1.56e+05    -4.3e+04\n",
      "Disturbios         -2.375e+05   8.09e+04     -2.934      0.003   -3.96e+05   -7.87e+04\n",
      "Clima              -3.187e+05   4.84e+04     -6.586      0.000   -4.14e+05   -2.24e+05\n",
      "visperas_laborales -4.045e+05   6.63e+04     -6.101      0.000   -5.35e+05   -2.74e+05\n",
      "==============================================================================\n",
      "Omnibus:                      349.950   Durbin-Watson:                   1.227\n",
      "Prob(Omnibus):                  0.000   Jarque-Bera (JB):             4740.326\n",
      "Skew:                           1.077   Prob(JB):                         0.00\n",
      "Kurtosis:                      12.958   Cond. No.                     2.23e+07\n",
      "==============================================================================\n",
      "\n",
      "Warnings:\n",
      "[1] Standard Errors assume that the covariance matrix of the errors is correctly specified.\n",
      "[2] The condition number is large, 2.23e+07. This might indicate that there are\n",
      "strong multicollinearity or other numerical problems.\n"
     ]
    }
   ],
   "source": [
    "results = model.fit()\n",
    "print(results.summary())"
   ]
  },
  {
   "cell_type": "markdown",
   "metadata": {},
   "source": [
    "### FIFTH MODEL"
   ]
  },
  {
   "cell_type": "markdown",
   "metadata": {},
   "source": [
    "Estimado por OLS.\n",
    "<br>\n",
    "<strong>Y</strong>:<br>\n",
    " 'total de transacciones'\n",
    "<br>\n",
    "<strong>X</strong>: <br>\n",
    "'SATURDAY',<br>\n",
    " 'SUNDAY',<br>\n",
    " 'ratio',<br>\n",
    " 'Verano',<br>\n",
    " 'Julio',<br>\n",
    " 'Feriado_laboral',<br>\n",
    " 'Feriado_no_laboral',<br>\n",
    " 'Censo_Elecciones',<br>\n",
    " 'FDS_Largo',<br>\n",
    " 'Disturbios',<br>\n",
    " 'Clima',<br>\n",
    " 'visperas_laborales'<br> \n",
    "<strong>Omitidas</strong>: <br>\n",
    " 't',<br>\n",
    " 'kms_ofertados',<br>\n",
    " 'Nov_Dic_2017',<br>\n",
    " 'Partido',<br>\n",
    " 'Bucle'"
   ]
  },
  {
   "cell_type": "code",
   "execution_count": 31,
   "metadata": {
    "collapsed": true
   },
   "outputs": [],
   "source": [
    "Y = total_trx\n",
    "X = variables_independientes.loc[:,['SATURDAY', 'SUNDAY', 'ratio_tm','Verano', 'Julio',\n",
    "                                                'Feriado_laboral', 'Feriado_no_laboral', 'Censo_Elecciones',\n",
    "                                                'FDS_Largo', 'Disturbios', 'Clima', 'visperas_laborales']]"
   ]
  },
  {
   "cell_type": "code",
   "execution_count": 32,
   "metadata": {
    "collapsed": true
   },
   "outputs": [],
   "source": [
    "X = sm.add_constant(X)"
   ]
  },
  {
   "cell_type": "code",
   "execution_count": 33,
   "metadata": {
    "collapsed": true
   },
   "outputs": [],
   "source": [
    "model = sm.OLS(Y, X)"
   ]
  },
  {
   "cell_type": "code",
   "execution_count": 34,
   "metadata": {},
   "outputs": [
    {
     "name": "stdout",
     "output_type": "stream",
     "text": [
      "                            OLS Regression Results                            \n",
      "==============================================================================\n",
      "Dep. Variable:                      y   R-squared:                       0.942\n",
      "Model:                            OLS   Adj. R-squared:                  0.941\n",
      "Method:                 Least Squares   F-statistic:                     1460.\n",
      "Date:                Thu, 01 Mar 2018   Prob (F-statistic):               0.00\n",
      "Time:                        15:27:03   Log-Likelihood:                -14947.\n",
      "No. Observations:                1096   AIC:                         2.992e+04\n",
      "Df Residuals:                    1083   BIC:                         2.998e+04\n",
      "Df Model:                          12                                         \n",
      "Covariance Type:            nonrobust                                         \n",
      "======================================================================================\n",
      "                         coef    std err          t      P>|t|      [0.025      0.975]\n",
      "--------------------------------------------------------------------------------------\n",
      "const               3.067e+06   9721.190    315.495      0.000    3.05e+06    3.09e+06\n",
      "SATURDAY           -1.315e+06   1.88e+04    -70.138      0.000   -1.35e+06   -1.28e+06\n",
      "SUNDAY             -1.915e+06   1.92e+04    -99.600      0.000   -1.95e+06   -1.88e+06\n",
      "ratio_tm           -1668.0920    576.128     -2.895      0.004   -2798.546    -537.638\n",
      "Verano              -4.81e+05   1.74e+04    -27.676      0.000   -5.15e+05   -4.47e+05\n",
      "Julio              -1.662e+05   2.24e+04     -7.429      0.000    -2.1e+05   -1.22e+05\n",
      "Feriado_laboral    -1.684e+06   4.38e+04    -38.469      0.000   -1.77e+06    -1.6e+06\n",
      "Feriado_no_laboral -2.449e+05   4.48e+04     -5.463      0.000   -3.33e+05   -1.57e+05\n",
      "Censo_Elecciones   -1.992e+05   1.04e+05     -1.917      0.056   -4.03e+05    4735.455\n",
      "FDS_Largo          -1.033e+05   2.97e+04     -3.474      0.001   -1.62e+05    -4.5e+04\n",
      "Disturbios         -2.516e+05   8.36e+04     -3.008      0.003   -4.16e+05   -8.74e+04\n",
      "Clima              -3.279e+05      5e+04     -6.556      0.000   -4.26e+05    -2.3e+05\n",
      "visperas_laborales -4.278e+05   6.85e+04     -6.247      0.000   -5.62e+05   -2.93e+05\n",
      "==============================================================================\n",
      "Omnibus:                      411.436   Durbin-Watson:                   1.201\n",
      "Prob(Omnibus):                  0.000   Jarque-Bera (JB):             6247.233\n",
      "Skew:                           1.304   Prob(JB):                         0.00\n",
      "Kurtosis:                      14.402   Cond. No.                         229.\n",
      "==============================================================================\n",
      "\n",
      "Warnings:\n",
      "[1] Standard Errors assume that the covariance matrix of the errors is correctly specified.\n"
     ]
    }
   ],
   "source": [
    "results = model.fit()\n",
    "print(results.summary())"
   ]
  },
  {
   "cell_type": "markdown",
   "metadata": {},
   "source": [
    "### SIXTH MODEL"
   ]
  },
  {
   "cell_type": "markdown",
   "metadata": {},
   "source": [
    "Estimado por OLS.\n",
    "<br>\n",
    "<strong>Y</strong>:<br>\n",
    " 'total de transacciones'\n",
    "<br>\n",
    "<strong>X</strong>: <br>\n",
    "'SATURDAY',<br>\n",
    " 'SUNDAY',<br>\n",
    " 'ratio',<br>\n",
    " 'kms_ofertados',<br>\n",
    " 'Verano',<br>\n",
    " 'Julio',<br>\n",
    " 't',<br>\n",
    " 'Feriado_laboral',<br>\n",
    " 'Feriado_no_laboral',<br>\n",
    " 'Partido',<br>\n",
    " 'FDS_Largo',<br>\n",
    " 'Disturbios',<br>\n",
    " 'Clima',<br>\n",
    " 'visperas_laborales'<br> \n",
    "<strong>Omitidas</strong>: <br>\n",
    " 'Nov_Dic_2017',<br>\n",
    " 'Bucle',<br>\n",
    " 'Censo_Elecciones'"
   ]
  },
  {
   "cell_type": "code",
   "execution_count": 35,
   "metadata": {
    "collapsed": true
   },
   "outputs": [],
   "source": [
    "Y = total_trx\n",
    "X = variables_independientes.loc[:,['SATURDAY', 'SUNDAY', 'ratio_tm', 'kms_ofertados', 'Verano', 'Julio',\n",
    "                                                't', 'Feriado_laboral', 'Feriado_no_laboral', 'Partido',\n",
    "                                                'FDS_Largo', 'Disturbios', 'Clima', 'visperas_laborales']]"
   ]
  },
  {
   "cell_type": "code",
   "execution_count": 36,
   "metadata": {
    "collapsed": true
   },
   "outputs": [],
   "source": [
    "X = sm.add_constant(X)"
   ]
  },
  {
   "cell_type": "code",
   "execution_count": 37,
   "metadata": {
    "collapsed": true
   },
   "outputs": [],
   "source": [
    "model = sm.OLS(Y, X)"
   ]
  },
  {
   "cell_type": "code",
   "execution_count": 38,
   "metadata": {},
   "outputs": [
    {
     "name": "stdout",
     "output_type": "stream",
     "text": [
      "                            OLS Regression Results                            \n",
      "==============================================================================\n",
      "Dep. Variable:                      y   R-squared:                       0.952\n",
      "Model:                            OLS   Adj. R-squared:                  0.951\n",
      "Method:                 Least Squares   F-statistic:                     1521.\n",
      "Date:                Thu, 01 Mar 2018   Prob (F-statistic):               0.00\n",
      "Time:                        15:28:53   Log-Likelihood:                -14845.\n",
      "No. Observations:                1096   AIC:                         2.972e+04\n",
      "Df Residuals:                    1081   BIC:                         2.979e+04\n",
      "Df Model:                          14                                         \n",
      "Covariance Type:            nonrobust                                         \n",
      "======================================================================================\n",
      "                         coef    std err          t      P>|t|      [0.025      0.975]\n",
      "--------------------------------------------------------------------------------------\n",
      "const               3.053e+06   3.31e+04     92.217      0.000    2.99e+06    3.12e+06\n",
      "SATURDAY           -1.293e+06   1.76e+04    -73.378      0.000   -1.33e+06   -1.26e+06\n",
      "SUNDAY             -1.881e+06    1.9e+04    -99.073      0.000   -1.92e+06   -1.84e+06\n",
      "ratio_tm            7964.4451    929.798      8.566      0.000    6140.033    9788.858\n",
      "kms_ofertados          0.1126      0.018      6.121      0.000       0.077       0.149\n",
      "Verano             -4.763e+05   1.62e+04    -29.403      0.000   -5.08e+05   -4.44e+05\n",
      "Julio              -1.647e+05   2.04e+04     -8.075      0.000   -2.05e+05   -1.25e+05\n",
      "t                   -388.2352     33.132    -11.718      0.000    -453.246    -323.225\n",
      "Feriado_laboral    -1.664e+06      4e+04    -41.649      0.000   -1.74e+06   -1.59e+06\n",
      "Feriado_no_laboral -2.045e+05    4.1e+04     -4.984      0.000   -2.85e+05   -1.24e+05\n",
      "Partido            -1.885e+05   7.65e+04     -2.465      0.014   -3.39e+05   -3.84e+04\n",
      "FDS_Largo          -1.125e+05    2.7e+04     -4.163      0.000   -1.66e+05   -5.95e+04\n",
      "Disturbios         -2.446e+05   7.63e+04     -3.206      0.001   -3.94e+05   -9.49e+04\n",
      "Clima              -3.058e+05   4.56e+04     -6.701      0.000   -3.95e+05   -2.16e+05\n",
      "visperas_laborales -4.108e+05   6.25e+04     -6.571      0.000   -5.33e+05   -2.88e+05\n",
      "==============================================================================\n",
      "Omnibus:                      418.926   Durbin-Watson:                   1.389\n",
      "Prob(Omnibus):                  0.000   Jarque-Bera (JB):             8553.632\n",
      "Skew:                           1.245   Prob(JB):                         0.00\n",
      "Kurtosis:                      16.457   Cond. No.                     1.80e+07\n",
      "==============================================================================\n",
      "\n",
      "Warnings:\n",
      "[1] Standard Errors assume that the covariance matrix of the errors is correctly specified.\n",
      "[2] The condition number is large, 1.8e+07. This might indicate that there are\n",
      "strong multicollinearity or other numerical problems.\n"
     ]
    }
   ],
   "source": [
    "results = model.fit()\n",
    "print(results.summary())"
   ]
  },
  {
   "cell_type": "code",
   "execution_count": 40,
   "metadata": {},
   "outputs": [
    {
     "name": "stdout",
     "output_type": "stream",
     "text": [
      "\\begin{center}\n",
      "\\begin{tabular}{lclc}\n",
      "\\toprule\n",
      "\\textbf{Dep. Variable:}       &        y         & \\textbf{  R-squared:         } &     0.952   \\\\\n",
      "\\textbf{Model:}               &       OLS        & \\textbf{  Adj. R-squared:    } &     0.951   \\\\\n",
      "\\textbf{Method:}              &  Least Squares   & \\textbf{  F-statistic:       } &     1521.   \\\\\n",
      "\\textbf{Date:}                & Thu, 01 Mar 2018 & \\textbf{  Prob (F-statistic):} &     0.00    \\\\\n",
      "\\textbf{Time:}                &     15:31:55     & \\textbf{  Log-Likelihood:    } &   -14845.   \\\\\n",
      "\\textbf{No. Observations:}    &        1096      & \\textbf{  AIC:               } & 2.972e+04   \\\\\n",
      "\\textbf{Df Residuals:}        &        1081      & \\textbf{  BIC:               } & 2.979e+04   \\\\\n",
      "\\textbf{Df Model:}            &          14      & \\textbf{                     } &             \\\\\n",
      "\\bottomrule\n",
      "\\end{tabular}\n",
      "\\begin{tabular}{lcccccc}\n",
      "                              & \\textbf{coef} & \\textbf{std err} & \\textbf{t} & \\textbf{P$>$$|$t$|$} & \\textbf{[0.025} & \\textbf{0.975]}  \\\\\n",
      "\\midrule\n",
      "\\textbf{const}                &    3.053e+06  &     3.31e+04     &    92.217  &         0.000        &     2.99e+06    &     3.12e+06     \\\\\n",
      "\\textbf{SATURDAY}             &   -1.293e+06  &     1.76e+04     &   -73.378  &         0.000        &    -1.33e+06    &    -1.26e+06     \\\\\n",
      "\\textbf{SUNDAY}               &   -1.881e+06  &      1.9e+04     &   -99.073  &         0.000        &    -1.92e+06    &    -1.84e+06     \\\\\n",
      "\\textbf{ratio\\_tm}            &    7964.4451  &      929.798     &     8.566  &         0.000        &     6140.033    &     9788.858     \\\\\n",
      "\\textbf{kms\\_ofertados}       &       0.1126  &        0.018     &     6.121  &         0.000        &        0.077    &        0.149     \\\\\n",
      "\\textbf{Verano}               &   -4.763e+05  &     1.62e+04     &   -29.403  &         0.000        &    -5.08e+05    &    -4.44e+05     \\\\\n",
      "\\textbf{Julio}                &   -1.647e+05  &     2.04e+04     &    -8.075  &         0.000        &    -2.05e+05    &    -1.25e+05     \\\\\n",
      "\\textbf{t}                    &    -388.2352  &       33.132     &   -11.718  &         0.000        &     -453.246    &     -323.225     \\\\\n",
      "\\textbf{Feriado\\_laboral}     &   -1.664e+06  &        4e+04     &   -41.649  &         0.000        &    -1.74e+06    &    -1.59e+06     \\\\\n",
      "\\textbf{Feriado\\_no\\_laboral} &   -2.045e+05  &      4.1e+04     &    -4.984  &         0.000        &    -2.85e+05    &    -1.24e+05     \\\\\n",
      "\\textbf{Partido}              &   -1.885e+05  &     7.65e+04     &    -2.465  &         0.014        &    -3.39e+05    &    -3.84e+04     \\\\\n",
      "\\textbf{FDS\\_Largo}           &   -1.125e+05  &      2.7e+04     &    -4.163  &         0.000        &    -1.66e+05    &    -5.95e+04     \\\\\n",
      "\\textbf{Disturbios}           &   -2.446e+05  &     7.63e+04     &    -3.206  &         0.001        &    -3.94e+05    &    -9.49e+04     \\\\\n",
      "\\textbf{Clima}                &   -3.058e+05  &     4.56e+04     &    -6.701  &         0.000        &    -3.95e+05    &    -2.16e+05     \\\\\n",
      "\\textbf{visperas\\_laborales}  &   -4.108e+05  &     6.25e+04     &    -6.571  &         0.000        &    -5.33e+05    &    -2.88e+05     \\\\\n",
      "\\bottomrule\n",
      "\\end{tabular}\n",
      "\\begin{tabular}{lclc}\n",
      "\\textbf{Omnibus:}       & 418.926 & \\textbf{  Durbin-Watson:     } &    1.389  \\\\\n",
      "\\textbf{Prob(Omnibus):} &   0.000 & \\textbf{  Jarque-Bera (JB):  } & 8553.632  \\\\\n",
      "\\textbf{Skew:}          &   1.245 & \\textbf{  Prob(JB):          } &     0.00  \\\\\n",
      "\\textbf{Kurtosis:}      &  16.457 & \\textbf{  Cond. No.          } & 1.80e+07  \\\\\n",
      "\\bottomrule\n",
      "\\end{tabular}\n",
      "%\\caption{OLS Regression Results}\n",
      "\\end{center}\n"
     ]
    }
   ],
   "source": [
    "print(results.summary().as_latex())"
   ]
  },
  {
   "cell_type": "code",
   "execution_count": null,
   "metadata": {
    "collapsed": true
   },
   "outputs": [],
   "source": []
  }
 ],
 "metadata": {
  "kernelspec": {
   "display_name": "Python 3",
   "language": "python",
   "name": "python3"
  },
  "language_info": {
   "codemirror_mode": {
    "name": "ipython",
    "version": 3
   },
   "file_extension": ".py",
   "mimetype": "text/x-python",
   "name": "python",
   "nbconvert_exporter": "python",
   "pygments_lexer": "ipython3",
   "version": "3.6.1"
  }
 },
 "nbformat": 4,
 "nbformat_minor": 2
}
