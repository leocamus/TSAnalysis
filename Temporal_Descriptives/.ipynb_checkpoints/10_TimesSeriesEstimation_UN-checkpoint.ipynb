{
 "cells": [
  {
   "cell_type": "markdown",
   "metadata": {},
   "source": [
    "## Time series estimation - Daily at UN level"
   ]
  },
  {
   "cell_type": "markdown",
   "metadata": {},
   "source": [
    "% TODO: Check if R-squared are correctly computed"
   ]
  },
  {
   "cell_type": "code",
   "execution_count": 1,
   "metadata": {
    "collapsed": true
   },
   "outputs": [],
   "source": [
    "import os\n",
    "import sys\n",
    "module_path = os.path.abspath(os.path.join('..'))\n",
    "if module_path not in sys.path:\n",
    "    sys.path.append(module_path)"
   ]
  },
  {
   "cell_type": "code",
   "execution_count": 2,
   "metadata": {},
   "outputs": [
    {
     "data": {
      "text/html": [
       "<style>.container { width:100% !important; }</style>"
      ],
      "text/plain": [
       "<IPython.core.display.HTML object>"
      ]
     },
     "metadata": {},
     "output_type": "display_data"
    }
   ],
   "source": [
    "%matplotlib inline\n",
    "from IPython.core.display import display, HTML\n",
    "display(HTML(\"<style>.container { width:100% !important; }</style>\"))\n",
    "\n",
    "import pandas as pd\n",
    "import matplotlib\n",
    "import matplotlib.pyplot as plt\n",
    "import matplotlib.dates as mdates\n",
    "import numpy as np\n",
    "import datetime as dt\n",
    "import time"
   ]
  },
  {
   "cell_type": "code",
   "execution_count": 3,
   "metadata": {},
   "outputs": [
    {
     "name": "stderr",
     "output_type": "stream",
     "text": [
      "C:\\Users\\leoca_000\\Anaconda3\\lib\\site-packages\\statsmodels\\compat\\pandas.py:56: FutureWarning: The pandas.core.datetools module is deprecated and will be removed in a future version. Please use the pandas.tseries module instead.\n",
      "  from pandas.core import datetools\n"
     ]
    }
   ],
   "source": [
    "import statsmodels.api as sm"
   ]
  },
  {
   "cell_type": "code",
   "execution_count": 4,
   "metadata": {
    "collapsed": true
   },
   "outputs": [],
   "source": [
    "from Utils import TransantiagoConstants"
   ]
  },
  {
   "cell_type": "code",
   "execution_count": 5,
   "metadata": {
    "collapsed": true
   },
   "outputs": [],
   "source": [
    "DTPMDir = TransantiagoConstants.DTPMDir\n",
    "DTPM_TRXDir = TransantiagoConstants.DTPM_TRXDir"
   ]
  },
  {
   "cell_type": "markdown",
   "metadata": {},
   "source": [
    "#### Loading independent variables"
   ]
  },
  {
   "cell_type": "code",
   "execution_count": 6,
   "metadata": {},
   "outputs": [],
   "source": [
    "independent_variables_path = os.path.join(DTPM_TRXDir,'0_INDEPENDENTS/independents_variables.csv')\n",
    "independent_variables = pd.read_csv(independent_variables_path,sep=';',encoding='latin-1', index_col=0, parse_dates=[1])\n",
    "independent_variables.loc[:,'Verano'] =  independent_variables.loc[:,'Enero'] + independent_variables.loc[:,'Febrero']\n",
    "independent_variables.loc[:,'Nov_Dic_2017'] = independent_variables.loc[:,'Nov_2017'] + independent_variables.loc[:,'Dic_2017']\n",
    "independent_variables.loc[:,'WEEK_OF_YEAR'] = independent_variables.loc[:,'DATE'].apply(lambda x: x.week)\n",
    "independent_variables = pd.get_dummies(independent_variables, columns=['WEEK_OF_YEAR'])"
   ]
  },
  {
   "cell_type": "markdown",
   "metadata": {},
   "source": [
    "#### Loading dependent variable for U6"
   ]
  },
  {
   "cell_type": "code",
   "execution_count": 7,
   "metadata": {
    "collapsed": true
   },
   "outputs": [],
   "source": [
    "UN = 'U6'\n",
    "daily_input_path = os.path.join(DTPM_TRXDir,'4_DAILY_UN/' + UN + '/' + UN + '_summary.csv')\n",
    "daily_trx = pd.read_csv(daily_input_path,sep=';',encoding='latin-1', index_col=0)\n",
    "\n",
    "daily_trx.loc[:,'TOTAL_trx'] = daily_trx.loc[:,'pn_SUM_TRX_no_t'] + daily_trx.loc[:,'pn_SUM_TRX_3t'] + daily_trx.loc[:,'pn_SUM_TRX_tm'] + daily_trx.loc[:,'zp_SUM_TRX']"
   ]
  },
  {
   "cell_type": "markdown",
   "metadata": {},
   "source": [
    "#### Merging and sorting for U6"
   ]
  },
  {
   "cell_type": "code",
   "execution_count": 8,
   "metadata": {
    "collapsed": true
   },
   "outputs": [],
   "source": [
    "complete_db = daily_trx.merge(independent_variables, on =['YEAR','MONTH','YEAR_DAY'], how='left')"
   ]
  },
  {
   "cell_type": "code",
   "execution_count": 9,
   "metadata": {
    "collapsed": true
   },
   "outputs": [],
   "source": [
    "complete_db.sort_values(by=['YEAR','MONTH','YEAR_DAY'], ascending=[True,True,True], inplace=True)"
   ]
  },
  {
   "cell_type": "markdown",
   "metadata": {},
   "source": [
    "#### Estimation for U6"
   ]
  },
  {
   "cell_type": "markdown",
   "metadata": {},
   "source": [
    "* Summarizing everything"
   ]
  },
  {
   "cell_type": "code",
   "execution_count": 10,
   "metadata": {
    "collapsed": true
   },
   "outputs": [],
   "source": [
    "def summarizingResults(x, df, model_name):\n",
    "    params = x.params.rename('params_' + model_name)\n",
    "    t = x.tvalues.rename('t_' + model_name)\n",
    "    p = x.pvalues.rename('p_' + model_name)\n",
    "\n",
    "    df = pd.concat([df, params, t, p], axis=1)\n",
    "    df.loc['R2_ADJ', 'params_' + model_name] = x.rsquared_adj\n",
    "    df.loc['AIC', 'params_' + model_name] = x.aic\n",
    "    df.loc['F', 'params_' + model_name] = x.fvalue\n",
    "    df.loc['P_F', 'params_' + model_name] = x.f_pvalue\n",
    "    df.loc['D_W', 'params_' + model_name] = sm.stats.stattools.durbin_watson(x.resid)\n",
    "    \n",
    "    return df"
   ]
  },
  {
   "cell_type": "code",
   "execution_count": 11,
   "metadata": {
    "collapsed": true
   },
   "outputs": [],
   "source": [
    "OLS_Summary_U6 = pd.DataFrame()"
   ]
  },
  {
   "cell_type": "markdown",
   "metadata": {},
   "source": [
    "* Trying models based on U6"
   ]
  },
  {
   "cell_type": "markdown",
   "metadata": {},
   "source": [
    "Model 1"
   ]
  },
  {
   "cell_type": "code",
   "execution_count": 12,
   "metadata": {
    "collapsed": true
   },
   "outputs": [],
   "source": [
    "Y = complete_db.loc[:,'TOTAL_trx']\n",
    "X = complete_db.loc[:,['SATURDAY',\n",
    "                       'SUNDAY',\n",
    "                       'ratio_tm',\n",
    "                       'kms_ofertados_U6',\n",
    "                       'Verano',\n",
    "                       'Julio',\n",
    "                       'Nov_Dic_2017',\n",
    "                       't',\n",
    "                       'Feriado_laboral',\n",
    "                       'Feriado_no_laboral',\n",
    "                       'Censo',\n",
    "                       'Elecciones',\n",
    "                       'Partido',\n",
    "                       'FDS_Largo',\n",
    "                       'Disturbios',\n",
    "                       'Bucle',\n",
    "                       'Clima',\n",
    "                       'visperas_laborales',\n",
    "                       'N_ZPs_UN6']]"
   ]
  },
  {
   "cell_type": "code",
   "execution_count": 13,
   "metadata": {},
   "outputs": [
    {
     "name": "stdout",
     "output_type": "stream",
     "text": [
      "                            OLS Regression Results                            \n",
      "==============================================================================\n",
      "Dep. Variable:              TOTAL_trx   R-squared:                       0.951\n",
      "Model:                            OLS   Adj. R-squared:                  0.950\n",
      "Method:                 Least Squares   F-statistic:                     1094.\n",
      "Date:                Thu, 22 Mar 2018   Prob (F-statistic):               0.00\n",
      "Time:                        15:01:03   Log-Likelihood:                -12335.\n",
      "No. Observations:                1096   AIC:                         2.471e+04\n",
      "Df Residuals:                    1076   BIC:                         2.481e+04\n",
      "Df Model:                          19                                         \n",
      "Covariance Type:            nonrobust                                         \n",
      "======================================================================================\n",
      "                         coef    std err          t      P>|t|      [0.025      0.975]\n",
      "--------------------------------------------------------------------------------------\n",
      "const               2.731e+05   5386.788     50.699      0.000    2.63e+05    2.84e+05\n",
      "SATURDAY           -9.961e+04   4471.397    -22.277      0.000   -1.08e+05   -9.08e+04\n",
      "SUNDAY             -1.609e+05   4534.975    -35.476      0.000    -1.7e+05   -1.52e+05\n",
      "ratio_tm             261.5747     70.670      3.701      0.000     122.907     400.242\n",
      "kms_ofertados_U6       0.0975      0.018      5.330      0.000       0.062       0.133\n",
      "Verano             -5.008e+04   1645.399    -30.439      0.000   -5.33e+04   -4.69e+04\n",
      "Julio              -1.878e+04   2084.959     -9.005      0.000   -2.29e+04   -1.47e+04\n",
      "Nov_Dic_2017        2245.7157   2896.603      0.775      0.438   -3437.916    7929.347\n",
      "t                    -19.7809      5.466     -3.619      0.000     -30.507      -9.055\n",
      "Feriado_laboral    -1.381e+05   5842.836    -23.631      0.000    -1.5e+05   -1.27e+05\n",
      "Feriado_no_laboral -2.577e+04   4165.004     -6.187      0.000   -3.39e+04   -1.76e+04\n",
      "Censo               -8.91e+04   1.93e+04     -4.613      0.000   -1.27e+05   -5.12e+04\n",
      "Elecciones         -9666.1075   1.12e+04     -0.866      0.387   -3.16e+04    1.22e+04\n",
      "Partido            -7870.6780   7766.040     -1.013      0.311   -2.31e+04    7367.622\n",
      "FDS_Largo          -1.542e+04   2769.883     -5.566      0.000   -2.09e+04   -9983.407\n",
      "Disturbios         -1.916e+04   7753.133     -2.471      0.014   -3.44e+04   -3948.028\n",
      "Bucle               1193.0275   2490.009      0.479      0.632   -3692.796    6078.851\n",
      "Clima              -2.934e+04   4643.784     -6.319      0.000   -3.85e+04   -2.02e+04\n",
      "visperas_laborales -4.153e+04   6355.669     -6.534      0.000    -5.4e+04   -2.91e+04\n",
      "N_ZPs_UN6           1513.2006    229.038      6.607      0.000    1063.789    1962.612\n",
      "==============================================================================\n",
      "Omnibus:                      401.887   Durbin-Watson:                   1.279\n",
      "Prob(Omnibus):                  0.000   Jarque-Bera (JB):             7850.443\n",
      "Skew:                           1.186   Prob(JB):                         0.00\n",
      "Kurtosis:                      15.895   Cond. No.                     4.50e+06\n",
      "==============================================================================\n",
      "\n",
      "Warnings:\n",
      "[1] Standard Errors assume that the covariance matrix of the errors is correctly specified.\n",
      "[2] The condition number is large, 4.5e+06. This might indicate that there are\n",
      "strong multicollinearity or other numerical problems.\n"
     ]
    }
   ],
   "source": [
    "X = sm.add_constant(X)\n",
    "m1 = sm.OLS(Y, X)\n",
    "results_m1 = m1.fit()\n",
    "print(results_m1.summary())"
   ]
  },
  {
   "cell_type": "code",
   "execution_count": 14,
   "metadata": {
    "collapsed": true
   },
   "outputs": [],
   "source": [
    "OLS_Summary_U6 = summarizingResults(results_m1, OLS_Summary_U6, 'U6_m1')"
   ]
  },
  {
   "cell_type": "code",
   "execution_count": 15,
   "metadata": {
    "collapsed": true
   },
   "outputs": [],
   "source": [
    "ypred_m1 = results_m1.predict(X)\n",
    "complete_db.loc[:,'ypred_m1'] = ypred_m1"
   ]
  },
  {
   "cell_type": "markdown",
   "metadata": {},
   "source": [
    "--------------------"
   ]
  },
  {
   "cell_type": "markdown",
   "metadata": {},
   "source": [
    "Model 2"
   ]
  },
  {
   "cell_type": "code",
   "execution_count": 16,
   "metadata": {
    "collapsed": true
   },
   "outputs": [],
   "source": [
    "Y = complete_db.loc[:,'TOTAL_trx']\n",
    "X = complete_db.loc[:,['SATURDAY',\n",
    "                       'SUNDAY',\n",
    "                       'ratio_tm',\n",
    "                       'kms_ofertados_U6',\n",
    "                       'Verano',\n",
    "                       'Julio',\n",
    "                       't',\n",
    "                       'Feriado_laboral',\n",
    "                       'Feriado_no_laboral',\n",
    "                       'Censo',\n",
    "                       'Partido',\n",
    "                       'FDS_Largo',\n",
    "                       'Disturbios',\n",
    "                       'Clima',\n",
    "                       'visperas_laborales',\n",
    "                       'N_ZPs_UN6']]"
   ]
  },
  {
   "cell_type": "code",
   "execution_count": 17,
   "metadata": {},
   "outputs": [
    {
     "name": "stdout",
     "output_type": "stream",
     "text": [
      "                            OLS Regression Results                            \n",
      "==============================================================================\n",
      "Dep. Variable:              TOTAL_trx   R-squared:                       0.951\n",
      "Model:                            OLS   Adj. R-squared:                  0.950\n",
      "Method:                 Least Squares   F-statistic:                     1301.\n",
      "Date:                Thu, 22 Mar 2018   Prob (F-statistic):               0.00\n",
      "Time:                        15:03:25   Log-Likelihood:                -12336.\n",
      "No. Observations:                1096   AIC:                         2.471e+04\n",
      "Df Residuals:                    1079   BIC:                         2.479e+04\n",
      "Df Model:                          16                                         \n",
      "Covariance Type:            nonrobust                                         \n",
      "======================================================================================\n",
      "                         coef    std err          t      P>|t|      [0.025      0.975]\n",
      "--------------------------------------------------------------------------------------\n",
      "const               2.722e+05   5193.091     52.407      0.000    2.62e+05    2.82e+05\n",
      "SATURDAY           -9.869e+04   4311.842    -22.888      0.000   -1.07e+05   -9.02e+04\n",
      "SUNDAY             -1.602e+05   4378.672    -36.578      0.000   -1.69e+05   -1.52e+05\n",
      "ratio_tm             261.3757     70.466      3.709      0.000     123.110     399.641\n",
      "kms_ofertados_U6       0.0980      0.018      5.365      0.000       0.062       0.134\n",
      "Verano              -5.01e+04   1641.351    -30.523      0.000   -5.33e+04   -4.69e+04\n",
      "Julio              -1.892e+04   2072.302     -9.132      0.000    -2.3e+04   -1.49e+04\n",
      "t                    -19.5468      5.424     -3.604      0.000     -30.189      -8.905\n",
      "Feriado_laboral    -1.372e+05   5728.574    -23.957      0.000   -1.48e+05   -1.26e+05\n",
      "Feriado_no_laboral -2.578e+04   4157.369     -6.201      0.000   -3.39e+04   -1.76e+04\n",
      "Censo              -8.922e+04   1.93e+04     -4.624      0.000   -1.27e+05   -5.14e+04\n",
      "Partido            -7941.2881   7758.092     -1.024      0.306   -2.32e+04    7281.368\n",
      "FDS_Largo          -1.522e+04   2762.295     -5.511      0.000   -2.06e+04   -9802.747\n",
      "Disturbios         -1.913e+04   7739.284     -2.472      0.014   -3.43e+04   -3945.823\n",
      "Clima              -2.936e+04   4634.084     -6.335      0.000   -3.85e+04   -2.03e+04\n",
      "visperas_laborales -4.136e+04   6341.964     -6.522      0.000   -5.38e+04   -2.89e+04\n",
      "N_ZPs_UN6           1567.3678    219.598      7.137      0.000    1136.480    1998.255\n",
      "==============================================================================\n",
      "Omnibus:                      398.220   Durbin-Watson:                   1.277\n",
      "Prob(Omnibus):                  0.000   Jarque-Bera (JB):             7703.914\n",
      "Skew:                           1.173   Prob(JB):                         0.00\n",
      "Kurtosis:                      15.775   Cond. No.                     4.50e+06\n",
      "==============================================================================\n",
      "\n",
      "Warnings:\n",
      "[1] Standard Errors assume that the covariance matrix of the errors is correctly specified.\n",
      "[2] The condition number is large, 4.5e+06. This might indicate that there are\n",
      "strong multicollinearity or other numerical problems.\n"
     ]
    }
   ],
   "source": [
    "X = sm.add_constant(X)\n",
    "m2 = sm.OLS(Y, X)\n",
    "results_m2 = m2.fit()\n",
    "print(results_m2.summary())"
   ]
  },
  {
   "cell_type": "code",
   "execution_count": 18,
   "metadata": {
    "collapsed": true
   },
   "outputs": [],
   "source": [
    "OLS_Summary_U6 = summarizingResults(results_m2, OLS_Summary_U6, 'U6_m2')"
   ]
  },
  {
   "cell_type": "code",
   "execution_count": 19,
   "metadata": {
    "collapsed": true
   },
   "outputs": [],
   "source": [
    "ypred_m2 = results_m2.predict(X)\n",
    "complete_db.loc[:,'ypred_m2'] = ypred_m2"
   ]
  },
  {
   "cell_type": "markdown",
   "metadata": {},
   "source": [
    "------------------"
   ]
  },
  {
   "cell_type": "markdown",
   "metadata": {},
   "source": [
    "Model 3"
   ]
  },
  {
   "cell_type": "code",
   "execution_count": 20,
   "metadata": {
    "collapsed": true
   },
   "outputs": [],
   "source": [
    "Y = complete_db.loc[:,'TOTAL_trx']\n",
    "X = complete_db.loc[:,['SATURDAY',\n",
    "                       'SUNDAY',\n",
    "                       'ratio_tm',\n",
    "                       'kms_ofertados_U6',\n",
    "                       'Verano',\n",
    "                       'Julio',\n",
    "                       't',\n",
    "                       'Feriado_laboral',\n",
    "                       'Feriado_no_laboral',\n",
    "                       'Censo',\n",
    "                       'FDS_Largo',\n",
    "                       'Disturbios',\n",
    "                       'Clima',\n",
    "                       'visperas_laborales',\n",
    "                       'N_ZPs_UN6']]"
   ]
  },
  {
   "cell_type": "code",
   "execution_count": 21,
   "metadata": {},
   "outputs": [
    {
     "name": "stdout",
     "output_type": "stream",
     "text": [
      "                            OLS Regression Results                            \n",
      "==============================================================================\n",
      "Dep. Variable:              TOTAL_trx   R-squared:                       0.951\n",
      "Model:                            OLS   Adj. R-squared:                  0.950\n",
      "Method:                 Least Squares   F-statistic:                     1388.\n",
      "Date:                Thu, 22 Mar 2018   Prob (F-statistic):               0.00\n",
      "Time:                        15:06:23   Log-Likelihood:                -12336.\n",
      "No. Observations:                1096   AIC:                         2.470e+04\n",
      "Df Residuals:                    1080   BIC:                         2.478e+04\n",
      "Df Model:                          15                                         \n",
      "Covariance Type:            nonrobust                                         \n",
      "======================================================================================\n",
      "                         coef    std err          t      P>|t|      [0.025      0.975]\n",
      "--------------------------------------------------------------------------------------\n",
      "const                2.72e+05   5192.103     52.396      0.000    2.62e+05    2.82e+05\n",
      "SATURDAY           -9.874e+04   4311.697    -22.900      0.000   -1.07e+05   -9.03e+04\n",
      "SUNDAY             -1.602e+05   4378.476    -36.591      0.000   -1.69e+05   -1.52e+05\n",
      "ratio_tm             260.4773     70.462      3.697      0.000     122.220     398.735\n",
      "kms_ofertados_U6       0.0980      0.018      5.364      0.000       0.062       0.134\n",
      "Verano             -5.002e+04   1639.760    -30.507      0.000   -5.32e+04   -4.68e+04\n",
      "Julio              -1.896e+04   2072.072     -9.149      0.000    -2.3e+04   -1.49e+04\n",
      "t                    -19.3042      5.419     -3.563      0.000     -29.936      -8.672\n",
      "Feriado_laboral    -1.371e+05   5727.980    -23.943      0.000   -1.48e+05   -1.26e+05\n",
      "Feriado_no_laboral -2.569e+04   4156.535     -6.181      0.000   -3.38e+04   -1.75e+04\n",
      "Censo              -8.937e+04   1.93e+04     -4.631      0.000   -1.27e+05   -5.15e+04\n",
      "FDS_Largo          -1.533e+04   2760.284     -5.555      0.000   -2.07e+04   -9916.182\n",
      "Disturbios         -1.907e+04   7739.254     -2.465      0.014   -3.43e+04   -3888.885\n",
      "Clima              -2.931e+04   4633.993     -6.326      0.000   -3.84e+04   -2.02e+04\n",
      "visperas_laborales -4.133e+04   6342.032     -6.517      0.000   -5.38e+04   -2.89e+04\n",
      "N_ZPs_UN6           1564.3178    219.583      7.124      0.000    1133.461    1995.175\n",
      "==============================================================================\n",
      "Omnibus:                      398.481   Durbin-Watson:                   1.277\n",
      "Prob(Omnibus):                  0.000   Jarque-Bera (JB):             7683.971\n",
      "Skew:                           1.175   Prob(JB):                         0.00\n",
      "Kurtosis:                      15.757   Cond. No.                     4.50e+06\n",
      "==============================================================================\n",
      "\n",
      "Warnings:\n",
      "[1] Standard Errors assume that the covariance matrix of the errors is correctly specified.\n",
      "[2] The condition number is large, 4.5e+06. This might indicate that there are\n",
      "strong multicollinearity or other numerical problems.\n"
     ]
    }
   ],
   "source": [
    "X = sm.add_constant(X)\n",
    "m3 = sm.OLS(Y, X)\n",
    "results_m3 = m3.fit()\n",
    "print(results_m3.summary())"
   ]
  },
  {
   "cell_type": "code",
   "execution_count": 22,
   "metadata": {
    "collapsed": true
   },
   "outputs": [],
   "source": [
    "OLS_Summary_U6 = summarizingResults(results_m3, OLS_Summary_U6, 'U6_m3')"
   ]
  },
  {
   "cell_type": "code",
   "execution_count": 23,
   "metadata": {
    "collapsed": true
   },
   "outputs": [],
   "source": [
    "ypred_m3 = results_m3.predict(X)\n",
    "complete_db.loc[:,'ypred_m3'] = ypred_m3"
   ]
  },
  {
   "cell_type": "markdown",
   "metadata": {},
   "source": [
    "Model 4"
   ]
  },
  {
   "cell_type": "code",
   "execution_count": 24,
   "metadata": {
    "collapsed": true
   },
   "outputs": [],
   "source": [
    "Y = complete_db.loc[:,'TOTAL_trx']\n",
    "X = complete_db.loc[:,['SATURDAY',\n",
    "                       'SUNDAY',\n",
    "                       'ratio_tm',\n",
    "                       'kms_ofertados_U6',\n",
    "                       'WEEK_OF_YEAR_52',\n",
    "                       'WEEK_OF_YEAR_53',\n",
    "                       'WEEK_OF_YEAR_1',\n",
    "                       'WEEK_OF_YEAR_2',\n",
    "                       'WEEK_OF_YEAR_3',\n",
    "                       'WEEK_OF_YEAR_4',\n",
    "                       'WEEK_OF_YEAR_5',\n",
    "                       'WEEK_OF_YEAR_6',\n",
    "                       'WEEK_OF_YEAR_7',\n",
    "                       'WEEK_OF_YEAR_8',\n",
    "                       'WEEK_OF_YEAR_9',\n",
    "                       'Julio',\n",
    "                       't',\n",
    "                       'Feriado_laboral',\n",
    "                       'Feriado_no_laboral',\n",
    "                       'Censo',\n",
    "                       'FDS_Largo',\n",
    "                       'Disturbios',\n",
    "                       'Clima',\n",
    "                       'visperas_laborales',\n",
    "                       'N_ZPs_UN6']]"
   ]
  },
  {
   "cell_type": "code",
   "execution_count": 25,
   "metadata": {},
   "outputs": [
    {
     "name": "stdout",
     "output_type": "stream",
     "text": [
      "                            OLS Regression Results                            \n",
      "==============================================================================\n",
      "Dep. Variable:              TOTAL_trx   R-squared:                       0.958\n",
      "Model:                            OLS   Adj. R-squared:                  0.957\n",
      "Method:                 Least Squares   F-statistic:                     981.3\n",
      "Date:                Thu, 22 Mar 2018   Prob (F-statistic):               0.00\n",
      "Time:                        15:12:47   Log-Likelihood:                -12245.\n",
      "No. Observations:                1096   AIC:                         2.454e+04\n",
      "Df Residuals:                    1070   BIC:                         2.467e+04\n",
      "Df Model:                          25                                         \n",
      "Covariance Type:            nonrobust                                         \n",
      "======================================================================================\n",
      "                         coef    std err          t      P>|t|      [0.025      0.975]\n",
      "--------------------------------------------------------------------------------------\n",
      "const                2.72e+05   4825.384     56.361      0.000    2.62e+05    2.81e+05\n",
      "SATURDAY           -9.767e+04   4000.473    -24.413      0.000   -1.06e+05   -8.98e+04\n",
      "SUNDAY             -1.591e+05   4062.305    -39.169      0.000   -1.67e+05   -1.51e+05\n",
      "ratio_tm             210.1401     65.766      3.195      0.001      81.095     339.185\n",
      "kms_ofertados_U6       0.0890      0.017      5.252      0.000       0.056       0.122\n",
      "WEEK_OF_YEAR_52    -2.764e+04   3982.952     -6.941      0.000   -3.55e+04   -1.98e+04\n",
      "WEEK_OF_YEAR_53    -3.905e+04   6761.197     -5.776      0.000   -5.23e+04   -2.58e+04\n",
      "WEEK_OF_YEAR_1      -2.62e+04   4190.959     -6.251      0.000   -3.44e+04    -1.8e+04\n",
      "WEEK_OF_YEAR_2     -3.056e+04   3886.758     -7.863      0.000   -3.82e+04   -2.29e+04\n",
      "WEEK_OF_YEAR_3      -3.77e+04   3886.785     -9.700      0.000   -4.53e+04   -3.01e+04\n",
      "WEEK_OF_YEAR_4     -4.673e+04   3883.608    -12.031      0.000   -5.43e+04   -3.91e+04\n",
      "WEEK_OF_YEAR_5     -5.416e+04   3899.522    -13.890      0.000   -6.18e+04   -4.65e+04\n",
      "WEEK_OF_YEAR_6      -6.75e+04   3890.012    -17.352      0.000   -7.51e+04   -5.99e+04\n",
      "WEEK_OF_YEAR_7     -7.418e+04   3883.699    -19.099      0.000   -8.18e+04   -6.66e+04\n",
      "WEEK_OF_YEAR_8      -6.64e+04   3887.367    -17.080      0.000    -7.4e+04   -5.88e+04\n",
      "WEEK_OF_YEAR_9     -3.356e+04   3884.147     -8.640      0.000   -4.12e+04   -2.59e+04\n",
      "Julio              -1.987e+04   1919.596    -10.349      0.000   -2.36e+04   -1.61e+04\n",
      "t                    -15.1609      5.043     -3.006      0.003     -25.057      -5.265\n",
      "Feriado_laboral    -1.381e+05   5317.521    -25.970      0.000   -1.49e+05   -1.28e+05\n",
      "Feriado_no_laboral -2.804e+04   3850.894     -7.281      0.000   -3.56e+04   -2.05e+04\n",
      "Censo              -8.828e+04   1.78e+04     -4.946      0.000   -1.23e+05   -5.33e+04\n",
      "FDS_Largo          -1.486e+04   2585.424     -5.748      0.000   -1.99e+04   -9788.376\n",
      "Disturbios          -2.02e+04   7158.210     -2.822      0.005   -3.42e+04   -6156.492\n",
      "Clima              -3.028e+04   4287.217     -7.062      0.000   -3.87e+04   -2.19e+04\n",
      "visperas_laborales -2.917e+04   6040.368     -4.829      0.000    -4.1e+04   -1.73e+04\n",
      "N_ZPs_UN6           1632.9264    204.025      8.004      0.000    1232.592    2033.261\n",
      "==============================================================================\n",
      "Omnibus:                      557.669   Durbin-Watson:                   1.462\n",
      "Prob(Omnibus):                  0.000   Jarque-Bera (JB):            14267.445\n",
      "Skew:                           1.793   Prob(JB):                         0.00\n",
      "Kurtosis:                      20.308   Cond. No.                     4.50e+06\n",
      "==============================================================================\n",
      "\n",
      "Warnings:\n",
      "[1] Standard Errors assume that the covariance matrix of the errors is correctly specified.\n",
      "[2] The condition number is large, 4.5e+06. This might indicate that there are\n",
      "strong multicollinearity or other numerical problems.\n"
     ]
    }
   ],
   "source": [
    "X = sm.add_constant(X)\n",
    "m4 = sm.OLS(Y, X)\n",
    "results_m4 = m4.fit()\n",
    "print(results_m4.summary())"
   ]
  },
  {
   "cell_type": "code",
   "execution_count": 26,
   "metadata": {
    "collapsed": true
   },
   "outputs": [],
   "source": [
    "OLS_Summary_U6 = summarizingResults(results_m4, OLS_Summary_U6, 'U6_m4')"
   ]
  },
  {
   "cell_type": "code",
   "execution_count": 27,
   "metadata": {
    "collapsed": true
   },
   "outputs": [],
   "source": [
    "ypred_m4 = results_m4.predict(X)\n",
    "complete_db.loc[:,'ypred_m4'] = ypred_m4"
   ]
  },
  {
   "cell_type": "markdown",
   "metadata": {},
   "source": [
    "Model 5"
   ]
  },
  {
   "cell_type": "code",
   "execution_count": 28,
   "metadata": {
    "collapsed": true
   },
   "outputs": [],
   "source": [
    "complete_db.loc[:,'ratio_tm_2'] = complete_db.loc[:,'ratio_tm']*complete_db.loc[:,'ratio_tm']"
   ]
  },
  {
   "cell_type": "code",
   "execution_count": 29,
   "metadata": {
    "collapsed": true
   },
   "outputs": [],
   "source": [
    "Y = complete_db.loc[:,'TOTAL_trx']\n",
    "X = complete_db.loc[:,['SATURDAY',\n",
    "                       'SUNDAY',\n",
    "                       'ratio_tm',\n",
    "                       'ratio_tm_2',\n",
    "                       'kms_ofertados_U6',\n",
    "                       'WEEK_OF_YEAR_52',\n",
    "                       'WEEK_OF_YEAR_53',\n",
    "                       'WEEK_OF_YEAR_1',\n",
    "                       'WEEK_OF_YEAR_2',\n",
    "                       'WEEK_OF_YEAR_3',\n",
    "                       'WEEK_OF_YEAR_4',\n",
    "                       'WEEK_OF_YEAR_5',\n",
    "                       'WEEK_OF_YEAR_6',\n",
    "                       'WEEK_OF_YEAR_7',\n",
    "                       'WEEK_OF_YEAR_8',\n",
    "                       'WEEK_OF_YEAR_9',\n",
    "                       'Julio',\n",
    "                       't',\n",
    "                       'Feriado_laboral',\n",
    "                       'Feriado_no_laboral',\n",
    "                       'Censo',\n",
    "                       'FDS_Largo',\n",
    "                       'Disturbios',\n",
    "                       'Clima',\n",
    "                       'visperas_laborales',\n",
    "                       'N_ZPs_UN6']]"
   ]
  },
  {
   "cell_type": "code",
   "execution_count": 30,
   "metadata": {},
   "outputs": [
    {
     "name": "stdout",
     "output_type": "stream",
     "text": [
      "                            OLS Regression Results                            \n",
      "==============================================================================\n",
      "Dep. Variable:              TOTAL_trx   R-squared:                       0.958\n",
      "Model:                            OLS   Adj. R-squared:                  0.957\n",
      "Method:                 Least Squares   F-statistic:                     944.0\n",
      "Date:                Thu, 22 Mar 2018   Prob (F-statistic):               0.00\n",
      "Time:                        15:21:57   Log-Likelihood:                -12245.\n",
      "No. Observations:                1096   AIC:                         2.454e+04\n",
      "Df Residuals:                    1069   BIC:                         2.468e+04\n",
      "Df Model:                          26                                         \n",
      "Covariance Type:            nonrobust                                         \n",
      "======================================================================================\n",
      "                         coef    std err          t      P>|t|      [0.025      0.975]\n",
      "--------------------------------------------------------------------------------------\n",
      "const                 2.7e+05   5085.529     53.094      0.000     2.6e+05     2.8e+05\n",
      "SATURDAY           -9.532e+04   4442.412    -21.456      0.000   -1.04e+05   -8.66e+04\n",
      "SUNDAY             -1.567e+05   4525.961    -34.621      0.000   -1.66e+05   -1.48e+05\n",
      "ratio_tm             340.4261    125.814      2.706      0.007      93.555     587.297\n",
      "ratio_tm_2            -1.8474      1.521     -1.215      0.225      -4.832       1.137\n",
      "kms_ofertados_U6       0.0891      0.017      5.262      0.000       0.056       0.122\n",
      "WEEK_OF_YEAR_52    -2.744e+04   3985.503     -6.886      0.000   -3.53e+04   -1.96e+04\n",
      "WEEK_OF_YEAR_53    -3.865e+04   6767.982     -5.710      0.000   -5.19e+04   -2.54e+04\n",
      "WEEK_OF_YEAR_1     -2.647e+04   4195.959     -6.308      0.000   -3.47e+04   -1.82e+04\n",
      "WEEK_OF_YEAR_2     -3.066e+04   3886.703     -7.888      0.000   -3.83e+04    -2.3e+04\n",
      "WEEK_OF_YEAR_3     -3.779e+04   3886.675     -9.724      0.000   -4.54e+04   -3.02e+04\n",
      "WEEK_OF_YEAR_4     -4.685e+04   3884.187    -12.063      0.000   -5.45e+04   -3.92e+04\n",
      "WEEK_OF_YEAR_5     -5.427e+04   3899.692    -13.917      0.000   -6.19e+04   -4.66e+04\n",
      "WEEK_OF_YEAR_6     -6.762e+04   3890.340    -17.381      0.000   -7.53e+04      -6e+04\n",
      "WEEK_OF_YEAR_7     -7.426e+04   3883.522    -19.123      0.000   -8.19e+04   -6.66e+04\n",
      "WEEK_OF_YEAR_8     -6.643e+04   3886.626    -17.093      0.000   -7.41e+04   -5.88e+04\n",
      "WEEK_OF_YEAR_9     -3.357e+04   3883.298     -8.645      0.000   -4.12e+04    -2.6e+04\n",
      "Julio              -1.971e+04   1923.292    -10.250      0.000   -2.35e+04   -1.59e+04\n",
      "t                    -17.3611      5.358     -3.240      0.001     -27.874      -6.848\n",
      "Feriado_laboral    -1.357e+05   5659.481    -23.985      0.000   -1.47e+05   -1.25e+05\n",
      "Feriado_no_laboral -2.823e+04   3853.412     -7.327      0.000   -3.58e+04   -2.07e+04\n",
      "Censo              -8.867e+04   1.78e+04     -4.968      0.000   -1.24e+05   -5.37e+04\n",
      "FDS_Largo           -1.47e+04   2588.297     -5.679      0.000   -1.98e+04   -9620.542\n",
      "Disturbios         -2.039e+04   7158.261     -2.848      0.004   -3.44e+04   -6342.446\n",
      "Clima              -3.025e+04   4286.327     -7.057      0.000   -3.87e+04   -2.18e+04\n",
      "visperas_laborales -2.925e+04   6039.382     -4.843      0.000   -4.11e+04   -1.74e+04\n",
      "N_ZPs_UN6           1762.2096    230.081      7.659      0.000    1310.748    2213.671\n",
      "==============================================================================\n",
      "Omnibus:                      557.360   Durbin-Watson:                   1.461\n",
      "Prob(Omnibus):                  0.000   Jarque-Bera (JB):            14206.522\n",
      "Skew:                           1.793   Prob(JB):                         0.00\n",
      "Kurtosis:                      20.269   Cond. No.                     4.50e+06\n",
      "==============================================================================\n",
      "\n",
      "Warnings:\n",
      "[1] Standard Errors assume that the covariance matrix of the errors is correctly specified.\n",
      "[2] The condition number is large, 4.5e+06. This might indicate that there are\n",
      "strong multicollinearity or other numerical problems.\n"
     ]
    }
   ],
   "source": [
    "X = sm.add_constant(X)\n",
    "m5 = sm.OLS(Y, X)\n",
    "results_m5 = m5.fit()\n",
    "print(results_m5.summary())"
   ]
  },
  {
   "cell_type": "code",
   "execution_count": 31,
   "metadata": {},
   "outputs": [
    {
     "data": {
      "text/plain": [
       "75.483692647871749"
      ]
     },
     "execution_count": 31,
     "metadata": {},
     "output_type": "execute_result"
    }
   ],
   "source": [
    "complete_db.loc[:,'ratio_tm'].max()"
   ]
  },
  {
   "cell_type": "code",
   "execution_count": null,
   "metadata": {
    "collapsed": true
   },
   "outputs": [],
   "source": []
  }
 ],
 "metadata": {
  "kernelspec": {
   "display_name": "Python 3",
   "language": "python",
   "name": "python3"
  },
  "language_info": {
   "codemirror_mode": {
    "name": "ipython",
    "version": 3
   },
   "file_extension": ".py",
   "mimetype": "text/x-python",
   "name": "python",
   "nbconvert_exporter": "python",
   "pygments_lexer": "ipython3",
   "version": "3.6.1"
  }
 },
 "nbformat": 4,
 "nbformat_minor": 2
}
