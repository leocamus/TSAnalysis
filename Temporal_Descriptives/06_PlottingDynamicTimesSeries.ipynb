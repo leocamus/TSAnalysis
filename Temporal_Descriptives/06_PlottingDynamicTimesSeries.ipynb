{
 "cells": [
  {
   "cell_type": "markdown",
   "metadata": {},
   "source": [
    "## Plotting times series - Interactive"
   ]
  },
  {
   "cell_type": "code",
   "execution_count": 1,
   "metadata": {
    "collapsed": true
   },
   "outputs": [],
   "source": [
    "import os\n",
    "import sys\n",
    "module_path = os.path.abspath(os.path.join('..'))\n",
    "if module_path not in sys.path:\n",
    "    sys.path.append(module_path)"
   ]
  },
  {
   "cell_type": "code",
   "execution_count": 2,
   "metadata": {},
   "outputs": [
    {
     "data": {
      "text/html": [
       "<style>.container { width:80% !important; }</style>"
      ],
      "text/plain": [
       "<IPython.core.display.HTML object>"
      ]
     },
     "metadata": {},
     "output_type": "display_data"
    }
   ],
   "source": [
    "%matplotlib inline\n",
    "from IPython.core.display import display, HTML\n",
    "display(HTML(\"<style>.container { width:80% !important; }</style>\"))\n",
    "\n",
    "import pandas as pd\n",
    "import matplotlib\n",
    "import matplotlib.pyplot as plt\n",
    "import matplotlib.dates as mdates\n",
    "from matplotlib.ticker import FuncFormatter\n",
    "import numpy as np\n",
    "import datetime as dt\n",
    "import time"
   ]
  },
  {
   "cell_type": "code",
   "execution_count": 3,
   "metadata": {
    "collapsed": true
   },
   "outputs": [],
   "source": [
    "from Utils import TransantiagoConstants\n",
    "DTPM_TRXDir = TransantiagoConstants.DTPM_TRXDir"
   ]
  },
  {
   "cell_type": "code",
   "execution_count": 4,
   "metadata": {
    "collapsed": true
   },
   "outputs": [],
   "source": [
    "import plotly.plotly\n",
    "import plotly.graph_objs as go"
   ]
  },
  {
   "cell_type": "markdown",
   "metadata": {},
   "source": [
    "* Defining function to plot"
   ]
  },
  {
   "cell_type": "code",
   "execution_count": 5,
   "metadata": {
    "collapsed": true
   },
   "outputs": [],
   "source": [
    "def plottingInteractively(dates,y_zp,y_st,y_3t,y_tm,y_exp, name, freq):\n",
    "    trace1 = go.Bar(\n",
    "        x=dates,\n",
    "        y=y_zp,\n",
    "        name='ZP',\n",
    "        marker=dict(\n",
    "            color='rgb(76, 181, 245)',\n",
    "        ),\n",
    "        opacity=0.6\n",
    "    )\n",
    "\n",
    "    trace2 = go.Bar(\n",
    "        x=dates,\n",
    "        y=y_st,\n",
    "        name='S/T',\n",
    "        marker=dict(\n",
    "            color='rgb(183, 184, 182)',\n",
    "        ),\n",
    "        opacity=0.6\n",
    "    )\n",
    "\n",
    "    trace3 = go.Bar(\n",
    "        x=dates,\n",
    "        y=y_3t,\n",
    "        name='C/T3',\n",
    "        marker=dict(\n",
    "            color='rgb(52, 103, 92)',\n",
    "        ),\n",
    "        opacity=0.6    \n",
    "\n",
    "    )\n",
    "    \n",
    "    trace4 = go.Bar(\n",
    "        x=dates,\n",
    "        y=y_tm,\n",
    "        name='C/TM',\n",
    "        marker=dict(\n",
    "            color='rgb(179, 193, 0)',\n",
    "        ),\n",
    "        opacity=0.6 \n",
    "    )\n",
    "\n",
    "    trace5 = go.Scatter(\n",
    "        x = dates,\n",
    "        y = y_exp,\n",
    "        yaxis='y2',\n",
    "        name = '%Exp.C/TM',\n",
    "        marker=dict(\n",
    "            color='rgb(0, 0, 0)',\n",
    "        ),\n",
    "    )\n",
    "\n",
    "\n",
    "    data = [trace1, trace2, trace3, trace4, trace5]\n",
    "\n",
    "    layout = go.Layout(\n",
    "        title='Transacciones en bus y zona paga, ' + name + ', 2015 a 2017',\n",
    "        barmode='stack',\n",
    "        yaxis=dict(\n",
    "            title='Transacciones'\n",
    "        ),\n",
    "        yaxis2=dict(\n",
    "            title='% exps. diarias C/TM',\n",
    "            overlaying='y',\n",
    "            side='right',\n",
    "            range=[0, 100]\n",
    "        )\n",
    "    )\n",
    "\n",
    "    fig = go.Figure(data=data, layout=layout)\n",
    "    plotly.offline.plot(fig, filename=name+'_'+freq)"
   ]
  },
  {
   "cell_type": "markdown",
   "metadata": {},
   "source": [
    "## Plotting interactively"
   ]
  },
  {
   "cell_type": "markdown",
   "metadata": {},
   "source": [
    "#### MENSUAL - SISTEMA"
   ]
  },
  {
   "cell_type": "code",
   "execution_count": 6,
   "metadata": {},
   "outputs": [],
   "source": [
    "name = 'sistema'\n",
    "freq = 'mensual'\n",
    "monthly_input_path = os.path.join(DTPM_TRXDir,'1_MONTHLY/monthly_summary.csv')\n",
    "monthly_trx = pd.read_csv(monthly_input_path,sep=';',encoding='latin-1', index_col=0)"
   ]
  },
  {
   "cell_type": "code",
   "execution_count": 7,
   "metadata": {
    "collapsed": true
   },
   "outputs": [],
   "source": [
    "dates = pd.date_range(start='2015-01',end='2018-01',freq='M')\n",
    "no_turnstile_values = list(map(int, monthly_trx['pn_SUM_TRX_no_t'].values))\n",
    "three_turnstile_values = list(map(int,monthly_trx['pn_SUM_TRX_3t'].values))\n",
    "butterfly_turnstile_values = list(map(int,monthly_trx['pn_SUM_TRX_tm'].values))\n",
    "zp_values = list(map(int,monthly_trx['zp_SUM_TRX'].values))\n",
    "ratio_butterfly_turnstile_values = list(map(int,monthly_trx['ratio_tm'].values))"
   ]
  },
  {
   "cell_type": "code",
   "execution_count": 8,
   "metadata": {},
   "outputs": [
    {
     "name": "stderr",
     "output_type": "stream",
     "text": [
      "C:\\Users\\leoca_000\\Anaconda3\\lib\\site-packages\\plotly\\offline\\offline.py:459: UserWarning:\n",
      "\n",
      "Your filename `sistema_mensual` didn't end with .html. Adding .html to the end of your file.\n",
      "\n"
     ]
    }
   ],
   "source": [
    "plottingInteractively(dates,zp_values,no_turnstile_values,three_turnstile_values,butterfly_turnstile_values,ratio_butterfly_turnstile_values,name,freq)"
   ]
  },
  {
   "cell_type": "markdown",
   "metadata": {},
   "source": [
    "#### MENSUAL - U1"
   ]
  },
  {
   "cell_type": "code",
   "execution_count": 9,
   "metadata": {},
   "outputs": [],
   "source": [
    "name = 'U1'\n",
    "freq = 'mensual'\n",
    "monthly_input_path = os.path.join(DTPM_TRXDir,'2_MONTHLY_UN/' + name + '/' + name + '_summary.csv')\n",
    "monthly_trx = pd.read_csv(monthly_input_path,sep=';',encoding='latin-1', index_col=0)"
   ]
  },
  {
   "cell_type": "code",
   "execution_count": 10,
   "metadata": {
    "collapsed": true
   },
   "outputs": [],
   "source": [
    "dates = pd.date_range(start='2015-01',end='2018-01',freq='M')\n",
    "no_turnstile_values = list(map(int, monthly_trx['pn_SUM_TRX_no_t'].values))\n",
    "three_turnstile_values = list(map(int,monthly_trx['pn_SUM_TRX_3t'].values))\n",
    "butterfly_turnstile_values = list(map(int,monthly_trx['pn_SUM_TRX_tm'].values))\n",
    "zp_values = list(map(int,monthly_trx['zp_SUM_TRX'].values))\n",
    "ratio_butterfly_turnstile_values = list(map(int,monthly_trx['ratio_tm'].values))"
   ]
  },
  {
   "cell_type": "code",
   "execution_count": 11,
   "metadata": {},
   "outputs": [
    {
     "name": "stderr",
     "output_type": "stream",
     "text": [
      "C:\\Users\\leoca_000\\Anaconda3\\lib\\site-packages\\plotly\\offline\\offline.py:459: UserWarning:\n",
      "\n",
      "Your filename `U1_mensual` didn't end with .html. Adding .html to the end of your file.\n",
      "\n"
     ]
    }
   ],
   "source": [
    "plottingInteractively(dates,zp_values,no_turnstile_values,three_turnstile_values,butterfly_turnstile_values,ratio_butterfly_turnstile_values,name,freq)"
   ]
  },
  {
   "cell_type": "markdown",
   "metadata": {},
   "source": [
    "#### MENSUAL - U2"
   ]
  },
  {
   "cell_type": "code",
   "execution_count": 12,
   "metadata": {
    "collapsed": true
   },
   "outputs": [],
   "source": [
    "name = 'U2'\n",
    "freq = 'mensual'\n",
    "monthly_input_path = os.path.join(DTPM_TRXDir,'2_MONTHLY_UN/' + name + '/' + name + '_summary.csv')\n",
    "monthly_trx = pd.read_csv(monthly_input_path,sep=';',encoding='latin-1', index_col=0)"
   ]
  },
  {
   "cell_type": "code",
   "execution_count": 13,
   "metadata": {
    "collapsed": true
   },
   "outputs": [],
   "source": [
    "dates = pd.date_range(start='2015-01',end='2018-01',freq='M')\n",
    "no_turnstile_values = list(map(int, monthly_trx['pn_SUM_TRX_no_t'].values))\n",
    "three_turnstile_values = list(map(int,monthly_trx['pn_SUM_TRX_3t'].values))\n",
    "butterfly_turnstile_values = list(map(int,monthly_trx['pn_SUM_TRX_tm'].values))\n",
    "zp_values = list(map(int,monthly_trx['zp_SUM_TRX'].values))\n",
    "ratio_butterfly_turnstile_values = list(map(int,monthly_trx['ratio_tm'].values))"
   ]
  },
  {
   "cell_type": "code",
   "execution_count": 14,
   "metadata": {},
   "outputs": [
    {
     "name": "stderr",
     "output_type": "stream",
     "text": [
      "C:\\Users\\leoca_000\\Anaconda3\\lib\\site-packages\\plotly\\offline\\offline.py:459: UserWarning:\n",
      "\n",
      "Your filename `U2_mensual` didn't end with .html. Adding .html to the end of your file.\n",
      "\n"
     ]
    }
   ],
   "source": [
    "plottingInteractively(dates,zp_values,no_turnstile_values,three_turnstile_values,butterfly_turnstile_values,ratio_butterfly_turnstile_values,name,freq)"
   ]
  },
  {
   "cell_type": "markdown",
   "metadata": {},
   "source": [
    "#### MENSUAL - U3"
   ]
  },
  {
   "cell_type": "code",
   "execution_count": 15,
   "metadata": {
    "collapsed": true
   },
   "outputs": [],
   "source": [
    "name = 'U3'\n",
    "freq = 'mensual'\n",
    "monthly_input_path = os.path.join(DTPM_TRXDir,'2_MONTHLY_UN/' + name + '/' + name + '_summary.csv')\n",
    "monthly_trx = pd.read_csv(monthly_input_path,sep=';',encoding='latin-1', index_col=0)"
   ]
  },
  {
   "cell_type": "code",
   "execution_count": 16,
   "metadata": {
    "collapsed": true
   },
   "outputs": [],
   "source": [
    "dates = pd.date_range(start='2015-01',end='2018-01',freq='M')\n",
    "no_turnstile_values = list(map(int, monthly_trx['pn_SUM_TRX_no_t'].values))\n",
    "three_turnstile_values = list(map(int,monthly_trx['pn_SUM_TRX_3t'].values))\n",
    "butterfly_turnstile_values = list(map(int,monthly_trx['pn_SUM_TRX_tm'].values))\n",
    "zp_values = list(map(int,monthly_trx['zp_SUM_TRX'].values))\n",
    "ratio_butterfly_turnstile_values = list(map(int,monthly_trx['ratio_tm'].values))"
   ]
  },
  {
   "cell_type": "code",
   "execution_count": 17,
   "metadata": {},
   "outputs": [
    {
     "name": "stderr",
     "output_type": "stream",
     "text": [
      "C:\\Users\\leoca_000\\Anaconda3\\lib\\site-packages\\plotly\\offline\\offline.py:459: UserWarning:\n",
      "\n",
      "Your filename `U3_mensual` didn't end with .html. Adding .html to the end of your file.\n",
      "\n"
     ]
    }
   ],
   "source": [
    "plottingInteractively(dates,zp_values,no_turnstile_values,three_turnstile_values,butterfly_turnstile_values,ratio_butterfly_turnstile_values,name,freq)"
   ]
  },
  {
   "cell_type": "markdown",
   "metadata": {},
   "source": [
    "#### MENSUAL - U4"
   ]
  },
  {
   "cell_type": "code",
   "execution_count": 18,
   "metadata": {
    "collapsed": true
   },
   "outputs": [],
   "source": [
    "name = 'U4'\n",
    "freq = 'mensual'\n",
    "monthly_input_path = os.path.join(DTPM_TRXDir,'2_MONTHLY_UN/' + name + '/' + name + '_summary.csv')\n",
    "monthly_trx = pd.read_csv(monthly_input_path,sep=';',encoding='latin-1', index_col=0)"
   ]
  },
  {
   "cell_type": "code",
   "execution_count": 19,
   "metadata": {
    "collapsed": true
   },
   "outputs": [],
   "source": [
    "dates = pd.date_range(start='2015-01',end='2018-01',freq='M')\n",
    "no_turnstile_values = list(map(int, monthly_trx['pn_SUM_TRX_no_t'].values))\n",
    "three_turnstile_values = list(map(int,monthly_trx['pn_SUM_TRX_3t'].values))\n",
    "butterfly_turnstile_values = list(map(int,monthly_trx['pn_SUM_TRX_tm'].values))\n",
    "zp_values = list(map(int,monthly_trx['zp_SUM_TRX'].values))\n",
    "ratio_butterfly_turnstile_values = list(map(int,monthly_trx['ratio_tm'].values))"
   ]
  },
  {
   "cell_type": "code",
   "execution_count": 20,
   "metadata": {},
   "outputs": [
    {
     "name": "stderr",
     "output_type": "stream",
     "text": [
      "C:\\Users\\leoca_000\\Anaconda3\\lib\\site-packages\\plotly\\offline\\offline.py:459: UserWarning:\n",
      "\n",
      "Your filename `U4_mensual` didn't end with .html. Adding .html to the end of your file.\n",
      "\n"
     ]
    }
   ],
   "source": [
    "plottingInteractively(dates,zp_values,no_turnstile_values,three_turnstile_values,butterfly_turnstile_values,ratio_butterfly_turnstile_values,name,freq)"
   ]
  },
  {
   "cell_type": "markdown",
   "metadata": {},
   "source": [
    "#### MENSUAL - U5"
   ]
  },
  {
   "cell_type": "code",
   "execution_count": 21,
   "metadata": {
    "collapsed": true
   },
   "outputs": [],
   "source": [
    "name = 'U5'\n",
    "freq = 'mensual'\n",
    "monthly_input_path = os.path.join(DTPM_TRXDir,'2_MONTHLY_UN/' + name + '/' + name + '_summary.csv')\n",
    "monthly_trx = pd.read_csv(monthly_input_path,sep=';',encoding='latin-1', index_col=0)"
   ]
  },
  {
   "cell_type": "code",
   "execution_count": 22,
   "metadata": {
    "collapsed": true
   },
   "outputs": [],
   "source": [
    "dates = pd.date_range(start='2015-01',end='2018-01',freq='M')\n",
    "no_turnstile_values = list(map(int, monthly_trx['pn_SUM_TRX_no_t'].values))\n",
    "three_turnstile_values = list(map(int,monthly_trx['pn_SUM_TRX_3t'].values))\n",
    "butterfly_turnstile_values = list(map(int,monthly_trx['pn_SUM_TRX_tm'].values))\n",
    "zp_values = list(map(int,monthly_trx['zp_SUM_TRX'].values))\n",
    "ratio_butterfly_turnstile_values = list(map(int,monthly_trx['ratio_tm'].values))"
   ]
  },
  {
   "cell_type": "code",
   "execution_count": 23,
   "metadata": {},
   "outputs": [
    {
     "name": "stderr",
     "output_type": "stream",
     "text": [
      "C:\\Users\\leoca_000\\Anaconda3\\lib\\site-packages\\plotly\\offline\\offline.py:459: UserWarning:\n",
      "\n",
      "Your filename `U5_mensual` didn't end with .html. Adding .html to the end of your file.\n",
      "\n"
     ]
    }
   ],
   "source": [
    "plottingInteractively(dates,zp_values,no_turnstile_values,three_turnstile_values,butterfly_turnstile_values,ratio_butterfly_turnstile_values,name,freq)"
   ]
  },
  {
   "cell_type": "markdown",
   "metadata": {},
   "source": [
    "#### MENSUAL - U6"
   ]
  },
  {
   "cell_type": "code",
   "execution_count": 24,
   "metadata": {
    "collapsed": true
   },
   "outputs": [],
   "source": [
    "name = 'U6'\n",
    "freq = 'mensual'\n",
    "monthly_input_path = os.path.join(DTPM_TRXDir,'2_MONTHLY_UN/' + name + '/' + name + '_summary.csv')\n",
    "monthly_trx = pd.read_csv(monthly_input_path,sep=';',encoding='latin-1', index_col=0)"
   ]
  },
  {
   "cell_type": "code",
   "execution_count": 25,
   "metadata": {
    "collapsed": true
   },
   "outputs": [],
   "source": [
    "dates = pd.date_range(start='2015-01',end='2018-01',freq='M')\n",
    "no_turnstile_values = list(map(int, monthly_trx['pn_SUM_TRX_no_t'].values))\n",
    "three_turnstile_values = list(map(int,monthly_trx['pn_SUM_TRX_3t'].values))\n",
    "butterfly_turnstile_values = list(map(int,monthly_trx['pn_SUM_TRX_tm'].values))\n",
    "zp_values = list(map(int,monthly_trx['zp_SUM_TRX'].values))\n",
    "ratio_butterfly_turnstile_values = list(map(int,monthly_trx['ratio_tm'].values))"
   ]
  },
  {
   "cell_type": "code",
   "execution_count": 26,
   "metadata": {},
   "outputs": [
    {
     "name": "stderr",
     "output_type": "stream",
     "text": [
      "C:\\Users\\leoca_000\\Anaconda3\\lib\\site-packages\\plotly\\offline\\offline.py:459: UserWarning:\n",
      "\n",
      "Your filename `U6_mensual` didn't end with .html. Adding .html to the end of your file.\n",
      "\n"
     ]
    }
   ],
   "source": [
    "plottingInteractively(dates,zp_values,no_turnstile_values,three_turnstile_values,butterfly_turnstile_values,ratio_butterfly_turnstile_values,name,freq)"
   ]
  },
  {
   "cell_type": "markdown",
   "metadata": {},
   "source": [
    "#### MENSUAL - U7"
   ]
  },
  {
   "cell_type": "code",
   "execution_count": 27,
   "metadata": {
    "collapsed": true
   },
   "outputs": [],
   "source": [
    "name = 'U7'\n",
    "freq = 'mensual'\n",
    "monthly_input_path = os.path.join(DTPM_TRXDir,'2_MONTHLY_UN/' + name + '/' + name + '_summary.csv')\n",
    "monthly_trx = pd.read_csv(monthly_input_path,sep=';',encoding='latin-1', index_col=0)"
   ]
  },
  {
   "cell_type": "code",
   "execution_count": 28,
   "metadata": {
    "collapsed": true
   },
   "outputs": [],
   "source": [
    "dates = pd.date_range(start='2015-01',end='2018-01',freq='M')\n",
    "no_turnstile_values = list(map(int, monthly_trx['pn_SUM_TRX_no_t'].values))\n",
    "three_turnstile_values = list(map(int,monthly_trx['pn_SUM_TRX_3t'].values))\n",
    "butterfly_turnstile_values = list(map(int,monthly_trx['pn_SUM_TRX_tm'].values))\n",
    "zp_values = list(map(int,monthly_trx['zp_SUM_TRX'].values))\n",
    "ratio_butterfly_turnstile_values = list(map(int,monthly_trx['ratio_tm'].values))"
   ]
  },
  {
   "cell_type": "code",
   "execution_count": 29,
   "metadata": {
    "scrolled": true
   },
   "outputs": [
    {
     "name": "stderr",
     "output_type": "stream",
     "text": [
      "C:\\Users\\leoca_000\\Anaconda3\\lib\\site-packages\\plotly\\offline\\offline.py:459: UserWarning:\n",
      "\n",
      "Your filename `U7_mensual` didn't end with .html. Adding .html to the end of your file.\n",
      "\n"
     ]
    }
   ],
   "source": [
    "plottingInteractively(dates,zp_values,no_turnstile_values,three_turnstile_values,butterfly_turnstile_values,ratio_butterfly_turnstile_values,name,freq)"
   ]
  },
  {
   "cell_type": "markdown",
   "metadata": {},
   "source": [
    "#### DIARIO - SISTEMA"
   ]
  },
  {
   "cell_type": "code",
   "execution_count": 30,
   "metadata": {
    "collapsed": true
   },
   "outputs": [],
   "source": [
    "name = 'sistema'\n",
    "freq = 'diario'\n",
    "daily_input_path = os.path.join(DTPM_TRXDir,'3_DAILY/daily_summary.csv')\n",
    "daily_trx = pd.read_csv(daily_input_path,sep=';',encoding='latin-1', index_col=0)"
   ]
  },
  {
   "cell_type": "code",
   "execution_count": 31,
   "metadata": {
    "collapsed": true
   },
   "outputs": [],
   "source": [
    "dates = pd.date_range(start='2015-01-01',end='2017-12-31',freq='D')\n",
    "no_turnstile_values = list(map(int, daily_trx['pn_SUM_TRX_no_t'].values))\n",
    "three_turnstile_values = list(map(int,daily_trx['pn_SUM_TRX_3t'].values))\n",
    "butterfly_turnstile_values = list(map(int,daily_trx['pn_SUM_TRX_tm'].values))\n",
    "zp_values = list(map(int,daily_trx['zp_SUM_TRX'].values))\n",
    "ratio_butterfly_turnstile_values = list(map(int,daily_trx['ratio_tm'].values))"
   ]
  },
  {
   "cell_type": "code",
   "execution_count": 32,
   "metadata": {},
   "outputs": [
    {
     "name": "stderr",
     "output_type": "stream",
     "text": [
      "C:\\Users\\leoca_000\\Anaconda3\\lib\\site-packages\\plotly\\offline\\offline.py:459: UserWarning:\n",
      "\n",
      "Your filename `sistema_diario` didn't end with .html. Adding .html to the end of your file.\n",
      "\n"
     ]
    }
   ],
   "source": [
    "plottingInteractively(dates,zp_values,no_turnstile_values,three_turnstile_values,butterfly_turnstile_values,ratio_butterfly_turnstile_values,name,freq)"
   ]
  },
  {
   "cell_type": "markdown",
   "metadata": {},
   "source": [
    "#### DIARIO - U1"
   ]
  },
  {
   "cell_type": "code",
   "execution_count": 33,
   "metadata": {
    "collapsed": true
   },
   "outputs": [],
   "source": [
    "name = 'U1'\n",
    "freq = 'diario'\n",
    "daily_input_path = os.path.join(DTPM_TRXDir,'4_DAILY_UN/' + name + '/' + name + '_summary.csv')\n",
    "daily_trx = pd.read_csv(daily_input_path,sep=';',encoding='latin-1', index_col=0)"
   ]
  },
  {
   "cell_type": "code",
   "execution_count": 34,
   "metadata": {
    "collapsed": true
   },
   "outputs": [],
   "source": [
    "dates = pd.date_range(start='2015-01-01',end='2017-12-31',freq='D')\n",
    "no_turnstile_values = list(map(int, daily_trx['pn_SUM_TRX_no_t'].values))\n",
    "three_turnstile_values = list(map(int,daily_trx['pn_SUM_TRX_3t'].values))\n",
    "butterfly_turnstile_values = list(map(int,daily_trx['pn_SUM_TRX_tm'].values))\n",
    "zp_values = list(map(int,daily_trx['zp_SUM_TRX'].values))\n",
    "ratio_butterfly_turnstile_values = list(map(int,daily_trx['ratio_tm'].values))"
   ]
  },
  {
   "cell_type": "code",
   "execution_count": 35,
   "metadata": {},
   "outputs": [
    {
     "name": "stderr",
     "output_type": "stream",
     "text": [
      "C:\\Users\\leoca_000\\Anaconda3\\lib\\site-packages\\plotly\\offline\\offline.py:459: UserWarning:\n",
      "\n",
      "Your filename `U1_diario` didn't end with .html. Adding .html to the end of your file.\n",
      "\n"
     ]
    }
   ],
   "source": [
    "plottingInteractively(dates,zp_values,no_turnstile_values,three_turnstile_values,butterfly_turnstile_values,ratio_butterfly_turnstile_values,name,freq)"
   ]
  },
  {
   "cell_type": "markdown",
   "metadata": {},
   "source": [
    "#### DIARIO - U2"
   ]
  },
  {
   "cell_type": "code",
   "execution_count": 36,
   "metadata": {
    "collapsed": true
   },
   "outputs": [],
   "source": [
    "name = 'U2'\n",
    "freq = 'diario'\n",
    "daily_input_path = os.path.join(DTPM_TRXDir,'4_DAILY_UN/' + name + '/' + name + '_summary.csv')\n",
    "daily_trx = pd.read_csv(daily_input_path,sep=';',encoding='latin-1', index_col=0)"
   ]
  },
  {
   "cell_type": "code",
   "execution_count": 37,
   "metadata": {
    "collapsed": true
   },
   "outputs": [],
   "source": [
    "dates = pd.date_range(start='2015-01-01',end='2017-12-31',freq='D')\n",
    "no_turnstile_values = list(map(int, daily_trx['pn_SUM_TRX_no_t'].values))\n",
    "three_turnstile_values = list(map(int,daily_trx['pn_SUM_TRX_3t'].values))\n",
    "butterfly_turnstile_values = list(map(int,daily_trx['pn_SUM_TRX_tm'].values))\n",
    "zp_values = list(map(int,daily_trx['zp_SUM_TRX'].values))\n",
    "ratio_butterfly_turnstile_values = list(map(int,daily_trx['ratio_tm'].values))"
   ]
  },
  {
   "cell_type": "code",
   "execution_count": 38,
   "metadata": {},
   "outputs": [
    {
     "name": "stderr",
     "output_type": "stream",
     "text": [
      "C:\\Users\\leoca_000\\Anaconda3\\lib\\site-packages\\plotly\\offline\\offline.py:459: UserWarning:\n",
      "\n",
      "Your filename `U2_diario` didn't end with .html. Adding .html to the end of your file.\n",
      "\n"
     ]
    }
   ],
   "source": [
    "plottingInteractively(dates,zp_values,no_turnstile_values,three_turnstile_values,butterfly_turnstile_values,ratio_butterfly_turnstile_values,name,freq)"
   ]
  },
  {
   "cell_type": "markdown",
   "metadata": {},
   "source": [
    "#### DIARIO - U3"
   ]
  },
  {
   "cell_type": "code",
   "execution_count": 39,
   "metadata": {
    "collapsed": true
   },
   "outputs": [],
   "source": [
    "name = 'U3'\n",
    "freq = 'diario'\n",
    "daily_input_path = os.path.join(DTPM_TRXDir,'4_DAILY_UN/' + name + '/' + name + '_summary.csv')\n",
    "daily_trx = pd.read_csv(daily_input_path,sep=';',encoding='latin-1', index_col=0)"
   ]
  },
  {
   "cell_type": "code",
   "execution_count": 40,
   "metadata": {
    "collapsed": true
   },
   "outputs": [],
   "source": [
    "dates = pd.date_range(start='2015-01-01',end='2017-12-31',freq='D')\n",
    "no_turnstile_values = list(map(int, daily_trx['pn_SUM_TRX_no_t'].values))\n",
    "three_turnstile_values = list(map(int,daily_trx['pn_SUM_TRX_3t'].values))\n",
    "butterfly_turnstile_values = list(map(int,daily_trx['pn_SUM_TRX_tm'].values))\n",
    "zp_values = list(map(int,daily_trx['zp_SUM_TRX'].values))\n",
    "ratio_butterfly_turnstile_values = list(map(int,daily_trx['ratio_tm'].values))"
   ]
  },
  {
   "cell_type": "code",
   "execution_count": 41,
   "metadata": {},
   "outputs": [
    {
     "name": "stderr",
     "output_type": "stream",
     "text": [
      "C:\\Users\\leoca_000\\Anaconda3\\lib\\site-packages\\plotly\\offline\\offline.py:459: UserWarning:\n",
      "\n",
      "Your filename `U3_diario` didn't end with .html. Adding .html to the end of your file.\n",
      "\n"
     ]
    }
   ],
   "source": [
    "plottingInteractively(dates,zp_values,no_turnstile_values,three_turnstile_values,butterfly_turnstile_values,ratio_butterfly_turnstile_values,name,freq)"
   ]
  },
  {
   "cell_type": "markdown",
   "metadata": {},
   "source": [
    "#### DIARIO - U4"
   ]
  },
  {
   "cell_type": "code",
   "execution_count": 42,
   "metadata": {
    "collapsed": true
   },
   "outputs": [],
   "source": [
    "name = 'U4'\n",
    "freq = 'diario'\n",
    "daily_input_path = os.path.join(DTPM_TRXDir,'4_DAILY_UN/' + name + '/' + name + '_summary.csv')\n",
    "daily_trx = pd.read_csv(daily_input_path,sep=';',encoding='latin-1', index_col=0)"
   ]
  },
  {
   "cell_type": "code",
   "execution_count": 43,
   "metadata": {
    "collapsed": true
   },
   "outputs": [],
   "source": [
    "dates = pd.date_range(start='2015-01-01',end='2017-12-31',freq='D')\n",
    "no_turnstile_values = list(map(int, daily_trx['pn_SUM_TRX_no_t'].values))\n",
    "three_turnstile_values = list(map(int,daily_trx['pn_SUM_TRX_3t'].values))\n",
    "butterfly_turnstile_values = list(map(int,daily_trx['pn_SUM_TRX_tm'].values))\n",
    "zp_values = list(map(int,daily_trx['zp_SUM_TRX'].values))\n",
    "ratio_butterfly_turnstile_values = list(map(int,daily_trx['ratio_tm'].values))"
   ]
  },
  {
   "cell_type": "code",
   "execution_count": 44,
   "metadata": {},
   "outputs": [
    {
     "name": "stderr",
     "output_type": "stream",
     "text": [
      "C:\\Users\\leoca_000\\Anaconda3\\lib\\site-packages\\plotly\\offline\\offline.py:459: UserWarning:\n",
      "\n",
      "Your filename `U4_diario` didn't end with .html. Adding .html to the end of your file.\n",
      "\n"
     ]
    }
   ],
   "source": [
    "plottingInteractively(dates,zp_values,no_turnstile_values,three_turnstile_values,butterfly_turnstile_values,ratio_butterfly_turnstile_values,name,freq)"
   ]
  },
  {
   "cell_type": "markdown",
   "metadata": {},
   "source": [
    "#### DIARIO - U5"
   ]
  },
  {
   "cell_type": "code",
   "execution_count": 45,
   "metadata": {
    "collapsed": true
   },
   "outputs": [],
   "source": [
    "name = 'U5'\n",
    "freq = 'diario'\n",
    "daily_input_path = os.path.join(DTPM_TRXDir,'4_DAILY_UN/' + name + '/' + name + '_summary.csv')\n",
    "daily_trx = pd.read_csv(daily_input_path,sep=';',encoding='latin-1', index_col=0)"
   ]
  },
  {
   "cell_type": "code",
   "execution_count": 46,
   "metadata": {
    "collapsed": true
   },
   "outputs": [],
   "source": [
    "dates = pd.date_range(start='2015-01-01',end='2017-12-31',freq='D')\n",
    "no_turnstile_values = list(map(int, daily_trx['pn_SUM_TRX_no_t'].values))\n",
    "three_turnstile_values = list(map(int,daily_trx['pn_SUM_TRX_3t'].values))\n",
    "butterfly_turnstile_values = list(map(int,daily_trx['pn_SUM_TRX_tm'].values))\n",
    "zp_values = list(map(int,daily_trx['zp_SUM_TRX'].values))\n",
    "ratio_butterfly_turnstile_values = list(map(int,daily_trx['ratio_tm'].values))"
   ]
  },
  {
   "cell_type": "code",
   "execution_count": 47,
   "metadata": {},
   "outputs": [
    {
     "name": "stderr",
     "output_type": "stream",
     "text": [
      "C:\\Users\\leoca_000\\Anaconda3\\lib\\site-packages\\plotly\\offline\\offline.py:459: UserWarning:\n",
      "\n",
      "Your filename `U5_diario` didn't end with .html. Adding .html to the end of your file.\n",
      "\n"
     ]
    }
   ],
   "source": [
    "plottingInteractively(dates,zp_values,no_turnstile_values,three_turnstile_values,butterfly_turnstile_values,ratio_butterfly_turnstile_values,name,freq)"
   ]
  },
  {
   "cell_type": "markdown",
   "metadata": {},
   "source": [
    "#### DIARIO - U6"
   ]
  },
  {
   "cell_type": "code",
   "execution_count": 48,
   "metadata": {
    "collapsed": true
   },
   "outputs": [],
   "source": [
    "name = 'U6'\n",
    "freq = 'diario'\n",
    "daily_input_path = os.path.join(DTPM_TRXDir,'4_DAILY_UN/' + name + '/' + name + '_summary.csv')\n",
    "daily_trx = pd.read_csv(daily_input_path,sep=';',encoding='latin-1', index_col=0)"
   ]
  },
  {
   "cell_type": "code",
   "execution_count": 49,
   "metadata": {
    "collapsed": true
   },
   "outputs": [],
   "source": [
    "dates = pd.date_range(start='2015-01-01',end='2017-12-31',freq='D')\n",
    "no_turnstile_values = list(map(int, daily_trx['pn_SUM_TRX_no_t'].values))\n",
    "three_turnstile_values = list(map(int,daily_trx['pn_SUM_TRX_3t'].values))\n",
    "butterfly_turnstile_values = list(map(int,daily_trx['pn_SUM_TRX_tm'].values))\n",
    "zp_values = list(map(int,daily_trx['zp_SUM_TRX'].values))\n",
    "ratio_butterfly_turnstile_values = list(map(int,daily_trx['ratio_tm'].values))"
   ]
  },
  {
   "cell_type": "code",
   "execution_count": 50,
   "metadata": {},
   "outputs": [
    {
     "name": "stderr",
     "output_type": "stream",
     "text": [
      "C:\\Users\\leoca_000\\Anaconda3\\lib\\site-packages\\plotly\\offline\\offline.py:459: UserWarning:\n",
      "\n",
      "Your filename `U6_diario` didn't end with .html. Adding .html to the end of your file.\n",
      "\n"
     ]
    }
   ],
   "source": [
    "plottingInteractively(dates,zp_values,no_turnstile_values,three_turnstile_values,butterfly_turnstile_values,ratio_butterfly_turnstile_values,name,freq)"
   ]
  },
  {
   "cell_type": "markdown",
   "metadata": {},
   "source": [
    "#### DIARIO - U7"
   ]
  },
  {
   "cell_type": "code",
   "execution_count": 51,
   "metadata": {
    "collapsed": true
   },
   "outputs": [],
   "source": [
    "name = 'U7'\n",
    "freq = 'diario'\n",
    "daily_input_path = os.path.join(DTPM_TRXDir,'4_DAILY_UN/' + name + '/' + name + '_summary.csv')\n",
    "daily_trx = pd.read_csv(daily_input_path,sep=';',encoding='latin-1', index_col=0)"
   ]
  },
  {
   "cell_type": "code",
   "execution_count": 52,
   "metadata": {
    "collapsed": true
   },
   "outputs": [],
   "source": [
    "dates = pd.date_range(start='2015-01-01',end='2017-12-31',freq='D')\n",
    "no_turnstile_values = list(map(int, daily_trx['pn_SUM_TRX_no_t'].values))\n",
    "three_turnstile_values = list(map(int,daily_trx['pn_SUM_TRX_3t'].values))\n",
    "butterfly_turnstile_values = list(map(int,daily_trx['pn_SUM_TRX_tm'].values))\n",
    "zp_values = list(map(int,daily_trx['zp_SUM_TRX'].values))\n",
    "ratio_butterfly_turnstile_values = list(map(int,daily_trx['ratio_tm'].values))"
   ]
  },
  {
   "cell_type": "code",
   "execution_count": 53,
   "metadata": {},
   "outputs": [
    {
     "name": "stderr",
     "output_type": "stream",
     "text": [
      "C:\\Users\\leoca_000\\Anaconda3\\lib\\site-packages\\plotly\\offline\\offline.py:459: UserWarning:\n",
      "\n",
      "Your filename `U7_diario` didn't end with .html. Adding .html to the end of your file.\n",
      "\n"
     ]
    }
   ],
   "source": [
    "plottingInteractively(dates,zp_values,no_turnstile_values,three_turnstile_values,butterfly_turnstile_values,ratio_butterfly_turnstile_values,name,freq)"
   ]
  },
  {
   "cell_type": "markdown",
   "metadata": {},
   "source": [
    "## Closed"
   ]
  }
 ],
 "metadata": {
  "kernelspec": {
   "display_name": "Python 3",
   "language": "python",
   "name": "python3"
  },
  "language_info": {
   "codemirror_mode": {
    "name": "ipython",
    "version": 3
   },
   "file_extension": ".py",
   "mimetype": "text/x-python",
   "name": "python",
   "nbconvert_exporter": "python",
   "pygments_lexer": "ipython3",
   "version": "3.6.1"
  }
 },
 "nbformat": 4,
 "nbformat_minor": 2
}
