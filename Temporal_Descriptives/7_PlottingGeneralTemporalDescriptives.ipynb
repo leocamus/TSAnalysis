{
 "cells": [
  {
   "cell_type": "markdown",
   "metadata": {},
   "source": [
    "### Notebook to plot general descriptives in time"
   ]
  },
  {
   "cell_type": "code",
   "execution_count": 1,
   "metadata": {
    "collapsed": true
   },
   "outputs": [],
   "source": [
    "import os\n",
    "import sys\n",
    "module_path = os.path.abspath(os.path.join('..'))\n",
    "if module_path not in sys.path:\n",
    "    sys.path.append(module_path)"
   ]
  },
  {
   "cell_type": "code",
   "execution_count": 2,
   "metadata": {},
   "outputs": [
    {
     "data": {
      "text/html": [
       "<style>.container { width:80% !important; }</style>"
      ],
      "text/plain": [
       "<IPython.core.display.HTML object>"
      ]
     },
     "metadata": {},
     "output_type": "display_data"
    }
   ],
   "source": [
    "%matplotlib inline\n",
    "from IPython.core.display import display, HTML\n",
    "display(HTML(\"<style>.container { width:80% !important; }</style>\"))\n",
    "\n",
    "import pandas as pd\n",
    "import matplotlib\n",
    "import matplotlib.pyplot as plt\n",
    "import matplotlib.dates as mdates\n",
    "import numpy as np\n",
    "import datetime as dt\n",
    "import time\n",
    "from importlib import reload\n",
    "from Utils import TransantiagoConstants"
   ]
  },
  {
   "cell_type": "markdown",
   "metadata": {},
   "source": [
    "---------------------------"
   ]
  },
  {
   "cell_type": "markdown",
   "metadata": {},
   "source": [
    "#### General information"
   ]
  },
  {
   "cell_type": "code",
   "execution_count": 3,
   "metadata": {
    "collapsed": true
   },
   "outputs": [],
   "source": [
    "summary_dir = TransantiagoConstants.SummaryDir\n",
    "file_name = 'summarytrx.csv'\n",
    "path_to_file = os.path.join(summary_dir,file_name)\n",
    "summary_trx = pd.read_csv(path_to_file, sep=';', encoding='latin-1',index_col=0)"
   ]
  },
  {
   "cell_type": "code",
   "execution_count": 4,
   "metadata": {
    "collapsed": true
   },
   "outputs": [],
   "source": [
    "summary_trx['date'] = pd.to_datetime(summary_trx['date'])"
   ]
  },
  {
   "cell_type": "code",
   "execution_count": 5,
   "metadata": {
    "collapsed": true
   },
   "outputs": [],
   "source": [
    "weekend = set([5, 6])\n",
    "\n",
    "viernes_santo = dt.date(2017,4,14) #Friday\n",
    "censo_abreviado = dt.date(2017,4,19) #Wednesday\n",
    "dia_trabajo = dt.date(2017,5,1) #Monday\n",
    "san_pedro = dt.date(2017,6,26) #Monday\n",
    "asuncion_virgen = dt.date(2017,8,15) #Tuesday\n",
    "\n",
    "special_dates = {viernes_santo,censo_abreviado,dia_trabajo,san_pedro,asuncion_virgen}"
   ]
  },
  {
   "cell_type": "code",
   "execution_count": 6,
   "metadata": {
    "collapsed": true
   },
   "outputs": [],
   "source": [
    "working_summary = summary_trx.loc[~(summary_trx['date'].dt.weekday.isin(weekend)) & \n",
    "                                            ~(summary_trx['date'].isin(special_dates)),:]"
   ]
  },
  {
   "cell_type": "code",
   "execution_count": 7,
   "metadata": {
    "collapsed": true
   },
   "outputs": [],
   "source": [
    "outlier_1 = dt.date(2017,6,5)\n",
    "outlier_2 = dt.date(2017,6,13)\n",
    "outlier_3 = dt.date(2017,6,14)\n",
    "\n",
    "outliers = {outlier_1,outlier_2,outlier_3}"
   ]
  },
  {
   "cell_type": "code",
   "execution_count": 8,
   "metadata": {
    "collapsed": true
   },
   "outputs": [],
   "source": [
    "clean_working_summary = working_summary.loc[~(working_summary['date'].isin(outliers)),:]"
   ]
  },
  {
   "cell_type": "markdown",
   "metadata": {},
   "source": [
    "* Checking if dates are sorted. <font color='green'> <strong> Passed <strong>"
   ]
  },
  {
   "cell_type": "code",
   "execution_count": 9,
   "metadata": {},
   "outputs": [
    {
     "data": {
      "text/html": [
       "<div>\n",
       "<style>\n",
       "    .dataframe thead tr:only-child th {\n",
       "        text-align: right;\n",
       "    }\n",
       "\n",
       "    .dataframe thead th {\n",
       "        text-align: left;\n",
       "    }\n",
       "\n",
       "    .dataframe tbody tr th {\n",
       "        vertical-align: top;\n",
       "    }\n",
       "</style>\n",
       "<table border=\"1\" class=\"dataframe\">\n",
       "  <thead>\n",
       "    <tr style=\"text-align: right;\">\n",
       "      <th></th>\n",
       "      <th>date</th>\n",
       "      <th>total_trx</th>\n",
       "      <th>total_clean_trx</th>\n",
       "      <th>total_clean_turnstile_trx</th>\n",
       "      <th>total_clean_no_turnstile_trx</th>\n",
       "      <th>avg_time_turnstile</th>\n",
       "      <th>avg_time_no_turnstile</th>\n",
       "      <th>std_time_turnstile</th>\n",
       "      <th>std_time_no_turnstile</th>\n",
       "      <th>P97</th>\n",
       "    </tr>\n",
       "  </thead>\n",
       "  <tbody>\n",
       "    <tr>\n",
       "      <th>0</th>\n",
       "      <td>2017-03-01</td>\n",
       "      <td>2329229.0</td>\n",
       "      <td>2210399.0</td>\n",
       "      <td>134375.0</td>\n",
       "      <td>1730490.0</td>\n",
       "      <td>6.459407</td>\n",
       "      <td>3.967225</td>\n",
       "      <td>5.612298</td>\n",
       "      <td>5.311473</td>\n",
       "      <td>41.0</td>\n",
       "    </tr>\n",
       "    <tr>\n",
       "      <th>1</th>\n",
       "      <td>2017-03-02</td>\n",
       "      <td>2369991.0</td>\n",
       "      <td>2332086.0</td>\n",
       "      <td>144011.0</td>\n",
       "      <td>1824820.0</td>\n",
       "      <td>5.825547</td>\n",
       "      <td>3.433931</td>\n",
       "      <td>3.859037</td>\n",
       "      <td>3.537053</td>\n",
       "      <td>25.0</td>\n",
       "    </tr>\n",
       "    <tr>\n",
       "      <th>2</th>\n",
       "      <td>2017-03-03</td>\n",
       "      <td>2448178.0</td>\n",
       "      <td>2410476.0</td>\n",
       "      <td>148234.0</td>\n",
       "      <td>1884238.0</td>\n",
       "      <td>5.835514</td>\n",
       "      <td>3.436877</td>\n",
       "      <td>3.894331</td>\n",
       "      <td>3.528365</td>\n",
       "      <td>25.0</td>\n",
       "    </tr>\n",
       "    <tr>\n",
       "      <th>5</th>\n",
       "      <td>2017-03-07</td>\n",
       "      <td>2567943.0</td>\n",
       "      <td>2529902.0</td>\n",
       "      <td>160738.0</td>\n",
       "      <td>1972070.0</td>\n",
       "      <td>5.723488</td>\n",
       "      <td>3.439889</td>\n",
       "      <td>3.813096</td>\n",
       "      <td>3.544536</td>\n",
       "      <td>25.0</td>\n",
       "    </tr>\n",
       "    <tr>\n",
       "      <th>6</th>\n",
       "      <td>2017-03-09</td>\n",
       "      <td>2574321.0</td>\n",
       "      <td>2535246.0</td>\n",
       "      <td>155082.0</td>\n",
       "      <td>1987815.0</td>\n",
       "      <td>5.649670</td>\n",
       "      <td>3.430727</td>\n",
       "      <td>3.747110</td>\n",
       "      <td>3.536330</td>\n",
       "      <td>25.0</td>\n",
       "    </tr>\n",
       "  </tbody>\n",
       "</table>\n",
       "</div>"
      ],
      "text/plain": [
       "        date  total_trx  total_clean_trx  total_clean_turnstile_trx  \\\n",
       "0 2017-03-01  2329229.0        2210399.0                   134375.0   \n",
       "1 2017-03-02  2369991.0        2332086.0                   144011.0   \n",
       "2 2017-03-03  2448178.0        2410476.0                   148234.0   \n",
       "5 2017-03-07  2567943.0        2529902.0                   160738.0   \n",
       "6 2017-03-09  2574321.0        2535246.0                   155082.0   \n",
       "\n",
       "   total_clean_no_turnstile_trx  avg_time_turnstile  avg_time_no_turnstile  \\\n",
       "0                     1730490.0            6.459407               3.967225   \n",
       "1                     1824820.0            5.825547               3.433931   \n",
       "2                     1884238.0            5.835514               3.436877   \n",
       "5                     1972070.0            5.723488               3.439889   \n",
       "6                     1987815.0            5.649670               3.430727   \n",
       "\n",
       "   std_time_turnstile  std_time_no_turnstile   P97  \n",
       "0            5.612298               5.311473  41.0  \n",
       "1            3.859037               3.537053  25.0  \n",
       "2            3.894331               3.528365  25.0  \n",
       "5            3.813096               3.544536  25.0  \n",
       "6            3.747110               3.536330  25.0  "
      ]
     },
     "execution_count": 9,
     "metadata": {},
     "output_type": "execute_result"
    }
   ],
   "source": [
    "clean_working_summary.head()"
   ]
  },
  {
   "cell_type": "code",
   "execution_count": 10,
   "metadata": {},
   "outputs": [
    {
     "data": {
      "text/plain": [
       "True"
      ]
     },
     "execution_count": 10,
     "metadata": {},
     "output_type": "execute_result"
    }
   ],
   "source": [
    "clean_working_summary.date.is_monotonic"
   ]
  },
  {
   "cell_type": "markdown",
   "metadata": {},
   "source": [
    "* Plotting: Number of trx"
   ]
  },
  {
   "cell_type": "code",
   "execution_count": 11,
   "metadata": {
    "collapsed": true
   },
   "outputs": [],
   "source": [
    "x = clean_working_summary['date'].dt.date.values\n",
    "sin_torniquete = clean_working_summary['total_clean_no_turnstile_trx'].values\n",
    "con_torniquete = clean_working_summary['total_clean_turnstile_trx'].values\n",
    "total = clean_working_summary['total_trx'].values - (con_torniquete+sin_torniquete)"
   ]
  },
  {
   "cell_type": "code",
   "execution_count": 12,
   "metadata": {
    "collapsed": true
   },
   "outputs": [],
   "source": [
    "def millions(x, pos):\n",
    "    'The two args are the value and tick position'\n",
    "    return '%1.1fM' % (x*1e-6)"
   ]
  },
  {
   "cell_type": "code",
   "execution_count": 13,
   "metadata": {
    "collapsed": true
   },
   "outputs": [],
   "source": [
    "from matplotlib.ticker import FuncFormatter\n",
    "formatter = FuncFormatter(millions)"
   ]
  },
  {
   "cell_type": "code",
   "execution_count": 14,
   "metadata": {
    "collapsed": true
   },
   "outputs": [],
   "source": [
    "colors = [(0, 150, 136),(255, 235, 59),(255, 152, 0)]\n",
    "for i in range(len(colors)):\n",
    "    r, g, b = colors[i]  \n",
    "    colors[i] = (r / 255., g / 255., b / 255.)"
   ]
  },
  {
   "cell_type": "code",
   "execution_count": 15,
   "metadata": {},
   "outputs": [
    {
     "data": {
      "image/png": "[encoded data removed]",
      "text/plain": [
       "<matplotlib.figure.Figure at 0x1eaea378828>"
      ]
     },
     "metadata": {},
     "output_type": "display_data"
    }
   ],
   "source": [
    "labels = [\"Sin torn. \", \"Torn. mariposa\", \"Otros\"]\n",
    "fig_1, ax_1 = plt.subplots()\n",
    "ax_1.stackplot(x, sin_torniquete , con_torniquete , total , labels = labels , colors=colors)\n",
    "ax_1.legend(loc=3)\n",
    "fig_1.autofmt_xdate()\n",
    "ax_1.set_ylim(1000000,2800000)\n",
    "ax_1.set_title('Transacciones en paradero normal')\n",
    "ax_1.set_ylabel('Transacciones')\n",
    "ax_1.yaxis.set_major_formatter(formatter)\n",
    "ax_1.set_xlabel('Fecha')\n",
    "plt.savefig('C:/Users/leoca_000/Desktop/Evasion/03_report/02_Figs/3_trxOverTime.pdf')\n",
    "plt.show()"
   ]
  },
  {
   "cell_type": "markdown",
   "metadata": {},
   "source": [
    "* Plotting: Mean time interval"
   ]
  },
  {
   "cell_type": "code",
   "execution_count": 16,
   "metadata": {
    "collapsed": true
   },
   "outputs": [],
   "source": [
    "colors = [(85,98,112),(78,205,196),(199,244,100),(255,107,107),(196,77,88)]\n",
    "for i in range(len(colors)):\n",
    "    r, g, b = colors[i]  \n",
    "    colors[i] = (r / 255., g / 255., b / 255.)"
   ]
  },
  {
   "cell_type": "code",
   "execution_count": 17,
   "metadata": {
    "collapsed": true
   },
   "outputs": [],
   "source": [
    "con_torniquete = clean_working_summary['avg_time_turnstile'].values\n",
    "sin_torniquete = clean_working_summary['avg_time_no_turnstile'].values"
   ]
  },
  {
   "cell_type": "code",
   "execution_count": 18,
   "metadata": {},
   "outputs": [
    {
     "data": {
      "image/png": "[encoded data removed]",
      "text/plain": [
       "<matplotlib.figure.Figure at 0x1eaea7cce80>"
      ]
     },
     "metadata": {},
     "output_type": "display_data"
    }
   ],
   "source": [
    "fig_2, ax_2 = plt.subplots()\n",
    "\n",
    "ax_2.plot(x,sin_torniquete, color = colors [0], label='sin torniquete')\n",
    "ax_2.plot(x,con_torniquete, color = colors [4], label='torniquete mariposa')\n",
    "\n",
    "fig_2.autofmt_xdate()\n",
    "ax_2.legend()\n",
    "\n",
    "ax_2.set_title('Intervalo promedio entre transacciones')\n",
    "ax_2.set_ylabel('Intervalo Promedio [s]')\n",
    "ax_2.set_xlabel('Fecha')\n",
    "plt.savefig('C:/Users/leoca_000/Desktop/Evasion/03_report/02_Figs/3_avgIntervalOverTime.pdf')"
   ]
  },
  {
   "cell_type": "code",
   "execution_count": 19,
   "metadata": {
    "collapsed": true
   },
   "outputs": [],
   "source": [
    "diferencia = con_torniquete - sin_torniquete"
   ]
  },
  {
   "cell_type": "code",
   "execution_count": 20,
   "metadata": {},
   "outputs": [
    {
     "name": "stderr",
     "output_type": "stream",
     "text": [
      "C:\\Users\\leoca_000\\Anaconda3\\lib\\site-packages\\matplotlib\\axes\\_axes.py:545: UserWarning: No labelled objects found. Use label='...' kwarg on individual plots.\n",
      "  warnings.warn(\"No labelled objects found. \"\n"
     ]
    },
    {
     "data": {
      "image/png": "[encoded data removed]",
      "text/plain": [
       "<matplotlib.figure.Figure at 0x1eaea82b710>"
      ]
     },
     "metadata": {},
     "output_type": "display_data"
    }
   ],
   "source": [
    "fig_3, ax_3 = plt.subplots()\n",
    "\n",
    "ax_3.plot(x,diferencia, color = colors [1])\n",
    "\n",
    "fig_3.autofmt_xdate()\n",
    "ax_3.legend()\n",
    "\n",
    "ax_3.set_title('Diferencia intervalo promedio entre transacciones')\n",
    "ax_3.set_ylabel('Diferencia Intervalo Promedio [s]')\n",
    "ax_3.set_xlabel('Fecha')\n",
    "plt.savefig('C:/Users/leoca_000/Desktop/Evasion/03_report/02_Figs/3_avgDifferenceOverTime.pdf')"
   ]
  },
  {
   "cell_type": "markdown",
   "metadata": {},
   "source": [
    "### Closed"
   ]
  }
 ],
 "metadata": {
  "kernelspec": {
   "display_name": "Python 3",
   "language": "python",
   "name": "python3"
  },
  "language_info": {
   "codemirror_mode": {
    "name": "ipython",
    "version": 3
   },
   "file_extension": ".py",
   "mimetype": "text/x-python",
   "name": "python",
   "nbconvert_exporter": "python",
   "pygments_lexer": "ipython3",
   "version": "3.6.1"
  }
 },
 "nbformat": 4,
 "nbformat_minor": 2
}
