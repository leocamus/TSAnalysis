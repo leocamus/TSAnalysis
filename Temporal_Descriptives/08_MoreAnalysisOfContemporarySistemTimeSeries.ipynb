{
 "cells": [
  {
   "cell_type": "markdown",
   "metadata": {},
   "source": [
    "# More analysis of initial system-models"
   ]
  },
  {
   "cell_type": "markdown",
   "metadata": {},
   "source": [
    "Includes:\n",
    "1. Analysis of with-turnstile-percentage threshold evolution"
   ]
  },
  {
   "cell_type": "code",
   "execution_count": 1,
   "metadata": {
    "collapsed": true
   },
   "outputs": [],
   "source": [
    "import os\n",
    "import sys\n",
    "module_path = os.path.abspath(os.path.join('..'))\n",
    "if module_path not in sys.path:\n",
    "    sys.path.append(module_path)"
   ]
  },
  {
   "cell_type": "code",
   "execution_count": 2,
   "metadata": {},
   "outputs": [
    {
     "data": {
      "text/html": [
       "<style>.container { width:100% !important; }</style>"
      ],
      "text/plain": [
       "<IPython.core.display.HTML object>"
      ]
     },
     "metadata": {},
     "output_type": "display_data"
    }
   ],
   "source": [
    "%matplotlib inline\n",
    "from IPython.core.display import display, HTML\n",
    "display(HTML(\"<style>.container { width:100% !important; }</style>\"))\n",
    "\n",
    "import plotly.plotly\n",
    "import plotly.tools as tls\n",
    "import plotly.graph_objs as go\n",
    "\n",
    "import pandas as pd\n",
    "import matplotlib\n",
    "import matplotlib.pyplot as plt\n",
    "import matplotlib.dates as mdates\n",
    "from matplotlib.ticker import FuncFormatter\n",
    "import numpy as np\n",
    "import datetime as dt\n",
    "import time\n",
    "import math"
   ]
  },
  {
   "cell_type": "code",
   "execution_count": 3,
   "metadata": {},
   "outputs": [
    {
     "name": "stderr",
     "output_type": "stream",
     "text": [
      "C:\\Users\\leoca_000\\Anaconda3\\lib\\site-packages\\statsmodels\\compat\\pandas.py:56: FutureWarning:\n",
      "\n",
      "The pandas.core.datetools module is deprecated and will be removed in a future version. Please use the pandas.tseries module instead.\n",
      "\n"
     ]
    }
   ],
   "source": [
    "import statsmodels.api as sm"
   ]
  },
  {
   "cell_type": "code",
   "execution_count": 4,
   "metadata": {
    "collapsed": true
   },
   "outputs": [],
   "source": [
    "from Utils import TransantiagoConstants"
   ]
  },
  {
   "cell_type": "code",
   "execution_count": 5,
   "metadata": {
    "collapsed": true
   },
   "outputs": [],
   "source": [
    "DTPMDir = TransantiagoConstants.DTPMDir\n",
    "DTPM_TRXDir = TransantiagoConstants.DTPM_TRXDir"
   ]
  },
  {
   "cell_type": "code",
   "execution_count": 6,
   "metadata": {
    "collapsed": true
   },
   "outputs": [],
   "source": [
    "daily_input_path = os.path.join(DTPM_TRXDir,'3_DAILY/daily_summary.csv')\n",
    "daily_trx = pd.read_csv(daily_input_path,sep=';',encoding='latin-1', index_col=0)"
   ]
  },
  {
   "cell_type": "markdown",
   "metadata": {},
   "source": [
    "### DAILY AT SYSTEM LEVEL. CREATING NEW DEPENDENT AND INDEPENDENT VARIABLES"
   ]
  },
  {
   "cell_type": "code",
   "execution_count": 7,
   "metadata": {
    "collapsed": true
   },
   "outputs": [],
   "source": [
    "daily_trx.loc[:,'TOTAL_trx'] = daily_trx.loc[:,'pn_SUM_TRX_no_t'] + daily_trx.loc[:,'pn_SUM_TRX_3t'] + daily_trx.loc[:,'pn_SUM_TRX_tm'] + daily_trx.loc[:,'zp_SUM_TRX']"
   ]
  },
  {
   "cell_type": "code",
   "execution_count": 8,
   "metadata": {
    "collapsed": true
   },
   "outputs": [],
   "source": [
    "independent_variables_path = os.path.join(DTPM_TRXDir,'0_INDEPENDENTS/independents_variables.csv')\n",
    "independent_variables = pd.read_csv(independent_variables_path,sep=';',encoding='latin-1', index_col=0, parse_dates=[1])"
   ]
  },
  {
   "cell_type": "code",
   "execution_count": 9,
   "metadata": {
    "collapsed": true
   },
   "outputs": [],
   "source": [
    "independent_variables.loc[:,'Verano'] =  independent_variables.loc[:,'Enero'] + independent_variables.loc[:,'Febrero']\n",
    "independent_variables.loc[:,'Nov_Dic_2017'] = independent_variables.loc[:,'Nov_2017'] + independent_variables.loc[:,'Dic_2017']\n",
    "independent_variables.loc[:,'WEEK_OF_YEAR'] = independent_variables.loc[:,'DATE'].apply(lambda x: x.week)\n",
    "independent_variables = pd.get_dummies(independent_variables, columns=['WEEK_OF_YEAR'])"
   ]
  },
  {
   "cell_type": "code",
   "execution_count": 10,
   "metadata": {
    "collapsed": true
   },
   "outputs": [],
   "source": [
    "complete_db = daily_trx.merge(independent_variables, on =['YEAR','MONTH','YEAR_DAY'], how='left')"
   ]
  },
  {
   "cell_type": "code",
   "execution_count": 11,
   "metadata": {
    "collapsed": true
   },
   "outputs": [],
   "source": [
    "complete_db.sort_values(by=['YEAR','MONTH','YEAR_DAY'], ascending=[True,True,True], inplace=True)"
   ]
  },
  {
   "cell_type": "markdown",
   "metadata": {},
   "source": [
    "## Dataframe to summarize results for dummy analyses"
   ]
  },
  {
   "cell_type": "code",
   "execution_count": 12,
   "metadata": {
    "collapsed": true
   },
   "outputs": [],
   "source": [
    "dummies_summary = pd.DataFrame()"
   ]
  },
  {
   "cell_type": "code",
   "execution_count": 13,
   "metadata": {
    "collapsed": true
   },
   "outputs": [],
   "source": [
    "def summarizingResults(x, df, i):\n",
    "    params = x.params.rename('params_' + str(i)) #x.params is a pandas series. The rename call is to assign a name to the series.\n",
    "    t = x.tvalues.rename('t_' + str(i)) #x.tvalues is a pandas series\n",
    "    p = x.pvalues.rename('p_' + str(i)) #x.pvalues is a pandas series\n",
    "\n",
    "    results = pd.concat([params, t, p], axis=1).T    \n",
    "    df = pd.concat([df, results], axis=0)\n",
    "    \n",
    "    return df"
   ]
  },
  {
   "cell_type": "markdown",
   "metadata": {},
   "source": [
    "## Begin analyses for dummy variables..."
   ]
  },
  {
   "cell_type": "markdown",
   "metadata": {},
   "source": [
    "* Selected model to analyse evolution of 'r_tm_x_rtm_i' variable is M8"
   ]
  },
  {
   "cell_type": "code",
   "execution_count": 14,
   "metadata": {
    "collapsed": true
   },
   "outputs": [],
   "source": [
    "max_ratio = math.ceil(complete_db.loc[complete_db['ratio_tm']==complete_db['ratio_tm'].max(),'ratio_tm'].item())"
   ]
  },
  {
   "cell_type": "code",
   "execution_count": 15,
   "metadata": {
    "collapsed": true
   },
   "outputs": [],
   "source": [
    "for i in range(0,max_ratio+1):\n",
    "    \n",
    "    complete_db.loc[:,'rtm_i'] = np.where((i<=complete_db.loc[:,'ratio_tm']),1,0)\n",
    "    complete_db.loc[:,'r_tm_x_rtm_i'] = complete_db.loc[:,'ratio_tm'] * complete_db.loc[:,'rtm_i']\n",
    "    \n",
    "    Y = complete_db.loc[:,'TOTAL_trx']\n",
    "    X = complete_db.loc[:,['SATURDAY',\n",
    "                           'SUNDAY',\n",
    "                           'ratio_tm',\n",
    "                           'r_tm_x_rtm_i',\n",
    "                           'kms_ofertados',\n",
    "                           'WEEK_OF_YEAR_52',\n",
    "                           'WEEK_OF_YEAR_53',\n",
    "                           'WEEK_OF_YEAR_1',\n",
    "                           'WEEK_OF_YEAR_2',\n",
    "                           'WEEK_OF_YEAR_3',\n",
    "                           'WEEK_OF_YEAR_4',\n",
    "                           'WEEK_OF_YEAR_5',\n",
    "                           'WEEK_OF_YEAR_6',\n",
    "                           'WEEK_OF_YEAR_7',\n",
    "                           'WEEK_OF_YEAR_8',\n",
    "                           'WEEK_OF_YEAR_9',\n",
    "                           'Julio',\n",
    "                           't',\n",
    "                           'Feriado_laboral',\n",
    "                           'Feriado_no_laboral',\n",
    "                           'FDS_Largo',\n",
    "                           'Disturbios',\n",
    "                           'Clima',\n",
    "                           'Partido',\n",
    "                           'Censo',\n",
    "                           'visperas_laborales',\n",
    "                           'N_ZPs']]\n",
    "    X = sm.add_constant(X)\n",
    "    m = sm.OLS(Y, X)\n",
    "    results = m.fit()\n",
    "    \n",
    "    dummies_summary = summarizingResults(results, dummies_summary, i)"
   ]
  },
  {
   "cell_type": "code",
   "execution_count": 16,
   "metadata": {
    "collapsed": true
   },
   "outputs": [],
   "source": [
    "dummies_summary_path = os.path.join(DTPM_TRXDir,'5_RESULTS/1_SYSTEM/0_original/contemporary_dummies_summary.csv')\n",
    "dummies_summary.to_csv(dummies_summary_path, sep=';',encoding='latin-1')"
   ]
  },
  {
   "cell_type": "markdown",
   "metadata": {},
   "source": [
    "## Dataframe to summarize results for lagged analyses"
   ]
  },
  {
   "cell_type": "code",
   "execution_count": null,
   "metadata": {
    "collapsed": true
   },
   "outputs": [],
   "source": [
    "lagged_summary = pd.DataFrame()"
   ]
  },
  {
   "cell_type": "code",
   "execution_count": null,
   "metadata": {
    "collapsed": true
   },
   "outputs": [],
   "source": [
    "def summarizingLaggedResults(x, df, model_name):\n",
    "    params = x.params.rename('params_' + model_name)\n",
    "    t = x.tvalues.rename('t_' + model_name)\n",
    "    p = x.pvalues.rename('p_' + model_name)\n",
    "\n",
    "    df = pd.concat([df, params, t, p], axis=1)\n",
    "    df.loc['R2_ADJ', 'params_' + model_name] = x.rsquared_adj\n",
    "    df.loc['AIC', 'params_' + model_name] = x.aic\n",
    "    df.loc['F', 'params_' + model_name] = x.fvalue\n",
    "    df.loc['P_F', 'params_' + model_name] = x.f_pvalue\n",
    "    df.loc['D_W', 'params_' + model_name] = sm.stats.stattools.durbin_watson(x.resid)\n",
    "    \n",
    "    return df"
   ]
  },
  {
   "cell_type": "markdown",
   "metadata": {},
   "source": [
    "## Begin analyses for lagged variables..."
   ]
  },
  {
   "cell_type": "markdown",
   "metadata": {},
   "source": [
    "* Selected model to analyse lagged variables is M5."
   ]
  },
  {
   "cell_type": "markdown",
   "metadata": {},
   "source": [
    "Model 11"
   ]
  },
  {
   "cell_type": "code",
   "execution_count": null,
   "metadata": {
    "collapsed": true
   },
   "outputs": [],
   "source": [
    "complete_db['lag_ratio_tm'] = complete_db['ratio_tm'].shift(1)"
   ]
  },
  {
   "cell_type": "code",
   "execution_count": null,
   "metadata": {
    "collapsed": true
   },
   "outputs": [],
   "source": [
    "Y = complete_db.loc[:,'TOTAL_trx']\n",
    "X = complete_db.loc[:,['SATURDAY',\n",
    "                        'SUNDAY',\n",
    "                        'lag_ratio_tm',\n",
    "                        'kms_ofertados',\n",
    "                        'WEEK_OF_YEAR_52',\n",
    "                        'WEEK_OF_YEAR_53',\n",
    "                        'WEEK_OF_YEAR_1',\n",
    "                        'WEEK_OF_YEAR_2',\n",
    "                        'WEEK_OF_YEAR_3',\n",
    "                        'WEEK_OF_YEAR_4',\n",
    "                        'WEEK_OF_YEAR_5',\n",
    "                        'WEEK_OF_YEAR_6',\n",
    "                        'WEEK_OF_YEAR_7',\n",
    "                        'WEEK_OF_YEAR_8',\n",
    "                        'WEEK_OF_YEAR_9',\n",
    "                        'Julio',\n",
    "                        't',\n",
    "                        'Feriado_laboral',\n",
    "                        'Feriado_no_laboral',\n",
    "                        'FDS_Largo',\n",
    "                        'Disturbios',\n",
    "                        'Clima',\n",
    "                        'Partido',\n",
    "                        'Censo',\n",
    "                        'visperas_laborales',\n",
    "                        'N_ZPs']]\n",
    "\n",
    "X = sm.add_constant(X)\n",
    "m_11 = sm.OLS(Y, X, missing='drop')\n",
    "results_11 = m_11.fit()\n",
    "#print(results_11.summary())\n",
    "lagged_summary = summarizingResults(results_11, lagged_summary, 'm11')"
   ]
  },
  {
   "cell_type": "markdown",
   "metadata": {},
   "source": [
    "Model 12"
   ]
  },
  {
   "cell_type": "code",
   "execution_count": null,
   "metadata": {
    "collapsed": true
   },
   "outputs": [],
   "source": [
    "complete_db['lag_ratio_tm_2'] = complete_db['lag_ratio_tm'] * complete_db['lag_ratio_tm']"
   ]
  },
  {
   "cell_type": "code",
   "execution_count": null,
   "metadata": {},
   "outputs": [],
   "source": [
    "Y = complete_db.loc[:,'TOTAL_trx']\n",
    "X = complete_db.loc[:,['SATURDAY',\n",
    "                       'SUNDAY',\n",
    "                       'lag_ratio_tm',\n",
    "                       'lag_ratio_tm_2',\n",
    "                       'kms_ofertados',\n",
    "                       'WEEK_OF_YEAR_52',\n",
    "                       'WEEK_OF_YEAR_53',\n",
    "                       'WEEK_OF_YEAR_1',\n",
    "                       'WEEK_OF_YEAR_2',\n",
    "                       'WEEK_OF_YEAR_3',\n",
    "                       'WEEK_OF_YEAR_4',\n",
    "                       'WEEK_OF_YEAR_5',\n",
    "                       'WEEK_OF_YEAR_6',\n",
    "                       'WEEK_OF_YEAR_7',\n",
    "                       'WEEK_OF_YEAR_8',\n",
    "                       'WEEK_OF_YEAR_9',\n",
    "                       'Julio',\n",
    "                       't',\n",
    "                       'Feriado_laboral',\n",
    "                       'Feriado_no_laboral',\n",
    "                       'FDS_Largo',\n",
    "                       'Disturbios',\n",
    "                       'Clima',\n",
    "                       'Partido',\n",
    "                       'Censo',\n",
    "                       'visperas_laborales',\n",
    "                       'N_ZPs']]\n",
    "\n",
    "X = sm.add_constant(X)\n",
    "m_12 = sm.OLS(Y, X, missing='drop')\n",
    "results_12 = m_12.fit()\n",
    "#print(results_12.summary())\n",
    "lagged_summary = summarizingResults(results_12, lagged_summary, 'm12')"
   ]
  },
  {
   "cell_type": "markdown",
   "metadata": {},
   "source": [
    "* Model 13"
   ]
  },
  {
   "cell_type": "code",
   "execution_count": null,
   "metadata": {},
   "outputs": [],
   "source": [
    "Y = complete_db.loc[:,'TOTAL_trx']\n",
    "X = complete_db.loc[:,['SATURDAY',\n",
    "                       'SUNDAY',\n",
    "                       'lag_ratio_tm_2',\n",
    "                       'kms_ofertados',\n",
    "                       'WEEK_OF_YEAR_52',\n",
    "                       'WEEK_OF_YEAR_53',\n",
    "                       'WEEK_OF_YEAR_1',\n",
    "                       'WEEK_OF_YEAR_2',\n",
    "                       'WEEK_OF_YEAR_3',\n",
    "                       'WEEK_OF_YEAR_4',\n",
    "                       'WEEK_OF_YEAR_5',\n",
    "                       'WEEK_OF_YEAR_6',\n",
    "                       'WEEK_OF_YEAR_7',\n",
    "                       'WEEK_OF_YEAR_8',\n",
    "                       'WEEK_OF_YEAR_9',\n",
    "                       'Julio',\n",
    "                       't',\n",
    "                       'Feriado_laboral',\n",
    "                       'Feriado_no_laboral',\n",
    "                       'FDS_Largo',\n",
    "                       'Disturbios',\n",
    "                       'Clima',\n",
    "                       'Partido',\n",
    "                       'Censo',\n",
    "                       'visperas_laborales',\n",
    "                       'N_ZPs']]\n",
    "\n",
    "X = sm.add_constant(X)\n",
    "m_13 = sm.OLS(Y, X, missing='drop')\n",
    "results_13 = m_13.fit()\n",
    "print(results_13.summary())\n",
    "lagged_summary = summarizingResults(results_13, lagged_summary, 'm13')"
   ]
  },
  {
   "cell_type": "code",
   "execution_count": null,
   "metadata": {
    "collapsed": true
   },
   "outputs": [],
   "source": []
  }
 ],
 "metadata": {
  "kernelspec": {
   "display_name": "Python 3",
   "language": "python",
   "name": "python3"
  },
  "language_info": {
   "codemirror_mode": {
    "name": "ipython",
    "version": 3
   },
   "file_extension": ".py",
   "mimetype": "text/x-python",
   "name": "python",
   "nbconvert_exporter": "python",
   "pygments_lexer": "ipython3",
   "version": "3.6.1"
  }
 },
 "nbformat": 4,
 "nbformat_minor": 2
}
