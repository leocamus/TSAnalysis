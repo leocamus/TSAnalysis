{
 "cells": [
  {
   "cell_type": "markdown",
   "metadata": {},
   "source": [
    "## Time series estimation - Daily at UN level"
   ]
  },
  {
   "cell_type": "markdown",
   "metadata": {},
   "source": [
    "% TODO: Check if R-squared are correctly computed"
   ]
  },
  {
   "cell_type": "code",
   "execution_count": 1,
   "metadata": {
    "collapsed": true
   },
   "outputs": [],
   "source": [
    "import os\n",
    "import sys\n",
    "module_path = os.path.abspath(os.path.join('..'))\n",
    "if module_path not in sys.path:\n",
    "    sys.path.append(module_path)"
   ]
  },
  {
   "cell_type": "code",
   "execution_count": 2,
   "metadata": {},
   "outputs": [
    {
     "data": {
      "text/html": [
       "<style>.container { width:100% !important; }</style>"
      ],
      "text/plain": [
       "<IPython.core.display.HTML object>"
      ]
     },
     "metadata": {},
     "output_type": "display_data"
    }
   ],
   "source": [
    "%matplotlib inline\n",
    "from IPython.core.display import display, HTML\n",
    "display(HTML(\"<style>.container { width:100% !important; }</style>\"))\n",
    "\n",
    "import pandas as pd\n",
    "import matplotlib\n",
    "import matplotlib.pyplot as plt\n",
    "import matplotlib.dates as mdates\n",
    "import numpy as np\n",
    "import datetime as dt\n",
    "import time"
   ]
  },
  {
   "cell_type": "code",
   "execution_count": 3,
   "metadata": {},
   "outputs": [
    {
     "name": "stderr",
     "output_type": "stream",
     "text": [
      "C:\\Users\\leoca_000\\Anaconda3\\lib\\site-packages\\statsmodels\\compat\\pandas.py:56: FutureWarning: The pandas.core.datetools module is deprecated and will be removed in a future version. Please use the pandas.tseries module instead.\n",
      "  from pandas.core import datetools\n"
     ]
    }
   ],
   "source": [
    "import statsmodels.api as sm"
   ]
  },
  {
   "cell_type": "code",
   "execution_count": 4,
   "metadata": {
    "collapsed": true
   },
   "outputs": [],
   "source": [
    "from Utils import TransantiagoConstants"
   ]
  },
  {
   "cell_type": "code",
   "execution_count": 5,
   "metadata": {
    "collapsed": true
   },
   "outputs": [],
   "source": [
    "DTPMDir = TransantiagoConstants.DTPMDir\n",
    "DTPM_TRXDir = TransantiagoConstants.DTPM_TRXDir"
   ]
  },
  {
   "cell_type": "markdown",
   "metadata": {},
   "source": [
    "#### Loading independent variables"
   ]
  },
  {
   "cell_type": "code",
   "execution_count": 6,
   "metadata": {
    "collapsed": true
   },
   "outputs": [],
   "source": [
    "independent_variables_path = os.path.join(DTPM_TRXDir,'0_INDEPENDENTS/independents_variables.csv')\n",
    "independent_variables = pd.read_csv(independent_variables_path,sep=';',encoding='latin-1', index_col=0, parse_dates=[1])\n",
    "independent_variables.loc[:,'Verano'] =  independent_variables.loc[:,'Enero'] + independent_variables.loc[:,'Febrero']\n",
    "independent_variables.loc[:,'Nov_Dic_2017'] = independent_variables.loc[:,'Nov_2017'] + independent_variables.loc[:,'Dic_2017']\n",
    "independent_variables.loc[:,'WEEK_OF_YEAR'] = independent_variables.loc[:,'DATE'].apply(lambda x: x.week)\n",
    "independent_variables = pd.get_dummies(independent_variables, columns=['WEEK_OF_YEAR'])"
   ]
  },
  {
   "cell_type": "markdown",
   "metadata": {},
   "source": [
    "#### Loading dependent variable for U6"
   ]
  },
  {
   "cell_type": "code",
   "execution_count": 7,
   "metadata": {
    "collapsed": true
   },
   "outputs": [],
   "source": [
    "UN = 'U6'\n",
    "daily_input_path = os.path.join(DTPM_TRXDir,'4_DAILY_UN/' + UN + '/' + UN + '_summary.csv')\n",
    "daily_trx = pd.read_csv(daily_input_path,sep=';',encoding='latin-1', index_col=0)\n",
    "\n",
    "daily_trx.loc[:,'TOTAL_trx'] = daily_trx.loc[:,'pn_SUM_TRX_no_t'] + daily_trx.loc[:,'pn_SUM_TRX_3t'] + daily_trx.loc[:,'pn_SUM_TRX_tm'] + daily_trx.loc[:,'zp_SUM_TRX']"
   ]
  },
  {
   "cell_type": "markdown",
   "metadata": {},
   "source": [
    "#### Merging and sorting for U6"
   ]
  },
  {
   "cell_type": "code",
   "execution_count": 8,
   "metadata": {
    "collapsed": true
   },
   "outputs": [],
   "source": [
    "complete_db = daily_trx.merge(independent_variables, on =['YEAR','MONTH','YEAR_DAY'], how='left')"
   ]
  },
  {
   "cell_type": "code",
   "execution_count": 9,
   "metadata": {
    "collapsed": true
   },
   "outputs": [],
   "source": [
    "complete_db.sort_values(by=['YEAR','MONTH','YEAR_DAY'], ascending=[True,True,True], inplace=True)"
   ]
  },
  {
   "cell_type": "markdown",
   "metadata": {},
   "source": [
    "#### Estimation for U6"
   ]
  },
  {
   "cell_type": "markdown",
   "metadata": {},
   "source": [
    "##### Trying models with U6"
   ]
  },
  {
   "cell_type": "code",
   "execution_count": 15,
   "metadata": {
    "collapsed": true
   },
   "outputs": [],
   "source": [
    "def summarizingResults(x, df, model_name):\n",
    "    params = x.params.rename('params_' + model_name)\n",
    "    t = x.tvalues.rename('t_' + model_name)\n",
    "    p = x.pvalues.rename('p_' + model_name)\n",
    "\n",
    "    df = pd.concat([df, params, t, p], axis=1)\n",
    "    df.loc['R2_ADJ', 'params_' + model_name] = x.rsquared_adj\n",
    "    df.loc['AIC', 'params_' + model_name] = x.aic\n",
    "    df.loc['F', 'params_' + model_name] = x.fvalue\n",
    "    df.loc['P_F', 'params_' + model_name] = x.f_pvalue\n",
    "    df.loc['D_W', 'params_' + model_name] = sm.stats.stattools.durbin_watson(x.resid)\n",
    "    \n",
    "    return df"
   ]
  },
  {
   "cell_type": "code",
   "execution_count": 16,
   "metadata": {
    "collapsed": true
   },
   "outputs": [],
   "source": [
    "OLS_Summary_U6 = pd.DataFrame()"
   ]
  },
  {
   "cell_type": "markdown",
   "metadata": {},
   "source": [
    "* U6_M1"
   ]
  },
  {
   "cell_type": "code",
   "execution_count": null,
   "metadata": {
    "collapsed": true
   },
   "outputs": [],
   "source": [
    "Y = complete_db.loc[:,'TOTAL_trx']\n",
    "X = complete_db.loc[:,['SATURDAY',\n",
    "                       'SUNDAY',\n",
    "                       'ratio_tm',\n",
    "                       'kms_ofertados_U6',\n",
    "                       'WEEK_OF_YEAR_52',\n",
    "                       'WEEK_OF_YEAR_53',\n",
    "                       'WEEK_OF_YEAR_1',\n",
    "                       'WEEK_OF_YEAR_2',\n",
    "                       'WEEK_OF_YEAR_3',\n",
    "                       'WEEK_OF_YEAR_4',\n",
    "                       'WEEK_OF_YEAR_5',\n",
    "                       'WEEK_OF_YEAR_6',\n",
    "                       'WEEK_OF_YEAR_7',\n",
    "                       'WEEK_OF_YEAR_8',\n",
    "                       'WEEK_OF_YEAR_9',\n",
    "                       'Julio',\n",
    "                       'Nov_Dic_2017',\n",
    "                       't',\n",
    "                       'Feriado_laboral',\n",
    "                       'Feriado_no_laboral',\n",
    "                       'Censo',\n",
    "                       'Elecciones',\n",
    "                       'Partido',\n",
    "                       'FDS_Largo',\n",
    "                       'Disturbios',\n",
    "                       'Bucle',\n",
    "                       'Clima',\n",
    "                       'visperas_laborales',\n",
    "                       'N_ZPs_UN6']]\n",
    "\n",
    "X = sm.add_constant(X)\n",
    "m1 = sm.OLS(Y, X)\n",
    "results_m1 = m1.fit()\n",
    "print(results_m1.summary())\n",
    "\n",
    "OLS_Summary_U6 = summarizingResults(results_m1, OLS_Summary_U6, 'U6_m1')\n",
    "\n",
    "ypred_m1 = results_m1.predict(X)\n",
    "complete_db.loc[:,'ypred_m1'] = ypred_m1"
   ]
  },
  {
   "cell_type": "markdown",
   "metadata": {},
   "source": [
    "* U6_M2"
   ]
  },
  {
   "cell_type": "code",
   "execution_count": null,
   "metadata": {
    "collapsed": true
   },
   "outputs": [],
   "source": [
    "Y = complete_db.loc[:,'TOTAL_trx']\n",
    "X = complete_db.loc[:,['SATURDAY',\n",
    "                       'SUNDAY',\n",
    "                       'ratio_tm',\n",
    "                       'kms_ofertados_U6',\n",
    "                       'WEEK_OF_YEAR_52',\n",
    "                       'WEEK_OF_YEAR_53',\n",
    "                       'WEEK_OF_YEAR_1',\n",
    "                       'WEEK_OF_YEAR_2',\n",
    "                       'WEEK_OF_YEAR_3',\n",
    "                       'WEEK_OF_YEAR_4',\n",
    "                       'WEEK_OF_YEAR_5',\n",
    "                       'WEEK_OF_YEAR_6',\n",
    "                       'WEEK_OF_YEAR_7',\n",
    "                       'WEEK_OF_YEAR_8',\n",
    "                       'WEEK_OF_YEAR_9',\n",
    "                       'Julio',\n",
    "                       't',\n",
    "                       'Feriado_laboral',\n",
    "                       'Feriado_no_laboral',\n",
    "                       'Censo',\n",
    "                       'Partido',\n",
    "                       'FDS_Largo',\n",
    "                       'Disturbios',\n",
    "                       'Clima',\n",
    "                       'visperas_laborales',\n",
    "                       'N_ZPs_UN6']]\n",
    "\n",
    "X = sm.add_constant(X)\n",
    "m2 = sm.OLS(Y, X)\n",
    "results_m2 = m2.fit()\n",
    "print(results_m2.summary())\n",
    "\n",
    "OLS_Summary_U6 = summarizingResults(results_m2, OLS_Summary_U6, 'U6_m2')\n",
    "\n",
    "ypred_m2 = results_m2.predict(X)\n",
    "complete_db.loc[:,'ypred_m2'] = ypred_m2"
   ]
  },
  {
   "cell_type": "markdown",
   "metadata": {},
   "source": [
    "* U6_M3"
   ]
  },
  {
   "cell_type": "code",
   "execution_count": null,
   "metadata": {
    "collapsed": true
   },
   "outputs": [],
   "source": [
    "Y = complete_db.loc[:,'TOTAL_trx']\n",
    "X = complete_db.loc[:,['SATURDAY',\n",
    "                       'SUNDAY',\n",
    "                       'ratio_tm',\n",
    "                       'kms_ofertados_U6',\n",
    "                       'WEEK_OF_YEAR_52',\n",
    "                       'WEEK_OF_YEAR_53',\n",
    "                       'WEEK_OF_YEAR_1',\n",
    "                       'WEEK_OF_YEAR_2',\n",
    "                       'WEEK_OF_YEAR_3',\n",
    "                       'WEEK_OF_YEAR_4',\n",
    "                       'WEEK_OF_YEAR_5',\n",
    "                       'WEEK_OF_YEAR_6',\n",
    "                       'WEEK_OF_YEAR_7',\n",
    "                       'WEEK_OF_YEAR_8',\n",
    "                       'WEEK_OF_YEAR_9',\n",
    "                       'Julio',\n",
    "                       't',\n",
    "                       'Feriado_laboral',\n",
    "                       'Feriado_no_laboral',\n",
    "                       'Censo',\n",
    "                       'FDS_Largo',\n",
    "                       'Disturbios',\n",
    "                       'Clima',\n",
    "                       'visperas_laborales',\n",
    "                       'N_ZPs_UN6']]\n",
    "\n",
    "X = sm.add_constant(X)\n",
    "m3 = sm.OLS(Y, X)\n",
    "results_m3 = m3.fit()\n",
    "print(results_m3.summary())\n",
    "\n",
    "OLS_Summary_U6 = summarizingResults(results_m3, OLS_Summary_U6, 'U6_m3')\n",
    "\n",
    "ypred_m3 = results_m3.predict(X)\n",
    "complete_db.loc[:,'ypred_m3'] = ypred_m3"
   ]
  },
  {
   "cell_type": "markdown",
   "metadata": {},
   "source": [
    "* U6_M4"
   ]
  },
  {
   "cell_type": "code",
   "execution_count": null,
   "metadata": {
    "collapsed": true
   },
   "outputs": [],
   "source": [
    "complete_db.loc[:,'ratio_tm_2'] = complete_db.loc[:,'ratio_tm']*complete_db.loc[:,'ratio_tm']"
   ]
  },
  {
   "cell_type": "code",
   "execution_count": null,
   "metadata": {
    "collapsed": true
   },
   "outputs": [],
   "source": [
    "Y = complete_db.loc[:,'TOTAL_trx']\n",
    "X = complete_db.loc[:,['SATURDAY',\n",
    "                       'SUNDAY',\n",
    "                       'ratio_tm',\n",
    "                       'ratio_tm_2',\n",
    "                       'kms_ofertados_U6',\n",
    "                       'WEEK_OF_YEAR_52',\n",
    "                       'WEEK_OF_YEAR_53',\n",
    "                       'WEEK_OF_YEAR_1',\n",
    "                       'WEEK_OF_YEAR_2',\n",
    "                       'WEEK_OF_YEAR_3',\n",
    "                       'WEEK_OF_YEAR_4',\n",
    "                       'WEEK_OF_YEAR_5',\n",
    "                       'WEEK_OF_YEAR_6',\n",
    "                       'WEEK_OF_YEAR_7',\n",
    "                       'WEEK_OF_YEAR_8',\n",
    "                       'WEEK_OF_YEAR_9',\n",
    "                       'Julio',\n",
    "                       't',\n",
    "                       'Feriado_laboral',\n",
    "                       'Feriado_no_laboral',\n",
    "                       'Censo',\n",
    "                       'FDS_Largo',\n",
    "                       'Disturbios',\n",
    "                       'Clima',\n",
    "                       'visperas_laborales',\n",
    "                       'N_ZPs_UN6']]\n",
    "\n",
    "X = sm.add_constant(X)\n",
    "m4 = sm.OLS(Y, X)\n",
    "results_m4 = m4.fit()\n",
    "print(results_m4.summary())\n",
    "\n",
    "OLS_Summary_U6 = summarizingResults(results_m4, OLS_Summary_U6, 'U6_m4')\n",
    "\n",
    "ypred_m4 = results_m4.predict(X)\n",
    "complete_db.loc[:,'ypred_m4'] = ypred_m4"
   ]
  },
  {
   "cell_type": "markdown",
   "metadata": {},
   "source": [
    "##### Trying models with dummies based on U6"
   ]
  },
  {
   "cell_type": "markdown",
   "metadata": {},
   "source": [
    "* Summarizing thresholds"
   ]
  },
  {
   "cell_type": "code",
   "execution_count": 10,
   "metadata": {
    "collapsed": true
   },
   "outputs": [],
   "source": [
    "def summarizingResults(x, df, inferior, superior):\n",
    "    params = x.params.rename('params_' + str(inferior) + ',' + str(superior)) #x.params is a pandas series. The rename call is to assign a name to the series.\n",
    "    t = x.tvalues.rename('t_' + str(inferior) + ',' + str(superior)) #x.tvalues is a pandas series\n",
    "    p = x.pvalues.rename('p_' + str(inferior) + ',' + str(superior)) #x.pvalues is a pandas series\n",
    "\n",
    "    results = pd.concat([params, t, p], axis=1).T    \n",
    "    df = pd.concat([df, results], axis=0)\n",
    "    \n",
    "    return df"
   ]
  },
  {
   "cell_type": "code",
   "execution_count": 11,
   "metadata": {
    "collapsed": true
   },
   "outputs": [],
   "source": [
    "umbrales_Summary_U6 = pd.DataFrame()"
   ]
  },
  {
   "cell_type": "code",
   "execution_count": 12,
   "metadata": {
    "collapsed": true
   },
   "outputs": [],
   "source": [
    "inferiores = range(10,21)\n",
    "superiores = range(40,61)"
   ]
  },
  {
   "cell_type": "code",
   "execution_count": 13,
   "metadata": {},
   "outputs": [],
   "source": [
    "for inferior in inferiores:\n",
    "    for superior in superiores:\n",
    "        \n",
    "        complete_db.loc[:,'rtm_medio'] = np.where((inferior<=complete_db.loc[:,'ratio_tm'])&(complete_db.loc[:,'ratio_tm']<superior),1,0)\n",
    "        complete_db.loc[:,'rtm_superior'] = np.where((superior<=complete_db.loc[:,'ratio_tm']),1,0)        \n",
    "\n",
    "        complete_db.loc[:,'r_tm_x_rtm_medio'] = complete_db.loc[:,'ratio_tm'] * complete_db.loc[:,'rtm_medio']\n",
    "        complete_db.loc[:,'r_tm_x_rtm_superior'] = complete_db.loc[:,'ratio_tm'] * complete_db.loc[:,'rtm_superior']\n",
    "        \n",
    "        Y = complete_db.loc[:,'TOTAL_trx']\n",
    "        X = complete_db.loc[:,['SATURDAY',\n",
    "                               'SUNDAY',\n",
    "                               'ratio_tm',\n",
    "                               'r_tm_x_rtm_medio',\n",
    "                               'r_tm_x_rtm_superior',\n",
    "                               'kms_ofertados_U6',\n",
    "                               'WEEK_OF_YEAR_52',\n",
    "                               'WEEK_OF_YEAR_53',\n",
    "                               'WEEK_OF_YEAR_1',\n",
    "                               'WEEK_OF_YEAR_2',\n",
    "                               'WEEK_OF_YEAR_3',\n",
    "                               'WEEK_OF_YEAR_4',\n",
    "                               'WEEK_OF_YEAR_5',\n",
    "                               'WEEK_OF_YEAR_6',\n",
    "                               'WEEK_OF_YEAR_7',\n",
    "                               'WEEK_OF_YEAR_8',\n",
    "                               'WEEK_OF_YEAR_9',\n",
    "                               'Julio',\n",
    "                               't',\n",
    "                               'Feriado_laboral',\n",
    "                               'Feriado_no_laboral',\n",
    "                               'Censo',\n",
    "                               'FDS_Largo',\n",
    "                               'Disturbios',\n",
    "                               'Clima',\n",
    "                               'visperas_laborales',\n",
    "                               'N_ZPs_UN6']]\n",
    "        \n",
    "        X = sm.add_constant(X)\n",
    "        m = sm.OLS(Y, X)\n",
    "        results = m.fit()\n",
    "    \n",
    "        umbrales_Summary_U6 = summarizingResults(results, umbrales_Summary_U6, inferior, superior)        "
   ]
  },
  {
   "cell_type": "code",
   "execution_count": 14,
   "metadata": {
    "collapsed": true
   },
   "outputs": [],
   "source": [
    "#umbrales_Summary_U6_path = os.path.join(DTPM_TRXDir,'5_RESULTS/2_BY_UN/0_original/umbrales_Summary_U6.csv')\n",
    "#umbrales_Summary_U6.to_csv(umbrales_Summary_U6_path, sep=';',encoding='latin-1')"
   ]
  },
  {
   "cell_type": "markdown",
   "metadata": {},
   "source": [
    "--------------------"
   ]
  },
  {
   "cell_type": "code",
   "execution_count": null,
   "metadata": {
    "collapsed": true
   },
   "outputs": [],
   "source": []
  }
 ],
 "metadata": {
  "kernelspec": {
   "display_name": "Python 3",
   "language": "python",
   "name": "python3"
  },
  "language_info": {
   "codemirror_mode": {
    "name": "ipython",
    "version": 3
   },
   "file_extension": ".py",
   "mimetype": "text/x-python",
   "name": "python",
   "nbconvert_exporter": "python",
   "pygments_lexer": "ipython3",
   "version": "3.6.1"
  }
 },
 "nbformat": 4,
 "nbformat_minor": 2
}
