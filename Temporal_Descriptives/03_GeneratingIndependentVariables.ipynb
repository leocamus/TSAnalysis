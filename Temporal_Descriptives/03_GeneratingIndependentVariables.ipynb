{
 "cells": [
  {
   "cell_type": "markdown",
   "metadata": {},
   "source": [
    "## Generating independent variables set by year, month, year_date"
   ]
  },
  {
   "cell_type": "code",
   "execution_count": 1,
   "metadata": {
    "collapsed": true
   },
   "outputs": [],
   "source": [
    "import os\n",
    "import sys\n",
    "module_path = os.path.abspath(os.path.join('..'))\n",
    "if module_path not in sys.path:\n",
    "    sys.path.append(module_path)"
   ]
  },
  {
   "cell_type": "code",
   "execution_count": 2,
   "metadata": {},
   "outputs": [
    {
     "data": {
      "text/html": [
       "<style>.container { width:80% !important; }</style>"
      ],
      "text/plain": [
       "<IPython.core.display.HTML object>"
      ]
     },
     "metadata": {},
     "output_type": "display_data"
    }
   ],
   "source": [
    "%matplotlib inline\n",
    "#%matplotlib qt5\n",
    "from IPython.core.display import display, HTML\n",
    "display(HTML(\"<style>.container { width:80% !important; }</style>\"))\n",
    "\n",
    "import pandas as pd\n",
    "import matplotlib\n",
    "import matplotlib.pyplot as plt\n",
    "import matplotlib.dates as mdates\n",
    "import numpy as np\n",
    "import datetime as dt\n",
    "import time"
   ]
  },
  {
   "cell_type": "code",
   "execution_count": 3,
   "metadata": {
    "collapsed": true
   },
   "outputs": [],
   "source": [
    "from Utils import TransantiagoConstants"
   ]
  },
  {
   "cell_type": "code",
   "execution_count": 4,
   "metadata": {
    "collapsed": true
   },
   "outputs": [],
   "source": [
    "DTPMDir = TransantiagoConstants.DTPMDir\n",
    "DTPM_TRXDir = TransantiagoConstants.DTPM_TRXDir"
   ]
  },
  {
   "cell_type": "code",
   "execution_count": 5,
   "metadata": {
    "collapsed": true
   },
   "outputs": [],
   "source": [
    "independent_variables = pd.DataFrame()\n",
    "start_date = pd.to_datetime('2015-01-01').date()\n",
    "end_date = pd.to_datetime('2017-12-31').date()\n",
    "independent_variables['DATE'] = pd.date_range(start=start_date, end=end_date, freq='D')"
   ]
  },
  {
   "cell_type": "code",
   "execution_count": 6,
   "metadata": {
    "collapsed": true
   },
   "outputs": [],
   "source": [
    "independent_variables['YEAR'] = independent_variables['DATE'].dt.year\n",
    "independent_variables['MONTH'] = independent_variables['DATE'].dt.month"
   ]
  },
  {
   "cell_type": "code",
   "execution_count": 7,
   "metadata": {
    "collapsed": true
   },
   "outputs": [],
   "source": [
    "def year_day_calc(x):\n",
    "    if(x[1]==2015):\n",
    "        new_year_day = dt.date(year=2015, month=1, day=1)\n",
    "    elif(x[1]==2016):\n",
    "        new_year_day = dt.date(year=2016, month=1, day=1)\n",
    "    else:\n",
    "        new_year_day = dt.date(year=2017, month=1, day=1)\n",
    "        \n",
    "    return ((x[0].date() - new_year_day).days + 1)"
   ]
  },
  {
   "cell_type": "code",
   "execution_count": 8,
   "metadata": {
    "collapsed": true
   },
   "outputs": [],
   "source": [
    "def saturday(x):\n",
    "    if(x.weekday()==5):\n",
    "        return 1\n",
    "    else:\n",
    "        return 0"
   ]
  },
  {
   "cell_type": "code",
   "execution_count": 9,
   "metadata": {
    "collapsed": true
   },
   "outputs": [],
   "source": [
    "def sunday(x):\n",
    "    if(x.weekday()==6):\n",
    "        return 1\n",
    "    else:\n",
    "        return 0"
   ]
  },
  {
   "cell_type": "code",
   "execution_count": 10,
   "metadata": {
    "collapsed": true
   },
   "outputs": [],
   "source": [
    "independent_variables['YEAR_DAY'] = independent_variables.apply(year_day_calc,axis=1)\n",
    "independent_variables['SATURDAY'] = independent_variables['DATE'].apply(saturday)\n",
    "independent_variables['SUNDAY'] = independent_variables['DATE'].apply(sunday)"
   ]
  },
  {
   "cell_type": "markdown",
   "metadata": {},
   "source": [
    "###### Appending fare. Test based on dataset length is <font color='green'> passed </font>"
   ]
  },
  {
   "cell_type": "code",
   "execution_count": 11,
   "metadata": {
    "collapsed": true
   },
   "outputs": [],
   "source": [
    "fares_path = os.path.join(DTPMDir,'08_Tarifas/Tarifas_2007_2017.xlsx')\n",
    "fares_df = pd.read_excel(fares_path) #dates are already parsed"
   ]
  },
  {
   "cell_type": "code",
   "execution_count": 12,
   "metadata": {
    "collapsed": true
   },
   "outputs": [],
   "source": [
    "fares_df.loc[:,'YEAR'] = fares_df.loc[:,'Mes'].dt.year\n",
    "fares_df.loc[:,'MONTH'] = fares_df.loc[:,'Mes'].dt.month"
   ]
  },
  {
   "cell_type": "code",
   "execution_count": 13,
   "metadata": {},
   "outputs": [
    {
     "name": "stdout",
     "output_type": "stream",
     "text": [
      "Length of independent_variables before 1st-merge is: 1096\n"
     ]
    }
   ],
   "source": [
    "print('Length of independent_variables before 1st-merge is: ' + str(len(independent_variables.index)))"
   ]
  },
  {
   "cell_type": "code",
   "execution_count": 14,
   "metadata": {
    "collapsed": true
   },
   "outputs": [],
   "source": [
    "independent_variables = independent_variables.merge(fares_df,how='left',left_on=['YEAR','MONTH'],right_on=['YEAR','MONTH'])"
   ]
  },
  {
   "cell_type": "code",
   "execution_count": 15,
   "metadata": {},
   "outputs": [
    {
     "name": "stdout",
     "output_type": "stream",
     "text": [
      "Length of independent_variables after 1st-merge is: 1096\n"
     ]
    }
   ],
   "source": [
    "print('Length of independent_variables after 1st-merge is: ' + str(len(independent_variables.index)))"
   ]
  },
  {
   "cell_type": "markdown",
   "metadata": {},
   "source": [
    "##### Appending kms_comerciales validamente ofertados at system level. Test based on dataset length is <font color='green'> passed </font>"
   ]
  },
  {
   "cell_type": "code",
   "execution_count": 16,
   "metadata": {
    "collapsed": true
   },
   "outputs": [],
   "source": [
    "kms_path = os.path.join(DTPMDir,'06_LBS/1_consolidados/kms_recorridos.txt')\n",
    "kms_df = pd.read_table(kms_path,sep=';', encoding='latin-1',index_col = 0) #Dates are not parsed. m_ofertados are not parsed."
   ]
  },
  {
   "cell_type": "code",
   "execution_count": 17,
   "metadata": {
    "collapsed": true
   },
   "outputs": [],
   "source": [
    "kms_df['Fecha'] = kms_df['Fecha'].apply(lambda x: pd.to_datetime(x, format='%d/%m/%Y'))"
   ]
  },
  {
   "cell_type": "code",
   "execution_count": 18,
   "metadata": {
    "collapsed": true
   },
   "outputs": [],
   "source": [
    "def year_day_calc(x):\n",
    "    if(x[1].year==2015):\n",
    "        new_year_day = dt.date(year=2015, month=1, day=1)\n",
    "    elif(x[1].year==2016):\n",
    "        new_year_day = dt.date(year=2016, month=1, day=1)\n",
    "    else:\n",
    "        new_year_day = dt.date(year=2017, month=1, day=1)\n",
    "        \n",
    "    return ((x[1].date() - new_year_day).days + 1)"
   ]
  },
  {
   "cell_type": "code",
   "execution_count": 19,
   "metadata": {
    "collapsed": true
   },
   "outputs": [],
   "source": [
    "kms_df['YEAR_DAY'] = kms_df.apply(year_day_calc, axis=1)    \n",
    "kms_df['MONTH'] = kms_df['Fecha'].dt.month\n",
    "kms_df['YEAR'] = kms_df['Fecha'].dt.year"
   ]
  },
  {
   "cell_type": "code",
   "execution_count": 20,
   "metadata": {
    "collapsed": true
   },
   "outputs": [],
   "source": [
    "kms_df['m_ofertados'] = kms_df['m_ofertados'].apply(lambda x: x.replace(',','.'))\n",
    "kms_df['m_ofertados'] = kms_df['m_ofertados'].apply(lambda x: float(x))"
   ]
  },
  {
   "cell_type": "code",
   "execution_count": 21,
   "metadata": {
    "collapsed": true
   },
   "outputs": [],
   "source": [
    "grouped_kms_df = kms_df.groupby(['YEAR','MONTH','YEAR_DAY'])['m_ofertados'].sum().to_frame().reset_index()"
   ]
  },
  {
   "cell_type": "code",
   "execution_count": 22,
   "metadata": {
    "collapsed": true
   },
   "outputs": [],
   "source": [
    "independent_variables = independent_variables.merge(grouped_kms_df,how='left',on=['YEAR','MONTH','YEAR_DAY'])"
   ]
  },
  {
   "cell_type": "code",
   "execution_count": 23,
   "metadata": {},
   "outputs": [
    {
     "name": "stdout",
     "output_type": "stream",
     "text": [
      "Length of independent_variables after 2nd-merge is: 1096\n"
     ]
    }
   ],
   "source": [
    "print('Length of independent_variables after 2nd-merge is: ' + str(len(independent_variables.index)))"
   ]
  },
  {
   "cell_type": "code",
   "execution_count": 24,
   "metadata": {
    "collapsed": true
   },
   "outputs": [],
   "source": [
    "independent_variables['kms_ofertados'] = independent_variables['m_ofertados'].apply(lambda x: x/1000)"
   ]
  },
  {
   "cell_type": "markdown",
   "metadata": {},
   "source": [
    "##### Appending kms_comerciales validamente ofertados at UN level. Test based on dataset length is <font color='green'> passed </font>"
   ]
  },
  {
   "cell_type": "code",
   "execution_count": 25,
   "metadata": {
    "collapsed": true
   },
   "outputs": [],
   "source": [
    "grouped_kms_UN_df = kms_df.groupby(['Fecha','UN'])['m_ofertados'].sum().to_frame().reset_index()"
   ]
  },
  {
   "cell_type": "code",
   "execution_count": 26,
   "metadata": {
    "collapsed": true
   },
   "outputs": [],
   "source": [
    "grouped_kms_UN_df = grouped_kms_UN_df.pivot(index='Fecha',columns='UN', values='m_ofertados').reset_index()\n",
    "grouped_kms_UN_df.rename(columns={'U1':'m_U1', 'U2':'m_U2', 'U3':'m_U3', 'U4':'m_U4', 'U5':'m_U5', 'U6':'m_U6', 'U7':'m_U7'}, inplace=True)"
   ]
  },
  {
   "cell_type": "code",
   "execution_count": 27,
   "metadata": {
    "collapsed": true
   },
   "outputs": [],
   "source": [
    "def year_day_calc_2(x):\n",
    "    if(x[0].year==2015):\n",
    "        new_year_day = dt.date(year=2015, month=1, day=1)\n",
    "    elif(x[0].year==2016):\n",
    "        new_year_day = dt.date(year=2016, month=1, day=1)\n",
    "    else:\n",
    "        new_year_day = dt.date(year=2017, month=1, day=1)\n",
    "        \n",
    "    return ((x[0].date() - new_year_day).days + 1)"
   ]
  },
  {
   "cell_type": "code",
   "execution_count": 28,
   "metadata": {
    "collapsed": true
   },
   "outputs": [],
   "source": [
    "grouped_kms_UN_df['YEAR_DAY'] = grouped_kms_UN_df.apply(year_day_calc_2, axis=1)    \n",
    "grouped_kms_UN_df['MONTH'] = grouped_kms_UN_df['Fecha'].dt.month\n",
    "grouped_kms_UN_df['YEAR'] = grouped_kms_UN_df['Fecha'].dt.year"
   ]
  },
  {
   "cell_type": "code",
   "execution_count": 29,
   "metadata": {
    "collapsed": true
   },
   "outputs": [],
   "source": [
    "independent_variables = independent_variables.merge(grouped_kms_UN_df.drop('Fecha', axis=1),how='left',on=['YEAR','MONTH','YEAR_DAY'])"
   ]
  },
  {
   "cell_type": "code",
   "execution_count": 30,
   "metadata": {},
   "outputs": [
    {
     "name": "stdout",
     "output_type": "stream",
     "text": [
      "Length of independent_variables after 3rd-merge is: 1096\n"
     ]
    }
   ],
   "source": [
    "print('Length of independent_variables after 3rd-merge is: ' + str(len(independent_variables.index)))"
   ]
  },
  {
   "cell_type": "code",
   "execution_count": 31,
   "metadata": {
    "collapsed": true
   },
   "outputs": [],
   "source": [
    "independent_variables['kms_ofertados_U1'] = independent_variables['m_U1'].apply(lambda x: x/1000)\n",
    "independent_variables['kms_ofertados_U2'] = independent_variables['m_U2'].apply(lambda x: x/1000)\n",
    "independent_variables['kms_ofertados_U3'] = independent_variables['m_U3'].apply(lambda x: x/1000)\n",
    "independent_variables['kms_ofertados_U4'] = independent_variables['m_U4'].apply(lambda x: x/1000)\n",
    "independent_variables['kms_ofertados_U5'] = independent_variables['m_U5'].apply(lambda x: x/1000)\n",
    "independent_variables['kms_ofertados_U6'] = independent_variables['m_U6'].apply(lambda x: x/1000)\n",
    "independent_variables['kms_ofertados_U7'] = independent_variables['m_U7'].apply(lambda x: x/1000)"
   ]
  },
  {
   "cell_type": "markdown",
   "metadata": {},
   "source": [
    "###### Creating dummy variables for Enero, Febrero and Julio => Estival and Invierno"
   ]
  },
  {
   "cell_type": "code",
   "execution_count": 32,
   "metadata": {
    "collapsed": true
   },
   "outputs": [],
   "source": [
    "independent_variables['Enero'] = independent_variables['MONTH'].apply(lambda x: 1 if x==1 else 0)\n",
    "independent_variables['Febrero'] = independent_variables['MONTH'].apply(lambda x: 1 if x==2 else 0)\n",
    "independent_variables['Julio'] = independent_variables['MONTH'].apply(lambda x: 1 if x==7 else 0)"
   ]
  },
  {
   "cell_type": "markdown",
   "metadata": {},
   "source": [
    "###### Creating dummy variables for Noviembre and Diciembre 2017, since implementation of L6 was made during these months."
   ]
  },
  {
   "cell_type": "code",
   "execution_count": 33,
   "metadata": {
    "collapsed": true
   },
   "outputs": [],
   "source": [
    "def dummy_noviembre_2017(x):\n",
    "    if((x[1]==2017)&(x[2]==11)):\n",
    "        return 1\n",
    "    else:\n",
    "        return 0\n",
    "\n",
    "def dummy_diciembre_2017(x):\n",
    "    if((x[1]==2017)&(x[2]==12)):\n",
    "        return 1\n",
    "    else:\n",
    "        return 0\n",
    "\n",
    "independent_variables['Nov_2017'] = independent_variables.apply(dummy_noviembre_2017, axis=1)\n",
    "independent_variables['Dic_2017'] = independent_variables.apply(dummy_diciembre_2017, axis=1)"
   ]
  },
  {
   "cell_type": "markdown",
   "metadata": {},
   "source": [
    "###### Creating temporal variable"
   ]
  },
  {
   "cell_type": "code",
   "execution_count": 34,
   "metadata": {
    "collapsed": true
   },
   "outputs": [],
   "source": [
    "def temporal_variable(x):\n",
    "    if(x[1]==2015):\n",
    "        return x[3]\n",
    "    elif(x[1]==2016):\n",
    "        return 365+x[3]\n",
    "    else:\n",
    "        return 365+366+x[3]"
   ]
  },
  {
   "cell_type": "code",
   "execution_count": 35,
   "metadata": {
    "collapsed": true
   },
   "outputs": [],
   "source": [
    "independent_variables['t'] = independent_variables.apply(temporal_variable, axis=1)"
   ]
  },
  {
   "cell_type": "markdown",
   "metadata": {},
   "source": [
    "###### Creating dummy variables per type of special days. Test based on dataset length is <font color='green'> passed </font>"
   ]
  },
  {
   "cell_type": "code",
   "execution_count": 36,
   "metadata": {
    "collapsed": true
   },
   "outputs": [],
   "source": [
    "DES_path = os.path.join(DTPMDir,'07_DES/resumen_des.xlsx')\n",
    "DES_df = pd.read_excel(DES_path) #Dates are already parsed."
   ]
  },
  {
   "cell_type": "code",
   "execution_count": 37,
   "metadata": {
    "collapsed": true
   },
   "outputs": [],
   "source": [
    "def grouping_DES(x):\n",
    "    suma_dummies = x.sum(skipna=False) #Sums with NaNs return NaN. Day descriptions are omitted.\n",
    "    if(suma_dummies>1):\n",
    "        return 1\n",
    "    else:\n",
    "        return suma_dummies"
   ]
  },
  {
   "cell_type": "code",
   "execution_count": 38,
   "metadata": {
    "collapsed": true
   },
   "outputs": [],
   "source": [
    "grouped_DES_df = DES_df.groupby(['Fecha']).agg(grouping_DES).reset_index()"
   ]
  },
  {
   "cell_type": "code",
   "execution_count": 39,
   "metadata": {},
   "outputs": [
    {
     "data": {
      "text/html": [
       "<div>\n",
       "<style>\n",
       "    .dataframe thead tr:only-child th {\n",
       "        text-align: right;\n",
       "    }\n",
       "\n",
       "    .dataframe thead th {\n",
       "        text-align: left;\n",
       "    }\n",
       "\n",
       "    .dataframe tbody tr th {\n",
       "        vertical-align: top;\n",
       "    }\n",
       "</style>\n",
       "<table border=\"1\" class=\"dataframe\">\n",
       "  <thead>\n",
       "    <tr style=\"text-align: right;\">\n",
       "      <th></th>\n",
       "      <th>Fecha</th>\n",
       "      <th>Feriado_laboral</th>\n",
       "      <th>Feriado_no_laboral</th>\n",
       "      <th>Elecciones</th>\n",
       "      <th>Censo</th>\n",
       "      <th>Partido</th>\n",
       "      <th>FDS_Largo</th>\n",
       "      <th>Disturbios</th>\n",
       "      <th>Corte_Metro</th>\n",
       "      <th>Retraso_Metro</th>\n",
       "      <th>Incidente_Metro</th>\n",
       "      <th>Bucle</th>\n",
       "      <th>Clima</th>\n",
       "      <th>visperas_laborales</th>\n",
       "    </tr>\n",
       "  </thead>\n",
       "  <tbody>\n",
       "    <tr>\n",
       "      <th>0</th>\n",
       "      <td>2015-01-01</td>\n",
       "      <td>1</td>\n",
       "      <td>0</td>\n",
       "      <td>0</td>\n",
       "      <td>0</td>\n",
       "      <td>0</td>\n",
       "      <td>1</td>\n",
       "      <td>0</td>\n",
       "      <td>0.0</td>\n",
       "      <td>0.0</td>\n",
       "      <td>0.0</td>\n",
       "      <td>0.0</td>\n",
       "      <td>0</td>\n",
       "      <td>0</td>\n",
       "    </tr>\n",
       "    <tr>\n",
       "      <th>1</th>\n",
       "      <td>2015-01-02</td>\n",
       "      <td>1</td>\n",
       "      <td>0</td>\n",
       "      <td>0</td>\n",
       "      <td>0</td>\n",
       "      <td>0</td>\n",
       "      <td>1</td>\n",
       "      <td>0</td>\n",
       "      <td>0.0</td>\n",
       "      <td>0.0</td>\n",
       "      <td>0.0</td>\n",
       "      <td>0.0</td>\n",
       "      <td>0</td>\n",
       "      <td>0</td>\n",
       "    </tr>\n",
       "    <tr>\n",
       "      <th>2</th>\n",
       "      <td>2015-01-03</td>\n",
       "      <td>0</td>\n",
       "      <td>0</td>\n",
       "      <td>0</td>\n",
       "      <td>0</td>\n",
       "      <td>0</td>\n",
       "      <td>1</td>\n",
       "      <td>0</td>\n",
       "      <td>0.0</td>\n",
       "      <td>0.0</td>\n",
       "      <td>0.0</td>\n",
       "      <td>0.0</td>\n",
       "      <td>0</td>\n",
       "      <td>0</td>\n",
       "    </tr>\n",
       "    <tr>\n",
       "      <th>3</th>\n",
       "      <td>2015-01-04</td>\n",
       "      <td>0</td>\n",
       "      <td>0</td>\n",
       "      <td>0</td>\n",
       "      <td>0</td>\n",
       "      <td>0</td>\n",
       "      <td>1</td>\n",
       "      <td>0</td>\n",
       "      <td>0.0</td>\n",
       "      <td>0.0</td>\n",
       "      <td>0.0</td>\n",
       "      <td>0.0</td>\n",
       "      <td>0</td>\n",
       "      <td>0</td>\n",
       "    </tr>\n",
       "    <tr>\n",
       "      <th>4</th>\n",
       "      <td>2015-01-14</td>\n",
       "      <td>0</td>\n",
       "      <td>0</td>\n",
       "      <td>0</td>\n",
       "      <td>0</td>\n",
       "      <td>0</td>\n",
       "      <td>0</td>\n",
       "      <td>0</td>\n",
       "      <td>1.0</td>\n",
       "      <td>0.0</td>\n",
       "      <td>0.0</td>\n",
       "      <td>1.0</td>\n",
       "      <td>0</td>\n",
       "      <td>0</td>\n",
       "    </tr>\n",
       "  </tbody>\n",
       "</table>\n",
       "</div>"
      ],
      "text/plain": [
       "       Fecha  Feriado_laboral  Feriado_no_laboral  Elecciones  Censo  Partido  \\\n",
       "0 2015-01-01                1                   0           0      0        0   \n",
       "1 2015-01-02                1                   0           0      0        0   \n",
       "2 2015-01-03                0                   0           0      0        0   \n",
       "3 2015-01-04                0                   0           0      0        0   \n",
       "4 2015-01-14                0                   0           0      0        0   \n",
       "\n",
       "   FDS_Largo  Disturbios  Corte_Metro  Retraso_Metro  Incidente_Metro  Bucle  \\\n",
       "0          1           0          0.0            0.0              0.0    0.0   \n",
       "1          1           0          0.0            0.0              0.0    0.0   \n",
       "2          1           0          0.0            0.0              0.0    0.0   \n",
       "3          1           0          0.0            0.0              0.0    0.0   \n",
       "4          0           0          1.0            0.0              0.0    1.0   \n",
       "\n",
       "   Clima  visperas_laborales  \n",
       "0      0                   0  \n",
       "1      0                   0  \n",
       "2      0                   0  \n",
       "3      0                   0  \n",
       "4      0                   0  "
      ]
     },
     "execution_count": 39,
     "metadata": {},
     "output_type": "execute_result"
    }
   ],
   "source": [
    "grouped_DES_df.head()"
   ]
  },
  {
   "cell_type": "code",
   "execution_count": 40,
   "metadata": {
    "collapsed": true
   },
   "outputs": [],
   "source": [
    "def year_day_calc(x):\n",
    "    if(x[0].year==2015):\n",
    "        new_year_day = dt.date(year=2015, month=1, day=1)\n",
    "    elif(x[0].year==2016):\n",
    "        new_year_day = dt.date(year=2016, month=1, day=1)\n",
    "    else:\n",
    "        new_year_day = dt.date(year=2017, month=1, day=1)\n",
    "        \n",
    "    return ((x[0].date() - new_year_day).days + 1)"
   ]
  },
  {
   "cell_type": "code",
   "execution_count": 41,
   "metadata": {
    "collapsed": true
   },
   "outputs": [],
   "source": [
    "grouped_DES_df['YEAR_DAY'] = grouped_DES_df.apply(year_day_calc, axis=1)    \n",
    "grouped_DES_df['MONTH'] = grouped_DES_df['Fecha'].dt.month\n",
    "grouped_DES_df['YEAR'] = grouped_DES_df['Fecha'].dt.year"
   ]
  },
  {
   "cell_type": "code",
   "execution_count": 42,
   "metadata": {
    "collapsed": true
   },
   "outputs": [],
   "source": [
    "independent_variables = independent_variables.merge(grouped_DES_df.drop('Fecha', axis=1),how='left',on=['YEAR','MONTH','YEAR_DAY'])"
   ]
  },
  {
   "cell_type": "code",
   "execution_count": 43,
   "metadata": {},
   "outputs": [
    {
     "name": "stdout",
     "output_type": "stream",
     "text": [
      "Length of independent_variables after 3rd-merge is: 1096\n"
     ]
    }
   ],
   "source": [
    "print('Length of independent_variables after 3rd-merge is: ' + str(len(independent_variables.index)))"
   ]
  },
  {
   "cell_type": "code",
   "execution_count": 44,
   "metadata": {
    "collapsed": true
   },
   "outputs": [],
   "source": [
    "independent_variables = independent_variables.fillna(0) #Assuming 0 values in NaNs obtained via f(x)"
   ]
  },
  {
   "cell_type": "markdown",
   "metadata": {},
   "source": [
    "##### Creating metro-kms, metro-estaciones and escalon as independent variables"
   ]
  },
  {
   "cell_type": "code",
   "execution_count": 45,
   "metadata": {
    "collapsed": true
   },
   "outputs": [],
   "source": [
    "extension_metro = pd.to_datetime('2017-11-03').date()"
   ]
  },
  {
   "cell_type": "code",
   "execution_count": 46,
   "metadata": {
    "collapsed": true
   },
   "outputs": [],
   "source": [
    "independent_variables['kms_metro'] = np.where(independent_variables['DATE'] <  extension_metro, 103, 118)\n",
    "independent_variables['estaciones_metro'] = np.where(independent_variables['DATE'] <  extension_metro, 108, 118)\n",
    "independent_variables['escalon_metro'] = np.where(independent_variables['DATE'] <  extension_metro, 0, 1)"
   ]
  },
  {
   "cell_type": "markdown",
   "metadata": {},
   "source": [
    "##### Computing number of ZPs per day - system"
   ]
  },
  {
   "cell_type": "code",
   "execution_count": 47,
   "metadata": {
    "collapsed": true
   },
   "outputs": [],
   "source": [
    "ZP_path = os.path.join(DTPMDir,'05_ZP/2_Modificado/zonas_pagas_resumen_UN.csv')\n",
    "ZP_df = pd.read_csv(ZP_path, encoding='latin-1') #Dates are not parsed."
   ]
  },
  {
   "cell_type": "code",
   "execution_count": 48,
   "metadata": {
    "collapsed": true
   },
   "outputs": [],
   "source": [
    "ZP_df.loc[:,'Inicio de Operación'] = ZP_df['Inicio de Operación'].apply(lambda x: pd.to_datetime(x, format='%d/%m/%Y').date())"
   ]
  },
  {
   "cell_type": "code",
   "execution_count": 49,
   "metadata": {
    "collapsed": true
   },
   "outputs": [],
   "source": [
    "ZP_df.loc[ZP_df['Fin de Operación']=='Activa','Fin de Operación'] = np.NaN"
   ]
  },
  {
   "cell_type": "code",
   "execution_count": 50,
   "metadata": {
    "collapsed": true
   },
   "outputs": [],
   "source": [
    "ZP_df.loc[:,'Fin de Operación'] = ZP_df['Fin de Operación'].apply(lambda x: pd.to_datetime(x, format='%d/%m/%Y').date())"
   ]
  },
  {
   "cell_type": "code",
   "execution_count": 51,
   "metadata": {
    "collapsed": true
   },
   "outputs": [],
   "source": [
    "def countingZps(x):\n",
    "    sabado = independent_variables.loc[independent_variables['DATE'] == x, 'SATURDAY'].item()\n",
    "    domingo = independent_variables.loc[independent_variables['DATE'] == x, 'SUNDAY'].item()\n",
    "    feriado_laboral = independent_variables.loc[independent_variables['DATE'] == x, 'Feriado_laboral'].item()\n",
    "      \n",
    "    if (sabado==0) & (domingo==0):\n",
    "        if (feriado_laboral==0):\n",
    "            opened = len(ZP_df.loc[(ZP_df['Inicio de Operación']<x.date()) & (ZP_df['SI_LABORAL'] == 1),:].index)\n",
    "            closed = len(ZP_df.loc[(ZP_df['Fin de Operación']<x.date()) & (ZP_df['SI_LABORAL'] == 1),:].index)\n",
    "        else:\n",
    "            opened = len(ZP_df.loc[(ZP_df['Inicio de Operación']<x.date()) & (ZP_df['SI_DOMINGO'] == 1),:].index)\n",
    "            closed = len(ZP_df.loc[(ZP_df['Fin de Operación']<x.date()) & (ZP_df['SI_DOMINGO'] == 1),:].index)\n",
    "    \n",
    "    elif sabado==1:\n",
    "        opened = len(ZP_df.loc[(ZP_df['Inicio de Operación']<x.date()) & (ZP_df['SI_SABADO'] == 1),:].index)\n",
    "        closed = len(ZP_df.loc[(ZP_df['Fin de Operación']<x.date()) & (ZP_df['SI_SABADO'] == 1),:].index)    \n",
    "    \n",
    "    elif domingo==1:\n",
    "        opened = len(ZP_df.loc[(ZP_df['Inicio de Operación']<x.date()) & (ZP_df['SI_DOMINGO'] == 1),:].index)\n",
    "        closed = len(ZP_df.loc[(ZP_df['Fin de Operación']<x.date()) & (ZP_df['SI_DOMINGO'] == 1),:].index)       \n",
    "    \n",
    "\n",
    "    total = opened-closed\n",
    "    \n",
    "    return total"
   ]
  },
  {
   "cell_type": "code",
   "execution_count": 52,
   "metadata": {
    "collapsed": true
   },
   "outputs": [],
   "source": [
    "independent_variables.loc[:,'N_ZPs'] = independent_variables.loc[:,'DATE'].apply(countingZps)"
   ]
  },
  {
   "cell_type": "code",
   "execution_count": 53,
   "metadata": {
    "collapsed": true
   },
   "outputs": [],
   "source": [
    "def countingZPsByUN(x, UN):\n",
    "    sabado = independent_variables.loc[independent_variables['DATE'] == x, 'SATURDAY'].item()\n",
    "    domingo = independent_variables.loc[independent_variables['DATE'] == x, 'SUNDAY'].item()\n",
    "    feriado_laboral = independent_variables.loc[independent_variables['DATE'] == x, 'Feriado_laboral'].item()\n",
    "      \n",
    "    if (sabado==0) & (domingo==0):\n",
    "        if (feriado_laboral==0):\n",
    "            opened = len(ZP_df.loc[(ZP_df['Inicio de Operación']<x.date()) & (ZP_df['SI_LABORAL'] == 1) &\n",
    "                                   ((ZP_df['UN Principal']==UN)|\n",
    "                                    (ZP_df['UN Secundaria 1']==UN)|\n",
    "                                    (ZP_df['UN Secundaria 2']==UN)|\n",
    "                                    (ZP_df['UN Secundaria 3']==UN)|\n",
    "                                    (ZP_df['UN Secundaria 4']==UN)|\n",
    "                                    (ZP_df['UN Secundaria 5']==UN)),:].index)\n",
    "            \n",
    "            closed = len(ZP_df.loc[(ZP_df['Fin de Operación']<x.date()) & (ZP_df['SI_LABORAL'] == 1) &\n",
    "                                    ((ZP_df['UN Principal']==UN)|\n",
    "                                    (ZP_df['UN Secundaria 1']==UN)|\n",
    "                                    (ZP_df['UN Secundaria 2']==UN)|\n",
    "                                    (ZP_df['UN Secundaria 3']==UN)|\n",
    "                                    (ZP_df['UN Secundaria 4']==UN)|\n",
    "                                    (ZP_df['UN Secundaria 5']==UN)),:].index)\n",
    "        else:\n",
    "            opened = len(ZP_df.loc[(ZP_df['Inicio de Operación']<x.date()) & (ZP_df['SI_DOMINGO'] == 1) & \n",
    "                                    ((ZP_df['UN Principal']==UN)|\n",
    "                                    (ZP_df['UN Secundaria 1']==UN)|\n",
    "                                    (ZP_df['UN Secundaria 2']==UN)|\n",
    "                                    (ZP_df['UN Secundaria 3']==UN)|\n",
    "                                    (ZP_df['UN Secundaria 4']==UN)|\n",
    "                                    (ZP_df['UN Secundaria 5']==UN)),:].index)\n",
    "            \n",
    "            closed = len(ZP_df.loc[(ZP_df['Fin de Operación']<x.date()) & (ZP_df['SI_DOMINGO'] == 1) &\n",
    "                                    ((ZP_df['UN Principal']==UN)|\n",
    "                                    (ZP_df['UN Secundaria 1']==UN)|\n",
    "                                    (ZP_df['UN Secundaria 2']==UN)|\n",
    "                                    (ZP_df['UN Secundaria 3']==UN)|\n",
    "                                    (ZP_df['UN Secundaria 4']==UN)|\n",
    "                                    (ZP_df['UN Secundaria 5']==UN)),:].index)\n",
    "    \n",
    "    elif sabado==1:\n",
    "        opened = len(ZP_df.loc[(ZP_df['Inicio de Operación']<x.date()) & (ZP_df['SI_SABADO'] == 1) &\n",
    "                                    ((ZP_df['UN Principal']==UN)|\n",
    "                                    (ZP_df['UN Secundaria 1']==UN)|\n",
    "                                    (ZP_df['UN Secundaria 2']==UN)|\n",
    "                                    (ZP_df['UN Secundaria 3']==UN)|\n",
    "                                    (ZP_df['UN Secundaria 4']==UN)|\n",
    "                                    (ZP_df['UN Secundaria 5']==UN)),:].index)\n",
    "        \n",
    "        closed = len(ZP_df.loc[(ZP_df['Fin de Operación']<x.date()) & (ZP_df['SI_SABADO'] == 1) &\n",
    "                                    ((ZP_df['UN Principal']==UN)|\n",
    "                                    (ZP_df['UN Secundaria 1']==UN)|\n",
    "                                    (ZP_df['UN Secundaria 2']==UN)|\n",
    "                                    (ZP_df['UN Secundaria 3']==UN)|\n",
    "                                    (ZP_df['UN Secundaria 4']==UN)|\n",
    "                                    (ZP_df['UN Secundaria 5']==UN)),:].index)    \n",
    "    \n",
    "    elif domingo==1:\n",
    "        opened = len(ZP_df.loc[(ZP_df['Inicio de Operación']<x.date()) & (ZP_df['SI_DOMINGO'] == 1) &\n",
    "                                    ((ZP_df['UN Principal']==UN)|\n",
    "                                    (ZP_df['UN Secundaria 1']==UN)|\n",
    "                                    (ZP_df['UN Secundaria 2']==UN)|\n",
    "                                    (ZP_df['UN Secundaria 3']==UN)|\n",
    "                                    (ZP_df['UN Secundaria 4']==UN)|\n",
    "                                    (ZP_df['UN Secundaria 5']==UN)),:].index)\n",
    "        \n",
    "        closed = len(ZP_df.loc[(ZP_df['Fin de Operación']<x.date()) & (ZP_df['SI_DOMINGO'] == 1) & \n",
    "                                    ((ZP_df['UN Principal']==UN)|\n",
    "                                    (ZP_df['UN Secundaria 1']==UN)|\n",
    "                                    (ZP_df['UN Secundaria 2']==UN)|\n",
    "                                    (ZP_df['UN Secundaria 3']==UN)|\n",
    "                                    (ZP_df['UN Secundaria 4']==UN)|\n",
    "                                    (ZP_df['UN Secundaria 5']==UN)),:].index)       \n",
    "    \n",
    "\n",
    "    total = opened-closed\n",
    "    \n",
    "    return total"
   ]
  },
  {
   "cell_type": "code",
   "execution_count": 54,
   "metadata": {
    "collapsed": true
   },
   "outputs": [],
   "source": [
    "independent_variables.loc[:,'N_ZPs_UN1'] = independent_variables.loc[:,'DATE'].apply(lambda x: countingZPsByUN(x, 'U1'))\n",
    "independent_variables.loc[:,'N_ZPs_UN2'] = independent_variables.loc[:,'DATE'].apply(lambda x: countingZPsByUN(x, 'U2'))\n",
    "independent_variables.loc[:,'N_ZPs_UN3'] = independent_variables.loc[:,'DATE'].apply(lambda x: countingZPsByUN(x, 'U3'))\n",
    "independent_variables.loc[:,'N_ZPs_UN4'] = independent_variables.loc[:,'DATE'].apply(lambda x: countingZPsByUN(x, 'U4'))\n",
    "independent_variables.loc[:,'N_ZPs_UN5'] = independent_variables.loc[:,'DATE'].apply(lambda x: countingZPsByUN(x, 'U5'))\n",
    "independent_variables.loc[:,'N_ZPs_UN6'] = independent_variables.loc[:,'DATE'].apply(lambda x: countingZPsByUN(x, 'U6'))\n",
    "independent_variables.loc[:,'N_ZPs_UN7'] = independent_variables.loc[:,'DATE'].apply(lambda x: countingZPsByUN(x, 'U7'))"
   ]
  },
  {
   "cell_type": "markdown",
   "metadata": {},
   "source": [
    "* Plotting number of zps by time. Not always needed"
   ]
  },
  {
   "cell_type": "code",
   "execution_count": 55,
   "metadata": {
    "collapsed": true
   },
   "outputs": [],
   "source": [
    "#import plotly.plotly\n",
    "#import plotly.graph_objs as go"
   ]
  },
  {
   "cell_type": "code",
   "execution_count": 56,
   "metadata": {
    "collapsed": true
   },
   "outputs": [],
   "source": [
    "#days_values = independent_variables.loc[:,'DATE']\n",
    "#zps_values = independent_variables.loc[:,'N_ZPs']"
   ]
  },
  {
   "cell_type": "code",
   "execution_count": 57,
   "metadata": {
    "collapsed": true
   },
   "outputs": [],
   "source": [
    "#trace1 = go.Scatter(x=days_values, y=zps_values, name='Total ZPs', marker=dict(color='rgb(76, 181, 245)'),opacity=1)\n",
    "#data = [trace1]\n",
    "\n",
    "#layout = go.Layout(title='Evolución total zonas pagas en el tiempo',  yaxis=dict(title='Total ZPs'))\n",
    "\n",
    "#fig = go.Figure(data=data, layout=layout)\n",
    "#plotly.offline.plot(fig, filename='ZPs.html')"
   ]
  },
  {
   "cell_type": "markdown",
   "metadata": {},
   "source": [
    "##### Printing everything to a file"
   ]
  },
  {
   "cell_type": "code",
   "execution_count": 58,
   "metadata": {
    "collapsed": true
   },
   "outputs": [],
   "source": [
    "independent_variables_output_path = os.path.join(DTPM_TRXDir, '0_INDEPENDENTS/independents_variables.csv')"
   ]
  },
  {
   "cell_type": "code",
   "execution_count": 59,
   "metadata": {
    "collapsed": true
   },
   "outputs": [],
   "source": [
    "independent_variables.to_csv(independent_variables_output_path,sep=';',encoding='latin-1')"
   ]
  },
  {
   "cell_type": "markdown",
   "metadata": {},
   "source": [
    "# Closed"
   ]
  }
 ],
 "metadata": {
  "kernelspec": {
   "display_name": "Python 3",
   "language": "python",
   "name": "python3"
  },
  "language_info": {
   "codemirror_mode": {
    "name": "ipython",
    "version": 3
   },
   "file_extension": ".py",
   "mimetype": "text/x-python",
   "name": "python",
   "nbconvert_exporter": "python",
   "pygments_lexer": "ipython3",
   "version": "3.6.1"
  }
 },
 "nbformat": 4,
 "nbformat_minor": 2
}
