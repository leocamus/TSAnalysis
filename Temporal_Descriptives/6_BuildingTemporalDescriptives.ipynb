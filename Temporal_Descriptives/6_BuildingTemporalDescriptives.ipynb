{
 "cells": [
  {
   "cell_type": "markdown",
   "metadata": {},
   "source": [
    "### Analyzing all-dates descriptives"
   ]
  },
  {
   "cell_type": "code",
   "execution_count": 1,
   "metadata": {
    "collapsed": true
   },
   "outputs": [],
   "source": [
    "import os\n",
    "import sys\n",
    "module_path = os.path.abspath(os.path.join('..'))\n",
    "if module_path not in sys.path:\n",
    "    sys.path.append(module_path)"
   ]
  },
  {
   "cell_type": "code",
   "execution_count": 2,
   "metadata": {},
   "outputs": [
    {
     "data": {
      "text/html": [
       "<style>.container { width:80% !important; }</style>"
      ],
      "text/plain": [
       "<IPython.core.display.HTML object>"
      ]
     },
     "metadata": {},
     "output_type": "display_data"
    }
   ],
   "source": [
    "%matplotlib inline\n",
    "from IPython.core.display import display, HTML\n",
    "display(HTML(\"<style>.container { width:80% !important; }</style>\"))\n",
    "\n",
    "import pandas as pd\n",
    "import matplotlib\n",
    "import matplotlib.pyplot as plt\n",
    "import matplotlib.dates as mdates\n",
    "import numpy as np\n",
    "import datetime as dt\n",
    "import time\n",
    "\n",
    "from importlib import reload\n",
    "from Utils import TransantiagoConstants\n",
    "import TemporalDescriptivesBuilder"
   ]
  },
  {
   "cell_type": "code",
   "execution_count": 3,
   "metadata": {
    "collapsed": true
   },
   "outputs": [],
   "source": [
    "dates = TransantiagoConstants.updateCurrentSSHDates()\n",
    "summary_dir = TransantiagoConstants.SummaryDir"
   ]
  },
  {
   "cell_type": "markdown",
   "metadata": {},
   "source": [
    "* Only to re-factor"
   ]
  },
  {
   "cell_type": "code",
   "execution_count": 4,
   "metadata": {
    "collapsed": true
   },
   "outputs": [],
   "source": [
    "#date = dates[0]\n",
    "#dates = ['2017-03-15']"
   ]
  },
  {
   "cell_type": "code",
   "execution_count": 5,
   "metadata": {
    "collapsed": true
   },
   "outputs": [],
   "source": [
    "#start_index = dates.index('2017-08-22') + 1"
   ]
  },
  {
   "cell_type": "code",
   "execution_count": 6,
   "metadata": {
    "collapsed": true
   },
   "outputs": [],
   "source": [
    "#length_list = len(dates)"
   ]
  },
  {
   "cell_type": "code",
   "execution_count": 7,
   "metadata": {
    "collapsed": true
   },
   "outputs": [],
   "source": [
    "#sub_dates = dates[start_index:length_list]"
   ]
  },
  {
   "cell_type": "code",
   "execution_count": 8,
   "metadata": {
    "collapsed": true
   },
   "outputs": [],
   "source": [
    "#sub_dates"
   ]
  },
  {
   "cell_type": "markdown",
   "metadata": {},
   "source": [
    "*****"
   ]
  },
  {
   "cell_type": "markdown",
   "metadata": {},
   "source": [
    "* Building table (1) and (2) simultaneously"
   ]
  },
  {
   "cell_type": "code",
   "execution_count": 9,
   "metadata": {
    "scrolled": false
   },
   "outputs": [
    {
     "name": "stdout",
     "output_type": "stream",
     "text": [
      "2017-03-01 is being processed\n",
      "2017-03-02 is being processed\n",
      "2017-03-03 is being processed\n",
      "2017-03-04 is being processed\n",
      "2017-03-05 is being processed\n",
      "2017-03-07 is being processed\n",
      "2017-03-09 is being processed\n",
      "2017-03-11 is being processed\n",
      "2017-03-12 is being processed\n",
      "2017-03-13 is being processed\n",
      "2017-03-14 is being processed\n",
      "2017-03-15 is being processed\n",
      "2017-03-16 is being processed\n",
      "2017-03-17 is being processed\n",
      "2017-03-18 is being processed\n",
      "2017-03-19 is being processed\n",
      "2017-03-26 is being processed\n",
      "2017-04-08 is being processed\n",
      "2017-04-09 is being processed\n",
      "2017-04-10 is being processed\n",
      "2017-04-11 is being processed\n",
      "2017-04-12 is being processed\n",
      "2017-04-14 is being processed\n",
      "2017-04-15 is being processed\n",
      "2017-04-16 is being processed\n",
      "2017-04-17 is being processed\n",
      "2017-04-18 is being processed\n",
      "2017-04-19 is being processed\n",
      "2017-04-20 is being processed\n",
      "2017-04-22 is being processed\n",
      "2017-04-23 is being processed\n",
      "2017-04-25 is being processed\n",
      "2017-04-26 is being processed\n",
      "2017-04-27 is being processed\n",
      "2017-04-28 is being processed\n",
      "2017-04-29 is being processed\n",
      "2017-04-30 is being processed\n",
      "2017-05-01 is being processed\n",
      "2017-05-02 is being processed\n",
      "2017-05-03 is being processed\n",
      "2017-05-04 is being processed\n",
      "2017-05-06 is being processed\n",
      "2017-05-07 is being processed\n",
      "2017-05-08 is being processed\n",
      "2017-05-10 is being processed\n",
      "2017-05-14 is being processed\n",
      "2017-05-15 is being processed\n",
      "2017-05-17 is being processed\n",
      "2017-05-19 is being processed\n",
      "2017-05-20 is being processed\n",
      "2017-05-21 is being processed\n",
      "2017-05-22 is being processed\n",
      "2017-05-25 is being processed\n",
      "2017-05-26 is being processed\n",
      "2017-05-27 is being processed\n",
      "2017-05-28 is being processed\n",
      "2017-05-29 is being processed\n",
      "2017-05-30 is being processed\n",
      "2017-05-31 is being processed\n",
      "2017-06-01 is being processed\n",
      "2017-06-02 is being processed\n",
      "2017-06-03 is being processed\n",
      "2017-06-04 is being processed\n",
      "2017-06-05 is being processed\n",
      "2017-06-13 is being processed\n",
      "2017-06-14 is being processed\n",
      "2017-06-15 is being processed\n",
      "2017-06-16 is being processed\n",
      "2017-06-17 is being processed\n",
      "2017-06-18 is being processed\n",
      "2017-06-19 is being processed\n",
      "2017-06-21 is being processed\n",
      "2017-06-22 is being processed\n",
      "2017-06-23 is being processed\n",
      "2017-06-24 is being processed\n",
      "2017-06-25 is being processed\n",
      "2017-06-26 is being processed\n",
      "2017-06-27 is being processed\n",
      "2017-06-29 is being processed\n",
      "2017-06-30 is being processed\n",
      "2017-07-01 is being processed\n",
      "2017-07-02 is being processed\n",
      "2017-07-03 is being processed\n",
      "2017-07-04 is being processed\n",
      "2017-07-05 is being processed\n",
      "2017-07-06 is being processed\n",
      "2017-07-07 is being processed\n",
      "2017-07-08 is being processed\n",
      "2017-07-09 is being processed\n",
      "2017-07-10 is being processed\n",
      "2017-07-11 is being processed\n",
      "2017-07-12 is being processed\n",
      "2017-07-13 is being processed\n",
      "2017-07-14 is being processed\n",
      "2017-07-15 is being processed\n",
      "2017-07-16 is being processed\n",
      "2017-07-18 is being processed\n",
      "2017-07-19 is being processed\n",
      "2017-08-01 is being processed\n",
      "2017-08-02 is being processed\n",
      "2017-08-03 is being processed\n",
      "2017-08-04 is being processed\n",
      "2017-08-05 is being processed\n",
      "2017-08-06 is being processed\n",
      "2017-08-08 is being processed\n",
      "2017-08-09 is being processed\n",
      "2017-08-11 is being processed\n",
      "2017-08-12 is being processed\n",
      "2017-08-13 is being processed\n",
      "2017-08-14 is being processed\n",
      "2017-08-15 is being processed\n",
      "2017-08-17 is being processed\n",
      "2017-08-18 is being processed\n",
      "2017-08-19 is being processed\n",
      "2017-08-20 is being processed\n",
      "2017-08-21 is being processed\n",
      "2017-08-22 is being processed\n",
      "2017-08-23 is being processed\n",
      "2017-08-24 is being processed\n",
      "2017-08-25 is being processed\n",
      "2017-08-26 is being processed\n",
      "2017-08-27 is being processed\n",
      "34064.15053608941\n"
     ]
    }
   ],
   "source": [
    "tic = time.clock()\n",
    "general_summary = pd.DataFrame()\n",
    "ind = 0\n",
    "\n",
    "for date in dates:\n",
    "    print(date + ' is being processed')\n",
    "    temporal_descriptives_builder = TemporalDescriptivesBuilder.TemporalDescriptivesBuilderClass(date)\n",
    "    \n",
    "    ### General description of raw databases ###\n",
    "    temporal_descriptives_builder.loadEtapasAndOthers()\n",
    "    etapas_df = temporal_descriptives_builder.df\n",
    "    total_trx = len(etapas_df.index)\n",
    "    general_summary.loc[ind,'date'] = date\n",
    "    general_summary.loc[ind,'total_trx'] = total_trx\n",
    "    \n",
    "    ### General description of clean databases ###\n",
    "    temporal_descriptives_builder.processEtapas()\n",
    "    etapas_df = temporal_descriptives_builder.df\n",
    "    total_clean_trx = len(etapas_df.index)\n",
    "    total_clean_turnstile_trx = len(etapas_df.loc[etapas_df['torniquete_mariposa']==1,:].index)\n",
    "    total_clean_no_turnstile_trx = len(etapas_df.loc[etapas_df['no_torniquete']==1,:].index)\n",
    "    \n",
    "    avg_time_turnstile = etapas_df.loc[(etapas_df['torniquete_mariposa']==1) \n",
    "                                       &(~etapas_df['diferencia_tiempo_secs'].isnull()) \n",
    "                                       &(etapas_df['diferencia_tiempo_secs']<=etapas_df['diferencia_tiempo_secs'].quantile(.97)),'diferencia_tiempo_secs'].mean()\n",
    "    \n",
    "    avg_time_no_turnstile = etapas_df.loc[(etapas_df['no_torniquete']==1) \n",
    "                                       &(~etapas_df['diferencia_tiempo_secs'].isnull()) \n",
    "                                       &(etapas_df['diferencia_tiempo_secs']<=etapas_df['diferencia_tiempo_secs'].quantile(.97)),'diferencia_tiempo_secs'].mean()    \n",
    "    \n",
    "    std_time_turnstile = etapas_df.loc[(etapas_df['torniquete_mariposa']==1) \n",
    "                                       &(~etapas_df['diferencia_tiempo_secs'].isnull()) \n",
    "                                       &(etapas_df['diferencia_tiempo_secs']<=etapas_df['diferencia_tiempo_secs'].quantile(.97)),'diferencia_tiempo_secs'].std()\n",
    "        \n",
    "    std_time_no_turnstile = etapas_df.loc[(etapas_df['no_torniquete']==1) \n",
    "                                       &(~etapas_df['diferencia_tiempo_secs'].isnull()) \n",
    "                                       &(etapas_df['diferencia_tiempo_secs']<=etapas_df['diferencia_tiempo_secs'].quantile(.97)),'diferencia_tiempo_secs'].std()\n",
    "    \n",
    "    p_97 = etapas_df.loc[(~etapas_df['diferencia_tiempo_secs'].isnull())\n",
    "                         &(etapas_df['diferencia_tiempo_secs']<=etapas_df['diferencia_tiempo_secs'].quantile(.97)),'diferencia_tiempo_secs'].max()\n",
    "        \n",
    "    \n",
    "    general_summary.loc[ind,'total_clean_trx'] = total_clean_trx\n",
    "    general_summary.loc[ind,'total_clean_turnstile_trx'] = total_clean_turnstile_trx\n",
    "    general_summary.loc[ind,'total_clean_no_turnstile_trx'] = total_clean_no_turnstile_trx\n",
    "    general_summary.loc[ind,'avg_time_turnstile'] = avg_time_turnstile\n",
    "    general_summary.loc[ind,'avg_time_no_turnstile'] = avg_time_no_turnstile\n",
    "    general_summary.loc[ind,'std_time_turnstile'] = std_time_turnstile\n",
    "    general_summary.loc[ind,'std_time_no_turnstile'] = std_time_no_turnstile\n",
    "    general_summary.loc[ind,'P97'] = p_97\n",
    "    \n",
    "    ind = ind+1\n",
    "    ### Disaggregated analyses ###\n",
    "    temporal_descriptives_builder.appendPeriods()\n",
    "    temporal_descriptives_builder.groupData()\n",
    "    temporal_descriptives_builder.appendUnidadNegocio()\n",
    "    temporal_descriptives_builder.mergeTurnstileData()\n",
    "    grouped_data = temporal_descriptives_builder.grouped_data    \n",
    "    grouped_data['fecha']=date\n",
    "    name_file = date + '_sumtrx.csv'\n",
    "    disaggregated_path = os.path.join(summary_dir,name_file)\n",
    "    grouped_data.to_csv(disaggregated_path,sep=';')\n",
    "\n",
    "general_path = os.path.join(summary_dir,'summarytrx.csv')\n",
    "general_summary.to_csv(general_path, sep=';')\n",
    "toc = time.clock()\n",
    "print(toc-tic)\n"
   ]
  },
  {
   "cell_type": "code",
   "execution_count": null,
   "metadata": {
    "collapsed": true
   },
   "outputs": [],
   "source": []
  }
 ],
 "metadata": {
  "kernelspec": {
   "display_name": "Python 3",
   "language": "python",
   "name": "python3"
  },
  "language_info": {
   "codemirror_mode": {
    "name": "ipython",
    "version": 3
   },
   "file_extension": ".py",
   "mimetype": "text/x-python",
   "name": "python",
   "nbconvert_exporter": "python",
   "pygments_lexer": "ipython3",
   "version": "3.6.1"
  }
 },
 "nbformat": 4,
 "nbformat_minor": 2
}
