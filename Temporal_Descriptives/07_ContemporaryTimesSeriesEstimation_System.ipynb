{
 "cells": [
  {
   "cell_type": "markdown",
   "metadata": {},
   "source": [
    "## Time series estimation - Contemporary, daily at system level"
   ]
  },
  {
   "cell_type": "markdown",
   "metadata": {},
   "source": [
    "% TODO: Check if R-squared are correctly computed"
   ]
  },
  {
   "cell_type": "code",
   "execution_count": 1,
   "metadata": {
    "collapsed": true
   },
   "outputs": [],
   "source": [
    "import os\n",
    "import sys\n",
    "module_path = os.path.abspath(os.path.join('..'))\n",
    "if module_path not in sys.path:\n",
    "    sys.path.append(module_path)"
   ]
  },
  {
   "cell_type": "code",
   "execution_count": 2,
   "metadata": {},
   "outputs": [
    {
     "data": {
      "text/html": [
       "<style>.container { width:100% !important; }</style>"
      ],
      "text/plain": [
       "<IPython.core.display.HTML object>"
      ]
     },
     "metadata": {},
     "output_type": "display_data"
    }
   ],
   "source": [
    "%matplotlib inline\n",
    "from IPython.core.display import display, HTML\n",
    "display(HTML(\"<style>.container { width:100% !important; }</style>\"))\n",
    "\n",
    "import plotly.plotly\n",
    "import plotly.tools as tls\n",
    "import plotly.graph_objs as go\n",
    "\n",
    "import pandas as pd\n",
    "import matplotlib\n",
    "import matplotlib.pyplot as plt\n",
    "import matplotlib.dates as mdates\n",
    "from matplotlib.ticker import FuncFormatter\n",
    "import numpy as np\n",
    "import datetime as dt\n",
    "import time"
   ]
  },
  {
   "cell_type": "code",
   "execution_count": 3,
   "metadata": {},
   "outputs": [
    {
     "name": "stderr",
     "output_type": "stream",
     "text": [
      "C:\\Users\\leoca_000\\Anaconda3\\lib\\site-packages\\statsmodels\\compat\\pandas.py:56: FutureWarning:\n",
      "\n",
      "The pandas.core.datetools module is deprecated and will be removed in a future version. Please use the pandas.tseries module instead.\n",
      "\n"
     ]
    }
   ],
   "source": [
    "import statsmodels.api as sm"
   ]
  },
  {
   "cell_type": "code",
   "execution_count": 4,
   "metadata": {
    "collapsed": true
   },
   "outputs": [],
   "source": [
    "from Utils import TransantiagoConstants"
   ]
  },
  {
   "cell_type": "code",
   "execution_count": 5,
   "metadata": {
    "collapsed": true
   },
   "outputs": [],
   "source": [
    "DTPMDir = TransantiagoConstants.DTPMDir\n",
    "DTPM_TRXDir = TransantiagoConstants.DTPM_TRXDir"
   ]
  },
  {
   "cell_type": "code",
   "execution_count": 6,
   "metadata": {
    "collapsed": true
   },
   "outputs": [],
   "source": [
    "daily_input_path = os.path.join(DTPM_TRXDir,'3_DAILY/daily_summary.csv')\n",
    "daily_trx = pd.read_csv(daily_input_path,sep=';',encoding='latin-1', index_col=0)"
   ]
  },
  {
   "cell_type": "markdown",
   "metadata": {},
   "source": [
    "### DAILY AT SYSTEM LEVEL. CREATING NEW DEPENDENT AND INDEPENDENT VARIABLES"
   ]
  },
  {
   "cell_type": "code",
   "execution_count": 7,
   "metadata": {
    "collapsed": true
   },
   "outputs": [],
   "source": [
    "daily_trx.loc[:,'TOTAL_trx'] = daily_trx.loc[:,'pn_SUM_TRX_no_t'] + daily_trx.loc[:,'pn_SUM_TRX_3t'] + daily_trx.loc[:,'pn_SUM_TRX_tm'] + daily_trx.loc[:,'zp_SUM_TRX']"
   ]
  },
  {
   "cell_type": "code",
   "execution_count": 8,
   "metadata": {
    "collapsed": true
   },
   "outputs": [],
   "source": [
    "independent_variables_path = os.path.join(DTPM_TRXDir,'0_INDEPENDENTS/independents_variables.csv')\n",
    "independent_variables = pd.read_csv(independent_variables_path,sep=';',encoding='latin-1', index_col=0, parse_dates=[1])"
   ]
  },
  {
   "cell_type": "code",
   "execution_count": 9,
   "metadata": {
    "collapsed": true
   },
   "outputs": [],
   "source": [
    "independent_variables.loc[:,'Verano'] =  independent_variables.loc[:,'Enero'] + independent_variables.loc[:,'Febrero']\n",
    "independent_variables.loc[:,'Nov_Dic_2017'] = independent_variables.loc[:,'Nov_2017'] + independent_variables.loc[:,'Dic_2017']\n",
    "independent_variables.loc[:,'WEEK_OF_YEAR'] = independent_variables.loc[:,'DATE'].apply(lambda x: x.week)\n",
    "independent_variables = pd.get_dummies(independent_variables, columns=['WEEK_OF_YEAR'])"
   ]
  },
  {
   "cell_type": "code",
   "execution_count": 10,
   "metadata": {
    "collapsed": true
   },
   "outputs": [],
   "source": [
    "complete_db = daily_trx.merge(independent_variables, on =['YEAR','MONTH','YEAR_DAY'], how='left')"
   ]
  },
  {
   "cell_type": "code",
   "execution_count": 11,
   "metadata": {
    "collapsed": true
   },
   "outputs": [],
   "source": [
    "complete_db.sort_values(by=['YEAR','MONTH','YEAR_DAY'], ascending=[True,True,True], inplace=True)"
   ]
  },
  {
   "cell_type": "markdown",
   "metadata": {},
   "source": [
    "### DESCRIPTIVES"
   ]
  },
  {
   "cell_type": "markdown",
   "metadata": {},
   "source": [
    "* General"
   ]
  },
  {
   "cell_type": "code",
   "execution_count": 12,
   "metadata": {
    "collapsed": true
   },
   "outputs": [],
   "source": [
    "descriptives = pd.DataFrame()"
   ]
  },
  {
   "cell_type": "code",
   "execution_count": 13,
   "metadata": {
    "collapsed": true
   },
   "outputs": [],
   "source": [
    "descriptives = complete_db.loc[:,'TOTAL_trx'].describe().to_frame('total_trx')\n",
    "descriptives = pd.concat([descriptives, complete_db.loc[:,'pn_SUM_TRX_no_t'].describe().to_frame()], axis=1, join='inner')\n",
    "descriptives = pd.concat([descriptives, complete_db.loc[:,'pn_SUM_TRX_3t'].describe().to_frame()], axis=1, join='inner')\n",
    "descriptives = pd.concat([descriptives, complete_db.loc[:,'pn_SUM_TRX_tm'].describe().to_frame()], axis=1, join='inner')\n",
    "descriptives = pd.concat([descriptives, complete_db.loc[:,'zp_SUM_TRX'].describe().to_frame()], axis=1, join='inner')"
   ]
  },
  {
   "cell_type": "code",
   "execution_count": 14,
   "metadata": {
    "collapsed": true
   },
   "outputs": [],
   "source": [
    "#pd.set_option('display.float_format', '{:.3e}'.format)"
   ]
  },
  {
   "cell_type": "code",
   "execution_count": 15,
   "metadata": {
    "collapsed": true
   },
   "outputs": [],
   "source": [
    "#print(descriptives.to_latex())"
   ]
  },
  {
   "cell_type": "markdown",
   "metadata": {},
   "source": [
    "* Plotting by year"
   ]
  },
  {
   "cell_type": "code",
   "execution_count": 16,
   "metadata": {
    "collapsed": true
   },
   "outputs": [],
   "source": [
    "grouped_by_year = complete_db.groupby(['YEAR'])['TOTAL_trx','pn_SUM_TRX_no_t','pn_SUM_TRX_3t','pn_SUM_TRX_tm','zp_SUM_TRX'].sum()"
   ]
  },
  {
   "cell_type": "code",
   "execution_count": 17,
   "metadata": {},
   "outputs": [
    {
     "data": {
      "text/html": [
       "<div>\n",
       "<style>\n",
       "    .dataframe thead tr:only-child th {\n",
       "        text-align: right;\n",
       "    }\n",
       "\n",
       "    .dataframe thead th {\n",
       "        text-align: left;\n",
       "    }\n",
       "\n",
       "    .dataframe tbody tr th {\n",
       "        vertical-align: top;\n",
       "    }\n",
       "</style>\n",
       "<table border=\"1\" class=\"dataframe\">\n",
       "  <thead>\n",
       "    <tr style=\"text-align: right;\">\n",
       "      <th></th>\n",
       "      <th>TOTAL_trx</th>\n",
       "      <th>pn_SUM_TRX_no_t</th>\n",
       "      <th>pn_SUM_TRX_3t</th>\n",
       "      <th>pn_SUM_TRX_tm</th>\n",
       "      <th>zp_SUM_TRX</th>\n",
       "    </tr>\n",
       "    <tr>\n",
       "      <th>YEAR</th>\n",
       "      <th></th>\n",
       "      <th></th>\n",
       "      <th></th>\n",
       "      <th></th>\n",
       "      <th></th>\n",
       "    </tr>\n",
       "  </thead>\n",
       "  <tbody>\n",
       "    <tr>\n",
       "      <th>2015</th>\n",
       "      <td>914266353.0</td>\n",
       "      <td>681051074</td>\n",
       "      <td>138508996</td>\n",
       "      <td>1050625.0</td>\n",
       "      <td>93655658</td>\n",
       "    </tr>\n",
       "    <tr>\n",
       "      <th>2016</th>\n",
       "      <td>873690623.0</td>\n",
       "      <td>643134397</td>\n",
       "      <td>129177128</td>\n",
       "      <td>11239945.0</td>\n",
       "      <td>90139153</td>\n",
       "    </tr>\n",
       "    <tr>\n",
       "      <th>2017</th>\n",
       "      <td>860265821.0</td>\n",
       "      <td>511644071</td>\n",
       "      <td>107372896</td>\n",
       "      <td>139383299.0</td>\n",
       "      <td>101865555</td>\n",
       "    </tr>\n",
       "  </tbody>\n",
       "</table>\n",
       "</div>"
      ],
      "text/plain": [
       "        TOTAL_trx  pn_SUM_TRX_no_t  pn_SUM_TRX_3t  pn_SUM_TRX_tm  zp_SUM_TRX\n",
       "YEAR                                                                        \n",
       "2015  914266353.0        681051074      138508996      1050625.0    93655658\n",
       "2016  873690623.0        643134397      129177128     11239945.0    90139153\n",
       "2017  860265821.0        511644071      107372896    139383299.0   101865555"
      ]
     },
     "execution_count": 17,
     "metadata": {},
     "output_type": "execute_result"
    }
   ],
   "source": [
    "grouped_by_year"
   ]
  },
  {
   "cell_type": "code",
   "execution_count": 18,
   "metadata": {
    "collapsed": true
   },
   "outputs": [],
   "source": [
    "colors = [(76, 181, 245),(183, 184, 182),(52, 103, 92),(179, 193, 0)]\n",
    "for i in range(len(colors)):\n",
    "    r, g, b = colors[i]  \n",
    "    colors[i] = (r / 255., g / 255., b / 255.)"
   ]
  },
  {
   "cell_type": "code",
   "execution_count": 19,
   "metadata": {
    "collapsed": true
   },
   "outputs": [],
   "source": [
    "def millions(x, pos):\n",
    "    'The two args are the value and tick position'\n",
    "    return '%1.1fM' % (x*1e-6)"
   ]
  },
  {
   "cell_type": "code",
   "execution_count": 20,
   "metadata": {},
   "outputs": [
    {
     "data": {
      "image/png": "[encoded data removed]",
      "text/plain": [
       "<matplotlib.figure.Figure at 0x2f043c5d3c8>"
      ]
     },
     "metadata": {},
     "output_type": "display_data"
    }
   ],
   "source": [
    "year_values = grouped_by_year.index.values\n",
    "no_turnstile_values = list(map(int, grouped_by_year['pn_SUM_TRX_no_t'].values))\n",
    "three_turnstile_values = list(map(int,grouped_by_year['pn_SUM_TRX_3t'].values))\n",
    "butterfly_turnstile_values = list(map(int,grouped_by_year['pn_SUM_TRX_tm'].values))\n",
    "zp_values = list(map(int,grouped_by_year['zp_SUM_TRX'].values))\n",
    "    \n",
    "formatter = FuncFormatter(millions)\n",
    "    \n",
    "labels = [\"ZP\", \"S/T\", \"C/T3\", \"C/TM\"]\n",
    "fig, ax = plt.subplots()\n",
    "\n",
    "p1 = plt.bar(year_values, zp_values, color = colors[0], label='ZP')\n",
    "p2 = plt.bar(year_values, no_turnstile_values, bottom=zp_values, color = colors[1], label='S/T')\n",
    "p3 = plt.bar(year_values, three_turnstile_values, bottom= [sum(x) for x in zip(zp_values, no_turnstile_values)], color = colors[2],label='C/T3')\n",
    "p4 = plt.bar(year_values, butterfly_turnstile_values, bottom= [sum(x) for x in zip(zp_values, no_turnstile_values,three_turnstile_values)], color = colors[3], label='C/TM')\n",
    "\n",
    "ax.legend()\n",
    "ax.set_title('Transacciones por año, 2015 a 2017')\n",
    "ax.set_ylabel('Transacciones')\n",
    "ax.yaxis.set_major_formatter(formatter)\n",
    "ax.set_xlabel('Año')\n",
    "#fig.autofmt_xdate()\n",
    "plt.xticks(np.arange(min(year_values), max(year_values)+1, 1.0))\n",
    "plt.tight_layout()\n",
    "#plt.savefig('C:/Users/leoca_000/Desktop/Evasion/03_report/02_Figs/6_trxOverTimeByYear_all.pdf')\n",
    "        \n",
    "#plt.show()"
   ]
  },
  {
   "cell_type": "markdown",
   "metadata": {},
   "source": [
    "### Summary of results: OLS_Summary"
   ]
  },
  {
   "cell_type": "code",
   "execution_count": 21,
   "metadata": {
    "collapsed": true
   },
   "outputs": [],
   "source": [
    "OLS_Summary = pd.DataFrame()"
   ]
  },
  {
   "cell_type": "code",
   "execution_count": 22,
   "metadata": {
    "collapsed": true
   },
   "outputs": [],
   "source": [
    "def summarizingResults(x, df, model_name):\n",
    "    params = x.params.rename('params_' + model_name)\n",
    "    t = x.tvalues.rename('t_' + model_name)\n",
    "    p = x.pvalues.rename('p_' + model_name)\n",
    "\n",
    "    df = pd.concat([df, params, t, p], axis=1)\n",
    "    df.loc['R2_ADJ', 'params_' + model_name] = x.rsquared_adj\n",
    "    df.loc['AIC', 'params_' + model_name] = x.aic\n",
    "    df.loc['F', 'params_' + model_name] = x.fvalue\n",
    "    df.loc['P_F', 'params_' + model_name] = x.f_pvalue\n",
    "    df.loc['D_W', 'params_' + model_name] = sm.stats.stattools.durbin_watson(x.resid)\n",
    "    \n",
    "    return df"
   ]
  },
  {
   "cell_type": "markdown",
   "metadata": {},
   "source": [
    "#### ESTIMATION. 1ST MODEL"
   ]
  },
  {
   "cell_type": "markdown",
   "metadata": {},
   "source": [
    "Estimado por OLS.<br>\n",
    "<strong>Y:</strong><br>\n",
    "'total de transacciones'<br>\n",
    "<strong>X:</strong><br>\n",
    "'SATURDAY',<br>\n",
    "'SUNDAY',<br>\n",
    "'ratio_tm',<br>\n",
    "'kms_ofertados',<br>\n",
    "'Verano',<br>\n",
    "'Julio',<br>\n",
    "'Nov_Dic_2017',<br>\n",
    "'t',<br>\n",
    "'Feriado_laboral',<br>\n",
    "'Feriado_no_laboral',<br>\n",
    "'Censo',<br>\n",
    "'Elecciones',<br>\n",
    "'Partido',<br>\n",
    "'FDS_Largo',<br>\n",
    "'Disturbios',<br>\n",
    "'Bucle',<br>\n",
    "'Clima',<br>\n",
    "'visperas_laborales', <br>\n",
    "'N_ZPs'"
   ]
  },
  {
   "cell_type": "code",
   "execution_count": 23,
   "metadata": {
    "collapsed": true
   },
   "outputs": [],
   "source": [
    "Y = complete_db.loc[:,'TOTAL_trx']\n",
    "X = complete_db.loc[:,['SATURDAY',\n",
    "                       'SUNDAY',\n",
    "                       'ratio_tm',\n",
    "                       'kms_ofertados',\n",
    "                       'Verano',\n",
    "                       'Julio',\n",
    "                       'Nov_Dic_2017',\n",
    "                       't',\n",
    "                       'Feriado_laboral',\n",
    "                       'Feriado_no_laboral',\n",
    "                       'Censo',\n",
    "                       'Elecciones',\n",
    "                       'Partido',\n",
    "                       'FDS_Largo',\n",
    "                       'Disturbios',\n",
    "                       'Bucle',\n",
    "                       'Clima',\n",
    "                       'visperas_laborales',\n",
    "                       'N_ZPs']]"
   ]
  },
  {
   "cell_type": "code",
   "execution_count": 24,
   "metadata": {
    "collapsed": true
   },
   "outputs": [],
   "source": [
    "X = sm.add_constant(X)\n",
    "m1 = sm.OLS(Y, X)\n",
    "results_m1 = m1.fit()\n",
    "#print(results_m1.summary())"
   ]
  },
  {
   "cell_type": "code",
   "execution_count": 25,
   "metadata": {
    "collapsed": true
   },
   "outputs": [],
   "source": [
    "OLS_Summary = summarizingResults(results_m1, OLS_Summary, 'm1')"
   ]
  },
  {
   "cell_type": "code",
   "execution_count": 26,
   "metadata": {
    "collapsed": true
   },
   "outputs": [],
   "source": [
    "ypred_m1 = results_m1.predict(X)\n",
    "complete_db.loc[:,'ypred_m1'] = ypred_m1"
   ]
  },
  {
   "cell_type": "markdown",
   "metadata": {},
   "source": [
    "----------------"
   ]
  },
  {
   "cell_type": "markdown",
   "metadata": {},
   "source": [
    "#### ESTIMATION. 2ND MODEL"
   ]
  },
  {
   "cell_type": "markdown",
   "metadata": {},
   "source": [
    "Estimado por OLS.<br>\n",
    "<strong>Y:</strong><br>\n",
    "'total de transacciones'<br>\n",
    "<strong>X:</strong><br>\n",
    "'SATURDAY',<br>\n",
    "'SUNDAY',<br>\n",
    "'ratio_tm',<br>\n",
    "'kms_ofertados',<br>\n",
    "'Verano',<br>\n",
    "'Julio',<br>\n",
    "'Nov_Dic_2017',<br>\n",
    "'t',<br>\n",
    "'Feriado_laboral',<br>\n",
    "'Feriado_no_laboral',<br>\n",
    "'Censo',<br>\n",
    "'Partido',<br>\n",
    "'FDS_Largo',<br>\n",
    "'Disturbios',<br>\n",
    "'Bucle',<br>\n",
    "'Clima',<br>\n",
    "'visperas_laborales', <br>\n",
    "'N_ZPs'<br>\n",
    "<strong>Omitidas:</strong><br>\n",
    "'Elecciones'<br>"
   ]
  },
  {
   "cell_type": "code",
   "execution_count": 27,
   "metadata": {
    "collapsed": true
   },
   "outputs": [],
   "source": [
    "Y = complete_db.loc[:,'TOTAL_trx']\n",
    "X = complete_db.loc[:,['SATURDAY',\n",
    "                       'SUNDAY',\n",
    "                       'ratio_tm',\n",
    "                       'kms_ofertados',\n",
    "                       'Verano',\n",
    "                       'Julio',\n",
    "                       'Nov_Dic_2017',\n",
    "                       't',\n",
    "                       'Feriado_laboral',\n",
    "                       'Feriado_no_laboral',\n",
    "                       'Censo',\n",
    "                       'Partido',\n",
    "                       'FDS_Largo',\n",
    "                       'Disturbios',\n",
    "                       'Bucle',\n",
    "                       'Clima',\n",
    "                       'visperas_laborales',\n",
    "                       'N_ZPs']]"
   ]
  },
  {
   "cell_type": "code",
   "execution_count": 28,
   "metadata": {
    "collapsed": true
   },
   "outputs": [],
   "source": [
    "X = sm.add_constant(X)\n",
    "m2 = sm.OLS(Y, X)\n",
    "results_m2 = m2.fit()\n",
    "#print(results_m2.summary())"
   ]
  },
  {
   "cell_type": "code",
   "execution_count": 29,
   "metadata": {
    "collapsed": true
   },
   "outputs": [],
   "source": [
    "OLS_Summary = summarizingResults(results_m2, OLS_Summary, 'm2')"
   ]
  },
  {
   "cell_type": "code",
   "execution_count": 30,
   "metadata": {
    "collapsed": true
   },
   "outputs": [],
   "source": [
    "ypred_m2 = results_m2.predict(X)\n",
    "complete_db.loc[:,'ypred_m2'] = ypred_m2"
   ]
  },
  {
   "cell_type": "markdown",
   "metadata": {},
   "source": [
    "----------------"
   ]
  },
  {
   "cell_type": "markdown",
   "metadata": {},
   "source": [
    "#### ESTIMATION. 3RD MODEL"
   ]
  },
  {
   "cell_type": "markdown",
   "metadata": {},
   "source": [
    "Estimado por OLS.<br>\n",
    "<strong>Y:</strong><br>\n",
    "'total de transacciones'<br>\n",
    "<strong>X:</strong><br>\n",
    "'SATURDAY',<br>\n",
    "'SUNDAY',<br>\n",
    "'ratio_tm',<br>\n",
    "'kms_ofertados',<br>\n",
    "'Verano',<br>\n",
    "'Julio',<br>\n",
    "'t',<br>\n",
    "'Feriado_laboral',<br>\n",
    "'Feriado_no_laboral',<br>\n",
    "'Censo',<br>\n",
    "'Partido',<br>\n",
    "'FDS_Largo',<br>\n",
    "'Disturbios',<br>\n",
    "'Bucle',<br>\n",
    "'Clima',<br>\n",
    "'visperas_laborales', <br>\n",
    "'N_ZPs'<br>\n",
    "<strong>Omitidas:</strong><br>\n",
    "'Elecciones',<br>\n",
    "'Nov_Dic_2017'"
   ]
  },
  {
   "cell_type": "code",
   "execution_count": 31,
   "metadata": {
    "collapsed": true
   },
   "outputs": [],
   "source": [
    "Y = complete_db.loc[:,'TOTAL_trx']\n",
    "X = complete_db.loc[:,['SATURDAY',\n",
    "                       'SUNDAY',\n",
    "                       'ratio_tm',\n",
    "                       'kms_ofertados',\n",
    "                       'Verano',\n",
    "                       'Julio',\n",
    "                       't',\n",
    "                       'Feriado_laboral',\n",
    "                       'Feriado_no_laboral',\n",
    "                       'Censo',\n",
    "                       'Partido',\n",
    "                       'FDS_Largo',\n",
    "                       'Disturbios',\n",
    "                       'Bucle',\n",
    "                       'Clima',\n",
    "                       'visperas_laborales',\n",
    "                       'N_ZPs']]"
   ]
  },
  {
   "cell_type": "code",
   "execution_count": 32,
   "metadata": {
    "collapsed": true
   },
   "outputs": [],
   "source": [
    "X = sm.add_constant(X)\n",
    "m3 = sm.OLS(Y, X)\n",
    "results_m3 = m3.fit()\n",
    "#print(results_m3.summary())"
   ]
  },
  {
   "cell_type": "code",
   "execution_count": 33,
   "metadata": {
    "collapsed": true
   },
   "outputs": [],
   "source": [
    "OLS_Summary = summarizingResults(results_m3, OLS_Summary, 'm3')"
   ]
  },
  {
   "cell_type": "code",
   "execution_count": 34,
   "metadata": {
    "collapsed": true
   },
   "outputs": [],
   "source": [
    "ypred_m3 = results_m3.predict(X)\n",
    "complete_db.loc[:,'ypred_m3'] = ypred_m3"
   ]
  },
  {
   "cell_type": "markdown",
   "metadata": {},
   "source": [
    "-------------------------------"
   ]
  },
  {
   "cell_type": "markdown",
   "metadata": {},
   "source": [
    "#### ESTIMATION. 4TH MODEL"
   ]
  },
  {
   "cell_type": "markdown",
   "metadata": {},
   "source": [
    "Estimado por OLS.<br>\n",
    "<strong>Y:</strong><br>\n",
    "'total de transacciones'<br>\n",
    "<strong>X:</strong><br>\n",
    "'SATURDAY',<br>\n",
    "'SUNDAY',<br>\n",
    "'ratio_tm',<br>\n",
    "'kms_ofertados',<br>\n",
    "'Verano',<br>\n",
    "'Julio',<br>\n",
    "'t',<br>\n",
    "'Feriado_laboral',<br>\n",
    "'Feriado_no_laboral',<br>\n",
    "'Censo',<br>\n",
    "'Partido',<br>\n",
    "'FDS_Largo',<br>\n",
    "'Disturbios',<br>\n",
    "'Clima',<br>\n",
    "'visperas_laborales', <br>\n",
    "'N_ZPs'<br>\n",
    "<strong>Omitidas:</strong><br>\n",
    "'Elecciones',<br>\n",
    "'Nov_Dic_2017',<br>\n",
    "'Bucle'"
   ]
  },
  {
   "cell_type": "code",
   "execution_count": 35,
   "metadata": {
    "collapsed": true
   },
   "outputs": [],
   "source": [
    "Y = complete_db.loc[:,'TOTAL_trx']\n",
    "X = complete_db.loc[:,['SATURDAY',\n",
    "                       'SUNDAY',\n",
    "                       'ratio_tm',\n",
    "                       'kms_ofertados',\n",
    "                       'Verano',\n",
    "                       'Julio',\n",
    "                       't',\n",
    "                       'Feriado_laboral',\n",
    "                       'Feriado_no_laboral',\n",
    "                       'Censo',\n",
    "                       'Partido',\n",
    "                       'FDS_Largo',\n",
    "                       'Disturbios',\n",
    "                       'Clima',\n",
    "                       'visperas_laborales',\n",
    "                       'N_ZPs']]"
   ]
  },
  {
   "cell_type": "code",
   "execution_count": 36,
   "metadata": {
    "collapsed": true
   },
   "outputs": [],
   "source": [
    "X = sm.add_constant(X)\n",
    "m4 = sm.OLS(Y, X)\n",
    "results_m4 = m4.fit()\n",
    "#print(results_m4.summary())"
   ]
  },
  {
   "cell_type": "code",
   "execution_count": 37,
   "metadata": {
    "collapsed": true
   },
   "outputs": [],
   "source": [
    "OLS_Summary = summarizingResults(results_m4, OLS_Summary, 'm4')"
   ]
  },
  {
   "cell_type": "code",
   "execution_count": 38,
   "metadata": {
    "collapsed": true
   },
   "outputs": [],
   "source": [
    "ypred_m4 = results_m4.predict(X)\n",
    "complete_db.loc[:,'ypred_m4'] = ypred_m4"
   ]
  },
  {
   "cell_type": "markdown",
   "metadata": {},
   "source": [
    "---------------"
   ]
  },
  {
   "cell_type": "markdown",
   "metadata": {},
   "source": [
    "#### ESTIMATION. 5TH MODEL <- <font color='green'> base model </font>"
   ]
  },
  {
   "cell_type": "markdown",
   "metadata": {},
   "source": [
    "Estimado por OLS.<br>\n",
    "<strong>Y:</strong><br>\n",
    "'total de transacciones'<br>\n",
    "<strong>X:</strong><br>\n",
    "'SATURDAY',<br>\n",
    "'SUNDAY',<br>\n",
    "'ratio_tm',<br>\n",
    "'kms_ofertados',<br>\n",
    "'Verano 52, 53, 1, 2, 3, 4, 5, 6, 7, 8, 9',<br>\n",
    "'Julio',<br>\n",
    "'t',<br>\n",
    "'Feriado_laboral',<br>\n",
    "'Feriado_no_laboral',<br>\n",
    "'FDS_Largo',<br>\n",
    "'Disturbios',<br>\n",
    "'Clima',<br>\n",
    "'Partido',<br>\n",
    "'Censo',<br>\n",
    "'visperas_laborales',<br>\n",
    "'N_ZPs'<br>\n",
    "<strong>Omitidas:</strong><br>\n",
    "'Elecciones',<br>\n",
    "'Nov_Dic_2017',<br>\n",
    "'Bucle',<br>"
   ]
  },
  {
   "cell_type": "code",
   "execution_count": 39,
   "metadata": {
    "collapsed": true
   },
   "outputs": [],
   "source": [
    "Y = complete_db.loc[:,'TOTAL_trx']\n",
    "X = complete_db.loc[:,['SATURDAY',\n",
    "                        'SUNDAY',\n",
    "                        'ratio_tm',\n",
    "                        'kms_ofertados',\n",
    "                        'WEEK_OF_YEAR_52',\n",
    "                        'WEEK_OF_YEAR_53',\n",
    "                        'WEEK_OF_YEAR_1',\n",
    "                        'WEEK_OF_YEAR_2',\n",
    "                        'WEEK_OF_YEAR_3',\n",
    "                        'WEEK_OF_YEAR_4',\n",
    "                        'WEEK_OF_YEAR_5',\n",
    "                        'WEEK_OF_YEAR_6',\n",
    "                        'WEEK_OF_YEAR_7',\n",
    "                        'WEEK_OF_YEAR_8',\n",
    "                        'WEEK_OF_YEAR_9',\n",
    "                        'Julio',\n",
    "                        't',\n",
    "                        'Feriado_laboral',\n",
    "                        'Feriado_no_laboral',\n",
    "                        'FDS_Largo',\n",
    "                        'Disturbios',\n",
    "                        'Clima',\n",
    "                        'Partido',\n",
    "                        'Censo',\n",
    "                        'visperas_laborales',\n",
    "                        'N_ZPs']]"
   ]
  },
  {
   "cell_type": "code",
   "execution_count": 40,
   "metadata": {
    "collapsed": true
   },
   "outputs": [],
   "source": [
    "X = sm.add_constant(X)\n",
    "m5 = sm.OLS(Y, X)\n",
    "results_m5 = m5.fit()\n",
    "#print(results_m5.summary())"
   ]
  },
  {
   "cell_type": "code",
   "execution_count": 41,
   "metadata": {
    "collapsed": true
   },
   "outputs": [],
   "source": [
    "OLS_Summary = summarizingResults(results_m5, OLS_Summary, 'm5')"
   ]
  },
  {
   "cell_type": "code",
   "execution_count": 42,
   "metadata": {
    "collapsed": true
   },
   "outputs": [],
   "source": [
    "ypred_m5 = results_m5.predict(X)\n",
    "complete_db.loc[:,'ypred_m5'] = ypred_m5"
   ]
  },
  {
   "cell_type": "markdown",
   "metadata": {},
   "source": [
    "-----------------------------"
   ]
  },
  {
   "cell_type": "markdown",
   "metadata": {},
   "source": [
    "#### ESTIMATION. 6TH MODEL"
   ]
  },
  {
   "cell_type": "markdown",
   "metadata": {},
   "source": [
    "Estimado por OLS.<br>\n",
    "<strong>Y:</strong><br>\n",
    "'total de transacciones'<br>\n",
    "<strong>X:</strong><br>\n",
    "'SATURDAY',<br>\n",
    "'SUNDAY',<br>\n",
    "'ratio_tm',<br>\n",
    "'ratio_tm_2',<br>\n",
    "'kms_ofertados',<br>\n",
    "'Verano 52, 53, 1, 2, 3, 4, 5, 6, 7, 8, 9',<br>\n",
    "'Julio',<br>\n",
    "'t',<br>\n",
    "'Feriado_laboral',<br>\n",
    "'Feriado_no_laboral',<br>\n",
    "'FDS_Largo',<br>\n",
    "'Disturbios',<br>\n",
    "'Clima',<br>\n",
    "'Partido',<br>\n",
    "'Censo',<br>\n",
    "'visperas_laborales',<br>\n",
    "'N_ZPs'<br>\n",
    "<strong>Omitidas:</strong><br>\n",
    "'Elecciones',<br>\n",
    "'Nov_Dic_2017',<br>\n",
    "'Bucle',<br>"
   ]
  },
  {
   "cell_type": "code",
   "execution_count": 43,
   "metadata": {
    "collapsed": true
   },
   "outputs": [],
   "source": [
    "complete_db.loc[:,'ratio_tm_2'] = complete_db.loc[:,'ratio_tm']*complete_db.loc[:,'ratio_tm']"
   ]
  },
  {
   "cell_type": "code",
   "execution_count": 44,
   "metadata": {
    "collapsed": true
   },
   "outputs": [],
   "source": [
    "Y = complete_db.loc[:,'TOTAL_trx']\n",
    "X = complete_db.loc[:,['SATURDAY',\n",
    "                        'SUNDAY',\n",
    "                        'ratio_tm',\n",
    "                        'ratio_tm_2',\n",
    "                        'kms_ofertados',\n",
    "                        'WEEK_OF_YEAR_52',\n",
    "                        'WEEK_OF_YEAR_53',\n",
    "                        'WEEK_OF_YEAR_1',\n",
    "                        'WEEK_OF_YEAR_2',\n",
    "                        'WEEK_OF_YEAR_3',\n",
    "                        'WEEK_OF_YEAR_4',\n",
    "                        'WEEK_OF_YEAR_5',\n",
    "                        'WEEK_OF_YEAR_6',\n",
    "                        'WEEK_OF_YEAR_7',\n",
    "                        'WEEK_OF_YEAR_8',\n",
    "                        'WEEK_OF_YEAR_9',\n",
    "                        'Julio',\n",
    "                        't',\n",
    "                        'Feriado_laboral',\n",
    "                        'Feriado_no_laboral',\n",
    "                        'FDS_Largo',\n",
    "                        'Disturbios',\n",
    "                        'Clima',\n",
    "                        'Partido',\n",
    "                        'Censo',\n",
    "                        'visperas_laborales',\n",
    "                        'N_ZPs']]"
   ]
  },
  {
   "cell_type": "code",
   "execution_count": 45,
   "metadata": {
    "collapsed": true
   },
   "outputs": [],
   "source": [
    "X = sm.add_constant(X)\n",
    "m6 = sm.OLS(Y, X)\n",
    "results_m6 = m6.fit()\n",
    "#print(results_m6.summary())"
   ]
  },
  {
   "cell_type": "code",
   "execution_count": 46,
   "metadata": {
    "collapsed": true
   },
   "outputs": [],
   "source": [
    "OLS_Summary = summarizingResults(results_m6, OLS_Summary, 'm6')"
   ]
  },
  {
   "cell_type": "code",
   "execution_count": 47,
   "metadata": {
    "collapsed": true
   },
   "outputs": [],
   "source": [
    "ypred_m6 = results_m6.predict(X)\n",
    "complete_db.loc[:,'ypred_m6'] = ypred_m6"
   ]
  },
  {
   "cell_type": "markdown",
   "metadata": {},
   "source": [
    "-------------------"
   ]
  },
  {
   "cell_type": "markdown",
   "metadata": {},
   "source": [
    "#### ESTIMATION. 7TH MODEL"
   ]
  },
  {
   "cell_type": "markdown",
   "metadata": {},
   "source": [
    "Estimado por OLS.<br>\n",
    "<strong>Y:</strong><br>\n",
    "'total de transacciones'<br>\n",
    "<strong>X:</strong><br>\n",
    "'SATURDAY',<br>\n",
    "'SUNDAY',<br>\n",
    "'ratio_tm_2',<br>\n",
    "'kms_ofertados',<br>\n",
    "'Verano 52, 53, 1, 2, 3, 4, 5, 6, 7, 8, 9',<br>\n",
    "'Julio',<br>\n",
    "'t',<br>\n",
    "'Feriado_laboral',<br>\n",
    "'Feriado_no_laboral',<br>\n",
    "'FDS_Largo',<br>\n",
    "'Disturbios',<br>\n",
    "'Clima',<br>\n",
    "'Partido',<br>\n",
    "'Censo',<br>\n",
    "'visperas_laborales',<br>\n",
    "'N_ZPs'<br>\n",
    "<strong>Omitidas:</strong><br>\n",
    "'Elecciones',<br>\n",
    "'Nov_Dic_2017',<br>\n",
    "'Bucle',<br>\n",
    "'ratio_tm'"
   ]
  },
  {
   "cell_type": "code",
   "execution_count": 48,
   "metadata": {
    "collapsed": true
   },
   "outputs": [],
   "source": [
    "Y = complete_db.loc[:,'TOTAL_trx']\n",
    "X = complete_db.loc[:,['SATURDAY',\n",
    "                        'SUNDAY',\n",
    "                        'ratio_tm_2',\n",
    "                        'kms_ofertados',\n",
    "                        'WEEK_OF_YEAR_52',\n",
    "                        'WEEK_OF_YEAR_53',\n",
    "                        'WEEK_OF_YEAR_1',\n",
    "                        'WEEK_OF_YEAR_2',\n",
    "                        'WEEK_OF_YEAR_3',\n",
    "                        'WEEK_OF_YEAR_4',\n",
    "                        'WEEK_OF_YEAR_5',\n",
    "                        'WEEK_OF_YEAR_6',\n",
    "                        'WEEK_OF_YEAR_7',\n",
    "                        'WEEK_OF_YEAR_8',\n",
    "                        'WEEK_OF_YEAR_9',\n",
    "                        'Julio',\n",
    "                        't',\n",
    "                        'Feriado_laboral',\n",
    "                        'Feriado_no_laboral',\n",
    "                        'FDS_Largo',\n",
    "                        'Disturbios',\n",
    "                        'Clima',\n",
    "                        'Partido',\n",
    "                        'Censo',\n",
    "                        'visperas_laborales',\n",
    "                        'N_ZPs']]"
   ]
  },
  {
   "cell_type": "code",
   "execution_count": 49,
   "metadata": {
    "collapsed": true
   },
   "outputs": [],
   "source": [
    "X = sm.add_constant(X)\n",
    "m7 = sm.OLS(Y, X)\n",
    "results_m7 = m7.fit()\n",
    "#print(results_m7.summary())"
   ]
  },
  {
   "cell_type": "code",
   "execution_count": 50,
   "metadata": {
    "collapsed": true
   },
   "outputs": [],
   "source": [
    "OLS_Summary = summarizingResults(results_m7, OLS_Summary, 'm7')"
   ]
  },
  {
   "cell_type": "code",
   "execution_count": 51,
   "metadata": {
    "collapsed": true
   },
   "outputs": [],
   "source": [
    "ypred_m7 = results_m7.predict(X)\n",
    "complete_db.loc[:,'ypred_m7'] = ypred_m7"
   ]
  },
  {
   "cell_type": "markdown",
   "metadata": {},
   "source": [
    "----------------------------"
   ]
  },
  {
   "cell_type": "markdown",
   "metadata": {},
   "source": [
    "#### ESTIMATION. 8TH MODEL"
   ]
  },
  {
   "cell_type": "markdown",
   "metadata": {},
   "source": [
    "Estimado por OLS.<br>\n",
    "<strong>Y:</strong><br>\n",
    "'total de transacciones'<br>\n",
    "<strong>X:</strong><br>\n",
    "'SATURDAY',<br>\n",
    "'SUNDAY',<br>\n",
    "'ratio_tm',<br>\n",
    "'r_tm_x_rtm_18'<br>\n",
    "'kms_ofertados',<br>\n",
    "'Verano 52, 53, 1, 2, 3, 4, 5, 6, 7, 8, 9',<br>\n",
    "'Julio',<br>\n",
    "'t',<br>\n",
    "'Feriado_laboral',<br>\n",
    "'Feriado_no_laboral',<br>\n",
    "'FDS_Largo',<br>\n",
    "'Disturbios',<br>\n",
    "'Clima',<br>\n",
    "'Partido',<br>\n",
    "'Censo',<br>\n",
    "'visperas_laborales',<br>\n",
    "'N_ZPs'<br>\n",
    "<strong>Omitidas:</strong><br>\n",
    "'Elecciones',<br>\n",
    "'Nov_Dic_2017',<br>\n",
    "'Bucle',<br>\n",
    "'ratio_tm_2'"
   ]
  },
  {
   "cell_type": "code",
   "execution_count": 52,
   "metadata": {
    "collapsed": true
   },
   "outputs": [],
   "source": [
    "complete_db.loc[:,'rtm_17'] = np.where((17<=complete_db.loc[:,'ratio_tm']),1,0)\n",
    "complete_db.loc[:,'rtm_18'] = np.where((18<=complete_db.loc[:,'ratio_tm']),1,0)\n",
    "\n",
    "complete_db.loc[:,'r_tm_x_rtm_17'] = complete_db.loc[:,'ratio_tm'] * complete_db.loc[:,'rtm_17']\n",
    "complete_db.loc[:,'r_tm_x_rtm_18'] = complete_db.loc[:,'ratio_tm'] * complete_db.loc[:,'rtm_18']"
   ]
  },
  {
   "cell_type": "code",
   "execution_count": 53,
   "metadata": {
    "collapsed": true
   },
   "outputs": [],
   "source": [
    "Y = complete_db.loc[:,'TOTAL_trx']\n",
    "X = complete_db.loc[:,['SATURDAY',\n",
    "                        'SUNDAY',\n",
    "                        'ratio_tm',\n",
    "                        'r_tm_x_rtm_18',\n",
    "                        'kms_ofertados',\n",
    "                        'WEEK_OF_YEAR_52',\n",
    "                        'WEEK_OF_YEAR_53',\n",
    "                        'WEEK_OF_YEAR_1',\n",
    "                        'WEEK_OF_YEAR_2',\n",
    "                        'WEEK_OF_YEAR_3',\n",
    "                        'WEEK_OF_YEAR_4',\n",
    "                        'WEEK_OF_YEAR_5',\n",
    "                        'WEEK_OF_YEAR_6',\n",
    "                        'WEEK_OF_YEAR_7',\n",
    "                        'WEEK_OF_YEAR_8',\n",
    "                        'WEEK_OF_YEAR_9',\n",
    "                        'Julio',\n",
    "                        't',\n",
    "                        'Feriado_laboral',\n",
    "                        'Feriado_no_laboral',\n",
    "                        'FDS_Largo',\n",
    "                        'Disturbios',\n",
    "                        'Clima',\n",
    "                        'Partido',\n",
    "                        'Censo',\n",
    "                        'visperas_laborales',\n",
    "                        'N_ZPs']]"
   ]
  },
  {
   "cell_type": "code",
   "execution_count": 54,
   "metadata": {
    "collapsed": true
   },
   "outputs": [],
   "source": [
    "X = sm.add_constant(X)\n",
    "m8 = sm.OLS(Y, X)\n",
    "results_m8 = m8.fit()\n",
    "#print(results_m8.summary())"
   ]
  },
  {
   "cell_type": "code",
   "execution_count": 55,
   "metadata": {
    "collapsed": true
   },
   "outputs": [],
   "source": [
    "OLS_Summary = summarizingResults(results_m8, OLS_Summary, 'm8')"
   ]
  },
  {
   "cell_type": "code",
   "execution_count": 56,
   "metadata": {
    "collapsed": true
   },
   "outputs": [],
   "source": [
    "ypred_m8 = results_m8.predict(X)\n",
    "complete_db.loc[:,'ypred_m8'] = ypred_m8"
   ]
  },
  {
   "cell_type": "markdown",
   "metadata": {},
   "source": [
    "----------------------"
   ]
  },
  {
   "cell_type": "markdown",
   "metadata": {},
   "source": [
    "#### ESTIMATION. 9TH MODEL <- <font color='green'> most appealing non-linear model </font>"
   ]
  },
  {
   "cell_type": "markdown",
   "metadata": {},
   "source": [
    "Estimado por OLS.<br>\n",
    "<strong>Y:</strong><br>\n",
    "'total de transacciones'<br>\n",
    "<strong>X:</strong><br>\n",
    "'SATURDAY',<br>\n",
    "'SUNDAY',<br>\n",
    "'r_tm_x_rtm_18'<br>\n",
    "'kms_ofertados',<br>\n",
    "'Verano 52, 53, 1, 2, 3, 4, 5, 6, 7, 8, 9',<br>\n",
    "'Julio',<br>\n",
    "'t',<br>\n",
    "'Feriado_laboral',<br>\n",
    "'Feriado_no_laboral',<br>\n",
    "'FDS_Largo',<br>\n",
    "'Disturbios',<br>\n",
    "'Clima',<br>\n",
    "'Partido',<br>\n",
    "'Censo',<br>\n",
    "'visperas_laborales',<br>\n",
    "'N_ZPs'<br>\n",
    "<strong>Omitidas:</strong><br>\n",
    "'Elecciones',<br>\n",
    "'Nov_Dic_2017',<br>\n",
    "'Bucle',<br>\n",
    "'ratio_tm',<br>\n",
    "'ratio_tm_2'"
   ]
  },
  {
   "cell_type": "code",
   "execution_count": 57,
   "metadata": {
    "collapsed": true
   },
   "outputs": [],
   "source": [
    "Y = complete_db.loc[:,'TOTAL_trx']\n",
    "X = complete_db.loc[:,['SATURDAY',\n",
    "                        'SUNDAY',\n",
    "                        'r_tm_x_rtm_18',\n",
    "                        'kms_ofertados',\n",
    "                        'WEEK_OF_YEAR_52',\n",
    "                        'WEEK_OF_YEAR_53',\n",
    "                        'WEEK_OF_YEAR_1',\n",
    "                        'WEEK_OF_YEAR_2',\n",
    "                        'WEEK_OF_YEAR_3',\n",
    "                        'WEEK_OF_YEAR_4',\n",
    "                        'WEEK_OF_YEAR_5',\n",
    "                        'WEEK_OF_YEAR_6',\n",
    "                        'WEEK_OF_YEAR_7',\n",
    "                        'WEEK_OF_YEAR_8',\n",
    "                        'WEEK_OF_YEAR_9',\n",
    "                        'Julio',\n",
    "                        't',\n",
    "                        'Feriado_laboral',\n",
    "                        'Feriado_no_laboral',\n",
    "                        'FDS_Largo',\n",
    "                        'Disturbios',\n",
    "                        'Clima',\n",
    "                        'Partido',\n",
    "                        'Censo',\n",
    "                        'visperas_laborales',\n",
    "                        'N_ZPs']]"
   ]
  },
  {
   "cell_type": "code",
   "execution_count": 58,
   "metadata": {
    "collapsed": true
   },
   "outputs": [],
   "source": [
    "X = sm.add_constant(X)\n",
    "m9 = sm.OLS(Y, X)\n",
    "results_m9 = m9.fit()\n",
    "#print(results_m9.summary())"
   ]
  },
  {
   "cell_type": "code",
   "execution_count": 59,
   "metadata": {
    "collapsed": true
   },
   "outputs": [],
   "source": [
    "OLS_Summary = summarizingResults(results_m9, OLS_Summary, 'm9')"
   ]
  },
  {
   "cell_type": "code",
   "execution_count": 60,
   "metadata": {
    "collapsed": true
   },
   "outputs": [],
   "source": [
    "ypred_m9 = results_m9.predict(X)\n",
    "complete_db.loc[:,'ypred_m9'] = ypred_m9"
   ]
  },
  {
   "cell_type": "markdown",
   "metadata": {},
   "source": [
    "--------------------"
   ]
  },
  {
   "cell_type": "markdown",
   "metadata": {},
   "source": [
    "##### Creating a new variable: log(r_m + 1) and estimating 10TH MODEL"
   ]
  },
  {
   "cell_type": "markdown",
   "metadata": {},
   "source": [
    "Estimado por OLS.<br>\n",
    "<strong>Y:</strong><br>\n",
    "'total de transacciones'<br>\n",
    "<strong>X:</strong><br>\n",
    "'SATURDAY',<br>\n",
    "'SUNDAY',<br>\n",
    "'log(r_m + 1)',<br>\n",
    "'kms_ofertados',<br>\n",
    "'Verano 52, 53, 1, 2, 3, 4, 5, 6, 7, 8, 9',<br>\n",
    "'Julio',<br>\n",
    "'t',<br>\n",
    "'Feriado_laboral',<br>\n",
    "'Feriado_no_laboral',<br>\n",
    "'FDS_Largo',<br>\n",
    "'Disturbios',<br>\n",
    "'Clima',<br>\n",
    "'Partido',<br>\n",
    "'Censo_Elecciones',<br>\n",
    "'visperas_laborales'<br>\n",
    "<strong>Omitidas:</strong><br>\n",
    "'Elecciones',<br>\n",
    "'Nov_Dic_2017',<br>\n",
    "'Bucle',<br>\n",
    "'ratio_tm"
   ]
  },
  {
   "cell_type": "code",
   "execution_count": 61,
   "metadata": {
    "collapsed": true
   },
   "outputs": [],
   "source": [
    "import math"
   ]
  },
  {
   "cell_type": "code",
   "execution_count": 62,
   "metadata": {
    "collapsed": true
   },
   "outputs": [],
   "source": [
    "complete_db.loc[:,'log(r_tm + 1)'] = complete_db['ratio_tm'].apply(lambda x: math.log1p(x))"
   ]
  },
  {
   "cell_type": "code",
   "execution_count": 63,
   "metadata": {
    "collapsed": true
   },
   "outputs": [],
   "source": [
    "Y = complete_db.loc[:,'TOTAL_trx']\n",
    "X = complete_db.loc[:,['SATURDAY',\n",
    "                       'SUNDAY',\n",
    "                       'log(r_tm + 1)',\n",
    "                       'kms_ofertados',\n",
    "                       'WEEK_OF_YEAR_52',\n",
    "                       'WEEK_OF_YEAR_53',\n",
    "                       'WEEK_OF_YEAR_1',\n",
    "                       'WEEK_OF_YEAR_2',\n",
    "                       'WEEK_OF_YEAR_3',\n",
    "                       'WEEK_OF_YEAR_4',\n",
    "                       'WEEK_OF_YEAR_5',\n",
    "                       'WEEK_OF_YEAR_6',\n",
    "                       'WEEK_OF_YEAR_7',\n",
    "                       'WEEK_OF_YEAR_8',\n",
    "                       'WEEK_OF_YEAR_9',\n",
    "                       'Julio',\n",
    "                       't',\n",
    "                       'Feriado_laboral',\n",
    "                       'Feriado_no_laboral',\n",
    "                       'FDS_Largo',\n",
    "                       'Disturbios',\n",
    "                       'Clima',\n",
    "                       'Partido',\n",
    "                       'Censo',\n",
    "                       'visperas_laborales',\n",
    "                       'N_ZPs']]"
   ]
  },
  {
   "cell_type": "code",
   "execution_count": 64,
   "metadata": {
    "collapsed": true
   },
   "outputs": [],
   "source": [
    "X = sm.add_constant(X)\n",
    "m10 = sm.OLS(Y, X)\n",
    "results_m10 = m10.fit()\n",
    "#print(results_m10.summary())"
   ]
  },
  {
   "cell_type": "code",
   "execution_count": 65,
   "metadata": {
    "collapsed": true
   },
   "outputs": [],
   "source": [
    "OLS_Summary = summarizingResults(results_m10, OLS_Summary, 'm10')"
   ]
  },
  {
   "cell_type": "code",
   "execution_count": 66,
   "metadata": {
    "collapsed": true
   },
   "outputs": [],
   "source": [
    "ypred_m10 = results_m10.predict(X)\n",
    "complete_db.loc[:,'ypred_m10'] = ypred_m10"
   ]
  },
  {
   "cell_type": "markdown",
   "metadata": {},
   "source": [
    "### Plotting"
   ]
  },
  {
   "cell_type": "markdown",
   "metadata": {},
   "source": [
    "* Interactive, Daily"
   ]
  },
  {
   "cell_type": "code",
   "execution_count": 67,
   "metadata": {
    "collapsed": true
   },
   "outputs": [],
   "source": [
    "def interactiveDailyPlotting(days_values, yact, ypred, model_name):\n",
    "    trace1 = go.Scatter(x=days_values, y=yact, name='Actual', marker=dict(color='rgb(76, 181, 245)'),opacity=1)\n",
    "    trace2 = go.Scatter(x=days_values, y=ypred, name='Predict', marker=dict(color='rgb(183, 184, 182)'),opacity=1)\n",
    "    data = [trace1, trace2]\n",
    "    layout = go.Layout(title='Transacciones por día (actual vs. predict.), ' + model_name,  yaxis=dict(title='Transacciones'))\n",
    "\n",
    "    fig = go.Figure(data=data, layout=layout)\n",
    "    plotly.offline.plot(fig, filename='act_vs_predict_day_' + model_name + '.html')"
   ]
  },
  {
   "cell_type": "code",
   "execution_count": 68,
   "metadata": {
    "collapsed": true
   },
   "outputs": [],
   "source": [
    "days_values = complete_db.loc[:,'DATE']\n",
    "yact = complete_db.loc[:,'TOTAL_trx']"
   ]
  },
  {
   "cell_type": "code",
   "execution_count": 69,
   "metadata": {
    "collapsed": true
   },
   "outputs": [],
   "source": [
    "#interactiveDailyPlotting(days_values, yact, ypred_m1, 'M1')\n",
    "#interactiveDailyPlotting(days_values, yact, ypred_m2, 'M2')\n",
    "#interactiveDailyPlotting(days_values, yact, ypred_m3, 'M3')\n",
    "#interactiveDailyPlotting(days_values, yact, ypred_m4, 'M4')\n",
    "#interactiveDailyPlotting(days_values, yact, ypred_m5, 'M5')\n",
    "#interactiveDailyPlotting(days_values, yact, ypred_m6, 'M6')\n",
    "#interactiveDailyPlotting(days_values, yact, ypred_m7, 'M7')\n",
    "#interactiveDailyPlotting(days_values, yact, ypred_m8, 'M8')\n",
    "#interactiveDailyPlotting(days_values, yact, ypred_m9, 'M9')\n",
    "interactiveDailyPlotting(days_values, yact, ypred_m10, 'M10')"
   ]
  },
  {
   "cell_type": "markdown",
   "metadata": {},
   "source": [
    "* Interactive, Monthly"
   ]
  },
  {
   "cell_type": "code",
   "execution_count": 70,
   "metadata": {
    "collapsed": true
   },
   "outputs": [],
   "source": [
    "def interactiveMonthlyPlotting(month_values, yact, ypred, model_name):\n",
    "    trace1 = go.Scatter(x=month_values, y=yact, name='Actual', marker=dict(color='rgb(76, 181, 245)'),opacity=1)\n",
    "    trace2 = go.Scatter(x=month_values, y=ypred, name='Predict', marker=dict(color='rgb(183, 184, 182)'),opacity=1)\n",
    "    data = [trace1, trace2]\n",
    "    layout = go.Layout(title='Transacciones por mes (actual vs. predict.), ' + model_name,  yaxis=dict(title='Transacciones'))\n",
    "\n",
    "    fig = go.Figure(data=data, layout=layout)\n",
    "    plotly.offline.plot(fig, filename='act_vs_predict_month_' + model_name + '.html')"
   ]
  },
  {
   "cell_type": "code",
   "execution_count": 71,
   "metadata": {
    "collapsed": true
   },
   "outputs": [],
   "source": [
    "grouped_by_month = complete_db.groupby(pd.Grouper(key='DATE', freq='M'))\n",
    "months_values = list(grouped_by_month.groups.keys())\n",
    "yact = grouped_by_month['TOTAL_trx'].sum()\n",
    "ypred_m1 = grouped_by_month['ypred_m1'].sum()\n",
    "ypred_m2 = grouped_by_month['ypred_m2'].sum()\n",
    "ypred_m3 = grouped_by_month['ypred_m3'].sum()\n",
    "ypred_m4 = grouped_by_month['ypred_m4'].sum()\n",
    "ypred_m5 = grouped_by_month['ypred_m5'].sum()\n",
    "ypred_m6 = grouped_by_month['ypred_m6'].sum()\n",
    "ypred_m7 = grouped_by_month['ypred_m7'].sum()\n",
    "ypred_m8 = grouped_by_month['ypred_m8'].sum()\n",
    "ypred_m9 = grouped_by_month['ypred_m9'].sum()\n",
    "ypred_m10 = grouped_by_month['ypred_m10'].sum()"
   ]
  },
  {
   "cell_type": "code",
   "execution_count": 72,
   "metadata": {
    "collapsed": true
   },
   "outputs": [],
   "source": [
    "#interactiveMonthlyPlotting(months_values,yact,ypred_m1, 'M1')\n",
    "#interactiveMonthlyPlotting(months_values,yact,ypred_m2, 'M2')\n",
    "#interactiveMonthlyPlotting(months_values,yact,ypred_m3, 'M3')\n",
    "#interactiveMonthlyPlotting(months_values,yact,ypred_m4, 'M4')\n",
    "#interactiveMonthlyPlotting(months_values,yact,ypred_m5, 'M5')\n",
    "#interactiveMonthlyPlotting(months_values,yact,ypred_m6, 'M6')\n",
    "#interactiveMonthlyPlotting(months_values,yact,ypred_m7, 'M7')\n",
    "#interactiveMonthlyPlotting(months_values,yact,ypred_m8, 'M8')\n",
    "#interactiveMonthlyPlotting(months_values,yact,ypred_m9, 'M9')\n",
    "interactiveMonthlyPlotting(months_values,yact,ypred_m10, 'M10')"
   ]
  },
  {
   "cell_type": "markdown",
   "metadata": {},
   "source": [
    "* Static, Monthly"
   ]
  },
  {
   "cell_type": "code",
   "execution_count": 73,
   "metadata": {
    "collapsed": true
   },
   "outputs": [],
   "source": [
    "colors = [(76, 181, 245),(183, 184, 182),(52, 103, 92),(179, 193, 0)]\n",
    "for i in range(len(colors)):\n",
    "    r, g, b = colors[i]  \n",
    "    colors[i] = (r / 255., g / 255., b / 255.)"
   ]
  },
  {
   "cell_type": "code",
   "execution_count": 74,
   "metadata": {
    "collapsed": true
   },
   "outputs": [],
   "source": [
    "def millions(x, pos):\n",
    "    'The two args are the value and tick position'\n",
    "    return '%1.1fM' % (x*1e-6)"
   ]
  },
  {
   "cell_type": "code",
   "execution_count": 75,
   "metadata": {
    "collapsed": true
   },
   "outputs": [],
   "source": [
    "def staticMonthlyPlotting(month_values, yact, ypred, model_name):\n",
    "    formatter = FuncFormatter(millions)\n",
    "    fig, ax = plt.subplots()\n",
    "    ax.plot(months_values, yact,'ro-' ,color = colors[0], label = 'Actual')\n",
    "    ax.plot(months_values, ypred,'d-', color = colors[1], label = 'Predict')\n",
    "    formatter = FuncFormatter(millions)\n",
    "    ax.yaxis.set_major_formatter(formatter)\n",
    "    ax.set_title('Transacciones - Actual vs. Predict., ' + model_name)\n",
    "    ax.set_ylabel('Transacciones')\n",
    "    ax.set_xlabel('Mes del año')\n",
    "    fig.autofmt_xdate()\n",
    "    ax.legend(loc=3)\n",
    "\n",
    "    plt.savefig('C:/Users/leoca_000/Desktop/Evasion/03_report/02_Figs/act_vs_predict_month_' + model_name + '.pdf')"
   ]
  },
  {
   "cell_type": "code",
   "execution_count": 76,
   "metadata": {
    "scrolled": false
   },
   "outputs": [
    {
     "data": {
      "image/png": "[encoded data removed]",
      "text/plain": [
       "<matplotlib.figure.Figure at 0x2f043841320>"
      ]
     },
     "metadata": {},
     "output_type": "display_data"
    }
   ],
   "source": [
    "#staticMonthlyPlotting(months_values,yact,ypred_m1, 'M1')\n",
    "#staticMonthlyPlotting(months_values,yact,ypred_m2, 'M2')\n",
    "#staticMonthlyPlotting(months_values,yact,ypred_m3, 'M3')\n",
    "#staticMonthlyPlotting(months_values,yact,ypred_m4, 'M4')\n",
    "#staticMonthlyPlotting(months_values,yact,ypred_m5, 'M5')\n",
    "#staticMonthlyPlotting(months_values,yact,ypred_m6, 'M6')\n",
    "#staticMonthlyPlotting(months_values,yact,ypred_m7, 'M7')\n",
    "#staticMonthlyPlotting(months_values,yact,ypred_m8, 'M8')\n",
    "#staticMonthlyPlotting(months_values,yact,ypred_m9, 'M9')\n",
    "staticMonthlyPlotting(months_values,yact,ypred_m10, 'M10')"
   ]
  },
  {
   "cell_type": "markdown",
   "metadata": {},
   "source": [
    "### Printing everything to file"
   ]
  },
  {
   "cell_type": "code",
   "execution_count": 77,
   "metadata": {
    "collapsed": true
   },
   "outputs": [],
   "source": [
    "complete_ddbb_path = os.path.join(DTPM_TRXDir,'5_RESULTS/1_SYSTEM/0_original/contemporary_complete_db.csv')\n",
    "complete_db.to_csv(complete_ddbb_path,sep=';',encoding='latin-1')\n",
    "\n",
    "OLS_Summary_path = os.path.join(DTPM_TRXDir,'5_RESULTS/1_SYSTEM/0_original/contemporary_OLS_Summary.csv')\n",
    "OLS_Summary.to_csv(OLS_Summary_path, sep=';',encoding='latin-1')"
   ]
  },
  {
   "cell_type": "markdown",
   "metadata": {},
   "source": [
    "## Closed"
   ]
  }
 ],
 "metadata": {
  "kernelspec": {
   "display_name": "Python 3",
   "language": "python",
   "name": "python3"
  },
  "language_info": {
   "codemirror_mode": {
    "name": "ipython",
    "version": 3
   },
   "file_extension": ".py",
   "mimetype": "text/x-python",
   "name": "python",
   "nbconvert_exporter": "python",
   "pygments_lexer": "ipython3",
   "version": "3.6.1"
  }
 },
 "nbformat": 4,
 "nbformat_minor": 2
}
