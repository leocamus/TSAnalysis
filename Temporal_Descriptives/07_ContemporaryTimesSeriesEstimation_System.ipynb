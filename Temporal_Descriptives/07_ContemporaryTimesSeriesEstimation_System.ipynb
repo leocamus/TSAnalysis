{
 "cells": [
  {
   "cell_type": "markdown",
   "metadata": {},
   "source": [
    "## Time series estimation - Contemporary, daily at system level"
   ]
  },
  {
   "cell_type": "markdown",
   "metadata": {},
   "source": [
    "% TODO: Check if R-squared are correctly computed"
   ]
  },
  {
   "cell_type": "code",
   "execution_count": 1,
   "metadata": {
    "collapsed": true
   },
   "outputs": [],
   "source": [
    "import os\n",
    "import sys\n",
    "module_path = os.path.abspath(os.path.join('..'))\n",
    "if module_path not in sys.path:\n",
    "    sys.path.append(module_path)"
   ]
  },
  {
   "cell_type": "code",
   "execution_count": 2,
   "metadata": {},
   "outputs": [
    {
     "data": {
      "text/html": [
       "<style>.container { width:100% !important; }</style>"
      ],
      "text/plain": [
       "<IPython.core.display.HTML object>"
      ]
     },
     "metadata": {},
     "output_type": "display_data"
    }
   ],
   "source": [
    "%matplotlib inline\n",
    "from IPython.core.display import display, HTML\n",
    "display(HTML(\"<style>.container { width:100% !important; }</style>\"))\n",
    "\n",
    "import plotly.plotly\n",
    "import plotly.tools as tls\n",
    "import plotly.graph_objs as go\n",
    "\n",
    "import pandas as pd\n",
    "import matplotlib\n",
    "import matplotlib.pyplot as plt\n",
    "import matplotlib.dates as mdates\n",
    "from matplotlib.ticker import FuncFormatter\n",
    "import numpy as np\n",
    "import datetime as dt\n",
    "import time"
   ]
  },
  {
   "cell_type": "code",
   "execution_count": 3,
   "metadata": {},
   "outputs": [
    {
     "name": "stderr",
     "output_type": "stream",
     "text": [
      "C:\\Users\\leoca_000\\Anaconda3\\lib\\site-packages\\statsmodels\\compat\\pandas.py:56: FutureWarning:\n",
      "\n",
      "The pandas.core.datetools module is deprecated and will be removed in a future version. Please use the pandas.tseries module instead.\n",
      "\n"
     ]
    }
   ],
   "source": [
    "import statsmodels.api as sm"
   ]
  },
  {
   "cell_type": "code",
   "execution_count": 4,
   "metadata": {
    "collapsed": true
   },
   "outputs": [],
   "source": [
    "from Utils import TransantiagoConstants"
   ]
  },
  {
   "cell_type": "code",
   "execution_count": 5,
   "metadata": {
    "collapsed": true
   },
   "outputs": [],
   "source": [
    "DTPMDir = TransantiagoConstants.DTPMDir\n",
    "DTPM_TRXDir = TransantiagoConstants.DTPM_TRXDir"
   ]
  },
  {
   "cell_type": "code",
   "execution_count": 6,
   "metadata": {
    "collapsed": true
   },
   "outputs": [],
   "source": [
    "daily_input_path = os.path.join(DTPM_TRXDir,'3_DAILY/daily_summary.csv')\n",
    "daily_trx = pd.read_csv(daily_input_path,sep=';',encoding='latin-1', index_col=0)"
   ]
  },
  {
   "cell_type": "markdown",
   "metadata": {},
   "source": [
    "* Creating new dependent and independent variables"
   ]
  },
  {
   "cell_type": "code",
   "execution_count": 7,
   "metadata": {
    "collapsed": true
   },
   "outputs": [],
   "source": [
    "daily_trx.loc[:,'TOTAL_trx'] = daily_trx.loc[:,'pn_SUM_TRX_no_t'] + daily_trx.loc[:,'pn_SUM_TRX_3t'] + daily_trx.loc[:,'pn_SUM_TRX_tm'] + daily_trx.loc[:,'zp_SUM_TRX']"
   ]
  },
  {
   "cell_type": "code",
   "execution_count": 8,
   "metadata": {
    "collapsed": true
   },
   "outputs": [],
   "source": [
    "independent_variables_path = os.path.join(DTPM_TRXDir,'0_INDEPENDENTS/independents_variables.csv')\n",
    "independent_variables = pd.read_csv(independent_variables_path,sep=';',encoding='latin-1', index_col=0, parse_dates=[1])"
   ]
  },
  {
   "cell_type": "code",
   "execution_count": 9,
   "metadata": {
    "collapsed": true
   },
   "outputs": [],
   "source": [
    "independent_variables.loc[:,'Verano'] =  independent_variables.loc[:,'Enero'] + independent_variables.loc[:,'Febrero']\n",
    "independent_variables.loc[:,'Nov_Dic_2017'] = independent_variables.loc[:,'Nov_2017'] + independent_variables.loc[:,'Dic_2017']\n",
    "independent_variables.loc[:,'WEEK_OF_YEAR'] = independent_variables.loc[:,'DATE'].apply(lambda x: x.week)\n",
    "independent_variables = pd.get_dummies(independent_variables, columns=['WEEK_OF_YEAR'])"
   ]
  },
  {
   "cell_type": "code",
   "execution_count": 10,
   "metadata": {
    "collapsed": true
   },
   "outputs": [],
   "source": [
    "complete_db = daily_trx.merge(independent_variables, on =['YEAR','MONTH','YEAR_DAY'], how='left')"
   ]
  },
  {
   "cell_type": "code",
   "execution_count": 11,
   "metadata": {
    "collapsed": true
   },
   "outputs": [],
   "source": [
    "complete_db.sort_values(by=['YEAR','MONTH','YEAR_DAY'], ascending=[True,True,True], inplace=True)"
   ]
  },
  {
   "cell_type": "markdown",
   "metadata": {},
   "source": [
    "* Descriptives: General"
   ]
  },
  {
   "cell_type": "code",
   "execution_count": 12,
   "metadata": {
    "collapsed": true
   },
   "outputs": [],
   "source": [
    "descriptives = pd.DataFrame()"
   ]
  },
  {
   "cell_type": "code",
   "execution_count": 13,
   "metadata": {
    "collapsed": true
   },
   "outputs": [],
   "source": [
    "descriptives = complete_db.loc[:,'TOTAL_trx'].describe().to_frame('total_trx')\n",
    "descriptives = pd.concat([descriptives, complete_db.loc[:,'pn_SUM_TRX_no_t'].describe().to_frame()], axis=1, join='inner')\n",
    "descriptives = pd.concat([descriptives, complete_db.loc[:,'pn_SUM_TRX_3t'].describe().to_frame()], axis=1, join='inner')\n",
    "descriptives = pd.concat([descriptives, complete_db.loc[:,'pn_SUM_TRX_tm'].describe().to_frame()], axis=1, join='inner')\n",
    "descriptives = pd.concat([descriptives, complete_db.loc[:,'zp_SUM_TRX'].describe().to_frame()], axis=1, join='inner')"
   ]
  },
  {
   "cell_type": "code",
   "execution_count": 14,
   "metadata": {
    "collapsed": true
   },
   "outputs": [],
   "source": [
    "#pd.set_option('display.float_format', '{:.3e}'.format)"
   ]
  },
  {
   "cell_type": "code",
   "execution_count": 15,
   "metadata": {
    "collapsed": true
   },
   "outputs": [],
   "source": [
    "#print(descriptives.to_latex())"
   ]
  },
  {
   "cell_type": "markdown",
   "metadata": {},
   "source": [
    "* Descriptives: Only week days during normal period"
   ]
  },
  {
   "cell_type": "code",
   "execution_count": 16,
   "metadata": {
    "collapsed": true
   },
   "outputs": [],
   "source": [
    "descriptives_week = pd.DataFrame()"
   ]
  },
  {
   "cell_type": "code",
   "execution_count": 17,
   "metadata": {
    "collapsed": true
   },
   "outputs": [],
   "source": [
    "descriptives_week = complete_db.loc[((complete_db['SATURDAY']==0)\n",
    "                                    &(complete_db['SUNDAY']==0)\n",
    "                                    &(complete_db['Feriado_laboral']==0)\n",
    "                                    &(complete_db['WEEK_OF_YEAR_52']==0)\n",
    "                                    &(complete_db['WEEK_OF_YEAR_53']==0)\n",
    "                                    &(complete_db['WEEK_OF_YEAR_1']==0)\n",
    "                                    &(complete_db['WEEK_OF_YEAR_2']==0)\n",
    "                                    &(complete_db['WEEK_OF_YEAR_3']==0)\n",
    "                                    &(complete_db['WEEK_OF_YEAR_4']==0)\n",
    "                                    &(complete_db['WEEK_OF_YEAR_5']==0)\n",
    "                                    &(complete_db['WEEK_OF_YEAR_6']==0)\n",
    "                                    &(complete_db['WEEK_OF_YEAR_7']==0)\n",
    "                                    &(complete_db['WEEK_OF_YEAR_8']==0)\n",
    "                                    &(complete_db['WEEK_OF_YEAR_9']==0)),'TOTAL_trx'].describe().to_frame('total_trx')\n",
    "\n",
    "descriptives_week = pd.concat([descriptives_week, complete_db.loc[((complete_db['SATURDAY']==0)\n",
    "                                                                   &(complete_db['SUNDAY']==0)\n",
    "                                                                   &(complete_db['Feriado_laboral']==0)\n",
    "                                                                   &(complete_db['WEEK_OF_YEAR_52']==0)\n",
    "                                                                   &(complete_db['WEEK_OF_YEAR_53']==0)\n",
    "                                                                   &(complete_db['WEEK_OF_YEAR_1']==0)\n",
    "                                                                   &(complete_db['WEEK_OF_YEAR_2']==0)\n",
    "                                                                   &(complete_db['WEEK_OF_YEAR_3']==0)\n",
    "                                                                   &(complete_db['WEEK_OF_YEAR_4']==0)\n",
    "                                                                   &(complete_db['WEEK_OF_YEAR_5']==0)\n",
    "                                                                   &(complete_db['WEEK_OF_YEAR_6']==0)\n",
    "                                                                   &(complete_db['WEEK_OF_YEAR_7']==0)\n",
    "                                                                   &(complete_db['WEEK_OF_YEAR_8']==0)\n",
    "                                                                   &(complete_db['WEEK_OF_YEAR_9']==0)),'pn_SUM_TRX_no_t'].describe().to_frame()], axis=1, join='inner')\n",
    "\n",
    "descriptives_week = pd.concat([descriptives_week, complete_db.loc[((complete_db['SATURDAY']==0)\n",
    "                                                                   &(complete_db['SUNDAY']==0)\n",
    "                                                                   &(complete_db['Feriado_laboral']==0)\n",
    "                                                                   &(complete_db['WEEK_OF_YEAR_52']==0)\n",
    "                                                                   &(complete_db['WEEK_OF_YEAR_53']==0)\n",
    "                                                                   &(complete_db['WEEK_OF_YEAR_1']==0)\n",
    "                                                                   &(complete_db['WEEK_OF_YEAR_2']==0)\n",
    "                                                                   &(complete_db['WEEK_OF_YEAR_3']==0)\n",
    "                                                                   &(complete_db['WEEK_OF_YEAR_4']==0)\n",
    "                                                                   &(complete_db['WEEK_OF_YEAR_5']==0)\n",
    "                                                                   &(complete_db['WEEK_OF_YEAR_6']==0)\n",
    "                                                                   &(complete_db['WEEK_OF_YEAR_7']==0)\n",
    "                                                                   &(complete_db['WEEK_OF_YEAR_8']==0)\n",
    "                                                                   &(complete_db['WEEK_OF_YEAR_9']==0)),'pn_SUM_TRX_3t'].describe().to_frame()], axis=1, join='inner')\n",
    "\n",
    "descriptives_week = pd.concat([descriptives_week, complete_db.loc[((complete_db['SATURDAY']==0)\n",
    "                                                                   &(complete_db['SUNDAY']==0)\n",
    "                                                                   &(complete_db['Feriado_laboral']==0)\n",
    "                                                                   &(complete_db['WEEK_OF_YEAR_52']==0)\n",
    "                                                                   &(complete_db['WEEK_OF_YEAR_53']==0)\n",
    "                                                                   &(complete_db['WEEK_OF_YEAR_1']==0)\n",
    "                                                                   &(complete_db['WEEK_OF_YEAR_2']==0)\n",
    "                                                                   &(complete_db['WEEK_OF_YEAR_3']==0)\n",
    "                                                                   &(complete_db['WEEK_OF_YEAR_4']==0)\n",
    "                                                                   &(complete_db['WEEK_OF_YEAR_5']==0)\n",
    "                                                                   &(complete_db['WEEK_OF_YEAR_6']==0)\n",
    "                                                                   &(complete_db['WEEK_OF_YEAR_7']==0)\n",
    "                                                                   &(complete_db['WEEK_OF_YEAR_8']==0)\n",
    "                                                                   &(complete_db['WEEK_OF_YEAR_9']==0)),'pn_SUM_TRX_tm'].describe().to_frame()], axis=1, join='inner')\n",
    "\n",
    "descriptives_week = pd.concat([descriptives_week, complete_db.loc[((complete_db['SATURDAY']==0)\n",
    "                                                                   &(complete_db['SUNDAY']==0)\n",
    "                                                                   &(complete_db['Feriado_laboral']==0)\n",
    "                                                                   &(complete_db['WEEK_OF_YEAR_52']==0)\n",
    "                                                                   &(complete_db['WEEK_OF_YEAR_53']==0)\n",
    "                                                                   &(complete_db['WEEK_OF_YEAR_1']==0)\n",
    "                                                                   &(complete_db['WEEK_OF_YEAR_2']==0)\n",
    "                                                                   &(complete_db['WEEK_OF_YEAR_3']==0)\n",
    "                                                                   &(complete_db['WEEK_OF_YEAR_4']==0)\n",
    "                                                                   &(complete_db['WEEK_OF_YEAR_5']==0)\n",
    "                                                                   &(complete_db['WEEK_OF_YEAR_6']==0)\n",
    "                                                                   &(complete_db['WEEK_OF_YEAR_7']==0)\n",
    "                                                                   &(complete_db['WEEK_OF_YEAR_8']==0)\n",
    "                                                                   &(complete_db['WEEK_OF_YEAR_9']==0)),'zp_SUM_TRX'].describe().to_frame()], axis=1, join='inner')"
   ]
  },
  {
   "cell_type": "code",
   "execution_count": 18,
   "metadata": {
    "collapsed": true
   },
   "outputs": [],
   "source": [
    "#print(descriptives_week.to_latex())"
   ]
  },
  {
   "cell_type": "markdown",
   "metadata": {},
   "source": [
    "* Plotting by year"
   ]
  },
  {
   "cell_type": "code",
   "execution_count": 19,
   "metadata": {
    "collapsed": true
   },
   "outputs": [],
   "source": [
    "grouped_by_year = complete_db.groupby(['YEAR'])['TOTAL_trx','pn_SUM_TRX_no_t','pn_SUM_TRX_3t','pn_SUM_TRX_tm','zp_SUM_TRX'].sum()"
   ]
  },
  {
   "cell_type": "code",
   "execution_count": 20,
   "metadata": {},
   "outputs": [
    {
     "data": {
      "text/html": [
       "<div>\n",
       "<style>\n",
       "    .dataframe thead tr:only-child th {\n",
       "        text-align: right;\n",
       "    }\n",
       "\n",
       "    .dataframe thead th {\n",
       "        text-align: left;\n",
       "    }\n",
       "\n",
       "    .dataframe tbody tr th {\n",
       "        vertical-align: top;\n",
       "    }\n",
       "</style>\n",
       "<table border=\"1\" class=\"dataframe\">\n",
       "  <thead>\n",
       "    <tr style=\"text-align: right;\">\n",
       "      <th></th>\n",
       "      <th>TOTAL_trx</th>\n",
       "      <th>pn_SUM_TRX_no_t</th>\n",
       "      <th>pn_SUM_TRX_3t</th>\n",
       "      <th>pn_SUM_TRX_tm</th>\n",
       "      <th>zp_SUM_TRX</th>\n",
       "    </tr>\n",
       "    <tr>\n",
       "      <th>YEAR</th>\n",
       "      <th></th>\n",
       "      <th></th>\n",
       "      <th></th>\n",
       "      <th></th>\n",
       "      <th></th>\n",
       "    </tr>\n",
       "  </thead>\n",
       "  <tbody>\n",
       "    <tr>\n",
       "      <th>2015</th>\n",
       "      <td>914266353.0</td>\n",
       "      <td>681051074</td>\n",
       "      <td>138508996</td>\n",
       "      <td>1050625.0</td>\n",
       "      <td>93655658</td>\n",
       "    </tr>\n",
       "    <tr>\n",
       "      <th>2016</th>\n",
       "      <td>873690623.0</td>\n",
       "      <td>643134397</td>\n",
       "      <td>129177128</td>\n",
       "      <td>11239945.0</td>\n",
       "      <td>90139153</td>\n",
       "    </tr>\n",
       "    <tr>\n",
       "      <th>2017</th>\n",
       "      <td>860265821.0</td>\n",
       "      <td>511644071</td>\n",
       "      <td>107372896</td>\n",
       "      <td>139383299.0</td>\n",
       "      <td>101865555</td>\n",
       "    </tr>\n",
       "  </tbody>\n",
       "</table>\n",
       "</div>"
      ],
      "text/plain": [
       "        TOTAL_trx  pn_SUM_TRX_no_t  pn_SUM_TRX_3t  pn_SUM_TRX_tm  zp_SUM_TRX\n",
       "YEAR                                                                        \n",
       "2015  914266353.0        681051074      138508996      1050625.0    93655658\n",
       "2016  873690623.0        643134397      129177128     11239945.0    90139153\n",
       "2017  860265821.0        511644071      107372896    139383299.0   101865555"
      ]
     },
     "execution_count": 20,
     "metadata": {},
     "output_type": "execute_result"
    }
   ],
   "source": [
    "grouped_by_year"
   ]
  },
  {
   "cell_type": "code",
   "execution_count": 21,
   "metadata": {
    "collapsed": true
   },
   "outputs": [],
   "source": [
    "colors = [(76, 181, 245),(183, 184, 182),(52, 103, 92),(179, 193, 0)]\n",
    "for i in range(len(colors)):\n",
    "    r, g, b = colors[i]  \n",
    "    colors[i] = (r / 255., g / 255., b / 255.)"
   ]
  },
  {
   "cell_type": "code",
   "execution_count": 22,
   "metadata": {
    "collapsed": true
   },
   "outputs": [],
   "source": [
    "def millions(x, pos):\n",
    "    'The two args are the value and tick position'\n",
    "    return '%1.1fM' % (x*1e-6)"
   ]
  },
  {
   "cell_type": "code",
   "execution_count": 23,
   "metadata": {},
   "outputs": [
    {
     "data": {
      "image/png": "[encoded data removed]",
      "text/plain": [
       "<matplotlib.figure.Figure at 0x150a6180780>"
      ]
     },
     "metadata": {},
     "output_type": "display_data"
    }
   ],
   "source": [
    "year_values = grouped_by_year.index.values\n",
    "no_turnstile_values = list(map(int, grouped_by_year['pn_SUM_TRX_no_t'].values))\n",
    "three_turnstile_values = list(map(int,grouped_by_year['pn_SUM_TRX_3t'].values))\n",
    "butterfly_turnstile_values = list(map(int,grouped_by_year['pn_SUM_TRX_tm'].values))\n",
    "zp_values = list(map(int,grouped_by_year['zp_SUM_TRX'].values))\n",
    "    \n",
    "formatter = FuncFormatter(millions)\n",
    "    \n",
    "labels = [\"ZP\", \"S/T\", \"C/T3\", \"C/TM\"]\n",
    "fig, ax = plt.subplots()\n",
    "\n",
    "p1 = plt.bar(year_values, zp_values, color = colors[0], label='ZP')\n",
    "p2 = plt.bar(year_values, no_turnstile_values, bottom=zp_values, color = colors[1], label='S/T')\n",
    "p3 = plt.bar(year_values, three_turnstile_values, bottom= [sum(x) for x in zip(zp_values, no_turnstile_values)], color = colors[2],label='C/T3')\n",
    "p4 = plt.bar(year_values, butterfly_turnstile_values, bottom= [sum(x) for x in zip(zp_values, no_turnstile_values,three_turnstile_values)], color = colors[3], label='C/TM')\n",
    "\n",
    "ax.legend()\n",
    "ax.set_title('Transacciones por año, 2015 a 2017')\n",
    "ax.set_ylabel('Transacciones')\n",
    "ax.yaxis.set_major_formatter(formatter)\n",
    "ax.set_xlabel('Año')\n",
    "#fig.autofmt_xdate()\n",
    "plt.xticks(np.arange(min(year_values), max(year_values)+1, 1.0))\n",
    "plt.tight_layout()\n",
    "#plt.savefig('C:/Users/leoca_000/Desktop/Evasion/03_report/02_Figs/6_trxOverTimeByYear_all.pdf')\n",
    "        \n",
    "#plt.show()"
   ]
  },
  {
   "cell_type": "markdown",
   "metadata": {},
   "source": [
    "* Summary of results: OLS_Summary"
   ]
  },
  {
   "cell_type": "code",
   "execution_count": 24,
   "metadata": {
    "collapsed": true
   },
   "outputs": [],
   "source": [
    "OLS_Summary = pd.DataFrame()"
   ]
  },
  {
   "cell_type": "code",
   "execution_count": 25,
   "metadata": {
    "collapsed": true
   },
   "outputs": [],
   "source": [
    "def summarizingResults(x, df, model_name):\n",
    "    params = x.params.rename('params_' + model_name)\n",
    "    t = x.tvalues.rename('t_' + model_name)\n",
    "    p = x.pvalues.rename('p_' + model_name)\n",
    "\n",
    "    df = pd.concat([df, params, t, p], axis=1)\n",
    "    df.loc['R2_ADJ', 'params_' + model_name] = x.rsquared_adj\n",
    "    df.loc['AIC', 'params_' + model_name] = x.aic\n",
    "    df.loc['F', 'params_' + model_name] = x.fvalue\n",
    "    df.loc['P_F', 'params_' + model_name] = x.f_pvalue\n",
    "    df.loc['D_W', 'params_' + model_name] = sm.stats.stattools.durbin_watson(x.resid)\n",
    "    \n",
    "    return df"
   ]
  },
  {
   "cell_type": "markdown",
   "metadata": {},
   "source": [
    "### M1_1"
   ]
  },
  {
   "cell_type": "code",
   "execution_count": 30,
   "metadata": {},
   "outputs": [
    {
     "name": "stdout",
     "output_type": "stream",
     "text": [
      "                            OLS Regression Results                            \n",
      "==============================================================================\n",
      "Dep. Variable:              TOTAL_trx   R-squared:                       0.959\n",
      "Model:                            OLS   Adj. R-squared:                  0.958\n",
      "Method:                 Least Squares   F-statistic:                 1.232e+04\n",
      "Date:                Tue, 27 Mar 2018   Prob (F-statistic):               0.00\n",
      "Time:                        18:59:52   Log-Likelihood:                -14753.\n",
      "No. Observations:                1096   AIC:                         2.958e+04\n",
      "Df Residuals:                    1060   BIC:                         2.976e+04\n",
      "Df Model:                          35                                         \n",
      "Covariance Type:                  HAC                                         \n",
      "======================================================================================\n",
      "                         coef    std err          t      P>|t|      [0.025      0.975]\n",
      "--------------------------------------------------------------------------------------\n",
      "const               2.552e+06   1.26e+06      2.018      0.044    7.08e+04    5.03e+06\n",
      "SATURDAY           -1.136e+06   7.09e+04    -16.023      0.000   -1.27e+06   -9.97e+05\n",
      "SUNDAY             -1.701e+06   8.39e+04    -20.274      0.000   -1.87e+06   -1.54e+06\n",
      "Metro Hora Punta    -351.9523   1571.993     -0.224      0.823   -3436.524    2732.620\n",
      "kms_ofertados          0.1030      0.036      2.824      0.005       0.031       0.174\n",
      "WEEK_OF_YEAR_52    -2.383e+05   5.16e+04     -4.622      0.000    -3.4e+05   -1.37e+05\n",
      "WEEK_OF_YEAR_53    -3.408e+05   1.03e+05     -3.314      0.001   -5.43e+05   -1.39e+05\n",
      "WEEK_OF_YEAR_1      -2.24e+05   6.22e+04     -3.602      0.000   -3.46e+05   -1.02e+05\n",
      "WEEK_OF_YEAR_2     -2.902e+05   1.96e+04    -14.783      0.000   -3.29e+05   -2.52e+05\n",
      "WEEK_OF_YEAR_3     -4.001e+05   2.79e+04    -14.320      0.000   -4.55e+05   -3.45e+05\n",
      "WEEK_OF_YEAR_4      -4.55e+05   2.89e+04    -15.732      0.000   -5.12e+05   -3.98e+05\n",
      "WEEK_OF_YEAR_5     -4.971e+05   3.52e+04    -14.130      0.000   -5.66e+05   -4.28e+05\n",
      "WEEK_OF_YEAR_6     -6.232e+05   4.25e+04    -14.677      0.000   -7.07e+05    -5.4e+05\n",
      "WEEK_OF_YEAR_7     -7.057e+05   4.77e+04    -14.789      0.000   -7.99e+05   -6.12e+05\n",
      "WEEK_OF_YEAR_8     -6.426e+05   4.67e+04    -13.775      0.000   -7.34e+05   -5.51e+05\n",
      "WEEK_OF_YEAR_9     -3.272e+05   5.18e+04     -6.315      0.000   -4.29e+05   -2.26e+05\n",
      "Julio               -1.72e+05   2.25e+04     -7.646      0.000   -2.16e+05   -1.28e+05\n",
      "Nov_2017           -2.546e+04   9.14e+04     -0.279      0.780   -2.05e+05    1.54e+05\n",
      "Dic_2017           -3.629e+04   9.61e+04     -0.378      0.706   -2.25e+05    1.52e+05\n",
      "t                   -347.1853     75.658     -4.589      0.000    -495.641    -198.730\n",
      "Feriado_laboral    -1.469e+06   1.31e+05    -11.212      0.000   -1.73e+06   -1.21e+06\n",
      "Feriado_no_laboral  -2.28e+05      4e+04     -5.694      0.000   -3.07e+05   -1.49e+05\n",
      "Elecciones          6883.9459   4.32e+04      0.159      0.874   -7.79e+04    9.17e+04\n",
      "Censo              -8.163e+05   9.68e+04     -8.433      0.000   -1.01e+06   -6.26e+05\n",
      "Partido            -1.914e+05   2.93e+04     -6.538      0.000   -2.49e+05   -1.34e+05\n",
      "FDS_Largo          -1.233e+05   2.16e+04     -5.708      0.000   -1.66e+05   -8.09e+04\n",
      "Disturbios         -2.616e+05   2.47e+04    -10.582      0.000    -3.1e+05   -2.13e+05\n",
      "Corte_Metro        -1.603e+04   2.22e+04     -0.720      0.471   -5.97e+04    2.76e+04\n",
      "Retraso_Metro       2.912e+04   1.63e+04      1.789      0.074   -2820.032    6.11e+04\n",
      "Incidente_Metro    -1.662e+04   2.53e+04     -0.657      0.512   -6.63e+04     3.3e+04\n",
      "Bucle               2.051e+04   2.78e+04      0.739      0.460    -3.4e+04     7.5e+04\n",
      "Clima              -3.212e+05   7.67e+04     -4.188      0.000   -4.72e+05   -1.71e+05\n",
      "visperas_laborales  -3.19e+05   8.67e+04     -3.681      0.000   -4.89e+05   -1.49e+05\n",
      "kms_metro           5659.8537   6017.795      0.941      0.347   -6148.290    1.75e+04\n",
      "N_ZPs               1079.9881    474.516      2.276      0.023     148.891    2011.085\n",
      "ratio_tm            5133.8519   1500.461      3.422      0.001    2189.641    8078.062\n",
      "==============================================================================\n",
      "Omnibus:                      549.744   Durbin-Watson:                   1.548\n",
      "Prob(Omnibus):                  0.000   Jarque-Bera (JB):            13726.835\n",
      "Skew:                           1.764   Prob(JB):                         0.00\n",
      "Kurtosis:                      19.975   Cond. No.                     3.47e+08\n",
      "==============================================================================\n",
      "\n",
      "Warnings:\n",
      "[1] Standard Errors are heteroscedasticity and autocorrelation robust (HAC) using 0 lags and without small sample correction\n",
      "[2] The condition number is large, 3.47e+08. This might indicate that there are\n",
      "strong multicollinearity or other numerical problems.\n"
     ]
    },
    {
     "ename": "AttributeError",
     "evalue": "'numpy.ndarray' object has no attribute 'rename'",
     "output_type": "error",
     "traceback": [
      "\u001b[1;31m---------------------------------------------------------------------------\u001b[0m",
      "\u001b[1;31mAttributeError\u001b[0m                            Traceback (most recent call last)",
      "\u001b[1;32m<ipython-input-30-3823e1838c2e>\u001b[0m in \u001b[0;36m<module>\u001b[1;34m()\u001b[0m\n\u001b[0;32m     43\u001b[0m \u001b[0mprint\u001b[0m\u001b[1;33m(\u001b[0m\u001b[0mresults_m1_1\u001b[0m\u001b[1;33m.\u001b[0m\u001b[0msummary\u001b[0m\u001b[1;33m(\u001b[0m\u001b[1;33m)\u001b[0m\u001b[1;33m)\u001b[0m\u001b[1;33m\u001b[0m\u001b[0m\n\u001b[0;32m     44\u001b[0m \u001b[1;33m\u001b[0m\u001b[0m\n\u001b[1;32m---> 45\u001b[1;33m \u001b[0mOLS_Summary\u001b[0m \u001b[1;33m=\u001b[0m \u001b[0msummarizingResults\u001b[0m\u001b[1;33m(\u001b[0m\u001b[0mresults_m1_1\u001b[0m\u001b[1;33m,\u001b[0m \u001b[0mOLS_Summary\u001b[0m\u001b[1;33m,\u001b[0m \u001b[1;34m'm1_1'\u001b[0m\u001b[1;33m)\u001b[0m\u001b[1;33m\u001b[0m\u001b[0m\n\u001b[0m\u001b[0;32m     46\u001b[0m \u001b[0mypred_m1_1\u001b[0m \u001b[1;33m=\u001b[0m \u001b[0mresults_m1_1\u001b[0m\u001b[1;33m.\u001b[0m\u001b[0mpredict\u001b[0m\u001b[1;33m(\u001b[0m\u001b[0mX\u001b[0m\u001b[1;33m)\u001b[0m\u001b[1;33m\u001b[0m\u001b[0m\n\u001b[0;32m     47\u001b[0m \u001b[0mcomplete_db\u001b[0m\u001b[1;33m.\u001b[0m\u001b[0mloc\u001b[0m\u001b[1;33m[\u001b[0m\u001b[1;33m:\u001b[0m\u001b[1;33m,\u001b[0m\u001b[1;34m'ypred_m1_1'\u001b[0m\u001b[1;33m]\u001b[0m \u001b[1;33m=\u001b[0m \u001b[0mypred_m1_1\u001b[0m\u001b[1;33m\u001b[0m\u001b[0m\n",
      "\u001b[1;32m<ipython-input-25-68e09793b87e>\u001b[0m in \u001b[0;36msummarizingResults\u001b[1;34m(x, df, model_name)\u001b[0m\n\u001b[0;32m      1\u001b[0m \u001b[1;32mdef\u001b[0m \u001b[0msummarizingResults\u001b[0m\u001b[1;33m(\u001b[0m\u001b[0mx\u001b[0m\u001b[1;33m,\u001b[0m \u001b[0mdf\u001b[0m\u001b[1;33m,\u001b[0m \u001b[0mmodel_name\u001b[0m\u001b[1;33m)\u001b[0m\u001b[1;33m:\u001b[0m\u001b[1;33m\u001b[0m\u001b[0m\n\u001b[1;32m----> 2\u001b[1;33m     \u001b[0mparams\u001b[0m \u001b[1;33m=\u001b[0m \u001b[0mx\u001b[0m\u001b[1;33m.\u001b[0m\u001b[0mparams\u001b[0m\u001b[1;33m.\u001b[0m\u001b[0mrename\u001b[0m\u001b[1;33m(\u001b[0m\u001b[1;34m'params_'\u001b[0m \u001b[1;33m+\u001b[0m \u001b[0mmodel_name\u001b[0m\u001b[1;33m)\u001b[0m\u001b[1;33m\u001b[0m\u001b[0m\n\u001b[0m\u001b[0;32m      3\u001b[0m     \u001b[0mt\u001b[0m \u001b[1;33m=\u001b[0m \u001b[0mx\u001b[0m\u001b[1;33m.\u001b[0m\u001b[0mtvalues\u001b[0m\u001b[1;33m.\u001b[0m\u001b[0mrename\u001b[0m\u001b[1;33m(\u001b[0m\u001b[1;34m't_'\u001b[0m \u001b[1;33m+\u001b[0m \u001b[0mmodel_name\u001b[0m\u001b[1;33m)\u001b[0m\u001b[1;33m\u001b[0m\u001b[0m\n\u001b[0;32m      4\u001b[0m     \u001b[0mp\u001b[0m \u001b[1;33m=\u001b[0m \u001b[0mx\u001b[0m\u001b[1;33m.\u001b[0m\u001b[0mpvalues\u001b[0m\u001b[1;33m.\u001b[0m\u001b[0mrename\u001b[0m\u001b[1;33m(\u001b[0m\u001b[1;34m'p_'\u001b[0m \u001b[1;33m+\u001b[0m \u001b[0mmodel_name\u001b[0m\u001b[1;33m)\u001b[0m\u001b[1;33m\u001b[0m\u001b[0m\n\u001b[0;32m      5\u001b[0m \u001b[1;33m\u001b[0m\u001b[0m\n",
      "\u001b[1;31mAttributeError\u001b[0m: 'numpy.ndarray' object has no attribute 'rename'"
     ]
    }
   ],
   "source": [
    "Y = complete_db.loc[:,'TOTAL_trx']\n",
    "X = complete_db.loc[:,['SATURDAY',\n",
    "                       'SUNDAY',\n",
    "                       'Metro Hora Punta',\n",
    "                       'kms_ofertados',\n",
    "                       'WEEK_OF_YEAR_52',\n",
    "                       'WEEK_OF_YEAR_53',\n",
    "                       'WEEK_OF_YEAR_1',\n",
    "                       'WEEK_OF_YEAR_2',\n",
    "                       'WEEK_OF_YEAR_3',\n",
    "                       'WEEK_OF_YEAR_4',\n",
    "                       'WEEK_OF_YEAR_5',\n",
    "                       'WEEK_OF_YEAR_6',\n",
    "                       'WEEK_OF_YEAR_7',\n",
    "                       'WEEK_OF_YEAR_8',\n",
    "                       'WEEK_OF_YEAR_9',\n",
    "                       'Julio',\n",
    "                       'Nov_2017',\n",
    "                       'Dic_2017',\n",
    "                       't',\n",
    "                       'Feriado_laboral',\n",
    "                       'Feriado_no_laboral',\n",
    "                       'Elecciones',\n",
    "                       'Censo',\n",
    "                       'Partido',\n",
    "                       'FDS_Largo',\n",
    "                       'Disturbios',\n",
    "                       'Corte_Metro',\n",
    "                       'Retraso_Metro',\n",
    "                       'Incidente_Metro',\n",
    "                       'Bucle',\n",
    "                       'Clima',\n",
    "                       'visperas_laborales',\n",
    "                       'kms_metro',\n",
    "                       'N_ZPs',\n",
    "                       'ratio_tm']]\n",
    "\n",
    "X = sm.add_constant(X)\n",
    "m1_1 = sm.OLS(Y, X)\n",
    "results_m1_1 = m1_1.fit()\n",
    "\n",
    "results_m1_1 = results_m1_1.get_robustcov_results(cov_type='HAC',maxlags=0)\n",
    "print(results_m1_1.summary())\n",
    "\n",
    "OLS_Summary = summarizingResults(results_m1_1, OLS_Summary, 'm1_1')\n",
    "ypred_m1_1 = results_m1_1.predict(X)\n",
    "complete_db.loc[:,'ypred_m1_1'] = ypred_m1_1\n",
    "\n",
    "\n",
    "#print(results_m1_1.summary())"
   ]
  },
  {
   "cell_type": "markdown",
   "metadata": {},
   "source": [
    "### M1_2"
   ]
  },
  {
   "cell_type": "code",
   "execution_count": null,
   "metadata": {},
   "outputs": [],
   "source": [
    "Y = complete_db.loc[:,'TOTAL_trx']\n",
    "X = complete_db.loc[:,['SATURDAY',\n",
    "                       'SUNDAY',\n",
    "                       'Metro Hora Punta',\n",
    "                       'kms_ofertados',\n",
    "                       'WEEK_OF_YEAR_52',\n",
    "                       'WEEK_OF_YEAR_53',\n",
    "                       'WEEK_OF_YEAR_1',\n",
    "                       'WEEK_OF_YEAR_2',\n",
    "                       'WEEK_OF_YEAR_3',\n",
    "                       'WEEK_OF_YEAR_4',\n",
    "                       'WEEK_OF_YEAR_5',\n",
    "                       'WEEK_OF_YEAR_6',\n",
    "                       'WEEK_OF_YEAR_7',\n",
    "                       'WEEK_OF_YEAR_8',\n",
    "                       'WEEK_OF_YEAR_9',\n",
    "                       'Julio',\n",
    "                       'Nov_2017',\n",
    "                       'Dic_2017',\n",
    "                       't',\n",
    "                       'Feriado_laboral',\n",
    "                       'Feriado_no_laboral',\n",
    "                       'Censo',\n",
    "                       'Partido',\n",
    "                       'FDS_Largo',\n",
    "                       'Disturbios',\n",
    "                       'Corte_Metro',\n",
    "                       'Retraso_Metro',\n",
    "                       'Incidente_Metro',\n",
    "                       'Bucle',\n",
    "                       'Clima',\n",
    "                       'visperas_laborales',\n",
    "                       'kms_metro',\n",
    "                       'N_ZPs',\n",
    "                       'ratio_tm']]\n",
    "\n",
    "X = sm.add_constant(X)\n",
    "m1_2 = sm.OLS(Y, X)\n",
    "results_m1_2 = m1_2.fit()\n",
    "\n",
    "print(results_m1_2.summary())\n",
    "\n",
    "OLS_Summary = summarizingResults(results_m1_2, OLS_Summary, 'm1_2')\n",
    "ypred_m1_2 = results_m1_2.predict(X)\n",
    "complete_db.loc[:,'ypred_m1_2'] = ypred_m1_2"
   ]
  },
  {
   "cell_type": "markdown",
   "metadata": {},
   "source": [
    "### M1_3"
   ]
  },
  {
   "cell_type": "code",
   "execution_count": null,
   "metadata": {},
   "outputs": [],
   "source": [
    "Y = complete_db.loc[:,'TOTAL_trx']\n",
    "X = complete_db.loc[:,['SATURDAY',\n",
    "                       'SUNDAY',\n",
    "                       'Metro Hora Punta',\n",
    "                       'kms_ofertados',\n",
    "                       'WEEK_OF_YEAR_52',\n",
    "                       'WEEK_OF_YEAR_53',\n",
    "                       'WEEK_OF_YEAR_1',\n",
    "                       'WEEK_OF_YEAR_2',\n",
    "                       'WEEK_OF_YEAR_3',\n",
    "                       'WEEK_OF_YEAR_4',\n",
    "                       'WEEK_OF_YEAR_5',\n",
    "                       'WEEK_OF_YEAR_6',\n",
    "                       'WEEK_OF_YEAR_7',\n",
    "                       'WEEK_OF_YEAR_8',\n",
    "                       'WEEK_OF_YEAR_9',\n",
    "                       'Julio',\n",
    "                       'Dic_2017',\n",
    "                       't',\n",
    "                       'Feriado_laboral',\n",
    "                       'Feriado_no_laboral',\n",
    "                       'Censo',\n",
    "                       'Partido',\n",
    "                       'FDS_Largo',\n",
    "                       'Disturbios',\n",
    "                       'Corte_Metro',\n",
    "                       'Retraso_Metro',\n",
    "                       'Incidente_Metro',\n",
    "                       'Bucle',\n",
    "                       'Clima',\n",
    "                       'visperas_laborales',\n",
    "                       'kms_metro',\n",
    "                       'N_ZPs',\n",
    "                       'ratio_tm']]\n",
    "\n",
    "X = sm.add_constant(X)\n",
    "m1_3 = sm.OLS(Y, X)\n",
    "results_m1_3 = m1_3.fit()\n",
    "\n",
    "print(results_m1_3.summary())\n",
    "\n",
    "OLS_Summary = summarizingResults(results_m1_3, OLS_Summary, 'm1_3')\n",
    "ypred_m1_3 = results_m1_3.predict(X)\n",
    "complete_db.loc[:,'ypred_m1_3'] = ypred_m1_3"
   ]
  },
  {
   "cell_type": "markdown",
   "metadata": {},
   "source": [
    "### M1_4"
   ]
  },
  {
   "cell_type": "code",
   "execution_count": null,
   "metadata": {},
   "outputs": [],
   "source": [
    "Y = complete_db.loc[:,'TOTAL_trx']\n",
    "X = complete_db.loc[:,['SATURDAY',\n",
    "                       'SUNDAY',\n",
    "                       'Metro Hora Punta',\n",
    "                       'kms_ofertados',\n",
    "                       'WEEK_OF_YEAR_52',\n",
    "                       'WEEK_OF_YEAR_53',\n",
    "                       'WEEK_OF_YEAR_1',\n",
    "                       'WEEK_OF_YEAR_2',\n",
    "                       'WEEK_OF_YEAR_3',\n",
    "                       'WEEK_OF_YEAR_4',\n",
    "                       'WEEK_OF_YEAR_5',\n",
    "                       'WEEK_OF_YEAR_6',\n",
    "                       'WEEK_OF_YEAR_7',\n",
    "                       'WEEK_OF_YEAR_8',\n",
    "                       'WEEK_OF_YEAR_9',\n",
    "                       'Julio',\n",
    "                       't',\n",
    "                       'Feriado_laboral',\n",
    "                       'Feriado_no_laboral',\n",
    "                       'Censo',\n",
    "                       'Partido',\n",
    "                       'FDS_Largo',\n",
    "                       'Disturbios',\n",
    "                       'Corte_Metro',\n",
    "                       'Retraso_Metro',\n",
    "                       'Incidente_Metro',\n",
    "                       'Bucle',\n",
    "                       'Clima',\n",
    "                       'visperas_laborales',\n",
    "                       'kms_metro',\n",
    "                       'N_ZPs',\n",
    "                       'ratio_tm']]\n",
    "\n",
    "X = sm.add_constant(X)\n",
    "m1_4 = sm.OLS(Y, X)\n",
    "results_m1_4 = m1_4.fit()\n",
    "\n",
    "print(results_m1_4.summary())\n",
    "\n",
    "OLS_Summary = summarizingResults(results_m1_4, OLS_Summary, 'm1_4')\n",
    "ypred_m1_4 = results_m1_4.predict(X)\n",
    "complete_db.loc[:,'ypred_m1_4'] = ypred_m1_4"
   ]
  },
  {
   "cell_type": "markdown",
   "metadata": {},
   "source": [
    "### M1_5"
   ]
  },
  {
   "cell_type": "code",
   "execution_count": null,
   "metadata": {},
   "outputs": [],
   "source": [
    "Y = complete_db.loc[:,'TOTAL_trx']\n",
    "X = complete_db.loc[:,['SATURDAY',\n",
    "                       'SUNDAY',\n",
    "                       'kms_ofertados',\n",
    "                       'WEEK_OF_YEAR_52',\n",
    "                       'WEEK_OF_YEAR_53',\n",
    "                       'WEEK_OF_YEAR_1',\n",
    "                       'WEEK_OF_YEAR_2',\n",
    "                       'WEEK_OF_YEAR_3',\n",
    "                       'WEEK_OF_YEAR_4',\n",
    "                       'WEEK_OF_YEAR_5',\n",
    "                       'WEEK_OF_YEAR_6',\n",
    "                       'WEEK_OF_YEAR_7',\n",
    "                       'WEEK_OF_YEAR_8',\n",
    "                       'WEEK_OF_YEAR_9',\n",
    "                       'Julio',\n",
    "                       't',\n",
    "                       'Feriado_laboral',\n",
    "                       'Feriado_no_laboral',\n",
    "                       'Censo',\n",
    "                       'Partido',\n",
    "                       'FDS_Largo',\n",
    "                       'Disturbios',\n",
    "                       'Corte_Metro',\n",
    "                       'Retraso_Metro',\n",
    "                       'Incidente_Metro',\n",
    "                       'Bucle',\n",
    "                       'Clima',\n",
    "                       'visperas_laborales',\n",
    "                       'kms_metro',\n",
    "                       'N_ZPs',\n",
    "                       'ratio_tm']]\n",
    "\n",
    "X = sm.add_constant(X)\n",
    "m1_5 = sm.OLS(Y, X)\n",
    "results_m1_5 = m1_5.fit()\n",
    "\n",
    "print(results_m1_5.summary())\n",
    "\n",
    "OLS_Summary = summarizingResults(results_m1_5, OLS_Summary, 'm1_5')\n",
    "ypred_m1_5 = results_m1_5.predict(X)\n",
    "complete_db.loc[:,'ypred_m1_5'] = ypred_m1_5"
   ]
  },
  {
   "cell_type": "markdown",
   "metadata": {},
   "source": [
    "### M1_6"
   ]
  },
  {
   "cell_type": "code",
   "execution_count": null,
   "metadata": {},
   "outputs": [],
   "source": [
    "Y = complete_db.loc[:,'TOTAL_trx']\n",
    "X = complete_db.loc[:,['SATURDAY',\n",
    "                       'SUNDAY',\n",
    "                       'kms_ofertados',\n",
    "                       'WEEK_OF_YEAR_52',\n",
    "                       'WEEK_OF_YEAR_53',\n",
    "                       'WEEK_OF_YEAR_1',\n",
    "                       'WEEK_OF_YEAR_2',\n",
    "                       'WEEK_OF_YEAR_3',\n",
    "                       'WEEK_OF_YEAR_4',\n",
    "                       'WEEK_OF_YEAR_5',\n",
    "                       'WEEK_OF_YEAR_6',\n",
    "                       'WEEK_OF_YEAR_7',\n",
    "                       'WEEK_OF_YEAR_8',\n",
    "                       'WEEK_OF_YEAR_9',\n",
    "                       'Julio',\n",
    "                       't',\n",
    "                       'Feriado_laboral',\n",
    "                       'Feriado_no_laboral',\n",
    "                       'Censo',\n",
    "                       'Partido',\n",
    "                       'FDS_Largo',\n",
    "                       'Disturbios',\n",
    "                       'Corte_Metro',\n",
    "                       'Retraso_Metro',\n",
    "                       'Bucle',\n",
    "                       'Clima',\n",
    "                       'visperas_laborales',\n",
    "                       'kms_metro',\n",
    "                       'N_ZPs',\n",
    "                       'ratio_tm']]\n",
    "\n",
    "X = sm.add_constant(X)\n",
    "m1_6 = sm.OLS(Y, X)\n",
    "results_m1_6 = m1_6.fit()\n",
    "\n",
    "print(results_m1_6.summary())\n",
    "\n",
    "OLS_Summary = summarizingResults(results_m1_6, OLS_Summary, 'm1_6')\n",
    "ypred_m1_6 = results_m1_6.predict(X)\n",
    "complete_db.loc[:,'ypred_m1_6'] = ypred_m1_6"
   ]
  },
  {
   "cell_type": "markdown",
   "metadata": {},
   "source": [
    "### M1_7"
   ]
  },
  {
   "cell_type": "code",
   "execution_count": null,
   "metadata": {},
   "outputs": [],
   "source": [
    "Y = complete_db.loc[:,'TOTAL_trx']\n",
    "X = complete_db.loc[:,['SATURDAY',\n",
    "                       'SUNDAY',\n",
    "                       'kms_ofertados',\n",
    "                       'WEEK_OF_YEAR_52',\n",
    "                       'WEEK_OF_YEAR_53',\n",
    "                       'WEEK_OF_YEAR_1',\n",
    "                       'WEEK_OF_YEAR_2',\n",
    "                       'WEEK_OF_YEAR_3',\n",
    "                       'WEEK_OF_YEAR_4',\n",
    "                       'WEEK_OF_YEAR_5',\n",
    "                       'WEEK_OF_YEAR_6',\n",
    "                       'WEEK_OF_YEAR_7',\n",
    "                       'WEEK_OF_YEAR_8',\n",
    "                       'WEEK_OF_YEAR_9',\n",
    "                       'Julio',\n",
    "                       't',\n",
    "                       'Feriado_laboral',\n",
    "                       'Feriado_no_laboral',\n",
    "                       'Censo',\n",
    "                       'Partido',\n",
    "                       'FDS_Largo',\n",
    "                       'Disturbios',\n",
    "                       'Corte_Metro',\n",
    "                       'Bucle',\n",
    "                       'Clima',\n",
    "                       'visperas_laborales',\n",
    "                       'kms_metro',\n",
    "                       'N_ZPs',\n",
    "                       'ratio_tm']]\n",
    "\n",
    "X = sm.add_constant(X)\n",
    "m1_7 = sm.OLS(Y, X)\n",
    "results_m1_7 = m1_7.fit()\n",
    "\n",
    "print(results_m1_7.summary())\n",
    "\n",
    "OLS_Summary = summarizingResults(results_m1_7, OLS_Summary, 'm1_7')\n",
    "ypred_m1_7 = results_m1_7.predict(X)\n",
    "complete_db.loc[:,'ypred_m1_7'] = ypred_m1_7"
   ]
  },
  {
   "cell_type": "markdown",
   "metadata": {},
   "source": [
    "### M1_8"
   ]
  },
  {
   "cell_type": "code",
   "execution_count": null,
   "metadata": {},
   "outputs": [],
   "source": [
    "Y = complete_db.loc[:,'TOTAL_trx']\n",
    "X = complete_db.loc[:,['SATURDAY',\n",
    "                       'SUNDAY',\n",
    "                       'kms_ofertados',\n",
    "                       'WEEK_OF_YEAR_52',\n",
    "                       'WEEK_OF_YEAR_53',\n",
    "                       'WEEK_OF_YEAR_1',\n",
    "                       'WEEK_OF_YEAR_2',\n",
    "                       'WEEK_OF_YEAR_3',\n",
    "                       'WEEK_OF_YEAR_4',\n",
    "                       'WEEK_OF_YEAR_5',\n",
    "                       'WEEK_OF_YEAR_6',\n",
    "                       'WEEK_OF_YEAR_7',\n",
    "                       'WEEK_OF_YEAR_8',\n",
    "                       'WEEK_OF_YEAR_9',\n",
    "                       'Julio',\n",
    "                       't',\n",
    "                       'Feriado_laboral',\n",
    "                       'Feriado_no_laboral',\n",
    "                       'Censo',\n",
    "                       'Partido',\n",
    "                       'FDS_Largo',\n",
    "                       'Disturbios',\n",
    "                       'Bucle',\n",
    "                       'Clima',\n",
    "                       'visperas_laborales',\n",
    "                       'kms_metro',\n",
    "                       'N_ZPs',\n",
    "                       'ratio_tm']]\n",
    "\n",
    "X = sm.add_constant(X)\n",
    "m1_8 = sm.OLS(Y, X)\n",
    "results_m1_8 = m1_8.fit()\n",
    "\n",
    "print(results_m1_8.summary())\n",
    "\n",
    "OLS_Summary = summarizingResults(results_m1_8, OLS_Summary, 'm1_8')\n",
    "ypred_m1_8 = results_m1_8.predict(X)\n",
    "complete_db.loc[:,'ypred_m1_8'] = ypred_m1_8"
   ]
  },
  {
   "cell_type": "markdown",
   "metadata": {},
   "source": [
    "### <font color='green'> M1_9 </font>"
   ]
  },
  {
   "cell_type": "code",
   "execution_count": null,
   "metadata": {},
   "outputs": [],
   "source": [
    "Y = complete_db.loc[:,'TOTAL_trx']\n",
    "X = complete_db.loc[:,['SATURDAY',\n",
    "                       'SUNDAY',\n",
    "                       'kms_ofertados',\n",
    "                       'WEEK_OF_YEAR_52',\n",
    "                       'WEEK_OF_YEAR_53',\n",
    "                       'WEEK_OF_YEAR_1',\n",
    "                       'WEEK_OF_YEAR_2',\n",
    "                       'WEEK_OF_YEAR_3',\n",
    "                       'WEEK_OF_YEAR_4',\n",
    "                       'WEEK_OF_YEAR_5',\n",
    "                       'WEEK_OF_YEAR_6',\n",
    "                       'WEEK_OF_YEAR_7',\n",
    "                       'WEEK_OF_YEAR_8',\n",
    "                       'WEEK_OF_YEAR_9',\n",
    "                       'Julio',\n",
    "                       't',\n",
    "                       'Feriado_laboral',\n",
    "                       'Feriado_no_laboral',\n",
    "                       'Censo',\n",
    "                       'Partido',\n",
    "                       'FDS_Largo',\n",
    "                       'Disturbios',\n",
    "                       'Clima',\n",
    "                       'visperas_laborales',\n",
    "                       'kms_metro',\n",
    "                       'N_ZPs',\n",
    "                       'ratio_tm']]\n",
    "\n",
    "X = sm.add_constant(X)\n",
    "m1_9 = sm.OLS(Y, X)\n",
    "results_m1_9 = m1_9.fit()\n",
    "\n",
    "print(results_m1_9.summary())\n",
    "\n",
    "OLS_Summary = summarizingResults(results_m1_9, OLS_Summary, 'm1_9')\n",
    "ypred_m1_9 = results_m1_9.predict(X)\n",
    "complete_db.loc[:,'ypred_m1_9'] = ypred_m1_9"
   ]
  },
  {
   "cell_type": "markdown",
   "metadata": {},
   "source": [
    "### M1_10"
   ]
  },
  {
   "cell_type": "code",
   "execution_count": null,
   "metadata": {},
   "outputs": [],
   "source": [
    "Y = complete_db.loc[:,'TOTAL_trx']\n",
    "X = complete_db.loc[:,['SATURDAY',\n",
    "                       'SUNDAY',\n",
    "                       'kms_ofertados',\n",
    "                       'WEEK_OF_YEAR_52',\n",
    "                       'WEEK_OF_YEAR_53',\n",
    "                       'WEEK_OF_YEAR_1',\n",
    "                       'WEEK_OF_YEAR_2',\n",
    "                       'WEEK_OF_YEAR_3',\n",
    "                       'WEEK_OF_YEAR_4',\n",
    "                       'WEEK_OF_YEAR_5',\n",
    "                       'WEEK_OF_YEAR_6',\n",
    "                       'WEEK_OF_YEAR_7',\n",
    "                       'WEEK_OF_YEAR_8',\n",
    "                       'WEEK_OF_YEAR_9',\n",
    "                       'Julio',\n",
    "                       't',\n",
    "                       'Feriado_laboral',\n",
    "                       'Feriado_no_laboral',\n",
    "                       'Censo',\n",
    "                       'Partido',\n",
    "                       'FDS_Largo',\n",
    "                       'Disturbios',\n",
    "                       'Clima',\n",
    "                       'visperas_laborales',\n",
    "                       'N_ZPs',\n",
    "                       'ratio_tm']]\n",
    "\n",
    "X = sm.add_constant(X)\n",
    "m1_10 = sm.OLS(Y, X)\n",
    "results_m1_10 = m1_10.fit()\n",
    "\n",
    "print(results_m1_10.summary())\n",
    "\n",
    "OLS_Summary = summarizingResults(results_m1_10, OLS_Summary, 'm1_10')\n",
    "ypred_m1_10 = results_m1_10.predict(X)\n",
    "complete_db.loc[:,'ypred_m1_10'] = ypred_m1_10"
   ]
  },
  {
   "cell_type": "markdown",
   "metadata": {},
   "source": [
    "--------------------"
   ]
  },
  {
   "cell_type": "markdown",
   "metadata": {},
   "source": [
    "### M2_1"
   ]
  },
  {
   "cell_type": "code",
   "execution_count": null,
   "metadata": {
    "collapsed": true
   },
   "outputs": [],
   "source": [
    "complete_db.loc[:,'ratio_tm_2'] = complete_db.loc[:,'ratio_tm']*complete_db.loc[:,'ratio_tm']"
   ]
  },
  {
   "cell_type": "code",
   "execution_count": null,
   "metadata": {},
   "outputs": [],
   "source": [
    "Y = complete_db.loc[:,'TOTAL_trx']\n",
    "X = complete_db.loc[:,['SATURDAY',\n",
    "                       'SUNDAY',\n",
    "                       'Metro Hora Punta',\n",
    "                       'kms_ofertados',\n",
    "                       'WEEK_OF_YEAR_52',\n",
    "                       'WEEK_OF_YEAR_53',\n",
    "                       'WEEK_OF_YEAR_1',\n",
    "                       'WEEK_OF_YEAR_2',\n",
    "                       'WEEK_OF_YEAR_3',\n",
    "                       'WEEK_OF_YEAR_4',\n",
    "                       'WEEK_OF_YEAR_5',\n",
    "                       'WEEK_OF_YEAR_6',\n",
    "                       'WEEK_OF_YEAR_7',\n",
    "                       'WEEK_OF_YEAR_8',\n",
    "                       'WEEK_OF_YEAR_9',\n",
    "                       'Julio',\n",
    "                       'Nov_2017',\n",
    "                       'Dic_2017',\n",
    "                       't',\n",
    "                       'Feriado_laboral',\n",
    "                       'Feriado_no_laboral',\n",
    "                       'Elecciones',\n",
    "                       'Censo',\n",
    "                       'Partido',\n",
    "                       'FDS_Largo',\n",
    "                       'Disturbios',\n",
    "                       'Corte_Metro',\n",
    "                       'Retraso_Metro',\n",
    "                       'Incidente_Metro',\n",
    "                       'Bucle',\n",
    "                       'Clima',\n",
    "                       'visperas_laborales',\n",
    "                       'kms_metro',\n",
    "                       'N_ZPs',\n",
    "                       'ratio_tm',\n",
    "                       'ratio_tm_2']]\n",
    "\n",
    "X = sm.add_constant(X)\n",
    "m2_1 = sm.OLS(Y, X)\n",
    "results_m2_1 = m2_1.fit()\n",
    "\n",
    "print(results_m2_1.summary())\n",
    "\n",
    "OLS_Summary = summarizingResults(results_m2_1, OLS_Summary, 'm2_1')\n",
    "ypred_m2_1 = results_m2_1.predict(X)\n",
    "complete_db.loc[:,'ypred_m2_1'] = ypred_m2_1"
   ]
  },
  {
   "cell_type": "markdown",
   "metadata": {},
   "source": [
    "### M2_2"
   ]
  },
  {
   "cell_type": "code",
   "execution_count": null,
   "metadata": {},
   "outputs": [],
   "source": [
    "Y = complete_db.loc[:,'TOTAL_trx']\n",
    "X = complete_db.loc[:,['SATURDAY',\n",
    "                       'SUNDAY',\n",
    "                       'Metro Hora Punta',\n",
    "                       'kms_ofertados',\n",
    "                       'WEEK_OF_YEAR_52',\n",
    "                       'WEEK_OF_YEAR_53',\n",
    "                       'WEEK_OF_YEAR_1',\n",
    "                       'WEEK_OF_YEAR_2',\n",
    "                       'WEEK_OF_YEAR_3',\n",
    "                       'WEEK_OF_YEAR_4',\n",
    "                       'WEEK_OF_YEAR_5',\n",
    "                       'WEEK_OF_YEAR_6',\n",
    "                       'WEEK_OF_YEAR_7',\n",
    "                       'WEEK_OF_YEAR_8',\n",
    "                       'WEEK_OF_YEAR_9',\n",
    "                       'Julio',\n",
    "                       'Nov_2017',\n",
    "                       'Dic_2017',\n",
    "                       't',\n",
    "                       'Feriado_laboral',\n",
    "                       'Feriado_no_laboral',\n",
    "                       'Censo',\n",
    "                       'Partido',\n",
    "                       'FDS_Largo',\n",
    "                       'Disturbios',\n",
    "                       'Corte_Metro',\n",
    "                       'Retraso_Metro',\n",
    "                       'Incidente_Metro',\n",
    "                       'Bucle',\n",
    "                       'Clima',\n",
    "                       'visperas_laborales',\n",
    "                       'kms_metro',\n",
    "                       'N_ZPs',\n",
    "                       'ratio_tm',\n",
    "                       'ratio_tm_2']]\n",
    "\n",
    "X = sm.add_constant(X)\n",
    "m2_2 = sm.OLS(Y, X)\n",
    "results_m2_2 = m2_2.fit()\n",
    "\n",
    "print(results_m2_2.summary())\n",
    "\n",
    "OLS_Summary = summarizingResults(results_m2_2, OLS_Summary, 'm2_2')\n",
    "ypred_m2_2 = results_m2_2.predict(X)\n",
    "complete_db.loc[:,'ypred_m2_2'] = ypred_m2_2"
   ]
  },
  {
   "cell_type": "markdown",
   "metadata": {},
   "source": [
    "### M2_3"
   ]
  },
  {
   "cell_type": "code",
   "execution_count": null,
   "metadata": {},
   "outputs": [],
   "source": [
    "Y = complete_db.loc[:,'TOTAL_trx']\n",
    "X = complete_db.loc[:,['SATURDAY',\n",
    "                       'SUNDAY',\n",
    "                       'Metro Hora Punta',\n",
    "                       'kms_ofertados',\n",
    "                       'WEEK_OF_YEAR_52',\n",
    "                       'WEEK_OF_YEAR_53',\n",
    "                       'WEEK_OF_YEAR_1',\n",
    "                       'WEEK_OF_YEAR_2',\n",
    "                       'WEEK_OF_YEAR_3',\n",
    "                       'WEEK_OF_YEAR_4',\n",
    "                       'WEEK_OF_YEAR_5',\n",
    "                       'WEEK_OF_YEAR_6',\n",
    "                       'WEEK_OF_YEAR_7',\n",
    "                       'WEEK_OF_YEAR_8',\n",
    "                       'WEEK_OF_YEAR_9',\n",
    "                       'Julio',\n",
    "                       'Nov_2017',\n",
    "                       'Dic_2017',\n",
    "                       't',\n",
    "                       'Feriado_laboral',\n",
    "                       'Feriado_no_laboral',\n",
    "                       'Censo',\n",
    "                       'Partido',\n",
    "                       'FDS_Largo',\n",
    "                       'Disturbios',\n",
    "                       'Corte_Metro',\n",
    "                       'Retraso_Metro',\n",
    "                       'Bucle',\n",
    "                       'Clima',\n",
    "                       'visperas_laborales',\n",
    "                       'kms_metro',\n",
    "                       'N_ZPs',\n",
    "                       'ratio_tm',\n",
    "                       'ratio_tm_2']]\n",
    "\n",
    "X = sm.add_constant(X)\n",
    "m2_3 = sm.OLS(Y, X)\n",
    "results_m2_3 = m2_3.fit()\n",
    "\n",
    "print(results_m2_3.summary())\n",
    "\n",
    "OLS_Summary = summarizingResults(results_m2_3, OLS_Summary, 'm2_3')\n",
    "ypred_m2_3 = results_m2_3.predict(X)\n",
    "complete_db.loc[:,'ypred_m2_3'] = ypred_m2_3"
   ]
  },
  {
   "cell_type": "markdown",
   "metadata": {},
   "source": [
    "### M2_4"
   ]
  },
  {
   "cell_type": "code",
   "execution_count": null,
   "metadata": {},
   "outputs": [],
   "source": [
    "Y = complete_db.loc[:,'TOTAL_trx']\n",
    "X = complete_db.loc[:,['SATURDAY',\n",
    "                       'SUNDAY',\n",
    "                       'Metro Hora Punta',\n",
    "                       'kms_ofertados',\n",
    "                       'WEEK_OF_YEAR_52',\n",
    "                       'WEEK_OF_YEAR_53',\n",
    "                       'WEEK_OF_YEAR_1',\n",
    "                       'WEEK_OF_YEAR_2',\n",
    "                       'WEEK_OF_YEAR_3',\n",
    "                       'WEEK_OF_YEAR_4',\n",
    "                       'WEEK_OF_YEAR_5',\n",
    "                       'WEEK_OF_YEAR_6',\n",
    "                       'WEEK_OF_YEAR_7',\n",
    "                       'WEEK_OF_YEAR_8',\n",
    "                       'WEEK_OF_YEAR_9',\n",
    "                       'Julio',\n",
    "                       'Dic_2017',\n",
    "                       't',\n",
    "                       'Feriado_laboral',\n",
    "                       'Feriado_no_laboral',\n",
    "                       'Censo',\n",
    "                       'Partido',\n",
    "                       'FDS_Largo',\n",
    "                       'Disturbios',\n",
    "                       'Corte_Metro',\n",
    "                       'Retraso_Metro',\n",
    "                       'Bucle',\n",
    "                       'Clima',\n",
    "                       'visperas_laborales',\n",
    "                       'kms_metro',\n",
    "                       'N_ZPs',\n",
    "                       'ratio_tm',\n",
    "                       'ratio_tm_2']]\n",
    "\n",
    "X = sm.add_constant(X)\n",
    "m2_4 = sm.OLS(Y, X)\n",
    "results_m2_4 = m2_4.fit()\n",
    "\n",
    "print(results_m2_4.summary())\n",
    "\n",
    "OLS_Summary = summarizingResults(results_m2_4, OLS_Summary, 'm2_4')\n",
    "ypred_m2_4 = results_m2_4.predict(X)\n",
    "complete_db.loc[:,'ypred_m2_4'] = ypred_m2_4"
   ]
  },
  {
   "cell_type": "markdown",
   "metadata": {},
   "source": [
    "### M2_5"
   ]
  },
  {
   "cell_type": "code",
   "execution_count": null,
   "metadata": {},
   "outputs": [],
   "source": [
    "Y = complete_db.loc[:,'TOTAL_trx']\n",
    "X = complete_db.loc[:,['SATURDAY',\n",
    "                       'SUNDAY',\n",
    "                       'Metro Hora Punta',\n",
    "                       'kms_ofertados',\n",
    "                       'WEEK_OF_YEAR_52',\n",
    "                       'WEEK_OF_YEAR_53',\n",
    "                       'WEEK_OF_YEAR_1',\n",
    "                       'WEEK_OF_YEAR_2',\n",
    "                       'WEEK_OF_YEAR_3',\n",
    "                       'WEEK_OF_YEAR_4',\n",
    "                       'WEEK_OF_YEAR_5',\n",
    "                       'WEEK_OF_YEAR_6',\n",
    "                       'WEEK_OF_YEAR_7',\n",
    "                       'WEEK_OF_YEAR_8',\n",
    "                       'WEEK_OF_YEAR_9',\n",
    "                       'Julio',\n",
    "                       't',\n",
    "                       'Feriado_laboral',\n",
    "                       'Feriado_no_laboral',\n",
    "                       'Censo',\n",
    "                       'Partido',\n",
    "                       'FDS_Largo',\n",
    "                       'Disturbios',\n",
    "                       'Corte_Metro',\n",
    "                       'Retraso_Metro',\n",
    "                       'Bucle',\n",
    "                       'Clima',\n",
    "                       'visperas_laborales',\n",
    "                       'kms_metro',\n",
    "                       'N_ZPs',\n",
    "                       'ratio_tm',\n",
    "                       'ratio_tm_2']]\n",
    "\n",
    "X = sm.add_constant(X)\n",
    "m2_5 = sm.OLS(Y, X)\n",
    "results_m2_5 = m2_5.fit()\n",
    "\n",
    "print(results_m2_5.summary())\n",
    "\n",
    "OLS_Summary = summarizingResults(results_m2_5, OLS_Summary, 'm2_5')\n",
    "ypred_m2_5 = results_m2_5.predict(X)\n",
    "complete_db.loc[:,'ypred_m2_5'] = ypred_m2_5"
   ]
  },
  {
   "cell_type": "markdown",
   "metadata": {},
   "source": [
    "### M2_6"
   ]
  },
  {
   "cell_type": "code",
   "execution_count": null,
   "metadata": {},
   "outputs": [],
   "source": [
    "Y = complete_db.loc[:,'TOTAL_trx']\n",
    "X = complete_db.loc[:,['SATURDAY',\n",
    "                       'SUNDAY',\n",
    "                       'kms_ofertados',\n",
    "                       'WEEK_OF_YEAR_52',\n",
    "                       'WEEK_OF_YEAR_53',\n",
    "                       'WEEK_OF_YEAR_1',\n",
    "                       'WEEK_OF_YEAR_2',\n",
    "                       'WEEK_OF_YEAR_3',\n",
    "                       'WEEK_OF_YEAR_4',\n",
    "                       'WEEK_OF_YEAR_5',\n",
    "                       'WEEK_OF_YEAR_6',\n",
    "                       'WEEK_OF_YEAR_7',\n",
    "                       'WEEK_OF_YEAR_8',\n",
    "                       'WEEK_OF_YEAR_9',\n",
    "                       'Julio',\n",
    "                       't',\n",
    "                       'Feriado_laboral',\n",
    "                       'Feriado_no_laboral',\n",
    "                       'Censo',\n",
    "                       'Partido',\n",
    "                       'FDS_Largo',\n",
    "                       'Disturbios',\n",
    "                       'Corte_Metro',\n",
    "                       'Retraso_Metro',\n",
    "                       'Bucle',\n",
    "                       'Clima',\n",
    "                       'visperas_laborales',\n",
    "                       'kms_metro',\n",
    "                       'N_ZPs',\n",
    "                       'ratio_tm',\n",
    "                       'ratio_tm_2']]\n",
    "\n",
    "X = sm.add_constant(X)\n",
    "m2_6 = sm.OLS(Y, X)\n",
    "results_m2_6 = m2_6.fit()\n",
    "\n",
    "print(results_m2_6.summary())\n",
    "\n",
    "OLS_Summary = summarizingResults(results_m2_6, OLS_Summary, 'm2_6')\n",
    "ypred_m2_6 = results_m2_6.predict(X)\n",
    "complete_db.loc[:,'ypred_m2_6'] = ypred_m2_6"
   ]
  },
  {
   "cell_type": "markdown",
   "metadata": {},
   "source": [
    "### M2_7"
   ]
  },
  {
   "cell_type": "code",
   "execution_count": null,
   "metadata": {},
   "outputs": [],
   "source": [
    "Y = complete_db.loc[:,'TOTAL_trx']\n",
    "X = complete_db.loc[:,['SATURDAY',\n",
    "                       'SUNDAY',\n",
    "                       'kms_ofertados',\n",
    "                       'WEEK_OF_YEAR_52',\n",
    "                       'WEEK_OF_YEAR_53',\n",
    "                       'WEEK_OF_YEAR_1',\n",
    "                       'WEEK_OF_YEAR_2',\n",
    "                       'WEEK_OF_YEAR_3',\n",
    "                       'WEEK_OF_YEAR_4',\n",
    "                       'WEEK_OF_YEAR_5',\n",
    "                       'WEEK_OF_YEAR_6',\n",
    "                       'WEEK_OF_YEAR_7',\n",
    "                       'WEEK_OF_YEAR_8',\n",
    "                       'WEEK_OF_YEAR_9',\n",
    "                       'Julio',\n",
    "                       't',\n",
    "                       'Feriado_laboral',\n",
    "                       'Feriado_no_laboral',\n",
    "                       'Censo',\n",
    "                       'Partido',\n",
    "                       'FDS_Largo',\n",
    "                       'Disturbios',\n",
    "                       'Corte_Metro',\n",
    "                       'Bucle',\n",
    "                       'Clima',\n",
    "                       'visperas_laborales',\n",
    "                       'kms_metro',\n",
    "                       'N_ZPs',\n",
    "                       'ratio_tm',\n",
    "                       'ratio_tm_2']]\n",
    "\n",
    "X = sm.add_constant(X)\n",
    "m2_7 = sm.OLS(Y, X)\n",
    "results_m2_7 = m2_7.fit()\n",
    "\n",
    "print(results_m2_7.summary())\n",
    "\n",
    "OLS_Summary = summarizingResults(results_m2_7, OLS_Summary, 'm2_7')\n",
    "ypred_m2_7 = results_m2_7.predict(X)\n",
    "complete_db.loc[:,'ypred_m2_7'] = ypred_m2_7"
   ]
  },
  {
   "cell_type": "markdown",
   "metadata": {},
   "source": [
    "### M2_8"
   ]
  },
  {
   "cell_type": "code",
   "execution_count": null,
   "metadata": {},
   "outputs": [],
   "source": [
    "Y = complete_db.loc[:,'TOTAL_trx']\n",
    "X = complete_db.loc[:,['SATURDAY',\n",
    "                       'SUNDAY',\n",
    "                       'kms_ofertados',\n",
    "                       'WEEK_OF_YEAR_52',\n",
    "                       'WEEK_OF_YEAR_53',\n",
    "                       'WEEK_OF_YEAR_1',\n",
    "                       'WEEK_OF_YEAR_2',\n",
    "                       'WEEK_OF_YEAR_3',\n",
    "                       'WEEK_OF_YEAR_4',\n",
    "                       'WEEK_OF_YEAR_5',\n",
    "                       'WEEK_OF_YEAR_6',\n",
    "                       'WEEK_OF_YEAR_7',\n",
    "                       'WEEK_OF_YEAR_8',\n",
    "                       'WEEK_OF_YEAR_9',\n",
    "                       'Julio',\n",
    "                       't',\n",
    "                       'Feriado_laboral',\n",
    "                       'Feriado_no_laboral',\n",
    "                       'Censo',\n",
    "                       'Partido',\n",
    "                       'FDS_Largo',\n",
    "                       'Disturbios',\n",
    "                       'Bucle',\n",
    "                       'Clima',\n",
    "                       'visperas_laborales',\n",
    "                       'kms_metro',\n",
    "                       'N_ZPs',\n",
    "                       'ratio_tm',\n",
    "                       'ratio_tm_2']]\n",
    "\n",
    "X = sm.add_constant(X)\n",
    "m2_8 = sm.OLS(Y, X)\n",
    "results_m2_8 = m2_8.fit()\n",
    "\n",
    "print(results_m2_8.summary())\n",
    "\n",
    "OLS_Summary = summarizingResults(results_m2_8, OLS_Summary, 'm2_8')\n",
    "ypred_m2_8 = results_m2_8.predict(X)\n",
    "complete_db.loc[:,'ypred_m2_8'] = ypred_m2_8"
   ]
  },
  {
   "cell_type": "markdown",
   "metadata": {},
   "source": [
    "### M2_9"
   ]
  },
  {
   "cell_type": "code",
   "execution_count": null,
   "metadata": {},
   "outputs": [],
   "source": [
    "Y = complete_db.loc[:,'TOTAL_trx']\n",
    "X = complete_db.loc[:,['SATURDAY',\n",
    "                       'SUNDAY',\n",
    "                       'kms_ofertados',\n",
    "                       'WEEK_OF_YEAR_52',\n",
    "                       'WEEK_OF_YEAR_53',\n",
    "                       'WEEK_OF_YEAR_1',\n",
    "                       'WEEK_OF_YEAR_2',\n",
    "                       'WEEK_OF_YEAR_3',\n",
    "                       'WEEK_OF_YEAR_4',\n",
    "                       'WEEK_OF_YEAR_5',\n",
    "                       'WEEK_OF_YEAR_6',\n",
    "                       'WEEK_OF_YEAR_7',\n",
    "                       'WEEK_OF_YEAR_8',\n",
    "                       'WEEK_OF_YEAR_9',\n",
    "                       'Julio',\n",
    "                       't',\n",
    "                       'Feriado_laboral',\n",
    "                       'Feriado_no_laboral',\n",
    "                       'Censo',\n",
    "                       'Partido',\n",
    "                       'FDS_Largo',\n",
    "                       'Disturbios',\n",
    "                       'Clima',\n",
    "                       'visperas_laborales',\n",
    "                       'kms_metro',\n",
    "                       'N_ZPs',\n",
    "                       'ratio_tm',\n",
    "                       'ratio_tm_2']]\n",
    "\n",
    "X = sm.add_constant(X)\n",
    "m2_9 = sm.OLS(Y, X)\n",
    "results_m2_9 = m2_9.fit()\n",
    "\n",
    "print(results_m2_9.summary())\n",
    "\n",
    "OLS_Summary = summarizingResults(results_m2_9, OLS_Summary, 'm2_9')\n",
    "ypred_m2_9 = results_m2_9.predict(X)\n",
    "complete_db.loc[:,'ypred_m2_9'] = ypred_m2_9"
   ]
  },
  {
   "cell_type": "markdown",
   "metadata": {},
   "source": [
    "### M2_10"
   ]
  },
  {
   "cell_type": "code",
   "execution_count": null,
   "metadata": {},
   "outputs": [],
   "source": [
    "Y = complete_db.loc[:,'TOTAL_trx']\n",
    "X = complete_db.loc[:,['SATURDAY',\n",
    "                       'SUNDAY',\n",
    "                       'kms_ofertados',\n",
    "                       'WEEK_OF_YEAR_52',\n",
    "                       'WEEK_OF_YEAR_53',\n",
    "                       'WEEK_OF_YEAR_1',\n",
    "                       'WEEK_OF_YEAR_2',\n",
    "                       'WEEK_OF_YEAR_3',\n",
    "                       'WEEK_OF_YEAR_4',\n",
    "                       'WEEK_OF_YEAR_5',\n",
    "                       'WEEK_OF_YEAR_6',\n",
    "                       'WEEK_OF_YEAR_7',\n",
    "                       'WEEK_OF_YEAR_8',\n",
    "                       'WEEK_OF_YEAR_9',\n",
    "                       'Julio',\n",
    "                       't',\n",
    "                       'Feriado_laboral',\n",
    "                       'Feriado_no_laboral',\n",
    "                       'Censo',\n",
    "                       'Partido',\n",
    "                       'FDS_Largo',\n",
    "                       'Disturbios',\n",
    "                       'Clima',\n",
    "                       'visperas_laborales',\n",
    "                       'kms_metro',\n",
    "                       'N_ZPs',\n",
    "                       'ratio_tm_2']]\n",
    "\n",
    "X = sm.add_constant(X)\n",
    "m2_10 = sm.OLS(Y, X)\n",
    "results_m2_10 = m2_10.fit()\n",
    "\n",
    "print(results_m2_10.summary())\n",
    "\n",
    "OLS_Summary = summarizingResults(results_m2_10, OLS_Summary, 'm2_10')\n",
    "ypred_m2_10 = results_m2_10.predict(X)\n",
    "complete_db.loc[:,'ypred_m2_10'] = ypred_m2_10"
   ]
  },
  {
   "cell_type": "markdown",
   "metadata": {},
   "source": [
    "### M2_11"
   ]
  },
  {
   "cell_type": "code",
   "execution_count": null,
   "metadata": {},
   "outputs": [],
   "source": [
    "Y = complete_db.loc[:,'TOTAL_trx']\n",
    "X = complete_db.loc[:,['SATURDAY',\n",
    "                       'SUNDAY',\n",
    "                       'kms_ofertados',\n",
    "                       'WEEK_OF_YEAR_52',\n",
    "                       'WEEK_OF_YEAR_53',\n",
    "                       'WEEK_OF_YEAR_1',\n",
    "                       'WEEK_OF_YEAR_2',\n",
    "                       'WEEK_OF_YEAR_3',\n",
    "                       'WEEK_OF_YEAR_4',\n",
    "                       'WEEK_OF_YEAR_5',\n",
    "                       'WEEK_OF_YEAR_6',\n",
    "                       'WEEK_OF_YEAR_7',\n",
    "                       'WEEK_OF_YEAR_8',\n",
    "                       'WEEK_OF_YEAR_9',\n",
    "                       'Julio',\n",
    "                       't',\n",
    "                       'Feriado_laboral',\n",
    "                       'Feriado_no_laboral',\n",
    "                       'Censo',\n",
    "                       'Partido',\n",
    "                       'FDS_Largo',\n",
    "                       'Disturbios',\n",
    "                       'Clima',\n",
    "                       'visperas_laborales',\n",
    "                       'N_ZPs',\n",
    "                       'ratio_tm',\n",
    "                       'ratio_tm_2']]\n",
    "\n",
    "X = sm.add_constant(X)\n",
    "m2_11 = sm.OLS(Y, X)\n",
    "results_m2_11 = m2_11.fit()\n",
    "\n",
    "print(results_m2_11.summary())\n",
    "\n",
    "OLS_Summary = summarizingResults(results_m2_11, OLS_Summary, 'm2_11')\n",
    "ypred_m2_11 = results_m2_11.predict(X)\n",
    "complete_db.loc[:,'ypred_m2_11'] = ypred_m2_11"
   ]
  },
  {
   "cell_type": "markdown",
   "metadata": {},
   "source": [
    "### <font color='green'> M2_12 </font>"
   ]
  },
  {
   "cell_type": "code",
   "execution_count": null,
   "metadata": {},
   "outputs": [],
   "source": [
    "Y = complete_db.loc[:,'TOTAL_trx']\n",
    "X = complete_db.loc[:,['SATURDAY',\n",
    "                       'SUNDAY',\n",
    "                       'kms_ofertados',\n",
    "                       'WEEK_OF_YEAR_52',\n",
    "                       'WEEK_OF_YEAR_53',\n",
    "                       'WEEK_OF_YEAR_1',\n",
    "                       'WEEK_OF_YEAR_2',\n",
    "                       'WEEK_OF_YEAR_3',\n",
    "                       'WEEK_OF_YEAR_4',\n",
    "                       'WEEK_OF_YEAR_5',\n",
    "                       'WEEK_OF_YEAR_6',\n",
    "                       'WEEK_OF_YEAR_7',\n",
    "                       'WEEK_OF_YEAR_8',\n",
    "                       'WEEK_OF_YEAR_9',\n",
    "                       'Julio',\n",
    "                       't',\n",
    "                       'Feriado_laboral',\n",
    "                       'Feriado_no_laboral',\n",
    "                       'Censo',\n",
    "                       'Partido',\n",
    "                       'FDS_Largo',\n",
    "                       'Disturbios',\n",
    "                       'Clima',\n",
    "                       'visperas_laborales',\n",
    "                       'N_ZPs',\n",
    "                       'ratio_tm_2']]\n",
    "\n",
    "X = sm.add_constant(X)\n",
    "m2_12 = sm.OLS(Y, X)\n",
    "results_m2_12 = m2_12.fit()\n",
    "\n",
    "print(results_m2_12.summary())\n",
    "\n",
    "OLS_Summary = summarizingResults(results_m2_12, OLS_Summary, 'm2_12')\n",
    "ypred_m2_12 = results_m2_12.predict(X)\n",
    "complete_db.loc[:,'ypred_m2_12'] = ypred_m2_12"
   ]
  },
  {
   "cell_type": "markdown",
   "metadata": {},
   "source": [
    "### Building M3_0 based on M1_9. Storing all values in dummies_summary"
   ]
  },
  {
   "cell_type": "code",
   "execution_count": null,
   "metadata": {
    "collapsed": true
   },
   "outputs": [],
   "source": [
    "dummies_summary = pd.DataFrame()"
   ]
  },
  {
   "cell_type": "code",
   "execution_count": null,
   "metadata": {
    "collapsed": true
   },
   "outputs": [],
   "source": [
    "def summarizingDummiesResults(x, df, i):\n",
    "    params = x.params.rename('params_' + str(i)) #x.params is a pandas series. The rename call is to assign a name to the series.\n",
    "    t = x.tvalues.rename('t_' + str(i)) #x.tvalues is a pandas series\n",
    "    p = x.pvalues.rename('p_' + str(i)) #x.pvalues is a pandas series\n",
    "\n",
    "    results = pd.concat([params, t, p], axis=1).T    \n",
    "    df = pd.concat([df, results], axis=0)\n",
    "    \n",
    "    return df"
   ]
  },
  {
   "cell_type": "code",
   "execution_count": null,
   "metadata": {
    "collapsed": true
   },
   "outputs": [],
   "source": [
    "import math"
   ]
  },
  {
   "cell_type": "code",
   "execution_count": null,
   "metadata": {
    "collapsed": true
   },
   "outputs": [],
   "source": [
    "max_ratio = math.ceil(complete_db.loc[complete_db['ratio_tm']==complete_db['ratio_tm'].max(),'ratio_tm'].item())"
   ]
  },
  {
   "cell_type": "code",
   "execution_count": null,
   "metadata": {
    "scrolled": true
   },
   "outputs": [],
   "source": [
    "for i in range(0,max_ratio+1):\n",
    "    \n",
    "    complete_db.loc[:,'rtm_i'] = np.where((i<=complete_db.loc[:,'ratio_tm']),1,0)\n",
    "    complete_db.loc[:,'r_tm_x_rtm_i'] = complete_db.loc[:,'ratio_tm'] * complete_db.loc[:,'rtm_i']\n",
    "    \n",
    "    Y = complete_db.loc[:,'TOTAL_trx']\n",
    "    X = complete_db.loc[:,['SATURDAY',\n",
    "                           'SUNDAY',\n",
    "                           'kms_ofertados',\n",
    "                           'WEEK_OF_YEAR_52',\n",
    "                           'WEEK_OF_YEAR_53',\n",
    "                           'WEEK_OF_YEAR_1',\n",
    "                           'WEEK_OF_YEAR_2',\n",
    "                           'WEEK_OF_YEAR_3',\n",
    "                           'WEEK_OF_YEAR_4',\n",
    "                           'WEEK_OF_YEAR_5',\n",
    "                           'WEEK_OF_YEAR_6',\n",
    "                           'WEEK_OF_YEAR_7',\n",
    "                           'WEEK_OF_YEAR_8',\n",
    "                           'WEEK_OF_YEAR_9',\n",
    "                           'Julio',\n",
    "                           't',\n",
    "                           'Feriado_laboral',\n",
    "                           'Feriado_no_laboral',\n",
    "                           'Censo',\n",
    "                           'Partido',\n",
    "                           'FDS_Largo',\n",
    "                           'Disturbios',\n",
    "                           'Clima',\n",
    "                           'visperas_laborales',\n",
    "                           'kms_metro',\n",
    "                           'N_ZPs',\n",
    "                           'ratio_tm',\n",
    "                           'r_tm_x_rtm_i']]\n",
    "    \n",
    "\n",
    "    X = sm.add_constant(X)\n",
    "    m = sm.OLS(Y, X)\n",
    "    results = m.fit()\n",
    "    \n",
    "    dummies_summary = summarizingDummiesResults(results, dummies_summary, i)"
   ]
  },
  {
   "cell_type": "code",
   "execution_count": null,
   "metadata": {
    "collapsed": true
   },
   "outputs": [],
   "source": [
    "#dummies_summary_path = os.path.join(DTPM_TRXDir,'5_RESULTS/0_SYSTEM/0_original/m3_0_dummies_summary.csv')\n",
    "#dummies_summary.to_csv(dummies_summary_path, sep=';',encoding='latin-1')"
   ]
  },
  {
   "cell_type": "markdown",
   "metadata": {},
   "source": [
    "### Building M3_1 based on M3_0"
   ]
  },
  {
   "cell_type": "code",
   "execution_count": null,
   "metadata": {
    "collapsed": true
   },
   "outputs": [],
   "source": [
    "complete_db.loc[:,'rtm_18'] = np.where((18<=complete_db.loc[:,'ratio_tm']),1,0)\n",
    "complete_db.loc[:,'r_tm_x_rtm_18'] = complete_db.loc[:,'ratio_tm'] * complete_db.loc[:,'rtm_18']"
   ]
  },
  {
   "cell_type": "code",
   "execution_count": null,
   "metadata": {},
   "outputs": [],
   "source": [
    "Y = complete_db.loc[:,'TOTAL_trx']\n",
    "X = complete_db.loc[:,['SATURDAY',\n",
    "                       'SUNDAY',\n",
    "                       'Metro Hora Punta',\n",
    "                       'kms_ofertados',\n",
    "                       'WEEK_OF_YEAR_52',\n",
    "                       'WEEK_OF_YEAR_53',\n",
    "                       'WEEK_OF_YEAR_1',\n",
    "                       'WEEK_OF_YEAR_2',\n",
    "                       'WEEK_OF_YEAR_3',\n",
    "                       'WEEK_OF_YEAR_4',\n",
    "                       'WEEK_OF_YEAR_5',\n",
    "                       'WEEK_OF_YEAR_6',\n",
    "                       'WEEK_OF_YEAR_7',\n",
    "                       'WEEK_OF_YEAR_8',\n",
    "                       'WEEK_OF_YEAR_9',\n",
    "                       'Julio',\n",
    "                       'Nov_2017',\n",
    "                       'Dic_2017',\n",
    "                       't',\n",
    "                       'Feriado_laboral',\n",
    "                       'Feriado_no_laboral',\n",
    "                       'Elecciones',\n",
    "                       'Censo',\n",
    "                       'Partido',\n",
    "                       'FDS_Largo',\n",
    "                       'Disturbios',\n",
    "                       'Corte_Metro',\n",
    "                       'Retraso_Metro',\n",
    "                       'Incidente_Metro',\n",
    "                       'Bucle',\n",
    "                       'Clima',\n",
    "                       'visperas_laborales',\n",
    "                       'kms_metro',\n",
    "                       'N_ZPs',\n",
    "                       'ratio_tm',\n",
    "                       'r_tm_x_rtm_18']]\n",
    "\n",
    "X = sm.add_constant(X)\n",
    "m3_1 = sm.OLS(Y, X)\n",
    "results_m3_1 = m3_1.fit()\n",
    "\n",
    "print(results_m3_1.summary())\n",
    "\n",
    "OLS_Summary = summarizingResults(results_m3_1, OLS_Summary, 'm3_1')\n",
    "ypred_m3_1 = results_m3_1.predict(X)\n",
    "complete_db.loc[:,'ypred_m3_1'] = ypred_m3_1"
   ]
  },
  {
   "cell_type": "markdown",
   "metadata": {},
   "source": [
    "### M3_2"
   ]
  },
  {
   "cell_type": "code",
   "execution_count": null,
   "metadata": {},
   "outputs": [],
   "source": [
    "Y = complete_db.loc[:,'TOTAL_trx']\n",
    "X = complete_db.loc[:,['SATURDAY',\n",
    "                       'SUNDAY',\n",
    "                       'Metro Hora Punta',\n",
    "                       'kms_ofertados',\n",
    "                       'WEEK_OF_YEAR_52',\n",
    "                       'WEEK_OF_YEAR_53',\n",
    "                       'WEEK_OF_YEAR_1',\n",
    "                       'WEEK_OF_YEAR_2',\n",
    "                       'WEEK_OF_YEAR_3',\n",
    "                       'WEEK_OF_YEAR_4',\n",
    "                       'WEEK_OF_YEAR_5',\n",
    "                       'WEEK_OF_YEAR_6',\n",
    "                       'WEEK_OF_YEAR_7',\n",
    "                       'WEEK_OF_YEAR_8',\n",
    "                       'WEEK_OF_YEAR_9',\n",
    "                       'Julio',\n",
    "                       'Nov_2017',\n",
    "                       'Dic_2017',\n",
    "                       't',\n",
    "                       'Feriado_laboral',\n",
    "                       'Feriado_no_laboral',\n",
    "                       'Censo',\n",
    "                       'Partido',\n",
    "                       'FDS_Largo',\n",
    "                       'Disturbios',\n",
    "                       'Corte_Metro',\n",
    "                       'Retraso_Metro',\n",
    "                       'Incidente_Metro',\n",
    "                       'Bucle',\n",
    "                       'Clima',\n",
    "                       'visperas_laborales',\n",
    "                       'kms_metro',\n",
    "                       'N_ZPs',\n",
    "                       'ratio_tm',\n",
    "                       'r_tm_x_rtm_18']]\n",
    "\n",
    "X = sm.add_constant(X)\n",
    "m3_2 = sm.OLS(Y, X)\n",
    "results_m3_2 = m3_2.fit()\n",
    "\n",
    "print(results_m3_2.summary())\n",
    "\n",
    "OLS_Summary = summarizingResults(results_m3_2, OLS_Summary, 'm3_2')\n",
    "ypred_m3_2 = results_m3_2.predict(X)\n",
    "complete_db.loc[:,'ypred_m3_2'] = ypred_m3_2"
   ]
  },
  {
   "cell_type": "markdown",
   "metadata": {},
   "source": [
    "### M3_3"
   ]
  },
  {
   "cell_type": "code",
   "execution_count": null,
   "metadata": {},
   "outputs": [],
   "source": [
    "Y = complete_db.loc[:,'TOTAL_trx']\n",
    "X = complete_db.loc[:,['SATURDAY',\n",
    "                       'SUNDAY',\n",
    "                       'Metro Hora Punta',\n",
    "                       'kms_ofertados',\n",
    "                       'WEEK_OF_YEAR_52',\n",
    "                       'WEEK_OF_YEAR_53',\n",
    "                       'WEEK_OF_YEAR_1',\n",
    "                       'WEEK_OF_YEAR_2',\n",
    "                       'WEEK_OF_YEAR_3',\n",
    "                       'WEEK_OF_YEAR_4',\n",
    "                       'WEEK_OF_YEAR_5',\n",
    "                       'WEEK_OF_YEAR_6',\n",
    "                       'WEEK_OF_YEAR_7',\n",
    "                       'WEEK_OF_YEAR_8',\n",
    "                       'WEEK_OF_YEAR_9',\n",
    "                       'Julio',\n",
    "                       'Dic_2017',\n",
    "                       't',\n",
    "                       'Feriado_laboral',\n",
    "                       'Feriado_no_laboral',\n",
    "                       'Censo',\n",
    "                       'Partido',\n",
    "                       'FDS_Largo',\n",
    "                       'Disturbios',\n",
    "                       'Corte_Metro',\n",
    "                       'Retraso_Metro',\n",
    "                       'Incidente_Metro',\n",
    "                       'Bucle',\n",
    "                       'Clima',\n",
    "                       'visperas_laborales',\n",
    "                       'kms_metro',\n",
    "                       'N_ZPs',\n",
    "                       'ratio_tm',\n",
    "                       'r_tm_x_rtm_18']]\n",
    "\n",
    "X = sm.add_constant(X)\n",
    "m3_3 = sm.OLS(Y, X)\n",
    "results_m3_3 = m3_3.fit()\n",
    "\n",
    "print(results_m3_3.summary())\n",
    "\n",
    "OLS_Summary = summarizingResults(results_m3_3, OLS_Summary, 'm3_3')\n",
    "ypred_m3_3 = results_m3_3.predict(X)\n",
    "complete_db.loc[:,'ypred_m3_3'] = ypred_m3_3"
   ]
  },
  {
   "cell_type": "markdown",
   "metadata": {},
   "source": [
    "### M3_4"
   ]
  },
  {
   "cell_type": "code",
   "execution_count": null,
   "metadata": {},
   "outputs": [],
   "source": [
    "Y = complete_db.loc[:,'TOTAL_trx']\n",
    "X = complete_db.loc[:,['SATURDAY',\n",
    "                       'SUNDAY',\n",
    "                       'Metro Hora Punta',\n",
    "                       'kms_ofertados',\n",
    "                       'WEEK_OF_YEAR_52',\n",
    "                       'WEEK_OF_YEAR_53',\n",
    "                       'WEEK_OF_YEAR_1',\n",
    "                       'WEEK_OF_YEAR_2',\n",
    "                       'WEEK_OF_YEAR_3',\n",
    "                       'WEEK_OF_YEAR_4',\n",
    "                       'WEEK_OF_YEAR_5',\n",
    "                       'WEEK_OF_YEAR_6',\n",
    "                       'WEEK_OF_YEAR_7',\n",
    "                       'WEEK_OF_YEAR_8',\n",
    "                       'WEEK_OF_YEAR_9',\n",
    "                       'Julio',\n",
    "                       't',\n",
    "                       'Feriado_laboral',\n",
    "                       'Feriado_no_laboral',\n",
    "                       'Censo',\n",
    "                       'Partido',\n",
    "                       'FDS_Largo',\n",
    "                       'Disturbios',\n",
    "                       'Corte_Metro',\n",
    "                       'Retraso_Metro',\n",
    "                       'Incidente_Metro',\n",
    "                       'Bucle',\n",
    "                       'Clima',\n",
    "                       'visperas_laborales',\n",
    "                       'kms_metro',\n",
    "                       'N_ZPs',\n",
    "                       'ratio_tm',\n",
    "                       'r_tm_x_rtm_18']]\n",
    "\n",
    "X = sm.add_constant(X)\n",
    "m3_4 = sm.OLS(Y, X)\n",
    "results_m3_4 = m3_4.fit()\n",
    "\n",
    "print(results_m3_4.summary())\n",
    "\n",
    "OLS_Summary = summarizingResults(results_m3_4, OLS_Summary, 'm3_4')\n",
    "ypred_m3_4 = results_m3_4.predict(X)\n",
    "complete_db.loc[:,'ypred_m3_4'] = ypred_m3_4"
   ]
  },
  {
   "cell_type": "markdown",
   "metadata": {},
   "source": [
    "### M3_5"
   ]
  },
  {
   "cell_type": "code",
   "execution_count": null,
   "metadata": {},
   "outputs": [],
   "source": [
    "Y = complete_db.loc[:,'TOTAL_trx']\n",
    "X = complete_db.loc[:,['SATURDAY',\n",
    "                       'SUNDAY',\n",
    "                       'Metro Hora Punta',\n",
    "                       'kms_ofertados',\n",
    "                       'WEEK_OF_YEAR_52',\n",
    "                       'WEEK_OF_YEAR_53',\n",
    "                       'WEEK_OF_YEAR_1',\n",
    "                       'WEEK_OF_YEAR_2',\n",
    "                       'WEEK_OF_YEAR_3',\n",
    "                       'WEEK_OF_YEAR_4',\n",
    "                       'WEEK_OF_YEAR_5',\n",
    "                       'WEEK_OF_YEAR_6',\n",
    "                       'WEEK_OF_YEAR_7',\n",
    "                       'WEEK_OF_YEAR_8',\n",
    "                       'WEEK_OF_YEAR_9',\n",
    "                       'Julio',\n",
    "                       't',\n",
    "                       'Feriado_laboral',\n",
    "                       'Feriado_no_laboral',\n",
    "                       'Censo',\n",
    "                       'Partido',\n",
    "                       'FDS_Largo',\n",
    "                       'Disturbios',\n",
    "                       'Corte_Metro',\n",
    "                       'Retraso_Metro',\n",
    "                       'Bucle',\n",
    "                       'Clima',\n",
    "                       'visperas_laborales',\n",
    "                       'kms_metro',\n",
    "                       'N_ZPs',\n",
    "                       'ratio_tm',\n",
    "                       'r_tm_x_rtm_18']]\n",
    "\n",
    "X = sm.add_constant(X)\n",
    "m3_5 = sm.OLS(Y, X)\n",
    "results_m3_5 = m3_5.fit()\n",
    "\n",
    "print(results_m3_5.summary())\n",
    "\n",
    "OLS_Summary = summarizingResults(results_m3_5, OLS_Summary, 'm3_5')\n",
    "ypred_m3_5 = results_m3_5.predict(X)\n",
    "complete_db.loc[:,'ypred_m3_5'] = ypred_m3_5"
   ]
  },
  {
   "cell_type": "markdown",
   "metadata": {},
   "source": [
    "### M3_6"
   ]
  },
  {
   "cell_type": "code",
   "execution_count": null,
   "metadata": {},
   "outputs": [],
   "source": [
    "Y = complete_db.loc[:,'TOTAL_trx']\n",
    "X = complete_db.loc[:,['SATURDAY',\n",
    "                       'SUNDAY',\n",
    "                       'kms_ofertados',\n",
    "                       'WEEK_OF_YEAR_52',\n",
    "                       'WEEK_OF_YEAR_53',\n",
    "                       'WEEK_OF_YEAR_1',\n",
    "                       'WEEK_OF_YEAR_2',\n",
    "                       'WEEK_OF_YEAR_3',\n",
    "                       'WEEK_OF_YEAR_4',\n",
    "                       'WEEK_OF_YEAR_5',\n",
    "                       'WEEK_OF_YEAR_6',\n",
    "                       'WEEK_OF_YEAR_7',\n",
    "                       'WEEK_OF_YEAR_8',\n",
    "                       'WEEK_OF_YEAR_9',\n",
    "                       'Julio',\n",
    "                       't',\n",
    "                       'Feriado_laboral',\n",
    "                       'Feriado_no_laboral',\n",
    "                       'Censo',\n",
    "                       'Partido',\n",
    "                       'FDS_Largo',\n",
    "                       'Disturbios',\n",
    "                       'Corte_Metro',\n",
    "                       'Retraso_Metro',\n",
    "                       'Bucle',\n",
    "                       'Clima',\n",
    "                       'visperas_laborales',\n",
    "                       'kms_metro',\n",
    "                       'N_ZPs',\n",
    "                       'ratio_tm',\n",
    "                       'r_tm_x_rtm_18']]\n",
    "\n",
    "X = sm.add_constant(X)\n",
    "m3_6 = sm.OLS(Y, X)\n",
    "results_m3_6 = m3_6.fit()\n",
    "\n",
    "print(results_m3_6.summary())\n",
    "\n",
    "OLS_Summary = summarizingResults(results_m3_6, OLS_Summary, 'm3_6')\n",
    "ypred_m3_6 = results_m3_6.predict(X)\n",
    "complete_db.loc[:,'ypred_m3_6'] = ypred_m3_6"
   ]
  },
  {
   "cell_type": "markdown",
   "metadata": {},
   "source": [
    "### M3_7"
   ]
  },
  {
   "cell_type": "code",
   "execution_count": null,
   "metadata": {},
   "outputs": [],
   "source": [
    "Y = complete_db.loc[:,'TOTAL_trx']\n",
    "X = complete_db.loc[:,['SATURDAY',\n",
    "                       'SUNDAY',\n",
    "                       'kms_ofertados',\n",
    "                       'WEEK_OF_YEAR_52',\n",
    "                       'WEEK_OF_YEAR_53',\n",
    "                       'WEEK_OF_YEAR_1',\n",
    "                       'WEEK_OF_YEAR_2',\n",
    "                       'WEEK_OF_YEAR_3',\n",
    "                       'WEEK_OF_YEAR_4',\n",
    "                       'WEEK_OF_YEAR_5',\n",
    "                       'WEEK_OF_YEAR_6',\n",
    "                       'WEEK_OF_YEAR_7',\n",
    "                       'WEEK_OF_YEAR_8',\n",
    "                       'WEEK_OF_YEAR_9',\n",
    "                       'Julio',\n",
    "                       't',\n",
    "                       'Feriado_laboral',\n",
    "                       'Feriado_no_laboral',\n",
    "                       'Censo',\n",
    "                       'Partido',\n",
    "                       'FDS_Largo',\n",
    "                       'Disturbios',\n",
    "                       'Corte_Metro',\n",
    "                       'Bucle',\n",
    "                       'Clima',\n",
    "                       'visperas_laborales',\n",
    "                       'kms_metro',\n",
    "                       'N_ZPs',\n",
    "                       'ratio_tm',\n",
    "                       'r_tm_x_rtm_18']]\n",
    "\n",
    "X = sm.add_constant(X)\n",
    "m3_7 = sm.OLS(Y, X)\n",
    "results_m3_7 = m3_7.fit()\n",
    "\n",
    "print(results_m3_7.summary())\n",
    "\n",
    "OLS_Summary = summarizingResults(results_m3_7, OLS_Summary, 'm3_7')\n",
    "ypred_m3_7 = results_m3_7.predict(X)\n",
    "complete_db.loc[:,'ypred_m3_7'] = ypred_m3_7"
   ]
  },
  {
   "cell_type": "markdown",
   "metadata": {},
   "source": [
    "### M3_8"
   ]
  },
  {
   "cell_type": "code",
   "execution_count": null,
   "metadata": {},
   "outputs": [],
   "source": [
    "Y = complete_db.loc[:,'TOTAL_trx']\n",
    "X = complete_db.loc[:,['SATURDAY',\n",
    "                       'SUNDAY',\n",
    "                       'kms_ofertados',\n",
    "                       'WEEK_OF_YEAR_52',\n",
    "                       'WEEK_OF_YEAR_53',\n",
    "                       'WEEK_OF_YEAR_1',\n",
    "                       'WEEK_OF_YEAR_2',\n",
    "                       'WEEK_OF_YEAR_3',\n",
    "                       'WEEK_OF_YEAR_4',\n",
    "                       'WEEK_OF_YEAR_5',\n",
    "                       'WEEK_OF_YEAR_6',\n",
    "                       'WEEK_OF_YEAR_7',\n",
    "                       'WEEK_OF_YEAR_8',\n",
    "                       'WEEK_OF_YEAR_9',\n",
    "                       'Julio',\n",
    "                       't',\n",
    "                       'Feriado_laboral',\n",
    "                       'Feriado_no_laboral',\n",
    "                       'Censo',\n",
    "                       'Partido',\n",
    "                       'FDS_Largo',\n",
    "                       'Disturbios',\n",
    "                       'Bucle',\n",
    "                       'Clima',\n",
    "                       'visperas_laborales',\n",
    "                       'kms_metro',\n",
    "                       'N_ZPs',\n",
    "                       'ratio_tm',\n",
    "                       'r_tm_x_rtm_18']]\n",
    "\n",
    "X = sm.add_constant(X)\n",
    "m3_8 = sm.OLS(Y, X)\n",
    "results_m3_8 = m3_8.fit()\n",
    "\n",
    "print(results_m3_8.summary())\n",
    "\n",
    "OLS_Summary = summarizingResults(results_m3_8, OLS_Summary, 'm3_8')\n",
    "ypred_m3_8 = results_m3_8.predict(X)\n",
    "complete_db.loc[:,'ypred_m3_8'] = ypred_m3_8"
   ]
  },
  {
   "cell_type": "markdown",
   "metadata": {},
   "source": [
    "### M3_9"
   ]
  },
  {
   "cell_type": "code",
   "execution_count": null,
   "metadata": {},
   "outputs": [],
   "source": [
    "Y = complete_db.loc[:,'TOTAL_trx']\n",
    "X = complete_db.loc[:,['SATURDAY',\n",
    "                       'SUNDAY',\n",
    "                       'kms_ofertados',\n",
    "                       'WEEK_OF_YEAR_52',\n",
    "                       'WEEK_OF_YEAR_53',\n",
    "                       'WEEK_OF_YEAR_1',\n",
    "                       'WEEK_OF_YEAR_2',\n",
    "                       'WEEK_OF_YEAR_3',\n",
    "                       'WEEK_OF_YEAR_4',\n",
    "                       'WEEK_OF_YEAR_5',\n",
    "                       'WEEK_OF_YEAR_6',\n",
    "                       'WEEK_OF_YEAR_7',\n",
    "                       'WEEK_OF_YEAR_8',\n",
    "                       'WEEK_OF_YEAR_9',\n",
    "                       'Julio',\n",
    "                       't',\n",
    "                       'Feriado_laboral',\n",
    "                       'Feriado_no_laboral',\n",
    "                       'Censo',\n",
    "                       'Partido',\n",
    "                       'FDS_Largo',\n",
    "                       'Disturbios',\n",
    "                       'Clima',\n",
    "                       'visperas_laborales',\n",
    "                       'kms_metro',\n",
    "                       'N_ZPs',\n",
    "                       'ratio_tm',\n",
    "                       'r_tm_x_rtm_18']]\n",
    "\n",
    "X = sm.add_constant(X)\n",
    "m3_9 = sm.OLS(Y, X)\n",
    "results_m3_9 = m3_9.fit()\n",
    "\n",
    "print(results_m3_9.summary())\n",
    "\n",
    "OLS_Summary = summarizingResults(results_m3_9, OLS_Summary, 'm3_9')\n",
    "ypred_m3_9 = results_m3_9.predict(X)\n",
    "complete_db.loc[:,'ypred_m3_9'] = ypred_m3_9"
   ]
  },
  {
   "cell_type": "markdown",
   "metadata": {},
   "source": [
    "### M3_10"
   ]
  },
  {
   "cell_type": "code",
   "execution_count": null,
   "metadata": {},
   "outputs": [],
   "source": [
    "Y = complete_db.loc[:,'TOTAL_trx']\n",
    "X = complete_db.loc[:,['SATURDAY',\n",
    "                       'SUNDAY',\n",
    "                       'kms_ofertados',\n",
    "                       'WEEK_OF_YEAR_52',\n",
    "                       'WEEK_OF_YEAR_53',\n",
    "                       'WEEK_OF_YEAR_1',\n",
    "                       'WEEK_OF_YEAR_2',\n",
    "                       'WEEK_OF_YEAR_3',\n",
    "                       'WEEK_OF_YEAR_4',\n",
    "                       'WEEK_OF_YEAR_5',\n",
    "                       'WEEK_OF_YEAR_6',\n",
    "                       'WEEK_OF_YEAR_7',\n",
    "                       'WEEK_OF_YEAR_8',\n",
    "                       'WEEK_OF_YEAR_9',\n",
    "                       'Julio',\n",
    "                       't',\n",
    "                       'Feriado_laboral',\n",
    "                       'Feriado_no_laboral',\n",
    "                       'Censo',\n",
    "                       'Partido',\n",
    "                       'FDS_Largo',\n",
    "                       'Disturbios',\n",
    "                       'Clima',\n",
    "                       'visperas_laborales',\n",
    "                       'kms_metro',\n",
    "                       'N_ZPs',\n",
    "                       'r_tm_x_rtm_18']]\n",
    "\n",
    "X = sm.add_constant(X)\n",
    "m3_10 = sm.OLS(Y, X)\n",
    "results_m3_10 = m3_10.fit()\n",
    "\n",
    "print(results_m3_10.summary())\n",
    "\n",
    "OLS_Summary = summarizingResults(results_m3_10, OLS_Summary, 'm3_10')\n",
    "ypred_m3_10 = results_m3_10.predict(X)\n",
    "complete_db.loc[:,'ypred_m3_10'] = ypred_m3_10"
   ]
  },
  {
   "cell_type": "markdown",
   "metadata": {},
   "source": [
    "### <font color='green'>M3_11</font>"
   ]
  },
  {
   "cell_type": "code",
   "execution_count": null,
   "metadata": {},
   "outputs": [],
   "source": [
    "Y = complete_db.loc[:,'TOTAL_trx']\n",
    "X = complete_db.loc[:,['SATURDAY',\n",
    "                       'SUNDAY',\n",
    "                       'kms_ofertados',\n",
    "                       'WEEK_OF_YEAR_52',\n",
    "                       'WEEK_OF_YEAR_53',\n",
    "                       'WEEK_OF_YEAR_1',\n",
    "                       'WEEK_OF_YEAR_2',\n",
    "                       'WEEK_OF_YEAR_3',\n",
    "                       'WEEK_OF_YEAR_4',\n",
    "                       'WEEK_OF_YEAR_5',\n",
    "                       'WEEK_OF_YEAR_6',\n",
    "                       'WEEK_OF_YEAR_7',\n",
    "                       'WEEK_OF_YEAR_8',\n",
    "                       'WEEK_OF_YEAR_9',\n",
    "                       'Julio',\n",
    "                       't',\n",
    "                       'Feriado_laboral',\n",
    "                       'Feriado_no_laboral',\n",
    "                       'Censo',\n",
    "                       'Partido',\n",
    "                       'FDS_Largo',\n",
    "                       'Disturbios',\n",
    "                       'Clima',\n",
    "                       'visperas_laborales',\n",
    "                       'N_ZPs',\n",
    "                       'r_tm_x_rtm_18']]\n",
    "\n",
    "X = sm.add_constant(X)\n",
    "m3_11 = sm.OLS(Y, X)\n",
    "results_m3_11 = m3_11.fit()\n",
    "\n",
    "print(results_m3_11.summary())\n",
    "\n",
    "OLS_Summary = summarizingResults(results_m3_11, OLS_Summary, 'm3_11')\n",
    "ypred_m3_11 = results_m3_11.predict(X)\n",
    "complete_db.loc[:,'ypred_m3_11'] = ypred_m3_11"
   ]
  },
  {
   "cell_type": "markdown",
   "metadata": {},
   "source": [
    "### M3_12"
   ]
  },
  {
   "cell_type": "code",
   "execution_count": null,
   "metadata": {},
   "outputs": [],
   "source": [
    "Y = complete_db.loc[:,'TOTAL_trx']\n",
    "X = complete_db.loc[:,['SATURDAY',\n",
    "                       'SUNDAY',\n",
    "                       'kms_ofertados',\n",
    "                       'WEEK_OF_YEAR_52',\n",
    "                       'WEEK_OF_YEAR_53',\n",
    "                       'WEEK_OF_YEAR_1',\n",
    "                       'WEEK_OF_YEAR_2',\n",
    "                       'WEEK_OF_YEAR_3',\n",
    "                       'WEEK_OF_YEAR_4',\n",
    "                       'WEEK_OF_YEAR_5',\n",
    "                       'WEEK_OF_YEAR_6',\n",
    "                       'WEEK_OF_YEAR_7',\n",
    "                       'WEEK_OF_YEAR_8',\n",
    "                       'WEEK_OF_YEAR_9',\n",
    "                       'Julio',\n",
    "                       't',\n",
    "                       'Feriado_laboral',\n",
    "                       'Feriado_no_laboral',\n",
    "                       'Censo',\n",
    "                       'Partido',\n",
    "                       'FDS_Largo',\n",
    "                       'Disturbios',\n",
    "                       'Clima',\n",
    "                       'visperas_laborales',\n",
    "                       'N_ZPs',\n",
    "                       'ratio_tm',\n",
    "                       'r_tm_x_rtm_18']]\n",
    "\n",
    "X = sm.add_constant(X)\n",
    "m3_12 = sm.OLS(Y, X)\n",
    "results_m3_12 = m3_12.fit()\n",
    "\n",
    "print(results_m3_12.summary())\n",
    "\n",
    "OLS_Summary = summarizingResults(results_m3_12, OLS_Summary, 'm3_12')\n",
    "ypred_m3_12 = results_m3_12.predict(X)\n",
    "complete_db.loc[:,'ypred_m3_12'] = ypred_m3_12"
   ]
  },
  {
   "cell_type": "markdown",
   "metadata": {},
   "source": [
    "### M4_1"
   ]
  },
  {
   "cell_type": "code",
   "execution_count": null,
   "metadata": {
    "collapsed": true
   },
   "outputs": [],
   "source": [
    "complete_db.loc[:,'log(r_tm + 1)'] = complete_db['ratio_tm'].apply(lambda x: math.log1p(x))"
   ]
  },
  {
   "cell_type": "code",
   "execution_count": null,
   "metadata": {},
   "outputs": [],
   "source": [
    "Y = complete_db.loc[:,'TOTAL_trx']\n",
    "X = complete_db.loc[:,['SATURDAY',\n",
    "                       'SUNDAY',\n",
    "                       'Metro Hora Punta',\n",
    "                       'kms_ofertados',\n",
    "                       'WEEK_OF_YEAR_52',\n",
    "                       'WEEK_OF_YEAR_53',\n",
    "                       'WEEK_OF_YEAR_1',\n",
    "                       'WEEK_OF_YEAR_2',\n",
    "                       'WEEK_OF_YEAR_3',\n",
    "                       'WEEK_OF_YEAR_4',\n",
    "                       'WEEK_OF_YEAR_5',\n",
    "                       'WEEK_OF_YEAR_6',\n",
    "                       'WEEK_OF_YEAR_7',\n",
    "                       'WEEK_OF_YEAR_8',\n",
    "                       'WEEK_OF_YEAR_9',\n",
    "                       'Julio',\n",
    "                       'Nov_2017',\n",
    "                       'Dic_2017',\n",
    "                       't',\n",
    "                       'Feriado_laboral',\n",
    "                       'Feriado_no_laboral',\n",
    "                       'Elecciones',\n",
    "                       'Censo',\n",
    "                       'Partido',\n",
    "                       'FDS_Largo',\n",
    "                       'Disturbios',\n",
    "                       'Corte_Metro',\n",
    "                       'Retraso_Metro',\n",
    "                       'Incidente_Metro',\n",
    "                       'Bucle',\n",
    "                       'Clima',\n",
    "                       'visperas_laborales',\n",
    "                       'kms_metro',\n",
    "                       'N_ZPs',\n",
    "                       'log(r_tm + 1)']]\n",
    "\n",
    "X = sm.add_constant(X)\n",
    "m4_1 = sm.OLS(Y, X)\n",
    "results_m4_1 = m4_1.fit()\n",
    "\n",
    "print(results_m4_1.summary())\n",
    "\n",
    "OLS_Summary = summarizingResults(results_m4_1, OLS_Summary, 'm4_1')\n",
    "ypred_m4_1 = results_m4_1.predict(X)\n",
    "complete_db.loc[:,'ypred_m4_1'] = ypred_m4_1"
   ]
  },
  {
   "cell_type": "markdown",
   "metadata": {},
   "source": [
    "### M4_2"
   ]
  },
  {
   "cell_type": "code",
   "execution_count": null,
   "metadata": {},
   "outputs": [],
   "source": [
    "Y = complete_db.loc[:,'TOTAL_trx']\n",
    "X = complete_db.loc[:,['SATURDAY',\n",
    "                       'SUNDAY',\n",
    "                       'Metro Hora Punta',\n",
    "                       'kms_ofertados',\n",
    "                       'WEEK_OF_YEAR_52',\n",
    "                       'WEEK_OF_YEAR_53',\n",
    "                       'WEEK_OF_YEAR_1',\n",
    "                       'WEEK_OF_YEAR_2',\n",
    "                       'WEEK_OF_YEAR_3',\n",
    "                       'WEEK_OF_YEAR_4',\n",
    "                       'WEEK_OF_YEAR_5',\n",
    "                       'WEEK_OF_YEAR_6',\n",
    "                       'WEEK_OF_YEAR_7',\n",
    "                       'WEEK_OF_YEAR_8',\n",
    "                       'WEEK_OF_YEAR_9',\n",
    "                       'Julio',\n",
    "                       'Nov_2017',\n",
    "                       'Dic_2017',\n",
    "                       't',\n",
    "                       'Feriado_laboral',\n",
    "                       'Feriado_no_laboral',\n",
    "                       'Censo',\n",
    "                       'Partido',\n",
    "                       'FDS_Largo',\n",
    "                       'Disturbios',\n",
    "                       'Corte_Metro',\n",
    "                       'Retraso_Metro',\n",
    "                       'Incidente_Metro',\n",
    "                       'Bucle',\n",
    "                       'Clima',\n",
    "                       'visperas_laborales',\n",
    "                       'kms_metro',\n",
    "                       'N_ZPs',\n",
    "                       'log(r_tm + 1)']]\n",
    "\n",
    "X = sm.add_constant(X)\n",
    "m4_2 = sm.OLS(Y, X)\n",
    "results_m4_2 = m4_2.fit()\n",
    "\n",
    "print(results_m4_2.summary())\n",
    "\n",
    "OLS_Summary = summarizingResults(results_m4_2, OLS_Summary, 'm4_2')\n",
    "ypred_m4_2 = results_m4_2.predict(X)\n",
    "complete_db.loc[:,'ypred_m4_2'] = ypred_m4_2"
   ]
  },
  {
   "cell_type": "markdown",
   "metadata": {},
   "source": [
    "### M4_3"
   ]
  },
  {
   "cell_type": "code",
   "execution_count": null,
   "metadata": {},
   "outputs": [],
   "source": [
    "Y = complete_db.loc[:,'TOTAL_trx']\n",
    "X = complete_db.loc[:,['SATURDAY',\n",
    "                       'SUNDAY',\n",
    "                       'Metro Hora Punta',\n",
    "                       'kms_ofertados',\n",
    "                       'WEEK_OF_YEAR_52',\n",
    "                       'WEEK_OF_YEAR_53',\n",
    "                       'WEEK_OF_YEAR_1',\n",
    "                       'WEEK_OF_YEAR_2',\n",
    "                       'WEEK_OF_YEAR_3',\n",
    "                       'WEEK_OF_YEAR_4',\n",
    "                       'WEEK_OF_YEAR_5',\n",
    "                       'WEEK_OF_YEAR_6',\n",
    "                       'WEEK_OF_YEAR_7',\n",
    "                       'WEEK_OF_YEAR_8',\n",
    "                       'WEEK_OF_YEAR_9',\n",
    "                       'Julio',\n",
    "                       'Dic_2017',\n",
    "                       't',\n",
    "                       'Feriado_laboral',\n",
    "                       'Feriado_no_laboral',\n",
    "                       'Censo',\n",
    "                       'Partido',\n",
    "                       'FDS_Largo',\n",
    "                       'Disturbios',\n",
    "                       'Corte_Metro',\n",
    "                       'Retraso_Metro',\n",
    "                       'Incidente_Metro',\n",
    "                       'Bucle',\n",
    "                       'Clima',\n",
    "                       'visperas_laborales',\n",
    "                       'kms_metro',\n",
    "                       'N_ZPs',\n",
    "                       'log(r_tm + 1)']]\n",
    "\n",
    "X = sm.add_constant(X)\n",
    "m4_3 = sm.OLS(Y, X)\n",
    "results_m4_3 = m4_3.fit()\n",
    "\n",
    "print(results_m4_3.summary())\n",
    "\n",
    "OLS_Summary = summarizingResults(results_m4_3, OLS_Summary, 'm4_3')\n",
    "ypred_m4_3 = results_m4_3.predict(X)\n",
    "complete_db.loc[:,'ypred_m4_3'] = ypred_m4_3"
   ]
  },
  {
   "cell_type": "markdown",
   "metadata": {},
   "source": [
    "### M4_4"
   ]
  },
  {
   "cell_type": "code",
   "execution_count": null,
   "metadata": {},
   "outputs": [],
   "source": [
    "Y = complete_db.loc[:,'TOTAL_trx']\n",
    "X = complete_db.loc[:,['SATURDAY',\n",
    "                       'SUNDAY',\n",
    "                       'Metro Hora Punta',\n",
    "                       'kms_ofertados',\n",
    "                       'WEEK_OF_YEAR_52',\n",
    "                       'WEEK_OF_YEAR_53',\n",
    "                       'WEEK_OF_YEAR_1',\n",
    "                       'WEEK_OF_YEAR_2',\n",
    "                       'WEEK_OF_YEAR_3',\n",
    "                       'WEEK_OF_YEAR_4',\n",
    "                       'WEEK_OF_YEAR_5',\n",
    "                       'WEEK_OF_YEAR_6',\n",
    "                       'WEEK_OF_YEAR_7',\n",
    "                       'WEEK_OF_YEAR_8',\n",
    "                       'WEEK_OF_YEAR_9',\n",
    "                       'Julio',\n",
    "                       't',\n",
    "                       'Feriado_laboral',\n",
    "                       'Feriado_no_laboral',\n",
    "                       'Censo',\n",
    "                       'Partido',\n",
    "                       'FDS_Largo',\n",
    "                       'Disturbios',\n",
    "                       'Corte_Metro',\n",
    "                       'Retraso_Metro',\n",
    "                       'Incidente_Metro',\n",
    "                       'Bucle',\n",
    "                       'Clima',\n",
    "                       'visperas_laborales',\n",
    "                       'kms_metro',\n",
    "                       'N_ZPs',\n",
    "                       'log(r_tm + 1)']]\n",
    "\n",
    "X = sm.add_constant(X)\n",
    "m4_4 = sm.OLS(Y, X)\n",
    "results_m4_4 = m4_4.fit()\n",
    "\n",
    "print(results_m4_4.summary())\n",
    "\n",
    "OLS_Summary = summarizingResults(results_m4_4, OLS_Summary, 'm4_4')\n",
    "ypred_m4_4 = results_m4_4.predict(X)\n",
    "complete_db.loc[:,'ypred_m4_4'] = ypred_m4_4"
   ]
  },
  {
   "cell_type": "markdown",
   "metadata": {},
   "source": [
    "### M4_5"
   ]
  },
  {
   "cell_type": "code",
   "execution_count": null,
   "metadata": {},
   "outputs": [],
   "source": [
    "Y = complete_db.loc[:,'TOTAL_trx']\n",
    "X = complete_db.loc[:,['SATURDAY',\n",
    "                       'SUNDAY',\n",
    "                       'Metro Hora Punta',\n",
    "                       'kms_ofertados',\n",
    "                       'WEEK_OF_YEAR_52',\n",
    "                       'WEEK_OF_YEAR_53',\n",
    "                       'WEEK_OF_YEAR_1',\n",
    "                       'WEEK_OF_YEAR_2',\n",
    "                       'WEEK_OF_YEAR_3',\n",
    "                       'WEEK_OF_YEAR_4',\n",
    "                       'WEEK_OF_YEAR_5',\n",
    "                       'WEEK_OF_YEAR_6',\n",
    "                       'WEEK_OF_YEAR_7',\n",
    "                       'WEEK_OF_YEAR_8',\n",
    "                       'WEEK_OF_YEAR_9',\n",
    "                       'Julio',\n",
    "                       't',\n",
    "                       'Feriado_laboral',\n",
    "                       'Feriado_no_laboral',\n",
    "                       'Censo',\n",
    "                       'Partido',\n",
    "                       'FDS_Largo',\n",
    "                       'Disturbios',\n",
    "                       'Corte_Metro',\n",
    "                       'Retraso_Metro',\n",
    "                       'Bucle',\n",
    "                       'Clima',\n",
    "                       'visperas_laborales',\n",
    "                       'kms_metro',\n",
    "                       'N_ZPs',\n",
    "                       'log(r_tm + 1)']]\n",
    "\n",
    "X = sm.add_constant(X)\n",
    "m4_5 = sm.OLS(Y, X)\n",
    "results_m4_5 = m4_5.fit()\n",
    "\n",
    "print(results_m4_5.summary())\n",
    "\n",
    "OLS_Summary = summarizingResults(results_m4_5, OLS_Summary, 'm4_5')\n",
    "ypred_m4_5 = results_m4_5.predict(X)\n",
    "complete_db.loc[:,'ypred_m4_5'] = ypred_m4_5"
   ]
  },
  {
   "cell_type": "markdown",
   "metadata": {},
   "source": [
    "### M4_6"
   ]
  },
  {
   "cell_type": "code",
   "execution_count": null,
   "metadata": {},
   "outputs": [],
   "source": [
    "Y = complete_db.loc[:,'TOTAL_trx']\n",
    "X = complete_db.loc[:,['SATURDAY',\n",
    "                       'SUNDAY',\n",
    "                       'Metro Hora Punta',\n",
    "                       'kms_ofertados',\n",
    "                       'WEEK_OF_YEAR_52',\n",
    "                       'WEEK_OF_YEAR_53',\n",
    "                       'WEEK_OF_YEAR_1',\n",
    "                       'WEEK_OF_YEAR_2',\n",
    "                       'WEEK_OF_YEAR_3',\n",
    "                       'WEEK_OF_YEAR_4',\n",
    "                       'WEEK_OF_YEAR_5',\n",
    "                       'WEEK_OF_YEAR_6',\n",
    "                       'WEEK_OF_YEAR_7',\n",
    "                       'WEEK_OF_YEAR_8',\n",
    "                       'WEEK_OF_YEAR_9',\n",
    "                       'Julio',\n",
    "                       't',\n",
    "                       'Feriado_laboral',\n",
    "                       'Feriado_no_laboral',\n",
    "                       'Censo',\n",
    "                       'Partido',\n",
    "                       'FDS_Largo',\n",
    "                       'Disturbios',\n",
    "                       'Corte_Metro',\n",
    "                       'Bucle',\n",
    "                       'Clima',\n",
    "                       'visperas_laborales',\n",
    "                       'kms_metro',\n",
    "                       'N_ZPs',\n",
    "                       'log(r_tm + 1)']]\n",
    "\n",
    "X = sm.add_constant(X)\n",
    "m4_6 = sm.OLS(Y, X)\n",
    "results_m4_6 = m4_6.fit()\n",
    "\n",
    "print(results_m4_6.summary())\n",
    "\n",
    "OLS_Summary = summarizingResults(results_m4_6, OLS_Summary, 'm4_6')\n",
    "ypred_m4_6 = results_m4_6.predict(X)\n",
    "complete_db.loc[:,'ypred_m4_6'] = ypred_m4_6"
   ]
  },
  {
   "cell_type": "markdown",
   "metadata": {},
   "source": [
    "* Plotting"
   ]
  },
  {
   "cell_type": "markdown",
   "metadata": {},
   "source": [
    "Interactive, Daily"
   ]
  },
  {
   "cell_type": "code",
   "execution_count": null,
   "metadata": {
    "collapsed": true
   },
   "outputs": [],
   "source": [
    "def interactiveDailyPlotting(days_values, yact, ypred, model_name):\n",
    "    trace1 = go.Scatter(x=days_values, y=yact, name='Actual', marker=dict(color='rgb(76, 181, 245)'),opacity=1)\n",
    "    trace2 = go.Scatter(x=days_values, y=ypred, name='Predict', marker=dict(color='rgb(183, 184, 182)'),opacity=1)\n",
    "    data = [trace1, trace2]\n",
    "    layout = go.Layout(title='Transacciones por día (actual vs. predict.), ' + model_name,  yaxis=dict(title='Transacciones'))\n",
    "\n",
    "    fig = go.Figure(data=data, layout=layout)\n",
    "    plotly.offline.plot(fig, filename='act_vs_predict_day_' + model_name + '.html')"
   ]
  },
  {
   "cell_type": "code",
   "execution_count": null,
   "metadata": {
    "collapsed": true
   },
   "outputs": [],
   "source": [
    "days_values = complete_db.loc[:,'DATE']\n",
    "yact = complete_db.loc[:,'TOTAL_trx']"
   ]
  },
  {
   "cell_type": "code",
   "execution_count": null,
   "metadata": {
    "collapsed": true
   },
   "outputs": [],
   "source": [
    "#interactiveDailyPlotting(days_values, yact, ypred_m1, 'M1')\n",
    "#interactiveDailyPlotting(days_values, yact, ypred_m2, 'M2')\n",
    "#interactiveDailyPlotting(days_values, yact, ypred_m3, 'M3')\n",
    "#interactiveDailyPlotting(days_values, yact, ypred_m4, 'M4')\n",
    "#interactiveDailyPlotting(days_values, yact, ypred_m5, 'M5')\n",
    "#interactiveDailyPlotting(days_values, yact, ypred_m6, 'M6')\n",
    "#interactiveDailyPlotting(days_values, yact, ypred_m7, 'M7')\n",
    "#interactiveDailyPlotting(days_values, yact, ypred_m8, 'M8')\n",
    "#interactiveDailyPlotting(days_values, yact, ypred_m9, 'M9')\n",
    "interactiveDailyPlotting(days_values, yact, ypred_m10, 'M10')"
   ]
  },
  {
   "cell_type": "markdown",
   "metadata": {},
   "source": [
    "Interactive, Monthly"
   ]
  },
  {
   "cell_type": "code",
   "execution_count": null,
   "metadata": {
    "collapsed": true
   },
   "outputs": [],
   "source": [
    "def interactiveMonthlyPlotting(month_values, yact, ypred, model_name):\n",
    "    trace1 = go.Scatter(x=month_values, y=yact, name='Actual', marker=dict(color='rgb(76, 181, 245)'),opacity=1)\n",
    "    trace2 = go.Scatter(x=month_values, y=ypred, name='Predict', marker=dict(color='rgb(183, 184, 182)'),opacity=1)\n",
    "    data = [trace1, trace2]\n",
    "    layout = go.Layout(title='Transacciones por mes (actual vs. predict.), ' + model_name,  yaxis=dict(title='Transacciones'))\n",
    "\n",
    "    fig = go.Figure(data=data, layout=layout)\n",
    "    plotly.offline.plot(fig, filename='act_vs_predict_month_' + model_name + '.html')"
   ]
  },
  {
   "cell_type": "code",
   "execution_count": null,
   "metadata": {
    "collapsed": true
   },
   "outputs": [],
   "source": [
    "grouped_by_month = complete_db.groupby(pd.Grouper(key='DATE', freq='M'))\n",
    "months_values = list(grouped_by_month.groups.keys())\n",
    "yact = grouped_by_month['TOTAL_trx'].sum()\n",
    "ypred_m1 = grouped_by_month['ypred_m1'].sum()\n",
    "ypred_m2 = grouped_by_month['ypred_m2'].sum()\n",
    "ypred_m3 = grouped_by_month['ypred_m3'].sum()\n",
    "ypred_m4 = grouped_by_month['ypred_m4'].sum()\n",
    "ypred_m5 = grouped_by_month['ypred_m5'].sum()\n",
    "ypred_m6 = grouped_by_month['ypred_m6'].sum()\n",
    "ypred_m7 = grouped_by_month['ypred_m7'].sum()\n",
    "ypred_m8 = grouped_by_month['ypred_m8'].sum()\n",
    "ypred_m9 = grouped_by_month['ypred_m9'].sum()\n",
    "ypred_m10 = grouped_by_month['ypred_m10'].sum()"
   ]
  },
  {
   "cell_type": "code",
   "execution_count": null,
   "metadata": {
    "collapsed": true
   },
   "outputs": [],
   "source": [
    "#interactiveMonthlyPlotting(months_values,yact,ypred_m1, 'M1')\n",
    "#interactiveMonthlyPlotting(months_values,yact,ypred_m2, 'M2')\n",
    "#interactiveMonthlyPlotting(months_values,yact,ypred_m3, 'M3')\n",
    "#interactiveMonthlyPlotting(months_values,yact,ypred_m4, 'M4')\n",
    "#interactiveMonthlyPlotting(months_values,yact,ypred_m5, 'M5')\n",
    "#interactiveMonthlyPlotting(months_values,yact,ypred_m6, 'M6')\n",
    "#interactiveMonthlyPlotting(months_values,yact,ypred_m7, 'M7')\n",
    "#interactiveMonthlyPlotting(months_values,yact,ypred_m8, 'M8')\n",
    "#interactiveMonthlyPlotting(months_values,yact,ypred_m9, 'M9')\n",
    "interactiveMonthlyPlotting(months_values,yact,ypred_m10, 'M10')"
   ]
  },
  {
   "cell_type": "markdown",
   "metadata": {},
   "source": [
    "Static, Monthly"
   ]
  },
  {
   "cell_type": "code",
   "execution_count": null,
   "metadata": {
    "collapsed": true
   },
   "outputs": [],
   "source": [
    "colors = [(76, 181, 245),(183, 184, 182),(52, 103, 92),(179, 193, 0)]\n",
    "for i in range(len(colors)):\n",
    "    r, g, b = colors[i]  \n",
    "    colors[i] = (r / 255., g / 255., b / 255.)"
   ]
  },
  {
   "cell_type": "code",
   "execution_count": null,
   "metadata": {
    "collapsed": true
   },
   "outputs": [],
   "source": [
    "def millions(x, pos):\n",
    "    'The two args are the value and tick position'\n",
    "    return '%1.1fM' % (x*1e-6)"
   ]
  },
  {
   "cell_type": "code",
   "execution_count": null,
   "metadata": {
    "collapsed": true
   },
   "outputs": [],
   "source": [
    "def staticMonthlyPlotting(month_values, yact, ypred, model_name):\n",
    "    formatter = FuncFormatter(millions)\n",
    "    fig, ax = plt.subplots()\n",
    "    ax.plot(months_values, yact,'ro-' ,color = colors[0], label = 'Actual')\n",
    "    ax.plot(months_values, ypred,'d-', color = colors[1], label = 'Predict')\n",
    "    formatter = FuncFormatter(millions)\n",
    "    ax.yaxis.set_major_formatter(formatter)\n",
    "    ax.set_title('Transacciones - Actual vs. Predict., ' + model_name)\n",
    "    ax.set_ylabel('Transacciones')\n",
    "    ax.set_xlabel('Mes del año')\n",
    "    fig.autofmt_xdate()\n",
    "    ax.legend(loc=3)\n",
    "\n",
    "    plt.savefig('C:/Users/leoca_000/Desktop/Evasion/03_report/02_Figs/act_vs_predict_month_' + model_name + '.pdf')"
   ]
  },
  {
   "cell_type": "code",
   "execution_count": null,
   "metadata": {
    "collapsed": true,
    "scrolled": false
   },
   "outputs": [],
   "source": [
    "#staticMonthlyPlotting(months_values,yact,ypred_m1, 'M1')\n",
    "#staticMonthlyPlotting(months_values,yact,ypred_m2, 'M2')\n",
    "#staticMonthlyPlotting(months_values,yact,ypred_m3, 'M3')\n",
    "#staticMonthlyPlotting(months_values,yact,ypred_m4, 'M4')\n",
    "#staticMonthlyPlotting(months_values,yact,ypred_m5, 'M5')\n",
    "#staticMonthlyPlotting(months_values,yact,ypred_m6, 'M6')\n",
    "#staticMonthlyPlotting(months_values,yact,ypred_m7, 'M7')\n",
    "#staticMonthlyPlotting(months_values,yact,ypred_m8, 'M8')\n",
    "#staticMonthlyPlotting(months_values,yact,ypred_m9, 'M9')\n",
    "staticMonthlyPlotting(months_values,yact,ypred_m10, 'M10')"
   ]
  },
  {
   "cell_type": "markdown",
   "metadata": {},
   "source": [
    "### Printing everything to file"
   ]
  },
  {
   "cell_type": "code",
   "execution_count": null,
   "metadata": {
    "collapsed": true
   },
   "outputs": [],
   "source": [
    "complete_ddbb_path = os.path.join(DTPM_TRXDir,'5_RESULTS/1_SYSTEM/0_original/contemporary_complete_db.csv')\n",
    "complete_db.to_csv(complete_ddbb_path,sep=';',encoding='latin-1')\n",
    "\n",
    "OLS_Summary_path = os.path.join(DTPM_TRXDir,'5_RESULTS/1_SYSTEM/0_original/contemporary_OLS_Summary.csv')\n",
    "OLS_Summary.to_csv(OLS_Summary_path, sep=';',encoding='latin-1')"
   ]
  },
  {
   "cell_type": "markdown",
   "metadata": {},
   "source": [
    "## Closed"
   ]
  }
 ],
 "metadata": {
  "kernelspec": {
   "display_name": "Python 3",
   "language": "python",
   "name": "python3"
  },
  "language_info": {
   "codemirror_mode": {
    "name": "ipython",
    "version": 3
   },
   "file_extension": ".py",
   "mimetype": "text/x-python",
   "name": "python",
   "nbconvert_exporter": "python",
   "pygments_lexer": "ipython3",
   "version": "3.6.1"
  }
 },
 "nbformat": 4,
 "nbformat_minor": 2
}
