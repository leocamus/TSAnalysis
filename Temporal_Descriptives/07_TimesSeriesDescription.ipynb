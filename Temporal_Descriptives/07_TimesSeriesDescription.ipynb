{
 "cells": [
  {
   "cell_type": "markdown",
   "metadata": {},
   "source": [
    "# Notebook useful to summarize some general results in tables and plots"
   ]
  },
  {
   "cell_type": "code",
   "execution_count": 1,
   "metadata": {
    "collapsed": true
   },
   "outputs": [],
   "source": [
    "import os\n",
    "import sys\n",
    "module_path = os.path.abspath(os.path.join('..'))\n",
    "if module_path not in sys.path:\n",
    "    sys.path.append(module_path)"
   ]
  },
  {
   "cell_type": "code",
   "execution_count": 2,
   "metadata": {},
   "outputs": [
    {
     "data": {
      "text/html": [
       "<style>.container { width:100% !important; }</style>"
      ],
      "text/plain": [
       "<IPython.core.display.HTML object>"
      ]
     },
     "metadata": {},
     "output_type": "display_data"
    }
   ],
   "source": [
    "from IPython.core.display import display, HTML\n",
    "display(HTML(\"<style>.container { width:100% !important; }</style>\"))\n",
    "import pandas as pd\n",
    "import numpy as np"
   ]
  },
  {
   "cell_type": "code",
   "execution_count": 3,
   "metadata": {
    "collapsed": true
   },
   "outputs": [],
   "source": [
    "import plotly.plotly\n",
    "import plotly.tools as tls\n",
    "import plotly.graph_objs as go\n",
    "import seaborn as sns\n",
    "import matplotlib.pyplot as plt"
   ]
  },
  {
   "cell_type": "code",
   "execution_count": 4,
   "metadata": {
    "collapsed": true
   },
   "outputs": [],
   "source": [
    "from Utils import TransantiagoConstants"
   ]
  },
  {
   "cell_type": "code",
   "execution_count": 5,
   "metadata": {
    "collapsed": true
   },
   "outputs": [],
   "source": [
    "DTPMDir = TransantiagoConstants.DTPMDir\n",
    "DTPM_TRXDir = TransantiagoConstants.DTPM_TRXDir"
   ]
  },
  {
   "cell_type": "code",
   "execution_count": 6,
   "metadata": {
    "collapsed": true
   },
   "outputs": [],
   "source": [
    "daily_input_path = os.path.join(DTPM_TRXDir,'3_DAILY/daily_summary.csv')\n",
    "daily_trx = pd.read_csv(daily_input_path,sep=';',encoding='latin-1', index_col=0)"
   ]
  },
  {
   "cell_type": "markdown",
   "metadata": {},
   "source": [
    "* Creating new dependent and independent variables"
   ]
  },
  {
   "cell_type": "code",
   "execution_count": 7,
   "metadata": {
    "collapsed": true
   },
   "outputs": [],
   "source": [
    "daily_trx.loc[:,'TOTAL_trx'] = daily_trx.loc[:,'pn_SUM_TRX_no_t'] + daily_trx.loc[:,'pn_SUM_TRX_3t'] + daily_trx.loc[:,'pn_SUM_TRX_tm'] + daily_trx.loc[:,'zp_SUM_TRX']"
   ]
  },
  {
   "cell_type": "code",
   "execution_count": 8,
   "metadata": {
    "collapsed": true
   },
   "outputs": [],
   "source": [
    "independent_variables_path = os.path.join(DTPM_TRXDir,'0_INDEPENDENTS/independents_variables.csv')\n",
    "independent_variables = pd.read_csv(independent_variables_path,sep=';',encoding='latin-1', index_col=0, parse_dates=[1])"
   ]
  },
  {
   "cell_type": "code",
   "execution_count": 9,
   "metadata": {
    "collapsed": true
   },
   "outputs": [],
   "source": [
    "independent_variables.loc[:,'Verano'] =  independent_variables.loc[:,'Enero'] + independent_variables.loc[:,'Febrero']\n",
    "independent_variables.loc[:,'Nov_Dic_2017'] = independent_variables.loc[:,'Nov_2017'] + independent_variables.loc[:,'Dic_2017']\n",
    "independent_variables.loc[:,'WEEK_OF_YEAR'] = independent_variables.loc[:,'DATE'].apply(lambda x: x.week)\n",
    "independent_variables = pd.get_dummies(independent_variables, columns=['WEEK_OF_YEAR'])"
   ]
  },
  {
   "cell_type": "code",
   "execution_count": 10,
   "metadata": {
    "collapsed": true
   },
   "outputs": [],
   "source": [
    "complete_db = daily_trx.merge(independent_variables, on =['YEAR','MONTH','YEAR_DAY'], how='left')"
   ]
  },
  {
   "cell_type": "code",
   "execution_count": 11,
   "metadata": {
    "collapsed": true
   },
   "outputs": [],
   "source": [
    "complete_db.sort_values(by=['YEAR','MONTH','YEAR_DAY'], ascending=[True,True,True], inplace=True)"
   ]
  },
  {
   "cell_type": "markdown",
   "metadata": {},
   "source": [
    "* Descriptives: General"
   ]
  },
  {
   "cell_type": "code",
   "execution_count": 12,
   "metadata": {
    "collapsed": true
   },
   "outputs": [],
   "source": [
    "descriptives = pd.DataFrame()"
   ]
  },
  {
   "cell_type": "code",
   "execution_count": 13,
   "metadata": {
    "collapsed": true
   },
   "outputs": [],
   "source": [
    "descriptives = complete_db.loc[:,'TOTAL_trx'].describe().to_frame('total_trx')\n",
    "descriptives = pd.concat([descriptives, complete_db.loc[:,'pn_SUM_TRX_no_t'].describe().to_frame()], axis=1, join='inner')\n",
    "descriptives = pd.concat([descriptives, complete_db.loc[:,'pn_SUM_TRX_3t'].describe().to_frame()], axis=1, join='inner')\n",
    "descriptives = pd.concat([descriptives, complete_db.loc[:,'pn_SUM_TRX_tm'].describe().to_frame()], axis=1, join='inner')\n",
    "descriptives = pd.concat([descriptives, complete_db.loc[:,'zp_SUM_TRX'].describe().to_frame()], axis=1, join='inner')"
   ]
  },
  {
   "cell_type": "code",
   "execution_count": 14,
   "metadata": {},
   "outputs": [
    {
     "data": {
      "text/html": [
       "<div>\n",
       "<style>\n",
       "    .dataframe thead tr:only-child th {\n",
       "        text-align: right;\n",
       "    }\n",
       "\n",
       "    .dataframe thead th {\n",
       "        text-align: left;\n",
       "    }\n",
       "\n",
       "    .dataframe tbody tr th {\n",
       "        vertical-align: top;\n",
       "    }\n",
       "</style>\n",
       "<table border=\"1\" class=\"dataframe\">\n",
       "  <thead>\n",
       "    <tr style=\"text-align: right;\">\n",
       "      <th></th>\n",
       "      <th>total_trx</th>\n",
       "      <th>pn_SUM_TRX_no_t</th>\n",
       "      <th>pn_SUM_TRX_3t</th>\n",
       "      <th>pn_SUM_TRX_tm</th>\n",
       "      <th>zp_SUM_TRX</th>\n",
       "    </tr>\n",
       "  </thead>\n",
       "  <tbody>\n",
       "    <tr>\n",
       "      <th>count</th>\n",
       "      <td>1.096000e+03</td>\n",
       "      <td>1.096000e+03</td>\n",
       "      <td>1096.000000</td>\n",
       "      <td>1096.000000</td>\n",
       "      <td>1096.000000</td>\n",
       "    </tr>\n",
       "    <tr>\n",
       "      <th>mean</th>\n",
       "      <td>2.416262e+06</td>\n",
       "      <td>1.675027e+06</td>\n",
       "      <td>342207.135036</td>\n",
       "      <td>138388.566606</td>\n",
       "      <td>260639.020073</td>\n",
       "    </tr>\n",
       "    <tr>\n",
       "      <th>std</th>\n",
       "      <td>8.398716e+05</td>\n",
       "      <td>5.751708e+05</td>\n",
       "      <td>109530.562299</td>\n",
       "      <td>229832.148323</td>\n",
       "      <td>164090.711388</td>\n",
       "    </tr>\n",
       "    <tr>\n",
       "      <th>min</th>\n",
       "      <td>4.875170e+05</td>\n",
       "      <td>3.253820e+05</td>\n",
       "      <td>80576.000000</td>\n",
       "      <td>0.000000</td>\n",
       "      <td>3202.000000</td>\n",
       "    </tr>\n",
       "    <tr>\n",
       "      <th>25%</th>\n",
       "      <td>1.669855e+06</td>\n",
       "      <td>1.250662e+06</td>\n",
       "      <td>263248.500000</td>\n",
       "      <td>4255.500000</td>\n",
       "      <td>41215.250000</td>\n",
       "    </tr>\n",
       "    <tr>\n",
       "      <th>50%</th>\n",
       "      <td>2.873835e+06</td>\n",
       "      <td>1.781616e+06</td>\n",
       "      <td>360663.500000</td>\n",
       "      <td>26267.500000</td>\n",
       "      <td>343826.500000</td>\n",
       "    </tr>\n",
       "    <tr>\n",
       "      <th>75%</th>\n",
       "      <td>3.084350e+06</td>\n",
       "      <td>2.177554e+06</td>\n",
       "      <td>435838.000000</td>\n",
       "      <td>150627.000000</td>\n",
       "      <td>384499.250000</td>\n",
       "    </tr>\n",
       "    <tr>\n",
       "      <th>max</th>\n",
       "      <td>3.364692e+06</td>\n",
       "      <td>2.472601e+06</td>\n",
       "      <td>510018.000000</td>\n",
       "      <td>861918.000000</td>\n",
       "      <td>477827.000000</td>\n",
       "    </tr>\n",
       "  </tbody>\n",
       "</table>\n",
       "</div>"
      ],
      "text/plain": [
       "          total_trx  pn_SUM_TRX_no_t  pn_SUM_TRX_3t  pn_SUM_TRX_tm  \\\n",
       "count  1.096000e+03     1.096000e+03    1096.000000    1096.000000   \n",
       "mean   2.416262e+06     1.675027e+06  342207.135036  138388.566606   \n",
       "std    8.398716e+05     5.751708e+05  109530.562299  229832.148323   \n",
       "min    4.875170e+05     3.253820e+05   80576.000000       0.000000   \n",
       "25%    1.669855e+06     1.250662e+06  263248.500000    4255.500000   \n",
       "50%    2.873835e+06     1.781616e+06  360663.500000   26267.500000   \n",
       "75%    3.084350e+06     2.177554e+06  435838.000000  150627.000000   \n",
       "max    3.364692e+06     2.472601e+06  510018.000000  861918.000000   \n",
       "\n",
       "          zp_SUM_TRX  \n",
       "count    1096.000000  \n",
       "mean   260639.020073  \n",
       "std    164090.711388  \n",
       "min      3202.000000  \n",
       "25%     41215.250000  \n",
       "50%    343826.500000  \n",
       "75%    384499.250000  \n",
       "max    477827.000000  "
      ]
     },
     "execution_count": 14,
     "metadata": {},
     "output_type": "execute_result"
    }
   ],
   "source": [
    "descriptives"
   ]
  },
  {
   "cell_type": "markdown",
   "metadata": {},
   "source": [
    "* Descriptives: Only working days during normal period"
   ]
  },
  {
   "cell_type": "code",
   "execution_count": 15,
   "metadata": {
    "collapsed": true
   },
   "outputs": [],
   "source": [
    "working_complete_db = complete_db.loc[((complete_db['SATURDAY']==0)\n",
    "                                    &(complete_db['SUNDAY']==0)\n",
    "                                    &(complete_db['Feriado_laboral']==0)\n",
    "                                    &(complete_db['WEEK_OF_YEAR_52']==0)\n",
    "                                    &(complete_db['WEEK_OF_YEAR_53']==0)\n",
    "                                    &(complete_db['WEEK_OF_YEAR_1']==0)\n",
    "                                    &(complete_db['WEEK_OF_YEAR_2']==0)\n",
    "                                    &(complete_db['WEEK_OF_YEAR_3']==0)\n",
    "                                    &(complete_db['WEEK_OF_YEAR_4']==0)\n",
    "                                    &(complete_db['WEEK_OF_YEAR_5']==0)\n",
    "                                    &(complete_db['WEEK_OF_YEAR_6']==0)\n",
    "                                    &(complete_db['WEEK_OF_YEAR_7']==0)\n",
    "                                    &(complete_db['WEEK_OF_YEAR_8']==0)\n",
    "                                    &(complete_db['WEEK_OF_YEAR_9']==0)),:]"
   ]
  },
  {
   "cell_type": "code",
   "execution_count": 16,
   "metadata": {
    "collapsed": true
   },
   "outputs": [],
   "source": [
    "descriptives_working = pd.DataFrame()"
   ]
  },
  {
   "cell_type": "code",
   "execution_count": 17,
   "metadata": {
    "collapsed": true
   },
   "outputs": [],
   "source": [
    "descriptives_working = working_complete_db.loc[:,'TOTAL_trx'].describe().to_frame('total_trx')\n",
    "\n",
    "descriptives_working = pd.concat([descriptives_working, working_complete_db.loc[:,'pn_SUM_TRX_no_t'].describe().to_frame()], axis=1, join='inner')\n",
    "\n",
    "descriptives_working = pd.concat([descriptives_working, working_complete_db.loc[:,'pn_SUM_TRX_3t'].describe().to_frame()], axis=1, join='inner')\n",
    "\n",
    "descriptives_working = pd.concat([descriptives_working, working_complete_db.loc[:,'pn_SUM_TRX_tm'].describe().to_frame()], axis=1, join='inner')\n",
    "\n",
    "descriptives_working = pd.concat([descriptives_working, working_complete_db.loc[:,'zp_SUM_TRX'].describe().to_frame()], axis=1, join='inner')"
   ]
  },
  {
   "cell_type": "code",
   "execution_count": 18,
   "metadata": {},
   "outputs": [
    {
     "data": {
      "text/html": [
       "<div>\n",
       "<style>\n",
       "    .dataframe thead tr:only-child th {\n",
       "        text-align: right;\n",
       "    }\n",
       "\n",
       "    .dataframe thead th {\n",
       "        text-align: left;\n",
       "    }\n",
       "\n",
       "    .dataframe tbody tr th {\n",
       "        vertical-align: top;\n",
       "    }\n",
       "</style>\n",
       "<table border=\"1\" class=\"dataframe\">\n",
       "  <thead>\n",
       "    <tr style=\"text-align: right;\">\n",
       "      <th></th>\n",
       "      <th>total_trx</th>\n",
       "      <th>pn_SUM_TRX_no_t</th>\n",
       "      <th>pn_SUM_TRX_3t</th>\n",
       "      <th>pn_SUM_TRX_tm</th>\n",
       "      <th>zp_SUM_TRX</th>\n",
       "    </tr>\n",
       "  </thead>\n",
       "  <tbody>\n",
       "    <tr>\n",
       "      <th>count</th>\n",
       "      <td>5.980000e+02</td>\n",
       "      <td>5.980000e+02</td>\n",
       "      <td>598.000000</td>\n",
       "      <td>598.000000</td>\n",
       "      <td>598.000000</td>\n",
       "    </tr>\n",
       "    <tr>\n",
       "      <th>mean</th>\n",
       "      <td>3.050910e+06</td>\n",
       "      <td>2.061060e+06</td>\n",
       "      <td>416586.122074</td>\n",
       "      <td>188869.362876</td>\n",
       "      <td>384394.530100</td>\n",
       "    </tr>\n",
       "    <tr>\n",
       "      <th>std</th>\n",
       "      <td>1.655460e+05</td>\n",
       "      <td>2.867322e+05</td>\n",
       "      <td>52153.201410</td>\n",
       "      <td>273384.121941</td>\n",
       "      <td>37898.044155</td>\n",
       "    </tr>\n",
       "    <tr>\n",
       "      <th>min</th>\n",
       "      <td>2.051727e+06</td>\n",
       "      <td>1.380106e+06</td>\n",
       "      <td>289598.000000</td>\n",
       "      <td>0.000000</td>\n",
       "      <td>212077.000000</td>\n",
       "    </tr>\n",
       "    <tr>\n",
       "      <th>25%</th>\n",
       "      <td>2.976764e+06</td>\n",
       "      <td>1.864621e+06</td>\n",
       "      <td>373921.000000</td>\n",
       "      <td>5241.250000</td>\n",
       "      <td>364221.000000</td>\n",
       "    </tr>\n",
       "    <tr>\n",
       "      <th>50%</th>\n",
       "      <td>3.065422e+06</td>\n",
       "      <td>2.142708e+06</td>\n",
       "      <td>429846.000000</td>\n",
       "      <td>35148.500000</td>\n",
       "      <td>381429.500000</td>\n",
       "    </tr>\n",
       "    <tr>\n",
       "      <th>75%</th>\n",
       "      <td>3.158914e+06</td>\n",
       "      <td>2.286980e+06</td>\n",
       "      <td>455711.500000</td>\n",
       "      <td>291157.750000</td>\n",
       "      <td>400601.000000</td>\n",
       "    </tr>\n",
       "    <tr>\n",
       "      <th>max</th>\n",
       "      <td>3.364692e+06</td>\n",
       "      <td>2.472601e+06</td>\n",
       "      <td>510018.000000</td>\n",
       "      <td>861918.000000</td>\n",
       "      <td>477827.000000</td>\n",
       "    </tr>\n",
       "  </tbody>\n",
       "</table>\n",
       "</div>"
      ],
      "text/plain": [
       "          total_trx  pn_SUM_TRX_no_t  pn_SUM_TRX_3t  pn_SUM_TRX_tm  \\\n",
       "count  5.980000e+02     5.980000e+02     598.000000     598.000000   \n",
       "mean   3.050910e+06     2.061060e+06  416586.122074  188869.362876   \n",
       "std    1.655460e+05     2.867322e+05   52153.201410  273384.121941   \n",
       "min    2.051727e+06     1.380106e+06  289598.000000       0.000000   \n",
       "25%    2.976764e+06     1.864621e+06  373921.000000    5241.250000   \n",
       "50%    3.065422e+06     2.142708e+06  429846.000000   35148.500000   \n",
       "75%    3.158914e+06     2.286980e+06  455711.500000  291157.750000   \n",
       "max    3.364692e+06     2.472601e+06  510018.000000  861918.000000   \n",
       "\n",
       "          zp_SUM_TRX  \n",
       "count     598.000000  \n",
       "mean   384394.530100  \n",
       "std     37898.044155  \n",
       "min    212077.000000  \n",
       "25%    364221.000000  \n",
       "50%    381429.500000  \n",
       "75%    400601.000000  \n",
       "max    477827.000000  "
      ]
     },
     "execution_count": 18,
     "metadata": {},
     "output_type": "execute_result"
    }
   ],
   "source": [
    "descriptives_working"
   ]
  },
  {
   "cell_type": "markdown",
   "metadata": {},
   "source": [
    "* Plotting general descriptives"
   ]
  },
  {
   "cell_type": "code",
   "execution_count": 19,
   "metadata": {
    "collapsed": true
   },
   "outputs": [],
   "source": [
    "general_trx_db = complete_db.loc[:,['TOTAL_trx','pn_SUM_TRX_no_t','pn_SUM_TRX_3t','pn_SUM_TRX_tm','zp_SUM_TRX']]\n",
    "general_trx_db.rename(columns={\"TOTAL_trx\": \"Total\", \"pn_SUM_TRX_no_t\": \"S/T\", \"pn_SUM_TRX_3t\":\"T/3B\", \"pn_SUM_TRX_tm\":\"T/M\", \"zp_SUM_TRX\": \"ZP\"}, inplace=True)\n",
    "stacked_general = general_trx_db.stack().to_frame('Transacciones').reset_index().rename(columns={'level_1':'Condición'})"
   ]
  },
  {
   "cell_type": "code",
   "execution_count": 20,
   "metadata": {},
   "outputs": [
    {
     "data": {
      "image/png": "[encoded data removed]",
      "text/plain": [
       "<matplotlib.figure.Figure at 0x1cd9acafa58>"
      ]
     },
     "metadata": {},
     "output_type": "display_data"
    }
   ],
   "source": [
    "sns.set_style(\"whitegrid\")\n",
    "ax = sns.boxplot(x=stacked_general.loc[:,'Condición'], y=stacked_general.loc[:,'Transacciones'])\n",
    "plt.show()"
   ]
  },
  {
   "cell_type": "markdown",
   "metadata": {},
   "source": [
    "* Plotting working-days descriptives"
   ]
  },
  {
   "cell_type": "code",
   "execution_count": 21,
   "metadata": {
    "collapsed": true
   },
   "outputs": [],
   "source": [
    "working_trx_db = working_complete_db.loc[:,['TOTAL_trx','pn_SUM_TRX_no_t','pn_SUM_TRX_3t','pn_SUM_TRX_tm','zp_SUM_TRX']]\n",
    "working_trx_db.rename(columns={\"TOTAL_trx\": \"Total\", \"pn_SUM_TRX_no_t\": \"S/T\", \"pn_SUM_TRX_3t\":\"T/3B\", \"pn_SUM_TRX_tm\":\"T/M\", \"zp_SUM_TRX\": \"ZP\"}, inplace=True)\n",
    "stacked_working = working_trx_db.stack().to_frame('Transacciones').reset_index().rename(columns={'level_1':'Condición'})"
   ]
  },
  {
   "cell_type": "code",
   "execution_count": 22,
   "metadata": {},
   "outputs": [
    {
     "data": {
      "image/png": "[encoded data removed]",
      "text/plain": [
       "<matplotlib.figure.Figure at 0x1cd9ae5f400>"
      ]
     },
     "metadata": {},
     "output_type": "display_data"
    }
   ],
   "source": [
    "sns.set_style(\"whitegrid\")\n",
    "ax = sns.boxplot(x=stacked_working.loc[:,'Condición'], y=stacked_working.loc[:,'Transacciones'])\n",
    "plt.show()"
   ]
  },
  {
   "cell_type": "markdown",
   "metadata": {},
   "source": [
    "* Descriptives of Expediciones: General"
   ]
  },
  {
   "cell_type": "code",
   "execution_count": 23,
   "metadata": {
    "collapsed": true
   },
   "outputs": [],
   "source": [
    "complete_db.loc[:,'total_exp'] = complete_db.loc[:,'pn_SUM_EXP_no_t'] + complete_db.loc[:,'pn_SUM_EXP_3t'] + complete_db.loc[:,'pn_SUM_EXP_tm']"
   ]
  },
  {
   "cell_type": "code",
   "execution_count": 24,
   "metadata": {
    "collapsed": true
   },
   "outputs": [],
   "source": [
    "descriptives = pd.concat([descriptives, complete_db.loc[:,'total_exp'].describe().to_frame()], axis=1, join='inner')"
   ]
  },
  {
   "cell_type": "code",
   "execution_count": 25,
   "metadata": {},
   "outputs": [
    {
     "data": {
      "text/html": [
       "<div>\n",
       "<style>\n",
       "    .dataframe thead tr:only-child th {\n",
       "        text-align: right;\n",
       "    }\n",
       "\n",
       "    .dataframe thead th {\n",
       "        text-align: left;\n",
       "    }\n",
       "\n",
       "    .dataframe tbody tr th {\n",
       "        vertical-align: top;\n",
       "    }\n",
       "</style>\n",
       "<table border=\"1\" class=\"dataframe\">\n",
       "  <thead>\n",
       "    <tr style=\"text-align: right;\">\n",
       "      <th></th>\n",
       "      <th>total_trx</th>\n",
       "      <th>pn_SUM_TRX_no_t</th>\n",
       "      <th>pn_SUM_TRX_3t</th>\n",
       "      <th>pn_SUM_TRX_tm</th>\n",
       "      <th>zp_SUM_TRX</th>\n",
       "      <th>total_exp</th>\n",
       "    </tr>\n",
       "  </thead>\n",
       "  <tbody>\n",
       "    <tr>\n",
       "      <th>count</th>\n",
       "      <td>1.096000e+03</td>\n",
       "      <td>1.096000e+03</td>\n",
       "      <td>1096.000000</td>\n",
       "      <td>1096.000000</td>\n",
       "      <td>1096.000000</td>\n",
       "      <td>1096.000000</td>\n",
       "    </tr>\n",
       "    <tr>\n",
       "      <th>mean</th>\n",
       "      <td>2.416262e+06</td>\n",
       "      <td>1.675027e+06</td>\n",
       "      <td>342207.135036</td>\n",
       "      <td>138388.566606</td>\n",
       "      <td>260639.020073</td>\n",
       "      <td>64168.876825</td>\n",
       "    </tr>\n",
       "    <tr>\n",
       "      <th>std</th>\n",
       "      <td>8.398716e+05</td>\n",
       "      <td>5.751708e+05</td>\n",
       "      <td>109530.562299</td>\n",
       "      <td>229832.148323</td>\n",
       "      <td>164090.711388</td>\n",
       "      <td>10631.302127</td>\n",
       "    </tr>\n",
       "    <tr>\n",
       "      <th>min</th>\n",
       "      <td>4.875170e+05</td>\n",
       "      <td>3.253820e+05</td>\n",
       "      <td>80576.000000</td>\n",
       "      <td>0.000000</td>\n",
       "      <td>3202.000000</td>\n",
       "      <td>33326.000000</td>\n",
       "    </tr>\n",
       "    <tr>\n",
       "      <th>25%</th>\n",
       "      <td>1.669855e+06</td>\n",
       "      <td>1.250662e+06</td>\n",
       "      <td>263248.500000</td>\n",
       "      <td>4255.500000</td>\n",
       "      <td>41215.250000</td>\n",
       "      <td>55906.500000</td>\n",
       "    </tr>\n",
       "    <tr>\n",
       "      <th>50%</th>\n",
       "      <td>2.873835e+06</td>\n",
       "      <td>1.781616e+06</td>\n",
       "      <td>360663.500000</td>\n",
       "      <td>26267.500000</td>\n",
       "      <td>343826.500000</td>\n",
       "      <td>69911.000000</td>\n",
       "    </tr>\n",
       "    <tr>\n",
       "      <th>75%</th>\n",
       "      <td>3.084350e+06</td>\n",
       "      <td>2.177554e+06</td>\n",
       "      <td>435838.000000</td>\n",
       "      <td>150627.000000</td>\n",
       "      <td>384499.250000</td>\n",
       "      <td>72272.000000</td>\n",
       "    </tr>\n",
       "    <tr>\n",
       "      <th>max</th>\n",
       "      <td>3.364692e+06</td>\n",
       "      <td>2.472601e+06</td>\n",
       "      <td>510018.000000</td>\n",
       "      <td>861918.000000</td>\n",
       "      <td>477827.000000</td>\n",
       "      <td>76596.000000</td>\n",
       "    </tr>\n",
       "  </tbody>\n",
       "</table>\n",
       "</div>"
      ],
      "text/plain": [
       "          total_trx  pn_SUM_TRX_no_t  pn_SUM_TRX_3t  pn_SUM_TRX_tm  \\\n",
       "count  1.096000e+03     1.096000e+03    1096.000000    1096.000000   \n",
       "mean   2.416262e+06     1.675027e+06  342207.135036  138388.566606   \n",
       "std    8.398716e+05     5.751708e+05  109530.562299  229832.148323   \n",
       "min    4.875170e+05     3.253820e+05   80576.000000       0.000000   \n",
       "25%    1.669855e+06     1.250662e+06  263248.500000    4255.500000   \n",
       "50%    2.873835e+06     1.781616e+06  360663.500000   26267.500000   \n",
       "75%    3.084350e+06     2.177554e+06  435838.000000  150627.000000   \n",
       "max    3.364692e+06     2.472601e+06  510018.000000  861918.000000   \n",
       "\n",
       "          zp_SUM_TRX     total_exp  \n",
       "count    1096.000000   1096.000000  \n",
       "mean   260639.020073  64168.876825  \n",
       "std    164090.711388  10631.302127  \n",
       "min      3202.000000  33326.000000  \n",
       "25%     41215.250000  55906.500000  \n",
       "50%    343826.500000  69911.000000  \n",
       "75%    384499.250000  72272.000000  \n",
       "max    477827.000000  76596.000000  "
      ]
     },
     "execution_count": 25,
     "metadata": {},
     "output_type": "execute_result"
    }
   ],
   "source": [
    "descriptives"
   ]
  },
  {
   "cell_type": "markdown",
   "metadata": {},
   "source": [
    "* Descriptives of Expediciones: Working"
   ]
  },
  {
   "cell_type": "code",
   "execution_count": 26,
   "metadata": {},
   "outputs": [
    {
     "name": "stderr",
     "output_type": "stream",
     "text": [
      "C:\\Users\\leoca_000\\Anaconda3\\lib\\site-packages\\pandas\\core\\indexing.py:337: SettingWithCopyWarning: \n",
      "A value is trying to be set on a copy of a slice from a DataFrame.\n",
      "Try using .loc[row_indexer,col_indexer] = value instead\n",
      "\n",
      "See the caveats in the documentation: http://pandas.pydata.org/pandas-docs/stable/indexing.html#indexing-view-versus-copy\n",
      "  self.obj[key] = _infer_fill_value(value)\n",
      "C:\\Users\\leoca_000\\Anaconda3\\lib\\site-packages\\pandas\\core\\indexing.py:517: SettingWithCopyWarning: \n",
      "A value is trying to be set on a copy of a slice from a DataFrame.\n",
      "Try using .loc[row_indexer,col_indexer] = value instead\n",
      "\n",
      "See the caveats in the documentation: http://pandas.pydata.org/pandas-docs/stable/indexing.html#indexing-view-versus-copy\n",
      "  self.obj[item] = s\n"
     ]
    }
   ],
   "source": [
    "working_complete_db.loc[:,'total_exp'] = working_complete_db.loc[:,'pn_SUM_EXP_no_t'] + working_complete_db.loc[:,'pn_SUM_EXP_3t'] + working_complete_db.loc[:,'pn_SUM_EXP_tm']"
   ]
  },
  {
   "cell_type": "code",
   "execution_count": 27,
   "metadata": {
    "collapsed": true
   },
   "outputs": [],
   "source": [
    "descriptives_working = pd.concat([descriptives_working, working_complete_db.loc[:,'total_exp'].describe().to_frame()], axis=1, join='inner')"
   ]
  },
  {
   "cell_type": "code",
   "execution_count": 28,
   "metadata": {},
   "outputs": [
    {
     "data": {
      "text/html": [
       "<div>\n",
       "<style>\n",
       "    .dataframe thead tr:only-child th {\n",
       "        text-align: right;\n",
       "    }\n",
       "\n",
       "    .dataframe thead th {\n",
       "        text-align: left;\n",
       "    }\n",
       "\n",
       "    .dataframe tbody tr th {\n",
       "        vertical-align: top;\n",
       "    }\n",
       "</style>\n",
       "<table border=\"1\" class=\"dataframe\">\n",
       "  <thead>\n",
       "    <tr style=\"text-align: right;\">\n",
       "      <th></th>\n",
       "      <th>total_trx</th>\n",
       "      <th>pn_SUM_TRX_no_t</th>\n",
       "      <th>pn_SUM_TRX_3t</th>\n",
       "      <th>pn_SUM_TRX_tm</th>\n",
       "      <th>zp_SUM_TRX</th>\n",
       "      <th>total_exp</th>\n",
       "    </tr>\n",
       "  </thead>\n",
       "  <tbody>\n",
       "    <tr>\n",
       "      <th>count</th>\n",
       "      <td>5.980000e+02</td>\n",
       "      <td>5.980000e+02</td>\n",
       "      <td>598.000000</td>\n",
       "      <td>598.000000</td>\n",
       "      <td>598.000000</td>\n",
       "      <td>598.000000</td>\n",
       "    </tr>\n",
       "    <tr>\n",
       "      <th>mean</th>\n",
       "      <td>3.050910e+06</td>\n",
       "      <td>2.061060e+06</td>\n",
       "      <td>416586.122074</td>\n",
       "      <td>188869.362876</td>\n",
       "      <td>384394.530100</td>\n",
       "      <td>72048.812709</td>\n",
       "    </tr>\n",
       "    <tr>\n",
       "      <th>std</th>\n",
       "      <td>1.655460e+05</td>\n",
       "      <td>2.867322e+05</td>\n",
       "      <td>52153.201410</td>\n",
       "      <td>273384.121941</td>\n",
       "      <td>37898.044155</td>\n",
       "      <td>1946.047952</td>\n",
       "    </tr>\n",
       "    <tr>\n",
       "      <th>min</th>\n",
       "      <td>2.051727e+06</td>\n",
       "      <td>1.380106e+06</td>\n",
       "      <td>289598.000000</td>\n",
       "      <td>0.000000</td>\n",
       "      <td>212077.000000</td>\n",
       "      <td>63410.000000</td>\n",
       "    </tr>\n",
       "    <tr>\n",
       "      <th>25%</th>\n",
       "      <td>2.976764e+06</td>\n",
       "      <td>1.864621e+06</td>\n",
       "      <td>373921.000000</td>\n",
       "      <td>5241.250000</td>\n",
       "      <td>364221.000000</td>\n",
       "      <td>70993.000000</td>\n",
       "    </tr>\n",
       "    <tr>\n",
       "      <th>50%</th>\n",
       "      <td>3.065422e+06</td>\n",
       "      <td>2.142708e+06</td>\n",
       "      <td>429846.000000</td>\n",
       "      <td>35148.500000</td>\n",
       "      <td>381429.500000</td>\n",
       "      <td>72072.000000</td>\n",
       "    </tr>\n",
       "    <tr>\n",
       "      <th>75%</th>\n",
       "      <td>3.158914e+06</td>\n",
       "      <td>2.286980e+06</td>\n",
       "      <td>455711.500000</td>\n",
       "      <td>291157.750000</td>\n",
       "      <td>400601.000000</td>\n",
       "      <td>73464.750000</td>\n",
       "    </tr>\n",
       "    <tr>\n",
       "      <th>max</th>\n",
       "      <td>3.364692e+06</td>\n",
       "      <td>2.472601e+06</td>\n",
       "      <td>510018.000000</td>\n",
       "      <td>861918.000000</td>\n",
       "      <td>477827.000000</td>\n",
       "      <td>76596.000000</td>\n",
       "    </tr>\n",
       "  </tbody>\n",
       "</table>\n",
       "</div>"
      ],
      "text/plain": [
       "          total_trx  pn_SUM_TRX_no_t  pn_SUM_TRX_3t  pn_SUM_TRX_tm  \\\n",
       "count  5.980000e+02     5.980000e+02     598.000000     598.000000   \n",
       "mean   3.050910e+06     2.061060e+06  416586.122074  188869.362876   \n",
       "std    1.655460e+05     2.867322e+05   52153.201410  273384.121941   \n",
       "min    2.051727e+06     1.380106e+06  289598.000000       0.000000   \n",
       "25%    2.976764e+06     1.864621e+06  373921.000000    5241.250000   \n",
       "50%    3.065422e+06     2.142708e+06  429846.000000   35148.500000   \n",
       "75%    3.158914e+06     2.286980e+06  455711.500000  291157.750000   \n",
       "max    3.364692e+06     2.472601e+06  510018.000000  861918.000000   \n",
       "\n",
       "          zp_SUM_TRX     total_exp  \n",
       "count     598.000000    598.000000  \n",
       "mean   384394.530100  72048.812709  \n",
       "std     37898.044155   1946.047952  \n",
       "min    212077.000000  63410.000000  \n",
       "25%    364221.000000  70993.000000  \n",
       "50%    381429.500000  72072.000000  \n",
       "75%    400601.000000  73464.750000  \n",
       "max    477827.000000  76596.000000  "
      ]
     },
     "execution_count": 28,
     "metadata": {},
     "output_type": "execute_result"
    }
   ],
   "source": [
    "descriptives_working"
   ]
  },
  {
   "cell_type": "code",
   "execution_count": null,
   "metadata": {
    "collapsed": true
   },
   "outputs": [],
   "source": [
    "trace1 = go.Scatter(x=working_complete_db.loc[:,'DATE'], y=working_complete_db.loc[:,'total_exp'], name='Expediciones', marker=dict(color='rgb(76, 181, 245)'),opacity=1)\n",
    "data = [trace1]\n",
    "layout = go.Layout(title='Expediciones diarias',  yaxis=dict(title='Expediciones'))\n",
    "\n",
    "fig = go.Figure(data=data, layout=layout)\n",
    "plotly.offline.plot(fig, filename='expediciones_working.html')"
   ]
  }
 ],
 "metadata": {
  "kernelspec": {
   "display_name": "Python 3",
   "language": "python",
   "name": "python3"
  },
  "language_info": {
   "codemirror_mode": {
    "name": "ipython",
    "version": 3
   },
   "file_extension": ".py",
   "mimetype": "text/x-python",
   "name": "python",
   "nbconvert_exporter": "python",
   "pygments_lexer": "ipython3",
   "version": "3.5.2+"
  }
 },
 "nbformat": 4,
 "nbformat_minor": 2
}
