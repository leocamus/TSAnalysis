{
 "cells": [
  {
   "cell_type": "markdown",
   "metadata": {},
   "source": [
    "# Printing grouped trx to files"
   ]
  },
  {
   "cell_type": "code",
   "execution_count": 1,
   "metadata": {
    "collapsed": true
   },
   "outputs": [],
   "source": [
    "import os\n",
    "import sys\n",
    "module_path = os.path.abspath(os.path.join('..'))\n",
    "if module_path not in sys.path:\n",
    "    sys.path.append(module_path)"
   ]
  },
  {
   "cell_type": "code",
   "execution_count": 2,
   "metadata": {},
   "outputs": [
    {
     "data": {
      "text/html": [
       "<style>.container { width:80% !important; }</style>"
      ],
      "text/plain": [
       "<IPython.core.display.HTML object>"
      ]
     },
     "metadata": {},
     "output_type": "display_data"
    }
   ],
   "source": [
    "%matplotlib inline\n",
    "#%matplotlib qt5\n",
    "from IPython.core.display import display, HTML\n",
    "display(HTML(\"<style>.container { width:80% !important; }</style>\"))\n",
    "\n",
    "import pandas as pd\n",
    "import matplotlib\n",
    "import matplotlib.pyplot as plt\n",
    "import matplotlib.dates as mdates\n",
    "import numpy as np\n",
    "import datetime as dt\n",
    "import time"
   ]
  },
  {
   "cell_type": "code",
   "execution_count": 3,
   "metadata": {
    "collapsed": true
   },
   "outputs": [],
   "source": [
    "from Utils import TransantiagoConstants"
   ]
  },
  {
   "cell_type": "code",
   "execution_count": 4,
   "metadata": {
    "collapsed": true
   },
   "outputs": [],
   "source": [
    "DTPMDir = TransantiagoConstants.DTPMDir\n",
    "DTPM_TRXDir = TransantiagoConstants.DTPM_TRXDir"
   ]
  },
  {
   "cell_type": "code",
   "execution_count": 5,
   "metadata": {
    "collapsed": true
   },
   "outputs": [],
   "source": [
    "from Utils import ReadTurnstilesDataBase\n",
    "[ana_turnstiles_df, mauricio_turnstiles_df] = ReadTurnstilesDataBase.readTurnstileData()\n",
    "ana_turnstiles_df = ReadTurnstilesDataBase.processAnaTurnstiles(ana_turnstiles_df)"
   ]
  },
  {
   "cell_type": "code",
   "execution_count": 6,
   "metadata": {
    "collapsed": true
   },
   "outputs": [],
   "source": [
    "import groupingSONDAData"
   ]
  },
  {
   "cell_type": "markdown",
   "metadata": {},
   "source": [
    "* Grouping pn and zp by month"
   ]
  },
  {
   "cell_type": "code",
   "execution_count": 7,
   "metadata": {
    "collapsed": true
   },
   "outputs": [],
   "source": [
    "pn_output_path = os.path.join(DTPM_TRXDir,'1_MONTHLY/monthly_pn.csv')\n",
    "zp_output_path = os.path.join(DTPM_TRXDir,'1_MONTHLY/monthly_zp.csv')"
   ]
  },
  {
   "cell_type": "code",
   "execution_count": 8,
   "metadata": {},
   "outputs": [
    {
     "name": "stdout",
     "output_type": "stream",
     "text": [
      "Year 2015 is being analyzed...\n",
      "Number of observations before merge info. of turnstile is: 7787251\n",
      "Number of observations after merge info. of turnstile is: 7787251\n"
     ]
    },
    {
     "name": "stderr",
     "output_type": "stream",
     "text": [
      "C:\\Users\\leoca_000\\Anaconda3\\lib\\site-packages\\pandas\\core\\groupby.py:3961: FutureWarning: using a dict with renaming is deprecated and will be removed in a future version\n",
      "  return super(DataFrameGroupBy, self).aggregate(arg, *args, **kwargs)\n"
     ]
    },
    {
     "name": "stdout",
     "output_type": "stream",
     "text": [
      "Year 2016 is being analyzed...\n",
      "Number of observations before merge info. of turnstile is: 8034722\n",
      "Number of observations after merge info. of turnstile is: 8034722\n",
      "Year 2017 is being analyzed...\n",
      "Number of observations before merge info. of turnstile is: 7963925\n",
      "Number of observations after merge info. of turnstile is: 7963925\n",
      "Year 2015 is being analyzed...\n",
      "Number of observations is: 592589\n",
      "Year 2016 is being analyzed...\n",
      "Number of observations is: 591218\n",
      "Year 2017 is being analyzed...\n",
      "Number of observations is: 755171\n"
     ]
    }
   ],
   "source": [
    "final_pn_grouped_data = groupingSONDAData.grouping_pn_data('by month', ana_turnstiles_df, mauricio_turnstiles_df)\n",
    "final_zp_grouped_data = groupingSONDAData.grouping_zp_data('by month')\n",
    "\n",
    "final_pn_grouped_data.reset_index(inplace=True)\n",
    "final_pn_grouped_data.to_csv(pn_output_path,sep=';',encoding='latin-1')\n",
    "\n",
    "final_zp_grouped_data.reset_index(inplace=True)\n",
    "final_zp_grouped_data.to_csv(zp_output_path,sep=';',encoding='latin-1')"
   ]
  },
  {
   "cell_type": "markdown",
   "metadata": {},
   "source": [
    "* Grouping pn and zp by month by un"
   ]
  },
  {
   "cell_type": "code",
   "execution_count": 9,
   "metadata": {
    "collapsed": true
   },
   "outputs": [],
   "source": [
    "pn_output_path = os.path.join(DTPM_TRXDir,'2_MONTHLY_UN/monthly_un_pn.csv')\n",
    "zp_output_path = os.path.join(DTPM_TRXDir,'2_MONTHLY_UN/monthly_un_zp.csv')"
   ]
  },
  {
   "cell_type": "code",
   "execution_count": 10,
   "metadata": {},
   "outputs": [
    {
     "name": "stdout",
     "output_type": "stream",
     "text": [
      "Year 2015 is being analyzed...\n",
      "Number of observations before merge info. of turnstile is: 7787251\n",
      "Number of observations after merge info. of turnstile is: 7787251\n"
     ]
    },
    {
     "name": "stderr",
     "output_type": "stream",
     "text": [
      "C:\\Users\\leoca_000\\Anaconda3\\lib\\site-packages\\pandas\\core\\groupby.py:3961: FutureWarning: using a dict with renaming is deprecated and will be removed in a future version\n",
      "  return super(DataFrameGroupBy, self).aggregate(arg, *args, **kwargs)\n"
     ]
    },
    {
     "name": "stdout",
     "output_type": "stream",
     "text": [
      "Year 2016 is being analyzed...\n",
      "Number of observations before merge info. of turnstile is: 8034722\n",
      "Number of observations after merge info. of turnstile is: 8034722\n",
      "Year 2017 is being analyzed...\n",
      "Number of observations before merge info. of turnstile is: 7963925\n",
      "Number of observations after merge info. of turnstile is: 7963925\n",
      "Year 2015 is being analyzed...\n",
      "Number of observations is: 592589\n",
      "Year 2016 is being analyzed...\n",
      "Number of observations is: 591218\n",
      "Year 2017 is being analyzed...\n",
      "Number of observations is: 755171\n"
     ]
    }
   ],
   "source": [
    "final_pn_grouped_data = groupingSONDAData.grouping_pn_data('by month by un', ana_turnstiles_df, mauricio_turnstiles_df)\n",
    "final_zp_grouped_data = groupingSONDAData.grouping_zp_data('by month by un')\n",
    "\n",
    "final_pn_grouped_data.reset_index(inplace=True)\n",
    "final_pn_grouped_data.to_csv(pn_output_path,sep=';',encoding='latin-1')\n",
    "\n",
    "final_zp_grouped_data.reset_index(inplace=True)\n",
    "final_zp_grouped_data.to_csv(zp_output_path,sep=';',encoding='latin-1')"
   ]
  },
  {
   "cell_type": "markdown",
   "metadata": {},
   "source": [
    "* Grouping pn and zp by day"
   ]
  },
  {
   "cell_type": "code",
   "execution_count": 11,
   "metadata": {
    "collapsed": true
   },
   "outputs": [],
   "source": [
    "pn_output_path = os.path.join(DTPM_TRXDir,'3_DAILY/daily_pn.csv')\n",
    "zp_output_path = os.path.join(DTPM_TRXDir,'3_DAILY/daily_zp.csv')"
   ]
  },
  {
   "cell_type": "code",
   "execution_count": 12,
   "metadata": {},
   "outputs": [
    {
     "name": "stdout",
     "output_type": "stream",
     "text": [
      "Year 2015 is being analyzed...\n",
      "Number of observations before merge info. of turnstile is: 7787251\n",
      "Number of observations after merge info. of turnstile is: 7787251\n"
     ]
    },
    {
     "name": "stderr",
     "output_type": "stream",
     "text": [
      "C:\\Users\\leoca_000\\Anaconda3\\lib\\site-packages\\pandas\\core\\groupby.py:3961: FutureWarning: using a dict with renaming is deprecated and will be removed in a future version\n",
      "  return super(DataFrameGroupBy, self).aggregate(arg, *args, **kwargs)\n"
     ]
    },
    {
     "name": "stdout",
     "output_type": "stream",
     "text": [
      "Year 2016 is being analyzed...\n",
      "Number of observations before merge info. of turnstile is: 8034722\n",
      "Number of observations after merge info. of turnstile is: 8034722\n",
      "Year 2017 is being analyzed...\n",
      "Number of observations before merge info. of turnstile is: 7963925\n",
      "Number of observations after merge info. of turnstile is: 7963925\n",
      "Year 2015 is being analyzed...\n",
      "Number of observations is: 592589\n",
      "Year 2016 is being analyzed...\n",
      "Number of observations is: 591218\n",
      "Year 2017 is being analyzed...\n",
      "Number of observations is: 755171\n"
     ]
    }
   ],
   "source": [
    "final_pn_grouped_data = groupingSONDAData.grouping_pn_data('by day', ana_turnstiles_df, mauricio_turnstiles_df)\n",
    "final_zp_grouped_data = groupingSONDAData.grouping_zp_data('by day')\n",
    "\n",
    "final_pn_grouped_data.reset_index(inplace=True)\n",
    "final_pn_grouped_data.to_csv(pn_output_path,sep=';',encoding='latin-1')\n",
    "\n",
    "final_zp_grouped_data.reset_index(inplace=True)\n",
    "final_zp_grouped_data.to_csv(zp_output_path,sep=';',encoding='latin-1')"
   ]
  },
  {
   "cell_type": "markdown",
   "metadata": {},
   "source": [
    "* Grouping pn and zp by day by un"
   ]
  },
  {
   "cell_type": "code",
   "execution_count": 13,
   "metadata": {
    "collapsed": true
   },
   "outputs": [],
   "source": [
    "pn_output_path = os.path.join(DTPM_TRXDir,'4_DAILY_UN/daily_un_pn.csv')\n",
    "zp_output_path = os.path.join(DTPM_TRXDir,'4_DAILY_UN/daily_un_zp.csv')"
   ]
  },
  {
   "cell_type": "code",
   "execution_count": 14,
   "metadata": {},
   "outputs": [
    {
     "name": "stdout",
     "output_type": "stream",
     "text": [
      "Year 2015 is being analyzed...\n",
      "Number of observations before merge info. of turnstile is: 7787251\n",
      "Number of observations after merge info. of turnstile is: 7787251\n"
     ]
    },
    {
     "name": "stderr",
     "output_type": "stream",
     "text": [
      "C:\\Users\\leoca_000\\Anaconda3\\lib\\site-packages\\pandas\\core\\groupby.py:3961: FutureWarning: using a dict with renaming is deprecated and will be removed in a future version\n",
      "  return super(DataFrameGroupBy, self).aggregate(arg, *args, **kwargs)\n"
     ]
    },
    {
     "name": "stdout",
     "output_type": "stream",
     "text": [
      "Year 2016 is being analyzed...\n",
      "Number of observations before merge info. of turnstile is: 8034722\n",
      "Number of observations after merge info. of turnstile is: 8034722\n",
      "Year 2017 is being analyzed...\n",
      "Number of observations before merge info. of turnstile is: 7963925\n",
      "Number of observations after merge info. of turnstile is: 7963925\n",
      "Year 2015 is being analyzed...\n",
      "Number of observations is: 592589\n",
      "Year 2016 is being analyzed...\n",
      "Number of observations is: 591218\n",
      "Year 2017 is being analyzed...\n",
      "Number of observations is: 755171\n"
     ]
    }
   ],
   "source": [
    "final_pn_grouped_data = groupingSONDAData.grouping_pn_data('by day by un', ana_turnstiles_df, mauricio_turnstiles_df)\n",
    "final_zp_grouped_data = groupingSONDAData.grouping_zp_data('by day by un')\n",
    "\n",
    "final_pn_grouped_data.reset_index(inplace=True)\n",
    "final_pn_grouped_data.to_csv(pn_output_path,sep=';',encoding='latin-1')\n",
    "\n",
    "final_zp_grouped_data.reset_index(inplace=True)\n",
    "final_zp_grouped_data.to_csv(zp_output_path,sep=';',encoding='latin-1')"
   ]
  },
  {
   "cell_type": "markdown",
   "metadata": {},
   "source": [
    "## FINAL CLOSE"
   ]
  }
 ],
 "metadata": {
  "kernelspec": {
   "display_name": "Python 3",
   "language": "python",
   "name": "python3"
  },
  "language_info": {
   "codemirror_mode": {
    "name": "ipython",
    "version": 3
   },
   "file_extension": ".py",
   "mimetype": "text/x-python",
   "name": "python",
   "nbconvert_exporter": "python",
   "pygments_lexer": "ipython3",
   "version": "3.5.2+"
  }
 },
 "nbformat": 4,
 "nbformat_minor": 2
}
