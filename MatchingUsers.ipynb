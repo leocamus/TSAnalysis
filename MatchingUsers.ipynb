{
 "cells": [
  {
   "cell_type": "markdown",
   "metadata": {},
   "source": [
    "#  Matching Users"
   ]
  },
  {
   "cell_type": "code",
   "execution_count": 1,
   "metadata": {
    "scrolled": true
   },
   "outputs": [
    {
     "data": {
      "text/html": [
       "<style>.container { width:80% !important; }</style>"
      ],
      "text/plain": [
       "<IPython.core.display.HTML object>"
      ]
     },
     "metadata": {},
     "output_type": "display_data"
    }
   ],
   "source": [
    "%matplotlib inline\n",
    "import pandas as pd\n",
    "import matplotlib\n",
    "import matplotlib.pyplot as plt\n",
    "import numpy as np\n",
    "from importlib import reload\n",
    "import datetime as dt\n",
    "from IPython.core.display import display, HTML\n",
    "display(HTML(\"<style>.container { width:80% !important; }</style>\"))"
   ]
  },
  {
   "cell_type": "code",
   "execution_count": 2,
   "metadata": {
    "collapsed": true,
    "scrolled": true
   },
   "outputs": [],
   "source": [
    "from Utils import TransantiagoConstants"
   ]
  },
  {
   "cell_type": "code",
   "execution_count": 3,
   "metadata": {
    "collapsed": true,
    "scrolled": true
   },
   "outputs": [],
   "source": [
    "first_quarter_path = \"C:/Users/leoca_000/Desktop/Evasion/01_analisis/03_datos/06_RFA/01_EvasionTrimestral/01_analisis/1st_quarter.xlsx\"\n",
    "second_quarter_path = \"C:/Users/leoca_000/Desktop/Evasion/01_analisis/03_datos/06_RFA/01_EvasionTrimestral/01_analisis/2nd_quarter.xlsx\"\n",
    "third_quarter_path = \"C:/Users/leoca_000/Desktop/Evasion/01_analisis/03_datos/06_RFA/01_EvasionTrimestral/01_analisis/3rd_quarter.xlsx\"\n",
    "codes_path = \"C:/Users/leoca_000/Desktop/Evasion/01_analisis/03_datos/04_DTPM/codes_services.xlsx\""
   ]
  },
  {
   "cell_type": "code",
   "execution_count": 4,
   "metadata": {
    "collapsed": true,
    "scrolled": true
   },
   "outputs": [],
   "source": [
    "first_quarter_evasion = pd.read_excel(first_quarter_path, encoding = 'latin-1')\n",
    "second_quarter_evasion = pd.read_excel(second_quarter_path, encoding = 'latin-1')\n",
    "third_quarter_evasion = pd.read_excel(third_quarter_path, encoding = 'latin-1')\n",
    "codes = pd.read_excel(codes_path, encoding = 'latin-1')"
   ]
  },
  {
   "cell_type": "code",
   "execution_count": 5,
   "metadata": {
    "collapsed": true
   },
   "outputs": [],
   "source": [
    "first_quarter_evasion['TIEMPO'] = first_quarter_evasion['HORA'].astype(str)+':'+first_quarter_evasion['MINUTOS'].astype(str)+':00'\n",
    "second_quarter_evasion['TIEMPO'] = second_quarter_evasion['HORA'].astype(str)+':'+second_quarter_evasion['MINUTOS'].astype(str)+':00'\n",
    "third_quarter_evasion['TIEMPO'] = third_quarter_evasion['HORA'].astype(str)+':'+third_quarter_evasion['MINUTOS'].astype(str)+':00'"
   ]
  },
  {
   "cell_type": "code",
   "execution_count": 6,
   "metadata": {
    "collapsed": true,
    "scrolled": true
   },
   "outputs": [],
   "source": [
    "first_quarter_evasion.columns = ['FECHA', 'SERVICIO','PATENTE','PUERTAS','N_PUERTA','LUGAR_INICIO','HORA_INICIO','HORA','MINUTO','INGRESAN','NO_VALIDAN','TP','TIEMPO']\n",
    "second_quarter_evasion.columns = ['FECHA', 'SERVICIO','TIPO','PATENTE','PUERTAS','N_PUERTA','LUGAR_INICIO','HORA_INICIO','HORA','MINUTO','INGRESAN','NO_VALIDAN','TP','TIEMPO']\n",
    "third_quarter_evasion.columns = ['FECHA', 'SERVICIO','PATENTE','PUERTAS','N_PUERTA','LUGAR_INICIO','HORA_INICIO','HORA','MINUTO','INGRESAN','NO_VALIDAN','TP','TIEMPO']\n",
    "del second_quarter_evasion['TIPO']"
   ]
  },
  {
   "cell_type": "code",
   "execution_count": 7,
   "metadata": {},
   "outputs": [],
   "source": [
    "codes_ida = codes[codes['DIRECTION']=='Ida']\n",
    "codes_ret = codes[codes['DIRECTION']=='Ret']"
   ]
  },
  {
   "cell_type": "code",
   "execution_count": 8,
   "metadata": {},
   "outputs": [
    {
     "data": {
      "text/plain": [
       "397"
      ]
     },
     "execution_count": 8,
     "metadata": {},
     "output_type": "execute_result"
    }
   ],
   "source": [
    "len(codes_ida.index)"
   ]
  },
  {
   "cell_type": "code",
   "execution_count": 9,
   "metadata": {},
   "outputs": [
    {
     "data": {
      "text/plain": [
       "397"
      ]
     },
     "execution_count": 9,
     "metadata": {},
     "output_type": "execute_result"
    }
   ],
   "source": [
    "len(codes_ret.index)"
   ]
  },
  {
   "cell_type": "code",
   "execution_count": 18,
   "metadata": {
    "collapsed": true
   },
   "outputs": [],
   "source": [
    "codes_ida = codes_ida.rename(columns = {'USER_CODE':'SERVICIO'})\n",
    "del codes_ida['DIRECTION']"
   ]
  },
  {
   "cell_type": "code",
   "execution_count": 10,
   "metadata": {
    "scrolled": true
   },
   "outputs": [
    {
     "data": {
      "text/plain": [
       "str"
      ]
     },
     "execution_count": 10,
     "metadata": {},
     "output_type": "execute_result"
    }
   ],
   "source": [
    "type(first_quarter_evasion.loc[0,'TIEMPO'])"
   ]
  },
  {
   "cell_type": "code",
   "execution_count": 11,
   "metadata": {},
   "outputs": [
    {
     "data": {
      "text/plain": [
       "pandas._libs.tslib.Timestamp"
      ]
     },
     "execution_count": 11,
     "metadata": {},
     "output_type": "execute_result"
    }
   ],
   "source": [
    "type(first_quarter_evasion.loc[0,'FECHA'])"
   ]
  },
  {
   "cell_type": "code",
   "execution_count": 12,
   "metadata": {},
   "outputs": [
    {
     "data": {
      "text/html": [
       "<div>\n",
       "<style>\n",
       "    .dataframe thead tr:only-child th {\n",
       "        text-align: right;\n",
       "    }\n",
       "\n",
       "    .dataframe thead th {\n",
       "        text-align: left;\n",
       "    }\n",
       "\n",
       "    .dataframe tbody tr th {\n",
       "        vertical-align: top;\n",
       "    }\n",
       "</style>\n",
       "<table border=\"1\" class=\"dataframe\">\n",
       "  <thead>\n",
       "    <tr style=\"text-align: right;\">\n",
       "      <th></th>\n",
       "      <th>FECHA</th>\n",
       "      <th>SERVICIO</th>\n",
       "      <th>PATENTE</th>\n",
       "      <th>PUERTAS</th>\n",
       "      <th>N_PUERTA</th>\n",
       "      <th>LUGAR_INICIO</th>\n",
       "      <th>HORA_INICIO</th>\n",
       "      <th>HORA</th>\n",
       "      <th>MINUTO</th>\n",
       "      <th>INGRESAN</th>\n",
       "      <th>NO_VALIDAN</th>\n",
       "      <th>TP</th>\n",
       "      <th>TIEMPO</th>\n",
       "    </tr>\n",
       "  </thead>\n",
       "  <tbody>\n",
       "    <tr>\n",
       "      <th>6193</th>\n",
       "      <td>2017-04-11</td>\n",
       "      <td>507</td>\n",
       "      <td>BJFB62</td>\n",
       "      <td>3</td>\n",
       "      <td>1</td>\n",
       "      <td>CORREDOR GRECIA / DIAG LAS TORRES</td>\n",
       "      <td>15:10:00</td>\n",
       "      <td>15</td>\n",
       "      <td>10</td>\n",
       "      <td>5</td>\n",
       "      <td>0</td>\n",
       "      <td>P</td>\n",
       "      <td>15:10:00</td>\n",
       "    </tr>\n",
       "    <tr>\n",
       "      <th>6194</th>\n",
       "      <td>2017-04-11</td>\n",
       "      <td>507</td>\n",
       "      <td>BJFB62</td>\n",
       "      <td>3</td>\n",
       "      <td>1</td>\n",
       "      <td>CORREDOR GRECIA / DIAG LAS TORRES</td>\n",
       "      <td>15:10:00</td>\n",
       "      <td>15</td>\n",
       "      <td>12</td>\n",
       "      <td>0</td>\n",
       "      <td>0</td>\n",
       "      <td>P</td>\n",
       "      <td>15:12:00</td>\n",
       "    </tr>\n",
       "    <tr>\n",
       "      <th>6195</th>\n",
       "      <td>2017-04-11</td>\n",
       "      <td>507</td>\n",
       "      <td>BJFB62</td>\n",
       "      <td>3</td>\n",
       "      <td>1</td>\n",
       "      <td>CORREDOR GRECIA / DIAG LAS TORRES</td>\n",
       "      <td>15:10:00</td>\n",
       "      <td>15</td>\n",
       "      <td>16</td>\n",
       "      <td>2</td>\n",
       "      <td>1</td>\n",
       "      <td>P</td>\n",
       "      <td>15:16:00</td>\n",
       "    </tr>\n",
       "    <tr>\n",
       "      <th>6196</th>\n",
       "      <td>2017-04-11</td>\n",
       "      <td>507</td>\n",
       "      <td>BJFB62</td>\n",
       "      <td>3</td>\n",
       "      <td>1</td>\n",
       "      <td>CORREDOR GRECIA / DIAG LAS TORRES</td>\n",
       "      <td>15:10:00</td>\n",
       "      <td>15</td>\n",
       "      <td>18</td>\n",
       "      <td>2</td>\n",
       "      <td>1</td>\n",
       "      <td>P</td>\n",
       "      <td>15:18:00</td>\n",
       "    </tr>\n",
       "    <tr>\n",
       "      <th>6197</th>\n",
       "      <td>2017-04-11</td>\n",
       "      <td>507</td>\n",
       "      <td>BJFB62</td>\n",
       "      <td>3</td>\n",
       "      <td>1</td>\n",
       "      <td>CORREDOR GRECIA / DIAG LAS TORRES</td>\n",
       "      <td>15:10:00</td>\n",
       "      <td>15</td>\n",
       "      <td>19</td>\n",
       "      <td>5</td>\n",
       "      <td>4</td>\n",
       "      <td>P</td>\n",
       "      <td>15:19:00</td>\n",
       "    </tr>\n",
       "    <tr>\n",
       "      <th>6198</th>\n",
       "      <td>2017-04-11</td>\n",
       "      <td>507</td>\n",
       "      <td>BJFB62</td>\n",
       "      <td>3</td>\n",
       "      <td>1</td>\n",
       "      <td>CORREDOR GRECIA / DIAG LAS TORRES</td>\n",
       "      <td>15:10:00</td>\n",
       "      <td>15</td>\n",
       "      <td>21</td>\n",
       "      <td>2</td>\n",
       "      <td>2</td>\n",
       "      <td>P</td>\n",
       "      <td>15:21:00</td>\n",
       "    </tr>\n",
       "    <tr>\n",
       "      <th>6199</th>\n",
       "      <td>2017-04-11</td>\n",
       "      <td>507</td>\n",
       "      <td>BJFB62</td>\n",
       "      <td>3</td>\n",
       "      <td>1</td>\n",
       "      <td>CORREDOR GRECIA / DIAG LAS TORRES</td>\n",
       "      <td>15:10:00</td>\n",
       "      <td>15</td>\n",
       "      <td>23</td>\n",
       "      <td>8</td>\n",
       "      <td>0</td>\n",
       "      <td>P</td>\n",
       "      <td>15:23:00</td>\n",
       "    </tr>\n",
       "    <tr>\n",
       "      <th>6200</th>\n",
       "      <td>2017-04-11</td>\n",
       "      <td>507</td>\n",
       "      <td>BJFB62</td>\n",
       "      <td>3</td>\n",
       "      <td>1</td>\n",
       "      <td>CORREDOR GRECIA / DIAG LAS TORRES</td>\n",
       "      <td>15:10:00</td>\n",
       "      <td>15</td>\n",
       "      <td>27</td>\n",
       "      <td>3</td>\n",
       "      <td>1</td>\n",
       "      <td>P</td>\n",
       "      <td>15:27:00</td>\n",
       "    </tr>\n",
       "    <tr>\n",
       "      <th>6201</th>\n",
       "      <td>2017-04-11</td>\n",
       "      <td>507</td>\n",
       "      <td>BJFB62</td>\n",
       "      <td>3</td>\n",
       "      <td>1</td>\n",
       "      <td>CORREDOR GRECIA / DIAG LAS TORRES</td>\n",
       "      <td>15:10:00</td>\n",
       "      <td>15</td>\n",
       "      <td>29</td>\n",
       "      <td>2</td>\n",
       "      <td>1</td>\n",
       "      <td>P</td>\n",
       "      <td>15:29:00</td>\n",
       "    </tr>\n",
       "    <tr>\n",
       "      <th>6202</th>\n",
       "      <td>2017-04-11</td>\n",
       "      <td>507</td>\n",
       "      <td>BJFB62</td>\n",
       "      <td>3</td>\n",
       "      <td>1</td>\n",
       "      <td>CORREDOR GRECIA / DIAG LAS TORRES</td>\n",
       "      <td>15:10:00</td>\n",
       "      <td>15</td>\n",
       "      <td>32</td>\n",
       "      <td>7</td>\n",
       "      <td>3</td>\n",
       "      <td>P</td>\n",
       "      <td>15:32:00</td>\n",
       "    </tr>\n",
       "  </tbody>\n",
       "</table>\n",
       "</div>"
      ],
      "text/plain": [
       "          FECHA SERVICIO PATENTE  PUERTAS  N_PUERTA  \\\n",
       "6193 2017-04-11      507  BJFB62        3         1   \n",
       "6194 2017-04-11      507  BJFB62        3         1   \n",
       "6195 2017-04-11      507  BJFB62        3         1   \n",
       "6196 2017-04-11      507  BJFB62        3         1   \n",
       "6197 2017-04-11      507  BJFB62        3         1   \n",
       "6198 2017-04-11      507  BJFB62        3         1   \n",
       "6199 2017-04-11      507  BJFB62        3         1   \n",
       "6200 2017-04-11      507  BJFB62        3         1   \n",
       "6201 2017-04-11      507  BJFB62        3         1   \n",
       "6202 2017-04-11      507  BJFB62        3         1   \n",
       "\n",
       "                           LUGAR_INICIO HORA_INICIO  HORA  MINUTO  INGRESAN  \\\n",
       "6193  CORREDOR GRECIA / DIAG LAS TORRES    15:10:00    15      10         5   \n",
       "6194  CORREDOR GRECIA / DIAG LAS TORRES    15:10:00    15      12         0   \n",
       "6195  CORREDOR GRECIA / DIAG LAS TORRES    15:10:00    15      16         2   \n",
       "6196  CORREDOR GRECIA / DIAG LAS TORRES    15:10:00    15      18         2   \n",
       "6197  CORREDOR GRECIA / DIAG LAS TORRES    15:10:00    15      19         5   \n",
       "6198  CORREDOR GRECIA / DIAG LAS TORRES    15:10:00    15      21         2   \n",
       "6199  CORREDOR GRECIA / DIAG LAS TORRES    15:10:00    15      23         8   \n",
       "6200  CORREDOR GRECIA / DIAG LAS TORRES    15:10:00    15      27         3   \n",
       "6201  CORREDOR GRECIA / DIAG LAS TORRES    15:10:00    15      29         2   \n",
       "6202  CORREDOR GRECIA / DIAG LAS TORRES    15:10:00    15      32         7   \n",
       "\n",
       "      NO_VALIDAN TP    TIEMPO  \n",
       "6193           0  P  15:10:00  \n",
       "6194           0  P  15:12:00  \n",
       "6195           1  P  15:16:00  \n",
       "6196           1  P  15:18:00  \n",
       "6197           4  P  15:19:00  \n",
       "6198           2  P  15:21:00  \n",
       "6199           0  P  15:23:00  \n",
       "6200           1  P  15:27:00  \n",
       "6201           1  P  15:29:00  \n",
       "6202           3  P  15:32:00  "
      ]
     },
     "execution_count": 12,
     "metadata": {},
     "output_type": "execute_result"
    }
   ],
   "source": [
    "second_quarter_evasion[(second_quarter_evasion['SERVICIO']==507)&(second_quarter_evasion['PATENTE']=='BJFB62')].head(10)"
   ]
  },
  {
   "cell_type": "code",
   "execution_count": 13,
   "metadata": {
    "collapsed": true,
    "scrolled": true
   },
   "outputs": [],
   "source": [
    "frames = [first_quarter_evasion, second_quarter_evasion, third_quarter_evasion]\n",
    "evasion = pd.concat(frames, keys=['first', 'second', 'third'])"
   ]
  },
  {
   "cell_type": "code",
   "execution_count": 14,
   "metadata": {},
   "outputs": [
    {
     "data": {
      "text/html": [
       "<div>\n",
       "<style>\n",
       "    .dataframe thead tr:only-child th {\n",
       "        text-align: right;\n",
       "    }\n",
       "\n",
       "    .dataframe thead th {\n",
       "        text-align: left;\n",
       "    }\n",
       "\n",
       "    .dataframe tbody tr th {\n",
       "        vertical-align: top;\n",
       "    }\n",
       "</style>\n",
       "<table border=\"1\" class=\"dataframe\">\n",
       "  <thead>\n",
       "    <tr style=\"text-align: right;\">\n",
       "      <th></th>\n",
       "      <th></th>\n",
       "      <th>FECHA</th>\n",
       "      <th>SERVICIO</th>\n",
       "      <th>PATENTE</th>\n",
       "      <th>PUERTAS</th>\n",
       "      <th>N_PUERTA</th>\n",
       "      <th>LUGAR_INICIO</th>\n",
       "      <th>HORA_INICIO</th>\n",
       "      <th>HORA</th>\n",
       "      <th>MINUTO</th>\n",
       "      <th>INGRESAN</th>\n",
       "      <th>NO_VALIDAN</th>\n",
       "      <th>TP</th>\n",
       "      <th>TIEMPO</th>\n",
       "    </tr>\n",
       "  </thead>\n",
       "  <tbody>\n",
       "    <tr>\n",
       "      <th rowspan=\"5\" valign=\"top\">first</th>\n",
       "      <th>0</th>\n",
       "      <td>2017-01-10</td>\n",
       "      <td>214</td>\n",
       "      <td>BJFH98</td>\n",
       "      <td>3</td>\n",
       "      <td>1</td>\n",
       "      <td>AV. ADOLFO LOPEZ MATEO</td>\n",
       "      <td>07:10:00</td>\n",
       "      <td>7</td>\n",
       "      <td>10</td>\n",
       "      <td>15</td>\n",
       "      <td>1</td>\n",
       "      <td>P</td>\n",
       "      <td>7:10:00</td>\n",
       "    </tr>\n",
       "    <tr>\n",
       "      <th>1</th>\n",
       "      <td>2017-01-10</td>\n",
       "      <td>214</td>\n",
       "      <td>BJFH98</td>\n",
       "      <td>3</td>\n",
       "      <td>1</td>\n",
       "      <td>AV. ADOLFO LOPEZ MATEO</td>\n",
       "      <td>07:10:00</td>\n",
       "      <td>7</td>\n",
       "      <td>12</td>\n",
       "      <td>9</td>\n",
       "      <td>0</td>\n",
       "      <td>P</td>\n",
       "      <td>7:12:00</td>\n",
       "    </tr>\n",
       "    <tr>\n",
       "      <th>2</th>\n",
       "      <td>2017-01-10</td>\n",
       "      <td>214</td>\n",
       "      <td>BJFH98</td>\n",
       "      <td>3</td>\n",
       "      <td>1</td>\n",
       "      <td>AV. ADOLFO LOPEZ MATEO</td>\n",
       "      <td>07:10:00</td>\n",
       "      <td>7</td>\n",
       "      <td>13</td>\n",
       "      <td>6</td>\n",
       "      <td>2</td>\n",
       "      <td>P</td>\n",
       "      <td>7:13:00</td>\n",
       "    </tr>\n",
       "    <tr>\n",
       "      <th>3</th>\n",
       "      <td>2017-01-10</td>\n",
       "      <td>214</td>\n",
       "      <td>BJFH98</td>\n",
       "      <td>3</td>\n",
       "      <td>1</td>\n",
       "      <td>AV. ADOLFO LOPEZ MATEO</td>\n",
       "      <td>07:10:00</td>\n",
       "      <td>7</td>\n",
       "      <td>18</td>\n",
       "      <td>8</td>\n",
       "      <td>1</td>\n",
       "      <td>P</td>\n",
       "      <td>7:18:00</td>\n",
       "    </tr>\n",
       "    <tr>\n",
       "      <th>4</th>\n",
       "      <td>2017-01-10</td>\n",
       "      <td>214</td>\n",
       "      <td>BJFH98</td>\n",
       "      <td>3</td>\n",
       "      <td>1</td>\n",
       "      <td>AV. ADOLFO LOPEZ MATEO</td>\n",
       "      <td>07:10:00</td>\n",
       "      <td>7</td>\n",
       "      <td>20</td>\n",
       "      <td>5</td>\n",
       "      <td>1</td>\n",
       "      <td>P</td>\n",
       "      <td>7:20:00</td>\n",
       "    </tr>\n",
       "  </tbody>\n",
       "</table>\n",
       "</div>"
      ],
      "text/plain": [
       "             FECHA SERVICIO PATENTE PUERTAS  N_PUERTA            LUGAR_INICIO  \\\n",
       "first 0 2017-01-10      214  BJFH98       3         1  AV. ADOLFO LOPEZ MATEO   \n",
       "      1 2017-01-10      214  BJFH98       3         1  AV. ADOLFO LOPEZ MATEO   \n",
       "      2 2017-01-10      214  BJFH98       3         1  AV. ADOLFO LOPEZ MATEO   \n",
       "      3 2017-01-10      214  BJFH98       3         1  AV. ADOLFO LOPEZ MATEO   \n",
       "      4 2017-01-10      214  BJFH98       3         1  AV. ADOLFO LOPEZ MATEO   \n",
       "\n",
       "        HORA_INICIO  HORA  MINUTO  INGRESAN  NO_VALIDAN TP   TIEMPO  \n",
       "first 0    07:10:00     7      10        15           1  P  7:10:00  \n",
       "      1    07:10:00     7      12         9           0  P  7:12:00  \n",
       "      2    07:10:00     7      13         6           2  P  7:13:00  \n",
       "      3    07:10:00     7      18         8           1  P  7:18:00  \n",
       "      4    07:10:00     7      20         5           1  P  7:20:00  "
      ]
     },
     "execution_count": 14,
     "metadata": {},
     "output_type": "execute_result"
    }
   ],
   "source": [
    "evasion.head(5)"
   ]
  },
  {
   "cell_type": "code",
   "execution_count": 15,
   "metadata": {},
   "outputs": [
    {
     "data": {
      "text/html": [
       "<div>\n",
       "<style>\n",
       "    .dataframe thead tr:only-child th {\n",
       "        text-align: right;\n",
       "    }\n",
       "\n",
       "    .dataframe thead th {\n",
       "        text-align: left;\n",
       "    }\n",
       "\n",
       "    .dataframe tbody tr th {\n",
       "        vertical-align: top;\n",
       "    }\n",
       "</style>\n",
       "<table border=\"1\" class=\"dataframe\">\n",
       "  <thead>\n",
       "    <tr style=\"text-align: right;\">\n",
       "      <th></th>\n",
       "      <th></th>\n",
       "      <th>FECHA</th>\n",
       "      <th>SERVICIO</th>\n",
       "      <th>PATENTE</th>\n",
       "      <th>PUERTAS</th>\n",
       "      <th>N_PUERTA</th>\n",
       "      <th>LUGAR_INICIO</th>\n",
       "      <th>HORA_INICIO</th>\n",
       "      <th>HORA</th>\n",
       "      <th>MINUTO</th>\n",
       "      <th>INGRESAN</th>\n",
       "      <th>NO_VALIDAN</th>\n",
       "      <th>TP</th>\n",
       "      <th>TIEMPO</th>\n",
       "    </tr>\n",
       "  </thead>\n",
       "  <tbody>\n",
       "    <tr>\n",
       "      <th rowspan=\"10\" valign=\"top\">second</th>\n",
       "      <th>6193</th>\n",
       "      <td>2017-04-11</td>\n",
       "      <td>507</td>\n",
       "      <td>BJFB62</td>\n",
       "      <td>3</td>\n",
       "      <td>1</td>\n",
       "      <td>CORREDOR GRECIA / DIAG LAS TORRES</td>\n",
       "      <td>15:10:00</td>\n",
       "      <td>15</td>\n",
       "      <td>10</td>\n",
       "      <td>5</td>\n",
       "      <td>0</td>\n",
       "      <td>P</td>\n",
       "      <td>15:10:00</td>\n",
       "    </tr>\n",
       "    <tr>\n",
       "      <th>6194</th>\n",
       "      <td>2017-04-11</td>\n",
       "      <td>507</td>\n",
       "      <td>BJFB62</td>\n",
       "      <td>3</td>\n",
       "      <td>1</td>\n",
       "      <td>CORREDOR GRECIA / DIAG LAS TORRES</td>\n",
       "      <td>15:10:00</td>\n",
       "      <td>15</td>\n",
       "      <td>12</td>\n",
       "      <td>0</td>\n",
       "      <td>0</td>\n",
       "      <td>P</td>\n",
       "      <td>15:12:00</td>\n",
       "    </tr>\n",
       "    <tr>\n",
       "      <th>6195</th>\n",
       "      <td>2017-04-11</td>\n",
       "      <td>507</td>\n",
       "      <td>BJFB62</td>\n",
       "      <td>3</td>\n",
       "      <td>1</td>\n",
       "      <td>CORREDOR GRECIA / DIAG LAS TORRES</td>\n",
       "      <td>15:10:00</td>\n",
       "      <td>15</td>\n",
       "      <td>16</td>\n",
       "      <td>2</td>\n",
       "      <td>1</td>\n",
       "      <td>P</td>\n",
       "      <td>15:16:00</td>\n",
       "    </tr>\n",
       "    <tr>\n",
       "      <th>6196</th>\n",
       "      <td>2017-04-11</td>\n",
       "      <td>507</td>\n",
       "      <td>BJFB62</td>\n",
       "      <td>3</td>\n",
       "      <td>1</td>\n",
       "      <td>CORREDOR GRECIA / DIAG LAS TORRES</td>\n",
       "      <td>15:10:00</td>\n",
       "      <td>15</td>\n",
       "      <td>18</td>\n",
       "      <td>2</td>\n",
       "      <td>1</td>\n",
       "      <td>P</td>\n",
       "      <td>15:18:00</td>\n",
       "    </tr>\n",
       "    <tr>\n",
       "      <th>6197</th>\n",
       "      <td>2017-04-11</td>\n",
       "      <td>507</td>\n",
       "      <td>BJFB62</td>\n",
       "      <td>3</td>\n",
       "      <td>1</td>\n",
       "      <td>CORREDOR GRECIA / DIAG LAS TORRES</td>\n",
       "      <td>15:10:00</td>\n",
       "      <td>15</td>\n",
       "      <td>19</td>\n",
       "      <td>5</td>\n",
       "      <td>4</td>\n",
       "      <td>P</td>\n",
       "      <td>15:19:00</td>\n",
       "    </tr>\n",
       "    <tr>\n",
       "      <th>6198</th>\n",
       "      <td>2017-04-11</td>\n",
       "      <td>507</td>\n",
       "      <td>BJFB62</td>\n",
       "      <td>3</td>\n",
       "      <td>1</td>\n",
       "      <td>CORREDOR GRECIA / DIAG LAS TORRES</td>\n",
       "      <td>15:10:00</td>\n",
       "      <td>15</td>\n",
       "      <td>21</td>\n",
       "      <td>2</td>\n",
       "      <td>2</td>\n",
       "      <td>P</td>\n",
       "      <td>15:21:00</td>\n",
       "    </tr>\n",
       "    <tr>\n",
       "      <th>6199</th>\n",
       "      <td>2017-04-11</td>\n",
       "      <td>507</td>\n",
       "      <td>BJFB62</td>\n",
       "      <td>3</td>\n",
       "      <td>1</td>\n",
       "      <td>CORREDOR GRECIA / DIAG LAS TORRES</td>\n",
       "      <td>15:10:00</td>\n",
       "      <td>15</td>\n",
       "      <td>23</td>\n",
       "      <td>8</td>\n",
       "      <td>0</td>\n",
       "      <td>P</td>\n",
       "      <td>15:23:00</td>\n",
       "    </tr>\n",
       "    <tr>\n",
       "      <th>6200</th>\n",
       "      <td>2017-04-11</td>\n",
       "      <td>507</td>\n",
       "      <td>BJFB62</td>\n",
       "      <td>3</td>\n",
       "      <td>1</td>\n",
       "      <td>CORREDOR GRECIA / DIAG LAS TORRES</td>\n",
       "      <td>15:10:00</td>\n",
       "      <td>15</td>\n",
       "      <td>27</td>\n",
       "      <td>3</td>\n",
       "      <td>1</td>\n",
       "      <td>P</td>\n",
       "      <td>15:27:00</td>\n",
       "    </tr>\n",
       "    <tr>\n",
       "      <th>6201</th>\n",
       "      <td>2017-04-11</td>\n",
       "      <td>507</td>\n",
       "      <td>BJFB62</td>\n",
       "      <td>3</td>\n",
       "      <td>1</td>\n",
       "      <td>CORREDOR GRECIA / DIAG LAS TORRES</td>\n",
       "      <td>15:10:00</td>\n",
       "      <td>15</td>\n",
       "      <td>29</td>\n",
       "      <td>2</td>\n",
       "      <td>1</td>\n",
       "      <td>P</td>\n",
       "      <td>15:29:00</td>\n",
       "    </tr>\n",
       "    <tr>\n",
       "      <th>6202</th>\n",
       "      <td>2017-04-11</td>\n",
       "      <td>507</td>\n",
       "      <td>BJFB62</td>\n",
       "      <td>3</td>\n",
       "      <td>1</td>\n",
       "      <td>CORREDOR GRECIA / DIAG LAS TORRES</td>\n",
       "      <td>15:10:00</td>\n",
       "      <td>15</td>\n",
       "      <td>32</td>\n",
       "      <td>7</td>\n",
       "      <td>3</td>\n",
       "      <td>P</td>\n",
       "      <td>15:32:00</td>\n",
       "    </tr>\n",
       "  </tbody>\n",
       "</table>\n",
       "</div>"
      ],
      "text/plain": [
       "                 FECHA SERVICIO PATENTE PUERTAS  N_PUERTA  \\\n",
       "second 6193 2017-04-11      507  BJFB62       3         1   \n",
       "       6194 2017-04-11      507  BJFB62       3         1   \n",
       "       6195 2017-04-11      507  BJFB62       3         1   \n",
       "       6196 2017-04-11      507  BJFB62       3         1   \n",
       "       6197 2017-04-11      507  BJFB62       3         1   \n",
       "       6198 2017-04-11      507  BJFB62       3         1   \n",
       "       6199 2017-04-11      507  BJFB62       3         1   \n",
       "       6200 2017-04-11      507  BJFB62       3         1   \n",
       "       6201 2017-04-11      507  BJFB62       3         1   \n",
       "       6202 2017-04-11      507  BJFB62       3         1   \n",
       "\n",
       "                                  LUGAR_INICIO HORA_INICIO  HORA  MINUTO  \\\n",
       "second 6193  CORREDOR GRECIA / DIAG LAS TORRES    15:10:00    15      10   \n",
       "       6194  CORREDOR GRECIA / DIAG LAS TORRES    15:10:00    15      12   \n",
       "       6195  CORREDOR GRECIA / DIAG LAS TORRES    15:10:00    15      16   \n",
       "       6196  CORREDOR GRECIA / DIAG LAS TORRES    15:10:00    15      18   \n",
       "       6197  CORREDOR GRECIA / DIAG LAS TORRES    15:10:00    15      19   \n",
       "       6198  CORREDOR GRECIA / DIAG LAS TORRES    15:10:00    15      21   \n",
       "       6199  CORREDOR GRECIA / DIAG LAS TORRES    15:10:00    15      23   \n",
       "       6200  CORREDOR GRECIA / DIAG LAS TORRES    15:10:00    15      27   \n",
       "       6201  CORREDOR GRECIA / DIAG LAS TORRES    15:10:00    15      29   \n",
       "       6202  CORREDOR GRECIA / DIAG LAS TORRES    15:10:00    15      32   \n",
       "\n",
       "             INGRESAN  NO_VALIDAN TP    TIEMPO  \n",
       "second 6193         5           0  P  15:10:00  \n",
       "       6194         0           0  P  15:12:00  \n",
       "       6195         2           1  P  15:16:00  \n",
       "       6196         2           1  P  15:18:00  \n",
       "       6197         5           4  P  15:19:00  \n",
       "       6198         2           2  P  15:21:00  \n",
       "       6199         8           0  P  15:23:00  \n",
       "       6200         3           1  P  15:27:00  \n",
       "       6201         2           1  P  15:29:00  \n",
       "       6202         7           3  P  15:32:00  "
      ]
     },
     "execution_count": 15,
     "metadata": {},
     "output_type": "execute_result"
    }
   ],
   "source": [
    "evasion[(evasion['SERVICIO']==507)&(evasion['PATENTE']=='BJFB62')].head(10)"
   ]
  },
  {
   "cell_type": "code",
   "execution_count": 19,
   "metadata": {},
   "outputs": [],
   "source": [
    "evasion = pd.merge(evasion,codes_ida, on=['SERVICIO'], how='left')"
   ]
  },
  {
   "cell_type": "code",
   "execution_count": 20,
   "metadata": {},
   "outputs": [
    {
     "data": {
      "text/html": [
       "<div>\n",
       "<style>\n",
       "    .dataframe thead tr:only-child th {\n",
       "        text-align: right;\n",
       "    }\n",
       "\n",
       "    .dataframe thead th {\n",
       "        text-align: left;\n",
       "    }\n",
       "\n",
       "    .dataframe tbody tr th {\n",
       "        vertical-align: top;\n",
       "    }\n",
       "</style>\n",
       "<table border=\"1\" class=\"dataframe\">\n",
       "  <thead>\n",
       "    <tr style=\"text-align: right;\">\n",
       "      <th></th>\n",
       "      <th>FECHA</th>\n",
       "      <th>SERVICIO</th>\n",
       "      <th>PATENTE</th>\n",
       "      <th>PUERTAS</th>\n",
       "      <th>N_PUERTA</th>\n",
       "      <th>LUGAR_INICIO</th>\n",
       "      <th>HORA_INICIO</th>\n",
       "      <th>HORA</th>\n",
       "      <th>MINUTO</th>\n",
       "      <th>INGRESAN</th>\n",
       "      <th>NO_VALIDAN</th>\n",
       "      <th>TP</th>\n",
       "      <th>TIEMPO</th>\n",
       "      <th>UN</th>\n",
       "      <th>TS_CODE</th>\n",
       "    </tr>\n",
       "  </thead>\n",
       "  <tbody>\n",
       "    <tr>\n",
       "      <th>41631</th>\n",
       "      <td>2017-04-11</td>\n",
       "      <td>507</td>\n",
       "      <td>BJFB62</td>\n",
       "      <td>3</td>\n",
       "      <td>1</td>\n",
       "      <td>CORREDOR GRECIA / DIAG LAS TORRES</td>\n",
       "      <td>15:10:00</td>\n",
       "      <td>15</td>\n",
       "      <td>10</td>\n",
       "      <td>5</td>\n",
       "      <td>0</td>\n",
       "      <td>P</td>\n",
       "      <td>15:10:00</td>\n",
       "      <td>5.0</td>\n",
       "      <td>507</td>\n",
       "    </tr>\n",
       "    <tr>\n",
       "      <th>41632</th>\n",
       "      <td>2017-04-11</td>\n",
       "      <td>507</td>\n",
       "      <td>BJFB62</td>\n",
       "      <td>3</td>\n",
       "      <td>1</td>\n",
       "      <td>CORREDOR GRECIA / DIAG LAS TORRES</td>\n",
       "      <td>15:10:00</td>\n",
       "      <td>15</td>\n",
       "      <td>12</td>\n",
       "      <td>0</td>\n",
       "      <td>0</td>\n",
       "      <td>P</td>\n",
       "      <td>15:12:00</td>\n",
       "      <td>5.0</td>\n",
       "      <td>507</td>\n",
       "    </tr>\n",
       "    <tr>\n",
       "      <th>41633</th>\n",
       "      <td>2017-04-11</td>\n",
       "      <td>507</td>\n",
       "      <td>BJFB62</td>\n",
       "      <td>3</td>\n",
       "      <td>1</td>\n",
       "      <td>CORREDOR GRECIA / DIAG LAS TORRES</td>\n",
       "      <td>15:10:00</td>\n",
       "      <td>15</td>\n",
       "      <td>16</td>\n",
       "      <td>2</td>\n",
       "      <td>1</td>\n",
       "      <td>P</td>\n",
       "      <td>15:16:00</td>\n",
       "      <td>5.0</td>\n",
       "      <td>507</td>\n",
       "    </tr>\n",
       "    <tr>\n",
       "      <th>41634</th>\n",
       "      <td>2017-04-11</td>\n",
       "      <td>507</td>\n",
       "      <td>BJFB62</td>\n",
       "      <td>3</td>\n",
       "      <td>1</td>\n",
       "      <td>CORREDOR GRECIA / DIAG LAS TORRES</td>\n",
       "      <td>15:10:00</td>\n",
       "      <td>15</td>\n",
       "      <td>18</td>\n",
       "      <td>2</td>\n",
       "      <td>1</td>\n",
       "      <td>P</td>\n",
       "      <td>15:18:00</td>\n",
       "      <td>5.0</td>\n",
       "      <td>507</td>\n",
       "    </tr>\n",
       "    <tr>\n",
       "      <th>41635</th>\n",
       "      <td>2017-04-11</td>\n",
       "      <td>507</td>\n",
       "      <td>BJFB62</td>\n",
       "      <td>3</td>\n",
       "      <td>1</td>\n",
       "      <td>CORREDOR GRECIA / DIAG LAS TORRES</td>\n",
       "      <td>15:10:00</td>\n",
       "      <td>15</td>\n",
       "      <td>19</td>\n",
       "      <td>5</td>\n",
       "      <td>4</td>\n",
       "      <td>P</td>\n",
       "      <td>15:19:00</td>\n",
       "      <td>5.0</td>\n",
       "      <td>507</td>\n",
       "    </tr>\n",
       "    <tr>\n",
       "      <th>41636</th>\n",
       "      <td>2017-04-11</td>\n",
       "      <td>507</td>\n",
       "      <td>BJFB62</td>\n",
       "      <td>3</td>\n",
       "      <td>1</td>\n",
       "      <td>CORREDOR GRECIA / DIAG LAS TORRES</td>\n",
       "      <td>15:10:00</td>\n",
       "      <td>15</td>\n",
       "      <td>21</td>\n",
       "      <td>2</td>\n",
       "      <td>2</td>\n",
       "      <td>P</td>\n",
       "      <td>15:21:00</td>\n",
       "      <td>5.0</td>\n",
       "      <td>507</td>\n",
       "    </tr>\n",
       "    <tr>\n",
       "      <th>41637</th>\n",
       "      <td>2017-04-11</td>\n",
       "      <td>507</td>\n",
       "      <td>BJFB62</td>\n",
       "      <td>3</td>\n",
       "      <td>1</td>\n",
       "      <td>CORREDOR GRECIA / DIAG LAS TORRES</td>\n",
       "      <td>15:10:00</td>\n",
       "      <td>15</td>\n",
       "      <td>23</td>\n",
       "      <td>8</td>\n",
       "      <td>0</td>\n",
       "      <td>P</td>\n",
       "      <td>15:23:00</td>\n",
       "      <td>5.0</td>\n",
       "      <td>507</td>\n",
       "    </tr>\n",
       "    <tr>\n",
       "      <th>41638</th>\n",
       "      <td>2017-04-11</td>\n",
       "      <td>507</td>\n",
       "      <td>BJFB62</td>\n",
       "      <td>3</td>\n",
       "      <td>1</td>\n",
       "      <td>CORREDOR GRECIA / DIAG LAS TORRES</td>\n",
       "      <td>15:10:00</td>\n",
       "      <td>15</td>\n",
       "      <td>27</td>\n",
       "      <td>3</td>\n",
       "      <td>1</td>\n",
       "      <td>P</td>\n",
       "      <td>15:27:00</td>\n",
       "      <td>5.0</td>\n",
       "      <td>507</td>\n",
       "    </tr>\n",
       "    <tr>\n",
       "      <th>41639</th>\n",
       "      <td>2017-04-11</td>\n",
       "      <td>507</td>\n",
       "      <td>BJFB62</td>\n",
       "      <td>3</td>\n",
       "      <td>1</td>\n",
       "      <td>CORREDOR GRECIA / DIAG LAS TORRES</td>\n",
       "      <td>15:10:00</td>\n",
       "      <td>15</td>\n",
       "      <td>29</td>\n",
       "      <td>2</td>\n",
       "      <td>1</td>\n",
       "      <td>P</td>\n",
       "      <td>15:29:00</td>\n",
       "      <td>5.0</td>\n",
       "      <td>507</td>\n",
       "    </tr>\n",
       "    <tr>\n",
       "      <th>41640</th>\n",
       "      <td>2017-04-11</td>\n",
       "      <td>507</td>\n",
       "      <td>BJFB62</td>\n",
       "      <td>3</td>\n",
       "      <td>1</td>\n",
       "      <td>CORREDOR GRECIA / DIAG LAS TORRES</td>\n",
       "      <td>15:10:00</td>\n",
       "      <td>15</td>\n",
       "      <td>32</td>\n",
       "      <td>7</td>\n",
       "      <td>3</td>\n",
       "      <td>P</td>\n",
       "      <td>15:32:00</td>\n",
       "      <td>5.0</td>\n",
       "      <td>507</td>\n",
       "    </tr>\n",
       "  </tbody>\n",
       "</table>\n",
       "</div>"
      ],
      "text/plain": [
       "           FECHA SERVICIO PATENTE PUERTAS  N_PUERTA  \\\n",
       "41631 2017-04-11      507  BJFB62       3         1   \n",
       "41632 2017-04-11      507  BJFB62       3         1   \n",
       "41633 2017-04-11      507  BJFB62       3         1   \n",
       "41634 2017-04-11      507  BJFB62       3         1   \n",
       "41635 2017-04-11      507  BJFB62       3         1   \n",
       "41636 2017-04-11      507  BJFB62       3         1   \n",
       "41637 2017-04-11      507  BJFB62       3         1   \n",
       "41638 2017-04-11      507  BJFB62       3         1   \n",
       "41639 2017-04-11      507  BJFB62       3         1   \n",
       "41640 2017-04-11      507  BJFB62       3         1   \n",
       "\n",
       "                            LUGAR_INICIO HORA_INICIO  HORA  MINUTO  INGRESAN  \\\n",
       "41631  CORREDOR GRECIA / DIAG LAS TORRES    15:10:00    15      10         5   \n",
       "41632  CORREDOR GRECIA / DIAG LAS TORRES    15:10:00    15      12         0   \n",
       "41633  CORREDOR GRECIA / DIAG LAS TORRES    15:10:00    15      16         2   \n",
       "41634  CORREDOR GRECIA / DIAG LAS TORRES    15:10:00    15      18         2   \n",
       "41635  CORREDOR GRECIA / DIAG LAS TORRES    15:10:00    15      19         5   \n",
       "41636  CORREDOR GRECIA / DIAG LAS TORRES    15:10:00    15      21         2   \n",
       "41637  CORREDOR GRECIA / DIAG LAS TORRES    15:10:00    15      23         8   \n",
       "41638  CORREDOR GRECIA / DIAG LAS TORRES    15:10:00    15      27         3   \n",
       "41639  CORREDOR GRECIA / DIAG LAS TORRES    15:10:00    15      29         2   \n",
       "41640  CORREDOR GRECIA / DIAG LAS TORRES    15:10:00    15      32         7   \n",
       "\n",
       "       NO_VALIDAN TP    TIEMPO   UN TS_CODE  \n",
       "41631           0  P  15:10:00  5.0     507  \n",
       "41632           0  P  15:12:00  5.0     507  \n",
       "41633           1  P  15:16:00  5.0     507  \n",
       "41634           1  P  15:18:00  5.0     507  \n",
       "41635           4  P  15:19:00  5.0     507  \n",
       "41636           2  P  15:21:00  5.0     507  \n",
       "41637           0  P  15:23:00  5.0     507  \n",
       "41638           1  P  15:27:00  5.0     507  \n",
       "41639           1  P  15:29:00  5.0     507  \n",
       "41640           3  P  15:32:00  5.0     507  "
      ]
     },
     "execution_count": 20,
     "metadata": {},
     "output_type": "execute_result"
    }
   ],
   "source": [
    "evasion[(evasion['SERVICIO']==507)&(evasion['PATENTE']=='BJFB62')].head(10)"
   ]
  },
  {
   "cell_type": "code",
   "execution_count": 21,
   "metadata": {},
   "outputs": [
    {
     "data": {
      "text/plain": [
       "array(['D06'], dtype=object)"
      ]
     },
     "execution_count": 21,
     "metadata": {},
     "output_type": "execute_result"
    }
   ],
   "source": [
    "evasion.loc[evasion['TS_CODE'].isnull(),'SERVICIO'].unique()"
   ]
  },
  {
   "cell_type": "markdown",
   "metadata": {},
   "source": [
    "* THIS IS HARDCODED"
   ]
  },
  {
   "cell_type": "code",
   "execution_count": 22,
   "metadata": {
    "collapsed": true
   },
   "outputs": [],
   "source": [
    "evasion.loc[evasion['TS_CODE'].isnull(),'TS_CODE']='446'"
   ]
  },
  {
   "cell_type": "code",
   "execution_count": null,
   "metadata": {},
   "outputs": [],
   "source": [
    "evasion[(evasion['SERVICIO']==507)&(evasion['PATENTE']=='BJFB62')].head(10)"
   ]
  },
  {
   "cell_type": "markdown",
   "metadata": {},
   "source": [
    "* Processing evasion-ddbb before merging"
   ]
  },
  {
   "cell_type": "code",
   "execution_count": null,
   "metadata": {
    "collapsed": true
   },
   "outputs": [],
   "source": [
    "evasion['PATENTE'] =  evasion['PATENTE'].str.replace(' ','')\n",
    "\n",
    "evasion['SERVICIO_TMP'] = evasion['SERVICIO'].apply(str)\n",
    "evasion['TS_CODE_TMP'] = evasion['TS_CODE'].apply(str)\n",
    "\n",
    "del evasion['SERVICIO']\n",
    "del evasion['TS_CODE']\n",
    "\n",
    "evasion = evasion.rename(columns = {'SERVICIO_TMP':'SERVICIO_USUARIO', 'TS_CODE_TMP':'SERVICIO'})\n",
    "evasion_paradero = evasion[evasion['TP']=='P']\n",
    "evasion_paradero_first = evasion_paradero[evasion_paradero['N_PUERTA']==1]"
   ]
  },
  {
   "cell_type": "code",
   "execution_count": null,
   "metadata": {
    "scrolled": true
   },
   "outputs": [],
   "source": [
    "type(evasion['SERVICIO'][0])"
   ]
  },
  {
   "cell_type": "code",
   "execution_count": null,
   "metadata": {},
   "outputs": [],
   "source": [
    "len(evasion.index)"
   ]
  },
  {
   "cell_type": "code",
   "execution_count": null,
   "metadata": {},
   "outputs": [],
   "source": [
    "len(evasion_paradero.index)"
   ]
  },
  {
   "cell_type": "code",
   "execution_count": null,
   "metadata": {},
   "outputs": [],
   "source": [
    "len(evasion_paradero_first.index)"
   ]
  },
  {
   "cell_type": "markdown",
   "metadata": {},
   "source": [
    "* Filtering dates not in common dates"
   ]
  },
  {
   "cell_type": "code",
   "execution_count": null,
   "metadata": {},
   "outputs": [],
   "source": [
    "common_dates = TransantiagoConstants.common_dates"
   ]
  },
  {
   "cell_type": "code",
   "execution_count": null,
   "metadata": {
    "collapsed": true
   },
   "outputs": [],
   "source": [
    "common_dates_timestamp = [pd.to_datetime(x) for x in common_dates]"
   ]
  },
  {
   "cell_type": "code",
   "execution_count": null,
   "metadata": {
    "collapsed": true
   },
   "outputs": [],
   "source": [
    "common_dates_evasion_paradero_first = evasion_paradero_first[evasion_paradero_first['FECHA'].isin(common_dates_timestamp)]"
   ]
  },
  {
   "cell_type": "code",
   "execution_count": null,
   "metadata": {},
   "outputs": [],
   "source": [
    "len(common_dates_evasion_paradero_first.index)"
   ]
  },
  {
   "cell_type": "markdown",
   "metadata": {},
   "source": [
    "* <font color='red'>Filtering for one specific common date and analyze it <- this part should be omitted in the final script</font>"
   ]
  },
  {
   "cell_type": "code",
   "execution_count": null,
   "metadata": {},
   "outputs": [],
   "source": [
    "common_dates_evasion_paradero_first['FECHA'].unique()"
   ]
  },
  {
   "cell_type": "code",
   "execution_count": null,
   "metadata": {
    "collapsed": true
   },
   "outputs": [],
   "source": [
    "abril_11_evasion_paradero_first = common_dates_evasion_paradero_first[common_dates_evasion_paradero_first['FECHA']==pd.to_datetime('2017-04-11')]"
   ]
  },
  {
   "cell_type": "code",
   "execution_count": null,
   "metadata": {},
   "outputs": [],
   "source": [
    "len(abril_11_evasion_paradero_first.index)"
   ]
  },
  {
   "cell_type": "code",
   "execution_count": null,
   "metadata": {
    "collapsed": true
   },
   "outputs": [],
   "source": [
    "from RunSilentlyDailyEtapasBuilder import RunSilentlyDailyEtapasBuilderClass"
   ]
  },
  {
   "cell_type": "code",
   "execution_count": null,
   "metadata": {},
   "outputs": [],
   "source": [
    "date = '2017-04-11'\n",
    "etapas_builder = RunSilentlyDailyEtapasBuilderClass(date)\n",
    "filtered_df = etapas_builder.runLightCompleteProcess()"
   ]
  },
  {
   "cell_type": "code",
   "execution_count": null,
   "metadata": {
    "scrolled": true
   },
   "outputs": [],
   "source": [
    "filtered_df.head()"
   ]
  },
  {
   "cell_type": "code",
   "execution_count": null,
   "metadata": {},
   "outputs": [],
   "source": [
    "len(filtered_df.index)"
   ]
  },
  {
   "cell_type": "markdown",
   "metadata": {},
   "source": [
    "* Processing filtered_df before reducing complexity"
   ]
  },
  {
   "cell_type": "code",
   "execution_count": null,
   "metadata": {
    "collapsed": true
   },
   "outputs": [],
   "source": [
    "filtered_df['servicio_subida'] =  filtered_df['servicio_subida'].str.replace('T','')\n",
    "filtered_df['servicio_subida'] =  filtered_df['servicio_subida'].str.split(' ').str[0]"
   ]
  },
  {
   "cell_type": "code",
   "execution_count": null,
   "metadata": {
    "collapsed": true
   },
   "outputs": [],
   "source": [
    "#filtered_df['FECHA'] = pd.to_datetime(reduced_etapas.FECHA)\n",
    "filtered_df['sitio_subida'] = filtered_df['sitio_subida'].str.replace(\"-\", \"\")\n",
    "filtered_df['sitio_subida'] = filtered_df['sitio_subida'].str.replace(\" \", \"\")"
   ]
  },
  {
   "cell_type": "markdown",
   "metadata": {},
   "source": [
    "* First: filter etapas by patentes and servicios surveyed in evasion ddbb so to reduce search space"
   ]
  },
  {
   "cell_type": "code",
   "execution_count": null,
   "metadata": {},
   "outputs": [],
   "source": [
    "patentes = abril_11_evasion_paradero_first['PATENTE'].unique()\n",
    "patentes = patentes.tolist()"
   ]
  },
  {
   "cell_type": "code",
   "execution_count": null,
   "metadata": {},
   "outputs": [],
   "source": [
    "servicios = abril_11_evasion_paradero_first['SERVICIO'].unique()\n",
    "servicios = servicios.tolist()"
   ]
  },
  {
   "cell_type": "code",
   "execution_count": null,
   "metadata": {},
   "outputs": [],
   "source": [
    "clean_filtered_df = filtered_df[(filtered_df['sitio_subida'].isin(patentes))&(filtered_df['servicio_subida'].isin(servicios))]"
   ]
  },
  {
   "cell_type": "code",
   "execution_count": null,
   "metadata": {},
   "outputs": [],
   "source": [
    "len(clean_filtered_df.index)"
   ]
  },
  {
   "cell_type": "code",
   "execution_count": null,
   "metadata": {},
   "outputs": [],
   "source": [
    "clean_filtered_df.head(10)"
   ]
  },
  {
   "cell_type": "code",
   "execution_count": null,
   "metadata": {},
   "outputs": [],
   "source": [
    "abril_11_evasion_paradero_first[(abril_11_evasion_paradero_first['SERVICIO']=='507')&(abril_11_evasion_paradero_first['PATENTE']=='BJFB62')].head(10)"
   ]
  },
  {
   "cell_type": "code",
   "execution_count": null,
   "metadata": {
    "collapsed": true
   },
   "outputs": [],
   "source": []
  }
 ],
 "metadata": {
  "kernelspec": {
   "display_name": "Python 3",
   "language": "python",
   "name": "python3"
  },
  "language_info": {
   "codemirror_mode": {
    "name": "ipython",
    "version": 3
   },
   "file_extension": ".py",
   "mimetype": "text/x-python",
   "name": "python",
   "nbconvert_exporter": "python",
   "pygments_lexer": "ipython3",
   "version": "3.6.1"
  }
 },
 "nbformat": 4,
 "nbformat_minor": 2
}
