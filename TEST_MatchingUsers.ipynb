{
 "cells": [
  {
   "cell_type": "markdown",
   "metadata": {},
   "source": [
    "#  Matching Users"
   ]
  },
  {
   "cell_type": "code",
   "execution_count": 1,
   "metadata": {
    "scrolled": true
   },
   "outputs": [
    {
     "data": {
      "text/html": [
       "<style>.container { width:100% !important; }</style>"
      ],
      "text/plain": [
       "<IPython.core.display.HTML object>"
      ]
     },
     "metadata": {},
     "output_type": "display_data"
    }
   ],
   "source": [
    "%matplotlib inline\n",
    "import pandas as pd\n",
    "import matplotlib\n",
    "import matplotlib.pyplot as plt\n",
    "import numpy as np\n",
    "from importlib import reload\n",
    "import datetime as dt\n",
    "from IPython.core.display import display, HTML\n",
    "display(HTML(\"<style>.container { width:100% !important; }</style>\"))\n",
    "\n",
    "from Utils import TransantiagoConstants\n",
    "\n",
    "first_quarter_path = \"C:/Users/leoca_000/Desktop/Evasion/01_analisis/03_datos/06_RFA/01_EvasionTrimestral/01_analisis/1st_quarter.xlsx\"\n",
    "second_quarter_path = \"C:/Users/leoca_000/Desktop/Evasion/01_analisis/03_datos/06_RFA/01_EvasionTrimestral/01_analisis/2nd_quarter.xlsx\"\n",
    "third_quarter_path = \"C:/Users/leoca_000/Desktop/Evasion/01_analisis/03_datos/06_RFA/01_EvasionTrimestral/01_analisis/3rd_quarter.xlsx\"\n",
    "codes_path = \"C:/Users/leoca_000/Desktop/Evasion/01_analisis/03_datos/04_DTPM/codes_services.xlsx\"\n",
    "\n",
    "first_quarter_evasion = pd.read_excel(first_quarter_path, encoding = 'latin-1')\n",
    "second_quarter_evasion = pd.read_excel(second_quarter_path, encoding = 'latin-1')\n",
    "third_quarter_evasion = pd.read_excel(third_quarter_path, encoding = 'latin-1')\n",
    "codes = pd.read_excel(codes_path, encoding = 'latin-1')\n",
    "\n",
    "first_quarter_evasion['TIEMPO'] = first_quarter_evasion['HORA'].astype(str)+':'+first_quarter_evasion['MINUTOS'].astype(str)+':00'\n",
    "second_quarter_evasion['TIEMPO'] = second_quarter_evasion['HORA'].astype(str)+':'+second_quarter_evasion['MINUTOS'].astype(str)+':00'\n",
    "third_quarter_evasion['TIEMPO'] = third_quarter_evasion['HORA'].astype(str)+':'+third_quarter_evasion['MINUTOS'].astype(str)+':00'\n",
    "\n",
    "first_quarter_evasion.columns = ['FECHA', 'SERVICIO','PATENTE','PUERTAS','N_PUERTA','LUGAR_INICIO','HORA_INICIO','HORA','MINUTO','INGRESAN','NO_VALIDAN','TP','TIEMPO']\n",
    "second_quarter_evasion.columns = ['FECHA', 'SERVICIO','TIPO','PATENTE','PUERTAS','N_PUERTA','LUGAR_INICIO','HORA_INICIO','HORA','MINUTO','INGRESAN','NO_VALIDAN','TP','TIEMPO']\n",
    "third_quarter_evasion.columns = ['FECHA', 'SERVICIO','PATENTE','PUERTAS','N_PUERTA','LUGAR_INICIO','HORA_INICIO','HORA','MINUTO','INGRESAN','NO_VALIDAN','TP','TIEMPO']\n",
    "del second_quarter_evasion['TIPO']\n",
    "\n",
    "#Processing codes before merging.\n",
    "\n",
    "codes_ida = codes[codes['DIRECTION']=='Ida']\n",
    "codes_ret = codes[codes['DIRECTION']=='Ret']\n",
    "\n",
    "codes_ida = codes_ida.rename(columns = {'USER_CODE':'SERVICIO'})\n",
    "codes_ret = codes_ret.rename(columns = {'USER_CODE':'SERVICIO'})\n",
    "\n",
    "del codes_ida['DIRECTION']\n",
    "del codes_ret['DIRECTION']"
   ]
  },
  {
   "cell_type": "code",
   "execution_count": 2,
   "metadata": {
    "scrolled": false
   },
   "outputs": [
    {
     "name": "stdout",
     "output_type": "stream",
     "text": [
      "<class 'str'>\n",
      "<class 'pandas._libs.tslib.Timestamp'>\n"
     ]
    }
   ],
   "source": [
    "print(type(first_quarter_evasion.loc[0,'TIEMPO'])) #should be a string\n",
    "print(type(first_quarter_evasion.loc[0,'FECHA'])) #should be a timestamp"
   ]
  },
  {
   "cell_type": "code",
   "execution_count": 3,
   "metadata": {
    "collapsed": true,
    "scrolled": true
   },
   "outputs": [],
   "source": [
    "frames = [first_quarter_evasion, second_quarter_evasion, third_quarter_evasion]\n",
    "evasion = pd.concat(frames, keys=['first', 'second', 'third'])\n",
    "del evasion['LUGAR_INICIO']"
   ]
  },
  {
   "cell_type": "markdown",
   "metadata": {},
   "source": [
    "* Merge should be made only by codes_ida or codes_ret. Be aware of it"
   ]
  },
  {
   "cell_type": "code",
   "execution_count": 4,
   "metadata": {
    "collapsed": true,
    "scrolled": true
   },
   "outputs": [],
   "source": [
    "evasion = pd.merge(evasion,codes_ida, on=['SERVICIO'], how='left')"
   ]
  },
  {
   "cell_type": "code",
   "execution_count": 5,
   "metadata": {},
   "outputs": [
    {
     "name": "stdout",
     "output_type": "stream",
     "text": [
      "['D06']\n"
     ]
    }
   ],
   "source": [
    "print(evasion.loc[evasion['TS_CODE'].isnull(),'SERVICIO'].unique()) #should be only D06, so the line below makes sense. Anyway, it is hardcoded so be aware.\n",
    "evasion.loc[evasion['TS_CODE'].isnull(),'TS_CODE']='446'"
   ]
  },
  {
   "cell_type": "markdown",
   "metadata": {},
   "source": [
    "* Processing evasion-ddbb before merging"
   ]
  },
  {
   "cell_type": "code",
   "execution_count": 6,
   "metadata": {},
   "outputs": [
    {
     "name": "stdout",
     "output_type": "stream",
     "text": [
      "<class 'str'>\n"
     ]
    }
   ],
   "source": [
    "evasion['PATENTE'] =  evasion['PATENTE'].str.replace(' ','')\n",
    "\n",
    "evasion['SERVICIO_TMP'] = evasion['SERVICIO'].apply(str)\n",
    "evasion['TS_CODE_TMP'] = evasion['TS_CODE'].apply(str)\n",
    "\n",
    "del evasion['SERVICIO']\n",
    "del evasion['TS_CODE']\n",
    "\n",
    "evasion = evasion.rename(columns = {'SERVICIO_TMP':'SERVICIO_USUARIO', 'TS_CODE_TMP':'SERVICIO'})\n",
    "evasion_paradero = evasion[evasion['TP']=='P']\n",
    "evasion_paradero_first = evasion_paradero[evasion_paradero['N_PUERTA']==1]\n",
    "print(type(evasion['SERVICIO'][0])) #should be a string"
   ]
  },
  {
   "cell_type": "code",
   "execution_count": 7,
   "metadata": {},
   "outputs": [
    {
     "name": "stdout",
     "output_type": "stream",
     "text": [
      "Number of rows in complete evasion database is: 99422\n",
      "Number of rows in evasion in paradero database is: 97706\n",
      "Number of rows in evasion in paradero by first door database is: 34881\n"
     ]
    }
   ],
   "source": [
    "print('Number of rows in complete evasion database is: ' + str(len(evasion.index)))\n",
    "print('Number of rows in evasion in paradero database is: ' + str(len(evasion_paradero.index)))\n",
    "print('Number of rows in evasion in paradero by first door database is: ' + str(len(evasion_paradero_first.index)))"
   ]
  },
  {
   "cell_type": "markdown",
   "metadata": {},
   "source": [
    "* Getting rid of duplicated rows"
   ]
  },
  {
   "cell_type": "code",
   "execution_count": 8,
   "metadata": {
    "scrolled": true
   },
   "outputs": [
    {
     "name": "stdout",
     "output_type": "stream",
     "text": [
      "Number of duplicated rows in evasion in paradero by first door database is: 2246\n",
      "Number of collapsed-duplicated rows in evasion in paradero by first door database is: 1120\n",
      "Number of rows in evasion in paradero by first door without duplicated rows at all is: 32635\n",
      "Final number of rows in evasion in paradero by first door with collapsed duplicated rows is: 33755\n"
     ]
    }
   ],
   "source": [
    "#Getting duplicated rows\n",
    "duplicated_evasion_paradero_first = evasion_paradero_first[evasion_paradero_first.duplicated(['FECHA','PATENTE','PUERTAS','N_PUERTA','HORA_INICIO','HORA','MINUTO','TP','TIEMPO','UN','SERVICIO_USUARIO','SERVICIO'], keep=False)]\n",
    "print('Number of duplicated rows in evasion in paradero by first door database is: ' + str(len(duplicated_evasion_paradero_first.index)))\n",
    "\n",
    "#Colapsing duplicated rows\n",
    "grouped_temporal_evasion_paradero_first = duplicated_evasion_paradero_first.groupby(['FECHA','PATENTE','PUERTAS','N_PUERTA','HORA_INICIO','HORA','MINUTO','TP','TIEMPO','UN','SERVICIO_USUARIO','SERVICIO'])['INGRESAN','NO_VALIDAN'].sum()\n",
    "grouped_temporal_evasion_paradero_first = grouped_temporal_evasion_paradero_first.reset_index()\n",
    "print('Number of collapsed-duplicated rows in evasion in paradero by first door database is: ' + str(len(grouped_temporal_evasion_paradero_first.index)))\n",
    "\n",
    "#Deleting duplicated rows in evasion in paradero by first door database\n",
    "non_duplicated_evasion_paradero_first = evasion_paradero_first.drop_duplicates(['FECHA','PATENTE','PUERTAS','N_PUERTA','HORA_INICIO','HORA','MINUTO','TP','TIEMPO','UN','SERVICIO_USUARIO','SERVICIO'], keep=False)\n",
    "print('Number of rows in evasion in paradero by first door without duplicated rows at all is: ' + str(len(non_duplicated_evasion_paradero_first.index)))\n",
    "\n",
    "#Appendind\n",
    "del evasion_paradero_first\n",
    "frames = [non_duplicated_evasion_paradero_first, grouped_temporal_evasion_paradero_first]\n",
    "evasion_paradero_first = pd.concat(frames)\n",
    "print('Final number of rows in evasion in paradero by first door with collapsed duplicated rows is: ' + str(len(evasion_paradero_first.index)))"
   ]
  },
  {
   "cell_type": "markdown",
   "metadata": {},
   "source": [
    "* Filtering dates not in common dates"
   ]
  },
  {
   "cell_type": "code",
   "execution_count": 9,
   "metadata": {},
   "outputs": [
    {
     "data": {
      "text/plain": [
       "14756"
      ]
     },
     "execution_count": 9,
     "metadata": {},
     "output_type": "execute_result"
    }
   ],
   "source": [
    "common_dates = TransantiagoConstants.common_dates\n",
    "common_dates_timestamp = [pd.to_datetime(x) for x in common_dates]\n",
    "common_dates_evasion = evasion_paradero_first[evasion_paradero_first['FECHA'].isin(common_dates_timestamp)]\n",
    "len(common_dates_evasion.index) #Remember to store the number."
   ]
  },
  {
   "cell_type": "markdown",
   "metadata": {},
   "source": [
    "* <font color='red'>Filtering for one specific common date and analyze it to refactor and debug <- this part should be omitted in the final script. Above methodology is general</font>"
   ]
  },
  {
   "cell_type": "code",
   "execution_count": 10,
   "metadata": {
    "collapsed": true
   },
   "outputs": [],
   "source": [
    "example = common_dates_evasion[common_dates_evasion['FECHA']==pd.to_datetime('2017-04-11')]"
   ]
  },
  {
   "cell_type": "code",
   "execution_count": 11,
   "metadata": {},
   "outputs": [
    {
     "data": {
      "text/plain": [
       "1106"
      ]
     },
     "execution_count": 11,
     "metadata": {},
     "output_type": "execute_result"
    }
   ],
   "source": [
    "len(example.index)"
   ]
  },
  {
   "cell_type": "code",
   "execution_count": 12,
   "metadata": {
    "collapsed": true
   },
   "outputs": [],
   "source": [
    "from RunSilentlyDailyEtapasBuilder import RunSilentlyDailyEtapasBuilderClass"
   ]
  },
  {
   "cell_type": "code",
   "execution_count": 13,
   "metadata": {},
   "outputs": [
    {
     "name": "stdout",
     "output_type": "stream",
     "text": [
      "Not found in turnstile database: 1829611\n"
     ]
    }
   ],
   "source": [
    "date = '2017-04-11'\n",
    "etapas_builder = RunSilentlyDailyEtapasBuilderClass(date)\n",
    "sorted_df = etapas_builder.runRawProcess()"
   ]
  },
  {
   "cell_type": "code",
   "execution_count": 14,
   "metadata": {},
   "outputs": [
    {
     "data": {
      "text/plain": [
       "2598131"
      ]
     },
     "execution_count": 14,
     "metadata": {},
     "output_type": "execute_result"
    }
   ],
   "source": [
    "len(sorted_df.index)"
   ]
  },
  {
   "cell_type": "markdown",
   "metadata": {},
   "source": [
    "* Processing sorted_df before reducing complexity"
   ]
  },
  {
   "cell_type": "code",
   "execution_count": 15,
   "metadata": {
    "collapsed": true
   },
   "outputs": [],
   "source": [
    "sorted_df['servicio_subida'] =  sorted_df['servicio_subida'].str.replace('T','')\n",
    "sorted_df['servicio_subida'] =  sorted_df['servicio_subida'].str.split(' ').str[0]"
   ]
  },
  {
   "cell_type": "code",
   "execution_count": 16,
   "metadata": {
    "collapsed": true
   },
   "outputs": [],
   "source": [
    "sorted_df['sitio_subida'] = sorted_df['sitio_subida'].str.replace(\"-\", \"\")\n",
    "sorted_df['sitio_subida'] = sorted_df['sitio_subida'].str.replace(\" \", \"\")"
   ]
  },
  {
   "cell_type": "markdown",
   "metadata": {},
   "source": [
    "* First: filter etapas by patentes and servicios surveyed in evasion ddbb so to reduce search space"
   ]
  },
  {
   "cell_type": "code",
   "execution_count": 17,
   "metadata": {
    "collapsed": true
   },
   "outputs": [],
   "source": [
    "patentes = example['PATENTE'].unique()\n",
    "patentes = patentes.tolist()\n",
    "servicios = example['SERVICIO'].unique()\n",
    "servicios = servicios.tolist()"
   ]
  },
  {
   "cell_type": "code",
   "execution_count": 18,
   "metadata": {
    "collapsed": true
   },
   "outputs": [],
   "source": [
    "clean_sorted_df = sorted_df[(sorted_df['sitio_subida'].isin(patentes))&(sorted_df['servicio_subida'].isin(servicios))]"
   ]
  },
  {
   "cell_type": "code",
   "execution_count": 20,
   "metadata": {},
   "outputs": [
    {
     "data": {
      "text/html": [
       "<div>\n",
       "<style>\n",
       "    .dataframe thead tr:only-child th {\n",
       "        text-align: right;\n",
       "    }\n",
       "\n",
       "    .dataframe thead th {\n",
       "        text-align: left;\n",
       "    }\n",
       "\n",
       "    .dataframe tbody tr th {\n",
       "        vertical-align: top;\n",
       "    }\n",
       "</style>\n",
       "<table border=\"1\" class=\"dataframe\">\n",
       "  <thead>\n",
       "    <tr style=\"text-align: right;\">\n",
       "      <th></th>\n",
       "      <th>id</th>\n",
       "      <th>nviaje</th>\n",
       "      <th>tipo_transporte</th>\n",
       "      <th>t_subida</th>\n",
       "      <th>servicio_subida</th>\n",
       "      <th>par_subida</th>\n",
       "      <th>sitio_subida</th>\n",
       "      <th>fecha_instalacion</th>\n",
       "    </tr>\n",
       "  </thead>\n",
       "  <tbody>\n",
       "    <tr>\n",
       "      <th>218463</th>\n",
       "      <td>88993254</td>\n",
       "      <td>1</td>\n",
       "      <td>BUS</td>\n",
       "      <td>2017-04-11 03:20:01</td>\n",
       "      <td>F28</td>\n",
       "      <td>L-34-52-65-OP</td>\n",
       "      <td>BBJZ70</td>\n",
       "      <td>NaT</td>\n",
       "    </tr>\n",
       "    <tr>\n",
       "      <th>967981</th>\n",
       "      <td>1520963284</td>\n",
       "      <td>1</td>\n",
       "      <td>BUS</td>\n",
       "      <td>2017-04-11 05:32:26</td>\n",
       "      <td>F01</td>\n",
       "      <td>L-34-89-2-PO</td>\n",
       "      <td>BBJZ70</td>\n",
       "      <td>NaT</td>\n",
       "    </tr>\n",
       "    <tr>\n",
       "      <th>962527</th>\n",
       "      <td>1507480586</td>\n",
       "      <td>1</td>\n",
       "      <td>BUS</td>\n",
       "      <td>2017-04-11 05:32:29</td>\n",
       "      <td>F01</td>\n",
       "      <td>L-34-89-2-PO</td>\n",
       "      <td>BBJZ70</td>\n",
       "      <td>NaT</td>\n",
       "    </tr>\n",
       "    <tr>\n",
       "      <th>2403055</th>\n",
       "      <td>3875759531</td>\n",
       "      <td>1</td>\n",
       "      <td>BUS</td>\n",
       "      <td>2017-04-11 05:32:31</td>\n",
       "      <td>F01</td>\n",
       "      <td>L-34-89-2-PO</td>\n",
       "      <td>BBJZ70</td>\n",
       "      <td>NaT</td>\n",
       "    </tr>\n",
       "    <tr>\n",
       "      <th>1969205</th>\n",
       "      <td>3214208356</td>\n",
       "      <td>2</td>\n",
       "      <td>BUS</td>\n",
       "      <td>2017-04-11 05:32:44</td>\n",
       "      <td>F01</td>\n",
       "      <td>L-34-89-2-PO</td>\n",
       "      <td>BBJZ70</td>\n",
       "      <td>NaT</td>\n",
       "    </tr>\n",
       "  </tbody>\n",
       "</table>\n",
       "</div>"
      ],
      "text/plain": [
       "                 id  nviaje tipo_transporte            t_subida  \\\n",
       "218463     88993254       1             BUS 2017-04-11 03:20:01   \n",
       "967981   1520963284       1             BUS 2017-04-11 05:32:26   \n",
       "962527   1507480586       1             BUS 2017-04-11 05:32:29   \n",
       "2403055  3875759531       1             BUS 2017-04-11 05:32:31   \n",
       "1969205  3214208356       2             BUS 2017-04-11 05:32:44   \n",
       "\n",
       "        servicio_subida     par_subida sitio_subida fecha_instalacion  \n",
       "218463              F28  L-34-52-65-OP       BBJZ70               NaT  \n",
       "967981              F01   L-34-89-2-PO       BBJZ70               NaT  \n",
       "962527              F01   L-34-89-2-PO       BBJZ70               NaT  \n",
       "2403055             F01   L-34-89-2-PO       BBJZ70               NaT  \n",
       "1969205             F01   L-34-89-2-PO       BBJZ70               NaT  "
      ]
     },
     "execution_count": 20,
     "metadata": {},
     "output_type": "execute_result"
    }
   ],
   "source": [
    "sorted_df.head()"
   ]
  },
  {
   "cell_type": "code",
   "execution_count": 21,
   "metadata": {},
   "outputs": [
    {
     "data": {
      "text/plain": [
       "11937"
      ]
     },
     "execution_count": 21,
     "metadata": {},
     "output_type": "execute_result"
    }
   ],
   "source": [
    "len(clean_sorted_df.index)"
   ]
  },
  {
   "cell_type": "markdown",
   "metadata": {},
   "source": [
    "* Evasion should be sorted first"
   ]
  },
  {
   "cell_type": "code",
   "execution_count": 22,
   "metadata": {},
   "outputs": [
    {
     "name": "stderr",
     "output_type": "stream",
     "text": [
      "C:\\Users\\leoca_000\\Anaconda3\\lib\\site-packages\\ipykernel_launcher.py:1: SettingWithCopyWarning: \n",
      "A value is trying to be set on a copy of a slice from a DataFrame.\n",
      "Try using .loc[row_indexer,col_indexer] = value instead\n",
      "\n",
      "See the caveats in the documentation: http://pandas.pydata.org/pandas-docs/stable/indexing.html#indexing-view-versus-copy\n",
      "  \"\"\"Entry point for launching an IPython kernel.\n"
     ]
    }
   ],
   "source": [
    "example['TIEMPO'] = example['FECHA'].dt.strftime('%Y-%m-%d') + ' ' + example['TIEMPO']"
   ]
  },
  {
   "cell_type": "code",
   "execution_count": 23,
   "metadata": {},
   "outputs": [
    {
     "name": "stderr",
     "output_type": "stream",
     "text": [
      "C:\\Users\\leoca_000\\Anaconda3\\lib\\site-packages\\ipykernel_launcher.py:1: SettingWithCopyWarning: \n",
      "A value is trying to be set on a copy of a slice from a DataFrame.\n",
      "Try using .loc[row_indexer,col_indexer] = value instead\n",
      "\n",
      "See the caveats in the documentation: http://pandas.pydata.org/pandas-docs/stable/indexing.html#indexing-view-versus-copy\n",
      "  \"\"\"Entry point for launching an IPython kernel.\n"
     ]
    }
   ],
   "source": [
    "example['TIEMPO'] = pd.to_datetime(example['TIEMPO'])"
   ]
  },
  {
   "cell_type": "code",
   "execution_count": 24,
   "metadata": {
    "collapsed": true
   },
   "outputs": [],
   "source": [
    "example = example.sort_values(by=['PATENTE', 'SERVICIO', 'TIEMPO'], ascending=[True, True, True])"
   ]
  },
  {
   "cell_type": "code",
   "execution_count": 25,
   "metadata": {
    "collapsed": true
   },
   "outputs": [],
   "source": [
    "example = example.reset_index(drop =True)"
   ]
  },
  {
   "cell_type": "code",
   "execution_count": 26,
   "metadata": {
    "scrolled": true
   },
   "outputs": [
    {
     "data": {
      "text/html": [
       "<div>\n",
       "<style>\n",
       "    .dataframe thead tr:only-child th {\n",
       "        text-align: right;\n",
       "    }\n",
       "\n",
       "    .dataframe thead th {\n",
       "        text-align: left;\n",
       "    }\n",
       "\n",
       "    .dataframe tbody tr th {\n",
       "        vertical-align: top;\n",
       "    }\n",
       "</style>\n",
       "<table border=\"1\" class=\"dataframe\">\n",
       "  <thead>\n",
       "    <tr style=\"text-align: right;\">\n",
       "      <th></th>\n",
       "      <th>FECHA</th>\n",
       "      <th>HORA</th>\n",
       "      <th>HORA_INICIO</th>\n",
       "      <th>INGRESAN</th>\n",
       "      <th>MINUTO</th>\n",
       "      <th>NO_VALIDAN</th>\n",
       "      <th>N_PUERTA</th>\n",
       "      <th>PATENTE</th>\n",
       "      <th>PUERTAS</th>\n",
       "      <th>SERVICIO</th>\n",
       "      <th>SERVICIO_USUARIO</th>\n",
       "      <th>TIEMPO</th>\n",
       "      <th>TP</th>\n",
       "      <th>UN</th>\n",
       "    </tr>\n",
       "  </thead>\n",
       "  <tbody>\n",
       "    <tr>\n",
       "      <th>0</th>\n",
       "      <td>2017-04-11</td>\n",
       "      <td>15</td>\n",
       "      <td>15:10:00</td>\n",
       "      <td>5</td>\n",
       "      <td>10</td>\n",
       "      <td>0</td>\n",
       "      <td>1</td>\n",
       "      <td>BJFB62</td>\n",
       "      <td>3</td>\n",
       "      <td>507</td>\n",
       "      <td>507</td>\n",
       "      <td>2017-04-11 15:10:00</td>\n",
       "      <td>P</td>\n",
       "      <td>5.0</td>\n",
       "    </tr>\n",
       "    <tr>\n",
       "      <th>1</th>\n",
       "      <td>2017-04-11</td>\n",
       "      <td>15</td>\n",
       "      <td>15:10:00</td>\n",
       "      <td>0</td>\n",
       "      <td>12</td>\n",
       "      <td>0</td>\n",
       "      <td>1</td>\n",
       "      <td>BJFB62</td>\n",
       "      <td>3</td>\n",
       "      <td>507</td>\n",
       "      <td>507</td>\n",
       "      <td>2017-04-11 15:12:00</td>\n",
       "      <td>P</td>\n",
       "      <td>5.0</td>\n",
       "    </tr>\n",
       "    <tr>\n",
       "      <th>2</th>\n",
       "      <td>2017-04-11</td>\n",
       "      <td>15</td>\n",
       "      <td>15:10:00</td>\n",
       "      <td>2</td>\n",
       "      <td>16</td>\n",
       "      <td>1</td>\n",
       "      <td>1</td>\n",
       "      <td>BJFB62</td>\n",
       "      <td>3</td>\n",
       "      <td>507</td>\n",
       "      <td>507</td>\n",
       "      <td>2017-04-11 15:16:00</td>\n",
       "      <td>P</td>\n",
       "      <td>5.0</td>\n",
       "    </tr>\n",
       "    <tr>\n",
       "      <th>3</th>\n",
       "      <td>2017-04-11</td>\n",
       "      <td>15</td>\n",
       "      <td>15:10:00</td>\n",
       "      <td>2</td>\n",
       "      <td>18</td>\n",
       "      <td>1</td>\n",
       "      <td>1</td>\n",
       "      <td>BJFB62</td>\n",
       "      <td>3</td>\n",
       "      <td>507</td>\n",
       "      <td>507</td>\n",
       "      <td>2017-04-11 15:18:00</td>\n",
       "      <td>P</td>\n",
       "      <td>5.0</td>\n",
       "    </tr>\n",
       "    <tr>\n",
       "      <th>4</th>\n",
       "      <td>2017-04-11</td>\n",
       "      <td>15</td>\n",
       "      <td>15:10:00</td>\n",
       "      <td>5</td>\n",
       "      <td>19</td>\n",
       "      <td>4</td>\n",
       "      <td>1</td>\n",
       "      <td>BJFB62</td>\n",
       "      <td>3</td>\n",
       "      <td>507</td>\n",
       "      <td>507</td>\n",
       "      <td>2017-04-11 15:19:00</td>\n",
       "      <td>P</td>\n",
       "      <td>5.0</td>\n",
       "    </tr>\n",
       "    <tr>\n",
       "      <th>5</th>\n",
       "      <td>2017-04-11</td>\n",
       "      <td>15</td>\n",
       "      <td>15:10:00</td>\n",
       "      <td>2</td>\n",
       "      <td>21</td>\n",
       "      <td>2</td>\n",
       "      <td>1</td>\n",
       "      <td>BJFB62</td>\n",
       "      <td>3</td>\n",
       "      <td>507</td>\n",
       "      <td>507</td>\n",
       "      <td>2017-04-11 15:21:00</td>\n",
       "      <td>P</td>\n",
       "      <td>5.0</td>\n",
       "    </tr>\n",
       "    <tr>\n",
       "      <th>6</th>\n",
       "      <td>2017-04-11</td>\n",
       "      <td>15</td>\n",
       "      <td>15:10:00</td>\n",
       "      <td>8</td>\n",
       "      <td>23</td>\n",
       "      <td>0</td>\n",
       "      <td>1</td>\n",
       "      <td>BJFB62</td>\n",
       "      <td>3</td>\n",
       "      <td>507</td>\n",
       "      <td>507</td>\n",
       "      <td>2017-04-11 15:23:00</td>\n",
       "      <td>P</td>\n",
       "      <td>5.0</td>\n",
       "    </tr>\n",
       "    <tr>\n",
       "      <th>7</th>\n",
       "      <td>2017-04-11</td>\n",
       "      <td>15</td>\n",
       "      <td>15:10:00</td>\n",
       "      <td>3</td>\n",
       "      <td>27</td>\n",
       "      <td>1</td>\n",
       "      <td>1</td>\n",
       "      <td>BJFB62</td>\n",
       "      <td>3</td>\n",
       "      <td>507</td>\n",
       "      <td>507</td>\n",
       "      <td>2017-04-11 15:27:00</td>\n",
       "      <td>P</td>\n",
       "      <td>5.0</td>\n",
       "    </tr>\n",
       "  </tbody>\n",
       "</table>\n",
       "</div>"
      ],
      "text/plain": [
       "       FECHA  HORA HORA_INICIO  INGRESAN  MINUTO  NO_VALIDAN  N_PUERTA  \\\n",
       "0 2017-04-11    15    15:10:00         5      10           0         1   \n",
       "1 2017-04-11    15    15:10:00         0      12           0         1   \n",
       "2 2017-04-11    15    15:10:00         2      16           1         1   \n",
       "3 2017-04-11    15    15:10:00         2      18           1         1   \n",
       "4 2017-04-11    15    15:10:00         5      19           4         1   \n",
       "5 2017-04-11    15    15:10:00         2      21           2         1   \n",
       "6 2017-04-11    15    15:10:00         8      23           0         1   \n",
       "7 2017-04-11    15    15:10:00         3      27           1         1   \n",
       "\n",
       "  PATENTE PUERTAS SERVICIO SERVICIO_USUARIO              TIEMPO TP   UN  \n",
       "0  BJFB62       3      507              507 2017-04-11 15:10:00  P  5.0  \n",
       "1  BJFB62       3      507              507 2017-04-11 15:12:00  P  5.0  \n",
       "2  BJFB62       3      507              507 2017-04-11 15:16:00  P  5.0  \n",
       "3  BJFB62       3      507              507 2017-04-11 15:18:00  P  5.0  \n",
       "4  BJFB62       3      507              507 2017-04-11 15:19:00  P  5.0  \n",
       "5  BJFB62       3      507              507 2017-04-11 15:21:00  P  5.0  \n",
       "6  BJFB62       3      507              507 2017-04-11 15:23:00  P  5.0  \n",
       "7  BJFB62       3      507              507 2017-04-11 15:27:00  P  5.0  "
      ]
     },
     "execution_count": 26,
     "metadata": {},
     "output_type": "execute_result"
    }
   ],
   "source": [
    "example.head(8)"
   ]
  },
  {
   "cell_type": "code",
   "execution_count": 27,
   "metadata": {},
   "outputs": [
    {
     "data": {
      "text/html": [
       "<div>\n",
       "<style>\n",
       "    .dataframe thead tr:only-child th {\n",
       "        text-align: right;\n",
       "    }\n",
       "\n",
       "    .dataframe thead th {\n",
       "        text-align: left;\n",
       "    }\n",
       "\n",
       "    .dataframe tbody tr th {\n",
       "        vertical-align: top;\n",
       "    }\n",
       "</style>\n",
       "<table border=\"1\" class=\"dataframe\">\n",
       "  <thead>\n",
       "    <tr style=\"text-align: right;\">\n",
       "      <th></th>\n",
       "      <th>id</th>\n",
       "      <th>nviaje</th>\n",
       "      <th>tipo_transporte</th>\n",
       "      <th>t_subida</th>\n",
       "      <th>servicio_subida</th>\n",
       "      <th>par_subida</th>\n",
       "      <th>sitio_subida</th>\n",
       "      <th>fecha_instalacion</th>\n",
       "    </tr>\n",
       "  </thead>\n",
       "  <tbody>\n",
       "    <tr>\n",
       "      <th>2455144</th>\n",
       "      <td>3921423867</td>\n",
       "      <td>5</td>\n",
       "      <td>BUS</td>\n",
       "      <td>2017-04-11 15:09:21</td>\n",
       "      <td>507</td>\n",
       "      <td>L-32-11-45-NS</td>\n",
       "      <td>BJFB62</td>\n",
       "      <td>NaT</td>\n",
       "    </tr>\n",
       "    <tr>\n",
       "      <th>1981835</th>\n",
       "      <td>3249105194</td>\n",
       "      <td>5</td>\n",
       "      <td>BUS</td>\n",
       "      <td>2017-04-11 15:09:26</td>\n",
       "      <td>507</td>\n",
       "      <td>L-32-11-45-NS</td>\n",
       "      <td>BJFB62</td>\n",
       "      <td>NaT</td>\n",
       "    </tr>\n",
       "    <tr>\n",
       "      <th>2145745</th>\n",
       "      <td>3540430542</td>\n",
       "      <td>5</td>\n",
       "      <td>BUS</td>\n",
       "      <td>2017-04-11 15:09:27</td>\n",
       "      <td>507</td>\n",
       "      <td>L-32-11-45-NS</td>\n",
       "      <td>BJFB62</td>\n",
       "      <td>NaT</td>\n",
       "    </tr>\n",
       "    <tr>\n",
       "      <th>2547799</th>\n",
       "      <td>4011394493</td>\n",
       "      <td>5</td>\n",
       "      <td>BUS</td>\n",
       "      <td>2017-04-11 15:09:29</td>\n",
       "      <td>507</td>\n",
       "      <td>L-32-11-45-NS</td>\n",
       "      <td>BJFB62</td>\n",
       "      <td>NaT</td>\n",
       "    </tr>\n",
       "    <tr>\n",
       "      <th>1212807</th>\n",
       "      <td>2166667651</td>\n",
       "      <td>1</td>\n",
       "      <td>BUS</td>\n",
       "      <td>2017-04-11 15:16:15</td>\n",
       "      <td>507</td>\n",
       "      <td>T-32-156-OP-20</td>\n",
       "      <td>BJFB62</td>\n",
       "      <td>NaT</td>\n",
       "    </tr>\n",
       "    <tr>\n",
       "      <th>885328</th>\n",
       "      <td>1292305198</td>\n",
       "      <td>1</td>\n",
       "      <td>BUS</td>\n",
       "      <td>2017-04-11 15:19:20</td>\n",
       "      <td>507</td>\n",
       "      <td>T-32-156-OP-45</td>\n",
       "      <td>BJFB62</td>\n",
       "      <td>NaT</td>\n",
       "    </tr>\n",
       "    <tr>\n",
       "      <th>2166031</th>\n",
       "      <td>3543518011</td>\n",
       "      <td>3</td>\n",
       "      <td>BUS</td>\n",
       "      <td>2017-04-11 15:20:21</td>\n",
       "      <td>507</td>\n",
       "      <td>T-32-156-OP-50</td>\n",
       "      <td>BJFB62</td>\n",
       "      <td>NaT</td>\n",
       "    </tr>\n",
       "    <tr>\n",
       "      <th>625604</th>\n",
       "      <td>670787563</td>\n",
       "      <td>4</td>\n",
       "      <td>BUS</td>\n",
       "      <td>2017-04-11 15:23:27</td>\n",
       "      <td>507</td>\n",
       "      <td>E-18-156-OP-5</td>\n",
       "      <td>BJFB62</td>\n",
       "      <td>NaT</td>\n",
       "    </tr>\n",
       "    <tr>\n",
       "      <th>1167151</th>\n",
       "      <td>2118814731</td>\n",
       "      <td>2</td>\n",
       "      <td>BUS</td>\n",
       "      <td>2017-04-11 15:23:30</td>\n",
       "      <td>507</td>\n",
       "      <td>E-18-156-OP-5</td>\n",
       "      <td>BJFB62</td>\n",
       "      <td>NaT</td>\n",
       "    </tr>\n",
       "    <tr>\n",
       "      <th>185839</th>\n",
       "      <td>52625842</td>\n",
       "      <td>1</td>\n",
       "      <td>BUS</td>\n",
       "      <td>2017-04-11 15:23:32</td>\n",
       "      <td>507</td>\n",
       "      <td>E-18-156-OP-5</td>\n",
       "      <td>BJFB62</td>\n",
       "      <td>NaT</td>\n",
       "    </tr>\n",
       "    <tr>\n",
       "      <th>1928328</th>\n",
       "      <td>3171666990</td>\n",
       "      <td>3</td>\n",
       "      <td>BUS</td>\n",
       "      <td>2017-04-11 15:23:32</td>\n",
       "      <td>507</td>\n",
       "      <td>E-18-156-OP-5</td>\n",
       "      <td>BJFB62</td>\n",
       "      <td>NaT</td>\n",
       "    </tr>\n",
       "    <tr>\n",
       "      <th>739110</th>\n",
       "      <td>930720571</td>\n",
       "      <td>2</td>\n",
       "      <td>BUS</td>\n",
       "      <td>2017-04-11 15:23:34</td>\n",
       "      <td>507</td>\n",
       "      <td>E-18-156-OP-5</td>\n",
       "      <td>BJFB62</td>\n",
       "      <td>NaT</td>\n",
       "    </tr>\n",
       "    <tr>\n",
       "      <th>1994025</th>\n",
       "      <td>3263196660</td>\n",
       "      <td>2</td>\n",
       "      <td>BUS</td>\n",
       "      <td>2017-04-11 15:23:34</td>\n",
       "      <td>507</td>\n",
       "      <td>E-18-156-OP-5</td>\n",
       "      <td>BJFB62</td>\n",
       "      <td>NaT</td>\n",
       "    </tr>\n",
       "    <tr>\n",
       "      <th>2592308</th>\n",
       "      <td>4040936109</td>\n",
       "      <td>1</td>\n",
       "      <td>BUS</td>\n",
       "      <td>2017-04-11 15:23:36</td>\n",
       "      <td>507</td>\n",
       "      <td>E-18-156-OP-5</td>\n",
       "      <td>BJFB62</td>\n",
       "      <td>NaT</td>\n",
       "    </tr>\n",
       "    <tr>\n",
       "      <th>2066004</th>\n",
       "      <td>3447063707</td>\n",
       "      <td>2</td>\n",
       "      <td>BUS</td>\n",
       "      <td>2017-04-11 15:23:48</td>\n",
       "      <td>507</td>\n",
       "      <td>E-18-156-OP-5</td>\n",
       "      <td>BJFB62</td>\n",
       "      <td>NaT</td>\n",
       "    </tr>\n",
       "  </tbody>\n",
       "</table>\n",
       "</div>"
      ],
      "text/plain": [
       "                 id  nviaje tipo_transporte            t_subida  \\\n",
       "2455144  3921423867       5             BUS 2017-04-11 15:09:21   \n",
       "1981835  3249105194       5             BUS 2017-04-11 15:09:26   \n",
       "2145745  3540430542       5             BUS 2017-04-11 15:09:27   \n",
       "2547799  4011394493       5             BUS 2017-04-11 15:09:29   \n",
       "1212807  2166667651       1             BUS 2017-04-11 15:16:15   \n",
       "885328   1292305198       1             BUS 2017-04-11 15:19:20   \n",
       "2166031  3543518011       3             BUS 2017-04-11 15:20:21   \n",
       "625604    670787563       4             BUS 2017-04-11 15:23:27   \n",
       "1167151  2118814731       2             BUS 2017-04-11 15:23:30   \n",
       "185839     52625842       1             BUS 2017-04-11 15:23:32   \n",
       "1928328  3171666990       3             BUS 2017-04-11 15:23:32   \n",
       "739110    930720571       2             BUS 2017-04-11 15:23:34   \n",
       "1994025  3263196660       2             BUS 2017-04-11 15:23:34   \n",
       "2592308  4040936109       1             BUS 2017-04-11 15:23:36   \n",
       "2066004  3447063707       2             BUS 2017-04-11 15:23:48   \n",
       "\n",
       "        servicio_subida      par_subida sitio_subida fecha_instalacion  \n",
       "2455144             507   L-32-11-45-NS       BJFB62               NaT  \n",
       "1981835             507   L-32-11-45-NS       BJFB62               NaT  \n",
       "2145745             507   L-32-11-45-NS       BJFB62               NaT  \n",
       "2547799             507   L-32-11-45-NS       BJFB62               NaT  \n",
       "1212807             507  T-32-156-OP-20       BJFB62               NaT  \n",
       "885328              507  T-32-156-OP-45       BJFB62               NaT  \n",
       "2166031             507  T-32-156-OP-50       BJFB62               NaT  \n",
       "625604              507   E-18-156-OP-5       BJFB62               NaT  \n",
       "1167151             507   E-18-156-OP-5       BJFB62               NaT  \n",
       "185839              507   E-18-156-OP-5       BJFB62               NaT  \n",
       "1928328             507   E-18-156-OP-5       BJFB62               NaT  \n",
       "739110              507   E-18-156-OP-5       BJFB62               NaT  \n",
       "1994025             507   E-18-156-OP-5       BJFB62               NaT  \n",
       "2592308             507   E-18-156-OP-5       BJFB62               NaT  \n",
       "2066004             507   E-18-156-OP-5       BJFB62               NaT  "
      ]
     },
     "execution_count": 27,
     "metadata": {},
     "output_type": "execute_result"
    }
   ],
   "source": [
    "clean_sorted_df[(clean_sorted_df['sitio_subida']=='BJFB62')&(clean_sorted_df['servicio_subida']=='507')&(clean_sorted_df['t_subida']>=pd.to_datetime('2017-04-11 15:08:00'))].head(15)"
   ]
  },
  {
   "cell_type": "code",
   "execution_count": 28,
   "metadata": {
    "collapsed": true
   },
   "outputs": [],
   "source": [
    "clean_sorted_df = clean_sorted_df.reset_index(drop=True)"
   ]
  },
  {
   "cell_type": "code",
   "execution_count": 29,
   "metadata": {},
   "outputs": [
    {
     "data": {
      "text/html": [
       "<div>\n",
       "<style>\n",
       "    .dataframe thead tr:only-child th {\n",
       "        text-align: right;\n",
       "    }\n",
       "\n",
       "    .dataframe thead th {\n",
       "        text-align: left;\n",
       "    }\n",
       "\n",
       "    .dataframe tbody tr th {\n",
       "        vertical-align: top;\n",
       "    }\n",
       "</style>\n",
       "<table border=\"1\" class=\"dataframe\">\n",
       "  <thead>\n",
       "    <tr style=\"text-align: right;\">\n",
       "      <th></th>\n",
       "      <th>id</th>\n",
       "      <th>nviaje</th>\n",
       "      <th>tipo_transporte</th>\n",
       "      <th>t_subida</th>\n",
       "      <th>servicio_subida</th>\n",
       "      <th>par_subida</th>\n",
       "      <th>sitio_subida</th>\n",
       "      <th>fecha_instalacion</th>\n",
       "    </tr>\n",
       "  </thead>\n",
       "  <tbody>\n",
       "    <tr>\n",
       "      <th>0</th>\n",
       "      <td>3854261808</td>\n",
       "      <td>1</td>\n",
       "      <td>BUS</td>\n",
       "      <td>2017-04-11 08:00:54</td>\n",
       "      <td>507</td>\n",
       "      <td>L-10-55-5-PO</td>\n",
       "      <td>BJFB62</td>\n",
       "      <td>NaT</td>\n",
       "    </tr>\n",
       "    <tr>\n",
       "      <th>1</th>\n",
       "      <td>3857420299</td>\n",
       "      <td>1</td>\n",
       "      <td>BUS</td>\n",
       "      <td>2017-04-11 08:02:49</td>\n",
       "      <td>507</td>\n",
       "      <td>L-10-82-5-PO</td>\n",
       "      <td>BJFB62</td>\n",
       "      <td>NaT</td>\n",
       "    </tr>\n",
       "    <tr>\n",
       "      <th>2</th>\n",
       "      <td>1182024974</td>\n",
       "      <td>1</td>\n",
       "      <td>BUS</td>\n",
       "      <td>2017-04-11 08:03:46</td>\n",
       "      <td>507</td>\n",
       "      <td>L-10-37-20-NS</td>\n",
       "      <td>BJFB62</td>\n",
       "      <td>NaT</td>\n",
       "    </tr>\n",
       "    <tr>\n",
       "      <th>3</th>\n",
       "      <td>3562465182</td>\n",
       "      <td>2</td>\n",
       "      <td>BUS</td>\n",
       "      <td>2017-04-11 08:03:48</td>\n",
       "      <td>507</td>\n",
       "      <td>L-10-37-20-NS</td>\n",
       "      <td>BJFB62</td>\n",
       "      <td>NaT</td>\n",
       "    </tr>\n",
       "    <tr>\n",
       "      <th>4</th>\n",
       "      <td>679843243</td>\n",
       "      <td>1</td>\n",
       "      <td>BUS</td>\n",
       "      <td>2017-04-11 08:06:16</td>\n",
       "      <td>507</td>\n",
       "      <td>L-10-21-45-NS</td>\n",
       "      <td>BJFB62</td>\n",
       "      <td>NaT</td>\n",
       "    </tr>\n",
       "  </tbody>\n",
       "</table>\n",
       "</div>"
      ],
      "text/plain": [
       "           id  nviaje tipo_transporte            t_subida servicio_subida  \\\n",
       "0  3854261808       1             BUS 2017-04-11 08:00:54             507   \n",
       "1  3857420299       1             BUS 2017-04-11 08:02:49             507   \n",
       "2  1182024974       1             BUS 2017-04-11 08:03:46             507   \n",
       "3  3562465182       2             BUS 2017-04-11 08:03:48             507   \n",
       "4   679843243       1             BUS 2017-04-11 08:06:16             507   \n",
       "\n",
       "      par_subida sitio_subida fecha_instalacion  \n",
       "0   L-10-55-5-PO       BJFB62               NaT  \n",
       "1   L-10-82-5-PO       BJFB62               NaT  \n",
       "2  L-10-37-20-NS       BJFB62               NaT  \n",
       "3  L-10-37-20-NS       BJFB62               NaT  \n",
       "4  L-10-21-45-NS       BJFB62               NaT  "
      ]
     },
     "execution_count": 29,
     "metadata": {},
     "output_type": "execute_result"
    }
   ],
   "source": [
    "clean_sorted_df.head()"
   ]
  },
  {
   "cell_type": "markdown",
   "metadata": {},
   "source": [
    "* New Methodology: this methodology is based on appending PARADEROS to evasion ddbb"
   ]
  },
  {
   "cell_type": "code",
   "execution_count": 32,
   "metadata": {},
   "outputs": [
    {
     "data": {
      "text/html": [
       "<div>\n",
       "<style>\n",
       "    .dataframe thead tr:only-child th {\n",
       "        text-align: right;\n",
       "    }\n",
       "\n",
       "    .dataframe thead th {\n",
       "        text-align: left;\n",
       "    }\n",
       "\n",
       "    .dataframe tbody tr th {\n",
       "        vertical-align: top;\n",
       "    }\n",
       "</style>\n",
       "<table border=\"1\" class=\"dataframe\">\n",
       "  <thead>\n",
       "    <tr style=\"text-align: right;\">\n",
       "      <th></th>\n",
       "      <th>FECHA</th>\n",
       "      <th>HORA</th>\n",
       "      <th>HORA_INICIO</th>\n",
       "      <th>INGRESAN</th>\n",
       "      <th>MINUTO</th>\n",
       "      <th>NO_VALIDAN</th>\n",
       "      <th>N_PUERTA</th>\n",
       "      <th>PATENTE</th>\n",
       "      <th>PUERTAS</th>\n",
       "      <th>SERVICIO</th>\n",
       "      <th>SERVICIO_USUARIO</th>\n",
       "      <th>TIEMPO</th>\n",
       "      <th>TP</th>\n",
       "      <th>UN</th>\n",
       "      <th>start_cut</th>\n",
       "      <th>end_cut</th>\n",
       "    </tr>\n",
       "  </thead>\n",
       "  <tbody>\n",
       "    <tr>\n",
       "      <th>0</th>\n",
       "      <td>2017-04-11</td>\n",
       "      <td>15</td>\n",
       "      <td>15:10:00</td>\n",
       "      <td>5</td>\n",
       "      <td>10</td>\n",
       "      <td>0</td>\n",
       "      <td>1</td>\n",
       "      <td>BJFB62</td>\n",
       "      <td>3</td>\n",
       "      <td>507</td>\n",
       "      <td>507</td>\n",
       "      <td>2017-04-11 15:10:00</td>\n",
       "      <td>P</td>\n",
       "      <td>5.0</td>\n",
       "      <td></td>\n",
       "      <td></td>\n",
       "    </tr>\n",
       "    <tr>\n",
       "      <th>1</th>\n",
       "      <td>2017-04-11</td>\n",
       "      <td>15</td>\n",
       "      <td>15:10:00</td>\n",
       "      <td>0</td>\n",
       "      <td>12</td>\n",
       "      <td>0</td>\n",
       "      <td>1</td>\n",
       "      <td>BJFB62</td>\n",
       "      <td>3</td>\n",
       "      <td>507</td>\n",
       "      <td>507</td>\n",
       "      <td>2017-04-11 15:12:00</td>\n",
       "      <td>P</td>\n",
       "      <td>5.0</td>\n",
       "      <td></td>\n",
       "      <td></td>\n",
       "    </tr>\n",
       "    <tr>\n",
       "      <th>2</th>\n",
       "      <td>2017-04-11</td>\n",
       "      <td>15</td>\n",
       "      <td>15:10:00</td>\n",
       "      <td>2</td>\n",
       "      <td>16</td>\n",
       "      <td>1</td>\n",
       "      <td>1</td>\n",
       "      <td>BJFB62</td>\n",
       "      <td>3</td>\n",
       "      <td>507</td>\n",
       "      <td>507</td>\n",
       "      <td>2017-04-11 15:16:00</td>\n",
       "      <td>P</td>\n",
       "      <td>5.0</td>\n",
       "      <td></td>\n",
       "      <td></td>\n",
       "    </tr>\n",
       "    <tr>\n",
       "      <th>3</th>\n",
       "      <td>2017-04-11</td>\n",
       "      <td>15</td>\n",
       "      <td>15:10:00</td>\n",
       "      <td>2</td>\n",
       "      <td>18</td>\n",
       "      <td>1</td>\n",
       "      <td>1</td>\n",
       "      <td>BJFB62</td>\n",
       "      <td>3</td>\n",
       "      <td>507</td>\n",
       "      <td>507</td>\n",
       "      <td>2017-04-11 15:18:00</td>\n",
       "      <td>P</td>\n",
       "      <td>5.0</td>\n",
       "      <td></td>\n",
       "      <td></td>\n",
       "    </tr>\n",
       "    <tr>\n",
       "      <th>4</th>\n",
       "      <td>2017-04-11</td>\n",
       "      <td>15</td>\n",
       "      <td>15:10:00</td>\n",
       "      <td>5</td>\n",
       "      <td>19</td>\n",
       "      <td>4</td>\n",
       "      <td>1</td>\n",
       "      <td>BJFB62</td>\n",
       "      <td>3</td>\n",
       "      <td>507</td>\n",
       "      <td>507</td>\n",
       "      <td>2017-04-11 15:19:00</td>\n",
       "      <td>P</td>\n",
       "      <td>5.0</td>\n",
       "      <td></td>\n",
       "      <td></td>\n",
       "    </tr>\n",
       "  </tbody>\n",
       "</table>\n",
       "</div>"
      ],
      "text/plain": [
       "       FECHA  HORA HORA_INICIO  INGRESAN  MINUTO  NO_VALIDAN  N_PUERTA  \\\n",
       "0 2017-04-11    15    15:10:00         5      10           0         1   \n",
       "1 2017-04-11    15    15:10:00         0      12           0         1   \n",
       "2 2017-04-11    15    15:10:00         2      16           1         1   \n",
       "3 2017-04-11    15    15:10:00         2      18           1         1   \n",
       "4 2017-04-11    15    15:10:00         5      19           4         1   \n",
       "\n",
       "  PATENTE PUERTAS SERVICIO SERVICIO_USUARIO              TIEMPO TP   UN  \\\n",
       "0  BJFB62       3      507              507 2017-04-11 15:10:00  P  5.0   \n",
       "1  BJFB62       3      507              507 2017-04-11 15:12:00  P  5.0   \n",
       "2  BJFB62       3      507              507 2017-04-11 15:16:00  P  5.0   \n",
       "3  BJFB62       3      507              507 2017-04-11 15:18:00  P  5.0   \n",
       "4  BJFB62       3      507              507 2017-04-11 15:19:00  P  5.0   \n",
       "\n",
       "  start_cut end_cut  \n",
       "0                    \n",
       "1                    \n",
       "2                    \n",
       "3                    \n",
       "4                    "
      ]
     },
     "execution_count": 32,
     "metadata": {},
     "output_type": "execute_result"
    }
   ],
   "source": [
    "example.head()"
   ]
  },
  {
   "cell_type": "code",
   "execution_count": null,
   "metadata": {
    "scrolled": false
   },
   "outputs": [
    {
     "name": "stderr",
     "output_type": "stream",
     "text": [
      "C:\\Users\\leoca_000\\Anaconda3\\lib\\site-packages\\ipykernel_launcher.py:49: DeprecationWarning: `Tracer` is deprecated since version 5.1, directly use `IPython.core.debugger.Pdb.set_trace()`\n"
     ]
    },
    {
     "name": "stdout",
     "output_type": "stream",
     "text": [
      "> \u001b[1;32m<ipython-input-105-5d3bca505e89>\u001b[0m(12)\u001b[0;36m<module>\u001b[1;34m()\u001b[0m\n",
      "\u001b[1;32m     10 \u001b[1;33m\u001b[1;32mfrom\u001b[0m \u001b[0mIPython\u001b[0m\u001b[1;33m.\u001b[0m\u001b[0mcore\u001b[0m\u001b[1;33m.\u001b[0m\u001b[0mdebugger\u001b[0m \u001b[1;32mimport\u001b[0m \u001b[0mTracer\u001b[0m\u001b[1;33m\u001b[0m\u001b[0m\n",
      "\u001b[0m\u001b[1;32m     11 \u001b[1;33m\u001b[1;33m\u001b[0m\u001b[0m\n",
      "\u001b[0m\u001b[1;32m---> 12 \u001b[1;33m\u001b[1;32mfor\u001b[0m \u001b[0mindex\u001b[0m\u001b[1;33m,\u001b[0m\u001b[0mrow\u001b[0m \u001b[1;32min\u001b[0m \u001b[0mexample\u001b[0m\u001b[1;33m.\u001b[0m\u001b[0miterrows\u001b[0m\u001b[1;33m(\u001b[0m\u001b[1;33m)\u001b[0m\u001b[1;33m:\u001b[0m\u001b[1;33m\u001b[0m\u001b[0m\n",
      "\u001b[0m\u001b[1;32m     13 \u001b[1;33m    \u001b[0mfuture_index\u001b[0m \u001b[1;33m=\u001b[0m \u001b[0mindex\u001b[0m\u001b[1;33m+\u001b[0m\u001b[1;36m1\u001b[0m\u001b[1;33m\u001b[0m\u001b[0m\n",
      "\u001b[0m\u001b[1;32m     14 \u001b[1;33m    \u001b[0mactual_plate\u001b[0m \u001b[1;33m=\u001b[0m \u001b[0mrow\u001b[0m\u001b[1;33m[\u001b[0m\u001b[1;34m'PATENTE'\u001b[0m\u001b[1;33m]\u001b[0m\u001b[1;33m\u001b[0m\u001b[0m\n",
      "\u001b[0m\n",
      "ipdb> example.loc[index]\n",
      "FECHA               2017-04-11 00:00:00\n",
      "HORA                                 15\n",
      "HORA_INICIO                    15:10:00\n",
      "INGRESAN                              4\n",
      "MINUTO                               34\n",
      "NO_VALIDAN                            2\n",
      "N_PUERTA                              1\n",
      "PATENTE                          BJFB62\n",
      "PUERTAS                               3\n",
      "SERVICIO                            507\n",
      "SERVICIO_USUARIO                    507\n",
      "TIEMPO              2017-04-11 15:34:00\n",
      "TP                                    P\n",
      "UN                                    5\n",
      "start_cut           2017-04-11 15:33:00\n",
      "end_cut             2017-04-11 15:34:30\n",
      "paradero                 T-18-156-OP-53\n",
      "Name: 10, dtype: object\n",
      "ipdb> c\n"
     ]
    },
    {
     "name": "stderr",
     "output_type": "stream",
     "text": [
      "C:\\Users\\leoca_000\\Anaconda3\\lib\\site-packages\\ipykernel_launcher.py:12: DeprecationWarning: `Tracer` is deprecated since version 5.1, directly use `IPython.core.debugger.Pdb.set_trace()`\n",
      "  if sys.path[0] == '':\n"
     ]
    },
    {
     "name": "stdout",
     "output_type": "stream",
     "text": [
      "> \u001b[1;32m<ipython-input-105-5d3bca505e89>\u001b[0m(12)\u001b[0;36m<module>\u001b[1;34m()\u001b[0m\n",
      "\u001b[1;32m     10 \u001b[1;33m\u001b[1;32mfrom\u001b[0m \u001b[0mIPython\u001b[0m\u001b[1;33m.\u001b[0m\u001b[0mcore\u001b[0m\u001b[1;33m.\u001b[0m\u001b[0mdebugger\u001b[0m \u001b[1;32mimport\u001b[0m \u001b[0mTracer\u001b[0m\u001b[1;33m\u001b[0m\u001b[0m\n",
      "\u001b[0m\u001b[1;32m     11 \u001b[1;33m\u001b[1;33m\u001b[0m\u001b[0m\n",
      "\u001b[0m\u001b[1;32m---> 12 \u001b[1;33m\u001b[1;32mfor\u001b[0m \u001b[0mindex\u001b[0m\u001b[1;33m,\u001b[0m\u001b[0mrow\u001b[0m \u001b[1;32min\u001b[0m \u001b[0mexample\u001b[0m\u001b[1;33m.\u001b[0m\u001b[0miterrows\u001b[0m\u001b[1;33m(\u001b[0m\u001b[1;33m)\u001b[0m\u001b[1;33m:\u001b[0m\u001b[1;33m\u001b[0m\u001b[0m\n",
      "\u001b[0m\u001b[1;32m     13 \u001b[1;33m    \u001b[0mfuture_index\u001b[0m \u001b[1;33m=\u001b[0m \u001b[0mindex\u001b[0m\u001b[1;33m+\u001b[0m\u001b[1;36m1\u001b[0m\u001b[1;33m\u001b[0m\u001b[0m\n",
      "\u001b[0m\u001b[1;32m     14 \u001b[1;33m    \u001b[0mactual_plate\u001b[0m \u001b[1;33m=\u001b[0m \u001b[0mrow\u001b[0m\u001b[1;33m[\u001b[0m\u001b[1;34m'PATENTE'\u001b[0m\u001b[1;33m]\u001b[0m\u001b[1;33m\u001b[0m\u001b[0m\n",
      "\u001b[0m\n",
      "ipdb> example.loc[index]\n",
      "FECHA               2017-04-11 00:00:00\n",
      "HORA                                 15\n",
      "HORA_INICIO                    15:10:00\n",
      "INGRESAN                              1\n",
      "MINUTO                               35\n",
      "NO_VALIDAN                            1\n",
      "N_PUERTA                              1\n",
      "PATENTE                          BJFB62\n",
      "PUERTAS                               3\n",
      "SERVICIO                            507\n",
      "SERVICIO_USUARIO                    507\n",
      "TIEMPO              2017-04-11 15:35:00\n",
      "TP                                    P\n",
      "UN                                    5\n",
      "start_cut           2017-04-11 15:34:30\n",
      "end_cut             2017-04-11 15:36:00\n",
      "paradero                               \n",
      "Name: 11, dtype: object\n",
      "ipdb> c\n",
      "> \u001b[1;32m<ipython-input-105-5d3bca505e89>\u001b[0m(12)\u001b[0;36m<module>\u001b[1;34m()\u001b[0m\n",
      "\u001b[1;32m     10 \u001b[1;33m\u001b[1;32mfrom\u001b[0m \u001b[0mIPython\u001b[0m\u001b[1;33m.\u001b[0m\u001b[0mcore\u001b[0m\u001b[1;33m.\u001b[0m\u001b[0mdebugger\u001b[0m \u001b[1;32mimport\u001b[0m \u001b[0mTracer\u001b[0m\u001b[1;33m\u001b[0m\u001b[0m\n",
      "\u001b[0m\u001b[1;32m     11 \u001b[1;33m\u001b[1;33m\u001b[0m\u001b[0m\n",
      "\u001b[0m\u001b[1;32m---> 12 \u001b[1;33m\u001b[1;32mfor\u001b[0m \u001b[0mindex\u001b[0m\u001b[1;33m,\u001b[0m\u001b[0mrow\u001b[0m \u001b[1;32min\u001b[0m \u001b[0mexample\u001b[0m\u001b[1;33m.\u001b[0m\u001b[0miterrows\u001b[0m\u001b[1;33m(\u001b[0m\u001b[1;33m)\u001b[0m\u001b[1;33m:\u001b[0m\u001b[1;33m\u001b[0m\u001b[0m\n",
      "\u001b[0m\u001b[1;32m     13 \u001b[1;33m    \u001b[0mfuture_index\u001b[0m \u001b[1;33m=\u001b[0m \u001b[0mindex\u001b[0m\u001b[1;33m+\u001b[0m\u001b[1;36m1\u001b[0m\u001b[1;33m\u001b[0m\u001b[0m\n",
      "\u001b[0m\u001b[1;32m     14 \u001b[1;33m    \u001b[0mactual_plate\u001b[0m \u001b[1;33m=\u001b[0m \u001b[0mrow\u001b[0m\u001b[1;33m[\u001b[0m\u001b[1;34m'PATENTE'\u001b[0m\u001b[1;33m]\u001b[0m\u001b[1;33m\u001b[0m\u001b[0m\n",
      "\u001b[0m\n",
      "ipdb> example.loc[index]\n",
      "FECHA               2017-04-11 00:00:00\n",
      "HORA                                 15\n",
      "HORA_INICIO                    15:10:00\n",
      "INGRESAN                              5\n",
      "MINUTO                               37\n",
      "NO_VALIDAN                            0\n",
      "N_PUERTA                              1\n",
      "PATENTE                          BJFB62\n",
      "PUERTAS                               3\n",
      "SERVICIO                            507\n",
      "SERVICIO_USUARIO                    507\n",
      "TIEMPO              2017-04-11 15:37:00\n",
      "TP                                    P\n",
      "UN                                    5\n",
      "start_cut           2017-04-11 15:36:00\n",
      "end_cut             2017-04-11 15:38:00\n",
      "paradero                               \n",
      "Name: 12, dtype: object\n",
      "ipdb> c\n",
      "> \u001b[1;32m<ipython-input-105-5d3bca505e89>\u001b[0m(12)\u001b[0;36m<module>\u001b[1;34m()\u001b[0m\n",
      "\u001b[1;32m     10 \u001b[1;33m\u001b[1;32mfrom\u001b[0m \u001b[0mIPython\u001b[0m\u001b[1;33m.\u001b[0m\u001b[0mcore\u001b[0m\u001b[1;33m.\u001b[0m\u001b[0mdebugger\u001b[0m \u001b[1;32mimport\u001b[0m \u001b[0mTracer\u001b[0m\u001b[1;33m\u001b[0m\u001b[0m\n",
      "\u001b[0m\u001b[1;32m     11 \u001b[1;33m\u001b[1;33m\u001b[0m\u001b[0m\n",
      "\u001b[0m\u001b[1;32m---> 12 \u001b[1;33m\u001b[1;32mfor\u001b[0m \u001b[0mindex\u001b[0m\u001b[1;33m,\u001b[0m\u001b[0mrow\u001b[0m \u001b[1;32min\u001b[0m \u001b[0mexample\u001b[0m\u001b[1;33m.\u001b[0m\u001b[0miterrows\u001b[0m\u001b[1;33m(\u001b[0m\u001b[1;33m)\u001b[0m\u001b[1;33m:\u001b[0m\u001b[1;33m\u001b[0m\u001b[0m\n",
      "\u001b[0m\u001b[1;32m     13 \u001b[1;33m    \u001b[0mfuture_index\u001b[0m \u001b[1;33m=\u001b[0m \u001b[0mindex\u001b[0m\u001b[1;33m+\u001b[0m\u001b[1;36m1\u001b[0m\u001b[1;33m\u001b[0m\u001b[0m\n",
      "\u001b[0m\u001b[1;32m     14 \u001b[1;33m    \u001b[0mactual_plate\u001b[0m \u001b[1;33m=\u001b[0m \u001b[0mrow\u001b[0m\u001b[1;33m[\u001b[0m\u001b[1;34m'PATENTE'\u001b[0m\u001b[1;33m]\u001b[0m\u001b[1;33m\u001b[0m\u001b[0m\n",
      "\u001b[0m\n",
      "ipdb> example.loc[index]\n",
      "FECHA               2017-04-11 00:00:00\n",
      "HORA                                 15\n",
      "HORA_INICIO                    15:10:00\n",
      "INGRESAN                              1\n",
      "MINUTO                               39\n",
      "NO_VALIDAN                            0\n",
      "N_PUERTA                              1\n",
      "PATENTE                          BJFB62\n",
      "PUERTAS                               3\n",
      "SERVICIO                            507\n",
      "SERVICIO_USUARIO                    507\n",
      "TIEMPO              2017-04-11 15:39:00\n",
      "TP                                    P\n",
      "UN                                    5\n",
      "start_cut           2017-04-11 15:38:00\n",
      "end_cut             2017-04-11 15:40:30\n",
      "paradero                               \n",
      "Name: 13, dtype: object\n",
      "ipdb> example.loc[index,'start_cut']\n",
      "Timestamp('2017-04-11 15:38:00')\n",
      "ipdb> actual_paradero\n",
      "*** NameError: name 'actual_paradero' is not defined\n",
      "ipdb> actual_par_subida\n",
      "['T-18-156-OP-62', 'T-18-156-OP-65']\n"
     ]
    }
   ],
   "source": [
    "i = 0\n",
    "past_plate = '-'\n",
    "past_service = '-'\n",
    "\n",
    "example['start_cut']=''\n",
    "example['end_cut']=''\n",
    "example['paradero']=''\n",
    "past_util_df = pd.DataFrame()\n",
    "past_par_subida = ['']\n",
    "from IPython.core.debugger import Tracer\n",
    "\n",
    "for index,row in example.iterrows():\n",
    "    future_index = index+1\n",
    "    actual_plate = row['PATENTE']\n",
    "    actual_service = row['SERVICIO']\n",
    "    actual_hour = row['TIEMPO']\n",
    "    \n",
    "    if (actual_plate!=past_plate)|(actual_service!=past_service):\n",
    "        past_hour = pd.to_datetime('2017-04-11 00:00:00') #Starting hour <- consider to change this\n",
    "        \n",
    "    if past_hour == pd.to_datetime('2017-04-11 00:00:00'): #Assuming a pre-defined value, i.e., 1 minute.\n",
    "        start_cut = actual_hour - (pd.to_datetime('2017-04-11 00:02:00') - pd.to_datetime('2017-04-11 00:01:00'))\n",
    "    else:\n",
    "        start_cut = actual_hour - (actual_hour - past_hour)/2\n",
    "    \n",
    "    if future_index >= len(example.index): #We are at the end of the ddff. Assuming a pre-defined value, i.e., 1 minute.\n",
    "        end_cut = actual_hour + (pd.to_datetime('2017-04-11 00:02:00') - pd.to_datetime('2017-04-11 00:01:00'))\n",
    "    else:\n",
    "        future_hour = example.loc[future_index,'TIEMPO']\n",
    "        end_cut = actual_hour + (future_hour - actual_hour)/2\n",
    "        \n",
    "    actual_util_df = clean_sorted_df[(clean_sorted_df['sitio_subida']==actual_plate)&(clean_sorted_df['servicio_subida']==actual_service)&((start_cut<=clean_sorted_df['t_subida'])&(clean_sorted_df['t_subida']<=end_cut))]\n",
    "    actual_par_subida = actual_util_df['par_subida'].unique().tolist()\n",
    "    \n",
    "    if len(actual_par_subida)==1:\n",
    "        example.loc[index,'paradero']=actual_par_subida[0]\n",
    "    elif (len(actual_par_subida)>1)&(len(past_par_subida)>=1):\n",
    "        if (past_par_subida[(len(past_par_subida)-1)]==actual_par_subida[0]):\n",
    "            example.loc[index,'paradero']=actual_par_subida[1]\n",
    "    \n",
    "    past_par_subida = actual_par_subida\n",
    "    \n",
    "    example.loc[index,'start_cut']=start_cut\n",
    "    example.loc[index,'end_cut']=end_cut\n",
    "    past_plate = actual_plate\n",
    "    past_service = actual_service\n",
    "    past_hour = actual_hour\n",
    "    if index>=10:\n",
    "        Tracer()()\n",
    "#    if \n",
    "    \n",
    "\n",
    "#    if ((example.loc[index,'PATENTE']=='BJFB62')&(example.loc[index,'SERVICIO']=='507')&(pd.to_datetime('2017-04-11 15:29:00')<=example.loc[index,'TIEMPO'])&(example.loc[index,'TIEMPO']<=pd.to_datetime('2017-04-11 15:35:00'))):\n",
    "#        print(past_par_subida)\n",
    "#        print(actual_par_subida)\n",
    "#        print('separator')\n",
    "    \n",
    "        \n",
    "#    past_util_df = actual_util_df\n",
    "\n",
    "      \n",
    "#    util_df_indexes = util_df.index.values\n",
    "#    number_of_indexes = len(util_df_indexes)\n",
    "    \n",
    "#    first_util_df_index = util_df_indexes[0]\n",
    "#    last_util_df_index = util_df_indexes[number_of_indexes-1]\n",
    "    #Checking up of util_df --- until a condition is reached\n",
    "#    j=1\n",
    "#    while True:\n",
    "#        upper_util_row = clean_filtered_df.loc(first_util_df_index-j)\n",
    "#        if upper_util_row['par_subida'] == util_df['par_subida']: #Si el paradero de subida de la fila inmediatamente anterior al util_df es el mismo, then append it and continue < the issue here es que hay que sacarlo del util_df anteriormente analizado...\n",
    "#            util_df.concat[upper_util_row]\n",
    "#            j=j+1\n",
    "#        else \n",
    "    \n",
    "    \n",
    "#    total_delta = util_df['diferencia_tiempo_secs'].sum()\n",
    "#    mean_delta = util_df['diferencia_tiempo_secs'].mean()\n",
    "#    count_delta = util_df['diferencia_tiempo_secs'].count() \n",
    "    \n",
    "#    example.loc[index,'total_delta'] = total_delta\n",
    "#    example.loc[index,'mean_delta'] = mean_delta\n",
    "#    example.loc[index,'count_delta'] = count_delta\n",
    "\n",
    "#    i=i+1\n",
    "#    if (actual_plate == 'ZN6539')&(actual_service=='109'):\n",
    "#        print(i)\n",
    "#        print(start_cut)\n",
    "#        print(end_cut)\n",
    "\n",
    "#        break"
   ]
  },
  {
   "cell_type": "code",
   "execution_count": 99,
   "metadata": {
    "scrolled": true
   },
   "outputs": [
    {
     "data": {
      "text/html": [
       "<div>\n",
       "<style>\n",
       "    .dataframe thead tr:only-child th {\n",
       "        text-align: right;\n",
       "    }\n",
       "\n",
       "    .dataframe thead th {\n",
       "        text-align: left;\n",
       "    }\n",
       "\n",
       "    .dataframe tbody tr th {\n",
       "        vertical-align: top;\n",
       "    }\n",
       "</style>\n",
       "<table border=\"1\" class=\"dataframe\">\n",
       "  <thead>\n",
       "    <tr style=\"text-align: right;\">\n",
       "      <th></th>\n",
       "      <th>FECHA</th>\n",
       "      <th>HORA</th>\n",
       "      <th>HORA_INICIO</th>\n",
       "      <th>INGRESAN</th>\n",
       "      <th>MINUTO</th>\n",
       "      <th>NO_VALIDAN</th>\n",
       "      <th>N_PUERTA</th>\n",
       "      <th>PATENTE</th>\n",
       "      <th>PUERTAS</th>\n",
       "      <th>SERVICIO</th>\n",
       "      <th>SERVICIO_USUARIO</th>\n",
       "      <th>TIEMPO</th>\n",
       "      <th>TP</th>\n",
       "      <th>UN</th>\n",
       "      <th>start_cut</th>\n",
       "      <th>end_cut</th>\n",
       "      <th>paradero</th>\n",
       "    </tr>\n",
       "  </thead>\n",
       "  <tbody>\n",
       "    <tr>\n",
       "      <th>13</th>\n",
       "      <td>2017-04-11</td>\n",
       "      <td>15</td>\n",
       "      <td>15:10:00</td>\n",
       "      <td>1</td>\n",
       "      <td>39</td>\n",
       "      <td>0</td>\n",
       "      <td>1</td>\n",
       "      <td>BJFB62</td>\n",
       "      <td>3</td>\n",
       "      <td>507</td>\n",
       "      <td>507</td>\n",
       "      <td>2017-04-11 15:39:00</td>\n",
       "      <td>P</td>\n",
       "      <td>5.0</td>\n",
       "      <td>2017-04-11 15:38:00</td>\n",
       "      <td>2017-04-11 15:40:30</td>\n",
       "      <td></td>\n",
       "    </tr>\n",
       "    <tr>\n",
       "      <th>14</th>\n",
       "      <td>2017-04-11</td>\n",
       "      <td>15</td>\n",
       "      <td>15:10:00</td>\n",
       "      <td>10</td>\n",
       "      <td>42</td>\n",
       "      <td>3</td>\n",
       "      <td>1</td>\n",
       "      <td>BJFB62</td>\n",
       "      <td>3</td>\n",
       "      <td>507</td>\n",
       "      <td>507</td>\n",
       "      <td>2017-04-11 15:42:00</td>\n",
       "      <td>P</td>\n",
       "      <td>5.0</td>\n",
       "      <td>2017-04-11 15:40:30</td>\n",
       "      <td>2017-04-11 15:43:00</td>\n",
       "      <td>E-18-156-OP-70</td>\n",
       "    </tr>\n",
       "    <tr>\n",
       "      <th>15</th>\n",
       "      <td>2017-04-11</td>\n",
       "      <td>15</td>\n",
       "      <td>15:10:00</td>\n",
       "      <td>2</td>\n",
       "      <td>44</td>\n",
       "      <td>1</td>\n",
       "      <td>1</td>\n",
       "      <td>BJFB62</td>\n",
       "      <td>3</td>\n",
       "      <td>507</td>\n",
       "      <td>507</td>\n",
       "      <td>2017-04-11 15:44:00</td>\n",
       "      <td>P</td>\n",
       "      <td>5.0</td>\n",
       "      <td>2017-04-11 15:43:00</td>\n",
       "      <td>2017-04-11 15:45:00</td>\n",
       "      <td>E-18-156-OP-70</td>\n",
       "    </tr>\n",
       "    <tr>\n",
       "      <th>16</th>\n",
       "      <td>2017-04-11</td>\n",
       "      <td>15</td>\n",
       "      <td>15:10:00</td>\n",
       "      <td>7</td>\n",
       "      <td>46</td>\n",
       "      <td>5</td>\n",
       "      <td>1</td>\n",
       "      <td>BJFB62</td>\n",
       "      <td>3</td>\n",
       "      <td>507</td>\n",
       "      <td>507</td>\n",
       "      <td>2017-04-11 15:46:00</td>\n",
       "      <td>P</td>\n",
       "      <td>5.0</td>\n",
       "      <td>2017-04-11 15:45:00</td>\n",
       "      <td>2017-04-11 15:47:00</td>\n",
       "      <td></td>\n",
       "    </tr>\n",
       "  </tbody>\n",
       "</table>\n",
       "</div>"
      ],
      "text/plain": [
       "        FECHA  HORA HORA_INICIO  INGRESAN  MINUTO  NO_VALIDAN  N_PUERTA  \\\n",
       "13 2017-04-11    15    15:10:00         1      39           0         1   \n",
       "14 2017-04-11    15    15:10:00        10      42           3         1   \n",
       "15 2017-04-11    15    15:10:00         2      44           1         1   \n",
       "16 2017-04-11    15    15:10:00         7      46           5         1   \n",
       "\n",
       "   PATENTE PUERTAS SERVICIO SERVICIO_USUARIO              TIEMPO TP   UN  \\\n",
       "13  BJFB62       3      507              507 2017-04-11 15:39:00  P  5.0   \n",
       "14  BJFB62       3      507              507 2017-04-11 15:42:00  P  5.0   \n",
       "15  BJFB62       3      507              507 2017-04-11 15:44:00  P  5.0   \n",
       "16  BJFB62       3      507              507 2017-04-11 15:46:00  P  5.0   \n",
       "\n",
       "              start_cut              end_cut        paradero  \n",
       "13  2017-04-11 15:38:00  2017-04-11 15:40:30                  \n",
       "14  2017-04-11 15:40:30  2017-04-11 15:43:00  E-18-156-OP-70  \n",
       "15  2017-04-11 15:43:00  2017-04-11 15:45:00  E-18-156-OP-70  \n",
       "16  2017-04-11 15:45:00  2017-04-11 15:47:00                  "
      ]
     },
     "execution_count": 99,
     "metadata": {},
     "output_type": "execute_result"
    }
   ],
   "source": [
    "example.loc[13:16]"
   ]
  },
  {
   "cell_type": "code",
   "execution_count": 102,
   "metadata": {},
   "outputs": [
    {
     "data": {
      "text/html": [
       "<div>\n",
       "<style>\n",
       "    .dataframe thead tr:only-child th {\n",
       "        text-align: right;\n",
       "    }\n",
       "\n",
       "    .dataframe thead th {\n",
       "        text-align: left;\n",
       "    }\n",
       "\n",
       "    .dataframe tbody tr th {\n",
       "        vertical-align: top;\n",
       "    }\n",
       "</style>\n",
       "<table border=\"1\" class=\"dataframe\">\n",
       "  <thead>\n",
       "    <tr style=\"text-align: right;\">\n",
       "      <th></th>\n",
       "      <th>id</th>\n",
       "      <th>nviaje</th>\n",
       "      <th>tipo_transporte</th>\n",
       "      <th>t_subida</th>\n",
       "      <th>servicio_subida</th>\n",
       "      <th>par_subida</th>\n",
       "      <th>sitio_subida</th>\n",
       "      <th>fecha_instalacion</th>\n",
       "    </tr>\n",
       "  </thead>\n",
       "  <tbody>\n",
       "    <tr>\n",
       "      <th>72</th>\n",
       "      <td>2164429267</td>\n",
       "      <td>2</td>\n",
       "      <td>BUS</td>\n",
       "      <td>2017-04-11 15:39:55</td>\n",
       "      <td>507</td>\n",
       "      <td>T-18-156-OP-65</td>\n",
       "      <td>BJFB62</td>\n",
       "      <td>NaT</td>\n",
       "    </tr>\n",
       "    <tr>\n",
       "      <th>73</th>\n",
       "      <td>81978614</td>\n",
       "      <td>2</td>\n",
       "      <td>BUS</td>\n",
       "      <td>2017-04-11 15:42:39</td>\n",
       "      <td>507</td>\n",
       "      <td>E-18-156-OP-70</td>\n",
       "      <td>BJFB62</td>\n",
       "      <td>NaT</td>\n",
       "    </tr>\n",
       "    <tr>\n",
       "      <th>74</th>\n",
       "      <td>1794035998</td>\n",
       "      <td>1</td>\n",
       "      <td>BUS</td>\n",
       "      <td>2017-04-11 15:42:42</td>\n",
       "      <td>507</td>\n",
       "      <td>E-18-156-OP-70</td>\n",
       "      <td>BJFB62</td>\n",
       "      <td>NaT</td>\n",
       "    </tr>\n",
       "    <tr>\n",
       "      <th>75</th>\n",
       "      <td>3211081812</td>\n",
       "      <td>1</td>\n",
       "      <td>BUS</td>\n",
       "      <td>2017-04-11 15:42:46</td>\n",
       "      <td>507</td>\n",
       "      <td>E-18-156-OP-70</td>\n",
       "      <td>BJFB62</td>\n",
       "      <td>NaT</td>\n",
       "    </tr>\n",
       "    <tr>\n",
       "      <th>76</th>\n",
       "      <td>3575968910</td>\n",
       "      <td>1</td>\n",
       "      <td>BUS</td>\n",
       "      <td>2017-04-11 15:42:52</td>\n",
       "      <td>507</td>\n",
       "      <td>E-18-156-OP-70</td>\n",
       "      <td>BJFB62</td>\n",
       "      <td>NaT</td>\n",
       "    </tr>\n",
       "    <tr>\n",
       "      <th>77</th>\n",
       "      <td>3060750619</td>\n",
       "      <td>1</td>\n",
       "      <td>BUS</td>\n",
       "      <td>2017-04-11 15:42:55</td>\n",
       "      <td>507</td>\n",
       "      <td>E-18-156-OP-70</td>\n",
       "      <td>BJFB62</td>\n",
       "      <td>NaT</td>\n",
       "    </tr>\n",
       "    <tr>\n",
       "      <th>78</th>\n",
       "      <td>3538608846</td>\n",
       "      <td>2</td>\n",
       "      <td>BUS</td>\n",
       "      <td>2017-04-11 15:42:59</td>\n",
       "      <td>507</td>\n",
       "      <td>E-18-156-OP-70</td>\n",
       "      <td>BJFB62</td>\n",
       "      <td>NaT</td>\n",
       "    </tr>\n",
       "    <tr>\n",
       "      <th>79</th>\n",
       "      <td>2510130878</td>\n",
       "      <td>4</td>\n",
       "      <td>BUS</td>\n",
       "      <td>2017-04-11 15:43:02</td>\n",
       "      <td>507</td>\n",
       "      <td>E-18-156-OP-70</td>\n",
       "      <td>BJFB62</td>\n",
       "      <td>NaT</td>\n",
       "    </tr>\n",
       "    <tr>\n",
       "      <th>80</th>\n",
       "      <td>2509851950</td>\n",
       "      <td>3</td>\n",
       "      <td>BUS</td>\n",
       "      <td>2017-04-11 15:43:08</td>\n",
       "      <td>507</td>\n",
       "      <td>E-18-156-OP-70</td>\n",
       "      <td>BJFB62</td>\n",
       "      <td>NaT</td>\n",
       "    </tr>\n",
       "    <tr>\n",
       "      <th>81</th>\n",
       "      <td>2394856299</td>\n",
       "      <td>2</td>\n",
       "      <td>BUS</td>\n",
       "      <td>2017-04-11 15:45:27</td>\n",
       "      <td>507</td>\n",
       "      <td>T-20-189-OP-5</td>\n",
       "      <td>BJFB62</td>\n",
       "      <td>NaT</td>\n",
       "    </tr>\n",
       "    <tr>\n",
       "      <th>82</th>\n",
       "      <td>3572169502</td>\n",
       "      <td>1</td>\n",
       "      <td>BUS</td>\n",
       "      <td>2017-04-11 15:46:57</td>\n",
       "      <td>507</td>\n",
       "      <td>T-20-189-OP-10</td>\n",
       "      <td>BJFB62</td>\n",
       "      <td>NaT</td>\n",
       "    </tr>\n",
       "    <tr>\n",
       "      <th>83</th>\n",
       "      <td>2820427411</td>\n",
       "      <td>2</td>\n",
       "      <td>BUS</td>\n",
       "      <td>2017-04-11 15:49:40</td>\n",
       "      <td>507</td>\n",
       "      <td>T-20-189-OP-20</td>\n",
       "      <td>BJFB62</td>\n",
       "      <td>NaT</td>\n",
       "    </tr>\n",
       "    <tr>\n",
       "      <th>84</th>\n",
       "      <td>2027507114</td>\n",
       "      <td>1</td>\n",
       "      <td>BUS</td>\n",
       "      <td>2017-04-11 15:49:56</td>\n",
       "      <td>507</td>\n",
       "      <td>T-20-189-OP-20</td>\n",
       "      <td>BJFB62</td>\n",
       "      <td>NaT</td>\n",
       "    </tr>\n",
       "    <tr>\n",
       "      <th>85</th>\n",
       "      <td>3955578171</td>\n",
       "      <td>1</td>\n",
       "      <td>BUS</td>\n",
       "      <td>2017-04-11 15:49:56</td>\n",
       "      <td>507</td>\n",
       "      <td>T-20-189-OP-20</td>\n",
       "      <td>BJFB62</td>\n",
       "      <td>NaT</td>\n",
       "    </tr>\n",
       "  </tbody>\n",
       "</table>\n",
       "</div>"
      ],
      "text/plain": [
       "            id  nviaje tipo_transporte            t_subida servicio_subida  \\\n",
       "72  2164429267       2             BUS 2017-04-11 15:39:55             507   \n",
       "73    81978614       2             BUS 2017-04-11 15:42:39             507   \n",
       "74  1794035998       1             BUS 2017-04-11 15:42:42             507   \n",
       "75  3211081812       1             BUS 2017-04-11 15:42:46             507   \n",
       "76  3575968910       1             BUS 2017-04-11 15:42:52             507   \n",
       "77  3060750619       1             BUS 2017-04-11 15:42:55             507   \n",
       "78  3538608846       2             BUS 2017-04-11 15:42:59             507   \n",
       "79  2510130878       4             BUS 2017-04-11 15:43:02             507   \n",
       "80  2509851950       3             BUS 2017-04-11 15:43:08             507   \n",
       "81  2394856299       2             BUS 2017-04-11 15:45:27             507   \n",
       "82  3572169502       1             BUS 2017-04-11 15:46:57             507   \n",
       "83  2820427411       2             BUS 2017-04-11 15:49:40             507   \n",
       "84  2027507114       1             BUS 2017-04-11 15:49:56             507   \n",
       "85  3955578171       1             BUS 2017-04-11 15:49:56             507   \n",
       "\n",
       "        par_subida sitio_subida fecha_instalacion  \n",
       "72  T-18-156-OP-65       BJFB62               NaT  \n",
       "73  E-18-156-OP-70       BJFB62               NaT  \n",
       "74  E-18-156-OP-70       BJFB62               NaT  \n",
       "75  E-18-156-OP-70       BJFB62               NaT  \n",
       "76  E-18-156-OP-70       BJFB62               NaT  \n",
       "77  E-18-156-OP-70       BJFB62               NaT  \n",
       "78  E-18-156-OP-70       BJFB62               NaT  \n",
       "79  E-18-156-OP-70       BJFB62               NaT  \n",
       "80  E-18-156-OP-70       BJFB62               NaT  \n",
       "81   T-20-189-OP-5       BJFB62               NaT  \n",
       "82  T-20-189-OP-10       BJFB62               NaT  \n",
       "83  T-20-189-OP-20       BJFB62               NaT  \n",
       "84  T-20-189-OP-20       BJFB62               NaT  \n",
       "85  T-20-189-OP-20       BJFB62               NaT  "
      ]
     },
     "execution_count": 102,
     "metadata": {},
     "output_type": "execute_result"
    }
   ],
   "source": [
    "clean_sorted_df.loc[72:85]"
   ]
  },
  {
   "cell_type": "code",
   "execution_count": 31,
   "metadata": {},
   "outputs": [
    {
     "data": {
      "text/plain": [
       "['T-20-176-SN-40']"
      ]
     },
     "execution_count": 31,
     "metadata": {},
     "output_type": "execute_result"
    }
   ],
   "source": [
    "par_subida"
   ]
  },
  {
   "cell_type": "markdown",
   "metadata": {},
   "source": [
    "* Old Methodology"
   ]
  },
  {
   "cell_type": "code",
   "execution_count": null,
   "metadata": {
    "collapsed": true
   },
   "outputs": [],
   "source": [
    "i = 0\n",
    "past_plate = '-'\n",
    "past_service = '-'\n",
    "\n",
    "example['total_delta']=''\n",
    "example['mean_delta']=''\n",
    "example['count_delta']=''\n",
    "example['start_cut']=''\n",
    "example['end_cut']=''\n",
    "\n",
    "for index,row in example.iterrows():\n",
    "    future_index = index+1\n",
    "    actual_plate = row['PATENTE']\n",
    "    actual_service = row['SERVICIO']\n",
    "    actual_hour = row['TIEMPO']\n",
    "    \n",
    "    if (actual_plate!=past_plate)|(actual_service!=past_service):\n",
    "        past_hour = pd.to_datetime('2017-04-11 00:00:00') #Starting hour <- consider to change this\n",
    "        \n",
    "    if past_hour == pd.to_datetime('2017-04-11 00:00:00'): #Assuming a pre-defined value, i.e., 1 minute.\n",
    "        start_cut = actual_hour - (pd.to_datetime('2017-04-11 00:02:00') - pd.to_datetime('2017-04-11 00:01:00'))\n",
    "    else:\n",
    "        start_cut = actual_hour - (actual_hour - past_hour)/2\n",
    "    \n",
    "    if future_index >= len(example.index): #We are at the end of the ddff. Assuming a pre-defined value, i.e., 1 minute.\n",
    "        end_cut = actual_hour + (pd.to_datetime('2017-04-11 00:02:00') - pd.to_datetime('2017-04-11 00:01:00'))\n",
    "    else:\n",
    "        future_hour = example.loc[future_index,'TIEMPO']\n",
    "        end_cut = actual_hour + (future_hour - actual_hour)/2  \n",
    "\n",
    "    util_df = clean_filtered_df[(clean_filtered_df['sitio_subida']==actual_plate)&(clean_filtered_df['servicio_subida']==actual_service)&((start_cut<=clean_filtered_df['t_subida'])&(clean_filtered_df['t_subida']<=end_cut))]\n",
    "    util_df_indexes = util_df.index.values\n",
    "    number_of_indexes = len(util_df_indexes)\n",
    "    \n",
    "    first_util_df_index = util_df_indexes[0]\n",
    "    last_util_df_index = util_df_indexes[number_of_indexes-1]\n",
    "    #Checking up of util_df --- until a condition is reached\n",
    "    j=1\n",
    "    while True:\n",
    "        upper_util_row = clean_filtered_df.loc(first_util_df_index-j)\n",
    "        if upper_util_row['par_subida'] == util_df['par_subida']: #Si el paradero de subida de la fila inmediatamente anterior al util_df es el mismo, then append it and continue < the issue here es que hay que sacarlo del util_df anteriormente analizado...\n",
    "            util_df.concat[upper_util_row]\n",
    "            j=j+1\n",
    "        else \n",
    "    \n",
    "    \n",
    "    total_delta = util_df['diferencia_tiempo_secs'].sum()\n",
    "    mean_delta = util_df['diferencia_tiempo_secs'].mean()\n",
    "    count_delta = util_df['diferencia_tiempo_secs'].count() \n",
    "    \n",
    "    example.loc[index,'total_delta'] = total_delta\n",
    "    example.loc[index,'mean_delta'] = mean_delta\n",
    "    example.loc[index,'count_delta'] = count_delta\n",
    "    example.loc[index,'start_cut']=start_cut\n",
    "    example.loc[index,'end_cut']=end_cut\n",
    "    \n",
    "    past_plate = actual_plate\n",
    "    past_service = actual_service\n",
    "    past_hour = actual_hour\n",
    "    \n",
    "    i=i+1\n",
    "#    if (actual_plate == 'ZN6539')&(actual_service=='109'):\n",
    "#        print(i)\n",
    "#        print(start_cut)\n",
    "#        print(end_cut)\n",
    "\n",
    "#        break"
   ]
  },
  {
   "cell_type": "markdown",
   "metadata": {},
   "source": [
    "# TEST OLD METHODOLOGY (Check issue #8)"
   ]
  },
  {
   "cell_type": "code",
   "execution_count": null,
   "metadata": {},
   "outputs": [],
   "source": [
    "example.head(10)"
   ]
  },
  {
   "cell_type": "markdown",
   "metadata": {},
   "source": [
    "* Above table shows:\n",
    "- PATENTE == BJFB62 & TIEMPO == 2017-04-11 15:10:00 & SERVICIO == 507 > sum = 08, mean = 2.66667, count = 3 > check them in clean_filtered_df.loc[182369:182380] > <font color='green'>Test passed</font>\n",
    "- PATENTE == BJFB62 & TIEMPO == 2017-04-11 15:32:00 & SERVICIO == 507 > sum = 13, mean = 6.50000, count = 2 > check them in clean_filtered_df.loc[182388:182395] > <font color='green'>Test passed, although incorrectly assignment</font>"
   ]
  },
  {
   "cell_type": "code",
   "execution_count": null,
   "metadata": {},
   "outputs": [],
   "source": [
    "clean_filtered_df.loc[182369:182380]"
   ]
  },
  {
   "cell_type": "code",
   "execution_count": null,
   "metadata": {},
   "outputs": [],
   "source": [
    "clean_filtered_df.loc[182388:182395]"
   ]
  },
  {
   "cell_type": "code",
   "execution_count": null,
   "metadata": {
    "scrolled": true
   },
   "outputs": [],
   "source": [
    "example.tail(10)"
   ]
  },
  {
   "cell_type": "markdown",
   "metadata": {},
   "source": [
    "* Above table shows:\n",
    "- PATENTE == ZN6539 & TIEMPO == 2017-04-11 14:31:00 & SERVICIO == 109 > sum = 08, mean = 04, count = 02 > check them in clean_filtered_df.loc[2527175:2527180] > <font color='green'>Test passed</font>\n",
    "- PATENTE == ZN6539\t& TIEMPO == 2017-04-11 14:37:00 & SERVICIO == 109 > sum = 21, mean = 21, count = 01 > check them in clean_filtered_df.loc[2527178:2527187] > <font color='green'>Test passed</font>"
   ]
  },
  {
   "cell_type": "code",
   "execution_count": null,
   "metadata": {
    "collapsed": true
   },
   "outputs": [],
   "source": [
    "clean_filtered_df.loc[2527175:2527180]"
   ]
  },
  {
   "cell_type": "code",
   "execution_count": null,
   "metadata": {
    "collapsed": true
   },
   "outputs": [],
   "source": [
    "clean_filtered_df.loc[2527178:2527187]"
   ]
  },
  {
   "cell_type": "code",
   "execution_count": null,
   "metadata": {},
   "outputs": [],
   "source": [
    "util_df"
   ]
  },
  {
   "cell_type": "code",
   "execution_count": null,
   "metadata": {},
   "outputs": [],
   "source": [
    "df_indexes = util_df.index.values"
   ]
  },
  {
   "cell_type": "code",
   "execution_count": null,
   "metadata": {},
   "outputs": [],
   "source": [
    "length = len(df_indexes)"
   ]
  },
  {
   "cell_type": "code",
   "execution_count": null,
   "metadata": {},
   "outputs": [],
   "source": [
    "df_indexes[length-1]"
   ]
  }
 ],
 "metadata": {
  "kernelspec": {
   "display_name": "Python 3",
   "language": "python",
   "name": "python3"
  },
  "language_info": {
   "codemirror_mode": {
    "name": "ipython",
    "version": 3
   },
   "file_extension": ".py",
   "mimetype": "text/x-python",
   "name": "python",
   "nbconvert_exporter": "python",
   "pygments_lexer": "ipython3",
   "version": "3.6.1"
  }
 },
 "nbformat": 4,
 "nbformat_minor": 2
}
