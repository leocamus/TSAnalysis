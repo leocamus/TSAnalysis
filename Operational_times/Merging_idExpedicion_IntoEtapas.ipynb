{
 "cells": [
  {
   "cell_type": "markdown",
   "metadata": {},
   "source": [
    "## Merging idExpedicion from perfiles_df to etapas_df"
   ]
  },
  {
   "cell_type": "markdown",
   "metadata": {},
   "source": [
    "1. Loading and processing etapas_df\n",
    "2. Loading and processing perfiles_df\n",
    "3. Simplifying etapas_df\n",
    "4. Simplifying perfiles_df\n",
    "5. <font color='red'>MERGE</font>\n",
    "6. Print full_info etapas_df"
   ]
  },
  {
   "cell_type": "code",
   "execution_count": 1,
   "metadata": {
    "collapsed": true
   },
   "outputs": [],
   "source": [
    "import os\n",
    "import sys\n",
    "module_path = os.path.abspath(os.path.join('..'))\n",
    "if module_path not in sys.path:\n",
    "    sys.path.append(module_path)"
   ]
  },
  {
   "cell_type": "code",
   "execution_count": 2,
   "metadata": {},
   "outputs": [
    {
     "data": {
      "text/html": [
       "<style>.container { width:90% !important; }</style>"
      ],
      "text/plain": [
       "<IPython.core.display.HTML object>"
      ]
     },
     "metadata": {},
     "output_type": "display_data"
    }
   ],
   "source": [
    "from IPython.core.display import display, HTML\n",
    "display(HTML(\"<style>.container { width:90% !important; }</style>\"))"
   ]
  },
  {
   "cell_type": "code",
   "execution_count": 3,
   "metadata": {
    "collapsed": true
   },
   "outputs": [],
   "source": [
    "import pandas as pd\n",
    "import time\n",
    "import DailyEtapasBuilder\n",
    "import DailyPerfilesBuilder\n",
    "from Utils import TransantiagoConstants"
   ]
  },
  {
   "cell_type": "code",
   "execution_count": 4,
   "metadata": {
    "collapsed": true
   },
   "outputs": [],
   "source": [
    "dates = TransantiagoConstants.updateCurrentSSHDates()"
   ]
  },
  {
   "cell_type": "code",
   "execution_count": 5,
   "metadata": {},
   "outputs": [],
   "source": [
    "summary_dir = TransantiagoConstants.SummaryDir\n",
    "\n",
    "selected_services_path = os.path.join(summary_dir,'0_servicios_seleccionados.xlsx')\n",
    "selected_services_df = pd.read_excel(selected_services_path)\n",
    "\n",
    "selected_services = selected_services_df.loc[:,'FINAL_CODES']\n",
    "selected_services = [str(x) for x in selected_services]"
   ]
  },
  {
   "cell_type": "code",
   "execution_count": 15,
   "metadata": {
    "collapsed": true
   },
   "outputs": [],
   "source": [
    "start_index = dates.index('2017-07-11')"
   ]
  },
  {
   "cell_type": "code",
   "execution_count": 16,
   "metadata": {
    "collapsed": true
   },
   "outputs": [],
   "source": [
    "end_index = dates.index('2017-08-27')"
   ]
  },
  {
   "cell_type": "code",
   "execution_count": 17,
   "metadata": {
    "collapsed": true
   },
   "outputs": [],
   "source": [
    "dates = dates[start_index:end_index+1]"
   ]
  },
  {
   "cell_type": "code",
   "execution_count": 18,
   "metadata": {},
   "outputs": [
    {
     "data": {
      "text/plain": [
       "['2017-07-11',\n",
       " '2017-07-12',\n",
       " '2017-07-13',\n",
       " '2017-07-14',\n",
       " '2017-07-15',\n",
       " '2017-07-16',\n",
       " '2017-07-18',\n",
       " '2017-07-19',\n",
       " '2017-08-01',\n",
       " '2017-08-02',\n",
       " '2017-08-03',\n",
       " '2017-08-04',\n",
       " '2017-08-05',\n",
       " '2017-08-06',\n",
       " '2017-08-08',\n",
       " '2017-08-09',\n",
       " '2017-08-11',\n",
       " '2017-08-12',\n",
       " '2017-08-13',\n",
       " '2017-08-14',\n",
       " '2017-08-15',\n",
       " '2017-08-17',\n",
       " '2017-08-18',\n",
       " '2017-08-19',\n",
       " '2017-08-20',\n",
       " '2017-08-21',\n",
       " '2017-08-22',\n",
       " '2017-08-23',\n",
       " '2017-08-24',\n",
       " '2017-08-25',\n",
       " '2017-08-26',\n",
       " '2017-08-27']"
      ]
     },
     "execution_count": 18,
     "metadata": {},
     "output_type": "execute_result"
    }
   ],
   "source": [
    "dates"
   ]
  },
  {
   "cell_type": "code",
   "execution_count": 14,
   "metadata": {},
   "outputs": [
    {
     "name": "stdout",
     "output_type": "stream",
     "text": [
      "2017-03-14 is being processed\n",
      "2017-03-15 is being processed\n",
      "Not found in BOTH turnstile databases: 1465175\n"
     ]
    },
    {
     "name": "stderr",
     "output_type": "stream",
     "text": [
      "C:\\Users\\Tesista\\Anaconda3\\lib\\site-packages\\pandas\\core\\indexing.py:337: SettingWithCopyWarning: \n",
      "A value is trying to be set on a copy of a slice from a DataFrame.\n",
      "Try using .loc[row_indexer,col_indexer] = value instead\n",
      "\n",
      "See the caveats in the documentation: http://pandas.pydata.org/pandas-docs/stable/indexing.html#indexing-view-versus-copy\n",
      "  self.obj[key] = _infer_fill_value(value)\n",
      "C:\\Users\\Tesista\\Anaconda3\\lib\\site-packages\\pandas\\core\\indexing.py:517: SettingWithCopyWarning: \n",
      "A value is trying to be set on a copy of a slice from a DataFrame.\n",
      "Try using .loc[row_indexer,col_indexer] = value instead\n",
      "\n",
      "See the caveats in the documentation: http://pandas.pydata.org/pandas-docs/stable/indexing.html#indexing-view-versus-copy\n",
      "  self.obj[item] = s\n"
     ]
    },
    {
     "name": "stdout",
     "output_type": "stream",
     "text": [
      "2017-03-16 is being processed\n",
      "Not found in BOTH turnstile databases: 1447021\n",
      "2017-03-17 is being processed\n",
      "Not found in BOTH turnstile databases: 1485163\n",
      "2017-03-18 is being processed\n",
      "Not found in BOTH turnstile databases: 863202\n",
      "2017-03-19 is being processed\n",
      "Not found in BOTH turnstile databases: 503188\n",
      "2017-03-26 is being processed\n",
      "Not found in BOTH turnstile databases: 481398\n",
      "2017-04-08 is being processed\n",
      "Not found in BOTH turnstile databases: 862564\n",
      "2017-04-09 is being processed\n",
      "Not found in BOTH turnstile databases: 523762\n",
      "2017-04-10 is being processed\n",
      "2017-04-11 is being processed\n",
      "Not found in BOTH turnstile databases: 1452650\n",
      "2017-04-12 is being processed\n",
      "Not found in BOTH turnstile databases: 1505070\n",
      "2017-04-14 is being processed\n",
      "Not found in BOTH turnstile databases: 468117\n",
      "2017-04-15 is being processed\n",
      "Not found in BOTH turnstile databases: 549473\n",
      "2017-04-16 is being processed\n",
      "Not found in BOTH turnstile databases: 446687\n",
      "2017-04-17 is being processed\n",
      "Not found in BOTH turnstile databases: 1455377\n",
      "2017-04-18 is being processed\n",
      "Not found in BOTH turnstile databases: 1486803\n",
      "2017-04-19 is being processed\n",
      "Not found in BOTH turnstile databases: 262701\n",
      "2017-04-20 is being processed\n",
      "Not found in BOTH turnstile databases: 1361898\n",
      "2017-04-22 is being processed\n",
      "Not found in BOTH turnstile databases: 890313\n",
      "2017-04-23 is being processed\n",
      "Not found in BOTH turnstile databases: 496869\n",
      "2017-04-25 is being processed\n",
      "Not found in BOTH turnstile databases: 1431043\n",
      "2017-04-26 is being processed\n",
      "Not found in BOTH turnstile databases: 1441725\n",
      "2017-04-27 is being processed\n",
      "Not found in BOTH turnstile databases: 1440951\n",
      "2017-04-28 is being processed\n",
      "Not found in BOTH turnstile databases: 1478367\n",
      "2017-04-29 is being processed\n",
      "Not found in BOTH turnstile databases: 886315\n",
      "2017-04-30 is being processed\n",
      "Not found in BOTH turnstile databases: 543659\n",
      "2017-05-01 is being processed\n",
      "Not found in BOTH turnstile databases: 361494\n",
      "2017-05-02 is being processed\n",
      "Not found in BOTH turnstile databases: 1488094\n",
      "2017-05-03 is being processed\n",
      "Not found in BOTH turnstile databases: 1499496\n",
      "2017-05-04 is being processed\n",
      "Not found in BOTH turnstile databases: 1492479\n",
      "2017-05-06 is being processed\n",
      "Not found in BOTH turnstile databases: 919242\n",
      "2017-05-07 is being processed\n",
      "Not found in BOTH turnstile databases: 495372\n",
      "2017-05-08 is being processed\n",
      "Not found in BOTH turnstile databases: 1423000\n",
      "2017-05-10 is being processed\n",
      "Not found in BOTH turnstile databases: 1437575\n",
      "2017-05-14 is being processed\n",
      "Not found in BOTH turnstile databases: 473408\n",
      "2017-05-15 is being processed\n",
      "Not found in BOTH turnstile databases: 1432344\n",
      "2017-05-17 is being processed\n",
      "Not found in BOTH turnstile databases: 1441211\n",
      "2017-05-19 is being processed\n",
      "Not found in BOTH turnstile databases: 1431283\n",
      "2017-05-20 is being processed\n",
      "Not found in BOTH turnstile databases: 838815\n",
      "2017-05-21 is being processed\n",
      "Not found in BOTH turnstile databases: 479155\n",
      "2017-05-22 is being processed\n",
      "Not found in BOTH turnstile databases: 1490673\n",
      "2017-05-25 is being processed\n",
      "2017-05-26 is being processed\n",
      "Not found in BOTH turnstile databases: 1432272\n",
      "2017-05-27 is being processed\n",
      "Not found in BOTH turnstile databases: 882395\n",
      "2017-05-28 is being processed\n",
      "Not found in BOTH turnstile databases: 524353\n",
      "2017-05-29 is being processed\n",
      "Not found in BOTH turnstile databases: 1418031\n",
      "2017-05-30 is being processed\n",
      "Not found in BOTH turnstile databases: 1429226\n",
      "2017-05-31 is being processed\n",
      "Not found in BOTH turnstile databases: 1452078\n",
      "2017-06-01 is being processed\n",
      "Not found in BOTH turnstile databases: 1397888\n",
      "2017-06-02 is being processed\n",
      "Not found in BOTH turnstile databases: 1440492\n",
      "2017-06-03 is being processed\n",
      "Not found in BOTH turnstile databases: 872317\n",
      "2017-06-04 is being processed\n",
      "Not found in BOTH turnstile databases: 504467\n",
      "2017-06-05 is being processed\n",
      "Not found in BOTH turnstile databases: 375241\n",
      "2017-06-13 is being processed\n",
      "Not found in BOTH turnstile databases: 15294\n",
      "2017-06-14 is being processed\n",
      "Not found in BOTH turnstile databases: 415015\n",
      "2017-06-15 is being processed\n",
      "Not found in BOTH turnstile databases: 1408449\n",
      "2017-06-16 is being processed\n",
      "Not found in BOTH turnstile databases: 1160501\n",
      "2017-06-17 is being processed\n",
      "Not found in BOTH turnstile databases: 704531\n",
      "2017-06-18 is being processed\n",
      "Not found in BOTH turnstile databases: 467643\n",
      "2017-06-19 is being processed\n",
      "Not found in BOTH turnstile databases: 1364500\n",
      "2017-06-21 is being processed\n",
      "Not found in BOTH turnstile databases: 1387373\n",
      "2017-06-22 is being processed\n",
      "Not found in BOTH turnstile databases: 1297865\n",
      "2017-06-23 is being processed\n",
      "Not found in BOTH turnstile databases: 1401272\n",
      "2017-06-24 is being processed\n",
      "Not found in BOTH turnstile databases: 814705\n",
      "2017-06-25 is being processed\n",
      "Not found in BOTH turnstile databases: 436052\n",
      "2017-06-26 is being processed\n",
      "Not found in BOTH turnstile databases: 414785\n",
      "2017-06-27 is being processed\n",
      "Not found in BOTH turnstile databases: 1396120\n",
      "2017-06-29 is being processed\n",
      "Not found in BOTH turnstile databases: 1413813\n",
      "2017-06-30 is being processed\n",
      "Not found in BOTH turnstile databases: 1446483\n",
      "2017-07-01 is being processed\n",
      "Not found in BOTH turnstile databases: 898226\n",
      "2017-07-02 is being processed\n",
      "Not found in BOTH turnstile databases: 440021\n",
      "2017-07-03 is being processed\n",
      "Not found in BOTH turnstile databases: 1450008\n",
      "2017-07-04 is being processed\n",
      "Not found in BOTH turnstile databases: 1321197\n",
      "2017-07-05 is being processed\n",
      "Not found in BOTH turnstile databases: 1415742\n",
      "2017-07-06 is being processed\n",
      "Not found in BOTH turnstile databases: 1385181\n",
      "2017-07-07 is being processed\n",
      "Not found in BOTH turnstile databases: 1419012\n",
      "2017-07-08 is being processed\n",
      "Not found in BOTH turnstile databases: 873866\n",
      "2017-07-09 is being processed\n",
      "Not found in BOTH turnstile databases: 513643\n",
      "2017-07-10 is being processed\n",
      "Not found in BOTH turnstile databases: 1367347\n",
      "2017-07-11 is being processed\n",
      "Not found in BOTH turnstile databases: 1335473\n"
     ]
    },
    {
     "ename": "FileNotFoundError",
     "evalue": "[Errno 2] No such file or directory: 'C:\\\\Users\\\\Tesista\\\\Desktop\\\\Evasion\\\\01_analisis\\\\03_datos\\\\01_SSH\\\\2017-07-11.perfiles.gz'",
     "output_type": "error",
     "traceback": [
      "\u001b[1;31m---------------------------------------------------------------------------\u001b[0m",
      "\u001b[1;31mFileNotFoundError\u001b[0m                         Traceback (most recent call last)",
      "\u001b[1;32m<ipython-input-14-1b6a775ab153>\u001b[0m in \u001b[0;36m<module>\u001b[1;34m()\u001b[0m\n\u001b[0;32m     13\u001b[0m         \u001b[1;31m### BUILDING AND PROCESSING PERFILES ###\u001b[0m\u001b[1;33m\u001b[0m\u001b[1;33m\u001b[0m\u001b[0m\n\u001b[0;32m     14\u001b[0m         \u001b[0mperfiles_builder\u001b[0m \u001b[1;33m=\u001b[0m \u001b[0mDailyPerfilesBuilder\u001b[0m\u001b[1;33m.\u001b[0m\u001b[0mRunSilentlyDailyPerfilesBuilderClass\u001b[0m\u001b[1;33m(\u001b[0m\u001b[0mdate\u001b[0m\u001b[1;33m)\u001b[0m\u001b[1;33m\u001b[0m\u001b[0m\n\u001b[1;32m---> 15\u001b[1;33m         \u001b[0mperfiles_builder\u001b[0m\u001b[1;33m.\u001b[0m\u001b[0mrunSimplifyPerfiles\u001b[0m\u001b[1;33m(\u001b[0m\u001b[1;33m)\u001b[0m\u001b[1;33m\u001b[0m\u001b[0m\n\u001b[0m\u001b[0;32m     16\u001b[0m         \u001b[0mperfiles_builder\u001b[0m\u001b[1;33m.\u001b[0m\u001b[0mloadSimplifiedPerfiles\u001b[0m\u001b[1;33m(\u001b[0m\u001b[1;33m)\u001b[0m\u001b[1;33m\u001b[0m\u001b[0m\n\u001b[0;32m     17\u001b[0m         \u001b[0mperfiles_builder\u001b[0m\u001b[1;33m.\u001b[0m\u001b[0mdropParaderos\u001b[0m\u001b[1;33m(\u001b[0m\u001b[1;33m)\u001b[0m\u001b[1;33m\u001b[0m\u001b[0m\n",
      "\u001b[1;32mC:\\Users\\Tesista\\Desktop\\Evasion\\01_analisis\\04_scripts\\TSAnalysis\\DailyPerfilesBuilder.py\u001b[0m in \u001b[0;36mrunSimplifyPerfiles\u001b[1;34m(self)\u001b[0m\n\u001b[0;32m     34\u001b[0m         \u001b[1;32mdef\u001b[0m \u001b[0mrunSimplifyPerfiles\u001b[0m\u001b[1;33m(\u001b[0m\u001b[0mself\u001b[0m\u001b[1;33m)\u001b[0m\u001b[1;33m:\u001b[0m\u001b[1;33m\u001b[0m\u001b[0m\n\u001b[0;32m     35\u001b[0m                 \u001b[1;34m\"\"\"Not always necessary. Reducing the complexity of the original etapas-file. Attributes to extract are hardcoded\"\"\"\u001b[0m\u001b[1;33m\u001b[0m\u001b[0m\n\u001b[1;32m---> 36\u001b[1;33m                 \u001b[0mSimplifyFilesUtils\u001b[0m\u001b[1;33m.\u001b[0m\u001b[0mwriteSimplifiedPerfiles\u001b[0m\u001b[1;33m(\u001b[0m\u001b[0mself\u001b[0m\u001b[1;33m.\u001b[0m\u001b[0manalyzedDate\u001b[0m\u001b[1;33m,\u001b[0m\u001b[0mself\u001b[0m\u001b[1;33m.\u001b[0m\u001b[0mif_ZP\u001b[0m\u001b[1;33m,\u001b[0m\u001b[1;34m'ServicioSentido'\u001b[0m\u001b[1;33m,\u001b[0m\u001b[1;34m'Patente'\u001b[0m\u001b[1;33m,\u001b[0m\u001b[1;34m'Paradero'\u001b[0m\u001b[1;33m,\u001b[0m\u001b[1;34m'Hini'\u001b[0m\u001b[1;33m,\u001b[0m\u001b[1;34m'Hfin'\u001b[0m\u001b[1;33m,\u001b[0m\u001b[1;34m'idExpedicion'\u001b[0m\u001b[1;33m,\u001b[0m\u001b[1;34m'DistEnRuta'\u001b[0m\u001b[1;33m)\u001b[0m\u001b[1;33m\u001b[0m\u001b[0m\n\u001b[0m\u001b[0;32m     37\u001b[0m \u001b[1;33m\u001b[0m\u001b[0m\n\u001b[0;32m     38\u001b[0m         \u001b[1;32mdef\u001b[0m \u001b[0mloadSimplifiedPerfiles\u001b[0m\u001b[1;33m(\u001b[0m\u001b[0mself\u001b[0m\u001b[1;33m)\u001b[0m\u001b[1;33m:\u001b[0m\u001b[1;33m\u001b[0m\u001b[0m\n",
      "\u001b[1;32mC:\\Users\\Tesista\\Desktop\\Evasion\\01_analisis\\04_scripts\\TSAnalysis\\Utils\\SimplifyFilesUtils.py\u001b[0m in \u001b[0;36mwriteSimplifiedPerfiles\u001b[1;34m(date, ZP, *argv)\u001b[0m\n\u001b[0;32m     51\u001b[0m                 \u001b[0mprint\u001b[0m\u001b[1;33m(\u001b[0m\u001b[0mdateErr\u001b[0m\u001b[1;33m)\u001b[0m\u001b[1;33m\u001b[0m\u001b[0m\n\u001b[0;32m     52\u001b[0m \u001b[1;33m\u001b[0m\u001b[0m\n\u001b[1;32m---> 53\u001b[1;33m         \u001b[1;32mwith\u001b[0m \u001b[0mgzip\u001b[0m\u001b[1;33m.\u001b[0m\u001b[0mopen\u001b[0m\u001b[1;33m(\u001b[0m\u001b[0mworkingPerfilesPath\u001b[0m\u001b[1;33m,\u001b[0m \u001b[1;34m\"rt\"\u001b[0m\u001b[1;33m)\u001b[0m \u001b[1;32mas\u001b[0m \u001b[0mworkingPerfiles\u001b[0m\u001b[1;33m:\u001b[0m\u001b[1;33m\u001b[0m\u001b[0m\n\u001b[0m\u001b[0;32m     54\u001b[0m                 \u001b[1;32mwith\u001b[0m \u001b[0mopen\u001b[0m\u001b[1;33m(\u001b[0m\u001b[0msimplifiedPerfilesPath\u001b[0m\u001b[1;33m,\u001b[0m\u001b[1;34m\"wt\"\u001b[0m\u001b[1;33m)\u001b[0m \u001b[1;32mas\u001b[0m \u001b[0msimplifiedPerfiles\u001b[0m\u001b[1;33m:\u001b[0m\u001b[1;33m\u001b[0m\u001b[0m\n\u001b[0;32m     55\u001b[0m                         \u001b[0mfirstWorkingLine\u001b[0m \u001b[1;33m=\u001b[0m \u001b[0mworkingPerfiles\u001b[0m\u001b[1;33m.\u001b[0m\u001b[0mreadline\u001b[0m\u001b[1;33m(\u001b[0m\u001b[1;33m)\u001b[0m\u001b[1;33m.\u001b[0m\u001b[0msplit\u001b[0m\u001b[1;33m(\u001b[0m\u001b[1;34m'|'\u001b[0m\u001b[1;33m)\u001b[0m \u001b[1;31m#Headers\u001b[0m\u001b[1;33m\u001b[0m\u001b[0m\n",
      "\u001b[1;32mC:\\Users\\Tesista\\Anaconda3\\lib\\gzip.py\u001b[0m in \u001b[0;36mopen\u001b[1;34m(filename, mode, compresslevel, encoding, errors, newline)\u001b[0m\n\u001b[0;32m     51\u001b[0m     \u001b[0mgz_mode\u001b[0m \u001b[1;33m=\u001b[0m \u001b[0mmode\u001b[0m\u001b[1;33m.\u001b[0m\u001b[0mreplace\u001b[0m\u001b[1;33m(\u001b[0m\u001b[1;34m\"t\"\u001b[0m\u001b[1;33m,\u001b[0m \u001b[1;34m\"\"\u001b[0m\u001b[1;33m)\u001b[0m\u001b[1;33m\u001b[0m\u001b[0m\n\u001b[0;32m     52\u001b[0m     \u001b[1;32mif\u001b[0m \u001b[0misinstance\u001b[0m\u001b[1;33m(\u001b[0m\u001b[0mfilename\u001b[0m\u001b[1;33m,\u001b[0m \u001b[1;33m(\u001b[0m\u001b[0mstr\u001b[0m\u001b[1;33m,\u001b[0m \u001b[0mbytes\u001b[0m\u001b[1;33m,\u001b[0m \u001b[0mos\u001b[0m\u001b[1;33m.\u001b[0m\u001b[0mPathLike\u001b[0m\u001b[1;33m)\u001b[0m\u001b[1;33m)\u001b[0m\u001b[1;33m:\u001b[0m\u001b[1;33m\u001b[0m\u001b[0m\n\u001b[1;32m---> 53\u001b[1;33m         \u001b[0mbinary_file\u001b[0m \u001b[1;33m=\u001b[0m \u001b[0mGzipFile\u001b[0m\u001b[1;33m(\u001b[0m\u001b[0mfilename\u001b[0m\u001b[1;33m,\u001b[0m \u001b[0mgz_mode\u001b[0m\u001b[1;33m,\u001b[0m \u001b[0mcompresslevel\u001b[0m\u001b[1;33m)\u001b[0m\u001b[1;33m\u001b[0m\u001b[0m\n\u001b[0m\u001b[0;32m     54\u001b[0m     \u001b[1;32melif\u001b[0m \u001b[0mhasattr\u001b[0m\u001b[1;33m(\u001b[0m\u001b[0mfilename\u001b[0m\u001b[1;33m,\u001b[0m \u001b[1;34m\"read\"\u001b[0m\u001b[1;33m)\u001b[0m \u001b[1;32mor\u001b[0m \u001b[0mhasattr\u001b[0m\u001b[1;33m(\u001b[0m\u001b[0mfilename\u001b[0m\u001b[1;33m,\u001b[0m \u001b[1;34m\"write\"\u001b[0m\u001b[1;33m)\u001b[0m\u001b[1;33m:\u001b[0m\u001b[1;33m\u001b[0m\u001b[0m\n\u001b[0;32m     55\u001b[0m         \u001b[0mbinary_file\u001b[0m \u001b[1;33m=\u001b[0m \u001b[0mGzipFile\u001b[0m\u001b[1;33m(\u001b[0m\u001b[1;32mNone\u001b[0m\u001b[1;33m,\u001b[0m \u001b[0mgz_mode\u001b[0m\u001b[1;33m,\u001b[0m \u001b[0mcompresslevel\u001b[0m\u001b[1;33m,\u001b[0m \u001b[0mfilename\u001b[0m\u001b[1;33m)\u001b[0m\u001b[1;33m\u001b[0m\u001b[0m\n",
      "\u001b[1;32mC:\\Users\\Tesista\\Anaconda3\\lib\\gzip.py\u001b[0m in \u001b[0;36m__init__\u001b[1;34m(self, filename, mode, compresslevel, fileobj, mtime)\u001b[0m\n\u001b[0;32m    161\u001b[0m             \u001b[0mmode\u001b[0m \u001b[1;33m+=\u001b[0m \u001b[1;34m'b'\u001b[0m\u001b[1;33m\u001b[0m\u001b[0m\n\u001b[0;32m    162\u001b[0m         \u001b[1;32mif\u001b[0m \u001b[0mfileobj\u001b[0m \u001b[1;32mis\u001b[0m \u001b[1;32mNone\u001b[0m\u001b[1;33m:\u001b[0m\u001b[1;33m\u001b[0m\u001b[0m\n\u001b[1;32m--> 163\u001b[1;33m             \u001b[0mfileobj\u001b[0m \u001b[1;33m=\u001b[0m \u001b[0mself\u001b[0m\u001b[1;33m.\u001b[0m\u001b[0mmyfileobj\u001b[0m \u001b[1;33m=\u001b[0m \u001b[0mbuiltins\u001b[0m\u001b[1;33m.\u001b[0m\u001b[0mopen\u001b[0m\u001b[1;33m(\u001b[0m\u001b[0mfilename\u001b[0m\u001b[1;33m,\u001b[0m \u001b[0mmode\u001b[0m \u001b[1;32mor\u001b[0m \u001b[1;34m'rb'\u001b[0m\u001b[1;33m)\u001b[0m\u001b[1;33m\u001b[0m\u001b[0m\n\u001b[0m\u001b[0;32m    164\u001b[0m         \u001b[1;32mif\u001b[0m \u001b[0mfilename\u001b[0m \u001b[1;32mis\u001b[0m \u001b[1;32mNone\u001b[0m\u001b[1;33m:\u001b[0m\u001b[1;33m\u001b[0m\u001b[0m\n\u001b[0;32m    165\u001b[0m             \u001b[0mfilename\u001b[0m \u001b[1;33m=\u001b[0m \u001b[0mgetattr\u001b[0m\u001b[1;33m(\u001b[0m\u001b[0mfileobj\u001b[0m\u001b[1;33m,\u001b[0m \u001b[1;34m'name'\u001b[0m\u001b[1;33m,\u001b[0m \u001b[1;34m''\u001b[0m\u001b[1;33m)\u001b[0m\u001b[1;33m\u001b[0m\u001b[0m\n",
      "\u001b[1;31mFileNotFoundError\u001b[0m: [Errno 2] No such file or directory: 'C:\\\\Users\\\\Tesista\\\\Desktop\\\\Evasion\\\\01_analisis\\\\03_datos\\\\01_SSH\\\\2017-07-11.perfiles.gz'"
     ]
    }
   ],
   "source": [
    "for date in dates:\n",
    "    print(date + ' is being processed')\n",
    "    if ((date!='2017-03-14')&(date!='2017-04-10')&(date!='2017-05-25')&(date!='2017-07-11')):\n",
    "        ### BUILDING AND PROCESSING ETAPAS ###\n",
    "        etapas_builder = DailyEtapasBuilder.RunSilentlyDailyEtapasBuilderClass(date)\n",
    "        etapas_builder.loadSimplifiedEtapas()\n",
    "        etapas_builder.mergeTurnstileData()\n",
    "        etapas_builder.cleanDataFrame() #Be aware of this, as it deletes all rows with missing values.\n",
    "        etapas_builder.sortDataFrame()\n",
    "        etapas_builder.postProcessingSortedDataFrame()\n",
    "        processed_sorted_df = etapas_builder.etapas_df\n",
    "        simplified_etapas = processed_sorted_df.loc[processed_sorted_df['servicio_subida'].str.contains('|'.join(selected_services)),:]\n",
    "        ### BUILDING AND PROCESSING PERFILES ###\n",
    "        perfiles_builder = DailyPerfilesBuilder.RunSilentlyDailyPerfilesBuilderClass(date)\n",
    "        perfiles_builder.runSimplifyPerfiles()\n",
    "        perfiles_builder.loadSimplifiedPerfiles()\n",
    "        perfiles_builder.dropParaderos()\n",
    "        perfiles_df = perfiles_builder.perfiles_df\n",
    "        simplified_perfiles = perfiles_df.loc[perfiles_df['ServicioSentido'].str.contains('|'.join(selected_services)),:]\n",
    "        ### CRITICAL ###\n",
    "        for index, row in simplified_perfiles.iterrows():\n",
    "            servicio = row['ServicioSentido']\n",
    "            patente = row['Patente']\n",
    "            Hini = row['Hini']\n",
    "            Hfin = row['Hfin']\n",
    "            idExpedicion = row['idExpedicion']\n",
    "            simplified_etapas.loc[(simplified_etapas['servicio_subida']==servicio)&(simplified_etapas['sitio_subida']==patente)&(Hini<=simplified_etapas['t_subida'])&(simplified_etapas['t_subida']<=Hfin),'idExpedicion'] = idExpedicion\n",
    "        \n",
    "        ### PRINTING TO A FILE ###\n",
    "        full_etapas_name = date + '_full_etapas.csv'\n",
    "        full_etapas_path = os.path.join(summary_dir, full_etapas_name)\n",
    "        simplified_etapas.to_csv(full_etapas_path, sep=';', encoding='latin-1')\n",
    "    else:\n",
    "        pass"
   ]
  },
  {
   "cell_type": "markdown",
   "metadata": {},
   "source": [
    "## Closed"
   ]
  }
 ],
 "metadata": {
  "kernelspec": {
   "display_name": "Python 3",
   "language": "python",
   "name": "python3"
  },
  "language_info": {
   "codemirror_mode": {
    "name": "ipython",
    "version": 3
   },
   "file_extension": ".py",
   "mimetype": "text/x-python",
   "name": "python",
   "nbconvert_exporter": "python",
   "pygments_lexer": "ipython3",
   "version": "3.6.1"
  }
 },
 "nbformat": 4,
 "nbformat_minor": 2
}
