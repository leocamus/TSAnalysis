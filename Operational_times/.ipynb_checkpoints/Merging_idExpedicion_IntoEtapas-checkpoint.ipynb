{
 "cells": [
  {
   "cell_type": "markdown",
   "metadata": {},
   "source": [
    "## Merging idExpedicion from perfiles_df to etapas_df"
   ]
  },
  {
   "cell_type": "markdown",
   "metadata": {},
   "source": [
    "1. Loading and processing etapas_df\n",
    "2. Loading and processing perfiles_df\n",
    "3. Simplifying etapas_df\n",
    "4. Simplifying perfiles_df\n",
    "5. <font color='red'>MERGE</font>\n",
    "6. Print full_info etapas_df"
   ]
  },
  {
   "cell_type": "code",
   "execution_count": 1,
   "metadata": {
    "collapsed": true
   },
   "outputs": [],
   "source": [
    "import os\n",
    "import sys\n",
    "module_path = os.path.abspath(os.path.join('..'))\n",
    "if module_path not in sys.path:\n",
    "    sys.path.append(module_path)"
   ]
  },
  {
   "cell_type": "code",
   "execution_count": 2,
   "metadata": {},
   "outputs": [
    {
     "data": {
      "text/html": [
       "<style>.container { width:90% !important; }</style>"
      ],
      "text/plain": [
       "<IPython.core.display.HTML object>"
      ]
     },
     "metadata": {},
     "output_type": "display_data"
    }
   ],
   "source": [
    "from IPython.core.display import display, HTML\n",
    "display(HTML(\"<style>.container { width:90% !important; }</style>\"))"
   ]
  },
  {
   "cell_type": "code",
   "execution_count": 3,
   "metadata": {
    "collapsed": true
   },
   "outputs": [],
   "source": [
    "import pandas as pd\n",
    "import time\n",
    "import DailyEtapasBuilder\n",
    "import DailyPerfilesBuilder\n",
    "from Utils import TransantiagoConstants"
   ]
  },
  {
   "cell_type": "code",
   "execution_count": 4,
   "metadata": {
    "collapsed": true
   },
   "outputs": [],
   "source": [
    "dates = TransantiagoConstants.updateCurrentSSHDates()"
   ]
  },
  {
   "cell_type": "code",
   "execution_count": 5,
   "metadata": {},
   "outputs": [
    {
     "ename": "SyntaxError",
     "evalue": "invalid syntax (<ipython-input-5-2f77e009d869>, line 7)",
     "output_type": "error",
     "traceback": [
      "\u001b[1;36m  File \u001b[1;32m\"<ipython-input-5-2f77e009d869>\"\u001b[1;36m, line \u001b[1;32m7\u001b[0m\n\u001b[1;33m    selected_services = [str(x) for x in selected_services]* Building etapas\u001b[0m\n\u001b[1;37m                                                                           ^\u001b[0m\n\u001b[1;31mSyntaxError\u001b[0m\u001b[1;31m:\u001b[0m invalid syntax\n"
     ]
    }
   ],
   "source": [
    "summary_dir = TransantiagoConstants.SummaryDir\n",
    "\n",
    "selected_services_path = os.path.join(summary_dir,'0_servicios_seleccionados.xlsx')\n",
    "selected_services_df = pd.read_excel(selected_services_path)\n",
    "\n",
    "selected_services = selected_services_df.loc[:,'FINAL_CODES']\n",
    "selected_services = [str(x) for x in selected_services]"
   ]
  },
  {
   "cell_type": "code",
   "execution_count": null,
   "metadata": {
    "collapsed": true
   },
   "outputs": [],
   "source": [
    "for date in dates:\n",
    "    ### BUILDING AND PROCESSING ETAPAS ###\n",
    "    print(date + ' is being processed')\n",
    "    etapas_builder = DailyEtapasBuilder.RunSilentlyDailyEtapasBuilderClass(date)\n",
    "    etapas_builder.loadSimplifiedEtapas()\n",
    "    etapas_builder.mergeTurnstileData()\n",
    "    etapas_builder.cleanDataFrame() #Be aware of this, as it deletes all rows with missing values.\n",
    "    etapas_builder.sortDataFrame()\n",
    "    etapas_builder.postProcessingSortedDataFrame()\n",
    "    processed_sorted_df = etapas_builder.etapas_df\n",
    "    simplified_etapas = processed_sorted_df.loc[processed_sorted_df['servicio_subida'].str.contains('|'.join(selected_services)),:]\n",
    "    ### BUILDING AND PROCESSING PERFILES ###\n",
    "    perfiles_builder = DailyPerfilesBuilder.RunSilentlyDailyPerfilesBuilderClass(date)\n",
    "    perfiles_builder.runSimplifyPerfiles()\n",
    "    perfiles_builder.loadSimplifiedPerfiles()\n",
    "    perfiles_builder.dropParaderos()\n",
    "    perfiles_df = perfiles_builder.perfiles_df\n",
    "    simplified_perfiles = perfiles_df.loc[perfiles_df['ServicioSentido'].str.contains('|'.join(selected_services)),:]\n",
    "    ### CRITICAL ###\n",
    "    for index, row in simplified_perfiles.iterrows():\n",
    "        servicio = row['ServicioSentido']\n",
    "        patente = row['Patente']\n",
    "        Hini = row['Hini']\n",
    "        Hfin = row['Hfin']\n",
    "        idExpedicion = row['idExpedicion']\n",
    "        simplified_etapas.loc[(simplified_etapas['servicio_subida']==servicio)&(simplified_etapas['sitio_subida']==patente)&(Hini<=simplified_etapas['t_subida'])&(simplified_etapas['t_subida']<=Hfin),'idExpedicion'] = idExpedicion\n",
    "    \n",
    "    ### PRINTING TO A FILE ###\n",
    "    full_etapas_name = date + '_full_etapas.csv'\n",
    "    full_etapas_path = os.path.join(summary_dir, full_etapas_name)\n",
    "    simplified_etapas.to_csv(full_etapas_path, sep=';', encoding='latin-1')"
   ]
  },
  {
   "cell_type": "markdown",
   "metadata": {},
   "source": [
    "## Closed"
   ]
  }
 ],
 "metadata": {
  "kernelspec": {
   "display_name": "Python 3",
   "language": "python",
   "name": "python3"
  },
  "language_info": {
   "codemirror_mode": {
    "name": "ipython",
    "version": 3
   },
   "file_extension": ".py",
   "mimetype": "text/x-python",
   "name": "python",
   "nbconvert_exporter": "python",
   "pygments_lexer": "ipython3",
   "version": "3.6.1"
  }
 },
 "nbformat": 4,
 "nbformat_minor": 2
}
