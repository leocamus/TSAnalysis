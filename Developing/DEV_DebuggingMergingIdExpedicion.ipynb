{
 "cells": [
  {
   "cell_type": "markdown",
   "metadata": {},
   "source": [
    "## Merging idExpedicion from Perfiles to Etapas ddbb"
   ]
  },
  {
   "cell_type": "code",
   "execution_count": 1,
   "metadata": {
    "collapsed": true
   },
   "outputs": [],
   "source": [
    "import os\n",
    "import sys\n",
    "module_path = os.path.abspath(os.path.join('..'))\n",
    "if module_path not in sys.path:\n",
    "    sys.path.append(module_path)"
   ]
  },
  {
   "cell_type": "code",
   "execution_count": 2,
   "metadata": {},
   "outputs": [
    {
     "data": {
      "text/html": [
       "<style>.container { width:80% !important; }</style>"
      ],
      "text/plain": [
       "<IPython.core.display.HTML object>"
      ]
     },
     "metadata": {},
     "output_type": "display_data"
    }
   ],
   "source": [
    "from IPython.core.display import display, HTML\n",
    "display(HTML(\"<style>.container { width:80% !important; }</style>\"))"
   ]
  },
  {
   "cell_type": "code",
   "execution_count": 3,
   "metadata": {
    "collapsed": true,
    "scrolled": true
   },
   "outputs": [],
   "source": [
    "import pandas as pd\n",
    "import time\n",
    "import DailyEtapasBuilder"
   ]
  },
  {
   "cell_type": "code",
   "execution_count": 4,
   "metadata": {
    "collapsed": true
   },
   "outputs": [],
   "source": [
    "date = '2017-03-01'"
   ]
  },
  {
   "cell_type": "code",
   "execution_count": 5,
   "metadata": {
    "collapsed": true
   },
   "outputs": [],
   "source": [
    "etapas_builder = DailyEtapasBuilder.RunSilentlyDailyEtapasBuilderClass(date)"
   ]
  },
  {
   "cell_type": "code",
   "execution_count": 6,
   "metadata": {},
   "outputs": [
    {
     "name": "stdout",
     "output_type": "stream",
     "text": [
      "Not found in turnstile database: 1614656\n"
     ]
    }
   ],
   "source": [
    "etapas_builder.loadSimplifiedEtapas()\n",
    "etapas_builder.mergeTurnstileData()\n",
    "etapas_builder.cleanDataFrame()\n",
    "etapas_builder.sortDataFrame()\n",
    "etapas_builder.postProcessingSortedDataFrame()\n",
    "processed_sorted_df = etapas_builder.etapas_df"
   ]
  },
  {
   "cell_type": "code",
   "execution_count": 7,
   "metadata": {
    "collapsed": true
   },
   "outputs": [],
   "source": [
    "import DailyPerfilesBuilder"
   ]
  },
  {
   "cell_type": "code",
   "execution_count": 8,
   "metadata": {
    "collapsed": true
   },
   "outputs": [],
   "source": [
    "perfiles_builder = DailyPerfilesBuilder.RunSilentlyDailyPerfilesBuilderClass(date)"
   ]
  },
  {
   "cell_type": "markdown",
   "metadata": {
    "collapsed": true
   },
   "source": [
    "* Building simplified perfiles... not always needed"
   ]
  },
  {
   "cell_type": "code",
   "execution_count": 9,
   "metadata": {
    "collapsed": true
   },
   "outputs": [],
   "source": [
    "#perfiles_builder.runSimplifyPerfiles()"
   ]
  },
  {
   "cell_type": "markdown",
   "metadata": {},
   "source": [
    "* Loading perfiles"
   ]
  },
  {
   "cell_type": "code",
   "execution_count": 10,
   "metadata": {
    "collapsed": true
   },
   "outputs": [],
   "source": [
    "perfiles_builder.loadSimplifiedPerfiles()"
   ]
  },
  {
   "cell_type": "code",
   "execution_count": 11,
   "metadata": {
    "collapsed": true
   },
   "outputs": [],
   "source": [
    "perfiles_df = perfiles_builder.perfiles_df"
   ]
  },
  {
   "cell_type": "markdown",
   "metadata": {},
   "source": [
    "* Getting rid of duplicated rows"
   ]
  },
  {
   "cell_type": "code",
   "execution_count": 13,
   "metadata": {
    "collapsed": true
   },
   "outputs": [],
   "source": [
    "perfiles_df.drop_duplicates(['ServicioSentido','Patente','idExpedicion'], keep='first', inplace=True)\n",
    "perfiles_df.reset_index(drop=True,inplace=True)"
   ]
  },
  {
   "cell_type": "code",
   "execution_count": 14,
   "metadata": {
    "collapsed": true
   },
   "outputs": [],
   "source": [
    "import numpy as np"
   ]
  },
  {
   "cell_type": "code",
   "execution_count": 15,
   "metadata": {
    "collapsed": true
   },
   "outputs": [],
   "source": [
    "perfiles_df['Hini'] = pd.to_datetime(perfiles_df['Hini'])\n",
    "perfiles_df['Hfin'] = pd.to_datetime(perfiles_df['Hfin'])"
   ]
  },
  {
   "cell_type": "code",
   "execution_count": 16,
   "metadata": {},
   "outputs": [
    {
     "name": "stdout",
     "output_type": "stream",
     "text": [
      "0.8260601622468046\n"
     ]
    }
   ],
   "source": [
    "tic = time.clock()\n",
    "\n",
    "servicio_tmp = perfiles_df.loc[0,'ServicioSentido']\n",
    "patente_tmp = perfiles_df.loc[0,'Patente']\n",
    "Hini_tmp = perfiles_df.loc[0,'Hini']\n",
    "Hfin_tmp = perfiles_df.loc[0,'Hfin']\n",
    "idExpedicion_tmp = perfiles_df.loc[0,'idExpedicion']\n",
    "\n",
    "processed_sorted_df.loc[(processed_sorted_df['servicio_subida']==servicio_tmp)&(processed_sorted_df['sitio_subida']==patente_tmp)&(Hini_tmp<=processed_sorted_df['t_subida'])&(processed_sorted_df['t_subida']<=Hfin_tmp),'idExpedicion'] = idExpedicion_tmp\n",
    "toc = time.clock()\n",
    "\n",
    "print(toc-tic)"
   ]
  },
  {
   "cell_type": "markdown",
   "metadata": {},
   "source": [
    "1. Unitary time ~ 0.7s\n",
    "2. Total time in whole perfiles dataframe is ~ 0.7x73000 ~ 14 hrs per date. <font color='red'> This is not the solution </font>"
   ]
  },
  {
   "cell_type": "code",
   "execution_count": 35,
   "metadata": {},
   "outputs": [
    {
     "name": "stdout",
     "output_type": "stream",
     "text": [
      "0.07680372277832248\n"
     ]
    }
   ],
   "source": [
    "tic = time.clock()\n",
    "\n",
    "servicio = processed_sorted_df.loc[0,'servicio_subida']\n",
    "patente = processed_sorted_df.loc[0,'sitio_subida']\n",
    "t_subida = processed_sorted_df.loc[0,'t_subida']\n",
    "\n",
    "idExpedicion = perfiles_df.loc[(perfiles_df['ServicioSentido']==servicio)\n",
    "                               &(perfiles_df['Patente']==patente)\n",
    "                               &(perfiles_df['Hini']<=t_subida)\n",
    "                               &(t_subida<=perfiles_df['Hfin']),'idExpedicion']\n",
    "if idExpedicion.empty:\n",
    "    idExpedicion = 'not-found'\n",
    "\n",
    "processed_sorted_df.loc[0,'idExpedicion'] = idExpedicion\n",
    "\n",
    "toc = time.clock()\n",
    "print(toc-tic)"
   ]
  },
  {
   "cell_type": "markdown",
   "metadata": {},
   "source": [
    "1. Unitary time ~ 0.2 s\n",
    "2. Total time in whole etapas dataframe is ~ 0.2x2.2M ~ 122 hrs per date. <font color='red'> This is not the solution either </font>"
   ]
  },
  {
   "cell_type": "code",
   "execution_count": 37,
   "metadata": {},
   "outputs": [
    {
     "data": {
      "text/html": [
       "<div>\n",
       "<style>\n",
       "    .dataframe thead tr:only-child th {\n",
       "        text-align: right;\n",
       "    }\n",
       "\n",
       "    .dataframe thead th {\n",
       "        text-align: left;\n",
       "    }\n",
       "\n",
       "    .dataframe tbody tr th {\n",
       "        vertical-align: top;\n",
       "    }\n",
       "</style>\n",
       "<table border=\"1\" class=\"dataframe\">\n",
       "  <thead>\n",
       "    <tr style=\"text-align: right;\">\n",
       "      <th></th>\n",
       "      <th>id</th>\n",
       "      <th>nviaje</th>\n",
       "      <th>tipo_transporte</th>\n",
       "      <th>t_subida</th>\n",
       "      <th>media_hora_subida</th>\n",
       "      <th>servicio_subida</th>\n",
       "      <th>par_subida</th>\n",
       "      <th>sitio_subida</th>\n",
       "      <th>fecha_instalacion</th>\n",
       "      <th>mismo_paradero</th>\n",
       "      <th>misma_patente</th>\n",
       "      <th>mismo_servicio</th>\n",
       "      <th>diferencia_tiempo</th>\n",
       "      <th>diferencia_tiempo_secs</th>\n",
       "      <th>si_torniquete</th>\n",
       "      <th>si_2017_torniquete</th>\n",
       "      <th>idExpedicion</th>\n",
       "    </tr>\n",
       "  </thead>\n",
       "  <tbody>\n",
       "    <tr>\n",
       "      <th>0</th>\n",
       "      <td>3552888222</td>\n",
       "      <td>1</td>\n",
       "      <td>BUS</td>\n",
       "      <td>2017-03-01 17:39:47</td>\n",
       "      <td>17:30:00</td>\n",
       "      <td>F07 00R</td>\n",
       "      <td>L-34-89-2-PO</td>\n",
       "      <td>BBJZ-74</td>\n",
       "      <td>NaT</td>\n",
       "      <td>False</td>\n",
       "      <td>False</td>\n",
       "      <td>False</td>\n",
       "      <td>NaT</td>\n",
       "      <td>NaN</td>\n",
       "      <td>False</td>\n",
       "      <td>False</td>\n",
       "      <td>not-found</td>\n",
       "    </tr>\n",
       "    <tr>\n",
       "      <th>1</th>\n",
       "      <td>2529602798</td>\n",
       "      <td>1</td>\n",
       "      <td>BUS</td>\n",
       "      <td>2017-03-01 17:44:11</td>\n",
       "      <td>17:30:00</td>\n",
       "      <td>F07 00R</td>\n",
       "      <td>L-34-53-25-PO</td>\n",
       "      <td>BBJZ-74</td>\n",
       "      <td>NaT</td>\n",
       "      <td>False</td>\n",
       "      <td>True</td>\n",
       "      <td>True</td>\n",
       "      <td>NaT</td>\n",
       "      <td>NaN</td>\n",
       "      <td>False</td>\n",
       "      <td>False</td>\n",
       "      <td>NaN</td>\n",
       "    </tr>\n",
       "    <tr>\n",
       "      <th>2</th>\n",
       "      <td>3169360958</td>\n",
       "      <td>1</td>\n",
       "      <td>BUS</td>\n",
       "      <td>2017-03-01 17:44:13</td>\n",
       "      <td>17:30:00</td>\n",
       "      <td>F07 00R</td>\n",
       "      <td>L-34-53-25-PO</td>\n",
       "      <td>BBJZ-74</td>\n",
       "      <td>NaT</td>\n",
       "      <td>True</td>\n",
       "      <td>True</td>\n",
       "      <td>True</td>\n",
       "      <td>00:00:02</td>\n",
       "      <td>2.0</td>\n",
       "      <td>False</td>\n",
       "      <td>False</td>\n",
       "      <td>NaN</td>\n",
       "    </tr>\n",
       "    <tr>\n",
       "      <th>3</th>\n",
       "      <td>2140206880</td>\n",
       "      <td>2</td>\n",
       "      <td>BUS</td>\n",
       "      <td>2017-03-01 17:44:16</td>\n",
       "      <td>17:30:00</td>\n",
       "      <td>F07 00R</td>\n",
       "      <td>L-34-53-25-PO</td>\n",
       "      <td>BBJZ-74</td>\n",
       "      <td>NaT</td>\n",
       "      <td>True</td>\n",
       "      <td>True</td>\n",
       "      <td>True</td>\n",
       "      <td>00:00:03</td>\n",
       "      <td>3.0</td>\n",
       "      <td>False</td>\n",
       "      <td>False</td>\n",
       "      <td>NaN</td>\n",
       "    </tr>\n",
       "    <tr>\n",
       "      <th>4</th>\n",
       "      <td>3149482742</td>\n",
       "      <td>1</td>\n",
       "      <td>BUS</td>\n",
       "      <td>2017-03-01 17:46:33</td>\n",
       "      <td>17:30:00</td>\n",
       "      <td>F07 00R</td>\n",
       "      <td>L-34-53-40-PO</td>\n",
       "      <td>BBJZ-74</td>\n",
       "      <td>NaT</td>\n",
       "      <td>False</td>\n",
       "      <td>True</td>\n",
       "      <td>True</td>\n",
       "      <td>NaT</td>\n",
       "      <td>NaN</td>\n",
       "      <td>False</td>\n",
       "      <td>False</td>\n",
       "      <td>NaN</td>\n",
       "    </tr>\n",
       "  </tbody>\n",
       "</table>\n",
       "</div>"
      ],
      "text/plain": [
       "           id  nviaje tipo_transporte            t_subida media_hora_subida  \\\n",
       "0  3552888222       1             BUS 2017-03-01 17:39:47          17:30:00   \n",
       "1  2529602798       1             BUS 2017-03-01 17:44:11          17:30:00   \n",
       "2  3169360958       1             BUS 2017-03-01 17:44:13          17:30:00   \n",
       "3  2140206880       2             BUS 2017-03-01 17:44:16          17:30:00   \n",
       "4  3149482742       1             BUS 2017-03-01 17:46:33          17:30:00   \n",
       "\n",
       "  servicio_subida     par_subida sitio_subida fecha_instalacion  \\\n",
       "0         F07 00R   L-34-89-2-PO      BBJZ-74               NaT   \n",
       "1         F07 00R  L-34-53-25-PO      BBJZ-74               NaT   \n",
       "2         F07 00R  L-34-53-25-PO      BBJZ-74               NaT   \n",
       "3         F07 00R  L-34-53-25-PO      BBJZ-74               NaT   \n",
       "4         F07 00R  L-34-53-40-PO      BBJZ-74               NaT   \n",
       "\n",
       "   mismo_paradero  misma_patente  mismo_servicio diferencia_tiempo  \\\n",
       "0           False          False           False               NaT   \n",
       "1           False           True            True               NaT   \n",
       "2            True           True            True          00:00:02   \n",
       "3            True           True            True          00:00:03   \n",
       "4           False           True            True               NaT   \n",
       "\n",
       "   diferencia_tiempo_secs  si_torniquete  si_2017_torniquete idExpedicion  \n",
       "0                     NaN          False               False    not-found  \n",
       "1                     NaN          False               False          NaN  \n",
       "2                     2.0          False               False          NaN  \n",
       "3                     3.0          False               False          NaN  \n",
       "4                     NaN          False               False          NaN  "
      ]
     },
     "execution_count": 37,
     "metadata": {},
     "output_type": "execute_result"
    }
   ],
   "source": [
    "processed_sorted_df.head()"
   ]
  },
  {
   "cell_type": "code",
   "execution_count": 38,
   "metadata": {},
   "outputs": [
    {
     "data": {
      "text/html": [
       "<div>\n",
       "<style>\n",
       "    .dataframe thead tr:only-child th {\n",
       "        text-align: right;\n",
       "    }\n",
       "\n",
       "    .dataframe thead th {\n",
       "        text-align: left;\n",
       "    }\n",
       "\n",
       "    .dataframe tbody tr th {\n",
       "        vertical-align: top;\n",
       "    }\n",
       "</style>\n",
       "<table border=\"1\" class=\"dataframe\">\n",
       "  <thead>\n",
       "    <tr style=\"text-align: right;\">\n",
       "      <th></th>\n",
       "      <th>ServicioSentido</th>\n",
       "      <th>Patente</th>\n",
       "      <th>Paradero</th>\n",
       "      <th>Hini</th>\n",
       "      <th>Hfin</th>\n",
       "      <th>idExpedicion</th>\n",
       "      <th>DistEnRuta</th>\n",
       "    </tr>\n",
       "  </thead>\n",
       "  <tbody>\n",
       "    <tr>\n",
       "      <th>1719291</th>\n",
       "      <td>F07 00R</td>\n",
       "      <td>BBJZ-74</td>\n",
       "      <td>L-34-89-2-PO</td>\n",
       "      <td>2017-03-01 17:41:42</td>\n",
       "      <td>2017-03-01 18:11:42</td>\n",
       "      <td>37160</td>\n",
       "      <td>21</td>\n",
       "    </tr>\n",
       "    <tr>\n",
       "      <th>1719543</th>\n",
       "      <td>F07 00R</td>\n",
       "      <td>BBJZ-74</td>\n",
       "      <td>L-34-89-2-PO</td>\n",
       "      <td>2017-03-01 18:43:42</td>\n",
       "      <td>2017-03-01 19:23:13</td>\n",
       "      <td>37167</td>\n",
       "      <td>21</td>\n",
       "    </tr>\n",
       "    <tr>\n",
       "      <th>1719831</th>\n",
       "      <td>F07 00R</td>\n",
       "      <td>BBJZ-74</td>\n",
       "      <td>L-34-89-2-PO</td>\n",
       "      <td>2017-03-01 20:29:13</td>\n",
       "      <td>2017-03-01 20:59:13</td>\n",
       "      <td>37175</td>\n",
       "      <td>21</td>\n",
       "    </tr>\n",
       "  </tbody>\n",
       "</table>\n",
       "</div>"
      ],
      "text/plain": [
       "        ServicioSentido  Patente      Paradero                Hini  \\\n",
       "1719291         F07 00R  BBJZ-74  L-34-89-2-PO 2017-03-01 17:41:42   \n",
       "1719543         F07 00R  BBJZ-74  L-34-89-2-PO 2017-03-01 18:43:42   \n",
       "1719831         F07 00R  BBJZ-74  L-34-89-2-PO 2017-03-01 20:29:13   \n",
       "\n",
       "                       Hfin  idExpedicion  DistEnRuta  \n",
       "1719291 2017-03-01 18:11:42         37160          21  \n",
       "1719543 2017-03-01 19:23:13         37167          21  \n",
       "1719831 2017-03-01 20:59:13         37175          21  "
      ]
     },
     "execution_count": 38,
     "metadata": {},
     "output_type": "execute_result"
    }
   ],
   "source": [
    "perfiles_df.loc[(perfiles_df['ServicioSentido']==servicio)&(perfiles_df['Patente']==patente),:]"
   ]
  },
  {
   "cell_type": "code",
   "execution_count": null,
   "metadata": {
    "collapsed": true
   },
   "outputs": [],
   "source": []
  }
 ],
 "metadata": {
  "kernelspec": {
   "display_name": "Python 3",
   "language": "python",
   "name": "python3"
  },
  "language_info": {
   "codemirror_mode": {
    "name": "ipython",
    "version": 3
   },
   "file_extension": ".py",
   "mimetype": "text/x-python",
   "name": "python",
   "nbconvert_exporter": "python",
   "pygments_lexer": "ipython3",
   "version": "3.6.1"
  }
 },
 "nbformat": 4,
 "nbformat_minor": 2
}
