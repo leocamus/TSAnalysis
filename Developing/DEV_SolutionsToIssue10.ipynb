{
 "cells": [
  {
   "cell_type": "markdown",
   "metadata": {},
   "source": [
    "## Developing solutions to issue #10"
   ]
  },
  {
   "cell_type": "markdown",
   "metadata": {},
   "source": [
    "* The first idea coming to my mind is to tight the criterion used to assign different expeditions (i.e. time_delta=30 secs in MatchingUsers.appendingIdExpedicion), and follow the same methodology as in MatchingUsers.py with the difference that a post-processing should be added in order to recognize _group B_ observations (again, look issue #10), adding a flag to them and eventually drop them in the notebook used to analyze data.\n",
    "* As a first approach, _group B_ observations can be recognized going over the entire (sorted beforehand) dataset returned from MatchingUsers.groupByEtapasDatabase and checking for conditions.\n",
    "* The conditions should look like \n",
    "if (sitio_subida(i-1) == sitio_subida(i) and\n",
    "servicio_subida(i-1) == servicio_subida(i) and\n",
    "par_subida(i-1) == par_subida (i) and \n",
    "__id_expedicion(i-1) + 1 == id_expedicion(i)__) then flag == 1."
   ]
  },
  {
   "cell_type": "code",
   "execution_count": 1,
   "metadata": {
    "collapsed": true
   },
   "outputs": [],
   "source": [
    "import os\n",
    "import sys\n",
    "module_path = os.path.abspath(os.path.join('..'))\n",
    "if module_path not in sys.path:\n",
    "    sys.path.append(module_path)"
   ]
  },
  {
   "cell_type": "code",
   "execution_count": 2,
   "metadata": {},
   "outputs": [
    {
     "data": {
      "text/html": [
       "<style>.container { width:90% !important; }</style>"
      ],
      "text/plain": [
       "<IPython.core.display.HTML object>"
      ]
     },
     "metadata": {},
     "output_type": "display_data"
    }
   ],
   "source": [
    "%matplotlib inline\n",
    "import pandas as pd\n",
    "import matplotlib\n",
    "import matplotlib.pyplot as plt\n",
    "import numpy as np\n",
    "from importlib import reload\n",
    "import datetime as dt\n",
    "from IPython.core.display import display, HTML\n",
    "display(HTML(\"<style>.container { width:90% !important; }</style>\"))"
   ]
  },
  {
   "cell_type": "code",
   "execution_count": 3,
   "metadata": {
    "collapsed": true
   },
   "outputs": [],
   "source": [
    "from Utils import TransantiagoConstants\n",
    "import EvasionBuilder"
   ]
  },
  {
   "cell_type": "code",
   "execution_count": 4,
   "metadata": {},
   "outputs": [
    {
     "name": "stdout",
     "output_type": "stream",
     "text": [
      "Original number of rows in complete evasion database is: 97373\n",
      "Number of duplicated rows in complete evasion database is: 6192\n",
      "Number of collapsed-duplicated rows in complete evasion database is: 3090\n",
      "Number of rows in complete evasion database without duplicated rows at all is: 91181\n",
      "Final number of rows in complete evasion database with collapsed duplicated rows is: 94271\n"
     ]
    },
    {
     "name": "stderr",
     "output_type": "stream",
     "text": [
      "C:\\Users\\leoca_000\\Anaconda3\\lib\\site-packages\\pandas\\core\\indexing.py:337: SettingWithCopyWarning: \n",
      "A value is trying to be set on a copy of a slice from a DataFrame.\n",
      "Try using .loc[row_indexer,col_indexer] = value instead\n",
      "\n",
      "See the caveats in the documentation: http://pandas.pydata.org/pandas-docs/stable/indexing.html#indexing-view-versus-copy\n",
      "  self.obj[key] = _infer_fill_value(value)\n",
      "C:\\Users\\leoca_000\\Anaconda3\\lib\\site-packages\\pandas\\core\\indexing.py:517: SettingWithCopyWarning: \n",
      "A value is trying to be set on a copy of a slice from a DataFrame.\n",
      "Try using .loc[row_indexer,col_indexer] = value instead\n",
      "\n",
      "See the caveats in the documentation: http://pandas.pydata.org/pandas-docs/stable/indexing.html#indexing-view-versus-copy\n",
      "  self.obj[item] = s\n"
     ]
    },
    {
     "name": "stdout",
     "output_type": "stream",
     "text": [
      "The only non-matched user_code services are: \n",
      "D06\n"
     ]
    }
   ],
   "source": [
    "processed_evasion = EvasionBuilder.runCompleteProcess()"
   ]
  },
  {
   "cell_type": "markdown",
   "metadata": {},
   "source": [
    "* Processing complete evasion-ddbb"
   ]
  },
  {
   "cell_type": "code",
   "execution_count": 5,
   "metadata": {
    "collapsed": true
   },
   "outputs": [],
   "source": [
    "evasion_paradero = processed_evasion[processed_evasion['TP']=='P']\n",
    "evasion_paradero_first = evasion_paradero[evasion_paradero['N_PUERTA']==1]"
   ]
  },
  {
   "cell_type": "code",
   "execution_count": 6,
   "metadata": {},
   "outputs": [
    {
     "name": "stdout",
     "output_type": "stream",
     "text": [
      "Number of rows in complete evasion database is: 94271\n",
      "Number of rows in evasion in paradero database is: 92604\n",
      "Number of rows in evasion in paradero by first door database is: 33120\n"
     ]
    }
   ],
   "source": [
    "print('Number of rows in complete evasion database is: ' + str(len(processed_evasion.index)))\n",
    "print('Number of rows in evasion in paradero database is: ' + str(len(evasion_paradero.index)))\n",
    "print('Number of rows in evasion in paradero by first door database is: ' + str(len(evasion_paradero_first.index)))"
   ]
  },
  {
   "cell_type": "markdown",
   "metadata": {},
   "source": [
    "* Filtering dates not in common dates. DataFrame \"common_dates_evasion\" will be the final evasion DataFrame"
   ]
  },
  {
   "cell_type": "code",
   "execution_count": 7,
   "metadata": {},
   "outputs": [
    {
     "name": "stdout",
     "output_type": "stream",
     "text": [
      "Number of rows in complete evasion database filtered by common_dates is: 14632\n"
     ]
    }
   ],
   "source": [
    "common_dates = TransantiagoConstants.common_dates\n",
    "common_dates_timestamp = [pd.to_datetime(x) for x in common_dates]\n",
    "common_dates_evasion = evasion_paradero_first[evasion_paradero_first['FECHA'].isin(common_dates_timestamp)]\n",
    "\n",
    "print('Number of rows in complete evasion database filtered by common_dates is: ' + str(len(common_dates_evasion.index))) #Remember to store the number."
   ]
  },
  {
   "cell_type": "markdown",
   "metadata": {},
   "source": [
    "* Building Etapas DataBase via <strong>RunSilentlyDailyEtapasBuilder</strong> and matching users via <strong>MatchingUsers</strong>"
   ]
  },
  {
   "cell_type": "code",
   "execution_count": 8,
   "metadata": {
    "collapsed": true
   },
   "outputs": [],
   "source": [
    "common_dates = ['2017-04-11'] #To debug and refactor"
   ]
  },
  {
   "cell_type": "code",
   "execution_count": 9,
   "metadata": {
    "collapsed": true
   },
   "outputs": [],
   "source": [
    "from RunSilentlyDailyEtapasBuilder import RunSilentlyDailyEtapasBuilderClass"
   ]
  },
  {
   "cell_type": "code",
   "execution_count": 10,
   "metadata": {
    "collapsed": true
   },
   "outputs": [],
   "source": [
    "import MatchingUsers"
   ]
  },
  {
   "cell_type": "code",
   "execution_count": 11,
   "metadata": {},
   "outputs": [
    {
     "name": "stdout",
     "output_type": "stream",
     "text": [
      "Not found in turnstile database: 1829611\n",
      "The number of rows in the original etapas database is: 2598131 rows.\n",
      "The number of rows in the filtered (by special cases) etapas database is: 2598131 rows.\n",
      "The number of rows in the clean_sorted_df is: 11937 rows.\n"
     ]
    }
   ],
   "source": [
    "for date in common_dates:    \n",
    "    etapas_builder = RunSilentlyDailyEtapasBuilderClass(date) #Critical.\n",
    "    processed_sorted_df = etapas_builder.runProcessedProcess()    \n",
    "    processed_sorted_df['sitio_subida'] = processed_sorted_df['sitio_subida'].str.replace(\"-\", \"\")\n",
    "    processed_sorted_df['sitio_subida'] = processed_sorted_df['sitio_subida'].str.replace(\" \", \"\")\n",
    "    \n",
    "    processed_sorted_df['servicio_subida'] =  processed_sorted_df['servicio_subida'].str.replace('T','')\n",
    "    processed_sorted_df['servicio_subida'] =  processed_sorted_df['servicio_subida'].str.split(' ').str[0]\n",
    "    \n",
    "    print('The number of rows in the original etapas database is: ' + str(len(processed_sorted_df.index)) + ' rows.' )\n",
    "    #Filtering special cases.\n",
    "#    filtered_processed_sorted_df = processed_sorted_df[(processed_sorted_df['diferencia_tiempo_secs']<=20)|(processed_sorted_df['diferencia_tiempo_secs'].isnull())]\n",
    "    filtered_processed_sorted_df = processed_sorted_df\n",
    "    print('The number of rows in the filtered (by special cases) etapas database is: '  + str(len(filtered_processed_sorted_df.index)) + ' rows.' )\n",
    "    \n",
    "    [evasion_by_date, patentes_by_date, servicios_by_date] = MatchingUsers.simplifyingEvasion(common_dates_evasion,date) #Getting patentes and servicios surveyed in date...\n",
    "    \n",
    "    clean_sorted_df = filtered_processed_sorted_df[(filtered_processed_sorted_df['sitio_subida'].isin(patentes_by_date))&(filtered_processed_sorted_df['servicio_subida'].isin(servicios_by_date))] #Filtering...\n",
    "    clean_sorted_df = clean_sorted_df.reset_index(drop=True)\n",
    "    print('The number of rows in the clean_sorted_df is: '  + str(len(clean_sorted_df.index)) + ' rows.' )\n",
    "\n",
    "    clean_sorted_df_1 = MatchingUsers.appendingIdExpedicion(clean_sorted_df,'30 seconds') #Appending (ad-hoc) id expedicion.\n",
    "    grouped_clean_sorted_df_1 = MatchingUsers.groupByEtapasDatabase(clean_sorted_df_1) #Grouping by 'sitio_subida','servicio_subida','idExpedicion','par_subida'\n"
   ]
  },
  {
   "cell_type": "markdown",
   "metadata": {},
   "source": [
    "* Here starts the developing"
   ]
  },
  {
   "cell_type": "code",
   "execution_count": 12,
   "metadata": {
    "collapsed": true
   },
   "outputs": [],
   "source": [
    "past_patente=''\n",
    "past_servicio=''\n",
    "past_paradero=''\n",
    "past_expedicion = 0\n",
    "grouped_clean_sorted_df_1['group_b_flag']=''\n",
    "\n",
    "for index, row in grouped_clean_sorted_df_1.iterrows():\n",
    "    actual_patente = row['sitio_subida']\n",
    "    actual_servicio = row['servicio_subida']\n",
    "    actual_paradero = row['par_subida']\n",
    "    actual_expedicion = row['idExpedicion']\n",
    "    if((past_patente==actual_patente)&(past_servicio==actual_servicio)&(past_paradero==actual_paradero)&(past_expedicion + 1 == actual_expedicion)):\n",
    "        grouped_clean_sorted_df_1.loc[index,'group_b_flag'] = 1\n",
    "    else:\n",
    "        grouped_clean_sorted_df_1.loc[index,'group_b_flag'] = 0\n",
    "        \n",
    "    past_patente = actual_patente\n",
    "    past_servicio = actual_servicio\n",
    "    past_paradero = actual_paradero\n",
    "    past_expedicion = actual_expedicion\n"
   ]
  },
  {
   "cell_type": "markdown",
   "metadata": {},
   "source": [
    "* Developing indicators"
   ]
  },
  {
   "cell_type": "code",
   "execution_count": 13,
   "metadata": {},
   "outputs": [
    {
     "data": {
      "text/plain": [
       "4581"
      ]
     },
     "execution_count": 13,
     "metadata": {},
     "output_type": "execute_result"
    }
   ],
   "source": [
    "len(grouped_clean_sorted_df_1.index)"
   ]
  },
  {
   "cell_type": "code",
   "execution_count": 14,
   "metadata": {},
   "outputs": [
    {
     "data": {
      "text/plain": [
       "336"
      ]
     },
     "execution_count": 14,
     "metadata": {},
     "output_type": "execute_result"
    }
   ],
   "source": [
    "len(grouped_clean_sorted_df_1.loc[grouped_clean_sorted_df_1['group_b_flag']==1,:].index)"
   ]
  },
  {
   "cell_type": "code",
   "execution_count": 15,
   "metadata": {},
   "outputs": [
    {
     "data": {
      "text/plain": [
       "count     336.000000\n",
       "mean       69.451569\n",
       "std       253.618126\n",
       "min         7.047619\n",
       "25%        25.458333\n",
       "50%        40.000000\n",
       "75%        62.250000\n",
       "max      4592.000000\n",
       "Name: diferencia_tiempo_secs_mean, dtype: float64"
      ]
     },
     "execution_count": 15,
     "metadata": {},
     "output_type": "execute_result"
    }
   ],
   "source": [
    "grouped_clean_sorted_df_1.loc[grouped_clean_sorted_df_1['group_b_flag']==1,'diferencia_tiempo_secs_mean'].describe()"
   ]
  },
  {
   "cell_type": "code",
   "execution_count": 16,
   "metadata": {},
   "outputs": [
    {
     "data": {
      "text/plain": [
       "count    2121.000000\n",
       "mean        4.282859\n",
       "std         4.041948\n",
       "min         0.000000\n",
       "25%         2.000000\n",
       "50%         3.000000\n",
       "75%         5.000000\n",
       "max        30.000000\n",
       "Name: diferencia_tiempo_secs_mean, dtype: float64"
      ]
     },
     "execution_count": 16,
     "metadata": {},
     "output_type": "execute_result"
    }
   ],
   "source": [
    "grouped_clean_sorted_df_1.loc[grouped_clean_sorted_df_1['group_b_flag']==0,'diferencia_tiempo_secs_mean'].describe()"
   ]
  },
  {
   "cell_type": "markdown",
   "metadata": {},
   "source": [
    "* End developing and testing > <font color='green'> Passed </font>"
   ]
  },
  {
   "cell_type": "code",
   "execution_count": 17,
   "metadata": {},
   "outputs": [
    {
     "name": "stdout",
     "output_type": "stream",
     "text": [
      "Not found in turnstile database: 1829611\n",
      "The number of rows in the original etapas database is: 2598131 rows.\n",
      "The number of rows in the filtered (by special cases) etapas database is: 2598131 rows.\n",
      "The number of rows in the clean_sorted_df is: 11937 rows.\n"
     ]
    }
   ],
   "source": [
    "for date in common_dates:    \n",
    "    etapas_builder = RunSilentlyDailyEtapasBuilderClass(date) #Critical.\n",
    "    processed_sorted_df = etapas_builder.runProcessedProcess()    \n",
    "    processed_sorted_df['sitio_subida'] = processed_sorted_df['sitio_subida'].str.replace(\"-\", \"\")\n",
    "    processed_sorted_df['sitio_subida'] = processed_sorted_df['sitio_subida'].str.replace(\" \", \"\")\n",
    "    \n",
    "    processed_sorted_df['servicio_subida'] =  processed_sorted_df['servicio_subida'].str.replace('T','')\n",
    "    processed_sorted_df['servicio_subida'] =  processed_sorted_df['servicio_subida'].str.split(' ').str[0]\n",
    "    \n",
    "    print('The number of rows in the original etapas database is: ' + str(len(processed_sorted_df.index)) + ' rows.' )\n",
    "    #Filtering special cases.\n",
    "#    filtered_processed_sorted_df = processed_sorted_df[(processed_sorted_df['diferencia_tiempo_secs']<=20)|(processed_sorted_df['diferencia_tiempo_secs'].isnull())]\n",
    "    filtered_processed_sorted_df = processed_sorted_df\n",
    "    print('The number of rows in the filtered (by special cases) etapas database is: '  + str(len(filtered_processed_sorted_df.index)) + ' rows.' )\n",
    "    \n",
    "    [evasion_by_date, patentes_by_date, servicios_by_date] = MatchingUsers.simplifyingEvasion(common_dates_evasion,date) #Getting patentes and servicios surveyed in date...\n",
    "    \n",
    "    clean_sorted_df = filtered_processed_sorted_df[(filtered_processed_sorted_df['sitio_subida'].isin(patentes_by_date))&(filtered_processed_sorted_df['servicio_subida'].isin(servicios_by_date))] #Filtering...\n",
    "    clean_sorted_df = clean_sorted_df.reset_index(drop=True)\n",
    "    print('The number of rows in the clean_sorted_df is: '  + str(len(clean_sorted_df.index)) + ' rows.' )\n",
    "\n",
    "    clean_sorted_df_1 = MatchingUsers.appendingIdExpedicion(clean_sorted_df,'30 seconds') #Appending (ad-hoc) id expedicion.\n",
    "    grouped_clean_sorted_df_1 = MatchingUsers.groupByEtapasDatabase(clean_sorted_df_1) #Grouping by 'sitio_subida','servicio_subida','idExpedicion','par_subida'\n",
    "    grouped_clean_sorted_df_2 = MatchingUsers.identifyingGroups(grouped_clean_sorted_df_1)"
   ]
  },
  {
   "cell_type": "code",
   "execution_count": 18,
   "metadata": {},
   "outputs": [
    {
     "data": {
      "text/plain": [
       "4581"
      ]
     },
     "execution_count": 18,
     "metadata": {},
     "output_type": "execute_result"
    }
   ],
   "source": [
    "len(grouped_clean_sorted_df_2.index)"
   ]
  },
  {
   "cell_type": "code",
   "execution_count": 19,
   "metadata": {},
   "outputs": [
    {
     "data": {
      "text/plain": [
       "336"
      ]
     },
     "execution_count": 19,
     "metadata": {},
     "output_type": "execute_result"
    }
   ],
   "source": [
    "len(grouped_clean_sorted_df_2.loc[grouped_clean_sorted_df_2['group_b_flag']==1,:].index)"
   ]
  },
  {
   "cell_type": "code",
   "execution_count": 20,
   "metadata": {},
   "outputs": [
    {
     "data": {
      "text/plain": [
       "count     336.000000\n",
       "mean       69.451569\n",
       "std       253.618126\n",
       "min         7.047619\n",
       "25%        25.458333\n",
       "50%        40.000000\n",
       "75%        62.250000\n",
       "max      4592.000000\n",
       "Name: diferencia_tiempo_secs_mean, dtype: float64"
      ]
     },
     "execution_count": 20,
     "metadata": {},
     "output_type": "execute_result"
    }
   ],
   "source": [
    "grouped_clean_sorted_df_2.loc[grouped_clean_sorted_df_2['group_b_flag']==1,'diferencia_tiempo_secs_mean'].describe()"
   ]
  },
  {
   "cell_type": "code",
   "execution_count": 21,
   "metadata": {},
   "outputs": [
    {
     "data": {
      "text/plain": [
       "count    2121.000000\n",
       "mean        4.282859\n",
       "std         4.041948\n",
       "min         0.000000\n",
       "25%         2.000000\n",
       "50%         3.000000\n",
       "75%         5.000000\n",
       "max        30.000000\n",
       "Name: diferencia_tiempo_secs_mean, dtype: float64"
      ]
     },
     "execution_count": 21,
     "metadata": {},
     "output_type": "execute_result"
    }
   ],
   "source": [
    "grouped_clean_sorted_df_2.loc[grouped_clean_sorted_df_2['group_b_flag']==0,'diferencia_tiempo_secs_mean'].describe()"
   ]
  },
  {
   "cell_type": "markdown",
   "metadata": {},
   "source": [
    "## Re-doing and testing whole system"
   ]
  },
  {
   "cell_type": "code",
   "execution_count": 22,
   "metadata": {},
   "outputs": [
    {
     "name": "stdout",
     "output_type": "stream",
     "text": [
      "Once deleted, variables cannot be recovered. Proceed (y/[n])? y\n"
     ]
    }
   ],
   "source": [
    "%reset"
   ]
  },
  {
   "cell_type": "code",
   "execution_count": 23,
   "metadata": {
    "collapsed": true
   },
   "outputs": [],
   "source": [
    "import os\n",
    "import sys\n",
    "module_path = os.path.abspath(os.path.join('..'))\n",
    "if module_path not in sys.path:\n",
    "    sys.path.append(module_path)"
   ]
  },
  {
   "cell_type": "code",
   "execution_count": 24,
   "metadata": {},
   "outputs": [
    {
     "data": {
      "text/html": [
       "<style>.container { width:90% !important; }</style>"
      ],
      "text/plain": [
       "<IPython.core.display.HTML object>"
      ]
     },
     "metadata": {},
     "output_type": "display_data"
    }
   ],
   "source": [
    "%matplotlib inline\n",
    "import pandas as pd\n",
    "import matplotlib\n",
    "import matplotlib.pyplot as plt\n",
    "import numpy as np\n",
    "from importlib import reload\n",
    "import datetime as dt\n",
    "from IPython.core.display import display, HTML\n",
    "display(HTML(\"<style>.container { width:90% !important; }</style>\"))"
   ]
  },
  {
   "cell_type": "code",
   "execution_count": 25,
   "metadata": {
    "collapsed": true
   },
   "outputs": [],
   "source": [
    "from Utils import TransantiagoConstants\n",
    "import EvasionBuilder"
   ]
  },
  {
   "cell_type": "code",
   "execution_count": 26,
   "metadata": {
    "scrolled": false
   },
   "outputs": [
    {
     "name": "stdout",
     "output_type": "stream",
     "text": [
      "Original number of rows in complete evasion database is: 97373\n",
      "Number of duplicated rows in complete evasion database is: 6192\n",
      "Number of collapsed-duplicated rows in complete evasion database is: 3090\n",
      "Number of rows in complete evasion database without duplicated rows at all is: 91181\n",
      "Final number of rows in complete evasion database with collapsed duplicated rows is: 94271\n"
     ]
    },
    {
     "name": "stderr",
     "output_type": "stream",
     "text": [
      "C:\\Users\\leoca_000\\Anaconda3\\lib\\site-packages\\pandas\\core\\indexing.py:337: SettingWithCopyWarning: \n",
      "A value is trying to be set on a copy of a slice from a DataFrame.\n",
      "Try using .loc[row_indexer,col_indexer] = value instead\n",
      "\n",
      "See the caveats in the documentation: http://pandas.pydata.org/pandas-docs/stable/indexing.html#indexing-view-versus-copy\n",
      "  self.obj[key] = _infer_fill_value(value)\n",
      "C:\\Users\\leoca_000\\Anaconda3\\lib\\site-packages\\pandas\\core\\indexing.py:517: SettingWithCopyWarning: \n",
      "A value is trying to be set on a copy of a slice from a DataFrame.\n",
      "Try using .loc[row_indexer,col_indexer] = value instead\n",
      "\n",
      "See the caveats in the documentation: http://pandas.pydata.org/pandas-docs/stable/indexing.html#indexing-view-versus-copy\n",
      "  self.obj[item] = s\n"
     ]
    },
    {
     "name": "stdout",
     "output_type": "stream",
     "text": [
      "The only non-matched user_code services are: \n",
      "D06\n"
     ]
    }
   ],
   "source": [
    "processed_evasion = EvasionBuilder.runCompleteProcess()"
   ]
  },
  {
   "cell_type": "markdown",
   "metadata": {},
   "source": [
    "* Processing complete evasion-ddbb"
   ]
  },
  {
   "cell_type": "code",
   "execution_count": 27,
   "metadata": {
    "collapsed": true
   },
   "outputs": [],
   "source": [
    "evasion_paradero = processed_evasion[processed_evasion['TP']=='P']\n",
    "evasion_paradero_first = evasion_paradero[evasion_paradero['N_PUERTA']==1]"
   ]
  },
  {
   "cell_type": "code",
   "execution_count": 28,
   "metadata": {},
   "outputs": [
    {
     "name": "stdout",
     "output_type": "stream",
     "text": [
      "Number of rows in complete evasion database is: 94271\n",
      "Number of rows in evasion in paradero database is: 92604\n",
      "Number of rows in evasion in paradero by first door database is: 33120\n"
     ]
    }
   ],
   "source": [
    "print('Number of rows in complete evasion database is: ' + str(len(processed_evasion.index)))\n",
    "print('Number of rows in evasion in paradero database is: ' + str(len(evasion_paradero.index)))\n",
    "print('Number of rows in evasion in paradero by first door database is: ' + str(len(evasion_paradero_first.index)))"
   ]
  },
  {
   "cell_type": "markdown",
   "metadata": {},
   "source": [
    "* Filtering dates not in common dates. DataFrame \"common_dates_evasion\" will be the final evasion DataFrame"
   ]
  },
  {
   "cell_type": "code",
   "execution_count": 29,
   "metadata": {},
   "outputs": [
    {
     "name": "stdout",
     "output_type": "stream",
     "text": [
      "Number of rows in complete evasion database filtered by common_dates is: 14632\n"
     ]
    }
   ],
   "source": [
    "common_dates = TransantiagoConstants.common_dates\n",
    "common_dates_timestamp = [pd.to_datetime(x) for x in common_dates]\n",
    "common_dates_evasion = evasion_paradero_first[evasion_paradero_first['FECHA'].isin(common_dates_timestamp)]\n",
    "\n",
    "print('Number of rows in complete evasion database filtered by common_dates is: ' + str(len(common_dates_evasion.index))) #Remember to store the number."
   ]
  },
  {
   "cell_type": "markdown",
   "metadata": {},
   "source": [
    "* Building Etapas DataBase via <strong>RunSilentlyDailyEtapasBuilder</strong> and matching users via <strong>MatchingUsers</strong>"
   ]
  },
  {
   "cell_type": "code",
   "execution_count": 30,
   "metadata": {
    "collapsed": true
   },
   "outputs": [],
   "source": [
    "#common_dates = ['2017-04-11']"
   ]
  },
  {
   "cell_type": "code",
   "execution_count": 31,
   "metadata": {
    "collapsed": true
   },
   "outputs": [],
   "source": [
    "from RunSilentlyDailyEtapasBuilder import RunSilentlyDailyEtapasBuilderClass"
   ]
  },
  {
   "cell_type": "code",
   "execution_count": 32,
   "metadata": {
    "collapsed": true
   },
   "outputs": [],
   "source": [
    "import MatchingUsers"
   ]
  },
  {
   "cell_type": "code",
   "execution_count": 33,
   "metadata": {
    "scrolled": false
   },
   "outputs": [
    {
     "name": "stdout",
     "output_type": "stream",
     "text": [
      "Not found in turnstile database: 1795630\n",
      "The number of rows in the original etapas database is: 2535246 rows.\n",
      "The number of rows in the filtered (by special cases) etapas database is: 2535246 rows.\n",
      "The number of rows in the clean_sorted_df is: 2553 rows.\n",
      "Not found in turnstile database: 1832615\n",
      "The number of rows in the original etapas database is: 2591725 rows.\n",
      "The number of rows in the filtered (by special cases) etapas database is: 2591725 rows.\n",
      "The number of rows in the clean_sorted_df is: 2921 rows.\n",
      "Not found in turnstile database: 1842842\n",
      "The number of rows in the original etapas database is: 2612985 rows.\n",
      "The number of rows in the filtered (by special cases) etapas database is: 2612985 rows.\n",
      "The number of rows in the clean_sorted_df is: 9467 rows.\n",
      "Not found in turnstile database: 1821215\n",
      "The number of rows in the original etapas database is: 2589603 rows.\n",
      "The number of rows in the filtered (by special cases) etapas database is: 2589603 rows.\n",
      "The number of rows in the clean_sorted_df is: 4807 rows.\n",
      "Not found in turnstile database: 1829611\n",
      "The number of rows in the original etapas database is: 2598131 rows.\n",
      "The number of rows in the filtered (by special cases) etapas database is: 2598131 rows.\n",
      "The number of rows in the clean_sorted_df is: 11937 rows.\n",
      "Not found in turnstile database: 1889530\n",
      "The number of rows in the original etapas database is: 2678999 rows.\n",
      "The number of rows in the filtered (by special cases) etapas database is: 2678999 rows.\n",
      "The number of rows in the clean_sorted_df is: 7093 rows.\n",
      "Not found in turnstile database: 1869904\n",
      "The number of rows in the original etapas database is: 2663162 rows.\n",
      "The number of rows in the filtered (by special cases) etapas database is: 2663162 rows.\n",
      "The number of rows in the clean_sorted_df is: 12941 rows.\n",
      "Not found in turnstile database: 517700\n",
      "The number of rows in the original etapas database is: 803771 rows.\n",
      "The number of rows in the filtered (by special cases) etapas database is: 803771 rows.\n",
      "The number of rows in the clean_sorted_df is: 2870 rows.\n",
      "Not found in turnstile database: 1764405\n",
      "The number of rows in the original etapas database is: 2525338 rows.\n",
      "The number of rows in the filtered (by special cases) etapas database is: 2525338 rows.\n",
      "The number of rows in the clean_sorted_df is: 14310 rows.\n",
      "Not found in turnstile database: 1680579\n",
      "The number of rows in the original etapas database is: 2390427 rows.\n",
      "The number of rows in the filtered (by special cases) etapas database is: 2390427 rows.\n",
      "The number of rows in the clean_sorted_df is: 4937 rows.\n",
      "Not found in turnstile database: 1560500\n",
      "The number of rows in the original etapas database is: 2222618 rows.\n",
      "The number of rows in the filtered (by special cases) etapas database is: 2222618 rows.\n",
      "The number of rows in the clean_sorted_df is: 4008 rows.\n",
      "Not found in turnstile database: 1598721\n",
      "The number of rows in the original etapas database is: 2272834 rows.\n",
      "The number of rows in the filtered (by special cases) etapas database is: 2272834 rows.\n",
      "The number of rows in the clean_sorted_df is: 12248 rows.\n",
      "Not found in turnstile database: 1637796\n",
      "The number of rows in the original etapas database is: 2326044 rows.\n",
      "The number of rows in the filtered (by special cases) etapas database is: 2326044 rows.\n",
      "The number of rows in the clean_sorted_df is: 12414 rows.\n",
      "Not found in turnstile database: 1876347\n",
      "The number of rows in the original etapas database is: 2679443 rows.\n",
      "The number of rows in the filtered (by special cases) etapas database is: 2679443 rows.\n",
      "The number of rows in the clean_sorted_df is: 6782 rows.\n",
      "Not found in turnstile database: 1867643\n",
      "The number of rows in the original etapas database is: 2653409 rows.\n",
      "The number of rows in the filtered (by special cases) etapas database is: 2653409 rows.\n",
      "The number of rows in the clean_sorted_df is: 6045 rows.\n",
      "Not found in turnstile database: 1873694\n",
      "The number of rows in the original etapas database is: 2668607 rows.\n",
      "The number of rows in the filtered (by special cases) etapas database is: 2668607 rows.\n",
      "The number of rows in the clean_sorted_df is: 11805 rows.\n",
      "Not found in turnstile database: 1877006\n",
      "The number of rows in the original etapas database is: 2673767 rows.\n",
      "The number of rows in the filtered (by special cases) etapas database is: 2673767 rows.\n",
      "The number of rows in the clean_sorted_df is: 11314 rows.\n",
      "Not found in turnstile database: 1842523\n",
      "The number of rows in the original etapas database is: 2636529 rows.\n",
      "The number of rows in the filtered (by special cases) etapas database is: 2636529 rows.\n",
      "The number of rows in the clean_sorted_df is: 4112 rows.\n"
     ]
    }
   ],
   "source": [
    "summary_evasion_vs_mean = pd.DataFrame()\n",
    "\n",
    "for date in common_dates:    \n",
    "    etapas_builder = RunSilentlyDailyEtapasBuilderClass(date) #Critical.\n",
    "    processed_sorted_df = etapas_builder.runProcessedProcess()    \n",
    "    processed_sorted_df['sitio_subida'] = processed_sorted_df['sitio_subida'].str.replace(\"-\", \"\")\n",
    "    processed_sorted_df['sitio_subida'] = processed_sorted_df['sitio_subida'].str.replace(\" \", \"\")\n",
    "    \n",
    "    processed_sorted_df['servicio_subida'] =  processed_sorted_df['servicio_subida'].str.replace('T','')\n",
    "    processed_sorted_df['servicio_subida'] =  processed_sorted_df['servicio_subida'].str.split(' ').str[0]\n",
    "    \n",
    "    print('The number of rows in the original etapas database is: ' + str(len(processed_sorted_df.index)) + ' rows.' )\n",
    "    #Filtering special cases.\n",
    "#    filtered_processed_sorted_df = processed_sorted_df[(processed_sorted_df['diferencia_tiempo_secs']<=20)|(processed_sorted_df['diferencia_tiempo_secs'].isnull())]\n",
    "    filtered_processed_sorted_df = processed_sorted_df\n",
    "    print('The number of rows in the filtered (by special cases) etapas database is: '  + str(len(filtered_processed_sorted_df.index)) + ' rows.' )\n",
    "    \n",
    "    [evasion_by_date, patentes_by_date, servicios_by_date] = MatchingUsers.simplifyingEvasion(common_dates_evasion,date) #Getting patentes and servicios surveyed in date...\n",
    "    \n",
    "    clean_sorted_df = filtered_processed_sorted_df[(filtered_processed_sorted_df['sitio_subida'].isin(patentes_by_date))&(filtered_processed_sorted_df['servicio_subida'].isin(servicios_by_date))] #Filtering...\n",
    "    clean_sorted_df = clean_sorted_df.reset_index(drop=True)\n",
    "    print('The number of rows in the clean_sorted_df is: '  + str(len(clean_sorted_df.index)) + ' rows.' )\n",
    "\n",
    "    clean_sorted_df_1 = MatchingUsers.appendingIdExpedicion(clean_sorted_df,'30 seconds') #Appending (ad-hoc) id expedicion.\n",
    "    grouped_clean_sorted_df_1 = MatchingUsers.groupByEtapasDatabase(clean_sorted_df_1) #Grouping by 'sitio_subida','servicio_subida','idExpedicion','par_subida'\n",
    "#NEW\n",
    "    grouped_clean_sorted_df_2 = MatchingUsers.identifyingGroups(grouped_clean_sorted_df_1)\n",
    "    grouped_clean_sorted_df_3 = MatchingUsers.dropGroupBRows(grouped_clean_sorted_df_2,True)\n",
    "#END_NEW     \n",
    "    grouped_clean_sorted_df_4 = MatchingUsers.appendingStartEndCuts(grouped_clean_sorted_df_3) #Computing start and end cuts.\n",
    "    grouped_clean_sorted_df_5 = MatchingUsers.slicingEvasionDatabase(grouped_clean_sorted_df_4,evasion_by_date)\n",
    "    grouped_clean_sorted_df_6 = MatchingUsers.reMergeTurnstileData(grouped_clean_sorted_df_5) #This is the final ddbb with full info.\n",
    "    \n",
    "    summary_evasion_vs_mean = pd.concat([summary_evasion_vs_mean,grouped_clean_sorted_df_6])"
   ]
  },
  {
   "cell_type": "code",
   "execution_count": 34,
   "metadata": {},
   "outputs": [
    {
     "name": "stdout",
     "output_type": "stream",
     "text": [
      "The number of rows in the summary_evasion_vs_mean: 53340 rows.\n"
     ]
    }
   ],
   "source": [
    "print('The number of rows in the summary_evasion_vs_mean: '  + str(len(summary_evasion_vs_mean.index)) + ' rows.' )"
   ]
  },
  {
   "cell_type": "code",
   "execution_count": 35,
   "metadata": {
    "collapsed": true
   },
   "outputs": [],
   "source": [
    "summary_evasion_vs_mean.loc[:,'EVASION_RATE'] = summary_evasion_vs_mean.loc[:,'TOTAL_NO_VALIDAN']/summary_evasion_vs_mean.loc[:,'TOTAL_INGRESAN']\n",
    "\n",
    "not_null_mean_summary = summary_evasion_vs_mean[summary_evasion_vs_mean['diferencia_tiempo_secs_mean'].notnull()]\n",
    "not_null_mean_count_summary = not_null_mean_summary[not_null_mean_summary['EVASION_COUNT']>0]\n",
    "not_null_mean_count_summary_no_turns = not_null_mean_count_summary[(not_null_mean_count_summary['SI_TORNIQUETE']==False)|((not_null_mean_count_summary['SI_TORNIQUETE']==True) & (not_null_mean_count_summary['t_subida_max']<=not_null_mean_count_summary['fecha_instalacion']))]\n"
   ]
  },
  {
   "cell_type": "code",
   "execution_count": 36,
   "metadata": {},
   "outputs": [
    {
     "name": "stdout",
     "output_type": "stream",
     "text": [
      "The number of rows in the not_null_mean_summary dataframe is: 26293 rows.\n",
      "The number of rows in the not_null_mean_count_summary dataframe is: 2649 rows.\n",
      "The number of rows in the not_null_mean_count_summary_no_turns dataframe is: 2009 rows.\n"
     ]
    }
   ],
   "source": [
    "print('The number of rows in the not_null_mean_summary dataframe is: ' + str(len(not_null_mean_summary.index)) + ' rows.')\n",
    "print('The number of rows in the not_null_mean_count_summary dataframe is: ' + str(len(not_null_mean_count_summary.index)) + ' rows.')\n",
    "print('The number of rows in the not_null_mean_count_summary_no_turns dataframe is: ' + str(len(not_null_mean_count_summary_no_turns.index)) + ' rows.')"
   ]
  },
  {
   "cell_type": "code",
   "execution_count": 37,
   "metadata": {},
   "outputs": [
    {
     "data": {
      "text/plain": [
       "<matplotlib.text.Text at 0x2421beeab00>"
      ]
     },
     "execution_count": 37,
     "metadata": {},
     "output_type": "execute_result"
    },
    {
     "data": {
      "image/png": "[encoded data removed]",
      "text/plain": [
       "<matplotlib.figure.Figure at 0x242597fb630>"
      ]
     },
     "metadata": {},
     "output_type": "display_data"
    }
   ],
   "source": [
    "fig_1, ax_1 = plt.subplots()\n",
    "\n",
    "ax_1.scatter(not_null_mean_count_summary_no_turns['diferencia_tiempo_secs_mean'],not_null_mean_count_summary_no_turns['EVASION_RATE'])\n",
    "ax_1.set_title('Evasion vs. Mean Time - No Turns, By Bus, Service, Stop, 30Secs')\n",
    "ax_1.set_xlabel('Mean Time Interval [s]')\n",
    "ax_1.set_ylabel('Evasion Rate [%]')\n",
    "\n",
    "#plt.savefig('C:/Users/leoca_000/Desktop/Evasion/03_report/02_Figs/9_20Secs_EvasionVsMeanTimeByBusByServiceByStop.pdf')"
   ]
  }
 ],
 "metadata": {
  "kernelspec": {
   "display_name": "Python 3",
   "language": "python",
   "name": "python3"
  },
  "language_info": {
   "codemirror_mode": {
    "name": "ipython",
    "version": 3
   },
   "file_extension": ".py",
   "mimetype": "text/x-python",
   "name": "python",
   "nbconvert_exporter": "python",
   "pygments_lexer": "ipython3",
   "version": "3.6.1"
  }
 },
 "nbformat": 4,
 "nbformat_minor": 2
}
