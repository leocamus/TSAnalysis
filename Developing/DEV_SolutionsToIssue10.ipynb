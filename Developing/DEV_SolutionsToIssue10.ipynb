{
 "cells": [
  {
   "cell_type": "markdown",
   "metadata": {},
   "source": [
    "## Developing solutions to issue #10"
   ]
  },
  {
   "cell_type": "markdown",
   "metadata": {},
   "source": [
    "* The first idea coming to my mind is to tight the criterion used to assign different expeditions (i.e. time_delta=30 secs in MatchingUsers.appendingIdExpedicion), and follow the same methodology as in MatchingUsers.py with the difference that a post-processing should be added in order to recognize _group B_ observations (again, look issue #10), adding a flag to them and eventually drop them in the notebook used to analyze data.\n",
    "* As a first approach, _group B_ observations can be recognized going over the entire (sorted beforehand) dataset returned from MatchingUsers.groupByEtapasDatabase and checking for conditions.\n",
    "* The conditions should look like \n",
    "if (sitio_subida(i-1) == sitio_subida(i) and\n",
    "servicio_subida(i-1) == servicio_subida(i) and\n",
    "par_subida(i-1) == par_subida (i) and \n",
    "__id_expedicion(i-1) + 1 == id_expedicion(i)__) then flag == 1."
   ]
  },
  {
   "cell_type": "code",
   "execution_count": 1,
   "metadata": {
    "collapsed": true
   },
   "outputs": [],
   "source": [
    "import os\n",
    "import sys\n",
    "module_path = os.path.abspath(os.path.join('..'))\n",
    "if module_path not in sys.path:\n",
    "    sys.path.append(module_path)"
   ]
  },
  {
   "cell_type": "code",
   "execution_count": 2,
   "metadata": {},
   "outputs": [
    {
     "data": {
      "text/html": [
       "<style>.container { width:90% !important; }</style>"
      ],
      "text/plain": [
       "<IPython.core.display.HTML object>"
      ]
     },
     "metadata": {},
     "output_type": "display_data"
    }
   ],
   "source": [
    "%matplotlib inline\n",
    "import pandas as pd\n",
    "import matplotlib\n",
    "import matplotlib.pyplot as plt\n",
    "import numpy as np\n",
    "from importlib import reload\n",
    "import datetime as dt\n",
    "from IPython.core.display import display, HTML\n",
    "display(HTML(\"<style>.container { width:90% !important; }</style>\"))"
   ]
  },
  {
   "cell_type": "code",
   "execution_count": 3,
   "metadata": {
    "collapsed": true
   },
   "outputs": [],
   "source": [
    "from Utils import TransantiagoConstants\n",
    "import EvasionBuilder"
   ]
  },
  {
   "cell_type": "code",
   "execution_count": 4,
   "metadata": {},
   "outputs": [
    {
     "name": "stdout",
     "output_type": "stream",
     "text": [
      "Original number of rows in complete evasion database is: 97373\n",
      "Number of duplicated rows in complete evasion database is: 6192\n",
      "Number of collapsed-duplicated rows in complete evasion database is: 3090\n",
      "Number of rows in complete evasion database without duplicated rows at all is: 91181\n",
      "Final number of rows in complete evasion database with collapsed duplicated rows is: 94271\n"
     ]
    },
    {
     "name": "stderr",
     "output_type": "stream",
     "text": [
      "C:\\Users\\leoca_000\\Anaconda3\\lib\\site-packages\\pandas\\core\\indexing.py:337: SettingWithCopyWarning: \n",
      "A value is trying to be set on a copy of a slice from a DataFrame.\n",
      "Try using .loc[row_indexer,col_indexer] = value instead\n",
      "\n",
      "See the caveats in the documentation: http://pandas.pydata.org/pandas-docs/stable/indexing.html#indexing-view-versus-copy\n",
      "  self.obj[key] = _infer_fill_value(value)\n",
      "C:\\Users\\leoca_000\\Anaconda3\\lib\\site-packages\\pandas\\core\\indexing.py:517: SettingWithCopyWarning: \n",
      "A value is trying to be set on a copy of a slice from a DataFrame.\n",
      "Try using .loc[row_indexer,col_indexer] = value instead\n",
      "\n",
      "See the caveats in the documentation: http://pandas.pydata.org/pandas-docs/stable/indexing.html#indexing-view-versus-copy\n",
      "  self.obj[item] = s\n"
     ]
    },
    {
     "name": "stdout",
     "output_type": "stream",
     "text": [
      "The only non-matched user_code services are: \n",
      "D06\n"
     ]
    }
   ],
   "source": [
    "processed_evasion = EvasionBuilder.runCompleteProcess()"
   ]
  },
  {
   "cell_type": "markdown",
   "metadata": {},
   "source": [
    "* Processing complete evasion-ddbb"
   ]
  },
  {
   "cell_type": "code",
   "execution_count": 5,
   "metadata": {
    "collapsed": true
   },
   "outputs": [],
   "source": [
    "evasion_paradero = processed_evasion[processed_evasion['TP']=='P']\n",
    "evasion_paradero_first = evasion_paradero[evasion_paradero['N_PUERTA']==1]"
   ]
  },
  {
   "cell_type": "code",
   "execution_count": 6,
   "metadata": {},
   "outputs": [
    {
     "name": "stdout",
     "output_type": "stream",
     "text": [
      "Number of rows in complete evasion database is: 94271\n",
      "Number of rows in evasion in paradero database is: 92604\n",
      "Number of rows in evasion in paradero by first door database is: 33120\n"
     ]
    }
   ],
   "source": [
    "print('Number of rows in complete evasion database is: ' + str(len(processed_evasion.index)))\n",
    "print('Number of rows in evasion in paradero database is: ' + str(len(evasion_paradero.index)))\n",
    "print('Number of rows in evasion in paradero by first door database is: ' + str(len(evasion_paradero_first.index)))"
   ]
  },
  {
   "cell_type": "markdown",
   "metadata": {},
   "source": [
    "* Filtering dates not in common dates. DataFrame \"common_dates_evasion\" will be the final evasion DataFrame"
   ]
  },
  {
   "cell_type": "code",
   "execution_count": 7,
   "metadata": {},
   "outputs": [
    {
     "name": "stdout",
     "output_type": "stream",
     "text": [
      "Number of rows in complete evasion database filtered by common_dates is: 14632\n"
     ]
    }
   ],
   "source": [
    "common_dates = TransantiagoConstants.common_dates\n",
    "common_dates_timestamp = [pd.to_datetime(x) for x in common_dates]\n",
    "common_dates_evasion = evasion_paradero_first[evasion_paradero_first['FECHA'].isin(common_dates_timestamp)]\n",
    "\n",
    "print('Number of rows in complete evasion database filtered by common_dates is: ' + str(len(common_dates_evasion.index))) #Remember to store the number."
   ]
  },
  {
   "cell_type": "markdown",
   "metadata": {},
   "source": [
    "* Building Etapas DataBase via <strong>RunSilentlyDailyEtapasBuilder</strong> and matching users via <strong>MatchingUsers</strong>"
   ]
  },
  {
   "cell_type": "code",
   "execution_count": 8,
   "metadata": {
    "collapsed": true
   },
   "outputs": [],
   "source": [
    "common_dates = ['2017-04-11'] #To debug and refactor"
   ]
  },
  {
   "cell_type": "code",
   "execution_count": 9,
   "metadata": {
    "collapsed": true
   },
   "outputs": [],
   "source": [
    "from RunSilentlyDailyEtapasBuilder import RunSilentlyDailyEtapasBuilderClass"
   ]
  },
  {
   "cell_type": "code",
   "execution_count": 10,
   "metadata": {
    "collapsed": true
   },
   "outputs": [],
   "source": [
    "import MatchingUsers"
   ]
  },
  {
   "cell_type": "code",
   "execution_count": 11,
   "metadata": {},
   "outputs": [
    {
     "name": "stdout",
     "output_type": "stream",
     "text": [
      "Not found in turnstile database: 1829611\n",
      "The number of rows in the original etapas database is: 2598131 rows.\n",
      "The number of rows in the filtered (by special cases) etapas database is: 2598131 rows.\n",
      "The number of rows in the clean_sorted_df is: 11937 rows.\n"
     ]
    }
   ],
   "source": [
    "for date in common_dates:    \n",
    "    etapas_builder = RunSilentlyDailyEtapasBuilderClass(date) #Critical.\n",
    "    processed_sorted_df = etapas_builder.runProcessedProcess()    \n",
    "    processed_sorted_df['sitio_subida'] = processed_sorted_df['sitio_subida'].str.replace(\"-\", \"\")\n",
    "    processed_sorted_df['sitio_subida'] = processed_sorted_df['sitio_subida'].str.replace(\" \", \"\")\n",
    "    \n",
    "    processed_sorted_df['servicio_subida'] =  processed_sorted_df['servicio_subida'].str.replace('T','')\n",
    "    processed_sorted_df['servicio_subida'] =  processed_sorted_df['servicio_subida'].str.split(' ').str[0]\n",
    "    \n",
    "    print('The number of rows in the original etapas database is: ' + str(len(processed_sorted_df.index)) + ' rows.' )\n",
    "    #Filtering special cases.\n",
    "#    filtered_processed_sorted_df = processed_sorted_df[(processed_sorted_df['diferencia_tiempo_secs']<=20)|(processed_sorted_df['diferencia_tiempo_secs'].isnull())]\n",
    "    filtered_processed_sorted_df = processed_sorted_df\n",
    "    print('The number of rows in the filtered (by special cases) etapas database is: '  + str(len(filtered_processed_sorted_df.index)) + ' rows.' )\n",
    "    \n",
    "    [evasion_by_date, patentes_by_date, servicios_by_date] = MatchingUsers.simplifyingEvasion(common_dates_evasion,date) #Getting patentes and servicios surveyed in date...\n",
    "    \n",
    "    clean_sorted_df = filtered_processed_sorted_df[(filtered_processed_sorted_df['sitio_subida'].isin(patentes_by_date))&(filtered_processed_sorted_df['servicio_subida'].isin(servicios_by_date))] #Filtering...\n",
    "    clean_sorted_df = clean_sorted_df.reset_index(drop=True)\n",
    "    print('The number of rows in the clean_sorted_df is: '  + str(len(clean_sorted_df.index)) + ' rows.' )\n",
    "\n",
    "    clean_sorted_df_1 = MatchingUsers.appendingIdExpedicion(clean_sorted_df,'30 seconds') #Appending (ad-hoc) id expedicion.\n",
    "    grouped_clean_sorted_df_1 = MatchingUsers.groupByEtapasDatabase(clean_sorted_df_1) #Grouping by 'sitio_subida','servicio_subida','idExpedicion','par_subida'\n"
   ]
  },
  {
   "cell_type": "markdown",
   "metadata": {},
   "source": [
    "* Here starts the developing"
   ]
  },
  {
   "cell_type": "code",
   "execution_count": 12,
   "metadata": {
    "collapsed": true
   },
   "outputs": [],
   "source": [
    "past_patente=''\n",
    "past_servicio=''\n",
    "past_paradero=''\n",
    "past_expedicion = 0\n",
    "grouped_clean_sorted_df_1['group_b_flag']=''\n",
    "\n",
    "for index, row in grouped_clean_sorted_df_1.iterrows():\n",
    "    actual_patente = row['sitio_subida']\n",
    "    actual_servicio = row['servicio_subida']\n",
    "    actual_paradero = row['par_subida']\n",
    "    actual_expedicion = row['idExpedicion']\n",
    "    if((past_patente==actual_patente)&(past_servicio==actual_servicio)&(past_paradero==actual_paradero)&(past_expedicion + 1 == actual_expedicion)):\n",
    "        grouped_clean_sorted_df_1.loc[index,'group_b_flag'] = 1\n",
    "    else:\n",
    "        grouped_clean_sorted_df_1.loc[index,'group_b_flag'] = 0\n",
    "        \n",
    "    past_patente = actual_patente\n",
    "    past_servicio = actual_servicio\n",
    "    past_paradero = actual_paradero\n",
    "    past_expedicion = actual_expedicion\n"
   ]
  },
  {
   "cell_type": "markdown",
   "metadata": {},
   "source": [
    "* Developing indicators"
   ]
  },
  {
   "cell_type": "code",
   "execution_count": 13,
   "metadata": {},
   "outputs": [
    {
     "data": {
      "text/plain": [
       "4581"
      ]
     },
     "execution_count": 13,
     "metadata": {},
     "output_type": "execute_result"
    }
   ],
   "source": [
    "len(grouped_clean_sorted_df_1.index)"
   ]
  },
  {
   "cell_type": "code",
   "execution_count": 14,
   "metadata": {},
   "outputs": [
    {
     "data": {
      "text/plain": [
       "336"
      ]
     },
     "execution_count": 14,
     "metadata": {},
     "output_type": "execute_result"
    }
   ],
   "source": [
    "len(grouped_clean_sorted_df_1.loc[grouped_clean_sorted_df_1['group_b_flag']==1,:].index)"
   ]
  },
  {
   "cell_type": "code",
   "execution_count": 15,
   "metadata": {},
   "outputs": [
    {
     "data": {
      "text/plain": [
       "count     336.000000\n",
       "mean       69.451569\n",
       "std       253.618126\n",
       "min         7.047619\n",
       "25%        25.458333\n",
       "50%        40.000000\n",
       "75%        62.250000\n",
       "max      4592.000000\n",
       "Name: diferencia_tiempo_secs_mean, dtype: float64"
      ]
     },
     "execution_count": 15,
     "metadata": {},
     "output_type": "execute_result"
    }
   ],
   "source": [
    "grouped_clean_sorted_df_1.loc[grouped_clean_sorted_df_1['group_b_flag']==1,'diferencia_tiempo_secs_mean'].describe()"
   ]
  },
  {
   "cell_type": "code",
   "execution_count": 16,
   "metadata": {},
   "outputs": [
    {
     "data": {
      "text/plain": [
       "count    2121.000000\n",
       "mean        4.282859\n",
       "std         4.041948\n",
       "min         0.000000\n",
       "25%         2.000000\n",
       "50%         3.000000\n",
       "75%         5.000000\n",
       "max        30.000000\n",
       "Name: diferencia_tiempo_secs_mean, dtype: float64"
      ]
     },
     "execution_count": 16,
     "metadata": {},
     "output_type": "execute_result"
    }
   ],
   "source": [
    "grouped_clean_sorted_df_1.loc[grouped_clean_sorted_df_1['group_b_flag']==0,'diferencia_tiempo_secs_mean'].describe()"
   ]
  },
  {
   "cell_type": "markdown",
   "metadata": {},
   "source": [
    "* End developing and testing > <font color='green'> Passed </font>"
   ]
  },
  {
   "cell_type": "code",
   "execution_count": 17,
   "metadata": {},
   "outputs": [
    {
     "name": "stdout",
     "output_type": "stream",
     "text": [
      "Not found in turnstile database: 1829611\n",
      "The number of rows in the original etapas database is: 2598131 rows.\n",
      "The number of rows in the filtered (by special cases) etapas database is: 2598131 rows.\n",
      "The number of rows in the clean_sorted_df is: 11937 rows.\n"
     ]
    }
   ],
   "source": [
    "for date in common_dates:    \n",
    "    etapas_builder = RunSilentlyDailyEtapasBuilderClass(date) #Critical.\n",
    "    processed_sorted_df = etapas_builder.runProcessedProcess()    \n",
    "    processed_sorted_df['sitio_subida'] = processed_sorted_df['sitio_subida'].str.replace(\"-\", \"\")\n",
    "    processed_sorted_df['sitio_subida'] = processed_sorted_df['sitio_subida'].str.replace(\" \", \"\")\n",
    "    \n",
    "    processed_sorted_df['servicio_subida'] =  processed_sorted_df['servicio_subida'].str.replace('T','')\n",
    "    processed_sorted_df['servicio_subida'] =  processed_sorted_df['servicio_subida'].str.split(' ').str[0]\n",
    "    \n",
    "    print('The number of rows in the original etapas database is: ' + str(len(processed_sorted_df.index)) + ' rows.' )\n",
    "    #Filtering special cases.\n",
    "#    filtered_processed_sorted_df = processed_sorted_df[(processed_sorted_df['diferencia_tiempo_secs']<=20)|(processed_sorted_df['diferencia_tiempo_secs'].isnull())]\n",
    "    filtered_processed_sorted_df = processed_sorted_df\n",
    "    print('The number of rows in the filtered (by special cases) etapas database is: '  + str(len(filtered_processed_sorted_df.index)) + ' rows.' )\n",
    "    \n",
    "    [evasion_by_date, patentes_by_date, servicios_by_date] = MatchingUsers.simplifyingEvasion(common_dates_evasion,date) #Getting patentes and servicios surveyed in date...\n",
    "    \n",
    "    clean_sorted_df = filtered_processed_sorted_df[(filtered_processed_sorted_df['sitio_subida'].isin(patentes_by_date))&(filtered_processed_sorted_df['servicio_subida'].isin(servicios_by_date))] #Filtering...\n",
    "    clean_sorted_df = clean_sorted_df.reset_index(drop=True)\n",
    "    print('The number of rows in the clean_sorted_df is: '  + str(len(clean_sorted_df.index)) + ' rows.' )\n",
    "\n",
    "    clean_sorted_df_1 = MatchingUsers.appendingIdExpedicion(clean_sorted_df,'30 seconds') #Appending (ad-hoc) id expedicion.\n",
    "    grouped_clean_sorted_df_1 = MatchingUsers.groupByEtapasDatabase(clean_sorted_df_1) #Grouping by 'sitio_subida','servicio_subida','idExpedicion','par_subida'\n",
    "    grouped_clean_sorted_df_2 = MatchingUsers.identifyingGroups(grouped_clean_sorted_df_1)"
   ]
  },
  {
   "cell_type": "code",
   "execution_count": 18,
   "metadata": {},
   "outputs": [
    {
     "data": {
      "text/plain": [
       "4581"
      ]
     },
     "execution_count": 18,
     "metadata": {},
     "output_type": "execute_result"
    }
   ],
   "source": [
    "len(grouped_clean_sorted_df_2.index)"
   ]
  },
  {
   "cell_type": "code",
   "execution_count": 19,
   "metadata": {},
   "outputs": [
    {
     "data": {
      "text/plain": [
       "336"
      ]
     },
     "execution_count": 19,
     "metadata": {},
     "output_type": "execute_result"
    }
   ],
   "source": [
    "len(grouped_clean_sorted_df_2.loc[grouped_clean_sorted_df_2['group_b_flag']==1,:].index)"
   ]
  },
  {
   "cell_type": "code",
   "execution_count": 20,
   "metadata": {},
   "outputs": [
    {
     "data": {
      "text/plain": [
       "count     336.000000\n",
       "mean       69.451569\n",
       "std       253.618126\n",
       "min         7.047619\n",
       "25%        25.458333\n",
       "50%        40.000000\n",
       "75%        62.250000\n",
       "max      4592.000000\n",
       "Name: diferencia_tiempo_secs_mean, dtype: float64"
      ]
     },
     "execution_count": 20,
     "metadata": {},
     "output_type": "execute_result"
    }
   ],
   "source": [
    "grouped_clean_sorted_df_2.loc[grouped_clean_sorted_df_2['group_b_flag']==1,'diferencia_tiempo_secs_mean'].describe()"
   ]
  },
  {
   "cell_type": "code",
   "execution_count": 21,
   "metadata": {},
   "outputs": [
    {
     "data": {
      "text/plain": [
       "count    2121.000000\n",
       "mean        4.282859\n",
       "std         4.041948\n",
       "min         0.000000\n",
       "25%         2.000000\n",
       "50%         3.000000\n",
       "75%         5.000000\n",
       "max        30.000000\n",
       "Name: diferencia_tiempo_secs_mean, dtype: float64"
      ]
     },
     "execution_count": 21,
     "metadata": {},
     "output_type": "execute_result"
    }
   ],
   "source": [
    "grouped_clean_sorted_df_2.loc[grouped_clean_sorted_df_2['group_b_flag']==0,'diferencia_tiempo_secs_mean'].describe()"
   ]
  },
  {
   "cell_type": "markdown",
   "metadata": {},
   "source": [
    "## Re-doing and testing whole system"
   ]
  },
  {
   "cell_type": "code",
   "execution_count": 22,
   "metadata": {},
   "outputs": [
    {
     "name": "stdout",
     "output_type": "stream",
     "text": [
      "Once deleted, variables cannot be recovered. Proceed (y/[n])? y\n"
     ]
    }
   ],
   "source": [
    "%reset"
   ]
  },
  {
   "cell_type": "code",
   "execution_count": 23,
   "metadata": {
    "collapsed": true
   },
   "outputs": [],
   "source": [
    "import os\n",
    "import sys\n",
    "module_path = os.path.abspath(os.path.join('..'))\n",
    "if module_path not in sys.path:\n",
    "    sys.path.append(module_path)"
   ]
  },
  {
   "cell_type": "code",
   "execution_count": 24,
   "metadata": {},
   "outputs": [
    {
     "data": {
      "text/html": [
       "<style>.container { width:90% !important; }</style>"
      ],
      "text/plain": [
       "<IPython.core.display.HTML object>"
      ]
     },
     "metadata": {},
     "output_type": "display_data"
    }
   ],
   "source": [
    "%matplotlib inline\n",
    "import pandas as pd\n",
    "import matplotlib\n",
    "import matplotlib.pyplot as plt\n",
    "import numpy as np\n",
    "from importlib import reload\n",
    "import datetime as dt\n",
    "from IPython.core.display import display, HTML\n",
    "display(HTML(\"<style>.container { width:90% !important; }</style>\"))"
   ]
  },
  {
   "cell_type": "code",
   "execution_count": 25,
   "metadata": {
    "collapsed": true
   },
   "outputs": [],
   "source": [
    "from Utils import TransantiagoConstants\n",
    "import EvasionBuilder"
   ]
  },
  {
   "cell_type": "code",
   "execution_count": 26,
   "metadata": {
    "scrolled": false
   },
   "outputs": [
    {
     "name": "stdout",
     "output_type": "stream",
     "text": [
      "Original number of rows in complete evasion database is: 97373\n",
      "Number of duplicated rows in complete evasion database is: 6192\n",
      "Number of collapsed-duplicated rows in complete evasion database is: 3090\n",
      "Number of rows in complete evasion database without duplicated rows at all is: 91181\n",
      "Final number of rows in complete evasion database with collapsed duplicated rows is: 94271\n"
     ]
    },
    {
     "name": "stderr",
     "output_type": "stream",
     "text": [
      "C:\\Users\\leoca_000\\Anaconda3\\lib\\site-packages\\pandas\\core\\indexing.py:337: SettingWithCopyWarning: \n",
      "A value is trying to be set on a copy of a slice from a DataFrame.\n",
      "Try using .loc[row_indexer,col_indexer] = value instead\n",
      "\n",
      "See the caveats in the documentation: http://pandas.pydata.org/pandas-docs/stable/indexing.html#indexing-view-versus-copy\n",
      "  self.obj[key] = _infer_fill_value(value)\n",
      "C:\\Users\\leoca_000\\Anaconda3\\lib\\site-packages\\pandas\\core\\indexing.py:517: SettingWithCopyWarning: \n",
      "A value is trying to be set on a copy of a slice from a DataFrame.\n",
      "Try using .loc[row_indexer,col_indexer] = value instead\n",
      "\n",
      "See the caveats in the documentation: http://pandas.pydata.org/pandas-docs/stable/indexing.html#indexing-view-versus-copy\n",
      "  self.obj[item] = s\n"
     ]
    },
    {
     "name": "stdout",
     "output_type": "stream",
     "text": [
      "The only non-matched user_code services are: \n",
      "D06\n"
     ]
    }
   ],
   "source": [
    "processed_evasion = EvasionBuilder.runCompleteProcess()"
   ]
  },
  {
   "cell_type": "markdown",
   "metadata": {},
   "source": [
    "* Processing complete evasion-ddbb"
   ]
  },
  {
   "cell_type": "code",
   "execution_count": 27,
   "metadata": {
    "collapsed": true
   },
   "outputs": [],
   "source": [
    "evasion_paradero = processed_evasion[processed_evasion['TP']=='P']\n",
    "evasion_paradero_first = evasion_paradero[evasion_paradero['N_PUERTA']==1]"
   ]
  },
  {
   "cell_type": "code",
   "execution_count": 28,
   "metadata": {},
   "outputs": [
    {
     "name": "stdout",
     "output_type": "stream",
     "text": [
      "Number of rows in complete evasion database is: 94271\n",
      "Number of rows in evasion in paradero database is: 92604\n",
      "Number of rows in evasion in paradero by first door database is: 33120\n"
     ]
    }
   ],
   "source": [
    "print('Number of rows in complete evasion database is: ' + str(len(processed_evasion.index)))\n",
    "print('Number of rows in evasion in paradero database is: ' + str(len(evasion_paradero.index)))\n",
    "print('Number of rows in evasion in paradero by first door database is: ' + str(len(evasion_paradero_first.index)))"
   ]
  },
  {
   "cell_type": "markdown",
   "metadata": {},
   "source": [
    "* Filtering dates not in common dates. DataFrame \"common_dates_evasion\" will be the final evasion DataFrame"
   ]
  },
  {
   "cell_type": "code",
   "execution_count": 29,
   "metadata": {},
   "outputs": [
    {
     "name": "stdout",
     "output_type": "stream",
     "text": [
      "Number of rows in complete evasion database filtered by common_dates is: 14632\n"
     ]
    }
   ],
   "source": [
    "common_dates = TransantiagoConstants.common_dates\n",
    "common_dates_timestamp = [pd.to_datetime(x) for x in common_dates]\n",
    "common_dates_evasion = evasion_paradero_first[evasion_paradero_first['FECHA'].isin(common_dates_timestamp)]\n",
    "\n",
    "print('Number of rows in complete evasion database filtered by common_dates is: ' + str(len(common_dates_evasion.index))) #Remember to store the number."
   ]
  },
  {
   "cell_type": "markdown",
   "metadata": {},
   "source": [
    "* Building Etapas DataBase via <strong>RunSilentlyDailyEtapasBuilder</strong> and matching users via <strong>MatchingUsers</strong>"
   ]
  },
  {
   "cell_type": "code",
   "execution_count": 30,
   "metadata": {
    "collapsed": true
   },
   "outputs": [],
   "source": [
    "#common_dates = ['2017-04-11']"
   ]
  },
  {
   "cell_type": "code",
   "execution_count": 31,
   "metadata": {
    "collapsed": true
   },
   "outputs": [],
   "source": [
    "from RunSilentlyDailyEtapasBuilder import RunSilentlyDailyEtapasBuilderClass"
   ]
  },
  {
   "cell_type": "code",
   "execution_count": 32,
   "metadata": {
    "collapsed": true
   },
   "outputs": [],
   "source": [
    "import MatchingUsers"
   ]
  },
  {
   "cell_type": "code",
   "execution_count": 33,
   "metadata": {
    "scrolled": false
   },
   "outputs": [
    {
     "name": "stdout",
     "output_type": "stream",
     "text": [
      "Not found in turnstile database: 1795630\n",
      "The number of rows in the original etapas database is: 2535246 rows.\n",
      "The number of rows in the filtered (by special cases) etapas database is: 2535246 rows.\n",
      "The number of rows in the clean_sorted_df is: 2553 rows.\n",
      "Not found in turnstile database: 1832615\n",
      "The number of rows in the original etapas database is: 2591725 rows.\n",
      "The number of rows in the filtered (by special cases) etapas database is: 2591725 rows.\n",
      "The number of rows in the clean_sorted_df is: 2921 rows.\n",
      "Not found in turnstile database: 1842842\n",
      "The number of rows in the original etapas database is: 2612985 rows.\n",
      "The number of rows in the filtered (by special cases) etapas database is: 2612985 rows.\n",
      "The number of rows in the clean_sorted_df is: 9467 rows.\n",
      "Not found in turnstile database: 1821215\n",
      "The number of rows in the original etapas database is: 2589603 rows.\n",
      "The number of rows in the filtered (by special cases) etapas database is: 2589603 rows.\n",
      "The number of rows in the clean_sorted_df is: 4807 rows.\n",
      "Not found in turnstile database: 1829611\n",
      "The number of rows in the original etapas database is: 2598131 rows.\n",
      "The number of rows in the filtered (by special cases) etapas database is: 2598131 rows.\n",
      "The number of rows in the clean_sorted_df is: 11937 rows.\n",
      "Not found in turnstile database: 1889530\n",
      "The number of rows in the original etapas database is: 2678999 rows.\n",
      "The number of rows in the filtered (by special cases) etapas database is: 2678999 rows.\n",
      "The number of rows in the clean_sorted_df is: 7093 rows.\n",
      "Not found in turnstile database: 1869904\n",
      "The number of rows in the original etapas database is: 2663162 rows.\n",
      "The number of rows in the filtered (by special cases) etapas database is: 2663162 rows.\n",
      "The number of rows in the clean_sorted_df is: 12941 rows.\n",
      "Not found in turnstile database: 517700\n",
      "The number of rows in the original etapas database is: 803771 rows.\n",
      "The number of rows in the filtered (by special cases) etapas database is: 803771 rows.\n",
      "The number of rows in the clean_sorted_df is: 2870 rows.\n",
      "Not found in turnstile database: 1764405\n",
      "The number of rows in the original etapas database is: 2525338 rows.\n",
      "The number of rows in the filtered (by special cases) etapas database is: 2525338 rows.\n",
      "The number of rows in the clean_sorted_df is: 14310 rows.\n",
      "Not found in turnstile database: 1680579\n",
      "The number of rows in the original etapas database is: 2390427 rows.\n",
      "The number of rows in the filtered (by special cases) etapas database is: 2390427 rows.\n",
      "The number of rows in the clean_sorted_df is: 4937 rows.\n",
      "Not found in turnstile database: 1560500\n",
      "The number of rows in the original etapas database is: 2222618 rows.\n",
      "The number of rows in the filtered (by special cases) etapas database is: 2222618 rows.\n",
      "The number of rows in the clean_sorted_df is: 4008 rows.\n",
      "Not found in turnstile database: 1598721\n",
      "The number of rows in the original etapas database is: 2272834 rows.\n",
      "The number of rows in the filtered (by special cases) etapas database is: 2272834 rows.\n",
      "The number of rows in the clean_sorted_df is: 12248 rows.\n",
      "Not found in turnstile database: 1637796\n",
      "The number of rows in the original etapas database is: 2326044 rows.\n",
      "The number of rows in the filtered (by special cases) etapas database is: 2326044 rows.\n",
      "The number of rows in the clean_sorted_df is: 12414 rows.\n",
      "Not found in turnstile database: 1876347\n",
      "The number of rows in the original etapas database is: 2679443 rows.\n",
      "The number of rows in the filtered (by special cases) etapas database is: 2679443 rows.\n",
      "The number of rows in the clean_sorted_df is: 6782 rows.\n",
      "Not found in turnstile database: 1867643\n",
      "The number of rows in the original etapas database is: 2653409 rows.\n",
      "The number of rows in the filtered (by special cases) etapas database is: 2653409 rows.\n",
      "The number of rows in the clean_sorted_df is: 6045 rows.\n",
      "Not found in turnstile database: 1873694\n",
      "The number of rows in the original etapas database is: 2668607 rows.\n",
      "The number of rows in the filtered (by special cases) etapas database is: 2668607 rows.\n",
      "The number of rows in the clean_sorted_df is: 11805 rows.\n",
      "Not found in turnstile database: 1877006\n",
      "The number of rows in the original etapas database is: 2673767 rows.\n",
      "The number of rows in the filtered (by special cases) etapas database is: 2673767 rows.\n",
      "The number of rows in the clean_sorted_df is: 11314 rows.\n",
      "Not found in turnstile database: 1842523\n",
      "The number of rows in the original etapas database is: 2636529 rows.\n",
      "The number of rows in the filtered (by special cases) etapas database is: 2636529 rows.\n",
      "The number of rows in the clean_sorted_df is: 4112 rows.\n"
     ]
    }
   ],
   "source": [
    "summary_evasion_vs_mean = pd.DataFrame()\n",
    "\n",
    "for date in common_dates:    \n",
    "    etapas_builder = RunSilentlyDailyEtapasBuilderClass(date) #Critical.\n",
    "    processed_sorted_df = etapas_builder.runProcessedProcess()\n",
    "    processed_sorted_df['sitio_subida'] = processed_sorted_df['sitio_subida'].str.replace(\"-\", \"\")\n",
    "    processed_sorted_df['sitio_subida'] = processed_sorted_df['sitio_subida'].str.replace(\" \", \"\")\n",
    "    \n",
    "    processed_sorted_df['servicio_subida'] =  processed_sorted_df['servicio_subida'].str.replace('T','')\n",
    "    processed_sorted_df['servicio_subida'] =  processed_sorted_df['servicio_subida'].str.split(' ').str[0]\n",
    "    \n",
    "    print('The number of rows in the original etapas database is: ' + str(len(processed_sorted_df.index)) + ' rows.' )\n",
    "    #Filtering special cases.\n",
    "#    filtered_processed_sorted_df = processed_sorted_df[(processed_sorted_df['diferencia_tiempo_secs']<=20)|(processed_sorted_df['diferencia_tiempo_secs'].isnull())]\n",
    "    filtered_processed_sorted_df = processed_sorted_df\n",
    "    print('The number of rows in the filtered (by special cases) etapas database is: '  + str(len(filtered_processed_sorted_df.index)) + ' rows.' )\n",
    "    \n",
    "    [evasion_by_date, patentes_by_date, servicios_by_date] = MatchingUsers.simplifyingEvasion(common_dates_evasion,date) #Getting patentes and servicios surveyed in date...\n",
    "    \n",
    "    clean_sorted_df = filtered_processed_sorted_df[(filtered_processed_sorted_df['sitio_subida'].isin(patentes_by_date))&(filtered_processed_sorted_df['servicio_subida'].isin(servicios_by_date))] #Filtering...\n",
    "    clean_sorted_df = clean_sorted_df.reset_index(drop=True)\n",
    "    print('The number of rows in the clean_sorted_df is: '  + str(len(clean_sorted_df.index)) + ' rows.' )\n",
    "\n",
    "    clean_sorted_df_1 = MatchingUsers.appendingIdExpedicion(clean_sorted_df,'30 seconds') #Appending (ad-hoc) id expedicion.\n",
    "    grouped_clean_sorted_df_1 = MatchingUsers.groupByEtapasDatabase(clean_sorted_df_1) #Grouping by 'sitio_subida','servicio_subida','idExpedicion','par_subida'\n",
    "#NEW\n",
    "    grouped_clean_sorted_df_2 = MatchingUsers.identifyingGroups(grouped_clean_sorted_df_1)\n",
    "    grouped_clean_sorted_df_3 = MatchingUsers.dropGroupBRows(grouped_clean_sorted_df_2,True)\n",
    "#END_NEW     \n",
    "    grouped_clean_sorted_df_4 = MatchingUsers.appendingStartEndCuts(grouped_clean_sorted_df_3) #Computing start and end cuts.\n",
    "    grouped_clean_sorted_df_5 = MatchingUsers.slicingEvasionDatabase(grouped_clean_sorted_df_4,evasion_by_date)\n",
    "    grouped_clean_sorted_df_6 = MatchingUsers.reMergeTurnstileData(grouped_clean_sorted_df_5) #This is the final ddbb with full info.\n",
    "    \n",
    "    summary_evasion_vs_mean = pd.concat([summary_evasion_vs_mean,grouped_clean_sorted_df_6])"
   ]
  },
  {
   "cell_type": "code",
   "execution_count": 34,
   "metadata": {},
   "outputs": [
    {
     "name": "stdout",
     "output_type": "stream",
     "text": [
      "The number of rows in the summary_evasion_vs_mean: 53340 rows.\n"
     ]
    }
   ],
   "source": [
    "print('The number of rows in the summary_evasion_vs_mean: '  + str(len(summary_evasion_vs_mean.index)) + ' rows.' )"
   ]
  },
  {
   "cell_type": "code",
   "execution_count": 35,
   "metadata": {
    "collapsed": true
   },
   "outputs": [],
   "source": [
    "summary_evasion_vs_mean.loc[:,'EVASION_RATE'] = summary_evasion_vs_mean.loc[:,'TOTAL_NO_VALIDAN']/summary_evasion_vs_mean.loc[:,'TOTAL_INGRESAN']\n",
    "\n",
    "not_null_mean_summary = summary_evasion_vs_mean[summary_evasion_vs_mean['diferencia_tiempo_secs_mean'].notnull()]\n",
    "not_null_mean_count_summary = not_null_mean_summary[not_null_mean_summary['EVASION_COUNT']>0]\n",
    "not_null_mean_count_summary_no_turns = not_null_mean_count_summary[(not_null_mean_count_summary['SI_TORNIQUETE']==False)|((not_null_mean_count_summary['SI_TORNIQUETE']==True) & (not_null_mean_count_summary['t_subida_max']<=not_null_mean_count_summary['fecha_instalacion']))]\n"
   ]
  },
  {
   "cell_type": "code",
   "execution_count": 36,
   "metadata": {},
   "outputs": [
    {
     "name": "stdout",
     "output_type": "stream",
     "text": [
      "The number of rows in the not_null_mean_summary dataframe is: 26293 rows.\n",
      "The number of rows in the not_null_mean_count_summary dataframe is: 2649 rows.\n",
      "The number of rows in the not_null_mean_count_summary_no_turns dataframe is: 2009 rows.\n"
     ]
    }
   ],
   "source": [
    "print('The number of rows in the not_null_mean_summary dataframe is: ' + str(len(not_null_mean_summary.index)) + ' rows.')\n",
    "print('The number of rows in the not_null_mean_count_summary dataframe is: ' + str(len(not_null_mean_count_summary.index)) + ' rows.')\n",
    "print('The number of rows in the not_null_mean_count_summary_no_turns dataframe is: ' + str(len(not_null_mean_count_summary_no_turns.index)) + ' rows.')"
   ]
  },
  {
   "cell_type": "code",
   "execution_count": 37,
   "metadata": {},
   "outputs": [
    {
     "data": {
      "image/png": "[encoded data removed]",
      "text/plain": [
       "<matplotlib.figure.Figure at 0x180003c3748>"
      ]
     },
     "metadata": {},
     "output_type": "display_data"
    }
   ],
   "source": [
    "fig_1, ax_1 = plt.subplots()\n",
    "\n",
    "ax_1.scatter(not_null_mean_count_summary_no_turns['diferencia_tiempo_secs_mean'],not_null_mean_count_summary_no_turns['EVASION_RATE'])\n",
    "ax_1.set_title('Evasion vs. Mean Time - No Turns, By Bus, Service, Stop, 30Secs')\n",
    "ax_1.set_xlabel('Mean Time Interval [s]')\n",
    "ax_1.set_ylabel('Evasion Rate [%]')\n",
    "\n",
    "plt.savefig('C:/Users/leoca_000/Desktop/Evasion/03_report/02_Figs/9_30Secs_EvasionVsMeanTimeByBusByServiceByStop.pdf')"
   ]
  },
  {
   "cell_type": "markdown",
   "metadata": {},
   "source": [
    "### Analyzing"
   ]
  },
  {
   "cell_type": "code",
   "execution_count": 56,
   "metadata": {},
   "outputs": [
    {
     "name": "stdout",
     "output_type": "stream",
     "text": [
      "Etapas_count MEAN: 4.460925833748133\n",
      "Etapas_count MIN: 2\n",
      "Etapas_count MAX: 64\n",
      "Evasion_count MEAN: 1.0418118466898956\n",
      "Evasion_count MIN: 1.0\n",
      "Evasion_count MAX: 2.0\n"
     ]
    }
   ],
   "source": [
    "print('Etapas_count MEAN: ' + str(not_null_mean_count_summary_no_turns['t_subida_count'].mean()))\n",
    "print('Etapas_count MIN: ' + str(not_null_mean_count_summary_no_turns['t_subida_count'].min()))\n",
    "print('Etapas_count MAX: ' + str(not_null_mean_count_summary_no_turns['t_subida_count'].max()))\n",
    "\n",
    "print('Evasion_count MEAN: ' + str(not_null_mean_count_summary_no_turns['EVASION_COUNT'].mean()))\n",
    "print('Evasion_count MIN: ' + str(not_null_mean_count_summary_no_turns['EVASION_COUNT'].min()))\n",
    "print('Evasion_count MAX: ' + str(not_null_mean_count_summary_no_turns['EVASION_COUNT'].max()))"
   ]
  },
  {
   "cell_type": "markdown",
   "metadata": {},
   "source": [
    "* Checking for outliers: obs. with 'diferencia_tiempo_secs_mean'>=15"
   ]
  },
  {
   "cell_type": "code",
   "execution_count": 40,
   "metadata": {},
   "outputs": [],
   "source": [
    "outliers_15_secs = not_null_mean_count_summary_no_turns[not_null_mean_count_summary_no_turns['diferencia_tiempo_secs_mean']>=15]"
   ]
  },
  {
   "cell_type": "code",
   "execution_count": 57,
   "metadata": {},
   "outputs": [
    {
     "data": {
      "text/plain": [
       "56"
      ]
     },
     "execution_count": 57,
     "metadata": {},
     "output_type": "execute_result"
    }
   ],
   "source": [
    "len(outliers_15_secs.index)"
   ]
  },
  {
   "cell_type": "code",
   "execution_count": 61,
   "metadata": {},
   "outputs": [
    {
     "name": "stdout",
     "output_type": "stream",
     "text": [
      "2\n",
      "4\n",
      "2.1607142857142856\n"
     ]
    }
   ],
   "source": [
    "print(outliers_15_secs['t_subida_count'].min())\n",
    "print(outliers_15_secs['t_subida_count'].max())\n",
    "print(outliers_15_secs['t_subida_count'].mean())"
   ]
  },
  {
   "cell_type": "markdown",
   "metadata": {},
   "source": [
    "* Looking for the first 5 rows in above sliced dataframe"
   ]
  },
  {
   "cell_type": "code",
   "execution_count": 41,
   "metadata": {},
   "outputs": [
    {
     "data": {
      "text/html": [
       "<div>\n",
       "<style>\n",
       "    .dataframe thead tr:only-child th {\n",
       "        text-align: right;\n",
       "    }\n",
       "\n",
       "    .dataframe thead th {\n",
       "        text-align: left;\n",
       "    }\n",
       "\n",
       "    .dataframe tbody tr th {\n",
       "        vertical-align: top;\n",
       "    }\n",
       "</style>\n",
       "<table border=\"1\" class=\"dataframe\">\n",
       "  <thead>\n",
       "    <tr style=\"text-align: right;\">\n",
       "      <th></th>\n",
       "      <th>sitio_subida</th>\n",
       "      <th>servicio_subida</th>\n",
       "      <th>idExpedicion</th>\n",
       "      <th>par_subida</th>\n",
       "      <th>t_subida_min</th>\n",
       "      <th>t_subida_max</th>\n",
       "      <th>t_subida_count</th>\n",
       "      <th>diferencia_tiempo_secs_mean</th>\n",
       "      <th>group_b_flag</th>\n",
       "      <th>start_cut</th>\n",
       "      <th>end_cut</th>\n",
       "      <th>EVASION_COUNT</th>\n",
       "      <th>TOTAL_INGRESAN</th>\n",
       "      <th>TOTAL_NO_VALIDAN</th>\n",
       "      <th>fecha_instalacion</th>\n",
       "      <th>SI_TORNIQUETE</th>\n",
       "      <th>SI_2017_TORNIQUETE</th>\n",
       "      <th>EVASION_RATE</th>\n",
       "    </tr>\n",
       "  </thead>\n",
       "  <tbody>\n",
       "    <tr>\n",
       "      <th>216</th>\n",
       "      <td>ZN4100</td>\n",
       "      <td>418</td>\n",
       "      <td>36</td>\n",
       "      <td>L-9-7-25-PO</td>\n",
       "      <td>2017-03-14 10:34:17</td>\n",
       "      <td>2017-03-14 10:34:45</td>\n",
       "      <td>2</td>\n",
       "      <td>28.0</td>\n",
       "      <td>0</td>\n",
       "      <td>2017-03-14 10:33:47</td>\n",
       "      <td>2017-03-14 10:34:58</td>\n",
       "      <td>1.0</td>\n",
       "      <td>5.0</td>\n",
       "      <td>1.0</td>\n",
       "      <td>NaT</td>\n",
       "      <td>False</td>\n",
       "      <td>False</td>\n",
       "      <td>0.200000</td>\n",
       "    </tr>\n",
       "    <tr>\n",
       "      <th>431</th>\n",
       "      <td>BJFD69</td>\n",
       "      <td>508</td>\n",
       "      <td>50</td>\n",
       "      <td>L-32-19-10-OP</td>\n",
       "      <td>2017-03-15 10:32:48</td>\n",
       "      <td>2017-03-15 10:33:06</td>\n",
       "      <td>2</td>\n",
       "      <td>18.0</td>\n",
       "      <td>0</td>\n",
       "      <td>2017-03-15 10:32:41</td>\n",
       "      <td>2017-03-15 10:33:36</td>\n",
       "      <td>1.0</td>\n",
       "      <td>2.0</td>\n",
       "      <td>0.0</td>\n",
       "      <td>NaT</td>\n",
       "      <td>False</td>\n",
       "      <td>False</td>\n",
       "      <td>0.000000</td>\n",
       "    </tr>\n",
       "    <tr>\n",
       "      <th>1335</th>\n",
       "      <td>BJFR91</td>\n",
       "      <td>363</td>\n",
       "      <td>24</td>\n",
       "      <td>L-34-9-20-NS</td>\n",
       "      <td>2017-03-15 10:09:37</td>\n",
       "      <td>2017-03-15 10:09:57</td>\n",
       "      <td>2</td>\n",
       "      <td>20.0</td>\n",
       "      <td>0</td>\n",
       "      <td>2017-03-15 10:09:07</td>\n",
       "      <td>2017-03-15 10:10:27</td>\n",
       "      <td>1.0</td>\n",
       "      <td>2.0</td>\n",
       "      <td>0.0</td>\n",
       "      <td>NaT</td>\n",
       "      <td>False</td>\n",
       "      <td>False</td>\n",
       "      <td>0.000000</td>\n",
       "    </tr>\n",
       "    <tr>\n",
       "      <th>1345</th>\n",
       "      <td>BJFR93</td>\n",
       "      <td>363</td>\n",
       "      <td>35</td>\n",
       "      <td>L-33-51-20-SN</td>\n",
       "      <td>2017-03-15 13:06:48</td>\n",
       "      <td>2017-03-15 13:07:10</td>\n",
       "      <td>2</td>\n",
       "      <td>22.0</td>\n",
       "      <td>0</td>\n",
       "      <td>2017-03-15 13:06:18</td>\n",
       "      <td>2017-03-15 13:07:40</td>\n",
       "      <td>1.0</td>\n",
       "      <td>7.0</td>\n",
       "      <td>5.0</td>\n",
       "      <td>NaT</td>\n",
       "      <td>False</td>\n",
       "      <td>False</td>\n",
       "      <td>0.714286</td>\n",
       "    </tr>\n",
       "    <tr>\n",
       "      <th>1933</th>\n",
       "      <td>CJRT79</td>\n",
       "      <td>454</td>\n",
       "      <td>99</td>\n",
       "      <td>T-31-134-SN-25</td>\n",
       "      <td>2017-03-15 17:02:51</td>\n",
       "      <td>2017-03-15 17:03:10</td>\n",
       "      <td>2</td>\n",
       "      <td>19.0</td>\n",
       "      <td>0</td>\n",
       "      <td>2017-03-15 17:02:21</td>\n",
       "      <td>2017-03-15 17:03:40</td>\n",
       "      <td>1.0</td>\n",
       "      <td>3.0</td>\n",
       "      <td>0.0</td>\n",
       "      <td>NaT</td>\n",
       "      <td>False</td>\n",
       "      <td>False</td>\n",
       "      <td>0.000000</td>\n",
       "    </tr>\n",
       "  </tbody>\n",
       "</table>\n",
       "</div>"
      ],
      "text/plain": [
       "     sitio_subida servicio_subida  idExpedicion      par_subida  \\\n",
       "216        ZN4100             418            36     L-9-7-25-PO   \n",
       "431        BJFD69             508            50   L-32-19-10-OP   \n",
       "1335       BJFR91             363            24    L-34-9-20-NS   \n",
       "1345       BJFR93             363            35   L-33-51-20-SN   \n",
       "1933       CJRT79             454            99  T-31-134-SN-25   \n",
       "\n",
       "            t_subida_min        t_subida_max  t_subida_count  \\\n",
       "216  2017-03-14 10:34:17 2017-03-14 10:34:45               2   \n",
       "431  2017-03-15 10:32:48 2017-03-15 10:33:06               2   \n",
       "1335 2017-03-15 10:09:37 2017-03-15 10:09:57               2   \n",
       "1345 2017-03-15 13:06:48 2017-03-15 13:07:10               2   \n",
       "1933 2017-03-15 17:02:51 2017-03-15 17:03:10               2   \n",
       "\n",
       "      diferencia_tiempo_secs_mean group_b_flag            start_cut  \\\n",
       "216                          28.0            0  2017-03-14 10:33:47   \n",
       "431                          18.0            0  2017-03-15 10:32:41   \n",
       "1335                         20.0            0  2017-03-15 10:09:07   \n",
       "1345                         22.0            0  2017-03-15 13:06:18   \n",
       "1933                         19.0            0  2017-03-15 17:02:21   \n",
       "\n",
       "                  end_cut  EVASION_COUNT  TOTAL_INGRESAN  TOTAL_NO_VALIDAN  \\\n",
       "216   2017-03-14 10:34:58            1.0             5.0               1.0   \n",
       "431   2017-03-15 10:33:36            1.0             2.0               0.0   \n",
       "1335  2017-03-15 10:10:27            1.0             2.0               0.0   \n",
       "1345  2017-03-15 13:07:40            1.0             7.0               5.0   \n",
       "1933  2017-03-15 17:03:40            1.0             3.0               0.0   \n",
       "\n",
       "     fecha_instalacion  SI_TORNIQUETE  SI_2017_TORNIQUETE  EVASION_RATE  \n",
       "216                NaT          False               False      0.200000  \n",
       "431                NaT          False               False      0.000000  \n",
       "1335               NaT          False               False      0.000000  \n",
       "1345               NaT          False               False      0.714286  \n",
       "1933               NaT          False               False      0.000000  "
      ]
     },
     "execution_count": 41,
     "metadata": {},
     "output_type": "execute_result"
    }
   ],
   "source": [
    "outliers_15_secs.head()"
   ]
  },
  {
   "cell_type": "markdown",
   "metadata": {},
   "source": [
    "* Checking manually:\n",
    "- row 216 > <font color='green'> passed </font>"
   ]
  },
  {
   "cell_type": "code",
   "execution_count": 42,
   "metadata": {
    "collapsed": true
   },
   "outputs": [],
   "source": [
    "date = '2017-03-14'"
   ]
  },
  {
   "cell_type": "code",
   "execution_count": 43,
   "metadata": {
    "collapsed": true
   },
   "outputs": [],
   "source": [
    "sitio_subida = 'ZN-4100'\n",
    "servicio_subida = '418'\n",
    "par_subida = 'L-9-7-25-PO'"
   ]
  },
  {
   "cell_type": "code",
   "execution_count": 44,
   "metadata": {},
   "outputs": [
    {
     "name": "stdout",
     "output_type": "stream",
     "text": [
      "Not found in turnstile database: 1832615\n"
     ]
    }
   ],
   "source": [
    "etapas_builder = RunSilentlyDailyEtapasBuilderClass(date) #Critical.\n",
    "processed_sorted_df = etapas_builder.runProcessedProcess()"
   ]
  },
  {
   "cell_type": "code",
   "execution_count": 45,
   "metadata": {},
   "outputs": [
    {
     "data": {
      "text/html": [
       "<div>\n",
       "<style>\n",
       "    .dataframe thead tr:only-child th {\n",
       "        text-align: right;\n",
       "    }\n",
       "\n",
       "    .dataframe thead th {\n",
       "        text-align: left;\n",
       "    }\n",
       "\n",
       "    .dataframe tbody tr th {\n",
       "        vertical-align: top;\n",
       "    }\n",
       "</style>\n",
       "<table border=\"1\" class=\"dataframe\">\n",
       "  <thead>\n",
       "    <tr style=\"text-align: right;\">\n",
       "      <th></th>\n",
       "      <th>index</th>\n",
       "      <th>id</th>\n",
       "      <th>nviaje</th>\n",
       "      <th>tipo_transporte</th>\n",
       "      <th>t_subida</th>\n",
       "      <th>servicio_subida</th>\n",
       "      <th>par_subida</th>\n",
       "      <th>sitio_subida</th>\n",
       "      <th>fecha_instalacion</th>\n",
       "      <th>mismo_paradero</th>\n",
       "      <th>misma_patente</th>\n",
       "      <th>mismo_servicio</th>\n",
       "      <th>diferencia_tiempo</th>\n",
       "      <th>diferencia_tiempo_secs</th>\n",
       "      <th>si_torniquete</th>\n",
       "      <th>si_2017_torniquete</th>\n",
       "    </tr>\n",
       "  </thead>\n",
       "  <tbody>\n",
       "    <tr>\n",
       "      <th>2182742</th>\n",
       "      <td>1125318</td>\n",
       "      <td>2166347283</td>\n",
       "      <td>1</td>\n",
       "      <td>BUS</td>\n",
       "      <td>2017-03-14 10:34:17</td>\n",
       "      <td>T418 00I</td>\n",
       "      <td>L-9-7-25-PO</td>\n",
       "      <td>ZN-4100</td>\n",
       "      <td>NaT</td>\n",
       "      <td>False</td>\n",
       "      <td>True</td>\n",
       "      <td>True</td>\n",
       "      <td>NaT</td>\n",
       "      <td>NaN</td>\n",
       "      <td>False</td>\n",
       "      <td>False</td>\n",
       "    </tr>\n",
       "    <tr>\n",
       "      <th>2182743</th>\n",
       "      <td>1360660</td>\n",
       "      <td>2514855566</td>\n",
       "      <td>1</td>\n",
       "      <td>BUS</td>\n",
       "      <td>2017-03-14 10:34:45</td>\n",
       "      <td>T418 00I</td>\n",
       "      <td>L-9-7-25-PO</td>\n",
       "      <td>ZN-4100</td>\n",
       "      <td>NaT</td>\n",
       "      <td>True</td>\n",
       "      <td>True</td>\n",
       "      <td>True</td>\n",
       "      <td>00:00:28</td>\n",
       "      <td>28.0</td>\n",
       "      <td>False</td>\n",
       "      <td>False</td>\n",
       "    </tr>\n",
       "  </tbody>\n",
       "</table>\n",
       "</div>"
      ],
      "text/plain": [
       "           index          id  nviaje tipo_transporte            t_subida  \\\n",
       "2182742  1125318  2166347283       1             BUS 2017-03-14 10:34:17   \n",
       "2182743  1360660  2514855566       1             BUS 2017-03-14 10:34:45   \n",
       "\n",
       "        servicio_subida   par_subida sitio_subida fecha_instalacion  \\\n",
       "2182742        T418 00I  L-9-7-25-PO      ZN-4100               NaT   \n",
       "2182743        T418 00I  L-9-7-25-PO      ZN-4100               NaT   \n",
       "\n",
       "         mismo_paradero  misma_patente  mismo_servicio diferencia_tiempo  \\\n",
       "2182742           False           True            True               NaT   \n",
       "2182743            True           True            True          00:00:28   \n",
       "\n",
       "         diferencia_tiempo_secs  si_torniquete  si_2017_torniquete  \n",
       "2182742                     NaN          False               False  \n",
       "2182743                    28.0          False               False  "
      ]
     },
     "execution_count": 45,
     "metadata": {},
     "output_type": "execute_result"
    }
   ],
   "source": [
    "processed_sorted_df.loc[(processed_sorted_df['sitio_subida']==sitio_subida)&(processed_sorted_df['servicio_subida'].str.contains(servicio_subida)&(processed_sorted_df['par_subida']==par_subida)),:]"
   ]
  },
  {
   "cell_type": "markdown",
   "metadata": {},
   "source": [
    "* row 431 > <font color='green'> passed </font>"
   ]
  },
  {
   "cell_type": "code",
   "execution_count": 46,
   "metadata": {
    "collapsed": true
   },
   "outputs": [],
   "source": [
    "date = '2017-03-15'"
   ]
  },
  {
   "cell_type": "code",
   "execution_count": 47,
   "metadata": {
    "collapsed": true
   },
   "outputs": [],
   "source": [
    "sitio_subida = 'BJFD-69'\n",
    "servicio_subida = '508'\n",
    "par_subida = 'L-32-19-10-OP'"
   ]
  },
  {
   "cell_type": "code",
   "execution_count": 48,
   "metadata": {},
   "outputs": [
    {
     "name": "stdout",
     "output_type": "stream",
     "text": [
      "Not found in turnstile database: 1842842\n"
     ]
    }
   ],
   "source": [
    "etapas_builder = RunSilentlyDailyEtapasBuilderClass(date) #Critical.\n",
    "processed_sorted_df = etapas_builder.runProcessedProcess()"
   ]
  },
  {
   "cell_type": "code",
   "execution_count": 49,
   "metadata": {},
   "outputs": [
    {
     "data": {
      "text/html": [
       "<div>\n",
       "<style>\n",
       "    .dataframe thead tr:only-child th {\n",
       "        text-align: right;\n",
       "    }\n",
       "\n",
       "    .dataframe thead th {\n",
       "        text-align: left;\n",
       "    }\n",
       "\n",
       "    .dataframe tbody tr th {\n",
       "        vertical-align: top;\n",
       "    }\n",
       "</style>\n",
       "<table border=\"1\" class=\"dataframe\">\n",
       "  <thead>\n",
       "    <tr style=\"text-align: right;\">\n",
       "      <th></th>\n",
       "      <th>index</th>\n",
       "      <th>id</th>\n",
       "      <th>nviaje</th>\n",
       "      <th>tipo_transporte</th>\n",
       "      <th>t_subida</th>\n",
       "      <th>servicio_subida</th>\n",
       "      <th>par_subida</th>\n",
       "      <th>sitio_subida</th>\n",
       "      <th>fecha_instalacion</th>\n",
       "      <th>mismo_paradero</th>\n",
       "      <th>misma_patente</th>\n",
       "      <th>mismo_servicio</th>\n",
       "      <th>diferencia_tiempo</th>\n",
       "      <th>diferencia_tiempo_secs</th>\n",
       "      <th>si_torniquete</th>\n",
       "      <th>si_2017_torniquete</th>\n",
       "    </tr>\n",
       "  </thead>\n",
       "  <tbody>\n",
       "    <tr>\n",
       "      <th>268384</th>\n",
       "      <td>2570567</td>\n",
       "      <td>4015981467</td>\n",
       "      <td>1</td>\n",
       "      <td>BUS</td>\n",
       "      <td>2017-03-15 10:32:48</td>\n",
       "      <td>T508 00R</td>\n",
       "      <td>L-32-19-10-OP</td>\n",
       "      <td>BJFD-69</td>\n",
       "      <td>NaT</td>\n",
       "      <td>False</td>\n",
       "      <td>True</td>\n",
       "      <td>True</td>\n",
       "      <td>NaT</td>\n",
       "      <td>NaN</td>\n",
       "      <td>False</td>\n",
       "      <td>False</td>\n",
       "    </tr>\n",
       "    <tr>\n",
       "      <th>268385</th>\n",
       "      <td>1767637</td>\n",
       "      <td>3118997620</td>\n",
       "      <td>1</td>\n",
       "      <td>BUS</td>\n",
       "      <td>2017-03-15 10:33:06</td>\n",
       "      <td>T508 00R</td>\n",
       "      <td>L-32-19-10-OP</td>\n",
       "      <td>BJFD-69</td>\n",
       "      <td>NaT</td>\n",
       "      <td>True</td>\n",
       "      <td>True</td>\n",
       "      <td>True</td>\n",
       "      <td>00:00:18</td>\n",
       "      <td>18.0</td>\n",
       "      <td>False</td>\n",
       "      <td>False</td>\n",
       "    </tr>\n",
       "  </tbody>\n",
       "</table>\n",
       "</div>"
      ],
      "text/plain": [
       "          index          id  nviaje tipo_transporte            t_subida  \\\n",
       "268384  2570567  4015981467       1             BUS 2017-03-15 10:32:48   \n",
       "268385  1767637  3118997620       1             BUS 2017-03-15 10:33:06   \n",
       "\n",
       "       servicio_subida     par_subida sitio_subida fecha_instalacion  \\\n",
       "268384        T508 00R  L-32-19-10-OP      BJFD-69               NaT   \n",
       "268385        T508 00R  L-32-19-10-OP      BJFD-69               NaT   \n",
       "\n",
       "        mismo_paradero  misma_patente  mismo_servicio diferencia_tiempo  \\\n",
       "268384           False           True            True               NaT   \n",
       "268385            True           True            True          00:00:18   \n",
       "\n",
       "        diferencia_tiempo_secs  si_torniquete  si_2017_torniquete  \n",
       "268384                     NaN          False               False  \n",
       "268385                    18.0          False               False  "
      ]
     },
     "execution_count": 49,
     "metadata": {},
     "output_type": "execute_result"
    }
   ],
   "source": [
    "processed_sorted_df.loc[(processed_sorted_df['sitio_subida']==sitio_subida)&(processed_sorted_df['servicio_subida'].str.contains(servicio_subida)&(processed_sorted_df['par_subida']==par_subida)),:]"
   ]
  },
  {
   "cell_type": "markdown",
   "metadata": {},
   "source": [
    "* row 1335 > <font color='green'> passed </font>"
   ]
  },
  {
   "cell_type": "code",
   "execution_count": 50,
   "metadata": {
    "collapsed": true
   },
   "outputs": [],
   "source": [
    "sitio_subida = 'BJFR-91'\n",
    "servicio_subida = '363'\n",
    "par_subida = 'L-34-9-20-NS'"
   ]
  },
  {
   "cell_type": "code",
   "execution_count": 51,
   "metadata": {},
   "outputs": [
    {
     "data": {
      "text/html": [
       "<div>\n",
       "<style>\n",
       "    .dataframe thead tr:only-child th {\n",
       "        text-align: right;\n",
       "    }\n",
       "\n",
       "    .dataframe thead th {\n",
       "        text-align: left;\n",
       "    }\n",
       "\n",
       "    .dataframe tbody tr th {\n",
       "        vertical-align: top;\n",
       "    }\n",
       "</style>\n",
       "<table border=\"1\" class=\"dataframe\">\n",
       "  <thead>\n",
       "    <tr style=\"text-align: right;\">\n",
       "      <th></th>\n",
       "      <th>index</th>\n",
       "      <th>id</th>\n",
       "      <th>nviaje</th>\n",
       "      <th>tipo_transporte</th>\n",
       "      <th>t_subida</th>\n",
       "      <th>servicio_subida</th>\n",
       "      <th>par_subida</th>\n",
       "      <th>sitio_subida</th>\n",
       "      <th>fecha_instalacion</th>\n",
       "      <th>mismo_paradero</th>\n",
       "      <th>misma_patente</th>\n",
       "      <th>mismo_servicio</th>\n",
       "      <th>diferencia_tiempo</th>\n",
       "      <th>diferencia_tiempo_secs</th>\n",
       "      <th>si_torniquete</th>\n",
       "      <th>si_2017_torniquete</th>\n",
       "    </tr>\n",
       "  </thead>\n",
       "  <tbody>\n",
       "    <tr>\n",
       "      <th>489619</th>\n",
       "      <td>821387</td>\n",
       "      <td>1359146886</td>\n",
       "      <td>1</td>\n",
       "      <td>BUS</td>\n",
       "      <td>2017-03-15 10:09:37</td>\n",
       "      <td>T363 00R</td>\n",
       "      <td>L-34-9-20-NS</td>\n",
       "      <td>BJFR-91</td>\n",
       "      <td>NaT</td>\n",
       "      <td>False</td>\n",
       "      <td>True</td>\n",
       "      <td>True</td>\n",
       "      <td>NaT</td>\n",
       "      <td>NaN</td>\n",
       "      <td>False</td>\n",
       "      <td>False</td>\n",
       "    </tr>\n",
       "    <tr>\n",
       "      <th>489620</th>\n",
       "      <td>1421635</td>\n",
       "      <td>2535677614</td>\n",
       "      <td>1</td>\n",
       "      <td>BUS</td>\n",
       "      <td>2017-03-15 10:09:57</td>\n",
       "      <td>T363 00R</td>\n",
       "      <td>L-34-9-20-NS</td>\n",
       "      <td>BJFR-91</td>\n",
       "      <td>NaT</td>\n",
       "      <td>True</td>\n",
       "      <td>True</td>\n",
       "      <td>True</td>\n",
       "      <td>00:00:20</td>\n",
       "      <td>20.0</td>\n",
       "      <td>False</td>\n",
       "      <td>False</td>\n",
       "    </tr>\n",
       "  </tbody>\n",
       "</table>\n",
       "</div>"
      ],
      "text/plain": [
       "          index          id  nviaje tipo_transporte            t_subida  \\\n",
       "489619   821387  1359146886       1             BUS 2017-03-15 10:09:37   \n",
       "489620  1421635  2535677614       1             BUS 2017-03-15 10:09:57   \n",
       "\n",
       "       servicio_subida    par_subida sitio_subida fecha_instalacion  \\\n",
       "489619        T363 00R  L-34-9-20-NS      BJFR-91               NaT   \n",
       "489620        T363 00R  L-34-9-20-NS      BJFR-91               NaT   \n",
       "\n",
       "        mismo_paradero  misma_patente  mismo_servicio diferencia_tiempo  \\\n",
       "489619           False           True            True               NaT   \n",
       "489620            True           True            True          00:00:20   \n",
       "\n",
       "        diferencia_tiempo_secs  si_torniquete  si_2017_torniquete  \n",
       "489619                     NaN          False               False  \n",
       "489620                    20.0          False               False  "
      ]
     },
     "execution_count": 51,
     "metadata": {},
     "output_type": "execute_result"
    }
   ],
   "source": [
    "processed_sorted_df.loc[(processed_sorted_df['sitio_subida']==sitio_subida)&(processed_sorted_df['servicio_subida'].str.contains(servicio_subida)&(processed_sorted_df['par_subida']==par_subida)),:]"
   ]
  },
  {
   "cell_type": "markdown",
   "metadata": {},
   "source": [
    "* row 1345 > <font color='green'> passed </font>"
   ]
  },
  {
   "cell_type": "code",
   "execution_count": 52,
   "metadata": {
    "collapsed": true
   },
   "outputs": [],
   "source": [
    "sitio_subida = 'BJFR-93'\n",
    "servicio_subida = '363'\n",
    "par_subida = 'L-33-51-20-SN'"
   ]
  },
  {
   "cell_type": "code",
   "execution_count": 53,
   "metadata": {},
   "outputs": [
    {
     "data": {
      "text/html": [
       "<div>\n",
       "<style>\n",
       "    .dataframe thead tr:only-child th {\n",
       "        text-align: right;\n",
       "    }\n",
       "\n",
       "    .dataframe thead th {\n",
       "        text-align: left;\n",
       "    }\n",
       "\n",
       "    .dataframe tbody tr th {\n",
       "        vertical-align: top;\n",
       "    }\n",
       "</style>\n",
       "<table border=\"1\" class=\"dataframe\">\n",
       "  <thead>\n",
       "    <tr style=\"text-align: right;\">\n",
       "      <th></th>\n",
       "      <th>index</th>\n",
       "      <th>id</th>\n",
       "      <th>nviaje</th>\n",
       "      <th>tipo_transporte</th>\n",
       "      <th>t_subida</th>\n",
       "      <th>servicio_subida</th>\n",
       "      <th>par_subida</th>\n",
       "      <th>sitio_subida</th>\n",
       "      <th>fecha_instalacion</th>\n",
       "      <th>mismo_paradero</th>\n",
       "      <th>misma_patente</th>\n",
       "      <th>mismo_servicio</th>\n",
       "      <th>diferencia_tiempo</th>\n",
       "      <th>diferencia_tiempo_secs</th>\n",
       "      <th>si_torniquete</th>\n",
       "      <th>si_2017_torniquete</th>\n",
       "    </tr>\n",
       "  </thead>\n",
       "  <tbody>\n",
       "    <tr>\n",
       "      <th>490298</th>\n",
       "      <td>1479919</td>\n",
       "      <td>2686776462</td>\n",
       "      <td>1</td>\n",
       "      <td>BUS</td>\n",
       "      <td>2017-03-15 13:06:48</td>\n",
       "      <td>T363 00I</td>\n",
       "      <td>L-33-51-20-SN</td>\n",
       "      <td>BJFR-93</td>\n",
       "      <td>NaT</td>\n",
       "      <td>False</td>\n",
       "      <td>True</td>\n",
       "      <td>True</td>\n",
       "      <td>NaT</td>\n",
       "      <td>NaN</td>\n",
       "      <td>False</td>\n",
       "      <td>False</td>\n",
       "    </tr>\n",
       "    <tr>\n",
       "      <th>490299</th>\n",
       "      <td>1092762</td>\n",
       "      <td>2125105600</td>\n",
       "      <td>2</td>\n",
       "      <td>BUS</td>\n",
       "      <td>2017-03-15 13:07:10</td>\n",
       "      <td>T363 00I</td>\n",
       "      <td>L-33-51-20-SN</td>\n",
       "      <td>BJFR-93</td>\n",
       "      <td>NaT</td>\n",
       "      <td>True</td>\n",
       "      <td>True</td>\n",
       "      <td>True</td>\n",
       "      <td>00:00:22</td>\n",
       "      <td>22.0</td>\n",
       "      <td>False</td>\n",
       "      <td>False</td>\n",
       "    </tr>\n",
       "  </tbody>\n",
       "</table>\n",
       "</div>"
      ],
      "text/plain": [
       "          index          id  nviaje tipo_transporte            t_subida  \\\n",
       "490298  1479919  2686776462       1             BUS 2017-03-15 13:06:48   \n",
       "490299  1092762  2125105600       2             BUS 2017-03-15 13:07:10   \n",
       "\n",
       "       servicio_subida     par_subida sitio_subida fecha_instalacion  \\\n",
       "490298        T363 00I  L-33-51-20-SN      BJFR-93               NaT   \n",
       "490299        T363 00I  L-33-51-20-SN      BJFR-93               NaT   \n",
       "\n",
       "        mismo_paradero  misma_patente  mismo_servicio diferencia_tiempo  \\\n",
       "490298           False           True            True               NaT   \n",
       "490299            True           True            True          00:00:22   \n",
       "\n",
       "        diferencia_tiempo_secs  si_torniquete  si_2017_torniquete  \n",
       "490298                     NaN          False               False  \n",
       "490299                    22.0          False               False  "
      ]
     },
     "execution_count": 53,
     "metadata": {},
     "output_type": "execute_result"
    }
   ],
   "source": [
    "processed_sorted_df.loc[(processed_sorted_df['sitio_subida']==sitio_subida)&(processed_sorted_df['servicio_subida'].str.contains(servicio_subida)&(processed_sorted_df['par_subida']==par_subida)),:]"
   ]
  },
  {
   "cell_type": "markdown",
   "metadata": {},
   "source": [
    "* row 1933 > <font color='green'> passed </font>"
   ]
  },
  {
   "cell_type": "code",
   "execution_count": 54,
   "metadata": {
    "collapsed": true
   },
   "outputs": [],
   "source": [
    "sitio_subida = 'CJRT-79'\n",
    "servicio_subida = '454'\n",
    "par_subida = 'T-31-134-SN-25'"
   ]
  },
  {
   "cell_type": "code",
   "execution_count": 55,
   "metadata": {},
   "outputs": [
    {
     "data": {
      "text/html": [
       "<div>\n",
       "<style>\n",
       "    .dataframe thead tr:only-child th {\n",
       "        text-align: right;\n",
       "    }\n",
       "\n",
       "    .dataframe thead th {\n",
       "        text-align: left;\n",
       "    }\n",
       "\n",
       "    .dataframe tbody tr th {\n",
       "        vertical-align: top;\n",
       "    }\n",
       "</style>\n",
       "<table border=\"1\" class=\"dataframe\">\n",
       "  <thead>\n",
       "    <tr style=\"text-align: right;\">\n",
       "      <th></th>\n",
       "      <th>index</th>\n",
       "      <th>id</th>\n",
       "      <th>nviaje</th>\n",
       "      <th>tipo_transporte</th>\n",
       "      <th>t_subida</th>\n",
       "      <th>servicio_subida</th>\n",
       "      <th>par_subida</th>\n",
       "      <th>sitio_subida</th>\n",
       "      <th>fecha_instalacion</th>\n",
       "      <th>mismo_paradero</th>\n",
       "      <th>misma_patente</th>\n",
       "      <th>mismo_servicio</th>\n",
       "      <th>diferencia_tiempo</th>\n",
       "      <th>diferencia_tiempo_secs</th>\n",
       "      <th>si_torniquete</th>\n",
       "      <th>si_2017_torniquete</th>\n",
       "    </tr>\n",
       "  </thead>\n",
       "  <tbody>\n",
       "    <tr>\n",
       "      <th>1196009</th>\n",
       "      <td>2357959</td>\n",
       "      <td>3734809068</td>\n",
       "      <td>2</td>\n",
       "      <td>BUS</td>\n",
       "      <td>2017-03-15 13:27:40</td>\n",
       "      <td>T454 00I</td>\n",
       "      <td>T-31-134-SN-25</td>\n",
       "      <td>CJRT-79</td>\n",
       "      <td>NaT</td>\n",
       "      <td>False</td>\n",
       "      <td>True</td>\n",
       "      <td>True</td>\n",
       "      <td>NaT</td>\n",
       "      <td>NaN</td>\n",
       "      <td>False</td>\n",
       "      <td>False</td>\n",
       "    </tr>\n",
       "    <tr>\n",
       "      <th>1196070</th>\n",
       "      <td>749049</td>\n",
       "      <td>1096952068</td>\n",
       "      <td>2</td>\n",
       "      <td>BUS</td>\n",
       "      <td>2017-03-15 15:51:09</td>\n",
       "      <td>T454 00I</td>\n",
       "      <td>T-31-134-SN-25</td>\n",
       "      <td>CJRT-79</td>\n",
       "      <td>NaT</td>\n",
       "      <td>False</td>\n",
       "      <td>True</td>\n",
       "      <td>True</td>\n",
       "      <td>NaT</td>\n",
       "      <td>NaN</td>\n",
       "      <td>False</td>\n",
       "      <td>False</td>\n",
       "    </tr>\n",
       "    <tr>\n",
       "      <th>1196096</th>\n",
       "      <td>776789</td>\n",
       "      <td>1222075834</td>\n",
       "      <td>8</td>\n",
       "      <td>BUS</td>\n",
       "      <td>2017-03-15 17:02:51</td>\n",
       "      <td>T454 00I</td>\n",
       "      <td>T-31-134-SN-25</td>\n",
       "      <td>CJRT-79</td>\n",
       "      <td>NaT</td>\n",
       "      <td>False</td>\n",
       "      <td>True</td>\n",
       "      <td>True</td>\n",
       "      <td>NaT</td>\n",
       "      <td>NaN</td>\n",
       "      <td>False</td>\n",
       "      <td>False</td>\n",
       "    </tr>\n",
       "    <tr>\n",
       "      <th>1196097</th>\n",
       "      <td>2396900</td>\n",
       "      <td>3861960747</td>\n",
       "      <td>8</td>\n",
       "      <td>BUS</td>\n",
       "      <td>2017-03-15 17:03:10</td>\n",
       "      <td>T454 00I</td>\n",
       "      <td>T-31-134-SN-25</td>\n",
       "      <td>CJRT-79</td>\n",
       "      <td>NaT</td>\n",
       "      <td>True</td>\n",
       "      <td>True</td>\n",
       "      <td>True</td>\n",
       "      <td>00:00:19</td>\n",
       "      <td>19.0</td>\n",
       "      <td>False</td>\n",
       "      <td>False</td>\n",
       "    </tr>\n",
       "    <tr>\n",
       "      <th>1196155</th>\n",
       "      <td>1387270</td>\n",
       "      <td>2520151710</td>\n",
       "      <td>2</td>\n",
       "      <td>BUS</td>\n",
       "      <td>2017-03-15 18:54:06</td>\n",
       "      <td>T454 00I</td>\n",
       "      <td>T-31-134-SN-25</td>\n",
       "      <td>CJRT-79</td>\n",
       "      <td>NaT</td>\n",
       "      <td>False</td>\n",
       "      <td>True</td>\n",
       "      <td>True</td>\n",
       "      <td>NaT</td>\n",
       "      <td>NaN</td>\n",
       "      <td>False</td>\n",
       "      <td>False</td>\n",
       "    </tr>\n",
       "    <tr>\n",
       "      <th>1196156</th>\n",
       "      <td>2598132</td>\n",
       "      <td>4039063723</td>\n",
       "      <td>2</td>\n",
       "      <td>BUS</td>\n",
       "      <td>2017-03-15 18:54:06</td>\n",
       "      <td>T454 00I</td>\n",
       "      <td>T-31-134-SN-25</td>\n",
       "      <td>CJRT-79</td>\n",
       "      <td>NaT</td>\n",
       "      <td>True</td>\n",
       "      <td>True</td>\n",
       "      <td>True</td>\n",
       "      <td>00:00:00</td>\n",
       "      <td>0.0</td>\n",
       "      <td>False</td>\n",
       "      <td>False</td>\n",
       "    </tr>\n",
       "    <tr>\n",
       "      <th>1196157</th>\n",
       "      <td>2311080</td>\n",
       "      <td>3601671912</td>\n",
       "      <td>2</td>\n",
       "      <td>BUS</td>\n",
       "      <td>2017-03-15 18:54:08</td>\n",
       "      <td>T454 00I</td>\n",
       "      <td>T-31-134-SN-25</td>\n",
       "      <td>CJRT-79</td>\n",
       "      <td>NaT</td>\n",
       "      <td>True</td>\n",
       "      <td>True</td>\n",
       "      <td>True</td>\n",
       "      <td>00:00:02</td>\n",
       "      <td>2.0</td>\n",
       "      <td>False</td>\n",
       "      <td>False</td>\n",
       "    </tr>\n",
       "  </tbody>\n",
       "</table>\n",
       "</div>"
      ],
      "text/plain": [
       "           index          id  nviaje tipo_transporte            t_subida  \\\n",
       "1196009  2357959  3734809068       2             BUS 2017-03-15 13:27:40   \n",
       "1196070   749049  1096952068       2             BUS 2017-03-15 15:51:09   \n",
       "1196096   776789  1222075834       8             BUS 2017-03-15 17:02:51   \n",
       "1196097  2396900  3861960747       8             BUS 2017-03-15 17:03:10   \n",
       "1196155  1387270  2520151710       2             BUS 2017-03-15 18:54:06   \n",
       "1196156  2598132  4039063723       2             BUS 2017-03-15 18:54:06   \n",
       "1196157  2311080  3601671912       2             BUS 2017-03-15 18:54:08   \n",
       "\n",
       "        servicio_subida      par_subida sitio_subida fecha_instalacion  \\\n",
       "1196009        T454 00I  T-31-134-SN-25      CJRT-79               NaT   \n",
       "1196070        T454 00I  T-31-134-SN-25      CJRT-79               NaT   \n",
       "1196096        T454 00I  T-31-134-SN-25      CJRT-79               NaT   \n",
       "1196097        T454 00I  T-31-134-SN-25      CJRT-79               NaT   \n",
       "1196155        T454 00I  T-31-134-SN-25      CJRT-79               NaT   \n",
       "1196156        T454 00I  T-31-134-SN-25      CJRT-79               NaT   \n",
       "1196157        T454 00I  T-31-134-SN-25      CJRT-79               NaT   \n",
       "\n",
       "         mismo_paradero  misma_patente  mismo_servicio diferencia_tiempo  \\\n",
       "1196009           False           True            True               NaT   \n",
       "1196070           False           True            True               NaT   \n",
       "1196096           False           True            True               NaT   \n",
       "1196097            True           True            True          00:00:19   \n",
       "1196155           False           True            True               NaT   \n",
       "1196156            True           True            True          00:00:00   \n",
       "1196157            True           True            True          00:00:02   \n",
       "\n",
       "         diferencia_tiempo_secs  si_torniquete  si_2017_torniquete  \n",
       "1196009                     NaN          False               False  \n",
       "1196070                     NaN          False               False  \n",
       "1196096                     NaN          False               False  \n",
       "1196097                    19.0          False               False  \n",
       "1196155                     NaN          False               False  \n",
       "1196156                     0.0          False               False  \n",
       "1196157                     2.0          False               False  "
      ]
     },
     "execution_count": 55,
     "metadata": {},
     "output_type": "execute_result"
    }
   ],
   "source": [
    "processed_sorted_df.loc[(processed_sorted_df['sitio_subida']==sitio_subida)&(processed_sorted_df['servicio_subida'].str.contains(servicio_subida)&(processed_sorted_df['par_subida']==par_subida)),:]"
   ]
  },
  {
   "cell_type": "code",
   "execution_count": null,
   "metadata": {
    "collapsed": true
   },
   "outputs": [],
   "source": []
  }
 ],
 "metadata": {
  "kernelspec": {
   "display_name": "Python 3",
   "language": "python",
   "name": "python3"
  },
  "language_info": {
   "codemirror_mode": {
    "name": "ipython",
    "version": 3
   },
   "file_extension": ".py",
   "mimetype": "text/x-python",
   "name": "python",
   "nbconvert_exporter": "python",
   "pygments_lexer": "ipython3",
   "version": "3.6.1"
  }
 },
 "nbformat": 4,
 "nbformat_minor": 2
}
