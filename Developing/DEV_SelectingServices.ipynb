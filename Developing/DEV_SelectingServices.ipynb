{
 "cells": [
  {
   "cell_type": "markdown",
   "metadata": {},
   "source": [
    "## Intended to select services to analyses"
   ]
  },
  {
   "cell_type": "code",
   "execution_count": 1,
   "metadata": {
    "collapsed": true
   },
   "outputs": [],
   "source": [
    "import os\n",
    "import sys\n",
    "module_path = os.path.abspath(os.path.join('..'))\n",
    "if module_path not in sys.path:\n",
    "    sys.path.append(module_path)"
   ]
  },
  {
   "cell_type": "code",
   "execution_count": 2,
   "metadata": {},
   "outputs": [
    {
     "data": {
      "text/html": [
       "<style>.container { width:80% !important; }</style>"
      ],
      "text/plain": [
       "<IPython.core.display.HTML object>"
      ]
     },
     "metadata": {},
     "output_type": "display_data"
    }
   ],
   "source": [
    "%matplotlib inline\n",
    "from IPython.core.display import display, HTML\n",
    "display(HTML(\"<style>.container { width:80% !important; }</style>\"))\n",
    "\n",
    "import pandas as pd\n",
    "import matplotlib\n",
    "import matplotlib.pyplot as plt\n",
    "import matplotlib.dates as mdates\n",
    "import numpy as np\n",
    "import datetime as dt\n",
    "import time\n",
    "import re\n",
    "\n",
    "from Utils import TransantiagoConstants"
   ]
  },
  {
   "cell_type": "code",
   "execution_count": 3,
   "metadata": {
    "collapsed": true
   },
   "outputs": [],
   "source": [
    "turnstile_dir = TransantiagoConstants.busesTorniqueteDir\n",
    "\n",
    "installation_dates_path = os.path.join(turnstile_dir,'Avance_Consolidado_v2.xlsx')\n",
    "buses_by_UN_path = os.path.join(turnstile_dir,'Diccionario-Patentes.csv')\n",
    "\n",
    "installation_dates = pd.read_excel(installation_dates_path,encoding='latin-1')\n",
    "buses_by_un = pd.read_csv(buses_by_UN_path,sep=';',encoding='latin-1')\n",
    "\n",
    "buses_by_un = buses_by_un.loc[:,['UN','PLACA']]\n",
    "\n",
    "installation_dates.rename(columns = {'Patente': 'PATENTE', 'Fecha de Instalacion': 'INSTALACION'}, inplace=True)\n",
    "buses_by_un.rename(columns = {'PLACA':'PATENTE'}, inplace=True)"
   ]
  },
  {
   "cell_type": "code",
   "execution_count": 4,
   "metadata": {
    "collapsed": true
   },
   "outputs": [],
   "source": [
    "for index,row in buses_by_un.iterrows():\n",
    "    new_plate = re.split('(\\d+)',row['PATENTE'])[0] + '-' + re.split('(\\d+)',row['PATENTE'])[1]\n",
    "    buses_by_un.loc[index,'PATENTE']=new_plate\n"
   ]
  },
  {
   "cell_type": "code",
   "execution_count": 5,
   "metadata": {},
   "outputs": [],
   "source": [
    "buses_by_un = buses_by_un.merge(installation_dates, left_on='PATENTE', right_on='PATENTE', how='left')\n",
    "buses_by_un.sort_values(by=['UN','INSTALACION'],ascending=[True,True],inplace = True)\n",
    "buses_by_un.reset_index(drop=True,inplace=True)"
   ]
  },
  {
   "cell_type": "code",
   "execution_count": 6,
   "metadata": {},
   "outputs": [],
   "source": [
    "with_turnstile_buses = buses_by_un.loc[buses_by_un['INSTALACION'].notnull(),:]"
   ]
  },
  {
   "cell_type": "code",
   "execution_count": 7,
   "metadata": {
    "collapsed": true
   },
   "outputs": [],
   "source": [
    "u1_turnstile_buses = with_turnstile_buses.loc[buses_by_un['UN']=='U1',:]\n",
    "u2_turnstile_buses = with_turnstile_buses.loc[buses_by_un['UN']=='U2',:]\n",
    "u3_turnstile_buses = with_turnstile_buses.loc[buses_by_un['UN']=='U3',:]\n",
    "u4_turnstile_buses = with_turnstile_buses.loc[buses_by_un['UN']=='U4',:]\n",
    "u5_turnstile_buses = with_turnstile_buses.loc[buses_by_un['UN']=='U5',:]\n",
    "u6_turnstile_buses = with_turnstile_buses.loc[buses_by_un['UN']=='U6',:]\n",
    "u7_turnstile_buses = with_turnstile_buses.loc[buses_by_un['UN']=='U7',:]"
   ]
  },
  {
   "cell_type": "code",
   "execution_count": 8,
   "metadata": {},
   "outputs": [],
   "source": [
    "grouped_u1 = u1_turnstile_buses.groupby(['INSTALACION']).size().to_frame().reset_index().rename(columns = {0:'VEHICULOS'})\n",
    "grouped_u2 = u2_turnstile_buses.groupby(['INSTALACION']).size().to_frame().reset_index().rename(columns = {0:'VEHICULOS'})\n",
    "grouped_u3 = u3_turnstile_buses.groupby(['INSTALACION']).size().to_frame().reset_index().rename(columns = {0:'VEHICULOS'})\n",
    "grouped_u4 = u4_turnstile_buses.groupby(['INSTALACION']).size().to_frame().reset_index().rename(columns = {0:'VEHICULOS'})\n",
    "grouped_u5 = u5_turnstile_buses.groupby(['INSTALACION']).size().to_frame().reset_index().rename(columns = {0:'VEHICULOS'})\n",
    "grouped_u6 = u6_turnstile_buses.groupby(['INSTALACION']).size().to_frame().reset_index().rename(columns = {0:'VEHICULOS'})\n",
    "grouped_u7 = u7_turnstile_buses.groupby(['INSTALACION']).size().to_frame().reset_index().rename(columns = {0:'VEHICULOS'})"
   ]
  },
  {
   "cell_type": "code",
   "execution_count": 9,
   "metadata": {
    "collapsed": true
   },
   "outputs": [],
   "source": [
    "grouped_u1.loc[:,'CUMSUM'] = grouped_u1.loc[:,'VEHICULOS'].cumsum()\n",
    "grouped_u2.loc[:,'CUMSUM'] = grouped_u2.loc[:,'VEHICULOS'].cumsum()\n",
    "grouped_u3.loc[:,'CUMSUM'] = grouped_u3.loc[:,'VEHICULOS'].cumsum()\n",
    "grouped_u4.loc[:,'CUMSUM'] = grouped_u4.loc[:,'VEHICULOS'].cumsum()\n",
    "grouped_u5.loc[:,'CUMSUM'] = grouped_u5.loc[:,'VEHICULOS'].cumsum()\n",
    "grouped_u6.loc[:,'CUMSUM'] = grouped_u6.loc[:,'VEHICULOS'].cumsum()\n",
    "grouped_u7.loc[:,'CUMSUM'] = grouped_u7.loc[:,'VEHICULOS'].cumsum()"
   ]
  },
  {
   "cell_type": "code",
   "execution_count": 10,
   "metadata": {
    "collapsed": true
   },
   "outputs": [],
   "source": [
    "colors = [(3, 169, 244), (13, 71, 161),(51, 105, 30),(244, 81, 30),(0, 150, 136),(211, 47, 47),(251, 192, 45)]\n",
    "for i in range(len(colors)):\n",
    "    r, g, b = colors[i]  \n",
    "    colors[i] = (r / 255., g / 255., b / 255.)"
   ]
  },
  {
   "cell_type": "code",
   "execution_count": 11,
   "metadata": {},
   "outputs": [
    {
     "data": {
      "text/plain": [
       "<matplotlib.legend.Legend at 0x20ae6ce08d0>"
      ]
     },
     "execution_count": 11,
     "metadata": {},
     "output_type": "execute_result"
    },
    {
     "data": {
      "image/png": "[encoded data removed]",
      "text/plain": [
       "<matplotlib.figure.Figure at 0x20ae6bfa048>"
      ]
     },
     "metadata": {},
     "output_type": "display_data"
    }
   ],
   "source": [
    "fig_1, ax_1 = plt.subplots()\n",
    "u1 = ax_1.plot(grouped_u1['INSTALACION'],grouped_u1['CUMSUM'],'o-',color = colors[0])\n",
    "u3 = ax_1.plot(grouped_u3['INSTALACION'],grouped_u3['CUMSUM'],'o-',color = colors[2])\n",
    "u4 = ax_1.plot(grouped_u4['INSTALACION'],grouped_u4['CUMSUM'],'o-',color = colors[3])\n",
    "u5 = ax_1.plot(grouped_u5['INSTALACION'],grouped_u5['CUMSUM'],'o-',color = colors[4])\n",
    "u6 = ax_1.plot(grouped_u6['INSTALACION'],grouped_u6['CUMSUM'],'o-',color = colors[5])\n",
    "u7 = ax_1.plot(grouped_u7['INSTALACION'],grouped_u7['CUMSUM'],'o-',color = colors[6])\n",
    "ax_1.format_xdata = mdates.DateFormatter('%Y-%m')\n",
    "fig_1.autofmt_xdate()\n",
    "ax_1.grid(True)\n",
    "ax_1.set_title('Vehicle-plates with turnstiles by UN')\n",
    "plt.legend((u1[0],u3[0],u4[0],u5[0], u6[0], u7[0]), ('UN1','UN3','UN4','UN5','UN6','UN7'))\n",
    "#plt.savefig('C:/Users/leoca_000/Desktop/Evasion/03_report/02_Figs/vehicle-plates-with-turnstiles-by-un.pdf')"
   ]
  },
  {
   "cell_type": "code",
   "execution_count": 12,
   "metadata": {},
   "outputs": [
    {
     "data": {
      "text/plain": [
       "<matplotlib.legend.Legend at 0x20ae714cac8>"
      ]
     },
     "execution_count": 12,
     "metadata": {},
     "output_type": "execute_result"
    },
    {
     "data": {
      "image/png": "[encoded data removed]",
      "text/plain": [
       "<matplotlib.figure.Figure at 0x20ae6ce0dd8>"
      ]
     },
     "metadata": {},
     "output_type": "display_data"
    }
   ],
   "source": [
    "fig_2, ax_2 = plt.subplots()\n",
    "u1 = ax_2.plot(grouped_u1['INSTALACION'],grouped_u1['CUMSUM'],'o-',color = colors[0])\n",
    "u3 = ax_2.plot(grouped_u3['INSTALACION'],grouped_u3['CUMSUM'],'o-',color = colors[2])\n",
    "u4 = ax_2.plot(grouped_u4['INSTALACION'],grouped_u4['CUMSUM'],'o-',color = colors[3])\n",
    "u5 = ax_2.plot(grouped_u5['INSTALACION'],grouped_u5['CUMSUM'],'o-',color = colors[4])\n",
    "u6 = ax_2.plot(grouped_u6['INSTALACION'],grouped_u6['CUMSUM'],'o-',color = colors[5])\n",
    "u7 = ax_2.plot(grouped_u7['INSTALACION'],grouped_u7['CUMSUM'],'o-',color = colors[6])\n",
    "ax_2.format_xdata = mdates.DateFormatter('%Y-%m')\n",
    "fig_2.autofmt_xdate()\n",
    "ax_2.grid(True)\n",
    "ax_2.set_title('Vehicle-plates with turnstiles by UN')\n",
    "start_limit = pd.to_datetime('2017-01-01')\n",
    "end_limit = pd.to_datetime('2017-07-16')\n",
    "ax_2.set_xlim(start_limit,end_limit)\n",
    "plt.legend((u1[0],u3[0],u4[0],u5[0], u6[0], u7[0]), ('UN1','UN3','UN4','UN5','UN6','UN7'))\n",
    "#plt.savefig('C:/Users/leoca_000/Desktop/Evasion/03_report/02_Figs/vehicle-plates-with-turnstiles-by-un-2017.pdf')"
   ]
  },
  {
   "cell_type": "markdown",
   "metadata": {},
   "source": [
    "### Analyzing perfiles database"
   ]
  },
  {
   "cell_type": "code",
   "execution_count": 13,
   "metadata": {},
   "outputs": [],
   "source": [
    "import DailyPerfilesBuilder"
   ]
  },
  {
   "cell_type": "code",
   "execution_count": 14,
   "metadata": {
    "collapsed": true
   },
   "outputs": [],
   "source": [
    "date = '2017-07-12' #Wednesday"
   ]
  },
  {
   "cell_type": "code",
   "execution_count": 15,
   "metadata": {
    "collapsed": true
   },
   "outputs": [],
   "source": [
    "perfiles_builder = DailyPerfilesBuilder.RunSilentlyDailyPerfilesBuilderClass(date)"
   ]
  },
  {
   "cell_type": "code",
   "execution_count": 16,
   "metadata": {
    "collapsed": true
   },
   "outputs": [],
   "source": [
    "#perfiles_builder.runSimplifyPerfiles()"
   ]
  },
  {
   "cell_type": "code",
   "execution_count": 17,
   "metadata": {},
   "outputs": [
    {
     "name": "stdout",
     "output_type": "stream",
     "text": [
      "Not found in turnstile database: 48878\n"
     ]
    }
   ],
   "source": [
    "perfiles_builder.loadSimplifiedPerfiles()\n",
    "perfiles_builder.dropParaderos()\n",
    "perfiles_builder.mergeTurnstileDatabase()\n",
    "perfiles_df = perfiles_builder.perfiles_df\n",
    "\n",
    "perfiles_builder.groupByTurnstilePresence()\n",
    "perfiles_builder.appendUnidadNegocio()\n",
    "grouped_perfiles = perfiles_builder.grouped_data"
   ]
  },
  {
   "cell_type": "code",
   "execution_count": 21,
   "metadata": {},
   "outputs": [
    {
     "data": {
      "text/html": [
       "<div>\n",
       "<style>\n",
       "    .dataframe thead tr:only-child th {\n",
       "        text-align: right;\n",
       "    }\n",
       "\n",
       "    .dataframe thead th {\n",
       "        text-align: left;\n",
       "    }\n",
       "\n",
       "    .dataframe tbody tr th {\n",
       "        vertical-align: top;\n",
       "    }\n",
       "</style>\n",
       "<table border=\"1\" class=\"dataframe\">\n",
       "  <thead>\n",
       "    <tr style=\"text-align: right;\">\n",
       "      <th></th>\n",
       "      <th>ServicioSentido</th>\n",
       "      <th>torniquete_2017_fecha_total</th>\n",
       "      <th>sin_torniquete_total</th>\n",
       "      <th>TS_CODE</th>\n",
       "      <th>DIRECTION</th>\n",
       "      <th>UN</th>\n",
       "      <th>USER_CODE</th>\n",
       "    </tr>\n",
       "  </thead>\n",
       "  <tbody>\n",
       "    <tr>\n",
       "      <th>0</th>\n",
       "      <td>B01 00I</td>\n",
       "      <td>4</td>\n",
       "      <td>15</td>\n",
       "      <td>B01</td>\n",
       "      <td>Ida</td>\n",
       "      <td>6.0</td>\n",
       "      <td>B01</td>\n",
       "    </tr>\n",
       "    <tr>\n",
       "      <th>1</th>\n",
       "      <td>B01 00R</td>\n",
       "      <td>4</td>\n",
       "      <td>14</td>\n",
       "      <td>B01</td>\n",
       "      <td>Ret</td>\n",
       "      <td>6.0</td>\n",
       "      <td>B01</td>\n",
       "    </tr>\n",
       "    <tr>\n",
       "      <th>2</th>\n",
       "      <td>B02 00I</td>\n",
       "      <td>4</td>\n",
       "      <td>6</td>\n",
       "      <td>B02</td>\n",
       "      <td>Ida</td>\n",
       "      <td>6.0</td>\n",
       "      <td>B02</td>\n",
       "    </tr>\n",
       "    <tr>\n",
       "      <th>3</th>\n",
       "      <td>B02 00R</td>\n",
       "      <td>6</td>\n",
       "      <td>5</td>\n",
       "      <td>B02</td>\n",
       "      <td>Ret</td>\n",
       "      <td>6.0</td>\n",
       "      <td>B02</td>\n",
       "    </tr>\n",
       "    <tr>\n",
       "      <th>4</th>\n",
       "      <td>B02 C2 00I</td>\n",
       "      <td>0</td>\n",
       "      <td>0</td>\n",
       "      <td>B02</td>\n",
       "      <td>Ida</td>\n",
       "      <td>6.0</td>\n",
       "      <td>B02</td>\n",
       "    </tr>\n",
       "    <tr>\n",
       "      <th>5</th>\n",
       "      <td>B02 C2 00R</td>\n",
       "      <td>0</td>\n",
       "      <td>0</td>\n",
       "      <td>B02</td>\n",
       "      <td>Ret</td>\n",
       "      <td>6.0</td>\n",
       "      <td>B02</td>\n",
       "    </tr>\n",
       "    <tr>\n",
       "      <th>6</th>\n",
       "      <td>B03 00I</td>\n",
       "      <td>160</td>\n",
       "      <td>1</td>\n",
       "      <td>B03</td>\n",
       "      <td>Ida</td>\n",
       "      <td>6.0</td>\n",
       "      <td>B03</td>\n",
       "    </tr>\n",
       "    <tr>\n",
       "      <th>7</th>\n",
       "      <td>B03 00R</td>\n",
       "      <td>164</td>\n",
       "      <td>2</td>\n",
       "      <td>B03</td>\n",
       "      <td>Ret</td>\n",
       "      <td>6.0</td>\n",
       "      <td>B03</td>\n",
       "    </tr>\n",
       "    <tr>\n",
       "      <th>8</th>\n",
       "      <td>B04 00I</td>\n",
       "      <td>8</td>\n",
       "      <td>8</td>\n",
       "      <td>B04</td>\n",
       "      <td>Ida</td>\n",
       "      <td>6.0</td>\n",
       "      <td>B04</td>\n",
       "    </tr>\n",
       "    <tr>\n",
       "      <th>9</th>\n",
       "      <td>B04 00R</td>\n",
       "      <td>8</td>\n",
       "      <td>8</td>\n",
       "      <td>B04</td>\n",
       "      <td>Ret</td>\n",
       "      <td>6.0</td>\n",
       "      <td>B04</td>\n",
       "    </tr>\n",
       "  </tbody>\n",
       "</table>\n",
       "</div>"
      ],
      "text/plain": [
       "  ServicioSentido  torniquete_2017_fecha_total  sin_torniquete_total TS_CODE  \\\n",
       "0         B01 00I                            4                    15     B01   \n",
       "1         B01 00R                            4                    14     B01   \n",
       "2         B02 00I                            4                     6     B02   \n",
       "3         B02 00R                            6                     5     B02   \n",
       "4      B02 C2 00I                            0                     0     B02   \n",
       "5      B02 C2 00R                            0                     0     B02   \n",
       "6         B03 00I                          160                     1     B03   \n",
       "7         B03 00R                          164                     2     B03   \n",
       "8         B04 00I                            8                     8     B04   \n",
       "9         B04 00R                            8                     8     B04   \n",
       "\n",
       "  DIRECTION   UN USER_CODE  \n",
       "0       Ida  6.0       B01  \n",
       "1       Ret  6.0       B01  \n",
       "2       Ida  6.0       B02  \n",
       "3       Ret  6.0       B02  \n",
       "4       Ida  6.0       B02  \n",
       "5       Ret  6.0       B02  \n",
       "6       Ida  6.0       B03  \n",
       "7       Ret  6.0       B03  \n",
       "8       Ida  6.0       B04  \n",
       "9       Ret  6.0       B04  "
      ]
     },
     "execution_count": 21,
     "metadata": {},
     "output_type": "execute_result"
    }
   ],
   "source": [
    "grouped_perfiles.head(10)"
   ]
  },
  {
   "cell_type": "code",
   "execution_count": 24,
   "metadata": {},
   "outputs": [
    {
     "data": {
      "text/plain": [
       "9281"
      ]
     },
     "execution_count": 24,
     "metadata": {},
     "output_type": "execute_result"
    }
   ],
   "source": [
    "grouped_perfiles['torniquete_2017_fecha_total'].sum()"
   ]
  },
  {
   "cell_type": "code",
   "execution_count": 25,
   "metadata": {},
   "outputs": [
    {
     "data": {
      "text/plain": [
       "48878"
      ]
     },
     "execution_count": 25,
     "metadata": {},
     "output_type": "execute_result"
    }
   ],
   "source": [
    "grouped_perfiles['sin_torniquete_total'].sum()"
   ]
  },
  {
   "cell_type": "code",
   "execution_count": 27,
   "metadata": {},
   "outputs": [
    {
     "data": {
      "text/plain": [
       "76146"
      ]
     },
     "execution_count": 27,
     "metadata": {},
     "output_type": "execute_result"
    }
   ],
   "source": [
    "len(perfiles_df.index)"
   ]
  },
  {
   "cell_type": "code",
   "execution_count": null,
   "metadata": {
    "collapsed": true
   },
   "outputs": [],
   "source": []
  }
 ],
 "metadata": {
  "kernelspec": {
   "display_name": "Python 3",
   "language": "python",
   "name": "python3"
  },
  "language_info": {
   "codemirror_mode": {
    "name": "ipython",
    "version": 3
   },
   "file_extension": ".py",
   "mimetype": "text/x-python",
   "name": "python",
   "nbconvert_exporter": "python",
   "pygments_lexer": "ipython3",
   "version": "3.6.1"
  }
 },
 "nbformat": 4,
 "nbformat_minor": 2
}
