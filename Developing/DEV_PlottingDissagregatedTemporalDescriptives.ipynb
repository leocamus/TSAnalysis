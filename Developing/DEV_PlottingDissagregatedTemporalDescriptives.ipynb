{
 "cells": [
  {
   "cell_type": "markdown",
   "metadata": {},
   "source": [
    "## Plotting dissagregated information"
   ]
  },
  {
   "cell_type": "code",
   "execution_count": 1,
   "metadata": {
    "collapsed": true
   },
   "outputs": [],
   "source": [
    "import os\n",
    "import sys\n",
    "module_path = os.path.abspath(os.path.join('..'))\n",
    "if module_path not in sys.path:\n",
    "    sys.path.append(module_path)"
   ]
  },
  {
   "cell_type": "code",
   "execution_count": 2,
   "metadata": {},
   "outputs": [
    {
     "data": {
      "text/html": [
       "<style>.container { width:80% !important; }</style>"
      ],
      "text/plain": [
       "<IPython.core.display.HTML object>"
      ]
     },
     "metadata": {},
     "output_type": "display_data"
    }
   ],
   "source": [
    "%matplotlib inline\n",
    "from IPython.core.display import display, HTML\n",
    "display(HTML(\"<style>.container { width:80% !important; }</style>\"))\n",
    "\n",
    "import pandas as pd\n",
    "import matplotlib\n",
    "import matplotlib.pyplot as plt\n",
    "import matplotlib.dates as mdates\n",
    "import numpy as np\n",
    "import datetime as dt\n",
    "import time\n",
    "from importlib import reload\n",
    "from Utils import TransantiagoConstants"
   ]
  },
  {
   "cell_type": "code",
   "execution_count": 3,
   "metadata": {
    "collapsed": true
   },
   "outputs": [],
   "source": [
    "dates = TransantiagoConstants.updateCurrentSSHDates()\n",
    "summary_dir = TransantiagoConstants.SummaryDir"
   ]
  },
  {
   "cell_type": "markdown",
   "metadata": {},
   "source": [
    "-------------"
   ]
  },
  {
   "cell_type": "markdown",
   "metadata": {},
   "source": [
    "* Reading ddbb"
   ]
  },
  {
   "cell_type": "code",
   "execution_count": 4,
   "metadata": {},
   "outputs": [
    {
     "name": "stderr",
     "output_type": "stream",
     "text": [
      "C:\\Users\\leoca_000\\Anaconda3\\lib\\site-packages\\IPython\\core\\interactiveshell.py:2717: DtypeWarning: Columns (6) have mixed types. Specify dtype option on import or set low_memory=False.\n",
      "  interactivity=interactivity, compiler=compiler, result=result)\n"
     ]
    },
    {
     "name": "stdout",
     "output_type": "stream",
     "text": [
      "344.90145552671305\n"
     ]
    }
   ],
   "source": [
    "sumtrx = pd.DataFrame()\n",
    "tic = time.clock()\n",
    "for date in dates:\n",
    "    name_file = date + '_sumtrx.csv'\n",
    "    path_to_file = os.path.join(summary_dir,name_file)\n",
    "    summary_by_date = pd.read_csv(path_to_file,sep=';',encoding='latin-1', index_col=0)\n",
    "    sumtrx = pd.concat([sumtrx,summary_by_date])\n",
    "toc = time.clock()\n",
    "print(toc-tic)"
   ]
  },
  {
   "cell_type": "code",
   "execution_count": 5,
   "metadata": {},
   "outputs": [
    {
     "data": {
      "text/plain": [
       "7878432"
      ]
     },
     "execution_count": 5,
     "metadata": {},
     "output_type": "execute_result"
    }
   ],
   "source": [
    "len(sumtrx.index)"
   ]
  },
  {
   "cell_type": "markdown",
   "metadata": {},
   "source": [
    "-------------"
   ]
  },
  {
   "cell_type": "markdown",
   "metadata": {},
   "source": [
    "* Processing summary ddbb"
   ]
  },
  {
   "cell_type": "code",
   "execution_count": 6,
   "metadata": {
    "scrolled": true
   },
   "outputs": [
    {
     "data": {
      "text/html": [
       "<div>\n",
       "<style>\n",
       "    .dataframe thead tr:only-child th {\n",
       "        text-align: right;\n",
       "    }\n",
       "\n",
       "    .dataframe thead th {\n",
       "        text-align: left;\n",
       "    }\n",
       "\n",
       "    .dataframe tbody tr th {\n",
       "        vertical-align: top;\n",
       "    }\n",
       "</style>\n",
       "<table border=\"1\" class=\"dataframe\">\n",
       "  <thead>\n",
       "    <tr style=\"text-align: right;\">\n",
       "      <th></th>\n",
       "      <th>PERIODO</th>\n",
       "      <th>sitio_subida</th>\n",
       "      <th>servicio_subida</th>\n",
       "      <th>id_count</th>\n",
       "      <th>diferencia_tiempo_secs_specialMean</th>\n",
       "      <th>TS_CODE</th>\n",
       "      <th>DIRECTION</th>\n",
       "      <th>UN_x</th>\n",
       "      <th>USER_CODE</th>\n",
       "      <th>fecha_instalacion_ana</th>\n",
       "      <th>fecha_instalacion_mauricio</th>\n",
       "      <th>min_fecha</th>\n",
       "      <th>torniquete_mariposa</th>\n",
       "      <th>no_torniquete</th>\n",
       "      <th>fecha</th>\n",
       "    </tr>\n",
       "  </thead>\n",
       "  <tbody>\n",
       "    <tr>\n",
       "      <th>0</th>\n",
       "      <td>FPMA</td>\n",
       "      <td>BBJZ-76</td>\n",
       "      <td>F07 00I</td>\n",
       "      <td>21</td>\n",
       "      <td>8.600000</td>\n",
       "      <td>F07</td>\n",
       "      <td>Ida</td>\n",
       "      <td>7.0</td>\n",
       "      <td>F07</td>\n",
       "      <td>2016-11-01 00:00:00</td>\n",
       "      <td>2016-11-01 00:00:00</td>\n",
       "      <td>2016-11-01 00:00:00</td>\n",
       "      <td>1</td>\n",
       "      <td>0</td>\n",
       "      <td>2017-03-01</td>\n",
       "    </tr>\n",
       "    <tr>\n",
       "      <th>1</th>\n",
       "      <td>FPMA</td>\n",
       "      <td>BBJZ-76</td>\n",
       "      <td>F07 00R</td>\n",
       "      <td>3</td>\n",
       "      <td>NaN</td>\n",
       "      <td>F07</td>\n",
       "      <td>Ret</td>\n",
       "      <td>7.0</td>\n",
       "      <td>F07</td>\n",
       "      <td>2016-11-01 00:00:00</td>\n",
       "      <td>2016-11-01 00:00:00</td>\n",
       "      <td>2016-11-01 00:00:00</td>\n",
       "      <td>1</td>\n",
       "      <td>0</td>\n",
       "      <td>2017-03-01</td>\n",
       "    </tr>\n",
       "    <tr>\n",
       "      <th>2</th>\n",
       "      <td>FPMA</td>\n",
       "      <td>BBKB-11</td>\n",
       "      <td>F03 C0 06I</td>\n",
       "      <td>26</td>\n",
       "      <td>4.722222</td>\n",
       "      <td>F03</td>\n",
       "      <td>Ida</td>\n",
       "      <td>7.0</td>\n",
       "      <td>F03</td>\n",
       "      <td>NaN</td>\n",
       "      <td>NaN</td>\n",
       "      <td>NaN</td>\n",
       "      <td>0</td>\n",
       "      <td>1</td>\n",
       "      <td>2017-03-01</td>\n",
       "    </tr>\n",
       "    <tr>\n",
       "      <th>3</th>\n",
       "      <td>FPMA</td>\n",
       "      <td>BBKB-11</td>\n",
       "      <td>F03 C0 06R</td>\n",
       "      <td>28</td>\n",
       "      <td>2.937500</td>\n",
       "      <td>F03</td>\n",
       "      <td>Ret</td>\n",
       "      <td>7.0</td>\n",
       "      <td>F03</td>\n",
       "      <td>NaN</td>\n",
       "      <td>NaN</td>\n",
       "      <td>NaN</td>\n",
       "      <td>0</td>\n",
       "      <td>1</td>\n",
       "      <td>2017-03-01</td>\n",
       "    </tr>\n",
       "    <tr>\n",
       "      <th>4</th>\n",
       "      <td>FPMA</td>\n",
       "      <td>BBKB-12</td>\n",
       "      <td>F11 07I</td>\n",
       "      <td>18</td>\n",
       "      <td>4.636364</td>\n",
       "      <td>F11</td>\n",
       "      <td>Ida</td>\n",
       "      <td>7.0</td>\n",
       "      <td>F11</td>\n",
       "      <td>NaN</td>\n",
       "      <td>NaN</td>\n",
       "      <td>NaN</td>\n",
       "      <td>0</td>\n",
       "      <td>1</td>\n",
       "      <td>2017-03-01</td>\n",
       "    </tr>\n",
       "  </tbody>\n",
       "</table>\n",
       "</div>"
      ],
      "text/plain": [
       "  PERIODO sitio_subida servicio_subida  id_count  \\\n",
       "0    FPMA      BBJZ-76         F07 00I        21   \n",
       "1    FPMA      BBJZ-76         F07 00R         3   \n",
       "2    FPMA      BBKB-11      F03 C0 06I        26   \n",
       "3    FPMA      BBKB-11      F03 C0 06R        28   \n",
       "4    FPMA      BBKB-12         F11 07I        18   \n",
       "\n",
       "   diferencia_tiempo_secs_specialMean TS_CODE DIRECTION  UN_x USER_CODE  \\\n",
       "0                            8.600000     F07       Ida   7.0       F07   \n",
       "1                                 NaN     F07       Ret   7.0       F07   \n",
       "2                            4.722222     F03       Ida   7.0       F03   \n",
       "3                            2.937500     F03       Ret   7.0       F03   \n",
       "4                            4.636364     F11       Ida   7.0       F11   \n",
       "\n",
       "  fecha_instalacion_ana fecha_instalacion_mauricio            min_fecha  \\\n",
       "0   2016-11-01 00:00:00        2016-11-01 00:00:00  2016-11-01 00:00:00   \n",
       "1   2016-11-01 00:00:00        2016-11-01 00:00:00  2016-11-01 00:00:00   \n",
       "2                   NaN                        NaN                  NaN   \n",
       "3                   NaN                        NaN                  NaN   \n",
       "4                   NaN                        NaN                  NaN   \n",
       "\n",
       "   torniquete_mariposa  no_torniquete       fecha  \n",
       "0                    1              0  2017-03-01  \n",
       "1                    1              0  2017-03-01  \n",
       "2                    0              1  2017-03-01  \n",
       "3                    0              1  2017-03-01  \n",
       "4                    0              1  2017-03-01  "
      ]
     },
     "execution_count": 6,
     "metadata": {},
     "output_type": "execute_result"
    }
   ],
   "source": [
    "sumtrx.head()"
   ]
  },
  {
   "cell_type": "code",
   "execution_count": 7,
   "metadata": {
    "collapsed": true
   },
   "outputs": [],
   "source": [
    "sumtrx.loc[:,'fecha'] = pd.to_datetime(sumtrx.loc[:,'fecha'])"
   ]
  },
  {
   "cell_type": "code",
   "execution_count": 8,
   "metadata": {
    "collapsed": true
   },
   "outputs": [],
   "source": [
    "weekend = set([5, 6])\n",
    "\n",
    "viernes_santo = dt.date(2017,4,14) #Friday\n",
    "censo_abreviado = dt.date(2017,4,19) #Wednesday\n",
    "dia_trabajo = dt.date(2017,5,1) #Monday\n",
    "san_pedro = dt.date(2017,6,26) #Monday\n",
    "asuncion_virgen = dt.date(2017,8,15) #Tuesday\n",
    "\n",
    "special_dates = {viernes_santo,censo_abreviado,dia_trabajo,san_pedro,asuncion_virgen}\n",
    "\n",
    "outlier_1 = dt.date(2017,6,5)\n",
    "outlier_2 = dt.date(2017,6,13)\n",
    "outlier_3 = dt.date(2017,6,14)\n",
    "\n",
    "outliers = {outlier_1,outlier_2,outlier_3}"
   ]
  },
  {
   "cell_type": "code",
   "execution_count": 9,
   "metadata": {
    "collapsed": true
   },
   "outputs": [],
   "source": [
    "working_sumtrx = sumtrx.loc[~(sumtrx['fecha'].dt.weekday.isin(weekend)) & \n",
    "                                            ~(sumtrx['fecha'].isin(special_dates)),:]"
   ]
  },
  {
   "cell_type": "code",
   "execution_count": 10,
   "metadata": {
    "collapsed": true
   },
   "outputs": [],
   "source": [
    "clean_working_sumtrx =  working_sumtrx.loc[~(working_sumtrx['fecha'].isin(outliers)),:]"
   ]
  },
  {
   "cell_type": "code",
   "execution_count": 11,
   "metadata": {
    "collapsed": true
   },
   "outputs": [],
   "source": [
    "del sumtrx, working_sumtrx"
   ]
  },
  {
   "cell_type": "code",
   "execution_count": 12,
   "metadata": {},
   "outputs": [
    {
     "data": {
      "text/plain": [
       "5796891"
      ]
     },
     "execution_count": 12,
     "metadata": {},
     "output_type": "execute_result"
    }
   ],
   "source": [
    "len(clean_working_sumtrx.index)"
   ]
  },
  {
   "cell_type": "markdown",
   "metadata": {},
   "source": [
    "----------------"
   ]
  },
  {
   "cell_type": "markdown",
   "metadata": {},
   "source": [
    "* Testing (quickly and simply) behavior, using F03 as an example\n",
    "* Tests should be done comparing functionality provided by TemporalDescriptivesBuilder with already printed results"
   ]
  },
  {
   "cell_type": "code",
   "execution_count": 13,
   "metadata": {
    "collapsed": true
   },
   "outputs": [],
   "source": [
    "F03_PMA_TORNIQUETE = clean_working_sumtrx.loc[(clean_working_sumtrx['servicio_subida'].str.contains('F03'))\n",
    "                                              &(clean_working_sumtrx['PERIODO']=='PMA')\n",
    "                                              &(clean_working_sumtrx['torniquete_mariposa']==1),:]\n",
    "\n",
    "F03_PMA_SIN_TORNIQUETE = clean_working_sumtrx.loc[(clean_working_sumtrx['servicio_subida'].str.contains('F03'))\n",
    "                                              &(clean_working_sumtrx['PERIODO']=='PMA')\n",
    "                                              &(clean_working_sumtrx['no_torniquete']==1),:]"
   ]
  },
  {
   "cell_type": "code",
   "execution_count": 14,
   "metadata": {
    "collapsed": true
   },
   "outputs": [],
   "source": [
    "grouped_F03_PMA_TORNIQUETE = F03_PMA_TORNIQUETE.groupby(F03_PMA_TORNIQUETE['fecha'])['id_count'].sum()\n",
    "grouped_F03_PMA_SIN_TORNIQUETE = F03_PMA_SIN_TORNIQUETE.groupby(F03_PMA_SIN_TORNIQUETE['fecha'])['id_count'].sum()"
   ]
  },
  {
   "cell_type": "code",
   "execution_count": 15,
   "metadata": {},
   "outputs": [
    {
     "data": {
      "text/plain": [
       "70"
      ]
     },
     "execution_count": 15,
     "metadata": {},
     "output_type": "execute_result"
    }
   ],
   "source": [
    "len(grouped_F03_PMA_TORNIQUETE.index)"
   ]
  },
  {
   "cell_type": "code",
   "execution_count": 16,
   "metadata": {},
   "outputs": [
    {
     "data": {
      "text/plain": [
       "71"
      ]
     },
     "execution_count": 16,
     "metadata": {},
     "output_type": "execute_result"
    }
   ],
   "source": [
    "len(grouped_F03_PMA_SIN_TORNIQUETE.index)"
   ]
  },
  {
   "cell_type": "code",
   "execution_count": 21,
   "metadata": {
    "collapsed": true
   },
   "outputs": [],
   "source": [
    "missing_date = set(grouped_F03_PMA_SIN_TORNIQUETE.index) - (set(grouped_F03_PMA_SIN_TORNIQUETE.index) & set(grouped_F03_PMA_TORNIQUETE.index))"
   ]
  },
  {
   "cell_type": "code",
   "execution_count": 22,
   "metadata": {},
   "outputs": [
    {
     "data": {
      "text/plain": [
       "{Timestamp('2017-03-02 00:00:00')}"
      ]
     },
     "execution_count": 22,
     "metadata": {},
     "output_type": "execute_result"
    }
   ],
   "source": [
    "missing_date"
   ]
  },
  {
   "cell_type": "code",
   "execution_count": 17,
   "metadata": {
    "collapsed": true
   },
   "outputs": [],
   "source": [
    "from Temporal_Descriptives import TemporalDescriptivesBuilder"
   ]
  },
  {
   "cell_type": "code",
   "execution_count": 18,
   "metadata": {
    "collapsed": true
   },
   "outputs": [],
   "source": [
    "date = '2017-03-02'\n",
    "temporal_descriptives_builder = TemporalDescriptivesBuilder.TemporalDescriptivesBuilderClass(date)\n",
    "temporal_descriptives_builder.loadEtapasAndOthers()\n",
    "temporal_descriptives_builder.processEtapas()\n",
    "temporal_descriptives_builder.appendPeriods()\n",
    "etapas_df = temporal_descriptives_builder.df"
   ]
  },
  {
   "cell_type": "markdown",
   "metadata": {},
   "source": [
    "Test if 'periodo' is correctly assigned with periodo == PMA "
   ]
  },
  {
   "cell_type": "code",
   "execution_count": 23,
   "metadata": {
    "collapsed": true
   },
   "outputs": [],
   "source": [
    "peak_start_1 = dt.time(6,30,0)\n",
    "peak_end_1 = dt.time(8,29,59)"
   ]
  },
  {
   "cell_type": "code",
   "execution_count": 24,
   "metadata": {},
   "outputs": [
    {
     "data": {
      "text/plain": [
       "pandas._libs.tslib.Timestamp"
      ]
     },
     "execution_count": 24,
     "metadata": {},
     "output_type": "execute_result"
    }
   ],
   "source": [
    "type(etapas_df.loc[0,'t_subida'])"
   ]
  },
  {
   "cell_type": "code",
   "execution_count": 25,
   "metadata": {},
   "outputs": [
    {
     "data": {
      "text/plain": [
       "array(['PMA'], dtype=object)"
      ]
     },
     "execution_count": 25,
     "metadata": {},
     "output_type": "execute_result"
    }
   ],
   "source": [
    "etapas_df.loc[(peak_start_1<=etapas_df['t_subida'].dt.time)&(etapas_df['t_subida'].dt.time<=peak_end_1),'PERIODO'].unique()"
   ]
  },
  {
   "cell_type": "markdown",
   "metadata": {},
   "source": [
    "Test if 'periodo' is correctly assigned with periodo == PMA: <font color='green'><strong> Passed </strong></font>"
   ]
  },
  {
   "cell_type": "markdown",
   "metadata": {},
   "source": [
    "Test if 'F03' was not operated by buses with turnstiles during PMA of 2017-03-02"
   ]
  },
  {
   "cell_type": "code",
   "execution_count": 26,
   "metadata": {},
   "outputs": [
    {
     "data": {
      "text/plain": [
       "True"
      ]
     },
     "execution_count": 26,
     "metadata": {},
     "output_type": "execute_result"
    }
   ],
   "source": [
    "etapas_df.loc[(etapas_df['servicio_subida'].str.contains('F03'))&(etapas_df['PERIODO']=='PMA')&(etapas_df['torniquete_mariposa']==1),:].empty"
   ]
  },
  {
   "cell_type": "markdown",
   "metadata": {},
   "source": [
    "Test if 'F03' was not operated by buses with turnstiles during PMA of 2017-03-02: <font color='green'><strong> Passed </strong></font>"
   ]
  },
  {
   "cell_type": "code",
   "execution_count": 27,
   "metadata": {
    "collapsed": true
   },
   "outputs": [],
   "source": [
    "del etapas_df"
   ]
  },
  {
   "cell_type": "markdown",
   "metadata": {},
   "source": [
    "---------------"
   ]
  },
  {
   "cell_type": "markdown",
   "metadata": {},
   "source": [
    "* Plotting F03 as an example\n",
    "* grouped_F03_PMA_TORNIQUETE should be modified since '2017-03-02' does not exist.\n",
    "* grouped_F03_PMA_SIN_TORNIQUETE and modified grouped_F03_PMA_TORNIQUETE should be sorted by index first"
   ]
  },
  {
   "cell_type": "code",
   "execution_count": 28,
   "metadata": {
    "collapsed": true
   },
   "outputs": [],
   "source": [
    "grouped_F03_PMA_TORNIQUETE.at[pd.to_datetime('2017-03-02')] = 0"
   ]
  },
  {
   "cell_type": "code",
   "execution_count": 29,
   "metadata": {
    "collapsed": true
   },
   "outputs": [],
   "source": [
    "grouped_F03_PMA_TORNIQUETE.sort_index(ascending = True, inplace = True)\n",
    "grouped_F03_PMA_SIN_TORNIQUETE.sort_index(ascending = True, inplace = True)"
   ]
  },
  {
   "cell_type": "code",
   "execution_count": 30,
   "metadata": {},
   "outputs": [
    {
     "data": {
      "text/plain": [
       "fecha\n",
       "2017-03-01    143\n",
       "2017-03-02      0\n",
       "2017-03-03    100\n",
       "2017-03-07    133\n",
       "2017-03-09    201\n",
       "Name: id_count, dtype: int64"
      ]
     },
     "execution_count": 30,
     "metadata": {},
     "output_type": "execute_result"
    }
   ],
   "source": [
    "grouped_F03_PMA_TORNIQUETE.head()"
   ]
  },
  {
   "cell_type": "code",
   "execution_count": 31,
   "metadata": {},
   "outputs": [
    {
     "data": {
      "text/plain": [
       "fecha\n",
       "2017-03-01    1349\n",
       "2017-03-02    1505\n",
       "2017-03-03    1393\n",
       "2017-03-07    1575\n",
       "2017-03-09    1451\n",
       "Name: id_count, dtype: int64"
      ]
     },
     "execution_count": 31,
     "metadata": {},
     "output_type": "execute_result"
    }
   ],
   "source": [
    "grouped_F03_PMA_SIN_TORNIQUETE.head()"
   ]
  },
  {
   "cell_type": "code",
   "execution_count": 32,
   "metadata": {
    "collapsed": true
   },
   "outputs": [],
   "source": [
    "colors = [(0, 150, 136),(255, 235, 59),(255, 152, 0)]\n",
    "for i in range(len(colors)):\n",
    "    r, g, b = colors[i]  \n",
    "    colors[i] = (r / 255., g / 255., b / 255.)"
   ]
  },
  {
   "cell_type": "code",
   "execution_count": 33,
   "metadata": {},
   "outputs": [
    {
     "data": {
      "text/plain": [
       "<matplotlib.legend.Legend at 0x19f30f30630>"
      ]
     },
     "execution_count": 33,
     "metadata": {},
     "output_type": "execute_result"
    },
    {
     "data": {
      "image/png": "[encoded data removed]",
      "text/plain": [
       "<matplotlib.figure.Figure at 0x19f3641b6d8>"
      ]
     },
     "metadata": {},
     "output_type": "display_data"
    }
   ],
   "source": [
    "fig_4, ax_4 = plt.subplots()\n",
    "labels = [\"Sin torniquete \", \"Torniquete Mariposa\"]\n",
    "\n",
    "x = grouped_F03_PMA_TORNIQUETE.index\n",
    "y_1 = grouped_F03_PMA_SIN_TORNIQUETE\n",
    "y_2 = grouped_F03_PMA_TORNIQUETE\n",
    "\n",
    "ax_4.stackplot(x, y_1, y_2, labels=labels, colors=colors)\n",
    "\n",
    "\n",
    "fig_4.autofmt_xdate()\n",
    "ax_4.set_title('Transacciones F03, PMA')\n",
    "ax_4.set_xlabel('Fecha')\n",
    "ax_4.set_ylabel('Transacciones')\n",
    "ax_4.set_autoscaley_on(False)\n",
    "ax_4.legend(loc=3)\n",
    "\n",
    "#plt.savefig('C:/Users/leoca_000/Desktop/Evasion/03_report/02_Figs/3_trxF03PMAOverTime.pdf')"
   ]
  },
  {
   "cell_type": "markdown",
   "metadata": {},
   "source": [
    "--------------"
   ]
  },
  {
   "cell_type": "markdown",
   "metadata": {},
   "source": [
    "* Plotting F13"
   ]
  },
  {
   "cell_type": "code",
   "execution_count": 34,
   "metadata": {
    "collapsed": true
   },
   "outputs": [],
   "source": [
    "F13_PMA_TORNIQUETE = clean_working_sumtrx.loc[(clean_working_sumtrx['servicio_subida'].str.contains('F13'))\n",
    "                                              &(clean_working_sumtrx['PERIODO']=='PMA')\n",
    "                                              &(clean_working_sumtrx['torniquete_mariposa']==1),:]\n",
    "\n",
    "F13_PMA_SIN_TORNIQUETE = clean_working_sumtrx.loc[(clean_working_sumtrx['servicio_subida'].str.contains('F13'))\n",
    "                                              &(clean_working_sumtrx['PERIODO']=='PMA')\n",
    "                                              &(clean_working_sumtrx['no_torniquete']==1),:]"
   ]
  },
  {
   "cell_type": "code",
   "execution_count": 36,
   "metadata": {
    "collapsed": true
   },
   "outputs": [],
   "source": [
    "grouped_F13_PMA_TORNIQUETE = F13_PMA_TORNIQUETE.groupby(F13_PMA_TORNIQUETE['fecha'])['id_count'].sum()\n",
    "grouped_F13_PMA_SIN_TORNIQUETE = F13_PMA_SIN_TORNIQUETE.groupby(F13_PMA_SIN_TORNIQUETE['fecha'])['id_count'].sum()"
   ]
  },
  {
   "cell_type": "code",
   "execution_count": 37,
   "metadata": {},
   "outputs": [
    {
     "data": {
      "text/plain": [
       "fecha\n",
       "2017-03-01     868\n",
       "2017-03-02    1112\n",
       "2017-03-03     785\n",
       "2017-03-07    1219\n",
       "2017-03-09     942\n",
       "Name: id_count, dtype: int64"
      ]
     },
     "execution_count": 37,
     "metadata": {},
     "output_type": "execute_result"
    }
   ],
   "source": [
    "grouped_F13_PMA_TORNIQUETE.head()"
   ]
  },
  {
   "cell_type": "code",
   "execution_count": 38,
   "metadata": {},
   "outputs": [
    {
     "data": {
      "text/plain": [
       "71"
      ]
     },
     "execution_count": 38,
     "metadata": {},
     "output_type": "execute_result"
    }
   ],
   "source": [
    "len(grouped_F13_PMA_TORNIQUETE.index)"
   ]
  },
  {
   "cell_type": "code",
   "execution_count": 39,
   "metadata": {},
   "outputs": [
    {
     "data": {
      "text/plain": [
       "fecha\n",
       "2017-03-01    1754\n",
       "2017-03-02    1674\n",
       "2017-03-03    2117\n",
       "2017-03-07    1912\n",
       "2017-03-09    2224\n",
       "Name: id_count, dtype: int64"
      ]
     },
     "execution_count": 39,
     "metadata": {},
     "output_type": "execute_result"
    }
   ],
   "source": [
    "grouped_F13_PMA_SIN_TORNIQUETE.head()"
   ]
  },
  {
   "cell_type": "code",
   "execution_count": 40,
   "metadata": {},
   "outputs": [
    {
     "data": {
      "text/plain": [
       "71"
      ]
     },
     "execution_count": 40,
     "metadata": {},
     "output_type": "execute_result"
    }
   ],
   "source": [
    "len(grouped_F13_PMA_SIN_TORNIQUETE.index)"
   ]
  },
  {
   "cell_type": "code",
   "execution_count": 41,
   "metadata": {
    "collapsed": true
   },
   "outputs": [],
   "source": [
    "grouped_F13_PMA_TORNIQUETE.sort_index(ascending = True, inplace = True)\n",
    "grouped_F13_PMA_SIN_TORNIQUETE.sort_index(ascending = True, inplace = True)"
   ]
  },
  {
   "cell_type": "code",
   "execution_count": 42,
   "metadata": {},
   "outputs": [
    {
     "data": {
      "text/plain": [
       "<matplotlib.legend.Legend at 0x19f3124ca20>"
      ]
     },
     "execution_count": 42,
     "metadata": {},
     "output_type": "execute_result"
    },
    {
     "data": {
      "image/png": "[encoded data removed]",
      "text/plain": [
       "<matplotlib.figure.Figure at 0x19f3119d588>"
      ]
     },
     "metadata": {},
     "output_type": "display_data"
    }
   ],
   "source": [
    "fig_1, ax_1 = plt.subplots()\n",
    "labels = [\"Sin torniquete \", \"Torniquete Mariposa\"]\n",
    "\n",
    "x = grouped_F13_PMA_TORNIQUETE.index\n",
    "y_1 = grouped_F13_PMA_SIN_TORNIQUETE\n",
    "y_2 = grouped_F13_PMA_TORNIQUETE\n",
    "\n",
    "ax_1.stackplot(x, y_1, y_2, labels=labels, colors=colors)\n",
    "\n",
    "\n",
    "fig_1.autofmt_xdate()\n",
    "ax_1.set_title('Transacciones F13, PMA')\n",
    "ax_1.set_xlabel('Fecha')\n",
    "ax_1.set_ylabel('Transacciones')\n",
    "ax_1.set_autoscaley_on(False)\n",
    "ax_1.legend(loc=3)\n",
    "\n",
    "#plt.savefig('C:/Users/leoca_000/Desktop/Evasion/03_report/02_Figs/3_trxF13PMAOverTime.pdf')"
   ]
  },
  {
   "cell_type": "markdown",
   "metadata": {},
   "source": [
    "-----------"
   ]
  },
  {
   "cell_type": "markdown",
   "metadata": {},
   "source": [
    "* Plotting F16"
   ]
  },
  {
   "cell_type": "code",
   "execution_count": 43,
   "metadata": {
    "collapsed": true
   },
   "outputs": [],
   "source": [
    "F16_PMA_TORNIQUETE = clean_working_sumtrx.loc[(clean_working_sumtrx['servicio_subida'].str.contains('F16'))\n",
    "                                              &(clean_working_sumtrx['PERIODO']=='PMA')\n",
    "                                              &(clean_working_sumtrx['torniquete_mariposa']==1),:]\n",
    "\n",
    "F16_PMA_SIN_TORNIQUETE = clean_working_sumtrx.loc[(clean_working_sumtrx['servicio_subida'].str.contains('F16'))\n",
    "                                              &(clean_working_sumtrx['PERIODO']=='PMA')\n",
    "                                              &(clean_working_sumtrx['no_torniquete']==1),:]"
   ]
  },
  {
   "cell_type": "code",
   "execution_count": 44,
   "metadata": {
    "collapsed": true
   },
   "outputs": [],
   "source": [
    "grouped_F16_PMA_TORNIQUETE = F16_PMA_TORNIQUETE.groupby(F16_PMA_TORNIQUETE['fecha'])['id_count'].sum()\n",
    "grouped_F16_PMA_SIN_TORNIQUETE = F16_PMA_SIN_TORNIQUETE.groupby(F16_PMA_SIN_TORNIQUETE['fecha'])['id_count'].sum()"
   ]
  },
  {
   "cell_type": "code",
   "execution_count": 45,
   "metadata": {},
   "outputs": [
    {
     "data": {
      "text/plain": [
       "64"
      ]
     },
     "execution_count": 45,
     "metadata": {},
     "output_type": "execute_result"
    }
   ],
   "source": [
    "len(grouped_F16_PMA_TORNIQUETE.index)"
   ]
  },
  {
   "cell_type": "code",
   "execution_count": 46,
   "metadata": {},
   "outputs": [
    {
     "data": {
      "text/plain": [
       "71"
      ]
     },
     "execution_count": 46,
     "metadata": {},
     "output_type": "execute_result"
    }
   ],
   "source": [
    "len(grouped_F16_PMA_SIN_TORNIQUETE.index)"
   ]
  },
  {
   "cell_type": "markdown",
   "metadata": {},
   "source": [
    "* There are missing dates in grouped_F16_PMA_TORNIQUETE dataset"
   ]
  },
  {
   "cell_type": "code",
   "execution_count": 47,
   "metadata": {
    "collapsed": true
   },
   "outputs": [],
   "source": [
    "missing_indexes = set(grouped_F16_PMA_SIN_TORNIQUETE.index) - (set(grouped_F16_PMA_TORNIQUETE.index) & set(grouped_F16_PMA_SIN_TORNIQUETE.index))"
   ]
  },
  {
   "cell_type": "code",
   "execution_count": 48,
   "metadata": {},
   "outputs": [
    {
     "data": {
      "text/plain": [
       "{Timestamp('2017-04-17 00:00:00'),\n",
       " Timestamp('2017-04-18 00:00:00'),\n",
       " Timestamp('2017-05-04 00:00:00'),\n",
       " Timestamp('2017-05-10 00:00:00'),\n",
       " Timestamp('2017-06-15 00:00:00'),\n",
       " Timestamp('2017-06-19 00:00:00'),\n",
       " Timestamp('2017-06-23 00:00:00')}"
      ]
     },
     "execution_count": 48,
     "metadata": {},
     "output_type": "execute_result"
    }
   ],
   "source": [
    "missing_indexes"
   ]
  },
  {
   "cell_type": "code",
   "execution_count": 49,
   "metadata": {
    "collapsed": true
   },
   "outputs": [],
   "source": [
    "for time in missing_indexes:\n",
    "    grouped_F16_PMA_TORNIQUETE.at[time] = 0\n"
   ]
  },
  {
   "cell_type": "code",
   "execution_count": 50,
   "metadata": {
    "collapsed": true
   },
   "outputs": [],
   "source": [
    "grouped_F16_PMA_TORNIQUETE.sort_index(ascending = True, inplace = True)\n",
    "grouped_F16_PMA_SIN_TORNIQUETE.sort_index(ascending = True, inplace = True)"
   ]
  },
  {
   "cell_type": "code",
   "execution_count": 51,
   "metadata": {},
   "outputs": [
    {
     "data": {
      "text/plain": [
       "<matplotlib.legend.Legend at 0x19f312bfe80>"
      ]
     },
     "execution_count": 51,
     "metadata": {},
     "output_type": "execute_result"
    },
    {
     "data": {
      "image/png": "[encoded data removed]",
      "text/plain": [
       "<matplotlib.figure.Figure at 0x19f311c4b38>"
      ]
     },
     "metadata": {},
     "output_type": "display_data"
    }
   ],
   "source": [
    "fig_2, ax_2 = plt.subplots()\n",
    "labels = [\"Sin torniquete \", \"Torniquete Mariposa\"]\n",
    "\n",
    "x = grouped_F16_PMA_TORNIQUETE.index\n",
    "y_1 = grouped_F16_PMA_SIN_TORNIQUETE\n",
    "y_2 = grouped_F16_PMA_TORNIQUETE\n",
    "\n",
    "ax_2.stackplot(x, y_1, y_2, labels=labels, colors=colors)\n",
    "\n",
    "\n",
    "fig_2.autofmt_xdate()\n",
    "ax_2.set_title('Transacciones F16, PMA')\n",
    "ax_2.set_xlabel('Fecha')\n",
    "ax_2.set_ylabel('Transacciones')\n",
    "ax_2.set_autoscaley_on(False)\n",
    "ax_2.legend(loc=3)\n",
    "\n",
    "#plt.savefig('C:/Users/leoca_000/Desktop/Evasion/03_report/02_Figs/3_trxF16PMAOverTime.pdf')"
   ]
  },
  {
   "cell_type": "markdown",
   "metadata": {},
   "source": [
    "------------"
   ]
  },
  {
   "cell_type": "markdown",
   "metadata": {},
   "source": [
    "* Same analyses but for whole day"
   ]
  },
  {
   "cell_type": "markdown",
   "metadata": {},
   "source": [
    "* F03"
   ]
  },
  {
   "cell_type": "code",
   "execution_count": 52,
   "metadata": {
    "collapsed": true
   },
   "outputs": [],
   "source": [
    "F03_TORNIQUETE = clean_working_sumtrx.loc[(clean_working_sumtrx['servicio_subida'].str.contains('F03'))\n",
    "                                              &(clean_working_sumtrx['torniquete_mariposa']==1),:]\n",
    "\n",
    "F03_SIN_TORNIQUETE = clean_working_sumtrx.loc[(clean_working_sumtrx['servicio_subida'].str.contains('F03'))\n",
    "                                              &(clean_working_sumtrx['no_torniquete']==1),:]"
   ]
  },
  {
   "cell_type": "code",
   "execution_count": 53,
   "metadata": {
    "collapsed": true
   },
   "outputs": [],
   "source": [
    "grouped_F03_TORNIQUETE = F03_TORNIQUETE.groupby(F03_TORNIQUETE['fecha'])['id_count'].sum()\n",
    "grouped_F03_SIN_TORNIQUETE = F03_SIN_TORNIQUETE.groupby(F03_SIN_TORNIQUETE['fecha'])['id_count'].sum()"
   ]
  },
  {
   "cell_type": "code",
   "execution_count": 54,
   "metadata": {},
   "outputs": [
    {
     "data": {
      "text/plain": [
       "72"
      ]
     },
     "execution_count": 54,
     "metadata": {},
     "output_type": "execute_result"
    }
   ],
   "source": [
    "len(grouped_F03_TORNIQUETE.index)"
   ]
  },
  {
   "cell_type": "code",
   "execution_count": 55,
   "metadata": {},
   "outputs": [
    {
     "data": {
      "text/plain": [
       "72"
      ]
     },
     "execution_count": 55,
     "metadata": {},
     "output_type": "execute_result"
    }
   ],
   "source": [
    "len(grouped_F03_SIN_TORNIQUETE.index)"
   ]
  },
  {
   "cell_type": "code",
   "execution_count": 56,
   "metadata": {
    "collapsed": true
   },
   "outputs": [],
   "source": [
    "grouped_F03_TORNIQUETE.sort_index(ascending = True, inplace = True)\n",
    "grouped_F03_SIN_TORNIQUETE.sort_index(ascending = True, inplace = True)"
   ]
  },
  {
   "cell_type": "code",
   "execution_count": 57,
   "metadata": {},
   "outputs": [
    {
     "data": {
      "text/plain": [
       "<matplotlib.legend.Legend at 0x19f314bbba8>"
      ]
     },
     "execution_count": 57,
     "metadata": {},
     "output_type": "execute_result"
    },
    {
     "data": {
      "image/png": "[encoded data removed]",
      "text/plain": [
       "<matplotlib.figure.Figure at 0x19f311f80f0>"
      ]
     },
     "metadata": {},
     "output_type": "display_data"
    }
   ],
   "source": [
    "fig_3, ax_3 = plt.subplots()\n",
    "labels = [\"Sin torniquete \", \"Torniquete Mariposa\"]\n",
    "\n",
    "x = grouped_F03_TORNIQUETE.index\n",
    "y_1 = grouped_F03_SIN_TORNIQUETE\n",
    "y_2 = grouped_F03_TORNIQUETE\n",
    "\n",
    "ax_3.stackplot(x, y_1, y_2, labels=labels, colors=colors)\n",
    "\n",
    "\n",
    "fig_3.autofmt_xdate()\n",
    "ax_3.set_title('Transacciones F03, Día completo')\n",
    "ax_3.set_xlabel('Fecha')\n",
    "ax_3.set_ylabel('Transacciones')\n",
    "ax_3.set_autoscaley_on(False)\n",
    "ax_3.legend(loc=3)\n",
    "\n",
    "#plt.savefig('C:/Users/leoca_000/Desktop/Evasion/03_report/02_Figs/3_trxF03OverTime.pdf')"
   ]
  },
  {
   "cell_type": "markdown",
   "metadata": {},
   "source": [
    "* F13"
   ]
  },
  {
   "cell_type": "code",
   "execution_count": 58,
   "metadata": {
    "collapsed": true
   },
   "outputs": [],
   "source": [
    "F13_TORNIQUETE = clean_working_sumtrx.loc[(clean_working_sumtrx['servicio_subida'].str.contains('F13'))\n",
    "                                              &(clean_working_sumtrx['torniquete_mariposa']==1),:]\n",
    "\n",
    "F13_SIN_TORNIQUETE = clean_working_sumtrx.loc[(clean_working_sumtrx['servicio_subida'].str.contains('F13'))\n",
    "                                              &(clean_working_sumtrx['no_torniquete']==1),:]"
   ]
  },
  {
   "cell_type": "code",
   "execution_count": 59,
   "metadata": {
    "collapsed": true
   },
   "outputs": [],
   "source": [
    "grouped_F13_TORNIQUETE = F13_TORNIQUETE.groupby(F13_TORNIQUETE['fecha'])['id_count'].sum()\n",
    "grouped_F13_SIN_TORNIQUETE = F13_SIN_TORNIQUETE.groupby(F13_SIN_TORNIQUETE['fecha'])['id_count'].sum()"
   ]
  },
  {
   "cell_type": "code",
   "execution_count": 60,
   "metadata": {},
   "outputs": [
    {
     "data": {
      "text/plain": [
       "72"
      ]
     },
     "execution_count": 60,
     "metadata": {},
     "output_type": "execute_result"
    }
   ],
   "source": [
    "len(grouped_F13_TORNIQUETE.index)"
   ]
  },
  {
   "cell_type": "code",
   "execution_count": 61,
   "metadata": {},
   "outputs": [
    {
     "data": {
      "text/plain": [
       "72"
      ]
     },
     "execution_count": 61,
     "metadata": {},
     "output_type": "execute_result"
    }
   ],
   "source": [
    "len(grouped_F13_SIN_TORNIQUETE.index)"
   ]
  },
  {
   "cell_type": "code",
   "execution_count": 62,
   "metadata": {
    "collapsed": true
   },
   "outputs": [],
   "source": [
    "grouped_F13_TORNIQUETE.sort_index(ascending = True, inplace = True)\n",
    "grouped_F13_SIN_TORNIQUETE.sort_index(ascending = True, inplace = True)"
   ]
  },
  {
   "cell_type": "code",
   "execution_count": 63,
   "metadata": {},
   "outputs": [
    {
     "data": {
      "text/plain": [
       "<matplotlib.legend.Legend at 0x19f316cfba8>"
      ]
     },
     "execution_count": 63,
     "metadata": {},
     "output_type": "execute_result"
    },
    {
     "data": {
      "image/png": "[encoded data removed]",
      "text/plain": [
       "<matplotlib.figure.Figure at 0x19f31348908>"
      ]
     },
     "metadata": {},
     "output_type": "display_data"
    }
   ],
   "source": [
    "fig_5, ax_5 = plt.subplots()\n",
    "labels = [\"Sin torniquete \", \"Torniquete Mariposa\"]\n",
    "\n",
    "x = grouped_F13_TORNIQUETE.index\n",
    "y_1 = grouped_F13_SIN_TORNIQUETE\n",
    "y_2 = grouped_F13_TORNIQUETE\n",
    "\n",
    "ax_5.stackplot(x, y_1, y_2, labels=labels, colors=colors)\n",
    "\n",
    "\n",
    "fig_5.autofmt_xdate()\n",
    "ax_5.set_title('Transacciones F13, Día completo')\n",
    "ax_5.set_xlabel('Fecha')\n",
    "ax_5.set_ylabel('Transacciones')\n",
    "ax_5.set_autoscaley_on(False)\n",
    "ax_5.legend(loc=3)\n",
    "\n",
    "#plt.savefig('C:/Users/leoca_000/Desktop/Evasion/03_report/02_Figs/3_trxF13OverTime.pdf')"
   ]
  },
  {
   "cell_type": "markdown",
   "metadata": {},
   "source": [
    "* F16"
   ]
  },
  {
   "cell_type": "code",
   "execution_count": 64,
   "metadata": {
    "collapsed": true
   },
   "outputs": [],
   "source": [
    "F16_TORNIQUETE = clean_working_sumtrx.loc[(clean_working_sumtrx['servicio_subida'].str.contains('F16'))\n",
    "                                              &(clean_working_sumtrx['torniquete_mariposa']==1),:]\n",
    "\n",
    "F16_SIN_TORNIQUETE = clean_working_sumtrx.loc[(clean_working_sumtrx['servicio_subida'].str.contains('F16'))\n",
    "                                              &(clean_working_sumtrx['no_torniquete']==1),:]"
   ]
  },
  {
   "cell_type": "code",
   "execution_count": 65,
   "metadata": {
    "collapsed": true
   },
   "outputs": [],
   "source": [
    "grouped_F16_TORNIQUETE = F16_TORNIQUETE.groupby(F16_TORNIQUETE['fecha'])['id_count'].sum()\n",
    "grouped_F16_SIN_TORNIQUETE = F16_SIN_TORNIQUETE.groupby(F16_SIN_TORNIQUETE['fecha'])['id_count'].sum()"
   ]
  },
  {
   "cell_type": "code",
   "execution_count": 66,
   "metadata": {},
   "outputs": [
    {
     "data": {
      "text/plain": [
       "72"
      ]
     },
     "execution_count": 66,
     "metadata": {},
     "output_type": "execute_result"
    }
   ],
   "source": [
    "len(grouped_F16_TORNIQUETE.index)"
   ]
  },
  {
   "cell_type": "code",
   "execution_count": 67,
   "metadata": {},
   "outputs": [
    {
     "data": {
      "text/plain": [
       "72"
      ]
     },
     "execution_count": 67,
     "metadata": {},
     "output_type": "execute_result"
    }
   ],
   "source": [
    "len(grouped_F16_SIN_TORNIQUETE.index)"
   ]
  },
  {
   "cell_type": "code",
   "execution_count": 68,
   "metadata": {
    "collapsed": true
   },
   "outputs": [],
   "source": [
    "grouped_F16_TORNIQUETE.sort_index(ascending = True, inplace = True)\n",
    "grouped_F16_SIN_TORNIQUETE.sort_index(ascending = True, inplace = True)"
   ]
  },
  {
   "cell_type": "code",
   "execution_count": 69,
   "metadata": {},
   "outputs": [
    {
     "data": {
      "text/plain": [
       "<matplotlib.legend.Legend at 0x19f3176b4e0>"
      ]
     },
     "execution_count": 69,
     "metadata": {},
     "output_type": "execute_result"
    },
    {
     "data": {
      "image/png": "[encoded data removed]",
      "text/plain": [
       "<matplotlib.figure.Figure at 0x19f3168b2b0>"
      ]
     },
     "metadata": {},
     "output_type": "display_data"
    }
   ],
   "source": [
    "fig_6, ax_6 = plt.subplots()\n",
    "labels = [\"Sin torniquete \", \"Torniquete Mariposa\"]\n",
    "\n",
    "x = grouped_F16_TORNIQUETE.index\n",
    "y_1 = grouped_F16_SIN_TORNIQUETE\n",
    "y_2 = grouped_F16_TORNIQUETE\n",
    "\n",
    "ax_6.stackplot(x, y_1, y_2, labels=labels, colors=colors)\n",
    "\n",
    "\n",
    "fig_6.autofmt_xdate()\n",
    "ax_6.set_title('Transacciones F16, Día completo')\n",
    "ax_6.set_xlabel('Fecha')\n",
    "ax_6.set_ylabel('Transacciones')\n",
    "ax_6.set_autoscaley_on(False)\n",
    "ax_6.legend(loc=3)\n",
    "\n",
    "#plt.savefig('C:/Users/leoca_000/Desktop/Evasion/03_report/02_Figs/3_trxF16OverTime.pdf')"
   ]
  },
  {
   "cell_type": "markdown",
   "metadata": {},
   "source": [
    "* Some analyses for REDBUS services, WHOLE DAY\n",
    "* B56 (C06)"
   ]
  },
  {
   "cell_type": "code",
   "execution_count": 70,
   "metadata": {
    "collapsed": true
   },
   "outputs": [],
   "source": [
    "B56_TORNIQUETE = clean_working_sumtrx.loc[(clean_working_sumtrx['servicio_subida'].str.contains('B56'))\n",
    "                                              &(clean_working_sumtrx['torniquete_mariposa']==1),:]\n",
    "\n",
    "B56_SIN_TORNIQUETE = clean_working_sumtrx.loc[(clean_working_sumtrx['servicio_subida'].str.contains('B56'))\n",
    "                                              &(clean_working_sumtrx['no_torniquete']==1),:]"
   ]
  },
  {
   "cell_type": "code",
   "execution_count": 71,
   "metadata": {
    "collapsed": true
   },
   "outputs": [],
   "source": [
    "grouped_B56_TORNIQUETE = B56_TORNIQUETE.groupby(B56_TORNIQUETE['fecha'])['id_count'].sum()\n",
    "grouped_B56_SIN_TORNIQUETE = B56_SIN_TORNIQUETE.groupby(B56_SIN_TORNIQUETE['fecha'])['id_count'].sum()"
   ]
  },
  {
   "cell_type": "code",
   "execution_count": 72,
   "metadata": {},
   "outputs": [
    {
     "data": {
      "text/plain": [
       "61"
      ]
     },
     "execution_count": 72,
     "metadata": {},
     "output_type": "execute_result"
    }
   ],
   "source": [
    "len(grouped_B56_TORNIQUETE.index)"
   ]
  },
  {
   "cell_type": "code",
   "execution_count": 73,
   "metadata": {},
   "outputs": [
    {
     "data": {
      "text/plain": [
       "72"
      ]
     },
     "execution_count": 73,
     "metadata": {},
     "output_type": "execute_result"
    }
   ],
   "source": [
    "len(grouped_B56_SIN_TORNIQUETE.index)"
   ]
  },
  {
   "cell_type": "code",
   "execution_count": 74,
   "metadata": {
    "collapsed": true
   },
   "outputs": [],
   "source": [
    "missing_indexes = set(grouped_B56_SIN_TORNIQUETE.index) - (set(grouped_B56_TORNIQUETE.index) & set(grouped_B56_SIN_TORNIQUETE.index))"
   ]
  },
  {
   "cell_type": "code",
   "execution_count": 75,
   "metadata": {
    "collapsed": true
   },
   "outputs": [],
   "source": [
    "for time in missing_indexes:\n",
    "    grouped_B56_TORNIQUETE.at[time] = 0\n"
   ]
  },
  {
   "cell_type": "code",
   "execution_count": 76,
   "metadata": {
    "collapsed": true
   },
   "outputs": [],
   "source": [
    "grouped_B56_TORNIQUETE.sort_index(ascending = True, inplace = True)\n",
    "grouped_B56_SIN_TORNIQUETE.sort_index(ascending = True, inplace = True)"
   ]
  },
  {
   "cell_type": "code",
   "execution_count": 78,
   "metadata": {
    "scrolled": true
   },
   "outputs": [
    {
     "data": {
      "image/png": "[encoded data removed]",
      "text/plain": [
       "<matplotlib.figure.Figure at 0x19f31812320>"
      ]
     },
     "metadata": {},
     "output_type": "display_data"
    }
   ],
   "source": [
    "fig_7, ax_7 = plt.subplots()\n",
    "labels = [\"Sin torniquete \", \"Torniquete Mariposa\"]\n",
    "\n",
    "x = grouped_B56_TORNIQUETE.index\n",
    "y_1 = grouped_B56_SIN_TORNIQUETE\n",
    "y_2 = grouped_B56_TORNIQUETE\n",
    "\n",
    "ax_7.stackplot(x, y_1, y_2, labels=labels, colors=colors)\n",
    "\n",
    "\n",
    "fig_7.autofmt_xdate()\n",
    "ax_7.set_title('Transacciones B56 (C06), Día completo')\n",
    "ax_7.set_xlabel('Fecha')\n",
    "ax_7.set_ylabel('Transacciones')\n",
    "ax_7.set_autoscaley_on(False)\n",
    "ax_7.legend(loc=3)\n",
    "\n",
    "#plt.savefig('C:/Users/leoca_000/Desktop/Evasion/03_report/02_Figs/3_trxB56OverTime.pdf')"
   ]
  },
  {
   "cell_type": "markdown",
   "metadata": {},
   "source": [
    "* B56 PMA"
   ]
  },
  {
   "cell_type": "code",
   "execution_count": 79,
   "metadata": {
    "collapsed": true
   },
   "outputs": [],
   "source": [
    "B56_PMA_TORNIQUETE = clean_working_sumtrx.loc[(clean_working_sumtrx['servicio_subida'].str.contains('B56'))\n",
    "                                              &(clean_working_sumtrx['PERIODO']=='PMA')\n",
    "                                              &(clean_working_sumtrx['torniquete_mariposa']==1),:]\n",
    "\n",
    "B56_PMA_SIN_TORNIQUETE = clean_working_sumtrx.loc[(clean_working_sumtrx['servicio_subida'].str.contains('B56'))\n",
    "                                                  &(clean_working_sumtrx['PERIODO']=='PMA')\n",
    "                                                  &(clean_working_sumtrx['no_torniquete']==1),:]"
   ]
  },
  {
   "cell_type": "code",
   "execution_count": 80,
   "metadata": {
    "collapsed": true
   },
   "outputs": [],
   "source": [
    "grouped_B56_PMA_TORNIQUETE = B56_PMA_TORNIQUETE.groupby(B56_PMA_TORNIQUETE['fecha'])['id_count'].sum()\n",
    "grouped_B56_PMA_SIN_TORNIQUETE = B56_PMA_SIN_TORNIQUETE.groupby(B56_PMA_SIN_TORNIQUETE['fecha'])['id_count'].sum()"
   ]
  },
  {
   "cell_type": "code",
   "execution_count": 81,
   "metadata": {
    "collapsed": true
   },
   "outputs": [],
   "source": [
    "missing_indexes = set(grouped_B56_PMA_SIN_TORNIQUETE.index) - (set(grouped_B56_PMA_TORNIQUETE.index) & set(grouped_B56_PMA_SIN_TORNIQUETE.index))"
   ]
  },
  {
   "cell_type": "code",
   "execution_count": 82,
   "metadata": {
    "collapsed": true
   },
   "outputs": [],
   "source": [
    "for time in missing_indexes:\n",
    "    grouped_B56_PMA_TORNIQUETE.at[time] = 0\n"
   ]
  },
  {
   "cell_type": "code",
   "execution_count": 83,
   "metadata": {
    "collapsed": true
   },
   "outputs": [],
   "source": [
    "grouped_B56_PMA_TORNIQUETE.sort_index(ascending = True, inplace = True)\n",
    "grouped_B56_PMA_SIN_TORNIQUETE.sort_index(ascending = True, inplace = True)"
   ]
  },
  {
   "cell_type": "code",
   "execution_count": 84,
   "metadata": {},
   "outputs": [
    {
     "data": {
      "image/png": "[encoded data removed]",
      "text/plain": [
       "<matplotlib.figure.Figure at 0x19f318f9a90>"
      ]
     },
     "metadata": {},
     "output_type": "display_data"
    }
   ],
   "source": [
    "fig_8, ax_8 = plt.subplots()\n",
    "labels = [\"Sin torniquete \", \"Torniquete Mariposa\"]\n",
    "\n",
    "x = grouped_B56_PMA_TORNIQUETE.index\n",
    "y_1 = grouped_B56_PMA_SIN_TORNIQUETE\n",
    "y_2 = grouped_B56_PMA_TORNIQUETE\n",
    "\n",
    "ax_8.stackplot(x, y_1, y_2, labels=labels, colors=colors)\n",
    "\n",
    "\n",
    "fig_8.autofmt_xdate()\n",
    "ax_8.set_title('Transacciones B56 (C06), PMA')\n",
    "ax_8.set_xlabel('Fecha')\n",
    "ax_8.set_ylabel('Transacciones')\n",
    "ax_8.set_autoscaley_on(False)\n",
    "ax_8.legend(loc=3)\n",
    "\n",
    "plt.savefig('C:/Users/leoca_000/Desktop/Evasion/03_report/02_Figs/3_trxB56PMAOverTime.pdf')"
   ]
  },
  {
   "cell_type": "markdown",
   "metadata": {},
   "source": [
    "* By unidad de negocio"
   ]
  },
  {
   "cell_type": "code",
   "execution_count": 85,
   "metadata": {},
   "outputs": [
    {
     "data": {
      "text/html": [
       "<div>\n",
       "<style>\n",
       "    .dataframe thead tr:only-child th {\n",
       "        text-align: right;\n",
       "    }\n",
       "\n",
       "    .dataframe thead th {\n",
       "        text-align: left;\n",
       "    }\n",
       "\n",
       "    .dataframe tbody tr th {\n",
       "        vertical-align: top;\n",
       "    }\n",
       "</style>\n",
       "<table border=\"1\" class=\"dataframe\">\n",
       "  <thead>\n",
       "    <tr style=\"text-align: right;\">\n",
       "      <th></th>\n",
       "      <th>PERIODO</th>\n",
       "      <th>sitio_subida</th>\n",
       "      <th>servicio_subida</th>\n",
       "      <th>id_count</th>\n",
       "      <th>diferencia_tiempo_secs_specialMean</th>\n",
       "      <th>TS_CODE</th>\n",
       "      <th>DIRECTION</th>\n",
       "      <th>UN_x</th>\n",
       "      <th>USER_CODE</th>\n",
       "      <th>fecha_instalacion_ana</th>\n",
       "      <th>fecha_instalacion_mauricio</th>\n",
       "      <th>min_fecha</th>\n",
       "      <th>torniquete_mariposa</th>\n",
       "      <th>no_torniquete</th>\n",
       "      <th>fecha</th>\n",
       "    </tr>\n",
       "  </thead>\n",
       "  <tbody>\n",
       "    <tr>\n",
       "      <th>0</th>\n",
       "      <td>FPMA</td>\n",
       "      <td>BBJZ-76</td>\n",
       "      <td>F07 00I</td>\n",
       "      <td>21</td>\n",
       "      <td>8.600000</td>\n",
       "      <td>F07</td>\n",
       "      <td>Ida</td>\n",
       "      <td>7.0</td>\n",
       "      <td>F07</td>\n",
       "      <td>2016-11-01 00:00:00</td>\n",
       "      <td>2016-11-01 00:00:00</td>\n",
       "      <td>2016-11-01 00:00:00</td>\n",
       "      <td>1</td>\n",
       "      <td>0</td>\n",
       "      <td>2017-03-01</td>\n",
       "    </tr>\n",
       "    <tr>\n",
       "      <th>1</th>\n",
       "      <td>FPMA</td>\n",
       "      <td>BBJZ-76</td>\n",
       "      <td>F07 00R</td>\n",
       "      <td>3</td>\n",
       "      <td>NaN</td>\n",
       "      <td>F07</td>\n",
       "      <td>Ret</td>\n",
       "      <td>7.0</td>\n",
       "      <td>F07</td>\n",
       "      <td>2016-11-01 00:00:00</td>\n",
       "      <td>2016-11-01 00:00:00</td>\n",
       "      <td>2016-11-01 00:00:00</td>\n",
       "      <td>1</td>\n",
       "      <td>0</td>\n",
       "      <td>2017-03-01</td>\n",
       "    </tr>\n",
       "    <tr>\n",
       "      <th>2</th>\n",
       "      <td>FPMA</td>\n",
       "      <td>BBKB-11</td>\n",
       "      <td>F03 C0 06I</td>\n",
       "      <td>26</td>\n",
       "      <td>4.722222</td>\n",
       "      <td>F03</td>\n",
       "      <td>Ida</td>\n",
       "      <td>7.0</td>\n",
       "      <td>F03</td>\n",
       "      <td>NaN</td>\n",
       "      <td>NaN</td>\n",
       "      <td>NaN</td>\n",
       "      <td>0</td>\n",
       "      <td>1</td>\n",
       "      <td>2017-03-01</td>\n",
       "    </tr>\n",
       "    <tr>\n",
       "      <th>3</th>\n",
       "      <td>FPMA</td>\n",
       "      <td>BBKB-11</td>\n",
       "      <td>F03 C0 06R</td>\n",
       "      <td>28</td>\n",
       "      <td>2.937500</td>\n",
       "      <td>F03</td>\n",
       "      <td>Ret</td>\n",
       "      <td>7.0</td>\n",
       "      <td>F03</td>\n",
       "      <td>NaN</td>\n",
       "      <td>NaN</td>\n",
       "      <td>NaN</td>\n",
       "      <td>0</td>\n",
       "      <td>1</td>\n",
       "      <td>2017-03-01</td>\n",
       "    </tr>\n",
       "    <tr>\n",
       "      <th>4</th>\n",
       "      <td>FPMA</td>\n",
       "      <td>BBKB-12</td>\n",
       "      <td>F11 07I</td>\n",
       "      <td>18</td>\n",
       "      <td>4.636364</td>\n",
       "      <td>F11</td>\n",
       "      <td>Ida</td>\n",
       "      <td>7.0</td>\n",
       "      <td>F11</td>\n",
       "      <td>NaN</td>\n",
       "      <td>NaN</td>\n",
       "      <td>NaN</td>\n",
       "      <td>0</td>\n",
       "      <td>1</td>\n",
       "      <td>2017-03-01</td>\n",
       "    </tr>\n",
       "  </tbody>\n",
       "</table>\n",
       "</div>"
      ],
      "text/plain": [
       "  PERIODO sitio_subida servicio_subida  id_count  \\\n",
       "0    FPMA      BBJZ-76         F07 00I        21   \n",
       "1    FPMA      BBJZ-76         F07 00R         3   \n",
       "2    FPMA      BBKB-11      F03 C0 06I        26   \n",
       "3    FPMA      BBKB-11      F03 C0 06R        28   \n",
       "4    FPMA      BBKB-12         F11 07I        18   \n",
       "\n",
       "   diferencia_tiempo_secs_specialMean TS_CODE DIRECTION  UN_x USER_CODE  \\\n",
       "0                            8.600000     F07       Ida   7.0       F07   \n",
       "1                                 NaN     F07       Ret   7.0       F07   \n",
       "2                            4.722222     F03       Ida   7.0       F03   \n",
       "3                            2.937500     F03       Ret   7.0       F03   \n",
       "4                            4.636364     F11       Ida   7.0       F11   \n",
       "\n",
       "  fecha_instalacion_ana fecha_instalacion_mauricio            min_fecha  \\\n",
       "0   2016-11-01 00:00:00        2016-11-01 00:00:00  2016-11-01 00:00:00   \n",
       "1   2016-11-01 00:00:00        2016-11-01 00:00:00  2016-11-01 00:00:00   \n",
       "2                   NaN                        NaN                  NaN   \n",
       "3                   NaN                        NaN                  NaN   \n",
       "4                   NaN                        NaN                  NaN   \n",
       "\n",
       "   torniquete_mariposa  no_torniquete      fecha  \n",
       "0                    1              0 2017-03-01  \n",
       "1                    1              0 2017-03-01  \n",
       "2                    0              1 2017-03-01  \n",
       "3                    0              1 2017-03-01  \n",
       "4                    0              1 2017-03-01  "
      ]
     },
     "execution_count": 85,
     "metadata": {},
     "output_type": "execute_result"
    }
   ],
   "source": [
    "clean_working_sumtrx.head()"
   ]
  },
  {
   "cell_type": "markdown",
   "metadata": {},
   "source": [
    "UN1"
   ]
  },
  {
   "cell_type": "code",
   "execution_count": 86,
   "metadata": {
    "collapsed": true
   },
   "outputs": [],
   "source": [
    "UN1_TORNIQUETE = clean_working_sumtrx.loc[(clean_working_sumtrx['UN_x']==1.0)\n",
    "                                          &(clean_working_sumtrx['torniquete_mariposa']==1),:]\n",
    "\n",
    "UN1_SIN_TORNIQUETE = clean_working_sumtrx.loc[(clean_working_sumtrx['UN_x']==1.0)\n",
    "                                              &(clean_working_sumtrx['no_torniquete']==1),:]"
   ]
  },
  {
   "cell_type": "code",
   "execution_count": 87,
   "metadata": {
    "collapsed": true
   },
   "outputs": [],
   "source": [
    "grouped_UN1_TORNIQUETE = UN1_TORNIQUETE.groupby(UN1_TORNIQUETE['fecha'])['id_count'].sum()\n",
    "grouped_UN1_SIN_TORNIQUETE = UN1_SIN_TORNIQUETE.groupby(UN1_SIN_TORNIQUETE['fecha'])['id_count'].sum()"
   ]
  },
  {
   "cell_type": "code",
   "execution_count": 88,
   "metadata": {},
   "outputs": [
    {
     "data": {
      "text/plain": [
       "39"
      ]
     },
     "execution_count": 88,
     "metadata": {},
     "output_type": "execute_result"
    }
   ],
   "source": [
    "len(grouped_UN1_TORNIQUETE.index)"
   ]
  },
  {
   "cell_type": "code",
   "execution_count": 89,
   "metadata": {},
   "outputs": [
    {
     "data": {
      "text/plain": [
       "72"
      ]
     },
     "execution_count": 89,
     "metadata": {},
     "output_type": "execute_result"
    }
   ],
   "source": [
    "len(grouped_UN1_SIN_TORNIQUETE.index)"
   ]
  },
  {
   "cell_type": "code",
   "execution_count": 90,
   "metadata": {
    "collapsed": true
   },
   "outputs": [],
   "source": [
    "missing_indexes = set(grouped_UN1_SIN_TORNIQUETE.index) - (set(grouped_UN1_TORNIQUETE.index) & set(grouped_UN1_SIN_TORNIQUETE.index))"
   ]
  },
  {
   "cell_type": "code",
   "execution_count": 91,
   "metadata": {
    "collapsed": true
   },
   "outputs": [],
   "source": [
    "for time in missing_indexes:\n",
    "    grouped_UN1_TORNIQUETE.at[time] = 0\n"
   ]
  },
  {
   "cell_type": "code",
   "execution_count": 92,
   "metadata": {
    "collapsed": true
   },
   "outputs": [],
   "source": [
    "grouped_UN1_TORNIQUETE.sort_index(ascending = True, inplace = True)\n",
    "grouped_UN1_SIN_TORNIQUETE.sort_index(ascending = True, inplace = True)"
   ]
  },
  {
   "cell_type": "code",
   "execution_count": 93,
   "metadata": {},
   "outputs": [
    {
     "data": {
      "image/png": "[encoded data removed]",
      "text/plain": [
       "<matplotlib.figure.Figure at 0x19f36464128>"
      ]
     },
     "metadata": {},
     "output_type": "display_data"
    }
   ],
   "source": [
    "fig_9, ax_9 = plt.subplots()\n",
    "labels = [\"Sin torniquete \", \"Torniquete Mariposa\"]\n",
    "\n",
    "x = grouped_UN1_TORNIQUETE.index\n",
    "y_1 = grouped_UN1_SIN_TORNIQUETE\n",
    "y_2 = grouped_UN1_TORNIQUETE\n",
    "\n",
    "ax_9.stackplot(x, y_1, y_2, labels=labels, colors=colors)\n",
    "\n",
    "\n",
    "fig_9.autofmt_xdate()\n",
    "ax_9.set_title('Transacciones UN1, Día Completo')\n",
    "ax_9.set_xlabel('Fecha')\n",
    "ax_9.set_ylabel('Transacciones')\n",
    "ax_9.set_autoscaley_on(False)\n",
    "ax_9.legend(loc=3)\n",
    "\n",
    "plt.savefig('C:/Users/leoca_000/Desktop/Evasion/03_report/02_Figs/3_trxUN1OverTime.pdf')"
   ]
  },
  {
   "cell_type": "markdown",
   "metadata": {},
   "source": [
    "UN2"
   ]
  },
  {
   "cell_type": "code",
   "execution_count": 94,
   "metadata": {
    "collapsed": true
   },
   "outputs": [],
   "source": [
    "UN2_TORNIQUETE = clean_working_sumtrx.loc[(clean_working_sumtrx['UN_x']==2.0)\n",
    "                                          &(clean_working_sumtrx['torniquete_mariposa']==1),:]\n",
    "\n",
    "UN2_SIN_TORNIQUETE = clean_working_sumtrx.loc[(clean_working_sumtrx['UN_x']==2.0)\n",
    "                                              &(clean_working_sumtrx['no_torniquete']==1),:]"
   ]
  },
  {
   "cell_type": "code",
   "execution_count": 95,
   "metadata": {
    "collapsed": true
   },
   "outputs": [],
   "source": [
    "grouped_UN2_TORNIQUETE = UN2_TORNIQUETE.groupby(UN2_TORNIQUETE['fecha'])['id_count'].sum()\n",
    "grouped_UN2_SIN_TORNIQUETE = UN2_SIN_TORNIQUETE.groupby(UN2_SIN_TORNIQUETE['fecha'])['id_count'].sum()"
   ]
  },
  {
   "cell_type": "code",
   "execution_count": 96,
   "metadata": {},
   "outputs": [
    {
     "data": {
      "text/plain": [
       "72"
      ]
     },
     "execution_count": 96,
     "metadata": {},
     "output_type": "execute_result"
    }
   ],
   "source": [
    "len(grouped_UN2_TORNIQUETE.index)"
   ]
  },
  {
   "cell_type": "code",
   "execution_count": 97,
   "metadata": {},
   "outputs": [
    {
     "data": {
      "text/plain": [
       "0"
      ]
     },
     "execution_count": 97,
     "metadata": {},
     "output_type": "execute_result"
    }
   ],
   "source": [
    "len(grouped_UN2_SIN_TORNIQUETE.index)"
   ]
  },
  {
   "cell_type": "code",
   "execution_count": 99,
   "metadata": {},
   "outputs": [
    {
     "data": {
      "text/html": [
       "<div>\n",
       "<style>\n",
       "    .dataframe thead tr:only-child th {\n",
       "        text-align: right;\n",
       "    }\n",
       "\n",
       "    .dataframe thead th {\n",
       "        text-align: left;\n",
       "    }\n",
       "\n",
       "    .dataframe tbody tr th {\n",
       "        vertical-align: top;\n",
       "    }\n",
       "</style>\n",
       "<table border=\"1\" class=\"dataframe\">\n",
       "  <thead>\n",
       "    <tr style=\"text-align: right;\">\n",
       "      <th></th>\n",
       "      <th>PERIODO</th>\n",
       "      <th>sitio_subida</th>\n",
       "      <th>servicio_subida</th>\n",
       "      <th>id_count</th>\n",
       "      <th>diferencia_tiempo_secs_specialMean</th>\n",
       "      <th>TS_CODE</th>\n",
       "      <th>DIRECTION</th>\n",
       "      <th>UN_x</th>\n",
       "      <th>USER_CODE</th>\n",
       "      <th>fecha_instalacion_ana</th>\n",
       "      <th>fecha_instalacion_mauricio</th>\n",
       "      <th>min_fecha</th>\n",
       "      <th>torniquete_mariposa</th>\n",
       "      <th>no_torniquete</th>\n",
       "      <th>fecha</th>\n",
       "    </tr>\n",
       "  </thead>\n",
       "  <tbody>\n",
       "  </tbody>\n",
       "</table>\n",
       "</div>"
      ],
      "text/plain": [
       "Empty DataFrame\n",
       "Columns: [PERIODO, sitio_subida, servicio_subida, id_count, diferencia_tiempo_secs_specialMean, TS_CODE, DIRECTION, UN_x, USER_CODE, fecha_instalacion_ana, fecha_instalacion_mauricio, min_fecha, torniquete_mariposa, no_torniquete, fecha]\n",
       "Index: []"
      ]
     },
     "execution_count": 99,
     "metadata": {},
     "output_type": "execute_result"
    }
   ],
   "source": [
    "clean_working_sumtrx.loc[(clean_working_sumtrx['UN_x']==2.0)\n",
    "                                              &(clean_working_sumtrx['no_torniquete']==1),:]"
   ]
  },
  {
   "cell_type": "code",
   "execution_count": 100,
   "metadata": {},
   "outputs": [
    {
     "data": {
      "text/html": [
       "<div>\n",
       "<style>\n",
       "    .dataframe thead tr:only-child th {\n",
       "        text-align: right;\n",
       "    }\n",
       "\n",
       "    .dataframe thead th {\n",
       "        text-align: left;\n",
       "    }\n",
       "\n",
       "    .dataframe tbody tr th {\n",
       "        vertical-align: top;\n",
       "    }\n",
       "</style>\n",
       "<table border=\"1\" class=\"dataframe\">\n",
       "  <thead>\n",
       "    <tr style=\"text-align: right;\">\n",
       "      <th></th>\n",
       "      <th>PERIODO</th>\n",
       "      <th>sitio_subida</th>\n",
       "      <th>servicio_subida</th>\n",
       "      <th>id_count</th>\n",
       "      <th>diferencia_tiempo_secs_specialMean</th>\n",
       "      <th>TS_CODE</th>\n",
       "      <th>DIRECTION</th>\n",
       "      <th>UN_x</th>\n",
       "      <th>USER_CODE</th>\n",
       "      <th>fecha_instalacion_ana</th>\n",
       "      <th>fecha_instalacion_mauricio</th>\n",
       "      <th>min_fecha</th>\n",
       "      <th>torniquete_mariposa</th>\n",
       "      <th>no_torniquete</th>\n",
       "      <th>fecha</th>\n",
       "    </tr>\n",
       "  </thead>\n",
       "  <tbody>\n",
       "    <tr>\n",
       "      <th>3765</th>\n",
       "      <td>FPMA</td>\n",
       "      <td>CJRL-25</td>\n",
       "      <td>T231 09I</td>\n",
       "      <td>35</td>\n",
       "      <td>5.200000</td>\n",
       "      <td>231</td>\n",
       "      <td>Ida</td>\n",
       "      <td>2.0</td>\n",
       "      <td>G01</td>\n",
       "      <td>2015-05-07 00:00:00</td>\n",
       "      <td>1900-01-01 00:00:00</td>\n",
       "      <td>1900-01-01 00:00:00</td>\n",
       "      <td>1</td>\n",
       "      <td>0</td>\n",
       "      <td>2017-03-01</td>\n",
       "    </tr>\n",
       "    <tr>\n",
       "      <th>3766</th>\n",
       "      <td>FPMA</td>\n",
       "      <td>CJRL-25</td>\n",
       "      <td>T231 09R</td>\n",
       "      <td>31</td>\n",
       "      <td>6.588235</td>\n",
       "      <td>231</td>\n",
       "      <td>Ret</td>\n",
       "      <td>2.0</td>\n",
       "      <td>G01</td>\n",
       "      <td>2015-05-07 00:00:00</td>\n",
       "      <td>1900-01-01 00:00:00</td>\n",
       "      <td>1900-01-01 00:00:00</td>\n",
       "      <td>1</td>\n",
       "      <td>0</td>\n",
       "      <td>2017-03-01</td>\n",
       "    </tr>\n",
       "    <tr>\n",
       "      <th>3780</th>\n",
       "      <td>FPMA</td>\n",
       "      <td>CJRL-37</td>\n",
       "      <td>T232 00R</td>\n",
       "      <td>4</td>\n",
       "      <td>NaN</td>\n",
       "      <td>232</td>\n",
       "      <td>Ret</td>\n",
       "      <td>2.0</td>\n",
       "      <td>G02</td>\n",
       "      <td>2015-05-07 00:00:00</td>\n",
       "      <td>1900-01-01 00:00:00</td>\n",
       "      <td>1900-01-01 00:00:00</td>\n",
       "      <td>1</td>\n",
       "      <td>0</td>\n",
       "      <td>2017-03-01</td>\n",
       "    </tr>\n",
       "    <tr>\n",
       "      <th>3782</th>\n",
       "      <td>FPMA</td>\n",
       "      <td>CJRL-39</td>\n",
       "      <td>T235 00I</td>\n",
       "      <td>3</td>\n",
       "      <td>NaN</td>\n",
       "      <td>235</td>\n",
       "      <td>Ida</td>\n",
       "      <td>2.0</td>\n",
       "      <td>G05</td>\n",
       "      <td>2017-01-18 00:00:00</td>\n",
       "      <td>1900-01-01 00:00:00</td>\n",
       "      <td>1900-01-01 00:00:00</td>\n",
       "      <td>1</td>\n",
       "      <td>0</td>\n",
       "      <td>2017-03-01</td>\n",
       "    </tr>\n",
       "    <tr>\n",
       "      <th>3783</th>\n",
       "      <td>FPMA</td>\n",
       "      <td>CJRL-39</td>\n",
       "      <td>T235 00R</td>\n",
       "      <td>22</td>\n",
       "      <td>5.777778</td>\n",
       "      <td>235</td>\n",
       "      <td>Ret</td>\n",
       "      <td>2.0</td>\n",
       "      <td>G05</td>\n",
       "      <td>2017-01-18 00:00:00</td>\n",
       "      <td>1900-01-01 00:00:00</td>\n",
       "      <td>1900-01-01 00:00:00</td>\n",
       "      <td>1</td>\n",
       "      <td>0</td>\n",
       "      <td>2017-03-01</td>\n",
       "    </tr>\n",
       "    <tr>\n",
       "      <th>3784</th>\n",
       "      <td>FPMA</td>\n",
       "      <td>CJRL-42</td>\n",
       "      <td>T244 00I</td>\n",
       "      <td>1</td>\n",
       "      <td>NaN</td>\n",
       "      <td>244</td>\n",
       "      <td>Ida</td>\n",
       "      <td>2.0</td>\n",
       "      <td>G14</td>\n",
       "      <td>2017-02-15 00:00:00</td>\n",
       "      <td>1900-01-01 00:00:00</td>\n",
       "      <td>1900-01-01 00:00:00</td>\n",
       "      <td>1</td>\n",
       "      <td>0</td>\n",
       "      <td>2017-03-01</td>\n",
       "    </tr>\n",
       "    <tr>\n",
       "      <th>3785</th>\n",
       "      <td>FPMA</td>\n",
       "      <td>CJRL-42</td>\n",
       "      <td>T244 00R</td>\n",
       "      <td>17</td>\n",
       "      <td>4.714286</td>\n",
       "      <td>244</td>\n",
       "      <td>Ret</td>\n",
       "      <td>2.0</td>\n",
       "      <td>G14</td>\n",
       "      <td>2017-02-15 00:00:00</td>\n",
       "      <td>1900-01-01 00:00:00</td>\n",
       "      <td>1900-01-01 00:00:00</td>\n",
       "      <td>1</td>\n",
       "      <td>0</td>\n",
       "      <td>2017-03-01</td>\n",
       "    </tr>\n",
       "    <tr>\n",
       "      <th>3786</th>\n",
       "      <td>FPMA</td>\n",
       "      <td>CJRL-43</td>\n",
       "      <td>T244 00I</td>\n",
       "      <td>2</td>\n",
       "      <td>NaN</td>\n",
       "      <td>244</td>\n",
       "      <td>Ida</td>\n",
       "      <td>2.0</td>\n",
       "      <td>G14</td>\n",
       "      <td>2015-05-08 00:00:00</td>\n",
       "      <td>1900-01-01 00:00:00</td>\n",
       "      <td>1900-01-01 00:00:00</td>\n",
       "      <td>1</td>\n",
       "      <td>0</td>\n",
       "      <td>2017-03-01</td>\n",
       "    </tr>\n",
       "    <tr>\n",
       "      <th>3787</th>\n",
       "      <td>FPMA</td>\n",
       "      <td>CJRL-43</td>\n",
       "      <td>T244 00R</td>\n",
       "      <td>16</td>\n",
       "      <td>9.000000</td>\n",
       "      <td>244</td>\n",
       "      <td>Ret</td>\n",
       "      <td>2.0</td>\n",
       "      <td>G14</td>\n",
       "      <td>2015-05-08 00:00:00</td>\n",
       "      <td>1900-01-01 00:00:00</td>\n",
       "      <td>1900-01-01 00:00:00</td>\n",
       "      <td>1</td>\n",
       "      <td>0</td>\n",
       "      <td>2017-03-01</td>\n",
       "    </tr>\n",
       "    <tr>\n",
       "      <th>3790</th>\n",
       "      <td>FPMA</td>\n",
       "      <td>CJRL-45</td>\n",
       "      <td>T239 00R</td>\n",
       "      <td>16</td>\n",
       "      <td>7.000000</td>\n",
       "      <td>239</td>\n",
       "      <td>Ret</td>\n",
       "      <td>2.0</td>\n",
       "      <td>G09</td>\n",
       "      <td>2015-05-06 00:00:00</td>\n",
       "      <td>1900-01-01 00:00:00</td>\n",
       "      <td>1900-01-01 00:00:00</td>\n",
       "      <td>1</td>\n",
       "      <td>0</td>\n",
       "      <td>2017-03-01</td>\n",
       "    </tr>\n",
       "    <tr>\n",
       "      <th>3793</th>\n",
       "      <td>FPMA</td>\n",
       "      <td>CJRL-48</td>\n",
       "      <td>T244 00I</td>\n",
       "      <td>18</td>\n",
       "      <td>7.571429</td>\n",
       "      <td>244</td>\n",
       "      <td>Ida</td>\n",
       "      <td>2.0</td>\n",
       "      <td>G14</td>\n",
       "      <td>2017-01-19 00:00:00</td>\n",
       "      <td>1900-01-01 00:00:00</td>\n",
       "      <td>1900-01-01 00:00:00</td>\n",
       "      <td>1</td>\n",
       "      <td>0</td>\n",
       "      <td>2017-03-01</td>\n",
       "    </tr>\n",
       "    <tr>\n",
       "      <th>3794</th>\n",
       "      <td>FPMA</td>\n",
       "      <td>CJRL-48</td>\n",
       "      <td>T244 00R</td>\n",
       "      <td>15</td>\n",
       "      <td>6.666667</td>\n",
       "      <td>244</td>\n",
       "      <td>Ret</td>\n",
       "      <td>2.0</td>\n",
       "      <td>G14</td>\n",
       "      <td>2017-01-19 00:00:00</td>\n",
       "      <td>1900-01-01 00:00:00</td>\n",
       "      <td>1900-01-01 00:00:00</td>\n",
       "      <td>1</td>\n",
       "      <td>0</td>\n",
       "      <td>2017-03-01</td>\n",
       "    </tr>\n",
       "    <tr>\n",
       "      <th>3797</th>\n",
       "      <td>FPMA</td>\n",
       "      <td>CJRL-51</td>\n",
       "      <td>T239 00I</td>\n",
       "      <td>14</td>\n",
       "      <td>6.166667</td>\n",
       "      <td>239</td>\n",
       "      <td>Ida</td>\n",
       "      <td>2.0</td>\n",
       "      <td>G09</td>\n",
       "      <td>2015-05-08 00:00:00</td>\n",
       "      <td>1900-01-01 00:00:00</td>\n",
       "      <td>1900-01-01 00:00:00</td>\n",
       "      <td>1</td>\n",
       "      <td>0</td>\n",
       "      <td>2017-03-01</td>\n",
       "    </tr>\n",
       "    <tr>\n",
       "      <th>3799</th>\n",
       "      <td>FPMA</td>\n",
       "      <td>CJRL-53</td>\n",
       "      <td>T239 00R</td>\n",
       "      <td>6</td>\n",
       "      <td>9.000000</td>\n",
       "      <td>239</td>\n",
       "      <td>Ret</td>\n",
       "      <td>2.0</td>\n",
       "      <td>G09</td>\n",
       "      <td>2015-05-08 00:00:00</td>\n",
       "      <td>1900-01-01 00:00:00</td>\n",
       "      <td>1900-01-01 00:00:00</td>\n",
       "      <td>1</td>\n",
       "      <td>0</td>\n",
       "      <td>2017-03-01</td>\n",
       "    </tr>\n",
       "    <tr>\n",
       "      <th>3825</th>\n",
       "      <td>FPMA</td>\n",
       "      <td>CJRL-70</td>\n",
       "      <td>T232 00I</td>\n",
       "      <td>18</td>\n",
       "      <td>7.166667</td>\n",
       "      <td>232</td>\n",
       "      <td>Ida</td>\n",
       "      <td>2.0</td>\n",
       "      <td>G02</td>\n",
       "      <td>2015-05-08 00:00:00</td>\n",
       "      <td>1900-01-01 00:00:00</td>\n",
       "      <td>1900-01-01 00:00:00</td>\n",
       "      <td>1</td>\n",
       "      <td>0</td>\n",
       "      <td>2017-03-01</td>\n",
       "    </tr>\n",
       "    <tr>\n",
       "      <th>3826</th>\n",
       "      <td>FPMA</td>\n",
       "      <td>CJRL-70</td>\n",
       "      <td>T232 00R</td>\n",
       "      <td>15</td>\n",
       "      <td>7.250000</td>\n",
       "      <td>232</td>\n",
       "      <td>Ret</td>\n",
       "      <td>2.0</td>\n",
       "      <td>G02</td>\n",
       "      <td>2015-05-08 00:00:00</td>\n",
       "      <td>1900-01-01 00:00:00</td>\n",
       "      <td>1900-01-01 00:00:00</td>\n",
       "      <td>1</td>\n",
       "      <td>0</td>\n",
       "      <td>2017-03-01</td>\n",
       "    </tr>\n",
       "    <tr>\n",
       "      <th>3830</th>\n",
       "      <td>FPMA</td>\n",
       "      <td>CJRL-72</td>\n",
       "      <td>T241 00I</td>\n",
       "      <td>17</td>\n",
       "      <td>7.750000</td>\n",
       "      <td>241</td>\n",
       "      <td>Ida</td>\n",
       "      <td>2.0</td>\n",
       "      <td>G11</td>\n",
       "      <td>2016-12-27 00:00:00</td>\n",
       "      <td>1900-01-01 00:00:00</td>\n",
       "      <td>1900-01-01 00:00:00</td>\n",
       "      <td>1</td>\n",
       "      <td>0</td>\n",
       "      <td>2017-03-01</td>\n",
       "    </tr>\n",
       "    <tr>\n",
       "      <th>3831</th>\n",
       "      <td>FPMA</td>\n",
       "      <td>CJRL-72</td>\n",
       "      <td>T241 00R</td>\n",
       "      <td>6</td>\n",
       "      <td>NaN</td>\n",
       "      <td>241</td>\n",
       "      <td>Ret</td>\n",
       "      <td>2.0</td>\n",
       "      <td>G11</td>\n",
       "      <td>2016-12-27 00:00:00</td>\n",
       "      <td>1900-01-01 00:00:00</td>\n",
       "      <td>1900-01-01 00:00:00</td>\n",
       "      <td>1</td>\n",
       "      <td>0</td>\n",
       "      <td>2017-03-01</td>\n",
       "    </tr>\n",
       "    <tr>\n",
       "      <th>3832</th>\n",
       "      <td>FPMA</td>\n",
       "      <td>CJRL-72</td>\n",
       "      <td>T246 07R</td>\n",
       "      <td>7</td>\n",
       "      <td>4.500000</td>\n",
       "      <td>246</td>\n",
       "      <td>Ret</td>\n",
       "      <td>2.0</td>\n",
       "      <td>G16</td>\n",
       "      <td>2016-12-27 00:00:00</td>\n",
       "      <td>1900-01-01 00:00:00</td>\n",
       "      <td>1900-01-01 00:00:00</td>\n",
       "      <td>1</td>\n",
       "      <td>0</td>\n",
       "      <td>2017-03-01</td>\n",
       "    </tr>\n",
       "    <tr>\n",
       "      <th>3838</th>\n",
       "      <td>FPMA</td>\n",
       "      <td>CJRL-77</td>\n",
       "      <td>T246 07I</td>\n",
       "      <td>5</td>\n",
       "      <td>5.000000</td>\n",
       "      <td>246</td>\n",
       "      <td>Ida</td>\n",
       "      <td>2.0</td>\n",
       "      <td>G16</td>\n",
       "      <td>2016-12-19 00:00:00</td>\n",
       "      <td>1900-01-01 00:00:00</td>\n",
       "      <td>1900-01-01 00:00:00</td>\n",
       "      <td>1</td>\n",
       "      <td>0</td>\n",
       "      <td>2017-03-01</td>\n",
       "    </tr>\n",
       "    <tr>\n",
       "      <th>3839</th>\n",
       "      <td>FPMA</td>\n",
       "      <td>CJRL-77</td>\n",
       "      <td>T246 07R</td>\n",
       "      <td>22</td>\n",
       "      <td>4.125000</td>\n",
       "      <td>246</td>\n",
       "      <td>Ret</td>\n",
       "      <td>2.0</td>\n",
       "      <td>G16</td>\n",
       "      <td>2016-12-19 00:00:00</td>\n",
       "      <td>1900-01-01 00:00:00</td>\n",
       "      <td>1900-01-01 00:00:00</td>\n",
       "      <td>1</td>\n",
       "      <td>0</td>\n",
       "      <td>2017-03-01</td>\n",
       "    </tr>\n",
       "    <tr>\n",
       "      <th>3856</th>\n",
       "      <td>FPMA</td>\n",
       "      <td>CJRL-90</td>\n",
       "      <td>T243 07I</td>\n",
       "      <td>8</td>\n",
       "      <td>15.000000</td>\n",
       "      <td>243</td>\n",
       "      <td>Ida</td>\n",
       "      <td>2.0</td>\n",
       "      <td>G13</td>\n",
       "      <td>2017-02-16 00:00:00</td>\n",
       "      <td>1900-01-01 00:00:00</td>\n",
       "      <td>1900-01-01 00:00:00</td>\n",
       "      <td>1</td>\n",
       "      <td>0</td>\n",
       "      <td>2017-03-01</td>\n",
       "    </tr>\n",
       "    <tr>\n",
       "      <th>3857</th>\n",
       "      <td>FPMA</td>\n",
       "      <td>CJRL-90</td>\n",
       "      <td>T243 07R</td>\n",
       "      <td>12</td>\n",
       "      <td>6.500000</td>\n",
       "      <td>243</td>\n",
       "      <td>Ret</td>\n",
       "      <td>2.0</td>\n",
       "      <td>G13</td>\n",
       "      <td>2017-02-16 00:00:00</td>\n",
       "      <td>1900-01-01 00:00:00</td>\n",
       "      <td>1900-01-01 00:00:00</td>\n",
       "      <td>1</td>\n",
       "      <td>0</td>\n",
       "      <td>2017-03-01</td>\n",
       "    </tr>\n",
       "    <tr>\n",
       "      <th>3860</th>\n",
       "      <td>FPMA</td>\n",
       "      <td>CJRL-92</td>\n",
       "      <td>T232 00R</td>\n",
       "      <td>13</td>\n",
       "      <td>5.000000</td>\n",
       "      <td>232</td>\n",
       "      <td>Ret</td>\n",
       "      <td>2.0</td>\n",
       "      <td>G02</td>\n",
       "      <td>2015-05-07 00:00:00</td>\n",
       "      <td>1900-01-01 00:00:00</td>\n",
       "      <td>1900-01-01 00:00:00</td>\n",
       "      <td>1</td>\n",
       "      <td>0</td>\n",
       "      <td>2017-03-01</td>\n",
       "    </tr>\n",
       "    <tr>\n",
       "      <th>3910</th>\n",
       "      <td>FPMA</td>\n",
       "      <td>CJRP-37</td>\n",
       "      <td>T242 00I</td>\n",
       "      <td>23</td>\n",
       "      <td>7.444444</td>\n",
       "      <td>242</td>\n",
       "      <td>Ida</td>\n",
       "      <td>2.0</td>\n",
       "      <td>G12</td>\n",
       "      <td>2017-01-17 00:00:00</td>\n",
       "      <td>1900-01-01 00:00:00</td>\n",
       "      <td>1900-01-01 00:00:00</td>\n",
       "      <td>1</td>\n",
       "      <td>0</td>\n",
       "      <td>2017-03-01</td>\n",
       "    </tr>\n",
       "    <tr>\n",
       "      <th>3911</th>\n",
       "      <td>FPMA</td>\n",
       "      <td>CJRP-37</td>\n",
       "      <td>T242 00R</td>\n",
       "      <td>30</td>\n",
       "      <td>8.625000</td>\n",
       "      <td>242</td>\n",
       "      <td>Ret</td>\n",
       "      <td>2.0</td>\n",
       "      <td>G12</td>\n",
       "      <td>2017-01-17 00:00:00</td>\n",
       "      <td>1900-01-01 00:00:00</td>\n",
       "      <td>1900-01-01 00:00:00</td>\n",
       "      <td>1</td>\n",
       "      <td>0</td>\n",
       "      <td>2017-03-01</td>\n",
       "    </tr>\n",
       "    <tr>\n",
       "      <th>3921</th>\n",
       "      <td>FPMA</td>\n",
       "      <td>CJRP-49</td>\n",
       "      <td>T243 07I</td>\n",
       "      <td>1</td>\n",
       "      <td>NaN</td>\n",
       "      <td>243</td>\n",
       "      <td>Ida</td>\n",
       "      <td>2.0</td>\n",
       "      <td>G13</td>\n",
       "      <td>2015-05-05 00:00:00</td>\n",
       "      <td>1900-01-01 00:00:00</td>\n",
       "      <td>1900-01-01 00:00:00</td>\n",
       "      <td>1</td>\n",
       "      <td>0</td>\n",
       "      <td>2017-03-01</td>\n",
       "    </tr>\n",
       "    <tr>\n",
       "      <th>3922</th>\n",
       "      <td>FPMA</td>\n",
       "      <td>CJRP-49</td>\n",
       "      <td>T243 07R</td>\n",
       "      <td>20</td>\n",
       "      <td>4.500000</td>\n",
       "      <td>243</td>\n",
       "      <td>Ret</td>\n",
       "      <td>2.0</td>\n",
       "      <td>G13</td>\n",
       "      <td>2015-05-05 00:00:00</td>\n",
       "      <td>1900-01-01 00:00:00</td>\n",
       "      <td>1900-01-01 00:00:00</td>\n",
       "      <td>1</td>\n",
       "      <td>0</td>\n",
       "      <td>2017-03-01</td>\n",
       "    </tr>\n",
       "    <tr>\n",
       "      <th>3925</th>\n",
       "      <td>FPMA</td>\n",
       "      <td>CJRP-51</td>\n",
       "      <td>T235 00I</td>\n",
       "      <td>26</td>\n",
       "      <td>6.846154</td>\n",
       "      <td>235</td>\n",
       "      <td>Ida</td>\n",
       "      <td>2.0</td>\n",
       "      <td>G05</td>\n",
       "      <td>2015-05-08 00:00:00</td>\n",
       "      <td>1900-01-01 00:00:00</td>\n",
       "      <td>1900-01-01 00:00:00</td>\n",
       "      <td>1</td>\n",
       "      <td>0</td>\n",
       "      <td>2017-03-01</td>\n",
       "    </tr>\n",
       "    <tr>\n",
       "      <th>3926</th>\n",
       "      <td>FPMA</td>\n",
       "      <td>CJRP-51</td>\n",
       "      <td>T238 00R</td>\n",
       "      <td>4</td>\n",
       "      <td>NaN</td>\n",
       "      <td>238</td>\n",
       "      <td>Ret</td>\n",
       "      <td>2.0</td>\n",
       "      <td>G08</td>\n",
       "      <td>2015-05-08 00:00:00</td>\n",
       "      <td>1900-01-01 00:00:00</td>\n",
       "      <td>1900-01-01 00:00:00</td>\n",
       "      <td>1</td>\n",
       "      <td>0</td>\n",
       "      <td>2017-03-01</td>\n",
       "    </tr>\n",
       "    <tr>\n",
       "      <th>...</th>\n",
       "      <td>...</td>\n",
       "      <td>...</td>\n",
       "      <td>...</td>\n",
       "      <td>...</td>\n",
       "      <td>...</td>\n",
       "      <td>...</td>\n",
       "      <td>...</td>\n",
       "      <td>...</td>\n",
       "      <td>...</td>\n",
       "      <td>...</td>\n",
       "      <td>...</td>\n",
       "      <td>...</td>\n",
       "      <td>...</td>\n",
       "      <td>...</td>\n",
       "      <td>...</td>\n",
       "    </tr>\n",
       "    <tr>\n",
       "      <th>82647</th>\n",
       "      <td>TPTA</td>\n",
       "      <td>ZN-5611</td>\n",
       "      <td>T210 00I</td>\n",
       "      <td>1</td>\n",
       "      <td>NaN</td>\n",
       "      <td>210</td>\n",
       "      <td>Ida</td>\n",
       "      <td>2.0</td>\n",
       "      <td>210</td>\n",
       "      <td>2017-07-13 00:00:00</td>\n",
       "      <td>1900-01-01 00:00:00</td>\n",
       "      <td>1900-01-01 00:00:00</td>\n",
       "      <td>1</td>\n",
       "      <td>0</td>\n",
       "      <td>2017-08-25</td>\n",
       "    </tr>\n",
       "    <tr>\n",
       "      <th>82648</th>\n",
       "      <td>TPTA</td>\n",
       "      <td>ZN-5611</td>\n",
       "      <td>T210 00R</td>\n",
       "      <td>19</td>\n",
       "      <td>5.700000</td>\n",
       "      <td>210</td>\n",
       "      <td>Ret</td>\n",
       "      <td>2.0</td>\n",
       "      <td>210</td>\n",
       "      <td>2017-07-13 00:00:00</td>\n",
       "      <td>1900-01-01 00:00:00</td>\n",
       "      <td>1900-01-01 00:00:00</td>\n",
       "      <td>1</td>\n",
       "      <td>0</td>\n",
       "      <td>2017-08-25</td>\n",
       "    </tr>\n",
       "    <tr>\n",
       "      <th>82654</th>\n",
       "      <td>TPTA</td>\n",
       "      <td>ZN-5618</td>\n",
       "      <td>T204 00I</td>\n",
       "      <td>36</td>\n",
       "      <td>5.714286</td>\n",
       "      <td>204</td>\n",
       "      <td>Ida</td>\n",
       "      <td>2.0</td>\n",
       "      <td>204</td>\n",
       "      <td>2017-07-20 00:00:00</td>\n",
       "      <td>1900-01-01 00:00:00</td>\n",
       "      <td>1900-01-01 00:00:00</td>\n",
       "      <td>1</td>\n",
       "      <td>0</td>\n",
       "      <td>2017-08-25</td>\n",
       "    </tr>\n",
       "    <tr>\n",
       "      <th>82655</th>\n",
       "      <td>TPTA</td>\n",
       "      <td>ZN-5618</td>\n",
       "      <td>T204 00R</td>\n",
       "      <td>9</td>\n",
       "      <td>11.000000</td>\n",
       "      <td>204</td>\n",
       "      <td>Ret</td>\n",
       "      <td>2.0</td>\n",
       "      <td>204</td>\n",
       "      <td>2017-07-20 00:00:00</td>\n",
       "      <td>1900-01-01 00:00:00</td>\n",
       "      <td>1900-01-01 00:00:00</td>\n",
       "      <td>1</td>\n",
       "      <td>0</td>\n",
       "      <td>2017-08-25</td>\n",
       "    </tr>\n",
       "    <tr>\n",
       "      <th>82658</th>\n",
       "      <td>TPTA</td>\n",
       "      <td>ZN-5621</td>\n",
       "      <td>T201 00I</td>\n",
       "      <td>2</td>\n",
       "      <td>5.000000</td>\n",
       "      <td>201</td>\n",
       "      <td>Ida</td>\n",
       "      <td>2.0</td>\n",
       "      <td>201</td>\n",
       "      <td>2017-01-17 00:00:00</td>\n",
       "      <td>1900-01-01 00:00:00</td>\n",
       "      <td>1900-01-01 00:00:00</td>\n",
       "      <td>1</td>\n",
       "      <td>0</td>\n",
       "      <td>2017-08-25</td>\n",
       "    </tr>\n",
       "    <tr>\n",
       "      <th>82659</th>\n",
       "      <td>TPTA</td>\n",
       "      <td>ZN-5621</td>\n",
       "      <td>T201 00R</td>\n",
       "      <td>57</td>\n",
       "      <td>5.585366</td>\n",
       "      <td>201</td>\n",
       "      <td>Ret</td>\n",
       "      <td>2.0</td>\n",
       "      <td>201</td>\n",
       "      <td>2017-01-17 00:00:00</td>\n",
       "      <td>1900-01-01 00:00:00</td>\n",
       "      <td>1900-01-01 00:00:00</td>\n",
       "      <td>1</td>\n",
       "      <td>0</td>\n",
       "      <td>2017-08-25</td>\n",
       "    </tr>\n",
       "    <tr>\n",
       "      <th>82930</th>\n",
       "      <td>TPTA</td>\n",
       "      <td>ZN-6332</td>\n",
       "      <td>T203 00R</td>\n",
       "      <td>6</td>\n",
       "      <td>2.000000</td>\n",
       "      <td>203</td>\n",
       "      <td>Ret</td>\n",
       "      <td>2.0</td>\n",
       "      <td>203</td>\n",
       "      <td>2017-07-26 00:00:00</td>\n",
       "      <td>1900-01-01 00:00:00</td>\n",
       "      <td>1900-01-01 00:00:00</td>\n",
       "      <td>1</td>\n",
       "      <td>0</td>\n",
       "      <td>2017-08-25</td>\n",
       "    </tr>\n",
       "    <tr>\n",
       "      <th>82936</th>\n",
       "      <td>TPTA</td>\n",
       "      <td>ZN-6341</td>\n",
       "      <td>T201 00R</td>\n",
       "      <td>19</td>\n",
       "      <td>5.800000</td>\n",
       "      <td>201</td>\n",
       "      <td>Ret</td>\n",
       "      <td>2.0</td>\n",
       "      <td>201</td>\n",
       "      <td>2017-02-10 00:00:00</td>\n",
       "      <td>1900-01-01 00:00:00</td>\n",
       "      <td>1900-01-01 00:00:00</td>\n",
       "      <td>1</td>\n",
       "      <td>0</td>\n",
       "      <td>2017-08-25</td>\n",
       "    </tr>\n",
       "    <tr>\n",
       "      <th>82937</th>\n",
       "      <td>TPTA</td>\n",
       "      <td>ZN-6342</td>\n",
       "      <td>T201 00R</td>\n",
       "      <td>37</td>\n",
       "      <td>4.200000</td>\n",
       "      <td>201</td>\n",
       "      <td>Ret</td>\n",
       "      <td>2.0</td>\n",
       "      <td>201</td>\n",
       "      <td>2017-05-02 00:00:00</td>\n",
       "      <td>1900-01-01 00:00:00</td>\n",
       "      <td>1900-01-01 00:00:00</td>\n",
       "      <td>1</td>\n",
       "      <td>0</td>\n",
       "      <td>2017-08-25</td>\n",
       "    </tr>\n",
       "    <tr>\n",
       "      <th>82944</th>\n",
       "      <td>TPTA</td>\n",
       "      <td>ZN-6350</td>\n",
       "      <td>T201 00R</td>\n",
       "      <td>4</td>\n",
       "      <td>3.000000</td>\n",
       "      <td>201</td>\n",
       "      <td>Ret</td>\n",
       "      <td>2.0</td>\n",
       "      <td>201</td>\n",
       "      <td>2017-07-28 00:00:00</td>\n",
       "      <td>1900-01-01 00:00:00</td>\n",
       "      <td>1900-01-01 00:00:00</td>\n",
       "      <td>1</td>\n",
       "      <td>0</td>\n",
       "      <td>2017-08-25</td>\n",
       "    </tr>\n",
       "    <tr>\n",
       "      <th>82945</th>\n",
       "      <td>TPTA</td>\n",
       "      <td>ZN-6352</td>\n",
       "      <td>T223 00I</td>\n",
       "      <td>4</td>\n",
       "      <td>6.000000</td>\n",
       "      <td>223</td>\n",
       "      <td>Ida</td>\n",
       "      <td>2.0</td>\n",
       "      <td>223</td>\n",
       "      <td>2017-08-03 00:00:00</td>\n",
       "      <td>1900-01-01 00:00:00</td>\n",
       "      <td>1900-01-01 00:00:00</td>\n",
       "      <td>1</td>\n",
       "      <td>0</td>\n",
       "      <td>2017-08-25</td>\n",
       "    </tr>\n",
       "    <tr>\n",
       "      <th>82946</th>\n",
       "      <td>TPTA</td>\n",
       "      <td>ZN-6354</td>\n",
       "      <td>T225 00R</td>\n",
       "      <td>6</td>\n",
       "      <td>8.500000</td>\n",
       "      <td>225</td>\n",
       "      <td>Ret</td>\n",
       "      <td>2.0</td>\n",
       "      <td>225</td>\n",
       "      <td>2017-08-02 00:00:00</td>\n",
       "      <td>1900-01-01 00:00:00</td>\n",
       "      <td>1900-01-01 00:00:00</td>\n",
       "      <td>1</td>\n",
       "      <td>0</td>\n",
       "      <td>2017-08-25</td>\n",
       "    </tr>\n",
       "    <tr>\n",
       "      <th>82948</th>\n",
       "      <td>TPTA</td>\n",
       "      <td>ZN-6356</td>\n",
       "      <td>T211 00I</td>\n",
       "      <td>4</td>\n",
       "      <td>6.666667</td>\n",
       "      <td>211</td>\n",
       "      <td>Ida</td>\n",
       "      <td>2.0</td>\n",
       "      <td>211</td>\n",
       "      <td>2017-02-07 00:00:00</td>\n",
       "      <td>1900-01-01 00:00:00</td>\n",
       "      <td>1900-01-01 00:00:00</td>\n",
       "      <td>1</td>\n",
       "      <td>0</td>\n",
       "      <td>2017-08-25</td>\n",
       "    </tr>\n",
       "    <tr>\n",
       "      <th>82949</th>\n",
       "      <td>TPTA</td>\n",
       "      <td>ZN-6356</td>\n",
       "      <td>T211 00R</td>\n",
       "      <td>8</td>\n",
       "      <td>6.500000</td>\n",
       "      <td>211</td>\n",
       "      <td>Ret</td>\n",
       "      <td>2.0</td>\n",
       "      <td>211</td>\n",
       "      <td>2017-02-07 00:00:00</td>\n",
       "      <td>1900-01-01 00:00:00</td>\n",
       "      <td>1900-01-01 00:00:00</td>\n",
       "      <td>1</td>\n",
       "      <td>0</td>\n",
       "      <td>2017-08-25</td>\n",
       "    </tr>\n",
       "    <tr>\n",
       "      <th>83128</th>\n",
       "      <td>TPTA</td>\n",
       "      <td>ZU-5537</td>\n",
       "      <td>T223 00I</td>\n",
       "      <td>5</td>\n",
       "      <td>3.000000</td>\n",
       "      <td>223</td>\n",
       "      <td>Ida</td>\n",
       "      <td>2.0</td>\n",
       "      <td>223</td>\n",
       "      <td>2017-07-28 00:00:00</td>\n",
       "      <td>1900-01-01 00:00:00</td>\n",
       "      <td>1900-01-01 00:00:00</td>\n",
       "      <td>1</td>\n",
       "      <td>0</td>\n",
       "      <td>2017-08-25</td>\n",
       "    </tr>\n",
       "    <tr>\n",
       "      <th>83129</th>\n",
       "      <td>TPTA</td>\n",
       "      <td>ZU-5537</td>\n",
       "      <td>T223 00R</td>\n",
       "      <td>2</td>\n",
       "      <td>NaN</td>\n",
       "      <td>223</td>\n",
       "      <td>Ret</td>\n",
       "      <td>2.0</td>\n",
       "      <td>223</td>\n",
       "      <td>2017-07-28 00:00:00</td>\n",
       "      <td>1900-01-01 00:00:00</td>\n",
       "      <td>1900-01-01 00:00:00</td>\n",
       "      <td>1</td>\n",
       "      <td>0</td>\n",
       "      <td>2017-08-25</td>\n",
       "    </tr>\n",
       "    <tr>\n",
       "      <th>83135</th>\n",
       "      <td>TPTA</td>\n",
       "      <td>ZU-5542</td>\n",
       "      <td>T210 00I</td>\n",
       "      <td>20</td>\n",
       "      <td>7.500000</td>\n",
       "      <td>210</td>\n",
       "      <td>Ida</td>\n",
       "      <td>2.0</td>\n",
       "      <td>210</td>\n",
       "      <td>2017-03-28 00:00:00</td>\n",
       "      <td>1900-01-01 00:00:00</td>\n",
       "      <td>1900-01-01 00:00:00</td>\n",
       "      <td>1</td>\n",
       "      <td>0</td>\n",
       "      <td>2017-08-25</td>\n",
       "    </tr>\n",
       "    <tr>\n",
       "      <th>83142</th>\n",
       "      <td>TPTA</td>\n",
       "      <td>ZU-5549</td>\n",
       "      <td>T202 C0 00I</td>\n",
       "      <td>5</td>\n",
       "      <td>4.000000</td>\n",
       "      <td>202</td>\n",
       "      <td>Ida</td>\n",
       "      <td>2.0</td>\n",
       "      <td>NaN</td>\n",
       "      <td>2017-01-30 00:00:00</td>\n",
       "      <td>1900-01-01 00:00:00</td>\n",
       "      <td>1900-01-01 00:00:00</td>\n",
       "      <td>1</td>\n",
       "      <td>0</td>\n",
       "      <td>2017-08-25</td>\n",
       "    </tr>\n",
       "    <tr>\n",
       "      <th>83143</th>\n",
       "      <td>TPTA</td>\n",
       "      <td>ZU-5550</td>\n",
       "      <td>T219 E0 02R</td>\n",
       "      <td>6</td>\n",
       "      <td>3.750000</td>\n",
       "      <td>219</td>\n",
       "      <td>Ret</td>\n",
       "      <td>2.0</td>\n",
       "      <td>NaN</td>\n",
       "      <td>2017-07-28 00:00:00</td>\n",
       "      <td>1900-01-01 00:00:00</td>\n",
       "      <td>1900-01-01 00:00:00</td>\n",
       "      <td>1</td>\n",
       "      <td>0</td>\n",
       "      <td>2017-08-25</td>\n",
       "    </tr>\n",
       "    <tr>\n",
       "      <th>83144</th>\n",
       "      <td>TPTA</td>\n",
       "      <td>ZU-5551</td>\n",
       "      <td>T209 E0 00I</td>\n",
       "      <td>6</td>\n",
       "      <td>6.500000</td>\n",
       "      <td>209</td>\n",
       "      <td>Ida</td>\n",
       "      <td>2.0</td>\n",
       "      <td>209</td>\n",
       "      <td>2017-07-27 00:00:00</td>\n",
       "      <td>1900-01-01 00:00:00</td>\n",
       "      <td>1900-01-01 00:00:00</td>\n",
       "      <td>1</td>\n",
       "      <td>0</td>\n",
       "      <td>2017-08-25</td>\n",
       "    </tr>\n",
       "    <tr>\n",
       "      <th>83145</th>\n",
       "      <td>TPTA</td>\n",
       "      <td>ZU-5551</td>\n",
       "      <td>T209 E0 00R</td>\n",
       "      <td>1</td>\n",
       "      <td>NaN</td>\n",
       "      <td>209</td>\n",
       "      <td>Ret</td>\n",
       "      <td>2.0</td>\n",
       "      <td>209</td>\n",
       "      <td>2017-07-27 00:00:00</td>\n",
       "      <td>1900-01-01 00:00:00</td>\n",
       "      <td>1900-01-01 00:00:00</td>\n",
       "      <td>1</td>\n",
       "      <td>0</td>\n",
       "      <td>2017-08-25</td>\n",
       "    </tr>\n",
       "    <tr>\n",
       "      <th>83157</th>\n",
       "      <td>TPTA</td>\n",
       "      <td>ZU-5656</td>\n",
       "      <td>T201 E0 00R</td>\n",
       "      <td>41</td>\n",
       "      <td>5.000000</td>\n",
       "      <td>201</td>\n",
       "      <td>Ret</td>\n",
       "      <td>2.0</td>\n",
       "      <td>201</td>\n",
       "      <td>2017-07-26 00:00:00</td>\n",
       "      <td>1900-01-01 00:00:00</td>\n",
       "      <td>1900-01-01 00:00:00</td>\n",
       "      <td>1</td>\n",
       "      <td>0</td>\n",
       "      <td>2017-08-25</td>\n",
       "    </tr>\n",
       "    <tr>\n",
       "      <th>83158</th>\n",
       "      <td>TPTA</td>\n",
       "      <td>ZU-5657</td>\n",
       "      <td>T210 C2 00I</td>\n",
       "      <td>7</td>\n",
       "      <td>6.000000</td>\n",
       "      <td>210</td>\n",
       "      <td>Ida</td>\n",
       "      <td>2.0</td>\n",
       "      <td>210</td>\n",
       "      <td>2017-07-12 00:00:00</td>\n",
       "      <td>1900-01-01 00:00:00</td>\n",
       "      <td>1900-01-01 00:00:00</td>\n",
       "      <td>1</td>\n",
       "      <td>0</td>\n",
       "      <td>2017-08-25</td>\n",
       "    </tr>\n",
       "    <tr>\n",
       "      <th>83159</th>\n",
       "      <td>TPTA</td>\n",
       "      <td>ZU-5658</td>\n",
       "      <td>T208 00R</td>\n",
       "      <td>3</td>\n",
       "      <td>NaN</td>\n",
       "      <td>208</td>\n",
       "      <td>Ret</td>\n",
       "      <td>2.0</td>\n",
       "      <td>208</td>\n",
       "      <td>2017-07-26 00:00:00</td>\n",
       "      <td>1900-01-01 00:00:00</td>\n",
       "      <td>1900-01-01 00:00:00</td>\n",
       "      <td>1</td>\n",
       "      <td>0</td>\n",
       "      <td>2017-08-25</td>\n",
       "    </tr>\n",
       "    <tr>\n",
       "      <th>83170</th>\n",
       "      <td>TPTA</td>\n",
       "      <td>ZU-5671</td>\n",
       "      <td>T203 00I</td>\n",
       "      <td>1</td>\n",
       "      <td>NaN</td>\n",
       "      <td>203</td>\n",
       "      <td>Ida</td>\n",
       "      <td>2.0</td>\n",
       "      <td>203</td>\n",
       "      <td>2017-08-11 00:00:00</td>\n",
       "      <td>1900-01-01 00:00:00</td>\n",
       "      <td>1900-01-01 00:00:00</td>\n",
       "      <td>1</td>\n",
       "      <td>0</td>\n",
       "      <td>2017-08-25</td>\n",
       "    </tr>\n",
       "    <tr>\n",
       "      <th>83171</th>\n",
       "      <td>TPTA</td>\n",
       "      <td>ZU-5672</td>\n",
       "      <td>T201 E0 00I</td>\n",
       "      <td>4</td>\n",
       "      <td>7.000000</td>\n",
       "      <td>201</td>\n",
       "      <td>Ida</td>\n",
       "      <td>2.0</td>\n",
       "      <td>201</td>\n",
       "      <td>2017-03-17 00:00:00</td>\n",
       "      <td>1900-01-01 00:00:00</td>\n",
       "      <td>1900-01-01 00:00:00</td>\n",
       "      <td>1</td>\n",
       "      <td>0</td>\n",
       "      <td>2017-08-25</td>\n",
       "    </tr>\n",
       "    <tr>\n",
       "      <th>83172</th>\n",
       "      <td>TPTA</td>\n",
       "      <td>ZU-5672</td>\n",
       "      <td>T201 E0 00R</td>\n",
       "      <td>3</td>\n",
       "      <td>3.000000</td>\n",
       "      <td>201</td>\n",
       "      <td>Ret</td>\n",
       "      <td>2.0</td>\n",
       "      <td>201</td>\n",
       "      <td>2017-03-17 00:00:00</td>\n",
       "      <td>1900-01-01 00:00:00</td>\n",
       "      <td>1900-01-01 00:00:00</td>\n",
       "      <td>1</td>\n",
       "      <td>0</td>\n",
       "      <td>2017-08-25</td>\n",
       "    </tr>\n",
       "    <tr>\n",
       "      <th>83176</th>\n",
       "      <td>TPTA</td>\n",
       "      <td>ZU-5676</td>\n",
       "      <td>T201 00I</td>\n",
       "      <td>6</td>\n",
       "      <td>7.000000</td>\n",
       "      <td>201</td>\n",
       "      <td>Ida</td>\n",
       "      <td>2.0</td>\n",
       "      <td>201</td>\n",
       "      <td>2017-07-14 00:00:00</td>\n",
       "      <td>1900-01-01 00:00:00</td>\n",
       "      <td>1900-01-01 00:00:00</td>\n",
       "      <td>1</td>\n",
       "      <td>0</td>\n",
       "      <td>2017-08-25</td>\n",
       "    </tr>\n",
       "    <tr>\n",
       "      <th>83181</th>\n",
       "      <td>TPTA</td>\n",
       "      <td>ZU-6003</td>\n",
       "      <td>T216 00R</td>\n",
       "      <td>4</td>\n",
       "      <td>4.500000</td>\n",
       "      <td>216</td>\n",
       "      <td>Ret</td>\n",
       "      <td>2.0</td>\n",
       "      <td>216</td>\n",
       "      <td>2017-08-15 00:00:00</td>\n",
       "      <td>1900-01-01 00:00:00</td>\n",
       "      <td>1900-01-01 00:00:00</td>\n",
       "      <td>1</td>\n",
       "      <td>0</td>\n",
       "      <td>2017-08-25</td>\n",
       "    </tr>\n",
       "    <tr>\n",
       "      <th>83188</th>\n",
       "      <td>TPTA</td>\n",
       "      <td>ZU-6010</td>\n",
       "      <td>T205 E0 00I</td>\n",
       "      <td>21</td>\n",
       "      <td>5.692308</td>\n",
       "      <td>205</td>\n",
       "      <td>Ida</td>\n",
       "      <td>2.0</td>\n",
       "      <td>205</td>\n",
       "      <td>2017-02-21 00:00:00</td>\n",
       "      <td>1900-01-01 00:00:00</td>\n",
       "      <td>1900-01-01 00:00:00</td>\n",
       "      <td>1</td>\n",
       "      <td>0</td>\n",
       "      <td>2017-08-25</td>\n",
       "    </tr>\n",
       "  </tbody>\n",
       "</table>\n",
       "<p>102192 rows × 15 columns</p>\n",
       "</div>"
      ],
      "text/plain": [
       "      PERIODO sitio_subida servicio_subida  id_count  \\\n",
       "3765     FPMA      CJRL-25        T231 09I        35   \n",
       "3766     FPMA      CJRL-25        T231 09R        31   \n",
       "3780     FPMA      CJRL-37        T232 00R         4   \n",
       "3782     FPMA      CJRL-39        T235 00I         3   \n",
       "3783     FPMA      CJRL-39        T235 00R        22   \n",
       "3784     FPMA      CJRL-42        T244 00I         1   \n",
       "3785     FPMA      CJRL-42        T244 00R        17   \n",
       "3786     FPMA      CJRL-43        T244 00I         2   \n",
       "3787     FPMA      CJRL-43        T244 00R        16   \n",
       "3790     FPMA      CJRL-45        T239 00R        16   \n",
       "3793     FPMA      CJRL-48        T244 00I        18   \n",
       "3794     FPMA      CJRL-48        T244 00R        15   \n",
       "3797     FPMA      CJRL-51        T239 00I        14   \n",
       "3799     FPMA      CJRL-53        T239 00R         6   \n",
       "3825     FPMA      CJRL-70        T232 00I        18   \n",
       "3826     FPMA      CJRL-70        T232 00R        15   \n",
       "3830     FPMA      CJRL-72        T241 00I        17   \n",
       "3831     FPMA      CJRL-72        T241 00R         6   \n",
       "3832     FPMA      CJRL-72        T246 07R         7   \n",
       "3838     FPMA      CJRL-77        T246 07I         5   \n",
       "3839     FPMA      CJRL-77        T246 07R        22   \n",
       "3856     FPMA      CJRL-90        T243 07I         8   \n",
       "3857     FPMA      CJRL-90        T243 07R        12   \n",
       "3860     FPMA      CJRL-92        T232 00R        13   \n",
       "3910     FPMA      CJRP-37        T242 00I        23   \n",
       "3911     FPMA      CJRP-37        T242 00R        30   \n",
       "3921     FPMA      CJRP-49        T243 07I         1   \n",
       "3922     FPMA      CJRP-49        T243 07R        20   \n",
       "3925     FPMA      CJRP-51        T235 00I        26   \n",
       "3926     FPMA      CJRP-51        T238 00R         4   \n",
       "...       ...          ...             ...       ...   \n",
       "82647    TPTA      ZN-5611        T210 00I         1   \n",
       "82648    TPTA      ZN-5611        T210 00R        19   \n",
       "82654    TPTA      ZN-5618        T204 00I        36   \n",
       "82655    TPTA      ZN-5618        T204 00R         9   \n",
       "82658    TPTA      ZN-5621        T201 00I         2   \n",
       "82659    TPTA      ZN-5621        T201 00R        57   \n",
       "82930    TPTA      ZN-6332        T203 00R         6   \n",
       "82936    TPTA      ZN-6341        T201 00R        19   \n",
       "82937    TPTA      ZN-6342        T201 00R        37   \n",
       "82944    TPTA      ZN-6350        T201 00R         4   \n",
       "82945    TPTA      ZN-6352        T223 00I         4   \n",
       "82946    TPTA      ZN-6354        T225 00R         6   \n",
       "82948    TPTA      ZN-6356        T211 00I         4   \n",
       "82949    TPTA      ZN-6356        T211 00R         8   \n",
       "83128    TPTA      ZU-5537        T223 00I         5   \n",
       "83129    TPTA      ZU-5537        T223 00R         2   \n",
       "83135    TPTA      ZU-5542        T210 00I        20   \n",
       "83142    TPTA      ZU-5549     T202 C0 00I         5   \n",
       "83143    TPTA      ZU-5550     T219 E0 02R         6   \n",
       "83144    TPTA      ZU-5551     T209 E0 00I         6   \n",
       "83145    TPTA      ZU-5551     T209 E0 00R         1   \n",
       "83157    TPTA      ZU-5656     T201 E0 00R        41   \n",
       "83158    TPTA      ZU-5657     T210 C2 00I         7   \n",
       "83159    TPTA      ZU-5658        T208 00R         3   \n",
       "83170    TPTA      ZU-5671        T203 00I         1   \n",
       "83171    TPTA      ZU-5672     T201 E0 00I         4   \n",
       "83172    TPTA      ZU-5672     T201 E0 00R         3   \n",
       "83176    TPTA      ZU-5676        T201 00I         6   \n",
       "83181    TPTA      ZU-6003        T216 00R         4   \n",
       "83188    TPTA      ZU-6010     T205 E0 00I        21   \n",
       "\n",
       "       diferencia_tiempo_secs_specialMean TS_CODE DIRECTION  UN_x USER_CODE  \\\n",
       "3765                             5.200000     231       Ida   2.0       G01   \n",
       "3766                             6.588235     231       Ret   2.0       G01   \n",
       "3780                                  NaN     232       Ret   2.0       G02   \n",
       "3782                                  NaN     235       Ida   2.0       G05   \n",
       "3783                             5.777778     235       Ret   2.0       G05   \n",
       "3784                                  NaN     244       Ida   2.0       G14   \n",
       "3785                             4.714286     244       Ret   2.0       G14   \n",
       "3786                                  NaN     244       Ida   2.0       G14   \n",
       "3787                             9.000000     244       Ret   2.0       G14   \n",
       "3790                             7.000000     239       Ret   2.0       G09   \n",
       "3793                             7.571429     244       Ida   2.0       G14   \n",
       "3794                             6.666667     244       Ret   2.0       G14   \n",
       "3797                             6.166667     239       Ida   2.0       G09   \n",
       "3799                             9.000000     239       Ret   2.0       G09   \n",
       "3825                             7.166667     232       Ida   2.0       G02   \n",
       "3826                             7.250000     232       Ret   2.0       G02   \n",
       "3830                             7.750000     241       Ida   2.0       G11   \n",
       "3831                                  NaN     241       Ret   2.0       G11   \n",
       "3832                             4.500000     246       Ret   2.0       G16   \n",
       "3838                             5.000000     246       Ida   2.0       G16   \n",
       "3839                             4.125000     246       Ret   2.0       G16   \n",
       "3856                            15.000000     243       Ida   2.0       G13   \n",
       "3857                             6.500000     243       Ret   2.0       G13   \n",
       "3860                             5.000000     232       Ret   2.0       G02   \n",
       "3910                             7.444444     242       Ida   2.0       G12   \n",
       "3911                             8.625000     242       Ret   2.0       G12   \n",
       "3921                                  NaN     243       Ida   2.0       G13   \n",
       "3922                             4.500000     243       Ret   2.0       G13   \n",
       "3925                             6.846154     235       Ida   2.0       G05   \n",
       "3926                                  NaN     238       Ret   2.0       G08   \n",
       "...                                   ...     ...       ...   ...       ...   \n",
       "82647                                 NaN     210       Ida   2.0       210   \n",
       "82648                            5.700000     210       Ret   2.0       210   \n",
       "82654                            5.714286     204       Ida   2.0       204   \n",
       "82655                           11.000000     204       Ret   2.0       204   \n",
       "82658                            5.000000     201       Ida   2.0       201   \n",
       "82659                            5.585366     201       Ret   2.0       201   \n",
       "82930                            2.000000     203       Ret   2.0       203   \n",
       "82936                            5.800000     201       Ret   2.0       201   \n",
       "82937                            4.200000     201       Ret   2.0       201   \n",
       "82944                            3.000000     201       Ret   2.0       201   \n",
       "82945                            6.000000     223       Ida   2.0       223   \n",
       "82946                            8.500000     225       Ret   2.0       225   \n",
       "82948                            6.666667     211       Ida   2.0       211   \n",
       "82949                            6.500000     211       Ret   2.0       211   \n",
       "83128                            3.000000     223       Ida   2.0       223   \n",
       "83129                                 NaN     223       Ret   2.0       223   \n",
       "83135                            7.500000     210       Ida   2.0       210   \n",
       "83142                            4.000000     202       Ida   2.0       NaN   \n",
       "83143                            3.750000     219       Ret   2.0       NaN   \n",
       "83144                            6.500000     209       Ida   2.0       209   \n",
       "83145                                 NaN     209       Ret   2.0       209   \n",
       "83157                            5.000000     201       Ret   2.0       201   \n",
       "83158                            6.000000     210       Ida   2.0       210   \n",
       "83159                                 NaN     208       Ret   2.0       208   \n",
       "83170                                 NaN     203       Ida   2.0       203   \n",
       "83171                            7.000000     201       Ida   2.0       201   \n",
       "83172                            3.000000     201       Ret   2.0       201   \n",
       "83176                            7.000000     201       Ida   2.0       201   \n",
       "83181                            4.500000     216       Ret   2.0       216   \n",
       "83188                            5.692308     205       Ida   2.0       205   \n",
       "\n",
       "      fecha_instalacion_ana fecha_instalacion_mauricio            min_fecha  \\\n",
       "3765    2015-05-07 00:00:00        1900-01-01 00:00:00  1900-01-01 00:00:00   \n",
       "3766    2015-05-07 00:00:00        1900-01-01 00:00:00  1900-01-01 00:00:00   \n",
       "3780    2015-05-07 00:00:00        1900-01-01 00:00:00  1900-01-01 00:00:00   \n",
       "3782    2017-01-18 00:00:00        1900-01-01 00:00:00  1900-01-01 00:00:00   \n",
       "3783    2017-01-18 00:00:00        1900-01-01 00:00:00  1900-01-01 00:00:00   \n",
       "3784    2017-02-15 00:00:00        1900-01-01 00:00:00  1900-01-01 00:00:00   \n",
       "3785    2017-02-15 00:00:00        1900-01-01 00:00:00  1900-01-01 00:00:00   \n",
       "3786    2015-05-08 00:00:00        1900-01-01 00:00:00  1900-01-01 00:00:00   \n",
       "3787    2015-05-08 00:00:00        1900-01-01 00:00:00  1900-01-01 00:00:00   \n",
       "3790    2015-05-06 00:00:00        1900-01-01 00:00:00  1900-01-01 00:00:00   \n",
       "3793    2017-01-19 00:00:00        1900-01-01 00:00:00  1900-01-01 00:00:00   \n",
       "3794    2017-01-19 00:00:00        1900-01-01 00:00:00  1900-01-01 00:00:00   \n",
       "3797    2015-05-08 00:00:00        1900-01-01 00:00:00  1900-01-01 00:00:00   \n",
       "3799    2015-05-08 00:00:00        1900-01-01 00:00:00  1900-01-01 00:00:00   \n",
       "3825    2015-05-08 00:00:00        1900-01-01 00:00:00  1900-01-01 00:00:00   \n",
       "3826    2015-05-08 00:00:00        1900-01-01 00:00:00  1900-01-01 00:00:00   \n",
       "3830    2016-12-27 00:00:00        1900-01-01 00:00:00  1900-01-01 00:00:00   \n",
       "3831    2016-12-27 00:00:00        1900-01-01 00:00:00  1900-01-01 00:00:00   \n",
       "3832    2016-12-27 00:00:00        1900-01-01 00:00:00  1900-01-01 00:00:00   \n",
       "3838    2016-12-19 00:00:00        1900-01-01 00:00:00  1900-01-01 00:00:00   \n",
       "3839    2016-12-19 00:00:00        1900-01-01 00:00:00  1900-01-01 00:00:00   \n",
       "3856    2017-02-16 00:00:00        1900-01-01 00:00:00  1900-01-01 00:00:00   \n",
       "3857    2017-02-16 00:00:00        1900-01-01 00:00:00  1900-01-01 00:00:00   \n",
       "3860    2015-05-07 00:00:00        1900-01-01 00:00:00  1900-01-01 00:00:00   \n",
       "3910    2017-01-17 00:00:00        1900-01-01 00:00:00  1900-01-01 00:00:00   \n",
       "3911    2017-01-17 00:00:00        1900-01-01 00:00:00  1900-01-01 00:00:00   \n",
       "3921    2015-05-05 00:00:00        1900-01-01 00:00:00  1900-01-01 00:00:00   \n",
       "3922    2015-05-05 00:00:00        1900-01-01 00:00:00  1900-01-01 00:00:00   \n",
       "3925    2015-05-08 00:00:00        1900-01-01 00:00:00  1900-01-01 00:00:00   \n",
       "3926    2015-05-08 00:00:00        1900-01-01 00:00:00  1900-01-01 00:00:00   \n",
       "...                     ...                        ...                  ...   \n",
       "82647   2017-07-13 00:00:00        1900-01-01 00:00:00  1900-01-01 00:00:00   \n",
       "82648   2017-07-13 00:00:00        1900-01-01 00:00:00  1900-01-01 00:00:00   \n",
       "82654   2017-07-20 00:00:00        1900-01-01 00:00:00  1900-01-01 00:00:00   \n",
       "82655   2017-07-20 00:00:00        1900-01-01 00:00:00  1900-01-01 00:00:00   \n",
       "82658   2017-01-17 00:00:00        1900-01-01 00:00:00  1900-01-01 00:00:00   \n",
       "82659   2017-01-17 00:00:00        1900-01-01 00:00:00  1900-01-01 00:00:00   \n",
       "82930   2017-07-26 00:00:00        1900-01-01 00:00:00  1900-01-01 00:00:00   \n",
       "82936   2017-02-10 00:00:00        1900-01-01 00:00:00  1900-01-01 00:00:00   \n",
       "82937   2017-05-02 00:00:00        1900-01-01 00:00:00  1900-01-01 00:00:00   \n",
       "82944   2017-07-28 00:00:00        1900-01-01 00:00:00  1900-01-01 00:00:00   \n",
       "82945   2017-08-03 00:00:00        1900-01-01 00:00:00  1900-01-01 00:00:00   \n",
       "82946   2017-08-02 00:00:00        1900-01-01 00:00:00  1900-01-01 00:00:00   \n",
       "82948   2017-02-07 00:00:00        1900-01-01 00:00:00  1900-01-01 00:00:00   \n",
       "82949   2017-02-07 00:00:00        1900-01-01 00:00:00  1900-01-01 00:00:00   \n",
       "83128   2017-07-28 00:00:00        1900-01-01 00:00:00  1900-01-01 00:00:00   \n",
       "83129   2017-07-28 00:00:00        1900-01-01 00:00:00  1900-01-01 00:00:00   \n",
       "83135   2017-03-28 00:00:00        1900-01-01 00:00:00  1900-01-01 00:00:00   \n",
       "83142   2017-01-30 00:00:00        1900-01-01 00:00:00  1900-01-01 00:00:00   \n",
       "83143   2017-07-28 00:00:00        1900-01-01 00:00:00  1900-01-01 00:00:00   \n",
       "83144   2017-07-27 00:00:00        1900-01-01 00:00:00  1900-01-01 00:00:00   \n",
       "83145   2017-07-27 00:00:00        1900-01-01 00:00:00  1900-01-01 00:00:00   \n",
       "83157   2017-07-26 00:00:00        1900-01-01 00:00:00  1900-01-01 00:00:00   \n",
       "83158   2017-07-12 00:00:00        1900-01-01 00:00:00  1900-01-01 00:00:00   \n",
       "83159   2017-07-26 00:00:00        1900-01-01 00:00:00  1900-01-01 00:00:00   \n",
       "83170   2017-08-11 00:00:00        1900-01-01 00:00:00  1900-01-01 00:00:00   \n",
       "83171   2017-03-17 00:00:00        1900-01-01 00:00:00  1900-01-01 00:00:00   \n",
       "83172   2017-03-17 00:00:00        1900-01-01 00:00:00  1900-01-01 00:00:00   \n",
       "83176   2017-07-14 00:00:00        1900-01-01 00:00:00  1900-01-01 00:00:00   \n",
       "83181   2017-08-15 00:00:00        1900-01-01 00:00:00  1900-01-01 00:00:00   \n",
       "83188   2017-02-21 00:00:00        1900-01-01 00:00:00  1900-01-01 00:00:00   \n",
       "\n",
       "       torniquete_mariposa  no_torniquete      fecha  \n",
       "3765                     1              0 2017-03-01  \n",
       "3766                     1              0 2017-03-01  \n",
       "3780                     1              0 2017-03-01  \n",
       "3782                     1              0 2017-03-01  \n",
       "3783                     1              0 2017-03-01  \n",
       "3784                     1              0 2017-03-01  \n",
       "3785                     1              0 2017-03-01  \n",
       "3786                     1              0 2017-03-01  \n",
       "3787                     1              0 2017-03-01  \n",
       "3790                     1              0 2017-03-01  \n",
       "3793                     1              0 2017-03-01  \n",
       "3794                     1              0 2017-03-01  \n",
       "3797                     1              0 2017-03-01  \n",
       "3799                     1              0 2017-03-01  \n",
       "3825                     1              0 2017-03-01  \n",
       "3826                     1              0 2017-03-01  \n",
       "3830                     1              0 2017-03-01  \n",
       "3831                     1              0 2017-03-01  \n",
       "3832                     1              0 2017-03-01  \n",
       "3838                     1              0 2017-03-01  \n",
       "3839                     1              0 2017-03-01  \n",
       "3856                     1              0 2017-03-01  \n",
       "3857                     1              0 2017-03-01  \n",
       "3860                     1              0 2017-03-01  \n",
       "3910                     1              0 2017-03-01  \n",
       "3911                     1              0 2017-03-01  \n",
       "3921                     1              0 2017-03-01  \n",
       "3922                     1              0 2017-03-01  \n",
       "3925                     1              0 2017-03-01  \n",
       "3926                     1              0 2017-03-01  \n",
       "...                    ...            ...        ...  \n",
       "82647                    1              0 2017-08-25  \n",
       "82648                    1              0 2017-08-25  \n",
       "82654                    1              0 2017-08-25  \n",
       "82655                    1              0 2017-08-25  \n",
       "82658                    1              0 2017-08-25  \n",
       "82659                    1              0 2017-08-25  \n",
       "82930                    1              0 2017-08-25  \n",
       "82936                    1              0 2017-08-25  \n",
       "82937                    1              0 2017-08-25  \n",
       "82944                    1              0 2017-08-25  \n",
       "82945                    1              0 2017-08-25  \n",
       "82946                    1              0 2017-08-25  \n",
       "82948                    1              0 2017-08-25  \n",
       "82949                    1              0 2017-08-25  \n",
       "83128                    1              0 2017-08-25  \n",
       "83129                    1              0 2017-08-25  \n",
       "83135                    1              0 2017-08-25  \n",
       "83142                    1              0 2017-08-25  \n",
       "83143                    1              0 2017-08-25  \n",
       "83144                    1              0 2017-08-25  \n",
       "83145                    1              0 2017-08-25  \n",
       "83157                    1              0 2017-08-25  \n",
       "83158                    1              0 2017-08-25  \n",
       "83159                    1              0 2017-08-25  \n",
       "83170                    1              0 2017-08-25  \n",
       "83171                    1              0 2017-08-25  \n",
       "83172                    1              0 2017-08-25  \n",
       "83176                    1              0 2017-08-25  \n",
       "83181                    1              0 2017-08-25  \n",
       "83188                    1              0 2017-08-25  \n",
       "\n",
       "[102192 rows x 15 columns]"
      ]
     },
     "execution_count": 100,
     "metadata": {},
     "output_type": "execute_result"
    }
   ],
   "source": [
    "clean_working_sumtrx.loc[(clean_working_sumtrx['UN_x']==2.0)\n",
    "                                              &(clean_working_sumtrx['torniquete_mariposa']==1),:]"
   ]
  },
  {
   "cell_type": "code",
   "execution_count": null,
   "metadata": {
    "collapsed": true
   },
   "outputs": [],
   "source": []
  }
 ],
 "metadata": {
  "kernelspec": {
   "display_name": "Python 3",
   "language": "python",
   "name": "python3"
  },
  "language_info": {
   "codemirror_mode": {
    "name": "ipython",
    "version": 3
   },
   "file_extension": ".py",
   "mimetype": "text/x-python",
   "name": "python",
   "nbconvert_exporter": "python",
   "pygments_lexer": "ipython3",
   "version": "3.6.1"
  }
 },
 "nbformat": 4,
 "nbformat_minor": 2
}
