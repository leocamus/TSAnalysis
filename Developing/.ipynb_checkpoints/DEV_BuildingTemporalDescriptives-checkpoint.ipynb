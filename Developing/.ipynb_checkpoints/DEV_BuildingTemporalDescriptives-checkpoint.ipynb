{
 "cells": [
  {
   "cell_type": "markdown",
   "metadata": {},
   "source": [
    "### Analyzing all-dates descriptives"
   ]
  },
  {
   "cell_type": "code",
   "execution_count": null,
   "metadata": {
    "collapsed": true
   },
   "outputs": [],
   "source": [
    "import os\n",
    "import sys\n",
    "module_path = os.path.abspath(os.path.join('..'))\n",
    "if module_path not in sys.path:\n",
    "    sys.path.append(module_path)"
   ]
  },
  {
   "cell_type": "code",
   "execution_count": null,
   "metadata": {},
   "outputs": [],
   "source": [
    "%matplotlib inline\n",
    "from IPython.core.display import display, HTML\n",
    "display(HTML(\"<style>.container { width:80% !important; }</style>\"))\n",
    "\n",
    "import pandas as pd\n",
    "import matplotlib\n",
    "import matplotlib.pyplot as plt\n",
    "import matplotlib.dates as mdates\n",
    "import numpy as np\n",
    "import datetime as dt\n",
    "import time\n",
    "\n",
    "from importlib import reload\n",
    "from Utils import TransantiagoConstants\n",
    "from RunSilentlyDailyEtapasBuilder import RunSilentlyDailyEtapasBuilderClass"
   ]
  },
  {
   "cell_type": "code",
   "execution_count": null,
   "metadata": {
    "collapsed": true
   },
   "outputs": [],
   "source": [
    "from TemporalDescriptivesBuilder import TemporalDescriptivesBuilderClass"
   ]
  },
  {
   "cell_type": "code",
   "execution_count": null,
   "metadata": {
    "collapsed": true
   },
   "outputs": [],
   "source": [
    "dates = TransantiagoConstants.updateCurrentSSHDates()\n",
    "summary_dir = TransantiagoConstants.SummaryDir"
   ]
  },
  {
   "cell_type": "markdown",
   "metadata": {},
   "source": [
    "* Only to re-factor"
   ]
  },
  {
   "cell_type": "code",
   "execution_count": null,
   "metadata": {
    "collapsed": true
   },
   "outputs": [],
   "source": [
    "#date = dates[0]\n",
    "#dates = ['2017-03-01']"
   ]
  },
  {
   "cell_type": "markdown",
   "metadata": {},
   "source": [
    "*****"
   ]
  },
  {
   "cell_type": "code",
   "execution_count": null,
   "metadata": {
    "scrolled": false
   },
   "outputs": [],
   "source": [
    "\n",
    "tic = time.clock()\n",
    "for date in dates:\n",
    "    temporal_descriptives_builder = TemporalDescriptivesBuilderClass(date)\n",
    "    temporal_descriptives_builder.cleanAndProcessEtapas()\n",
    "    temporal_descriptives_builder.appendPeriods()\n",
    "    temporal_descriptives_builder.groupData()\n",
    "    temporal_descriptives_builder.appendUnidadNegocio()\n",
    "    grouped_data = temporal_descriptives_builder.grouped_data\n",
    "    grouped_data['fecha']=date\n",
    "    name_file = date + '_sumtrx.csv'\n",
    "    path = os.path.join(summary_dir,name_file)\n",
    "    grouped_data.to_csv(path,sep=';')\n",
    "\n",
    "toc = time.clock()\n",
    "print(toc-tic)\n"
   ]
  },
  {
   "cell_type": "code",
   "execution_count": null,
   "metadata": {
    "collapsed": true
   },
   "outputs": [],
   "source": []
  },
  {
   "cell_type": "code",
   "execution_count": null,
   "metadata": {
    "collapsed": true
   },
   "outputs": [],
   "source": [
    "quantile = 0.97\n",
    "processed = 0\n",
    "\n",
    "tic = time.clock()\n",
    "\n",
    "for date in dates:\n",
    "    etapas_builder = RunSilentlyDailyEtapasBuilderClass(date)\n",
    "    [etapas_df, processed_sorted_df, filtered_df, filtered_turnstile_df, filtered_no_turnstile_df]=etapas_builder.runCompleteProcess()\n",
    "    \n",
    "    #Pre-processing processed_sorted_df. Be aware that etapas_df only contains obs. of type 'BUS'\n",
    "    processed_sorted_df.loc[:,'servicio_subida'] = processed_sorted_df.loc[:,'servicio_subida'].str.replace('T','')\n",
    "    processed_sorted_df.loc[:,'servicio_subida'] = processed_sorted_df.loc[:,'servicio_subida'].str.replace('00','')\n",
    "    processed_sorted_df.loc[:,'TS_CODE'] = processed_sorted_df.loc[:,'servicio_subida'].str.split(' ').str[0]\n",
    "    processed_sorted_df.loc[:,'DIRECTION'] = processed_sorted_df.loc[:,'servicio_subida'].str.split(' ').str[1]\n",
    "    processed_sorted_df.loc[:,'DIRECTION'] = processed_sorted_df.loc[:,'DIRECTION'].str.replace('R','Ret')\n",
    "    processed_sorted_df.loc[:,'DIRECTION'] = processed_sorted_df.loc[:,'DIRECTION'].str.replace('I','Ida')\n",
    "    merged_etapas_df = pd.merge(processed_sorted_df,codes, on=['TS_CODE','DIRECTION'], how='left')\n",
    "\n",
    "    #Filling trx info:\n",
    "    total_raw_trx.append(len(etapas_df.index))\n",
    "    total_trx.append(len(processed_sorted_df.index))\n",
    "    total_turns_trx.append(processed_sorted_df[processed_sorted_df.si_2017_torniquete==True].count()[0])\n",
    "    total_no_turns_trx.append(processed_sorted_df[processed_sorted_df.si_torniquete==False].count()[0])\n",
    "        \n",
    "    #Filtering and following the original methodology:\n",
    "    turnstile_q = filtered_turnstile_df.diferencia_tiempo.quantile(quantile)\n",
    "    no_turnstile_q = filtered_no_turnstile_df.diferencia_tiempo.quantile(quantile)    \n",
    "    \n",
    "    filtered_turnstile_q_df = filtered_turnstile_df[filtered_turnstile_df.diferencia_tiempo<=turnstile_q]\n",
    "    filtered_no_turnstile_q_df = filtered_no_turnstile_df[filtered_no_turnstile_df.diferencia_tiempo<=no_turnstile_q]\n",
    "    \n",
    "    turnstile_obs.append(len(filtered_turnstile_q_df.index))\n",
    "    turnstile_means.append(filtered_turnstile_q_df['diferencia_tiempo_secs'].mean())\n",
    "    turnstile_stds.append(filtered_turnstile_q_df['diferencia_tiempo_secs'].std())\n",
    "    turnstile_medians.append(filtered_turnstile_q_df['diferencia_tiempo_secs'].quantile(0.50))\n",
    "    turnstile_maxs.append(filtered_turnstile_q_df['diferencia_tiempo_secs'].max())\n",
    "    \n",
    "    no_turnstile_obs.append(len(filtered_no_turnstile_q_df.index))\n",
    "    no_turnstile_means.append(filtered_no_turnstile_q_df['diferencia_tiempo_secs'].mean())\n",
    "    no_turnstile_stds.append(filtered_no_turnstile_q_df['diferencia_tiempo_secs'].std())    \n",
    "    no_turnstile_medians.append(filtered_no_turnstile_q_df['diferencia_tiempo_secs'].quantile(0.50))\n",
    "    no_turnstile_maxs.append(filtered_no_turnstile_q_df['diferencia_tiempo_secs'].max())\n",
    "    \n",
    "    processed = processed + 1\n",
    "    print('Number of already processed ddbb is ' + str(processed))\n",
    "    del etapas_builder\n",
    "    \n",
    "toc = time.clock()  \n",
    "toc-tic"
   ]
  },
  {
   "cell_type": "markdown",
   "metadata": {},
   "source": [
    "* Summarizing"
   ]
  },
  {
   "cell_type": "code",
   "execution_count": null,
   "metadata": {
    "collapsed": true
   },
   "outputs": [],
   "source": [
    "dates = [dt.datetime.strptime(x, \"%Y-%m-%d\").date() for x in dates]"
   ]
  },
  {
   "cell_type": "code",
   "execution_count": null,
   "metadata": {
    "collapsed": true,
    "scrolled": true
   },
   "outputs": [],
   "source": [
    "summary_descriptives = pd.DataFrame(\n",
    "    {'date': dates,\n",
    "     'total_raw_trx': total_raw_trx,\n",
    "     'total_trx': total_trx,\n",
    "     'total_turns_trx': total_turns_trx,\n",
    "     'total_no_turns_trx': total_no_turns_trx,\n",
    "     'turnstile_obs':turnstile_obs,\n",
    "     'turnstile_means': turnstile_means,\n",
    "     'turnstile_stds': turnstile_stds,\n",
    "     'turnstile_medians': turnstile_medians,\n",
    "     'turnstile_maxs': turnstile_maxs,\n",
    "     'no_turnstile_obs': no_turnstile_obs,\n",
    "     'no_turnstile_means': no_turnstile_means,\n",
    "     'no_turnstile_stds': no_turnstile_stds,\n",
    "     'no_turnstile_medians': no_turnstile_medians,\n",
    "     'no_turnstile_maxs': no_turnstile_maxs})"
   ]
  },
  {
   "cell_type": "code",
   "execution_count": null,
   "metadata": {
    "collapsed": true
   },
   "outputs": [],
   "source": [
    "cols = ['date','total_raw_trx','total_trx','total_turns_trx','total_no_turns_trx',\n",
    "        'turnstile_obs','turnstile_means','turnstile_stds','turnstile_medians','turnstile_maxs',\n",
    "        'no_turnstile_obs','no_turnstile_means','no_turnstile_stds', 'no_turnstile_medians', 'no_turnstile_maxs']\n",
    "summary_descriptives = summary_descriptives[cols]"
   ]
  },
  {
   "cell_type": "markdown",
   "metadata": {},
   "source": [
    "* Checking"
   ]
  },
  {
   "cell_type": "code",
   "execution_count": null,
   "metadata": {
    "collapsed": true
   },
   "outputs": [],
   "source": [
    "summary_descriptives"
   ]
  },
  {
   "cell_type": "markdown",
   "metadata": {},
   "source": [
    "* Writting the ddbb to a file"
   ]
  },
  {
   "cell_type": "code",
   "execution_count": null,
   "metadata": {
    "collapsed": true
   },
   "outputs": [],
   "source": [
    "#summary_descriptives.to_csv('C:/Users/Tesista/Desktop/Evasion/01_analisis/03_datos/05_SUMMARY/DescriptivesSummary.csv', sep=';', encoding = 'latin-1')"
   ]
  },
  {
   "cell_type": "code",
   "execution_count": null,
   "metadata": {
    "collapsed": true
   },
   "outputs": [],
   "source": [
    "import TemporalDescriptivesBuilder"
   ]
  },
  {
   "cell_type": "code",
   "execution_count": null,
   "metadata": {
    "collapsed": true
   },
   "outputs": [],
   "source": [
    "from TemporalDescriptivesBuilder import TemporalDescriptivesBuilderClass"
   ]
  },
  {
   "cell_type": "code",
   "execution_count": null,
   "metadata": {
    "collapsed": true
   },
   "outputs": [],
   "source": [
    "test_temporal_builder = "
   ]
  }
 ],
 "metadata": {
  "kernelspec": {
   "display_name": "Python 3",
   "language": "python",
   "name": "python3"
  },
  "language_info": {
   "codemirror_mode": {
    "name": "ipython",
    "version": 3
   },
   "file_extension": ".py",
   "mimetype": "text/x-python",
   "name": "python",
   "nbconvert_exporter": "python",
   "pygments_lexer": "ipython3",
   "version": "3.6.1"
  }
 },
 "nbformat": 4,
 "nbformat_minor": 2
}
