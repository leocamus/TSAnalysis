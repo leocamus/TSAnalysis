{
 "cells": [
  {
   "cell_type": "markdown",
   "metadata": {},
   "source": [
    "### Notebook to plot all the necessary descriptives in time"
   ]
  },
  {
   "cell_type": "markdown",
   "metadata": {},
   "source": [
    "### TODO: Check the names of pdf files"
   ]
  },
  {
   "cell_type": "code",
   "execution_count": 1,
   "metadata": {
    "collapsed": true
   },
   "outputs": [],
   "source": [
    "import os\n",
    "import sys\n",
    "module_path = os.path.abspath(os.path.join('..'))\n",
    "if module_path not in sys.path:\n",
    "    sys.path.append(module_path)"
   ]
  },
  {
   "cell_type": "code",
   "execution_count": 2,
   "metadata": {},
   "outputs": [
    {
     "data": {
      "text/html": [
       "<style>.container { width:80% !important; }</style>"
      ],
      "text/plain": [
       "<IPython.core.display.HTML object>"
      ]
     },
     "metadata": {},
     "output_type": "display_data"
    }
   ],
   "source": [
    "%matplotlib inline\n",
    "from IPython.core.display import display, HTML\n",
    "display(HTML(\"<style>.container { width:80% !important; }</style>\"))\n",
    "\n",
    "import pandas as pd\n",
    "import matplotlib\n",
    "import matplotlib.pyplot as plt\n",
    "import matplotlib.dates as mdates\n",
    "import numpy as np\n",
    "import datetime as dt\n",
    "import time\n",
    "from importlib import reload\n",
    "from Utils import TransantiagoConstants"
   ]
  },
  {
   "cell_type": "markdown",
   "metadata": {},
   "source": [
    "* Building ddbb"
   ]
  },
  {
   "cell_type": "code",
   "execution_count": 3,
   "metadata": {
    "collapsed": true
   },
   "outputs": [],
   "source": [
    "summary_dir = TransantiagoConstants.SummaryDir\n",
    "dates = TransantiagoConstants.updateCurrentSSHDates()\n",
    "dates_tmp = dates[0:dates.index('2017-07-15')+1]"
   ]
  },
  {
   "cell_type": "code",
   "execution_count": 4,
   "metadata": {
    "collapsed": true
   },
   "outputs": [],
   "source": [
    "summary = pd.DataFrame()\n",
    "#for date in dates:\n",
    "for date in dates_tmp:\n",
    "    name_file = date + '_sumtrx.csv'\n",
    "    path_to_file = os.path.join(summary_dir,name_file)\n",
    "    summary_by_date = pd.read_csv(path_to_file,sep=';',encoding='latin-1')\n",
    "    summary = pd.concat([summary,summary_by_date])\n",
    "    "
   ]
  },
  {
   "cell_type": "markdown",
   "metadata": {},
   "source": [
    "* Processing summary ddbb"
   ]
  },
  {
   "cell_type": "code",
   "execution_count": 5,
   "metadata": {
    "collapsed": true
   },
   "outputs": [],
   "source": [
    "summary = summary.reset_index(drop=True)\n",
    "summary.loc[:,'fecha'] = pd.to_datetime(summary.loc[:,'fecha'])"
   ]
  },
  {
   "cell_type": "markdown",
   "metadata": {},
   "source": [
    "* Filtering to new ddffs:\n",
    "1. dates -> clean_working_dates"
   ]
  },
  {
   "cell_type": "code",
   "execution_count": 7,
   "metadata": {
    "collapsed": true
   },
   "outputs": [],
   "source": [
    "weekend = set([5, 6])"
   ]
  },
  {
   "cell_type": "code",
   "execution_count": 8,
   "metadata": {},
   "outputs": [
    {
     "name": "stderr",
     "output_type": "stream",
     "text": [
      "C:\\Users\\leoca_000\\Anaconda3\\lib\\site-packages\\pandas\\core\\indexing.py:517: SettingWithCopyWarning: \n",
      "A value is trying to be set on a copy of a slice from a DataFrame.\n",
      "Try using .loc[row_indexer,col_indexer] = value instead\n",
      "\n",
      "See the caveats in the documentation: http://pandas.pydata.org/pandas-docs/stable/indexing.html#indexing-view-versus-copy\n",
      "  self.obj[item] = s\n"
     ]
    }
   ],
   "source": [
    "working_summary = summary.loc[~(summary['fecha'].dt.weekday.isin(weekend))]\n",
    "working_summary.loc[:,'fecha'] = working_summary.loc[:,'fecha'].dt.date"
   ]
  },
  {
   "cell_type": "code",
   "execution_count": 9,
   "metadata": {
    "collapsed": true
   },
   "outputs": [],
   "source": [
    "outlier_4 = dt.date(2017,6,13) #Matches with aguila.\n",
    "outlier_5 = dt.date(2017,6,14) #Matches with aguila.\n",
    "\n",
    "outliers = {outlier_4, outlier_5}\n",
    "\n",
    "viernes_santo = dt.date(2017,4,14) #Friday\n",
    "censo_abreviado = dt.date(2017,4,19) #Wednesday\n",
    "dia_trabajo = dt.date(2017,5,1) #Monday\n",
    "san_pedro = dt.date(2017,6,26) #Monday\n",
    "asuncion_virgen = dt.date(2017,8,15) #Tuesday\n",
    "\n",
    "special_dates = {viernes_santo,censo_abreviado,dia_trabajo,san_pedro,asuncion_virgen}"
   ]
  },
  {
   "cell_type": "code",
   "execution_count": 10,
   "metadata": {
    "collapsed": true
   },
   "outputs": [],
   "source": [
    "clean_working_summary = working_summary.loc[~(working_summary['fecha'].isin(outliers)) & \n",
    "                                            ~(working_summary['fecha'].isin(special_dates)),:]"
   ]
  },
  {
   "cell_type": "code",
   "execution_count": 11,
   "metadata": {},
   "outputs": [
    {
     "name": "stdout",
     "output_type": "stream",
     "text": [
      "6043540\n",
      "4657421\n",
      "4426304\n"
     ]
    }
   ],
   "source": [
    "print(len(summary.index))\n",
    "print(len(working_summary.index))\n",
    "print(len(clean_working_summary.index))"
   ]
  },
  {
   "cell_type": "markdown",
   "metadata": {},
   "source": [
    "### TRANSACTIONS"
   ]
  },
  {
   "cell_type": "code",
   "execution_count": null,
   "metadata": {
    "collapsed": true
   },
   "outputs": [],
   "source": [
    "fig_8, ax_8 = plt.subplots()\n",
    "\n",
    "ax_8.plot(clean_working_summary['date'],clean_working_summary['total_raw_trx'], color = colors[1], label='working - total-trx')\n",
    "\n",
    "fig_8.autofmt_xdate()\n",
    "ax_8.set_title('Total trx in time - Clean Working')\n",
    "ax_8.set_ylabel('Total trx')\n",
    "ax_8.set_autoscaley_on(False)\n",
    "ax_8.set_ylim([1000000,3000000])\n",
    "\n",
    "plt.savefig('C:/Users/leoca_000/Desktop/Evasion/03_report/02_Figs/7_1_trxWorkingInTime.pdf')"
   ]
  },
  {
   "cell_type": "code",
   "execution_count": null,
   "metadata": {
    "collapsed": true
   },
   "outputs": [],
   "source": []
  },
  {
   "cell_type": "markdown",
   "metadata": {},
   "source": [
    "### MEANS EVOLUTION"
   ]
  },
  {
   "cell_type": "code",
   "execution_count": null,
   "metadata": {
    "collapsed": true
   },
   "outputs": [],
   "source": [
    "colors = [(85,98,112),(78,205,196),(199,244,100),(255,107,107),(196,77,88)]\n",
    "for i in range(len(colors)):\n",
    "    r, g, b = colors[i]  \n",
    "    colors[i] = (r / 255., g / 255., b / 255.)"
   ]
  },
  {
   "cell_type": "markdown",
   "metadata": {},
   "source": [
    "* Raw data"
   ]
  },
  {
   "cell_type": "code",
   "execution_count": null,
   "metadata": {
    "collapsed": true,
    "scrolled": true
   },
   "outputs": [],
   "source": [
    "fig_0, ax_0 = plt.subplots()\n",
    "\n",
    "ax_0.plot(summary_descriptives['date'],summary_descriptives['turnstile_means'], color = colors [3], label='2017 turnstiles')\n",
    "ax_0.plot(summary_descriptives['date'],summary_descriptives['no_turnstile_means'], color = colors [0], label='no turnstiles')\n",
    "\n",
    "fig_0.autofmt_xdate()\n",
    "ax_0.legend()\n",
    "\n",
    "ax_0.set_title('Mean of time intervals evolution - Raw')\n",
    "ax_0.set_ylabel('Mean of time intervals [s]')\n",
    "\n",
    "#plt.savefig('C:/Users/Tesista/Desktop/Evasion/03_report/02_Figs/7_meansRawEvolutionInTime.pdf')"
   ]
  },
  {
   "cell_type": "markdown",
   "metadata": {},
   "source": [
    "* Clean data"
   ]
  },
  {
   "cell_type": "code",
   "execution_count": null,
   "metadata": {
    "collapsed": true,
    "scrolled": true
   },
   "outputs": [],
   "source": [
    "fig_1, ax_1 = plt.subplots()\n",
    "\n",
    "ax_1.plot(clean_summary['date'],clean_summary['turnstile_means'], color = colors [3], label='2017 turnstiles')\n",
    "ax_1.plot(clean_summary['date'],clean_summary['no_turnstile_means'], color = colors [0], label='no turnstiles')\n",
    "\n",
    "fig_1.autofmt_xdate()\n",
    "ax_1.legend()\n",
    "\n",
    "ax_1.set_title('Mean of time intervals evolution - Clean')\n",
    "ax_1.set_ylabel('Mean of time intervals [s]')\n",
    "\n",
    "#plt.savefig('C:/Users/Tesista/Desktop/Evasion/03_report/02_Figs/7_meansEvolutionInTime.pdf')"
   ]
  },
  {
   "cell_type": "markdown",
   "metadata": {},
   "source": [
    "* Week data"
   ]
  },
  {
   "cell_type": "code",
   "execution_count": null,
   "metadata": {
    "collapsed": true
   },
   "outputs": [],
   "source": [
    "fig_2, ax_2 = plt.subplots()\n",
    "\n",
    "ax_2.plot(clean_week_summary['date'],clean_week_summary['turnstile_means'], color = colors [3], label='2017 turnstiles')\n",
    "ax_2.plot(clean_week_summary['date'],clean_week_summary['no_turnstile_means'],color = colors [0], label='no turnstiles')\n",
    "\n",
    "fig_2.autofmt_xdate()\n",
    "ax_2.legend()\n",
    "\n",
    "ax_2.set_title('Mean of time intervals evolution - Clean Week')\n",
    "ax_2.set_ylabel('Mean of time intervals [s]')\n",
    "\n",
    "#plt.savefig('C:/Users/Tesista/Desktop/Evasion/03_report/02_Figs/7_meansWeekEvolutionInTime.pdf')"
   ]
  },
  {
   "cell_type": "markdown",
   "metadata": {},
   "source": [
    "* Working data"
   ]
  },
  {
   "cell_type": "code",
   "execution_count": null,
   "metadata": {
    "collapsed": true
   },
   "outputs": [],
   "source": [
    "fig_3, ax_3 = plt.subplots()\n",
    "\n",
    "ax_3.plot(clean_working_summary['date'],clean_working_summary['turnstile_means'],color = colors [3], label='2017 turnstiles')\n",
    "ax_3.plot(clean_working_summary['date'],clean_working_summary['no_turnstile_means'],color = colors [0], label='no turnstiles')\n",
    "\n",
    "fig_3.autofmt_xdate()\n",
    "ax_3.legend()\n",
    "\n",
    "ax_3.set_title('Mean of time intervals evolution - Clean Working')\n",
    "ax_3.set_ylabel('Mean of time intervals [s]')\n",
    "\n",
    "plt.savefig('C:/Users/leoca_000/Desktop/Evasion/03_report/02_Figs/7_1_meansWorkingEvolutionInTime.pdf')"
   ]
  },
  {
   "cell_type": "code",
   "execution_count": null,
   "metadata": {
    "collapsed": true
   },
   "outputs": [],
   "source": [
    "clean_working_summary['turnstile_means'].min()"
   ]
  },
  {
   "cell_type": "code",
   "execution_count": null,
   "metadata": {
    "collapsed": true
   },
   "outputs": [],
   "source": [
    "clean_working_summary['turnstile_means'].max()"
   ]
  },
  {
   "cell_type": "code",
   "execution_count": null,
   "metadata": {
    "collapsed": true
   },
   "outputs": [],
   "source": [
    "clean_working_summary['no_turnstile_means'].min()"
   ]
  },
  {
   "cell_type": "code",
   "execution_count": null,
   "metadata": {
    "collapsed": true
   },
   "outputs": [],
   "source": [
    "clean_working_summary['no_turnstile_means'].max()"
   ]
  },
  {
   "cell_type": "markdown",
   "metadata": {},
   "source": [
    "* Plotting differences in working days"
   ]
  },
  {
   "cell_type": "code",
   "execution_count": null,
   "metadata": {
    "collapsed": true
   },
   "outputs": [],
   "source": [
    "fig_4, ax_4 = plt.subplots()\n",
    "\n",
    "ax_4.plot(clean_working_summary['date'],clean_working_summary['mean_difference'],color = colors [4])\n",
    "\n",
    "fig_4.autofmt_xdate()\n",
    "ax_4.legend()\n",
    "\n",
    "ax_4.set_title('Difference in mean of time intervals - Clean Working')\n",
    "ax_4.set_ylabel('Difference [s]')\n",
    "\n",
    "plt.savefig('C:/Users/leoca_000/Desktop/Evasion/03_report/02_Figs/7_1_differencesMeansWorkingEvolutionInTime.pdf')"
   ]
  },
  {
   "cell_type": "code",
   "execution_count": null,
   "metadata": {
    "collapsed": true,
    "scrolled": true
   },
   "outputs": [],
   "source": [
    "clean_working_summary[clean_working_summary['mean_difference']==clean_working_summary['mean_difference'].max()]"
   ]
  },
  {
   "cell_type": "markdown",
   "metadata": {},
   "source": [
    "### STDS EVOLUTION"
   ]
  },
  {
   "cell_type": "code",
   "execution_count": null,
   "metadata": {
    "collapsed": true
   },
   "outputs": [],
   "source": [
    "fig_6, ax_6 = plt.subplots()\n",
    "\n",
    "ax_6.plot(clean_working_summary['date'],clean_working_summary['turnstile_stds'],color = colors [3], label='2017 turnstiles')\n",
    "ax_6.plot(clean_working_summary['date'],clean_working_summary['no_turnstile_stds'],color = colors [0], label='no turnstiles')\n",
    "\n",
    "fig_6.autofmt_xdate()\n",
    "ax_6.legend()\n",
    "\n",
    "ax_6.set_title('Stds of time intervals evolution - Clean Working')\n",
    "ax_6.set_ylabel('Stds of time intervals [s]')\n",
    "\n",
    "plt.savefig('C:/Users/leoca_000/Desktop/Evasion/03_report/02_Figs/7_1_stdsWorkingEvolutionInTime.pdf')"
   ]
  },
  {
   "cell_type": "markdown",
   "metadata": {},
   "source": [
    "### MEDIANS EVOLUTION"
   ]
  },
  {
   "cell_type": "code",
   "execution_count": null,
   "metadata": {
    "collapsed": true
   },
   "outputs": [],
   "source": [
    "fig_7, ax_7 = plt.subplots()\n",
    "\n",
    "ax_7.plot(clean_working_summary['date'],clean_working_summary['turnstile_medians'],color = colors [3], label='2017 turnstiles')\n",
    "ax_7.plot(clean_working_summary['date'],clean_working_summary['no_turnstile_medians'],color = colors [0], label='no turnstiles')\n",
    "\n",
    "fig_7.autofmt_xdate()\n",
    "ax_7.legend()\n",
    "\n",
    "ax_7.set_title('Medians of time intervals evolution - Clean Working')\n",
    "ax_7.set_ylabel('Median of time intervals [s]')\n",
    "\n",
    "plt.savefig('C:/Users/leoca_000/Desktop/Evasion/03_report/02_Figs/7_1_mediansWorkingEvolutionInTime.pdf')"
   ]
  },
  {
   "cell_type": "markdown",
   "metadata": {},
   "source": [
    "### MAXS EVOLUTION"
   ]
  },
  {
   "cell_type": "code",
   "execution_count": null,
   "metadata": {
    "collapsed": true
   },
   "outputs": [],
   "source": [
    "fig_5, ax_5 = plt.subplots()\n",
    "\n",
    "ax_5.plot(clean_working_summary['date'],clean_working_summary['turnstile_maxs'],color = colors [3], label='2017 turnstiles')\n",
    "ax_5.plot(clean_working_summary['date'],clean_working_summary['no_turnstile_maxs'],color = colors [0], label='no turnstiles')\n",
    "\n",
    "fig_5.autofmt_xdate()\n",
    "ax_5.legend()\n",
    "\n",
    "ax_5.set_title('Maxs of time intervals evolution - Clean Working')\n",
    "ax_5.set_ylabel('Max of time intervals [s]')\n",
    "\n",
    "plt.savefig('C:/Users/leoca_000/Desktop/Evasion/03_report/02_Figs/7_1_maxsWorkingEvolutionInTime.pdf')"
   ]
  },
  {
   "cell_type": "code",
   "execution_count": null,
   "metadata": {
    "collapsed": true
   },
   "outputs": [],
   "source": []
  },
  {
   "cell_type": "code",
   "execution_count": null,
   "metadata": {
    "collapsed": true,
    "scrolled": true
   },
   "outputs": [],
   "source": [
    "for i in range(len(summary_descriptives.index)):\n",
    "    summary_descriptives.at[i, 'date'] = dt.datetime.strptime(summary_descriptives.at[i, 'date'], \"%Y-%m-%d\").date()\n",
    "\n",
    "summary_descriptives['mean_difference'] =  summary_descriptives['turnstile_means']-summary_descriptives['no_turnstile_means']"
   ]
  }
 ],
 "metadata": {
  "kernelspec": {
   "display_name": "Python 3",
   "language": "python",
   "name": "python3"
  },
  "language_info": {
   "codemirror_mode": {
    "name": "ipython",
    "version": 3
   },
   "file_extension": ".py",
   "mimetype": "text/x-python",
   "name": "python",
   "nbconvert_exporter": "python",
   "pygments_lexer": "ipython3",
   "version": "3.6.1"
  }
 },
 "nbformat": 4,
 "nbformat_minor": 2
}
