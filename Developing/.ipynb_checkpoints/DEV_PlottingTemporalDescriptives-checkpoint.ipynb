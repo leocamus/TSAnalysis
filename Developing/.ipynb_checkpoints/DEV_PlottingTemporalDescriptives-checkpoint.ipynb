{
 "cells": [
  {
   "cell_type": "markdown",
   "metadata": {},
   "source": [
    "### Notebook to plot all the necessary descriptives in time"
   ]
  },
  {
   "cell_type": "markdown",
   "metadata": {},
   "source": [
    "### TODO: Check the names of pdf files"
   ]
  },
  {
   "cell_type": "code",
   "execution_count": 1,
   "metadata": {
    "collapsed": true
   },
   "outputs": [],
   "source": [
    "import os\n",
    "import sys\n",
    "module_path = os.path.abspath(os.path.join('..'))\n",
    "if module_path not in sys.path:\n",
    "    sys.path.append(module_path)"
   ]
  },
  {
   "cell_type": "code",
   "execution_count": 2,
   "metadata": {},
   "outputs": [
    {
     "data": {
      "text/html": [
       "<style>.container { width:80% !important; }</style>"
      ],
      "text/plain": [
       "<IPython.core.display.HTML object>"
      ]
     },
     "metadata": {},
     "output_type": "display_data"
    }
   ],
   "source": [
    "%matplotlib inline\n",
    "from IPython.core.display import display, HTML\n",
    "display(HTML(\"<style>.container { width:80% !important; }</style>\"))\n",
    "\n",
    "import pandas as pd\n",
    "import matplotlib\n",
    "import matplotlib.pyplot as plt\n",
    "import matplotlib.dates as mdates\n",
    "import numpy as np\n",
    "import datetime as dt\n",
    "import time\n",
    "from importlib import reload\n",
    "from Utils import TransantiagoConstants"
   ]
  },
  {
   "cell_type": "markdown",
   "metadata": {},
   "source": [
    "* Building ddbb"
   ]
  },
  {
   "cell_type": "code",
   "execution_count": 3,
   "metadata": {
    "collapsed": true
   },
   "outputs": [],
   "source": [
    "summary_dir = TransantiagoConstants.SummaryDir\n",
    "dates = TransantiagoConstants.updateCurrentSSHDates()\n",
    "#dates_tmp = dates[0:dates.index('2017-07-15')+1]"
   ]
  },
  {
   "cell_type": "code",
   "execution_count": 4,
   "metadata": {
    "collapsed": true
   },
   "outputs": [],
   "source": [
    "summary = pd.DataFrame()\n",
    "\n",
    "for date in dates:\n",
    "    name_file = date + '_sumtrx.csv'\n",
    "    path_to_file = os.path.join(summary_dir,name_file)\n",
    "    summary_by_date = pd.read_csv(path_to_file,sep=';',encoding='latin-1')\n",
    "    summary = pd.concat([summary,summary_by_date])\n",
    "    "
   ]
  },
  {
   "cell_type": "markdown",
   "metadata": {},
   "source": [
    "* Processing summary ddbb"
   ]
  },
  {
   "cell_type": "code",
   "execution_count": 5,
   "metadata": {
    "collapsed": true
   },
   "outputs": [],
   "source": [
    "summary = summary.reset_index(drop=True)\n",
    "summary.loc[:,'fecha'] = pd.to_datetime(summary.loc[:,'fecha'])"
   ]
  },
  {
   "cell_type": "markdown",
   "metadata": {},
   "source": [
    "* Filtering to new ddffs:\n",
    "1. dates -> clean_working_dates"
   ]
  },
  {
   "cell_type": "code",
   "execution_count": 6,
   "metadata": {
    "collapsed": true
   },
   "outputs": [],
   "source": [
    "weekend = set([5, 6])"
   ]
  },
  {
   "cell_type": "code",
   "execution_count": 7,
   "metadata": {},
   "outputs": [
    {
     "name": "stderr",
     "output_type": "stream",
     "text": [
      "C:\\Users\\leoca_000\\Anaconda3\\lib\\site-packages\\pandas\\core\\indexing.py:517: SettingWithCopyWarning: \n",
      "A value is trying to be set on a copy of a slice from a DataFrame.\n",
      "Try using .loc[row_indexer,col_indexer] = value instead\n",
      "\n",
      "See the caveats in the documentation: http://pandas.pydata.org/pandas-docs/stable/indexing.html#indexing-view-versus-copy\n",
      "  self.obj[item] = s\n"
     ]
    }
   ],
   "source": [
    "working_summary = summary.loc[~(summary['fecha'].dt.weekday.isin(weekend))]\n",
    "working_summary.loc[:,'fecha'] = working_summary.loc[:,'fecha'].dt.date"
   ]
  },
  {
   "cell_type": "code",
   "execution_count": 8,
   "metadata": {
    "collapsed": true
   },
   "outputs": [],
   "source": [
    "outlier_2 = dt.date(2017,5,8) #Matches with aguila BUT it has low number of obs. with assigned bus, service, stop or time.\n",
    "outlier_3 = dt.date(2017,6,5) #Matches with aguila.\n",
    "outlier_4 = dt.date(2017,6,13) #Matches with aguila.\n",
    "outlier_5 = dt.date(2017,6,14) #Matches with aguila.\n",
    "\n",
    "outliers = {outlier_2, outlier_3, outlier_4, outlier_5}\n",
    "\n",
    "viernes_santo = dt.date(2017,4,14) #Friday\n",
    "censo_abreviado = dt.date(2017,4,19) #Wednesday\n",
    "dia_trabajo = dt.date(2017,5,1) #Monday\n",
    "san_pedro = dt.date(2017,6,26) #Monday\n",
    "asuncion_virgen = dt.date(2017,8,15) #Tuesday\n",
    "\n",
    "special_dates = {viernes_santo,censo_abreviado,dia_trabajo,san_pedro,asuncion_virgen}"
   ]
  },
  {
   "cell_type": "code",
   "execution_count": 9,
   "metadata": {
    "collapsed": true
   },
   "outputs": [],
   "source": [
    "clean_working_summary = working_summary.loc[~(working_summary['fecha'].isin(outliers)) & \n",
    "                                            ~(working_summary['fecha'].isin(special_dates)),:]"
   ]
  },
  {
   "cell_type": "code",
   "execution_count": 10,
   "metadata": {},
   "outputs": [
    {
     "name": "stdout",
     "output_type": "stream",
     "text": [
      "7878432\n",
      "6104756\n",
      "5742728\n"
     ]
    }
   ],
   "source": [
    "print(len(summary.index))\n",
    "print(len(working_summary.index))\n",
    "print(len(clean_working_summary.index))"
   ]
  },
  {
   "cell_type": "code",
   "execution_count": 11,
   "metadata": {},
   "outputs": [
    {
     "data": {
      "text/html": [
       "<div>\n",
       "<style>\n",
       "    .dataframe thead tr:only-child th {\n",
       "        text-align: right;\n",
       "    }\n",
       "\n",
       "    .dataframe thead th {\n",
       "        text-align: left;\n",
       "    }\n",
       "\n",
       "    .dataframe tbody tr th {\n",
       "        vertical-align: top;\n",
       "    }\n",
       "</style>\n",
       "<table border=\"1\" class=\"dataframe\">\n",
       "  <thead>\n",
       "    <tr style=\"text-align: right;\">\n",
       "      <th></th>\n",
       "      <th>Unnamed: 0</th>\n",
       "      <th>PERIODO</th>\n",
       "      <th>sitio_subida</th>\n",
       "      <th>servicio_subida</th>\n",
       "      <th>id_count</th>\n",
       "      <th>si_torniquete_unique</th>\n",
       "      <th>si_2017_torniquete_unique</th>\n",
       "      <th>TS_CODE</th>\n",
       "      <th>DIRECTION</th>\n",
       "      <th>UN</th>\n",
       "      <th>USER_CODE</th>\n",
       "      <th>fecha</th>\n",
       "    </tr>\n",
       "  </thead>\n",
       "  <tbody>\n",
       "    <tr>\n",
       "      <th>0</th>\n",
       "      <td>0</td>\n",
       "      <td>FPMA</td>\n",
       "      <td>BBJZ-76</td>\n",
       "      <td>F07 00I</td>\n",
       "      <td>21</td>\n",
       "      <td>[ True]</td>\n",
       "      <td>[False]</td>\n",
       "      <td>F07</td>\n",
       "      <td>Ida</td>\n",
       "      <td>7.0</td>\n",
       "      <td>F07</td>\n",
       "      <td>2017-03-01</td>\n",
       "    </tr>\n",
       "    <tr>\n",
       "      <th>1</th>\n",
       "      <td>1</td>\n",
       "      <td>FPMA</td>\n",
       "      <td>BBJZ-76</td>\n",
       "      <td>F07 00R</td>\n",
       "      <td>3</td>\n",
       "      <td>[ True]</td>\n",
       "      <td>[False]</td>\n",
       "      <td>F07</td>\n",
       "      <td>Ret</td>\n",
       "      <td>7.0</td>\n",
       "      <td>F07</td>\n",
       "      <td>2017-03-01</td>\n",
       "    </tr>\n",
       "    <tr>\n",
       "      <th>2</th>\n",
       "      <td>2</td>\n",
       "      <td>FPMA</td>\n",
       "      <td>BBKB-11</td>\n",
       "      <td>F03 C0 06I</td>\n",
       "      <td>26</td>\n",
       "      <td>[False]</td>\n",
       "      <td>[False]</td>\n",
       "      <td>F03</td>\n",
       "      <td>Ida</td>\n",
       "      <td>7.0</td>\n",
       "      <td>F03</td>\n",
       "      <td>2017-03-01</td>\n",
       "    </tr>\n",
       "    <tr>\n",
       "      <th>3</th>\n",
       "      <td>3</td>\n",
       "      <td>FPMA</td>\n",
       "      <td>BBKB-11</td>\n",
       "      <td>F03 C0 06R</td>\n",
       "      <td>28</td>\n",
       "      <td>[False]</td>\n",
       "      <td>[False]</td>\n",
       "      <td>F03</td>\n",
       "      <td>Ret</td>\n",
       "      <td>7.0</td>\n",
       "      <td>F03</td>\n",
       "      <td>2017-03-01</td>\n",
       "    </tr>\n",
       "    <tr>\n",
       "      <th>4</th>\n",
       "      <td>4</td>\n",
       "      <td>FPMA</td>\n",
       "      <td>BBKB-12</td>\n",
       "      <td>F11 07I</td>\n",
       "      <td>18</td>\n",
       "      <td>[False]</td>\n",
       "      <td>[False]</td>\n",
       "      <td>F11</td>\n",
       "      <td>Ida</td>\n",
       "      <td>7.0</td>\n",
       "      <td>F11</td>\n",
       "      <td>2017-03-01</td>\n",
       "    </tr>\n",
       "  </tbody>\n",
       "</table>\n",
       "</div>"
      ],
      "text/plain": [
       "   Unnamed: 0 PERIODO sitio_subida servicio_subida  id_count  \\\n",
       "0           0    FPMA      BBJZ-76         F07 00I        21   \n",
       "1           1    FPMA      BBJZ-76         F07 00R         3   \n",
       "2           2    FPMA      BBKB-11      F03 C0 06I        26   \n",
       "3           3    FPMA      BBKB-11      F03 C0 06R        28   \n",
       "4           4    FPMA      BBKB-12         F11 07I        18   \n",
       "\n",
       "  si_torniquete_unique si_2017_torniquete_unique TS_CODE DIRECTION   UN  \\\n",
       "0              [ True]                   [False]     F07       Ida  7.0   \n",
       "1              [ True]                   [False]     F07       Ret  7.0   \n",
       "2              [False]                   [False]     F03       Ida  7.0   \n",
       "3              [False]                   [False]     F03       Ret  7.0   \n",
       "4              [False]                   [False]     F11       Ida  7.0   \n",
       "\n",
       "  USER_CODE       fecha  \n",
       "0       F07  2017-03-01  \n",
       "1       F07  2017-03-01  \n",
       "2       F03  2017-03-01  \n",
       "3       F03  2017-03-01  \n",
       "4       F11  2017-03-01  "
      ]
     },
     "execution_count": 11,
     "metadata": {},
     "output_type": "execute_result"
    }
   ],
   "source": [
    "clean_working_summary.head()"
   ]
  },
  {
   "cell_type": "code",
   "execution_count": 12,
   "metadata": {},
   "outputs": [
    {
     "data": {
      "text/plain": [
       "numpy.float64"
      ]
     },
     "execution_count": 12,
     "metadata": {},
     "output_type": "execute_result"
    }
   ],
   "source": [
    "type(clean_working_summary.loc[0,'UN'])"
   ]
  },
  {
   "cell_type": "markdown",
   "metadata": {},
   "source": [
    "### TRANSACTIONS"
   ]
  },
  {
   "cell_type": "code",
   "execution_count": 13,
   "metadata": {
    "collapsed": true
   },
   "outputs": [],
   "source": [
    "trx_1 = clean_working_summary.loc[clean_working_summary['UN']==1,:]\n",
    "trx_2 = clean_working_summary.loc[clean_working_summary['UN']==2,:]\n",
    "trx_3 = clean_working_summary.loc[clean_working_summary['UN']==3,:]\n",
    "trx_4 = clean_working_summary.loc[clean_working_summary['UN']==4,:]\n",
    "trx_5 = clean_working_summary.loc[clean_working_summary['UN']==5,:]\n",
    "trx_6 = clean_working_summary.loc[clean_working_summary['UN']==6,:]\n",
    "trx_7 = clean_working_summary.loc[clean_working_summary['UN']==7,:]\n"
   ]
  },
  {
   "cell_type": "markdown",
   "metadata": {},
   "source": [
    "* UNIDAD 1"
   ]
  },
  {
   "cell_type": "code",
   "execution_count": 14,
   "metadata": {
    "collapsed": true
   },
   "outputs": [],
   "source": [
    "grouped_1 = trx_1.groupby(['fecha'])['id_count'].sum().to_frame().reset_index()"
   ]
  },
  {
   "cell_type": "code",
   "execution_count": 15,
   "metadata": {},
   "outputs": [
    {
     "data": {
      "image/png": "[encoded data removed]",
      "text/plain": [
       "<matplotlib.figure.Figure at 0x1d356d99588>"
      ]
     },
     "metadata": {},
     "output_type": "display_data"
    }
   ],
   "source": [
    "fig_1, ax_1 = plt.subplots()\n",
    "\n",
    "ax_1.plot(grouped_1['fecha'],grouped_1['id_count'], label='working - total-trx-1')\n",
    "\n",
    "fig_1.autofmt_xdate()\n",
    "ax_1.set_title('Total trx in time - UN1')\n",
    "ax_1.set_ylabel('Total trx')\n",
    "ax_1.set_autoscaley_on(False)\n",
    "#ax_1.set_ylim([1000000,3000000])\n",
    "\n",
    "#plt.savefig('C:/Users/leoca_000/Desktop/Evasion/03_report/02_Figs/7_1_trxWorkingInTime.pdf')"
   ]
  },
  {
   "cell_type": "markdown",
   "metadata": {},
   "source": [
    "* There are some outliers in dataset"
   ]
  },
  {
   "cell_type": "code",
   "execution_count": 16,
   "metadata": {},
   "outputs": [
    {
     "data": {
      "text/html": [
       "<div>\n",
       "<style>\n",
       "    .dataframe thead tr:only-child th {\n",
       "        text-align: right;\n",
       "    }\n",
       "\n",
       "    .dataframe thead th {\n",
       "        text-align: left;\n",
       "    }\n",
       "\n",
       "    .dataframe tbody tr th {\n",
       "        vertical-align: top;\n",
       "    }\n",
       "</style>\n",
       "<table border=\"1\" class=\"dataframe\">\n",
       "  <thead>\n",
       "    <tr style=\"text-align: right;\">\n",
       "      <th></th>\n",
       "      <th>fecha</th>\n",
       "      <th>id_count</th>\n",
       "    </tr>\n",
       "  </thead>\n",
       "  <tbody>\n",
       "  </tbody>\n",
       "</table>\n",
       "</div>"
      ],
      "text/plain": [
       "Empty DataFrame\n",
       "Columns: [fecha, id_count]\n",
       "Index: []"
      ]
     },
     "execution_count": 16,
     "metadata": {},
     "output_type": "execute_result"
    }
   ],
   "source": [
    "grouped_1[grouped_1['id_count']<200000]"
   ]
  },
  {
   "cell_type": "markdown",
   "metadata": {},
   "source": [
    "* UNIDAD 2"
   ]
  },
  {
   "cell_type": "code",
   "execution_count": 17,
   "metadata": {
    "collapsed": true
   },
   "outputs": [],
   "source": [
    "grouped_2 = trx_2.groupby(['fecha'])['id_count'].sum().to_frame().reset_index()"
   ]
  },
  {
   "cell_type": "code",
   "execution_count": 18,
   "metadata": {},
   "outputs": [
    {
     "data": {
      "image/png": "[encoded data removed]",
      "text/plain": [
       "<matplotlib.figure.Figure at 0x1d3045dc2b0>"
      ]
     },
     "metadata": {},
     "output_type": "display_data"
    }
   ],
   "source": [
    "fig_2, ax_2 = plt.subplots()\n",
    "\n",
    "ax_2.plot(grouped_2['fecha'],grouped_2['id_count'], label='working - total-trx-1')\n",
    "\n",
    "fig_2.autofmt_xdate()\n",
    "ax_2.set_title('Total trx in time - UN2')\n",
    "ax_2.set_ylabel('Total trx')\n",
    "ax_2.set_autoscaley_on(False)\n",
    "#ax_1.set_ylim([1000000,3000000])\n",
    "\n",
    "#plt.savefig('C:/Users/leoca_000/Desktop/Evasion/03_report/02_Figs/7_1_trxWorkingInTime.pdf')"
   ]
  },
  {
   "cell_type": "markdown",
   "metadata": {},
   "source": [
    "* UNIDAD 3"
   ]
  },
  {
   "cell_type": "code",
   "execution_count": 19,
   "metadata": {
    "collapsed": true
   },
   "outputs": [],
   "source": [
    "grouped_3 = trx_3.groupby(['fecha'])['id_count'].sum().to_frame().reset_index()"
   ]
  },
  {
   "cell_type": "code",
   "execution_count": 20,
   "metadata": {},
   "outputs": [
    {
     "data": {
      "image/png": "[encoded data removed]",
      "text/plain": [
       "<matplotlib.figure.Figure at 0x1d30468c048>"
      ]
     },
     "metadata": {},
     "output_type": "display_data"
    }
   ],
   "source": [
    "fig_3, ax_3 = plt.subplots()\n",
    "\n",
    "ax_3.plot(grouped_3['fecha'],grouped_3['id_count'], label='working - total-trx-1')\n",
    "\n",
    "fig_3.autofmt_xdate()\n",
    "ax_3.set_title('Total trx in time - UN3')\n",
    "ax_3.set_ylabel('Total trx')\n",
    "ax_3.set_autoscaley_on(False)\n",
    "#ax_1.set_ylim([1000000,3000000])\n",
    "\n",
    "#plt.savefig('C:/Users/leoca_000/Desktop/Evasion/03_report/02_Figs/7_1_trxWorkingInTime.pdf')"
   ]
  },
  {
   "cell_type": "code",
   "execution_count": null,
   "metadata": {
    "collapsed": true
   },
   "outputs": [],
   "source": []
  }
 ],
 "metadata": {
  "kernelspec": {
   "display_name": "Python 3",
   "language": "python",
   "name": "python3"
  },
  "language_info": {
   "codemirror_mode": {
    "name": "ipython",
    "version": 3
   },
   "file_extension": ".py",
   "mimetype": "text/x-python",
   "name": "python",
   "nbconvert_exporter": "python",
   "pygments_lexer": "ipython3",
   "version": "3.6.1"
  }
 },
 "nbformat": 4,
 "nbformat_minor": 2
}
