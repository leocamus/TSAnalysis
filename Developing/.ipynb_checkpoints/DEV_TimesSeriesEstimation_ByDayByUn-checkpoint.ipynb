{
 "cells": [
  {
   "cell_type": "markdown",
   "metadata": {},
   "source": [
    "### Times series estimating - by day by un"
   ]
  },
  {
   "cell_type": "code",
   "execution_count": 1,
   "metadata": {
    "collapsed": true
   },
   "outputs": [],
   "source": [
    "import os\n",
    "import sys\n",
    "module_path = os.path.abspath(os.path.join('..'))\n",
    "if module_path not in sys.path:\n",
    "    sys.path.append(module_path)"
   ]
  },
  {
   "cell_type": "code",
   "execution_count": 2,
   "metadata": {},
   "outputs": [
    {
     "data": {
      "text/html": [
       "<style>.container { width:80% !important; }</style>"
      ],
      "text/plain": [
       "<IPython.core.display.HTML object>"
      ]
     },
     "metadata": {},
     "output_type": "display_data"
    }
   ],
   "source": [
    "%matplotlib inline\n",
    "#%matplotlib qt5\n",
    "from IPython.core.display import display, HTML\n",
    "display(HTML(\"<style>.container { width:80% !important; }</style>\"))\n",
    "\n",
    "import pandas as pd\n",
    "import matplotlib\n",
    "import matplotlib.pyplot as plt\n",
    "import matplotlib.dates as mdates\n",
    "import numpy as np\n",
    "import datetime as dt\n",
    "import time"
   ]
  },
  {
   "cell_type": "code",
   "execution_count": 3,
   "metadata": {},
   "outputs": [
    {
     "name": "stderr",
     "output_type": "stream",
     "text": [
      "C:\\Users\\leoca_000\\Anaconda3\\lib\\site-packages\\statsmodels\\compat\\pandas.py:56: FutureWarning: The pandas.core.datetools module is deprecated and will be removed in a future version. Please use the pandas.tseries module instead.\n",
      "  from pandas.core import datetools\n"
     ]
    }
   ],
   "source": [
    "import statsmodels.api as sm"
   ]
  },
  {
   "cell_type": "code",
   "execution_count": 4,
   "metadata": {
    "collapsed": true
   },
   "outputs": [],
   "source": [
    "from Utils import TransantiagoConstants"
   ]
  },
  {
   "cell_type": "code",
   "execution_count": 5,
   "metadata": {
    "collapsed": true
   },
   "outputs": [],
   "source": [
    "DTPM_TRXDir = TransantiagoConstants.DTPM_TRXDir"
   ]
  },
  {
   "cell_type": "markdown",
   "metadata": {},
   "source": [
    "### Estimating by UN, best model by day"
   ]
  },
  {
   "cell_type": "markdown",
   "metadata": {},
   "source": [
    "* Unidad 1"
   ]
  },
  {
   "cell_type": "code",
   "execution_count": 6,
   "metadata": {
    "collapsed": true
   },
   "outputs": [],
   "source": [
    "UN = 'U1'\n",
    "\n",
    "summary_input_path = os.path.join(DTPM_TRXDir, '2_DAILY_UN_SUMMARY/' + UN + '/' + UN + '_summary.csv')\n",
    "\n",
    "summary = pd.read_csv(summary_input_path, sep=\";\", encoding=\"latin-1\")"
   ]
  },
  {
   "cell_type": "code",
   "execution_count": 7,
   "metadata": {
    "collapsed": true
   },
   "outputs": [],
   "source": [
    "no_turnstile_trx = summary.loc[:,'pn_SUM_TRX_no_t'].values\n",
    "three_turnstile_trx = summary.loc[:,'pn_SUM_TRX_3t'].values\n",
    "butterfly_turnstile_trx = summary.loc[:,'pn_SUM_TRX_tm'].values\n",
    "zp_trx = summary.loc[:,'zp_SUM_TRX'].values"
   ]
  },
  {
   "cell_type": "code",
   "execution_count": 8,
   "metadata": {
    "collapsed": true
   },
   "outputs": [],
   "source": [
    "total_trx = [sum(x) for x in zip(no_turnstile_trx, three_turnstile_trx, butterfly_turnstile_trx, zp_trx)]"
   ]
  },
  {
   "cell_type": "code",
   "execution_count": 9,
   "metadata": {
    "collapsed": true
   },
   "outputs": [],
   "source": [
    "variables_independientes = summary.loc[:, ['SATURDAY', 'SUNDAY', 'ratio_tm', 'Buses', 'Estudiantes Ed. Media/Superior', \n",
    "                                                'kms_ofertados', 'Enero', 'Febrero', 'Julio', 'Nov_2017', 'Dic_2017',\n",
    "                                                't', 'Feriado_laboral', 'Feriado_no_laboral', 'Censo_Elecciones', 'Partido',\n",
    "                                                'FDS_Largo', 'Disturbios', 'Corte_Metro', 'Retraso_Metro', 'Incidente_Metro',\n",
    "                                                'Bucle', 'Clima', 'visperas_laborales']]"
   ]
  },
  {
   "cell_type": "code",
   "execution_count": 10,
   "metadata": {
    "collapsed": true
   },
   "outputs": [],
   "source": [
    "variables_independientes.loc[:,'Verano'] =  variables_independientes.loc[:,'Enero'] + variables_independientes.loc[:,'Febrero']"
   ]
  },
  {
   "cell_type": "code",
   "execution_count": 11,
   "metadata": {
    "collapsed": true
   },
   "outputs": [],
   "source": [
    "variables_independientes.loc[:,'Nov_Dic_2017'] = variables_independientes.loc[:,'Nov_2017'] + variables_independientes.loc[:,'Dic_2017']"
   ]
  },
  {
   "cell_type": "code",
   "execution_count": 12,
   "metadata": {
    "collapsed": true
   },
   "outputs": [],
   "source": [
    "Y = total_trx\n",
    "X = variables_independientes.loc[:,['SATURDAY', 'SUNDAY', 'ratio_tm', 'kms_ofertados', 'Verano', 'Julio',\n",
    "                                                't', 'Feriado_laboral', 'Feriado_no_laboral', 'Censo_Elecciones', 'Partido',\n",
    "                                                'FDS_Largo', 'Disturbios', 'Clima', 'visperas_laborales']]"
   ]
  },
  {
   "cell_type": "code",
   "execution_count": 13,
   "metadata": {},
   "outputs": [],
   "source": [
    "X = sm.add_constant(X)"
   ]
  },
  {
   "cell_type": "code",
   "execution_count": 14,
   "metadata": {
    "collapsed": true
   },
   "outputs": [],
   "source": [
    "model = sm.OLS(Y, X)"
   ]
  },
  {
   "cell_type": "code",
   "execution_count": 15,
   "metadata": {
    "scrolled": false
   },
   "outputs": [
    {
     "name": "stdout",
     "output_type": "stream",
     "text": [
      "                            OLS Regression Results                            \n",
      "==============================================================================\n",
      "Dep. Variable:                      y   R-squared:                       0.952\n",
      "Model:                            OLS   Adj. R-squared:                  0.951\n",
      "Method:                 Least Squares   F-statistic:                     1426.\n",
      "Date:                Thu, 01 Mar 2018   Prob (F-statistic):               0.00\n",
      "Time:                        12:39:31   Log-Likelihood:                -12471.\n",
      "No. Observations:                1096   AIC:                         2.497e+04\n",
      "Df Residuals:                    1080   BIC:                         2.505e+04\n",
      "Df Model:                          15                                         \n",
      "Covariance Type:            nonrobust                                         \n",
      "======================================================================================\n",
      "                         coef    std err          t      P>|t|      [0.025      0.975]\n",
      "--------------------------------------------------------------------------------------\n",
      "const               3.552e+05   3649.384     97.327      0.000    3.48e+05    3.62e+05\n",
      "SATURDAY           -1.517e+05   2000.897    -75.834      0.000   -1.56e+05   -1.48e+05\n",
      "SUNDAY             -2.151e+05   2171.533    -99.040      0.000   -2.19e+05   -2.11e+05\n",
      "ratio_tm            2101.7039    145.320     14.463      0.000    1816.563    2386.844\n",
      "kms_ofertados          0.1198      0.018      6.521      0.000       0.084       0.156\n",
      "Verano             -5.081e+04   1845.254    -27.537      0.000   -5.44e+04   -4.72e+04\n",
      "Julio              -1.975e+04   2355.894     -8.382      0.000   -2.44e+04   -1.51e+04\n",
      "t                    -55.1326      2.965    -18.596      0.000     -60.950     -49.315\n",
      "Feriado_laboral    -1.873e+05   4605.334    -40.679      0.000   -1.96e+05   -1.78e+05\n",
      "Feriado_no_laboral -1.681e+04   4706.482     -3.573      0.000    -2.6e+04   -7579.921\n",
      "Censo_Elecciones   -1.642e+04   1.09e+04     -1.511      0.131   -3.77e+04    4904.902\n",
      "Partido            -1.949e+04   8774.720     -2.222      0.027   -3.67e+04   -2276.664\n",
      "FDS_Largo          -1.182e+04   3116.661     -3.792      0.000   -1.79e+04   -5704.307\n",
      "Disturbios         -3.149e+04   8753.039     -3.598      0.000   -4.87e+04   -1.43e+04\n",
      "Clima              -3.858e+04   5233.787     -7.371      0.000   -4.88e+04   -2.83e+04\n",
      "visperas_laborales -5.304e+04   7174.191     -7.394      0.000   -6.71e+04    -3.9e+04\n",
      "==============================================================================\n",
      "Omnibus:                      355.267   Durbin-Watson:                   1.329\n",
      "Prob(Omnibus):                  0.000   Jarque-Bera (JB):             5786.557\n",
      "Skew:                           1.043   Prob(JB):                         0.00\n",
      "Kurtosis:                      14.062   Cond. No.                     2.46e+06\n",
      "==============================================================================\n",
      "\n",
      "Warnings:\n",
      "[1] Standard Errors assume that the covariance matrix of the errors is correctly specified.\n",
      "[2] The condition number is large, 2.46e+06. This might indicate that there are\n",
      "strong multicollinearity or other numerical problems.\n"
     ]
    }
   ],
   "source": [
    "results = model.fit()\n",
    "print(results.summary())"
   ]
  },
  {
   "cell_type": "markdown",
   "metadata": {},
   "source": [
    "* Unidad 2"
   ]
  },
  {
   "cell_type": "code",
   "execution_count": 16,
   "metadata": {
    "collapsed": true
   },
   "outputs": [],
   "source": [
    "UN = 'U2'\n",
    "\n",
    "summary_input_path = os.path.join(DTPM_TRXDir, '2_DAILY_UN_SUMMARY/' + UN + '/' + UN + '_summary.csv')\n",
    "\n",
    "summary = pd.read_csv(summary_input_path, sep=\";\", encoding=\"latin-1\")"
   ]
  },
  {
   "cell_type": "code",
   "execution_count": 17,
   "metadata": {
    "collapsed": true
   },
   "outputs": [],
   "source": [
    "no_turnstile_trx = summary.loc[:,'pn_SUM_TRX_no_t'].values\n",
    "three_turnstile_trx = summary.loc[:,'pn_SUM_TRX_3t'].values\n",
    "butterfly_turnstile_trx = summary.loc[:,'pn_SUM_TRX_tm'].values\n",
    "zp_trx = summary.loc[:,'zp_SUM_TRX'].values"
   ]
  },
  {
   "cell_type": "code",
   "execution_count": 18,
   "metadata": {
    "collapsed": true
   },
   "outputs": [],
   "source": [
    "total_trx = [sum(x) for x in zip(no_turnstile_trx, three_turnstile_trx, butterfly_turnstile_trx, zp_trx)]"
   ]
  },
  {
   "cell_type": "code",
   "execution_count": 19,
   "metadata": {
    "collapsed": true
   },
   "outputs": [],
   "source": [
    "variables_independientes = summary.loc[:, ['SATURDAY', 'SUNDAY', 'ratio_tm', 'Buses', 'Estudiantes Ed. Media/Superior', \n",
    "                                                'kms_ofertados', 'Enero', 'Febrero', 'Julio', 'Nov_2017', 'Dic_2017',\n",
    "                                                't', 'Feriado_laboral', 'Feriado_no_laboral', 'Censo_Elecciones', 'Partido',\n",
    "                                                'FDS_Largo', 'Disturbios', 'Corte_Metro', 'Retraso_Metro', 'Incidente_Metro',\n",
    "                                                'Bucle', 'Clima', 'visperas_laborales']]"
   ]
  },
  {
   "cell_type": "code",
   "execution_count": 20,
   "metadata": {
    "collapsed": true
   },
   "outputs": [],
   "source": [
    "variables_independientes.loc[:,'Verano'] =  variables_independientes.loc[:,'Enero'] + variables_independientes.loc[:,'Febrero']"
   ]
  },
  {
   "cell_type": "code",
   "execution_count": 21,
   "metadata": {
    "collapsed": true
   },
   "outputs": [],
   "source": [
    "variables_independientes.loc[:,'Nov_Dic_2017'] = variables_independientes.loc[:,'Nov_2017'] + variables_independientes.loc[:,'Dic_2017']"
   ]
  },
  {
   "cell_type": "code",
   "execution_count": 22,
   "metadata": {
    "collapsed": true
   },
   "outputs": [],
   "source": [
    "Y = total_trx\n",
    "X = variables_independientes.loc[:,['SATURDAY', 'SUNDAY', 'ratio_tm', 'kms_ofertados', 'Verano', 'Julio',\n",
    "                                                't', 'Feriado_laboral', 'Feriado_no_laboral', 'Censo_Elecciones', 'Partido',\n",
    "                                                'FDS_Largo', 'Disturbios', 'Clima', 'visperas_laborales']]"
   ]
  },
  {
   "cell_type": "code",
   "execution_count": 23,
   "metadata": {
    "collapsed": true
   },
   "outputs": [],
   "source": [
    "X = sm.add_constant(X)"
   ]
  },
  {
   "cell_type": "code",
   "execution_count": 24,
   "metadata": {
    "collapsed": true
   },
   "outputs": [],
   "source": [
    "model = sm.OLS(Y, X)"
   ]
  },
  {
   "cell_type": "code",
   "execution_count": 25,
   "metadata": {
    "scrolled": false
   },
   "outputs": [
    {
     "name": "stdout",
     "output_type": "stream",
     "text": [
      "                            OLS Regression Results                            \n",
      "==============================================================================\n",
      "Dep. Variable:                      y   R-squared:                       0.946\n",
      "Model:                            OLS   Adj. R-squared:                  0.945\n",
      "Method:                 Least Squares   F-statistic:                     1255.\n",
      "Date:                Thu, 01 Mar 2018   Prob (F-statistic):               0.00\n",
      "Time:                        12:39:34   Log-Likelihood:                -12993.\n",
      "No. Observations:                1096   AIC:                         2.602e+04\n",
      "Df Residuals:                    1080   BIC:                         2.610e+04\n",
      "Df Model:                          15                                         \n",
      "Covariance Type:            nonrobust                                         \n",
      "======================================================================================\n",
      "                         coef    std err          t      P>|t|      [0.025      0.975]\n",
      "--------------------------------------------------------------------------------------\n",
      "const               5.425e+05   5913.020     91.749      0.000    5.31e+05    5.54e+05\n",
      "SATURDAY           -2.195e+05   3304.452    -66.421      0.000   -2.26e+05   -2.13e+05\n",
      "SUNDAY             -3.217e+05   3588.309    -89.647      0.000   -3.29e+05   -3.15e+05\n",
      "ratio_tm            1148.9262    332.811      3.452      0.001     495.896    1801.956\n",
      "kms_ofertados          0.1129      0.016      7.046      0.000       0.081       0.144\n",
      "Verano               -8.3e+04   3001.448    -27.653      0.000   -8.89e+04   -7.71e+04\n",
      "Julio               -3.11e+04   3772.628     -8.244      0.000   -3.85e+04   -2.37e+04\n",
      "t                    -79.2556      5.815    -13.629      0.000     -90.666     -67.845\n",
      "Feriado_laboral     -2.84e+05   7454.021    -38.101      0.000   -2.99e+05   -2.69e+05\n",
      "Feriado_no_laboral -3.893e+04   7568.193     -5.144      0.000   -5.38e+04   -2.41e+04\n",
      "Censo_Elecciones   -1.031e+04   1.75e+04     -0.589      0.556   -4.47e+04     2.4e+04\n",
      "Partido            -1.786e+04   1.41e+04     -1.264      0.207   -4.56e+04    9867.366\n",
      "FDS_Largo          -1.656e+04   5019.829     -3.299      0.001   -2.64e+04   -6711.851\n",
      "Disturbios         -4.944e+04   1.41e+04     -3.508      0.000   -7.71e+04   -2.18e+04\n",
      "Clima              -6.024e+04   8427.002     -7.149      0.000   -7.68e+04   -4.37e+04\n",
      "visperas_laborales -7.259e+04   1.15e+04     -6.287      0.000   -9.52e+04   -4.99e+04\n",
      "==============================================================================\n",
      "Omnibus:                      279.201   Durbin-Watson:                   1.399\n",
      "Prob(Omnibus):                  0.000   Jarque-Bera (JB):             4237.245\n",
      "Skew:                           0.740   Prob(JB):                         0.00\n",
      "Kurtosis:                      12.518   Cond. No.                     4.59e+06\n",
      "==============================================================================\n",
      "\n",
      "Warnings:\n",
      "[1] Standard Errors assume that the covariance matrix of the errors is correctly specified.\n",
      "[2] The condition number is large, 4.59e+06. This might indicate that there are\n",
      "strong multicollinearity or other numerical problems.\n"
     ]
    }
   ],
   "source": [
    "results = model.fit()\n",
    "print(results.summary())"
   ]
  },
  {
   "cell_type": "markdown",
   "metadata": {},
   "source": [
    "* Unidad 3"
   ]
  },
  {
   "cell_type": "code",
   "execution_count": 26,
   "metadata": {
    "collapsed": true
   },
   "outputs": [],
   "source": [
    "UN = 'U3'\n",
    "\n",
    "summary_input_path = os.path.join(DTPM_TRXDir, '2_DAILY_UN_SUMMARY/' + UN + '/' + UN + '_summary.csv')\n",
    "\n",
    "summary = pd.read_csv(summary_input_path, sep=\";\", encoding=\"latin-1\")"
   ]
  },
  {
   "cell_type": "code",
   "execution_count": 27,
   "metadata": {
    "collapsed": true
   },
   "outputs": [],
   "source": [
    "no_turnstile_trx = summary.loc[:,'pn_SUM_TRX_no_t'].values\n",
    "three_turnstile_trx = summary.loc[:,'pn_SUM_TRX_3t'].values\n",
    "butterfly_turnstile_trx = summary.loc[:,'pn_SUM_TRX_tm'].values\n",
    "zp_trx = summary.loc[:,'zp_SUM_TRX'].values"
   ]
  },
  {
   "cell_type": "code",
   "execution_count": 28,
   "metadata": {
    "collapsed": true
   },
   "outputs": [],
   "source": [
    "total_trx = [sum(x) for x in zip(no_turnstile_trx, three_turnstile_trx, butterfly_turnstile_trx, zp_trx)]"
   ]
  },
  {
   "cell_type": "code",
   "execution_count": 29,
   "metadata": {
    "collapsed": true
   },
   "outputs": [],
   "source": [
    "variables_independientes = summary.loc[:, ['SATURDAY', 'SUNDAY', 'ratio_tm', 'Buses', 'Estudiantes Ed. Media/Superior', \n",
    "                                                'kms_ofertados', 'Enero', 'Febrero', 'Julio', 'Nov_2017', 'Dic_2017',\n",
    "                                                't', 'Feriado_laboral', 'Feriado_no_laboral', 'Censo_Elecciones', 'Partido',\n",
    "                                                'FDS_Largo', 'Disturbios', 'Corte_Metro', 'Retraso_Metro', 'Incidente_Metro',\n",
    "                                                'Bucle', 'Clima', 'visperas_laborales']]"
   ]
  },
  {
   "cell_type": "code",
   "execution_count": 30,
   "metadata": {
    "collapsed": true
   },
   "outputs": [],
   "source": [
    "variables_independientes.loc[:,'Verano'] =  variables_independientes.loc[:,'Enero'] + variables_independientes.loc[:,'Febrero']"
   ]
  },
  {
   "cell_type": "code",
   "execution_count": 31,
   "metadata": {
    "collapsed": true
   },
   "outputs": [],
   "source": [
    "variables_independientes.loc[:,'Nov_Dic_2017'] = variables_independientes.loc[:,'Nov_2017'] + variables_independientes.loc[:,'Dic_2017']"
   ]
  },
  {
   "cell_type": "code",
   "execution_count": 32,
   "metadata": {
    "collapsed": true
   },
   "outputs": [],
   "source": [
    "Y = total_trx\n",
    "X = variables_independientes.loc[:,['SATURDAY', 'SUNDAY', 'ratio_tm', 'kms_ofertados', 'Verano', 'Julio',\n",
    "                                                't', 'Feriado_laboral', 'Feriado_no_laboral', 'Censo_Elecciones', 'Partido',\n",
    "                                                'FDS_Largo', 'Disturbios', 'Clima', 'visperas_laborales']]"
   ]
  },
  {
   "cell_type": "code",
   "execution_count": 33,
   "metadata": {
    "collapsed": true
   },
   "outputs": [],
   "source": [
    "X = sm.add_constant(X)"
   ]
  },
  {
   "cell_type": "code",
   "execution_count": 34,
   "metadata": {
    "collapsed": true
   },
   "outputs": [],
   "source": [
    "model = sm.OLS(Y, X)"
   ]
  },
  {
   "cell_type": "code",
   "execution_count": 35,
   "metadata": {
    "scrolled": false
   },
   "outputs": [
    {
     "name": "stdout",
     "output_type": "stream",
     "text": [
      "                            OLS Regression Results                            \n",
      "==============================================================================\n",
      "Dep. Variable:                      y   R-squared:                       0.945\n",
      "Model:                            OLS   Adj. R-squared:                  0.944\n",
      "Method:                 Least Squares   F-statistic:                     1234.\n",
      "Date:                Thu, 01 Mar 2018   Prob (F-statistic):               0.00\n",
      "Time:                        12:39:38   Log-Likelihood:                -13011.\n",
      "No. Observations:                1096   AIC:                         2.605e+04\n",
      "Df Residuals:                    1080   BIC:                         2.613e+04\n",
      "Df Model:                          15                                         \n",
      "Covariance Type:            nonrobust                                         \n",
      "======================================================================================\n",
      "                         coef    std err          t      P>|t|      [0.025      0.975]\n",
      "--------------------------------------------------------------------------------------\n",
      "const               5.482e+05   6139.389     89.298      0.000    5.36e+05     5.6e+05\n",
      "SATURDAY           -2.129e+05   3351.609    -63.514      0.000   -2.19e+05   -2.06e+05\n",
      "SUNDAY             -3.205e+05   3610.310    -88.785      0.000   -3.28e+05   -3.13e+05\n",
      "ratio_tm            1280.3912     99.405     12.881      0.000    1085.342    1475.440\n",
      "kms_ofertados          0.1528      0.019      7.866      0.000       0.115       0.191\n",
      "Verano             -9.699e+04   3088.566    -31.403      0.000   -1.03e+05   -9.09e+04\n",
      "Julio              -2.672e+04   3833.339     -6.970      0.000   -3.42e+04   -1.92e+04\n",
      "t                    -75.9304      4.769    -15.923      0.000     -85.287     -66.574\n",
      "Feriado_laboral    -2.862e+05   7591.074    -37.703      0.000   -3.01e+05   -2.71e+05\n",
      "Feriado_no_laboral -3.479e+04   7714.770     -4.509      0.000   -4.99e+04   -1.97e+04\n",
      "Censo_Elecciones   -2.676e+04   1.78e+04     -1.503      0.133   -6.17e+04    8179.549\n",
      "Partido            -1.844e+04   1.44e+04     -1.284      0.200   -4.66e+04    9743.758\n",
      "FDS_Largo          -2.388e+04   5113.583     -4.669      0.000   -3.39e+04   -1.38e+04\n",
      "Disturbios         -4.545e+04   1.43e+04     -3.171      0.002   -7.36e+04   -1.73e+04\n",
      "Clima              -5.093e+04   8567.201     -5.945      0.000   -6.77e+04   -3.41e+04\n",
      "visperas_laborales -6.296e+04   1.17e+04     -5.361      0.000    -8.6e+04   -3.99e+04\n",
      "==============================================================================\n",
      "Omnibus:                      317.155   Durbin-Watson:                   1.314\n",
      "Prob(Omnibus):                  0.000   Jarque-Bera (JB):             5222.483\n",
      "Skew:                           0.878   Prob(JB):                         0.00\n",
      "Kurtosis:                      13.549   Cond. No.                     3.95e+06\n",
      "==============================================================================\n",
      "\n",
      "Warnings:\n",
      "[1] Standard Errors assume that the covariance matrix of the errors is correctly specified.\n",
      "[2] The condition number is large, 3.95e+06. This might indicate that there are\n",
      "strong multicollinearity or other numerical problems.\n"
     ]
    }
   ],
   "source": [
    "results = model.fit()\n",
    "print(results.summary())"
   ]
  },
  {
   "cell_type": "markdown",
   "metadata": {},
   "source": [
    "* Unidad 4"
   ]
  },
  {
   "cell_type": "code",
   "execution_count": 36,
   "metadata": {
    "collapsed": true
   },
   "outputs": [],
   "source": [
    "UN = 'U4'\n",
    "\n",
    "summary_input_path = os.path.join(DTPM_TRXDir, '2_DAILY_UN_SUMMARY/' + UN + '/' + UN + '_summary.csv')\n",
    "\n",
    "summary = pd.read_csv(summary_input_path, sep=\";\", encoding=\"latin-1\")"
   ]
  },
  {
   "cell_type": "code",
   "execution_count": 37,
   "metadata": {
    "collapsed": true
   },
   "outputs": [],
   "source": [
    "no_turnstile_trx = summary.loc[:,'pn_SUM_TRX_no_t'].values\n",
    "three_turnstile_trx = summary.loc[:,'pn_SUM_TRX_3t'].values\n",
    "butterfly_turnstile_trx = summary.loc[:,'pn_SUM_TRX_tm'].values\n",
    "zp_trx = summary.loc[:,'zp_SUM_TRX'].values"
   ]
  },
  {
   "cell_type": "code",
   "execution_count": 38,
   "metadata": {
    "collapsed": true
   },
   "outputs": [],
   "source": [
    "total_trx = [sum(x) for x in zip(no_turnstile_trx, three_turnstile_trx, butterfly_turnstile_trx, zp_trx)]"
   ]
  },
  {
   "cell_type": "code",
   "execution_count": 39,
   "metadata": {
    "collapsed": true
   },
   "outputs": [],
   "source": [
    "variables_independientes = summary.loc[:, ['SATURDAY', 'SUNDAY', 'ratio_tm', 'Buses', 'Estudiantes Ed. Media/Superior', \n",
    "                                                'kms_ofertados', 'Enero', 'Febrero', 'Julio', 'Nov_2017', 'Dic_2017',\n",
    "                                                't', 'Feriado_laboral', 'Feriado_no_laboral', 'Censo_Elecciones', 'Partido',\n",
    "                                                'FDS_Largo', 'Disturbios', 'Corte_Metro', 'Retraso_Metro', 'Incidente_Metro',\n",
    "                                                'Bucle', 'Clima', 'visperas_laborales']]"
   ]
  },
  {
   "cell_type": "code",
   "execution_count": 40,
   "metadata": {
    "collapsed": true
   },
   "outputs": [],
   "source": [
    "variables_independientes.loc[:,'Verano'] =  variables_independientes.loc[:,'Enero'] + variables_independientes.loc[:,'Febrero']"
   ]
  },
  {
   "cell_type": "code",
   "execution_count": 41,
   "metadata": {
    "collapsed": true
   },
   "outputs": [],
   "source": [
    "variables_independientes.loc[:,'Nov_Dic_2017'] = variables_independientes.loc[:,'Nov_2017'] + variables_independientes.loc[:,'Dic_2017']"
   ]
  },
  {
   "cell_type": "code",
   "execution_count": 42,
   "metadata": {
    "collapsed": true
   },
   "outputs": [],
   "source": [
    "Y = total_trx\n",
    "X = variables_independientes.loc[:,['SATURDAY', 'SUNDAY', 'ratio_tm', 'kms_ofertados', 'Verano', 'Julio',\n",
    "                                                't', 'Feriado_laboral', 'Feriado_no_laboral', 'Censo_Elecciones', 'Partido',\n",
    "                                                'FDS_Largo', 'Disturbios', 'Clima', 'visperas_laborales']]"
   ]
  },
  {
   "cell_type": "code",
   "execution_count": 43,
   "metadata": {
    "collapsed": true
   },
   "outputs": [],
   "source": [
    "X = sm.add_constant(X)"
   ]
  },
  {
   "cell_type": "code",
   "execution_count": 44,
   "metadata": {
    "collapsed": true
   },
   "outputs": [],
   "source": [
    "model = sm.OLS(Y, X)"
   ]
  },
  {
   "cell_type": "code",
   "execution_count": 45,
   "metadata": {
    "scrolled": false
   },
   "outputs": [
    {
     "name": "stdout",
     "output_type": "stream",
     "text": [
      "                            OLS Regression Results                            \n",
      "==============================================================================\n",
      "Dep. Variable:                      y   R-squared:                       0.945\n",
      "Model:                            OLS   Adj. R-squared:                  0.944\n",
      "Method:                 Least Squares   F-statistic:                     1229.\n",
      "Date:                Thu, 01 Mar 2018   Prob (F-statistic):               0.00\n",
      "Time:                        12:39:42   Log-Likelihood:                -13150.\n",
      "No. Observations:                1096   AIC:                         2.633e+04\n",
      "Df Residuals:                    1080   BIC:                         2.641e+04\n",
      "Df Model:                          15                                         \n",
      "Covariance Type:            nonrobust                                         \n",
      "======================================================================================\n",
      "                         coef    std err          t      P>|t|      [0.025      0.975]\n",
      "--------------------------------------------------------------------------------------\n",
      "const               5.819e+05   6738.377     86.362      0.000    5.69e+05    5.95e+05\n",
      "SATURDAY            -2.63e+05   3690.037    -71.274      0.000    -2.7e+05   -2.56e+05\n",
      "SUNDAY             -3.684e+05   3989.631    -92.336      0.000   -3.76e+05   -3.61e+05\n",
      "ratio_tm            4575.4488    807.937      5.663      0.000    2990.144    6160.753\n",
      "kms_ofertados          0.1409      0.020      7.136      0.000       0.102       0.180\n",
      "Verano             -7.554e+04   3434.249    -21.995      0.000   -8.23e+04   -6.88e+04\n",
      "Julio              -2.713e+04   4348.735     -6.238      0.000   -3.57e+04   -1.86e+04\n",
      "t                    -78.3142      5.155    -15.191      0.000     -88.430     -68.199\n",
      "Feriado_laboral    -3.232e+05   8540.041    -37.842      0.000    -3.4e+05   -3.06e+05\n",
      "Feriado_no_laboral -4.104e+04   8741.730     -4.695      0.000   -5.82e+04   -2.39e+04\n",
      "Censo_Elecciones    -3.86e+04   2.02e+04     -1.912      0.056   -7.82e+04    1010.794\n",
      "Partido            -1.127e+05   1.64e+04     -6.887      0.000   -1.45e+05   -8.06e+04\n",
      "FDS_Largo          -1.944e+04   5780.471     -3.363      0.001   -3.08e+04   -8097.041\n",
      "Disturbios         -4.075e+04   1.63e+04     -2.507      0.012   -7.26e+04   -8850.219\n",
      "Clima              -6.255e+04   9721.011     -6.435      0.000   -8.16e+04   -4.35e+04\n",
      "visperas_laborales -8.856e+04   1.33e+04     -6.650      0.000   -1.15e+05   -6.24e+04\n",
      "==============================================================================\n",
      "Omnibus:                      243.488   Durbin-Watson:                   1.292\n",
      "Prob(Omnibus):                  0.000   Jarque-Bera (JB):             5893.306\n",
      "Skew:                           0.388   Prob(JB):                         0.00\n",
      "Kurtosis:                      14.333   Cond. No.                     4.27e+06\n",
      "==============================================================================\n",
      "\n",
      "Warnings:\n",
      "[1] Standard Errors assume that the covariance matrix of the errors is correctly specified.\n",
      "[2] The condition number is large, 4.27e+06. This might indicate that there are\n",
      "strong multicollinearity or other numerical problems.\n"
     ]
    }
   ],
   "source": [
    "results = model.fit()\n",
    "print(results.summary())"
   ]
  },
  {
   "cell_type": "markdown",
   "metadata": {},
   "source": [
    "* Unidad 5"
   ]
  },
  {
   "cell_type": "code",
   "execution_count": 46,
   "metadata": {
    "collapsed": true
   },
   "outputs": [],
   "source": [
    "UN = 'U5'\n",
    "\n",
    "summary_input_path = os.path.join(DTPM_TRXDir, '2_DAILY_UN_SUMMARY/' + UN + '/' + UN + '_summary.csv')\n",
    "\n",
    "summary = pd.read_csv(summary_input_path, sep=\";\", encoding=\"latin-1\")"
   ]
  },
  {
   "cell_type": "code",
   "execution_count": 47,
   "metadata": {
    "collapsed": true
   },
   "outputs": [],
   "source": [
    "no_turnstile_trx = summary.loc[:,'pn_SUM_TRX_no_t'].values\n",
    "three_turnstile_trx = summary.loc[:,'pn_SUM_TRX_3t'].values\n",
    "butterfly_turnstile_trx = summary.loc[:,'pn_SUM_TRX_tm'].values\n",
    "zp_trx = summary.loc[:,'zp_SUM_TRX'].values"
   ]
  },
  {
   "cell_type": "code",
   "execution_count": 48,
   "metadata": {
    "collapsed": true
   },
   "outputs": [],
   "source": [
    "total_trx = [sum(x) for x in zip(no_turnstile_trx, three_turnstile_trx, butterfly_turnstile_trx, zp_trx)]"
   ]
  },
  {
   "cell_type": "code",
   "execution_count": 49,
   "metadata": {
    "collapsed": true
   },
   "outputs": [],
   "source": [
    "variables_independientes = summary.loc[:, ['SATURDAY', 'SUNDAY', 'ratio_tm', 'Buses', 'Estudiantes Ed. Media/Superior', \n",
    "                                                'kms_ofertados', 'Enero', 'Febrero', 'Julio', 'Nov_2017', 'Dic_2017',\n",
    "                                                't', 'Feriado_laboral', 'Feriado_no_laboral', 'Censo_Elecciones', 'Partido',\n",
    "                                                'FDS_Largo', 'Disturbios', 'Corte_Metro', 'Retraso_Metro', 'Incidente_Metro',\n",
    "                                                'Bucle', 'Clima', 'visperas_laborales']]"
   ]
  },
  {
   "cell_type": "code",
   "execution_count": 50,
   "metadata": {
    "collapsed": true
   },
   "outputs": [],
   "source": [
    "variables_independientes.loc[:,'Verano'] =  variables_independientes.loc[:,'Enero'] + variables_independientes.loc[:,'Febrero']"
   ]
  },
  {
   "cell_type": "code",
   "execution_count": 51,
   "metadata": {
    "collapsed": true
   },
   "outputs": [],
   "source": [
    "variables_independientes.loc[:,'Nov_Dic_2017'] = variables_independientes.loc[:,'Nov_2017'] + variables_independientes.loc[:,'Dic_2017']"
   ]
  },
  {
   "cell_type": "code",
   "execution_count": 52,
   "metadata": {
    "collapsed": true
   },
   "outputs": [],
   "source": [
    "Y = total_trx\n",
    "X = variables_independientes.loc[:,['SATURDAY', 'SUNDAY', 'ratio_tm', 'kms_ofertados', 'Verano', 'Julio',\n",
    "                                                't', 'Feriado_laboral', 'Feriado_no_laboral', 'Censo_Elecciones', 'Partido',\n",
    "                                                'FDS_Largo', 'Disturbios', 'Clima', 'visperas_laborales']]"
   ]
  },
  {
   "cell_type": "code",
   "execution_count": 53,
   "metadata": {
    "collapsed": true
   },
   "outputs": [],
   "source": [
    "X = sm.add_constant(X)"
   ]
  },
  {
   "cell_type": "code",
   "execution_count": 54,
   "metadata": {
    "collapsed": true
   },
   "outputs": [],
   "source": [
    "model = sm.OLS(Y, X)"
   ]
  },
  {
   "cell_type": "code",
   "execution_count": 55,
   "metadata": {
    "scrolled": false
   },
   "outputs": [
    {
     "name": "stdout",
     "output_type": "stream",
     "text": [
      "                            OLS Regression Results                            \n",
      "==============================================================================\n",
      "Dep. Variable:                      y   R-squared:                       0.950\n",
      "Model:                            OLS   Adj. R-squared:                  0.949\n",
      "Method:                 Least Squares   F-statistic:                     1358.\n",
      "Date:                Thu, 01 Mar 2018   Prob (F-statistic):               0.00\n",
      "Time:                        12:39:45   Log-Likelihood:                -12991.\n",
      "No. Observations:                1096   AIC:                         2.601e+04\n",
      "Df Residuals:                    1080   BIC:                         2.609e+04\n",
      "Df Model:                          15                                         \n",
      "Covariance Type:            nonrobust                                         \n",
      "======================================================================================\n",
      "                         coef    std err          t      P>|t|      [0.025      0.975]\n",
      "--------------------------------------------------------------------------------------\n",
      "const               5.065e+05   5985.245     84.620      0.000    4.95e+05    5.18e+05\n",
      "SATURDAY           -2.306e+05   3318.059    -69.511      0.000   -2.37e+05   -2.24e+05\n",
      "SUNDAY             -3.316e+05   3613.613    -91.775      0.000   -3.39e+05   -3.25e+05\n",
      "ratio_tm            1004.6866    151.709      6.622      0.000     707.009    1302.364\n",
      "kms_ofertados          0.1769      0.023      7.574      0.000       0.131       0.223\n",
      "Verano             -8.871e+04   2996.591    -29.605      0.000   -9.46e+04   -8.28e+04\n",
      "Julio              -3.096e+04   3764.227     -8.225      0.000   -3.83e+04   -2.36e+04\n",
      "t                    -21.5364      4.669     -4.613      0.000     -30.698     -12.375\n",
      "Feriado_laboral    -2.942e+05   7475.413    -39.361      0.000   -3.09e+05    -2.8e+05\n",
      "Feriado_no_laboral -3.472e+04   7561.324     -4.591      0.000   -4.96e+04   -1.99e+04\n",
      "Censo_Elecciones   -3.271e+04   1.75e+04     -1.872      0.061    -6.7e+04    1577.453\n",
      "Partido            -7497.8862   1.41e+04     -0.532      0.595   -3.52e+04    2.02e+04\n",
      "FDS_Largo          -2.148e+04   5021.947     -4.277      0.000   -3.13e+04   -1.16e+04\n",
      "Disturbios         -4.766e+04   1.41e+04     -3.389      0.001   -7.53e+04   -2.01e+04\n",
      "Clima              -4.857e+04   8408.393     -5.776      0.000   -6.51e+04   -3.21e+04\n",
      "visperas_laborales -6.757e+04   1.15e+04     -5.862      0.000   -9.02e+04    -4.5e+04\n",
      "==============================================================================\n",
      "Omnibus:                      345.501   Durbin-Watson:                   1.353\n",
      "Prob(Omnibus):                  0.000   Jarque-Bera (JB):             5526.535\n",
      "Skew:                           1.007   Prob(JB):                         0.00\n",
      "Kurtosis:                      13.815   Cond. No.                     3.27e+06\n",
      "==============================================================================\n",
      "\n",
      "Warnings:\n",
      "[1] Standard Errors assume that the covariance matrix of the errors is correctly specified.\n",
      "[2] The condition number is large, 3.27e+06. This might indicate that there are\n",
      "strong multicollinearity or other numerical problems.\n"
     ]
    }
   ],
   "source": [
    "results = model.fit()\n",
    "print(results.summary())"
   ]
  },
  {
   "cell_type": "markdown",
   "metadata": {},
   "source": [
    "* Unidad 6"
   ]
  },
  {
   "cell_type": "code",
   "execution_count": 56,
   "metadata": {
    "collapsed": true
   },
   "outputs": [],
   "source": [
    "UN = 'U6'\n",
    "\n",
    "summary_input_path = os.path.join(DTPM_TRXDir, '2_DAILY_UN_SUMMARY/' + UN + '/' + UN + '_summary.csv')\n",
    "\n",
    "summary = pd.read_csv(summary_input_path, sep=\";\", encoding=\"latin-1\")"
   ]
  },
  {
   "cell_type": "code",
   "execution_count": 57,
   "metadata": {
    "collapsed": true
   },
   "outputs": [],
   "source": [
    "no_turnstile_trx = summary.loc[:,'pn_SUM_TRX_no_t'].values\n",
    "three_turnstile_trx = summary.loc[:,'pn_SUM_TRX_3t'].values\n",
    "butterfly_turnstile_trx = summary.loc[:,'pn_SUM_TRX_tm'].values\n",
    "zp_trx = summary.loc[:,'zp_SUM_TRX'].values"
   ]
  },
  {
   "cell_type": "code",
   "execution_count": 58,
   "metadata": {
    "collapsed": true
   },
   "outputs": [],
   "source": [
    "total_trx = [sum(x) for x in zip(no_turnstile_trx, three_turnstile_trx, butterfly_turnstile_trx, zp_trx)]"
   ]
  },
  {
   "cell_type": "code",
   "execution_count": 59,
   "metadata": {
    "collapsed": true
   },
   "outputs": [],
   "source": [
    "variables_independientes = summary.loc[:, ['SATURDAY', 'SUNDAY', 'ratio_tm', 'Buses', 'Estudiantes Ed. Media/Superior', \n",
    "                                                'kms_ofertados', 'Enero', 'Febrero', 'Julio', 'Nov_2017', 'Dic_2017',\n",
    "                                                't', 'Feriado_laboral', 'Feriado_no_laboral', 'Censo_Elecciones', 'Partido',\n",
    "                                                'FDS_Largo', 'Disturbios', 'Corte_Metro', 'Retraso_Metro', 'Incidente_Metro',\n",
    "                                                'Bucle', 'Clima', 'visperas_laborales']]"
   ]
  },
  {
   "cell_type": "code",
   "execution_count": 60,
   "metadata": {
    "collapsed": true
   },
   "outputs": [],
   "source": [
    "variables_independientes.loc[:,'Verano'] =  variables_independientes.loc[:,'Enero'] + variables_independientes.loc[:,'Febrero']"
   ]
  },
  {
   "cell_type": "code",
   "execution_count": 61,
   "metadata": {
    "collapsed": true
   },
   "outputs": [],
   "source": [
    "variables_independientes.loc[:,'Nov_Dic_2017'] = variables_independientes.loc[:,'Nov_2017'] + variables_independientes.loc[:,'Dic_2017']"
   ]
  },
  {
   "cell_type": "code",
   "execution_count": 62,
   "metadata": {
    "collapsed": true
   },
   "outputs": [],
   "source": [
    "Y = total_trx\n",
    "X = variables_independientes.loc[:,['SATURDAY', 'SUNDAY', 'ratio_tm', 'kms_ofertados', 'Verano', 'Julio',\n",
    "                                                't', 'Feriado_laboral', 'Feriado_no_laboral', 'Censo_Elecciones', 'Partido',\n",
    "                                                'FDS_Largo', 'Disturbios', 'Clima', 'visperas_laborales']]"
   ]
  },
  {
   "cell_type": "code",
   "execution_count": 63,
   "metadata": {
    "collapsed": true
   },
   "outputs": [],
   "source": [
    "X = sm.add_constant(X)"
   ]
  },
  {
   "cell_type": "code",
   "execution_count": 64,
   "metadata": {
    "collapsed": true
   },
   "outputs": [],
   "source": [
    "model = sm.OLS(Y, X)"
   ]
  },
  {
   "cell_type": "code",
   "execution_count": 65,
   "metadata": {
    "scrolled": false
   },
   "outputs": [
    {
     "name": "stdout",
     "output_type": "stream",
     "text": [
      "                            OLS Regression Results                            \n",
      "==============================================================================\n",
      "Dep. Variable:                      y   R-squared:                       0.948\n",
      "Model:                            OLS   Adj. R-squared:                  0.947\n",
      "Method:                 Least Squares   F-statistic:                     1309.\n",
      "Date:                Thu, 01 Mar 2018   Prob (F-statistic):               0.00\n",
      "Time:                        12:39:49   Log-Likelihood:                -12367.\n",
      "No. Observations:                1096   AIC:                         2.477e+04\n",
      "Df Residuals:                    1080   BIC:                         2.485e+04\n",
      "Df Model:                          15                                         \n",
      "Covariance Type:            nonrobust                                         \n",
      "======================================================================================\n",
      "                         coef    std err          t      P>|t|      [0.025      0.975]\n",
      "--------------------------------------------------------------------------------------\n",
      "const               2.997e+05   3555.551     84.296      0.000    2.93e+05    3.07e+05\n",
      "SATURDAY           -1.269e+05   1796.446    -70.666      0.000    -1.3e+05   -1.23e+05\n",
      "SUNDAY              -1.88e+05   1903.967    -98.747      0.000   -1.92e+05   -1.84e+05\n",
      "ratio_tm             494.4193     64.166      7.705      0.000     368.515     620.323\n",
      "kms_ofertados          0.1030      0.019      5.487      0.000       0.066       0.140\n",
      "Verano             -5.121e+04   1680.885    -30.463      0.000   -5.45e+04   -4.79e+04\n",
      "Julio              -1.926e+04   2131.186     -9.037      0.000   -2.34e+04   -1.51e+04\n",
      "t                    -29.1457      5.395     -5.402      0.000     -39.731     -18.560\n",
      "Feriado_laboral     -1.68e+05   4181.873    -40.175      0.000   -1.76e+05    -1.6e+05\n",
      "Feriado_no_laboral -2.529e+04   4272.382     -5.918      0.000   -3.37e+04   -1.69e+04\n",
      "Censo_Elecciones   -3.196e+04   9883.238     -3.234      0.001   -5.14e+04   -1.26e+04\n",
      "Partido            -7342.4459   7976.874     -0.920      0.358    -2.3e+04    8309.481\n",
      "FDS_Largo          -1.506e+04   2828.425     -5.325      0.000   -2.06e+04   -9511.742\n",
      "Disturbios         -1.806e+04   7956.901     -2.270      0.023   -3.37e+04   -2450.194\n",
      "Clima              -2.822e+04   4762.759     -5.924      0.000   -3.76e+04   -1.89e+04\n",
      "visperas_laborales -3.953e+04   6516.008     -6.066      0.000   -5.23e+04   -2.67e+04\n",
      "==============================================================================\n",
      "Omnibus:                      401.036   Durbin-Watson:                   1.280\n",
      "Prob(Omnibus):                  0.000   Jarque-Bera (JB):             7289.386\n",
      "Skew:                           1.204   Prob(JB):                         0.00\n",
      "Kurtosis:                      15.402   Cond. No.                     2.25e+06\n",
      "==============================================================================\n",
      "\n",
      "Warnings:\n",
      "[1] Standard Errors assume that the covariance matrix of the errors is correctly specified.\n",
      "[2] The condition number is large, 2.25e+06. This might indicate that there are\n",
      "strong multicollinearity or other numerical problems.\n"
     ]
    }
   ],
   "source": [
    "results = model.fit()\n",
    "print(results.summary())"
   ]
  },
  {
   "cell_type": "markdown",
   "metadata": {},
   "source": [
    "* Unidad 7"
   ]
  },
  {
   "cell_type": "code",
   "execution_count": 66,
   "metadata": {
    "collapsed": true
   },
   "outputs": [],
   "source": [
    "UN = 'U7'\n",
    "\n",
    "summary_input_path = os.path.join(DTPM_TRXDir, '2_DAILY_UN_SUMMARY/' + UN + '/' + UN + '_summary.csv')\n",
    "\n",
    "summary = pd.read_csv(summary_input_path, sep=\";\", encoding=\"latin-1\")"
   ]
  },
  {
   "cell_type": "code",
   "execution_count": 67,
   "metadata": {
    "collapsed": true
   },
   "outputs": [],
   "source": [
    "no_turnstile_trx = summary.loc[:,'pn_SUM_TRX_no_t'].values\n",
    "three_turnstile_trx = summary.loc[:,'pn_SUM_TRX_3t'].values\n",
    "butterfly_turnstile_trx = summary.loc[:,'pn_SUM_TRX_tm'].values\n",
    "zp_trx = summary.loc[:,'zp_SUM_TRX'].values"
   ]
  },
  {
   "cell_type": "code",
   "execution_count": 68,
   "metadata": {
    "collapsed": true
   },
   "outputs": [],
   "source": [
    "total_trx = [sum(x) for x in zip(no_turnstile_trx, three_turnstile_trx, butterfly_turnstile_trx, zp_trx)]"
   ]
  },
  {
   "cell_type": "code",
   "execution_count": 69,
   "metadata": {
    "collapsed": true
   },
   "outputs": [],
   "source": [
    "variables_independientes = summary.loc[:, ['SATURDAY', 'SUNDAY', 'ratio_tm', 'Buses', 'Estudiantes Ed. Media/Superior', \n",
    "                                                'kms_ofertados', 'Enero', 'Febrero', 'Julio', 'Nov_2017', 'Dic_2017',\n",
    "                                                't', 'Feriado_laboral', 'Feriado_no_laboral', 'Censo_Elecciones', 'Partido',\n",
    "                                                'FDS_Largo', 'Disturbios', 'Corte_Metro', 'Retraso_Metro', 'Incidente_Metro',\n",
    "                                                'Bucle', 'Clima', 'visperas_laborales']]"
   ]
  },
  {
   "cell_type": "code",
   "execution_count": 70,
   "metadata": {
    "collapsed": true
   },
   "outputs": [],
   "source": [
    "variables_independientes.loc[:,'Verano'] =  variables_independientes.loc[:,'Enero'] + variables_independientes.loc[:,'Febrero']"
   ]
  },
  {
   "cell_type": "code",
   "execution_count": 71,
   "metadata": {
    "collapsed": true
   },
   "outputs": [],
   "source": [
    "variables_independientes.loc[:,'Nov_Dic_2017'] = variables_independientes.loc[:,'Nov_2017'] + variables_independientes.loc[:,'Dic_2017']"
   ]
  },
  {
   "cell_type": "code",
   "execution_count": 72,
   "metadata": {
    "collapsed": true
   },
   "outputs": [],
   "source": [
    "Y = total_trx\n",
    "X = variables_independientes.loc[:,['SATURDAY', 'SUNDAY', 'ratio_tm', 'kms_ofertados', 'Verano', 'Julio',\n",
    "                                                't', 'Feriado_laboral', 'Feriado_no_laboral', 'Censo_Elecciones', 'Partido',\n",
    "                                                'FDS_Largo', 'Disturbios', 'Clima', 'visperas_laborales']]"
   ]
  },
  {
   "cell_type": "code",
   "execution_count": 73,
   "metadata": {
    "collapsed": true
   },
   "outputs": [],
   "source": [
    "X = sm.add_constant(X)"
   ]
  },
  {
   "cell_type": "code",
   "execution_count": 74,
   "metadata": {
    "collapsed": true
   },
   "outputs": [],
   "source": [
    "model = sm.OLS(Y, X)"
   ]
  },
  {
   "cell_type": "code",
   "execution_count": 75,
   "metadata": {
    "scrolled": false
   },
   "outputs": [
    {
     "name": "stdout",
     "output_type": "stream",
     "text": [
      "                            OLS Regression Results                            \n",
      "==============================================================================\n",
      "Dep. Variable:                      y   R-squared:                       0.943\n",
      "Model:                            OLS   Adj. R-squared:                  0.942\n",
      "Method:                 Least Squares   F-statistic:                     1182.\n",
      "Date:                Thu, 01 Mar 2018   Prob (F-statistic):               0.00\n",
      "Time:                        12:39:53   Log-Likelihood:                -11924.\n",
      "No. Observations:                1096   AIC:                         2.388e+04\n",
      "Df Residuals:                    1080   BIC:                         2.396e+04\n",
      "Df Model:                          15                                         \n",
      "Covariance Type:            nonrobust                                         \n",
      "======================================================================================\n",
      "                         coef    std err          t      P>|t|      [0.025      0.975]\n",
      "--------------------------------------------------------------------------------------\n",
      "const               1.673e+05   2158.585     77.512      0.000    1.63e+05    1.72e+05\n",
      "SATURDAY           -7.851e+04   1223.990    -64.144      0.000   -8.09e+04   -7.61e+04\n",
      "SUNDAY             -1.154e+05   1325.238    -87.097      0.000   -1.18e+05   -1.13e+05\n",
      "ratio_tm             573.4452     36.711     15.620      0.000     501.411     645.479\n",
      "kms_ofertados          0.1656      0.020      8.254      0.000       0.126       0.205\n",
      "Verano             -2.456e+04   1125.081    -21.832      0.000   -2.68e+04   -2.24e+04\n",
      "Julio              -1.169e+04   1422.180     -8.222      0.000   -1.45e+04   -8902.259\n",
      "t                      6.5454      1.923      3.404      0.001       2.772      10.319\n",
      "Feriado_laboral    -1.009e+05   2803.552    -36.003      0.000   -1.06e+05   -9.54e+04\n",
      "Feriado_no_laboral -1.044e+04   2856.283     -3.655      0.000    -1.6e+04   -4834.908\n",
      "Censo_Elecciones   -1.879e+04   6605.767     -2.844      0.005   -3.17e+04   -5824.287\n",
      "Partido             -220.5580   5325.095     -0.041      0.967   -1.07e+04    1.02e+04\n",
      "FDS_Largo          -8008.0482   1895.005     -4.226      0.000   -1.17e+04   -4289.739\n",
      "Disturbios         -1.125e+04   5312.526     -2.117      0.034   -2.17e+04    -822.438\n",
      "Clima              -2.062e+04   3176.723     -6.492      0.000   -2.69e+04   -1.44e+04\n",
      "visperas_laborales -2.313e+04   4350.222     -5.317      0.000   -3.17e+04   -1.46e+04\n",
      "==============================================================================\n",
      "Omnibus:                      268.989   Durbin-Watson:                   1.247\n",
      "Prob(Omnibus):                  0.000   Jarque-Bera (JB):             3359.111\n",
      "Skew:                           0.758   Prob(JB):                         0.00\n",
      "Kurtosis:                      11.441   Cond. No.                     1.50e+06\n",
      "==============================================================================\n",
      "\n",
      "Warnings:\n",
      "[1] Standard Errors assume that the covariance matrix of the errors is correctly specified.\n",
      "[2] The condition number is large, 1.5e+06. This might indicate that there are\n",
      "strong multicollinearity or other numerical problems.\n"
     ]
    }
   ],
   "source": [
    "results = model.fit()\n",
    "print(results.summary())"
   ]
  },
  {
   "cell_type": "code",
   "execution_count": null,
   "metadata": {
    "collapsed": true
   },
   "outputs": [],
   "source": []
  }
 ],
 "metadata": {
  "kernelspec": {
   "display_name": "Python 3",
   "language": "python",
   "name": "python3"
  },
  "language_info": {
   "codemirror_mode": {
    "name": "ipython",
    "version": 3
   },
   "file_extension": ".py",
   "mimetype": "text/x-python",
   "name": "python",
   "nbconvert_exporter": "python",
   "pygments_lexer": "ipython3",
   "version": "3.6.1"
  }
 },
 "nbformat": 4,
 "nbformat_minor": 2
}
