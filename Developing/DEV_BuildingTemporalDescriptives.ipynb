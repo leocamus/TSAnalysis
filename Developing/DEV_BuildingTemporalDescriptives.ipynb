{
 "cells": [
  {
   "cell_type": "markdown",
   "metadata": {},
   "source": [
    "### Analyzing all-dates descriptives"
   ]
  },
  {
   "cell_type": "code",
   "execution_count": null,
   "metadata": {
    "collapsed": true
   },
   "outputs": [],
   "source": [
    "import os\n",
    "import sys\n",
    "module_path = os.path.abspath(os.path.join('..'))\n",
    "if module_path not in sys.path:\n",
    "    sys.path.append(module_path)"
   ]
  },
  {
   "cell_type": "code",
   "execution_count": null,
   "metadata": {},
   "outputs": [],
   "source": [
    "%matplotlib inline\n",
    "from IPython.core.display import display, HTML\n",
    "display(HTML(\"<style>.container { width:80% !important; }</style>\"))\n",
    "\n",
    "import pandas as pd\n",
    "import matplotlib\n",
    "import matplotlib.pyplot as plt\n",
    "import matplotlib.dates as mdates\n",
    "import numpy as np\n",
    "import datetime as dt\n",
    "import time\n",
    "\n",
    "from importlib import reload\n",
    "from Utils import TransantiagoConstants\n",
    "import TemporalDescriptivesBuilder"
   ]
  },
  {
   "cell_type": "code",
   "execution_count": null,
   "metadata": {
    "collapsed": true
   },
   "outputs": [],
   "source": [
    "dates = TransantiagoConstants.updateCurrentSSHDates()\n",
    "summary_dir = TransantiagoConstants.SummaryDir"
   ]
  },
  {
   "cell_type": "markdown",
   "metadata": {},
   "source": [
    "* Only to re-factor"
   ]
  },
  {
   "cell_type": "code",
   "execution_count": null,
   "metadata": {
    "collapsed": true
   },
   "outputs": [],
   "source": [
    "#date = dates[0]\n",
    "dates = ['2017-03-15']"
   ]
  },
  {
   "cell_type": "code",
   "execution_count": null,
   "metadata": {
    "collapsed": true
   },
   "outputs": [],
   "source": [
    "#start_index = dates.index('2017-08-22') + 1"
   ]
  },
  {
   "cell_type": "code",
   "execution_count": null,
   "metadata": {
    "collapsed": true
   },
   "outputs": [],
   "source": [
    "#length_list = len(dates)"
   ]
  },
  {
   "cell_type": "code",
   "execution_count": null,
   "metadata": {
    "collapsed": true
   },
   "outputs": [],
   "source": [
    "#sub_dates = dates[start_index:length_list]"
   ]
  },
  {
   "cell_type": "code",
   "execution_count": null,
   "metadata": {
    "collapsed": true
   },
   "outputs": [],
   "source": [
    "#sub_dates"
   ]
  },
  {
   "cell_type": "markdown",
   "metadata": {},
   "source": [
    "*****"
   ]
  },
  {
   "cell_type": "markdown",
   "metadata": {},
   "source": [
    "* Building table (1) and (2) simultaneously"
   ]
  },
  {
   "cell_type": "code",
   "execution_count": null,
   "metadata": {
    "scrolled": false
   },
   "outputs": [],
   "source": [
    "tic = time.clock()\n",
    "general_summary = pd.DataFrame()\n",
    "ind = 0\n",
    "\n",
    "for date in dates:\n",
    "    print(date + ' is being processed')\n",
    "    temporal_descriptives_builder = TemporalDescriptivesBuilder.TemporalDescriptivesBuilderClass(date)\n",
    "    \n",
    "    ### General description of raw databases ###\n",
    "    temporal_descriptives_builder.loadEtapasAndOthers()\n",
    "    etapas_df = temporal_descriptives_builder.df\n",
    "    total_trx = len(etapas_df.index)\n",
    "    general_summary.loc[ind,'date'] = date\n",
    "    general_summary.loc[ind,'total_trx'] = total_trx\n",
    "    \n",
    "    ### General description of clean databases ###\n",
    "    temporal_descriptives_builder.processEtapas()\n",
    "    etapas_df = temporal_descriptives_builder.df\n",
    "    total_clean_trx = len(etapas_df.index)\n",
    "    total_clean_turnstile_trx = len(etapas_df.loc[etapas_df['torniquete_mariposa']==1,:].index)\n",
    "    total_clean_no_turnstile_trx = len(etapas_df.loc[etapas_df['no_torniquete']==1,:].index)\n",
    "    \n",
    "    avg_time_turnstile = etapas_df.loc[(etapas_df['torniquete_mariposa']==1) \n",
    "                                       &(~etapas_df['diferencia_tiempo_secs'].isnull()) \n",
    "                                       &(etapas_df['diferencia_tiempo_secs']<=etapas_df['diferencia_tiempo_secs'].quantile(.97)),'diferencia_tiempo_secs'].mean()\n",
    "    \n",
    "    avg_time_no_turnstile = etapas_df.loc[(etapas_df['no_torniquete']==1) \n",
    "                                       &(~etapas_df['diferencia_tiempo_secs'].isnull()) \n",
    "                                       &(etapas_df['diferencia_tiempo_secs']<=etapas_df['diferencia_tiempo_secs'].quantile(.97)),'diferencia_tiempo_secs'].mean()    \n",
    "    \n",
    "    std_time_turnstile = etapas_df.loc[(etapas_df['torniquete_mariposa']==1) \n",
    "                                       &(~etapas_df['diferencia_tiempo_secs'].isnull()) \n",
    "                                       &(etapas_df['diferencia_tiempo_secs']<=etapas_df['diferencia_tiempo_secs'].quantile(.97)),'diferencia_tiempo_secs'].std()\n",
    "        \n",
    "    std_time_no_turnstile = etapas_df.loc[(etapas_df['no_torniquete']==1) \n",
    "                                       &(~etapas_df['diferencia_tiempo_secs'].isnull()) \n",
    "                                       &(etapas_df['diferencia_tiempo_secs']<=etapas_df['diferencia_tiempo_secs'].quantile(.97)),'diferencia_tiempo_secs'].std()\n",
    "    \n",
    "    p_97 = etapas_df.loc[(~etapas_df['diferencia_tiempo_secs'].isnull())\n",
    "                         &(etapas_df['diferencia_tiempo_secs']<=etapas_df['diferencia_tiempo_secs'].quantile(.97)),'diferencia_tiempo_secs'].max()\n",
    "        \n",
    "    \n",
    "    general_summary.loc[ind,'total_clean_trx'] = total_clean_trx\n",
    "    general_summary.loc[ind,'total_clean_turnstile_trx'] = total_clean_turnstile_trx\n",
    "    general_summary.loc[ind,'total_clean_no_turnstile_trx'] = total_clean_no_turnstile_trx\n",
    "    general_summary.loc[ind,'avg_time_turnstile'] = avg_time_turnstile\n",
    "    general_summary.loc[ind,'avg_time_no_turnstile'] = avg_time_no_turnstile\n",
    "    general_summary.loc[ind,'std_time_turnstile'] = std_time_turnstile\n",
    "    general_summary.loc[ind,'std_time_no_turnstile'] = std_time_no_turnstile\n",
    "    general_summary.loc[ind,'P97'] = p_97\n",
    "    \n",
    "    ind = ind+1\n",
    "    ### Disaggregated analyses ###\n",
    "    temporal_descriptives_builder.appendPeriods()\n",
    "    temporal_descriptives_builder.groupData()\n",
    "    temporal_descriptives_builder.appendUnidadNegocio()\n",
    "    temporal_descriptives_builder.mergeTurnstileData()\n",
    "    grouped_data = temporal_descriptives_builder.grouped_data    \n",
    "    grouped_data['fecha']=date\n",
    "    name_file = date + '_sumtrx.csv'\n",
    "    disaggregated_path = os.path.join(summary_dir,name_file)\n",
    "    grouped_data.to_csv(disaggregated_path,sep=';')\n",
    "\n",
    "general_path = os.path.join(summary_dir,'summarytrx.csv')\n",
    "general_summary.to_csv(general_path, sep=';')\n",
    "toc = time.clock()\n",
    "print(toc-tic)\n"
   ]
  }
 ],
 "metadata": {
  "kernelspec": {
   "display_name": "Python 3",
   "language": "python",
   "name": "python3"
  },
  "language_info": {
   "codemirror_mode": {
    "name": "ipython",
    "version": 3
   },
   "file_extension": ".py",
   "mimetype": "text/x-python",
   "name": "python",
   "nbconvert_exporter": "python",
   "pygments_lexer": "ipython3",
   "version": "3.6.1"
  }
 },
 "nbformat": 4,
 "nbformat_minor": 2
}
