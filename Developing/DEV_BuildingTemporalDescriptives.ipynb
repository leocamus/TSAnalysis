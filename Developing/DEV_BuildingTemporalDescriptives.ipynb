{
 "cells": [
  {
   "cell_type": "markdown",
   "metadata": {},
   "source": [
    "### Analyzing all-dates descriptives"
   ]
  },
  {
   "cell_type": "code",
   "execution_count": 1,
   "metadata": {
    "collapsed": true
   },
   "outputs": [],
   "source": [
    "import os\n",
    "import sys\n",
    "module_path = os.path.abspath(os.path.join('..'))\n",
    "if module_path not in sys.path:\n",
    "    sys.path.append(module_path)"
   ]
  },
  {
   "cell_type": "code",
   "execution_count": 2,
   "metadata": {},
   "outputs": [
    {
     "data": {
      "text/html": [
       "<style>.container { width:80% !important; }</style>"
      ],
      "text/plain": [
       "<IPython.core.display.HTML object>"
      ]
     },
     "metadata": {},
     "output_type": "display_data"
    }
   ],
   "source": [
    "%matplotlib inline\n",
    "from IPython.core.display import display, HTML\n",
    "display(HTML(\"<style>.container { width:80% !important; }</style>\"))\n",
    "\n",
    "import pandas as pd\n",
    "import matplotlib\n",
    "import matplotlib.pyplot as plt\n",
    "import matplotlib.dates as mdates\n",
    "import numpy as np\n",
    "import datetime as dt\n",
    "import time\n",
    "\n",
    "from importlib import reload\n",
    "from Utils import TransantiagoConstants\n",
    "from RunSilentlyDailyEtapasBuilder import RunSilentlyDailyEtapasBuilderClass"
   ]
  },
  {
   "cell_type": "code",
   "execution_count": 3,
   "metadata": {
    "collapsed": true
   },
   "outputs": [],
   "source": [
    "DTPMDir = TransantiagoConstants.DTPMDir\n",
    "dates = TransantiagoConstants.updateCurrentSSHDates()\n",
    "\n",
    "codes_path = os.path.join(DTPMDir, 'codes_services.xlsx')\n",
    "codes = pd.read_excel(codes_path, encoding = 'latin-1')"
   ]
  },
  {
   "cell_type": "code",
   "execution_count": 4,
   "metadata": {},
   "outputs": [],
   "source": [
    "codes.loc[:,'TS_CODE'] = codes.loc[:,'TS_CODE'].apply(str)"
   ]
  },
  {
   "cell_type": "markdown",
   "metadata": {},
   "source": [
    "* Not necessary again"
   ]
  },
  {
   "cell_type": "code",
   "execution_count": 5,
   "metadata": {
    "collapsed": true
   },
   "outputs": [],
   "source": [
    "#tic = time.clock()\n",
    "\n",
    "#for date in dates:\n",
    "#    etapas_builder = RunSilentlyDailyEtapasBuilderClass(date)\n",
    "#    etapas_builder.runSimplifyEtapas()\n",
    "#    del etapas_builder\n",
    "\n",
    "#toc = time.clock()\n",
    "#toc-tic"
   ]
  },
  {
   "cell_type": "markdown",
   "metadata": {},
   "source": [
    "* Continuing with analyses.\n",
    "* <strike>Consider to refactor this block in order to get number of observations.</strike>\n",
    "* <strike>Consider to refactor this to get number of trx per database.</strike>\n",
    "* TODO: Consider to refactor this to get number of trx per database per operator -> <strike>this could be computationally expensive and not-so-easy, since it would be necessary to have some dictionary of operators and routes, and search between etapas and the dictionary</strike>\n",
    "* <strike>Consider to refactor this to get number of already processed databases.</strike>\n",
    "* Methodology is not robust to potential databases particularities. <strike><strong>Be aware of 2017-04-10 and 2017-04-17: outliers</strong></strike>. Identification of issues with these particular databases should be done from outside\n",
    "* Identification of special dates should be done from outside.\n",
    "* Complete process (for all available dates) took about 35 minutes."
   ]
  },
  {
   "cell_type": "markdown",
   "metadata": {},
   "source": [
    "* Filtering to refactor"
   ]
  },
  {
   "cell_type": "code",
   "execution_count": 6,
   "metadata": {
    "collapsed": true
   },
   "outputs": [],
   "source": [
    "dates = dates[:1]"
   ]
  },
  {
   "cell_type": "markdown",
   "metadata": {},
   "source": [
    "* End filtering"
   ]
  },
  {
   "cell_type": "code",
   "execution_count": 34,
   "metadata": {
    "collapsed": true
   },
   "outputs": [],
   "source": [
    "summary_descriptives = pd.DataFrame(index=dates)"
   ]
  },
  {
   "cell_type": "code",
   "execution_count": 35,
   "metadata": {},
   "outputs": [
    {
     "name": "stdout",
     "output_type": "stream",
     "text": [
      "Not found in turnstile database: 1614656\n"
     ]
    }
   ],
   "source": [
    "for date in dates:\n",
    "    etapas_builder = RunSilentlyDailyEtapasBuilderClass(date)\n",
    "    [etapas_df, processed_sorted_df, filtered_df, filtered_turnstile_df, filtered_no_turnstile_df]=etapas_builder.runCompleteProcess()\n",
    "    \n",
    "    #Pre-processing processed_sorted_df. Be aware that etapas_df only contains obs. of type 'BUS'\n",
    "    processed_sorted_df.loc[:,'servicio_subida'] = processed_sorted_df.loc[:,'servicio_subida'].str.replace('T','')\n",
    "#    processed_sorted_df.loc[:,'servicio_subida'] = processed_sorted_df.loc[:,'servicio_subida'].str.replace('00','')\n",
    "    processed_sorted_df.loc[:,'TS_CODE'] = processed_sorted_df.loc[:,'servicio_subida'].str.split(' ').str[0]\n",
    "#    processed_sorted_df.loc[:,'DIRECTION'] = processed_sorted_df.loc[:,'servicio_subida'].str.split(' ').str[1]\n",
    "    processed_sorted_df.loc[:,'DIRECTION'] = processed_sorted_df.loc[:,'servicio_subida'].str[-1:]\n",
    "    processed_sorted_df.loc[:,'DIRECTION'] = processed_sorted_df.loc[:,'DIRECTION'].str.replace('R','Ret')\n",
    "    processed_sorted_df.loc[:,'DIRECTION'] = processed_sorted_df.loc[:,'DIRECTION'].str.replace('I','Ida')\n",
    "    merged_etapas_df = pd.merge(processed_sorted_df,codes, on=['TS_CODE','DIRECTION'], how='left')\n",
    "    merged_etapas_df.loc[(merged_etapas_df['UN'].isnull()) & (merged_etapas_df['TS_CODE'].str[:1]=='1'),'UN'] = 1\n",
    "    merged_etapas_df.loc[(merged_etapas_df['UN'].isnull()) & (merged_etapas_df['TS_CODE'].str[:1]=='2'),'UN'] = 2\n",
    "    merged_etapas_df.loc[(merged_etapas_df['UN'].isnull()) & (merged_etapas_df['TS_CODE'].str[:1]=='3'),'UN'] = 3\n",
    "    merged_etapas_df.loc[(merged_etapas_df['UN'].isnull()) & (merged_etapas_df['TS_CODE'].str[:1]=='4'),'UN'] = 4\n",
    "    merged_etapas_df.loc[(merged_etapas_df['UN'].isnull()) & (merged_etapas_df['TS_CODE'].str[:1]=='5'),'UN'] = 5\n",
    "    merged_etapas_df.loc[(merged_etapas_df['UN'].isnull()) & (merged_etapas_df['TS_CODE'].str[:1]=='B'),'UN'] = 6\n",
    "    merged_etapas_df.loc[(merged_etapas_df['UN'].isnull()) & (merged_etapas_df['TS_CODE'].str[:1]=='F'),'UN'] = 7    \n",
    "    \n",
    "    summary_descriptives.loc[date,'total_raw_trx'] = len(etapas_df.index)\n",
    "    summary_descriptives.loc[date,'total_clean_trx'] = len(processed_sorted_df.index)\n",
    "    summary_descriptives.loc[date,'total_turns_trx'] = len(processed_sorted_df[processed_sorted_df['si_2017_torniquete']==True].index)\n",
    "    summary_descriptives.loc[date,'total_no_turns_trx'] = len(processed_sorted_df[processed_sorted_df['si_2017_torniquete']==False].index)    \n",
    "    \n",
    "\n",
    "    trx_by_un = merged_etapas_df.groupby(['UN'])['index'].count()\n",
    "    summary_descriptives['trx_1'], summary_descriptives['trx_2'], summary_descriptives['trx_3'] = [trx_by_un.loc[1], trx_by_un.loc[2], trx_by_un.loc[3]]\n",
    "    summary_descriptives['trx_4'], summary_descriptives['trx_5'], summary_descriptives['trx_6'] = [trx_by_un.loc[4], trx_by_un.loc[5], trx_by_un.loc[6]]\n",
    "    summary_descriptives['trx_7'] = trx_by_un.loc[7]\n",
    "    "
   ]
  },
  {
   "cell_type": "code",
   "execution_count": 36,
   "metadata": {},
   "outputs": [
    {
     "data": {
      "text/html": [
       "<div>\n",
       "<style>\n",
       "    .dataframe thead tr:only-child th {\n",
       "        text-align: right;\n",
       "    }\n",
       "\n",
       "    .dataframe thead th {\n",
       "        text-align: left;\n",
       "    }\n",
       "\n",
       "    .dataframe tbody tr th {\n",
       "        vertical-align: top;\n",
       "    }\n",
       "</style>\n",
       "<table border=\"1\" class=\"dataframe\">\n",
       "  <thead>\n",
       "    <tr style=\"text-align: right;\">\n",
       "      <th></th>\n",
       "      <th>index</th>\n",
       "      <th>id</th>\n",
       "      <th>nviaje</th>\n",
       "      <th>tipo_transporte</th>\n",
       "      <th>t_subida</th>\n",
       "      <th>servicio_subida</th>\n",
       "      <th>par_subida</th>\n",
       "      <th>sitio_subida</th>\n",
       "      <th>fecha_instalacion</th>\n",
       "      <th>mismo_paradero</th>\n",
       "      <th>misma_patente</th>\n",
       "      <th>mismo_servicio</th>\n",
       "      <th>diferencia_tiempo</th>\n",
       "      <th>diferencia_tiempo_secs</th>\n",
       "      <th>si_torniquete</th>\n",
       "      <th>si_2017_torniquete</th>\n",
       "      <th>TS_CODE</th>\n",
       "      <th>DIRECTION</th>\n",
       "    </tr>\n",
       "  </thead>\n",
       "  <tbody>\n",
       "    <tr>\n",
       "      <th>0</th>\n",
       "      <td>1863684</td>\n",
       "      <td>3552888222</td>\n",
       "      <td>1</td>\n",
       "      <td>BUS</td>\n",
       "      <td>2017-03-01 17:39:47</td>\n",
       "      <td>F07 00R</td>\n",
       "      <td>L-34-89-2-PO</td>\n",
       "      <td>BBJZ-74</td>\n",
       "      <td>NaT</td>\n",
       "      <td>False</td>\n",
       "      <td>False</td>\n",
       "      <td>False</td>\n",
       "      <td>NaT</td>\n",
       "      <td>NaN</td>\n",
       "      <td>False</td>\n",
       "      <td>False</td>\n",
       "      <td>F07</td>\n",
       "      <td>Ret</td>\n",
       "    </tr>\n",
       "    <tr>\n",
       "      <th>1</th>\n",
       "      <td>1203472</td>\n",
       "      <td>2529602798</td>\n",
       "      <td>1</td>\n",
       "      <td>BUS</td>\n",
       "      <td>2017-03-01 17:44:11</td>\n",
       "      <td>F07 00R</td>\n",
       "      <td>L-34-53-25-PO</td>\n",
       "      <td>BBJZ-74</td>\n",
       "      <td>NaT</td>\n",
       "      <td>False</td>\n",
       "      <td>True</td>\n",
       "      <td>True</td>\n",
       "      <td>NaT</td>\n",
       "      <td>NaN</td>\n",
       "      <td>False</td>\n",
       "      <td>False</td>\n",
       "      <td>F07</td>\n",
       "      <td>Ret</td>\n",
       "    </tr>\n",
       "    <tr>\n",
       "      <th>2</th>\n",
       "      <td>1598210</td>\n",
       "      <td>3169360958</td>\n",
       "      <td>1</td>\n",
       "      <td>BUS</td>\n",
       "      <td>2017-03-01 17:44:13</td>\n",
       "      <td>F07 00R</td>\n",
       "      <td>L-34-53-25-PO</td>\n",
       "      <td>BBJZ-74</td>\n",
       "      <td>NaT</td>\n",
       "      <td>True</td>\n",
       "      <td>True</td>\n",
       "      <td>True</td>\n",
       "      <td>00:00:02</td>\n",
       "      <td>2.0</td>\n",
       "      <td>False</td>\n",
       "      <td>False</td>\n",
       "      <td>F07</td>\n",
       "      <td>Ret</td>\n",
       "    </tr>\n",
       "    <tr>\n",
       "      <th>3</th>\n",
       "      <td>930514</td>\n",
       "      <td>2140206880</td>\n",
       "      <td>2</td>\n",
       "      <td>BUS</td>\n",
       "      <td>2017-03-01 17:44:16</td>\n",
       "      <td>F07 00R</td>\n",
       "      <td>L-34-53-25-PO</td>\n",
       "      <td>BBJZ-74</td>\n",
       "      <td>NaT</td>\n",
       "      <td>True</td>\n",
       "      <td>True</td>\n",
       "      <td>True</td>\n",
       "      <td>00:00:03</td>\n",
       "      <td>3.0</td>\n",
       "      <td>False</td>\n",
       "      <td>False</td>\n",
       "      <td>F07</td>\n",
       "      <td>Ret</td>\n",
       "    </tr>\n",
       "    <tr>\n",
       "      <th>4</th>\n",
       "      <td>1571797</td>\n",
       "      <td>3149482742</td>\n",
       "      <td>1</td>\n",
       "      <td>BUS</td>\n",
       "      <td>2017-03-01 17:46:33</td>\n",
       "      <td>F07 00R</td>\n",
       "      <td>L-34-53-40-PO</td>\n",
       "      <td>BBJZ-74</td>\n",
       "      <td>NaT</td>\n",
       "      <td>False</td>\n",
       "      <td>True</td>\n",
       "      <td>True</td>\n",
       "      <td>NaT</td>\n",
       "      <td>NaN</td>\n",
       "      <td>False</td>\n",
       "      <td>False</td>\n",
       "      <td>F07</td>\n",
       "      <td>Ret</td>\n",
       "    </tr>\n",
       "  </tbody>\n",
       "</table>\n",
       "</div>"
      ],
      "text/plain": [
       "     index          id  nviaje tipo_transporte            t_subida  \\\n",
       "0  1863684  3552888222       1             BUS 2017-03-01 17:39:47   \n",
       "1  1203472  2529602798       1             BUS 2017-03-01 17:44:11   \n",
       "2  1598210  3169360958       1             BUS 2017-03-01 17:44:13   \n",
       "3   930514  2140206880       2             BUS 2017-03-01 17:44:16   \n",
       "4  1571797  3149482742       1             BUS 2017-03-01 17:46:33   \n",
       "\n",
       "  servicio_subida     par_subida sitio_subida fecha_instalacion  \\\n",
       "0         F07 00R   L-34-89-2-PO      BBJZ-74               NaT   \n",
       "1         F07 00R  L-34-53-25-PO      BBJZ-74               NaT   \n",
       "2         F07 00R  L-34-53-25-PO      BBJZ-74               NaT   \n",
       "3         F07 00R  L-34-53-25-PO      BBJZ-74               NaT   \n",
       "4         F07 00R  L-34-53-40-PO      BBJZ-74               NaT   \n",
       "\n",
       "   mismo_paradero  misma_patente  mismo_servicio diferencia_tiempo  \\\n",
       "0           False          False           False               NaT   \n",
       "1           False           True            True               NaT   \n",
       "2            True           True            True          00:00:02   \n",
       "3            True           True            True          00:00:03   \n",
       "4           False           True            True               NaT   \n",
       "\n",
       "   diferencia_tiempo_secs  si_torniquete  si_2017_torniquete TS_CODE DIRECTION  \n",
       "0                     NaN          False               False     F07       Ret  \n",
       "1                     NaN          False               False     F07       Ret  \n",
       "2                     2.0          False               False     F07       Ret  \n",
       "3                     3.0          False               False     F07       Ret  \n",
       "4                     NaN          False               False     F07       Ret  "
      ]
     },
     "execution_count": 36,
     "metadata": {},
     "output_type": "execute_result"
    }
   ],
   "source": [
    "processed_sorted_df.head()"
   ]
  },
  {
   "cell_type": "code",
   "execution_count": 37,
   "metadata": {},
   "outputs": [
    {
     "data": {
      "text/html": [
       "<div>\n",
       "<style>\n",
       "    .dataframe thead tr:only-child th {\n",
       "        text-align: right;\n",
       "    }\n",
       "\n",
       "    .dataframe thead th {\n",
       "        text-align: left;\n",
       "    }\n",
       "\n",
       "    .dataframe tbody tr th {\n",
       "        vertical-align: top;\n",
       "    }\n",
       "</style>\n",
       "<table border=\"1\" class=\"dataframe\">\n",
       "  <thead>\n",
       "    <tr style=\"text-align: right;\">\n",
       "      <th></th>\n",
       "      <th>index</th>\n",
       "      <th>id</th>\n",
       "      <th>nviaje</th>\n",
       "      <th>tipo_transporte</th>\n",
       "      <th>t_subida</th>\n",
       "      <th>servicio_subida</th>\n",
       "      <th>par_subida</th>\n",
       "      <th>sitio_subida</th>\n",
       "      <th>fecha_instalacion</th>\n",
       "      <th>mismo_paradero</th>\n",
       "      <th>misma_patente</th>\n",
       "      <th>mismo_servicio</th>\n",
       "      <th>diferencia_tiempo</th>\n",
       "      <th>diferencia_tiempo_secs</th>\n",
       "      <th>si_torniquete</th>\n",
       "      <th>si_2017_torniquete</th>\n",
       "      <th>TS_CODE</th>\n",
       "      <th>DIRECTION</th>\n",
       "      <th>UN</th>\n",
       "      <th>USER_CODE</th>\n",
       "    </tr>\n",
       "  </thead>\n",
       "  <tbody>\n",
       "    <tr>\n",
       "      <th>0</th>\n",
       "      <td>1863684</td>\n",
       "      <td>3552888222</td>\n",
       "      <td>1</td>\n",
       "      <td>BUS</td>\n",
       "      <td>2017-03-01 17:39:47</td>\n",
       "      <td>F07 00R</td>\n",
       "      <td>L-34-89-2-PO</td>\n",
       "      <td>BBJZ-74</td>\n",
       "      <td>NaT</td>\n",
       "      <td>False</td>\n",
       "      <td>False</td>\n",
       "      <td>False</td>\n",
       "      <td>NaT</td>\n",
       "      <td>NaN</td>\n",
       "      <td>False</td>\n",
       "      <td>False</td>\n",
       "      <td>F07</td>\n",
       "      <td>Ret</td>\n",
       "      <td>7.0</td>\n",
       "      <td>F07</td>\n",
       "    </tr>\n",
       "    <tr>\n",
       "      <th>1</th>\n",
       "      <td>1203472</td>\n",
       "      <td>2529602798</td>\n",
       "      <td>1</td>\n",
       "      <td>BUS</td>\n",
       "      <td>2017-03-01 17:44:11</td>\n",
       "      <td>F07 00R</td>\n",
       "      <td>L-34-53-25-PO</td>\n",
       "      <td>BBJZ-74</td>\n",
       "      <td>NaT</td>\n",
       "      <td>False</td>\n",
       "      <td>True</td>\n",
       "      <td>True</td>\n",
       "      <td>NaT</td>\n",
       "      <td>NaN</td>\n",
       "      <td>False</td>\n",
       "      <td>False</td>\n",
       "      <td>F07</td>\n",
       "      <td>Ret</td>\n",
       "      <td>7.0</td>\n",
       "      <td>F07</td>\n",
       "    </tr>\n",
       "    <tr>\n",
       "      <th>2</th>\n",
       "      <td>1598210</td>\n",
       "      <td>3169360958</td>\n",
       "      <td>1</td>\n",
       "      <td>BUS</td>\n",
       "      <td>2017-03-01 17:44:13</td>\n",
       "      <td>F07 00R</td>\n",
       "      <td>L-34-53-25-PO</td>\n",
       "      <td>BBJZ-74</td>\n",
       "      <td>NaT</td>\n",
       "      <td>True</td>\n",
       "      <td>True</td>\n",
       "      <td>True</td>\n",
       "      <td>00:00:02</td>\n",
       "      <td>2.0</td>\n",
       "      <td>False</td>\n",
       "      <td>False</td>\n",
       "      <td>F07</td>\n",
       "      <td>Ret</td>\n",
       "      <td>7.0</td>\n",
       "      <td>F07</td>\n",
       "    </tr>\n",
       "    <tr>\n",
       "      <th>3</th>\n",
       "      <td>930514</td>\n",
       "      <td>2140206880</td>\n",
       "      <td>2</td>\n",
       "      <td>BUS</td>\n",
       "      <td>2017-03-01 17:44:16</td>\n",
       "      <td>F07 00R</td>\n",
       "      <td>L-34-53-25-PO</td>\n",
       "      <td>BBJZ-74</td>\n",
       "      <td>NaT</td>\n",
       "      <td>True</td>\n",
       "      <td>True</td>\n",
       "      <td>True</td>\n",
       "      <td>00:00:03</td>\n",
       "      <td>3.0</td>\n",
       "      <td>False</td>\n",
       "      <td>False</td>\n",
       "      <td>F07</td>\n",
       "      <td>Ret</td>\n",
       "      <td>7.0</td>\n",
       "      <td>F07</td>\n",
       "    </tr>\n",
       "    <tr>\n",
       "      <th>4</th>\n",
       "      <td>1571797</td>\n",
       "      <td>3149482742</td>\n",
       "      <td>1</td>\n",
       "      <td>BUS</td>\n",
       "      <td>2017-03-01 17:46:33</td>\n",
       "      <td>F07 00R</td>\n",
       "      <td>L-34-53-40-PO</td>\n",
       "      <td>BBJZ-74</td>\n",
       "      <td>NaT</td>\n",
       "      <td>False</td>\n",
       "      <td>True</td>\n",
       "      <td>True</td>\n",
       "      <td>NaT</td>\n",
       "      <td>NaN</td>\n",
       "      <td>False</td>\n",
       "      <td>False</td>\n",
       "      <td>F07</td>\n",
       "      <td>Ret</td>\n",
       "      <td>7.0</td>\n",
       "      <td>F07</td>\n",
       "    </tr>\n",
       "  </tbody>\n",
       "</table>\n",
       "</div>"
      ],
      "text/plain": [
       "     index          id  nviaje tipo_transporte            t_subida  \\\n",
       "0  1863684  3552888222       1             BUS 2017-03-01 17:39:47   \n",
       "1  1203472  2529602798       1             BUS 2017-03-01 17:44:11   \n",
       "2  1598210  3169360958       1             BUS 2017-03-01 17:44:13   \n",
       "3   930514  2140206880       2             BUS 2017-03-01 17:44:16   \n",
       "4  1571797  3149482742       1             BUS 2017-03-01 17:46:33   \n",
       "\n",
       "  servicio_subida     par_subida sitio_subida fecha_instalacion  \\\n",
       "0         F07 00R   L-34-89-2-PO      BBJZ-74               NaT   \n",
       "1         F07 00R  L-34-53-25-PO      BBJZ-74               NaT   \n",
       "2         F07 00R  L-34-53-25-PO      BBJZ-74               NaT   \n",
       "3         F07 00R  L-34-53-25-PO      BBJZ-74               NaT   \n",
       "4         F07 00R  L-34-53-40-PO      BBJZ-74               NaT   \n",
       "\n",
       "   mismo_paradero  misma_patente  mismo_servicio diferencia_tiempo  \\\n",
       "0           False          False           False               NaT   \n",
       "1           False           True            True               NaT   \n",
       "2            True           True            True          00:00:02   \n",
       "3            True           True            True          00:00:03   \n",
       "4           False           True            True               NaT   \n",
       "\n",
       "   diferencia_tiempo_secs  si_torniquete  si_2017_torniquete TS_CODE  \\\n",
       "0                     NaN          False               False     F07   \n",
       "1                     NaN          False               False     F07   \n",
       "2                     2.0          False               False     F07   \n",
       "3                     3.0          False               False     F07   \n",
       "4                     NaN          False               False     F07   \n",
       "\n",
       "  DIRECTION   UN USER_CODE  \n",
       "0       Ret  7.0       F07  \n",
       "1       Ret  7.0       F07  \n",
       "2       Ret  7.0       F07  \n",
       "3       Ret  7.0       F07  \n",
       "4       Ret  7.0       F07  "
      ]
     },
     "execution_count": 37,
     "metadata": {},
     "output_type": "execute_result"
    }
   ],
   "source": [
    "merged_etapas_df.head()"
   ]
  },
  {
   "cell_type": "code",
   "execution_count": 38,
   "metadata": {},
   "outputs": [
    {
     "data": {
      "text/plain": [
       "2210399"
      ]
     },
     "execution_count": 38,
     "metadata": {},
     "output_type": "execute_result"
    }
   ],
   "source": [
    "len(processed_sorted_df.index)"
   ]
  },
  {
   "cell_type": "code",
   "execution_count": 39,
   "metadata": {},
   "outputs": [
    {
     "data": {
      "text/plain": [
       "2210399"
      ]
     },
     "execution_count": 39,
     "metadata": {},
     "output_type": "execute_result"
    }
   ],
   "source": [
    "len(merged_etapas_df.index)"
   ]
  },
  {
   "cell_type": "code",
   "execution_count": 40,
   "metadata": {},
   "outputs": [
    {
     "data": {
      "text/plain": [
       "array([], dtype=object)"
      ]
     },
     "execution_count": 40,
     "metadata": {},
     "output_type": "execute_result"
    }
   ],
   "source": [
    "merged_etapas_df.loc[merged_etapas_df['UN'].isnull(),'TS_CODE'].unique()"
   ]
  },
  {
   "cell_type": "code",
   "execution_count": 41,
   "metadata": {},
   "outputs": [
    {
     "data": {
      "text/plain": [
       "0"
      ]
     },
     "execution_count": 41,
     "metadata": {},
     "output_type": "execute_result"
    }
   ],
   "source": [
    "len(merged_etapas_df[merged_etapas_df['UN'].isnull()].index)"
   ]
  },
  {
   "cell_type": "code",
   "execution_count": 42,
   "metadata": {},
   "outputs": [
    {
     "data": {
      "text/plain": [
       "2017-03-01    2210399\n",
       "dtype: int64"
      ]
     },
     "execution_count": 42,
     "metadata": {},
     "output_type": "execute_result"
    }
   ],
   "source": [
    "summary_descriptives['trx_1']+summary_descriptives['trx_2']+summary_descriptives['trx_3']+summary_descriptives['trx_4']+summary_descriptives['trx_5']+summary_descriptives['trx_6']+summary_descriptives['trx_7']"
   ]
  },
  {
   "cell_type": "code",
   "execution_count": 43,
   "metadata": {},
   "outputs": [
    {
     "data": {
      "text/html": [
       "<div>\n",
       "<style>\n",
       "    .dataframe thead tr:only-child th {\n",
       "        text-align: right;\n",
       "    }\n",
       "\n",
       "    .dataframe thead th {\n",
       "        text-align: left;\n",
       "    }\n",
       "\n",
       "    .dataframe tbody tr th {\n",
       "        vertical-align: top;\n",
       "    }\n",
       "</style>\n",
       "<table border=\"1\" class=\"dataframe\">\n",
       "  <thead>\n",
       "    <tr style=\"text-align: right;\">\n",
       "      <th></th>\n",
       "      <th>total_raw_trx</th>\n",
       "      <th>total_clean_trx</th>\n",
       "      <th>total_turns_trx</th>\n",
       "      <th>total_no_turns_trx</th>\n",
       "      <th>trx_1</th>\n",
       "      <th>trx_2</th>\n",
       "      <th>trx_3</th>\n",
       "      <th>trx_4</th>\n",
       "      <th>trx_5</th>\n",
       "      <th>trx_6</th>\n",
       "      <th>trx_7</th>\n",
       "    </tr>\n",
       "  </thead>\n",
       "  <tbody>\n",
       "    <tr>\n",
       "      <th>2017-03-01</th>\n",
       "      <td>2329229.0</td>\n",
       "      <td>2210399.0</td>\n",
       "      <td>48762.0</td>\n",
       "      <td>2161637.0</td>\n",
       "      <td>253643</td>\n",
       "      <td>362604</td>\n",
       "      <td>395000</td>\n",
       "      <td>424460</td>\n",
       "      <td>397512</td>\n",
       "      <td>243354</td>\n",
       "      <td>133826</td>\n",
       "    </tr>\n",
       "  </tbody>\n",
       "</table>\n",
       "</div>"
      ],
      "text/plain": [
       "            total_raw_trx  total_clean_trx  total_turns_trx  \\\n",
       "2017-03-01      2329229.0        2210399.0          48762.0   \n",
       "\n",
       "            total_no_turns_trx   trx_1   trx_2   trx_3   trx_4   trx_5  \\\n",
       "2017-03-01           2161637.0  253643  362604  395000  424460  397512   \n",
       "\n",
       "             trx_6   trx_7  \n",
       "2017-03-01  243354  133826  "
      ]
     },
     "execution_count": 43,
     "metadata": {},
     "output_type": "execute_result"
    }
   ],
   "source": [
    "summary_descriptives"
   ]
  },
  {
   "cell_type": "code",
   "execution_count": null,
   "metadata": {
    "collapsed": true
   },
   "outputs": [],
   "source": [
    "quantile = 0.97\n",
    "processed = 0\n",
    "\n",
    "tic = time.clock()\n",
    "\n",
    "for date in dates:\n",
    "    etapas_builder = RunSilentlyDailyEtapasBuilderClass(date)\n",
    "    [etapas_df, processed_sorted_df, filtered_df, filtered_turnstile_df, filtered_no_turnstile_df]=etapas_builder.runCompleteProcess()\n",
    "    \n",
    "    #Pre-processing processed_sorted_df. Be aware that etapas_df only contains obs. of type 'BUS'\n",
    "    processed_sorted_df.loc[:,'servicio_subida'] = processed_sorted_df.loc[:,'servicio_subida'].str.replace('T','')\n",
    "    processed_sorted_df.loc[:,'servicio_subida'] = processed_sorted_df.loc[:,'servicio_subida'].str.replace('00','')\n",
    "    processed_sorted_df.loc[:,'TS_CODE'] = processed_sorted_df.loc[:,'servicio_subida'].str.split(' ').str[0]\n",
    "    processed_sorted_df.loc[:,'DIRECTION'] = processed_sorted_df.loc[:,'servicio_subida'].str.split(' ').str[1]\n",
    "    processed_sorted_df.loc[:,'DIRECTION'] = processed_sorted_df.loc[:,'DIRECTION'].str.replace('R','Ret')\n",
    "    processed_sorted_df.loc[:,'DIRECTION'] = processed_sorted_df.loc[:,'DIRECTION'].str.replace('I','Ida')\n",
    "    merged_etapas_df = pd.merge(processed_sorted_df,codes, on=['TS_CODE','DIRECTION'], how='left')\n",
    "\n",
    "    #Filling trx info:\n",
    "    total_raw_trx.append(len(etapas_df.index))\n",
    "    total_trx.append(len(processed_sorted_df.index))\n",
    "    total_turns_trx.append(processed_sorted_df[processed_sorted_df.si_2017_torniquete==True].count()[0])\n",
    "    total_no_turns_trx.append(processed_sorted_df[processed_sorted_df.si_torniquete==False].count()[0])\n",
    "        \n",
    "    #Filtering and following the original methodology:\n",
    "    turnstile_q = filtered_turnstile_df.diferencia_tiempo.quantile(quantile)\n",
    "    no_turnstile_q = filtered_no_turnstile_df.diferencia_tiempo.quantile(quantile)    \n",
    "    \n",
    "    filtered_turnstile_q_df = filtered_turnstile_df[filtered_turnstile_df.diferencia_tiempo<=turnstile_q]\n",
    "    filtered_no_turnstile_q_df = filtered_no_turnstile_df[filtered_no_turnstile_df.diferencia_tiempo<=no_turnstile_q]\n",
    "    \n",
    "    turnstile_obs.append(len(filtered_turnstile_q_df.index))\n",
    "    turnstile_means.append(filtered_turnstile_q_df['diferencia_tiempo_secs'].mean())\n",
    "    turnstile_stds.append(filtered_turnstile_q_df['diferencia_tiempo_secs'].std())\n",
    "    turnstile_medians.append(filtered_turnstile_q_df['diferencia_tiempo_secs'].quantile(0.50))\n",
    "    turnstile_maxs.append(filtered_turnstile_q_df['diferencia_tiempo_secs'].max())\n",
    "    \n",
    "    no_turnstile_obs.append(len(filtered_no_turnstile_q_df.index))\n",
    "    no_turnstile_means.append(filtered_no_turnstile_q_df['diferencia_tiempo_secs'].mean())\n",
    "    no_turnstile_stds.append(filtered_no_turnstile_q_df['diferencia_tiempo_secs'].std())    \n",
    "    no_turnstile_medians.append(filtered_no_turnstile_q_df['diferencia_tiempo_secs'].quantile(0.50))\n",
    "    no_turnstile_maxs.append(filtered_no_turnstile_q_df['diferencia_tiempo_secs'].max())\n",
    "    \n",
    "    processed = processed + 1\n",
    "    print('Number of already processed ddbb is ' + str(processed))\n",
    "    del etapas_builder\n",
    "    \n",
    "toc = time.clock()  \n",
    "toc-tic"
   ]
  },
  {
   "cell_type": "markdown",
   "metadata": {},
   "source": [
    "* Summarizing"
   ]
  },
  {
   "cell_type": "code",
   "execution_count": null,
   "metadata": {
    "collapsed": true
   },
   "outputs": [],
   "source": [
    "dates = [dt.datetime.strptime(x, \"%Y-%m-%d\").date() for x in dates]"
   ]
  },
  {
   "cell_type": "code",
   "execution_count": null,
   "metadata": {
    "collapsed": true,
    "scrolled": true
   },
   "outputs": [],
   "source": [
    "summary_descriptives = pd.DataFrame(\n",
    "    {'date': dates,\n",
    "     'total_raw_trx': total_raw_trx,\n",
    "     'total_trx': total_trx,\n",
    "     'total_turns_trx': total_turns_trx,\n",
    "     'total_no_turns_trx': total_no_turns_trx,\n",
    "     'turnstile_obs':turnstile_obs,\n",
    "     'turnstile_means': turnstile_means,\n",
    "     'turnstile_stds': turnstile_stds,\n",
    "     'turnstile_medians': turnstile_medians,\n",
    "     'turnstile_maxs': turnstile_maxs,\n",
    "     'no_turnstile_obs': no_turnstile_obs,\n",
    "     'no_turnstile_means': no_turnstile_means,\n",
    "     'no_turnstile_stds': no_turnstile_stds,\n",
    "     'no_turnstile_medians': no_turnstile_medians,\n",
    "     'no_turnstile_maxs': no_turnstile_maxs})"
   ]
  },
  {
   "cell_type": "code",
   "execution_count": null,
   "metadata": {
    "collapsed": true
   },
   "outputs": [],
   "source": [
    "cols = ['date','total_raw_trx','total_trx','total_turns_trx','total_no_turns_trx',\n",
    "        'turnstile_obs','turnstile_means','turnstile_stds','turnstile_medians','turnstile_maxs',\n",
    "        'no_turnstile_obs','no_turnstile_means','no_turnstile_stds', 'no_turnstile_medians', 'no_turnstile_maxs']\n",
    "summary_descriptives = summary_descriptives[cols]"
   ]
  },
  {
   "cell_type": "markdown",
   "metadata": {},
   "source": [
    "* Checking"
   ]
  },
  {
   "cell_type": "code",
   "execution_count": null,
   "metadata": {
    "collapsed": true
   },
   "outputs": [],
   "source": [
    "summary_descriptives"
   ]
  },
  {
   "cell_type": "markdown",
   "metadata": {},
   "source": [
    "* Writting the ddbb to a file"
   ]
  },
  {
   "cell_type": "code",
   "execution_count": null,
   "metadata": {
    "collapsed": true
   },
   "outputs": [],
   "source": [
    "#summary_descriptives.to_csv('C:/Users/Tesista/Desktop/Evasion/01_analisis/03_datos/05_SUMMARY/DescriptivesSummary.csv', sep=';', encoding = 'latin-1')"
   ]
  }
 ],
 "metadata": {
  "kernelspec": {
   "display_name": "Python 3",
   "language": "python",
   "name": "python3"
  },
  "language_info": {
   "codemirror_mode": {
    "name": "ipython",
    "version": 3
   },
   "file_extension": ".py",
   "mimetype": "text/x-python",
   "name": "python",
   "nbconvert_exporter": "python",
   "pygments_lexer": "ipython3",
   "version": "3.6.1"
  }
 },
 "nbformat": 4,
 "nbformat_minor": 2
}
