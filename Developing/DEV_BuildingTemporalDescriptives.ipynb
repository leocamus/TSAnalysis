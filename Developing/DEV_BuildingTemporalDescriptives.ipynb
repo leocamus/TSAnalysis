{
 "cells": [
  {
   "cell_type": "markdown",
   "metadata": {},
   "source": [
    "### Analyzing all-dates descriptives"
   ]
  },
  {
   "cell_type": "code",
   "execution_count": 1,
   "metadata": {
    "collapsed": true
   },
   "outputs": [],
   "source": [
    "import os\n",
    "import sys\n",
    "module_path = os.path.abspath(os.path.join('..'))\n",
    "if module_path not in sys.path:\n",
    "    sys.path.append(module_path)"
   ]
  },
  {
   "cell_type": "code",
   "execution_count": 2,
   "metadata": {},
   "outputs": [
    {
     "data": {
      "text/html": [
       "<style>.container { width:80% !important; }</style>"
      ],
      "text/plain": [
       "<IPython.core.display.HTML object>"
      ]
     },
     "metadata": {},
     "output_type": "display_data"
    }
   ],
   "source": [
    "%matplotlib inline\n",
    "from IPython.core.display import display, HTML\n",
    "display(HTML(\"<style>.container { width:80% !important; }</style>\"))\n",
    "\n",
    "import pandas as pd\n",
    "import matplotlib\n",
    "import matplotlib.pyplot as plt\n",
    "import matplotlib.dates as mdates\n",
    "import numpy as np\n",
    "import datetime as dt\n",
    "import time\n",
    "\n",
    "from importlib import reload\n",
    "from Utils import TransantiagoConstants\n",
    "from RunSilentlyDailyEtapasBuilder import RunSilentlyDailyEtapasBuilderClass"
   ]
  },
  {
   "cell_type": "code",
   "execution_count": 3,
   "metadata": {
    "collapsed": true
   },
   "outputs": [],
   "source": [
    "from TemporalDescriptivesBuilder import TemporalDescriptivesBuilderClass"
   ]
  },
  {
   "cell_type": "code",
   "execution_count": 4,
   "metadata": {
    "collapsed": true
   },
   "outputs": [],
   "source": [
    "dates = TransantiagoConstants.updateCurrentSSHDates()"
   ]
  },
  {
   "cell_type": "markdown",
   "metadata": {},
   "source": [
    "* Only to re-factor"
   ]
  },
  {
   "cell_type": "code",
   "execution_count": 5,
   "metadata": {
    "collapsed": true
   },
   "outputs": [],
   "source": [
    "date = dates[0]"
   ]
  },
  {
   "cell_type": "markdown",
   "metadata": {},
   "source": [
    "*****"
   ]
  },
  {
   "cell_type": "code",
   "execution_count": 6,
   "metadata": {},
   "outputs": [
    {
     "name": "stdout",
     "output_type": "stream",
     "text": [
      "Not found in turnstile database: 1530173\n"
     ]
    }
   ],
   "source": [
    "temporal_descriptives_builder = TemporalDescriptivesBuilderClass(date)\n",
    "temporal_descriptives_builder.loadEtapas()\n",
    "temporal_descriptives_builder.loadPeriods()\n",
    "temporal_descriptives_builder.cleanAndProcessEtapas()\n",
    "temporal_descriptives_builder.appendPeriods()"
   ]
  },
  {
   "cell_type": "code",
   "execution_count": 7,
   "metadata": {
    "collapsed": true
   },
   "outputs": [],
   "source": [
    "processed_df = temporal_descriptives_builder.df"
   ]
  },
  {
   "cell_type": "code",
   "execution_count": 8,
   "metadata": {},
   "outputs": [
    {
     "data": {
      "text/html": [
       "<div>\n",
       "<style>\n",
       "    .dataframe thead tr:only-child th {\n",
       "        text-align: right;\n",
       "    }\n",
       "\n",
       "    .dataframe thead th {\n",
       "        text-align: left;\n",
       "    }\n",
       "\n",
       "    .dataframe tbody tr th {\n",
       "        vertical-align: top;\n",
       "    }\n",
       "</style>\n",
       "<table border=\"1\" class=\"dataframe\">\n",
       "  <thead>\n",
       "    <tr style=\"text-align: right;\">\n",
       "      <th></th>\n",
       "      <th>id</th>\n",
       "      <th>nviaje</th>\n",
       "      <th>tipo_transporte</th>\n",
       "      <th>t_subida</th>\n",
       "      <th>media_hora_subida</th>\n",
       "      <th>servicio_subida</th>\n",
       "      <th>par_subida</th>\n",
       "      <th>sitio_subida</th>\n",
       "      <th>fecha_instalacion</th>\n",
       "      <th>mismo_paradero</th>\n",
       "      <th>misma_patente</th>\n",
       "      <th>mismo_servicio</th>\n",
       "      <th>diferencia_tiempo</th>\n",
       "      <th>diferencia_tiempo_secs</th>\n",
       "      <th>si_torniquete</th>\n",
       "      <th>si_2017_torniquete</th>\n",
       "      <th>PERIODO</th>\n",
       "    </tr>\n",
       "  </thead>\n",
       "  <tbody>\n",
       "    <tr>\n",
       "      <th>0</th>\n",
       "      <td>3552888222</td>\n",
       "      <td>1</td>\n",
       "      <td>BUS</td>\n",
       "      <td>2017-03-01 17:39:47</td>\n",
       "      <td>17:30:00</td>\n",
       "      <td>F07 00R</td>\n",
       "      <td>L-34-89-2-PO</td>\n",
       "      <td>BBJZ-74</td>\n",
       "      <td>NaT</td>\n",
       "      <td>False</td>\n",
       "      <td>False</td>\n",
       "      <td>False</td>\n",
       "      <td>NaT</td>\n",
       "      <td>NaN</td>\n",
       "      <td>False</td>\n",
       "      <td>False</td>\n",
       "      <td>PTA</td>\n",
       "    </tr>\n",
       "    <tr>\n",
       "      <th>1</th>\n",
       "      <td>2529602798</td>\n",
       "      <td>1</td>\n",
       "      <td>BUS</td>\n",
       "      <td>2017-03-01 17:44:11</td>\n",
       "      <td>17:30:00</td>\n",
       "      <td>F07 00R</td>\n",
       "      <td>L-34-53-25-PO</td>\n",
       "      <td>BBJZ-74</td>\n",
       "      <td>NaT</td>\n",
       "      <td>False</td>\n",
       "      <td>True</td>\n",
       "      <td>True</td>\n",
       "      <td>NaT</td>\n",
       "      <td>NaN</td>\n",
       "      <td>False</td>\n",
       "      <td>False</td>\n",
       "      <td>PTA</td>\n",
       "    </tr>\n",
       "    <tr>\n",
       "      <th>2</th>\n",
       "      <td>3169360958</td>\n",
       "      <td>1</td>\n",
       "      <td>BUS</td>\n",
       "      <td>2017-03-01 17:44:13</td>\n",
       "      <td>17:30:00</td>\n",
       "      <td>F07 00R</td>\n",
       "      <td>L-34-53-25-PO</td>\n",
       "      <td>BBJZ-74</td>\n",
       "      <td>NaT</td>\n",
       "      <td>True</td>\n",
       "      <td>True</td>\n",
       "      <td>True</td>\n",
       "      <td>00:00:02</td>\n",
       "      <td>2.0</td>\n",
       "      <td>False</td>\n",
       "      <td>False</td>\n",
       "      <td>PTA</td>\n",
       "    </tr>\n",
       "    <tr>\n",
       "      <th>3</th>\n",
       "      <td>2140206880</td>\n",
       "      <td>2</td>\n",
       "      <td>BUS</td>\n",
       "      <td>2017-03-01 17:44:16</td>\n",
       "      <td>17:30:00</td>\n",
       "      <td>F07 00R</td>\n",
       "      <td>L-34-53-25-PO</td>\n",
       "      <td>BBJZ-74</td>\n",
       "      <td>NaT</td>\n",
       "      <td>True</td>\n",
       "      <td>True</td>\n",
       "      <td>True</td>\n",
       "      <td>00:00:03</td>\n",
       "      <td>3.0</td>\n",
       "      <td>False</td>\n",
       "      <td>False</td>\n",
       "      <td>PTA</td>\n",
       "    </tr>\n",
       "    <tr>\n",
       "      <th>4</th>\n",
       "      <td>3149482742</td>\n",
       "      <td>1</td>\n",
       "      <td>BUS</td>\n",
       "      <td>2017-03-01 17:46:33</td>\n",
       "      <td>17:30:00</td>\n",
       "      <td>F07 00R</td>\n",
       "      <td>L-34-53-40-PO</td>\n",
       "      <td>BBJZ-74</td>\n",
       "      <td>NaT</td>\n",
       "      <td>False</td>\n",
       "      <td>True</td>\n",
       "      <td>True</td>\n",
       "      <td>NaT</td>\n",
       "      <td>NaN</td>\n",
       "      <td>False</td>\n",
       "      <td>False</td>\n",
       "      <td>PTA</td>\n",
       "    </tr>\n",
       "    <tr>\n",
       "      <th>5</th>\n",
       "      <td>2461932524</td>\n",
       "      <td>2</td>\n",
       "      <td>BUS</td>\n",
       "      <td>2017-03-01 17:48:45</td>\n",
       "      <td>17:30:00</td>\n",
       "      <td>F07 00R</td>\n",
       "      <td>L-34-23-15-NS</td>\n",
       "      <td>BBJZ-74</td>\n",
       "      <td>NaT</td>\n",
       "      <td>False</td>\n",
       "      <td>True</td>\n",
       "      <td>True</td>\n",
       "      <td>NaT</td>\n",
       "      <td>NaN</td>\n",
       "      <td>False</td>\n",
       "      <td>False</td>\n",
       "      <td>PTA</td>\n",
       "    </tr>\n",
       "    <tr>\n",
       "      <th>6</th>\n",
       "      <td>4015889213</td>\n",
       "      <td>2</td>\n",
       "      <td>BUS</td>\n",
       "      <td>2017-03-01 17:50:01</td>\n",
       "      <td>17:30:00</td>\n",
       "      <td>F07 00R</td>\n",
       "      <td>L-34-23-25-NS</td>\n",
       "      <td>BBJZ-74</td>\n",
       "      <td>NaT</td>\n",
       "      <td>False</td>\n",
       "      <td>True</td>\n",
       "      <td>True</td>\n",
       "      <td>NaT</td>\n",
       "      <td>NaN</td>\n",
       "      <td>False</td>\n",
       "      <td>False</td>\n",
       "      <td>PTA</td>\n",
       "    </tr>\n",
       "    <tr>\n",
       "      <th>7</th>\n",
       "      <td>2462653900</td>\n",
       "      <td>2</td>\n",
       "      <td>BUS</td>\n",
       "      <td>2017-03-01 17:50:05</td>\n",
       "      <td>17:30:00</td>\n",
       "      <td>F07 00R</td>\n",
       "      <td>L-34-23-25-NS</td>\n",
       "      <td>BBJZ-74</td>\n",
       "      <td>NaT</td>\n",
       "      <td>True</td>\n",
       "      <td>True</td>\n",
       "      <td>True</td>\n",
       "      <td>00:00:04</td>\n",
       "      <td>4.0</td>\n",
       "      <td>False</td>\n",
       "      <td>False</td>\n",
       "      <td>PTA</td>\n",
       "    </tr>\n",
       "    <tr>\n",
       "      <th>8</th>\n",
       "      <td>95205238</td>\n",
       "      <td>3</td>\n",
       "      <td>BUS</td>\n",
       "      <td>2017-03-01 17:50:12</td>\n",
       "      <td>17:30:00</td>\n",
       "      <td>F07 00R</td>\n",
       "      <td>L-34-23-25-NS</td>\n",
       "      <td>BBJZ-74</td>\n",
       "      <td>NaT</td>\n",
       "      <td>True</td>\n",
       "      <td>True</td>\n",
       "      <td>True</td>\n",
       "      <td>00:00:07</td>\n",
       "      <td>7.0</td>\n",
       "      <td>False</td>\n",
       "      <td>False</td>\n",
       "      <td>PTA</td>\n",
       "    </tr>\n",
       "    <tr>\n",
       "      <th>9</th>\n",
       "      <td>2531378219</td>\n",
       "      <td>2</td>\n",
       "      <td>BUS</td>\n",
       "      <td>2017-03-01 17:52:05</td>\n",
       "      <td>17:30:00</td>\n",
       "      <td>F07 00R</td>\n",
       "      <td>L-34-70-10-PO</td>\n",
       "      <td>BBJZ-74</td>\n",
       "      <td>NaT</td>\n",
       "      <td>False</td>\n",
       "      <td>True</td>\n",
       "      <td>True</td>\n",
       "      <td>NaT</td>\n",
       "      <td>NaN</td>\n",
       "      <td>False</td>\n",
       "      <td>False</td>\n",
       "      <td>PTA</td>\n",
       "    </tr>\n",
       "  </tbody>\n",
       "</table>\n",
       "</div>"
      ],
      "text/plain": [
       "           id  nviaje tipo_transporte            t_subida media_hora_subida  \\\n",
       "0  3552888222       1             BUS 2017-03-01 17:39:47          17:30:00   \n",
       "1  2529602798       1             BUS 2017-03-01 17:44:11          17:30:00   \n",
       "2  3169360958       1             BUS 2017-03-01 17:44:13          17:30:00   \n",
       "3  2140206880       2             BUS 2017-03-01 17:44:16          17:30:00   \n",
       "4  3149482742       1             BUS 2017-03-01 17:46:33          17:30:00   \n",
       "5  2461932524       2             BUS 2017-03-01 17:48:45          17:30:00   \n",
       "6  4015889213       2             BUS 2017-03-01 17:50:01          17:30:00   \n",
       "7  2462653900       2             BUS 2017-03-01 17:50:05          17:30:00   \n",
       "8    95205238       3             BUS 2017-03-01 17:50:12          17:30:00   \n",
       "9  2531378219       2             BUS 2017-03-01 17:52:05          17:30:00   \n",
       "\n",
       "  servicio_subida     par_subida sitio_subida fecha_instalacion  \\\n",
       "0         F07 00R   L-34-89-2-PO      BBJZ-74               NaT   \n",
       "1         F07 00R  L-34-53-25-PO      BBJZ-74               NaT   \n",
       "2         F07 00R  L-34-53-25-PO      BBJZ-74               NaT   \n",
       "3         F07 00R  L-34-53-25-PO      BBJZ-74               NaT   \n",
       "4         F07 00R  L-34-53-40-PO      BBJZ-74               NaT   \n",
       "5         F07 00R  L-34-23-15-NS      BBJZ-74               NaT   \n",
       "6         F07 00R  L-34-23-25-NS      BBJZ-74               NaT   \n",
       "7         F07 00R  L-34-23-25-NS      BBJZ-74               NaT   \n",
       "8         F07 00R  L-34-23-25-NS      BBJZ-74               NaT   \n",
       "9         F07 00R  L-34-70-10-PO      BBJZ-74               NaT   \n",
       "\n",
       "   mismo_paradero  misma_patente  mismo_servicio diferencia_tiempo  \\\n",
       "0           False          False           False               NaT   \n",
       "1           False           True            True               NaT   \n",
       "2            True           True            True          00:00:02   \n",
       "3            True           True            True          00:00:03   \n",
       "4           False           True            True               NaT   \n",
       "5           False           True            True               NaT   \n",
       "6           False           True            True               NaT   \n",
       "7            True           True            True          00:00:04   \n",
       "8            True           True            True          00:00:07   \n",
       "9           False           True            True               NaT   \n",
       "\n",
       "   diferencia_tiempo_secs  si_torniquete  si_2017_torniquete PERIODO  \n",
       "0                     NaN          False               False     PTA  \n",
       "1                     NaN          False               False     PTA  \n",
       "2                     2.0          False               False     PTA  \n",
       "3                     3.0          False               False     PTA  \n",
       "4                     NaN          False               False     PTA  \n",
       "5                     NaN          False               False     PTA  \n",
       "6                     NaN          False               False     PTA  \n",
       "7                     4.0          False               False     PTA  \n",
       "8                     7.0          False               False     PTA  \n",
       "9                     NaN          False               False     PTA  "
      ]
     },
     "execution_count": 8,
     "metadata": {},
     "output_type": "execute_result"
    }
   ],
   "source": [
    "processed_df.head(10)"
   ]
  },
  {
   "cell_type": "code",
   "execution_count": 13,
   "metadata": {},
   "outputs": [],
   "source": [
    "f = {'id':['count'], 'si_torniquete':['unique'], 'si_2017_torniquete':['unique']}\n",
    "\n",
    "test_groups = processed_df.groupby( [ 'PERIODO', 'sitio_subida', 'servicio_subida'] ).agg(f)"
   ]
  },
  {
   "cell_type": "code",
   "execution_count": 15,
   "metadata": {
    "collapsed": true
   },
   "outputs": [],
   "source": [
    "test_groups = test_groups.reset_index()"
   ]
  },
  {
   "cell_type": "code",
   "execution_count": 16,
   "metadata": {
    "collapsed": true
   },
   "outputs": [],
   "source": [
    "columns = []\n",
    "for col in test_groups.columns.values:\n",
    "\tif col[1]!='':\n",
    "\t\tcol = '_'.join(col).strip()\n",
    "\telse:\n",
    "\t\tcol = ''.join(col).strip()\n",
    "\tcolumns.append(col)\n",
    "\n",
    "test_groups.columns = columns"
   ]
  },
  {
   "cell_type": "code",
   "execution_count": 17,
   "metadata": {},
   "outputs": [
    {
     "data": {
      "text/html": [
       "<div>\n",
       "<style>\n",
       "    .dataframe thead tr:only-child th {\n",
       "        text-align: right;\n",
       "    }\n",
       "\n",
       "    .dataframe thead th {\n",
       "        text-align: left;\n",
       "    }\n",
       "\n",
       "    .dataframe tbody tr th {\n",
       "        vertical-align: top;\n",
       "    }\n",
       "</style>\n",
       "<table border=\"1\" class=\"dataframe\">\n",
       "  <thead>\n",
       "    <tr style=\"text-align: right;\">\n",
       "      <th></th>\n",
       "      <th>PERIODO</th>\n",
       "      <th>sitio_subida</th>\n",
       "      <th>servicio_subida</th>\n",
       "      <th>id_count</th>\n",
       "      <th>si_torniquete_unique</th>\n",
       "      <th>si_2017_torniquete_unique</th>\n",
       "    </tr>\n",
       "  </thead>\n",
       "  <tbody>\n",
       "    <tr>\n",
       "      <th>0</th>\n",
       "      <td>FPMA</td>\n",
       "      <td>BBJZ-76</td>\n",
       "      <td>F07 00I</td>\n",
       "      <td>21</td>\n",
       "      <td>[True]</td>\n",
       "      <td>[False]</td>\n",
       "    </tr>\n",
       "    <tr>\n",
       "      <th>1</th>\n",
       "      <td>FPMA</td>\n",
       "      <td>BBJZ-76</td>\n",
       "      <td>F07 00R</td>\n",
       "      <td>3</td>\n",
       "      <td>[True]</td>\n",
       "      <td>[False]</td>\n",
       "    </tr>\n",
       "    <tr>\n",
       "      <th>2</th>\n",
       "      <td>FPMA</td>\n",
       "      <td>BBKB-11</td>\n",
       "      <td>F03 C0 06I</td>\n",
       "      <td>26</td>\n",
       "      <td>[False]</td>\n",
       "      <td>[False]</td>\n",
       "    </tr>\n",
       "    <tr>\n",
       "      <th>3</th>\n",
       "      <td>FPMA</td>\n",
       "      <td>BBKB-11</td>\n",
       "      <td>F03 C0 06R</td>\n",
       "      <td>28</td>\n",
       "      <td>[False]</td>\n",
       "      <td>[False]</td>\n",
       "    </tr>\n",
       "    <tr>\n",
       "      <th>4</th>\n",
       "      <td>FPMA</td>\n",
       "      <td>BBKB-12</td>\n",
       "      <td>F11 07I</td>\n",
       "      <td>18</td>\n",
       "      <td>[False]</td>\n",
       "      <td>[False]</td>\n",
       "    </tr>\n",
       "  </tbody>\n",
       "</table>\n",
       "</div>"
      ],
      "text/plain": [
       "  PERIODO sitio_subida servicio_subida  id_count si_torniquete_unique  \\\n",
       "0    FPMA      BBJZ-76         F07 00I        21               [True]   \n",
       "1    FPMA      BBJZ-76         F07 00R         3               [True]   \n",
       "2    FPMA      BBKB-11      F03 C0 06I        26              [False]   \n",
       "3    FPMA      BBKB-11      F03 C0 06R        28              [False]   \n",
       "4    FPMA      BBKB-12         F11 07I        18              [False]   \n",
       "\n",
       "  si_2017_torniquete_unique  \n",
       "0                   [False]  \n",
       "1                   [False]  \n",
       "2                   [False]  \n",
       "3                   [False]  \n",
       "4                   [False]  "
      ]
     },
     "execution_count": 17,
     "metadata": {},
     "output_type": "execute_result"
    }
   ],
   "source": [
    "test_groups.head()"
   ]
  },
  {
   "cell_type": "code",
   "execution_count": null,
   "metadata": {
    "collapsed": true
   },
   "outputs": [],
   "source": []
  },
  {
   "cell_type": "code",
   "execution_count": null,
   "metadata": {
    "collapsed": true
   },
   "outputs": [],
   "source": [
    "total_trx_with_turnstile = test_groups.loc[test_groups['si_2017_torniquete_unique']==True,'id_count'].sum()"
   ]
  },
  {
   "cell_type": "code",
   "execution_count": null,
   "metadata": {
    "collapsed": true
   },
   "outputs": [],
   "source": [
    "total_trx_without_turnstile = test_groups.loc[test_groups['si_2017_torniquete_unique']==False,'id_count'].sum()"
   ]
  },
  {
   "cell_type": "code",
   "execution_count": null,
   "metadata": {},
   "outputs": [],
   "source": [
    "buses_with_turnstile = len(test_groups.loc[test_groups['si_2017_torniquete_unique']==True,'id_count'].unique())"
   ]
  },
  {
   "cell_type": "code",
   "execution_count": null,
   "metadata": {
    "collapsed": true
   },
   "outputs": [],
   "source": [
    "buses_without_turnstile = len(test_groups.loc[test_groups['si_2017_torniquete_unique']==False,'id_count'].unique())"
   ]
  },
  {
   "cell_type": "code",
   "execution_count": null,
   "metadata": {},
   "outputs": [],
   "source": [
    "buses_with_turnstile"
   ]
  },
  {
   "cell_type": "code",
   "execution_count": null,
   "metadata": {},
   "outputs": [],
   "source": [
    "buses_without_turnstile"
   ]
  },
  {
   "cell_type": "code",
   "execution_count": null,
   "metadata": {},
   "outputs": [],
   "source": [
    "total_trx_with_turnstile/buses_with_turnstile"
   ]
  },
  {
   "cell_type": "code",
   "execution_count": null,
   "metadata": {},
   "outputs": [],
   "source": [
    "total_trx_without_turnstile/buses_without_turnstile"
   ]
  },
  {
   "cell_type": "code",
   "execution_count": null,
   "metadata": {},
   "outputs": [],
   "source": [
    "processed_df.loc[(processed_df['servicio_subida']=='F07 00R')&(processed_df['sitio_subida']=='BBJZ-76'),:]"
   ]
  },
  {
   "cell_type": "code",
   "execution_count": null,
   "metadata": {},
   "outputs": [],
   "source": [
    "len(test_groups.index)"
   ]
  },
  {
   "cell_type": "code",
   "execution_count": null,
   "metadata": {
    "collapsed": true
   },
   "outputs": [],
   "source": [
    "summary_descriptives = pd.DataFrame(index=dates)"
   ]
  },
  {
   "cell_type": "code",
   "execution_count": null,
   "metadata": {
    "collapsed": true
   },
   "outputs": [],
   "source": [
    "for date in dates:\n",
    "    etapas_builder = RunSilentlyDailyEtapasBuilderClass(date)\n",
    "    [etapas_df, processed_sorted_df, filtered_df, filtered_turnstile_df, filtered_no_turnstile_df]=etapas_builder.runCompleteProcess()\n",
    "    \n",
    "    #Pre-processing processed_sorted_df. Be aware that etapas_df only contains obs. of type 'BUS'\n",
    "    processed_sorted_df.loc[:,'servicio_subida'] = processed_sorted_df.loc[:,'servicio_subida'].str.replace('T','')\n",
    "#    processed_sorted_df.loc[:,'servicio_subida'] = processed_sorted_df.loc[:,'servicio_subida'].str.replace('00','')\n",
    "    processed_sorted_df.loc[:,'TS_CODE'] = processed_sorted_df.loc[:,'servicio_subida'].str.split(' ').str[0]\n",
    "#    processed_sorted_df.loc[:,'DIRECTION'] = processed_sorted_df.loc[:,'servicio_subida'].str.split(' ').str[1]\n",
    "    processed_sorted_df.loc[:,'DIRECTION'] = processed_sorted_df.loc[:,'servicio_subida'].str[-1:]\n",
    "    processed_sorted_df.loc[:,'DIRECTION'] = processed_sorted_df.loc[:,'DIRECTION'].str.replace('R','Ret')\n",
    "    processed_sorted_df.loc[:,'DIRECTION'] = processed_sorted_df.loc[:,'DIRECTION'].str.replace('I','Ida')\n",
    "    merged_etapas_df = pd.merge(processed_sorted_df,codes, on=['TS_CODE','DIRECTION'], how='left')\n",
    "    merged_etapas_df.loc[(merged_etapas_df['UN'].isnull()) & (merged_etapas_df['TS_CODE'].str[:1]=='1'),'UN'] = 1\n",
    "    merged_etapas_df.loc[(merged_etapas_df['UN'].isnull()) & (merged_etapas_df['TS_CODE'].str[:1]=='2'),'UN'] = 2\n",
    "    merged_etapas_df.loc[(merged_etapas_df['UN'].isnull()) & (merged_etapas_df['TS_CODE'].str[:1]=='3'),'UN'] = 3\n",
    "    merged_etapas_df.loc[(merged_etapas_df['UN'].isnull()) & (merged_etapas_df['TS_CODE'].str[:1]=='4'),'UN'] = 4\n",
    "    merged_etapas_df.loc[(merged_etapas_df['UN'].isnull()) & (merged_etapas_df['TS_CODE'].str[:1]=='5'),'UN'] = 5\n",
    "    merged_etapas_df.loc[(merged_etapas_df['UN'].isnull()) & (merged_etapas_df['TS_CODE'].str[:1]=='B'),'UN'] = 6\n",
    "    merged_etapas_df.loc[(merged_etapas_df['UN'].isnull()) & (merged_etapas_df['TS_CODE'].str[:1]=='F'),'UN'] = 7    \n",
    "    \n",
    "    summary_descriptives.loc[date,'total_raw_trx'] = len(etapas_df.index)\n",
    "    summary_descriptives.loc[date,'total_clean_trx'] = len(processed_sorted_df.index)\n",
    "    summary_descriptives.loc[date,'total_turns_trx'] = len(processed_sorted_df[processed_sorted_df['si_2017_torniquete']==True].index)\n",
    "    summary_descriptives.loc[date,'total_no_turns_trx'] = len(processed_sorted_df[processed_sorted_df['si_2017_torniquete']==False].index)    \n",
    "    \n",
    "\n",
    "    trx_by_un = merged_etapas_df.groupby(['UN'])['index'].count()\n",
    "    summary_descriptives['trx_1'], summary_descriptives['trx_2'], summary_descriptives['trx_3'] = [trx_by_un.loc[1], trx_by_un.loc[2], trx_by_un.loc[3]]\n",
    "    summary_descriptives['trx_4'], summary_descriptives['trx_5'], summary_descriptives['trx_6'] = [trx_by_un.loc[4], trx_by_un.loc[5], trx_by_un.loc[6]]\n",
    "    summary_descriptives['trx_7'] = trx_by_un.loc[7]\n",
    "    "
   ]
  },
  {
   "cell_type": "code",
   "execution_count": null,
   "metadata": {
    "collapsed": true
   },
   "outputs": [],
   "source": [
    "processed_sorted_df.head()"
   ]
  },
  {
   "cell_type": "code",
   "execution_count": null,
   "metadata": {
    "collapsed": true
   },
   "outputs": [],
   "source": [
    "merged_etapas_df.head()"
   ]
  },
  {
   "cell_type": "code",
   "execution_count": null,
   "metadata": {
    "collapsed": true
   },
   "outputs": [],
   "source": [
    "len(processed_sorted_df.index)"
   ]
  },
  {
   "cell_type": "code",
   "execution_count": null,
   "metadata": {
    "collapsed": true
   },
   "outputs": [],
   "source": [
    "len(merged_etapas_df.index)"
   ]
  },
  {
   "cell_type": "code",
   "execution_count": null,
   "metadata": {
    "collapsed": true
   },
   "outputs": [],
   "source": [
    "merged_etapas_df.loc[merged_etapas_df['UN'].isnull(),'TS_CODE'].unique()"
   ]
  },
  {
   "cell_type": "code",
   "execution_count": null,
   "metadata": {
    "collapsed": true
   },
   "outputs": [],
   "source": [
    "len(merged_etapas_df[merged_etapas_df['UN'].isnull()].index)"
   ]
  },
  {
   "cell_type": "code",
   "execution_count": null,
   "metadata": {
    "collapsed": true
   },
   "outputs": [],
   "source": [
    "summary_descriptives['trx_1']+summary_descriptives['trx_2']+summary_descriptives['trx_3']+summary_descriptives['trx_4']+summary_descriptives['trx_5']+summary_descriptives['trx_6']+summary_descriptives['trx_7']"
   ]
  },
  {
   "cell_type": "code",
   "execution_count": null,
   "metadata": {
    "collapsed": true
   },
   "outputs": [],
   "source": [
    "summary_descriptives"
   ]
  },
  {
   "cell_type": "code",
   "execution_count": null,
   "metadata": {
    "collapsed": true
   },
   "outputs": [],
   "source": [
    "quantile = 0.97\n",
    "processed = 0\n",
    "\n",
    "tic = time.clock()\n",
    "\n",
    "for date in dates:\n",
    "    etapas_builder = RunSilentlyDailyEtapasBuilderClass(date)\n",
    "    [etapas_df, processed_sorted_df, filtered_df, filtered_turnstile_df, filtered_no_turnstile_df]=etapas_builder.runCompleteProcess()\n",
    "    \n",
    "    #Pre-processing processed_sorted_df. Be aware that etapas_df only contains obs. of type 'BUS'\n",
    "    processed_sorted_df.loc[:,'servicio_subida'] = processed_sorted_df.loc[:,'servicio_subida'].str.replace('T','')\n",
    "    processed_sorted_df.loc[:,'servicio_subida'] = processed_sorted_df.loc[:,'servicio_subida'].str.replace('00','')\n",
    "    processed_sorted_df.loc[:,'TS_CODE'] = processed_sorted_df.loc[:,'servicio_subida'].str.split(' ').str[0]\n",
    "    processed_sorted_df.loc[:,'DIRECTION'] = processed_sorted_df.loc[:,'servicio_subida'].str.split(' ').str[1]\n",
    "    processed_sorted_df.loc[:,'DIRECTION'] = processed_sorted_df.loc[:,'DIRECTION'].str.replace('R','Ret')\n",
    "    processed_sorted_df.loc[:,'DIRECTION'] = processed_sorted_df.loc[:,'DIRECTION'].str.replace('I','Ida')\n",
    "    merged_etapas_df = pd.merge(processed_sorted_df,codes, on=['TS_CODE','DIRECTION'], how='left')\n",
    "\n",
    "    #Filling trx info:\n",
    "    total_raw_trx.append(len(etapas_df.index))\n",
    "    total_trx.append(len(processed_sorted_df.index))\n",
    "    total_turns_trx.append(processed_sorted_df[processed_sorted_df.si_2017_torniquete==True].count()[0])\n",
    "    total_no_turns_trx.append(processed_sorted_df[processed_sorted_df.si_torniquete==False].count()[0])\n",
    "        \n",
    "    #Filtering and following the original methodology:\n",
    "    turnstile_q = filtered_turnstile_df.diferencia_tiempo.quantile(quantile)\n",
    "    no_turnstile_q = filtered_no_turnstile_df.diferencia_tiempo.quantile(quantile)    \n",
    "    \n",
    "    filtered_turnstile_q_df = filtered_turnstile_df[filtered_turnstile_df.diferencia_tiempo<=turnstile_q]\n",
    "    filtered_no_turnstile_q_df = filtered_no_turnstile_df[filtered_no_turnstile_df.diferencia_tiempo<=no_turnstile_q]\n",
    "    \n",
    "    turnstile_obs.append(len(filtered_turnstile_q_df.index))\n",
    "    turnstile_means.append(filtered_turnstile_q_df['diferencia_tiempo_secs'].mean())\n",
    "    turnstile_stds.append(filtered_turnstile_q_df['diferencia_tiempo_secs'].std())\n",
    "    turnstile_medians.append(filtered_turnstile_q_df['diferencia_tiempo_secs'].quantile(0.50))\n",
    "    turnstile_maxs.append(filtered_turnstile_q_df['diferencia_tiempo_secs'].max())\n",
    "    \n",
    "    no_turnstile_obs.append(len(filtered_no_turnstile_q_df.index))\n",
    "    no_turnstile_means.append(filtered_no_turnstile_q_df['diferencia_tiempo_secs'].mean())\n",
    "    no_turnstile_stds.append(filtered_no_turnstile_q_df['diferencia_tiempo_secs'].std())    \n",
    "    no_turnstile_medians.append(filtered_no_turnstile_q_df['diferencia_tiempo_secs'].quantile(0.50))\n",
    "    no_turnstile_maxs.append(filtered_no_turnstile_q_df['diferencia_tiempo_secs'].max())\n",
    "    \n",
    "    processed = processed + 1\n",
    "    print('Number of already processed ddbb is ' + str(processed))\n",
    "    del etapas_builder\n",
    "    \n",
    "toc = time.clock()  \n",
    "toc-tic"
   ]
  },
  {
   "cell_type": "markdown",
   "metadata": {},
   "source": [
    "* Summarizing"
   ]
  },
  {
   "cell_type": "code",
   "execution_count": null,
   "metadata": {
    "collapsed": true
   },
   "outputs": [],
   "source": [
    "dates = [dt.datetime.strptime(x, \"%Y-%m-%d\").date() for x in dates]"
   ]
  },
  {
   "cell_type": "code",
   "execution_count": null,
   "metadata": {
    "collapsed": true,
    "scrolled": true
   },
   "outputs": [],
   "source": [
    "summary_descriptives = pd.DataFrame(\n",
    "    {'date': dates,\n",
    "     'total_raw_trx': total_raw_trx,\n",
    "     'total_trx': total_trx,\n",
    "     'total_turns_trx': total_turns_trx,\n",
    "     'total_no_turns_trx': total_no_turns_trx,\n",
    "     'turnstile_obs':turnstile_obs,\n",
    "     'turnstile_means': turnstile_means,\n",
    "     'turnstile_stds': turnstile_stds,\n",
    "     'turnstile_medians': turnstile_medians,\n",
    "     'turnstile_maxs': turnstile_maxs,\n",
    "     'no_turnstile_obs': no_turnstile_obs,\n",
    "     'no_turnstile_means': no_turnstile_means,\n",
    "     'no_turnstile_stds': no_turnstile_stds,\n",
    "     'no_turnstile_medians': no_turnstile_medians,\n",
    "     'no_turnstile_maxs': no_turnstile_maxs})"
   ]
  },
  {
   "cell_type": "code",
   "execution_count": null,
   "metadata": {
    "collapsed": true
   },
   "outputs": [],
   "source": [
    "cols = ['date','total_raw_trx','total_trx','total_turns_trx','total_no_turns_trx',\n",
    "        'turnstile_obs','turnstile_means','turnstile_stds','turnstile_medians','turnstile_maxs',\n",
    "        'no_turnstile_obs','no_turnstile_means','no_turnstile_stds', 'no_turnstile_medians', 'no_turnstile_maxs']\n",
    "summary_descriptives = summary_descriptives[cols]"
   ]
  },
  {
   "cell_type": "markdown",
   "metadata": {},
   "source": [
    "* Checking"
   ]
  },
  {
   "cell_type": "code",
   "execution_count": null,
   "metadata": {
    "collapsed": true
   },
   "outputs": [],
   "source": [
    "summary_descriptives"
   ]
  },
  {
   "cell_type": "markdown",
   "metadata": {},
   "source": [
    "* Writting the ddbb to a file"
   ]
  },
  {
   "cell_type": "code",
   "execution_count": null,
   "metadata": {
    "collapsed": true
   },
   "outputs": [],
   "source": [
    "#summary_descriptives.to_csv('C:/Users/Tesista/Desktop/Evasion/01_analisis/03_datos/05_SUMMARY/DescriptivesSummary.csv', sep=';', encoding = 'latin-1')"
   ]
  },
  {
   "cell_type": "code",
   "execution_count": null,
   "metadata": {
    "collapsed": true
   },
   "outputs": [],
   "source": [
    "import TemporalDescriptivesBuilder"
   ]
  },
  {
   "cell_type": "code",
   "execution_count": null,
   "metadata": {
    "collapsed": true
   },
   "outputs": [],
   "source": [
    "from TemporalDescriptivesBuilder import TemporalDescriptivesBuilderClass"
   ]
  },
  {
   "cell_type": "code",
   "execution_count": null,
   "metadata": {
    "collapsed": true
   },
   "outputs": [],
   "source": [
    "test_temporal_builder = "
   ]
  }
 ],
 "metadata": {
  "kernelspec": {
   "display_name": "Python 3",
   "language": "python",
   "name": "python3"
  },
  "language_info": {
   "codemirror_mode": {
    "name": "ipython",
    "version": 3
   },
   "file_extension": ".py",
   "mimetype": "text/x-python",
   "name": "python",
   "nbconvert_exporter": "python",
   "pygments_lexer": "ipython3",
   "version": "3.6.1"
  }
 },
 "nbformat": 4,
 "nbformat_minor": 2
}
