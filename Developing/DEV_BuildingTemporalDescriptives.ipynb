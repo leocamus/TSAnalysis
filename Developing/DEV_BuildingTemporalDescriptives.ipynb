{
 "cells": [
  {
   "cell_type": "markdown",
   "metadata": {},
   "source": [
    "### Analyzing all-dates descriptives"
   ]
  },
  {
   "cell_type": "code",
   "execution_count": 1,
   "metadata": {
    "collapsed": true
   },
   "outputs": [],
   "source": [
    "import os\n",
    "import sys\n",
    "module_path = os.path.abspath(os.path.join('..'))\n",
    "if module_path not in sys.path:\n",
    "    sys.path.append(module_path)"
   ]
  },
  {
   "cell_type": "code",
   "execution_count": 2,
   "metadata": {},
   "outputs": [
    {
     "data": {
      "text/html": [
       "<style>.container { width:80% !important; }</style>"
      ],
      "text/plain": [
       "<IPython.core.display.HTML object>"
      ]
     },
     "metadata": {},
     "output_type": "display_data"
    }
   ],
   "source": [
    "%matplotlib inline\n",
    "from IPython.core.display import display, HTML\n",
    "display(HTML(\"<style>.container { width:80% !important; }</style>\"))\n",
    "\n",
    "import pandas as pd\n",
    "import matplotlib\n",
    "import matplotlib.pyplot as plt\n",
    "import matplotlib.dates as mdates\n",
    "import numpy as np\n",
    "import datetime as dt\n",
    "import time\n",
    "\n",
    "from importlib import reload\n",
    "from Utils import TransantiagoConstants\n",
    "from RunSilentlyDailyEtapasBuilder import RunSilentlyDailyEtapasBuilderClass"
   ]
  },
  {
   "cell_type": "code",
   "execution_count": 3,
   "metadata": {
    "collapsed": true
   },
   "outputs": [],
   "source": [
    "from TemporalDescriptivesBuilder import TemporalDescriptivesBuilderClass"
   ]
  },
  {
   "cell_type": "code",
   "execution_count": 4,
   "metadata": {
    "collapsed": true
   },
   "outputs": [],
   "source": [
    "dates = TransantiagoConstants.updateCurrentSSHDates()\n",
    "summary_dir = TransantiagoConstants.SummaryDir"
   ]
  },
  {
   "cell_type": "markdown",
   "metadata": {},
   "source": [
    "* Only to re-factor"
   ]
  },
  {
   "cell_type": "code",
   "execution_count": 5,
   "metadata": {
    "collapsed": true
   },
   "outputs": [],
   "source": [
    "#date = dates[0]\n",
    "#dates = ['2017-03-01']"
   ]
  },
  {
   "cell_type": "markdown",
   "metadata": {},
   "source": [
    "*****"
   ]
  },
  {
   "cell_type": "code",
   "execution_count": null,
   "metadata": {
    "scrolled": false
   },
   "outputs": [
    {
     "name": "stdout",
     "output_type": "stream",
     "text": [
      "Not found in turnstile database: 1530173\n",
      "Not found in turnstile database: 1614025\n",
      "Not found in turnstile database: 1661338\n",
      "Not found in turnstile database: 1014934\n",
      "Not found in turnstile database: 643811\n",
      "Not found in turnstile database: 1747419\n",
      "Not found in turnstile database: 1767565\n",
      "Not found in turnstile database: 1062162\n",
      "Not found in turnstile database: 611246\n",
      "Not found in turnstile database: 1793226\n",
      "Not found in turnstile database: 1803532\n",
      "Not found in turnstile database: 1814202\n",
      "Not found in turnstile database: 1793508\n",
      "Not found in turnstile database: 1841709\n",
      "Not found in turnstile database: 1071608\n",
      "Not found in turnstile database: 634375\n",
      "Not found in turnstile database: 611550\n",
      "Not found in turnstile database: 1076398\n",
      "Not found in turnstile database: 653385\n",
      "Not found in turnstile database: 1840664\n",
      "Not found in turnstile database: 1799936\n",
      "Not found in turnstile database: 1861417\n",
      "Not found in turnstile database: 585986\n",
      "Not found in turnstile database: 692227\n",
      "Not found in turnstile database: 562255\n",
      "Not found in turnstile database: 1804359\n",
      "Not found in turnstile database: 1843060\n",
      "Not found in turnstile database: 328672\n",
      "Not found in turnstile database: 1695102\n",
      "Not found in turnstile database: 1115368\n",
      "Not found in turnstile database: 618477\n",
      "Not found in turnstile database: 1772903\n",
      "Not found in turnstile database: 1793537\n",
      "Not found in turnstile database: 1794255\n",
      "Not found in turnstile database: 1768018\n",
      "Not found in turnstile database: 1099094\n",
      "Not found in turnstile database: 680727\n",
      "Not found in turnstile database: 454827\n",
      "Not found in turnstile database: 1843826\n",
      "Not found in turnstile database: 1861583\n",
      "Not found in turnstile database: 1851123\n",
      "Not found in turnstile database: 1135325\n",
      "Not found in turnstile database: 613105\n",
      "Not found in turnstile database: 1117946\n",
      "Not found in turnstile database: 1790486\n",
      "Not found in turnstile database: 595909\n",
      "Not found in turnstile database: 1784791\n",
      "Not found in turnstile database: 1794228\n",
      "Not found in turnstile database: 1780165\n",
      "Not found in turnstile database: 1046160\n",
      "Not found in turnstile database: 599709\n",
      "Not found in turnstile database: 1841981\n",
      "Not found in turnstile database: 1632135\n",
      "Not found in turnstile database: 1786711\n",
      "Not found in turnstile database: 1089184\n",
      "Not found in turnstile database: 651808\n",
      "Not found in turnstile database: 1763726\n",
      "Not found in turnstile database: 1778695\n",
      "Not found in turnstile database: 1809693\n",
      "Not found in turnstile database: 1733154\n",
      "Not found in turnstile database: 1790404\n",
      "Not found in turnstile database: 1078865\n",
      "Not found in turnstile database: 623949\n",
      "Not found in turnstile database: 476007\n",
      "Not found in turnstile database: 16167\n",
      "Not found in turnstile database: 508505\n",
      "Not found in turnstile database: 1738838\n",
      "Not found in turnstile database: 1445850\n",
      "Not found in turnstile database: 871597\n",
      "Not found in turnstile database: 580723\n",
      "Not found in turnstile database: 1689798\n",
      "Not found in turnstile database: 1712843\n",
      "Not found in turnstile database: 1538606\n",
      "Not found in turnstile database: 1736390\n",
      "Not found in turnstile database: 1008423\n",
      "Not found in turnstile database: 540525\n",
      "Not found in turnstile database: 514558\n",
      "Not found in turnstile database: 1723574\n",
      "Not found in turnstile database: 1745668\n",
      "Not found in turnstile database: 1790682\n",
      "Not found in turnstile database: 1117453\n",
      "Not found in turnstile database: 547551\n",
      "Not found in turnstile database: 1792633\n",
      "Not found in turnstile database: 1632451\n",
      "Not found in turnstile database: 1757439\n",
      "Not found in turnstile database: 1713543\n",
      "Not found in turnstile database: 1757045\n",
      "Not found in turnstile database: 1087066\n",
      "Not found in turnstile database: 637855\n",
      "Not found in turnstile database: 1694065\n",
      "Not found in turnstile database: 1656043\n",
      "Not found in turnstile database: 1594579\n",
      "Not found in turnstile database: 1536698\n",
      "Not found in turnstile database: 1638075\n",
      "Not found in turnstile database: 773769\n",
      "Not found in turnstile database: 581261\n",
      "Not found in turnstile database: 1572207\n",
      "Not found in turnstile database: 1610989\n",
      "Not found in turnstile database: 1751689\n",
      "Not found in turnstile database: 1793270\n",
      "Not found in turnstile database: 1802738\n",
      "Not found in turnstile database: 1829884\n",
      "Not found in turnstile database: 1153245\n",
      "Not found in turnstile database: 693376\n",
      "Not found in turnstile database: 1848940\n",
      "Not found in turnstile database: 1839811\n",
      "Not found in turnstile database: 1680456\n",
      "Not found in turnstile database: 1062595\n",
      "Not found in turnstile database: 573680\n",
      "Not found in turnstile database: 1517877\n",
      "Not found in turnstile database: 704516\n",
      "Not found in turnstile database: 1841314\n",
      "Not found in turnstile database: 1860664\n",
      "Not found in turnstile database: 1089787\n",
      "Not found in turnstile database: 651823\n",
      "Not found in turnstile database: 1848918\n",
      "Not found in turnstile database: 1850856\n",
      "Not found in turnstile database: 1837888\n",
      "Not found in turnstile database: 1814370\n"
     ]
    }
   ],
   "source": [
    "tic = time.clock()\n",
    "\n",
    "for date in dates:\n",
    "    temporal_descriptives_builder = TemporalDescriptivesBuilderClass(date)\n",
    "    temporal_descriptives_builder.cleanAndProcessEtapas()\n",
    "    temporal_descriptives_builder.appendPeriods()\n",
    "    temporal_descriptives_builder.groupData()\n",
    "    temporal_descriptives_builder.appendUnidadNegocio()\n",
    "    grouped_data = temporal_descriptives_builder.grouped_data\n",
    "    grouped_data['fecha']=date\n",
    "    name_file = date + '_sumtrx.csv'\n",
    "    path = os.path.join(summary_dir,name_file)\n",
    "    grouped_data.to_csv(path,sep=';')\n",
    "\n",
    "toc = time.clock()\n",
    "print(toc-tic)\n"
   ]
  },
  {
   "cell_type": "code",
   "execution_count": null,
   "metadata": {
    "collapsed": true
   },
   "outputs": [],
   "source": []
  },
  {
   "cell_type": "code",
   "execution_count": null,
   "metadata": {
    "collapsed": true
   },
   "outputs": [],
   "source": [
    "quantile = 0.97\n",
    "processed = 0\n",
    "\n",
    "tic = time.clock()\n",
    "\n",
    "for date in dates:\n",
    "    etapas_builder = RunSilentlyDailyEtapasBuilderClass(date)\n",
    "    [etapas_df, processed_sorted_df, filtered_df, filtered_turnstile_df, filtered_no_turnstile_df]=etapas_builder.runCompleteProcess()\n",
    "    \n",
    "    #Pre-processing processed_sorted_df. Be aware that etapas_df only contains obs. of type 'BUS'\n",
    "    processed_sorted_df.loc[:,'servicio_subida'] = processed_sorted_df.loc[:,'servicio_subida'].str.replace('T','')\n",
    "    processed_sorted_df.loc[:,'servicio_subida'] = processed_sorted_df.loc[:,'servicio_subida'].str.replace('00','')\n",
    "    processed_sorted_df.loc[:,'TS_CODE'] = processed_sorted_df.loc[:,'servicio_subida'].str.split(' ').str[0]\n",
    "    processed_sorted_df.loc[:,'DIRECTION'] = processed_sorted_df.loc[:,'servicio_subida'].str.split(' ').str[1]\n",
    "    processed_sorted_df.loc[:,'DIRECTION'] = processed_sorted_df.loc[:,'DIRECTION'].str.replace('R','Ret')\n",
    "    processed_sorted_df.loc[:,'DIRECTION'] = processed_sorted_df.loc[:,'DIRECTION'].str.replace('I','Ida')\n",
    "    merged_etapas_df = pd.merge(processed_sorted_df,codes, on=['TS_CODE','DIRECTION'], how='left')\n",
    "\n",
    "    #Filling trx info:\n",
    "    total_raw_trx.append(len(etapas_df.index))\n",
    "    total_trx.append(len(processed_sorted_df.index))\n",
    "    total_turns_trx.append(processed_sorted_df[processed_sorted_df.si_2017_torniquete==True].count()[0])\n",
    "    total_no_turns_trx.append(processed_sorted_df[processed_sorted_df.si_torniquete==False].count()[0])\n",
    "        \n",
    "    #Filtering and following the original methodology:\n",
    "    turnstile_q = filtered_turnstile_df.diferencia_tiempo.quantile(quantile)\n",
    "    no_turnstile_q = filtered_no_turnstile_df.diferencia_tiempo.quantile(quantile)    \n",
    "    \n",
    "    filtered_turnstile_q_df = filtered_turnstile_df[filtered_turnstile_df.diferencia_tiempo<=turnstile_q]\n",
    "    filtered_no_turnstile_q_df = filtered_no_turnstile_df[filtered_no_turnstile_df.diferencia_tiempo<=no_turnstile_q]\n",
    "    \n",
    "    turnstile_obs.append(len(filtered_turnstile_q_df.index))\n",
    "    turnstile_means.append(filtered_turnstile_q_df['diferencia_tiempo_secs'].mean())\n",
    "    turnstile_stds.append(filtered_turnstile_q_df['diferencia_tiempo_secs'].std())\n",
    "    turnstile_medians.append(filtered_turnstile_q_df['diferencia_tiempo_secs'].quantile(0.50))\n",
    "    turnstile_maxs.append(filtered_turnstile_q_df['diferencia_tiempo_secs'].max())\n",
    "    \n",
    "    no_turnstile_obs.append(len(filtered_no_turnstile_q_df.index))\n",
    "    no_turnstile_means.append(filtered_no_turnstile_q_df['diferencia_tiempo_secs'].mean())\n",
    "    no_turnstile_stds.append(filtered_no_turnstile_q_df['diferencia_tiempo_secs'].std())    \n",
    "    no_turnstile_medians.append(filtered_no_turnstile_q_df['diferencia_tiempo_secs'].quantile(0.50))\n",
    "    no_turnstile_maxs.append(filtered_no_turnstile_q_df['diferencia_tiempo_secs'].max())\n",
    "    \n",
    "    processed = processed + 1\n",
    "    print('Number of already processed ddbb is ' + str(processed))\n",
    "    del etapas_builder\n",
    "    \n",
    "toc = time.clock()  \n",
    "toc-tic"
   ]
  },
  {
   "cell_type": "markdown",
   "metadata": {},
   "source": [
    "* Summarizing"
   ]
  },
  {
   "cell_type": "code",
   "execution_count": null,
   "metadata": {
    "collapsed": true
   },
   "outputs": [],
   "source": [
    "dates = [dt.datetime.strptime(x, \"%Y-%m-%d\").date() for x in dates]"
   ]
  },
  {
   "cell_type": "code",
   "execution_count": null,
   "metadata": {
    "collapsed": true,
    "scrolled": true
   },
   "outputs": [],
   "source": [
    "summary_descriptives = pd.DataFrame(\n",
    "    {'date': dates,\n",
    "     'total_raw_trx': total_raw_trx,\n",
    "     'total_trx': total_trx,\n",
    "     'total_turns_trx': total_turns_trx,\n",
    "     'total_no_turns_trx': total_no_turns_trx,\n",
    "     'turnstile_obs':turnstile_obs,\n",
    "     'turnstile_means': turnstile_means,\n",
    "     'turnstile_stds': turnstile_stds,\n",
    "     'turnstile_medians': turnstile_medians,\n",
    "     'turnstile_maxs': turnstile_maxs,\n",
    "     'no_turnstile_obs': no_turnstile_obs,\n",
    "     'no_turnstile_means': no_turnstile_means,\n",
    "     'no_turnstile_stds': no_turnstile_stds,\n",
    "     'no_turnstile_medians': no_turnstile_medians,\n",
    "     'no_turnstile_maxs': no_turnstile_maxs})"
   ]
  },
  {
   "cell_type": "code",
   "execution_count": null,
   "metadata": {
    "collapsed": true
   },
   "outputs": [],
   "source": [
    "cols = ['date','total_raw_trx','total_trx','total_turns_trx','total_no_turns_trx',\n",
    "        'turnstile_obs','turnstile_means','turnstile_stds','turnstile_medians','turnstile_maxs',\n",
    "        'no_turnstile_obs','no_turnstile_means','no_turnstile_stds', 'no_turnstile_medians', 'no_turnstile_maxs']\n",
    "summary_descriptives = summary_descriptives[cols]"
   ]
  },
  {
   "cell_type": "markdown",
   "metadata": {},
   "source": [
    "* Checking"
   ]
  },
  {
   "cell_type": "code",
   "execution_count": null,
   "metadata": {
    "collapsed": true
   },
   "outputs": [],
   "source": [
    "summary_descriptives"
   ]
  }
 ],
 "metadata": {
  "kernelspec": {
   "display_name": "Python 3",
   "language": "python",
   "name": "python3"
  },
  "language_info": {
   "codemirror_mode": {
    "name": "ipython",
    "version": 3
   },
   "file_extension": ".py",
   "mimetype": "text/x-python",
   "name": "python",
   "nbconvert_exporter": "python",
   "pygments_lexer": "ipython3",
   "version": "3.6.1"
  }
 },
 "nbformat": 4,
 "nbformat_minor": 2
}
