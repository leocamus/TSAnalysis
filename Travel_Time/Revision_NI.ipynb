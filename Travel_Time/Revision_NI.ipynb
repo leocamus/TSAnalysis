{
 "cells": [
  {
   "cell_type": "markdown",
   "metadata": {},
   "source": [
    "# Manual revision of NI"
   ]
  },
  {
   "cell_type": "code",
   "execution_count": 1,
   "metadata": {
    "collapsed": true
   },
   "outputs": [],
   "source": [
    "import os\n",
    "import sys\n",
    "module_path = os.path.abspath(os.path.join('..'))\n",
    "if module_path not in sys.path:\n",
    "    sys.path.append(module_path)"
   ]
  },
  {
   "cell_type": "code",
   "execution_count": 2,
   "metadata": {},
   "outputs": [
    {
     "data": {
      "text/html": [
       "<style>.container { width:100% !important; }</style>"
      ],
      "text/plain": [
       "<IPython.core.display.HTML object>"
      ]
     },
     "metadata": {},
     "output_type": "display_data"
    }
   ],
   "source": [
    "%matplotlib inline\n",
    "from IPython.core.display import display, HTML\n",
    "display(HTML(\"<style>.container { width:100% !important; }</style>\"))\n",
    "\n",
    "import pandas as pd\n",
    "import numpy as np"
   ]
  },
  {
   "cell_type": "code",
   "execution_count": 3,
   "metadata": {
    "collapsed": true
   },
   "outputs": [],
   "source": [
    "from Utils import TransantiagoConstants"
   ]
  },
  {
   "cell_type": "code",
   "execution_count": 4,
   "metadata": {
    "collapsed": true
   },
   "outputs": [],
   "source": [
    "DTPMDir = TransantiagoConstants.DTPMDir"
   ]
  },
  {
   "cell_type": "code",
   "execution_count": 5,
   "metadata": {
    "collapsed": true
   },
   "outputs": [],
   "source": [
    "NI_path = os.path.join(DTPMDir,'03_Semaforos/NI/NI.xlsx')\n",
    "NI_df = pd.read_excel(NI_path, encoding='latin-1')"
   ]
  },
  {
   "cell_type": "code",
   "execution_count": 6,
   "metadata": {},
   "outputs": [
    {
     "data": {
      "text/plain": [
       "1099"
      ]
     },
     "execution_count": 6,
     "metadata": {},
     "output_type": "execute_result"
    }
   ],
   "source": [
    "len(NI_df.index)"
   ]
  },
  {
   "cell_type": "code",
   "execution_count": 7,
   "metadata": {},
   "outputs": [
    {
     "data": {
      "text/html": [
       "<div>\n",
       "<style>\n",
       "    .dataframe thead tr:only-child th {\n",
       "        text-align: right;\n",
       "    }\n",
       "\n",
       "    .dataframe thead th {\n",
       "        text-align: left;\n",
       "    }\n",
       "\n",
       "    .dataframe tbody tr th {\n",
       "        vertical-align: top;\n",
       "    }\n",
       "</style>\n",
       "<table border=\"1\" class=\"dataframe\">\n",
       "  <thead>\n",
       "    <tr style=\"text-align: right;\">\n",
       "      <th></th>\n",
       "      <th>Shape</th>\n",
       "      <th>Desde</th>\n",
       "      <th>Hasta</th>\n",
       "      <th>ROUTE_NAME</th>\n",
       "      <th>Semaforos_Count</th>\n",
       "    </tr>\n",
       "  </thead>\n",
       "  <tbody>\n",
       "    <tr>\n",
       "      <th>0</th>\n",
       "      <td>Shapes_Dic01_2015.shp</td>\n",
       "      <td>2015-12-01</td>\n",
       "      <td>2016-01-15</td>\n",
       "      <td>105I</td>\n",
       "      <td>22</td>\n",
       "    </tr>\n",
       "    <tr>\n",
       "      <th>1</th>\n",
       "      <td>Shapes_Dic01_2015.shp</td>\n",
       "      <td>2015-12-01</td>\n",
       "      <td>2016-01-15</td>\n",
       "      <td>105R</td>\n",
       "      <td>29</td>\n",
       "    </tr>\n",
       "    <tr>\n",
       "      <th>2</th>\n",
       "      <td>Shapes_Dic01_2015.shp</td>\n",
       "      <td>2015-12-01</td>\n",
       "      <td>2016-01-15</td>\n",
       "      <td>203I</td>\n",
       "      <td>90</td>\n",
       "    </tr>\n",
       "    <tr>\n",
       "      <th>3</th>\n",
       "      <td>Shapes_Dic01_2015.shp</td>\n",
       "      <td>2015-12-01</td>\n",
       "      <td>2016-01-15</td>\n",
       "      <td>203R</td>\n",
       "      <td>89</td>\n",
       "    </tr>\n",
       "    <tr>\n",
       "      <th>4</th>\n",
       "      <td>Shapes_Dic01_2015.shp</td>\n",
       "      <td>2015-12-01</td>\n",
       "      <td>2016-01-15</td>\n",
       "      <td>214I</td>\n",
       "      <td>73</td>\n",
       "    </tr>\n",
       "  </tbody>\n",
       "</table>\n",
       "</div>"
      ],
      "text/plain": [
       "                   Shape      Desde      Hasta ROUTE_NAME  Semaforos_Count\n",
       "0  Shapes_Dic01_2015.shp 2015-12-01 2016-01-15       105I               22\n",
       "1  Shapes_Dic01_2015.shp 2015-12-01 2016-01-15       105R               29\n",
       "2  Shapes_Dic01_2015.shp 2015-12-01 2016-01-15       203I               90\n",
       "3  Shapes_Dic01_2015.shp 2015-12-01 2016-01-15       203R               89\n",
       "4  Shapes_Dic01_2015.shp 2015-12-01 2016-01-15       214I               73"
      ]
     },
     "execution_count": 7,
     "metadata": {},
     "output_type": "execute_result"
    }
   ],
   "source": [
    "NI_df.head()"
   ]
  },
  {
   "cell_type": "code",
   "execution_count": 8,
   "metadata": {
    "collapsed": true
   },
   "outputs": [],
   "source": [
    "f = {'Semaforos_Count': ['min','max','std'], 'Shape':['unique']}\n",
    "grouped_NI_df = NI_df.groupby(['ROUTE_NAME']).agg(f).reset_index().rename(columns={'':'ROUTE_NAME','min':'semaforos_min','max' : 'semaforos_max', 'std' : 'semaforos_std', 'unique' : 'shapes_unique'})\n",
    "grouped_NI_df.columns = grouped_NI_df.columns.droplevel()\n",
    "grouped_NI_df.sort_values(by=['semaforos_std'], ascending=False, inplace=True)"
   ]
  },
  {
   "cell_type": "code",
   "execution_count": 9,
   "metadata": {
    "collapsed": true
   },
   "outputs": [],
   "source": [
    "grouped_NI_df_path =  os.path.join(DTPMDir,'03_Semaforos/NI/NI_std.xlsx')\n",
    "grouped_NI_df.to_excel(grouped_NI_df_path, index = False)"
   ]
  },
  {
   "cell_type": "markdown",
   "metadata": {},
   "source": [
    "# Closed"
   ]
  }
 ],
 "metadata": {
  "kernelspec": {
   "display_name": "Python 3",
   "language": "python",
   "name": "python3"
  },
  "language_info": {
   "codemirror_mode": {
    "name": "ipython",
    "version": 3
   },
   "file_extension": ".py",
   "mimetype": "text/x-python",
   "name": "python",
   "nbconvert_exporter": "python",
   "pygments_lexer": "ipython3",
   "version": "3.6.1"
  }
 },
 "nbformat": 4,
 "nbformat_minor": 2
}
