{
 "cells": [
  {
   "cell_type": "markdown",
   "metadata": {},
   "source": [
    "### Querying Access to specific dates"
   ]
  },
  {
   "cell_type": "code",
   "execution_count": 1,
   "metadata": {
    "collapsed": true
   },
   "outputs": [],
   "source": [
    "import os\n",
    "import sys\n",
    "module_path = os.path.abspath(os.path.join('..'))\n",
    "if module_path not in sys.path:\n",
    "    sys.path.append(module_path)"
   ]
  },
  {
   "cell_type": "code",
   "execution_count": 2,
   "metadata": {},
   "outputs": [
    {
     "data": {
      "text/html": [
       "<style>.container { width:80% !important; }</style>"
      ],
      "text/plain": [
       "<IPython.core.display.HTML object>"
      ]
     },
     "metadata": {},
     "output_type": "display_data"
    }
   ],
   "source": [
    "%matplotlib inline\n",
    "from IPython.core.display import display, HTML\n",
    "display(HTML(\"<style>.container { width:80% !important; }</style>\"))\n",
    "\n",
    "import pandas as pd\n",
    "import matplotlib\n",
    "import matplotlib.pyplot as plt\n",
    "import matplotlib.dates as mdates\n",
    "import numpy as np\n",
    "import datetime as dt\n",
    "import time"
   ]
  },
  {
   "cell_type": "code",
   "execution_count": 3,
   "metadata": {
    "collapsed": true
   },
   "outputs": [],
   "source": [
    "from Utils import TransantiagoConstants\n",
    "RFADir = TransantiagoConstants.RFADir"
   ]
  },
  {
   "cell_type": "markdown",
   "metadata": {},
   "source": [
    "-----------------"
   ]
  },
  {
   "cell_type": "markdown",
   "metadata": {},
   "source": [
    "##### Querying 2016 data"
   ]
  },
  {
   "cell_type": "code",
   "execution_count": 4,
   "metadata": {
    "collapsed": true
   },
   "outputs": [],
   "source": [
    "evasion_2016_path = os.path.join(RFADir,'04_Consolidados/0_consolidados/evasion_2016_consolidado.csv')\n",
    "evasion_2016 = pd.read_csv(evasion_2016_path,sep=',', encoding='latin-1', parse_dates=[1])"
   ]
  },
  {
   "cell_type": "code",
   "execution_count": 5,
   "metadata": {
    "collapsed": true
   },
   "outputs": [],
   "source": [
    "enero = evasion_2016.loc[evasion_2016['FECHA'].dt.month==1,'FECHA'].dt.day.unique()"
   ]
  },
  {
   "cell_type": "code",
   "execution_count": 6,
   "metadata": {
    "collapsed": true
   },
   "outputs": [],
   "source": [
    "febrero = evasion_2016.loc[evasion_2016['FECHA'].dt.month==2,'FECHA'].dt.day.unique()"
   ]
  },
  {
   "cell_type": "code",
   "execution_count": 7,
   "metadata": {
    "collapsed": true
   },
   "outputs": [],
   "source": [
    "marzo = evasion_2016.loc[evasion_2016['FECHA'].dt.month==3,'FECHA'].dt.day.unique()"
   ]
  },
  {
   "cell_type": "code",
   "execution_count": 8,
   "metadata": {
    "collapsed": true
   },
   "outputs": [],
   "source": [
    "abril = evasion_2016.loc[evasion_2016['FECHA'].dt.month==4,'FECHA'].dt.day.unique()"
   ]
  },
  {
   "cell_type": "code",
   "execution_count": 9,
   "metadata": {
    "collapsed": true
   },
   "outputs": [],
   "source": [
    "mayo = evasion_2016.loc[evasion_2016['FECHA'].dt.month==5,'FECHA'].dt.day.unique()"
   ]
  },
  {
   "cell_type": "code",
   "execution_count": 10,
   "metadata": {
    "collapsed": true
   },
   "outputs": [],
   "source": [
    "junio = evasion_2016.loc[evasion_2016['FECHA'].dt.month==6,'FECHA'].dt.day.unique()"
   ]
  },
  {
   "cell_type": "code",
   "execution_count": 11,
   "metadata": {
    "collapsed": true
   },
   "outputs": [],
   "source": [
    "julio = evasion_2016.loc[evasion_2016['FECHA'].dt.month==7,'FECHA'].dt.day.unique()"
   ]
  },
  {
   "cell_type": "code",
   "execution_count": 12,
   "metadata": {
    "collapsed": true
   },
   "outputs": [],
   "source": [
    "agosto = evasion_2016.loc[evasion_2016['FECHA'].dt.month==8,'FECHA'].dt.day.unique()"
   ]
  },
  {
   "cell_type": "code",
   "execution_count": 13,
   "metadata": {
    "collapsed": true
   },
   "outputs": [],
   "source": [
    "septiembre = evasion_2016.loc[evasion_2016['FECHA'].dt.month==9,'FECHA'].dt.day.unique()"
   ]
  },
  {
   "cell_type": "code",
   "execution_count": 14,
   "metadata": {
    "collapsed": true
   },
   "outputs": [],
   "source": [
    "octubre = evasion_2016.loc[evasion_2016['FECHA'].dt.month==10,'FECHA'].dt.day.unique()"
   ]
  },
  {
   "cell_type": "code",
   "execution_count": 15,
   "metadata": {
    "collapsed": true
   },
   "outputs": [],
   "source": [
    "noviembre = evasion_2016.loc[evasion_2016['FECHA'].dt.month==11,'FECHA'].dt.day.unique()"
   ]
  },
  {
   "cell_type": "code",
   "execution_count": 16,
   "metadata": {
    "collapsed": true
   },
   "outputs": [],
   "source": [
    "diciembre = evasion_2016.loc[evasion_2016['FECHA'].dt.month==12,'FECHA'].dt.day.unique()"
   ]
  },
  {
   "cell_type": "code",
   "execution_count": 47,
   "metadata": {
    "collapsed": true
   },
   "outputs": [],
   "source": [
    "def printQuery(month, number):\n",
    "    if (len(month)==6):\n",
    "        print(\"SELECT LBS.UN, LBS.Servicio, LBS.Patente, LBS.Sentido, LBS.Inicio, LBS.Fin, LBS.[Distancia (m)], LBS.[Tiempo (hh:mm:ss)], LBS.[Velocidad (Km/hr)], LBS.Estado, LBS.Fecha, LBS.Periodo INTO DiasEvasion\")\n",
    "        print(\"FROM LBS\")\n",
    "        print(\"WHERE (((LBS.Fecha)=\" + str(month[0]) + \"/\" +  number + \"/2016))\" + \" Or (((LBS.Fecha)=\" + str(month[1]) + \"/\" + number + \"/2016))\" + \" Or (((LBS.Fecha)=\" + str(month[2]) + \"/\" + number + \"/2016))\" + \" Or (((LBS.Fecha)=\" + str(month[3]) + \"/\" + number + \"/2016))\" + \" Or (((LBS.Fecha)=\" + str(month[4]) + \"/\" + number + \"/2016))\" + \" Or (((LBS.Fecha)=\" + str(month[5]) + \"/\" + number + \"/2016));\")\n",
    "    elif(len(month)==5):\n",
    "        print(\"SELECT LBS.UN, LBS.Servicio, LBS.Patente, LBS.Sentido, LBS.Inicio, LBS.Fin, LBS.[Distancia (m)], LBS.[Tiempo (hh:mm:ss)], LBS.[Velocidad (Km/hr)], LBS.Estado, LBS.Fecha, LBS.Periodo INTO DiasEvasion\")\n",
    "        print(\"FROM LBS\")\n",
    "        print(\"WHERE (((LBS.Fecha)=\" + str(month[0]) + \"/\" +  number + \"/2016))\" + \" Or (((LBS.Fecha)=\" + str(month[1]) + \"/\" + number + \"/2016))\" + \" Or (((LBS.Fecha)=\" + str(month[2]) + \"/\" + number + \"/2016))\" + \" Or (((LBS.Fecha)=\" + str(month[3]) + \"/\" + number + \"/2016))\" + \" Or (((LBS.Fecha)=\" + str(month[4]) + \"/\" + number + \"/2016));\")\n",
    "    elif(len(month)==4):\n",
    "        print(\"SELECT LBS.UN, LBS.Servicio, LBS.Patente, LBS.Sentido, LBS.Inicio, LBS.Fin, LBS.[Distancia (m)], LBS.[Tiempo (hh:mm:ss)], LBS.[Velocidad (Km/hr)], LBS.Estado, LBS.Fecha, LBS.Periodo INTO DiasEvasion\")\n",
    "        print(\"FROM LBS\")\n",
    "        print(\"WHERE (((LBS.Fecha)=\" + str(month[0]) + \"/\" +  number + \"/2016))\" + \" Or (((LBS.Fecha)=\" + str(month[1]) + \"/\" + number + \"/2016))\" + \" Or (((LBS.Fecha)=\" + str(month[2]) + \"/\" + number + \"/2016))\" + \" Or (((LBS.Fecha)=\" + str(month[3]) + \"/\" + number + \"/2016));\")"
   ]
  },
  {
   "cell_type": "code",
   "execution_count": 48,
   "metadata": {},
   "outputs": [
    {
     "name": "stdout",
     "output_type": "stream",
     "text": [
      "SELECT LBS.UN, LBS.Servicio, LBS.Patente, LBS.Sentido, LBS.Inicio, LBS.Fin, LBS.[Distancia (m)], LBS.[Tiempo (hh:mm:ss)], LBS.[Velocidad (Km/hr)], LBS.Fecha, LBS.Periodo INTO DiasEvasion\n",
      "FROM LBS\n",
      "WHERE (((LBS.Fecha)=21/01/2016)) Or (((LBS.Fecha)=14/01/2016)) Or (((LBS.Fecha)=12/01/2016)) Or (((LBS.Fecha)=13/01/2016)) Or (((LBS.Fecha)=19/01/2016)) Or (((LBS.Fecha)=20/01/2016));\n"
     ]
    }
   ],
   "source": [
    "printQuery(enero,\"01\")"
   ]
  },
  {
   "cell_type": "code",
   "execution_count": 34,
   "metadata": {},
   "outputs": [
    {
     "name": "stdout",
     "output_type": "stream",
     "text": [
      "SELECT LBS.UN, LBS.Servicio, LBS.Patente, LBS.Sentido, LBS.Inicio, LBS.Fin, LBS.[Distancia (m)], LBS.[Tiempo (hh:mm:ss)], LBS.[Velocidad (Km/hr)], LBS.Fecha, LBS.Periodo INTO DiasEvasion\n",
      "FROM LBS\n",
      "WHERE (((LBS.Fecha)=18/02/2016)) Or (((LBS.Fecha)=17/02/2016)) Or (((LBS.Fecha)=10/02/2016)) Or (((LBS.Fecha)=9/02/2016)) Or (((LBS.Fecha)=16/02/2016)) Or (((LBS.Fecha)=11/02/2016));\n"
     ]
    }
   ],
   "source": [
    "printQuery(febrero,\"02\")"
   ]
  },
  {
   "cell_type": "code",
   "execution_count": 35,
   "metadata": {},
   "outputs": [
    {
     "name": "stdout",
     "output_type": "stream",
     "text": [
      "SELECT LBS.UN, LBS.Servicio, LBS.Patente, LBS.Sentido, LBS.Inicio, LBS.Fin, LBS.[Distancia (m)], LBS.[Tiempo (hh:mm:ss)], LBS.[Velocidad (Km/hr)], LBS.Fecha, LBS.Periodo INTO DiasEvasion\n",
      "FROM LBS\n",
      "WHERE (((LBS.Fecha)=17/03/2016)) Or (((LBS.Fecha)=15/03/2016)) Or (((LBS.Fecha)=9/03/2016)) Or (((LBS.Fecha)=10/03/2016)) Or (((LBS.Fecha)=16/03/2016)) Or (((LBS.Fecha)=8/03/2016));\n"
     ]
    }
   ],
   "source": [
    "printQuery(marzo,\"03\")"
   ]
  },
  {
   "cell_type": "code",
   "execution_count": 36,
   "metadata": {},
   "outputs": [
    {
     "name": "stdout",
     "output_type": "stream",
     "text": [
      "SELECT LBS.UN, LBS.Servicio, LBS.Patente, LBS.Sentido, LBS.Inicio, LBS.Fin, LBS.[Distancia (m)], LBS.[Tiempo (hh:mm:ss)], LBS.[Velocidad (Km/hr)], LBS.Fecha, LBS.Periodo INTO DiasEvasion\n",
      "FROM LBS\n",
      "WHERE (((LBS.Fecha)=13/04/2016)) Or (((LBS.Fecha)=19/04/2016)) Or (((LBS.Fecha)=14/04/2016)) Or (((LBS.Fecha)=21/04/2016)) Or (((LBS.Fecha)=12/04/2016)) Or (((LBS.Fecha)=20/04/2016));\n"
     ]
    }
   ],
   "source": [
    "printQuery(abril,\"04\")"
   ]
  },
  {
   "cell_type": "code",
   "execution_count": 37,
   "metadata": {},
   "outputs": [
    {
     "name": "stdout",
     "output_type": "stream",
     "text": [
      "SELECT LBS.UN, LBS.Servicio, LBS.Patente, LBS.Sentido, LBS.Inicio, LBS.Fin, LBS.[Distancia (m)], LBS.[Tiempo (hh:mm:ss)], LBS.[Velocidad (Km/hr)], LBS.Fecha, LBS.Periodo INTO DiasEvasion\n",
      "FROM LBS\n",
      "WHERE (((LBS.Fecha)=17/05/2016)) Or (((LBS.Fecha)=11/05/2016)) Or (((LBS.Fecha)=19/05/2016)) Or (((LBS.Fecha)=10/05/2016)) Or (((LBS.Fecha)=18/05/2016)) Or (((LBS.Fecha)=24/05/2016));\n"
     ]
    }
   ],
   "source": [
    "printQuery(mayo,\"05\")"
   ]
  },
  {
   "cell_type": "code",
   "execution_count": 38,
   "metadata": {},
   "outputs": [
    {
     "name": "stdout",
     "output_type": "stream",
     "text": [
      "SELECT LBS.UN, LBS.Servicio, LBS.Patente, LBS.Sentido, LBS.Inicio, LBS.Fin, LBS.[Distancia (m)], LBS.[Tiempo (hh:mm:ss)], LBS.[Velocidad (Km/hr)], LBS.Fecha, LBS.Periodo INTO DiasEvasion\n",
      "FROM LBS\n",
      "WHERE (((LBS.Fecha)=7/06/2016)) Or (((LBS.Fecha)=23/06/2016)) Or (((LBS.Fecha)=21/06/2016)) Or (((LBS.Fecha)=8/06/2016));\n"
     ]
    }
   ],
   "source": [
    "printQuery(junio,\"06\")"
   ]
  },
  {
   "cell_type": "code",
   "execution_count": 39,
   "metadata": {},
   "outputs": [
    {
     "name": "stdout",
     "output_type": "stream",
     "text": [
      "SELECT LBS.UN, LBS.Servicio, LBS.Patente, LBS.Sentido, LBS.Inicio, LBS.Fin, LBS.[Distancia (m)], LBS.[Tiempo (hh:mm:ss)], LBS.[Velocidad (Km/hr)], LBS.Fecha, LBS.Periodo INTO DiasEvasion\n",
      "FROM LBS\n",
      "WHERE (((LBS.Fecha)=14/07/2016)) Or (((LBS.Fecha)=20/07/2016)) Or (((LBS.Fecha)=12/07/2016)) Or (((LBS.Fecha)=13/07/2016)) Or (((LBS.Fecha)=21/07/2016)) Or (((LBS.Fecha)=19/07/2016));\n"
     ]
    }
   ],
   "source": [
    "printQuery(julio,\"07\")"
   ]
  },
  {
   "cell_type": "code",
   "execution_count": 40,
   "metadata": {},
   "outputs": [
    {
     "name": "stdout",
     "output_type": "stream",
     "text": [
      "SELECT LBS.UN, LBS.Servicio, LBS.Patente, LBS.Sentido, LBS.Inicio, LBS.Fin, LBS.[Distancia (m)], LBS.[Tiempo (hh:mm:ss)], LBS.[Velocidad (Km/hr)], LBS.Fecha, LBS.Periodo INTO DiasEvasion\n",
      "FROM LBS\n",
      "WHERE (((LBS.Fecha)=10/08/2016)) Or (((LBS.Fecha)=11/08/2016)) Or (((LBS.Fecha)=9/08/2016)) Or (((LBS.Fecha)=17/08/2016)) Or (((LBS.Fecha)=18/08/2016));\n"
     ]
    }
   ],
   "source": [
    "printQuery(agosto,\"08\")"
   ]
  },
  {
   "cell_type": "code",
   "execution_count": 41,
   "metadata": {},
   "outputs": [
    {
     "name": "stdout",
     "output_type": "stream",
     "text": [
      "SELECT LBS.UN, LBS.Servicio, LBS.Patente, LBS.Sentido, LBS.Inicio, LBS.Fin, LBS.[Distancia (m)], LBS.[Tiempo (hh:mm:ss)], LBS.[Velocidad (Km/hr)], LBS.Fecha, LBS.Periodo INTO DiasEvasion\n",
      "FROM LBS\n",
      "WHERE (((LBS.Fecha)=14/09/2016)) Or (((LBS.Fecha)=13/09/2016)) Or (((LBS.Fecha)=7/09/2016)) Or (((LBS.Fecha)=21/09/2016)) Or (((LBS.Fecha)=8/09/2016));\n"
     ]
    }
   ],
   "source": [
    "printQuery(septiembre,\"09\")"
   ]
  },
  {
   "cell_type": "code",
   "execution_count": 42,
   "metadata": {},
   "outputs": [
    {
     "name": "stdout",
     "output_type": "stream",
     "text": [
      "SELECT LBS.UN, LBS.Servicio, LBS.Patente, LBS.Sentido, LBS.Inicio, LBS.Fin, LBS.[Distancia (m)], LBS.[Tiempo (hh:mm:ss)], LBS.[Velocidad (Km/hr)], LBS.Fecha, LBS.Periodo INTO DiasEvasion\n",
      "FROM LBS\n",
      "WHERE (((LBS.Fecha)=19/10/2016)) Or (((LBS.Fecha)=18/10/2016)) Or (((LBS.Fecha)=12/10/2016)) Or (((LBS.Fecha)=20/10/2016)) Or (((LBS.Fecha)=25/10/2016));\n"
     ]
    }
   ],
   "source": [
    "printQuery(octubre,\"10\")"
   ]
  },
  {
   "cell_type": "code",
   "execution_count": 43,
   "metadata": {},
   "outputs": [
    {
     "name": "stdout",
     "output_type": "stream",
     "text": [
      "SELECT LBS.UN, LBS.Servicio, LBS.Patente, LBS.Sentido, LBS.Inicio, LBS.Fin, LBS.[Distancia (m)], LBS.[Tiempo (hh:mm:ss)], LBS.[Velocidad (Km/hr)], LBS.Fecha, LBS.Periodo INTO DiasEvasion\n",
      "FROM LBS\n",
      "WHERE (((LBS.Fecha)=22/11/2016)) Or (((LBS.Fecha)=9/11/2016)) Or (((LBS.Fecha)=17/11/2016)) Or (((LBS.Fecha)=8/11/2016));\n"
     ]
    }
   ],
   "source": [
    "printQuery(noviembre,\"11\")"
   ]
  },
  {
   "cell_type": "code",
   "execution_count": 44,
   "metadata": {
    "scrolled": true
   },
   "outputs": [
    {
     "name": "stdout",
     "output_type": "stream",
     "text": [
      "SELECT LBS.UN, LBS.Servicio, LBS.Patente, LBS.Sentido, LBS.Inicio, LBS.Fin, LBS.[Distancia (m)], LBS.[Tiempo (hh:mm:ss)], LBS.[Velocidad (Km/hr)], LBS.Fecha, LBS.Periodo INTO DiasEvasion\n",
      "FROM LBS\n",
      "WHERE (((LBS.Fecha)=15/12/2016)) Or (((LBS.Fecha)=6/12/2016)) Or (((LBS.Fecha)=14/12/2016)) Or (((LBS.Fecha)=20/12/2016)) Or (((LBS.Fecha)=13/12/2016));\n"
     ]
    }
   ],
   "source": [
    "printQuery(diciembre,\"12\")"
   ]
  },
  {
   "cell_type": "markdown",
   "metadata": {},
   "source": [
    "---------------------------------"
   ]
  },
  {
   "cell_type": "markdown",
   "metadata": {},
   "source": [
    "###### Querying 2017"
   ]
  },
  {
   "cell_type": "code",
   "execution_count": 33,
   "metadata": {
    "collapsed": true
   },
   "outputs": [],
   "source": [
    "evasion_2017_path = os.path.join(RFADir,'04_Consolidados/0_consolidados/evasion_2017_consolidado.csv')\n",
    "evasion_2017 = pd.read_csv(evasion_2017_path,sep=',', encoding='latin-1', parse_dates=[1])"
   ]
  },
  {
   "cell_type": "code",
   "execution_count": 34,
   "metadata": {
    "collapsed": true
   },
   "outputs": [],
   "source": [
    "enero = evasion_2017.loc[evasion_2017['FECHA'].dt.month==1,'FECHA'].dt.day.unique()"
   ]
  },
  {
   "cell_type": "code",
   "execution_count": 35,
   "metadata": {
    "collapsed": true
   },
   "outputs": [],
   "source": [
    "febrero = evasion_2017.loc[evasion_2017['FECHA'].dt.month==2,'FECHA'].dt.day.unique()"
   ]
  },
  {
   "cell_type": "code",
   "execution_count": 36,
   "metadata": {
    "collapsed": true
   },
   "outputs": [],
   "source": [
    "marzo = evasion_2017.loc[evasion_2017['FECHA'].dt.month==3,'FECHA'].dt.day.unique()"
   ]
  },
  {
   "cell_type": "code",
   "execution_count": 37,
   "metadata": {
    "collapsed": true
   },
   "outputs": [],
   "source": [
    "abril = evasion_2017.loc[evasion_2017['FECHA'].dt.month==4,'FECHA'].dt.day.unique()"
   ]
  },
  {
   "cell_type": "code",
   "execution_count": 38,
   "metadata": {
    "collapsed": true
   },
   "outputs": [],
   "source": [
    "mayo = evasion_2017.loc[evasion_2017['FECHA'].dt.month==5,'FECHA'].dt.day.unique()"
   ]
  },
  {
   "cell_type": "code",
   "execution_count": 39,
   "metadata": {
    "collapsed": true
   },
   "outputs": [],
   "source": [
    "junio = evasion_2017.loc[evasion_2017['FECHA'].dt.month==6,'FECHA'].dt.day.unique()"
   ]
  },
  {
   "cell_type": "code",
   "execution_count": 40,
   "metadata": {
    "collapsed": true
   },
   "outputs": [],
   "source": [
    "julio = evasion_2017.loc[evasion_2017['FECHA'].dt.month==7,'FECHA'].dt.day.unique()"
   ]
  },
  {
   "cell_type": "code",
   "execution_count": 41,
   "metadata": {
    "collapsed": true
   },
   "outputs": [],
   "source": [
    "agosto = evasion_2017.loc[evasion_2017['FECHA'].dt.month==8,'FECHA'].dt.day.unique()"
   ]
  },
  {
   "cell_type": "code",
   "execution_count": 42,
   "metadata": {
    "collapsed": true
   },
   "outputs": [],
   "source": [
    "septiembre = evasion_2017.loc[evasion_2017['FECHA'].dt.month==9,'FECHA'].dt.day.unique()"
   ]
  },
  {
   "cell_type": "code",
   "execution_count": 43,
   "metadata": {
    "collapsed": true
   },
   "outputs": [],
   "source": [
    "octubre = evasion_2017.loc[evasion_2017['FECHA'].dt.month==10,'FECHA'].dt.day.unique()"
   ]
  },
  {
   "cell_type": "code",
   "execution_count": 44,
   "metadata": {
    "collapsed": true
   },
   "outputs": [],
   "source": [
    "noviembre = evasion_2017.loc[evasion_2017['FECHA'].dt.month==11,'FECHA'].dt.day.unique()"
   ]
  },
  {
   "cell_type": "code",
   "execution_count": 45,
   "metadata": {
    "collapsed": true
   },
   "outputs": [],
   "source": [
    "diciembre = evasion_2017.loc[evasion_2017['FECHA'].dt.month==12,'FECHA'].dt.day.unique()"
   ]
  },
  {
   "cell_type": "code",
   "execution_count": 46,
   "metadata": {
    "collapsed": true
   },
   "outputs": [],
   "source": [
    "def printQuery(month, number):\n",
    "    if(len(month)==7):\n",
    "        print(\"SELECT LBS.UN, LBS.Servicio, LBS.Patente, LBS.Sentido, LBS.Inicio, LBS.Fin, LBS.[Distancia (m)], LBS.[Tiempo (hh:mm:ss)], LBS.[Velocidad (Km/hr)], LBS.Estado, LBS.Fecha, LBS.Periodo INTO DiasEvasion\")\n",
    "        print(\"FROM LBS\")\n",
    "        print(\"WHERE (((LBS.Fecha)=\" + str(month[0]) + \"/\" +  number + \"/2017))\" + \" Or (((LBS.Fecha)=\" + str(month[1]) + \"/\" + number + \"/2017))\" + \" Or (((LBS.Fecha)=\" + str(month[2]) + \"/\" + number + \"/2017))\" + \" Or (((LBS.Fecha)=\" + str(month[3]) + \"/\" + number + \"/2017))\" + \" Or (((LBS.Fecha)=\" + str(month[4]) + \"/\" + number + \"/2017))\" + \" Or (((LBS.Fecha)=\" + str(month[5]) + \"/\" + number + \"/2017))\" + \" Or (((LBS.Fecha)=\" + str(month[6]) + \"/\" + number + \"/2017));\")\n",
    "    elif(len(month)==6):\n",
    "        print(\"SELECT LBS.UN, LBS.Servicio, LBS.Patente, LBS.Sentido, LBS.Inicio, LBS.Fin, LBS.[Distancia (m)], LBS.[Tiempo (hh:mm:ss)], LBS.[Velocidad (Km/hr)], LBS.Estado, LBS.Fecha, LBS.Periodo INTO DiasEvasion\")\n",
    "        print(\"FROM LBS\")\n",
    "        print(\"WHERE (((LBS.Fecha)=\" + str(month[0]) + \"/\" +  number + \"/2017))\" + \" Or (((LBS.Fecha)=\" + str(month[1]) + \"/\" + number + \"/2017))\" + \" Or (((LBS.Fecha)=\" + str(month[2]) + \"/\" + number + \"/2017))\" + \" Or (((LBS.Fecha)=\" + str(month[3]) + \"/\" + number + \"/2017))\" + \" Or (((LBS.Fecha)=\" + str(month[4]) + \"/\" + number + \"/2017))\" + \" Or (((LBS.Fecha)=\" + str(month[5]) + \"/\" + number + \"/2017));\")\n",
    "    elif(len(month)==5):\n",
    "        print(\"SELECT LBS.UN, LBS.Servicio, LBS.Patente, LBS.Sentido, LBS.Inicio, LBS.Fin, LBS.[Distancia (m)], LBS.[Tiempo (hh:mm:ss)], LBS.[Velocidad (Km/hr)], LBS.Estado, LBS.Fecha, LBS.Periodo INTO DiasEvasion\")\n",
    "        print(\"FROM LBS\")\n",
    "        print(\"WHERE (((LBS.Fecha)=\" + str(month[0]) + \"/\" +  number + \"/2017))\" + \" Or (((LBS.Fecha)=\" + str(month[1]) + \"/\" + number + \"/2017))\" + \" Or (((LBS.Fecha)=\" + str(month[2]) + \"/\" + number + \"/2017))\" + \" Or (((LBS.Fecha)=\" + str(month[3]) + \"/\" + number + \"/2017))\" + \" Or (((LBS.Fecha)=\" + str(month[4]) + \"/\" + number + \"/2017));\")\n",
    "    elif(len(month)==4):\n",
    "        print(\"SELECT LBS.UN, LBS.Servicio, LBS.Patente, LBS.Sentido, LBS.Inicio, LBS.Fin, LBS.[Distancia (m)], LBS.[Tiempo (hh:mm:ss)], LBS.[Velocidad (Km/hr)], LBS.Estado, LBS.Fecha, LBS.Periodo INTO DiasEvasion\")\n",
    "        print(\"FROM LBS\")\n",
    "        print(\"WHERE (((LBS.Fecha)=\" + str(month[0]) + \"/\" +  number + \"/2017))\" + \" Or (((LBS.Fecha)=\" + str(month[1]) + \"/\" + number + \"/2017))\" + \" Or (((LBS.Fecha)=\" + str(month[2]) + \"/\" + number + \"/2017))\" + \" Or (((LBS.Fecha)=\" + str(month[3]) + \"/\" + number + \"/2017));\")\n",
    "    elif(len(month)==3):\n",
    "        print(\"SELECT LBS.UN, LBS.Servicio, LBS.Patente, LBS.Sentido, LBS.Inicio, LBS.Fin, LBS.[Distancia (m)], LBS.[Tiempo (hh:mm:ss)], LBS.[Velocidad (Km/hr)], LBS.Estado, LBS.Fecha, LBS.Periodo INTO DiasEvasion\")\n",
    "        print(\"FROM LBS\")\n",
    "        print(\"WHERE (((LBS.Fecha)=\" + str(month[0]) + \"/\" +  number + \"/2017))\" + \" Or (((LBS.Fecha)=\" + str(month[1]) + \"/\" + number + \"/2017))\" + \" Or (((LBS.Fecha)=\" + str(month[2]) + \"/\" + number + \"/2017));\")"
   ]
  },
  {
   "cell_type": "code",
   "execution_count": 48,
   "metadata": {},
   "outputs": [
    {
     "name": "stdout",
     "output_type": "stream",
     "text": [
      "SELECT LBS.UN, LBS.Servicio, LBS.Patente, LBS.Sentido, LBS.Inicio, LBS.Fin, LBS.[Distancia (m)], LBS.[Tiempo (hh:mm:ss)], LBS.[Velocidad (Km/hr)], LBS.Estado, LBS.Fecha, LBS.Periodo INTO DiasEvasion\n",
      "FROM LBS\n",
      "WHERE (((LBS.Fecha)=11/01/2017)) Or (((LBS.Fecha)=18/01/2017)) Or (((LBS.Fecha)=12/01/2017)) Or (((LBS.Fecha)=17/01/2017)) Or (((LBS.Fecha)=10/01/2017));\n"
     ]
    }
   ],
   "source": [
    "printQuery(enero,\"01\")"
   ]
  },
  {
   "cell_type": "code",
   "execution_count": 49,
   "metadata": {},
   "outputs": [
    {
     "name": "stdout",
     "output_type": "stream",
     "text": [
      "SELECT LBS.UN, LBS.Servicio, LBS.Patente, LBS.Sentido, LBS.Inicio, LBS.Fin, LBS.[Distancia (m)], LBS.[Tiempo (hh:mm:ss)], LBS.[Velocidad (Km/hr)], LBS.Estado, LBS.Fecha, LBS.Periodo INTO DiasEvasion\n",
      "FROM LBS\n",
      "WHERE (((LBS.Fecha)=7/02/2017)) Or (((LBS.Fecha)=8/02/2017)) Or (((LBS.Fecha)=15/02/2017)) Or (((LBS.Fecha)=14/02/2017)) Or (((LBS.Fecha)=9/02/2017));\n"
     ]
    }
   ],
   "source": [
    "printQuery(febrero,\"02\")"
   ]
  },
  {
   "cell_type": "code",
   "execution_count": 50,
   "metadata": {},
   "outputs": [
    {
     "name": "stdout",
     "output_type": "stream",
     "text": [
      "SELECT LBS.UN, LBS.Servicio, LBS.Patente, LBS.Sentido, LBS.Inicio, LBS.Fin, LBS.[Distancia (m)], LBS.[Tiempo (hh:mm:ss)], LBS.[Velocidad (Km/hr)], LBS.Estado, LBS.Fecha, LBS.Periodo INTO DiasEvasion\n",
      "FROM LBS\n",
      "WHERE (((LBS.Fecha)=16/03/2017)) Or (((LBS.Fecha)=14/03/2017)) Or (((LBS.Fecha)=15/03/2017)) Or (((LBS.Fecha)=21/03/2017)) Or (((LBS.Fecha)=8/03/2017)) Or (((LBS.Fecha)=23/03/2017)) Or (((LBS.Fecha)=9/03/2017));\n"
     ]
    }
   ],
   "source": [
    "printQuery(marzo,\"03\")"
   ]
  },
  {
   "cell_type": "code",
   "execution_count": 51,
   "metadata": {},
   "outputs": [
    {
     "name": "stdout",
     "output_type": "stream",
     "text": [
      "SELECT LBS.UN, LBS.Servicio, LBS.Patente, LBS.Sentido, LBS.Inicio, LBS.Fin, LBS.[Distancia (m)], LBS.[Tiempo (hh:mm:ss)], LBS.[Velocidad (Km/hr)], LBS.Estado, LBS.Fecha, LBS.Periodo INTO DiasEvasion\n",
      "FROM LBS\n",
      "WHERE (((LBS.Fecha)=18/04/2017)) Or (((LBS.Fecha)=12/04/2017)) Or (((LBS.Fecha)=6/04/2017)) Or (((LBS.Fecha)=11/04/2017));\n"
     ]
    }
   ],
   "source": [
    "printQuery(abril,\"04\")"
   ]
  },
  {
   "cell_type": "code",
   "execution_count": 52,
   "metadata": {},
   "outputs": [
    {
     "name": "stdout",
     "output_type": "stream",
     "text": [
      "SELECT LBS.UN, LBS.Servicio, LBS.Patente, LBS.Sentido, LBS.Inicio, LBS.Fin, LBS.[Distancia (m)], LBS.[Tiempo (hh:mm:ss)], LBS.[Velocidad (Km/hr)], LBS.Estado, LBS.Fecha, LBS.Periodo INTO DiasEvasion\n",
      "FROM LBS\n",
      "WHERE (((LBS.Fecha)=9/05/2017)) Or (((LBS.Fecha)=23/05/2017)) Or (((LBS.Fecha)=16/05/2017)) Or (((LBS.Fecha)=18/05/2017)) Or (((LBS.Fecha)=11/05/2017));\n"
     ]
    }
   ],
   "source": [
    "printQuery(mayo,\"05\")"
   ]
  },
  {
   "cell_type": "code",
   "execution_count": 53,
   "metadata": {},
   "outputs": [
    {
     "name": "stdout",
     "output_type": "stream",
     "text": [
      "SELECT LBS.UN, LBS.Servicio, LBS.Patente, LBS.Sentido, LBS.Inicio, LBS.Fin, LBS.[Distancia (m)], LBS.[Tiempo (hh:mm:ss)], LBS.[Velocidad (Km/hr)], LBS.Estado, LBS.Fecha, LBS.Periodo INTO DiasEvasion\n",
      "FROM LBS\n",
      "WHERE (((LBS.Fecha)=7/06/2017)) Or (((LBS.Fecha)=14/06/2017)) Or (((LBS.Fecha)=20/06/2017)) Or (((LBS.Fecha)=8/06/2017)) Or (((LBS.Fecha)=15/06/2017));\n"
     ]
    }
   ],
   "source": [
    "printQuery(junio,\"06\")"
   ]
  },
  {
   "cell_type": "code",
   "execution_count": 54,
   "metadata": {},
   "outputs": [
    {
     "name": "stdout",
     "output_type": "stream",
     "text": [
      "SELECT LBS.UN, LBS.Servicio, LBS.Patente, LBS.Sentido, LBS.Inicio, LBS.Fin, LBS.[Distancia (m)], LBS.[Tiempo (hh:mm:ss)], LBS.[Velocidad (Km/hr)], LBS.Estado, LBS.Fecha, LBS.Periodo INTO DiasEvasion\n",
      "FROM LBS\n",
      "WHERE (((LBS.Fecha)=19/07/2017)) Or (((LBS.Fecha)=11/07/2017)) Or (((LBS.Fecha)=18/07/2017)) Or (((LBS.Fecha)=20/07/2017)) Or (((LBS.Fecha)=13/07/2017));\n"
     ]
    }
   ],
   "source": [
    "printQuery(julio,\"07\")"
   ]
  },
  {
   "cell_type": "code",
   "execution_count": 55,
   "metadata": {},
   "outputs": [
    {
     "name": "stdout",
     "output_type": "stream",
     "text": [
      "SELECT LBS.UN, LBS.Servicio, LBS.Patente, LBS.Sentido, LBS.Inicio, LBS.Fin, LBS.[Distancia (m)], LBS.[Tiempo (hh:mm:ss)], LBS.[Velocidad (Km/hr)], LBS.Estado, LBS.Fecha, LBS.Periodo INTO DiasEvasion\n",
      "FROM LBS\n",
      "WHERE (((LBS.Fecha)=22/08/2017)) Or (((LBS.Fecha)=17/08/2017)) Or (((LBS.Fecha)=29/08/2017)) Or (((LBS.Fecha)=9/08/2017)) Or (((LBS.Fecha)=24/08/2017)) Or (((LBS.Fecha)=8/08/2017));\n"
     ]
    }
   ],
   "source": [
    "printQuery(agosto,\"08\")"
   ]
  },
  {
   "cell_type": "code",
   "execution_count": 56,
   "metadata": {},
   "outputs": [
    {
     "name": "stdout",
     "output_type": "stream",
     "text": [
      "SELECT LBS.UN, LBS.Servicio, LBS.Patente, LBS.Sentido, LBS.Inicio, LBS.Fin, LBS.[Distancia (m)], LBS.[Tiempo (hh:mm:ss)], LBS.[Velocidad (Km/hr)], LBS.Estado, LBS.Fecha, LBS.Periodo INTO DiasEvasion\n",
      "FROM LBS\n",
      "WHERE (((LBS.Fecha)=13/09/2017)) Or (((LBS.Fecha)=12/09/2017)) Or (((LBS.Fecha)=26/09/2017));\n"
     ]
    }
   ],
   "source": [
    "printQuery(septiembre,\"09\")"
   ]
  },
  {
   "cell_type": "code",
   "execution_count": 57,
   "metadata": {},
   "outputs": [
    {
     "name": "stdout",
     "output_type": "stream",
     "text": [
      "SELECT LBS.UN, LBS.Servicio, LBS.Patente, LBS.Sentido, LBS.Inicio, LBS.Fin, LBS.[Distancia (m)], LBS.[Tiempo (hh:mm:ss)], LBS.[Velocidad (Km/hr)], LBS.Estado, LBS.Fecha, LBS.Periodo INTO DiasEvasion\n",
      "FROM LBS\n",
      "WHERE (((LBS.Fecha)=18/10/2017)) Or (((LBS.Fecha)=19/10/2017)) Or (((LBS.Fecha)=11/10/2017)) Or (((LBS.Fecha)=17/10/2017));\n"
     ]
    }
   ],
   "source": [
    "printQuery(octubre,\"10\")"
   ]
  },
  {
   "cell_type": "code",
   "execution_count": 58,
   "metadata": {},
   "outputs": [
    {
     "name": "stdout",
     "output_type": "stream",
     "text": [
      "SELECT LBS.UN, LBS.Servicio, LBS.Patente, LBS.Sentido, LBS.Inicio, LBS.Fin, LBS.[Distancia (m)], LBS.[Tiempo (hh:mm:ss)], LBS.[Velocidad (Km/hr)], LBS.Estado, LBS.Fecha, LBS.Periodo INTO DiasEvasion\n",
      "FROM LBS\n",
      "WHERE (((LBS.Fecha)=9/11/2017)) Or (((LBS.Fecha)=23/11/2017)) Or (((LBS.Fecha)=16/11/2017)) Or (((LBS.Fecha)=7/11/2017)) Or (((LBS.Fecha)=14/11/2017));\n"
     ]
    }
   ],
   "source": [
    "printQuery(noviembre,\"11\")"
   ]
  },
  {
   "cell_type": "code",
   "execution_count": 59,
   "metadata": {},
   "outputs": [
    {
     "name": "stdout",
     "output_type": "stream",
     "text": [
      "SELECT LBS.UN, LBS.Servicio, LBS.Patente, LBS.Sentido, LBS.Inicio, LBS.Fin, LBS.[Distancia (m)], LBS.[Tiempo (hh:mm:ss)], LBS.[Velocidad (Km/hr)], LBS.Estado, LBS.Fecha, LBS.Periodo INTO DiasEvasion\n",
      "FROM LBS\n",
      "WHERE (((LBS.Fecha)=19/12/2017)) Or (((LBS.Fecha)=13/12/2017)) Or (((LBS.Fecha)=14/12/2017)) Or (((LBS.Fecha)=12/12/2017)) Or (((LBS.Fecha)=6/12/2017));\n"
     ]
    }
   ],
   "source": [
    "printQuery(diciembre,\"12\")"
   ]
  },
  {
   "cell_type": "markdown",
   "metadata": {},
   "source": [
    "## Closed"
   ]
  }
 ],
 "metadata": {
  "kernelspec": {
   "display_name": "Python 3",
   "language": "python",
   "name": "python3"
  },
  "language_info": {
   "codemirror_mode": {
    "name": "ipython",
    "version": 3
   },
   "file_extension": ".py",
   "mimetype": "text/x-python",
   "name": "python",
   "nbconvert_exporter": "python",
   "pygments_lexer": "ipython3",
   "version": "3.6.1"
  }
 },
 "nbformat": 4,
 "nbformat_minor": 2
}
