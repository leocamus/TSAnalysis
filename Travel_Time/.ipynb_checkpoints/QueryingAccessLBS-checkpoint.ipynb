{
 "cells": [
  {
   "cell_type": "markdown",
   "metadata": {},
   "source": [
    "# Querying Access Databases and printing .csv"
   ]
  },
  {
   "cell_type": "code",
   "execution_count": 1,
   "metadata": {
    "collapsed": true
   },
   "outputs": [],
   "source": [
    "import os\n",
    "import sys\n",
    "module_path = os.path.abspath(os.path.join('..'))\n",
    "if module_path not in sys.path:\n",
    "    sys.path.append(module_path)"
   ]
  },
  {
   "cell_type": "code",
   "execution_count": 2,
   "metadata": {},
   "outputs": [
    {
     "data": {
      "text/html": [
       "<style>.container { width:100% !important; }</style>"
      ],
      "text/plain": [
       "<IPython.core.display.HTML object>"
      ]
     },
     "metadata": {},
     "output_type": "display_data"
    }
   ],
   "source": [
    "%matplotlib inline\n",
    "from IPython.core.display import display, HTML\n",
    "display(HTML(\"<style>.container { width:100% !important; }</style>\"))\n",
    "import pandas as pd\n",
    "import datetime as dt\n",
    "import time"
   ]
  },
  {
   "cell_type": "code",
   "execution_count": 3,
   "metadata": {
    "collapsed": true
   },
   "outputs": [],
   "source": [
    "import pyodbc"
   ]
  },
  {
   "cell_type": "code",
   "execution_count": 4,
   "metadata": {
    "collapsed": true
   },
   "outputs": [],
   "source": [
    "month_list = ['01 Enero 2017',\n",
    "              '02 Febrero 2017',\n",
    "              '03 Marzo 2017',\n",
    "              '04 Abril 2017',\n",
    "              '05 Mayo 2017',\n",
    "              '06 Junio 2017',\n",
    "              '07 Julio 2017',\n",
    "              '08 Agosto 2017',\n",
    "              '09 Septiembre 2017',\n",
    "              '10 Octubre 2017',\n",
    "              '11 Noviembre 2017',\n",
    "              '12 Diciembre 2017']\n",
    "\n",
    "name_list = ['LBS Enero-2017',\n",
    "             'LBS Febrero-2017',\n",
    "             'LBS Marzo-2017',\n",
    "             'LBS Abril-2017',\n",
    "             'LBS Mayo-2017',\n",
    "             'LBS Junio-2017',\n",
    "             'LBS Julio-2017',\n",
    "             'LBS Agosto-2017',\n",
    "             'LBS SEP-2017',\n",
    "             'LBS OCT-2017',\n",
    "             'LBS NOV-2017',\n",
    "             'LBS DIC-2017']"
   ]
  },
  {
   "cell_type": "code",
   "execution_count": 5,
   "metadata": {
    "collapsed": true
   },
   "outputs": [],
   "source": [
    "def queryBuilder(names):\n",
    "    query = 'SELECT LBS.[' + names[1] + '], LBS.[' + names[3] + '], LBS.[' + names[4] + '], LBS.[' + names[5] + '], LBS.[' + names[10] + '], LBS.[' + names[11] + '], LBS.[' + names[13] + '], LBS.[' + names[14] + '], LBS.[' + names[15] + '], LBS.[' + names[18] + '], LBS.[' + names[20] + '] FROM LBS;'\n",
    "    headers = 'LBS.[' + names[1] + '];LBS.[' + names[3] + '];LBS.[' + names[4] + '];LBS.[' + names[5] + '];LBS.[' + names[10] + '];LBS.[' + names[11] + '];LBS.[' + names[13] + '];LBS.[' + names[14] + '];LBS.[' + names[15] + '];LBS.[' + names[18] + '];LBS.[' + names[20] + '];'\n",
    "    \n",
    "    return query, headers"
   ]
  },
  {
   "cell_type": "code",
   "execution_count": 6,
   "metadata": {},
   "outputs": [
    {
     "name": "stdout",
     "output_type": "stream",
     "text": [
      "933.5249405486791\n"
     ]
    }
   ],
   "source": [
    "#query = 'SELECT LBS.UN, LBS.Servicio, LBS.Patente, LBS.Sentido, LBS.[Distancia (m)], LBS.[Tiempo (hh:mm:ss)], LBS.Fecha FROM LBS;'\n",
    "tic = time.clock()\n",
    "\n",
    "for month, name in zip(month_list, name_list):\n",
    "    conn_str = (\n",
    "        r'DRIVER={Microsoft Access Driver (*.mdb, *.accdb)};'\n",
    "        r'DBQ=G:/LeoCamus/0_LBS/2017/' +  month + '/' + name + '.accdb;'\n",
    "    )\n",
    "    cnxn = pyodbc.connect(conn_str)\n",
    "    crsr = cnxn.cursor()\n",
    "    \n",
    "    names = [] #Useful are 1, 3, 4, 5, 10, 11, 13, 14, 15, 18, 20    \n",
    "    for row in crsr.columns(table='LBS'):\n",
    "        names.append(row.column_name)\n",
    "        \n",
    "    [query, headers] = queryBuilder(names)\n",
    "        \n",
    "    fetched_data = crsr.execute(query).fetchall()\n",
    "    \n",
    "    lbs_csv_file = 'F:/0_LBS/2017/' +  month + '/' + name + '.csv'\n",
    "\n",
    "    with open(lbs_csv_file,\"w\") as f:\n",
    "        f.write(headers)\n",
    "        f.write('\\n')\n",
    "            \n",
    "        for row in fetched_data:\n",
    "            for element in row:        \n",
    "                f.write('%s' % element + ';')\n",
    "            \n",
    "            f.write('\\n')\n",
    "\n",
    "    f.close()    \n",
    "    \n",
    "    cnxn.close()\n",
    "\n",
    "toc = time.clock()\n",
    "print(toc-tic)"
   ]
  },
  {
   "cell_type": "markdown",
   "metadata": {
    "collapsed": true
   },
   "source": [
    "# Closed"
   ]
  }
 ],
 "metadata": {
  "kernelspec": {
   "display_name": "Python 3",
   "language": "python",
   "name": "python3"
  },
  "language_info": {
   "codemirror_mode": {
    "name": "ipython",
    "version": 3
   },
   "file_extension": ".py",
   "mimetype": "text/x-python",
   "name": "python",
   "nbconvert_exporter": "python",
   "pygments_lexer": "ipython3",
   "version": "3.6.1"
  }
 },
 "nbformat": 4,
 "nbformat_minor": 2
}
