{
 "cells": [
  {
   "cell_type": "markdown",
   "metadata": {},
   "source": [
    "# LBS Descriptives"
   ]
  },
  {
   "cell_type": "code",
   "execution_count": 1,
   "metadata": {
    "collapsed": true
   },
   "outputs": [],
   "source": [
    "import os\n",
    "import sys\n",
    "module_path = os.path.abspath(os.path.join('..'))\n",
    "if module_path not in sys.path:\n",
    "    sys.path.append(module_path)"
   ]
  },
  {
   "cell_type": "code",
   "execution_count": 2,
   "metadata": {
    "scrolled": true
   },
   "outputs": [
    {
     "data": {
      "text/html": [
       "<style>.container { width:100% !important; }</style>"
      ],
      "text/plain": [
       "<IPython.core.display.HTML object>"
      ]
     },
     "metadata": {},
     "output_type": "display_data"
    }
   ],
   "source": [
    "%matplotlib inline\n",
    "from IPython.core.display import display, HTML\n",
    "display(HTML(\"<style>.container { width:100% !important; }</style>\"))\n",
    "\n",
    "import plotly.plotly\n",
    "import plotly.tools as tls\n",
    "import plotly.graph_objs as go\n",
    "\n",
    "import pandas as pd\n",
    "import matplotlib\n",
    "import matplotlib.pyplot as plt\n",
    "import matplotlib.dates as mdates\n",
    "from matplotlib.ticker import FuncFormatter\n",
    "import numpy as np\n",
    "import datetime as dt\n",
    "import time"
   ]
  },
  {
   "cell_type": "code",
   "execution_count": 3,
   "metadata": {
    "collapsed": true
   },
   "outputs": [],
   "source": [
    "from Utils import TransantiagoConstants\n",
    "from Utils import ReadTurnstilesDataBase"
   ]
  },
  {
   "cell_type": "code",
   "execution_count": 4,
   "metadata": {
    "collapsed": true
   },
   "outputs": [],
   "source": [
    "def mergeTurnstileDatabase(lbs_df, ana_turnstile_df, mauricio_turnstile_df):\n",
    "    lbs_df = lbs_df.merge(ana_turnstiles_df, left_on = 'LBS.[Patente]', right_on = 'sitio_subida', how='left')\n",
    "    lbs_df = lbs_df.merge(mauricio_turnstiles_df, left_on = 'LBS.[Patente]', right_on = 'sitio_subida' , suffixes=('_ana', '_mauricio'), how='left')\n",
    "    torniquetes_mariposa_conditions = (lbs_df.loc[:,'fecha_instalacion_ana'].dt.date<lbs_df.loc[:,'Fecha'])\n",
    "\n",
    "    lbs_df['min_fecha'] = pd.concat([lbs_df['fecha_instalacion_ana'], lbs_df['fecha_instalacion_mauricio']], axis=1).min(axis=1)\n",
    "    no_torniquetes_conditions = (((lbs_df.loc[:,'fecha_instalacion_ana'].isnull()) & (lbs_df.loc[:,'fecha_instalacion_mauricio'].isnull())) | (lbs_df.loc[:,'Fecha']<=lbs_df['min_fecha'].dt.date))\n",
    "\n",
    "    lbs_df.loc[:,'torniquete_mariposa'] = np.where(torniquetes_mariposa_conditions,1,0)\n",
    "    lbs_df.loc[:,'no_torniquete'] = np.where(no_torniquetes_conditions,1,0)\n",
    "    \n",
    "    return lbs_df"
   ]
  },
  {
   "cell_type": "code",
   "execution_count": 5,
   "metadata": {
    "collapsed": true
   },
   "outputs": [],
   "source": [
    "month_list = ['01 Enero 2017',\n",
    "              '02 Febrero 2017',\n",
    "              '03 Marzo 2017',\n",
    "              '04 Abril 2017',\n",
    "              '05 Mayo 2017',\n",
    "              '06 Junio 2017',\n",
    "              '07 Julio 2017',\n",
    "              '08 Agosto 2017',\n",
    "              '09 Septiembre 2017',\n",
    "              '10 Octubre 2017',\n",
    "              '11 Noviembre 2017',\n",
    "              '12 Diciembre 2017']\n",
    "\n",
    "name_list = ['LBS Enero-2017',\n",
    "             'LBS Febrero-2017',\n",
    "             'LBS Marzo-2017',\n",
    "             'LBS Abril-2017',\n",
    "             'LBS Mayo-2017',\n",
    "             'LBS Junio-2017',\n",
    "             'LBS Julio-2017',\n",
    "             'LBS Agosto-2017',\n",
    "             'LBS SEP-2017',\n",
    "             'LBS OCT-2017',\n",
    "             'LBS NOV-2017',\n",
    "             'LBS DIC-2017']"
   ]
  },
  {
   "cell_type": "code",
   "execution_count": 6,
   "metadata": {
    "collapsed": true
   },
   "outputs": [],
   "source": [
    "month = month_list[11]\n",
    "name = name_list[11]"
   ]
  },
  {
   "cell_type": "code",
   "execution_count": 7,
   "metadata": {},
   "outputs": [],
   "source": [
    "lbs_path = 'G:/LeoCamus/0_LBS/2017/' +  month + '/' + name + '.csv'\n",
    "lbs_df = pd.read_csv(lbs_path, sep=';', encoding='latin-1') #Dates and times are not parsed \n",
    "lbs_df = lbs_df.drop(['Unnamed: 11'], axis=1)\n",
    "\n",
    "lbs_df.loc[:,'Tiempo_Expedicion'] = pd.to_datetime(lbs_df.loc[:,'LBS.[Tiempo (hh:mm:ss)]'], format='%Y-%m-%d %H:%M:%S').dt.time\n",
    "lbs_df.loc[:,'Tiempo_Expedicion_secs'] = lbs_df.loc[:,'Tiempo_Expedicion'].apply(lambda x: x.hour*60*60 + x.minute*60 + x.second)\n",
    "\n",
    "lbs_df.loc[:,'Media_hora'] = pd.to_datetime(lbs_df.loc[:,'LBS.[Cada media Hora]'], format='%Y-%m-%d %H:%M:%S').dt.time\n",
    "\n",
    "lbs_df.loc[:,'Fecha'] = pd.to_datetime(lbs_df.loc[:,'LBS.[Fecha]'], format='%d/%m/%Y').dt.date"
   ]
  },
  {
   "cell_type": "code",
   "execution_count": 8,
   "metadata": {},
   "outputs": [],
   "source": [
    "lbs_df.loc[:,'ser_sen'] = lbs_df.loc[:,'LBS.[Servicio]'] + lbs_df.loc[:,'LBS.[Sentido]'].apply(lambda x: x[:1])"
   ]
  },
  {
   "cell_type": "code",
   "execution_count": 9,
   "metadata": {},
   "outputs": [
    {
     "data": {
      "text/html": [
       "<div>\n",
       "<style>\n",
       "    .dataframe thead tr:only-child th {\n",
       "        text-align: right;\n",
       "    }\n",
       "\n",
       "    .dataframe thead th {\n",
       "        text-align: left;\n",
       "    }\n",
       "\n",
       "    .dataframe tbody tr th {\n",
       "        vertical-align: top;\n",
       "    }\n",
       "</style>\n",
       "<table border=\"1\" class=\"dataframe\">\n",
       "  <thead>\n",
       "    <tr style=\"text-align: right;\">\n",
       "      <th></th>\n",
       "      <th>LBS.[UN]</th>\n",
       "      <th>LBS.[Servicio]</th>\n",
       "      <th>LBS.[Patente]</th>\n",
       "      <th>LBS.[Sentido]</th>\n",
       "      <th>LBS.[Distancia (m)]</th>\n",
       "      <th>LBS.[Tiempo (hh:mm:ss)]</th>\n",
       "      <th>LBS.[Capacidad (#)]</th>\n",
       "      <th>LBS.[Estado]</th>\n",
       "      <th>LBS.[Fecha]</th>\n",
       "      <th>LBS.[Período]</th>\n",
       "      <th>LBS.[Cada media Hora]</th>\n",
       "      <th>Tiempo_Expedicion</th>\n",
       "      <th>Tiempo_Expedicion_secs</th>\n",
       "      <th>Media_hora</th>\n",
       "      <th>Fecha</th>\n",
       "      <th>ser_sen</th>\n",
       "    </tr>\n",
       "  </thead>\n",
       "  <tbody>\n",
       "    <tr>\n",
       "      <th>0</th>\n",
       "      <td>U1</td>\n",
       "      <td>101</td>\n",
       "      <td>ZN-4102</td>\n",
       "      <td>Ida</td>\n",
       "      <td>24640.0</td>\n",
       "      <td>1899-12-30 00:55:00</td>\n",
       "      <td>91.0</td>\n",
       "      <td>OK</td>\n",
       "      <td>01/12/2017</td>\n",
       "      <td>01 - Pre Nocturno</td>\n",
       "      <td>1899-12-30 00:00:00</td>\n",
       "      <td>00:55:00</td>\n",
       "      <td>3300</td>\n",
       "      <td>00:00:00</td>\n",
       "      <td>2017-12-01</td>\n",
       "      <td>101I</td>\n",
       "    </tr>\n",
       "    <tr>\n",
       "      <th>1</th>\n",
       "      <td>U1</td>\n",
       "      <td>101</td>\n",
       "      <td>ZN-3950</td>\n",
       "      <td>Ida</td>\n",
       "      <td>24640.0</td>\n",
       "      <td>1899-12-30 00:44:00</td>\n",
       "      <td>91.0</td>\n",
       "      <td>OK</td>\n",
       "      <td>01/12/2017</td>\n",
       "      <td>01 - Pre Nocturno</td>\n",
       "      <td>1899-12-30 00:00:00</td>\n",
       "      <td>00:44:00</td>\n",
       "      <td>2640</td>\n",
       "      <td>00:00:00</td>\n",
       "      <td>2017-12-01</td>\n",
       "      <td>101I</td>\n",
       "    </tr>\n",
       "    <tr>\n",
       "      <th>2</th>\n",
       "      <td>U1</td>\n",
       "      <td>101</td>\n",
       "      <td>ZN-5077</td>\n",
       "      <td>Ida</td>\n",
       "      <td>24640.0</td>\n",
       "      <td>1899-12-30 00:51:00</td>\n",
       "      <td>91.0</td>\n",
       "      <td>OK</td>\n",
       "      <td>01/12/2017</td>\n",
       "      <td>01 - Pre Nocturno</td>\n",
       "      <td>1899-12-30 00:30:00</td>\n",
       "      <td>00:51:00</td>\n",
       "      <td>3060</td>\n",
       "      <td>00:30:00</td>\n",
       "      <td>2017-12-01</td>\n",
       "      <td>101I</td>\n",
       "    </tr>\n",
       "    <tr>\n",
       "      <th>3</th>\n",
       "      <td>U1</td>\n",
       "      <td>101</td>\n",
       "      <td>ZN-6160</td>\n",
       "      <td>Ida</td>\n",
       "      <td>24640.0</td>\n",
       "      <td>1899-12-30 01:15:00</td>\n",
       "      <td>160.0</td>\n",
       "      <td>OK</td>\n",
       "      <td>01/12/2017</td>\n",
       "      <td>03 - Transición Nocturno</td>\n",
       "      <td>1899-12-30 05:30:00</td>\n",
       "      <td>01:15:00</td>\n",
       "      <td>4500</td>\n",
       "      <td>05:30:00</td>\n",
       "      <td>2017-12-01</td>\n",
       "      <td>101I</td>\n",
       "    </tr>\n",
       "    <tr>\n",
       "      <th>4</th>\n",
       "      <td>U1</td>\n",
       "      <td>101</td>\n",
       "      <td>ZN-6457</td>\n",
       "      <td>Ida</td>\n",
       "      <td>24640.0</td>\n",
       "      <td>1899-12-30 01:06:31</td>\n",
       "      <td>163.0</td>\n",
       "      <td>OK</td>\n",
       "      <td>01/12/2017</td>\n",
       "      <td>03 - Transición Nocturno</td>\n",
       "      <td>1899-12-30 05:30:00</td>\n",
       "      <td>01:06:31</td>\n",
       "      <td>3991</td>\n",
       "      <td>05:30:00</td>\n",
       "      <td>2017-12-01</td>\n",
       "      <td>101I</td>\n",
       "    </tr>\n",
       "  </tbody>\n",
       "</table>\n",
       "</div>"
      ],
      "text/plain": [
       "  LBS.[UN] LBS.[Servicio] LBS.[Patente] LBS.[Sentido]  LBS.[Distancia (m)]  \\\n",
       "0       U1            101       ZN-4102           Ida              24640.0   \n",
       "1       U1            101       ZN-3950           Ida              24640.0   \n",
       "2       U1            101       ZN-5077           Ida              24640.0   \n",
       "3       U1            101       ZN-6160           Ida              24640.0   \n",
       "4       U1            101       ZN-6457           Ida              24640.0   \n",
       "\n",
       "  LBS.[Tiempo (hh:mm:ss)]  LBS.[Capacidad (#)] LBS.[Estado] LBS.[Fecha]  \\\n",
       "0     1899-12-30 00:55:00                 91.0           OK  01/12/2017   \n",
       "1     1899-12-30 00:44:00                 91.0           OK  01/12/2017   \n",
       "2     1899-12-30 00:51:00                 91.0           OK  01/12/2017   \n",
       "3     1899-12-30 01:15:00                160.0           OK  01/12/2017   \n",
       "4     1899-12-30 01:06:31                163.0           OK  01/12/2017   \n",
       "\n",
       "              LBS.[Período] LBS.[Cada media Hora] Tiempo_Expedicion  \\\n",
       "0         01 - Pre Nocturno   1899-12-30 00:00:00          00:55:00   \n",
       "1         01 - Pre Nocturno   1899-12-30 00:00:00          00:44:00   \n",
       "2         01 - Pre Nocturno   1899-12-30 00:30:00          00:51:00   \n",
       "3  03 - Transición Nocturno   1899-12-30 05:30:00          01:15:00   \n",
       "4  03 - Transición Nocturno   1899-12-30 05:30:00          01:06:31   \n",
       "\n",
       "   Tiempo_Expedicion_secs Media_hora       Fecha ser_sen  \n",
       "0                    3300   00:00:00  2017-12-01    101I  \n",
       "1                    2640   00:00:00  2017-12-01    101I  \n",
       "2                    3060   00:30:00  2017-12-01    101I  \n",
       "3                    4500   05:30:00  2017-12-01    101I  \n",
       "4                    3991   05:30:00  2017-12-01    101I  "
      ]
     },
     "execution_count": 9,
     "metadata": {},
     "output_type": "execute_result"
    }
   ],
   "source": [
    "lbs_df.head()"
   ]
  },
  {
   "cell_type": "code",
   "execution_count": 38,
   "metadata": {},
   "outputs": [
    {
     "data": {
      "text/plain": [
       "array(['01 - Pre Nocturno', '02 - Nocturno', '03 - Transición Nocturno',\n",
       "       '04 - Punta Mañana', '05 - Transición Punta Mañana',\n",
       "       '06 - Fuera de Punta Mañana', '07 - Punta Mediodía',\n",
       "       '08 - Fuera de Punta Tarde', '09 - Punta Tarde',\n",
       "       '10 - Transición Punta Tarde', '11 - Fuera de Punta Nocturno',\n",
       "       '12 - Pre Nocturno', '13 - Pre Nocturno Sábado',\n",
       "       '14 - Nocturno Sábado', '15 - Transición Sábado Mañana',\n",
       "       '16 - Punta Mañana Sábado', '17 - Mañana Sábado',\n",
       "       '18 - Punta Mediodía Sábado', '19 - Tarde Sábado',\n",
       "       '20 - Transición Sábado Nocturno', '21 - Pre Nocturno Sábado',\n",
       "       '22 - Pre Nocturno Domingo', '23 - Nocturno Domingo',\n",
       "       '24 - Transición Domingo Mañana', '25 - Mañana Domingo',\n",
       "       '26 - Mediodía Domingo', '27 - Tarde Domingo',\n",
       "       '28 - Transición Domingo Nocturno', '29 - Pre Nocturno Domingo'], dtype=object)"
      ]
     },
     "execution_count": 38,
     "metadata": {},
     "output_type": "execute_result"
    }
   ],
   "source": [
    "lbs_df.loc[lbs_df['ser_sen']=='B14I','LBS.[Período]'].unique()"
   ]
  },
  {
   "cell_type": "code",
   "execution_count": 10,
   "metadata": {
    "collapsed": true
   },
   "outputs": [],
   "source": [
    "[ana_turnstiles_df, mauricio_turnstiles_df] = ReadTurnstilesDataBase.readTurnstileData()\n",
    "ana_turnstiles_df = ReadTurnstilesDataBase.processAnaTurnstiles(ana_turnstiles_df)"
   ]
  },
  {
   "cell_type": "code",
   "execution_count": 11,
   "metadata": {},
   "outputs": [],
   "source": [
    "lbs_df = mergeTurnstileDatabase(lbs_df,ana_turnstiles_df,mauricio_turnstiles_df)"
   ]
  },
  {
   "cell_type": "code",
   "execution_count": 12,
   "metadata": {
    "collapsed": true
   },
   "outputs": [],
   "source": [
    "lbs_no_turnstile = lbs_df.loc[lbs_df['no_torniquete']==1,:]\n",
    "lbs_butterfly_turnstile = lbs_df.loc[lbs_df['torniquete_mariposa']==1,:]"
   ]
  },
  {
   "cell_type": "code",
   "execution_count": 13,
   "metadata": {},
   "outputs": [
    {
     "data": {
      "text/plain": [
       "997852"
      ]
     },
     "execution_count": 13,
     "metadata": {},
     "output_type": "execute_result"
    }
   ],
   "source": [
    "len(lbs_no_turnstile.index)"
   ]
  },
  {
   "cell_type": "code",
   "execution_count": 14,
   "metadata": {},
   "outputs": [
    {
     "data": {
      "text/plain": [
       "722618"
      ]
     },
     "execution_count": 14,
     "metadata": {},
     "output_type": "execute_result"
    }
   ],
   "source": [
    "len(lbs_butterfly_turnstile.index)"
   ]
  },
  {
   "cell_type": "code",
   "execution_count": 15,
   "metadata": {
    "collapsed": true
   },
   "outputs": [],
   "source": [
    "unique_turnstile_services = lbs_butterfly_turnstile.loc[:,'ser_sen'].unique()"
   ]
  },
  {
   "cell_type": "code",
   "execution_count": 17,
   "metadata": {
    "collapsed": true
   },
   "outputs": [],
   "source": [
    "lbs_no_turnstile_seen_in_turnstile = lbs_no_turnstile.loc[lbs_no_turnstile['ser_sen'].isin(unique_turnstile_services),:]"
   ]
  },
  {
   "cell_type": "code",
   "execution_count": 18,
   "metadata": {},
   "outputs": [
    {
     "data": {
      "text/plain": [
       "868173"
      ]
     },
     "execution_count": 18,
     "metadata": {},
     "output_type": "execute_result"
    }
   ],
   "source": [
    "len(lbs_no_turnstile_seen_in_turnstile.index)"
   ]
  },
  {
   "cell_type": "code",
   "execution_count": 19,
   "metadata": {},
   "outputs": [
    {
     "data": {
      "text/plain": [
       "<matplotlib.collections.PathCollection at 0x1a4a67b1630>"
      ]
     },
     "execution_count": 19,
     "metadata": {},
     "output_type": "execute_result"
    },
    {
     "data": {
      "image/png": "[encoded data removed]",
      "text/plain": [
       "<matplotlib.figure.Figure at 0x1a4a6857278>"
      ]
     },
     "metadata": {},
     "output_type": "display_data"
    }
   ],
   "source": [
    "fig, ax = plt.subplots()\n",
    "ax.scatter(lbs_no_turnstile_seen_in_turnstile['LBS.[Distancia (m)]'].values, lbs_no_turnstile_seen_in_turnstile['Tiempo_Expedicion_secs'].values, color='blue')\n",
    "ax.scatter(lbs_butterfly_turnstile['LBS.[Distancia (m)]'].values, lbs_butterfly_turnstile['Tiempo_Expedicion_secs'].values, color='red')\n"
   ]
  },
  {
   "cell_type": "code",
   "execution_count": 39,
   "metadata": {
    "collapsed": true
   },
   "outputs": [],
   "source": [
    "B14I_turnstile = lbs_butterfly_turnstile.loc[(lbs_butterfly_turnstile['ser_sen']=='B14I') & (lbs_butterfly_turnstile['LBS.[Período]']=='04 - Punta Mañana'),:]\n",
    "B14I_no_turnstile = lbs_no_turnstile.loc[(lbs_no_turnstile['ser_sen'] == 'B14I') & (lbs_no_turnstile['LBS.[Período]']=='04 - Punta Mañana'),:]"
   ]
  },
  {
   "cell_type": "code",
   "execution_count": 40,
   "metadata": {},
   "outputs": [
    {
     "data": {
      "text/plain": [
       "140"
      ]
     },
     "execution_count": 40,
     "metadata": {},
     "output_type": "execute_result"
    }
   ],
   "source": [
    "len(B14I_turnstile.index)"
   ]
  },
  {
   "cell_type": "code",
   "execution_count": 41,
   "metadata": {},
   "outputs": [
    {
     "data": {
      "text/plain": [
       "82"
      ]
     },
     "execution_count": 41,
     "metadata": {},
     "output_type": "execute_result"
    }
   ],
   "source": [
    "len(B14I_no_turnstile.index)"
   ]
  },
  {
   "cell_type": "code",
   "execution_count": 42,
   "metadata": {
    "collapsed": true
   },
   "outputs": [],
   "source": [
    "colors = [(85,98,112),(78,205,196),(199,244,100),(255,107,107),(196,77,88)]\n",
    "for i in range(len(colors)):\n",
    "    r, g, b = colors[i]  \n",
    "    colors[i] = (r / 255., g / 255., b / 255.)"
   ]
  },
  {
   "cell_type": "code",
   "execution_count": 43,
   "metadata": {
    "collapsed": true
   },
   "outputs": [],
   "source": [
    "B14I_turnstile_time = B14I_turnstile['Tiempo_Expedicion_secs'].values\n",
    "B14I_no_turnstile_time = B14I_no_turnstile['Tiempo_Expedicion_secs'].values\n",
    "\n",
    "max_time = max(max(B14I_turnstile_time),max(B14I_no_turnstile_time))\n",
    "\n",
    "bins = range(0,int(max_time),200)"
   ]
  },
  {
   "cell_type": "code",
   "execution_count": 45,
   "metadata": {},
   "outputs": [
    {
     "data": {
      "text/plain": [
       "<matplotlib.legend.Legend at 0x1a481bcd2b0>"
      ]
     },
     "execution_count": 45,
     "metadata": {},
     "output_type": "execute_result"
    },
    {
     "data": {
      "image/png": "[encoded data removed]",
      "text/plain": [
       "<matplotlib.figure.Figure at 0x1a481bcd208>"
      ]
     },
     "metadata": {},
     "output_type": "display_data"
    }
   ],
   "source": [
    "hist_fig, ax = plt.subplots()\n",
    "\n",
    "plot1 = ax.hist(B14I_turnstile_time,bins=bins,color=colors[3], alpha=0.8, label='con torniquete mariposa')\n",
    "plot2 = ax.hist(B14I_no_turnstile_time,bins=bins,color=colors[0], alpha = 0.8, label='sin torniquete')\n",
    "\n",
    "\n",
    "ax.set_title('--')\n",
    "ax.set_xlabel('Intervalo [s]')\n",
    "ax.set_ylabel('Frecuencia relativa')\n",
    "#ax.set_xlim(0,30)\n",
    "ax.legend()"
   ]
  },
  {
   "cell_type": "code",
   "execution_count": null,
   "metadata": {
    "collapsed": true
   },
   "outputs": [],
   "source": []
  }
 ],
 "metadata": {
  "kernelspec": {
   "display_name": "Python 3",
   "language": "python",
   "name": "python3"
  },
  "language_info": {
   "codemirror_mode": {
    "name": "ipython",
    "version": 3
   },
   "file_extension": ".py",
   "mimetype": "text/x-python",
   "name": "python",
   "nbconvert_exporter": "python",
   "pygments_lexer": "ipython3",
   "version": "3.6.1"
  }
 },
 "nbformat": 4,
 "nbformat_minor": 2
}
