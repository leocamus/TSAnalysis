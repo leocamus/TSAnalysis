{
 "cells": [
  {
   "cell_type": "markdown",
   "metadata": {},
   "source": [
    "# LBS Descriptives"
   ]
  },
  {
   "cell_type": "markdown",
   "metadata": {},
   "source": [
    "* This script is intended to make descriptives analysis of travel times extracted from LBS access ddbb obtained via \"QueryingAccessLBS\""
   ]
  },
  {
   "cell_type": "code",
   "execution_count": 1,
   "metadata": {
    "collapsed": true
   },
   "outputs": [],
   "source": [
    "import os\n",
    "import sys\n",
    "module_path = os.path.abspath(os.path.join('..'))\n",
    "if module_path not in sys.path:\n",
    "    sys.path.append(module_path)"
   ]
  },
  {
   "cell_type": "code",
   "execution_count": 2,
   "metadata": {
    "scrolled": true
   },
   "outputs": [
    {
     "data": {
      "text/html": [
       "<style>.container { width:100% !important; }</style>"
      ],
      "text/plain": [
       "<IPython.core.display.HTML object>"
      ]
     },
     "metadata": {},
     "output_type": "display_data"
    }
   ],
   "source": [
    "%matplotlib inline\n",
    "from IPython.core.display import display, HTML\n",
    "display(HTML(\"<style>.container { width:100% !important; }</style>\"))\n",
    "\n",
    "import plotly.plotly\n",
    "import plotly.tools as tls\n",
    "import plotly.graph_objs as go\n",
    "\n",
    "import pandas as pd\n",
    "import matplotlib\n",
    "import matplotlib.pyplot as plt\n",
    "import matplotlib.dates as mdates\n",
    "from matplotlib.ticker import FuncFormatter\n",
    "import numpy as np\n",
    "import datetime as dt\n",
    "import time"
   ]
  },
  {
   "cell_type": "code",
   "execution_count": 3,
   "metadata": {
    "collapsed": true
   },
   "outputs": [],
   "source": [
    "import LBS_analysis_functionality"
   ]
  },
  {
   "cell_type": "code",
   "execution_count": 4,
   "metadata": {
    "collapsed": true
   },
   "outputs": [],
   "source": [
    "colors = [(85,98,112),(78,205,196),(199,244,100),(255,107,107),(196,77,88)]\n",
    "for i in range(len(colors)):\n",
    "    r, g, b = colors[i]  \n",
    "    colors[i] = (r / 255., g / 255., b / 255.)"
   ]
  },
  {
   "cell_type": "code",
   "execution_count": 5,
   "metadata": {
    "collapsed": true
   },
   "outputs": [],
   "source": [
    "month_list = ['01 Enero 2017',\n",
    "              '02 Febrero 2017',\n",
    "              '03 Marzo 2017',\n",
    "              '04 Abril 2017',\n",
    "              '05 Mayo 2017',\n",
    "              '06 Junio 2017',\n",
    "              '07 Julio 2017',\n",
    "              '08 Agosto 2017',\n",
    "              '09 Septiembre 2017',\n",
    "              '10 Octubre 2017',\n",
    "              '11 Noviembre 2017',\n",
    "              '12 Diciembre 2017']\n",
    "\n",
    "name_list = ['LBS Enero-2017',\n",
    "             'LBS Febrero-2017',\n",
    "             'LBS Marzo-2017',\n",
    "             'LBS Abril-2017',\n",
    "             'LBS Mayo-2017',\n",
    "             'LBS Junio-2017',\n",
    "             'LBS Julio-2017',\n",
    "             'LBS Agosto-2017',\n",
    "             'LBS SEP-2017',\n",
    "             'LBS OCT-2017',\n",
    "             'LBS NOV-2017',\n",
    "             'LBS DIC-2017']"
   ]
  },
  {
   "cell_type": "markdown",
   "metadata": {},
   "source": [
    "### Analyzing 07:30:00 AM during working days"
   ]
  },
  {
   "cell_type": "code",
   "execution_count": 6,
   "metadata": {
    "collapsed": true
   },
   "outputs": [],
   "source": [
    "#complete_lbs = pd.DataFrame()\n",
    "#tic = time.clock()\n",
    "#for month,name in zip(month_list,name_list):\n",
    "#    print(month + ' is being analyzed')\n",
    "#    LBS_builder = LBS_analysis_functionality.LBS_analysis_functionality_class(month,name)\n",
    "#    LBS_builder.loadLBS()\n",
    "#    #LBS_builder.simplifyingLBS_byDayByPeriod('monday',4) #Be aware that asking for period == 4 already omits non-working days\n",
    "#    #LBS_builder.simplifyingLBS_byPeriod(4) #Be aware that asking for period == 4 already omits non-working days\n",
    "#    LBS_builder.simplifyingLBS_byMidHr('07:30:00', 'laboral')\n",
    "#    LBS_builder.travelTimeProcessing()\n",
    "#    LBS_builder.mergeTurnstileDatabase()\n",
    "#    #Retrieving the info.\n",
    "#    lbs_df = LBS_builder.lbs_df\n",
    "#    complete_lbs = pd.concat([complete_lbs,lbs_df])\n",
    "#\n",
    "#toc = time.clock()\n",
    "#print(toc-tic)"
   ]
  },
  {
   "cell_type": "code",
   "execution_count": 7,
   "metadata": {
    "collapsed": true
   },
   "outputs": [],
   "source": [
    "#Summary to a file.\n",
    "#complete_lbs.to_csv('G:/LeoCamus/0_LBS/2017/13 Summary/2017_LBS_07.30.00.csv', sep=';', encoding='latin-1')\n",
    "#Reading summary from file.\n",
    "complete_lbs = pd.read_csv('G:/LeoCamus/0_LBS/2017/13 Summary/2017_LBS_07.30.00.csv', sep=';', encoding='latin-1')"
   ]
  },
  {
   "cell_type": "markdown",
   "metadata": {},
   "source": [
    "* Recognizing useful routes..."
   ]
  },
  {
   "cell_type": "code",
   "execution_count": 8,
   "metadata": {
    "collapsed": true
   },
   "outputs": [],
   "source": [
    "grouped_complete = complete_lbs.groupby(['ser_sen','no_torniquete','torniquete_mariposa']).size().to_frame('group_size')"
   ]
  },
  {
   "cell_type": "code",
   "execution_count": 9,
   "metadata": {
    "collapsed": true
   },
   "outputs": [],
   "source": [
    "grouped_complete_pcts = grouped_complete.groupby(level=0).apply(lambda x:\n",
    "                                                 100 * x / float(x.sum()))"
   ]
  },
  {
   "cell_type": "code",
   "execution_count": 10,
   "metadata": {},
   "outputs": [
    {
     "data": {
      "text/html": [
       "<div>\n",
       "<style>\n",
       "    .dataframe thead tr:only-child th {\n",
       "        text-align: right;\n",
       "    }\n",
       "\n",
       "    .dataframe thead th {\n",
       "        text-align: left;\n",
       "    }\n",
       "\n",
       "    .dataframe tbody tr th {\n",
       "        vertical-align: top;\n",
       "    }\n",
       "</style>\n",
       "<table border=\"1\" class=\"dataframe\">\n",
       "  <thead>\n",
       "    <tr style=\"text-align: right;\">\n",
       "      <th></th>\n",
       "      <th></th>\n",
       "      <th></th>\n",
       "      <th>group_size</th>\n",
       "    </tr>\n",
       "    <tr>\n",
       "      <th>ser_sen</th>\n",
       "      <th>no_torniquete</th>\n",
       "      <th>torniquete_mariposa</th>\n",
       "      <th></th>\n",
       "    </tr>\n",
       "  </thead>\n",
       "  <tbody>\n",
       "    <tr>\n",
       "      <th rowspan=\"2\" valign=\"top\">128I</th>\n",
       "      <th>0</th>\n",
       "      <th>1</th>\n",
       "      <td>50.182927</td>\n",
       "    </tr>\n",
       "    <tr>\n",
       "      <th>1</th>\n",
       "      <th>0</th>\n",
       "      <td>49.817073</td>\n",
       "    </tr>\n",
       "    <tr>\n",
       "      <th rowspan=\"2\" valign=\"top\">128R</th>\n",
       "      <th>0</th>\n",
       "      <th>1</th>\n",
       "      <td>48.845687</td>\n",
       "    </tr>\n",
       "    <tr>\n",
       "      <th>1</th>\n",
       "      <th>0</th>\n",
       "      <td>51.154313</td>\n",
       "    </tr>\n",
       "    <tr>\n",
       "      <th>130I</th>\n",
       "      <th>0</th>\n",
       "      <th>1</th>\n",
       "      <td>51.297814</td>\n",
       "    </tr>\n",
       "  </tbody>\n",
       "</table>\n",
       "</div>"
      ],
      "text/plain": [
       "                                           group_size\n",
       "ser_sen no_torniquete torniquete_mariposa            \n",
       "128I    0             1                     50.182927\n",
       "        1             0                     49.817073\n",
       "128R    0             1                     48.845687\n",
       "        1             0                     51.154313\n",
       "130I    0             1                     51.297814"
      ]
     },
     "execution_count": 10,
     "metadata": {},
     "output_type": "execute_result"
    }
   ],
   "source": [
    "grouped_complete_pcts.loc[(40<=grouped_complete_pcts['group_size'])&(grouped_complete_pcts['group_size']<=60),:].head()"
   ]
  },
  {
   "cell_type": "markdown",
   "metadata": {},
   "source": [
    "* Separating dataset and plotting"
   ]
  },
  {
   "cell_type": "code",
   "execution_count": 11,
   "metadata": {
    "collapsed": true
   },
   "outputs": [],
   "source": [
    "lbs_no_turnstile = complete_lbs.loc[complete_lbs['no_torniquete']==1,:]\n",
    "lbs_butterfly_turnstile = complete_lbs.loc[complete_lbs['torniquete_mariposa']==1,:]"
   ]
  },
  {
   "cell_type": "code",
   "execution_count": 12,
   "metadata": {
    "collapsed": true
   },
   "outputs": [],
   "source": [
    "def plotByRoute(route, step, mid_hr, save):\n",
    "    no_turnstile_time = lbs_no_turnstile.loc[lbs_no_turnstile['ser_sen']==route,'Tiempo_Expedicion_secs']\n",
    "    turnstile_time = lbs_butterfly_turnstile.loc[lbs_butterfly_turnstile['ser_sen']==route,'Tiempo_Expedicion_secs']\n",
    "    \n",
    "    mean_no_turnstile_time = no_turnstile_time.mean()\n",
    "    std_no_turnstile_time = no_turnstile_time.std()\n",
    "    n_obs_no_turnstile = len(no_turnstile_time.index)\n",
    "    \n",
    "    mean_turnstile_time = turnstile_time.mean()\n",
    "    std_turnstile_time = turnstile_time.std()\n",
    "    n_obs_turnstile = len(turnstile_time.index)\n",
    "    \n",
    "    max_time = max(max(no_turnstile_time),max(turnstile_time))\n",
    "    bins = range(0,int(max_time),step)\n",
    "    \n",
    "    hist_fig, ax = plt.subplots()\n",
    "\n",
    "    plot1 = ax.hist(no_turnstile_time.values, bins=bins, color=colors[0], alpha=0.8, weights = np.zeros_like(no_turnstile_time) + 100. / no_turnstile_time.size, label='sin torniquete')\n",
    "    plot2 = ax.hist(turnstile_time.values, bins=bins, color=colors[3], alpha = 0.8, weights = np.zeros_like(turnstile_time) + 100. / turnstile_time.size, label='con torniquete mariposa')\n",
    "\n",
    "\n",
    "    ax.set_title('Tiempo de expedición '+ route + ' - ' + mid_hr + ' - Laboral 2017')\n",
    "    ax.set_xlabel('Tiempo expedición [s]')\n",
    "    ax.set_ylabel('Frecuencia [%]')\n",
    "    ax.legend()\n",
    "    \n",
    "    print('Mean, NO TURNSTILE: ' + str(mean_no_turnstile_time))\n",
    "    print('St.D., NO TURNSTILE: ' + str(std_no_turnstile_time))\n",
    "    print('Obs., NO TURNSTILE: ' + str(n_obs_no_turnstile))\n",
    "    print('-----')\n",
    "    print('Mean, TURNSTILE: ' + str(mean_turnstile_time))\n",
    "    print('St.D., TURNSTILE: ' + str(std_turnstile_time))\n",
    "    print('Obs., TURNSTILE: ' + str(n_obs_turnstile))\n",
    "    \n",
    "    if save==True:\n",
    "        plt.savefig('G:/LeoCamus/0_LBS/2017/13 Summary/' + route + '_' + str(step) + '_' + mid_hr +'.pdf')"
   ]
  },
  {
   "cell_type": "code",
   "execution_count": 13,
   "metadata": {
    "collapsed": true
   },
   "outputs": [],
   "source": [
    "#plotByRoute('F13I',200, '07.30.AM', True)"
   ]
  },
  {
   "cell_type": "code",
   "execution_count": 14,
   "metadata": {},
   "outputs": [
    {
     "name": "stdout",
     "output_type": "stream",
     "text": [
      "Mean, NO TURNSTILE: 3351.628712871287\n",
      "St.D., NO TURNSTILE: 463.0682738941556\n",
      "Obs., NO TURNSTILE: 808\n",
      "-----\n",
      "Mean, TURNSTILE: 3472.94227994228\n",
      "St.D., TURNSTILE: 405.03628198861924\n",
      "Obs., TURNSTILE: 693\n"
     ]
    },
    {
     "data": {
      "image/png": "[encoded data removed]",
      "text/plain": [
       "<matplotlib.figure.Figure at 0x28ea60207b8>"
      ]
     },
     "metadata": {},
     "output_type": "display_data"
    }
   ],
   "source": [
    "plotByRoute('F13R',200, '07.30.AM', False)"
   ]
  },
  {
   "cell_type": "code",
   "execution_count": 15,
   "metadata": {
    "collapsed": true
   },
   "outputs": [],
   "source": [
    "#plotByRoute('F03I',200, '07.30.AM', True)"
   ]
  },
  {
   "cell_type": "code",
   "execution_count": 16,
   "metadata": {
    "collapsed": true
   },
   "outputs": [],
   "source": [
    "#plotByRoute('F03R',200, '07.30.AM', True)"
   ]
  },
  {
   "cell_type": "code",
   "execution_count": 17,
   "metadata": {
    "collapsed": true
   },
   "outputs": [],
   "source": [
    "#plotByRoute('F06I',200, '07.30.AM', True)"
   ]
  },
  {
   "cell_type": "code",
   "execution_count": 18,
   "metadata": {},
   "outputs": [
    {
     "name": "stdout",
     "output_type": "stream",
     "text": [
      "Mean, NO TURNSTILE: 4757.625\n",
      "St.D., NO TURNSTILE: 542.8160368191608\n",
      "Obs., NO TURNSTILE: 728\n",
      "-----\n",
      "Mean, TURNSTILE: 5012.559523809524\n",
      "St.D., TURNSTILE: 521.0939464080025\n",
      "Obs., TURNSTILE: 420\n"
     ]
    },
    {
     "data": {
      "image/png": "[encoded data removed]",
      "text/plain": [
       "<matplotlib.figure.Figure at 0x28ea609fac8>"
      ]
     },
     "metadata": {},
     "output_type": "display_data"
    }
   ],
   "source": [
    "plotByRoute('F06R',200, '07.30.AM', False)"
   ]
  },
  {
   "cell_type": "code",
   "execution_count": 19,
   "metadata": {
    "collapsed": true
   },
   "outputs": [],
   "source": [
    "#plotByRoute('F53eR',200, '07.30.AM', True)"
   ]
  },
  {
   "cell_type": "code",
   "execution_count": 20,
   "metadata": {
    "collapsed": true
   },
   "outputs": [],
   "source": [
    "#plotByRoute('F53eI',200, '07.30.AM', True)"
   ]
  },
  {
   "cell_type": "code",
   "execution_count": 21,
   "metadata": {
    "collapsed": true
   },
   "outputs": [],
   "source": [
    "#plotByRoute('511I',200, '07.30.AM', True)"
   ]
  },
  {
   "cell_type": "code",
   "execution_count": 22,
   "metadata": {},
   "outputs": [
    {
     "name": "stdout",
     "output_type": "stream",
     "text": [
      "Mean, NO TURNSTILE: 6748.819852941177\n",
      "St.D., NO TURNSTILE: 515.1789434857062\n",
      "Obs., NO TURNSTILE: 272\n",
      "-----\n",
      "Mean, TURNSTILE: 6916.013440860215\n",
      "St.D., TURNSTILE: 477.5098845529909\n",
      "Obs., TURNSTILE: 372\n"
     ]
    },
    {
     "data": {
      "image/png": "[encoded data removed]",
      "text/plain": [
       "<matplotlib.figure.Figure at 0x28ea7da6be0>"
      ]
     },
     "metadata": {},
     "output_type": "display_data"
    }
   ],
   "source": [
    "plotByRoute('511R',200, '07.30.AM', False)"
   ]
  },
  {
   "cell_type": "code",
   "execution_count": 23,
   "metadata": {
    "collapsed": true
   },
   "outputs": [],
   "source": [
    "#plotByRoute('128I',200, '07.30.AM', True)"
   ]
  },
  {
   "cell_type": "code",
   "execution_count": 24,
   "metadata": {
    "collapsed": true
   },
   "outputs": [],
   "source": [
    "#plotByRoute('128R',200, '07.30.AM', True)"
   ]
  },
  {
   "cell_type": "code",
   "execution_count": 25,
   "metadata": {
    "collapsed": true
   },
   "outputs": [],
   "source": [
    "#plotByRoute('130I',200, '07.30.AM', True)"
   ]
  },
  {
   "cell_type": "code",
   "execution_count": 26,
   "metadata": {
    "collapsed": true
   },
   "outputs": [],
   "source": [
    "#plotByRoute('130R',200, '07.30.AM', True)"
   ]
  },
  {
   "cell_type": "code",
   "execution_count": 27,
   "metadata": {
    "collapsed": true
   },
   "outputs": [],
   "source": [
    "#plotByRoute('626I',200, '07.30.AM', True)"
   ]
  },
  {
   "cell_type": "code",
   "execution_count": 28,
   "metadata": {
    "collapsed": true
   },
   "outputs": [],
   "source": [
    "#plotByRoute('626R',200, '07.30.AM', True)"
   ]
  },
  {
   "cell_type": "code",
   "execution_count": 29,
   "metadata": {
    "collapsed": true
   },
   "outputs": [],
   "source": [
    "#plotByRoute('B66I',200, '07.30.AM', True)"
   ]
  },
  {
   "cell_type": "code",
   "execution_count": 30,
   "metadata": {},
   "outputs": [
    {
     "name": "stdout",
     "output_type": "stream",
     "text": [
      "Mean, NO TURNSTILE: 3384.0106194690266\n",
      "St.D., NO TURNSTILE: 744.9246165110868\n",
      "Obs., NO TURNSTILE: 565\n",
      "-----\n",
      "Mean, TURNSTILE: 3487.2145833333334\n",
      "St.D., TURNSTILE: 544.2618814610425\n",
      "Obs., TURNSTILE: 480\n"
     ]
    },
    {
     "data": {
      "image/png": "[encoded data removed]",
      "text/plain": [
       "<matplotlib.figure.Figure at 0x28ea626feb8>"
      ]
     },
     "metadata": {},
     "output_type": "display_data"
    }
   ],
   "source": [
    "plotByRoute('B66R',200, '07.30.AM', False)"
   ]
  },
  {
   "cell_type": "code",
   "execution_count": 31,
   "metadata": {
    "collapsed": true
   },
   "outputs": [],
   "source": [
    "#plotByRoute('F16I',200, '07.30.AM', True)"
   ]
  },
  {
   "cell_type": "code",
   "execution_count": 32,
   "metadata": {
    "collapsed": true
   },
   "outputs": [],
   "source": [
    "#plotByRoute('F16R',200, '07.30.AM', True)"
   ]
  },
  {
   "cell_type": "markdown",
   "metadata": {},
   "source": [
    "### Analyzing 15:00:00 during working days"
   ]
  },
  {
   "cell_type": "code",
   "execution_count": 33,
   "metadata": {
    "collapsed": true
   },
   "outputs": [],
   "source": [
    "#complete_lbs = pd.DataFrame()\n",
    "#tic = time.clock()\n",
    "#for month,name in zip(month_list,name_list):\n",
    "#    print(month + ' is being analyzed')\n",
    "#    LBS_builder = LBS_analysis_functionality.LBS_analysis_functionality_class(month,name)\n",
    "#    LBS_builder.loadLBS()\n",
    "#    #LBS_builder.simplifyingLBS_byDayByPeriod('monday',4) #Be aware that asking for period == 4 already omits non-working days\n",
    "#    #LBS_builder.simplifyingLBS_byPeriod(4) #Be aware that asking for period == 4 already omits non-working days\n",
    "#    LBS_builder.simplifyingLBS_byMidHr('15:00:00', 'laboral')\n",
    "#    LBS_builder.travelTimeProcessing()\n",
    "#    LBS_builder.mergeTurnstileDatabase()\n",
    "#    #Retrieving the info.\n",
    "#    lbs_df = LBS_builder.lbs_df\n",
    "#    complete_lbs = pd.concat([complete_lbs,lbs_df])\n",
    "#\n",
    "#toc = time.clock()\n",
    "#print(toc-tic)"
   ]
  },
  {
   "cell_type": "code",
   "execution_count": 34,
   "metadata": {
    "collapsed": true
   },
   "outputs": [],
   "source": [
    "#Summary to a file.\n",
    "#complete_lbs.to_csv('G:/LeoCamus/0_LBS/2017/13 Summary/2017_LBS_15.00.00.csv', sep=';', encoding='latin-1')\n",
    "#Reading summary from file.\n",
    "complete_lbs = pd.read_csv('G:/LeoCamus/0_LBS/2017/13 Summary/2017_LBS_15.00.00.csv', sep=';', encoding='latin-1')"
   ]
  },
  {
   "cell_type": "code",
   "execution_count": 35,
   "metadata": {
    "collapsed": true
   },
   "outputs": [],
   "source": [
    "lbs_no_turnstile = complete_lbs.loc[complete_lbs['no_torniquete']==1,:]\n",
    "lbs_butterfly_turnstile = complete_lbs.loc[complete_lbs['torniquete_mariposa']==1,:]"
   ]
  },
  {
   "cell_type": "code",
   "execution_count": 36,
   "metadata": {},
   "outputs": [
    {
     "name": "stdout",
     "output_type": "stream",
     "text": [
      "Mean, NO TURNSTILE: 4354.66875\n",
      "St.D., NO TURNSTILE: 444.71758844030813\n",
      "Obs., NO TURNSTILE: 480\n",
      "-----\n",
      "Mean, TURNSTILE: 4610.9925650557625\n",
      "St.D., TURNSTILE: 505.5575612190064\n",
      "Obs., TURNSTILE: 269\n"
     ]
    },
    {
     "data": {
      "image/png": "[encoded data removed]",
      "text/plain": [
       "<matplotlib.figure.Figure at 0x28ea8310160>"
      ]
     },
     "metadata": {},
     "output_type": "display_data"
    }
   ],
   "source": [
    "plotByRoute('F06R',200, '03.00.PM', True)"
   ]
  },
  {
   "cell_type": "code",
   "execution_count": 37,
   "metadata": {},
   "outputs": [
    {
     "name": "stdout",
     "output_type": "stream",
     "text": [
      "Mean, NO TURNSTILE: 3341.4941860465115\n",
      "St.D., NO TURNSTILE: 405.39256530549153\n",
      "Obs., NO TURNSTILE: 516\n",
      "-----\n",
      "Mean, TURNSTILE: 3436.590395480226\n",
      "St.D., TURNSTILE: 397.06211331961316\n",
      "Obs., TURNSTILE: 354\n"
     ]
    },
    {
     "data": {
      "image/png": "[encoded data removed]",
      "text/plain": [
       "<matplotlib.figure.Figure at 0x28eb54f2668>"
      ]
     },
     "metadata": {},
     "output_type": "display_data"
    }
   ],
   "source": [
    "plotByRoute('F13R',200, '03.00.PM', True)"
   ]
  },
  {
   "cell_type": "code",
   "execution_count": 38,
   "metadata": {},
   "outputs": [
    {
     "name": "stdout",
     "output_type": "stream",
     "text": [
      "Mean, NO TURNSTILE: 6902.310144927536\n",
      "St.D., NO TURNSTILE: 669.6183653953105\n",
      "Obs., NO TURNSTILE: 345\n",
      "-----\n",
      "Mean, TURNSTILE: 7140.599337748345\n",
      "St.D., TURNSTILE: 566.5748067942242\n",
      "Obs., TURNSTILE: 302\n"
     ]
    },
    {
     "data": {
      "image/png": "[encoded data removed]",
      "text/plain": [
       "<matplotlib.figure.Figure at 0x28eb629c748>"
      ]
     },
     "metadata": {},
     "output_type": "display_data"
    }
   ],
   "source": [
    "plotByRoute('511R',200, '03.00.PM', True)"
   ]
  },
  {
   "cell_type": "code",
   "execution_count": 39,
   "metadata": {},
   "outputs": [
    {
     "name": "stdout",
     "output_type": "stream",
     "text": [
      "Mean, NO TURNSTILE: 3038.7095115681236\n",
      "St.D., NO TURNSTILE: 466.62736566630815\n",
      "Obs., NO TURNSTILE: 389\n",
      "-----\n",
      "Mean, TURNSTILE: 3257.1894409937886\n",
      "St.D., TURNSTILE: 457.1910697735506\n",
      "Obs., TURNSTILE: 322\n"
     ]
    },
    {
     "data": {
      "image/png": "[encoded data removed]",
      "text/plain": [
       "<matplotlib.figure.Figure at 0x28eb54474e0>"
      ]
     },
     "metadata": {},
     "output_type": "display_data"
    }
   ],
   "source": [
    "plotByRoute('B66R',200, '03.00.PM', True)"
   ]
  },
  {
   "cell_type": "code",
   "execution_count": null,
   "metadata": {
    "collapsed": true
   },
   "outputs": [],
   "source": [
    "#f = {'Tiempo_Expedicion_secs':['count', 'mean', 'std']}"
   ]
  },
  {
   "cell_type": "code",
   "execution_count": null,
   "metadata": {
    "collapsed": true
   },
   "outputs": [],
   "source": [
    "#grouped_lbs_df = lbs_df.groupby(['ser_sen','Fecha','no_torniquete','torniquete_mariposa']).agg(f)"
   ]
  },
  {
   "cell_type": "code",
   "execution_count": null,
   "metadata": {
    "collapsed": true
   },
   "outputs": [],
   "source": [
    "lbs_no_turnstile = lbs_df.loc[lbs_df['no_torniquete']==1,:]\n",
    "lbs_butterfly_turnstile = lbs_df.loc[lbs_df['torniquete_mariposa']==1,:]"
   ]
  },
  {
   "cell_type": "code",
   "execution_count": null,
   "metadata": {
    "collapsed": true
   },
   "outputs": [],
   "source": [
    "fig, ax = plt.subplots()\n",
    "ax.scatter(intersected_lbs['Tiempo_Expedicion_secs_no_turnstile'].values, intersected_lbs['Tiempo_Expedicion_secs_turnstile'].values, color='blue')\n",
    "#ax.scatter(intersected_lbs['LBS.[Distancia (m)]_turnstile'].values, intersected_lbs['Tiempo_Expedicion_secs_turnstile'].values, color='red')"
   ]
  },
  {
   "cell_type": "code",
   "execution_count": null,
   "metadata": {
    "collapsed": true
   },
   "outputs": [],
   "source": [
    "import statsmodels.api as sm"
   ]
  },
  {
   "cell_type": "code",
   "execution_count": null,
   "metadata": {
    "collapsed": true
   },
   "outputs": [],
   "source": [
    "Y = intersected_lbs.loc[:,'Tiempo_Expedicion_secs_turnstile']\n",
    "X = intersected_lbs.loc[:,'Tiempo_Expedicion_secs_no_turnstile']\n",
    "\n",
    "X = sm.add_constant(X)\n",
    "m1_1 = sm.OLS(Y, X)\n",
    "results_m1_1 = m1_1.fit()\n",
    "\n",
    "print(results_m1_1.summary())"
   ]
  },
  {
   "cell_type": "code",
   "execution_count": null,
   "metadata": {
    "collapsed": true
   },
   "outputs": [],
   "source": [
    "f = {'Tiempo_Expedicion_secs_no_turnstile':['count', 'mean', 'std'], 'Tiempo_Expedicion_secs_turnstile':['count','mean', 'std']}"
   ]
  },
  {
   "cell_type": "code",
   "execution_count": null,
   "metadata": {
    "collapsed": true
   },
   "outputs": [],
   "source": [
    "grouped_intersected = intersected_lbs.groupby(['ser_sen'])['Tiempo_Expedicion_secs_no_turnstile','Tiempo_Expedicion_secs_turnstile'].agg(f)"
   ]
  },
  {
   "cell_type": "code",
   "execution_count": null,
   "metadata": {
    "collapsed": true
   },
   "outputs": [],
   "source": [
    "grouped_intersected.head()"
   ]
  },
  {
   "cell_type": "code",
   "execution_count": null,
   "metadata": {
    "collapsed": true
   },
   "outputs": [],
   "source": []
  }
 ],
 "metadata": {
  "kernelspec": {
   "display_name": "Python 3",
   "language": "python",
   "name": "python3"
  },
  "language_info": {
   "codemirror_mode": {
    "name": "ipython",
    "version": 3
   },
   "file_extension": ".py",
   "mimetype": "text/x-python",
   "name": "python",
   "nbconvert_exporter": "python",
   "pygments_lexer": "ipython3",
   "version": "3.6.1"
  }
 },
 "nbformat": 4,
 "nbformat_minor": 2
}
