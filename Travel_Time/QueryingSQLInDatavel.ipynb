{
 "cells": [
  {
   "cell_type": "markdown",
   "metadata": {},
   "source": [
    "# Querying DATAVEL SQL database"
   ]
  },
  {
   "cell_type": "code",
   "execution_count": 1,
   "metadata": {
    "collapsed": true
   },
   "outputs": [],
   "source": [
    "import os\n",
    "import sys\n",
    "module_path = os.path.abspath(os.path.join('..'))\n",
    "if module_path not in sys.path:\n",
    "    sys.path.append(module_path)"
   ]
  },
  {
   "cell_type": "code",
   "execution_count": 2,
   "metadata": {},
   "outputs": [
    {
     "data": {
      "text/html": [
       "<style>.container { width:80% !important; }</style>"
      ],
      "text/plain": [
       "<IPython.core.display.HTML object>"
      ]
     },
     "metadata": {},
     "output_type": "display_data"
    }
   ],
   "source": [
    "%matplotlib inline\n",
    "from IPython.core.display import display, HTML\n",
    "display(HTML(\"<style>.container { width:80% !important; }</style>\"))\n",
    "\n",
    "import time\n",
    "import pandas as pd\n",
    "import datetime as dt\n",
    "import psycopg2\n",
    "import psycopg2.extras"
   ]
  },
  {
   "cell_type": "code",
   "execution_count": 3,
   "metadata": {
    "collapsed": true
   },
   "outputs": [],
   "source": [
    "from Utils import TransantiagoConstants"
   ]
  },
  {
   "cell_type": "code",
   "execution_count": 4,
   "metadata": {
    "collapsed": true
   },
   "outputs": [],
   "source": [
    "RFADir = TransantiagoConstants.RFADir"
   ]
  },
  {
   "cell_type": "code",
   "execution_count": 5,
   "metadata": {
    "collapsed": true
   },
   "outputs": [],
   "source": [
    "evasion_2016_path = os.path.join(RFADir, '04_Consolidados/0_consolidados/evasion_2016_consolidado.csv')\n",
    "evasion_2016_df = pd.read_csv(evasion_2016_path, sep=';', encoding='latin-1') #Dates are not parsed."
   ]
  },
  {
   "cell_type": "code",
   "execution_count": 6,
   "metadata": {},
   "outputs": [],
   "source": [
    "fechas = evasion_2016_df['FECHA'].unique()"
   ]
  },
  {
   "cell_type": "code",
   "execution_count": 7,
   "metadata": {},
   "outputs": [
    {
     "data": {
      "text/plain": [
       "array(['2016-06-07', '2016-02-18', '2016-12-15', '2016-07-14',\n",
       "       '2016-09-14', '2016-04-13', '2016-08-10', '2016-01-21',\n",
       "       '2016-12-06', '2016-09-13', '2016-11-22', '2016-02-17',\n",
       "       '2016-04-19', '2016-06-23', '2016-08-11', '2016-03-17',\n",
       "       '2016-03-15', '2016-01-14', '2016-10-19', '2016-04-14',\n",
       "       '2016-02-10', '2016-01-12', '2016-05-17', '2016-07-20',\n",
       "       '2016-01-13', '2016-10-18', '2016-08-09', '2016-11-09',\n",
       "       '2016-05-11', '2016-03-09', '2016-05-19', '2016-11-17',\n",
       "       '2016-12-14', '2016-12-20', '2016-07-12', '2016-10-12',\n",
       "       '2016-04-21', '2016-09-07', '2016-02-09', '2016-01-19',\n",
       "       '2016-04-12', '2016-03-10', '2016-11-08', '2016-05-10',\n",
       "       '2016-06-21', '2016-08-17', '2016-12-13', '2016-09-21',\n",
       "       '2016-01-20', '2016-07-13', '2016-05-18', '2016-03-16',\n",
       "       '2016-07-21', '2016-04-20', '2016-08-18', '2016-02-16',\n",
       "       '2016-10-20', '2016-10-25', '2016-02-11', '2016-05-24',\n",
       "       '2016-09-08', '2016-03-08', '2016-06-08', '2016-07-19'], dtype=object)"
      ]
     },
     "execution_count": 7,
     "metadata": {},
     "output_type": "execute_result"
    }
   ],
   "source": [
    "fechas"
   ]
  },
  {
   "cell_type": "markdown",
   "metadata": {},
   "source": [
    "* Querying 190 - 2016"
   ]
  },
  {
   "cell_type": "code",
   "execution_count": 8,
   "metadata": {
    "collapsed": true
   },
   "outputs": [],
   "source": [
    "conn = psycopg2.connect(dbname='velssmh', user='lcamus', host='192.168.1.190', password='camus2018')"
   ]
  },
  {
   "cell_type": "code",
   "execution_count": 9,
   "metadata": {
    "collapsed": true
   },
   "outputs": [],
   "source": [
    "cursor = conn.cursor('cursor_unique_name', cursor_factory=psycopg2.extras.DictCursor)"
   ]
  },
  {
   "cell_type": "code",
   "execution_count": 10,
   "metadata": {
    "collapsed": true
   },
   "outputs": [],
   "source": [
    "query =  \"SELECT patente, codigoruta, fhposini, fhposfin FROM public.datavel2016 WHERE DATE(fhposini) IN (\"\n",
    "\n",
    "last_string = ''\n",
    "ind = 0\n",
    "length_fechas = len(fechas)\n",
    "\n",
    "for fecha in fechas:\n",
    "    if(ind!=length_fechas-1):\n",
    "        last_string += \"CAST(\" + \"'\" + fecha + \"'\" + \" AS DATE),\"\n",
    "    else:\n",
    "        last_string += \"CAST(\" + \"'\" + fecha + \"'\" + \" AS DATE));\"\n",
    "        \n",
    "    ind+=1\n"
   ]
  },
  {
   "cell_type": "code",
   "execution_count": 11,
   "metadata": {},
   "outputs": [
    {
     "data": {
      "text/plain": [
       "\"CAST('2016-06-07' AS DATE),CAST('2016-02-18' AS DATE),CAST('2016-12-15' AS DATE),CAST('2016-07-14' AS DATE),CAST('2016-09-14' AS DATE),CAST('2016-04-13' AS DATE),CAST('2016-08-10' AS DATE),CAST('2016-01-21' AS DATE),CAST('2016-12-06' AS DATE),CAST('2016-09-13' AS DATE),CAST('2016-11-22' AS DATE),CAST('2016-02-17' AS DATE),CAST('2016-04-19' AS DATE),CAST('2016-06-23' AS DATE),CAST('2016-08-11' AS DATE),CAST('2016-03-17' AS DATE),CAST('2016-03-15' AS DATE),CAST('2016-01-14' AS DATE),CAST('2016-10-19' AS DATE),CAST('2016-04-14' AS DATE),CAST('2016-02-10' AS DATE),CAST('2016-01-12' AS DATE),CAST('2016-05-17' AS DATE),CAST('2016-07-20' AS DATE),CAST('2016-01-13' AS DATE),CAST('2016-10-18' AS DATE),CAST('2016-08-09' AS DATE),CAST('2016-11-09' AS DATE),CAST('2016-05-11' AS DATE),CAST('2016-03-09' AS DATE),CAST('2016-05-19' AS DATE),CAST('2016-11-17' AS DATE),CAST('2016-12-14' AS DATE),CAST('2016-12-20' AS DATE),CAST('2016-07-12' AS DATE),CAST('2016-10-12' AS DATE),CAST('2016-04-21' AS DATE),CAST('2016-09-07' AS DATE),CAST('2016-02-09' AS DATE),CAST('2016-01-19' AS DATE),CAST('2016-04-12' AS DATE),CAST('2016-03-10' AS DATE),CAST('2016-11-08' AS DATE),CAST('2016-05-10' AS DATE),CAST('2016-06-21' AS DATE),CAST('2016-08-17' AS DATE),CAST('2016-12-13' AS DATE),CAST('2016-09-21' AS DATE),CAST('2016-01-20' AS DATE),CAST('2016-07-13' AS DATE),CAST('2016-05-18' AS DATE),CAST('2016-03-16' AS DATE),CAST('2016-07-21' AS DATE),CAST('2016-04-20' AS DATE),CAST('2016-08-18' AS DATE),CAST('2016-02-16' AS DATE),CAST('2016-10-20' AS DATE),CAST('2016-10-25' AS DATE),CAST('2016-02-11' AS DATE),CAST('2016-05-24' AS DATE),CAST('2016-09-08' AS DATE),CAST('2016-03-08' AS DATE),CAST('2016-06-08' AS DATE),CAST('2016-07-19' AS DATE));\""
      ]
     },
     "execution_count": 11,
     "metadata": {},
     "output_type": "execute_result"
    }
   ],
   "source": [
    "last_string"
   ]
  },
  {
   "cell_type": "code",
   "execution_count": 12,
   "metadata": {},
   "outputs": [],
   "source": [
    "final_query = query + last_string"
   ]
  },
  {
   "cell_type": "code",
   "execution_count": 13,
   "metadata": {},
   "outputs": [
    {
     "data": {
      "text/plain": [
       "\"SELECT patente, codigoruta, fhposini, fhposfin FROM public.datavel2016 WHERE DATE(fhposini) IN (CAST('2016-06-07' AS DATE),CAST('2016-02-18' AS DATE),CAST('2016-12-15' AS DATE),CAST('2016-07-14' AS DATE),CAST('2016-09-14' AS DATE),CAST('2016-04-13' AS DATE),CAST('2016-08-10' AS DATE),CAST('2016-01-21' AS DATE),CAST('2016-12-06' AS DATE),CAST('2016-09-13' AS DATE),CAST('2016-11-22' AS DATE),CAST('2016-02-17' AS DATE),CAST('2016-04-19' AS DATE),CAST('2016-06-23' AS DATE),CAST('2016-08-11' AS DATE),CAST('2016-03-17' AS DATE),CAST('2016-03-15' AS DATE),CAST('2016-01-14' AS DATE),CAST('2016-10-19' AS DATE),CAST('2016-04-14' AS DATE),CAST('2016-02-10' AS DATE),CAST('2016-01-12' AS DATE),CAST('2016-05-17' AS DATE),CAST('2016-07-20' AS DATE),CAST('2016-01-13' AS DATE),CAST('2016-10-18' AS DATE),CAST('2016-08-09' AS DATE),CAST('2016-11-09' AS DATE),CAST('2016-05-11' AS DATE),CAST('2016-03-09' AS DATE),CAST('2016-05-19' AS DATE),CAST('2016-11-17' AS DATE),CAST('2016-12-14' AS DATE),CAST('2016-12-20' AS DATE),CAST('2016-07-12' AS DATE),CAST('2016-10-12' AS DATE),CAST('2016-04-21' AS DATE),CAST('2016-09-07' AS DATE),CAST('2016-02-09' AS DATE),CAST('2016-01-19' AS DATE),CAST('2016-04-12' AS DATE),CAST('2016-03-10' AS DATE),CAST('2016-11-08' AS DATE),CAST('2016-05-10' AS DATE),CAST('2016-06-21' AS DATE),CAST('2016-08-17' AS DATE),CAST('2016-12-13' AS DATE),CAST('2016-09-21' AS DATE),CAST('2016-01-20' AS DATE),CAST('2016-07-13' AS DATE),CAST('2016-05-18' AS DATE),CAST('2016-03-16' AS DATE),CAST('2016-07-21' AS DATE),CAST('2016-04-20' AS DATE),CAST('2016-08-18' AS DATE),CAST('2016-02-16' AS DATE),CAST('2016-10-20' AS DATE),CAST('2016-10-25' AS DATE),CAST('2016-02-11' AS DATE),CAST('2016-05-24' AS DATE),CAST('2016-09-08' AS DATE),CAST('2016-03-08' AS DATE),CAST('2016-06-08' AS DATE),CAST('2016-07-19' AS DATE));\""
      ]
     },
     "execution_count": 13,
     "metadata": {},
     "output_type": "execute_result"
    }
   ],
   "source": [
    "final_query"
   ]
  },
  {
   "cell_type": "code",
   "execution_count": 14,
   "metadata": {},
   "outputs": [],
   "source": [
    "cursor.execute(final_query)"
   ]
  },
  {
   "cell_type": "code",
   "execution_count": 15,
   "metadata": {},
   "outputs": [
    {
     "name": "stdout",
     "output_type": "stream",
     "text": [
      "173.8172228323417\n"
     ]
    }
   ],
   "source": [
    "file_path = os.path.join(RFADir,'04_Consolidados/2_datavel/datavel_2016.csv')\n",
    "tic = time.clock()\n",
    "with open(file_path,\"w\") as f:\n",
    "    for row in cursor:\n",
    "        for element in row:        \n",
    "            f.write('%s' % element + ';')\n",
    "            \n",
    "        f.write('\\n')\n",
    "\n",
    "f.close()\n",
    "toc = time.clock()\n",
    "print(toc-tic)"
   ]
  },
  {
   "cell_type": "code",
   "execution_count": 16,
   "metadata": {
    "collapsed": true
   },
   "outputs": [],
   "source": [
    "conn.close()"
   ]
  },
  {
   "cell_type": "markdown",
   "metadata": {},
   "source": [
    "* Querying 190 - 2017"
   ]
  },
  {
   "cell_type": "code",
   "execution_count": 18,
   "metadata": {
    "collapsed": true
   },
   "outputs": [],
   "source": [
    "evasion_2017_path = os.path.join(RFADir, '04_Consolidados/0_consolidados/evasion_2017_consolidado.csv')\n",
    "evasion_2017_df = pd.read_csv(evasion_2017_path, sep=';', encoding='latin-1') #Dates are not parsed"
   ]
  },
  {
   "cell_type": "code",
   "execution_count": 19,
   "metadata": {
    "collapsed": true
   },
   "outputs": [],
   "source": [
    "fechas = evasion_2017_df['FECHA'].unique()"
   ]
  },
  {
   "cell_type": "code",
   "execution_count": 20,
   "metadata": {},
   "outputs": [
    {
     "data": {
      "text/plain": [
       "array(['2017-01-11', '2017-10-18', '2017-03-16', '2017-11-23',\n",
       "       '2017-06-14', '2017-11-16', '2017-09-13', '2017-04-18',\n",
       "       '2017-03-14', '2017-01-18', '2017-04-12', '2017-04-06',\n",
       "       '2017-12-19', '2017-03-15', '2017-05-23', '2017-01-12',\n",
       "       '2017-07-19', '2017-11-07', '2017-07-11', '2017-03-21',\n",
       "       '2017-03-08', '2017-12-13', '2017-08-22', '2017-11-09',\n",
       "       '2017-10-19', '2017-12-14', '2017-06-07', '2017-02-08',\n",
       "       '2017-09-12', '2017-05-09', '2017-06-20', '2017-07-18',\n",
       "       '2017-01-17', '2017-05-16', '2017-08-17', '2017-04-11',\n",
       "       '2017-07-20', '2017-10-11', '2017-08-29', '2017-02-07',\n",
       "       '2017-03-23', '2017-12-12', '2017-10-17', '2017-01-10',\n",
       "       '2017-06-08', '2017-02-15', '2017-05-18', '2017-02-14',\n",
       "       '2017-08-09', '2017-08-24', '2017-07-13', '2017-03-09',\n",
       "       '2017-06-15', '2017-09-26', '2017-08-08', '2017-12-06',\n",
       "       '2017-11-14', '2017-02-09', '2017-05-11'], dtype=object)"
      ]
     },
     "execution_count": 20,
     "metadata": {},
     "output_type": "execute_result"
    }
   ],
   "source": [
    "fechas"
   ]
  },
  {
   "cell_type": "code",
   "execution_count": 17,
   "metadata": {
    "collapsed": true
   },
   "outputs": [],
   "source": [
    "conn = psycopg2.connect(dbname='velssmh', user='lcamus', host='192.168.1.190', password='camus2018')"
   ]
  },
  {
   "cell_type": "code",
   "execution_count": 21,
   "metadata": {
    "collapsed": true
   },
   "outputs": [],
   "source": [
    "cursor = conn.cursor('cursor_unique_name', cursor_factory=psycopg2.extras.DictCursor)"
   ]
  },
  {
   "cell_type": "code",
   "execution_count": 22,
   "metadata": {
    "collapsed": true
   },
   "outputs": [],
   "source": [
    "query =  \"SELECT patente, codigoruta, fhposini, fhposfin FROM public.datavel2017 WHERE DATE(fhposini) IN (\"\n",
    "\n",
    "last_string = ''\n",
    "ind = 0\n",
    "length_fechas = len(fechas)\n",
    "\n",
    "for fecha in fechas:\n",
    "    if(ind!=length_fechas-1):\n",
    "        last_string += \"CAST(\" + \"'\" + fecha + \"'\" + \" AS DATE),\"\n",
    "    else:\n",
    "        last_string += \"CAST(\" + \"'\" + fecha + \"'\" + \" AS DATE));\"\n",
    "        \n",
    "    ind+=1\n"
   ]
  },
  {
   "cell_type": "code",
   "execution_count": 23,
   "metadata": {
    "collapsed": true
   },
   "outputs": [],
   "source": [
    "final_query = query + last_string"
   ]
  },
  {
   "cell_type": "code",
   "execution_count": 25,
   "metadata": {},
   "outputs": [
    {
     "data": {
      "text/plain": [
       "\"SELECT patente, codigoruta, fhposini, fhposfin FROM public.datavel2017 WHERE DATE(fhposini) IN (CAST('2017-01-11' AS DATE),CAST('2017-10-18' AS DATE),CAST('2017-03-16' AS DATE),CAST('2017-11-23' AS DATE),CAST('2017-06-14' AS DATE),CAST('2017-11-16' AS DATE),CAST('2017-09-13' AS DATE),CAST('2017-04-18' AS DATE),CAST('2017-03-14' AS DATE),CAST('2017-01-18' AS DATE),CAST('2017-04-12' AS DATE),CAST('2017-04-06' AS DATE),CAST('2017-12-19' AS DATE),CAST('2017-03-15' AS DATE),CAST('2017-05-23' AS DATE),CAST('2017-01-12' AS DATE),CAST('2017-07-19' AS DATE),CAST('2017-11-07' AS DATE),CAST('2017-07-11' AS DATE),CAST('2017-03-21' AS DATE),CAST('2017-03-08' AS DATE),CAST('2017-12-13' AS DATE),CAST('2017-08-22' AS DATE),CAST('2017-11-09' AS DATE),CAST('2017-10-19' AS DATE),CAST('2017-12-14' AS DATE),CAST('2017-06-07' AS DATE),CAST('2017-02-08' AS DATE),CAST('2017-09-12' AS DATE),CAST('2017-05-09' AS DATE),CAST('2017-06-20' AS DATE),CAST('2017-07-18' AS DATE),CAST('2017-01-17' AS DATE),CAST('2017-05-16' AS DATE),CAST('2017-08-17' AS DATE),CAST('2017-04-11' AS DATE),CAST('2017-07-20' AS DATE),CAST('2017-10-11' AS DATE),CAST('2017-08-29' AS DATE),CAST('2017-02-07' AS DATE),CAST('2017-03-23' AS DATE),CAST('2017-12-12' AS DATE),CAST('2017-10-17' AS DATE),CAST('2017-01-10' AS DATE),CAST('2017-06-08' AS DATE),CAST('2017-02-15' AS DATE),CAST('2017-05-18' AS DATE),CAST('2017-02-14' AS DATE),CAST('2017-08-09' AS DATE),CAST('2017-08-24' AS DATE),CAST('2017-07-13' AS DATE),CAST('2017-03-09' AS DATE),CAST('2017-06-15' AS DATE),CAST('2017-09-26' AS DATE),CAST('2017-08-08' AS DATE),CAST('2017-12-06' AS DATE),CAST('2017-11-14' AS DATE),CAST('2017-02-09' AS DATE),CAST('2017-05-11' AS DATE));\""
      ]
     },
     "execution_count": 25,
     "metadata": {},
     "output_type": "execute_result"
    }
   ],
   "source": [
    "final_query"
   ]
  },
  {
   "cell_type": "code",
   "execution_count": 26,
   "metadata": {
    "collapsed": true
   },
   "outputs": [],
   "source": [
    "cursor.execute(final_query)"
   ]
  },
  {
   "cell_type": "code",
   "execution_count": 27,
   "metadata": {},
   "outputs": [
    {
     "name": "stdout",
     "output_type": "stream",
     "text": [
      "157.67974558538515\n"
     ]
    }
   ],
   "source": [
    "file_path = os.path.join(RFADir,'04_Consolidados/2_datavel/datavel_2017.csv')\n",
    "tic = time.clock()\n",
    "with open(file_path,\"w\") as f:\n",
    "    for row in cursor:\n",
    "        for element in row:        \n",
    "            f.write('%s' % element + ';')\n",
    "            \n",
    "        f.write('\\n')\n",
    "\n",
    "f.close()\n",
    "toc = time.clock()\n",
    "print(toc-tic)"
   ]
  },
  {
   "cell_type": "code",
   "execution_count": 28,
   "metadata": {
    "collapsed": true
   },
   "outputs": [],
   "source": [
    "conn.close()"
   ]
  }
 ],
 "metadata": {
  "kernelspec": {
   "display_name": "Python 3",
   "language": "python",
   "name": "python3"
  },
  "language_info": {
   "codemirror_mode": {
    "name": "ipython",
    "version": 3
   },
   "file_extension": ".py",
   "mimetype": "text/x-python",
   "name": "python",
   "nbconvert_exporter": "python",
   "pygments_lexer": "ipython3",
   "version": "3.6.1"
  }
 },
 "nbformat": 4,
 "nbformat_minor": 2
}
