{
 "cells": [
  {
   "cell_type": "markdown",
   "metadata": {},
   "source": [
    "# Building (Peak vs. Off Peak) Histograms"
   ]
  },
  {
   "cell_type": "markdown",
   "metadata": {},
   "source": [
    "### How to run this notebook:\n",
    "* Give date and type of vehicle as arguments\n",
    "* If simplified etapas file does not exist, then run RunDailyEtapasBuilder.runSimplifyEtapas(). If it already exists, then omit it\n",
    "* If simplified perfiles file does not exist, then run RunDailyEtapasBuilder.runSimplifyPerfiles(). If it already exists, then omit it. TODO: This is not (yet) needed"
   ]
  },
  {
   "cell_type": "markdown",
   "metadata": {},
   "source": [
    "Run the builder in this order:\n",
    "1. etapas_df = RunDailyEtapasBuilder.loadSimplifiedEtapas()\n",
    "2. merged_df = RunDailyEtapasBuilder.includeTorniquetesDate(etapas_df)\n",
    "3. clean_df = RunDailyEtapasBuilder.cleanDataFrame(merged_df)\n",
    "4. sorted_df = RunDailyEtapasBuilder.sortDataFrame(clean_df)"
   ]
  },
  {
   "cell_type": "code",
   "execution_count": 1,
   "metadata": {
    "scrolled": true
   },
   "outputs": [
    {
     "data": {
      "text/html": [
       "<style>.container { width:80% !important; }</style>"
      ],
      "text/plain": [
       "<IPython.core.display.HTML object>"
      ]
     },
     "metadata": {},
     "output_type": "display_data"
    }
   ],
   "source": [
    "%matplotlib inline\n",
    "from IPython.core.display import display, HTML\n",
    "display(HTML(\"<style>.container { width:80% !important; }</style>\"))\n",
    "import pandas as pd\n",
    "import matplotlib\n",
    "import matplotlib.pyplot as plt\n",
    "import numpy as np\n",
    "from importlib import reload\n",
    "import datetime as dt"
   ]
  },
  {
   "cell_type": "code",
   "execution_count": 2,
   "metadata": {},
   "outputs": [
    {
     "name": "stdout",
     "output_type": "stream",
     "text": [
      "Enter the date to analyze: 2017-07-19\n",
      "Enter the vehicle to analyze: BUS\n",
      "Consider ZP in perfiles file (0/1)?: 0\n"
     ]
    }
   ],
   "source": [
    "import RunDailyEtapasBuilder"
   ]
  },
  {
   "cell_type": "markdown",
   "metadata": {},
   "source": [
    "* Running the builder of the dataframe"
   ]
  },
  {
   "cell_type": "code",
   "execution_count": 3,
   "metadata": {},
   "outputs": [
    {
     "name": "stdout",
     "output_type": "stream",
     "text": [
      "Not found in turnstile database: 1637796\n"
     ]
    }
   ],
   "source": [
    "#RunDailyEtapasBuilder.runSimplifyEtapas()\n",
    "etapas_df = RunDailyEtapasBuilder.loadSimplifiedEtapas()\n",
    "merged_df = RunDailyEtapasBuilder.mergeTurnstileData(etapas_df)\n",
    "clean_df = RunDailyEtapasBuilder.cleanDataFrame(merged_df)\n",
    "sorted_df = RunDailyEtapasBuilder.sortDataFrame(clean_df)\n",
    "sorted_df = sorted_df.reset_index()"
   ]
  },
  {
   "cell_type": "markdown",
   "metadata": {},
   "source": [
    "* Counting."
   ]
  },
  {
   "cell_type": "code",
   "execution_count": 4,
   "metadata": {},
   "outputs": [
    {
     "name": "stdout",
     "output_type": "stream",
     "text": [
      "2361310\n",
      "2361310\n",
      "2326044\n",
      "2326044\n"
     ]
    }
   ],
   "source": [
    "print(etapas_df['id'].count())\n",
    "print(merged_df['id'].count())\n",
    "print(clean_df['id'].count())\n",
    "print(sorted_df['id'].count())"
   ]
  },
  {
   "cell_type": "markdown",
   "metadata": {},
   "source": [
    "* Adding necessary attributes"
   ]
  },
  {
   "cell_type": "code",
   "execution_count": 5,
   "metadata": {
    "collapsed": true
   },
   "outputs": [],
   "source": [
    "sorted_df['mismo_paradero'] = (sorted_df['par_subida']==sorted_df['par_subida'].shift()).fillna(False)\n",
    "sorted_df['misma_patente'] = (sorted_df['sitio_subida']==sorted_df['sitio_subida'].shift()).fillna(False)\n",
    "sorted_df['mismo_servicio'] = (sorted_df['servicio_subida']==sorted_df['servicio_subida'].shift()).fillna(False)\n",
    "\n",
    "sorted_df.loc[(sorted_df.mismo_servicio == True) & (sorted_df.mismo_paradero == True) & (sorted_df.misma_patente == True), 'diferencia_tiempo'] = (sorted_df['t_subida']-sorted_df['t_subida'].shift())\n",
    "\n",
    "sorted_df['diferencia_tiempo_secs'] = sorted_df['diferencia_tiempo'].dt.total_seconds()\n",
    "sorted_df['si_torniquete'] = (sorted_df['fecha_instalacion']<=sorted_df['t_subida'])\n",
    "sorted_df['si_2017_torniquete'] = ((sorted_df['fecha_instalacion']<=sorted_df['t_subida'])&(sorted_df['fecha_instalacion']>=pd.to_datetime('2017-01-01')))"
   ]
  },
  {
   "cell_type": "markdown",
   "metadata": {},
   "source": [
    "* Filtering by mismo_paradero, misma_patente and by si_torniquete. This is a key part"
   ]
  },
  {
   "cell_type": "code",
   "execution_count": 6,
   "metadata": {
    "collapsed": true
   },
   "outputs": [],
   "source": [
    "filtered_df = sorted_df[(sorted_df.mismo_servicio==True) & (sorted_df.mismo_paradero==True) & (sorted_df.misma_patente==True)]\n",
    "filtered_turnstile_df = filtered_df[filtered_df.si_2017_torniquete==True]\n",
    "filtered_no_turnstile_df = filtered_df[filtered_df.si_torniquete==False]"
   ]
  },
  {
   "cell_type": "markdown",
   "metadata": {},
   "source": [
    "* Counting and checking"
   ]
  },
  {
   "cell_type": "code",
   "execution_count": 7,
   "metadata": {
    "scrolled": true
   },
   "outputs": [
    {
     "name": "stdout",
     "output_type": "stream",
     "text": [
      "1427569\n",
      "176655\n",
      "998532\n",
      "1175187\n"
     ]
    }
   ],
   "source": [
    "print(filtered_df['id'].count())\n",
    "print(filtered_turnstile_df['id'].count())\n",
    "print(filtered_no_turnstile_df['id'].count())\n",
    "checking = filtered_turnstile_df['id'].count() + filtered_no_turnstile_df['id'].count()\n",
    "print(checking)"
   ]
  },
  {
   "cell_type": "markdown",
   "metadata": {},
   "source": [
    "* Getting rid of unecessary dataframes"
   ]
  },
  {
   "cell_type": "code",
   "execution_count": 8,
   "metadata": {
    "collapsed": true,
    "scrolled": false
   },
   "outputs": [],
   "source": [
    "del etapas_df\n",
    "del merged_df\n",
    "del clean_df"
   ]
  },
  {
   "cell_type": "markdown",
   "metadata": {},
   "source": [
    "* Filtering by period (peak vs. off-peak). In this case, peak is PMA + PTA"
   ]
  },
  {
   "cell_type": "code",
   "execution_count": 9,
   "metadata": {
    "collapsed": true
   },
   "outputs": [],
   "source": [
    "off_peak_start_1 = dt.time(0,0,0)\n",
    "off_peak_end_1 = dt.time(6,29,0)\n",
    "\n",
    "peak_start_1 = dt.time(6,30,0)\n",
    "peak_end_1 = dt.time(8,29,0)\n",
    "\n",
    "off_peak_start_2 = dt.time(8,30,0)\n",
    "off_peak_end_2 = dt.time(17,29,0)\n",
    "\n",
    "peak_start_2 = dt.time(17,30,0)\n",
    "peak_end_2 = dt.time(20,29,0)\n",
    "\n",
    "off_peak_start_3 = dt.time(20,30,0)\n",
    "off_peak_end_3 = dt.time(23,59,0)"
   ]
  },
  {
   "cell_type": "markdown",
   "metadata": {},
   "source": [
    "* TODO: Consider reducing this"
   ]
  },
  {
   "cell_type": "code",
   "execution_count": 10,
   "metadata": {
    "collapsed": true
   },
   "outputs": [],
   "source": [
    "off_peak_turnstile_df = filtered_turnstile_df[((off_peak_start_1<=filtered_turnstile_df['t_subida'].dt.time)\n",
    "                                               & (filtered_turnstile_df['t_subida'].dt.time<=off_peak_end_1))\n",
    "                                               | ((off_peak_start_2<=filtered_turnstile_df['t_subida'].dt.time)\n",
    "                                               & (filtered_turnstile_df['t_subida'].dt.time<=off_peak_end_2))\n",
    "                                               | ((off_peak_start_3<=filtered_turnstile_df['t_subida'].dt.time)\n",
    "                                               & (filtered_turnstile_df['t_subida'].dt.time<=off_peak_end_3))]\n",
    "\n",
    "off_peak_no_turnstile_df = filtered_no_turnstile_df[((off_peak_start_1<=filtered_no_turnstile_df['t_subida'].dt.time)\n",
    "                                               & (filtered_no_turnstile_df['t_subida'].dt.time<=off_peak_end_1))\n",
    "                                               | ((off_peak_start_2<=filtered_no_turnstile_df['t_subida'].dt.time)\n",
    "                                               & (filtered_no_turnstile_df['t_subida'].dt.time<=off_peak_end_2))\n",
    "                                               | ((off_peak_start_3<=filtered_no_turnstile_df['t_subida'].dt.time)\n",
    "                                               & (filtered_no_turnstile_df['t_subida'].dt.time<=off_peak_end_3))]\n",
    "\n",
    "peak_turnstile_df = filtered_turnstile_df[((peak_start_1<=filtered_turnstile_df['t_subida'].dt.time)\n",
    "                                           & (filtered_turnstile_df['t_subida'].dt.time<=peak_end_1))\n",
    "                                           | ((peak_start_2<=filtered_turnstile_df['t_subida'].dt.time)\n",
    "                                           & (filtered_turnstile_df['t_subida'].dt.time<=peak_end_2))]\n",
    "\n",
    "peak_no_turnstile_df = filtered_no_turnstile_df[((peak_start_1<=filtered_no_turnstile_df['t_subida'].dt.time)\n",
    "                                           & (filtered_no_turnstile_df['t_subida'].dt.time<=peak_end_1))\n",
    "                                           | ((peak_start_2<=filtered_no_turnstile_df['t_subida'].dt.time)\n",
    "                                           & (filtered_no_turnstile_df['t_subida'].dt.time<=peak_end_2))]"
   ]
  },
  {
   "cell_type": "markdown",
   "metadata": {},
   "source": [
    "TODO: Currently, there are rows with extremely high values for the 'diferencia_tiempo' attribute (e.g. >=25 mins). <strong>Be aware of this</strong>. <strike>This should be fixed considering the idExpedicion attribute present in the corresponding 'perfiles' database. The following graphs and descriptive statistics consider only the 95th percentile for the 'diferencia_tiempo_secs' attribute.</strike>"
   ]
  },
  {
   "cell_type": "markdown",
   "metadata": {},
   "source": [
    "### Filtering by diferencia_tiempo<=97th percentile in the corresponding databases. <font color=\"red\">BE AWARE.</font>"
   ]
  },
  {
   "cell_type": "code",
   "execution_count": 11,
   "metadata": {},
   "outputs": [
    {
     "name": "stdout",
     "output_type": "stream",
     "text": [
      "Percentile 97th for off_peak_turnstile database is: 0 days 00:00:27\n",
      "Percentile 97th for off_peak_no_turnstile database is: 0 days 00:00:26\n",
      "Percentile 97th for peak_turnstile database is: 0 days 00:00:24\n",
      "Percentile 97th for peak_no_turnstile database is: 0 days 00:00:24\n"
     ]
    }
   ],
   "source": [
    "off_peak_turnstile_97 = off_peak_turnstile_df.diferencia_tiempo.quantile(0.97)\n",
    "print ('Percentile 97th for off_peak_turnstile database is: ' + str(off_peak_turnstile_97))\n",
    "off_peak_no_turnstile_97 = off_peak_no_turnstile_df.diferencia_tiempo.quantile(0.97)\n",
    "print ('Percentile 97th for off_peak_no_turnstile database is: ' + str(off_peak_no_turnstile_97))\n",
    "peak_turnstile_97 = peak_turnstile_df.diferencia_tiempo.quantile(0.97)\n",
    "print ('Percentile 97th for peak_turnstile database is: ' + str(peak_turnstile_97))\n",
    "peak_no_turnstile_97 = peak_no_turnstile_df.diferencia_tiempo.quantile(0.97)\n",
    "print ('Percentile 97th for peak_no_turnstile database is: ' + str(peak_no_turnstile_97))"
   ]
  },
  {
   "cell_type": "code",
   "execution_count": 12,
   "metadata": {
    "collapsed": true
   },
   "outputs": [],
   "source": [
    "off_peak_turnstile_97_df = off_peak_turnstile_df[off_peak_turnstile_df.diferencia_tiempo<=off_peak_turnstile_97]\n",
    "off_peak_no_turnstile_97_df = off_peak_no_turnstile_df[off_peak_no_turnstile_df.diferencia_tiempo<=off_peak_no_turnstile_97]\n",
    "peak_turnstile_97_df = peak_turnstile_df[peak_turnstile_df.diferencia_tiempo<=peak_turnstile_97]\n",
    "peak_no_turnstile_97_df = peak_no_turnstile_df[peak_no_turnstile_df.diferencia_tiempo<=peak_no_turnstile_97]"
   ]
  },
  {
   "cell_type": "code",
   "execution_count": 13,
   "metadata": {
    "scrolled": false
   },
   "outputs": [
    {
     "data": {
      "text/html": [
       "<div>\n",
       "<style>\n",
       "    .dataframe thead tr:only-child th {\n",
       "        text-align: right;\n",
       "    }\n",
       "\n",
       "    .dataframe thead th {\n",
       "        text-align: left;\n",
       "    }\n",
       "\n",
       "    .dataframe tbody tr th {\n",
       "        vertical-align: top;\n",
       "    }\n",
       "</style>\n",
       "<table border=\"1\" class=\"dataframe\">\n",
       "  <thead>\n",
       "    <tr style=\"text-align: right;\">\n",
       "      <th></th>\n",
       "      <th>index</th>\n",
       "      <th>id</th>\n",
       "      <th>nviaje</th>\n",
       "      <th>diferencia_tiempo</th>\n",
       "      <th>diferencia_tiempo_secs</th>\n",
       "    </tr>\n",
       "  </thead>\n",
       "  <tbody>\n",
       "    <tr>\n",
       "      <th>count</th>\n",
       "      <td>1.054880e+05</td>\n",
       "      <td>1.054880e+05</td>\n",
       "      <td>105488.000000</td>\n",
       "      <td>105488</td>\n",
       "      <td>105488.000000</td>\n",
       "    </tr>\n",
       "    <tr>\n",
       "      <th>mean</th>\n",
       "      <td>1.155783e+06</td>\n",
       "      <td>1.826317e+09</td>\n",
       "      <td>1.622810</td>\n",
       "      <td>0 days 00:00:06.031444</td>\n",
       "      <td>6.031444</td>\n",
       "    </tr>\n",
       "    <tr>\n",
       "      <th>std</th>\n",
       "      <td>6.920017e+05</td>\n",
       "      <td>1.415174e+09</td>\n",
       "      <td>0.866035</td>\n",
       "      <td>0 days 00:00:04.166893</td>\n",
       "      <td>4.166893</td>\n",
       "    </tr>\n",
       "    <tr>\n",
       "      <th>min</th>\n",
       "      <td>0.000000e+00</td>\n",
       "      <td>1.091258e+06</td>\n",
       "      <td>1.000000</td>\n",
       "      <td>0 days 00:00:00</td>\n",
       "      <td>0.000000</td>\n",
       "    </tr>\n",
       "    <tr>\n",
       "      <th>25%</th>\n",
       "      <td>5.536888e+05</td>\n",
       "      <td>4.233079e+08</td>\n",
       "      <td>1.000000</td>\n",
       "      <td>0 days 00:00:04</td>\n",
       "      <td>4.000000</td>\n",
       "    </tr>\n",
       "    <tr>\n",
       "      <th>50%</th>\n",
       "      <td>1.156095e+06</td>\n",
       "      <td>1.914950e+09</td>\n",
       "      <td>1.000000</td>\n",
       "      <td>0 days 00:00:05</td>\n",
       "      <td>5.000000</td>\n",
       "    </tr>\n",
       "    <tr>\n",
       "      <th>75%</th>\n",
       "      <td>1.754372e+06</td>\n",
       "      <td>3.168960e+09</td>\n",
       "      <td>2.000000</td>\n",
       "      <td>0 days 00:00:07</td>\n",
       "      <td>7.000000</td>\n",
       "    </tr>\n",
       "    <tr>\n",
       "      <th>max</th>\n",
       "      <td>2.361240e+06</td>\n",
       "      <td>4.288128e+09</td>\n",
       "      <td>12.000000</td>\n",
       "      <td>0 days 00:00:27</td>\n",
       "      <td>27.000000</td>\n",
       "    </tr>\n",
       "  </tbody>\n",
       "</table>\n",
       "</div>"
      ],
      "text/plain": [
       "              index            id         nviaje       diferencia_tiempo  \\\n",
       "count  1.054880e+05  1.054880e+05  105488.000000                  105488   \n",
       "mean   1.155783e+06  1.826317e+09       1.622810  0 days 00:00:06.031444   \n",
       "std    6.920017e+05  1.415174e+09       0.866035  0 days 00:00:04.166893   \n",
       "min    0.000000e+00  1.091258e+06       1.000000         0 days 00:00:00   \n",
       "25%    5.536888e+05  4.233079e+08       1.000000         0 days 00:00:04   \n",
       "50%    1.156095e+06  1.914950e+09       1.000000         0 days 00:00:05   \n",
       "75%    1.754372e+06  3.168960e+09       2.000000         0 days 00:00:07   \n",
       "max    2.361240e+06  4.288128e+09      12.000000         0 days 00:00:27   \n",
       "\n",
       "       diferencia_tiempo_secs  \n",
       "count           105488.000000  \n",
       "mean                 6.031444  \n",
       "std                  4.166893  \n",
       "min                  0.000000  \n",
       "25%                  4.000000  \n",
       "50%                  5.000000  \n",
       "75%                  7.000000  \n",
       "max                 27.000000  "
      ]
     },
     "execution_count": 13,
     "metadata": {},
     "output_type": "execute_result"
    }
   ],
   "source": [
    "off_peak_turnstile_97_df.describe()"
   ]
  },
  {
   "cell_type": "code",
   "execution_count": 14,
   "metadata": {
    "scrolled": true
   },
   "outputs": [
    {
     "data": {
      "text/html": [
       "<div>\n",
       "<style>\n",
       "    .dataframe thead tr:only-child th {\n",
       "        text-align: right;\n",
       "    }\n",
       "\n",
       "    .dataframe thead th {\n",
       "        text-align: left;\n",
       "    }\n",
       "\n",
       "    .dataframe tbody tr th {\n",
       "        vertical-align: top;\n",
       "    }\n",
       "</style>\n",
       "<table border=\"1\" class=\"dataframe\">\n",
       "  <thead>\n",
       "    <tr style=\"text-align: right;\">\n",
       "      <th></th>\n",
       "      <th>index</th>\n",
       "      <th>id</th>\n",
       "      <th>nviaje</th>\n",
       "      <th>diferencia_tiempo</th>\n",
       "      <th>diferencia_tiempo_secs</th>\n",
       "    </tr>\n",
       "  </thead>\n",
       "  <tbody>\n",
       "    <tr>\n",
       "      <th>count</th>\n",
       "      <td>5.854340e+05</td>\n",
       "      <td>5.854340e+05</td>\n",
       "      <td>585434.000000</td>\n",
       "      <td>585434</td>\n",
       "      <td>585434.000000</td>\n",
       "    </tr>\n",
       "    <tr>\n",
       "      <th>mean</th>\n",
       "      <td>1.176736e+06</td>\n",
       "      <td>1.861731e+09</td>\n",
       "      <td>1.657107</td>\n",
       "      <td>0 days 00:00:03.745175</td>\n",
       "      <td>3.745175</td>\n",
       "    </tr>\n",
       "    <tr>\n",
       "      <th>std</th>\n",
       "      <td>6.823555e+05</td>\n",
       "      <td>1.405708e+09</td>\n",
       "      <td>0.885564</td>\n",
       "      <td>0 days 00:00:03.780122</td>\n",
       "      <td>3.780122</td>\n",
       "    </tr>\n",
       "    <tr>\n",
       "      <th>min</th>\n",
       "      <td>1.000000e+00</td>\n",
       "      <td>1.091258e+06</td>\n",
       "      <td>1.000000</td>\n",
       "      <td>0 days 00:00:00</td>\n",
       "      <td>0.000000</td>\n",
       "    </tr>\n",
       "    <tr>\n",
       "      <th>25%</th>\n",
       "      <td>5.906932e+05</td>\n",
       "      <td>4.262212e+08</td>\n",
       "      <td>1.000000</td>\n",
       "      <td>0 days 00:00:02</td>\n",
       "      <td>2.000000</td>\n",
       "    </tr>\n",
       "    <tr>\n",
       "      <th>50%</th>\n",
       "      <td>1.175766e+06</td>\n",
       "      <td>1.985196e+09</td>\n",
       "      <td>1.000000</td>\n",
       "      <td>0 days 00:00:03</td>\n",
       "      <td>3.000000</td>\n",
       "    </tr>\n",
       "    <tr>\n",
       "      <th>75%</th>\n",
       "      <td>1.764952e+06</td>\n",
       "      <td>3.170305e+09</td>\n",
       "      <td>2.000000</td>\n",
       "      <td>0 days 00:00:04</td>\n",
       "      <td>4.000000</td>\n",
       "    </tr>\n",
       "    <tr>\n",
       "      <th>max</th>\n",
       "      <td>2.361305e+06</td>\n",
       "      <td>4.293259e+09</td>\n",
       "      <td>22.000000</td>\n",
       "      <td>0 days 00:00:26</td>\n",
       "      <td>26.000000</td>\n",
       "    </tr>\n",
       "  </tbody>\n",
       "</table>\n",
       "</div>"
      ],
      "text/plain": [
       "              index            id         nviaje       diferencia_tiempo  \\\n",
       "count  5.854340e+05  5.854340e+05  585434.000000                  585434   \n",
       "mean   1.176736e+06  1.861731e+09       1.657107  0 days 00:00:03.745175   \n",
       "std    6.823555e+05  1.405708e+09       0.885564  0 days 00:00:03.780122   \n",
       "min    1.000000e+00  1.091258e+06       1.000000         0 days 00:00:00   \n",
       "25%    5.906932e+05  4.262212e+08       1.000000         0 days 00:00:02   \n",
       "50%    1.175766e+06  1.985196e+09       1.000000         0 days 00:00:03   \n",
       "75%    1.764952e+06  3.170305e+09       2.000000         0 days 00:00:04   \n",
       "max    2.361305e+06  4.293259e+09      22.000000         0 days 00:00:26   \n",
       "\n",
       "       diferencia_tiempo_secs  \n",
       "count           585434.000000  \n",
       "mean                 3.745175  \n",
       "std                  3.780122  \n",
       "min                  0.000000  \n",
       "25%                  2.000000  \n",
       "50%                  3.000000  \n",
       "75%                  4.000000  \n",
       "max                 26.000000  "
      ]
     },
     "execution_count": 14,
     "metadata": {},
     "output_type": "execute_result"
    }
   ],
   "source": [
    "off_peak_no_turnstile_97_df.describe()"
   ]
  },
  {
   "cell_type": "code",
   "execution_count": 15,
   "metadata": {},
   "outputs": [
    {
     "data": {
      "text/html": [
       "<div>\n",
       "<style>\n",
       "    .dataframe thead tr:only-child th {\n",
       "        text-align: right;\n",
       "    }\n",
       "\n",
       "    .dataframe thead th {\n",
       "        text-align: left;\n",
       "    }\n",
       "\n",
       "    .dataframe tbody tr th {\n",
       "        vertical-align: top;\n",
       "    }\n",
       "</style>\n",
       "<table border=\"1\" class=\"dataframe\">\n",
       "  <thead>\n",
       "    <tr style=\"text-align: right;\">\n",
       "      <th></th>\n",
       "      <th>index</th>\n",
       "      <th>id</th>\n",
       "      <th>nviaje</th>\n",
       "      <th>diferencia_tiempo</th>\n",
       "      <th>diferencia_tiempo_secs</th>\n",
       "    </tr>\n",
       "  </thead>\n",
       "  <tbody>\n",
       "    <tr>\n",
       "      <th>count</th>\n",
       "      <td>6.525400e+04</td>\n",
       "      <td>6.525400e+04</td>\n",
       "      <td>65254.000000</td>\n",
       "      <td>65254</td>\n",
       "      <td>65254.000000</td>\n",
       "    </tr>\n",
       "    <tr>\n",
       "      <th>mean</th>\n",
       "      <td>1.179331e+06</td>\n",
       "      <td>1.865527e+09</td>\n",
       "      <td>1.568026</td>\n",
       "      <td>0 days 00:00:05.501823</td>\n",
       "      <td>5.501824</td>\n",
       "    </tr>\n",
       "    <tr>\n",
       "      <th>std</th>\n",
       "      <td>6.818507e+05</td>\n",
       "      <td>1.407537e+09</td>\n",
       "      <td>0.825025</td>\n",
       "      <td>0 days 00:00:03.552965</td>\n",
       "      <td>3.552965</td>\n",
       "    </tr>\n",
       "    <tr>\n",
       "      <th>min</th>\n",
       "      <td>2.700000e+01</td>\n",
       "      <td>1.342554e+06</td>\n",
       "      <td>1.000000</td>\n",
       "      <td>0 days 00:00:00</td>\n",
       "      <td>0.000000</td>\n",
       "    </tr>\n",
       "    <tr>\n",
       "      <th>25%</th>\n",
       "      <td>5.830598e+05</td>\n",
       "      <td>4.256764e+08</td>\n",
       "      <td>1.000000</td>\n",
       "      <td>0 days 00:00:03</td>\n",
       "      <td>3.000000</td>\n",
       "    </tr>\n",
       "    <tr>\n",
       "      <th>50%</th>\n",
       "      <td>1.179826e+06</td>\n",
       "      <td>2.009796e+09</td>\n",
       "      <td>1.000000</td>\n",
       "      <td>0 days 00:00:04</td>\n",
       "      <td>4.000000</td>\n",
       "    </tr>\n",
       "    <tr>\n",
       "      <th>75%</th>\n",
       "      <td>1.769527e+06</td>\n",
       "      <td>3.170769e+09</td>\n",
       "      <td>2.000000</td>\n",
       "      <td>0 days 00:00:06</td>\n",
       "      <td>6.000000</td>\n",
       "    </tr>\n",
       "    <tr>\n",
       "      <th>max</th>\n",
       "      <td>2.361291e+06</td>\n",
       "      <td>4.293088e+09</td>\n",
       "      <td>13.000000</td>\n",
       "      <td>0 days 00:00:24</td>\n",
       "      <td>24.000000</td>\n",
       "    </tr>\n",
       "  </tbody>\n",
       "</table>\n",
       "</div>"
      ],
      "text/plain": [
       "              index            id        nviaje       diferencia_tiempo  \\\n",
       "count  6.525400e+04  6.525400e+04  65254.000000                   65254   \n",
       "mean   1.179331e+06  1.865527e+09      1.568026  0 days 00:00:05.501823   \n",
       "std    6.818507e+05  1.407537e+09      0.825025  0 days 00:00:03.552965   \n",
       "min    2.700000e+01  1.342554e+06      1.000000         0 days 00:00:00   \n",
       "25%    5.830598e+05  4.256764e+08      1.000000         0 days 00:00:03   \n",
       "50%    1.179826e+06  2.009796e+09      1.000000         0 days 00:00:04   \n",
       "75%    1.769527e+06  3.170769e+09      2.000000         0 days 00:00:06   \n",
       "max    2.361291e+06  4.293088e+09     13.000000         0 days 00:00:24   \n",
       "\n",
       "       diferencia_tiempo_secs  \n",
       "count            65254.000000  \n",
       "mean                 5.501824  \n",
       "std                  3.552965  \n",
       "min                  0.000000  \n",
       "25%                  3.000000  \n",
       "50%                  4.000000  \n",
       "75%                  6.000000  \n",
       "max                 24.000000  "
      ]
     },
     "execution_count": 15,
     "metadata": {},
     "output_type": "execute_result"
    }
   ],
   "source": [
    "peak_turnstile_97_df.describe()"
   ]
  },
  {
   "cell_type": "code",
   "execution_count": 16,
   "metadata": {},
   "outputs": [
    {
     "data": {
      "text/html": [
       "<div>\n",
       "<style>\n",
       "    .dataframe thead tr:only-child th {\n",
       "        text-align: right;\n",
       "    }\n",
       "\n",
       "    .dataframe thead th {\n",
       "        text-align: left;\n",
       "    }\n",
       "\n",
       "    .dataframe tbody tr th {\n",
       "        vertical-align: top;\n",
       "    }\n",
       "</style>\n",
       "<table border=\"1\" class=\"dataframe\">\n",
       "  <thead>\n",
       "    <tr style=\"text-align: right;\">\n",
       "      <th></th>\n",
       "      <th>index</th>\n",
       "      <th>id</th>\n",
       "      <th>nviaje</th>\n",
       "      <th>diferencia_tiempo</th>\n",
       "      <th>diferencia_tiempo_secs</th>\n",
       "    </tr>\n",
       "  </thead>\n",
       "  <tbody>\n",
       "    <tr>\n",
       "      <th>count</th>\n",
       "      <td>3.791980e+05</td>\n",
       "      <td>3.791980e+05</td>\n",
       "      <td>379198.000000</td>\n",
       "      <td>379198</td>\n",
       "      <td>379198.000000</td>\n",
       "    </tr>\n",
       "    <tr>\n",
       "      <th>mean</th>\n",
       "      <td>1.197602e+06</td>\n",
       "      <td>1.898195e+09</td>\n",
       "      <td>1.638324</td>\n",
       "      <td>0 days 00:00:03.499570</td>\n",
       "      <td>3.499570</td>\n",
       "    </tr>\n",
       "    <tr>\n",
       "      <th>std</th>\n",
       "      <td>6.744314e+05</td>\n",
       "      <td>1.399160e+09</td>\n",
       "      <td>0.856263</td>\n",
       "      <td>0 days 00:00:03.442124</td>\n",
       "      <td>3.442124</td>\n",
       "    </tr>\n",
       "    <tr>\n",
       "      <th>min</th>\n",
       "      <td>4.000000e+00</td>\n",
       "      <td>1.092170e+06</td>\n",
       "      <td>1.000000</td>\n",
       "      <td>0 days 00:00:00</td>\n",
       "      <td>0.000000</td>\n",
       "    </tr>\n",
       "    <tr>\n",
       "      <th>25%</th>\n",
       "      <td>6.150778e+05</td>\n",
       "      <td>4.288512e+08</td>\n",
       "      <td>1.000000</td>\n",
       "      <td>0 days 00:00:02</td>\n",
       "      <td>2.000000</td>\n",
       "    </tr>\n",
       "    <tr>\n",
       "      <th>50%</th>\n",
       "      <td>1.198578e+06</td>\n",
       "      <td>2.037457e+09</td>\n",
       "      <td>1.000000</td>\n",
       "      <td>0 days 00:00:03</td>\n",
       "      <td>3.000000</td>\n",
       "    </tr>\n",
       "    <tr>\n",
       "      <th>75%</th>\n",
       "      <td>1.783058e+06</td>\n",
       "      <td>3.172209e+09</td>\n",
       "      <td>2.000000</td>\n",
       "      <td>0 days 00:00:04</td>\n",
       "      <td>4.000000</td>\n",
       "    </tr>\n",
       "    <tr>\n",
       "      <th>max</th>\n",
       "      <td>2.361308e+06</td>\n",
       "      <td>4.293295e+09</td>\n",
       "      <td>16.000000</td>\n",
       "      <td>0 days 00:00:24</td>\n",
       "      <td>24.000000</td>\n",
       "    </tr>\n",
       "  </tbody>\n",
       "</table>\n",
       "</div>"
      ],
      "text/plain": [
       "              index            id         nviaje       diferencia_tiempo  \\\n",
       "count  3.791980e+05  3.791980e+05  379198.000000                  379198   \n",
       "mean   1.197602e+06  1.898195e+09       1.638324  0 days 00:00:03.499570   \n",
       "std    6.744314e+05  1.399160e+09       0.856263  0 days 00:00:03.442124   \n",
       "min    4.000000e+00  1.092170e+06       1.000000         0 days 00:00:00   \n",
       "25%    6.150778e+05  4.288512e+08       1.000000         0 days 00:00:02   \n",
       "50%    1.198578e+06  2.037457e+09       1.000000         0 days 00:00:03   \n",
       "75%    1.783058e+06  3.172209e+09       2.000000         0 days 00:00:04   \n",
       "max    2.361308e+06  4.293295e+09      16.000000         0 days 00:00:24   \n",
       "\n",
       "       diferencia_tiempo_secs  \n",
       "count           379198.000000  \n",
       "mean                 3.499570  \n",
       "std                  3.442124  \n",
       "min                  0.000000  \n",
       "25%                  2.000000  \n",
       "50%                  3.000000  \n",
       "75%                  4.000000  \n",
       "max                 24.000000  "
      ]
     },
     "execution_count": 16,
     "metadata": {},
     "output_type": "execute_result"
    }
   ],
   "source": [
    "peak_no_turnstile_97_df.describe()"
   ]
  },
  {
   "cell_type": "markdown",
   "metadata": {},
   "source": [
    "* Plotting"
   ]
  },
  {
   "cell_type": "code",
   "execution_count": 17,
   "metadata": {
    "collapsed": true
   },
   "outputs": [],
   "source": [
    "colors = [(85,98,112),(78,205,196),(199,244,100),(255,107,107),(196,77,88)]\n",
    "for i in range(len(colors)):\n",
    "    r, g, b = colors[i]  \n",
    "    colors[i] = (r / 255., g / 255., b / 255.)"
   ]
  },
  {
   "cell_type": "code",
   "execution_count": 18,
   "metadata": {
    "collapsed": true
   },
   "outputs": [],
   "source": [
    "off_peak_turnstile_values = off_peak_turnstile_97_df.diferencia_tiempo_secs.values\n",
    "off_peak_no_turnstile_values = off_peak_no_turnstile_97_df.diferencia_tiempo_secs.values\n",
    "peak_turnstile_values = peak_turnstile_97_df.diferencia_tiempo_secs.values\n",
    "peak_no_turnstile_values = peak_no_turnstile_97_df.diferencia_tiempo_secs.values"
   ]
  },
  {
   "cell_type": "markdown",
   "metadata": {},
   "source": [
    "* OFF-PEAK: turns vs. without turns"
   ]
  },
  {
   "cell_type": "code",
   "execution_count": 19,
   "metadata": {
    "collapsed": true
   },
   "outputs": [],
   "source": [
    "off_peak_max_97 = max(off_peak_turnstile_97,off_peak_no_turnstile_97).total_seconds()\n",
    "bins = range(0,int(off_peak_max_97),1)"
   ]
  },
  {
   "cell_type": "code",
   "execution_count": 20,
   "metadata": {
    "scrolled": true
   },
   "outputs": [
    {
     "data": {
      "text/plain": [
       "<matplotlib.legend.Legend at 0x24b39ccbbe0>"
      ]
     },
     "execution_count": 20,
     "metadata": {},
     "output_type": "execute_result"
    },
    {
     "data": {
      "image/png": "[encoded data removed]",
      "text/plain": [
       "<matplotlib.figure.Figure at 0x24b48313940>"
      ]
     },
     "metadata": {},
     "output_type": "display_data"
    }
   ],
   "source": [
    "hist_fig, ax = plt.subplots()\n",
    "\n",
    "plot1 = ax.hist(off_peak_turnstile_values,normed=True,bins=bins,color=colors[4], alpha=0.8, label='off_peak - 2017 turnstiles')\n",
    "plot2 = ax.hist(off_peak_no_turnstile_values,normed=True,bins=bins,color=colors[0], alpha = 0.8, label='off_peak - no turnstiles')\n",
    "\n",
    "\n",
    "ax.set_title('Off-peak Time-interval between transactions (97th)')\n",
    "ax.set_xlabel('time-interval[s]')\n",
    "ax.set_ylabel('Relative Frequency')\n",
    "ax.legend()\n",
    "#plt.savefig('C:/Users/Tesista/Desktop/Evasion/03_report/02_Figs/5_OFFPEAK-2017-07-19.pdf')\n",
    "#plt.savefig('C:/Users/leoca_000/Desktop/Evasion/03_report/02_Figs/OFFPEAK-2017-03-01.pdf')"
   ]
  },
  {
   "cell_type": "markdown",
   "metadata": {},
   "source": [
    "* PEAK: turns vs. without turns"
   ]
  },
  {
   "cell_type": "code",
   "execution_count": 21,
   "metadata": {
    "collapsed": true
   },
   "outputs": [],
   "source": [
    "peak_max_97 = max(peak_turnstile_97,peak_no_turnstile_97).total_seconds()\n",
    "bins = range(0,int(peak_max_97),1)"
   ]
  },
  {
   "cell_type": "code",
   "execution_count": 22,
   "metadata": {},
   "outputs": [
    {
     "data": {
      "text/plain": [
       "<matplotlib.legend.Legend at 0x24b42c62940>"
      ]
     },
     "execution_count": 22,
     "metadata": {},
     "output_type": "execute_result"
    },
    {
     "data": {
      "image/png": "[encoded data removed]",
      "text/plain": [
       "<matplotlib.figure.Figure at 0x24b4a92c630>"
      ]
     },
     "metadata": {},
     "output_type": "display_data"
    }
   ],
   "source": [
    "hist_fig, ax = plt.subplots()\n",
    "\n",
    "plot1 = ax.hist(peak_turnstile_values,normed=True,bins=bins,color=colors[4], alpha=0.8, label='peak - 2017 turnstiles')\n",
    "plot2 = ax.hist(peak_no_turnstile_values,normed=True,bins=bins,color=colors[0], alpha = 0.8, label='peak - no turnstiles')\n",
    "\n",
    "\n",
    "ax.set_title('Peak Time-interval between transactions (97th)')\n",
    "ax.set_xlabel('time-interval[s]')\n",
    "ax.set_ylabel('Relative Frequency')\n",
    "ax.legend()\n",
    "#plt.savefig('C:/Users/Tesista/Desktop/Evasion/03_report/02_Figs/5_PEAK-2017-07-19.pdf')\n",
    "#plt.savefig('C:/Users/leoca_000/Desktop/Evasion/03_report/02_Figs/PEAK-2017-03-01.pdf')"
   ]
  },
  {
   "cell_type": "markdown",
   "metadata": {},
   "source": [
    "* TURNS: PEAK vs. OFF-PEAK"
   ]
  },
  {
   "cell_type": "code",
   "execution_count": 23,
   "metadata": {
    "collapsed": true
   },
   "outputs": [],
   "source": [
    "turns_max_97 = max(off_peak_turnstile_97,peak_turnstile_97).total_seconds()\n",
    "bins = range(0,int(turns_max_97),1)"
   ]
  },
  {
   "cell_type": "code",
   "execution_count": 24,
   "metadata": {},
   "outputs": [
    {
     "data": {
      "text/plain": [
       "<matplotlib.legend.Legend at 0x24b4204ef60>"
      ]
     },
     "execution_count": 24,
     "metadata": {},
     "output_type": "execute_result"
    },
    {
     "data": {
      "image/png": "[encoded data removed]",
      "text/plain": [
       "<matplotlib.figure.Figure at 0x24b3eba6f98>"
      ]
     },
     "metadata": {},
     "output_type": "display_data"
    }
   ],
   "source": [
    "hist_fig, ax = plt.subplots()\n",
    "\n",
    "plot2 = ax.hist(peak_turnstile_values,normed=True,bins=bins,color=colors[4], alpha = 0.5, label='peak - 2017 turnstiles')\n",
    "plot1 = ax.hist(off_peak_turnstile_values,normed=True,bins=bins,color=colors[0], alpha=0.5, label='off_peak - 2017 turnstiles')\n",
    "\n",
    "\n",
    "\n",
    "ax.set_title('Turnstiles Time-interval between transactions (97th)')\n",
    "ax.set_xlabel('time-interval[s]')\n",
    "ax.set_ylabel('Relative Frequency')\n",
    "ax.legend()\n",
    "#plt.savefig('C:/Users/Tesista/Desktop/Evasion/03_report/02_Figs/5_turnstiles_peakoffpeak-2017-07-19.pdf')\n",
    "#plt.savefig('C:/Users/leoca_000/Desktop/Evasion/03_report/02_Figs/turnstiles_peakoffpeak-2017-03-01.pdf')"
   ]
  },
  {
   "cell_type": "markdown",
   "metadata": {},
   "source": [
    "* NO-TURNS: PEAK VS. OFF-PEAK"
   ]
  },
  {
   "cell_type": "code",
   "execution_count": 25,
   "metadata": {
    "collapsed": true
   },
   "outputs": [],
   "source": [
    "no_turns_max_97 = max(off_peak_no_turnstile_97,peak_no_turnstile_97).total_seconds()\n",
    "bins = range(0,int(no_turns_max_97),1)"
   ]
  },
  {
   "cell_type": "code",
   "execution_count": 26,
   "metadata": {},
   "outputs": [
    {
     "data": {
      "text/plain": [
       "<matplotlib.legend.Legend at 0x24b42c97860>"
      ]
     },
     "execution_count": 26,
     "metadata": {},
     "output_type": "execute_result"
    },
    {
     "data": {
      "image/png": "[encoded data removed]",
      "text/plain": [
       "<matplotlib.figure.Figure at 0x24b4c1abd68>"
      ]
     },
     "metadata": {},
     "output_type": "display_data"
    }
   ],
   "source": [
    "hist_fig, ax = plt.subplots()\n",
    "\n",
    "plot1 = ax.hist(off_peak_no_turnstile_values,normed=True,bins=bins,color=colors[4], alpha=0.5, label='off_peak - no turnstiles')\n",
    "plot2 = ax.hist(peak_no_turnstile_values,normed=True,bins=bins,color=colors[0], alpha = 0.5, label='peak - no turnstiles')\n",
    "\n",
    "\n",
    "ax.set_title('No turnstiles Time-interval between transactions (97th)')\n",
    "ax.set_xlabel('time-interval[s]')\n",
    "ax.set_ylabel('Relative Frequency')\n",
    "ax.legend()\n",
    "#plt.savefig('C:/Users/Tesista/Desktop/Evasion/03_report/02_Figs/5_no-turnstiles_peakoffpeak-2017-07-19.pdf')\n",
    "#plt.savefig('C:/Users/leoca_000/Desktop/Evasion/03_report/02_Figs/no-turnstiles_peakoffpeak-2017-03-01.pdf')"
   ]
  },
  {
   "cell_type": "code",
   "execution_count": 27,
   "metadata": {
    "collapsed": true
   },
   "outputs": [],
   "source": [
    "import scipy as sp\n",
    "import scipy.stats\n",
    "\n",
    "def mean_confidence_interval(data, confidence=0.95):\n",
    "    a = 1.0*np.array(data)\n",
    "    n = len(a)\n",
    "    m, se = np.mean(a), scipy.stats.sem(a)\n",
    "    h = se * sp.stats.t.ppf((1+confidence)/2., n-1)\n",
    "    return h, m-h, m, m+h"
   ]
  },
  {
   "cell_type": "code",
   "execution_count": 28,
   "metadata": {},
   "outputs": [
    {
     "data": {
      "text/plain": [
       "(0.0251457108839328,\n",
       " 6.0062986240167202,\n",
       " 6.0314443349006526,\n",
       " 6.0565900457845849)"
      ]
     },
     "execution_count": 28,
     "metadata": {},
     "output_type": "execute_result"
    }
   ],
   "source": [
    "mean_confidence_interval(off_peak_turnstile_97_df['diferencia_tiempo_secs'])"
   ]
  },
  {
   "cell_type": "code",
   "execution_count": 29,
   "metadata": {},
   "outputs": [
    {
     "data": {
      "text/plain": [
       "(0.0096831319930447864,\n",
       " 3.7354922421738124,\n",
       " 3.7451753741668572,\n",
       " 3.754858506159902)"
      ]
     },
     "execution_count": 29,
     "metadata": {},
     "output_type": "execute_result"
    }
   ],
   "source": [
    "mean_confidence_interval(off_peak_no_turnstile_97_df['diferencia_tiempo_secs'])"
   ]
  },
  {
   "cell_type": "code",
   "execution_count": 30,
   "metadata": {},
   "outputs": [
    {
     "data": {
      "text/plain": [
       "(0.027261109924063016,\n",
       " 5.4745625330710022,\n",
       " 5.5018236429950651,\n",
       " 5.529084752919128)"
      ]
     },
     "execution_count": 30,
     "metadata": {},
     "output_type": "execute_result"
    }
   ],
   "source": [
    "mean_confidence_interval(peak_turnstile_97_df['diferencia_tiempo_secs'])"
   ]
  },
  {
   "cell_type": "code",
   "execution_count": 31,
   "metadata": {},
   "outputs": [
    {
     "data": {
      "text/plain": [
       "(0.010955772632077986,\n",
       " 3.4886143727800816,\n",
       " 3.4995701454121595,\n",
       " 3.5105259180442374)"
      ]
     },
     "execution_count": 31,
     "metadata": {},
     "output_type": "execute_result"
    }
   ],
   "source": [
    "mean_confidence_interval(peak_no_turnstile_97_df['diferencia_tiempo_secs'])"
   ]
  },
  {
   "cell_type": "markdown",
   "metadata": {
    "collapsed": true
   },
   "source": [
    "### Closed"
   ]
  }
 ],
 "metadata": {
  "kernelspec": {
   "display_name": "Python 3",
   "language": "python",
   "name": "python3"
  },
  "language_info": {
   "codemirror_mode": {
    "name": "ipython",
    "version": 3
   },
   "file_extension": ".py",
   "mimetype": "text/x-python",
   "name": "python",
   "nbconvert_exporter": "python",
   "pygments_lexer": "ipython3",
   "version": "3.6.1"
  }
 },
 "nbformat": 4,
 "nbformat_minor": 2
}
