{
 "cells": [
  {
   "cell_type": "markdown",
   "metadata": {},
   "source": [
    "# Building (Peak vs. Off Peak) Histograms"
   ]
  },
  {
   "cell_type": "markdown",
   "metadata": {},
   "source": [
    "### How to run this notebook:\n",
    "* Give date and type of vehicle as arguments\n",
    "* If simplified etapas file does not exist, then run RunDailyEtapasBuilder.runSimplifyEtapas(). If it already exists, then omit it\n",
    "* If simplified perfiles file does not exist, then run RunDailyEtapasBuilder.runSimplifyPerfiles(). If it already exists, then omit it. TODO: This is not (yet) needed"
   ]
  },
  {
   "cell_type": "markdown",
   "metadata": {},
   "source": [
    "Run the builder in this order:\n",
    "1. etapas_df = RunDailyEtapasBuilder.loadSimplifiedEtapas()\n",
    "2. merged_df = RunDailyEtapasBuilder.includeTorniquetesDate(etapas_df)\n",
    "3. clean_df = RunDailyEtapasBuilder.cleanDataFrame(merged_df)\n",
    "4. sorted_df = RunDailyEtapasBuilder.sortDataFrame(clean_df)"
   ]
  },
  {
   "cell_type": "code",
   "execution_count": 1,
   "metadata": {
    "collapsed": true,
    "scrolled": true
   },
   "outputs": [],
   "source": [
    "%matplotlib inline\n",
    "import pandas as pd\n",
    "import matplotlib\n",
    "import matplotlib.pyplot as plt\n",
    "import numpy as np\n",
    "from importlib import reload\n",
    "import datetime as dt"
   ]
  },
  {
   "cell_type": "code",
   "execution_count": 2,
   "metadata": {},
   "outputs": [
    {
     "name": "stdout",
     "output_type": "stream",
     "text": [
      "Enter the date to analyze: 2017-03-01\n",
      "Enter the vehicle to analyze: BUS\n",
      "Consider ZP in perfiles file (0/1)?: 0\n"
     ]
    }
   ],
   "source": [
    "import RunDailyEtapasBuilder"
   ]
  },
  {
   "cell_type": "markdown",
   "metadata": {},
   "source": [
    "* Running the builder of the dataframe"
   ]
  },
  {
   "cell_type": "code",
   "execution_count": 3,
   "metadata": {},
   "outputs": [
    {
     "name": "stdout",
     "output_type": "stream",
     "text": [
      "Not found in turnstile database: 1614656\n"
     ]
    }
   ],
   "source": [
    "#RunDailyEtapasBuilder.runSimplifyEtapas()\n",
    "etapas_df = RunDailyEtapasBuilder.loadSimplifiedEtapas()\n",
    "merged_df = RunDailyEtapasBuilder.mergeTurnstileData(etapas_df)\n",
    "clean_df = RunDailyEtapasBuilder.cleanDataFrame(merged_df)\n",
    "sorted_df = RunDailyEtapasBuilder.sortDataFrame(clean_df)\n",
    "sorted_df = sorted_df.reset_index()"
   ]
  },
  {
   "cell_type": "markdown",
   "metadata": {},
   "source": [
    "* Counting."
   ]
  },
  {
   "cell_type": "code",
   "execution_count": 4,
   "metadata": {},
   "outputs": [
    {
     "name": "stdout",
     "output_type": "stream",
     "text": [
      "2329229\n",
      "2329229\n",
      "2210399\n",
      "2210399\n"
     ]
    }
   ],
   "source": [
    "print(etapas_df['id'].count())\n",
    "print(merged_df['id'].count())\n",
    "print(clean_df['id'].count())\n",
    "print(sorted_df['id'].count())"
   ]
  },
  {
   "cell_type": "markdown",
   "metadata": {},
   "source": [
    "* Adding necessary attributes"
   ]
  },
  {
   "cell_type": "code",
   "execution_count": 5,
   "metadata": {
    "collapsed": true
   },
   "outputs": [],
   "source": [
    "sorted_df['mismo_paradero'] = (sorted_df['par_subida']==sorted_df['par_subida'].shift()).fillna(False)\n",
    "sorted_df['misma_patente'] = (sorted_df['sitio_subida']==sorted_df['sitio_subida'].shift()).fillna(False)\n",
    "sorted_df['mismo_servicio'] = (sorted_df['servicio_subida']==sorted_df['servicio_subida'].shift()).fillna(False)\n",
    "\n",
    "sorted_df.loc[(sorted_df.mismo_servicio == True) & (sorted_df.mismo_paradero == True) & (sorted_df.misma_patente == True), 'diferencia_tiempo'] = (sorted_df['t_subida']-sorted_df['t_subida'].shift())\n",
    "\n",
    "sorted_df['diferencia_tiempo_secs'] = sorted_df['diferencia_tiempo'].dt.total_seconds()\n",
    "sorted_df['si_torniquete'] = (sorted_df['fecha_instalacion']<=sorted_df['t_subida'])\n",
    "sorted_df['si_2017_torniquete'] = ((sorted_df['fecha_instalacion']<=sorted_df['t_subida'])&(sorted_df['fecha_instalacion']>=pd.to_datetime('2017-01-01')))"
   ]
  },
  {
   "cell_type": "markdown",
   "metadata": {},
   "source": [
    "* Filtering by mismo_paradero, misma_patente and by si_torniquete. This is a key part"
   ]
  },
  {
   "cell_type": "code",
   "execution_count": 6,
   "metadata": {
    "collapsed": true
   },
   "outputs": [],
   "source": [
    "filtered_df = sorted_df[(sorted_df.mismo_servicio==True) & (sorted_df.mismo_paradero==True) & (sorted_df.misma_patente==True)]\n",
    "filtered_turnstile_df = filtered_df[filtered_df.si_2017_torniquete==True]\n",
    "filtered_no_turnstile_df = filtered_df[filtered_df.si_torniquete==False]"
   ]
  },
  {
   "cell_type": "markdown",
   "metadata": {},
   "source": [
    "* Counting and checking"
   ]
  },
  {
   "cell_type": "code",
   "execution_count": 7,
   "metadata": {
    "scrolled": true
   },
   "outputs": [
    {
     "name": "stdout",
     "output_type": "stream",
     "text": [
      "1380689\n",
      "285058\n",
      "1095631\n",
      "1380689\n"
     ]
    }
   ],
   "source": [
    "print(filtered_df['id'].count())\n",
    "print(filtered_turnstile_df['id'].count())\n",
    "print(filtered_no_turnstile_df['id'].count())\n",
    "checking = filtered_turnstile_df['id'].count() + filtered_no_turnstile_df['id'].count()\n",
    "print(checking)"
   ]
  },
  {
   "cell_type": "markdown",
   "metadata": {},
   "source": [
    "* Getting rid of unecessary dataframes"
   ]
  },
  {
   "cell_type": "code",
   "execution_count": 8,
   "metadata": {
    "collapsed": true,
    "scrolled": false
   },
   "outputs": [],
   "source": [
    "del etapas_df\n",
    "del merged_df\n",
    "del clean_df"
   ]
  },
  {
   "cell_type": "markdown",
   "metadata": {},
   "source": [
    "* Filtering by period (peak vs. off-peak). In this case, peak is PMA + PTA"
   ]
  },
  {
   "cell_type": "code",
   "execution_count": 9,
   "metadata": {
    "collapsed": true
   },
   "outputs": [],
   "source": [
    "off_peak_start_1 = dt.time(0,0,0)\n",
    "off_peak_end_1 = dt.time(6,29,0)\n",
    "\n",
    "peak_start_1 = dt.time(6,30,0)\n",
    "peak_end_1 = dt.time(8,29,0)\n",
    "\n",
    "off_peak_start_2 = dt.time(8,30,0)\n",
    "off_peak_end_2 = dt.time(17,29,0)\n",
    "\n",
    "peak_start_2 = dt.time(17,30,0)\n",
    "peak_end_2 = dt.time(20,29,0)\n",
    "\n",
    "off_peak_start_3 = dt.time(20,30,0)\n",
    "off_peak_end_3 = dt.time(23,59,0)"
   ]
  },
  {
   "cell_type": "markdown",
   "metadata": {},
   "source": [
    "* TODO: Consider reducing this"
   ]
  },
  {
   "cell_type": "code",
   "execution_count": 10,
   "metadata": {
    "collapsed": true
   },
   "outputs": [],
   "source": [
    "off_peak_turnstile_df = filtered_turnstile_df[((off_peak_start_1<=filtered_turnstile_df['t_subida'].dt.time)\n",
    "                                               & (filtered_turnstile_df['t_subida'].dt.time<=off_peak_end_1))\n",
    "                                               | ((off_peak_start_2<=filtered_turnstile_df['t_subida'].dt.time)\n",
    "                                               & (filtered_turnstile_df['t_subida'].dt.time<=off_peak_end_2))\n",
    "                                               | ((off_peak_start_3<=filtered_turnstile_df['t_subida'].dt.time)\n",
    "                                               & (filtered_turnstile_df['t_subida'].dt.time<=off_peak_end_3))]\n",
    "\n",
    "off_peak_no_turnstile_df = filtered_no_turnstile_df[((off_peak_start_1<=filtered_no_turnstile_df['t_subida'].dt.time)\n",
    "                                               & (filtered_no_turnstile_df['t_subida'].dt.time<=off_peak_end_1))\n",
    "                                               | ((off_peak_start_2<=filtered_no_turnstile_df['t_subida'].dt.time)\n",
    "                                               & (filtered_no_turnstile_df['t_subida'].dt.time<=off_peak_end_2))\n",
    "                                               | ((off_peak_start_3<=filtered_no_turnstile_df['t_subida'].dt.time)\n",
    "                                               & (filtered_no_turnstile_df['t_subida'].dt.time<=off_peak_end_3))]\n",
    "\n",
    "peak_turnstile_df = filtered_turnstile_df[((peak_start_1<=filtered_turnstile_df['t_subida'].dt.time)\n",
    "                                           & (filtered_turnstile_df['t_subida'].dt.time<=peak_end_1))\n",
    "                                           | ((peak_start_2<=filtered_turnstile_df['t_subida'].dt.time)\n",
    "                                           & (filtered_turnstile_df['t_subida'].dt.time<=peak_end_2))]\n",
    "\n",
    "peak_no_turnstile_df = filtered_no_turnstile_df[((peak_start_1<=filtered_no_turnstile_df['t_subida'].dt.time)\n",
    "                                           & (filtered_no_turnstile_df['t_subida'].dt.time<=peak_end_1))\n",
    "                                           | ((peak_start_2<=filtered_no_turnstile_df['t_subida'].dt.time)\n",
    "                                           & (filtered_no_turnstile_df['t_subida'].dt.time<=peak_end_2))]"
   ]
  },
  {
   "cell_type": "markdown",
   "metadata": {},
   "source": [
    "* TODO: Currently, there are rows with extremely high values for the 'diferencia_tiempo' attribute (e.g. >=25 mins). This should be fixed considering the idExpedicion attribute present in the corresponding 'perfiles' database. The following graphs and descriptive statistics consider only the 95th percentile for the 'diferencia_tiempo_secs' attribute. "
   ]
  },
  {
   "cell_type": "code",
   "execution_count": 11,
   "metadata": {},
   "outputs": [
    {
     "name": "stdout",
     "output_type": "stream",
     "text": [
      "Percentile 95th for off_peak_turnstile database is: 0 days 00:00:37\n",
      "Percentile 95th for off_peak_no_turnstile database is: 0 days 00:00:34\n",
      "Percentile 95th for peak_turnstile database is: 0 days 00:00:18\n",
      "Percentile 95th for peak_no_turnstile database is: 0 days 00:00:14\n"
     ]
    }
   ],
   "source": [
    "off_peak_turnstile_95 = off_peak_turnstile_df.diferencia_tiempo.quantile(0.95)\n",
    "print ('Percentile 95th for off_peak_turnstile database is: ' + str(off_peak_turnstile_95))\n",
    "off_peak_no_turnstile_95 = off_peak_no_turnstile_df.diferencia_tiempo.quantile(0.95)\n",
    "print ('Percentile 95th for off_peak_no_turnstile database is: ' + str(off_peak_no_turnstile_95))\n",
    "peak_turnstile_95 = peak_turnstile_df.diferencia_tiempo.quantile(0.95)\n",
    "print ('Percentile 95th for peak_turnstile database is: ' + str(peak_turnstile_95))\n",
    "peak_no_turnstile_95 = peak_no_turnstile_df.diferencia_tiempo.quantile(0.95)\n",
    "print ('Percentile 95th for peak_no_turnstile database is: ' + str(peak_no_turnstile_95))"
   ]
  },
  {
   "cell_type": "markdown",
   "metadata": {},
   "source": [
    "### Filtering by diferencia_tiempo<=95th percentile in the corresponding databases. BE AWARE."
   ]
  },
  {
   "cell_type": "code",
   "execution_count": 12,
   "metadata": {
    "collapsed": true
   },
   "outputs": [],
   "source": [
    "off_peak_turnstile_95_df = off_peak_turnstile_df[off_peak_turnstile_df.diferencia_tiempo<=off_peak_turnstile_95]\n",
    "off_peak_no_turnstile_95_df = off_peak_no_turnstile_df[off_peak_no_turnstile_df.diferencia_tiempo<=off_peak_no_turnstile_95]\n",
    "peak_turnstile_95_df = peak_turnstile_df[peak_turnstile_df.diferencia_tiempo<=peak_turnstile_95]\n",
    "peak_no_turnstile_95_df = peak_no_turnstile_df[peak_no_turnstile_df.diferencia_tiempo<=peak_no_turnstile_95]"
   ]
  },
  {
   "cell_type": "code",
   "execution_count": 13,
   "metadata": {
    "scrolled": false
   },
   "outputs": [
    {
     "data": {
      "text/html": [
       "<div>\n",
       "<style>\n",
       "    .dataframe thead tr:only-child th {\n",
       "        text-align: right;\n",
       "    }\n",
       "\n",
       "    .dataframe thead th {\n",
       "        text-align: left;\n",
       "    }\n",
       "\n",
       "    .dataframe tbody tr th {\n",
       "        vertical-align: top;\n",
       "    }\n",
       "</style>\n",
       "<table border=\"1\" class=\"dataframe\">\n",
       "  <thead>\n",
       "    <tr style=\"text-align: right;\">\n",
       "      <th></th>\n",
       "      <th>id</th>\n",
       "      <th>nviaje</th>\n",
       "      <th>diferencia_tiempo</th>\n",
       "      <th>diferencia_tiempo_secs</th>\n",
       "    </tr>\n",
       "  </thead>\n",
       "  <tbody>\n",
       "    <tr>\n",
       "      <th>count</th>\n",
       "      <td>1.526250e+05</td>\n",
       "      <td>152625.000000</td>\n",
       "      <td>152625</td>\n",
       "      <td>152625.000000</td>\n",
       "    </tr>\n",
       "    <tr>\n",
       "      <th>mean</th>\n",
       "      <td>2.233818e+09</td>\n",
       "      <td>1.621694</td>\n",
       "      <td>0 days 00:00:06.380992</td>\n",
       "      <td>6.380993</td>\n",
       "    </tr>\n",
       "    <tr>\n",
       "      <th>std</th>\n",
       "      <td>1.301929e+09</td>\n",
       "      <td>0.869182</td>\n",
       "      <td>0 days 00:00:05.550668</td>\n",
       "      <td>5.550668</td>\n",
       "    </tr>\n",
       "    <tr>\n",
       "      <th>min</th>\n",
       "      <td>1.163146e+06</td>\n",
       "      <td>1.000000</td>\n",
       "      <td>0 days 00:00:00</td>\n",
       "      <td>0.000000</td>\n",
       "    </tr>\n",
       "    <tr>\n",
       "      <th>25%</th>\n",
       "      <td>9.343192e+08</td>\n",
       "      <td>1.000000</td>\n",
       "      <td>0 days 00:00:03</td>\n",
       "      <td>3.000000</td>\n",
       "    </tr>\n",
       "    <tr>\n",
       "      <th>50%</th>\n",
       "      <td>2.511968e+09</td>\n",
       "      <td>1.000000</td>\n",
       "      <td>0 days 00:00:05</td>\n",
       "      <td>5.000000</td>\n",
       "    </tr>\n",
       "    <tr>\n",
       "      <th>75%</th>\n",
       "      <td>3.324415e+09</td>\n",
       "      <td>2.000000</td>\n",
       "      <td>0 days 00:00:07</td>\n",
       "      <td>7.000000</td>\n",
       "    </tr>\n",
       "    <tr>\n",
       "      <th>max</th>\n",
       "      <td>4.293306e+09</td>\n",
       "      <td>14.000000</td>\n",
       "      <td>0 days 00:00:37</td>\n",
       "      <td>37.000000</td>\n",
       "    </tr>\n",
       "  </tbody>\n",
       "</table>\n",
       "</div>"
      ],
      "text/plain": [
       "                 id         nviaje       diferencia_tiempo  \\\n",
       "count  1.526250e+05  152625.000000                  152625   \n",
       "mean   2.233818e+09       1.621694  0 days 00:00:06.380992   \n",
       "std    1.301929e+09       0.869182  0 days 00:00:05.550668   \n",
       "min    1.163146e+06       1.000000         0 days 00:00:00   \n",
       "25%    9.343192e+08       1.000000         0 days 00:00:03   \n",
       "50%    2.511968e+09       1.000000         0 days 00:00:05   \n",
       "75%    3.324415e+09       2.000000         0 days 00:00:07   \n",
       "max    4.293306e+09      14.000000         0 days 00:00:37   \n",
       "\n",
       "       diferencia_tiempo_secs  \n",
       "count           152625.000000  \n",
       "mean                 6.380993  \n",
       "std                  5.550668  \n",
       "min                  0.000000  \n",
       "25%                  3.000000  \n",
       "50%                  5.000000  \n",
       "75%                  7.000000  \n",
       "max                 37.000000  "
      ]
     },
     "execution_count": 13,
     "metadata": {},
     "output_type": "execute_result"
    }
   ],
   "source": [
    "off_peak_turnstile_95_df.describe()"
   ]
  },
  {
   "cell_type": "code",
   "execution_count": 14,
   "metadata": {
    "scrolled": true
   },
   "outputs": [
    {
     "data": {
      "text/html": [
       "<div>\n",
       "<style>\n",
       "    .dataframe thead tr:only-child th {\n",
       "        text-align: right;\n",
       "    }\n",
       "\n",
       "    .dataframe thead th {\n",
       "        text-align: left;\n",
       "    }\n",
       "\n",
       "    .dataframe tbody tr th {\n",
       "        vertical-align: top;\n",
       "    }\n",
       "</style>\n",
       "<table border=\"1\" class=\"dataframe\">\n",
       "  <thead>\n",
       "    <tr style=\"text-align: right;\">\n",
       "      <th></th>\n",
       "      <th>id</th>\n",
       "      <th>nviaje</th>\n",
       "      <th>diferencia_tiempo</th>\n",
       "      <th>diferencia_tiempo_secs</th>\n",
       "    </tr>\n",
       "  </thead>\n",
       "  <tbody>\n",
       "    <tr>\n",
       "      <th>count</th>\n",
       "      <td>6.023520e+05</td>\n",
       "      <td>602352.000000</td>\n",
       "      <td>602352</td>\n",
       "      <td>602352.000000</td>\n",
       "    </tr>\n",
       "    <tr>\n",
       "      <th>mean</th>\n",
       "      <td>2.240192e+09</td>\n",
       "      <td>1.668636</td>\n",
       "      <td>0 days 00:00:03.864311</td>\n",
       "      <td>3.864312</td>\n",
       "    </tr>\n",
       "    <tr>\n",
       "      <th>std</th>\n",
       "      <td>1.296937e+09</td>\n",
       "      <td>0.881052</td>\n",
       "      <td>0 days 00:00:04.638541</td>\n",
       "      <td>4.638542</td>\n",
       "    </tr>\n",
       "    <tr>\n",
       "      <th>min</th>\n",
       "      <td>5.454520e+05</td>\n",
       "      <td>1.000000</td>\n",
       "      <td>0 days 00:00:00</td>\n",
       "      <td>0.000000</td>\n",
       "    </tr>\n",
       "    <tr>\n",
       "      <th>25%</th>\n",
       "      <td>9.344133e+08</td>\n",
       "      <td>1.000000</td>\n",
       "      <td>0 days 00:00:02</td>\n",
       "      <td>2.000000</td>\n",
       "    </tr>\n",
       "    <tr>\n",
       "      <th>50%</th>\n",
       "      <td>2.511595e+09</td>\n",
       "      <td>1.000000</td>\n",
       "      <td>0 days 00:00:03</td>\n",
       "      <td>3.000000</td>\n",
       "    </tr>\n",
       "    <tr>\n",
       "      <th>75%</th>\n",
       "      <td>3.335809e+09</td>\n",
       "      <td>2.000000</td>\n",
       "      <td>0 days 00:00:04</td>\n",
       "      <td>4.000000</td>\n",
       "    </tr>\n",
       "    <tr>\n",
       "      <th>max</th>\n",
       "      <td>4.293302e+09</td>\n",
       "      <td>17.000000</td>\n",
       "      <td>0 days 00:00:34</td>\n",
       "      <td>34.000000</td>\n",
       "    </tr>\n",
       "  </tbody>\n",
       "</table>\n",
       "</div>"
      ],
      "text/plain": [
       "                 id         nviaje       diferencia_tiempo  \\\n",
       "count  6.023520e+05  602352.000000                  602352   \n",
       "mean   2.240192e+09       1.668636  0 days 00:00:03.864311   \n",
       "std    1.296937e+09       0.881052  0 days 00:00:04.638541   \n",
       "min    5.454520e+05       1.000000         0 days 00:00:00   \n",
       "25%    9.344133e+08       1.000000         0 days 00:00:02   \n",
       "50%    2.511595e+09       1.000000         0 days 00:00:03   \n",
       "75%    3.335809e+09       2.000000         0 days 00:00:04   \n",
       "max    4.293302e+09      17.000000         0 days 00:00:34   \n",
       "\n",
       "       diferencia_tiempo_secs  \n",
       "count           602352.000000  \n",
       "mean                 3.864312  \n",
       "std                  4.638542  \n",
       "min                  0.000000  \n",
       "25%                  2.000000  \n",
       "50%                  3.000000  \n",
       "75%                  4.000000  \n",
       "max                 34.000000  "
      ]
     },
     "execution_count": 14,
     "metadata": {},
     "output_type": "execute_result"
    }
   ],
   "source": [
    "off_peak_no_turnstile_95_df.describe()"
   ]
  },
  {
   "cell_type": "code",
   "execution_count": 15,
   "metadata": {},
   "outputs": [
    {
     "data": {
      "text/html": [
       "<div>\n",
       "<style>\n",
       "    .dataframe thead tr:only-child th {\n",
       "        text-align: right;\n",
       "    }\n",
       "\n",
       "    .dataframe thead th {\n",
       "        text-align: left;\n",
       "    }\n",
       "\n",
       "    .dataframe tbody tr th {\n",
       "        vertical-align: top;\n",
       "    }\n",
       "</style>\n",
       "<table border=\"1\" class=\"dataframe\">\n",
       "  <thead>\n",
       "    <tr style=\"text-align: right;\">\n",
       "      <th></th>\n",
       "      <th>id</th>\n",
       "      <th>nviaje</th>\n",
       "      <th>diferencia_tiempo</th>\n",
       "      <th>diferencia_tiempo_secs</th>\n",
       "    </tr>\n",
       "  </thead>\n",
       "  <tbody>\n",
       "    <tr>\n",
       "      <th>count</th>\n",
       "      <td>1.169870e+05</td>\n",
       "      <td>116987.000000</td>\n",
       "      <td>116987</td>\n",
       "      <td>116987.000000</td>\n",
       "    </tr>\n",
       "    <tr>\n",
       "      <th>mean</th>\n",
       "      <td>2.251029e+09</td>\n",
       "      <td>1.530025</td>\n",
       "      <td>0 days 00:00:05.090232</td>\n",
       "      <td>5.090232</td>\n",
       "    </tr>\n",
       "    <tr>\n",
       "      <th>std</th>\n",
       "      <td>1.295742e+09</td>\n",
       "      <td>0.808356</td>\n",
       "      <td>0 days 00:00:03.054614</td>\n",
       "      <td>3.054614</td>\n",
       "    </tr>\n",
       "    <tr>\n",
       "      <th>min</th>\n",
       "      <td>1.163274e+06</td>\n",
       "      <td>1.000000</td>\n",
       "      <td>0 days 00:00:00</td>\n",
       "      <td>0.000000</td>\n",
       "    </tr>\n",
       "    <tr>\n",
       "      <th>25%</th>\n",
       "      <td>9.510820e+08</td>\n",
       "      <td>1.000000</td>\n",
       "      <td>0 days 00:00:03</td>\n",
       "      <td>3.000000</td>\n",
       "    </tr>\n",
       "    <tr>\n",
       "      <th>50%</th>\n",
       "      <td>2.514967e+09</td>\n",
       "      <td>1.000000</td>\n",
       "      <td>0 days 00:00:04</td>\n",
       "      <td>4.000000</td>\n",
       "    </tr>\n",
       "    <tr>\n",
       "      <th>75%</th>\n",
       "      <td>3.438726e+09</td>\n",
       "      <td>2.000000</td>\n",
       "      <td>0 days 00:00:06</td>\n",
       "      <td>6.000000</td>\n",
       "    </tr>\n",
       "    <tr>\n",
       "      <th>max</th>\n",
       "      <td>4.293259e+09</td>\n",
       "      <td>14.000000</td>\n",
       "      <td>0 days 00:00:18</td>\n",
       "      <td>18.000000</td>\n",
       "    </tr>\n",
       "  </tbody>\n",
       "</table>\n",
       "</div>"
      ],
      "text/plain": [
       "                 id         nviaje       diferencia_tiempo  \\\n",
       "count  1.169870e+05  116987.000000                  116987   \n",
       "mean   2.251029e+09       1.530025  0 days 00:00:05.090232   \n",
       "std    1.295742e+09       0.808356  0 days 00:00:03.054614   \n",
       "min    1.163274e+06       1.000000         0 days 00:00:00   \n",
       "25%    9.510820e+08       1.000000         0 days 00:00:03   \n",
       "50%    2.514967e+09       1.000000         0 days 00:00:04   \n",
       "75%    3.438726e+09       2.000000         0 days 00:00:06   \n",
       "max    4.293259e+09      14.000000         0 days 00:00:18   \n",
       "\n",
       "       diferencia_tiempo_secs  \n",
       "count           116987.000000  \n",
       "mean                 5.090232  \n",
       "std                  3.054614  \n",
       "min                  0.000000  \n",
       "25%                  3.000000  \n",
       "50%                  4.000000  \n",
       "75%                  6.000000  \n",
       "max                 18.000000  "
      ]
     },
     "execution_count": 15,
     "metadata": {},
     "output_type": "execute_result"
    }
   ],
   "source": [
    "peak_turnstile_95_df.describe()"
   ]
  },
  {
   "cell_type": "code",
   "execution_count": 16,
   "metadata": {},
   "outputs": [
    {
     "data": {
      "text/html": [
       "<div>\n",
       "<style>\n",
       "    .dataframe thead tr:only-child th {\n",
       "        text-align: right;\n",
       "    }\n",
       "\n",
       "    .dataframe thead th {\n",
       "        text-align: left;\n",
       "    }\n",
       "\n",
       "    .dataframe tbody tr th {\n",
       "        vertical-align: top;\n",
       "    }\n",
       "</style>\n",
       "<table border=\"1\" class=\"dataframe\">\n",
       "  <thead>\n",
       "    <tr style=\"text-align: right;\">\n",
       "      <th></th>\n",
       "      <th>id</th>\n",
       "      <th>nviaje</th>\n",
       "      <th>diferencia_tiempo</th>\n",
       "      <th>diferencia_tiempo_secs</th>\n",
       "    </tr>\n",
       "  </thead>\n",
       "  <tbody>\n",
       "    <tr>\n",
       "      <th>count</th>\n",
       "      <td>4.348510e+05</td>\n",
       "      <td>434851.000000</td>\n",
       "      <td>434851</td>\n",
       "      <td>434851.000000</td>\n",
       "    </tr>\n",
       "    <tr>\n",
       "      <th>mean</th>\n",
       "      <td>2.268371e+09</td>\n",
       "      <td>1.597004</td>\n",
       "      <td>0 days 00:00:02.907993</td>\n",
       "      <td>2.907994</td>\n",
       "    </tr>\n",
       "    <tr>\n",
       "      <th>std</th>\n",
       "      <td>1.290824e+09</td>\n",
       "      <td>0.833181</td>\n",
       "      <td>0 days 00:00:02.350701</td>\n",
       "      <td>2.350702</td>\n",
       "    </tr>\n",
       "    <tr>\n",
       "      <th>min</th>\n",
       "      <td>1.092170e+06</td>\n",
       "      <td>1.000000</td>\n",
       "      <td>0 days 00:00:00</td>\n",
       "      <td>0.000000</td>\n",
       "    </tr>\n",
       "    <tr>\n",
       "      <th>25%</th>\n",
       "      <td>1.086861e+09</td>\n",
       "      <td>1.000000</td>\n",
       "      <td>0 days 00:00:02</td>\n",
       "      <td>2.000000</td>\n",
       "    </tr>\n",
       "    <tr>\n",
       "      <th>50%</th>\n",
       "      <td>2.515384e+09</td>\n",
       "      <td>1.000000</td>\n",
       "      <td>0 days 00:00:02</td>\n",
       "      <td>2.000000</td>\n",
       "    </tr>\n",
       "    <tr>\n",
       "      <th>75%</th>\n",
       "      <td>3.460569e+09</td>\n",
       "      <td>2.000000</td>\n",
       "      <td>0 days 00:00:03</td>\n",
       "      <td>3.000000</td>\n",
       "    </tr>\n",
       "    <tr>\n",
       "      <th>max</th>\n",
       "      <td>4.293298e+09</td>\n",
       "      <td>19.000000</td>\n",
       "      <td>0 days 00:00:14</td>\n",
       "      <td>14.000000</td>\n",
       "    </tr>\n",
       "  </tbody>\n",
       "</table>\n",
       "</div>"
      ],
      "text/plain": [
       "                 id         nviaje       diferencia_tiempo  \\\n",
       "count  4.348510e+05  434851.000000                  434851   \n",
       "mean   2.268371e+09       1.597004  0 days 00:00:02.907993   \n",
       "std    1.290824e+09       0.833181  0 days 00:00:02.350701   \n",
       "min    1.092170e+06       1.000000         0 days 00:00:00   \n",
       "25%    1.086861e+09       1.000000         0 days 00:00:02   \n",
       "50%    2.515384e+09       1.000000         0 days 00:00:02   \n",
       "75%    3.460569e+09       2.000000         0 days 00:00:03   \n",
       "max    4.293298e+09      19.000000         0 days 00:00:14   \n",
       "\n",
       "       diferencia_tiempo_secs  \n",
       "count           434851.000000  \n",
       "mean                 2.907994  \n",
       "std                  2.350702  \n",
       "min                  0.000000  \n",
       "25%                  2.000000  \n",
       "50%                  2.000000  \n",
       "75%                  3.000000  \n",
       "max                 14.000000  "
      ]
     },
     "execution_count": 16,
     "metadata": {},
     "output_type": "execute_result"
    }
   ],
   "source": [
    "peak_no_turnstile_95_df.describe()"
   ]
  },
  {
   "cell_type": "markdown",
   "metadata": {},
   "source": [
    "* Plotting"
   ]
  },
  {
   "cell_type": "code",
   "execution_count": 17,
   "metadata": {
    "collapsed": true
   },
   "outputs": [],
   "source": [
    "colors = [(244, 67, 54),(3, 169, 244),(205, 220, 57)]\n",
    "for i in range(len(colors)):\n",
    "    r, g, b = colors[i]\n",
    "    colors[i] = (r / 255., g / 255., b / 255.)"
   ]
  },
  {
   "cell_type": "code",
   "execution_count": 18,
   "metadata": {
    "collapsed": true
   },
   "outputs": [],
   "source": [
    "off_peak_turnstile_values = off_peak_turnstile_95_df.diferencia_tiempo_secs.values\n",
    "off_peak_no_turnstile_values = off_peak_no_turnstile_95_df.diferencia_tiempo_secs.values\n",
    "peak_turnstile_values = peak_turnstile_95_df.diferencia_tiempo_secs.values\n",
    "peak_no_turnstile_values = peak_no_turnstile_95_df.diferencia_tiempo_secs.values"
   ]
  },
  {
   "cell_type": "markdown",
   "metadata": {},
   "source": [
    "* OFF-PEAK: turns vs. without turns"
   ]
  },
  {
   "cell_type": "code",
   "execution_count": 19,
   "metadata": {
    "collapsed": true
   },
   "outputs": [],
   "source": [
    "off_peak_max_95 = max(off_peak_turnstile_95,off_peak_no_turnstile_95).total_seconds()\n",
    "bins = range(0,int(off_peak_max_95),1)"
   ]
  },
  {
   "cell_type": "code",
   "execution_count": 21,
   "metadata": {
    "scrolled": true
   },
   "outputs": [
    {
     "data": {
      "image/png": "[encoded data removed]",
      "text/plain": [
       "<matplotlib.figure.Figure at 0x25069b37d30>"
      ]
     },
     "metadata": {},
     "output_type": "display_data"
    }
   ],
   "source": [
    "hist_fig, ax = plt.subplots()\n",
    "\n",
    "plot1 = ax.hist(off_peak_turnstile_values,normed=True,bins=bins,color=colors[0], alpha=0.5, label='off_peak - with all turnstiles')\n",
    "plot2 = ax.hist(off_peak_no_turnstile_values,normed=True,bins=bins,color=colors[1], alpha = 0.5, label='off_peak - without turnstiles')\n",
    "\n",
    "\n",
    "ax.set_title('Off-peak Time-interval between transactions (95th)')\n",
    "ax.set_xlabel('time-interval[s]')\n",
    "ax.set_ylabel('Relative Frequency')\n",
    "ax.legend()\n",
    "#plt.savefig('C:/Users/Tesista/Desktop/Evasion/03_report/02_Figs/OFFPEAK-2017-03-01.pdf')\n",
    "plt.savefig('C:/Users/leoca_000/Desktop/Evasion/03_report/02_Figs/OFFPEAK-2017-03-01.pdf')"
   ]
  },
  {
   "cell_type": "markdown",
   "metadata": {},
   "source": [
    "* PEAK: turns vs. without turns"
   ]
  },
  {
   "cell_type": "code",
   "execution_count": 22,
   "metadata": {
    "collapsed": true
   },
   "outputs": [],
   "source": [
    "peak_max_95 = max(peak_turnstile_95,peak_no_turnstile_95).total_seconds()\n",
    "bins = range(0,int(peak_max_95),1)"
   ]
  },
  {
   "cell_type": "code",
   "execution_count": 23,
   "metadata": {},
   "outputs": [
    {
     "data": {
      "image/png": "[encoded data removed]",
      "text/plain": [
       "<matplotlib.figure.Figure at 0x25063b5ca90>"
      ]
     },
     "metadata": {},
     "output_type": "display_data"
    }
   ],
   "source": [
    "hist_fig, ax = plt.subplots()\n",
    "\n",
    "plot1 = ax.hist(peak_turnstile_values,normed=True,bins=bins,color=colors[0], alpha=0.5, label='peak - with all turnstiles')\n",
    "plot2 = ax.hist(peak_no_turnstile_values,normed=True,bins=bins,color=colors[1], alpha = 0.5, label='peak - without turnstiles')\n",
    "\n",
    "\n",
    "ax.set_title('Peak Time-interval between transactions (95th)')\n",
    "ax.set_xlabel('time-interval[s]')\n",
    "ax.set_ylabel('Relative Frequency')\n",
    "ax.legend()\n",
    "#plt.savefig('C:/Users/Tesista/Desktop/Evasion/03_report/02_Figs/PEAK-2017-03-01.pdf')\n",
    "plt.savefig('C:/Users/leoca_000/Desktop/Evasion/03_report/02_Figs/PEAK-2017-03-01.pdf')"
   ]
  },
  {
   "cell_type": "markdown",
   "metadata": {},
   "source": [
    "* TURNS: PEAK vs. OFF-PEAK"
   ]
  },
  {
   "cell_type": "code",
   "execution_count": 24,
   "metadata": {
    "collapsed": true
   },
   "outputs": [],
   "source": [
    "turns_max_95 = max(off_peak_turnstile_95,peak_turnstile_95).total_seconds()\n",
    "bins = range(0,int(turns_max_95),1)"
   ]
  },
  {
   "cell_type": "code",
   "execution_count": 25,
   "metadata": {},
   "outputs": [
    {
     "data": {
      "image/png": "[encoded data removed]",
      "text/plain": [
       "<matplotlib.figure.Figure at 0x25009a5b9e8>"
      ]
     },
     "metadata": {},
     "output_type": "display_data"
    }
   ],
   "source": [
    "hist_fig, ax = plt.subplots()\n",
    "\n",
    "plot1 = ax.hist(off_peak_turnstile_values,normed=True,bins=bins,color=colors[2], alpha=0.9, label='off_peak - turnstiles')\n",
    "plot2 = ax.hist(peak_turnstile_values,normed=True,bins=bins,color=colors[1], alpha = 0.5, label='peak - turnstiles')\n",
    "\n",
    "\n",
    "ax.set_title('Turnstiles Time-interval between transactions (95th)')\n",
    "ax.set_xlabel('time-interval[s]')\n",
    "ax.set_ylabel('Relative Frequency')\n",
    "ax.legend()\n",
    "#plt.savefig('C:/Users/Tesista/Desktop/Evasion/03_report/02_Figs/turnstiles_peakoffpeak-2017-03-01.pdf')\n",
    "plt.savefig('C:/Users/leoca_000/Desktop/Evasion/03_report/02_Figs/turnstiles_peakoffpeak-2017-03-01.pdf')"
   ]
  },
  {
   "cell_type": "markdown",
   "metadata": {},
   "source": [
    "* NO-TURNS: PEAK VS. OFF-PEAK"
   ]
  },
  {
   "cell_type": "code",
   "execution_count": 26,
   "metadata": {
    "collapsed": true
   },
   "outputs": [],
   "source": [
    "no_turns_max_95 = max(off_peak_no_turnstile_95,peak_no_turnstile_95).total_seconds()\n",
    "bins = range(0,int(no_turns_max_95),1)"
   ]
  },
  {
   "cell_type": "code",
   "execution_count": 27,
   "metadata": {},
   "outputs": [
    {
     "data": {
      "image/png": "[encoded data removed]",
      "text/plain": [
       "<matplotlib.figure.Figure at 0x2500d304898>"
      ]
     },
     "metadata": {},
     "output_type": "display_data"
    }
   ],
   "source": [
    "hist_fig, ax = plt.subplots()\n",
    "\n",
    "plot1 = ax.hist(off_peak_no_turnstile_values,normed=True,bins=bins,color=colors[2], alpha=0.9, label='off_peak - no turnstiles')\n",
    "plot2 = ax.hist(peak_no_turnstile_values,normed=True,bins=bins,color=colors[1], alpha = 0.5, label='peak - no turnstiles')\n",
    "\n",
    "\n",
    "ax.set_title('No turnstiles Time-interval between transactions (95th)')\n",
    "ax.set_xlabel('time-interval[s]')\n",
    "ax.set_ylabel('Relative Frequency')\n",
    "ax.legend()\n",
    "#plt.savefig('C:/Users/Tesista/Desktop/Evasion/03_report/02_Figs/no-turnstiles_peakoffpeak-2017-03-01.pdf')\n",
    "plt.savefig('C:/Users/leoca_000/Desktop/Evasion/03_report/02_Figs/no-turnstiles_peakoffpeak-2017-03-01.pdf')"
   ]
  },
  {
   "cell_type": "code",
   "execution_count": null,
   "metadata": {
    "collapsed": true
   },
   "outputs": [],
   "source": []
  }
 ],
 "metadata": {
  "kernelspec": {
   "display_name": "Python 3",
   "language": "python",
   "name": "python3"
  },
  "language_info": {
   "codemirror_mode": {
    "name": "ipython",
    "version": 3
   },
   "file_extension": ".py",
   "mimetype": "text/x-python",
   "name": "python",
   "nbconvert_exporter": "python",
   "pygments_lexer": "ipython3",
   "version": "3.6.1"
  }
 },
 "nbformat": 4,
 "nbformat_minor": 2
}
