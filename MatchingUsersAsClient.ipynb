{
 "cells": [
  {
   "cell_type": "markdown",
   "metadata": {},
   "source": [
    "# Matching users as client of EvasionBuilder and MatchingUsers modules"
   ]
  },
  {
   "cell_type": "code",
   "execution_count": 1,
   "metadata": {},
   "outputs": [
    {
     "data": {
      "text/html": [
       "<style>.container { width:90% !important; }</style>"
      ],
      "text/plain": [
       "<IPython.core.display.HTML object>"
      ]
     },
     "metadata": {},
     "output_type": "display_data"
    }
   ],
   "source": [
    "%matplotlib inline\n",
    "import pandas as pd\n",
    "import matplotlib\n",
    "import matplotlib.pyplot as plt\n",
    "import numpy as np\n",
    "from importlib import reload\n",
    "import datetime as dt\n",
    "from IPython.core.display import display, HTML\n",
    "display(HTML(\"<style>.container { width:90% !important; }</style>\"))\n",
    "import EvasionBuilder\n",
    "from Utils import TransantiagoConstants"
   ]
  },
  {
   "cell_type": "markdown",
   "metadata": {},
   "source": [
    "* Building complete evasion database via <strong>EvasionBuilder</strong>"
   ]
  },
  {
   "cell_type": "code",
   "execution_count": 2,
   "metadata": {
    "scrolled": false
   },
   "outputs": [
    {
     "name": "stdout",
     "output_type": "stream",
     "text": [
      "The only non-matched user_code services are: \n",
      "D06\n",
      "Number of duplicated rows in complete evasion database is: 6362\n",
      "Number of collapsed-duplicated rows in complete evasion database is: 3175\n",
      "Number of rows in complete evasion database without duplicated rows at all is: 93060\n",
      "Final number of rows in complete evasion database with collapsed duplicated rows is: 96235\n"
     ]
    }
   ],
   "source": [
    "[first_q, second_q, third_q] = EvasionBuilder.loadSinglesEvasion()\n",
    "\n",
    "complete_evasion = EvasionBuilder.processSinglesEvasiondAndConcat(first_q,second_q,third_q)\n",
    "\n",
    "complete_evasion_w_codes = EvasionBuilder.mergeTransantiagoCodes(complete_evasion)\n",
    "\n",
    "processed_evasion = EvasionBuilder.processCompleteEvasionDataFrame(complete_evasion_w_codes)\n",
    "\n",
    "clean_processed_evasion = EvasionBuilder.deleteDuplicatedInCompleteEvasion(processed_evasion)"
   ]
  },
  {
   "cell_type": "markdown",
   "metadata": {},
   "source": [
    "* Processing complete evasion database depending on necessity"
   ]
  },
  {
   "cell_type": "code",
   "execution_count": 3,
   "metadata": {
    "collapsed": true
   },
   "outputs": [],
   "source": [
    "evasion_paradero = clean_processed_evasion[clean_processed_evasion['TP']=='P']\n",
    "evasion_paradero_first = evasion_paradero[evasion_paradero['N_PUERTA']==1]"
   ]
  },
  {
   "cell_type": "code",
   "execution_count": 4,
   "metadata": {},
   "outputs": [
    {
     "name": "stdout",
     "output_type": "stream",
     "text": [
      "Number of rows in complete evasion database is: 96235\n",
      "Number of rows in evasion in paradero database is: 94531\n",
      "Number of rows in evasion in paradero by first door database is: 33755\n"
     ]
    }
   ],
   "source": [
    "print('Number of rows in complete evasion database is: ' + str(len(clean_processed_evasion.index)))\n",
    "print('Number of rows in evasion in paradero database is: ' + str(len(evasion_paradero.index)))\n",
    "print('Number of rows in evasion in paradero by first door database is: ' + str(len(evasion_paradero_first.index)))"
   ]
  },
  {
   "cell_type": "markdown",
   "metadata": {},
   "source": [
    "* Filtering dates not in common dates. DataFrame \"common_dates_evasion\" will be the final evasion DataFrame"
   ]
  },
  {
   "cell_type": "code",
   "execution_count": 5,
   "metadata": {},
   "outputs": [
    {
     "name": "stdout",
     "output_type": "stream",
     "text": [
      "Number of rows in complete evasion database filtered by common_dates is: 14756\n"
     ]
    },
    {
     "name": "stderr",
     "output_type": "stream",
     "text": [
      "C:\\Users\\leoca_000\\Anaconda3\\lib\\site-packages\\pandas\\core\\indexing.py:517: SettingWithCopyWarning: \n",
      "A value is trying to be set on a copy of a slice from a DataFrame.\n",
      "Try using .loc[row_indexer,col_indexer] = value instead\n",
      "\n",
      "See the caveats in the documentation: http://pandas.pydata.org/pandas-docs/stable/indexing.html#indexing-view-versus-copy\n",
      "  self.obj[item] = s\n"
     ]
    }
   ],
   "source": [
    "common_dates = TransantiagoConstants.common_dates\n",
    "common_dates_timestamp = [pd.to_datetime(x) for x in common_dates]\n",
    "common_dates_evasion = evasion_paradero_first[evasion_paradero_first['FECHA'].isin(common_dates_timestamp)]\n",
    "\n",
    "print('Number of rows in complete evasion database filtered by common_dates is: ' + str(len(common_dates_evasion.index))) #Remember to store the number.\n",
    "\n",
    "common_dates_evasion.loc[:,'TIEMPO'] = common_dates_evasion.loc[:,'FECHA'].dt.strftime('%Y-%m-%d') + ' ' + common_dates_evasion.loc[:,'TIEMPO']\n",
    "common_dates_evasion.loc[:,'TIEMPO'] = pd.to_datetime(common_dates_evasion.loc[:,'TIEMPO'])\n",
    "common_dates_evasion = common_dates_evasion.reset_index(drop =True)"
   ]
  },
  {
   "cell_type": "markdown",
   "metadata": {},
   "source": [
    "* Building Etapas DataBase via <strong>RunSilentlyDailyEtapasBuilder</strong> and matching users via <strong>MatchingUsers</strong>"
   ]
  },
  {
   "cell_type": "code",
   "execution_count": 6,
   "metadata": {},
   "outputs": [],
   "source": [
    "#common_dates = common_dates[:1]\n",
    "common_dates = ['2017-04-11']"
   ]
  },
  {
   "cell_type": "code",
   "execution_count": 7,
   "metadata": {
    "collapsed": true
   },
   "outputs": [],
   "source": [
    "from RunSilentlyDailyEtapasBuilder import RunSilentlyDailyEtapasBuilderClass"
   ]
  },
  {
   "cell_type": "code",
   "execution_count": 8,
   "metadata": {
    "collapsed": true
   },
   "outputs": [],
   "source": [
    "import MatchingUsers"
   ]
  },
  {
   "cell_type": "code",
   "execution_count": 9,
   "metadata": {},
   "outputs": [
    {
     "name": "stdout",
     "output_type": "stream",
     "text": [
      "Not found in turnstile database: 1829611\n"
     ]
    }
   ],
   "source": [
    "for date in common_dates:    \n",
    "    etapas_builder = RunSilentlyDailyEtapasBuilderClass(date)\n",
    "    processed_sorted_df = etapas_builder.runProcessedProcess()\n",
    "#    processed_sorted_df = processed_sorted_df[processed_sorted_df['diferencia_tiempo_secs']<=20] <- BE AWARE OF THIS LINE...\n",
    "    processed_sorted_df['sitio_subida'] = processed_sorted_df['sitio_subida'].str.replace(\"-\", \"\")\n",
    "    processed_sorted_df['sitio_subida'] = processed_sorted_df['sitio_subida'].str.replace(\" \", \"\")\n",
    "    processed_sorted_df['servicio_subida'] =  processed_sorted_df['servicio_subida'].str.replace('T','')\n",
    "    processed_sorted_df['servicio_subida'] =  processed_sorted_df['servicio_subida'].str.split(' ').str[0]\n",
    "    \n",
    "    [evasion_by_date, patentes_by_date, servicios_by_date] = MatchingUsers.simplifyingEvasionAndEtapas(common_dates_evasion,date)\n",
    "    \n",
    "    clean_sorted_df = processed_sorted_df[(processed_sorted_df['sitio_subida'].isin(patentes_by_date))&(processed_sorted_df['servicio_subida'].isin(servicios_by_date))]\n",
    "    clean_sorted_df = clean_sorted_df.reset_index(drop=True)\n",
    "    \n",
    "    clean_sorted_df = MatchingUsers.appendingIdExpedicion(clean_sorted_df)\n",
    "    grouped_clean_sorted_df_1 = MatchingUsers.groupByEtapasDatabase(clean_sorted_df)    \n",
    "    grouped_clean_sorted_df_2 = MatchingUsers.appendingStartEndCuts(grouped_clean_sorted_df_1)\n",
    "    grouped_clean_sorted_df_3 = MatchingUsers.slicingEvasionDatabase(grouped_clean_sorted_df_2,evasion_by_date)"
   ]
  },
  {
   "cell_type": "code",
   "execution_count": 10,
   "metadata": {},
   "outputs": [
    {
     "data": {
      "text/plain": [
       "1106"
      ]
     },
     "execution_count": 10,
     "metadata": {},
     "output_type": "execute_result"
    }
   ],
   "source": [
    "len(evasion_by_date.index) #PASSED"
   ]
  },
  {
   "cell_type": "code",
   "execution_count": 11,
   "metadata": {},
   "outputs": [
    {
     "data": {
      "text/plain": [
       "11937"
      ]
     },
     "execution_count": 11,
     "metadata": {},
     "output_type": "execute_result"
    }
   ],
   "source": [
    "len(clean_sorted_df.index) #PASSED"
   ]
  },
  {
   "cell_type": "code",
   "execution_count": 12,
   "metadata": {},
   "outputs": [
    {
     "data": {
      "text/plain": [
       "3994"
      ]
     },
     "execution_count": 12,
     "metadata": {},
     "output_type": "execute_result"
    }
   ],
   "source": [
    "len(grouped_clean_sorted_df_1) #PASSED"
   ]
  },
  {
   "cell_type": "code",
   "execution_count": 14,
   "metadata": {},
   "outputs": [
    {
     "data": {
      "text/plain": [
       "3994"
      ]
     },
     "execution_count": 14,
     "metadata": {},
     "output_type": "execute_result"
    }
   ],
   "source": [
    "len(grouped_clean_sorted_df_2) #PASSED"
   ]
  },
  {
   "cell_type": "code",
   "execution_count": 15,
   "metadata": {},
   "outputs": [
    {
     "data": {
      "text/plain": [
       "3994"
      ]
     },
     "execution_count": 15,
     "metadata": {},
     "output_type": "execute_result"
    }
   ],
   "source": [
    "len(grouped_clean_sorted_df_3) #PASSED"
   ]
  },
  {
   "cell_type": "code",
   "execution_count": null,
   "metadata": {
    "collapsed": true
   },
   "outputs": [],
   "source": []
  }
 ],
 "metadata": {
  "kernelspec": {
   "display_name": "Python 3",
   "language": "python",
   "name": "python3"
  },
  "language_info": {
   "codemirror_mode": {
    "name": "ipython",
    "version": 3
   },
   "file_extension": ".py",
   "mimetype": "text/x-python",
   "name": "python",
   "nbconvert_exporter": "python",
   "pygments_lexer": "ipython3",
   "version": "3.6.1"
  }
 },
 "nbformat": 4,
 "nbformat_minor": 2
}
