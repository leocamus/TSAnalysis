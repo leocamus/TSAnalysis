{
 "cells": [
  {
   "cell_type": "markdown",
   "metadata": {},
   "source": [
    "# Studying descriptive statistics stability"
   ]
  },
  {
   "cell_type": "code",
   "execution_count": 1,
   "metadata": {},
   "outputs": [
    {
     "name": "stdout",
     "output_type": "stream",
     "text": [
      "Enter the date to analyze: 2017-07-19\n",
      "Enter the vehicle to analyze: BUS\n",
      "Consider ZP in perfiles file (0/1)?: 0\n"
     ]
    }
   ],
   "source": [
    "%matplotlib inline\n",
    "import pandas as pd\n",
    "import matplotlib\n",
    "import matplotlib.pyplot as plt\n",
    "import numpy as np\n",
    "from importlib import reload\n",
    "import datetime\n",
    "import RunDailyEtapasBuilder"
   ]
  },
  {
   "cell_type": "code",
   "execution_count": 2,
   "metadata": {},
   "outputs": [
    {
     "name": "stdout",
     "output_type": "stream",
     "text": [
      "Not found in turnstile database: 1637796\n"
     ]
    }
   ],
   "source": [
    "etapas_df = RunDailyEtapasBuilder.loadSimplifiedEtapas()\n",
    "merged_df = RunDailyEtapasBuilder.mergeTurnstileData(etapas_df)\n",
    "clean_df = RunDailyEtapasBuilder.cleanDataFrame(merged_df)\n",
    "sorted_df = RunDailyEtapasBuilder.sortDataFrame(clean_df)\n",
    "sorted_df = sorted_df.reset_index()"
   ]
  },
  {
   "cell_type": "code",
   "execution_count": 3,
   "metadata": {
    "collapsed": true
   },
   "outputs": [],
   "source": [
    "sorted_df['mismo_paradero'] = (sorted_df['par_subida']==sorted_df['par_subida'].shift()).fillna(False)\n",
    "sorted_df['misma_patente'] = (sorted_df['sitio_subida']==sorted_df['sitio_subida'].shift()).fillna(False)\n",
    "sorted_df['mismo_servicio'] = (sorted_df['servicio_subida']==sorted_df['servicio_subida'].shift()).fillna(False)\n",
    "\n",
    "sorted_df.loc[(sorted_df.mismo_servicio == True) & (sorted_df.mismo_paradero == True) & (sorted_df.misma_patente == True), 'diferencia_tiempo'] = (sorted_df['t_subida']-sorted_df['t_subida'].shift())\n",
    "\n",
    "sorted_df['diferencia_tiempo_secs'] = sorted_df['diferencia_tiempo'].dt.total_seconds()\n",
    "sorted_df['si_torniquete'] = (sorted_df['fecha_instalacion']<=sorted_df['t_subida'])\n",
    "sorted_df['si_2017_torniquete'] = ((sorted_df['fecha_instalacion']<=sorted_df['t_subida'])&(sorted_df['fecha_instalacion']>=pd.to_datetime('2017-01-01')))"
   ]
  },
  {
   "cell_type": "code",
   "execution_count": 4,
   "metadata": {
    "collapsed": true
   },
   "outputs": [],
   "source": [
    "filtered_df = sorted_df[(sorted_df.mismo_servicio==True) & (sorted_df.mismo_paradero==True) & (sorted_df.misma_patente==True)]\n",
    "filtered_turnstile_df = filtered_df[filtered_df.si_2017_torniquete==True]\n",
    "filtered_no_turnstile_df = filtered_df[filtered_df.si_torniquete==False]\n",
    "del etapas_df\n",
    "del merged_df\n",
    "del clean_df"
   ]
  },
  {
   "cell_type": "markdown",
   "metadata": {},
   "source": [
    "### Data Distribution"
   ]
  },
  {
   "cell_type": "code",
   "execution_count": 5,
   "metadata": {
    "collapsed": true
   },
   "outputs": [],
   "source": [
    "threshold = 91 #In seconds, percentile 99.\n",
    "\n",
    "time_keys = []\n",
    "\n",
    "cumulative_counts_turnstile = []\n",
    "cumulative_counts_noturnstile = []\n",
    "\n",
    "total_count_turnstile = filtered_turnstile_df.count()[0]\n",
    "total_count_noturnstile = filtered_no_turnstile_df.count()[0]\n",
    "\n",
    "for i in range(0,threshold):\n",
    "    time_keys.append(i)\n",
    "    cumulative_counts_turnstile.append(filtered_turnstile_df[filtered_turnstile_df['diferencia_tiempo_secs']<i].count()[0])\n",
    "    cumulative_counts_noturnstile.append(filtered_no_turnstile_df[filtered_no_turnstile_df['diferencia_tiempo_secs']<i].count()[0])\n",
    "\n",
    "\n",
    "cumulative_counts_turnstile = cumulative_counts_turnstile/total_count_turnstile*100\n",
    "cumulative_counts_noturnstile = cumulative_counts_noturnstile/total_count_noturnstile*100"
   ]
  },
  {
   "cell_type": "code",
   "execution_count": 6,
   "metadata": {},
   "outputs": [
    {
     "name": "stdout",
     "output_type": "stream",
     "text": [
      "99.0026901122\n",
      "99.1559717781\n"
     ]
    }
   ],
   "source": [
    "count_turnstile = filtered_turnstile_df[filtered_turnstile_df['diferencia_tiempo_secs']<=threshold].count()[0]\n",
    "count_noturnstile = filtered_no_turnstile_df[filtered_no_turnstile_df['diferencia_tiempo_secs']<=threshold].count()[0]\n",
    "\n",
    "\n",
    "percent_turnstile = (count_turnstile/total_count_turnstile)*100\n",
    "percent_noturnstile = (count_noturnstile/total_count_noturnstile)*100\n",
    "\n",
    "print(percent_turnstile)\n",
    "print(percent_noturnstile)"
   ]
  },
  {
   "cell_type": "code",
   "execution_count": 5,
   "metadata": {
    "collapsed": true
   },
   "outputs": [],
   "source": [
    "colors = [(85,98,112),(78,205,196),(199,244,100),(255,107,107),(196,77,88)]\n",
    "for i in range(len(colors)):\n",
    "    r, g, b = colors[i]  \n",
    "    colors[i] = (r / 255., g / 255., b / 255.)"
   ]
  },
  {
   "cell_type": "code",
   "execution_count": 26,
   "metadata": {},
   "outputs": [
    {
     "data": {
      "image/png": "[encoded data removed]",
      "text/plain": [
       "<matplotlib.figure.Figure at 0x1cb831f7470>"
      ]
     },
     "metadata": {},
     "output_type": "display_data"
    }
   ],
   "source": [
    "fig_1, ax_1 = plt.subplots()\n",
    "ax_1.plot(time_keys,cumulative_counts_noturnstile,color=colors[0],label='no turnstiles')\n",
    "ax_1.plot(time_keys,cumulative_counts_turnstile,color=colors[3],label='2017 turnstiles')\n",
    "ax_1.set_title('Time-interval vs. % of Counts - 01/03/2017')\n",
    "ax_1.set_xlabel('Time-interval [s]')\n",
    "ax_1.set_ylabel('% Counts')\n",
    "ax_1.legend()\n",
    "ax_1.grid(True)\n",
    "plt.savefig('C:/Users/Tesista/Desktop/Evasion/03_report/02_Figs/0_timeIntervalVsCounts_2017-03-01.pdf')"
   ]
  },
  {
   "cell_type": "markdown",
   "metadata": {},
   "source": [
    "### Descriptive statistics stability"
   ]
  },
  {
   "cell_type": "code",
   "execution_count": 6,
   "metadata": {
    "collapsed": true,
    "scrolled": true
   },
   "outputs": [],
   "source": [
    "percentiles = np.arange(0.9, 1.005, 0.005)\n",
    "\n",
    "turnstile_mean_percentiles = []\n",
    "turnstile_std_percentiles = []\n",
    "turnstile_min_percentiles = []\n",
    "turnstile_25_percentiles = []\n",
    "turnstile_50_percentiles = []\n",
    "turnstile_75_percentiles = []\n",
    "turnstile_max_percentiles = []\n",
    "\n",
    "no_turnstile_mean_percentiles = []\n",
    "no_turnstile_std_percentiles = []\n",
    "no_turnstile_min_percentiles = []\n",
    "no_turnstile_25_percentiles = []\n",
    "no_turnstile_50_percentiles = []\n",
    "no_turnstile_75_percentiles = []\n",
    "no_turnstile_max_percentiles = []\n",
    "\n",
    "\n",
    "for i in percentiles:\n",
    "    turnstile_time = filtered_turnstile_df.diferencia_tiempo.quantile(i)\n",
    "    turnstile_percentile_df = filtered_turnstile_df[filtered_turnstile_df.diferencia_tiempo<=turnstile_time]\n",
    "    turnstile_descriptive = turnstile_percentile_df.describe()\n",
    "    turnstile_mean_percentiles.append(turnstile_descriptive['diferencia_tiempo_secs'].loc['mean'])\n",
    "    turnstile_std_percentiles.append(turnstile_descriptive['diferencia_tiempo_secs'].loc['std'])\n",
    "    turnstile_min_percentiles.append(turnstile_descriptive['diferencia_tiempo_secs'].loc['min'])\n",
    "    turnstile_25_percentiles.append(turnstile_descriptive['diferencia_tiempo_secs'].loc['25%'])\n",
    "    turnstile_50_percentiles.append(turnstile_descriptive['diferencia_tiempo_secs'].loc['50%'])\n",
    "    turnstile_75_percentiles.append(turnstile_descriptive['diferencia_tiempo_secs'].loc['75%'])\n",
    "    turnstile_max_percentiles.append(turnstile_descriptive['diferencia_tiempo_secs'].loc['max'])\n",
    "\n",
    "\n",
    "for j in percentiles:\n",
    "    no_turnstile_time = filtered_no_turnstile_df.diferencia_tiempo.quantile(j)\n",
    "    no_turnstile_percentile_df = filtered_no_turnstile_df[filtered_no_turnstile_df.diferencia_tiempo<=no_turnstile_time]\n",
    "    no_turnstile_descriptive = no_turnstile_percentile_df.describe()\n",
    "    no_turnstile_mean_percentiles.append(no_turnstile_descriptive['diferencia_tiempo_secs'].loc['mean'])\n",
    "    no_turnstile_std_percentiles.append(no_turnstile_descriptive['diferencia_tiempo_secs'].loc['std'])\n",
    "    no_turnstile_min_percentiles.append(no_turnstile_descriptive['diferencia_tiempo_secs'].loc['min'])\n",
    "    no_turnstile_25_percentiles.append(no_turnstile_descriptive['diferencia_tiempo_secs'].loc['25%'])\n",
    "    no_turnstile_50_percentiles.append(no_turnstile_descriptive['diferencia_tiempo_secs'].loc['50%'])\n",
    "    no_turnstile_75_percentiles.append(no_turnstile_descriptive['diferencia_tiempo_secs'].loc['75%'])\n",
    "    no_turnstile_max_percentiles.append(no_turnstile_descriptive['diferencia_tiempo_secs'].loc['max'])\n"
   ]
  },
  {
   "cell_type": "code",
   "execution_count": 7,
   "metadata": {
    "collapsed": true,
    "scrolled": true
   },
   "outputs": [],
   "source": [
    "summary_df = pd.DataFrame({'percentile': percentiles,\n",
    "                          'turnstile-mean': turnstile_mean_percentiles,\n",
    "                          'turnstile-std': turnstile_std_percentiles,\n",
    "                          'turnstile-median': turnstile_50_percentiles,\n",
    "                          'turnstile-max': turnstile_max_percentiles,\n",
    "                          'no-turnstile-mean': no_turnstile_mean_percentiles,\n",
    "                          'no-turnstile-std': no_turnstile_std_percentiles,\n",
    "                          'no-turnstile-median': no_turnstile_50_percentiles,\n",
    "                          'no-turnstile-max': no_turnstile_max_percentiles})\n"
   ]
  },
  {
   "cell_type": "code",
   "execution_count": 11,
   "metadata": {
    "collapsed": true
   },
   "outputs": [],
   "source": [
    "def slope_calc(x,y):\n",
    "    delta_y = (y.shift()-y)\n",
    "    delta_x = (x.shift()-x)\n",
    "    slope = (delta_y/delta_x).fillna(0)\n",
    "    return slope\n"
   ]
  },
  {
   "cell_type": "code",
   "execution_count": 8,
   "metadata": {
    "collapsed": true
   },
   "outputs": [],
   "source": [
    "summary_df['difference_means'] = summary_df['turnstile-mean']-summary_df['no-turnstile-mean']"
   ]
  },
  {
   "cell_type": "code",
   "execution_count": 12,
   "metadata": {
    "scrolled": true
   },
   "outputs": [
    {
     "data": {
      "text/plain": [
       "2.0982678944807329"
      ]
     },
     "execution_count": 12,
     "metadata": {},
     "output_type": "execute_result"
    }
   ],
   "source": [
    "summary_df['difference_means'].min()"
   ]
  },
  {
   "cell_type": "code",
   "execution_count": 13,
   "metadata": {},
   "outputs": [
    {
     "data": {
      "text/plain": [
       "2.2231219027428866"
      ]
     },
     "execution_count": 13,
     "metadata": {},
     "output_type": "execute_result"
    }
   ],
   "source": [
    "summary_df['difference_means'].max()"
   ]
  },
  {
   "cell_type": "code",
   "execution_count": 12,
   "metadata": {
    "collapsed": true
   },
   "outputs": [],
   "source": [
    "summary_df['turnstile-mean-slope'] = slope_calc(summary_df['percentile'],summary_df['turnstile-mean'])\n",
    "summary_df['no-turnstile-mean-slope'] = slope_calc(summary_df['percentile'],summary_df['no-turnstile-mean'])\n",
    "\n",
    "summary_df['turnstile-std-slope'] = slope_calc(summary_df['percentile'],summary_df['turnstile-std'])\n",
    "summary_df['no-turnstile-std-slope'] = slope_calc(summary_df['percentile'],summary_df['no-turnstile-std'])\n",
    "\n",
    "summary_df['turnstile-max-slope'] = slope_calc(summary_df['percentile'],summary_df['turnstile-max'])\n",
    "summary_df['no-turnstile-max-slope'] = slope_calc(summary_df['percentile'],summary_df['no-turnstile-max'])\n"
   ]
  },
  {
   "cell_type": "code",
   "execution_count": 13,
   "metadata": {
    "collapsed": true
   },
   "outputs": [],
   "source": [
    "turnstile_mean_slope = summary_df['turnstile-mean-slope'].values\n",
    "no_turnstile_mean_slope = summary_df['no-turnstile-mean-slope'].values\n",
    "\n",
    "turnstile_std_slope = summary_df['turnstile-std-slope'].values\n",
    "no_turnstile_std_slope = summary_df['no-turnstile-std-slope'].values\n",
    "\n",
    "turnstile_max_slope = summary_df['turnstile-max-slope'].values\n",
    "no_turnstile_max_slope = summary_df['no-turnstile-max-slope'].values"
   ]
  },
  {
   "cell_type": "code",
   "execution_count": 14,
   "metadata": {
    "collapsed": true
   },
   "outputs": [],
   "source": [
    "cols = ['percentile', \n",
    "        'turnstile-mean', 'turnstile-mean-slope' ,'no-turnstile-mean', 'no-turnstile-mean-slope',\n",
    "        'turnstile-std', 'turnstile-std-slope', 'no-turnstile-std', 'no-turnstile-std-slope',\n",
    "        'turnstile-median', 'no-turnstile-median', \n",
    "        'turnstile-max','turnstile-max-slope', 'no-turnstile-max', 'no-turnstile-max-slope']\n",
    "summary_df = summary_df[cols]\n"
   ]
  },
  {
   "cell_type": "markdown",
   "metadata": {},
   "source": [
    "* To LaTeX"
   ]
  },
  {
   "cell_type": "code",
   "execution_count": 15,
   "metadata": {
    "collapsed": true
   },
   "outputs": [],
   "source": [
    "means_df = summary_df[['percentile','turnstile-mean','turnstile-mean-slope','no-turnstile-mean','no-turnstile-mean-slope']]\n",
    "stds_df = summary_df[['percentile','turnstile-std','turnstile-std-slope','no-turnstile-std','no-turnstile-std-slope']]\n",
    "maxs_df = summary_df[['percentile','turnstile-max','turnstile-max-slope','no-turnstile-max','no-turnstile-max-slope']]"
   ]
  },
  {
   "cell_type": "code",
   "execution_count": 16,
   "metadata": {},
   "outputs": [
    {
     "data": {
      "text/html": [
       "<div>\n",
       "<style>\n",
       "    .dataframe thead tr:only-child th {\n",
       "        text-align: right;\n",
       "    }\n",
       "\n",
       "    .dataframe thead th {\n",
       "        text-align: left;\n",
       "    }\n",
       "\n",
       "    .dataframe tbody tr th {\n",
       "        vertical-align: top;\n",
       "    }\n",
       "</style>\n",
       "<table border=\"1\" class=\"dataframe\">\n",
       "  <thead>\n",
       "    <tr style=\"text-align: right;\">\n",
       "      <th></th>\n",
       "      <th>percentile</th>\n",
       "      <th>turnstile-mean</th>\n",
       "      <th>turnstile-mean-slope</th>\n",
       "      <th>no-turnstile-mean</th>\n",
       "      <th>no-turnstile-mean-slope</th>\n",
       "    </tr>\n",
       "  </thead>\n",
       "  <tbody>\n",
       "    <tr>\n",
       "      <th>0</th>\n",
       "      <td>0.900</td>\n",
       "      <td>5.237308</td>\n",
       "      <td>0.000000</td>\n",
       "      <td>2.787104</td>\n",
       "      <td>0.000000</td>\n",
       "    </tr>\n",
       "    <tr>\n",
       "      <th>1</th>\n",
       "      <td>0.905</td>\n",
       "      <td>5.317364</td>\n",
       "      <td>16.011321</td>\n",
       "      <td>2.787104</td>\n",
       "      <td>-0.000000</td>\n",
       "    </tr>\n",
       "    <tr>\n",
       "      <th>2</th>\n",
       "      <td>0.910</td>\n",
       "      <td>5.317364</td>\n",
       "      <td>-0.000000</td>\n",
       "      <td>2.849274</td>\n",
       "      <td>12.433874</td>\n",
       "    </tr>\n",
       "    <tr>\n",
       "      <th>3</th>\n",
       "      <td>0.915</td>\n",
       "      <td>5.390248</td>\n",
       "      <td>14.576770</td>\n",
       "      <td>2.906771</td>\n",
       "      <td>11.499459</td>\n",
       "    </tr>\n",
       "    <tr>\n",
       "      <th>4</th>\n",
       "      <td>0.920</td>\n",
       "      <td>5.467284</td>\n",
       "      <td>15.407165</td>\n",
       "      <td>2.960842</td>\n",
       "      <td>10.814220</td>\n",
       "    </tr>\n",
       "    <tr>\n",
       "      <th>5</th>\n",
       "      <td>0.925</td>\n",
       "      <td>5.521304</td>\n",
       "      <td>10.804065</td>\n",
       "      <td>3.011421</td>\n",
       "      <td>10.115773</td>\n",
       "    </tr>\n",
       "    <tr>\n",
       "      <th>6</th>\n",
       "      <td>0.930</td>\n",
       "      <td>5.579625</td>\n",
       "      <td>11.664119</td>\n",
       "      <td>3.058377</td>\n",
       "      <td>9.391237</td>\n",
       "    </tr>\n",
       "    <tr>\n",
       "      <th>7</th>\n",
       "      <td>0.935</td>\n",
       "      <td>5.633700</td>\n",
       "      <td>10.815029</td>\n",
       "      <td>3.101762</td>\n",
       "      <td>8.677009</td>\n",
       "    </tr>\n",
       "    <tr>\n",
       "      <th>8</th>\n",
       "      <td>0.940</td>\n",
       "      <td>5.738224</td>\n",
       "      <td>20.904715</td>\n",
       "      <td>3.184591</td>\n",
       "      <td>16.565678</td>\n",
       "    </tr>\n",
       "    <tr>\n",
       "      <th>9</th>\n",
       "      <td>0.945</td>\n",
       "      <td>5.816991</td>\n",
       "      <td>15.753404</td>\n",
       "      <td>3.262136</td>\n",
       "      <td>15.509080</td>\n",
       "    </tr>\n",
       "    <tr>\n",
       "      <th>10</th>\n",
       "      <td>0.950</td>\n",
       "      <td>5.908577</td>\n",
       "      <td>18.317162</td>\n",
       "      <td>3.364932</td>\n",
       "      <td>20.559121</td>\n",
       "    </tr>\n",
       "    <tr>\n",
       "      <th>11</th>\n",
       "      <td>0.955</td>\n",
       "      <td>6.009890</td>\n",
       "      <td>20.262643</td>\n",
       "      <td>3.460821</td>\n",
       "      <td>19.177784</td>\n",
       "    </tr>\n",
       "    <tr>\n",
       "      <th>12</th>\n",
       "      <td>0.960</td>\n",
       "      <td>6.150809</td>\n",
       "      <td>28.183920</td>\n",
       "      <td>3.621071</td>\n",
       "      <td>32.050043</td>\n",
       "    </tr>\n",
       "    <tr>\n",
       "      <th>13</th>\n",
       "      <td>0.965</td>\n",
       "      <td>6.309929</td>\n",
       "      <td>31.823927</td>\n",
       "      <td>3.756922</td>\n",
       "      <td>27.170173</td>\n",
       "    </tr>\n",
       "    <tr>\n",
       "      <th>14</th>\n",
       "      <td>0.970</td>\n",
       "      <td>6.473275</td>\n",
       "      <td>32.669191</td>\n",
       "      <td>3.932738</td>\n",
       "      <td>35.163366</td>\n",
       "    </tr>\n",
       "    <tr>\n",
       "      <th>15</th>\n",
       "      <td>0.975</td>\n",
       "      <td>6.668147</td>\n",
       "      <td>38.974399</td>\n",
       "      <td>4.131538</td>\n",
       "      <td>39.759856</td>\n",
       "    </tr>\n",
       "    <tr>\n",
       "      <th>16</th>\n",
       "      <td>0.980</td>\n",
       "      <td>6.914023</td>\n",
       "      <td>49.175161</td>\n",
       "      <td>4.351961</td>\n",
       "      <td>44.084741</td>\n",
       "    </tr>\n",
       "    <tr>\n",
       "      <th>17</th>\n",
       "      <td>0.985</td>\n",
       "      <td>7.189249</td>\n",
       "      <td>55.045169</td>\n",
       "      <td>4.629498</td>\n",
       "      <td>55.507320</td>\n",
       "    </tr>\n",
       "    <tr>\n",
       "      <th>18</th>\n",
       "      <td>0.990</td>\n",
       "      <td>7.564981</td>\n",
       "      <td>75.146502</td>\n",
       "      <td>4.978125</td>\n",
       "      <td>69.725456</td>\n",
       "    </tr>\n",
       "    <tr>\n",
       "      <th>19</th>\n",
       "      <td>0.995</td>\n",
       "      <td>8.091817</td>\n",
       "      <td>105.367222</td>\n",
       "      <td>5.447626</td>\n",
       "      <td>93.900060</td>\n",
       "    </tr>\n",
       "    <tr>\n",
       "      <th>20</th>\n",
       "      <td>1.000</td>\n",
       "      <td>9.232334</td>\n",
       "      <td>228.103323</td>\n",
       "      <td>6.919862</td>\n",
       "      <td>294.447284</td>\n",
       "    </tr>\n",
       "  </tbody>\n",
       "</table>\n",
       "</div>"
      ],
      "text/plain": [
       "    percentile  turnstile-mean  turnstile-mean-slope  no-turnstile-mean  \\\n",
       "0        0.900        5.237308              0.000000           2.787104   \n",
       "1        0.905        5.317364             16.011321           2.787104   \n",
       "2        0.910        5.317364             -0.000000           2.849274   \n",
       "3        0.915        5.390248             14.576770           2.906771   \n",
       "4        0.920        5.467284             15.407165           2.960842   \n",
       "5        0.925        5.521304             10.804065           3.011421   \n",
       "6        0.930        5.579625             11.664119           3.058377   \n",
       "7        0.935        5.633700             10.815029           3.101762   \n",
       "8        0.940        5.738224             20.904715           3.184591   \n",
       "9        0.945        5.816991             15.753404           3.262136   \n",
       "10       0.950        5.908577             18.317162           3.364932   \n",
       "11       0.955        6.009890             20.262643           3.460821   \n",
       "12       0.960        6.150809             28.183920           3.621071   \n",
       "13       0.965        6.309929             31.823927           3.756922   \n",
       "14       0.970        6.473275             32.669191           3.932738   \n",
       "15       0.975        6.668147             38.974399           4.131538   \n",
       "16       0.980        6.914023             49.175161           4.351961   \n",
       "17       0.985        7.189249             55.045169           4.629498   \n",
       "18       0.990        7.564981             75.146502           4.978125   \n",
       "19       0.995        8.091817            105.367222           5.447626   \n",
       "20       1.000        9.232334            228.103323           6.919862   \n",
       "\n",
       "    no-turnstile-mean-slope  \n",
       "0                  0.000000  \n",
       "1                 -0.000000  \n",
       "2                 12.433874  \n",
       "3                 11.499459  \n",
       "4                 10.814220  \n",
       "5                 10.115773  \n",
       "6                  9.391237  \n",
       "7                  8.677009  \n",
       "8                 16.565678  \n",
       "9                 15.509080  \n",
       "10                20.559121  \n",
       "11                19.177784  \n",
       "12                32.050043  \n",
       "13                27.170173  \n",
       "14                35.163366  \n",
       "15                39.759856  \n",
       "16                44.084741  \n",
       "17                55.507320  \n",
       "18                69.725456  \n",
       "19                93.900060  \n",
       "20               294.447284  "
      ]
     },
     "execution_count": 16,
     "metadata": {},
     "output_type": "execute_result"
    }
   ],
   "source": [
    "means_df"
   ]
  },
  {
   "cell_type": "code",
   "execution_count": 17,
   "metadata": {},
   "outputs": [
    {
     "data": {
      "text/html": [
       "<div>\n",
       "<style>\n",
       "    .dataframe thead tr:only-child th {\n",
       "        text-align: right;\n",
       "    }\n",
       "\n",
       "    .dataframe thead th {\n",
       "        text-align: left;\n",
       "    }\n",
       "\n",
       "    .dataframe tbody tr th {\n",
       "        vertical-align: top;\n",
       "    }\n",
       "</style>\n",
       "<table border=\"1\" class=\"dataframe\">\n",
       "  <thead>\n",
       "    <tr style=\"text-align: right;\">\n",
       "      <th></th>\n",
       "      <th>percentile</th>\n",
       "      <th>turnstile-std</th>\n",
       "      <th>turnstile-std-slope</th>\n",
       "      <th>no-turnstile-std</th>\n",
       "      <th>no-turnstile-std-slope</th>\n",
       "    </tr>\n",
       "  </thead>\n",
       "  <tbody>\n",
       "    <tr>\n",
       "      <th>0</th>\n",
       "      <td>0.900</td>\n",
       "      <td>2.599122</td>\n",
       "      <td>0.000000</td>\n",
       "      <td>1.942562</td>\n",
       "      <td>0.000000</td>\n",
       "    </tr>\n",
       "    <tr>\n",
       "      <th>1</th>\n",
       "      <td>0.905</td>\n",
       "      <td>2.734085</td>\n",
       "      <td>26.992711</td>\n",
       "      <td>1.942562</td>\n",
       "      <td>-0.000000</td>\n",
       "    </tr>\n",
       "    <tr>\n",
       "      <th>2</th>\n",
       "      <td>0.910</td>\n",
       "      <td>2.734085</td>\n",
       "      <td>-0.000000</td>\n",
       "      <td>2.061967</td>\n",
       "      <td>23.881023</td>\n",
       "    </tr>\n",
       "    <tr>\n",
       "      <th>3</th>\n",
       "      <td>0.915</td>\n",
       "      <td>2.863132</td>\n",
       "      <td>25.809417</td>\n",
       "      <td>2.178952</td>\n",
       "      <td>23.396889</td>\n",
       "    </tr>\n",
       "    <tr>\n",
       "      <th>4</th>\n",
       "      <td>0.920</td>\n",
       "      <td>3.005261</td>\n",
       "      <td>28.425760</td>\n",
       "      <td>2.294608</td>\n",
       "      <td>23.131197</td>\n",
       "    </tr>\n",
       "    <tr>\n",
       "      <th>5</th>\n",
       "      <td>0.925</td>\n",
       "      <td>3.109146</td>\n",
       "      <td>20.777039</td>\n",
       "      <td>2.407673</td>\n",
       "      <td>22.613126</td>\n",
       "    </tr>\n",
       "    <tr>\n",
       "      <th>6</th>\n",
       "      <td>0.930</td>\n",
       "      <td>3.226093</td>\n",
       "      <td>23.389280</td>\n",
       "      <td>2.516927</td>\n",
       "      <td>21.850653</td>\n",
       "    </tr>\n",
       "    <tr>\n",
       "      <th>7</th>\n",
       "      <td>0.935</td>\n",
       "      <td>3.338492</td>\n",
       "      <td>22.479950</td>\n",
       "      <td>2.621693</td>\n",
       "      <td>20.953262</td>\n",
       "    </tr>\n",
       "    <tr>\n",
       "      <th>8</th>\n",
       "      <td>0.940</td>\n",
       "      <td>3.566974</td>\n",
       "      <td>45.696318</td>\n",
       "      <td>2.831620</td>\n",
       "      <td>41.985377</td>\n",
       "    </tr>\n",
       "    <tr>\n",
       "      <th>9</th>\n",
       "      <td>0.945</td>\n",
       "      <td>3.749698</td>\n",
       "      <td>36.544753</td>\n",
       "      <td>3.039535</td>\n",
       "      <td>41.583092</td>\n",
       "    </tr>\n",
       "    <tr>\n",
       "      <th>10</th>\n",
       "      <td>0.950</td>\n",
       "      <td>3.973483</td>\n",
       "      <td>44.757160</td>\n",
       "      <td>3.331788</td>\n",
       "      <td>58.450488</td>\n",
       "    </tr>\n",
       "    <tr>\n",
       "      <th>11</th>\n",
       "      <td>0.955</td>\n",
       "      <td>4.233473</td>\n",
       "      <td>51.997874</td>\n",
       "      <td>3.621646</td>\n",
       "      <td>57.971570</td>\n",
       "    </tr>\n",
       "    <tr>\n",
       "      <th>12</th>\n",
       "      <td>0.960</td>\n",
       "      <td>4.628459</td>\n",
       "      <td>78.997171</td>\n",
       "      <td>4.136148</td>\n",
       "      <td>102.900564</td>\n",
       "    </tr>\n",
       "    <tr>\n",
       "      <th>13</th>\n",
       "      <td>0.965</td>\n",
       "      <td>5.103036</td>\n",
       "      <td>94.915424</td>\n",
       "      <td>4.590581</td>\n",
       "      <td>90.886562</td>\n",
       "    </tr>\n",
       "    <tr>\n",
       "      <th>14</th>\n",
       "      <td>0.970</td>\n",
       "      <td>5.615842</td>\n",
       "      <td>102.561288</td>\n",
       "      <td>5.192272</td>\n",
       "      <td>120.338245</td>\n",
       "    </tr>\n",
       "    <tr>\n",
       "      <th>15</th>\n",
       "      <td>0.975</td>\n",
       "      <td>6.256623</td>\n",
       "      <td>128.156105</td>\n",
       "      <td>5.886269</td>\n",
       "      <td>138.799421</td>\n",
       "    </tr>\n",
       "    <tr>\n",
       "      <th>16</th>\n",
       "      <td>0.980</td>\n",
       "      <td>7.106125</td>\n",
       "      <td>169.900391</td>\n",
       "      <td>6.672958</td>\n",
       "      <td>157.337787</td>\n",
       "    </tr>\n",
       "    <tr>\n",
       "      <th>17</th>\n",
       "      <td>0.985</td>\n",
       "      <td>8.125757</td>\n",
       "      <td>203.926552</td>\n",
       "      <td>7.703322</td>\n",
       "      <td>206.072620</td>\n",
       "    </tr>\n",
       "    <tr>\n",
       "      <th>18</th>\n",
       "      <td>0.990</td>\n",
       "      <td>9.665100</td>\n",
       "      <td>307.868509</td>\n",
       "      <td>9.108799</td>\n",
       "      <td>281.095401</td>\n",
       "    </tr>\n",
       "    <tr>\n",
       "      <th>19</th>\n",
       "      <td>0.995</td>\n",
       "      <td>12.177283</td>\n",
       "      <td>502.436567</td>\n",
       "      <td>11.297644</td>\n",
       "      <td>437.769092</td>\n",
       "    </tr>\n",
       "    <tr>\n",
       "      <th>20</th>\n",
       "      <td>1.000</td>\n",
       "      <td>24.249151</td>\n",
       "      <td>2414.373709</td>\n",
       "      <td>62.558937</td>\n",
       "      <td>10252.258566</td>\n",
       "    </tr>\n",
       "  </tbody>\n",
       "</table>\n",
       "</div>"
      ],
      "text/plain": [
       "    percentile  turnstile-std  turnstile-std-slope  no-turnstile-std  \\\n",
       "0        0.900       2.599122             0.000000          1.942562   \n",
       "1        0.905       2.734085            26.992711          1.942562   \n",
       "2        0.910       2.734085            -0.000000          2.061967   \n",
       "3        0.915       2.863132            25.809417          2.178952   \n",
       "4        0.920       3.005261            28.425760          2.294608   \n",
       "5        0.925       3.109146            20.777039          2.407673   \n",
       "6        0.930       3.226093            23.389280          2.516927   \n",
       "7        0.935       3.338492            22.479950          2.621693   \n",
       "8        0.940       3.566974            45.696318          2.831620   \n",
       "9        0.945       3.749698            36.544753          3.039535   \n",
       "10       0.950       3.973483            44.757160          3.331788   \n",
       "11       0.955       4.233473            51.997874          3.621646   \n",
       "12       0.960       4.628459            78.997171          4.136148   \n",
       "13       0.965       5.103036            94.915424          4.590581   \n",
       "14       0.970       5.615842           102.561288          5.192272   \n",
       "15       0.975       6.256623           128.156105          5.886269   \n",
       "16       0.980       7.106125           169.900391          6.672958   \n",
       "17       0.985       8.125757           203.926552          7.703322   \n",
       "18       0.990       9.665100           307.868509          9.108799   \n",
       "19       0.995      12.177283           502.436567         11.297644   \n",
       "20       1.000      24.249151          2414.373709         62.558937   \n",
       "\n",
       "    no-turnstile-std-slope  \n",
       "0                 0.000000  \n",
       "1                -0.000000  \n",
       "2                23.881023  \n",
       "3                23.396889  \n",
       "4                23.131197  \n",
       "5                22.613126  \n",
       "6                21.850653  \n",
       "7                20.953262  \n",
       "8                41.985377  \n",
       "9                41.583092  \n",
       "10               58.450488  \n",
       "11               57.971570  \n",
       "12              102.900564  \n",
       "13               90.886562  \n",
       "14              120.338245  \n",
       "15              138.799421  \n",
       "16              157.337787  \n",
       "17              206.072620  \n",
       "18              281.095401  \n",
       "19              437.769092  \n",
       "20            10252.258566  "
      ]
     },
     "execution_count": 17,
     "metadata": {},
     "output_type": "execute_result"
    }
   ],
   "source": [
    "stds_df"
   ]
  },
  {
   "cell_type": "code",
   "execution_count": 18,
   "metadata": {},
   "outputs": [
    {
     "data": {
      "text/html": [
       "<div>\n",
       "<style>\n",
       "    .dataframe thead tr:only-child th {\n",
       "        text-align: right;\n",
       "    }\n",
       "\n",
       "    .dataframe thead th {\n",
       "        text-align: left;\n",
       "    }\n",
       "\n",
       "    .dataframe tbody tr th {\n",
       "        vertical-align: top;\n",
       "    }\n",
       "</style>\n",
       "<table border=\"1\" class=\"dataframe\">\n",
       "  <thead>\n",
       "    <tr style=\"text-align: right;\">\n",
       "      <th></th>\n",
       "      <th>percentile</th>\n",
       "      <th>turnstile-max</th>\n",
       "      <th>turnstile-max-slope</th>\n",
       "      <th>no-turnstile-max</th>\n",
       "      <th>no-turnstile-max-slope</th>\n",
       "    </tr>\n",
       "  </thead>\n",
       "  <tbody>\n",
       "    <tr>\n",
       "      <th>0</th>\n",
       "      <td>0.900</td>\n",
       "      <td>14.0</td>\n",
       "      <td>0.0</td>\n",
       "      <td>10.0</td>\n",
       "      <td>0.0</td>\n",
       "    </tr>\n",
       "    <tr>\n",
       "      <th>1</th>\n",
       "      <td>0.905</td>\n",
       "      <td>15.0</td>\n",
       "      <td>200.0</td>\n",
       "      <td>10.0</td>\n",
       "      <td>-0.0</td>\n",
       "    </tr>\n",
       "    <tr>\n",
       "      <th>2</th>\n",
       "      <td>0.910</td>\n",
       "      <td>15.0</td>\n",
       "      <td>-0.0</td>\n",
       "      <td>11.0</td>\n",
       "      <td>200.0</td>\n",
       "    </tr>\n",
       "    <tr>\n",
       "      <th>3</th>\n",
       "      <td>0.915</td>\n",
       "      <td>16.0</td>\n",
       "      <td>200.0</td>\n",
       "      <td>12.0</td>\n",
       "      <td>200.0</td>\n",
       "    </tr>\n",
       "    <tr>\n",
       "      <th>4</th>\n",
       "      <td>0.920</td>\n",
       "      <td>17.0</td>\n",
       "      <td>200.0</td>\n",
       "      <td>13.0</td>\n",
       "      <td>200.0</td>\n",
       "    </tr>\n",
       "    <tr>\n",
       "      <th>5</th>\n",
       "      <td>0.925</td>\n",
       "      <td>18.0</td>\n",
       "      <td>200.0</td>\n",
       "      <td>14.0</td>\n",
       "      <td>200.0</td>\n",
       "    </tr>\n",
       "    <tr>\n",
       "      <th>6</th>\n",
       "      <td>0.930</td>\n",
       "      <td>19.0</td>\n",
       "      <td>200.0</td>\n",
       "      <td>15.0</td>\n",
       "      <td>200.0</td>\n",
       "    </tr>\n",
       "    <tr>\n",
       "      <th>7</th>\n",
       "      <td>0.935</td>\n",
       "      <td>20.0</td>\n",
       "      <td>200.0</td>\n",
       "      <td>16.0</td>\n",
       "      <td>200.0</td>\n",
       "    </tr>\n",
       "    <tr>\n",
       "      <th>8</th>\n",
       "      <td>0.940</td>\n",
       "      <td>22.0</td>\n",
       "      <td>400.0</td>\n",
       "      <td>18.0</td>\n",
       "      <td>400.0</td>\n",
       "    </tr>\n",
       "    <tr>\n",
       "      <th>9</th>\n",
       "      <td>0.945</td>\n",
       "      <td>24.0</td>\n",
       "      <td>400.0</td>\n",
       "      <td>20.0</td>\n",
       "      <td>400.0</td>\n",
       "    </tr>\n",
       "    <tr>\n",
       "      <th>10</th>\n",
       "      <td>0.950</td>\n",
       "      <td>26.0</td>\n",
       "      <td>400.0</td>\n",
       "      <td>23.0</td>\n",
       "      <td>600.0</td>\n",
       "    </tr>\n",
       "    <tr>\n",
       "      <th>11</th>\n",
       "      <td>0.955</td>\n",
       "      <td>29.0</td>\n",
       "      <td>600.0</td>\n",
       "      <td>26.0</td>\n",
       "      <td>600.0</td>\n",
       "    </tr>\n",
       "    <tr>\n",
       "      <th>12</th>\n",
       "      <td>0.960</td>\n",
       "      <td>33.0</td>\n",
       "      <td>800.0</td>\n",
       "      <td>31.0</td>\n",
       "      <td>1000.0</td>\n",
       "    </tr>\n",
       "    <tr>\n",
       "      <th>13</th>\n",
       "      <td>0.965</td>\n",
       "      <td>38.0</td>\n",
       "      <td>1000.0</td>\n",
       "      <td>35.0</td>\n",
       "      <td>800.0</td>\n",
       "    </tr>\n",
       "    <tr>\n",
       "      <th>14</th>\n",
       "      <td>0.970</td>\n",
       "      <td>43.0</td>\n",
       "      <td>1000.0</td>\n",
       "      <td>40.0</td>\n",
       "      <td>1000.0</td>\n",
       "    </tr>\n",
       "    <tr>\n",
       "      <th>15</th>\n",
       "      <td>0.975</td>\n",
       "      <td>49.0</td>\n",
       "      <td>1200.0</td>\n",
       "      <td>46.0</td>\n",
       "      <td>1200.0</td>\n",
       "    </tr>\n",
       "    <tr>\n",
       "      <th>16</th>\n",
       "      <td>0.980</td>\n",
       "      <td>58.0</td>\n",
       "      <td>1800.0</td>\n",
       "      <td>53.0</td>\n",
       "      <td>1400.0</td>\n",
       "    </tr>\n",
       "    <tr>\n",
       "      <th>17</th>\n",
       "      <td>0.985</td>\n",
       "      <td>70.0</td>\n",
       "      <td>2400.0</td>\n",
       "      <td>64.0</td>\n",
       "      <td>2200.0</td>\n",
       "    </tr>\n",
       "    <tr>\n",
       "      <th>18</th>\n",
       "      <td>0.990</td>\n",
       "      <td>91.0</td>\n",
       "      <td>4200.0</td>\n",
       "      <td>83.0</td>\n",
       "      <td>3800.0</td>\n",
       "    </tr>\n",
       "    <tr>\n",
       "      <th>19</th>\n",
       "      <td>0.995</td>\n",
       "      <td>140.0</td>\n",
       "      <td>9800.0</td>\n",
       "      <td>122.0</td>\n",
       "      <td>7800.0</td>\n",
       "    </tr>\n",
       "    <tr>\n",
       "      <th>20</th>\n",
       "      <td>1.000</td>\n",
       "      <td>1935.0</td>\n",
       "      <td>359000.0</td>\n",
       "      <td>34433.0</td>\n",
       "      <td>6862200.0</td>\n",
       "    </tr>\n",
       "  </tbody>\n",
       "</table>\n",
       "</div>"
      ],
      "text/plain": [
       "    percentile  turnstile-max  turnstile-max-slope  no-turnstile-max  \\\n",
       "0        0.900           14.0                  0.0              10.0   \n",
       "1        0.905           15.0                200.0              10.0   \n",
       "2        0.910           15.0                 -0.0              11.0   \n",
       "3        0.915           16.0                200.0              12.0   \n",
       "4        0.920           17.0                200.0              13.0   \n",
       "5        0.925           18.0                200.0              14.0   \n",
       "6        0.930           19.0                200.0              15.0   \n",
       "7        0.935           20.0                200.0              16.0   \n",
       "8        0.940           22.0                400.0              18.0   \n",
       "9        0.945           24.0                400.0              20.0   \n",
       "10       0.950           26.0                400.0              23.0   \n",
       "11       0.955           29.0                600.0              26.0   \n",
       "12       0.960           33.0                800.0              31.0   \n",
       "13       0.965           38.0               1000.0              35.0   \n",
       "14       0.970           43.0               1000.0              40.0   \n",
       "15       0.975           49.0               1200.0              46.0   \n",
       "16       0.980           58.0               1800.0              53.0   \n",
       "17       0.985           70.0               2400.0              64.0   \n",
       "18       0.990           91.0               4200.0              83.0   \n",
       "19       0.995          140.0               9800.0             122.0   \n",
       "20       1.000         1935.0             359000.0           34433.0   \n",
       "\n",
       "    no-turnstile-max-slope  \n",
       "0                      0.0  \n",
       "1                     -0.0  \n",
       "2                    200.0  \n",
       "3                    200.0  \n",
       "4                    200.0  \n",
       "5                    200.0  \n",
       "6                    200.0  \n",
       "7                    200.0  \n",
       "8                    400.0  \n",
       "9                    400.0  \n",
       "10                   600.0  \n",
       "11                   600.0  \n",
       "12                  1000.0  \n",
       "13                   800.0  \n",
       "14                  1000.0  \n",
       "15                  1200.0  \n",
       "16                  1400.0  \n",
       "17                  2200.0  \n",
       "18                  3800.0  \n",
       "19                  7800.0  \n",
       "20               6862200.0  "
      ]
     },
     "execution_count": 18,
     "metadata": {},
     "output_type": "execute_result"
    }
   ],
   "source": [
    "maxs_df"
   ]
  },
  {
   "cell_type": "markdown",
   "metadata": {},
   "source": [
    "* To plotting"
   ]
  },
  {
   "cell_type": "code",
   "execution_count": 19,
   "metadata": {},
   "outputs": [
    {
     "data": {
      "image/png": "[encoded data removed]",
      "text/plain": [
       "<matplotlib.figure.Figure at 0x1cbde677128>"
      ]
     },
     "metadata": {},
     "output_type": "display_data"
    }
   ],
   "source": [
    "fig_2, ax_2 = plt.subplots()\n",
    "\n",
    "ax_2.plot(percentiles,turnstile_mean_percentiles,'-o',color=colors[3],label='2017 turnstiles - mean')\n",
    "ax_2.plot(percentiles,no_turnstile_mean_percentiles,'-o',color=colors[0],label='no turnstiles - mean')\n",
    "\n",
    "ax_2.set_title('Percentile vs. Mean time-interval - 01/03/2017')\n",
    "ax_2.set_xlabel('Percentile')\n",
    "ax_2.set_ylabel('Mean of time-intervals [s]')\n",
    "ax_2.legend()\n",
    "ax_2.grid(True)\n",
    "plt.savefig('C:/Users/Tesista/Desktop/Evasion/03_report/02_Figs/1_percentileVsMean_2017-03-01.pdf')"
   ]
  },
  {
   "cell_type": "code",
   "execution_count": 20,
   "metadata": {
    "scrolled": true
   },
   "outputs": [
    {
     "data": {
      "image/png": "[encoded data removed]",
      "text/plain": [
       "<matplotlib.figure.Figure at 0x1cbeac56ba8>"
      ]
     },
     "metadata": {},
     "output_type": "display_data"
    }
   ],
   "source": [
    "fig_3, ax_3 = plt.subplots()\n",
    "ax_3.plot(percentiles,turnstile_50_percentiles,'-o',color=colors[3],label='2017 turnstiles - median')\n",
    "ax_3.plot(percentiles,no_turnstile_50_percentiles, '-o', color=colors[0], label='no turnstiles - median')\n",
    "ax_3.legend()\n",
    "ax_3.set_title('Percentile vs. Median time-interval - 01/03/2017')\n",
    "ax_3.set_xlabel('Percentile')\n",
    "ax_3.set_ylabel('Median of time-intervals [s]')\n",
    "ax_3.grid(True)\n",
    "plt.savefig('C:/Users/Tesista/Desktop/Evasion/03_report/02_Figs/1_percentileVsMedian_2017-03-01.pdf')"
   ]
  },
  {
   "cell_type": "code",
   "execution_count": 21,
   "metadata": {
    "scrolled": true
   },
   "outputs": [
    {
     "data": {
      "image/png": "[encoded data removed]",
      "text/plain": [
       "<matplotlib.figure.Figure at 0x1cbdd2cf518>"
      ]
     },
     "metadata": {},
     "output_type": "display_data"
    }
   ],
   "source": [
    "fig_4, ax_4 = plt.subplots()\n",
    "\n",
    "#Filtering for plotting:\n",
    "new_percentiles = percentiles[percentiles<1]\n",
    "new_turnstile_std_percentiles = [x for x in turnstile_std_percentiles if x < 20]\n",
    "new_no_turnstile_std_percentiles = [x for x in no_turnstile_std_percentiles if x < 20]\n",
    "#End of filter.\n",
    "\n",
    "ax_4.plot(new_percentiles,new_turnstile_std_percentiles,'-o',color=colors[3],label='2017 turnstiles - std.')\n",
    "ax_4.plot(new_percentiles,new_no_turnstile_std_percentiles, '-o', color=colors[0], label='no turnstiles - std.')\n",
    "ax_4.legend()\n",
    "ax_4.set_title('Percentile vs. Std. of time-interval - 01/03/2017')\n",
    "ax_4.set_xlabel('Percentile')\n",
    "ax_4.set_ylabel('Std. of time-interval [s]')\n",
    "ax_4.grid(True)\n",
    "\n",
    "plt.savefig('C:/Users/Tesista/Desktop/Evasion/03_report/02_Figs/1_percentileVsStd_2017-03-01.pdf')"
   ]
  },
  {
   "cell_type": "code",
   "execution_count": 22,
   "metadata": {},
   "outputs": [
    {
     "data": {
      "image/png": "[encoded data removed]",
      "text/plain": [
       "<matplotlib.figure.Figure at 0x1cbe0c9e908>"
      ]
     },
     "metadata": {},
     "output_type": "display_data"
    }
   ],
   "source": [
    "fig_5, ax_5 = plt.subplots()\n",
    "\n",
    "#Filtering for plotting:\n",
    "new_turnstile_max_percentiles = [x for x in turnstile_max_percentiles if x < 200]\n",
    "new_no_turnstile_max_percentiles = [x for x in no_turnstile_max_percentiles if x < 200]\n",
    "#End of filter.\n",
    "\n",
    "ax_5.plot(new_percentiles,new_turnstile_max_percentiles,'-o',color=colors[3],label='2017 turnstiles - max.')\n",
    "ax_5.plot(new_percentiles,new_no_turnstile_max_percentiles, '-o', color=colors[0], label='no turnstiles - max.')\n",
    "ax_5.legend()\n",
    "ax_5.set_title('Percentile vs. Max. time-interval - 01/03/2017')\n",
    "ax_5.set_xlabel('Percentile')\n",
    "ax_5.set_ylabel('Max. of time-intervals [s]')\n",
    "ax_5.grid(True)\n",
    "\n",
    "plt.savefig('C:/Users/Tesista/Desktop/Evasion/03_report/02_Figs/1_percentileVsMax_2017-03-01.pdf')"
   ]
  },
  {
   "cell_type": "code",
   "execution_count": 23,
   "metadata": {},
   "outputs": [
    {
     "data": {
      "image/png": "[encoded data removed]",
      "text/plain": [
       "<matplotlib.figure.Figure at 0x1cbdd0f3e80>"
      ]
     },
     "metadata": {},
     "output_type": "display_data"
    }
   ],
   "source": [
    "fig_7, ax_7 = plt.subplots()\n",
    "\n",
    "#Filtering for plotting:\n",
    "new_turnstile_mean_slope = turnstile_mean_slope[turnstile_mean_slope < 150]\n",
    "new_no_turnstile_mean_slope = no_turnstile_mean_slope[turnstile_mean_slope < 150]\n",
    "#End of filter.\n",
    "\n",
    "ax_7.plot(new_percentiles,new_turnstile_mean_slope,'-o',color=colors[3],label='2017 turnstiles - mean slope')\n",
    "ax_7.plot(new_percentiles,new_no_turnstile_mean_slope,'-o',color=colors[0],label='no turnstiles - mean slope')\n",
    "\n",
    "ax_7.set_title('Percentile vs. Slope of mean time-interval - 01/03/2017')\n",
    "ax_7.set_xlabel('Percentile')\n",
    "ax_7.set_ylabel('Slope of mean time-interval')\n",
    "ax_7.legend()\n",
    "ax_7.grid(True)\n",
    "\n",
    "\n",
    "plt.savefig('C:/Users/Tesista/Desktop/Evasion/03_report/02_Figs/1_percentileVsMeanSlope_2017-03-01.pdf')"
   ]
  },
  {
   "cell_type": "code",
   "execution_count": 24,
   "metadata": {},
   "outputs": [
    {
     "data": {
      "image/png": "[encoded data removed]",
      "text/plain": [
       "<matplotlib.figure.Figure at 0x1cbe87425c0>"
      ]
     },
     "metadata": {},
     "output_type": "display_data"
    }
   ],
   "source": [
    "fig_8, ax_8 = plt.subplots()\n",
    "\n",
    "#Filtering for plotting:\n",
    "new_turnstile_std_slope = turnstile_std_slope[turnstile_std_slope < 2000]\n",
    "new_no_turnstile_std_slope = no_turnstile_std_slope[no_turnstile_std_slope < 2000]\n",
    "#End of filter.\n",
    "\n",
    "ax_8.plot(new_percentiles,new_turnstile_std_slope,'-o',color=colors[3],label='2017 turnstiles - std. slope')\n",
    "ax_8.plot(new_percentiles,new_no_turnstile_std_slope,'-o',color=colors[0],label='no turnstiles - std. slope')\n",
    "\n",
    "ax_8.set_title('Percentile vs. Slope of Std. of time-interval - 01/03/2017')\n",
    "ax_8.set_xlabel('Percentile')\n",
    "ax_8.set_ylabel('Slope of Std. of time-interval')\n",
    "ax_8.legend()\n",
    "ax_8.grid(True)\n",
    "\n",
    "\n",
    "plt.savefig('C:/Users/Tesista/Desktop/Evasion/03_report/02_Figs/1_percentileVsStdSlope_2017-03-01.pdf')"
   ]
  },
  {
   "cell_type": "code",
   "execution_count": 25,
   "metadata": {},
   "outputs": [
    {
     "data": {
      "image/png": "[encoded data removed]",
      "text/plain": [
       "<matplotlib.figure.Figure at 0x1cb801ed208>"
      ]
     },
     "metadata": {},
     "output_type": "display_data"
    }
   ],
   "source": [
    "fig_9, ax_9 = plt.subplots()\n",
    "\n",
    "#Filtering for plotting:\n",
    "new_turnstile_max_slope = turnstile_max_slope[turnstile_max_slope < 50000]\n",
    "new_no_turnstile_max_slope = no_turnstile_max_slope[no_turnstile_max_slope < 50000]\n",
    "#End of filter.\n",
    "\n",
    "ax_9.plot(new_percentiles,new_turnstile_max_slope,'-o',color=colors[3],label='2017 turnstiles - Max. slope')\n",
    "ax_9.plot(new_percentiles,new_no_turnstile_max_slope,'-o',color=colors[0],label='no turnstiles - Max. slope')\n",
    "\n",
    "ax_9.set_title('Percentile vs. Slope of Max. time-interval - 01/03/2017')\n",
    "ax_9.set_xlabel('Percentile')\n",
    "ax_9.set_ylabel('Slope of Max. of time-interval')\n",
    "ax_9.legend()\n",
    "ax_9.grid(True)\n",
    "\n",
    "\n",
    "plt.savefig('C:/Users/Tesista/Desktop/Evasion/03_report/02_Figs/1_percentileVsMaxSlope_2017-03-01.pdf')"
   ]
  },
  {
   "cell_type": "markdown",
   "metadata": {},
   "source": [
    "### Closed"
   ]
  }
 ],
 "metadata": {
  "kernelspec": {
   "display_name": "Python 3",
   "language": "python",
   "name": "python3"
  },
  "language_info": {
   "codemirror_mode": {
    "name": "ipython",
    "version": 3
   },
   "file_extension": ".py",
   "mimetype": "text/x-python",
   "name": "python",
   "nbconvert_exporter": "python",
   "pygments_lexer": "ipython3",
   "version": "3.6.1"
  }
 },
 "nbformat": 4,
 "nbformat_minor": 2
}
