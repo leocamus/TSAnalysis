{
 "cells": [
  {
   "cell_type": "markdown",
   "metadata": {},
   "source": [
    "### Building evasion vs. mean time interval : by Bus by Service"
   ]
  },
  {
   "cell_type": "code",
   "execution_count": 1,
   "metadata": {
    "scrolled": true
   },
   "outputs": [
    {
     "data": {
      "text/html": [
       "<style>.container { width:80% !important; }</style>"
      ],
      "text/plain": [
       "<IPython.core.display.HTML object>"
      ]
     },
     "metadata": {},
     "output_type": "display_data"
    }
   ],
   "source": [
    "%matplotlib inline\n",
    "import pandas as pd\n",
    "import matplotlib\n",
    "import matplotlib.pyplot as plt\n",
    "import numpy as np\n",
    "from importlib import reload\n",
    "import datetime as dt\n",
    "from IPython.core.display import display, HTML\n",
    "display(HTML(\"<style>.container { width:80% !important; }</style>\"))"
   ]
  },
  {
   "cell_type": "code",
   "execution_count": 2,
   "metadata": {
    "collapsed": true,
    "scrolled": true
   },
   "outputs": [],
   "source": [
    "from Utils import TransantiagoConstants"
   ]
  },
  {
   "cell_type": "code",
   "execution_count": 3,
   "metadata": {
    "collapsed": true,
    "scrolled": true
   },
   "outputs": [],
   "source": [
    "first_quarter_path = \"C:/Users/leoca_000/Desktop/Evasion/01_analisis/03_datos/06_RFA/01_EvasionTrimestral/01_analisis/1st_quarter.xlsx\"\n",
    "second_quarter_path = \"C:/Users/leoca_000/Desktop/Evasion/01_analisis/03_datos/06_RFA/01_EvasionTrimestral/01_analisis/2nd_quarter.xlsx\"\n",
    "third_quarter_path = \"C:/Users/leoca_000/Desktop/Evasion/01_analisis/03_datos/06_RFA/01_EvasionTrimestral/01_analisis/3rd_quarter.xlsx\"\n",
    "codes_path = \"C:/Users/leoca_000/Desktop/Evasion/01_analisis/03_datos/04_DTPM/codes_services.xlsx\""
   ]
  },
  {
   "cell_type": "code",
   "execution_count": 4,
   "metadata": {
    "collapsed": true,
    "scrolled": true
   },
   "outputs": [],
   "source": [
    "first_quarter_evasion = pd.read_excel(first_quarter_path, encoding = 'latin-1')\n",
    "second_quarter_evasion = pd.read_excel(second_quarter_path, encoding = 'latin-1')\n",
    "third_quarter_evasion = pd.read_excel(third_quarter_path, encoding = 'latin-1')\n",
    "codes = pd.read_excel(codes_path, encoding = 'latin-1')"
   ]
  },
  {
   "cell_type": "code",
   "execution_count": 5,
   "metadata": {
    "collapsed": true
   },
   "outputs": [],
   "source": [
    "first_quarter_evasion['TIEMPO'] = first_quarter_evasion['HORA'].astype(str)+':'+first_quarter_evasion['MINUTOS'].astype(str)+':00'\n",
    "second_quarter_evasion['TIEMPO'] = second_quarter_evasion['HORA'].astype(str)+':'+second_quarter_evasion['MINUTOS'].astype(str)+':00'\n",
    "third_quarter_evasion['TIEMPO'] = third_quarter_evasion['HORA'].astype(str)+':'+third_quarter_evasion['MINUTOS'].astype(str)+':00'"
   ]
  },
  {
   "cell_type": "code",
   "execution_count": 6,
   "metadata": {
    "collapsed": true,
    "scrolled": true
   },
   "outputs": [],
   "source": [
    "first_quarter_evasion.columns = ['FECHA', 'SERVICIO','PATENTE','PUERTAS','N_PUERTA','LUGAR_INICIO','HORA_INICIO','HORA','MINUTO','INGRESAN','NO_VALIDAN','TP','TIEMPO']\n",
    "second_quarter_evasion.columns = ['FECHA', 'SERVICIO','TIPO','PATENTE','PUERTAS','N_PUERTA','LUGAR_INICIO','HORA_INICIO','HORA','MINUTO','INGRESAN','NO_VALIDAN','TP','TIEMPO']\n",
    "third_quarter_evasion.columns = ['FECHA', 'SERVICIO','PATENTE','PUERTAS','N_PUERTA','LUGAR_INICIO','HORA_INICIO','HORA','MINUTO','INGRESAN','NO_VALIDAN','TP','TIEMPO']\n",
    "del second_quarter_evasion['TIPO']"
   ]
  },
  {
   "cell_type": "code",
   "execution_count": 7,
   "metadata": {},
   "outputs": [
    {
     "data": {
      "text/plain": [
       "str"
      ]
     },
     "execution_count": 7,
     "metadata": {},
     "output_type": "execute_result"
    }
   ],
   "source": [
    "type(first_quarter_evasion.loc[0,'TIEMPO'])"
   ]
  },
  {
   "cell_type": "code",
   "execution_count": 8,
   "metadata": {},
   "outputs": [
    {
     "data": {
      "text/plain": [
       "pandas._libs.tslib.Timestamp"
      ]
     },
     "execution_count": 8,
     "metadata": {},
     "output_type": "execute_result"
    }
   ],
   "source": [
    "type(first_quarter_evasion.loc[0,'FECHA'])"
   ]
  },
  {
   "cell_type": "code",
   "execution_count": 9,
   "metadata": {
    "collapsed": true,
    "scrolled": true
   },
   "outputs": [],
   "source": [
    "frames = [first_quarter_evasion, second_quarter_evasion, third_quarter_evasion]\n",
    "evasion = pd.concat(frames, keys=['first', 'second', 'third'])"
   ]
  },
  {
   "cell_type": "code",
   "execution_count": 10,
   "metadata": {
    "collapsed": true
   },
   "outputs": [],
   "source": [
    "evasion.loc[:,'SERVICIO'] = evasion.loc[:,'SERVICIO'].apply(str)"
   ]
  },
  {
   "cell_type": "markdown",
   "metadata": {},
   "source": [
    "* Processing codes before merging. Merge should be made only by codes_ida or codes_ret. Be aware of it"
   ]
  },
  {
   "cell_type": "code",
   "execution_count": 11,
   "metadata": {},
   "outputs": [
    {
     "name": "stderr",
     "output_type": "stream",
     "text": [
      "C:\\Users\\leoca_000\\Anaconda3\\lib\\site-packages\\pandas\\core\\indexing.py:517: SettingWithCopyWarning: \n",
      "A value is trying to be set on a copy of a slice from a DataFrame.\n",
      "Try using .loc[row_indexer,col_indexer] = value instead\n",
      "\n",
      "See the caveats in the documentation: http://pandas.pydata.org/pandas-docs/stable/indexing.html#indexing-view-versus-copy\n",
      "  self.obj[item] = s\n"
     ]
    }
   ],
   "source": [
    "codes_ida = codes[codes['DIRECTION']=='Ida']\n",
    "codes_ret = codes[codes['DIRECTION']=='Ret']\n",
    "\n",
    "# Both, USER_CODE and TS_CODE should be strings, in both codes_ida and codes_ret.\n",
    "codes_ida.loc[:,'USER_CODE'] = codes_ida.loc[:,'USER_CODE'].apply(str)\n",
    "codes_ida.loc[:,'TS_CODE'] = codes_ida.loc[:,'TS_CODE'].apply(str)\n",
    "\n",
    "codes_ret.loc[:,'USER_CODE'] = codes_ret.loc[:,'USER_CODE'].apply(str)\n",
    "codes_ret.loc[:,'TS_CODE'] = codes_ret.loc[:,'TS_CODE'].apply(str)\n",
    "\n",
    "del codes_ida['DIRECTION']\n",
    "del codes_ret['DIRECTION']\n",
    "\n",
    "\n",
    "#Cleaning codes from special services. Be aware of this since it might generates errors in the final merging with trx database.\n",
    "clean_codes_ida = codes_ida[(~codes_ida[\"TS_CODE\"].str.contains('y'))&(~codes_ida[\"TS_CODE\"].str.contains('Y'))]\n",
    "clean_codes_ret = codes_ida[(~codes_ida[\"TS_CODE\"].str.contains('y'))&(~codes_ida[\"TS_CODE\"].str.contains('Y'))]\n",
    "\n",
    "clean_codes_ida = clean_codes_ida.rename(columns = {'USER_CODE':'SERVICIO'})\n",
    "clean_codes_ret = clean_codes_ret.rename(columns = {'USER_CODE':'SERVICIO'})"
   ]
  },
  {
   "cell_type": "code",
   "execution_count": 12,
   "metadata": {
    "collapsed": true
   },
   "outputs": [],
   "source": [
    "evasion = pd.merge(evasion,clean_codes_ida, on=['SERVICIO'], how='left')"
   ]
  },
  {
   "cell_type": "code",
   "execution_count": 13,
   "metadata": {},
   "outputs": [
    {
     "data": {
      "text/plain": [
       "array(['D06'], dtype=object)"
      ]
     },
     "execution_count": 13,
     "metadata": {},
     "output_type": "execute_result"
    }
   ],
   "source": [
    "evasion.loc[evasion['TS_CODE'].isnull(),'SERVICIO'].unique()"
   ]
  },
  {
   "cell_type": "markdown",
   "metadata": {},
   "source": [
    "* THIS IS HARDCODED"
   ]
  },
  {
   "cell_type": "code",
   "execution_count": 14,
   "metadata": {
    "collapsed": true
   },
   "outputs": [],
   "source": [
    "evasion.loc[evasion['TS_CODE'].isnull(),'TS_CODE']='446'"
   ]
  },
  {
   "cell_type": "code",
   "execution_count": 15,
   "metadata": {},
   "outputs": [
    {
     "data": {
      "text/html": [
       "<div>\n",
       "<style>\n",
       "    .dataframe thead tr:only-child th {\n",
       "        text-align: right;\n",
       "    }\n",
       "\n",
       "    .dataframe thead th {\n",
       "        text-align: left;\n",
       "    }\n",
       "\n",
       "    .dataframe tbody tr th {\n",
       "        vertical-align: top;\n",
       "    }\n",
       "</style>\n",
       "<table border=\"1\" class=\"dataframe\">\n",
       "  <thead>\n",
       "    <tr style=\"text-align: right;\">\n",
       "      <th></th>\n",
       "      <th>FECHA</th>\n",
       "      <th>SERVICIO</th>\n",
       "      <th>PATENTE</th>\n",
       "      <th>PUERTAS</th>\n",
       "      <th>N_PUERTA</th>\n",
       "      <th>LUGAR_INICIO</th>\n",
       "      <th>HORA_INICIO</th>\n",
       "      <th>HORA</th>\n",
       "      <th>MINUTO</th>\n",
       "      <th>INGRESAN</th>\n",
       "      <th>NO_VALIDAN</th>\n",
       "      <th>TP</th>\n",
       "      <th>TIEMPO</th>\n",
       "      <th>UN</th>\n",
       "      <th>TS_CODE</th>\n",
       "    </tr>\n",
       "  </thead>\n",
       "  <tbody>\n",
       "    <tr>\n",
       "      <th>0</th>\n",
       "      <td>2017-01-10</td>\n",
       "      <td>214</td>\n",
       "      <td>BJFH98</td>\n",
       "      <td>3</td>\n",
       "      <td>1</td>\n",
       "      <td>AV. ADOLFO LOPEZ MATEO</td>\n",
       "      <td>07:10:00</td>\n",
       "      <td>7</td>\n",
       "      <td>10</td>\n",
       "      <td>15</td>\n",
       "      <td>1</td>\n",
       "      <td>P</td>\n",
       "      <td>7:10:00</td>\n",
       "      <td>2.0</td>\n",
       "      <td>214</td>\n",
       "    </tr>\n",
       "    <tr>\n",
       "      <th>1</th>\n",
       "      <td>2017-01-10</td>\n",
       "      <td>214</td>\n",
       "      <td>BJFH98</td>\n",
       "      <td>3</td>\n",
       "      <td>1</td>\n",
       "      <td>AV. ADOLFO LOPEZ MATEO</td>\n",
       "      <td>07:10:00</td>\n",
       "      <td>7</td>\n",
       "      <td>12</td>\n",
       "      <td>9</td>\n",
       "      <td>0</td>\n",
       "      <td>P</td>\n",
       "      <td>7:12:00</td>\n",
       "      <td>2.0</td>\n",
       "      <td>214</td>\n",
       "    </tr>\n",
       "    <tr>\n",
       "      <th>2</th>\n",
       "      <td>2017-01-10</td>\n",
       "      <td>214</td>\n",
       "      <td>BJFH98</td>\n",
       "      <td>3</td>\n",
       "      <td>1</td>\n",
       "      <td>AV. ADOLFO LOPEZ MATEO</td>\n",
       "      <td>07:10:00</td>\n",
       "      <td>7</td>\n",
       "      <td>13</td>\n",
       "      <td>6</td>\n",
       "      <td>2</td>\n",
       "      <td>P</td>\n",
       "      <td>7:13:00</td>\n",
       "      <td>2.0</td>\n",
       "      <td>214</td>\n",
       "    </tr>\n",
       "    <tr>\n",
       "      <th>3</th>\n",
       "      <td>2017-01-10</td>\n",
       "      <td>214</td>\n",
       "      <td>BJFH98</td>\n",
       "      <td>3</td>\n",
       "      <td>1</td>\n",
       "      <td>AV. ADOLFO LOPEZ MATEO</td>\n",
       "      <td>07:10:00</td>\n",
       "      <td>7</td>\n",
       "      <td>18</td>\n",
       "      <td>8</td>\n",
       "      <td>1</td>\n",
       "      <td>P</td>\n",
       "      <td>7:18:00</td>\n",
       "      <td>2.0</td>\n",
       "      <td>214</td>\n",
       "    </tr>\n",
       "    <tr>\n",
       "      <th>4</th>\n",
       "      <td>2017-01-10</td>\n",
       "      <td>214</td>\n",
       "      <td>BJFH98</td>\n",
       "      <td>3</td>\n",
       "      <td>1</td>\n",
       "      <td>AV. ADOLFO LOPEZ MATEO</td>\n",
       "      <td>07:10:00</td>\n",
       "      <td>7</td>\n",
       "      <td>20</td>\n",
       "      <td>5</td>\n",
       "      <td>1</td>\n",
       "      <td>P</td>\n",
       "      <td>7:20:00</td>\n",
       "      <td>2.0</td>\n",
       "      <td>214</td>\n",
       "    </tr>\n",
       "  </tbody>\n",
       "</table>\n",
       "</div>"
      ],
      "text/plain": [
       "       FECHA SERVICIO PATENTE PUERTAS  N_PUERTA            LUGAR_INICIO  \\\n",
       "0 2017-01-10      214  BJFH98       3         1  AV. ADOLFO LOPEZ MATEO   \n",
       "1 2017-01-10      214  BJFH98       3         1  AV. ADOLFO LOPEZ MATEO   \n",
       "2 2017-01-10      214  BJFH98       3         1  AV. ADOLFO LOPEZ MATEO   \n",
       "3 2017-01-10      214  BJFH98       3         1  AV. ADOLFO LOPEZ MATEO   \n",
       "4 2017-01-10      214  BJFH98       3         1  AV. ADOLFO LOPEZ MATEO   \n",
       "\n",
       "  HORA_INICIO  HORA  MINUTO  INGRESAN  NO_VALIDAN TP   TIEMPO   UN TS_CODE  \n",
       "0    07:10:00     7      10        15           1  P  7:10:00  2.0     214  \n",
       "1    07:10:00     7      12         9           0  P  7:12:00  2.0     214  \n",
       "2    07:10:00     7      13         6           2  P  7:13:00  2.0     214  \n",
       "3    07:10:00     7      18         8           1  P  7:18:00  2.0     214  \n",
       "4    07:10:00     7      20         5           1  P  7:20:00  2.0     214  "
      ]
     },
     "execution_count": 15,
     "metadata": {},
     "output_type": "execute_result"
    }
   ],
   "source": [
    "evasion.head()"
   ]
  },
  {
   "cell_type": "markdown",
   "metadata": {},
   "source": [
    "* Processing evasion-ddbb before merging"
   ]
  },
  {
   "cell_type": "code",
   "execution_count": 16,
   "metadata": {
    "collapsed": true
   },
   "outputs": [],
   "source": [
    "evasion['PATENTE'] =  evasion['PATENTE'].str.replace(' ','')\n",
    "\n",
    "evasion.loc[:,'TS_CODE'] = evasion.loc[:,'TS_CODE'].apply(str)\n",
    "\n",
    "evasion = evasion.rename(columns = {'SERVICIO':'SERVICIO_USUARIO', 'TS_CODE':'SERVICIO'})\n",
    "\n",
    "evasion_paradero = evasion[evasion['TP']=='P']\n",
    "evasion_paradero_first = evasion_paradero[evasion_paradero['N_PUERTA']==1]"
   ]
  },
  {
   "cell_type": "code",
   "execution_count": 17,
   "metadata": {},
   "outputs": [
    {
     "data": {
      "text/plain": [
       "str"
      ]
     },
     "execution_count": 17,
     "metadata": {},
     "output_type": "execute_result"
    }
   ],
   "source": [
    "type(evasion['SERVICIO'][0])"
   ]
  },
  {
   "cell_type": "markdown",
   "metadata": {},
   "source": [
    "* Getting evasion by bus by service"
   ]
  },
  {
   "cell_type": "code",
   "execution_count": 18,
   "metadata": {
    "collapsed": true,
    "scrolled": true
   },
   "outputs": [],
   "source": [
    "f = {'SERVICIO':['count'],'INGRESAN':['sum'], 'NO_VALIDAN':['sum']}\n",
    "\n",
    "summary = evasion_paradero_first.groupby(['FECHA','PATENTE','SERVICIO']).agg(f)\n",
    "summary.columns=['EVASION_COUNT', 'TOTAL_INGRESAN', 'TOTAL_NO_VALIDAN']\n",
    "summary.reset_index(inplace=True)"
   ]
  },
  {
   "cell_type": "markdown",
   "metadata": {},
   "source": [
    "* Building complete etapas ddbb."
   ]
  },
  {
   "cell_type": "code",
   "execution_count": 19,
   "metadata": {
    "collapsed": true,
    "scrolled": true
   },
   "outputs": [],
   "source": [
    "common_dates = TransantiagoConstants.common_dates"
   ]
  },
  {
   "cell_type": "code",
   "execution_count": 20,
   "metadata": {
    "collapsed": true,
    "scrolled": true
   },
   "outputs": [],
   "source": [
    "reduced_etapas = pd.DataFrame()\n",
    "\n",
    "for date in common_dates:\n",
    "    base_input_path = 'C:/Users/leoca_000/Desktop/Evasion/01_analisis/03_datos/01_SSH/02_TIMESBYBUSBYSERVICE/02_20SECS/'\n",
    "    file_name = date + '-meanByBusByService.csv'\n",
    "    grouped_by_bus = pd.read_csv(base_input_path+file_name, encoding = 'latin-1',sep =\";\")\n",
    "    reduced_etapas = pd.concat([reduced_etapas,grouped_by_bus])\n"
   ]
  },
  {
   "cell_type": "markdown",
   "metadata": {},
   "source": [
    "* Processing etapas ddbb before merging"
   ]
  },
  {
   "cell_type": "code",
   "execution_count": 21,
   "metadata": {
    "collapsed": true,
    "scrolled": true
   },
   "outputs": [],
   "source": [
    "del reduced_etapas['Unnamed: 0']\n",
    "reduced_etapas = reduced_etapas.rename(columns = {'fecha':'FECHA', 'sitio_subida':'PATENTE', 'count': 'ETAPAS_COUNT', 'servicio_subida' : 'SERVICIO'})\n",
    "reduced_etapas['FECHA'] = pd.to_datetime(reduced_etapas.FECHA)\n",
    "reduced_etapas['PATENTE'] = reduced_etapas['PATENTE'].str.replace(\"-\", \"\")\n",
    "reduced_etapas['PATENTE'] = reduced_etapas['PATENTE'].str.replace(\" \", \"\")"
   ]
  },
  {
   "cell_type": "code",
   "execution_count": 22,
   "metadata": {
    "collapsed": true
   },
   "outputs": [],
   "source": [
    "reduced_etapas.reset_index(drop=True,inplace=True)"
   ]
  },
  {
   "cell_type": "code",
   "execution_count": 23,
   "metadata": {},
   "outputs": [
    {
     "data": {
      "text/plain": [
       "pandas._libs.tslib.Timestamp"
      ]
     },
     "execution_count": 23,
     "metadata": {},
     "output_type": "execute_result"
    }
   ],
   "source": [
    "type(reduced_etapas.loc[0,'FECHA'])"
   ]
  },
  {
   "cell_type": "markdown",
   "metadata": {},
   "source": [
    "* Merging."
   ]
  },
  {
   "cell_type": "code",
   "execution_count": 24,
   "metadata": {
    "collapsed": true,
    "scrolled": true
   },
   "outputs": [],
   "source": [
    "evasion_vs_mean = pd.merge(summary,reduced_etapas, on=['PATENTE','SERVICIO','FECHA'], how='left')"
   ]
  },
  {
   "cell_type": "code",
   "execution_count": 25,
   "metadata": {},
   "outputs": [
    {
     "data": {
      "text/plain": [
       "1184"
      ]
     },
     "execution_count": 25,
     "metadata": {},
     "output_type": "execute_result"
    }
   ],
   "source": [
    "len(evasion_vs_mean.index)"
   ]
  },
  {
   "cell_type": "markdown",
   "metadata": {},
   "source": [
    "* Getting rid of missing values"
   ]
  },
  {
   "cell_type": "code",
   "execution_count": 26,
   "metadata": {
    "collapsed": true,
    "scrolled": true
   },
   "outputs": [],
   "source": [
    "clean_evasion_vs_mean = evasion_vs_mean[evasion_vs_mean['mean']>0]"
   ]
  },
  {
   "cell_type": "code",
   "execution_count": 27,
   "metadata": {},
   "outputs": [
    {
     "data": {
      "text/plain": [
       "481"
      ]
     },
     "execution_count": 27,
     "metadata": {},
     "output_type": "execute_result"
    }
   ],
   "source": [
    "len(clean_evasion_vs_mean.index)"
   ]
  },
  {
   "cell_type": "markdown",
   "metadata": {},
   "source": [
    "* Computing evasion rate: should be computed before... a warning is popping up"
   ]
  },
  {
   "cell_type": "code",
   "execution_count": 28,
   "metadata": {
    "scrolled": false
   },
   "outputs": [
    {
     "name": "stderr",
     "output_type": "stream",
     "text": [
      "C:\\Users\\leoca_000\\Anaconda3\\lib\\site-packages\\pandas\\core\\indexing.py:337: SettingWithCopyWarning: \n",
      "A value is trying to be set on a copy of a slice from a DataFrame.\n",
      "Try using .loc[row_indexer,col_indexer] = value instead\n",
      "\n",
      "See the caveats in the documentation: http://pandas.pydata.org/pandas-docs/stable/indexing.html#indexing-view-versus-copy\n",
      "  self.obj[key] = _infer_fill_value(value)\n",
      "C:\\Users\\leoca_000\\Anaconda3\\lib\\site-packages\\pandas\\core\\indexing.py:517: SettingWithCopyWarning: \n",
      "A value is trying to be set on a copy of a slice from a DataFrame.\n",
      "Try using .loc[row_indexer,col_indexer] = value instead\n",
      "\n",
      "See the caveats in the documentation: http://pandas.pydata.org/pandas-docs/stable/indexing.html#indexing-view-versus-copy\n",
      "  self.obj[item] = s\n"
     ]
    }
   ],
   "source": [
    "clean_evasion_vs_mean.loc[:,'EVASION_RATE'] = clean_evasion_vs_mean.loc[:,'TOTAL_NO_VALIDAN'] / clean_evasion_vs_mean.loc[:,'TOTAL_INGRESAN']"
   ]
  },
  {
   "cell_type": "code",
   "execution_count": 29,
   "metadata": {
    "scrolled": false
   },
   "outputs": [
    {
     "name": "stderr",
     "output_type": "stream",
     "text": [
      "C:\\Users\\leoca_000\\Anaconda3\\lib\\site-packages\\pandas\\core\\indexing.py:517: SettingWithCopyWarning: \n",
      "A value is trying to be set on a copy of a slice from a DataFrame.\n",
      "Try using .loc[row_indexer,col_indexer] = value instead\n",
      "\n",
      "See the caveats in the documentation: http://pandas.pydata.org/pandas-docs/stable/indexing.html#indexing-view-versus-copy\n",
      "  self.obj[item] = s\n"
     ]
    }
   ],
   "source": [
    "clean_evasion_vs_mean.loc[:,'fecha_instalacion'] = pd.to_datetime(clean_evasion_vs_mean.loc[:,'fecha_instalacion'])"
   ]
  },
  {
   "cell_type": "code",
   "execution_count": 30,
   "metadata": {},
   "outputs": [
    {
     "name": "stderr",
     "output_type": "stream",
     "text": [
      "C:\\Users\\leoca_000\\Anaconda3\\lib\\site-packages\\pandas\\core\\indexing.py:337: SettingWithCopyWarning: \n",
      "A value is trying to be set on a copy of a slice from a DataFrame.\n",
      "Try using .loc[row_indexer,col_indexer] = value instead\n",
      "\n",
      "See the caveats in the documentation: http://pandas.pydata.org/pandas-docs/stable/indexing.html#indexing-view-versus-copy\n",
      "  self.obj[key] = _infer_fill_value(value)\n",
      "C:\\Users\\leoca_000\\Anaconda3\\lib\\site-packages\\pandas\\core\\indexing.py:517: SettingWithCopyWarning: \n",
      "A value is trying to be set on a copy of a slice from a DataFrame.\n",
      "Try using .loc[row_indexer,col_indexer] = value instead\n",
      "\n",
      "See the caveats in the documentation: http://pandas.pydata.org/pandas-docs/stable/indexing.html#indexing-view-versus-copy\n",
      "  self.obj[item] = s\n"
     ]
    }
   ],
   "source": [
    "clean_evasion_vs_mean.loc[:,'SI_TORNIQUETE'] = (clean_evasion_vs_mean.loc[:,'fecha_instalacion'].notnull())"
   ]
  },
  {
   "cell_type": "code",
   "execution_count": 31,
   "metadata": {
    "scrolled": false
   },
   "outputs": [
    {
     "name": "stderr",
     "output_type": "stream",
     "text": [
      "C:\\Users\\leoca_000\\Anaconda3\\lib\\site-packages\\pandas\\core\\indexing.py:337: SettingWithCopyWarning: \n",
      "A value is trying to be set on a copy of a slice from a DataFrame.\n",
      "Try using .loc[row_indexer,col_indexer] = value instead\n",
      "\n",
      "See the caveats in the documentation: http://pandas.pydata.org/pandas-docs/stable/indexing.html#indexing-view-versus-copy\n",
      "  self.obj[key] = _infer_fill_value(value)\n",
      "C:\\Users\\leoca_000\\Anaconda3\\lib\\site-packages\\pandas\\core\\indexing.py:517: SettingWithCopyWarning: \n",
      "A value is trying to be set on a copy of a slice from a DataFrame.\n",
      "Try using .loc[row_indexer,col_indexer] = value instead\n",
      "\n",
      "See the caveats in the documentation: http://pandas.pydata.org/pandas-docs/stable/indexing.html#indexing-view-versus-copy\n",
      "  self.obj[item] = s\n"
     ]
    }
   ],
   "source": [
    "clean_evasion_vs_mean.loc[:,'SI_2017_TORNIQUETE'] = (clean_evasion_vs_mean.loc[:,'fecha_instalacion']>pd.to_datetime('2017-01-01'))"
   ]
  },
  {
   "cell_type": "code",
   "execution_count": 32,
   "metadata": {
    "collapsed": true,
    "scrolled": true
   },
   "outputs": [],
   "source": [
    "clean_evasion_vs_mean_no_turnstile = clean_evasion_vs_mean[(clean_evasion_vs_mean['SI_TORNIQUETE']==False) | \n",
    "                                                           ((clean_evasion_vs_mean['SI_TORNIQUETE']==True) & (clean_evasion_vs_mean['FECHA']<=clean_evasion_vs_mean['fecha_instalacion']))]"
   ]
  },
  {
   "cell_type": "code",
   "execution_count": 33,
   "metadata": {},
   "outputs": [
    {
     "data": {
      "text/html": [
       "<div>\n",
       "<style>\n",
       "    .dataframe thead tr:only-child th {\n",
       "        text-align: right;\n",
       "    }\n",
       "\n",
       "    .dataframe thead th {\n",
       "        text-align: left;\n",
       "    }\n",
       "\n",
       "    .dataframe tbody tr th {\n",
       "        vertical-align: top;\n",
       "    }\n",
       "</style>\n",
       "<table border=\"1\" class=\"dataframe\">\n",
       "  <thead>\n",
       "    <tr style=\"text-align: right;\">\n",
       "      <th></th>\n",
       "      <th>FECHA</th>\n",
       "      <th>PATENTE</th>\n",
       "      <th>SERVICIO</th>\n",
       "      <th>EVASION_COUNT</th>\n",
       "      <th>TOTAL_INGRESAN</th>\n",
       "      <th>TOTAL_NO_VALIDAN</th>\n",
       "      <th>ETAPAS_COUNT</th>\n",
       "      <th>sum</th>\n",
       "      <th>mean</th>\n",
       "      <th>fecha_instalacion</th>\n",
       "      <th>EVASION_RATE</th>\n",
       "      <th>SI_TORNIQUETE</th>\n",
       "      <th>SI_2017_TORNIQUETE</th>\n",
       "    </tr>\n",
       "  </thead>\n",
       "  <tbody>\n",
       "    <tr>\n",
       "      <th>302</th>\n",
       "      <td>2017-03-09</td>\n",
       "      <td>BKWK90</td>\n",
       "      <td>F05</td>\n",
       "      <td>49</td>\n",
       "      <td>94</td>\n",
       "      <td>27</td>\n",
       "      <td>212.0</td>\n",
       "      <td>618.0</td>\n",
       "      <td>2.915094</td>\n",
       "      <td>NaT</td>\n",
       "      <td>0.287234</td>\n",
       "      <td>False</td>\n",
       "      <td>False</td>\n",
       "    </tr>\n",
       "    <tr>\n",
       "      <th>303</th>\n",
       "      <td>2017-03-09</td>\n",
       "      <td>CJJH75</td>\n",
       "      <td>B07</td>\n",
       "      <td>48</td>\n",
       "      <td>125</td>\n",
       "      <td>58</td>\n",
       "      <td>179.0</td>\n",
       "      <td>518.0</td>\n",
       "      <td>2.893855</td>\n",
       "      <td>2017-07-03</td>\n",
       "      <td>0.464000</td>\n",
       "      <td>True</td>\n",
       "      <td>True</td>\n",
       "    </tr>\n",
       "    <tr>\n",
       "      <th>304</th>\n",
       "      <td>2017-03-09</td>\n",
       "      <td>CJKC18</td>\n",
       "      <td>B07</td>\n",
       "      <td>38</td>\n",
       "      <td>48</td>\n",
       "      <td>7</td>\n",
       "      <td>37.0</td>\n",
       "      <td>136.0</td>\n",
       "      <td>3.675676</td>\n",
       "      <td>2017-07-05</td>\n",
       "      <td>0.145833</td>\n",
       "      <td>True</td>\n",
       "      <td>True</td>\n",
       "    </tr>\n",
       "    <tr>\n",
       "      <th>305</th>\n",
       "      <td>2017-03-09</td>\n",
       "      <td>CJRG61</td>\n",
       "      <td>F05</td>\n",
       "      <td>25</td>\n",
       "      <td>33</td>\n",
       "      <td>18</td>\n",
       "      <td>22.0</td>\n",
       "      <td>95.0</td>\n",
       "      <td>4.318182</td>\n",
       "      <td>NaT</td>\n",
       "      <td>0.545455</td>\n",
       "      <td>False</td>\n",
       "      <td>False</td>\n",
       "    </tr>\n",
       "    <tr>\n",
       "      <th>306</th>\n",
       "      <td>2017-03-09</td>\n",
       "      <td>FLXB75</td>\n",
       "      <td>B07</td>\n",
       "      <td>20</td>\n",
       "      <td>62</td>\n",
       "      <td>0</td>\n",
       "      <td>153.0</td>\n",
       "      <td>757.0</td>\n",
       "      <td>4.947712</td>\n",
       "      <td>2016-07-26</td>\n",
       "      <td>0.000000</td>\n",
       "      <td>True</td>\n",
       "      <td>False</td>\n",
       "    </tr>\n",
       "  </tbody>\n",
       "</table>\n",
       "</div>"
      ],
      "text/plain": [
       "         FECHA PATENTE SERVICIO  EVASION_COUNT  TOTAL_INGRESAN  \\\n",
       "302 2017-03-09  BKWK90      F05             49              94   \n",
       "303 2017-03-09  CJJH75      B07             48             125   \n",
       "304 2017-03-09  CJKC18      B07             38              48   \n",
       "305 2017-03-09  CJRG61      F05             25              33   \n",
       "306 2017-03-09  FLXB75      B07             20              62   \n",
       "\n",
       "     TOTAL_NO_VALIDAN  ETAPAS_COUNT    sum      mean fecha_instalacion  \\\n",
       "302                27         212.0  618.0  2.915094               NaT   \n",
       "303                58         179.0  518.0  2.893855        2017-07-03   \n",
       "304                 7          37.0  136.0  3.675676        2017-07-05   \n",
       "305                18          22.0   95.0  4.318182               NaT   \n",
       "306                 0         153.0  757.0  4.947712        2016-07-26   \n",
       "\n",
       "     EVASION_RATE  SI_TORNIQUETE  SI_2017_TORNIQUETE  \n",
       "302      0.287234          False               False  \n",
       "303      0.464000           True                True  \n",
       "304      0.145833           True                True  \n",
       "305      0.545455          False               False  \n",
       "306      0.000000           True               False  "
      ]
     },
     "execution_count": 33,
     "metadata": {},
     "output_type": "execute_result"
    }
   ],
   "source": [
    "clean_evasion_vs_mean.head()"
   ]
  },
  {
   "cell_type": "code",
   "execution_count": 40,
   "metadata": {},
   "outputs": [
    {
     "data": {
      "text/plain": [
       "pandas._libs.tslib.NaTType"
      ]
     },
     "execution_count": 40,
     "metadata": {},
     "output_type": "execute_result"
    }
   ],
   "source": [
    "type(clean_evasion_vs_mean.loc[302,'fecha_instalacion'])"
   ]
  },
  {
   "cell_type": "code",
   "execution_count": 41,
   "metadata": {},
   "outputs": [
    {
     "data": {
      "text/plain": [
       "pandas._libs.tslib.Timestamp"
      ]
     },
     "execution_count": 41,
     "metadata": {},
     "output_type": "execute_result"
    }
   ],
   "source": [
    "type(clean_evasion_vs_mean.loc[303,'fecha_instalacion'])"
   ]
  },
  {
   "cell_type": "code",
   "execution_count": 34,
   "metadata": {},
   "outputs": [
    {
     "data": {
      "text/plain": [
       "359"
      ]
     },
     "execution_count": 34,
     "metadata": {},
     "output_type": "execute_result"
    }
   ],
   "source": [
    "len(clean_evasion_vs_mean_no_turnstile.index)"
   ]
  },
  {
   "cell_type": "code",
   "execution_count": 35,
   "metadata": {
    "scrolled": true
   },
   "outputs": [
    {
     "data": {
      "text/plain": [
       "<matplotlib.text.Text at 0x28bc2904a20>"
      ]
     },
     "execution_count": 35,
     "metadata": {},
     "output_type": "execute_result"
    },
    {
     "data": {
      "image/png": "[encoded data removed]",
      "text/plain": [
       "<matplotlib.figure.Figure at 0x28bc19dba90>"
      ]
     },
     "metadata": {},
     "output_type": "display_data"
    }
   ],
   "source": [
    "fig_1, ax_1 = plt.subplots()\n",
    "\n",
    "ax_1.scatter(clean_evasion_vs_mean_no_turnstile['mean'],clean_evasion_vs_mean_no_turnstile['EVASION_RATE'])\n",
    "ax_1.set_title('Evasion vs. Mean Time - No Turns, By Bus and Service, 20Secs')\n",
    "ax_1.set_xlabel('Mean Time Interval [s]')\n",
    "ax_1.set_ylabel('Evasion Rate [%]')\n",
    "\n",
    "#plt.savefig('C:/Users/leoca_000/Desktop/Evasion/03_report/02_Figs/8_20Secs_EvasionVsMeanTimeByBusByService.pdf')"
   ]
  },
  {
   "cell_type": "code",
   "execution_count": 36,
   "metadata": {},
   "outputs": [
    {
     "data": {
      "text/html": [
       "<div>\n",
       "<style>\n",
       "    .dataframe thead tr:only-child th {\n",
       "        text-align: right;\n",
       "    }\n",
       "\n",
       "    .dataframe thead th {\n",
       "        text-align: left;\n",
       "    }\n",
       "\n",
       "    .dataframe tbody tr th {\n",
       "        vertical-align: top;\n",
       "    }\n",
       "</style>\n",
       "<table border=\"1\" class=\"dataframe\">\n",
       "  <thead>\n",
       "    <tr style=\"text-align: right;\">\n",
       "      <th></th>\n",
       "      <th>FECHA</th>\n",
       "      <th>PATENTE</th>\n",
       "      <th>SERVICIO</th>\n",
       "      <th>EVASION_COUNT</th>\n",
       "      <th>TOTAL_INGRESAN</th>\n",
       "      <th>TOTAL_NO_VALIDAN</th>\n",
       "      <th>ETAPAS_COUNT</th>\n",
       "      <th>sum</th>\n",
       "      <th>mean</th>\n",
       "      <th>fecha_instalacion</th>\n",
       "      <th>EVASION_RATE</th>\n",
       "      <th>SI_TORNIQUETE</th>\n",
       "      <th>SI_2017_TORNIQUETE</th>\n",
       "    </tr>\n",
       "  </thead>\n",
       "  <tbody>\n",
       "    <tr>\n",
       "      <th>302</th>\n",
       "      <td>2017-03-09</td>\n",
       "      <td>BKWK90</td>\n",
       "      <td>F05</td>\n",
       "      <td>49</td>\n",
       "      <td>94</td>\n",
       "      <td>27</td>\n",
       "      <td>212.0</td>\n",
       "      <td>618.0</td>\n",
       "      <td>2.915094</td>\n",
       "      <td>NaT</td>\n",
       "      <td>0.287234</td>\n",
       "      <td>False</td>\n",
       "      <td>False</td>\n",
       "    </tr>\n",
       "    <tr>\n",
       "      <th>303</th>\n",
       "      <td>2017-03-09</td>\n",
       "      <td>CJJH75</td>\n",
       "      <td>B07</td>\n",
       "      <td>48</td>\n",
       "      <td>125</td>\n",
       "      <td>58</td>\n",
       "      <td>179.0</td>\n",
       "      <td>518.0</td>\n",
       "      <td>2.893855</td>\n",
       "      <td>2017-07-03</td>\n",
       "      <td>0.464000</td>\n",
       "      <td>True</td>\n",
       "      <td>True</td>\n",
       "    </tr>\n",
       "    <tr>\n",
       "      <th>304</th>\n",
       "      <td>2017-03-09</td>\n",
       "      <td>CJKC18</td>\n",
       "      <td>B07</td>\n",
       "      <td>38</td>\n",
       "      <td>48</td>\n",
       "      <td>7</td>\n",
       "      <td>37.0</td>\n",
       "      <td>136.0</td>\n",
       "      <td>3.675676</td>\n",
       "      <td>2017-07-05</td>\n",
       "      <td>0.145833</td>\n",
       "      <td>True</td>\n",
       "      <td>True</td>\n",
       "    </tr>\n",
       "    <tr>\n",
       "      <th>305</th>\n",
       "      <td>2017-03-09</td>\n",
       "      <td>CJRG61</td>\n",
       "      <td>F05</td>\n",
       "      <td>25</td>\n",
       "      <td>33</td>\n",
       "      <td>18</td>\n",
       "      <td>22.0</td>\n",
       "      <td>95.0</td>\n",
       "      <td>4.318182</td>\n",
       "      <td>NaT</td>\n",
       "      <td>0.545455</td>\n",
       "      <td>False</td>\n",
       "      <td>False</td>\n",
       "    </tr>\n",
       "    <tr>\n",
       "      <th>308</th>\n",
       "      <td>2017-03-09</td>\n",
       "      <td>FLXG78</td>\n",
       "      <td>F05</td>\n",
       "      <td>44</td>\n",
       "      <td>79</td>\n",
       "      <td>16</td>\n",
       "      <td>111.0</td>\n",
       "      <td>371.0</td>\n",
       "      <td>3.342342</td>\n",
       "      <td>NaT</td>\n",
       "      <td>0.202532</td>\n",
       "      <td>False</td>\n",
       "      <td>False</td>\n",
       "    </tr>\n",
       "  </tbody>\n",
       "</table>\n",
       "</div>"
      ],
      "text/plain": [
       "         FECHA PATENTE SERVICIO  EVASION_COUNT  TOTAL_INGRESAN  \\\n",
       "302 2017-03-09  BKWK90      F05             49              94   \n",
       "303 2017-03-09  CJJH75      B07             48             125   \n",
       "304 2017-03-09  CJKC18      B07             38              48   \n",
       "305 2017-03-09  CJRG61      F05             25              33   \n",
       "308 2017-03-09  FLXG78      F05             44              79   \n",
       "\n",
       "     TOTAL_NO_VALIDAN  ETAPAS_COUNT    sum      mean fecha_instalacion  \\\n",
       "302                27         212.0  618.0  2.915094               NaT   \n",
       "303                58         179.0  518.0  2.893855        2017-07-03   \n",
       "304                 7          37.0  136.0  3.675676        2017-07-05   \n",
       "305                18          22.0   95.0  4.318182               NaT   \n",
       "308                16         111.0  371.0  3.342342               NaT   \n",
       "\n",
       "     EVASION_RATE  SI_TORNIQUETE  SI_2017_TORNIQUETE  \n",
       "302      0.287234          False               False  \n",
       "303      0.464000           True                True  \n",
       "304      0.145833           True                True  \n",
       "305      0.545455          False               False  \n",
       "308      0.202532          False               False  "
      ]
     },
     "execution_count": 36,
     "metadata": {},
     "output_type": "execute_result"
    }
   ],
   "source": [
    "clean_evasion_vs_mean_no_turnstile.head()"
   ]
  },
  {
   "cell_type": "code",
   "execution_count": 37,
   "metadata": {
    "scrolled": true
   },
   "outputs": [
    {
     "name": "stdout",
     "output_type": "stream",
     "text": [
      "29.874651810584957\n",
      "127\n",
      "3\n"
     ]
    }
   ],
   "source": [
    "print(clean_evasion_vs_mean_no_turnstile['EVASION_COUNT'].mean())\n",
    "print(clean_evasion_vs_mean_no_turnstile['EVASION_COUNT'].max())\n",
    "print(clean_evasion_vs_mean_no_turnstile['EVASION_COUNT'].min())"
   ]
  },
  {
   "cell_type": "code",
   "execution_count": 38,
   "metadata": {},
   "outputs": [
    {
     "name": "stdout",
     "output_type": "stream",
     "text": [
      "191.9693593314763\n",
      "815.0\n",
      "5.0\n"
     ]
    }
   ],
   "source": [
    "print(clean_evasion_vs_mean_no_turnstile['ETAPAS_COUNT'].mean())\n",
    "print(clean_evasion_vs_mean_no_turnstile['ETAPAS_COUNT'].max())\n",
    "print(clean_evasion_vs_mean_no_turnstile['ETAPAS_COUNT'].min())"
   ]
  },
  {
   "cell_type": "code",
   "execution_count": 39,
   "metadata": {},
   "outputs": [
    {
     "data": {
      "text/html": [
       "<div>\n",
       "<style>\n",
       "    .dataframe thead tr:only-child th {\n",
       "        text-align: right;\n",
       "    }\n",
       "\n",
       "    .dataframe thead th {\n",
       "        text-align: left;\n",
       "    }\n",
       "\n",
       "    .dataframe tbody tr th {\n",
       "        vertical-align: top;\n",
       "    }\n",
       "</style>\n",
       "<table border=\"1\" class=\"dataframe\">\n",
       "  <thead>\n",
       "    <tr style=\"text-align: right;\">\n",
       "      <th></th>\n",
       "      <th>FECHA</th>\n",
       "      <th>PATENTE</th>\n",
       "      <th>SERVICIO</th>\n",
       "      <th>EVASION_COUNT</th>\n",
       "      <th>TOTAL_INGRESAN</th>\n",
       "      <th>TOTAL_NO_VALIDAN</th>\n",
       "      <th>ETAPAS_COUNT</th>\n",
       "      <th>sum</th>\n",
       "      <th>mean</th>\n",
       "      <th>fecha_instalacion</th>\n",
       "      <th>EVASION_RATE</th>\n",
       "      <th>SI_TORNIQUETE</th>\n",
       "      <th>SI_2017_TORNIQUETE</th>\n",
       "    </tr>\n",
       "  </thead>\n",
       "  <tbody>\n",
       "    <tr>\n",
       "      <th>917</th>\n",
       "      <td>2017-07-19</td>\n",
       "      <td>CJRZ54</td>\n",
       "      <td>457</td>\n",
       "      <td>7</td>\n",
       "      <td>6</td>\n",
       "      <td>0</td>\n",
       "      <td>85.0</td>\n",
       "      <td>419.0</td>\n",
       "      <td>4.929412</td>\n",
       "      <td>NaT</td>\n",
       "      <td>0.0</td>\n",
       "      <td>False</td>\n",
       "      <td>False</td>\n",
       "    </tr>\n",
       "  </tbody>\n",
       "</table>\n",
       "</div>"
      ],
      "text/plain": [
       "         FECHA PATENTE SERVICIO  EVASION_COUNT  TOTAL_INGRESAN  \\\n",
       "917 2017-07-19  CJRZ54      457              7               6   \n",
       "\n",
       "     TOTAL_NO_VALIDAN  ETAPAS_COUNT    sum      mean fecha_instalacion  \\\n",
       "917                 0          85.0  419.0  4.929412               NaT   \n",
       "\n",
       "     EVASION_RATE  SI_TORNIQUETE  SI_2017_TORNIQUETE  \n",
       "917           0.0          False               False  "
      ]
     },
     "execution_count": 39,
     "metadata": {},
     "output_type": "execute_result"
    }
   ],
   "source": [
    "clean_evasion_vs_mean_no_turnstile[(clean_evasion_vs_mean_no_turnstile['FECHA']==pd.to_datetime('2017-07-19'))&(clean_evasion_vs_mean_no_turnstile['PATENTE']=='CJRZ54')]"
   ]
  },
  {
   "cell_type": "markdown",
   "metadata": {},
   "source": [
    "### Closed"
   ]
  }
 ],
 "metadata": {
  "kernelspec": {
   "display_name": "Python 3",
   "language": "python",
   "name": "python3"
  },
  "language_info": {
   "codemirror_mode": {
    "name": "ipython",
    "version": 3
   },
   "file_extension": ".py",
   "mimetype": "text/x-python",
   "name": "python",
   "nbconvert_exporter": "python",
   "pygments_lexer": "ipython3",
   "version": "3.6.1"
  }
 },
 "nbformat": 4,
 "nbformat_minor": 2
}
