{
 "cells": [
  {
   "cell_type": "markdown",
   "metadata": {},
   "source": [
    "# Matching users as client of EvasionBuilder and MatchingUsers modules"
   ]
  },
  {
   "cell_type": "code",
   "execution_count": 1,
   "metadata": {},
   "outputs": [
    {
     "data": {
      "text/html": [
       "<style>.container { width:90% !important; }</style>"
      ],
      "text/plain": [
       "<IPython.core.display.HTML object>"
      ]
     },
     "metadata": {},
     "output_type": "display_data"
    }
   ],
   "source": [
    "%matplotlib inline\n",
    "import pandas as pd\n",
    "import matplotlib\n",
    "import matplotlib.pyplot as plt\n",
    "import numpy as np\n",
    "from importlib import reload\n",
    "import datetime as dt\n",
    "from IPython.core.display import display, HTML\n",
    "display(HTML(\"<style>.container { width:90% !important; }</style>\"))\n",
    "import EvasionBuilder\n",
    "from Utils import TransantiagoConstants"
   ]
  },
  {
   "cell_type": "markdown",
   "metadata": {},
   "source": [
    "* Building complete evasion database via <strong>EvasionBuilder</strong>"
   ]
  },
  {
   "cell_type": "code",
   "execution_count": 2,
   "metadata": {
    "scrolled": false
   },
   "outputs": [
    {
     "name": "stdout",
     "output_type": "stream",
     "text": [
      "Original number of rows in complete evasion database is: 97373\n",
      "Number of duplicated rows in complete evasion database is: 6192\n",
      "Number of collapsed-duplicated rows in complete evasion database is: 3090\n",
      "Number of rows in complete evasion database without duplicated rows at all is: 91181\n",
      "Final number of rows in complete evasion database with collapsed duplicated rows is: 94271\n"
     ]
    },
    {
     "name": "stderr",
     "output_type": "stream",
     "text": [
      "C:\\Users\\leoca_000\\Anaconda3\\lib\\site-packages\\pandas\\core\\indexing.py:337: SettingWithCopyWarning: \n",
      "A value is trying to be set on a copy of a slice from a DataFrame.\n",
      "Try using .loc[row_indexer,col_indexer] = value instead\n",
      "\n",
      "See the caveats in the documentation: http://pandas.pydata.org/pandas-docs/stable/indexing.html#indexing-view-versus-copy\n",
      "  self.obj[key] = _infer_fill_value(value)\n",
      "C:\\Users\\leoca_000\\Anaconda3\\lib\\site-packages\\pandas\\core\\indexing.py:517: SettingWithCopyWarning: \n",
      "A value is trying to be set on a copy of a slice from a DataFrame.\n",
      "Try using .loc[row_indexer,col_indexer] = value instead\n",
      "\n",
      "See the caveats in the documentation: http://pandas.pydata.org/pandas-docs/stable/indexing.html#indexing-view-versus-copy\n",
      "  self.obj[item] = s\n"
     ]
    },
    {
     "name": "stdout",
     "output_type": "stream",
     "text": [
      "The only non-matched user_code services are: \n",
      "D06\n"
     ]
    }
   ],
   "source": [
    "processed_evasion = EvasionBuilder.runCompleteProcess()"
   ]
  },
  {
   "cell_type": "markdown",
   "metadata": {},
   "source": [
    "* Processing complete evasion database depending on necessity"
   ]
  },
  {
   "cell_type": "code",
   "execution_count": 3,
   "metadata": {
    "collapsed": true
   },
   "outputs": [],
   "source": [
    "evasion_paradero = processed_evasion[processed_evasion['TP']=='P']\n",
    "evasion_paradero_first = evasion_paradero[evasion_paradero['N_PUERTA']==1]"
   ]
  },
  {
   "cell_type": "code",
   "execution_count": 4,
   "metadata": {},
   "outputs": [
    {
     "name": "stdout",
     "output_type": "stream",
     "text": [
      "Number of rows in complete evasion database is: 94271\n",
      "Number of rows in evasion in paradero database is: 92604\n",
      "Number of rows in evasion in paradero by first door database is: 33120\n"
     ]
    }
   ],
   "source": [
    "print('Number of rows in complete evasion database is: ' + str(len(processed_evasion.index)))\n",
    "print('Number of rows in evasion in paradero database is: ' + str(len(evasion_paradero.index)))\n",
    "print('Number of rows in evasion in paradero by first door database is: ' + str(len(evasion_paradero_first.index)))"
   ]
  },
  {
   "cell_type": "markdown",
   "metadata": {},
   "source": [
    "* Filtering dates not in common dates. DataFrame \"common_dates_evasion\" will be the final evasion DataFrame"
   ]
  },
  {
   "cell_type": "code",
   "execution_count": 5,
   "metadata": {},
   "outputs": [
    {
     "name": "stdout",
     "output_type": "stream",
     "text": [
      "Number of rows in complete evasion database filtered by common_dates is: 14632\n"
     ]
    }
   ],
   "source": [
    "common_dates = TransantiagoConstants.common_dates\n",
    "common_dates_timestamp = [pd.to_datetime(x) for x in common_dates]\n",
    "common_dates_evasion = evasion_paradero_first[evasion_paradero_first['FECHA'].isin(common_dates_timestamp)]\n",
    "\n",
    "print('Number of rows in complete evasion database filtered by common_dates is: ' + str(len(common_dates_evasion.index))) #Remember to store the number."
   ]
  },
  {
   "cell_type": "markdown",
   "metadata": {},
   "source": [
    "* Building Etapas DataBase via <strong>RunSilentlyDailyEtapasBuilder</strong> and matching users via <strong>MatchingUsers</strong>"
   ]
  },
  {
   "cell_type": "code",
   "execution_count": 6,
   "metadata": {
    "collapsed": true
   },
   "outputs": [],
   "source": [
    "#common_dates = common_dates[:1]\n",
    "common_dates = ['2017-04-11']"
   ]
  },
  {
   "cell_type": "code",
   "execution_count": 7,
   "metadata": {
    "collapsed": true
   },
   "outputs": [],
   "source": [
    "from RunSilentlyDailyEtapasBuilder import RunSilentlyDailyEtapasBuilderClass"
   ]
  },
  {
   "cell_type": "code",
   "execution_count": 8,
   "metadata": {
    "collapsed": true
   },
   "outputs": [],
   "source": [
    "import MatchingUsers"
   ]
  },
  {
   "cell_type": "code",
   "execution_count": 9,
   "metadata": {},
   "outputs": [
    {
     "name": "stdout",
     "output_type": "stream",
     "text": [
      "Not found in turnstile database: 1829611\n"
     ]
    }
   ],
   "source": [
    "summary_evasion_vs_mean = pd.DataFrame()\n",
    "\n",
    "for date in common_dates:    \n",
    "    etapas_builder = RunSilentlyDailyEtapasBuilderClass(date)\n",
    "    processed_sorted_df = etapas_builder.runProcessedProcess()\n",
    "#    processed_sorted_df = processed_sorted_df[processed_sorted_df['diferencia_tiempo_secs']<=20] <- BE AWARE OF THIS LINE...\n",
    "    processed_sorted_df['sitio_subida'] = processed_sorted_df['sitio_subida'].str.replace(\"-\", \"\")\n",
    "    processed_sorted_df['sitio_subida'] = processed_sorted_df['sitio_subida'].str.replace(\" \", \"\")\n",
    "    processed_sorted_df['servicio_subida'] =  processed_sorted_df['servicio_subida'].str.replace('T','')\n",
    "    processed_sorted_df['servicio_subida'] =  processed_sorted_df['servicio_subida'].str.split(' ').str[0]\n",
    "    \n",
    "    [evasion_by_date, patentes_by_date, servicios_by_date] = MatchingUsers.simplifyingEvasion(common_dates_evasion,date)\n",
    "    \n",
    "    clean_sorted_df = processed_sorted_df[(processed_sorted_df['sitio_subida'].isin(patentes_by_date))&(processed_sorted_df['servicio_subida'].isin(servicios_by_date))]\n",
    "    clean_sorted_df = clean_sorted_df.reset_index(drop=True)\n",
    "    clean_sorted_df = clean_sorted_df[clean_sorted_df['diferencia_tiempo_secs']<20]\n",
    "    \n",
    "    clean_sorted_df = MatchingUsers.appendingIdExpedicion(clean_sorted_df)\n",
    "    grouped_clean_sorted_df_1 = MatchingUsers.groupByEtapasDatabase(clean_sorted_df)    \n",
    "    grouped_clean_sorted_df_2 = MatchingUsers.appendingStartEndCuts(grouped_clean_sorted_df_1)\n",
    "    grouped_clean_sorted_df_3 = MatchingUsers.slicingEvasionDatabase(grouped_clean_sorted_df_2,evasion_by_date) #This is the final ddbb with full info.\n",
    "    summary_evasion_vs_mean = pd.concat([summary_evasion_vs_mean,grouped_clean_sorted_df_3]) "
   ]
  },
  {
   "cell_type": "code",
   "execution_count": 10,
   "metadata": {},
   "outputs": [
    {
     "data": {
      "text/plain": [
       "1106"
      ]
     },
     "execution_count": 10,
     "metadata": {},
     "output_type": "execute_result"
    }
   ],
   "source": [
    "len(evasion_by_date.index) #PASSED"
   ]
  },
  {
   "cell_type": "code",
   "execution_count": 11,
   "metadata": {},
   "outputs": [
    {
     "data": {
      "text/plain": [
       "7165"
      ]
     },
     "execution_count": 11,
     "metadata": {},
     "output_type": "execute_result"
    }
   ],
   "source": [
    "len(clean_sorted_df.index) #PASSED"
   ]
  },
  {
   "cell_type": "code",
   "execution_count": 12,
   "metadata": {},
   "outputs": [
    {
     "data": {
      "text/plain": [
       "2089"
      ]
     },
     "execution_count": 12,
     "metadata": {},
     "output_type": "execute_result"
    }
   ],
   "source": [
    "len(grouped_clean_sorted_df_1) #PASSED"
   ]
  },
  {
   "cell_type": "code",
   "execution_count": 13,
   "metadata": {},
   "outputs": [
    {
     "data": {
      "text/plain": [
       "2089"
      ]
     },
     "execution_count": 13,
     "metadata": {},
     "output_type": "execute_result"
    }
   ],
   "source": [
    "len(grouped_clean_sorted_df_2) #PASSED"
   ]
  },
  {
   "cell_type": "code",
   "execution_count": 14,
   "metadata": {},
   "outputs": [
    {
     "data": {
      "text/plain": [
       "2089"
      ]
     },
     "execution_count": 14,
     "metadata": {},
     "output_type": "execute_result"
    }
   ],
   "source": [
    "len(grouped_clean_sorted_df_3) #PASSED"
   ]
  },
  {
   "cell_type": "code",
   "execution_count": 15,
   "metadata": {},
   "outputs": [
    {
     "data": {
      "text/html": [
       "<div>\n",
       "<style>\n",
       "    .dataframe thead tr:only-child th {\n",
       "        text-align: right;\n",
       "    }\n",
       "\n",
       "    .dataframe thead th {\n",
       "        text-align: left;\n",
       "    }\n",
       "\n",
       "    .dataframe tbody tr th {\n",
       "        vertical-align: top;\n",
       "    }\n",
       "</style>\n",
       "<table border=\"1\" class=\"dataframe\">\n",
       "  <thead>\n",
       "    <tr style=\"text-align: right;\">\n",
       "      <th></th>\n",
       "      <th>sitio_subida</th>\n",
       "      <th>servicio_subida</th>\n",
       "      <th>idExpedicion</th>\n",
       "      <th>par_subida</th>\n",
       "      <th>t_subidamin</th>\n",
       "      <th>t_subidamax</th>\n",
       "      <th>t_subidacount</th>\n",
       "      <th>diferencia_tiempo_secsmean</th>\n",
       "      <th>start_cut</th>\n",
       "      <th>end_cut</th>\n",
       "      <th>count_ev_obs</th>\n",
       "      <th>ingresan</th>\n",
       "      <th>no_validan</th>\n",
       "    </tr>\n",
       "  </thead>\n",
       "  <tbody>\n",
       "    <tr>\n",
       "      <th>0</th>\n",
       "      <td>BJFB62</td>\n",
       "      <td>507</td>\n",
       "      <td>1</td>\n",
       "      <td>L-10-37-20-NS</td>\n",
       "      <td>2017-04-11 08:03:48</td>\n",
       "      <td>2017-04-11 08:03:48</td>\n",
       "      <td>1</td>\n",
       "      <td>2.00</td>\n",
       "      <td>2017-04-11 08:03:18</td>\n",
       "      <td>2017-04-11 08:04:18</td>\n",
       "      <td>0.0</td>\n",
       "      <td>0.0</td>\n",
       "      <td>0.0</td>\n",
       "    </tr>\n",
       "    <tr>\n",
       "      <th>1</th>\n",
       "      <td>BJFB62</td>\n",
       "      <td>507</td>\n",
       "      <td>2</td>\n",
       "      <td>T-10-64-PO-20</td>\n",
       "      <td>2017-04-11 08:19:55</td>\n",
       "      <td>2017-04-11 08:19:55</td>\n",
       "      <td>1</td>\n",
       "      <td>0.00</td>\n",
       "      <td>2017-04-11 08:19:25</td>\n",
       "      <td>2017-04-11 08:20:25</td>\n",
       "      <td>0.0</td>\n",
       "      <td>0.0</td>\n",
       "      <td>0.0</td>\n",
       "    </tr>\n",
       "    <tr>\n",
       "      <th>2</th>\n",
       "      <td>BJFB62</td>\n",
       "      <td>507</td>\n",
       "      <td>3</td>\n",
       "      <td>T-8-66-PO-15</td>\n",
       "      <td>2017-04-11 08:39:36</td>\n",
       "      <td>2017-04-11 08:39:37</td>\n",
       "      <td>2</td>\n",
       "      <td>4.00</td>\n",
       "      <td>2017-04-11 08:39:06</td>\n",
       "      <td>2017-04-11 08:41:35.500000</td>\n",
       "      <td>0.0</td>\n",
       "      <td>0.0</td>\n",
       "      <td>0.0</td>\n",
       "    </tr>\n",
       "    <tr>\n",
       "      <th>3</th>\n",
       "      <td>BJFB62</td>\n",
       "      <td>507</td>\n",
       "      <td>3</td>\n",
       "      <td>T-20-68-NS-5</td>\n",
       "      <td>2017-04-11 08:43:34</td>\n",
       "      <td>2017-04-11 08:43:53</td>\n",
       "      <td>7</td>\n",
       "      <td>3.00</td>\n",
       "      <td>2017-04-11 08:41:35.500000</td>\n",
       "      <td>2017-04-11 08:48:10.500000</td>\n",
       "      <td>0.0</td>\n",
       "      <td>0.0</td>\n",
       "      <td>0.0</td>\n",
       "    </tr>\n",
       "    <tr>\n",
       "      <th>4</th>\n",
       "      <td>BJFB62</td>\n",
       "      <td>507</td>\n",
       "      <td>3</td>\n",
       "      <td>E-20-53-PO-5</td>\n",
       "      <td>2017-04-11 08:52:28</td>\n",
       "      <td>2017-04-11 08:52:39</td>\n",
       "      <td>4</td>\n",
       "      <td>3.25</td>\n",
       "      <td>2017-04-11 08:48:10.500000</td>\n",
       "      <td>2017-04-11 08:55:11</td>\n",
       "      <td>0.0</td>\n",
       "      <td>0.0</td>\n",
       "      <td>0.0</td>\n",
       "    </tr>\n",
       "  </tbody>\n",
       "</table>\n",
       "</div>"
      ],
      "text/plain": [
       "  sitio_subida servicio_subida  idExpedicion     par_subida  \\\n",
       "0       BJFB62             507             1  L-10-37-20-NS   \n",
       "1       BJFB62             507             2  T-10-64-PO-20   \n",
       "2       BJFB62             507             3   T-8-66-PO-15   \n",
       "3       BJFB62             507             3   T-20-68-NS-5   \n",
       "4       BJFB62             507             3   E-20-53-PO-5   \n",
       "\n",
       "          t_subidamin         t_subidamax  t_subidacount  \\\n",
       "0 2017-04-11 08:03:48 2017-04-11 08:03:48              1   \n",
       "1 2017-04-11 08:19:55 2017-04-11 08:19:55              1   \n",
       "2 2017-04-11 08:39:36 2017-04-11 08:39:37              2   \n",
       "3 2017-04-11 08:43:34 2017-04-11 08:43:53              7   \n",
       "4 2017-04-11 08:52:28 2017-04-11 08:52:39              4   \n",
       "\n",
       "   diferencia_tiempo_secsmean                   start_cut  \\\n",
       "0                        2.00         2017-04-11 08:03:18   \n",
       "1                        0.00         2017-04-11 08:19:25   \n",
       "2                        4.00         2017-04-11 08:39:06   \n",
       "3                        3.00  2017-04-11 08:41:35.500000   \n",
       "4                        3.25  2017-04-11 08:48:10.500000   \n",
       "\n",
       "                      end_cut  count_ev_obs  ingresan  no_validan  \n",
       "0         2017-04-11 08:04:18           0.0       0.0         0.0  \n",
       "1         2017-04-11 08:20:25           0.0       0.0         0.0  \n",
       "2  2017-04-11 08:41:35.500000           0.0       0.0         0.0  \n",
       "3  2017-04-11 08:48:10.500000           0.0       0.0         0.0  \n",
       "4         2017-04-11 08:55:11           0.0       0.0         0.0  "
      ]
     },
     "execution_count": 15,
     "metadata": {},
     "output_type": "execute_result"
    }
   ],
   "source": [
    "grouped_clean_sorted_df_3.head()"
   ]
  },
  {
   "cell_type": "code",
   "execution_count": 16,
   "metadata": {},
   "outputs": [
    {
     "data": {
      "text/html": [
       "<div>\n",
       "<style>\n",
       "    .dataframe thead tr:only-child th {\n",
       "        text-align: right;\n",
       "    }\n",
       "\n",
       "    .dataframe thead th {\n",
       "        text-align: left;\n",
       "    }\n",
       "\n",
       "    .dataframe tbody tr th {\n",
       "        vertical-align: top;\n",
       "    }\n",
       "</style>\n",
       "<table border=\"1\" class=\"dataframe\">\n",
       "  <thead>\n",
       "    <tr style=\"text-align: right;\">\n",
       "      <th></th>\n",
       "      <th>sitio_subida</th>\n",
       "      <th>servicio_subida</th>\n",
       "      <th>idExpedicion</th>\n",
       "      <th>par_subida</th>\n",
       "      <th>t_subidamin</th>\n",
       "      <th>t_subidamax</th>\n",
       "      <th>t_subidacount</th>\n",
       "      <th>diferencia_tiempo_secsmean</th>\n",
       "      <th>start_cut</th>\n",
       "      <th>end_cut</th>\n",
       "      <th>count_ev_obs</th>\n",
       "      <th>ingresan</th>\n",
       "      <th>no_validan</th>\n",
       "    </tr>\n",
       "  </thead>\n",
       "  <tbody>\n",
       "    <tr>\n",
       "      <th>0</th>\n",
       "      <td>BJFB62</td>\n",
       "      <td>507</td>\n",
       "      <td>1</td>\n",
       "      <td>L-10-37-20-NS</td>\n",
       "      <td>2017-04-11 08:03:48</td>\n",
       "      <td>2017-04-11 08:03:48</td>\n",
       "      <td>1</td>\n",
       "      <td>2.000000</td>\n",
       "      <td>2017-04-11 08:03:18</td>\n",
       "      <td>2017-04-11 08:04:18</td>\n",
       "      <td>0.0</td>\n",
       "      <td>0.0</td>\n",
       "      <td>0.0</td>\n",
       "    </tr>\n",
       "    <tr>\n",
       "      <th>1</th>\n",
       "      <td>BJFB62</td>\n",
       "      <td>507</td>\n",
       "      <td>2</td>\n",
       "      <td>T-10-64-PO-20</td>\n",
       "      <td>2017-04-11 08:19:55</td>\n",
       "      <td>2017-04-11 08:19:55</td>\n",
       "      <td>1</td>\n",
       "      <td>0.000000</td>\n",
       "      <td>2017-04-11 08:19:25</td>\n",
       "      <td>2017-04-11 08:20:25</td>\n",
       "      <td>0.0</td>\n",
       "      <td>0.0</td>\n",
       "      <td>0.0</td>\n",
       "    </tr>\n",
       "    <tr>\n",
       "      <th>2</th>\n",
       "      <td>BJFB62</td>\n",
       "      <td>507</td>\n",
       "      <td>3</td>\n",
       "      <td>T-8-66-PO-15</td>\n",
       "      <td>2017-04-11 08:39:36</td>\n",
       "      <td>2017-04-11 08:39:37</td>\n",
       "      <td>2</td>\n",
       "      <td>4.000000</td>\n",
       "      <td>2017-04-11 08:39:06</td>\n",
       "      <td>2017-04-11 08:41:35.500000</td>\n",
       "      <td>0.0</td>\n",
       "      <td>0.0</td>\n",
       "      <td>0.0</td>\n",
       "    </tr>\n",
       "    <tr>\n",
       "      <th>3</th>\n",
       "      <td>BJFB62</td>\n",
       "      <td>507</td>\n",
       "      <td>3</td>\n",
       "      <td>T-20-68-NS-5</td>\n",
       "      <td>2017-04-11 08:43:34</td>\n",
       "      <td>2017-04-11 08:43:53</td>\n",
       "      <td>7</td>\n",
       "      <td>3.000000</td>\n",
       "      <td>2017-04-11 08:41:35.500000</td>\n",
       "      <td>2017-04-11 08:48:10.500000</td>\n",
       "      <td>0.0</td>\n",
       "      <td>0.0</td>\n",
       "      <td>0.0</td>\n",
       "    </tr>\n",
       "    <tr>\n",
       "      <th>4</th>\n",
       "      <td>BJFB62</td>\n",
       "      <td>507</td>\n",
       "      <td>3</td>\n",
       "      <td>E-20-53-PO-5</td>\n",
       "      <td>2017-04-11 08:52:28</td>\n",
       "      <td>2017-04-11 08:52:39</td>\n",
       "      <td>4</td>\n",
       "      <td>3.250000</td>\n",
       "      <td>2017-04-11 08:48:10.500000</td>\n",
       "      <td>2017-04-11 08:55:11</td>\n",
       "      <td>0.0</td>\n",
       "      <td>0.0</td>\n",
       "      <td>0.0</td>\n",
       "    </tr>\n",
       "    <tr>\n",
       "      <th>5</th>\n",
       "      <td>BJFB62</td>\n",
       "      <td>507</td>\n",
       "      <td>3</td>\n",
       "      <td>T-20-186-NS-5</td>\n",
       "      <td>2017-04-11 08:57:43</td>\n",
       "      <td>2017-04-11 08:57:44</td>\n",
       "      <td>2</td>\n",
       "      <td>1.500000</td>\n",
       "      <td>2017-04-11 08:55:11</td>\n",
       "      <td>2017-04-11 09:04:34.500000</td>\n",
       "      <td>0.0</td>\n",
       "      <td>0.0</td>\n",
       "      <td>0.0</td>\n",
       "    </tr>\n",
       "    <tr>\n",
       "      <th>6</th>\n",
       "      <td>BJFB62</td>\n",
       "      <td>507</td>\n",
       "      <td>3</td>\n",
       "      <td>T-20-189-PO-10</td>\n",
       "      <td>2017-04-11 09:11:25</td>\n",
       "      <td>2017-04-11 09:11:33</td>\n",
       "      <td>2</td>\n",
       "      <td>13.500000</td>\n",
       "      <td>2017-04-11 09:04:34.500000</td>\n",
       "      <td>2017-04-11 09:12:03</td>\n",
       "      <td>0.0</td>\n",
       "      <td>0.0</td>\n",
       "      <td>0.0</td>\n",
       "    </tr>\n",
       "    <tr>\n",
       "      <th>7</th>\n",
       "      <td>BJFB62</td>\n",
       "      <td>507</td>\n",
       "      <td>4</td>\n",
       "      <td>T-18-156-PO-27</td>\n",
       "      <td>2017-04-11 09:31:55</td>\n",
       "      <td>2017-04-11 09:31:55</td>\n",
       "      <td>1</td>\n",
       "      <td>16.000000</td>\n",
       "      <td>2017-04-11 09:31:25</td>\n",
       "      <td>2017-04-11 09:32:25</td>\n",
       "      <td>0.0</td>\n",
       "      <td>0.0</td>\n",
       "      <td>0.0</td>\n",
       "    </tr>\n",
       "    <tr>\n",
       "      <th>8</th>\n",
       "      <td>BJFB62</td>\n",
       "      <td>507</td>\n",
       "      <td>5</td>\n",
       "      <td>L-32-11-45-NS</td>\n",
       "      <td>2017-04-11 15:09:26</td>\n",
       "      <td>2017-04-11 15:09:29</td>\n",
       "      <td>3</td>\n",
       "      <td>2.666667</td>\n",
       "      <td>2017-04-11 15:08:56</td>\n",
       "      <td>2017-04-11 15:16:29.500000</td>\n",
       "      <td>2.0</td>\n",
       "      <td>7.0</td>\n",
       "      <td>1.0</td>\n",
       "    </tr>\n",
       "    <tr>\n",
       "      <th>9</th>\n",
       "      <td>BJFB62</td>\n",
       "      <td>507</td>\n",
       "      <td>5</td>\n",
       "      <td>E-18-156-OP-5</td>\n",
       "      <td>2017-04-11 15:23:30</td>\n",
       "      <td>2017-04-11 15:23:48</td>\n",
       "      <td>7</td>\n",
       "      <td>3.000000</td>\n",
       "      <td>2017-04-11 15:16:29.500000</td>\n",
       "      <td>2017-04-11 15:25:40</td>\n",
       "      <td>3.0</td>\n",
       "      <td>15.0</td>\n",
       "      <td>5.0</td>\n",
       "    </tr>\n",
       "    <tr>\n",
       "      <th>10</th>\n",
       "      <td>BJFB62</td>\n",
       "      <td>507</td>\n",
       "      <td>5</td>\n",
       "      <td>T-18-156-OP-30</td>\n",
       "      <td>2017-04-11 15:27:32</td>\n",
       "      <td>2017-04-11 15:27:32</td>\n",
       "      <td>1</td>\n",
       "      <td>2.000000</td>\n",
       "      <td>2017-04-11 15:25:40</td>\n",
       "      <td>2017-04-11 15:29:03.500000</td>\n",
       "      <td>2.0</td>\n",
       "      <td>5.0</td>\n",
       "      <td>2.0</td>\n",
       "    </tr>\n",
       "    <tr>\n",
       "      <th>11</th>\n",
       "      <td>BJFB62</td>\n",
       "      <td>507</td>\n",
       "      <td>5</td>\n",
       "      <td>T-18-156-OP-40</td>\n",
       "      <td>2017-04-11 15:30:35</td>\n",
       "      <td>2017-04-11 15:30:37</td>\n",
       "      <td>2</td>\n",
       "      <td>6.500000</td>\n",
       "      <td>2017-04-11 15:29:03.500000</td>\n",
       "      <td>2017-04-11 15:32:32.500000</td>\n",
       "      <td>1.0</td>\n",
       "      <td>7.0</td>\n",
       "      <td>3.0</td>\n",
       "    </tr>\n",
       "    <tr>\n",
       "      <th>12</th>\n",
       "      <td>BJFB62</td>\n",
       "      <td>507</td>\n",
       "      <td>5</td>\n",
       "      <td>T-18-156-OP-53</td>\n",
       "      <td>2017-04-11 15:34:28</td>\n",
       "      <td>2017-04-11 15:34:28</td>\n",
       "      <td>1</td>\n",
       "      <td>2.000000</td>\n",
       "      <td>2017-04-11 15:32:32.500000</td>\n",
       "      <td>2017-04-11 15:36:27.500000</td>\n",
       "      <td>1.0</td>\n",
       "      <td>4.0</td>\n",
       "      <td>2.0</td>\n",
       "    </tr>\n",
       "    <tr>\n",
       "      <th>13</th>\n",
       "      <td>BJFB62</td>\n",
       "      <td>507</td>\n",
       "      <td>5</td>\n",
       "      <td>T-18-156-OP-62</td>\n",
       "      <td>2017-04-11 15:38:27</td>\n",
       "      <td>2017-04-11 15:38:39</td>\n",
       "      <td>2</td>\n",
       "      <td>8.000000</td>\n",
       "      <td>2017-04-11 15:36:27.500000</td>\n",
       "      <td>2017-04-11 15:40:40.500000</td>\n",
       "      <td>2.0</td>\n",
       "      <td>6.0</td>\n",
       "      <td>0.0</td>\n",
       "    </tr>\n",
       "    <tr>\n",
       "      <th>14</th>\n",
       "      <td>BJFB62</td>\n",
       "      <td>507</td>\n",
       "      <td>5</td>\n",
       "      <td>E-18-156-OP-70</td>\n",
       "      <td>2017-04-11 15:42:42</td>\n",
       "      <td>2017-04-11 15:43:08</td>\n",
       "      <td>7</td>\n",
       "      <td>4.142857</td>\n",
       "      <td>2017-04-11 15:40:40.500000</td>\n",
       "      <td>2017-04-11 15:46:32</td>\n",
       "      <td>3.0</td>\n",
       "      <td>19.0</td>\n",
       "      <td>9.0</td>\n",
       "    </tr>\n",
       "    <tr>\n",
       "      <th>15</th>\n",
       "      <td>BJFB62</td>\n",
       "      <td>507</td>\n",
       "      <td>5</td>\n",
       "      <td>T-20-189-OP-20</td>\n",
       "      <td>2017-04-11 15:49:56</td>\n",
       "      <td>2017-04-11 15:50:08</td>\n",
       "      <td>5</td>\n",
       "      <td>5.600000</td>\n",
       "      <td>2017-04-11 15:46:32</td>\n",
       "      <td>2017-04-11 15:51:22</td>\n",
       "      <td>1.0</td>\n",
       "      <td>11.0</td>\n",
       "      <td>5.0</td>\n",
       "    </tr>\n",
       "    <tr>\n",
       "      <th>16</th>\n",
       "      <td>BJFB62</td>\n",
       "      <td>507</td>\n",
       "      <td>5</td>\n",
       "      <td>T-20-189-OP-30</td>\n",
       "      <td>2017-04-11 15:52:36</td>\n",
       "      <td>2017-04-11 15:52:36</td>\n",
       "      <td>1</td>\n",
       "      <td>4.000000</td>\n",
       "      <td>2017-04-11 15:51:22</td>\n",
       "      <td>2017-04-11 15:56:00</td>\n",
       "      <td>1.0</td>\n",
       "      <td>2.0</td>\n",
       "      <td>0.0</td>\n",
       "    </tr>\n",
       "    <tr>\n",
       "      <th>17</th>\n",
       "      <td>BJFB62</td>\n",
       "      <td>507</td>\n",
       "      <td>5</td>\n",
       "      <td>T-20-177-OP-10</td>\n",
       "      <td>2017-04-11 15:59:24</td>\n",
       "      <td>2017-04-11 15:59:24</td>\n",
       "      <td>1</td>\n",
       "      <td>3.000000</td>\n",
       "      <td>2017-04-11 15:56:00</td>\n",
       "      <td>2017-04-11 16:06:04</td>\n",
       "      <td>2.0</td>\n",
       "      <td>3.0</td>\n",
       "      <td>0.0</td>\n",
       "    </tr>\n",
       "    <tr>\n",
       "      <th>18</th>\n",
       "      <td>BJFB62</td>\n",
       "      <td>507</td>\n",
       "      <td>5</td>\n",
       "      <td>E-20-53-OP-130</td>\n",
       "      <td>2017-04-11 16:12:44</td>\n",
       "      <td>2017-04-11 16:12:58</td>\n",
       "      <td>2</td>\n",
       "      <td>12.000000</td>\n",
       "      <td>2017-04-11 16:06:04</td>\n",
       "      <td>2017-04-11 16:14:50.500000</td>\n",
       "      <td>1.0</td>\n",
       "      <td>4.0</td>\n",
       "      <td>0.0</td>\n",
       "    </tr>\n",
       "    <tr>\n",
       "      <th>19</th>\n",
       "      <td>BJFB62</td>\n",
       "      <td>507</td>\n",
       "      <td>5</td>\n",
       "      <td>T-20-68-SN-15</td>\n",
       "      <td>2017-04-11 16:16:43</td>\n",
       "      <td>2017-04-11 16:16:49</td>\n",
       "      <td>2</td>\n",
       "      <td>3.500000</td>\n",
       "      <td>2017-04-11 16:14:50.500000</td>\n",
       "      <td>2017-04-11 16:17:27.500000</td>\n",
       "      <td>1.0</td>\n",
       "      <td>7.0</td>\n",
       "      <td>4.0</td>\n",
       "    </tr>\n",
       "  </tbody>\n",
       "</table>\n",
       "</div>"
      ],
      "text/plain": [
       "   sitio_subida servicio_subida  idExpedicion      par_subida  \\\n",
       "0        BJFB62             507             1   L-10-37-20-NS   \n",
       "1        BJFB62             507             2   T-10-64-PO-20   \n",
       "2        BJFB62             507             3    T-8-66-PO-15   \n",
       "3        BJFB62             507             3    T-20-68-NS-5   \n",
       "4        BJFB62             507             3    E-20-53-PO-5   \n",
       "5        BJFB62             507             3   T-20-186-NS-5   \n",
       "6        BJFB62             507             3  T-20-189-PO-10   \n",
       "7        BJFB62             507             4  T-18-156-PO-27   \n",
       "8        BJFB62             507             5   L-32-11-45-NS   \n",
       "9        BJFB62             507             5   E-18-156-OP-5   \n",
       "10       BJFB62             507             5  T-18-156-OP-30   \n",
       "11       BJFB62             507             5  T-18-156-OP-40   \n",
       "12       BJFB62             507             5  T-18-156-OP-53   \n",
       "13       BJFB62             507             5  T-18-156-OP-62   \n",
       "14       BJFB62             507             5  E-18-156-OP-70   \n",
       "15       BJFB62             507             5  T-20-189-OP-20   \n",
       "16       BJFB62             507             5  T-20-189-OP-30   \n",
       "17       BJFB62             507             5  T-20-177-OP-10   \n",
       "18       BJFB62             507             5  E-20-53-OP-130   \n",
       "19       BJFB62             507             5   T-20-68-SN-15   \n",
       "\n",
       "           t_subidamin         t_subidamax  t_subidacount  \\\n",
       "0  2017-04-11 08:03:48 2017-04-11 08:03:48              1   \n",
       "1  2017-04-11 08:19:55 2017-04-11 08:19:55              1   \n",
       "2  2017-04-11 08:39:36 2017-04-11 08:39:37              2   \n",
       "3  2017-04-11 08:43:34 2017-04-11 08:43:53              7   \n",
       "4  2017-04-11 08:52:28 2017-04-11 08:52:39              4   \n",
       "5  2017-04-11 08:57:43 2017-04-11 08:57:44              2   \n",
       "6  2017-04-11 09:11:25 2017-04-11 09:11:33              2   \n",
       "7  2017-04-11 09:31:55 2017-04-11 09:31:55              1   \n",
       "8  2017-04-11 15:09:26 2017-04-11 15:09:29              3   \n",
       "9  2017-04-11 15:23:30 2017-04-11 15:23:48              7   \n",
       "10 2017-04-11 15:27:32 2017-04-11 15:27:32              1   \n",
       "11 2017-04-11 15:30:35 2017-04-11 15:30:37              2   \n",
       "12 2017-04-11 15:34:28 2017-04-11 15:34:28              1   \n",
       "13 2017-04-11 15:38:27 2017-04-11 15:38:39              2   \n",
       "14 2017-04-11 15:42:42 2017-04-11 15:43:08              7   \n",
       "15 2017-04-11 15:49:56 2017-04-11 15:50:08              5   \n",
       "16 2017-04-11 15:52:36 2017-04-11 15:52:36              1   \n",
       "17 2017-04-11 15:59:24 2017-04-11 15:59:24              1   \n",
       "18 2017-04-11 16:12:44 2017-04-11 16:12:58              2   \n",
       "19 2017-04-11 16:16:43 2017-04-11 16:16:49              2   \n",
       "\n",
       "    diferencia_tiempo_secsmean                   start_cut  \\\n",
       "0                     2.000000         2017-04-11 08:03:18   \n",
       "1                     0.000000         2017-04-11 08:19:25   \n",
       "2                     4.000000         2017-04-11 08:39:06   \n",
       "3                     3.000000  2017-04-11 08:41:35.500000   \n",
       "4                     3.250000  2017-04-11 08:48:10.500000   \n",
       "5                     1.500000         2017-04-11 08:55:11   \n",
       "6                    13.500000  2017-04-11 09:04:34.500000   \n",
       "7                    16.000000         2017-04-11 09:31:25   \n",
       "8                     2.666667         2017-04-11 15:08:56   \n",
       "9                     3.000000  2017-04-11 15:16:29.500000   \n",
       "10                    2.000000         2017-04-11 15:25:40   \n",
       "11                    6.500000  2017-04-11 15:29:03.500000   \n",
       "12                    2.000000  2017-04-11 15:32:32.500000   \n",
       "13                    8.000000  2017-04-11 15:36:27.500000   \n",
       "14                    4.142857  2017-04-11 15:40:40.500000   \n",
       "15                    5.600000         2017-04-11 15:46:32   \n",
       "16                    4.000000         2017-04-11 15:51:22   \n",
       "17                    3.000000         2017-04-11 15:56:00   \n",
       "18                   12.000000         2017-04-11 16:06:04   \n",
       "19                    3.500000  2017-04-11 16:14:50.500000   \n",
       "\n",
       "                       end_cut  count_ev_obs  ingresan  no_validan  \n",
       "0          2017-04-11 08:04:18           0.0       0.0         0.0  \n",
       "1          2017-04-11 08:20:25           0.0       0.0         0.0  \n",
       "2   2017-04-11 08:41:35.500000           0.0       0.0         0.0  \n",
       "3   2017-04-11 08:48:10.500000           0.0       0.0         0.0  \n",
       "4          2017-04-11 08:55:11           0.0       0.0         0.0  \n",
       "5   2017-04-11 09:04:34.500000           0.0       0.0         0.0  \n",
       "6          2017-04-11 09:12:03           0.0       0.0         0.0  \n",
       "7          2017-04-11 09:32:25           0.0       0.0         0.0  \n",
       "8   2017-04-11 15:16:29.500000           2.0       7.0         1.0  \n",
       "9          2017-04-11 15:25:40           3.0      15.0         5.0  \n",
       "10  2017-04-11 15:29:03.500000           2.0       5.0         2.0  \n",
       "11  2017-04-11 15:32:32.500000           1.0       7.0         3.0  \n",
       "12  2017-04-11 15:36:27.500000           1.0       4.0         2.0  \n",
       "13  2017-04-11 15:40:40.500000           2.0       6.0         0.0  \n",
       "14         2017-04-11 15:46:32           3.0      19.0         9.0  \n",
       "15         2017-04-11 15:51:22           1.0      11.0         5.0  \n",
       "16         2017-04-11 15:56:00           1.0       2.0         0.0  \n",
       "17         2017-04-11 16:06:04           2.0       3.0         0.0  \n",
       "18  2017-04-11 16:14:50.500000           1.0       4.0         0.0  \n",
       "19  2017-04-11 16:17:27.500000           1.0       7.0         4.0  "
      ]
     },
     "execution_count": 16,
     "metadata": {},
     "output_type": "execute_result"
    }
   ],
   "source": [
    "summary_evasion_vs_mean.head(20)"
   ]
  },
  {
   "cell_type": "code",
   "execution_count": 17,
   "metadata": {
    "collapsed": true
   },
   "outputs": [],
   "source": [
    "util_df = summary_evasion_vs_mean[(summary_evasion_vs_mean['diferencia_tiempo_secsmean'].notnull())&(summary_evasion_vs_mean['count_ev_obs']>0)]"
   ]
  },
  {
   "cell_type": "code",
   "execution_count": 18,
   "metadata": {},
   "outputs": [
    {
     "data": {
      "text/plain": [
       "310"
      ]
     },
     "execution_count": 18,
     "metadata": {},
     "output_type": "execute_result"
    }
   ],
   "source": [
    "len(util_df.index)"
   ]
  },
  {
   "cell_type": "code",
   "execution_count": 19,
   "metadata": {},
   "outputs": [
    {
     "name": "stdout",
     "output_type": "stream",
     "text": [
      "Not found in turnstile database: 260\n"
     ]
    }
   ],
   "source": [
    "torniquetesDataPath = \"C:/Users/leoca_000/Desktop/Evasion/01_analisis/03_datos/03_BUSESTORNIQUETE/Avance_Consolidado_v2.xlsx\"\n",
    "busesTorniquete_df = pd.read_excel(torniquetesDataPath)\n",
    "busesTorniquete_df.columns=['sitio_subida','fecha_instalacion']\n",
    "\n",
    "busesTorniquete_df.loc[:,'sitio_subida'] = busesTorniquete_df.loc[:,'sitio_subida'].str.replace(\"-\", \"\")\n",
    "busesTorniquete_df.loc[:,'sitio_subida'] = busesTorniquete_df.loc[:,'sitio_subida'].str.replace(\" \", \"\")\n",
    "\n",
    "merged_turnstiles_df = pd.merge(util_df,busesTorniquete_df, on='sitio_subida', how='left')\n",
    "checking_missing = pd.isnull(merged_turnstiles_df['fecha_instalacion'])\n",
    "print('Not found in turnstile database: ' + str(sum(checking_missing))) #Without turnstiles, then NaT.\n",
    "#merged_turnstiles_df.loc[:,'fecha_instalacion'] = pd.to_datetime(merged_turnstiles_df.loc[:,'fecha_instalacion'])"
   ]
  },
  {
   "cell_type": "code",
   "execution_count": 20,
   "metadata": {},
   "outputs": [
    {
     "data": {
      "text/html": [
       "<div>\n",
       "<style>\n",
       "    .dataframe thead tr:only-child th {\n",
       "        text-align: right;\n",
       "    }\n",
       "\n",
       "    .dataframe thead th {\n",
       "        text-align: left;\n",
       "    }\n",
       "\n",
       "    .dataframe tbody tr th {\n",
       "        vertical-align: top;\n",
       "    }\n",
       "</style>\n",
       "<table border=\"1\" class=\"dataframe\">\n",
       "  <thead>\n",
       "    <tr style=\"text-align: right;\">\n",
       "      <th></th>\n",
       "      <th>sitio_subida</th>\n",
       "      <th>servicio_subida</th>\n",
       "      <th>idExpedicion</th>\n",
       "      <th>par_subida</th>\n",
       "      <th>t_subidamin</th>\n",
       "      <th>t_subidamax</th>\n",
       "      <th>t_subidacount</th>\n",
       "      <th>diferencia_tiempo_secsmean</th>\n",
       "      <th>start_cut</th>\n",
       "      <th>end_cut</th>\n",
       "      <th>count_ev_obs</th>\n",
       "      <th>ingresan</th>\n",
       "      <th>no_validan</th>\n",
       "      <th>fecha_instalacion</th>\n",
       "    </tr>\n",
       "  </thead>\n",
       "  <tbody>\n",
       "    <tr>\n",
       "      <th>0</th>\n",
       "      <td>BJFB62</td>\n",
       "      <td>507</td>\n",
       "      <td>5</td>\n",
       "      <td>L-32-11-45-NS</td>\n",
       "      <td>2017-04-11 15:09:26</td>\n",
       "      <td>2017-04-11 15:09:29</td>\n",
       "      <td>3</td>\n",
       "      <td>2.666667</td>\n",
       "      <td>2017-04-11 15:08:56</td>\n",
       "      <td>2017-04-11 15:16:29.500000</td>\n",
       "      <td>2.0</td>\n",
       "      <td>7.0</td>\n",
       "      <td>1.0</td>\n",
       "      <td>NaT</td>\n",
       "    </tr>\n",
       "    <tr>\n",
       "      <th>1</th>\n",
       "      <td>BJFB62</td>\n",
       "      <td>507</td>\n",
       "      <td>5</td>\n",
       "      <td>E-18-156-OP-5</td>\n",
       "      <td>2017-04-11 15:23:30</td>\n",
       "      <td>2017-04-11 15:23:48</td>\n",
       "      <td>7</td>\n",
       "      <td>3.000000</td>\n",
       "      <td>2017-04-11 15:16:29.500000</td>\n",
       "      <td>2017-04-11 15:25:40</td>\n",
       "      <td>3.0</td>\n",
       "      <td>15.0</td>\n",
       "      <td>5.0</td>\n",
       "      <td>NaT</td>\n",
       "    </tr>\n",
       "    <tr>\n",
       "      <th>2</th>\n",
       "      <td>BJFB62</td>\n",
       "      <td>507</td>\n",
       "      <td>5</td>\n",
       "      <td>T-18-156-OP-30</td>\n",
       "      <td>2017-04-11 15:27:32</td>\n",
       "      <td>2017-04-11 15:27:32</td>\n",
       "      <td>1</td>\n",
       "      <td>2.000000</td>\n",
       "      <td>2017-04-11 15:25:40</td>\n",
       "      <td>2017-04-11 15:29:03.500000</td>\n",
       "      <td>2.0</td>\n",
       "      <td>5.0</td>\n",
       "      <td>2.0</td>\n",
       "      <td>NaT</td>\n",
       "    </tr>\n",
       "    <tr>\n",
       "      <th>3</th>\n",
       "      <td>BJFB62</td>\n",
       "      <td>507</td>\n",
       "      <td>5</td>\n",
       "      <td>T-18-156-OP-40</td>\n",
       "      <td>2017-04-11 15:30:35</td>\n",
       "      <td>2017-04-11 15:30:37</td>\n",
       "      <td>2</td>\n",
       "      <td>6.500000</td>\n",
       "      <td>2017-04-11 15:29:03.500000</td>\n",
       "      <td>2017-04-11 15:32:32.500000</td>\n",
       "      <td>1.0</td>\n",
       "      <td>7.0</td>\n",
       "      <td>3.0</td>\n",
       "      <td>NaT</td>\n",
       "    </tr>\n",
       "    <tr>\n",
       "      <th>4</th>\n",
       "      <td>BJFB62</td>\n",
       "      <td>507</td>\n",
       "      <td>5</td>\n",
       "      <td>T-18-156-OP-53</td>\n",
       "      <td>2017-04-11 15:34:28</td>\n",
       "      <td>2017-04-11 15:34:28</td>\n",
       "      <td>1</td>\n",
       "      <td>2.000000</td>\n",
       "      <td>2017-04-11 15:32:32.500000</td>\n",
       "      <td>2017-04-11 15:36:27.500000</td>\n",
       "      <td>1.0</td>\n",
       "      <td>4.0</td>\n",
       "      <td>2.0</td>\n",
       "      <td>NaT</td>\n",
       "    </tr>\n",
       "  </tbody>\n",
       "</table>\n",
       "</div>"
      ],
      "text/plain": [
       "  sitio_subida servicio_subida  idExpedicion      par_subida  \\\n",
       "0       BJFB62             507             5   L-32-11-45-NS   \n",
       "1       BJFB62             507             5   E-18-156-OP-5   \n",
       "2       BJFB62             507             5  T-18-156-OP-30   \n",
       "3       BJFB62             507             5  T-18-156-OP-40   \n",
       "4       BJFB62             507             5  T-18-156-OP-53   \n",
       "\n",
       "          t_subidamin         t_subidamax  t_subidacount  \\\n",
       "0 2017-04-11 15:09:26 2017-04-11 15:09:29              3   \n",
       "1 2017-04-11 15:23:30 2017-04-11 15:23:48              7   \n",
       "2 2017-04-11 15:27:32 2017-04-11 15:27:32              1   \n",
       "3 2017-04-11 15:30:35 2017-04-11 15:30:37              2   \n",
       "4 2017-04-11 15:34:28 2017-04-11 15:34:28              1   \n",
       "\n",
       "   diferencia_tiempo_secsmean                   start_cut  \\\n",
       "0                    2.666667         2017-04-11 15:08:56   \n",
       "1                    3.000000  2017-04-11 15:16:29.500000   \n",
       "2                    2.000000         2017-04-11 15:25:40   \n",
       "3                    6.500000  2017-04-11 15:29:03.500000   \n",
       "4                    2.000000  2017-04-11 15:32:32.500000   \n",
       "\n",
       "                      end_cut  count_ev_obs  ingresan  no_validan  \\\n",
       "0  2017-04-11 15:16:29.500000           2.0       7.0         1.0   \n",
       "1         2017-04-11 15:25:40           3.0      15.0         5.0   \n",
       "2  2017-04-11 15:29:03.500000           2.0       5.0         2.0   \n",
       "3  2017-04-11 15:32:32.500000           1.0       7.0         3.0   \n",
       "4  2017-04-11 15:36:27.500000           1.0       4.0         2.0   \n",
       "\n",
       "  fecha_instalacion  \n",
       "0               NaT  \n",
       "1               NaT  \n",
       "2               NaT  \n",
       "3               NaT  \n",
       "4               NaT  "
      ]
     },
     "execution_count": 20,
     "metadata": {},
     "output_type": "execute_result"
    }
   ],
   "source": [
    "merged_turnstiles_df.head()"
   ]
  },
  {
   "cell_type": "code",
   "execution_count": 21,
   "metadata": {
    "scrolled": true
   },
   "outputs": [
    {
     "data": {
      "text/plain": [
       "pandas._libs.tslib.Timestamp"
      ]
     },
     "execution_count": 21,
     "metadata": {},
     "output_type": "execute_result"
    }
   ],
   "source": [
    "type(merged_turnstiles_df.loc[0,'t_subidamin'])"
   ]
  },
  {
   "cell_type": "code",
   "execution_count": 22,
   "metadata": {},
   "outputs": [
    {
     "data": {
      "text/plain": [
       "pandas._libs.tslib.Timestamp"
      ]
     },
     "execution_count": 22,
     "metadata": {},
     "output_type": "execute_result"
    }
   ],
   "source": [
    "type(merged_turnstiles_df.loc[46,'fecha_instalacion'])"
   ]
  },
  {
   "cell_type": "code",
   "execution_count": 23,
   "metadata": {
    "collapsed": true
   },
   "outputs": [],
   "source": [
    "merged_turnstiles_df.loc[:,'si_torniquete']=merged_turnstiles_df.loc[:,'fecha_instalacion'].notnull()"
   ]
  },
  {
   "cell_type": "code",
   "execution_count": 24,
   "metadata": {
    "collapsed": true
   },
   "outputs": [],
   "source": [
    "merged_turnstiles_df_noturns = merged_turnstiles_df[(merged_turnstiles_df['si_torniquete']==False) | \n",
    "                                                           ((merged_turnstiles_df['si_torniquete']==True) & (merged_turnstiles_df['t_subidamin']<=merged_turnstiles_df['fecha_instalacion']))]"
   ]
  },
  {
   "cell_type": "code",
   "execution_count": 25,
   "metadata": {},
   "outputs": [
    {
     "name": "stderr",
     "output_type": "stream",
     "text": [
      "C:\\Users\\leoca_000\\Anaconda3\\lib\\site-packages\\pandas\\core\\indexing.py:337: SettingWithCopyWarning: \n",
      "A value is trying to be set on a copy of a slice from a DataFrame.\n",
      "Try using .loc[row_indexer,col_indexer] = value instead\n",
      "\n",
      "See the caveats in the documentation: http://pandas.pydata.org/pandas-docs/stable/indexing.html#indexing-view-versus-copy\n",
      "  self.obj[key] = _infer_fill_value(value)\n",
      "C:\\Users\\leoca_000\\Anaconda3\\lib\\site-packages\\pandas\\core\\indexing.py:517: SettingWithCopyWarning: \n",
      "A value is trying to be set on a copy of a slice from a DataFrame.\n",
      "Try using .loc[row_indexer,col_indexer] = value instead\n",
      "\n",
      "See the caveats in the documentation: http://pandas.pydata.org/pandas-docs/stable/indexing.html#indexing-view-versus-copy\n",
      "  self.obj[item] = s\n"
     ]
    }
   ],
   "source": [
    "merged_turnstiles_df_noturns.loc[:,'evasion_rate'] = merged_turnstiles_df_noturns.loc[:,'no_validan'] / merged_turnstiles_df_noturns.loc[:,'ingresan']"
   ]
  },
  {
   "cell_type": "code",
   "execution_count": 28,
   "metadata": {},
   "outputs": [
    {
     "data": {
      "image/png": "[encoded data removed]",
      "text/plain": [
       "<matplotlib.figure.Figure at 0x145af399630>"
      ]
     },
     "metadata": {},
     "output_type": "display_data"
    }
   ],
   "source": [
    "fig_1, ax_1 = plt.subplots()\n",
    "\n",
    "ax_1.scatter(merged_turnstiles_df_noturns['diferencia_tiempo_secsmean'],merged_turnstiles_df_noturns['evasion_rate'])\n",
    "ax_1.set_title('Evasion vs. Mean Time - No Turns, By Bus, Service, Stop, 20Secs')\n",
    "ax_1.set_xlabel('Mean Time Interval [s]')\n",
    "ax_1.set_ylabel('Evasion Rate [%]')\n",
    "\n",
    "plt.savefig('C:/Users/leoca_000/Desktop/Evasion/03_report/02_Figs/9_20Secs_EvasionVsMeanTimeByBusByServiceByStop.pdf')"
   ]
  },
  {
   "cell_type": "code",
   "execution_count": null,
   "metadata": {
    "collapsed": true
   },
   "outputs": [],
   "source": []
  }
 ],
 "metadata": {
  "kernelspec": {
   "display_name": "Python 3",
   "language": "python",
   "name": "python3"
  },
  "language_info": {
   "codemirror_mode": {
    "name": "ipython",
    "version": 3
   },
   "file_extension": ".py",
   "mimetype": "text/x-python",
   "name": "python",
   "nbconvert_exporter": "python",
   "pygments_lexer": "ipython3",
   "version": "3.6.1"
  }
 },
 "nbformat": 4,
 "nbformat_minor": 2
}
