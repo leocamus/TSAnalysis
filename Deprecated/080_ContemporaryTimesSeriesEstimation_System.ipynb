{
 "cells": [
  {
   "cell_type": "markdown",
   "metadata": {},
   "source": [
    "## Time series estimation - Contemporary, daily at system level"
   ]
  },
  {
   "cell_type": "markdown",
   "metadata": {},
   "source": [
    "% TODO: Check if R-squared are correctly computed"
   ]
  },
  {
   "cell_type": "code",
   "execution_count": 1,
   "metadata": {},
   "outputs": [],
   "source": [
    "import os\n",
    "import sys\n",
    "module_path = os.path.abspath(os.path.join('..'))\n",
    "if module_path not in sys.path:\n",
    "    sys.path.append(module_path)"
   ]
  },
  {
   "cell_type": "code",
   "execution_count": 2,
   "metadata": {},
   "outputs": [
    {
     "data": {
      "text/html": [
       "<style>.container { width:100% !important; }</style>"
      ],
      "text/plain": [
       "<IPython.core.display.HTML object>"
      ]
     },
     "metadata": {},
     "output_type": "display_data"
    }
   ],
   "source": [
    "from IPython.core.display import display, HTML\n",
    "display(HTML(\"<style>.container { width:100% !important; }</style>\"))\n",
    "\n",
    "import plotly.plotly\n",
    "import plotly.tools as tls\n",
    "import plotly.graph_objs as go\n",
    "\n",
    "import pandas as pd\n",
    "import matplotlib\n",
    "import matplotlib.pyplot as plt\n",
    "import matplotlib.dates as mdates\n",
    "from matplotlib.ticker import FuncFormatter\n",
    "%matplotlib inline\n",
    "import numpy as np\n",
    "import datetime as dt\n",
    "import time"
   ]
  },
  {
   "cell_type": "code",
   "execution_count": 3,
   "metadata": {},
   "outputs": [
    {
     "name": "stderr",
     "output_type": "stream",
     "text": [
      "/usr/local/lib/python3.5/dist-packages/statsmodels/compat/pandas.py:56: FutureWarning:\n",
      "\n",
      "The pandas.core.datetools module is deprecated and will be removed in a future version. Please use the pandas.tseries module instead.\n",
      "\n"
     ]
    }
   ],
   "source": [
    "import statsmodels.api as sm\n",
    "from statsmodels.iolib.summary2 import summary_col\n",
    "info_dict = {'N': lambda x: x.nobs,\n",
    "             'R2_adj': lambda x: x.rsquared_adj,\n",
    "             'AIC': lambda x: x.aic,\n",
    "             'F': lambda x: x.fvalue, \n",
    "             'P_F': lambda x: x.f_pvalue, \n",
    "             'DW': lambda x: sm.stats.stattools.durbin_watson(x.resid)}"
   ]
  },
  {
   "cell_type": "code",
   "execution_count": 4,
   "metadata": {},
   "outputs": [],
   "source": [
    "from Utils import TransantiagoConstants"
   ]
  },
  {
   "cell_type": "code",
   "execution_count": 5,
   "metadata": {},
   "outputs": [],
   "source": [
    "DTPMDir = TransantiagoConstants.DTPMDir\n",
    "DTPM_TRXDir = TransantiagoConstants.DTPM_TRXDir"
   ]
  },
  {
   "cell_type": "code",
   "execution_count": 6,
   "metadata": {},
   "outputs": [],
   "source": [
    "daily_input_path = os.path.join(DTPM_TRXDir,'3_DAILY/daily_summary.csv')\n",
    "daily_trx = pd.read_csv(daily_input_path,sep=';',encoding='latin-1', index_col=0)"
   ]
  },
  {
   "cell_type": "markdown",
   "metadata": {},
   "source": [
    "* Creating new dependent and independent variables"
   ]
  },
  {
   "cell_type": "code",
   "execution_count": 7,
   "metadata": {},
   "outputs": [],
   "source": [
    "daily_trx.loc[:,'TOTAL_trx'] = daily_trx.loc[:,'pn_SUM_TRX_no_t'] + daily_trx.loc[:,'pn_SUM_TRX_3t'] + daily_trx.loc[:,'pn_SUM_TRX_tm'] + daily_trx.loc[:,'zp_SUM_TRX']"
   ]
  },
  {
   "cell_type": "code",
   "execution_count": 8,
   "metadata": {},
   "outputs": [],
   "source": [
    "independent_variables_path = os.path.join(DTPM_TRXDir,'0_INDEPENDENTS/independents_variables.csv')\n",
    "independent_variables = pd.read_csv(independent_variables_path,sep=';',encoding='latin-1', index_col=0, parse_dates=[1])"
   ]
  },
  {
   "cell_type": "code",
   "execution_count": 9,
   "metadata": {},
   "outputs": [],
   "source": [
    "independent_variables.loc[:,'Verano'] =  independent_variables.loc[:,'Enero'] + independent_variables.loc[:,'Febrero']\n",
    "independent_variables.loc[:,'Nov_Dic_2017'] = independent_variables.loc[:,'Nov_2017'] + independent_variables.loc[:,'Dic_2017']\n",
    "independent_variables.loc[:,'WEEK_OF_YEAR'] = independent_variables.loc[:,'DATE'].apply(lambda x: x.week)\n",
    "independent_variables = pd.get_dummies(independent_variables, columns=['WEEK_OF_YEAR'])"
   ]
  },
  {
   "cell_type": "code",
   "execution_count": 10,
   "metadata": {},
   "outputs": [],
   "source": [
    "complete_db = daily_trx.merge(independent_variables, on =['YEAR','MONTH','YEAR_DAY'], how='left')"
   ]
  },
  {
   "cell_type": "code",
   "execution_count": 11,
   "metadata": {},
   "outputs": [],
   "source": [
    "complete_db.sort_values(by=['YEAR','MONTH','YEAR_DAY'], ascending=[True,True,True], inplace=True)"
   ]
  },
  {
   "cell_type": "markdown",
   "metadata": {},
   "source": [
    "* Descriptives: General"
   ]
  },
  {
   "cell_type": "code",
   "execution_count": 12,
   "metadata": {},
   "outputs": [],
   "source": [
    "descriptives = pd.DataFrame()"
   ]
  },
  {
   "cell_type": "code",
   "execution_count": 13,
   "metadata": {},
   "outputs": [],
   "source": [
    "descriptives = complete_db.loc[:,'TOTAL_trx'].describe().to_frame('total_trx')\n",
    "descriptives = pd.concat([descriptives, complete_db.loc[:,'pn_SUM_TRX_no_t'].describe().to_frame()], axis=1, join='inner')\n",
    "descriptives = pd.concat([descriptives, complete_db.loc[:,'pn_SUM_TRX_3t'].describe().to_frame()], axis=1, join='inner')\n",
    "descriptives = pd.concat([descriptives, complete_db.loc[:,'pn_SUM_TRX_tm'].describe().to_frame()], axis=1, join='inner')\n",
    "descriptives = pd.concat([descriptives, complete_db.loc[:,'zp_SUM_TRX'].describe().to_frame()], axis=1, join='inner')"
   ]
  },
  {
   "cell_type": "code",
   "execution_count": 14,
   "metadata": {},
   "outputs": [],
   "source": [
    "#descriptives"
   ]
  },
  {
   "cell_type": "code",
   "execution_count": 15,
   "metadata": {},
   "outputs": [],
   "source": [
    "#pd.set_option('display.float_format', '{:.3e}'.format)"
   ]
  },
  {
   "cell_type": "code",
   "execution_count": 16,
   "metadata": {},
   "outputs": [],
   "source": [
    "#print(descriptives.to_latex())"
   ]
  },
  {
   "cell_type": "markdown",
   "metadata": {},
   "source": [
    "* Descriptives: Only working days during normal period"
   ]
  },
  {
   "cell_type": "code",
   "execution_count": 17,
   "metadata": {},
   "outputs": [],
   "source": [
    "working_complete_db = complete_db.loc[((complete_db['SATURDAY']==0)\n",
    "                                    &(complete_db['SUNDAY']==0)\n",
    "                                    &(complete_db['Feriado_laboral']==0)\n",
    "                                    &(complete_db['WEEK_OF_YEAR_52']==0)\n",
    "                                    &(complete_db['WEEK_OF_YEAR_53']==0)\n",
    "                                    &(complete_db['WEEK_OF_YEAR_1']==0)\n",
    "                                    &(complete_db['WEEK_OF_YEAR_2']==0)\n",
    "                                    &(complete_db['WEEK_OF_YEAR_3']==0)\n",
    "                                    &(complete_db['WEEK_OF_YEAR_4']==0)\n",
    "                                    &(complete_db['WEEK_OF_YEAR_5']==0)\n",
    "                                    &(complete_db['WEEK_OF_YEAR_6']==0)\n",
    "                                    &(complete_db['WEEK_OF_YEAR_7']==0)\n",
    "                                    &(complete_db['WEEK_OF_YEAR_8']==0)\n",
    "                                    &(complete_db['WEEK_OF_YEAR_9']==0)),:]"
   ]
  },
  {
   "cell_type": "code",
   "execution_count": 18,
   "metadata": {},
   "outputs": [],
   "source": [
    "descriptives_working = pd.DataFrame()"
   ]
  },
  {
   "cell_type": "code",
   "execution_count": 19,
   "metadata": {},
   "outputs": [],
   "source": [
    "descriptives_working = working_complete_db.loc[:,'TOTAL_trx'].describe().to_frame('total_trx')\n",
    "\n",
    "descriptives_working = pd.concat([descriptives_working, working_complete_db.loc[:,'pn_SUM_TRX_no_t'].describe().to_frame()], axis=1, join='inner')\n",
    "\n",
    "descriptives_working = pd.concat([descriptives_working, working_complete_db.loc[:,'pn_SUM_TRX_3t'].describe().to_frame()], axis=1, join='inner')\n",
    "\n",
    "descriptives_working = pd.concat([descriptives_working, working_complete_db.loc[:,'pn_SUM_TRX_tm'].describe().to_frame()], axis=1, join='inner')\n",
    "\n",
    "descriptives_working = pd.concat([descriptives_working, working_complete_db.loc[:,'zp_SUM_TRX'].describe().to_frame()], axis=1, join='inner')"
   ]
  },
  {
   "cell_type": "code",
   "execution_count": 20,
   "metadata": {
    "scrolled": true
   },
   "outputs": [],
   "source": [
    "#descriptives_working"
   ]
  },
  {
   "cell_type": "code",
   "execution_count": 21,
   "metadata": {},
   "outputs": [],
   "source": [
    "#print(descriptives_week.to_latex())"
   ]
  },
  {
   "cell_type": "markdown",
   "metadata": {},
   "source": [
    "* Plotting by year"
   ]
  },
  {
   "cell_type": "code",
   "execution_count": 22,
   "metadata": {},
   "outputs": [],
   "source": [
    "grouped_by_year = complete_db.groupby(['YEAR'])['TOTAL_trx','pn_SUM_TRX_no_t','pn_SUM_TRX_3t','pn_SUM_TRX_tm','zp_SUM_TRX'].sum()"
   ]
  },
  {
   "cell_type": "code",
   "execution_count": 23,
   "metadata": {},
   "outputs": [
    {
     "data": {
      "text/html": [
       "<div>\n",
       "<style scoped>\n",
       "    .dataframe tbody tr th:only-of-type {\n",
       "        vertical-align: middle;\n",
       "    }\n",
       "\n",
       "    .dataframe tbody tr th {\n",
       "        vertical-align: top;\n",
       "    }\n",
       "\n",
       "    .dataframe thead th {\n",
       "        text-align: right;\n",
       "    }\n",
       "</style>\n",
       "<table border=\"1\" class=\"dataframe\">\n",
       "  <thead>\n",
       "    <tr style=\"text-align: right;\">\n",
       "      <th></th>\n",
       "      <th>TOTAL_trx</th>\n",
       "      <th>pn_SUM_TRX_no_t</th>\n",
       "      <th>pn_SUM_TRX_3t</th>\n",
       "      <th>pn_SUM_TRX_tm</th>\n",
       "      <th>zp_SUM_TRX</th>\n",
       "    </tr>\n",
       "    <tr>\n",
       "      <th>YEAR</th>\n",
       "      <th></th>\n",
       "      <th></th>\n",
       "      <th></th>\n",
       "      <th></th>\n",
       "      <th></th>\n",
       "    </tr>\n",
       "  </thead>\n",
       "  <tbody>\n",
       "    <tr>\n",
       "      <th>2015</th>\n",
       "      <td>914266353.0</td>\n",
       "      <td>681051074</td>\n",
       "      <td>138508996</td>\n",
       "      <td>1050625.0</td>\n",
       "      <td>93655658</td>\n",
       "    </tr>\n",
       "    <tr>\n",
       "      <th>2016</th>\n",
       "      <td>873690623.0</td>\n",
       "      <td>643134397</td>\n",
       "      <td>129177128</td>\n",
       "      <td>11239945.0</td>\n",
       "      <td>90139153</td>\n",
       "    </tr>\n",
       "    <tr>\n",
       "      <th>2017</th>\n",
       "      <td>860265821.0</td>\n",
       "      <td>511644071</td>\n",
       "      <td>107372896</td>\n",
       "      <td>139383299.0</td>\n",
       "      <td>101865555</td>\n",
       "    </tr>\n",
       "  </tbody>\n",
       "</table>\n",
       "</div>"
      ],
      "text/plain": [
       "        TOTAL_trx  pn_SUM_TRX_no_t  pn_SUM_TRX_3t  pn_SUM_TRX_tm  zp_SUM_TRX\n",
       "YEAR                                                                        \n",
       "2015  914266353.0        681051074      138508996      1050625.0    93655658\n",
       "2016  873690623.0        643134397      129177128     11239945.0    90139153\n",
       "2017  860265821.0        511644071      107372896    139383299.0   101865555"
      ]
     },
     "execution_count": 23,
     "metadata": {},
     "output_type": "execute_result"
    }
   ],
   "source": [
    "grouped_by_year"
   ]
  },
  {
   "cell_type": "code",
   "execution_count": 24,
   "metadata": {},
   "outputs": [],
   "source": [
    "colors = [(76, 181, 245),(183, 184, 182),(52, 103, 92),(179, 193, 0)]\n",
    "for i in range(len(colors)):\n",
    "    r, g, b = colors[i]  \n",
    "    colors[i] = (r / 255., g / 255., b / 255.)"
   ]
  },
  {
   "cell_type": "code",
   "execution_count": 25,
   "metadata": {},
   "outputs": [],
   "source": [
    "def millions(x, pos):\n",
    "    'The two args are the value and tick position'\n",
    "    return '%1.1fM' % (x*1e-6)"
   ]
  },
  {
   "cell_type": "code",
   "execution_count": 26,
   "metadata": {},
   "outputs": [
    {
     "data": {
      "image/png": "[encoded data removed]",
      "text/plain": [
       "<Figure size 432x288 with 1 Axes>"
      ]
     },
     "metadata": {},
     "output_type": "display_data"
    }
   ],
   "source": [
    "year_values = grouped_by_year.index.values\n",
    "no_turnstile_values = list(map(int, grouped_by_year['pn_SUM_TRX_no_t'].values))\n",
    "three_turnstile_values = list(map(int,grouped_by_year['pn_SUM_TRX_3t'].values))\n",
    "butterfly_turnstile_values = list(map(int,grouped_by_year['pn_SUM_TRX_tm'].values))\n",
    "zp_values = list(map(int,grouped_by_year['zp_SUM_TRX'].values))\n",
    "    \n",
    "formatter = FuncFormatter(millions)\n",
    "    \n",
    "labels = [\"ZP\", \"S/T\", \"C/T3\", \"C/TM\"]\n",
    "fig, ax = plt.subplots()\n",
    "\n",
    "p1 = plt.bar(year_values, zp_values, color = colors[0], label='ZP')\n",
    "p2 = plt.bar(year_values, no_turnstile_values, bottom=zp_values, color = colors[1], label='S/T')\n",
    "p3 = plt.bar(year_values, three_turnstile_values, bottom= [sum(x) for x in zip(zp_values, no_turnstile_values)], color = colors[2],label='C/T3')\n",
    "p4 = plt.bar(year_values, butterfly_turnstile_values, bottom= [sum(x) for x in zip(zp_values, no_turnstile_values,three_turnstile_values)], color = colors[3], label='C/TM')\n",
    "\n",
    "ax.legend()\n",
    "ax.set_title('Transacciones por año, 2015 a 2017')\n",
    "ax.set_ylabel('Transacciones')\n",
    "ax.yaxis.set_major_formatter(formatter)\n",
    "ax.set_xlabel('Año')\n",
    "#fig.autofmt_xdate()\n",
    "plt.xticks(np.arange(min(year_values), max(year_values)+1, 1.0))\n",
    "plt.tight_layout()\n",
    "#plt.savefig('C:/Users/leoca_000/Desktop/Evasion/03_report/02_Figs/6_trxOverTimeByYear_all.pdf')\n",
    "        \n",
    "#plt.show()"
   ]
  },
  {
   "cell_type": "markdown",
   "metadata": {},
   "source": [
    "* Choose of max_lags based on number of observations"
   ]
  },
  {
   "cell_type": "code",
   "execution_count": 27,
   "metadata": {},
   "outputs": [],
   "source": [
    "import math"
   ]
  },
  {
   "cell_type": "code",
   "execution_count": 28,
   "metadata": {},
   "outputs": [],
   "source": [
    "g_1 = math.floor(4*math.pow((1096/100),(2/9)))\n",
    "#g_2 = math.floor(math.pow(1096,1/4))"
   ]
  },
  {
   "cell_type": "markdown",
   "metadata": {},
   "source": [
    "* Defining a function to estimate and summarize prediction"
   ]
  },
  {
   "cell_type": "code",
   "execution_count": 29,
   "metadata": {},
   "outputs": [],
   "source": [
    "def estimateWithStatsModels(Y,X,g,name):\n",
    "    X = sm.add_constant(X)\n",
    "    m = sm.OLS(Y, X)\n",
    "    results = m.fit().get_robustcov_results(cov_type='HAC',maxlags=g)\n",
    "    ypred = results.predict(X)\n",
    "    complete_db.loc[:,'ypred_' + name] = ypred\n",
    "    \n",
    "    return results"
   ]
  },
  {
   "cell_type": "markdown",
   "metadata": {},
   "source": [
    "### M1_1"
   ]
  },
  {
   "cell_type": "markdown",
   "metadata": {},
   "source": [
    "* Complete model"
   ]
  },
  {
   "cell_type": "code",
   "execution_count": 30,
   "metadata": {},
   "outputs": [
    {
     "name": "stdout",
     "output_type": "stream",
     "text": [
      "                            OLS Regression Results                            \n",
      "==============================================================================\n",
      "Dep. Variable:              TOTAL_trx   R-squared:                       0.978\n",
      "Model:                            OLS   Adj. R-squared:                  0.977\n",
      "Method:                 Least Squares   F-statistic:                     7105.\n",
      "Date:                Thu, 28 Jun 2018   Prob (F-statistic):               0.00\n",
      "Time:                        16:34:15   Log-Likelihood:                -14410.\n",
      "No. Observations:                1096   AIC:                         2.889e+04\n",
      "Df Residuals:                    1060   BIC:                         2.907e+04\n",
      "Df Model:                          35                                         \n",
      "Covariance Type:                  HAC                                         \n",
      "======================================================================================\n",
      "                         coef    std err          t      P>|t|      [0.025      0.975]\n",
      "--------------------------------------------------------------------------------------\n",
      "const              -2.926e+05   1.03e+06     -0.283      0.777   -2.32e+06    1.74e+06\n",
      "SATURDAY           -3.248e+05    8.7e+04     -3.732      0.000   -4.96e+05   -1.54e+05\n",
      "SUNDAY             -4.482e+05   1.18e+05     -3.787      0.000    -6.8e+05   -2.16e+05\n",
      "Metro Hora Punta    -391.9830   1382.537     -0.284      0.777   -3104.803    2320.837\n",
      "kms_ofertados          2.6299      0.183     14.352      0.000       2.270       2.989\n",
      "WEEK_OF_YEAR_52    -1.487e+05   5.11e+04     -2.911      0.004   -2.49e+05   -4.84e+04\n",
      "WEEK_OF_YEAR_53    -1.558e+05   3.12e+04     -4.990      0.000   -2.17e+05   -9.45e+04\n",
      "WEEK_OF_YEAR_1     -3.674e+04   2.13e+04     -1.725      0.085   -7.85e+04    5051.195\n",
      "WEEK_OF_YEAR_2     -2.579e+04   3.62e+04     -0.713      0.476   -9.68e+04    4.52e+04\n",
      "WEEK_OF_YEAR_3      -4.38e+04   4.39e+04     -0.997      0.319    -1.3e+05    4.24e+04\n",
      "WEEK_OF_YEAR_4     -1.328e+05   3.61e+04     -3.674      0.000   -2.04e+05   -6.19e+04\n",
      "WEEK_OF_YEAR_5     -1.116e+05   4.74e+04     -2.353      0.019   -2.05e+05   -1.85e+04\n",
      "WEEK_OF_YEAR_6     -2.221e+05   4.31e+04     -5.155      0.000   -3.07e+05   -1.38e+05\n",
      "WEEK_OF_YEAR_7     -2.686e+05   4.88e+04     -5.508      0.000   -3.64e+05   -1.73e+05\n",
      "WEEK_OF_YEAR_8     -2.933e+05   3.76e+04     -7.809      0.000   -3.67e+05    -2.2e+05\n",
      "WEEK_OF_YEAR_9     -1.524e+05   4.63e+04     -3.290      0.001   -2.43e+05   -6.15e+04\n",
      "Julio              -1.776e+05   2.69e+04     -6.595      0.000    -2.3e+05   -1.25e+05\n",
      "Nov_2017            4.901e+04   3.21e+04      1.528      0.127   -1.39e+04    1.12e+05\n",
      "Dic_2017            5.419e+04   4.19e+04      1.293      0.196   -2.81e+04    1.36e+05\n",
      "t                   -286.9030     60.611     -4.733      0.000    -405.834    -167.971\n",
      "Feriado_laboral    -5.057e+05   1.29e+05     -3.916      0.000   -7.59e+05   -2.52e+05\n",
      "Feriado_no_laboral -3.412e+04   3.51e+04     -0.972      0.331   -1.03e+05    3.47e+04\n",
      "Elecciones          3.549e+04   7.61e+04      0.466      0.641   -1.14e+05    1.85e+05\n",
      "Censo              -6.725e+05   4.67e+04    -14.416      0.000   -7.64e+05   -5.81e+05\n",
      "Partido             1.509e+05    6.7e+04      2.251      0.025    1.94e+04    2.82e+05\n",
      "FDS_Largo          -1.334e+05   2.29e+04     -5.834      0.000   -1.78e+05   -8.85e+04\n",
      "Disturbios          9.477e+04   4.08e+04      2.323      0.020    1.47e+04    1.75e+05\n",
      "Corte_Metro         1911.4082   1.78e+04      0.107      0.915    -3.3e+04    3.68e+04\n",
      "Retraso_Metro       1.589e+04   1.47e+04      1.079      0.281    -1.3e+04    4.48e+04\n",
      "Incidente_Metro    -6536.1530    2.4e+04     -0.272      0.786   -5.37e+04    4.06e+04\n",
      "Bucle                1.04e+04   2.34e+04      0.444      0.657   -3.56e+04    5.64e+04\n",
      "Clima              -1.957e+05   5.65e+04     -3.461      0.001   -3.07e+05   -8.48e+04\n",
      "visperas_laborales -9.431e+04   8.72e+04     -1.082      0.280   -2.65e+05    7.68e+04\n",
      "kms_metro           -645.9415   1875.385     -0.344      0.731   -4325.831    3033.947\n",
      "N_ZPs               1598.7654    441.691      3.620      0.000     732.078    2465.453\n",
      "ratio_tm            4990.0870   1239.980      4.024      0.000    2556.993    7423.181\n",
      "==============================================================================\n",
      "Omnibus:                       41.912   Durbin-Watson:                   1.272\n",
      "Prob(Omnibus):                  0.000   Jarque-Bera (JB):              114.181\n",
      "Skew:                          -0.067   Prob(JB):                     1.61e-25\n",
      "Kurtosis:                       4.576   Cond. No.                     3.23e+08\n",
      "==============================================================================\n",
      "\n",
      "Warnings:\n",
      "[1] Standard Errors are heteroscedasticity and autocorrelation robust (HAC) using 6 lags and without small sample correction\n",
      "[2] The condition number is large, 3.23e+08. This might indicate that there are\n",
      "strong multicollinearity or other numerical problems.\n"
     ]
    }
   ],
   "source": [
    "Y = complete_db.loc[:,'TOTAL_trx']\n",
    "X = complete_db.loc[:,['SATURDAY',\n",
    "                       'SUNDAY',\n",
    "                       'Metro Hora Punta',\n",
    "                       'kms_ofertados',\n",
    "                       'WEEK_OF_YEAR_52',\n",
    "                       'WEEK_OF_YEAR_53',\n",
    "                       'WEEK_OF_YEAR_1',\n",
    "                       'WEEK_OF_YEAR_2',\n",
    "                       'WEEK_OF_YEAR_3',\n",
    "                       'WEEK_OF_YEAR_4',\n",
    "                       'WEEK_OF_YEAR_5',\n",
    "                       'WEEK_OF_YEAR_6',\n",
    "                       'WEEK_OF_YEAR_7',\n",
    "                       'WEEK_OF_YEAR_8',\n",
    "                       'WEEK_OF_YEAR_9',\n",
    "                       'Julio',\n",
    "                       'Nov_2017',\n",
    "                       'Dic_2017',\n",
    "                       't',\n",
    "                       'Feriado_laboral',\n",
    "                       'Feriado_no_laboral',\n",
    "                       'Elecciones',\n",
    "                       'Censo',\n",
    "                       'Partido',\n",
    "                       'FDS_Largo',\n",
    "                       'Disturbios',\n",
    "                       'Corte_Metro',\n",
    "                       'Retraso_Metro',\n",
    "                       'Incidente_Metro',\n",
    "                       'Bucle',\n",
    "                       'Clima',\n",
    "                       'visperas_laborales',\n",
    "                       'kms_metro',\n",
    "                       'N_ZPs',\n",
    "                       'ratio_tm']]\n",
    "\n",
    "results_m1_1 = estimateWithStatsModels(Y,X,g_1,'m1_1')\n",
    "print(results_m1_1.summary())"
   ]
  },
  {
   "cell_type": "markdown",
   "metadata": {},
   "source": [
    "### M1_2"
   ]
  },
  {
   "cell_type": "markdown",
   "metadata": {},
   "source": [
    "* Elecciones is omitted."
   ]
  },
  {
   "cell_type": "code",
   "execution_count": null,
   "metadata": {},
   "outputs": [],
   "source": [
    "Y = complete_db.loc[:,'TOTAL_trx']\n",
    "X = complete_db.loc[:,['SATURDAY',\n",
    "                       'SUNDAY',\n",
    "                       'Metro Hora Punta',\n",
    "                       'kms_ofertados',\n",
    "                       'WEEK_OF_YEAR_52',\n",
    "                       'WEEK_OF_YEAR_53',\n",
    "                       'WEEK_OF_YEAR_1',\n",
    "                       'WEEK_OF_YEAR_2',\n",
    "                       'WEEK_OF_YEAR_3',\n",
    "                       'WEEK_OF_YEAR_4',\n",
    "                       'WEEK_OF_YEAR_5',\n",
    "                       'WEEK_OF_YEAR_6',\n",
    "                       'WEEK_OF_YEAR_7',\n",
    "                       'WEEK_OF_YEAR_8',\n",
    "                       'WEEK_OF_YEAR_9',\n",
    "                       'Julio',\n",
    "                       'Nov_2017',\n",
    "                       'Dic_2017',\n",
    "                       't',\n",
    "                       'Feriado_laboral',\n",
    "                       'Feriado_no_laboral',\n",
    "                       'Censo',\n",
    "                       'Partido',\n",
    "                       'FDS_Largo',\n",
    "                       'Disturbios',\n",
    "                       'Corte_Metro',\n",
    "                       'Retraso_Metro',\n",
    "                       'Incidente_Metro',\n",
    "                       'Bucle',\n",
    "                       'Clima',\n",
    "                       'visperas_laborales',\n",
    "                       'kms_metro',\n",
    "                       'N_ZPs',\n",
    "                       'ratio_tm']]\n",
    "\n",
    "results_m1_2 = estimateWithStatsModels(Y,X,g_1,'m1_2')\n",
    "print(results_m1_2.summary())"
   ]
  },
  {
   "cell_type": "markdown",
   "metadata": {},
   "source": [
    "### M1_3"
   ]
  },
  {
   "cell_type": "markdown",
   "metadata": {},
   "source": [
    "* Metro Hora Punta is omitted"
   ]
  },
  {
   "cell_type": "code",
   "execution_count": null,
   "metadata": {},
   "outputs": [],
   "source": [
    "Y = complete_db.loc[:,'TOTAL_trx']\n",
    "X = complete_db.loc[:,['SATURDAY',\n",
    "                       'SUNDAY',\n",
    "                       'kms_ofertados',\n",
    "                       'WEEK_OF_YEAR_52',\n",
    "                       'WEEK_OF_YEAR_53',\n",
    "                       'WEEK_OF_YEAR_1',\n",
    "                       'WEEK_OF_YEAR_2',\n",
    "                       'WEEK_OF_YEAR_3',\n",
    "                       'WEEK_OF_YEAR_4',\n",
    "                       'WEEK_OF_YEAR_5',\n",
    "                       'WEEK_OF_YEAR_6',\n",
    "                       'WEEK_OF_YEAR_7',\n",
    "                       'WEEK_OF_YEAR_8',\n",
    "                       'WEEK_OF_YEAR_9',\n",
    "                       'Julio',\n",
    "                       'Nov_2017',\n",
    "                       'Dic_2017',\n",
    "                       't',\n",
    "                       'Feriado_laboral',\n",
    "                       'Feriado_no_laboral',\n",
    "                       'Censo',\n",
    "                       'Partido',\n",
    "                       'FDS_Largo',\n",
    "                       'Disturbios',\n",
    "                       'Corte_Metro',\n",
    "                       'Retraso_Metro',\n",
    "                       'Incidente_Metro',\n",
    "                       'Bucle',\n",
    "                       'Clima',\n",
    "                       'visperas_laborales',\n",
    "                       'kms_metro',\n",
    "                       'N_ZPs',\n",
    "                       'ratio_tm']]\n",
    "\n",
    "results_m1_3 = estimateWithStatsModels(Y,X,g_1,'m1_3')\n",
    "print(results_m1_3.summary())"
   ]
  },
  {
   "cell_type": "markdown",
   "metadata": {},
   "source": [
    "### M1_4"
   ]
  },
  {
   "cell_type": "markdown",
   "metadata": {},
   "source": [
    "* Nov_2017 is omitted"
   ]
  },
  {
   "cell_type": "code",
   "execution_count": null,
   "metadata": {},
   "outputs": [],
   "source": [
    "Y = complete_db.loc[:,'TOTAL_trx']\n",
    "X = complete_db.loc[:,['SATURDAY',\n",
    "                       'SUNDAY',\n",
    "                       'kms_ofertados',\n",
    "                       'WEEK_OF_YEAR_52',\n",
    "                       'WEEK_OF_YEAR_53',\n",
    "                       'WEEK_OF_YEAR_1',\n",
    "                       'WEEK_OF_YEAR_2',\n",
    "                       'WEEK_OF_YEAR_3',\n",
    "                       'WEEK_OF_YEAR_4',\n",
    "                       'WEEK_OF_YEAR_5',\n",
    "                       'WEEK_OF_YEAR_6',\n",
    "                       'WEEK_OF_YEAR_7',\n",
    "                       'WEEK_OF_YEAR_8',\n",
    "                       'WEEK_OF_YEAR_9',\n",
    "                       'Julio',\n",
    "                       'Dic_2017',\n",
    "                       't',\n",
    "                       'Feriado_laboral',\n",
    "                       'Feriado_no_laboral',\n",
    "                       'Censo',\n",
    "                       'Partido',\n",
    "                       'FDS_Largo',\n",
    "                       'Disturbios',\n",
    "                       'Corte_Metro',\n",
    "                       'Retraso_Metro',\n",
    "                       'Incidente_Metro',\n",
    "                       'Bucle',\n",
    "                       'Clima',\n",
    "                       'visperas_laborales',\n",
    "                       'kms_metro',\n",
    "                       'N_ZPs',\n",
    "                       'ratio_tm']]\n",
    "\n",
    "results_m1_4 = estimateWithStatsModels(Y,X,g_1,'m1_4')\n",
    "print(results_m1_4.summary())"
   ]
  },
  {
   "cell_type": "markdown",
   "metadata": {},
   "source": [
    "### M1_5"
   ]
  },
  {
   "cell_type": "markdown",
   "metadata": {},
   "source": [
    "* Dic_2017 is omitted"
   ]
  },
  {
   "cell_type": "code",
   "execution_count": null,
   "metadata": {},
   "outputs": [],
   "source": [
    "Y = complete_db.loc[:,'TOTAL_trx']\n",
    "X = complete_db.loc[:,['SATURDAY',\n",
    "                       'SUNDAY',\n",
    "                       'kms_ofertados',\n",
    "                       'WEEK_OF_YEAR_52',\n",
    "                       'WEEK_OF_YEAR_53',\n",
    "                       'WEEK_OF_YEAR_1',\n",
    "                       'WEEK_OF_YEAR_2',\n",
    "                       'WEEK_OF_YEAR_3',\n",
    "                       'WEEK_OF_YEAR_4',\n",
    "                       'WEEK_OF_YEAR_5',\n",
    "                       'WEEK_OF_YEAR_6',\n",
    "                       'WEEK_OF_YEAR_7',\n",
    "                       'WEEK_OF_YEAR_8',\n",
    "                       'WEEK_OF_YEAR_9',\n",
    "                       'Julio',\n",
    "                       't',\n",
    "                       'Feriado_laboral',\n",
    "                       'Feriado_no_laboral',\n",
    "                       'Censo',\n",
    "                       'Partido',\n",
    "                       'FDS_Largo',\n",
    "                       'Disturbios',\n",
    "                       'Corte_Metro',\n",
    "                       'Retraso_Metro',\n",
    "                       'Incidente_Metro',\n",
    "                       'Bucle',\n",
    "                       'Clima',\n",
    "                       'visperas_laborales',\n",
    "                       'kms_metro',\n",
    "                       'N_ZPs',\n",
    "                       'ratio_tm']]\n",
    "\n",
    "results_m1_5 = estimateWithStatsModels(Y,X,g_1,'m1_5')\n",
    "print(results_m1_5.summary())"
   ]
  },
  {
   "cell_type": "markdown",
   "metadata": {},
   "source": [
    "### M1_6"
   ]
  },
  {
   "cell_type": "markdown",
   "metadata": {},
   "source": [
    "* Incidente_Metro is omitted"
   ]
  },
  {
   "cell_type": "code",
   "execution_count": null,
   "metadata": {},
   "outputs": [],
   "source": [
    "Y = complete_db.loc[:,'TOTAL_trx']\n",
    "X = complete_db.loc[:,['SATURDAY',\n",
    "                       'SUNDAY',\n",
    "                       'kms_ofertados',\n",
    "                       'WEEK_OF_YEAR_52',\n",
    "                       'WEEK_OF_YEAR_53',\n",
    "                       'WEEK_OF_YEAR_1',\n",
    "                       'WEEK_OF_YEAR_2',\n",
    "                       'WEEK_OF_YEAR_3',\n",
    "                       'WEEK_OF_YEAR_4',\n",
    "                       'WEEK_OF_YEAR_5',\n",
    "                       'WEEK_OF_YEAR_6',\n",
    "                       'WEEK_OF_YEAR_7',\n",
    "                       'WEEK_OF_YEAR_8',\n",
    "                       'WEEK_OF_YEAR_9',\n",
    "                       'Julio',\n",
    "                       't',\n",
    "                       'Feriado_laboral',\n",
    "                       'Feriado_no_laboral',\n",
    "                       'Censo',\n",
    "                       'Partido',\n",
    "                       'FDS_Largo',\n",
    "                       'Disturbios',\n",
    "                       'Corte_Metro',\n",
    "                       'Retraso_Metro',\n",
    "                       'Bucle',\n",
    "                       'Clima',\n",
    "                       'visperas_laborales',\n",
    "                       'kms_metro',\n",
    "                       'N_ZPs',\n",
    "                       'ratio_tm']]\n",
    "\n",
    "results_m1_6 = estimateWithStatsModels(Y,X,g_1,'m1_6')\n",
    "print(results_m1_6.summary())"
   ]
  },
  {
   "cell_type": "markdown",
   "metadata": {},
   "source": [
    "### M1_7"
   ]
  },
  {
   "cell_type": "markdown",
   "metadata": {},
   "source": [
    "* Corte_Metro is omitted"
   ]
  },
  {
   "cell_type": "code",
   "execution_count": null,
   "metadata": {},
   "outputs": [],
   "source": [
    "Y = complete_db.loc[:,'TOTAL_trx']\n",
    "X = complete_db.loc[:,['SATURDAY',\n",
    "                       'SUNDAY',\n",
    "                       'kms_ofertados',\n",
    "                       'WEEK_OF_YEAR_52',\n",
    "                       'WEEK_OF_YEAR_53',\n",
    "                       'WEEK_OF_YEAR_1',\n",
    "                       'WEEK_OF_YEAR_2',\n",
    "                       'WEEK_OF_YEAR_3',\n",
    "                       'WEEK_OF_YEAR_4',\n",
    "                       'WEEK_OF_YEAR_5',\n",
    "                       'WEEK_OF_YEAR_6',\n",
    "                       'WEEK_OF_YEAR_7',\n",
    "                       'WEEK_OF_YEAR_8',\n",
    "                       'WEEK_OF_YEAR_9',\n",
    "                       'Julio',\n",
    "                       't',\n",
    "                       'Feriado_laboral',\n",
    "                       'Feriado_no_laboral',\n",
    "                       'Censo',\n",
    "                       'Partido',\n",
    "                       'FDS_Largo',\n",
    "                       'Disturbios',\n",
    "                       'Retraso_Metro',\n",
    "                       'Bucle',\n",
    "                       'Clima',\n",
    "                       'visperas_laborales',\n",
    "                       'kms_metro',\n",
    "                       'N_ZPs',\n",
    "                       'ratio_tm']]\n",
    "\n",
    "results_m1_7 = estimateWithStatsModels(Y,X,g_1,'m1_7')\n",
    "print(results_m1_7.summary())"
   ]
  },
  {
   "cell_type": "markdown",
   "metadata": {},
   "source": [
    "### M1_8"
   ]
  },
  {
   "cell_type": "markdown",
   "metadata": {},
   "source": [
    "* Bucle is omitted"
   ]
  },
  {
   "cell_type": "code",
   "execution_count": null,
   "metadata": {},
   "outputs": [],
   "source": [
    "Y = complete_db.loc[:,'TOTAL_trx']\n",
    "X = complete_db.loc[:,['SATURDAY',\n",
    "                       'SUNDAY',\n",
    "                       'kms_ofertados',\n",
    "                       'WEEK_OF_YEAR_52',\n",
    "                       'WEEK_OF_YEAR_53',\n",
    "                       'WEEK_OF_YEAR_1',\n",
    "                       'WEEK_OF_YEAR_2',\n",
    "                       'WEEK_OF_YEAR_3',\n",
    "                       'WEEK_OF_YEAR_4',\n",
    "                       'WEEK_OF_YEAR_5',\n",
    "                       'WEEK_OF_YEAR_6',\n",
    "                       'WEEK_OF_YEAR_7',\n",
    "                       'WEEK_OF_YEAR_8',\n",
    "                       'WEEK_OF_YEAR_9',\n",
    "                       'Julio',\n",
    "                       't',\n",
    "                       'Feriado_laboral',\n",
    "                       'Feriado_no_laboral',\n",
    "                       'Censo',\n",
    "                       'Partido',\n",
    "                       'FDS_Largo',\n",
    "                       'Disturbios',\n",
    "                       'Retraso_Metro',\n",
    "                       'Clima',\n",
    "                       'visperas_laborales',\n",
    "                       'kms_metro',\n",
    "                       'N_ZPs',\n",
    "                       'ratio_tm']]\n",
    "\n",
    "results_m1_8 = estimateWithStatsModels(Y,X,g_1,'m1_8')\n",
    "print(results_m1_8.summary())"
   ]
  },
  {
   "cell_type": "markdown",
   "metadata": {},
   "source": [
    "### <font color='green'> M1_9 </font>"
   ]
  },
  {
   "cell_type": "markdown",
   "metadata": {},
   "source": [
    "* Retraso_Metro is omitted"
   ]
  },
  {
   "cell_type": "code",
   "execution_count": null,
   "metadata": {},
   "outputs": [],
   "source": [
    "Y = complete_db.loc[:,'TOTAL_trx']\n",
    "X = complete_db.loc[:,['SATURDAY',\n",
    "                       'SUNDAY',\n",
    "                       'kms_ofertados',\n",
    "                       'WEEK_OF_YEAR_52',\n",
    "                       'WEEK_OF_YEAR_53',\n",
    "                       'WEEK_OF_YEAR_1',\n",
    "                       'WEEK_OF_YEAR_2',\n",
    "                       'WEEK_OF_YEAR_3',\n",
    "                       'WEEK_OF_YEAR_4',\n",
    "                       'WEEK_OF_YEAR_5',\n",
    "                       'WEEK_OF_YEAR_6',\n",
    "                       'WEEK_OF_YEAR_7',\n",
    "                       'WEEK_OF_YEAR_8',\n",
    "                       'WEEK_OF_YEAR_9',\n",
    "                       'Julio',\n",
    "                       't',\n",
    "                       'Feriado_laboral',\n",
    "                       'Feriado_no_laboral',\n",
    "                       'Censo',\n",
    "                       'Partido',\n",
    "                       'FDS_Largo',\n",
    "                       'Disturbios',\n",
    "                       'Clima',\n",
    "                       'visperas_laborales',\n",
    "                       'kms_metro',\n",
    "                       'N_ZPs',\n",
    "                       'ratio_tm']]\n",
    "\n",
    "results_m1_9 = estimateWithStatsModels(Y,X,g_1,'m1_9')\n",
    "print(results_m1_9.summary())"
   ]
  },
  {
   "cell_type": "markdown",
   "metadata": {},
   "source": [
    "### <font color='green'>M1_10</font>"
   ]
  },
  {
   "cell_type": "markdown",
   "metadata": {},
   "source": [
    "* kms_metro is omitted"
   ]
  },
  {
   "cell_type": "code",
   "execution_count": null,
   "metadata": {},
   "outputs": [],
   "source": [
    "Y = complete_db.loc[:,'TOTAL_trx']\n",
    "X = complete_db.loc[:,['SATURDAY',\n",
    "                       'SUNDAY',\n",
    "                       'kms_ofertados',\n",
    "                       'WEEK_OF_YEAR_52',\n",
    "                       'WEEK_OF_YEAR_53',\n",
    "                       'WEEK_OF_YEAR_1',\n",
    "                       'WEEK_OF_YEAR_2',\n",
    "                       'WEEK_OF_YEAR_3',\n",
    "                       'WEEK_OF_YEAR_4',\n",
    "                       'WEEK_OF_YEAR_5',\n",
    "                       'WEEK_OF_YEAR_6',\n",
    "                       'WEEK_OF_YEAR_7',\n",
    "                       'WEEK_OF_YEAR_8',\n",
    "                       'WEEK_OF_YEAR_9',\n",
    "                       'Julio',\n",
    "                       't',\n",
    "                       'Feriado_laboral',\n",
    "                       'Feriado_no_laboral',\n",
    "                       'Censo',\n",
    "                       'Partido',\n",
    "                       'FDS_Largo',\n",
    "                       'Disturbios',\n",
    "                       'Clima',\n",
    "                       'visperas_laborales',\n",
    "                       'N_ZPs',\n",
    "                       'ratio_tm']]\n",
    "\n",
    "results_m1_10 = estimateWithStatsModels(Y,X,g_1,'m1_10')\n",
    "print(results_m1_10.summary())"
   ]
  },
  {
   "cell_type": "code",
   "execution_count": null,
   "metadata": {},
   "outputs": [],
   "source": [
    "summary_m1_9_m1_10 = summary_col([results_m1_9,results_m1_10], model_names = ['m1_9','m1_10'], stars=True, info_dict=info_dict)"
   ]
  },
  {
   "cell_type": "code",
   "execution_count": null,
   "metadata": {},
   "outputs": [],
   "source": [
    "summary_m1_9_m1_10"
   ]
  },
  {
   "cell_type": "code",
   "execution_count": null,
   "metadata": {},
   "outputs": [],
   "source": [
    "working_complete_db.loc[:,'total_exp'] = working_complete_db.loc[:,'pn_SUM_EXP_no_t'] + working_complete_db.loc[:,'pn_SUM_EXP_3t'] + working_complete_db.loc[:,'pn_SUM_EXP_tm']"
   ]
  },
  {
   "cell_type": "markdown",
   "metadata": {},
   "source": [
    "### M1_11"
   ]
  },
  {
   "cell_type": "code",
   "execution_count": null,
   "metadata": {},
   "outputs": [],
   "source": [
    "Y = complete_db.loc[:,'TOTAL_trx']\n",
    "X = complete_db.loc[:,['SATURDAY',\n",
    "                       'SUNDAY',\n",
    "                       'kms_ofertados',\n",
    "                       'WEEK_OF_YEAR_52',\n",
    "                       'WEEK_OF_YEAR_53',\n",
    "                       'WEEK_OF_YEAR_1',\n",
    "                       'WEEK_OF_YEAR_2',\n",
    "                       'WEEK_OF_YEAR_3',\n",
    "                       'WEEK_OF_YEAR_4',\n",
    "                       'WEEK_OF_YEAR_5',\n",
    "                       'WEEK_OF_YEAR_6',\n",
    "                       'WEEK_OF_YEAR_7',\n",
    "                       'WEEK_OF_YEAR_8',\n",
    "                       'WEEK_OF_YEAR_9',\n",
    "                       'Julio',\n",
    "                       't',\n",
    "                       'Feriado_laboral',\n",
    "                       'Feriado_no_laboral',\n",
    "                       'Censo',\n",
    "                       'Partido',\n",
    "                       'FDS_Largo',\n",
    "                       'Disturbios',\n",
    "                       'Clima',\n",
    "                       'visperas_laborales',\n",
    "                       'N_ZPs',\n",
    "                       'ratio_3t',\n",
    "                       'ratio_tm']]\n",
    "\n",
    "results_m1_11 = estimateWithStatsModels(Y,X,g_1,'m1_11')\n",
    "print(results_m1_11.summary())"
   ]
  },
  {
   "cell_type": "markdown",
   "metadata": {},
   "source": [
    "### M1_12"
   ]
  },
  {
   "cell_type": "code",
   "execution_count": null,
   "metadata": {},
   "outputs": [],
   "source": [
    "Y = complete_db.loc[:,'TOTAL_trx']\n",
    "X = complete_db.loc[:,['SATURDAY',\n",
    "                       'SUNDAY',\n",
    "                       'kms_ofertados',\n",
    "                       'WEEK_OF_YEAR_52',\n",
    "                       'WEEK_OF_YEAR_53',\n",
    "                       'WEEK_OF_YEAR_1',\n",
    "                       'WEEK_OF_YEAR_2',\n",
    "                       'WEEK_OF_YEAR_3',\n",
    "                       'WEEK_OF_YEAR_4',\n",
    "                       'WEEK_OF_YEAR_5',\n",
    "                       'WEEK_OF_YEAR_6',\n",
    "                       'WEEK_OF_YEAR_7',\n",
    "                       'WEEK_OF_YEAR_8',\n",
    "                       'WEEK_OF_YEAR_9',\n",
    "                       'Julio',\n",
    "                       't',\n",
    "                       'Feriado_laboral',\n",
    "                       'Feriado_no_laboral',\n",
    "                       'Censo',\n",
    "                       'Partido',\n",
    "                       'FDS_Largo',\n",
    "                       'Disturbios',\n",
    "                       'Clima',\n",
    "                       'visperas_laborales',\n",
    "                       'N_ZPs',\n",
    "                       'ratio_3t']]\n",
    "\n",
    "results_m1_12 = estimateWithStatsModels(Y,X,g_1,'m1_12')\n",
    "print(results_m1_12.summary())"
   ]
  },
  {
   "cell_type": "markdown",
   "metadata": {},
   "source": [
    "--------------------"
   ]
  },
  {
   "cell_type": "markdown",
   "metadata": {},
   "source": [
    "### M2_1"
   ]
  },
  {
   "cell_type": "code",
   "execution_count": null,
   "metadata": {},
   "outputs": [],
   "source": [
    "complete_db.loc[:,'ratio_tm_2'] = complete_db.loc[:,'ratio_tm']*complete_db.loc[:,'ratio_tm']"
   ]
  },
  {
   "cell_type": "code",
   "execution_count": null,
   "metadata": {},
   "outputs": [],
   "source": [
    "Y = complete_db.loc[:,'TOTAL_trx']\n",
    "X = complete_db.loc[:,['SATURDAY',\n",
    "                       'SUNDAY',\n",
    "                       'Metro Hora Punta',\n",
    "                       'kms_ofertados',\n",
    "                       'WEEK_OF_YEAR_52',\n",
    "                       'WEEK_OF_YEAR_53',\n",
    "                       'WEEK_OF_YEAR_1',\n",
    "                       'WEEK_OF_YEAR_2',\n",
    "                       'WEEK_OF_YEAR_3',\n",
    "                       'WEEK_OF_YEAR_4',\n",
    "                       'WEEK_OF_YEAR_5',\n",
    "                       'WEEK_OF_YEAR_6',\n",
    "                       'WEEK_OF_YEAR_7',\n",
    "                       'WEEK_OF_YEAR_8',\n",
    "                       'WEEK_OF_YEAR_9',\n",
    "                       'Julio',\n",
    "                       'Nov_2017',\n",
    "                       'Dic_2017',\n",
    "                       't',\n",
    "                       'Feriado_laboral',\n",
    "                       'Feriado_no_laboral',\n",
    "                       'Elecciones',\n",
    "                       'Censo',\n",
    "                       'Partido',\n",
    "                       'FDS_Largo',\n",
    "                       'Disturbios',\n",
    "                       'Corte_Metro',\n",
    "                       'Retraso_Metro',\n",
    "                       'Incidente_Metro',\n",
    "                       'Bucle',\n",
    "                       'Clima',\n",
    "                       'visperas_laborales',\n",
    "                       'kms_metro',\n",
    "                       'N_ZPs',\n",
    "                       'ratio_tm',\n",
    "                       'ratio_tm_2']]\n",
    "\n",
    "results_m2_1 = estimateWithStatsModels(Y,X,g_1,'m2_1')\n",
    "print(results_m2_1.summary())"
   ]
  },
  {
   "cell_type": "markdown",
   "metadata": {},
   "source": [
    "### M2_2"
   ]
  },
  {
   "cell_type": "code",
   "execution_count": null,
   "metadata": {},
   "outputs": [],
   "source": [
    "Y = complete_db.loc[:,'TOTAL_trx']\n",
    "X = complete_db.loc[:,['SATURDAY',\n",
    "                       'SUNDAY',\n",
    "                       'Metro Hora Punta',\n",
    "                       'kms_ofertados',\n",
    "                       'WEEK_OF_YEAR_52',\n",
    "                       'WEEK_OF_YEAR_53',\n",
    "                       'WEEK_OF_YEAR_1',\n",
    "                       'WEEK_OF_YEAR_2',\n",
    "                       'WEEK_OF_YEAR_3',\n",
    "                       'WEEK_OF_YEAR_4',\n",
    "                       'WEEK_OF_YEAR_5',\n",
    "                       'WEEK_OF_YEAR_6',\n",
    "                       'WEEK_OF_YEAR_7',\n",
    "                       'WEEK_OF_YEAR_8',\n",
    "                       'WEEK_OF_YEAR_9',\n",
    "                       'Julio',\n",
    "                       'Nov_2017',\n",
    "                       'Dic_2017',\n",
    "                       't',\n",
    "                       'Feriado_laboral',\n",
    "                       'Feriado_no_laboral',\n",
    "                       'Censo',\n",
    "                       'Partido',\n",
    "                       'FDS_Largo',\n",
    "                       'Disturbios',\n",
    "                       'Corte_Metro',\n",
    "                       'Retraso_Metro',\n",
    "                       'Incidente_Metro',\n",
    "                       'Bucle',\n",
    "                       'Clima',\n",
    "                       'visperas_laborales',\n",
    "                       'kms_metro',\n",
    "                       'N_ZPs',\n",
    "                       'ratio_tm',\n",
    "                       'ratio_tm_2']]\n",
    "\n",
    "results_m2_2 = estimateWithStatsModels(Y,X,g_1,'m2_2')\n",
    "print(results_m2_2.summary())"
   ]
  },
  {
   "cell_type": "markdown",
   "metadata": {},
   "source": [
    "### M2_3"
   ]
  },
  {
   "cell_type": "code",
   "execution_count": null,
   "metadata": {},
   "outputs": [],
   "source": [
    "Y = complete_db.loc[:,'TOTAL_trx']\n",
    "X = complete_db.loc[:,['SATURDAY',\n",
    "                       'SUNDAY',\n",
    "                       'Metro Hora Punta',\n",
    "                       'kms_ofertados',\n",
    "                       'WEEK_OF_YEAR_52',\n",
    "                       'WEEK_OF_YEAR_53',\n",
    "                       'WEEK_OF_YEAR_1',\n",
    "                       'WEEK_OF_YEAR_2',\n",
    "                       'WEEK_OF_YEAR_3',\n",
    "                       'WEEK_OF_YEAR_4',\n",
    "                       'WEEK_OF_YEAR_5',\n",
    "                       'WEEK_OF_YEAR_6',\n",
    "                       'WEEK_OF_YEAR_7',\n",
    "                       'WEEK_OF_YEAR_8',\n",
    "                       'WEEK_OF_YEAR_9',\n",
    "                       'Julio',\n",
    "                       'Nov_2017',\n",
    "                       'Dic_2017',\n",
    "                       't',\n",
    "                       'Feriado_laboral',\n",
    "                       'Feriado_no_laboral',\n",
    "                       'Censo',\n",
    "                       'Partido',\n",
    "                       'FDS_Largo',\n",
    "                       'Disturbios',\n",
    "                       'Corte_Metro',\n",
    "                       'Retraso_Metro',\n",
    "                       'Bucle',\n",
    "                       'Clima',\n",
    "                       'visperas_laborales',\n",
    "                       'kms_metro',\n",
    "                       'N_ZPs',\n",
    "                       'ratio_tm',\n",
    "                       'ratio_tm_2']]\n",
    "\n",
    "results_m2_3 = estimateWithStatsModels(Y,X,g_1,'m2_3')\n",
    "print(results_m2_3.summary())"
   ]
  },
  {
   "cell_type": "markdown",
   "metadata": {},
   "source": [
    "### M2_4"
   ]
  },
  {
   "cell_type": "code",
   "execution_count": null,
   "metadata": {},
   "outputs": [],
   "source": [
    "Y = complete_db.loc[:,'TOTAL_trx']\n",
    "X = complete_db.loc[:,['SATURDAY',\n",
    "                       'SUNDAY',\n",
    "                       'Metro Hora Punta',\n",
    "                       'kms_ofertados',\n",
    "                       'WEEK_OF_YEAR_52',\n",
    "                       'WEEK_OF_YEAR_53',\n",
    "                       'WEEK_OF_YEAR_1',\n",
    "                       'WEEK_OF_YEAR_2',\n",
    "                       'WEEK_OF_YEAR_3',\n",
    "                       'WEEK_OF_YEAR_4',\n",
    "                       'WEEK_OF_YEAR_5',\n",
    "                       'WEEK_OF_YEAR_6',\n",
    "                       'WEEK_OF_YEAR_7',\n",
    "                       'WEEK_OF_YEAR_8',\n",
    "                       'WEEK_OF_YEAR_9',\n",
    "                       'Julio',\n",
    "                       'Dic_2017',\n",
    "                       't',\n",
    "                       'Feriado_laboral',\n",
    "                       'Feriado_no_laboral',\n",
    "                       'Censo',\n",
    "                       'Partido',\n",
    "                       'FDS_Largo',\n",
    "                       'Disturbios',\n",
    "                       'Corte_Metro',\n",
    "                       'Retraso_Metro',\n",
    "                       'Bucle',\n",
    "                       'Clima',\n",
    "                       'visperas_laborales',\n",
    "                       'kms_metro',\n",
    "                       'N_ZPs',\n",
    "                       'ratio_tm',\n",
    "                       'ratio_tm_2']]\n",
    "\n",
    "results_m2_4 = estimateWithStatsModels(Y,X,g_1,'m2_4')\n",
    "print(results_m2_4.summary())"
   ]
  },
  {
   "cell_type": "markdown",
   "metadata": {},
   "source": [
    "### M2_5"
   ]
  },
  {
   "cell_type": "code",
   "execution_count": null,
   "metadata": {},
   "outputs": [],
   "source": [
    "Y = complete_db.loc[:,'TOTAL_trx']\n",
    "X = complete_db.loc[:,['SATURDAY',\n",
    "                       'SUNDAY',\n",
    "                       'Metro Hora Punta',\n",
    "                       'kms_ofertados',\n",
    "                       'WEEK_OF_YEAR_52',\n",
    "                       'WEEK_OF_YEAR_53',\n",
    "                       'WEEK_OF_YEAR_1',\n",
    "                       'WEEK_OF_YEAR_2',\n",
    "                       'WEEK_OF_YEAR_3',\n",
    "                       'WEEK_OF_YEAR_4',\n",
    "                       'WEEK_OF_YEAR_5',\n",
    "                       'WEEK_OF_YEAR_6',\n",
    "                       'WEEK_OF_YEAR_7',\n",
    "                       'WEEK_OF_YEAR_8',\n",
    "                       'WEEK_OF_YEAR_9',\n",
    "                       'Julio',\n",
    "                       't',\n",
    "                       'Feriado_laboral',\n",
    "                       'Feriado_no_laboral',\n",
    "                       'Censo',\n",
    "                       'Partido',\n",
    "                       'FDS_Largo',\n",
    "                       'Disturbios',\n",
    "                       'Corte_Metro',\n",
    "                       'Retraso_Metro',\n",
    "                       'Bucle',\n",
    "                       'Clima',\n",
    "                       'visperas_laborales',\n",
    "                       'kms_metro',\n",
    "                       'N_ZPs',\n",
    "                       'ratio_tm',\n",
    "                       'ratio_tm_2']]\n",
    "\n",
    "results_m2_5 = estimateWithStatsModels(Y,X,g_1,'m2_5')\n",
    "print(results_m2_5.summary())"
   ]
  },
  {
   "cell_type": "markdown",
   "metadata": {},
   "source": [
    "### M2_6"
   ]
  },
  {
   "cell_type": "code",
   "execution_count": null,
   "metadata": {},
   "outputs": [],
   "source": [
    "Y = complete_db.loc[:,'TOTAL_trx']\n",
    "X = complete_db.loc[:,['SATURDAY',\n",
    "                       'SUNDAY',\n",
    "                       'kms_ofertados',\n",
    "                       'WEEK_OF_YEAR_52',\n",
    "                       'WEEK_OF_YEAR_53',\n",
    "                       'WEEK_OF_YEAR_1',\n",
    "                       'WEEK_OF_YEAR_2',\n",
    "                       'WEEK_OF_YEAR_3',\n",
    "                       'WEEK_OF_YEAR_4',\n",
    "                       'WEEK_OF_YEAR_5',\n",
    "                       'WEEK_OF_YEAR_6',\n",
    "                       'WEEK_OF_YEAR_7',\n",
    "                       'WEEK_OF_YEAR_8',\n",
    "                       'WEEK_OF_YEAR_9',\n",
    "                       'Julio',\n",
    "                       't',\n",
    "                       'Feriado_laboral',\n",
    "                       'Feriado_no_laboral',\n",
    "                       'Censo',\n",
    "                       'Partido',\n",
    "                       'FDS_Largo',\n",
    "                       'Disturbios',\n",
    "                       'Corte_Metro',\n",
    "                       'Retraso_Metro',\n",
    "                       'Bucle',\n",
    "                       'Clima',\n",
    "                       'visperas_laborales',\n",
    "                       'kms_metro',\n",
    "                       'N_ZPs',\n",
    "                       'ratio_tm',\n",
    "                       'ratio_tm_2']]\n",
    "\n",
    "results_m2_6 = estimateWithStatsModels(Y,X,g_1,'m2_6')\n",
    "print(results_m2_6.summary())"
   ]
  },
  {
   "cell_type": "markdown",
   "metadata": {},
   "source": [
    "### M2_7"
   ]
  },
  {
   "cell_type": "code",
   "execution_count": null,
   "metadata": {},
   "outputs": [],
   "source": [
    "Y = complete_db.loc[:,'TOTAL_trx']\n",
    "X = complete_db.loc[:,['SATURDAY',\n",
    "                       'SUNDAY',\n",
    "                       'kms_ofertados',\n",
    "                       'WEEK_OF_YEAR_52',\n",
    "                       'WEEK_OF_YEAR_53',\n",
    "                       'WEEK_OF_YEAR_1',\n",
    "                       'WEEK_OF_YEAR_2',\n",
    "                       'WEEK_OF_YEAR_3',\n",
    "                       'WEEK_OF_YEAR_4',\n",
    "                       'WEEK_OF_YEAR_5',\n",
    "                       'WEEK_OF_YEAR_6',\n",
    "                       'WEEK_OF_YEAR_7',\n",
    "                       'WEEK_OF_YEAR_8',\n",
    "                       'WEEK_OF_YEAR_9',\n",
    "                       'Julio',\n",
    "                       't',\n",
    "                       'Feriado_laboral',\n",
    "                       'Feriado_no_laboral',\n",
    "                       'Censo',\n",
    "                       'Partido',\n",
    "                       'FDS_Largo',\n",
    "                       'Disturbios',\n",
    "                       'Corte_Metro',\n",
    "                       'Bucle',\n",
    "                       'Clima',\n",
    "                       'visperas_laborales',\n",
    "                       'kms_metro',\n",
    "                       'N_ZPs',\n",
    "                       'ratio_tm',\n",
    "                       'ratio_tm_2']]\n",
    "\n",
    "results_m2_7 = estimateWithStatsModels(Y,X,g_1,'m2_7')\n",
    "print(results_m2_7.summary())"
   ]
  },
  {
   "cell_type": "markdown",
   "metadata": {},
   "source": [
    "### M2_8"
   ]
  },
  {
   "cell_type": "code",
   "execution_count": null,
   "metadata": {},
   "outputs": [],
   "source": [
    "Y = complete_db.loc[:,'TOTAL_trx']\n",
    "X = complete_db.loc[:,['SATURDAY',\n",
    "                       'SUNDAY',\n",
    "                       'kms_ofertados',\n",
    "                       'WEEK_OF_YEAR_52',\n",
    "                       'WEEK_OF_YEAR_53',\n",
    "                       'WEEK_OF_YEAR_1',\n",
    "                       'WEEK_OF_YEAR_2',\n",
    "                       'WEEK_OF_YEAR_3',\n",
    "                       'WEEK_OF_YEAR_4',\n",
    "                       'WEEK_OF_YEAR_5',\n",
    "                       'WEEK_OF_YEAR_6',\n",
    "                       'WEEK_OF_YEAR_7',\n",
    "                       'WEEK_OF_YEAR_8',\n",
    "                       'WEEK_OF_YEAR_9',\n",
    "                       'Julio',\n",
    "                       't',\n",
    "                       'Feriado_laboral',\n",
    "                       'Feriado_no_laboral',\n",
    "                       'Censo',\n",
    "                       'Partido',\n",
    "                       'FDS_Largo',\n",
    "                       'Disturbios',\n",
    "                       'Bucle',\n",
    "                       'Clima',\n",
    "                       'visperas_laborales',\n",
    "                       'kms_metro',\n",
    "                       'N_ZPs',\n",
    "                       'ratio_tm',\n",
    "                       'ratio_tm_2']]\n",
    "\n",
    "results_m2_8 = estimateWithStatsModels(Y,X,g_1,'m2_8')\n",
    "print(results_m2_8.summary())"
   ]
  },
  {
   "cell_type": "markdown",
   "metadata": {},
   "source": [
    "### M2_9"
   ]
  },
  {
   "cell_type": "code",
   "execution_count": null,
   "metadata": {},
   "outputs": [],
   "source": [
    "Y = complete_db.loc[:,'TOTAL_trx']\n",
    "X = complete_db.loc[:,['SATURDAY',\n",
    "                       'SUNDAY',\n",
    "                       'kms_ofertados',\n",
    "                       'WEEK_OF_YEAR_52',\n",
    "                       'WEEK_OF_YEAR_53',\n",
    "                       'WEEK_OF_YEAR_1',\n",
    "                       'WEEK_OF_YEAR_2',\n",
    "                       'WEEK_OF_YEAR_3',\n",
    "                       'WEEK_OF_YEAR_4',\n",
    "                       'WEEK_OF_YEAR_5',\n",
    "                       'WEEK_OF_YEAR_6',\n",
    "                       'WEEK_OF_YEAR_7',\n",
    "                       'WEEK_OF_YEAR_8',\n",
    "                       'WEEK_OF_YEAR_9',\n",
    "                       'Julio',\n",
    "                       't',\n",
    "                       'Feriado_laboral',\n",
    "                       'Feriado_no_laboral',\n",
    "                       'Censo',\n",
    "                       'Partido',\n",
    "                       'FDS_Largo',\n",
    "                       'Disturbios',\n",
    "                       'Clima',\n",
    "                       'visperas_laborales',\n",
    "                       'kms_metro',\n",
    "                       'N_ZPs',\n",
    "                       'ratio_tm',\n",
    "                       'ratio_tm_2']]\n",
    "\n",
    "results_m2_9 = estimateWithStatsModels(Y,X,g_1,'m2_9')\n",
    "print(results_m2_9.summary())"
   ]
  },
  {
   "cell_type": "markdown",
   "metadata": {},
   "source": [
    "### M2_10"
   ]
  },
  {
   "cell_type": "code",
   "execution_count": null,
   "metadata": {},
   "outputs": [],
   "source": [
    "Y = complete_db.loc[:,'TOTAL_trx']\n",
    "X = complete_db.loc[:,['SATURDAY',\n",
    "                       'SUNDAY',\n",
    "                       'kms_ofertados',\n",
    "                       'WEEK_OF_YEAR_52',\n",
    "                       'WEEK_OF_YEAR_53',\n",
    "                       'WEEK_OF_YEAR_1',\n",
    "                       'WEEK_OF_YEAR_2',\n",
    "                       'WEEK_OF_YEAR_3',\n",
    "                       'WEEK_OF_YEAR_4',\n",
    "                       'WEEK_OF_YEAR_5',\n",
    "                       'WEEK_OF_YEAR_6',\n",
    "                       'WEEK_OF_YEAR_7',\n",
    "                       'WEEK_OF_YEAR_8',\n",
    "                       'WEEK_OF_YEAR_9',\n",
    "                       'Julio',\n",
    "                       't',\n",
    "                       'Feriado_laboral',\n",
    "                       'Feriado_no_laboral',\n",
    "                       'Censo',\n",
    "                       'Partido',\n",
    "                       'FDS_Largo',\n",
    "                       'Disturbios',\n",
    "                       'Clima',\n",
    "                       'visperas_laborales',\n",
    "                       'kms_metro',\n",
    "                       'N_ZPs',\n",
    "                       'ratio_tm_2']]\n",
    "\n",
    "results_m2_10 = estimateWithStatsModels(Y,X,g_1,'m2_10')\n",
    "print(results_m2_10.summary())"
   ]
  },
  {
   "cell_type": "markdown",
   "metadata": {},
   "source": [
    "### M2_11"
   ]
  },
  {
   "cell_type": "code",
   "execution_count": null,
   "metadata": {},
   "outputs": [],
   "source": [
    "Y = complete_db.loc[:,'TOTAL_trx']\n",
    "X = complete_db.loc[:,['SATURDAY',\n",
    "                       'SUNDAY',\n",
    "                       'kms_ofertados',\n",
    "                       'WEEK_OF_YEAR_52',\n",
    "                       'WEEK_OF_YEAR_53',\n",
    "                       'WEEK_OF_YEAR_1',\n",
    "                       'WEEK_OF_YEAR_2',\n",
    "                       'WEEK_OF_YEAR_3',\n",
    "                       'WEEK_OF_YEAR_4',\n",
    "                       'WEEK_OF_YEAR_5',\n",
    "                       'WEEK_OF_YEAR_6',\n",
    "                       'WEEK_OF_YEAR_7',\n",
    "                       'WEEK_OF_YEAR_8',\n",
    "                       'WEEK_OF_YEAR_9',\n",
    "                       'Julio',\n",
    "                       't',\n",
    "                       'Feriado_laboral',\n",
    "                       'Feriado_no_laboral',\n",
    "                       'Censo',\n",
    "                       'Partido',\n",
    "                       'FDS_Largo',\n",
    "                       'Disturbios',\n",
    "                       'Clima',\n",
    "                       'visperas_laborales',\n",
    "                       'N_ZPs',\n",
    "                       'ratio_tm',\n",
    "                       'ratio_tm_2']]\n",
    "\n",
    "results_m2_11 = estimateWithStatsModels(Y,X,g_1,'m2_11')\n",
    "print(results_m2_11.summary())"
   ]
  },
  {
   "cell_type": "markdown",
   "metadata": {},
   "source": [
    "### <font color='green'> M2_12 </font>"
   ]
  },
  {
   "cell_type": "code",
   "execution_count": null,
   "metadata": {},
   "outputs": [],
   "source": [
    "Y = complete_db.loc[:,'TOTAL_trx']\n",
    "X = complete_db.loc[:,['SATURDAY',\n",
    "                       'SUNDAY',\n",
    "                       'kms_ofertados',\n",
    "                       'WEEK_OF_YEAR_52',\n",
    "                       'WEEK_OF_YEAR_53',\n",
    "                       'WEEK_OF_YEAR_1',\n",
    "                       'WEEK_OF_YEAR_2',\n",
    "                       'WEEK_OF_YEAR_3',\n",
    "                       'WEEK_OF_YEAR_4',\n",
    "                       'WEEK_OF_YEAR_5',\n",
    "                       'WEEK_OF_YEAR_6',\n",
    "                       'WEEK_OF_YEAR_7',\n",
    "                       'WEEK_OF_YEAR_8',\n",
    "                       'WEEK_OF_YEAR_9',\n",
    "                       'Julio',\n",
    "                       't',\n",
    "                       'Feriado_laboral',\n",
    "                       'Feriado_no_laboral',\n",
    "                       'Censo',\n",
    "                       'Partido',\n",
    "                       'FDS_Largo',\n",
    "                       'Disturbios',\n",
    "                       'Clima',\n",
    "                       'visperas_laborales',\n",
    "                       'N_ZPs',\n",
    "                       'ratio_tm_2']]\n",
    "\n",
    "results_m2_12 = estimateWithStatsModels(Y,X,g_1,'m2_12')\n",
    "print(results_m2_12.summary())"
   ]
  },
  {
   "cell_type": "markdown",
   "metadata": {},
   "source": [
    "### Building M3_0 based on M1_9. Storing all values in dummies_summary"
   ]
  },
  {
   "cell_type": "code",
   "execution_count": null,
   "metadata": {},
   "outputs": [],
   "source": [
    "max_ratio = math.ceil(complete_db.loc[complete_db['ratio_tm']==complete_db['ratio_tm'].max(),'ratio_tm'].item())"
   ]
  },
  {
   "cell_type": "code",
   "execution_count": null,
   "metadata": {},
   "outputs": [],
   "source": [
    "dummies_models = []\n",
    "dummies_names = []"
   ]
  },
  {
   "cell_type": "code",
   "execution_count": null,
   "metadata": {
    "scrolled": true
   },
   "outputs": [],
   "source": [
    "for i in range(0,max_ratio+1):\n",
    "    \n",
    "    complete_db.loc[:,'rtm_i'] = np.where((i<=complete_db.loc[:,'ratio_tm']),1,0)\n",
    "    complete_db.loc[:,'r_tm_x_rtm_i'] = complete_db.loc[:,'ratio_tm'] * complete_db.loc[:,'rtm_i']\n",
    "    \n",
    "    Y = complete_db.loc[:,'TOTAL_trx']\n",
    "    X = complete_db.loc[:,['SATURDAY',\n",
    "                           'SUNDAY',\n",
    "                           'kms_ofertados',\n",
    "                           'WEEK_OF_YEAR_52',\n",
    "                           'WEEK_OF_YEAR_53',\n",
    "                           'WEEK_OF_YEAR_1',\n",
    "                           'WEEK_OF_YEAR_2',\n",
    "                           'WEEK_OF_YEAR_3',\n",
    "                           'WEEK_OF_YEAR_4',\n",
    "                           'WEEK_OF_YEAR_5',\n",
    "                           'WEEK_OF_YEAR_6',\n",
    "                           'WEEK_OF_YEAR_7',\n",
    "                           'WEEK_OF_YEAR_8',\n",
    "                           'WEEK_OF_YEAR_9',\n",
    "                           'Julio',\n",
    "                           't',\n",
    "                           'Feriado_laboral',\n",
    "                           'Feriado_no_laboral',\n",
    "                           'Censo',\n",
    "                           'Partido',\n",
    "                           'FDS_Largo',\n",
    "                           'Disturbios',\n",
    "                           'Clima',\n",
    "                           'visperas_laborales',\n",
    "                           'kms_metro',\n",
    "                           'N_ZPs',\n",
    "                           'ratio_tm',\n",
    "                           'r_tm_x_rtm_i']]\n",
    "    \n",
    "\n",
    "    results_m3_0_i = estimateWithStatsModels(Y,X,g_1,'m3_0_'+str(i))\n",
    "    dummies_names.append('m3_0_'+str(i))\n",
    "    dummies_models.append(results_m3_0_i)"
   ]
  },
  {
   "cell_type": "code",
   "execution_count": null,
   "metadata": {},
   "outputs": [],
   "source": [
    "dummies_summary = summary_col(dummies_models, model_names = dummies_names, stars=True, info_dict=info_dict)"
   ]
  },
  {
   "cell_type": "markdown",
   "metadata": {},
   "source": [
    "### Building M3_1 based on M3_0"
   ]
  },
  {
   "cell_type": "code",
   "execution_count": null,
   "metadata": {},
   "outputs": [],
   "source": [
    "complete_db.loc[:,'rtm_18'] = np.where((18<=complete_db.loc[:,'ratio_tm']),1,0)\n",
    "complete_db.loc[:,'r_tm_x_rtm_18'] = complete_db.loc[:,'ratio_tm'] * complete_db.loc[:,'rtm_18']"
   ]
  },
  {
   "cell_type": "code",
   "execution_count": null,
   "metadata": {},
   "outputs": [],
   "source": [
    "Y = complete_db.loc[:,'TOTAL_trx']\n",
    "X = complete_db.loc[:,['SATURDAY',\n",
    "                       'SUNDAY',\n",
    "                       'Metro Hora Punta',\n",
    "                       'kms_ofertados',\n",
    "                       'WEEK_OF_YEAR_52',\n",
    "                       'WEEK_OF_YEAR_53',\n",
    "                       'WEEK_OF_YEAR_1',\n",
    "                       'WEEK_OF_YEAR_2',\n",
    "                       'WEEK_OF_YEAR_3',\n",
    "                       'WEEK_OF_YEAR_4',\n",
    "                       'WEEK_OF_YEAR_5',\n",
    "                       'WEEK_OF_YEAR_6',\n",
    "                       'WEEK_OF_YEAR_7',\n",
    "                       'WEEK_OF_YEAR_8',\n",
    "                       'WEEK_OF_YEAR_9',\n",
    "                       'Julio',\n",
    "                       'Nov_2017',\n",
    "                       'Dic_2017',\n",
    "                       't',\n",
    "                       'Feriado_laboral',\n",
    "                       'Feriado_no_laboral',\n",
    "                       'Elecciones',\n",
    "                       'Censo',\n",
    "                       'Partido',\n",
    "                       'FDS_Largo',\n",
    "                       'Disturbios',\n",
    "                       'Corte_Metro',\n",
    "                       'Retraso_Metro',\n",
    "                       'Incidente_Metro',\n",
    "                       'Bucle',\n",
    "                       'Clima',\n",
    "                       'visperas_laborales',\n",
    "                       'kms_metro',\n",
    "                       'N_ZPs',\n",
    "                       'ratio_tm',\n",
    "                       'r_tm_x_rtm_18']]\n",
    "\n",
    "results_m3_1 = estimateWithStatsModels(Y,X,g_1,'m3_1')\n",
    "print(results_m3_1.summary())"
   ]
  },
  {
   "cell_type": "markdown",
   "metadata": {},
   "source": [
    "### M3_2"
   ]
  },
  {
   "cell_type": "code",
   "execution_count": null,
   "metadata": {},
   "outputs": [],
   "source": [
    "Y = complete_db.loc[:,'TOTAL_trx']\n",
    "X = complete_db.loc[:,['SATURDAY',\n",
    "                       'SUNDAY',\n",
    "                       'Metro Hora Punta',\n",
    "                       'kms_ofertados',\n",
    "                       'WEEK_OF_YEAR_52',\n",
    "                       'WEEK_OF_YEAR_53',\n",
    "                       'WEEK_OF_YEAR_1',\n",
    "                       'WEEK_OF_YEAR_2',\n",
    "                       'WEEK_OF_YEAR_3',\n",
    "                       'WEEK_OF_YEAR_4',\n",
    "                       'WEEK_OF_YEAR_5',\n",
    "                       'WEEK_OF_YEAR_6',\n",
    "                       'WEEK_OF_YEAR_7',\n",
    "                       'WEEK_OF_YEAR_8',\n",
    "                       'WEEK_OF_YEAR_9',\n",
    "                       'Julio',\n",
    "                       'Nov_2017',\n",
    "                       'Dic_2017',\n",
    "                       't',\n",
    "                       'Feriado_laboral',\n",
    "                       'Feriado_no_laboral',\n",
    "                       'Censo',\n",
    "                       'Partido',\n",
    "                       'FDS_Largo',\n",
    "                       'Disturbios',\n",
    "                       'Corte_Metro',\n",
    "                       'Retraso_Metro',\n",
    "                       'Incidente_Metro',\n",
    "                       'Bucle',\n",
    "                       'Clima',\n",
    "                       'visperas_laborales',\n",
    "                       'kms_metro',\n",
    "                       'N_ZPs',\n",
    "                       'ratio_tm',\n",
    "                       'r_tm_x_rtm_18']]\n",
    "\n",
    "results_m3_2 = estimateWithStatsModels(Y,X,g_1,'m3_2')\n",
    "print(results_m3_2.summary())"
   ]
  },
  {
   "cell_type": "markdown",
   "metadata": {},
   "source": [
    "### M3_3"
   ]
  },
  {
   "cell_type": "code",
   "execution_count": null,
   "metadata": {},
   "outputs": [],
   "source": [
    "Y = complete_db.loc[:,'TOTAL_trx']\n",
    "X = complete_db.loc[:,['SATURDAY',\n",
    "                       'SUNDAY',\n",
    "                       'Metro Hora Punta',\n",
    "                       'kms_ofertados',\n",
    "                       'WEEK_OF_YEAR_52',\n",
    "                       'WEEK_OF_YEAR_53',\n",
    "                       'WEEK_OF_YEAR_1',\n",
    "                       'WEEK_OF_YEAR_2',\n",
    "                       'WEEK_OF_YEAR_3',\n",
    "                       'WEEK_OF_YEAR_4',\n",
    "                       'WEEK_OF_YEAR_5',\n",
    "                       'WEEK_OF_YEAR_6',\n",
    "                       'WEEK_OF_YEAR_7',\n",
    "                       'WEEK_OF_YEAR_8',\n",
    "                       'WEEK_OF_YEAR_9',\n",
    "                       'Julio',\n",
    "                       'Dic_2017',\n",
    "                       't',\n",
    "                       'Feriado_laboral',\n",
    "                       'Feriado_no_laboral',\n",
    "                       'Censo',\n",
    "                       'Partido',\n",
    "                       'FDS_Largo',\n",
    "                       'Disturbios',\n",
    "                       'Corte_Metro',\n",
    "                       'Retraso_Metro',\n",
    "                       'Incidente_Metro',\n",
    "                       'Bucle',\n",
    "                       'Clima',\n",
    "                       'visperas_laborales',\n",
    "                       'kms_metro',\n",
    "                       'N_ZPs',\n",
    "                       'ratio_tm',\n",
    "                       'r_tm_x_rtm_18']]\n",
    "\n",
    "results_m3_3 = estimateWithStatsModels(Y,X,g_1,'m3_3')\n",
    "print(results_m3_3.summary())"
   ]
  },
  {
   "cell_type": "markdown",
   "metadata": {},
   "source": [
    "### M3_4"
   ]
  },
  {
   "cell_type": "code",
   "execution_count": null,
   "metadata": {},
   "outputs": [],
   "source": [
    "Y = complete_db.loc[:,'TOTAL_trx']\n",
    "X = complete_db.loc[:,['SATURDAY',\n",
    "                       'SUNDAY',\n",
    "                       'Metro Hora Punta',\n",
    "                       'kms_ofertados',\n",
    "                       'WEEK_OF_YEAR_52',\n",
    "                       'WEEK_OF_YEAR_53',\n",
    "                       'WEEK_OF_YEAR_1',\n",
    "                       'WEEK_OF_YEAR_2',\n",
    "                       'WEEK_OF_YEAR_3',\n",
    "                       'WEEK_OF_YEAR_4',\n",
    "                       'WEEK_OF_YEAR_5',\n",
    "                       'WEEK_OF_YEAR_6',\n",
    "                       'WEEK_OF_YEAR_7',\n",
    "                       'WEEK_OF_YEAR_8',\n",
    "                       'WEEK_OF_YEAR_9',\n",
    "                       'Julio',\n",
    "                       't',\n",
    "                       'Feriado_laboral',\n",
    "                       'Feriado_no_laboral',\n",
    "                       'Censo',\n",
    "                       'Partido',\n",
    "                       'FDS_Largo',\n",
    "                       'Disturbios',\n",
    "                       'Corte_Metro',\n",
    "                       'Retraso_Metro',\n",
    "                       'Incidente_Metro',\n",
    "                       'Bucle',\n",
    "                       'Clima',\n",
    "                       'visperas_laborales',\n",
    "                       'kms_metro',\n",
    "                       'N_ZPs',\n",
    "                       'ratio_tm',\n",
    "                       'r_tm_x_rtm_18']]\n",
    "\n",
    "results_m3_4 = estimateWithStatsModels(Y,X,g_1,'m3_4')\n",
    "print(results_m3_4.summary())"
   ]
  },
  {
   "cell_type": "markdown",
   "metadata": {},
   "source": [
    "### M3_5"
   ]
  },
  {
   "cell_type": "code",
   "execution_count": null,
   "metadata": {},
   "outputs": [],
   "source": [
    "Y = complete_db.loc[:,'TOTAL_trx']\n",
    "X = complete_db.loc[:,['SATURDAY',\n",
    "                       'SUNDAY',\n",
    "                       'Metro Hora Punta',\n",
    "                       'kms_ofertados',\n",
    "                       'WEEK_OF_YEAR_52',\n",
    "                       'WEEK_OF_YEAR_53',\n",
    "                       'WEEK_OF_YEAR_1',\n",
    "                       'WEEK_OF_YEAR_2',\n",
    "                       'WEEK_OF_YEAR_3',\n",
    "                       'WEEK_OF_YEAR_4',\n",
    "                       'WEEK_OF_YEAR_5',\n",
    "                       'WEEK_OF_YEAR_6',\n",
    "                       'WEEK_OF_YEAR_7',\n",
    "                       'WEEK_OF_YEAR_8',\n",
    "                       'WEEK_OF_YEAR_9',\n",
    "                       'Julio',\n",
    "                       't',\n",
    "                       'Feriado_laboral',\n",
    "                       'Feriado_no_laboral',\n",
    "                       'Censo',\n",
    "                       'Partido',\n",
    "                       'FDS_Largo',\n",
    "                       'Disturbios',\n",
    "                       'Corte_Metro',\n",
    "                       'Retraso_Metro',\n",
    "                       'Bucle',\n",
    "                       'Clima',\n",
    "                       'visperas_laborales',\n",
    "                       'kms_metro',\n",
    "                       'N_ZPs',\n",
    "                       'ratio_tm',\n",
    "                       'r_tm_x_rtm_18']]\n",
    "\n",
    "results_m3_5 = estimateWithStatsModels(Y,X,g_1,'m3_5')\n",
    "print(results_m3_5.summary())"
   ]
  },
  {
   "cell_type": "markdown",
   "metadata": {},
   "source": [
    "### M3_6"
   ]
  },
  {
   "cell_type": "code",
   "execution_count": null,
   "metadata": {},
   "outputs": [],
   "source": [
    "Y = complete_db.loc[:,'TOTAL_trx']\n",
    "X = complete_db.loc[:,['SATURDAY',\n",
    "                       'SUNDAY',\n",
    "                       'kms_ofertados',\n",
    "                       'WEEK_OF_YEAR_52',\n",
    "                       'WEEK_OF_YEAR_53',\n",
    "                       'WEEK_OF_YEAR_1',\n",
    "                       'WEEK_OF_YEAR_2',\n",
    "                       'WEEK_OF_YEAR_3',\n",
    "                       'WEEK_OF_YEAR_4',\n",
    "                       'WEEK_OF_YEAR_5',\n",
    "                       'WEEK_OF_YEAR_6',\n",
    "                       'WEEK_OF_YEAR_7',\n",
    "                       'WEEK_OF_YEAR_8',\n",
    "                       'WEEK_OF_YEAR_9',\n",
    "                       'Julio',\n",
    "                       't',\n",
    "                       'Feriado_laboral',\n",
    "                       'Feriado_no_laboral',\n",
    "                       'Censo',\n",
    "                       'Partido',\n",
    "                       'FDS_Largo',\n",
    "                       'Disturbios',\n",
    "                       'Corte_Metro',\n",
    "                       'Retraso_Metro',\n",
    "                       'Bucle',\n",
    "                       'Clima',\n",
    "                       'visperas_laborales',\n",
    "                       'kms_metro',\n",
    "                       'N_ZPs',\n",
    "                       'ratio_tm',\n",
    "                       'r_tm_x_rtm_18']]\n",
    "\n",
    "results_m3_6 = estimateWithStatsModels(Y,X,g_1,'m3_6')\n",
    "print(results_m3_6.summary())"
   ]
  },
  {
   "cell_type": "markdown",
   "metadata": {},
   "source": [
    "### M3_7"
   ]
  },
  {
   "cell_type": "code",
   "execution_count": null,
   "metadata": {},
   "outputs": [],
   "source": [
    "Y = complete_db.loc[:,'TOTAL_trx']\n",
    "X = complete_db.loc[:,['SATURDAY',\n",
    "                       'SUNDAY',\n",
    "                       'kms_ofertados',\n",
    "                       'WEEK_OF_YEAR_52',\n",
    "                       'WEEK_OF_YEAR_53',\n",
    "                       'WEEK_OF_YEAR_1',\n",
    "                       'WEEK_OF_YEAR_2',\n",
    "                       'WEEK_OF_YEAR_3',\n",
    "                       'WEEK_OF_YEAR_4',\n",
    "                       'WEEK_OF_YEAR_5',\n",
    "                       'WEEK_OF_YEAR_6',\n",
    "                       'WEEK_OF_YEAR_7',\n",
    "                       'WEEK_OF_YEAR_8',\n",
    "                       'WEEK_OF_YEAR_9',\n",
    "                       'Julio',\n",
    "                       't',\n",
    "                       'Feriado_laboral',\n",
    "                       'Feriado_no_laboral',\n",
    "                       'Censo',\n",
    "                       'Partido',\n",
    "                       'FDS_Largo',\n",
    "                       'Disturbios',\n",
    "                       'Corte_Metro',\n",
    "                       'Bucle',\n",
    "                       'Clima',\n",
    "                       'visperas_laborales',\n",
    "                       'kms_metro',\n",
    "                       'N_ZPs',\n",
    "                       'ratio_tm',\n",
    "                       'r_tm_x_rtm_18']]\n",
    "\n",
    "results_m3_7 = estimateWithStatsModels(Y,X,g_1,'m3_7')\n",
    "print(results_m3_7.summary())"
   ]
  },
  {
   "cell_type": "markdown",
   "metadata": {},
   "source": [
    "### M3_8"
   ]
  },
  {
   "cell_type": "code",
   "execution_count": null,
   "metadata": {},
   "outputs": [],
   "source": [
    "Y = complete_db.loc[:,'TOTAL_trx']\n",
    "X = complete_db.loc[:,['SATURDAY',\n",
    "                       'SUNDAY',\n",
    "                       'kms_ofertados',\n",
    "                       'WEEK_OF_YEAR_52',\n",
    "                       'WEEK_OF_YEAR_53',\n",
    "                       'WEEK_OF_YEAR_1',\n",
    "                       'WEEK_OF_YEAR_2',\n",
    "                       'WEEK_OF_YEAR_3',\n",
    "                       'WEEK_OF_YEAR_4',\n",
    "                       'WEEK_OF_YEAR_5',\n",
    "                       'WEEK_OF_YEAR_6',\n",
    "                       'WEEK_OF_YEAR_7',\n",
    "                       'WEEK_OF_YEAR_8',\n",
    "                       'WEEK_OF_YEAR_9',\n",
    "                       'Julio',\n",
    "                       't',\n",
    "                       'Feriado_laboral',\n",
    "                       'Feriado_no_laboral',\n",
    "                       'Censo',\n",
    "                       'Partido',\n",
    "                       'FDS_Largo',\n",
    "                       'Disturbios',\n",
    "                       'Bucle',\n",
    "                       'Clima',\n",
    "                       'visperas_laborales',\n",
    "                       'kms_metro',\n",
    "                       'N_ZPs',\n",
    "                       'ratio_tm',\n",
    "                       'r_tm_x_rtm_18']]\n",
    "\n",
    "results_m3_8 = estimateWithStatsModels(Y,X,g_1,'m3_8')\n",
    "print(results_m3_8.summary())"
   ]
  },
  {
   "cell_type": "markdown",
   "metadata": {},
   "source": [
    "### M3_9"
   ]
  },
  {
   "cell_type": "code",
   "execution_count": null,
   "metadata": {},
   "outputs": [],
   "source": [
    "Y = complete_db.loc[:,'TOTAL_trx']\n",
    "X = complete_db.loc[:,['SATURDAY',\n",
    "                       'SUNDAY',\n",
    "                       'kms_ofertados',\n",
    "                       'WEEK_OF_YEAR_52',\n",
    "                       'WEEK_OF_YEAR_53',\n",
    "                       'WEEK_OF_YEAR_1',\n",
    "                       'WEEK_OF_YEAR_2',\n",
    "                       'WEEK_OF_YEAR_3',\n",
    "                       'WEEK_OF_YEAR_4',\n",
    "                       'WEEK_OF_YEAR_5',\n",
    "                       'WEEK_OF_YEAR_6',\n",
    "                       'WEEK_OF_YEAR_7',\n",
    "                       'WEEK_OF_YEAR_8',\n",
    "                       'WEEK_OF_YEAR_9',\n",
    "                       'Julio',\n",
    "                       't',\n",
    "                       'Feriado_laboral',\n",
    "                       'Feriado_no_laboral',\n",
    "                       'Censo',\n",
    "                       'Partido',\n",
    "                       'FDS_Largo',\n",
    "                       'Disturbios',\n",
    "                       'Clima',\n",
    "                       'visperas_laborales',\n",
    "                       'kms_metro',\n",
    "                       'N_ZPs',\n",
    "                       'ratio_tm',\n",
    "                       'r_tm_x_rtm_18']]\n",
    "\n",
    "results_m3_9 = estimateWithStatsModels(Y,X,g_1,'m3_9')\n",
    "print(results_m3_9.summary())"
   ]
  },
  {
   "cell_type": "markdown",
   "metadata": {},
   "source": [
    "### M3_10"
   ]
  },
  {
   "cell_type": "code",
   "execution_count": null,
   "metadata": {},
   "outputs": [],
   "source": [
    "Y = complete_db.loc[:,'TOTAL_trx']\n",
    "X = complete_db.loc[:,['SATURDAY',\n",
    "                       'SUNDAY',\n",
    "                       'kms_ofertados',\n",
    "                       'WEEK_OF_YEAR_52',\n",
    "                       'WEEK_OF_YEAR_53',\n",
    "                       'WEEK_OF_YEAR_1',\n",
    "                       'WEEK_OF_YEAR_2',\n",
    "                       'WEEK_OF_YEAR_3',\n",
    "                       'WEEK_OF_YEAR_4',\n",
    "                       'WEEK_OF_YEAR_5',\n",
    "                       'WEEK_OF_YEAR_6',\n",
    "                       'WEEK_OF_YEAR_7',\n",
    "                       'WEEK_OF_YEAR_8',\n",
    "                       'WEEK_OF_YEAR_9',\n",
    "                       'Julio',\n",
    "                       't',\n",
    "                       'Feriado_laboral',\n",
    "                       'Feriado_no_laboral',\n",
    "                       'Censo',\n",
    "                       'Partido',\n",
    "                       'FDS_Largo',\n",
    "                       'Disturbios',\n",
    "                       'Clima',\n",
    "                       'visperas_laborales',\n",
    "                       'kms_metro',\n",
    "                       'N_ZPs',\n",
    "                       'r_tm_x_rtm_18']]\n",
    "\n",
    "results_m3_10 = estimateWithStatsModels(Y,X,g_1,'m3_10')\n",
    "print(results_m3_10.summary())"
   ]
  },
  {
   "cell_type": "markdown",
   "metadata": {},
   "source": [
    "### <font color='green'>M3_11</font>"
   ]
  },
  {
   "cell_type": "code",
   "execution_count": null,
   "metadata": {},
   "outputs": [],
   "source": [
    "Y = complete_db.loc[:,'TOTAL_trx']\n",
    "X = complete_db.loc[:,['SATURDAY',\n",
    "                       'SUNDAY',\n",
    "                       'kms_ofertados',\n",
    "                       'WEEK_OF_YEAR_52',\n",
    "                       'WEEK_OF_YEAR_53',\n",
    "                       'WEEK_OF_YEAR_1',\n",
    "                       'WEEK_OF_YEAR_2',\n",
    "                       'WEEK_OF_YEAR_3',\n",
    "                       'WEEK_OF_YEAR_4',\n",
    "                       'WEEK_OF_YEAR_5',\n",
    "                       'WEEK_OF_YEAR_6',\n",
    "                       'WEEK_OF_YEAR_7',\n",
    "                       'WEEK_OF_YEAR_8',\n",
    "                       'WEEK_OF_YEAR_9',\n",
    "                       'Julio',\n",
    "                       't',\n",
    "                       'Feriado_laboral',\n",
    "                       'Feriado_no_laboral',\n",
    "                       'Censo',\n",
    "                       'Partido',\n",
    "                       'FDS_Largo',\n",
    "                       'Disturbios',\n",
    "                       'Clima',\n",
    "                       'visperas_laborales',\n",
    "                       'N_ZPs',\n",
    "                       'r_tm_x_rtm_18']]\n",
    "\n",
    "results_m3_11 = estimateWithStatsModels(Y,X,g_1,'m3_11')\n",
    "print(results_m3_11.summary())"
   ]
  },
  {
   "cell_type": "markdown",
   "metadata": {},
   "source": [
    "### M3_12"
   ]
  },
  {
   "cell_type": "code",
   "execution_count": null,
   "metadata": {},
   "outputs": [],
   "source": [
    "Y = complete_db.loc[:,'TOTAL_trx']\n",
    "X = complete_db.loc[:,['SATURDAY',\n",
    "                       'SUNDAY',\n",
    "                       'kms_ofertados',\n",
    "                       'WEEK_OF_YEAR_52',\n",
    "                       'WEEK_OF_YEAR_53',\n",
    "                       'WEEK_OF_YEAR_1',\n",
    "                       'WEEK_OF_YEAR_2',\n",
    "                       'WEEK_OF_YEAR_3',\n",
    "                       'WEEK_OF_YEAR_4',\n",
    "                       'WEEK_OF_YEAR_5',\n",
    "                       'WEEK_OF_YEAR_6',\n",
    "                       'WEEK_OF_YEAR_7',\n",
    "                       'WEEK_OF_YEAR_8',\n",
    "                       'WEEK_OF_YEAR_9',\n",
    "                       'Julio',\n",
    "                       't',\n",
    "                       'Feriado_laboral',\n",
    "                       'Feriado_no_laboral',\n",
    "                       'Censo',\n",
    "                       'Partido',\n",
    "                       'FDS_Largo',\n",
    "                       'Disturbios',\n",
    "                       'Clima',\n",
    "                       'visperas_laborales',\n",
    "                       'N_ZPs',\n",
    "                       'ratio_tm',\n",
    "                       'r_tm_x_rtm_18']]\n",
    "\n",
    "results_m3_12 = estimateWithStatsModels(Y,X,g_1,'m3_12')\n",
    "print(results_m3_12.summary())"
   ]
  },
  {
   "cell_type": "markdown",
   "metadata": {},
   "source": [
    "### M4_1"
   ]
  },
  {
   "cell_type": "code",
   "execution_count": null,
   "metadata": {},
   "outputs": [],
   "source": [
    "complete_db.loc[:,'log(r_tm + 1)'] = complete_db['ratio_tm'].apply(lambda x: math.log1p(x))"
   ]
  },
  {
   "cell_type": "code",
   "execution_count": null,
   "metadata": {},
   "outputs": [],
   "source": [
    "Y = complete_db.loc[:,'TOTAL_trx']\n",
    "X = complete_db.loc[:,['SATURDAY',\n",
    "                       'SUNDAY',\n",
    "                       'Metro Hora Punta',\n",
    "                       'kms_ofertados',\n",
    "                       'WEEK_OF_YEAR_52',\n",
    "                       'WEEK_OF_YEAR_53',\n",
    "                       'WEEK_OF_YEAR_1',\n",
    "                       'WEEK_OF_YEAR_2',\n",
    "                       'WEEK_OF_YEAR_3',\n",
    "                       'WEEK_OF_YEAR_4',\n",
    "                       'WEEK_OF_YEAR_5',\n",
    "                       'WEEK_OF_YEAR_6',\n",
    "                       'WEEK_OF_YEAR_7',\n",
    "                       'WEEK_OF_YEAR_8',\n",
    "                       'WEEK_OF_YEAR_9',\n",
    "                       'Julio',\n",
    "                       'Nov_2017',\n",
    "                       'Dic_2017',\n",
    "                       't',\n",
    "                       'Feriado_laboral',\n",
    "                       'Feriado_no_laboral',\n",
    "                       'Elecciones',\n",
    "                       'Censo',\n",
    "                       'Partido',\n",
    "                       'FDS_Largo',\n",
    "                       'Disturbios',\n",
    "                       'Corte_Metro',\n",
    "                       'Retraso_Metro',\n",
    "                       'Incidente_Metro',\n",
    "                       'Bucle',\n",
    "                       'Clima',\n",
    "                       'visperas_laborales',\n",
    "                       'kms_metro',\n",
    "                       'N_ZPs',\n",
    "                       'log(r_tm + 1)']]\n",
    "\n",
    "results_m4_1 = estimateWithStatsModels(Y,X,g_1,'m4_1')\n",
    "print(results_m4_1.summary())"
   ]
  },
  {
   "cell_type": "markdown",
   "metadata": {},
   "source": [
    "### M4_2"
   ]
  },
  {
   "cell_type": "code",
   "execution_count": null,
   "metadata": {},
   "outputs": [],
   "source": [
    "Y = complete_db.loc[:,'TOTAL_trx']\n",
    "X = complete_db.loc[:,['SATURDAY',\n",
    "                       'SUNDAY',\n",
    "                       'Metro Hora Punta',\n",
    "                       'kms_ofertados',\n",
    "                       'WEEK_OF_YEAR_52',\n",
    "                       'WEEK_OF_YEAR_53',\n",
    "                       'WEEK_OF_YEAR_1',\n",
    "                       'WEEK_OF_YEAR_2',\n",
    "                       'WEEK_OF_YEAR_3',\n",
    "                       'WEEK_OF_YEAR_4',\n",
    "                       'WEEK_OF_YEAR_5',\n",
    "                       'WEEK_OF_YEAR_6',\n",
    "                       'WEEK_OF_YEAR_7',\n",
    "                       'WEEK_OF_YEAR_8',\n",
    "                       'WEEK_OF_YEAR_9',\n",
    "                       'Julio',\n",
    "                       'Nov_2017',\n",
    "                       'Dic_2017',\n",
    "                       't',\n",
    "                       'Feriado_laboral',\n",
    "                       'Feriado_no_laboral',\n",
    "                       'Censo',\n",
    "                       'Partido',\n",
    "                       'FDS_Largo',\n",
    "                       'Disturbios',\n",
    "                       'Corte_Metro',\n",
    "                       'Retraso_Metro',\n",
    "                       'Incidente_Metro',\n",
    "                       'Bucle',\n",
    "                       'Clima',\n",
    "                       'visperas_laborales',\n",
    "                       'kms_metro',\n",
    "                       'N_ZPs',\n",
    "                       'log(r_tm + 1)']]\n",
    "\n",
    "results_m4_2 = estimateWithStatsModels(Y,X,g_1,'m4_2')\n",
    "print(results_m4_2.summary())"
   ]
  },
  {
   "cell_type": "markdown",
   "metadata": {},
   "source": [
    "### M4_3"
   ]
  },
  {
   "cell_type": "code",
   "execution_count": null,
   "metadata": {},
   "outputs": [],
   "source": [
    "Y = complete_db.loc[:,'TOTAL_trx']\n",
    "X = complete_db.loc[:,['SATURDAY',\n",
    "                       'SUNDAY',\n",
    "                       'Metro Hora Punta',\n",
    "                       'kms_ofertados',\n",
    "                       'WEEK_OF_YEAR_52',\n",
    "                       'WEEK_OF_YEAR_53',\n",
    "                       'WEEK_OF_YEAR_1',\n",
    "                       'WEEK_OF_YEAR_2',\n",
    "                       'WEEK_OF_YEAR_3',\n",
    "                       'WEEK_OF_YEAR_4',\n",
    "                       'WEEK_OF_YEAR_5',\n",
    "                       'WEEK_OF_YEAR_6',\n",
    "                       'WEEK_OF_YEAR_7',\n",
    "                       'WEEK_OF_YEAR_8',\n",
    "                       'WEEK_OF_YEAR_9',\n",
    "                       'Julio',\n",
    "                       'Dic_2017',\n",
    "                       't',\n",
    "                       'Feriado_laboral',\n",
    "                       'Feriado_no_laboral',\n",
    "                       'Censo',\n",
    "                       'Partido',\n",
    "                       'FDS_Largo',\n",
    "                       'Disturbios',\n",
    "                       'Corte_Metro',\n",
    "                       'Retraso_Metro',\n",
    "                       'Incidente_Metro',\n",
    "                       'Bucle',\n",
    "                       'Clima',\n",
    "                       'visperas_laborales',\n",
    "                       'kms_metro',\n",
    "                       'N_ZPs',\n",
    "                       'log(r_tm + 1)']]\n",
    "\n",
    "results_m4_3 = estimateWithStatsModels(Y,X,g_1,'m4_3')\n",
    "print(results_m4_3.summary())"
   ]
  },
  {
   "cell_type": "markdown",
   "metadata": {},
   "source": [
    "### M4_4"
   ]
  },
  {
   "cell_type": "code",
   "execution_count": null,
   "metadata": {},
   "outputs": [],
   "source": [
    "Y = complete_db.loc[:,'TOTAL_trx']\n",
    "X = complete_db.loc[:,['SATURDAY',\n",
    "                       'SUNDAY',\n",
    "                       'Metro Hora Punta',\n",
    "                       'kms_ofertados',\n",
    "                       'WEEK_OF_YEAR_52',\n",
    "                       'WEEK_OF_YEAR_53',\n",
    "                       'WEEK_OF_YEAR_1',\n",
    "                       'WEEK_OF_YEAR_2',\n",
    "                       'WEEK_OF_YEAR_3',\n",
    "                       'WEEK_OF_YEAR_4',\n",
    "                       'WEEK_OF_YEAR_5',\n",
    "                       'WEEK_OF_YEAR_6',\n",
    "                       'WEEK_OF_YEAR_7',\n",
    "                       'WEEK_OF_YEAR_8',\n",
    "                       'WEEK_OF_YEAR_9',\n",
    "                       'Julio',\n",
    "                       't',\n",
    "                       'Feriado_laboral',\n",
    "                       'Feriado_no_laboral',\n",
    "                       'Censo',\n",
    "                       'Partido',\n",
    "                       'FDS_Largo',\n",
    "                       'Disturbios',\n",
    "                       'Corte_Metro',\n",
    "                       'Retraso_Metro',\n",
    "                       'Incidente_Metro',\n",
    "                       'Bucle',\n",
    "                       'Clima',\n",
    "                       'visperas_laborales',\n",
    "                       'kms_metro',\n",
    "                       'N_ZPs',\n",
    "                       'log(r_tm + 1)']]\n",
    "\n",
    "results_m4_4 = estimateWithStatsModels(Y,X,g_1,'m4_4')\n",
    "print(results_m4_4.summary())"
   ]
  },
  {
   "cell_type": "markdown",
   "metadata": {},
   "source": [
    "### M4_5"
   ]
  },
  {
   "cell_type": "code",
   "execution_count": null,
   "metadata": {},
   "outputs": [],
   "source": [
    "Y = complete_db.loc[:,'TOTAL_trx']\n",
    "X = complete_db.loc[:,['SATURDAY',\n",
    "                       'SUNDAY',\n",
    "                       'Metro Hora Punta',\n",
    "                       'kms_ofertados',\n",
    "                       'WEEK_OF_YEAR_52',\n",
    "                       'WEEK_OF_YEAR_53',\n",
    "                       'WEEK_OF_YEAR_1',\n",
    "                       'WEEK_OF_YEAR_2',\n",
    "                       'WEEK_OF_YEAR_3',\n",
    "                       'WEEK_OF_YEAR_4',\n",
    "                       'WEEK_OF_YEAR_5',\n",
    "                       'WEEK_OF_YEAR_6',\n",
    "                       'WEEK_OF_YEAR_7',\n",
    "                       'WEEK_OF_YEAR_8',\n",
    "                       'WEEK_OF_YEAR_9',\n",
    "                       'Julio',\n",
    "                       't',\n",
    "                       'Feriado_laboral',\n",
    "                       'Feriado_no_laboral',\n",
    "                       'Censo',\n",
    "                       'Partido',\n",
    "                       'FDS_Largo',\n",
    "                       'Disturbios',\n",
    "                       'Corte_Metro',\n",
    "                       'Retraso_Metro',\n",
    "                       'Bucle',\n",
    "                       'Clima',\n",
    "                       'visperas_laborales',\n",
    "                       'kms_metro',\n",
    "                       'N_ZPs',\n",
    "                       'log(r_tm + 1)']]\n",
    "\n",
    "results_m4_5 = estimateWithStatsModels(Y,X,g_1,'m4_5')\n",
    "print(results_m4_5.summary())"
   ]
  },
  {
   "cell_type": "markdown",
   "metadata": {},
   "source": [
    "### M4_6"
   ]
  },
  {
   "cell_type": "code",
   "execution_count": null,
   "metadata": {},
   "outputs": [],
   "source": [
    "Y = complete_db.loc[:,'TOTAL_trx']\n",
    "X = complete_db.loc[:,['SATURDAY',\n",
    "                       'SUNDAY',\n",
    "                       'Metro Hora Punta',\n",
    "                       'kms_ofertados',\n",
    "                       'WEEK_OF_YEAR_52',\n",
    "                       'WEEK_OF_YEAR_53',\n",
    "                       'WEEK_OF_YEAR_1',\n",
    "                       'WEEK_OF_YEAR_2',\n",
    "                       'WEEK_OF_YEAR_3',\n",
    "                       'WEEK_OF_YEAR_4',\n",
    "                       'WEEK_OF_YEAR_5',\n",
    "                       'WEEK_OF_YEAR_6',\n",
    "                       'WEEK_OF_YEAR_7',\n",
    "                       'WEEK_OF_YEAR_8',\n",
    "                       'WEEK_OF_YEAR_9',\n",
    "                       'Julio',\n",
    "                       't',\n",
    "                       'Feriado_laboral',\n",
    "                       'Feriado_no_laboral',\n",
    "                       'Censo',\n",
    "                       'Partido',\n",
    "                       'FDS_Largo',\n",
    "                       'Disturbios',\n",
    "                       'Corte_Metro',\n",
    "                       'Bucle',\n",
    "                       'Clima',\n",
    "                       'visperas_laborales',\n",
    "                       'kms_metro',\n",
    "                       'N_ZPs',\n",
    "                       'log(r_tm + 1)']]\n",
    "\n",
    "results_m4_6 = estimateWithStatsModels(Y,X,g_1,'m4_6')\n",
    "print(results_m4_6.summary())"
   ]
  },
  {
   "cell_type": "markdown",
   "metadata": {},
   "source": [
    "----------------"
   ]
  },
  {
   "cell_type": "markdown",
   "metadata": {},
   "source": [
    "### M5_1 based on M1_9"
   ]
  },
  {
   "cell_type": "code",
   "execution_count": null,
   "metadata": {},
   "outputs": [],
   "source": [
    "Y = complete_db.loc[:,'TOTAL_trx']\n",
    "X = complete_db.loc[:,['SATURDAY',\n",
    "                       'SUNDAY',\n",
    "                       'kms_ofertados',\n",
    "                       'WEEK_OF_YEAR_52',\n",
    "                       'WEEK_OF_YEAR_53',\n",
    "                       'WEEK_OF_YEAR_1',\n",
    "                       'WEEK_OF_YEAR_2',\n",
    "                       'WEEK_OF_YEAR_3',\n",
    "                       'WEEK_OF_YEAR_4',\n",
    "                       'WEEK_OF_YEAR_5',\n",
    "                       'WEEK_OF_YEAR_6',\n",
    "                       'WEEK_OF_YEAR_7',\n",
    "                       'WEEK_OF_YEAR_8',\n",
    "                       'WEEK_OF_YEAR_9',\n",
    "                       'Julio',\n",
    "                       't',\n",
    "                       'Feriado_laboral',\n",
    "                       'Feriado_no_laboral',\n",
    "                       'Censo',\n",
    "                       'Partido',\n",
    "                       'FDS_Largo',\n",
    "                       'Disturbios',\n",
    "                       'Clima',\n",
    "                       'visperas_laborales',\n",
    "                       'kms_metro',\n",
    "                       'N_ZPs',\n",
    "                       'pn_SUM_EXP_no_t',\n",
    "                       'pn_SUM_EXP_3t',\n",
    "                       'pn_SUM_EXP_tm']]\n",
    "\n",
    "results_m5_1 = estimateWithStatsModels(Y,X,g_1,'m5_1')\n",
    "print(results_m5_1.summary())"
   ]
  },
  {
   "cell_type": "markdown",
   "metadata": {},
   "source": [
    "### M5_2 based on M1_10"
   ]
  },
  {
   "cell_type": "code",
   "execution_count": null,
   "metadata": {},
   "outputs": [],
   "source": [
    "Y = complete_db.loc[:,'TOTAL_trx']\n",
    "X = complete_db.loc[:,['SATURDAY',\n",
    "                       'SUNDAY',\n",
    "                       'kms_ofertados',\n",
    "                       'WEEK_OF_YEAR_52',\n",
    "                       'WEEK_OF_YEAR_53',\n",
    "                       'WEEK_OF_YEAR_1',\n",
    "                       'WEEK_OF_YEAR_2',\n",
    "                       'WEEK_OF_YEAR_3',\n",
    "                       'WEEK_OF_YEAR_4',\n",
    "                       'WEEK_OF_YEAR_5',\n",
    "                       'WEEK_OF_YEAR_6',\n",
    "                       'WEEK_OF_YEAR_7',\n",
    "                       'WEEK_OF_YEAR_8',\n",
    "                       'WEEK_OF_YEAR_9',\n",
    "                       'Julio',\n",
    "                       't',\n",
    "                       'Feriado_laboral',\n",
    "                       'Feriado_no_laboral',\n",
    "                       'Censo',\n",
    "                       'Partido',\n",
    "                       'FDS_Largo',\n",
    "                       'Disturbios',\n",
    "                       'Clima',\n",
    "                       'visperas_laborales',\n",
    "                       'N_ZPs',\n",
    "                       'pn_SUM_EXP_no_t',\n",
    "                       'pn_SUM_EXP_3t',\n",
    "                       'pn_SUM_EXP_tm']]\n",
    "\n",
    "results_m5_2 = estimateWithStatsModels(Y,X,g_1,'m5_2')\n",
    "print(results_m5_2.summary())"
   ]
  },
  {
   "cell_type": "markdown",
   "metadata": {},
   "source": [
    "### M5_3"
   ]
  },
  {
   "cell_type": "code",
   "execution_count": null,
   "metadata": {},
   "outputs": [],
   "source": [
    "Y = complete_db.loc[:,'TOTAL_trx']\n",
    "X = complete_db.loc[:,['SATURDAY',\n",
    "                       'SUNDAY',\n",
    "                       'WEEK_OF_YEAR_52',\n",
    "                       'WEEK_OF_YEAR_53',\n",
    "                       'WEEK_OF_YEAR_1',\n",
    "                       'WEEK_OF_YEAR_2',\n",
    "                       'WEEK_OF_YEAR_3',\n",
    "                       'WEEK_OF_YEAR_4',\n",
    "                       'WEEK_OF_YEAR_5',\n",
    "                       'WEEK_OF_YEAR_6',\n",
    "                       'WEEK_OF_YEAR_7',\n",
    "                       'WEEK_OF_YEAR_8',\n",
    "                       'WEEK_OF_YEAR_9',\n",
    "                       'Julio',\n",
    "                       't',\n",
    "                       'Feriado_laboral',\n",
    "                       'Feriado_no_laboral',\n",
    "                       'Censo',\n",
    "                       'Partido',\n",
    "                       'FDS_Largo',\n",
    "                       'Disturbios',\n",
    "                       'Clima',\n",
    "                       'visperas_laborales',\n",
    "                       'N_ZPs',\n",
    "                       'pn_SUM_EXP_no_t',\n",
    "                       'pn_SUM_EXP_3t',\n",
    "                       'pn_SUM_EXP_tm']]\n",
    "\n",
    "results_m5_3 = estimateWithStatsModels(Y,X,g_1,'m5_3')\n",
    "print(results_m5_3.summary())"
   ]
  },
  {
   "cell_type": "markdown",
   "metadata": {},
   "source": [
    "### M5_4"
   ]
  },
  {
   "cell_type": "code",
   "execution_count": null,
   "metadata": {},
   "outputs": [],
   "source": [
    "Y = complete_db.loc[:,'TOTAL_trx']\n",
    "X = complete_db.loc[:,['SATURDAY',\n",
    "                       'SUNDAY',\n",
    "                       'WEEK_OF_YEAR_52',\n",
    "                       'WEEK_OF_YEAR_53',\n",
    "                       'WEEK_OF_YEAR_1',\n",
    "                       'WEEK_OF_YEAR_3',\n",
    "                       'WEEK_OF_YEAR_4',\n",
    "                       'WEEK_OF_YEAR_5',\n",
    "                       'WEEK_OF_YEAR_6',\n",
    "                       'WEEK_OF_YEAR_7',\n",
    "                       'WEEK_OF_YEAR_8',\n",
    "                       'WEEK_OF_YEAR_9',\n",
    "                       'Julio',\n",
    "                       't',\n",
    "                       'Feriado_laboral',\n",
    "                       'Feriado_no_laboral',\n",
    "                       'Censo',\n",
    "                       'Partido',\n",
    "                       'FDS_Largo',\n",
    "                       'Disturbios',\n",
    "                       'Clima',\n",
    "                       'visperas_laborales',\n",
    "                       'N_ZPs',\n",
    "                       'pn_SUM_EXP_no_t',\n",
    "                       'pn_SUM_EXP_3t',\n",
    "                       'pn_SUM_EXP_tm']]\n",
    "\n",
    "results_m5_4 = estimateWithStatsModels(Y,X,g_1,'m5_4')\n",
    "print(results_m5_4.summary())"
   ]
  },
  {
   "cell_type": "markdown",
   "metadata": {},
   "source": [
    "### M5_5"
   ]
  },
  {
   "cell_type": "code",
   "execution_count": null,
   "metadata": {},
   "outputs": [],
   "source": [
    "Y = complete_db.loc[:,'TOTAL_trx']\n",
    "X = complete_db.loc[:,['SATURDAY',\n",
    "                       'SUNDAY',\n",
    "                       'WEEK_OF_YEAR_52',\n",
    "                       'WEEK_OF_YEAR_53',\n",
    "                       'WEEK_OF_YEAR_1',\n",
    "                       'WEEK_OF_YEAR_4',\n",
    "                       'WEEK_OF_YEAR_5',\n",
    "                       'WEEK_OF_YEAR_6',\n",
    "                       'WEEK_OF_YEAR_7',\n",
    "                       'WEEK_OF_YEAR_8',\n",
    "                       'WEEK_OF_YEAR_9',\n",
    "                       'Julio',\n",
    "                       't',\n",
    "                       'Feriado_laboral',\n",
    "                       'Feriado_no_laboral',\n",
    "                       'Censo',\n",
    "                       'Partido',\n",
    "                       'FDS_Largo',\n",
    "                       'Disturbios',\n",
    "                       'Clima',\n",
    "                       'visperas_laborales',\n",
    "                       'N_ZPs',\n",
    "                       'pn_SUM_EXP_no_t',\n",
    "                       'pn_SUM_EXP_3t',\n",
    "                       'pn_SUM_EXP_tm']]\n",
    "\n",
    "results_m5_5 = estimateWithStatsModels(Y,X,g_1,'m5_5')\n",
    "print(results_m5_5.summary())"
   ]
  },
  {
   "cell_type": "markdown",
   "metadata": {},
   "source": [
    "### M5_6"
   ]
  },
  {
   "cell_type": "code",
   "execution_count": null,
   "metadata": {},
   "outputs": [],
   "source": [
    "Y = complete_db.loc[:,'TOTAL_trx']\n",
    "X = complete_db.loc[:,['SATURDAY',\n",
    "                       'SUNDAY',\n",
    "                       'WEEK_OF_YEAR_52',\n",
    "                       'WEEK_OF_YEAR_53',\n",
    "                       'WEEK_OF_YEAR_1',\n",
    "                       'WEEK_OF_YEAR_4',\n",
    "                       'WEEK_OF_YEAR_5',\n",
    "                       'WEEK_OF_YEAR_6',\n",
    "                       'WEEK_OF_YEAR_7',\n",
    "                       'WEEK_OF_YEAR_8',\n",
    "                       'WEEK_OF_YEAR_9',\n",
    "                       'Julio',\n",
    "                       't',\n",
    "                       'Feriado_laboral',\n",
    "                       'Censo',\n",
    "                       'Partido',\n",
    "                       'FDS_Largo',\n",
    "                       'Disturbios',\n",
    "                       'Clima',\n",
    "                       'visperas_laborales',\n",
    "                       'N_ZPs',\n",
    "                       'pn_SUM_EXP_no_t',\n",
    "                       'pn_SUM_EXP_3t',\n",
    "                       'pn_SUM_EXP_tm']]\n",
    "\n",
    "results_m5_6 = estimateWithStatsModels(Y,X,g_1,'m5_6')\n",
    "print(results_m5_6.summary())"
   ]
  },
  {
   "cell_type": "markdown",
   "metadata": {},
   "source": [
    "### M5_7"
   ]
  },
  {
   "cell_type": "code",
   "execution_count": null,
   "metadata": {},
   "outputs": [],
   "source": [
    "Y = complete_db.loc[:,'TOTAL_trx']\n",
    "X = complete_db.loc[:,['SATURDAY',\n",
    "                       'SUNDAY',\n",
    "                       'WEEK_OF_YEAR_52',\n",
    "                       'WEEK_OF_YEAR_53',\n",
    "                       'WEEK_OF_YEAR_1',\n",
    "                       'WEEK_OF_YEAR_4',\n",
    "                       'WEEK_OF_YEAR_5',\n",
    "                       'WEEK_OF_YEAR_6',\n",
    "                       'WEEK_OF_YEAR_7',\n",
    "                       'WEEK_OF_YEAR_8',\n",
    "                       'WEEK_OF_YEAR_9',\n",
    "                       'Julio',\n",
    "                       't',\n",
    "                       'Feriado_laboral',\n",
    "                       'Censo',\n",
    "                       'Partido',\n",
    "                       'FDS_Largo',\n",
    "                       'Disturbios',\n",
    "                       'Clima',\n",
    "                       'N_ZPs',\n",
    "                       'pn_SUM_EXP_no_t',\n",
    "                       'pn_SUM_EXP_3t',\n",
    "                       'pn_SUM_EXP_tm']]\n",
    "\n",
    "results_m5_7 = estimateWithStatsModels(Y,X,g_1,'m5_7')\n",
    "print(results_m5_7.summary())"
   ]
  },
  {
   "cell_type": "markdown",
   "metadata": {},
   "source": [
    "### M5_8"
   ]
  },
  {
   "cell_type": "code",
   "execution_count": null,
   "metadata": {},
   "outputs": [],
   "source": [
    "Y = complete_db.loc[:,'TOTAL_trx']\n",
    "X = complete_db.loc[:,['SATURDAY',\n",
    "                       'SUNDAY',\n",
    "                       'WEEK_OF_YEAR_52',\n",
    "                       'WEEK_OF_YEAR_53',\n",
    "                       'WEEK_OF_YEAR_4',\n",
    "                       'WEEK_OF_YEAR_5',\n",
    "                       'WEEK_OF_YEAR_6',\n",
    "                       'WEEK_OF_YEAR_7',\n",
    "                       'WEEK_OF_YEAR_8',\n",
    "                       'WEEK_OF_YEAR_9',\n",
    "                       'Julio',\n",
    "                       't',\n",
    "                       'Feriado_laboral',\n",
    "                       'Censo',\n",
    "                       'Partido',\n",
    "                       'FDS_Largo',\n",
    "                       'Disturbios',\n",
    "                       'Clima',\n",
    "                       'N_ZPs',\n",
    "                       'pn_SUM_EXP_no_t',\n",
    "                       'pn_SUM_EXP_3t',\n",
    "                       'pn_SUM_EXP_tm']]\n",
    "\n",
    "results_m5_8 = estimateWithStatsModels(Y,X,g_1,'m5_8')\n",
    "print(results_m5_8.summary())"
   ]
  },
  {
   "cell_type": "markdown",
   "metadata": {},
   "source": [
    "### <font color='green'>M5_9</font>"
   ]
  },
  {
   "cell_type": "code",
   "execution_count": null,
   "metadata": {},
   "outputs": [],
   "source": [
    "Y = complete_db.loc[:,'TOTAL_trx']\n",
    "X = complete_db.loc[:,['SATURDAY',\n",
    "                       'SUNDAY',\n",
    "                       'WEEK_OF_YEAR_52',\n",
    "                       'WEEK_OF_YEAR_53',\n",
    "                       'WEEK_OF_YEAR_4',\n",
    "                       'WEEK_OF_YEAR_5',\n",
    "                       'WEEK_OF_YEAR_6',\n",
    "                       'WEEK_OF_YEAR_7',\n",
    "                       'WEEK_OF_YEAR_8',\n",
    "                       'WEEK_OF_YEAR_9',\n",
    "                       'Julio',\n",
    "                       't',\n",
    "                       'Feriado_laboral',\n",
    "                       'Censo',\n",
    "                       'FDS_Largo',\n",
    "                       'Disturbios',\n",
    "                       'Clima',\n",
    "                       'N_ZPs',\n",
    "                       'pn_SUM_EXP_no_t',\n",
    "                       'pn_SUM_EXP_3t',\n",
    "                       'pn_SUM_EXP_tm']]\n",
    "\n",
    "results_m5_9 = estimateWithStatsModels(Y,X,g_1,'m5_9')\n",
    "print(results_m5_9.summary())"
   ]
  },
  {
   "cell_type": "markdown",
   "metadata": {},
   "source": [
    "### M5_10"
   ]
  },
  {
   "cell_type": "code",
   "execution_count": null,
   "metadata": {},
   "outputs": [],
   "source": [
    "Y = complete_db.loc[:,'TOTAL_trx']\n",
    "X = complete_db.loc[:,['t',\n",
    "                       'Clima',\n",
    "                       'N_ZPs',\n",
    "                       'pn_SUM_EXP_no_t',\n",
    "                       'pn_SUM_EXP_3t',\n",
    "                       'pn_SUM_EXP_tm']]\n",
    "\n",
    "results_m5_10 = estimateWithStatsModels(Y,X,g_1,'m5_10')\n",
    "print(results_m5_10.summary())"
   ]
  },
  {
   "cell_type": "markdown",
   "metadata": {},
   "source": [
    "### M5_11"
   ]
  },
  {
   "cell_type": "code",
   "execution_count": null,
   "metadata": {},
   "outputs": [],
   "source": [
    "Y = complete_db.loc[:,'TOTAL_trx']\n",
    "X = complete_db.loc[:,['Clima',\n",
    "                       'N_ZPs',\n",
    "                       'pn_SUM_EXP_no_t',\n",
    "                       'pn_SUM_EXP_3t',\n",
    "                       'pn_SUM_EXP_tm']]\n",
    "\n",
    "results_m5_11 = estimateWithStatsModels(Y,X,g_1,'m5_11')\n",
    "print(results_m5_11.summary())"
   ]
  },
  {
   "cell_type": "markdown",
   "metadata": {},
   "source": [
    "* Summarizing every model tested"
   ]
  },
  {
   "cell_type": "code",
   "execution_count": null,
   "metadata": {},
   "outputs": [],
   "source": [
    "final_summary = summary_col([],stars=True, info_dict=info_dict) #BE AWARE: THE FIRST ARGUMENT LIST SHOULD BE FILLED."
   ]
  },
  {
   "cell_type": "markdown",
   "metadata": {},
   "source": [
    "* Plotting"
   ]
  },
  {
   "cell_type": "markdown",
   "metadata": {},
   "source": [
    "Interactive, Daily"
   ]
  },
  {
   "cell_type": "code",
   "execution_count": null,
   "metadata": {},
   "outputs": [],
   "source": [
    "def interactiveDailyPlotting(days_values, yact, ypred, model_name):\n",
    "    trace1 = go.Scatter(x=days_values, y=yact, name='Actual', marker=dict(color='rgb(76, 181, 245)'),opacity=1)\n",
    "    trace2 = go.Scatter(x=days_values, y=ypred, name='Predict', marker=dict(color='rgb(183, 184, 182)'),opacity=1)\n",
    "    data = [trace1, trace2]\n",
    "    layout = go.Layout(title='Transacciones por día (actual vs. predict.), ' + model_name,  yaxis=dict(title='Transacciones'))\n",
    "\n",
    "    fig = go.Figure(data=data, layout=layout)\n",
    "    plotly.offline.plot(fig, filename='act_vs_predict_day_' + model_name + '.html')"
   ]
  },
  {
   "cell_type": "code",
   "execution_count": null,
   "metadata": {},
   "outputs": [],
   "source": [
    "days_values = complete_db.loc[:,'DATE']\n",
    "yact = complete_db.loc[:,'TOTAL_trx']"
   ]
  },
  {
   "cell_type": "code",
   "execution_count": null,
   "metadata": {},
   "outputs": [],
   "source": [
    "#interactiveDailyPlotting(days_values, yact, ypred_m1, 'M1')\n",
    "#interactiveDailyPlotting(days_values, yact, ypred_m2, 'M2')\n",
    "#interactiveDailyPlotting(days_values, yact, ypred_m3, 'M3')\n",
    "#interactiveDailyPlotting(days_values, yact, ypred_m4, 'M4')\n",
    "#interactiveDailyPlotting(days_values, yact, ypred_m5, 'M5')\n",
    "#interactiveDailyPlotting(days_values, yact, ypred_m6, 'M6')\n",
    "#interactiveDailyPlotting(days_values, yact, ypred_m7, 'M7')\n",
    "#interactiveDailyPlotting(days_values, yact, ypred_m8, 'M8')\n",
    "#interactiveDailyPlotting(days_values, yact, ypred_m9, 'M9')\n",
    "interactiveDailyPlotting(days_values, yact, ypred_m10, 'M10')"
   ]
  },
  {
   "cell_type": "markdown",
   "metadata": {},
   "source": [
    "Interactive, Monthly"
   ]
  },
  {
   "cell_type": "code",
   "execution_count": null,
   "metadata": {},
   "outputs": [],
   "source": [
    "def interactiveMonthlyPlotting(month_values, yact, ypred, model_name):\n",
    "    trace1 = go.Scatter(x=month_values, y=yact, name='Actual', marker=dict(color='rgb(76, 181, 245)'),opacity=1)\n",
    "    trace2 = go.Scatter(x=month_values, y=ypred, name='Predict', marker=dict(color='rgb(183, 184, 182)'),opacity=1)\n",
    "    data = [trace1, trace2]\n",
    "    layout = go.Layout(title='Transacciones por mes (actual vs. predict.), ' + model_name,  yaxis=dict(title='Transacciones'))\n",
    "\n",
    "    fig = go.Figure(data=data, layout=layout)\n",
    "    plotly.offline.plot(fig, filename='act_vs_predict_month_' + model_name + '.html')"
   ]
  },
  {
   "cell_type": "code",
   "execution_count": null,
   "metadata": {},
   "outputs": [],
   "source": [
    "grouped_by_month = complete_db.groupby(pd.Grouper(key='DATE', freq='M'))\n",
    "months_values = list(grouped_by_month.groups.keys())\n",
    "yact = grouped_by_month['TOTAL_trx'].sum()\n",
    "ypred_m1 = grouped_by_month['ypred_m1'].sum()\n",
    "ypred_m2 = grouped_by_month['ypred_m2'].sum()\n",
    "ypred_m3 = grouped_by_month['ypred_m3'].sum()\n",
    "ypred_m4 = grouped_by_month['ypred_m4'].sum()\n",
    "ypred_m5 = grouped_by_month['ypred_m5'].sum()\n",
    "ypred_m6 = grouped_by_month['ypred_m6'].sum()\n",
    "ypred_m7 = grouped_by_month['ypred_m7'].sum()\n",
    "ypred_m8 = grouped_by_month['ypred_m8'].sum()\n",
    "ypred_m9 = grouped_by_month['ypred_m9'].sum()\n",
    "ypred_m10 = grouped_by_month['ypred_m10'].sum()"
   ]
  },
  {
   "cell_type": "code",
   "execution_count": null,
   "metadata": {},
   "outputs": [],
   "source": [
    "#interactiveMonthlyPlotting(months_values,yact,ypred_m1, 'M1')\n",
    "#interactiveMonthlyPlotting(months_values,yact,ypred_m2, 'M2')\n",
    "#interactiveMonthlyPlotting(months_values,yact,ypred_m3, 'M3')\n",
    "#interactiveMonthlyPlotting(months_values,yact,ypred_m4, 'M4')\n",
    "#interactiveMonthlyPlotting(months_values,yact,ypred_m5, 'M5')\n",
    "#interactiveMonthlyPlotting(months_values,yact,ypred_m6, 'M6')\n",
    "#interactiveMonthlyPlotting(months_values,yact,ypred_m7, 'M7')\n",
    "#interactiveMonthlyPlotting(months_values,yact,ypred_m8, 'M8')\n",
    "#interactiveMonthlyPlotting(months_values,yact,ypred_m9, 'M9')\n",
    "interactiveMonthlyPlotting(months_values,yact,ypred_m10, 'M10')"
   ]
  },
  {
   "cell_type": "markdown",
   "metadata": {},
   "source": [
    "Static, Monthly"
   ]
  },
  {
   "cell_type": "code",
   "execution_count": null,
   "metadata": {},
   "outputs": [],
   "source": [
    "colors = [(76, 181, 245),(183, 184, 182),(52, 103, 92),(179, 193, 0)]\n",
    "for i in range(len(colors)):\n",
    "    r, g, b = colors[i]  \n",
    "    colors[i] = (r / 255., g / 255., b / 255.)"
   ]
  },
  {
   "cell_type": "code",
   "execution_count": null,
   "metadata": {},
   "outputs": [],
   "source": [
    "def millions(x, pos):\n",
    "    'The two args are the value and tick position'\n",
    "    return '%1.1fM' % (x*1e-6)"
   ]
  },
  {
   "cell_type": "code",
   "execution_count": null,
   "metadata": {},
   "outputs": [],
   "source": [
    "def staticMonthlyPlotting(month_values, yact, ypred, model_name):\n",
    "    formatter = FuncFormatter(millions)\n",
    "    fig, ax = plt.subplots()\n",
    "    ax.plot(months_values, yact,'ro-' ,color = colors[0], label = 'Actual')\n",
    "    ax.plot(months_values, ypred,'d-', color = colors[1], label = 'Predict')\n",
    "    formatter = FuncFormatter(millions)\n",
    "    ax.yaxis.set_major_formatter(formatter)\n",
    "    ax.set_title('Transacciones - Actual vs. Predict., ' + model_name)\n",
    "    ax.set_ylabel('Transacciones')\n",
    "    ax.set_xlabel('Mes del año')\n",
    "    fig.autofmt_xdate()\n",
    "    ax.legend(loc=3)\n",
    "\n",
    "    plt.savefig('C:/Users/leoca_000/Desktop/Evasion/03_report/02_Figs/act_vs_predict_month_' + model_name + '.pdf')"
   ]
  },
  {
   "cell_type": "code",
   "execution_count": null,
   "metadata": {
    "scrolled": false
   },
   "outputs": [],
   "source": [
    "#staticMonthlyPlotting(months_values,yact,ypred_m1, 'M1')\n",
    "#staticMonthlyPlotting(months_values,yact,ypred_m2, 'M2')\n",
    "#staticMonthlyPlotting(months_values,yact,ypred_m3, 'M3')\n",
    "#staticMonthlyPlotting(months_values,yact,ypred_m4, 'M4')\n",
    "#staticMonthlyPlotting(months_values,yact,ypred_m5, 'M5')\n",
    "#staticMonthlyPlotting(months_values,yact,ypred_m6, 'M6')\n",
    "#staticMonthlyPlotting(months_values,yact,ypred_m7, 'M7')\n",
    "#staticMonthlyPlotting(months_values,yact,ypred_m8, 'M8')\n",
    "#staticMonthlyPlotting(months_values,yact,ypred_m9, 'M9')\n",
    "staticMonthlyPlotting(months_values,yact,ypred_m10, 'M10')"
   ]
  },
  {
   "cell_type": "markdown",
   "metadata": {},
   "source": [
    "### Printing everything to file"
   ]
  },
  {
   "cell_type": "code",
   "execution_count": null,
   "metadata": {},
   "outputs": [],
   "source": [
    "complete_ddbb_path = os.path.join(DTPM_TRXDir,'5_RESULTS/1_SYSTEM/0_original/contemporary_complete_db.csv')\n",
    "complete_db.to_csv(complete_ddbb_path,sep=';',encoding='latin-1')\n",
    "\n",
    "OLS_Summary_path = os.path.join(DTPM_TRXDir,'5_RESULTS/1_SYSTEM/0_original/contemporary_OLS_Summary.csv')\n",
    "OLS_Summary.to_csv(OLS_Summary_path, sep=';',encoding='latin-1')"
   ]
  },
  {
   "cell_type": "markdown",
   "metadata": {},
   "source": [
    "## Closed"
   ]
  }
 ],
 "metadata": {
  "kernelspec": {
   "display_name": "Python 3",
   "language": "python",
   "name": "python3"
  },
  "language_info": {
   "codemirror_mode": {
    "name": "ipython",
    "version": 3
   },
   "file_extension": ".py",
   "mimetype": "text/x-python",
   "name": "python",
   "nbconvert_exporter": "python",
   "pygments_lexer": "ipython3",
   "version": "3.5.2+"
  }
 },
 "nbformat": 4,
 "nbformat_minor": 2
}
