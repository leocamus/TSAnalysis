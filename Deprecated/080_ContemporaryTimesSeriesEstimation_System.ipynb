{
 "cells": [
  {
   "cell_type": "markdown",
   "metadata": {},
   "source": [
    "## Time series estimation - Contemporary, daily at system level"
   ]
  },
  {
   "cell_type": "markdown",
   "metadata": {},
   "source": [
    "Notebook to compare results from Python against R. <br>\n",
    "%TODO: Check if R-squared are correctly computed."
   ]
  },
  {
   "cell_type": "code",
   "execution_count": 1,
   "metadata": {},
   "outputs": [],
   "source": [
    "import os\n",
    "import sys\n",
    "module_path = os.path.abspath(os.path.join('..'))\n",
    "if module_path not in sys.path:\n",
    "    sys.path.append(module_path)"
   ]
  },
  {
   "cell_type": "code",
   "execution_count": 2,
   "metadata": {},
   "outputs": [
    {
     "data": {
      "text/html": [
       "<style>.container { width:100% !important; }</style>"
      ],
      "text/plain": [
       "<IPython.core.display.HTML object>"
      ]
     },
     "metadata": {},
     "output_type": "display_data"
    }
   ],
   "source": [
    "from IPython.core.display import display, HTML\n",
    "display(HTML(\"<style>.container { width:100% !important; }</style>\"))\n",
    "\n",
    "import plotly.plotly\n",
    "import plotly.tools as tls\n",
    "import plotly.graph_objs as go\n",
    "\n",
    "import pandas as pd\n",
    "import matplotlib\n",
    "import matplotlib.pyplot as plt\n",
    "import matplotlib.dates as mdates\n",
    "from matplotlib.ticker import FuncFormatter\n",
    "%matplotlib inline\n",
    "import numpy as np\n",
    "import datetime as dt\n",
    "import time"
   ]
  },
  {
   "cell_type": "code",
   "execution_count": 3,
   "metadata": {},
   "outputs": [
    {
     "name": "stderr",
     "output_type": "stream",
     "text": [
      "/usr/local/lib/python3.5/dist-packages/statsmodels/compat/pandas.py:56: FutureWarning:\n",
      "\n",
      "The pandas.core.datetools module is deprecated and will be removed in a future version. Please use the pandas.tseries module instead.\n",
      "\n"
     ]
    }
   ],
   "source": [
    "import statsmodels.api as sm\n",
    "from statsmodels.iolib.summary2 import summary_col\n",
    "info_dict = {'N': lambda x: x.nobs,\n",
    "             'R2_adj': lambda x: x.rsquared_adj,\n",
    "             'AIC': lambda x: x.aic,\n",
    "             'F': lambda x: x.fvalue, \n",
    "             'P_F': lambda x: x.f_pvalue, \n",
    "             'DW': lambda x: sm.stats.stattools.durbin_watson(x.resid)}"
   ]
  },
  {
   "cell_type": "code",
   "execution_count": 4,
   "metadata": {},
   "outputs": [],
   "source": [
    "from Utils import TransantiagoConstants"
   ]
  },
  {
   "cell_type": "code",
   "execution_count": 5,
   "metadata": {},
   "outputs": [],
   "source": [
    "DTPMDir = TransantiagoConstants.DTPMDir\n",
    "DTPM_TRXDir = TransantiagoConstants.DTPM_TRXDir"
   ]
  },
  {
   "cell_type": "code",
   "execution_count": 6,
   "metadata": {},
   "outputs": [],
   "source": [
    "daily_input_path = os.path.join(DTPM_TRXDir,'3_DAILY/daily_summary.csv')\n",
    "daily_trx = pd.read_csv(daily_input_path,sep=';',encoding='latin-1', index_col=0)"
   ]
  },
  {
   "cell_type": "markdown",
   "metadata": {},
   "source": [
    "* Creating new dependent and independent variables"
   ]
  },
  {
   "cell_type": "code",
   "execution_count": 7,
   "metadata": {},
   "outputs": [],
   "source": [
    "daily_trx.loc[:,'TOTAL_trx'] = daily_trx.loc[:,'pn_SUM_TRX_no_t'] + daily_trx.loc[:,'pn_SUM_TRX_3t'] + daily_trx.loc[:,'pn_SUM_TRX_tm'] + daily_trx.loc[:,'zp_SUM_TRX']"
   ]
  },
  {
   "cell_type": "code",
   "execution_count": 8,
   "metadata": {},
   "outputs": [],
   "source": [
    "independent_variables_path = os.path.join(DTPM_TRXDir,'0_INDEPENDENTS/independents_variables.csv')\n",
    "independent_variables = pd.read_csv(independent_variables_path,sep=';',encoding='latin-1', index_col=0, parse_dates=[1])"
   ]
  },
  {
   "cell_type": "code",
   "execution_count": 9,
   "metadata": {},
   "outputs": [],
   "source": [
    "independent_variables.loc[:,'Verano'] =  independent_variables.loc[:,'Enero'] + independent_variables.loc[:,'Febrero']\n",
    "independent_variables.loc[:,'Nov_Dic_2017'] = independent_variables.loc[:,'Nov_2017'] + independent_variables.loc[:,'Dic_2017']\n",
    "independent_variables.loc[:,'WEEK_OF_YEAR'] = independent_variables.loc[:,'DATE'].apply(lambda x: x.week)\n",
    "independent_variables = pd.get_dummies(independent_variables, columns=['WEEK_OF_YEAR'])"
   ]
  },
  {
   "cell_type": "code",
   "execution_count": 10,
   "metadata": {},
   "outputs": [],
   "source": [
    "complete_db = daily_trx.merge(independent_variables, on =['YEAR','MONTH','YEAR_DAY'], how='left')"
   ]
  },
  {
   "cell_type": "code",
   "execution_count": 11,
   "metadata": {},
   "outputs": [],
   "source": [
    "complete_db.sort_values(by=['YEAR','MONTH','YEAR_DAY'], ascending=[True,True,True], inplace=True)"
   ]
  },
  {
   "cell_type": "markdown",
   "metadata": {},
   "source": [
    "* Descriptives: General"
   ]
  },
  {
   "cell_type": "code",
   "execution_count": 12,
   "metadata": {},
   "outputs": [],
   "source": [
    "descriptives = pd.DataFrame()"
   ]
  },
  {
   "cell_type": "code",
   "execution_count": 13,
   "metadata": {},
   "outputs": [],
   "source": [
    "descriptives = complete_db.loc[:,'TOTAL_trx'].describe().to_frame('total_trx')\n",
    "descriptives = pd.concat([descriptives, complete_db.loc[:,'pn_SUM_TRX_no_t'].describe().to_frame()], axis=1, join='inner')\n",
    "descriptives = pd.concat([descriptives, complete_db.loc[:,'pn_SUM_TRX_3t'].describe().to_frame()], axis=1, join='inner')\n",
    "descriptives = pd.concat([descriptives, complete_db.loc[:,'pn_SUM_TRX_tm'].describe().to_frame()], axis=1, join='inner')\n",
    "descriptives = pd.concat([descriptives, complete_db.loc[:,'zp_SUM_TRX'].describe().to_frame()], axis=1, join='inner')"
   ]
  },
  {
   "cell_type": "code",
   "execution_count": 14,
   "metadata": {},
   "outputs": [
    {
     "data": {
      "text/html": [
       "<div>\n",
       "<style scoped>\n",
       "    .dataframe tbody tr th:only-of-type {\n",
       "        vertical-align: middle;\n",
       "    }\n",
       "\n",
       "    .dataframe tbody tr th {\n",
       "        vertical-align: top;\n",
       "    }\n",
       "\n",
       "    .dataframe thead th {\n",
       "        text-align: right;\n",
       "    }\n",
       "</style>\n",
       "<table border=\"1\" class=\"dataframe\">\n",
       "  <thead>\n",
       "    <tr style=\"text-align: right;\">\n",
       "      <th></th>\n",
       "      <th>total_trx</th>\n",
       "      <th>pn_SUM_TRX_no_t</th>\n",
       "      <th>pn_SUM_TRX_3t</th>\n",
       "      <th>pn_SUM_TRX_tm</th>\n",
       "      <th>zp_SUM_TRX</th>\n",
       "    </tr>\n",
       "  </thead>\n",
       "  <tbody>\n",
       "    <tr>\n",
       "      <th>count</th>\n",
       "      <td>1.096000e+03</td>\n",
       "      <td>1.096000e+03</td>\n",
       "      <td>1096.000000</td>\n",
       "      <td>1096.000000</td>\n",
       "      <td>1096.000000</td>\n",
       "    </tr>\n",
       "    <tr>\n",
       "      <th>mean</th>\n",
       "      <td>2.416262e+06</td>\n",
       "      <td>1.675027e+06</td>\n",
       "      <td>342207.135036</td>\n",
       "      <td>138388.566606</td>\n",
       "      <td>260639.020073</td>\n",
       "    </tr>\n",
       "    <tr>\n",
       "      <th>std</th>\n",
       "      <td>8.398716e+05</td>\n",
       "      <td>5.751708e+05</td>\n",
       "      <td>109530.562299</td>\n",
       "      <td>229832.148323</td>\n",
       "      <td>164090.711388</td>\n",
       "    </tr>\n",
       "    <tr>\n",
       "      <th>min</th>\n",
       "      <td>4.875170e+05</td>\n",
       "      <td>3.253820e+05</td>\n",
       "      <td>80576.000000</td>\n",
       "      <td>0.000000</td>\n",
       "      <td>3202.000000</td>\n",
       "    </tr>\n",
       "    <tr>\n",
       "      <th>25%</th>\n",
       "      <td>1.669855e+06</td>\n",
       "      <td>1.250662e+06</td>\n",
       "      <td>263248.500000</td>\n",
       "      <td>4255.500000</td>\n",
       "      <td>41215.250000</td>\n",
       "    </tr>\n",
       "    <tr>\n",
       "      <th>50%</th>\n",
       "      <td>2.873835e+06</td>\n",
       "      <td>1.781616e+06</td>\n",
       "      <td>360663.500000</td>\n",
       "      <td>26267.500000</td>\n",
       "      <td>343826.500000</td>\n",
       "    </tr>\n",
       "    <tr>\n",
       "      <th>75%</th>\n",
       "      <td>3.084350e+06</td>\n",
       "      <td>2.177554e+06</td>\n",
       "      <td>435838.000000</td>\n",
       "      <td>150627.000000</td>\n",
       "      <td>384499.250000</td>\n",
       "    </tr>\n",
       "    <tr>\n",
       "      <th>max</th>\n",
       "      <td>3.364692e+06</td>\n",
       "      <td>2.472601e+06</td>\n",
       "      <td>510018.000000</td>\n",
       "      <td>861918.000000</td>\n",
       "      <td>477827.000000</td>\n",
       "    </tr>\n",
       "  </tbody>\n",
       "</table>\n",
       "</div>"
      ],
      "text/plain": [
       "          total_trx  pn_SUM_TRX_no_t  pn_SUM_TRX_3t  pn_SUM_TRX_tm  \\\n",
       "count  1.096000e+03     1.096000e+03    1096.000000    1096.000000   \n",
       "mean   2.416262e+06     1.675027e+06  342207.135036  138388.566606   \n",
       "std    8.398716e+05     5.751708e+05  109530.562299  229832.148323   \n",
       "min    4.875170e+05     3.253820e+05   80576.000000       0.000000   \n",
       "25%    1.669855e+06     1.250662e+06  263248.500000    4255.500000   \n",
       "50%    2.873835e+06     1.781616e+06  360663.500000   26267.500000   \n",
       "75%    3.084350e+06     2.177554e+06  435838.000000  150627.000000   \n",
       "max    3.364692e+06     2.472601e+06  510018.000000  861918.000000   \n",
       "\n",
       "          zp_SUM_TRX  \n",
       "count    1096.000000  \n",
       "mean   260639.020073  \n",
       "std    164090.711388  \n",
       "min      3202.000000  \n",
       "25%     41215.250000  \n",
       "50%    343826.500000  \n",
       "75%    384499.250000  \n",
       "max    477827.000000  "
      ]
     },
     "execution_count": 14,
     "metadata": {},
     "output_type": "execute_result"
    }
   ],
   "source": [
    "descriptives"
   ]
  },
  {
   "cell_type": "code",
   "execution_count": 15,
   "metadata": {},
   "outputs": [],
   "source": [
    "#pd.set_option('display.float_format', '{:.3e}'.format)"
   ]
  },
  {
   "cell_type": "code",
   "execution_count": 16,
   "metadata": {},
   "outputs": [],
   "source": [
    "#print(descriptives.to_latex())"
   ]
  },
  {
   "cell_type": "markdown",
   "metadata": {},
   "source": [
    "* Choose of max_lags based on number of observations"
   ]
  },
  {
   "cell_type": "code",
   "execution_count": 17,
   "metadata": {},
   "outputs": [],
   "source": [
    "import math"
   ]
  },
  {
   "cell_type": "code",
   "execution_count": 18,
   "metadata": {},
   "outputs": [],
   "source": [
    "g_1 = math.floor(4*math.pow((1096/100),(2/9)))\n",
    "#g_2 = math.floor(math.pow(1096,1/4))"
   ]
  },
  {
   "cell_type": "code",
   "execution_count": 19,
   "metadata": {},
   "outputs": [
    {
     "data": {
      "text/plain": [
       "6"
      ]
     },
     "execution_count": 19,
     "metadata": {},
     "output_type": "execute_result"
    }
   ],
   "source": [
    "g_1"
   ]
  },
  {
   "cell_type": "markdown",
   "metadata": {},
   "source": [
    "* Defining a function to estimate and summarize prediction"
   ]
  },
  {
   "cell_type": "code",
   "execution_count": 20,
   "metadata": {},
   "outputs": [],
   "source": [
    "def estimateWithStatsModels(Y,X,g,name):\n",
    "    X = sm.add_constant(X)\n",
    "    m = sm.OLS(Y, X)\n",
    "    results = m.fit().get_robustcov_results(cov_type='HAC',maxlags=g)\n",
    "   \n",
    "    return results"
   ]
  },
  {
   "cell_type": "markdown",
   "metadata": {},
   "source": [
    "### M1_1"
   ]
  },
  {
   "cell_type": "markdown",
   "metadata": {},
   "source": [
    "* Complete model"
   ]
  },
  {
   "cell_type": "code",
   "execution_count": 21,
   "metadata": {},
   "outputs": [
    {
     "name": "stdout",
     "output_type": "stream",
     "text": [
      "                            OLS Regression Results                            \n",
      "==============================================================================\n",
      "Dep. Variable:              TOTAL_trx   R-squared:                       0.978\n",
      "Model:                            OLS   Adj. R-squared:                  0.977\n",
      "Method:                 Least Squares   F-statistic:                     7105.\n",
      "Date:                Thu, 05 Jul 2018   Prob (F-statistic):               0.00\n",
      "Time:                        15:55:03   Log-Likelihood:                -14410.\n",
      "No. Observations:                1096   AIC:                         2.889e+04\n",
      "Df Residuals:                    1060   BIC:                         2.907e+04\n",
      "Df Model:                          35                                         \n",
      "Covariance Type:                  HAC                                         \n",
      "======================================================================================\n",
      "                         coef    std err          t      P>|t|      [0.025      0.975]\n",
      "--------------------------------------------------------------------------------------\n",
      "const              -2.926e+05   1.03e+06     -0.283      0.777   -2.32e+06    1.74e+06\n",
      "SATURDAY           -3.248e+05    8.7e+04     -3.732      0.000   -4.96e+05   -1.54e+05\n",
      "SUNDAY             -4.482e+05   1.18e+05     -3.787      0.000    -6.8e+05   -2.16e+05\n",
      "Metro Hora Punta    -391.9830   1382.537     -0.284      0.777   -3104.803    2320.837\n",
      "kms_ofertados          2.6299      0.183     14.352      0.000       2.270       2.989\n",
      "WEEK_OF_YEAR_52    -1.487e+05   5.11e+04     -2.911      0.004   -2.49e+05   -4.84e+04\n",
      "WEEK_OF_YEAR_53    -1.558e+05   3.12e+04     -4.990      0.000   -2.17e+05   -9.45e+04\n",
      "WEEK_OF_YEAR_1     -3.674e+04   2.13e+04     -1.725      0.085   -7.85e+04    5051.195\n",
      "WEEK_OF_YEAR_2     -2.579e+04   3.62e+04     -0.713      0.476   -9.68e+04    4.52e+04\n",
      "WEEK_OF_YEAR_3      -4.38e+04   4.39e+04     -0.997      0.319    -1.3e+05    4.24e+04\n",
      "WEEK_OF_YEAR_4     -1.328e+05   3.61e+04     -3.674      0.000   -2.04e+05   -6.19e+04\n",
      "WEEK_OF_YEAR_5     -1.116e+05   4.74e+04     -2.353      0.019   -2.05e+05   -1.85e+04\n",
      "WEEK_OF_YEAR_6     -2.221e+05   4.31e+04     -5.155      0.000   -3.07e+05   -1.38e+05\n",
      "WEEK_OF_YEAR_7     -2.686e+05   4.88e+04     -5.508      0.000   -3.64e+05   -1.73e+05\n",
      "WEEK_OF_YEAR_8     -2.933e+05   3.76e+04     -7.809      0.000   -3.67e+05    -2.2e+05\n",
      "WEEK_OF_YEAR_9     -1.524e+05   4.63e+04     -3.290      0.001   -2.43e+05   -6.15e+04\n",
      "Julio              -1.776e+05   2.69e+04     -6.595      0.000    -2.3e+05   -1.25e+05\n",
      "Nov_2017            4.901e+04   3.21e+04      1.528      0.127   -1.39e+04    1.12e+05\n",
      "Dic_2017            5.419e+04   4.19e+04      1.293      0.196   -2.81e+04    1.36e+05\n",
      "t                   -286.9030     60.611     -4.733      0.000    -405.834    -167.971\n",
      "Feriado_laboral    -5.057e+05   1.29e+05     -3.916      0.000   -7.59e+05   -2.52e+05\n",
      "Feriado_no_laboral -3.412e+04   3.51e+04     -0.972      0.331   -1.03e+05    3.47e+04\n",
      "Elecciones          3.549e+04   7.61e+04      0.466      0.641   -1.14e+05    1.85e+05\n",
      "Censo              -6.725e+05   4.67e+04    -14.416      0.000   -7.64e+05   -5.81e+05\n",
      "Partido             1.509e+05    6.7e+04      2.251      0.025    1.94e+04    2.82e+05\n",
      "FDS_Largo          -1.334e+05   2.29e+04     -5.834      0.000   -1.78e+05   -8.85e+04\n",
      "Disturbios          9.477e+04   4.08e+04      2.323      0.020    1.47e+04    1.75e+05\n",
      "Corte_Metro         1911.4082   1.78e+04      0.107      0.915    -3.3e+04    3.68e+04\n",
      "Retraso_Metro       1.589e+04   1.47e+04      1.079      0.281    -1.3e+04    4.48e+04\n",
      "Incidente_Metro    -6536.1530    2.4e+04     -0.272      0.786   -5.37e+04    4.06e+04\n",
      "Bucle                1.04e+04   2.34e+04      0.444      0.657   -3.56e+04    5.64e+04\n",
      "Clima              -1.957e+05   5.65e+04     -3.461      0.001   -3.07e+05   -8.48e+04\n",
      "visperas_laborales -9.431e+04   8.72e+04     -1.082      0.280   -2.65e+05    7.68e+04\n",
      "kms_metro           -645.9415   1875.385     -0.344      0.731   -4325.831    3033.947\n",
      "N_ZPs               1598.7654    441.691      3.620      0.000     732.078    2465.453\n",
      "ratio_tm            4990.0870   1239.980      4.024      0.000    2556.993    7423.181\n",
      "==============================================================================\n",
      "Omnibus:                       41.912   Durbin-Watson:                   1.272\n",
      "Prob(Omnibus):                  0.000   Jarque-Bera (JB):              114.181\n",
      "Skew:                          -0.067   Prob(JB):                     1.61e-25\n",
      "Kurtosis:                       4.576   Cond. No.                     3.23e+08\n",
      "==============================================================================\n",
      "\n",
      "Warnings:\n",
      "[1] Standard Errors are heteroscedasticity and autocorrelation robust (HAC) using 6 lags and without small sample correction\n",
      "[2] The condition number is large, 3.23e+08. This might indicate that there are\n",
      "strong multicollinearity or other numerical problems.\n"
     ]
    }
   ],
   "source": [
    "Y = complete_db.loc[:,'TOTAL_trx']\n",
    "X = complete_db.loc[:,['SATURDAY',\n",
    "                       'SUNDAY',\n",
    "                       'Metro Hora Punta',\n",
    "                       'kms_ofertados',\n",
    "                       'WEEK_OF_YEAR_52',\n",
    "                       'WEEK_OF_YEAR_53',\n",
    "                       'WEEK_OF_YEAR_1',\n",
    "                       'WEEK_OF_YEAR_2',\n",
    "                       'WEEK_OF_YEAR_3',\n",
    "                       'WEEK_OF_YEAR_4',\n",
    "                       'WEEK_OF_YEAR_5',\n",
    "                       'WEEK_OF_YEAR_6',\n",
    "                       'WEEK_OF_YEAR_7',\n",
    "                       'WEEK_OF_YEAR_8',\n",
    "                       'WEEK_OF_YEAR_9',\n",
    "                       'Julio',\n",
    "                       'Nov_2017',\n",
    "                       'Dic_2017',\n",
    "                       't',\n",
    "                       'Feriado_laboral',\n",
    "                       'Feriado_no_laboral',\n",
    "                       'Elecciones',\n",
    "                       'Censo',\n",
    "                       'Partido',\n",
    "                       'FDS_Largo',\n",
    "                       'Disturbios',\n",
    "                       'Corte_Metro',\n",
    "                       'Retraso_Metro',\n",
    "                       'Incidente_Metro',\n",
    "                       'Bucle',\n",
    "                       'Clima',\n",
    "                       'visperas_laborales',\n",
    "                       'kms_metro',\n",
    "                       'N_ZPs',\n",
    "                       'ratio_tm']]\n",
    "\n",
    "results_m1_1 = estimateWithStatsModels(Y,X,g_1,'m1_1')\n",
    "print(results_m1_1.summary())"
   ]
  },
  {
   "cell_type": "markdown",
   "metadata": {},
   "source": [
    "### M1_2"
   ]
  },
  {
   "cell_type": "code",
   "execution_count": 23,
   "metadata": {},
   "outputs": [],
   "source": [
    "complete_db.loc[:,'log(TOTAL_trx)'] = complete_db['TOTAL_trx'].apply(lambda x: math.log(x))"
   ]
  },
  {
   "cell_type": "code",
   "execution_count": 24,
   "metadata": {
    "scrolled": false
   },
   "outputs": [
    {
     "name": "stdout",
     "output_type": "stream",
     "text": [
      "                            OLS Regression Results                            \n",
      "==============================================================================\n",
      "Dep. Variable:         log(TOTAL_trx)   R-squared:                       0.976\n",
      "Model:                            OLS   Adj. R-squared:                  0.975\n",
      "Method:                 Least Squares   F-statistic:                 2.002e+04\n",
      "Date:                Thu, 05 Jul 2018   Prob (F-statistic):               0.00\n",
      "Time:                        15:55:15   Log-Likelihood:                 1364.0\n",
      "No. Observations:                1096   AIC:                            -2656.\n",
      "Df Residuals:                    1060   BIC:                            -2476.\n",
      "Df Model:                          35                                         \n",
      "Covariance Type:                  HAC                                         \n",
      "======================================================================================\n",
      "                         coef    std err          t      P>|t|      [0.025      0.975]\n",
      "--------------------------------------------------------------------------------------\n",
      "const                 13.9369      0.583     23.924      0.000      12.794      15.080\n",
      "SATURDAY              -0.0677      0.054     -1.255      0.210      -0.174       0.038\n",
      "SUNDAY                -0.2741      0.077     -3.548      0.000      -0.426      -0.123\n",
      "Metro Hora Punta      -0.0010      0.001     -1.335      0.182      -0.003       0.000\n",
      "kms_ofertados       1.531e-06    1.3e-07     11.733      0.000    1.27e-06    1.79e-06\n",
      "WEEK_OF_YEAR_52       -0.1141      0.026     -4.445      0.000      -0.164      -0.064\n",
      "WEEK_OF_YEAR_53       -0.1234      0.025     -4.917      0.000      -0.173      -0.074\n",
      "WEEK_OF_YEAR_1         0.0098      0.014      0.717      0.473      -0.017       0.036\n",
      "WEEK_OF_YEAR_2         0.0319      0.021      1.530      0.126      -0.009       0.073\n",
      "WEEK_OF_YEAR_3         0.0389      0.030      1.281      0.200      -0.021       0.099\n",
      "WEEK_OF_YEAR_4         0.0006      0.022      0.026      0.979      -0.042       0.043\n",
      "WEEK_OF_YEAR_5         0.0280      0.027      1.028      0.304      -0.025       0.081\n",
      "WEEK_OF_YEAR_6        -0.0230      0.024     -0.949      0.343      -0.071       0.025\n",
      "WEEK_OF_YEAR_7        -0.0425      0.025     -1.715      0.087      -0.091       0.006\n",
      "WEEK_OF_YEAR_8        -0.0616      0.020     -3.040      0.002      -0.101      -0.022\n",
      "WEEK_OF_YEAR_9        -0.0124      0.025     -0.498      0.619      -0.061       0.036\n",
      "Julio                 -0.0696      0.012     -5.812      0.000      -0.093      -0.046\n",
      "Nov_2017               0.0747      0.026      2.852      0.004       0.023       0.126\n",
      "Dic_2017               0.0917      0.030      3.082      0.002       0.033       0.150\n",
      "t                  -7.986e-05   3.39e-05     -2.356      0.019      -0.000   -1.33e-05\n",
      "Feriado_laboral       -0.3275      0.083     -3.953      0.000      -0.490      -0.165\n",
      "Feriado_no_laboral    -0.0559      0.032     -1.769      0.077      -0.118       0.006\n",
      "Elecciones             0.0858      0.058      1.479      0.139      -0.028       0.200\n",
      "Censo                 -0.7478      0.041    -18.440      0.000      -0.827      -0.668\n",
      "Partido                0.0961      0.036      2.707      0.007       0.026       0.166\n",
      "FDS_Largo             -0.0618      0.017     -3.677      0.000      -0.095      -0.029\n",
      "Disturbios             0.1008      0.031      3.298      0.001       0.041       0.161\n",
      "Corte_Metro           -0.0052      0.010     -0.497      0.619      -0.026       0.015\n",
      "Retraso_Metro          0.0041      0.007      0.577      0.564      -0.010       0.018\n",
      "Incidente_Metro       -0.0073      0.012     -0.600      0.549      -0.031       0.016\n",
      "Bucle                  0.0156      0.013      1.158      0.247      -0.011       0.042\n",
      "Clima                 -0.1053      0.044     -2.392      0.017      -0.192      -0.019\n",
      "visperas_laborales     0.0453      0.034      1.336      0.182      -0.021       0.112\n",
      "kms_metro             -0.0037      0.002     -2.320      0.021      -0.007      -0.001\n",
      "N_ZPs                  0.0006      0.000      2.583      0.010       0.000       0.001\n",
      "ratio_tm               0.0017      0.001      2.260      0.024       0.000       0.003\n",
      "==============================================================================\n",
      "Omnibus:                      138.559   Durbin-Watson:                   1.259\n",
      "Prob(Omnibus):                  0.000   Jarque-Bera (JB):             1269.904\n",
      "Skew:                          -0.174   Prob(JB):                    1.75e-276\n",
      "Kurtosis:                       8.262   Cond. No.                     3.23e+08\n",
      "==============================================================================\n",
      "\n",
      "Warnings:\n",
      "[1] Standard Errors are heteroscedasticity and autocorrelation robust (HAC) using 6 lags and without small sample correction\n",
      "[2] The condition number is large, 3.23e+08. This might indicate that there are\n",
      "strong multicollinearity or other numerical problems.\n"
     ]
    }
   ],
   "source": [
    "Y = complete_db.loc[:,'log(TOTAL_trx)']\n",
    "X = complete_db.loc[:,['SATURDAY',\n",
    "                       'SUNDAY',\n",
    "                       'Metro Hora Punta',\n",
    "                       'kms_ofertados',\n",
    "                       'WEEK_OF_YEAR_52',\n",
    "                       'WEEK_OF_YEAR_53',\n",
    "                       'WEEK_OF_YEAR_1',\n",
    "                       'WEEK_OF_YEAR_2',\n",
    "                       'WEEK_OF_YEAR_3',\n",
    "                       'WEEK_OF_YEAR_4',\n",
    "                       'WEEK_OF_YEAR_5',\n",
    "                       'WEEK_OF_YEAR_6',\n",
    "                       'WEEK_OF_YEAR_7',\n",
    "                       'WEEK_OF_YEAR_8',\n",
    "                       'WEEK_OF_YEAR_9',\n",
    "                       'Julio',\n",
    "                       'Nov_2017',\n",
    "                       'Dic_2017',\n",
    "                       't',\n",
    "                       'Feriado_laboral',\n",
    "                       'Feriado_no_laboral',\n",
    "                       'Elecciones',\n",
    "                       'Censo',\n",
    "                       'Partido',\n",
    "                       'FDS_Largo',\n",
    "                       'Disturbios',\n",
    "                       'Corte_Metro',\n",
    "                       'Retraso_Metro',\n",
    "                       'Incidente_Metro',\n",
    "                       'Bucle',\n",
    "                       'Clima',\n",
    "                       'visperas_laborales',\n",
    "                       'kms_metro',\n",
    "                       'N_ZPs',\n",
    "                       'ratio_tm']]\n",
    "\n",
    "results_m1_2 = estimateWithStatsModels(Y,X,g_1,'m1_2')\n",
    "print(results_m1_2.summary())"
   ]
  },
  {
   "cell_type": "code",
   "execution_count": 25,
   "metadata": {},
   "outputs": [
    {
     "data": {
      "text/plain": [
       "0       13.361160\n",
       "1       14.574382\n",
       "2       14.188385\n",
       "3       13.840231\n",
       "4       14.911875\n",
       "5       14.904786\n",
       "6       14.896607\n",
       "7       14.889432\n",
       "8       14.880573\n",
       "9       14.323844\n",
       "10      13.864519\n",
       "11      14.871322\n",
       "12      14.838315\n",
       "13      14.860947\n",
       "14      14.865273\n",
       "15      14.870994\n",
       "16      14.293090\n",
       "17      13.844851\n",
       "18      14.839287\n",
       "19      14.838884\n",
       "20      14.829023\n",
       "21      14.815629\n",
       "22      14.821769\n",
       "23      14.249993\n",
       "24      13.807660\n",
       "25      14.789756\n",
       "26      14.789511\n",
       "27      14.782777\n",
       "28      14.787140\n",
       "29      14.819312\n",
       "          ...    \n",
       "1066    14.405987\n",
       "1067    13.910700\n",
       "1068    14.966207\n",
       "1069    14.974960\n",
       "1070    14.964984\n",
       "1071    14.975336\n",
       "1072    14.132356\n",
       "1073    14.265280\n",
       "1074    13.850629\n",
       "1075    14.942611\n",
       "1076    14.939844\n",
       "1077    14.936339\n",
       "1078    14.926048\n",
       "1079    14.916188\n",
       "1080    14.453103\n",
       "1081    14.027765\n",
       "1082    14.920114\n",
       "1083    14.930239\n",
       "1084    14.931916\n",
       "1085    14.915863\n",
       "1086    14.906420\n",
       "1087    14.400822\n",
       "1088    13.854052\n",
       "1089    13.355018\n",
       "1090    14.821175\n",
       "1091    14.861167\n",
       "1092    14.855039\n",
       "1093    14.823557\n",
       "1094    14.243934\n",
       "1095    13.658564\n",
       "Name: log(TOTAL_trx), Length: 1096, dtype: float64"
      ]
     },
     "execution_count": 25,
     "metadata": {},
     "output_type": "execute_result"
    }
   ],
   "source": [
    "complete_db.loc[:,'log(TOTAL_trx)']"
   ]
  },
  {
   "cell_type": "markdown",
   "metadata": {},
   "source": [
    "## Closed"
   ]
  }
 ],
 "metadata": {
  "kernelspec": {
   "display_name": "Python 3",
   "language": "python",
   "name": "python3"
  },
  "language_info": {
   "codemirror_mode": {
    "name": "ipython",
    "version": 3
   },
   "file_extension": ".py",
   "mimetype": "text/x-python",
   "name": "python",
   "nbconvert_exporter": "python",
   "pygments_lexer": "ipython3",
   "version": "3.5.2+"
  }
 },
 "nbformat": 4,
 "nbformat_minor": 2
}
