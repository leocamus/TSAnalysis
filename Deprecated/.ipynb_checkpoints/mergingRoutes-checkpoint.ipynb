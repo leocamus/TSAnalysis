{
 "cells": [
  {
   "cell_type": "markdown",
   "metadata": {},
   "source": [
    "## Matching services between Evasion and Anexo_4"
   ]
  },
  {
   "cell_type": "code",
   "execution_count": 1,
   "metadata": {
    "collapsed": true
   },
   "outputs": [],
   "source": [
    "import os\n",
    "import sys\n",
    "module_path = os.path.abspath(os.path.join('..'))\n",
    "if module_path not in sys.path:\n",
    "    sys.path.append(module_path)"
   ]
  },
  {
   "cell_type": "code",
   "execution_count": 2,
   "metadata": {},
   "outputs": [
    {
     "data": {
      "text/html": [
       "<style>.container { width:80% !important; }</style>"
      ],
      "text/plain": [
       "<IPython.core.display.HTML object>"
      ]
     },
     "metadata": {},
     "output_type": "display_data"
    }
   ],
   "source": [
    "%matplotlib inline\n",
    "from IPython.core.display import display, HTML\n",
    "display(HTML(\"<style>.container { width:80% !important; }</style>\"))\n",
    "\n",
    "import pandas as pd\n",
    "import matplotlib\n",
    "import matplotlib.pyplot as plt\n",
    "import matplotlib.dates as mdates\n",
    "import numpy as np\n",
    "import datetime as dt\n",
    "import time"
   ]
  },
  {
   "cell_type": "code",
   "execution_count": 3,
   "metadata": {
    "collapsed": true
   },
   "outputs": [],
   "source": [
    "import EvasionBuilder"
   ]
  },
  {
   "cell_type": "code",
   "execution_count": 4,
   "metadata": {
    "collapsed": true
   },
   "outputs": [],
   "source": [
    "[first_q, second_q, third_q] = EvasionBuilder.loadSinglesEvasion()"
   ]
  },
  {
   "cell_type": "code",
   "execution_count": 5,
   "metadata": {
    "collapsed": true
   },
   "outputs": [],
   "source": [
    "from Utils import TransantiagoConstants\n",
    "DTPMDir = TransantiagoConstants.DTPMDir\n",
    "first_semester_stops_path = os.path.join(DTPMDir,'02_Anexo_4/2017-05-06_consolidado_anexo4_(Circunvalación)_v2.xlsm')"
   ]
  },
  {
   "cell_type": "code",
   "execution_count": 6,
   "metadata": {
    "collapsed": true
   },
   "outputs": [],
   "source": [
    "first_semester_stops = pd.read_excel(first_semester_stops_path)"
   ]
  },
  {
   "cell_type": "code",
   "execution_count": 7,
   "metadata": {
    "collapsed": true
   },
   "outputs": [],
   "source": [
    "from difflib import SequenceMatcher\n",
    "\n",
    "def similar(a, b):\n",
    "    return SequenceMatcher(None, a, b).ratio()"
   ]
  },
  {
   "cell_type": "code",
   "execution_count": 8,
   "metadata": {
    "collapsed": true
   },
   "outputs": [],
   "source": [
    "first_semester_stops_1 = first_semester_stops.loc[first_semester_stops['Orden']==1,['Orden', 'Servicio TS', 'Servicio Usuario', 'Sentido Servicio', 'Varian-te', 'Código paradero TS', 'Eje', 'Nombre Paradero']]"
   ]
  },
  {
   "cell_type": "markdown",
   "metadata": {},
   "source": [
    "* Analyzing first quarter"
   ]
  },
  {
   "cell_type": "code",
   "execution_count": 9,
   "metadata": {},
   "outputs": [
    {
     "data": {
      "text/html": [
       "<div>\n",
       "<style>\n",
       "    .dataframe thead tr:only-child th {\n",
       "        text-align: right;\n",
       "    }\n",
       "\n",
       "    .dataframe thead th {\n",
       "        text-align: left;\n",
       "    }\n",
       "\n",
       "    .dataframe tbody tr th {\n",
       "        vertical-align: top;\n",
       "    }\n",
       "</style>\n",
       "<table border=\"1\" class=\"dataframe\">\n",
       "  <thead>\n",
       "    <tr style=\"text-align: right;\">\n",
       "      <th></th>\n",
       "      <th>FECHA</th>\n",
       "      <th>SERVICIO</th>\n",
       "      <th>PLACA PATENTE</th>\n",
       "      <th>NUMERO DE PUERTAS</th>\n",
       "      <th>PUERTA NUMERO</th>\n",
       "      <th>LUGAR INICIO</th>\n",
       "      <th>HORA INICIO</th>\n",
       "      <th>HORA</th>\n",
       "      <th>MINUTOS</th>\n",
       "      <th>INGRESAN</th>\n",
       "      <th>NO VALIDAN</th>\n",
       "      <th>TP</th>\n",
       "    </tr>\n",
       "  </thead>\n",
       "  <tbody>\n",
       "    <tr>\n",
       "      <th>0</th>\n",
       "      <td>2017-01-10</td>\n",
       "      <td>214</td>\n",
       "      <td>BJFH98</td>\n",
       "      <td>3</td>\n",
       "      <td>1</td>\n",
       "      <td>AV. ADOLFO LOPEZ MATEO</td>\n",
       "      <td>07:10:00</td>\n",
       "      <td>7</td>\n",
       "      <td>10</td>\n",
       "      <td>15</td>\n",
       "      <td>1</td>\n",
       "      <td>P</td>\n",
       "    </tr>\n",
       "    <tr>\n",
       "      <th>1</th>\n",
       "      <td>2017-01-10</td>\n",
       "      <td>214</td>\n",
       "      <td>BJFH98</td>\n",
       "      <td>3</td>\n",
       "      <td>1</td>\n",
       "      <td>AV. ADOLFO LOPEZ MATEO</td>\n",
       "      <td>07:10:00</td>\n",
       "      <td>7</td>\n",
       "      <td>12</td>\n",
       "      <td>9</td>\n",
       "      <td>0</td>\n",
       "      <td>P</td>\n",
       "    </tr>\n",
       "    <tr>\n",
       "      <th>2</th>\n",
       "      <td>2017-01-10</td>\n",
       "      <td>214</td>\n",
       "      <td>BJFH98</td>\n",
       "      <td>3</td>\n",
       "      <td>1</td>\n",
       "      <td>AV. ADOLFO LOPEZ MATEO</td>\n",
       "      <td>07:10:00</td>\n",
       "      <td>7</td>\n",
       "      <td>13</td>\n",
       "      <td>6</td>\n",
       "      <td>2</td>\n",
       "      <td>P</td>\n",
       "    </tr>\n",
       "    <tr>\n",
       "      <th>3</th>\n",
       "      <td>2017-01-10</td>\n",
       "      <td>214</td>\n",
       "      <td>BJFH98</td>\n",
       "      <td>3</td>\n",
       "      <td>1</td>\n",
       "      <td>AV. ADOLFO LOPEZ MATEO</td>\n",
       "      <td>07:10:00</td>\n",
       "      <td>7</td>\n",
       "      <td>18</td>\n",
       "      <td>8</td>\n",
       "      <td>1</td>\n",
       "      <td>P</td>\n",
       "    </tr>\n",
       "    <tr>\n",
       "      <th>4</th>\n",
       "      <td>2017-01-10</td>\n",
       "      <td>214</td>\n",
       "      <td>BJFH98</td>\n",
       "      <td>3</td>\n",
       "      <td>1</td>\n",
       "      <td>AV. ADOLFO LOPEZ MATEO</td>\n",
       "      <td>07:10:00</td>\n",
       "      <td>7</td>\n",
       "      <td>20</td>\n",
       "      <td>5</td>\n",
       "      <td>1</td>\n",
       "      <td>P</td>\n",
       "    </tr>\n",
       "  </tbody>\n",
       "</table>\n",
       "</div>"
      ],
      "text/plain": [
       "      FECHA  SERVICIO PLACA PATENTE NUMERO DE PUERTAS  PUERTA NUMERO  \\\n",
       "0 2017-01-10      214        BJFH98                 3              1   \n",
       "1 2017-01-10      214        BJFH98                 3              1   \n",
       "2 2017-01-10      214        BJFH98                 3              1   \n",
       "3 2017-01-10      214        BJFH98                 3              1   \n",
       "4 2017-01-10      214        BJFH98                 3              1   \n",
       "\n",
       "             LUGAR INICIO HORA INICIO  HORA  MINUTOS  INGRESAN  NO VALIDAN TP  \n",
       "0  AV. ADOLFO LOPEZ MATEO    07:10:00     7       10        15           1  P  \n",
       "1  AV. ADOLFO LOPEZ MATEO    07:10:00     7       12         9           0  P  \n",
       "2  AV. ADOLFO LOPEZ MATEO    07:10:00     7       13         6           2  P  \n",
       "3  AV. ADOLFO LOPEZ MATEO    07:10:00     7       18         8           1  P  \n",
       "4  AV. ADOLFO LOPEZ MATEO    07:10:00     7       20         5           1  P  "
      ]
     },
     "execution_count": 9,
     "metadata": {},
     "output_type": "execute_result"
    }
   ],
   "source": [
    "first_q.head()"
   ]
  },
  {
   "cell_type": "code",
   "execution_count": 10,
   "metadata": {},
   "outputs": [
    {
     "data": {
      "text/html": [
       "<div>\n",
       "<style>\n",
       "    .dataframe thead tr:only-child th {\n",
       "        text-align: right;\n",
       "    }\n",
       "\n",
       "    .dataframe thead th {\n",
       "        text-align: left;\n",
       "    }\n",
       "\n",
       "    .dataframe tbody tr th {\n",
       "        vertical-align: top;\n",
       "    }\n",
       "</style>\n",
       "<table border=\"1\" class=\"dataframe\">\n",
       "  <thead>\n",
       "    <tr style=\"text-align: right;\">\n",
       "      <th></th>\n",
       "      <th>Orden</th>\n",
       "      <th>Servicio TS</th>\n",
       "      <th>Servicio Usuario</th>\n",
       "      <th>Sentido Servicio</th>\n",
       "      <th>Varian-te</th>\n",
       "      <th>Código paradero TS</th>\n",
       "      <th>Eje</th>\n",
       "      <th>Nombre Paradero</th>\n",
       "    </tr>\n",
       "  </thead>\n",
       "  <tbody>\n",
       "    <tr>\n",
       "      <th>0</th>\n",
       "      <td>1</td>\n",
       "      <td>101</td>\n",
       "      <td>101</td>\n",
       "      <td>I</td>\n",
       "      <td>NaN</td>\n",
       "      <td>T-4-25-OP-5</td>\n",
       "      <td>VENEZUELA</td>\n",
       "      <td>Venezuela esq. / Bolivia</td>\n",
       "    </tr>\n",
       "    <tr>\n",
       "      <th>77</th>\n",
       "      <td>1</td>\n",
       "      <td>101</td>\n",
       "      <td>101</td>\n",
       "      <td>R</td>\n",
       "      <td>NaN</td>\n",
       "      <td>L-12-24-15-SN</td>\n",
       "      <td>AV. LAS TORRES</td>\n",
       "      <td>Avenida Las Torres esq. / Acapulco</td>\n",
       "    </tr>\n",
       "    <tr>\n",
       "      <th>148</th>\n",
       "      <td>1</td>\n",
       "      <td>102</td>\n",
       "      <td>102</td>\n",
       "      <td>I</td>\n",
       "      <td>NaN</td>\n",
       "      <td>L-7-48-5-PO</td>\n",
       "      <td>GRAL. AMENGUAL</td>\n",
       "      <td>General Amengual esq. / Padre V. Irarrázaval</td>\n",
       "    </tr>\n",
       "    <tr>\n",
       "      <th>215</th>\n",
       "      <td>1</td>\n",
       "      <td>102</td>\n",
       "      <td>102</td>\n",
       "      <td>R</td>\n",
       "      <td>NaN</td>\n",
       "      <td>T-34-269-SN-5</td>\n",
       "      <td>AV. CAMILO HENRÍQUEZ</td>\n",
       "      <td>Parada 2 / Hospital El Peral</td>\n",
       "    </tr>\n",
       "    <tr>\n",
       "      <th>281</th>\n",
       "      <td>1</td>\n",
       "      <td>103</td>\n",
       "      <td>103</td>\n",
       "      <td>I</td>\n",
       "      <td>NaN</td>\n",
       "      <td>T-14-110-PO-10</td>\n",
       "      <td>AV. NUEVA PROVIDENCIA</td>\n",
       "      <td>Parada 3 / (M) Manuel Montt</td>\n",
       "    </tr>\n",
       "  </tbody>\n",
       "</table>\n",
       "</div>"
      ],
      "text/plain": [
       "     Orden Servicio TS Servicio Usuario Sentido Servicio Varian-te  \\\n",
       "0        1         101              101                I       NaN   \n",
       "77       1         101              101                R       NaN   \n",
       "148      1         102              102                I       NaN   \n",
       "215      1         102              102                R       NaN   \n",
       "281      1         103              103                I       NaN   \n",
       "\n",
       "    Código paradero TS                    Eje  \\\n",
       "0          T-4-25-OP-5              VENEZUELA   \n",
       "77       L-12-24-15-SN         AV. LAS TORRES   \n",
       "148        L-7-48-5-PO         GRAL. AMENGUAL   \n",
       "215      T-34-269-SN-5   AV. CAMILO HENRÍQUEZ   \n",
       "281     T-14-110-PO-10  AV. NUEVA PROVIDENCIA   \n",
       "\n",
       "                                  Nombre Paradero  \n",
       "0                        Venezuela esq. / Bolivia  \n",
       "77             Avenida Las Torres esq. / Acapulco  \n",
       "148  General Amengual esq. / Padre V. Irarrázaval  \n",
       "215                  Parada 2 / Hospital El Peral  \n",
       "281                   Parada 3 / (M) Manuel Montt  "
      ]
     },
     "execution_count": 10,
     "metadata": {},
     "output_type": "execute_result"
    }
   ],
   "source": [
    "first_semester_stops_1.head()"
   ]
  },
  {
   "cell_type": "code",
   "execution_count": 15,
   "metadata": {
    "scrolled": true
   },
   "outputs": [
    {
     "name": "stdout",
     "output_type": "stream",
     "text": [
      "108.97388375405626\n"
     ]
    }
   ],
   "source": [
    "tic = time.clock()\n",
    "first_q['SENTIDO']=\"\"\n",
    "\n",
    "empty = 0\n",
    "length_one = 0\n",
    "length_two = 0\n",
    "length_more_than_two = 0\n",
    "\n",
    "for index,row in first_q.iterrows():\n",
    "    evasion_servicio = row['SERVICIO']\n",
    "    evasion_inicio = row['LUGAR INICIO']\n",
    "    paradas_ejes = first_semester_stops_1.loc[first_semester_stops_1['Servicio Usuario']==evasion_servicio,'Eje']\n",
    "    paradas_sentidos = first_semester_stops_1.loc[first_semester_stops_1['Servicio Usuario']==evasion_servicio,'Sentido Servicio']\n",
    "    paradas_variantes = first_semester_stops_1.loc[first_semester_stops_1['Servicio Usuario']==evasion_servicio,'Varian-te']\n",
    "    #Check for similarity between evasion_inicio and all paradas_ejes, get the max\n",
    "    \n",
    "    if(paradas_ejes.empty==True):\n",
    "        first_q.loc[index,'SENTIDO']='empty'\n",
    "        empty = empty + 1\n",
    "    else:\n",
    "        if(len(paradas_ejes.index)==1):\n",
    "            #There is no necessity to compute similarities\n",
    "            length_one = length_one + 1\n",
    "            first_q.loc[index,'SENTIDO']=paradas_sentidos.values[0]\n",
    "            \n",
    "        elif(len(paradas_ejes.index)==2):\n",
    "            length_two = length_two + 1\n",
    "            #Similarities are computed. TODO: check for same similarities.\n",
    "            for i in range(0,len(paradas_ejes.index)):\n",
    "                similarities = {}\n",
    "                similarities[i] = similar(evasion_inicio, paradas_ejes.iloc[i])\n",
    "                \n",
    "            max_similarity = max(similarities.values())\n",
    "            sentido_index = [k for k, v in similarities.items() if v == max_similarity]\n",
    "            sentido_final = paradas_sentidos.iloc[sentido_index]\n",
    "            \n",
    "            first_q.loc[index,'SENTIDO']=sentido_final.values[0]\n",
    "        \n",
    "        else:\n",
    "            #There is no necessity to compute similarities\n",
    "            length_more_than_two = length_more_than_two + 1\n",
    "            first_q.loc[index,'SENTIDO']='more_than_two'\n",
    "\n",
    "toc = time.clock()\n",
    "print(toc-tic)"
   ]
  }
 ],
 "metadata": {
  "kernelspec": {
   "display_name": "Python 3",
   "language": "python",
   "name": "python3"
  },
  "language_info": {
   "codemirror_mode": {
    "name": "ipython",
    "version": 3
   },
   "file_extension": ".py",
   "mimetype": "text/x-python",
   "name": "python",
   "nbconvert_exporter": "python",
   "pygments_lexer": "ipython3",
   "version": "3.6.1"
  }
 },
 "nbformat": 4,
 "nbformat_minor": 2
}
