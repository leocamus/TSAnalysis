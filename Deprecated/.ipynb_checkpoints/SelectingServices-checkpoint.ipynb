{
 "cells": [
  {
   "cell_type": "markdown",
   "metadata": {},
   "source": [
    "### Analyzing perfiles database"
   ]
  },
  {
   "cell_type": "code",
   "execution_count": 1,
   "metadata": {
    "collapsed": true
   },
   "outputs": [],
   "source": [
    "import os\n",
    "import sys\n",
    "module_path = os.path.abspath(os.path.join('..'))\n",
    "if module_path not in sys.path:\n",
    "    sys.path.append(module_path)"
   ]
  },
  {
   "cell_type": "code",
   "execution_count": 2,
   "metadata": {},
   "outputs": [
    {
     "data": {
      "text/html": [
       "<style>.container { width:80% !important; }</style>"
      ],
      "text/plain": [
       "<IPython.core.display.HTML object>"
      ]
     },
     "metadata": {},
     "output_type": "display_data"
    }
   ],
   "source": [
    "%matplotlib inline\n",
    "from IPython.core.display import display, HTML\n",
    "display(HTML(\"<style>.container { width:80% !important; }</style>\"))\n",
    "\n",
    "import pandas as pd\n",
    "import matplotlib\n",
    "import matplotlib.pyplot as plt\n",
    "import matplotlib.dates as mdates\n",
    "import numpy as np\n",
    "import datetime as dt\n",
    "import time\n",
    "import re\n",
    "\n",
    "from Utils import TransantiagoConstants"
   ]
  },
  {
   "cell_type": "code",
   "execution_count": 3,
   "metadata": {
    "collapsed": true
   },
   "outputs": [],
   "source": [
    "import DailyPerfilesBuilder"
   ]
  },
  {
   "cell_type": "markdown",
   "metadata": {},
   "source": [
    "#### Running for only last week"
   ]
  },
  {
   "cell_type": "code",
   "execution_count": 4,
   "metadata": {
    "collapsed": true
   },
   "outputs": [],
   "source": [
    "summary_dir = TransantiagoConstants.SummaryDir"
   ]
  },
  {
   "cell_type": "code",
   "execution_count": 5,
   "metadata": {
    "collapsed": true
   },
   "outputs": [],
   "source": [
    "dates = TransantiagoConstants.updateCurrentSSHDates()"
   ]
  },
  {
   "cell_type": "code",
   "execution_count": 6,
   "metadata": {
    "collapsed": true
   },
   "outputs": [],
   "source": [
    "start_date = '2017-08-21'"
   ]
  },
  {
   "cell_type": "code",
   "execution_count": 7,
   "metadata": {
    "collapsed": true
   },
   "outputs": [],
   "source": [
    "start_index = dates.index(start_date)"
   ]
  },
  {
   "cell_type": "code",
   "execution_count": 8,
   "metadata": {
    "collapsed": true
   },
   "outputs": [],
   "source": [
    "end_date = '2017-08-25'"
   ]
  },
  {
   "cell_type": "code",
   "execution_count": 9,
   "metadata": {
    "collapsed": true
   },
   "outputs": [],
   "source": [
    "end_index = dates.index(end_date)"
   ]
  },
  {
   "cell_type": "code",
   "execution_count": 10,
   "metadata": {
    "collapsed": true
   },
   "outputs": [],
   "source": [
    "dates = dates[start_index:end_index+1]"
   ]
  },
  {
   "cell_type": "markdown",
   "metadata": {},
   "source": [
    "* Creating the dictionaries"
   ]
  },
  {
   "cell_type": "code",
   "execution_count": 11,
   "metadata": {
    "collapsed": true
   },
   "outputs": [],
   "source": [
    "dict_un_1 = {}\n",
    "dict_un_3 = {}\n",
    "dict_un_4 = {}\n",
    "dict_un_5 = {}\n",
    "dict_un_6 = {}\n",
    "dict_un_7 = {}"
   ]
  },
  {
   "cell_type": "markdown",
   "metadata": {},
   "source": [
    "* Number of services per UN to select"
   ]
  },
  {
   "cell_type": "code",
   "execution_count": 12,
   "metadata": {
    "collapsed": true
   },
   "outputs": [],
   "source": [
    "number_services = 20"
   ]
  },
  {
   "cell_type": "code",
   "execution_count": 13,
   "metadata": {},
   "outputs": [
    {
     "name": "stdout",
     "output_type": "stream",
     "text": [
      "This is the 1 iteration\n",
      "Not found in BOTH turnstile databases: 36654\n",
      "This is the 2 iteration\n",
      "Not found in BOTH turnstile databases: 36997\n",
      "This is the 3 iteration\n",
      "Not found in BOTH turnstile databases: 36938\n",
      "This is the 4 iteration\n",
      "Not found in BOTH turnstile databases: 36858\n",
      "This is the 5 iteration\n",
      "Not found in BOTH turnstile databases: 36069\n"
     ]
    }
   ],
   "source": [
    "i = 0\n",
    "for date in dates:\n",
    "    i = i+1\n",
    "    print('This is the ' + str(i) + ' iteration')\n",
    "    #Creating empty lists for selected services\n",
    "    list_un_1 = []\n",
    "    list_un_3 = []\n",
    "    list_un_4 = []\n",
    "    list_un_5 = []\n",
    "    list_un_6 = []\n",
    "    list_un_7 = []    \n",
    "    perfiles_builder = DailyPerfilesBuilder.RunSilentlyDailyPerfilesBuilderClass(date) #Creating the object\n",
    "#    perfiles_builder.runSimplifyPerfiles() #Simplifying perfiles\n",
    "    perfiles_builder.loadSimplifiedPerfiles() #Loading perfiles into memory\n",
    "    perfiles_builder.dropParaderos() #Droping paraderos info\n",
    "    perfiles_builder.mergeTurnstileDatabase() #Merging turnstile info: critical\n",
    "    perfiles_builder.groupByTurnstilePresence() #Grouping by servicio_sentido\n",
    "    perfiles_builder.appendUnidadNegocio() #Appending 'unidad de negocio' column\n",
    "    grouped_perfiles = perfiles_builder.grouped_data #Getting the info\n",
    "    ### Filling the lists ###\n",
    "    #1. Get ratio for all services in grouped_perfiles.\n",
    "    grouped_perfiles['ratio_ct_st'] = grouped_perfiles['torniquete_mariposa_total']/grouped_perfiles['no_torniquete_total']\n",
    "    grouped_perfiles['1_vs_ratio'] = abs(1-grouped_perfiles['ratio_ct_st'])\n",
    "    #2. Replacing 'inf' by NaNs\n",
    "    grouped_perfiles.replace([np.inf, -np.inf], np.nan, inplace=True)\n",
    "    #3. Sorting by 'UN' and '1_vs_ratio' in ascending order and putting NaNs in last positions (by-default option)\n",
    "    grouped_perfiles.sort_values(by=['UN','1_vs_ratio'],ascending=[True, True], inplace=True)\n",
    "    #4. Select BY UN a pre-defined number of services.\n",
    "    important_services = grouped_perfiles.groupby('UN').head(number_services).reset_index(drop=True)\n",
    "#    file_name = 'important_services_' + date + '.csv'\n",
    "#    summary_of_exps = os.path.join(summary_dir, file_name)\n",
    "#    important_services.to_csv(summary_of_exps, sep=';', encoding='latin-1')\n",
    "    list_un_1 = important_services.loc[important_services['UN']==1,'ServicioSentido'].tolist()\n",
    "    list_un_3 = important_services.loc[important_services['UN']==3,'ServicioSentido'].tolist()\n",
    "    list_un_4 = important_services.loc[important_services['UN']==4,'ServicioSentido'].tolist()\n",
    "    list_un_5 = important_services.loc[important_services['UN']==5,'ServicioSentido'].tolist()\n",
    "    list_un_6 = important_services.loc[important_services['UN']==6,'ServicioSentido'].tolist()\n",
    "    list_un_7 = important_services.loc[important_services['UN']==7,'ServicioSentido'].tolist()    \n",
    "    #5. Filling the dictionaries\n",
    "    dict_un_1[date] = list_un_1\n",
    "    dict_un_3[date] = list_un_3\n",
    "    dict_un_4[date] = list_un_4\n",
    "    dict_un_5[date] = list_un_5\n",
    "    dict_un_6[date] = list_un_6\n",
    "    dict_un_7[date] = list_un_7\n",
    "    #Done..."
   ]
  },
  {
   "cell_type": "code",
   "execution_count": 14,
   "metadata": {
    "collapsed": true
   },
   "outputs": [],
   "source": [
    "index = 0\n",
    "first_date = dates[0]\n",
    "for date in dates:\n",
    "    if index==0:\n",
    "        services_un_1 = set(dict_un_1[first_date])\n",
    "        services_un_3 = set(dict_un_3[first_date])\n",
    "        services_un_4 = set(dict_un_4[first_date])\n",
    "        services_un_5 = set(dict_un_5[first_date])\n",
    "        services_un_6 = set(dict_un_6[first_date])\n",
    "        services_un_7 = set(dict_un_7[first_date])\n",
    "    else:\n",
    "        services_un_1 = services_un_1 & set(dict_un_1[date])\n",
    "        services_un_3 = services_un_3 & set(dict_un_3[date])\n",
    "        services_un_4 = services_un_4 & set(dict_un_4[date])\n",
    "        services_un_5 = services_un_5 & set(dict_un_5[date])\n",
    "        services_un_6 = services_un_6 & set(dict_un_6[date])\n",
    "        services_un_7 = services_un_7 & set(dict_un_7[date])\n",
    "    index=index+1"
   ]
  },
  {
   "cell_type": "code",
   "execution_count": 15,
   "metadata": {},
   "outputs": [
    {
     "data": {
      "text/plain": [
       "{'T106 00I',\n",
       " 'T106 00R',\n",
       " 'T108 00I',\n",
       " 'T108 00R',\n",
       " 'T120 00I',\n",
       " 'T120 00R',\n",
       " 'T130 E0 00I'}"
      ]
     },
     "execution_count": 15,
     "metadata": {},
     "output_type": "execute_result"
    }
   ],
   "source": [
    "services_un_1"
   ]
  },
  {
   "cell_type": "code",
   "execution_count": 16,
   "metadata": {},
   "outputs": [
    {
     "data": {
      "text/plain": [
       "{'T350 00I',\n",
       " 'T350 00R',\n",
       " 'T371 01R',\n",
       " 'T379 00I',\n",
       " 'T379 00R',\n",
       " 'T379 C0 00I',\n",
       " 'T379 C0 00R',\n",
       " 'T381 00I',\n",
       " 'T381 00R'}"
      ]
     },
     "execution_count": 16,
     "metadata": {},
     "output_type": "execute_result"
    }
   ],
   "source": [
    "services_un_3"
   ]
  },
  {
   "cell_type": "code",
   "execution_count": 17,
   "metadata": {},
   "outputs": [
    {
     "data": {
      "text/plain": [
       "{'T402 00I',\n",
       " 'T402 00R',\n",
       " 'T406 00I',\n",
       " 'T406 00R',\n",
       " 'T407 00I',\n",
       " 'T407 00R',\n",
       " 'T414 E0 00I',\n",
       " 'T415 E0 00R',\n",
       " 'T422 00I',\n",
       " 'T422 00R',\n",
       " 'T426 00I',\n",
       " 'T426 00R',\n",
       " 'T427 00I',\n",
       " 'T427 00R',\n",
       " 'T430 00I',\n",
       " 'T430 00R'}"
      ]
     },
     "execution_count": 17,
     "metadata": {},
     "output_type": "execute_result"
    }
   ],
   "source": [
    "services_un_4"
   ]
  },
  {
   "cell_type": "code",
   "execution_count": 18,
   "metadata": {},
   "outputs": [
    {
     "data": {
      "text/plain": [
       "{'T523 00I', 'T535 C0 00R', 'T538 C0 00I', 'T538 C0 00R'}"
      ]
     },
     "execution_count": 18,
     "metadata": {},
     "output_type": "execute_result"
    }
   ],
   "source": [
    "services_un_5"
   ]
  },
  {
   "cell_type": "code",
   "execution_count": 19,
   "metadata": {},
   "outputs": [
    {
     "data": {
      "text/plain": [
       "{'B51 C0 00I', 'B55 00I', 'B56 00R'}"
      ]
     },
     "execution_count": 19,
     "metadata": {},
     "output_type": "execute_result"
    }
   ],
   "source": [
    "services_un_6"
   ]
  },
  {
   "cell_type": "code",
   "execution_count": 20,
   "metadata": {},
   "outputs": [
    {
     "data": {
      "text/plain": [
       "{'F52 00R'}"
      ]
     },
     "execution_count": 20,
     "metadata": {},
     "output_type": "execute_result"
    }
   ],
   "source": [
    "services_un_7"
   ]
  },
  {
   "cell_type": "markdown",
   "metadata": {},
   "source": [
    "* Special treatment for UN2"
   ]
  },
  {
   "cell_type": "code",
   "execution_count": 21,
   "metadata": {},
   "outputs": [
    {
     "data": {
      "text/plain": [
       "'2017-08-25'"
      ]
     },
     "execution_count": 21,
     "metadata": {},
     "output_type": "execute_result"
    }
   ],
   "source": [
    "date"
   ]
  },
  {
   "cell_type": "code",
   "execution_count": 22,
   "metadata": {},
   "outputs": [],
   "source": [
    "important_services_UN2 = grouped_perfiles.loc[grouped_perfiles['UN']==2,:].sort_values(by='torniquete_mariposa_total',ascending=False)"
   ]
  },
  {
   "cell_type": "code",
   "execution_count": 23,
   "metadata": {},
   "outputs": [
    {
     "data": {
      "text/html": [
       "<div>\n",
       "<style>\n",
       "    .dataframe thead tr:only-child th {\n",
       "        text-align: right;\n",
       "    }\n",
       "\n",
       "    .dataframe thead th {\n",
       "        text-align: left;\n",
       "    }\n",
       "\n",
       "    .dataframe tbody tr th {\n",
       "        vertical-align: top;\n",
       "    }\n",
       "</style>\n",
       "<table border=\"1\" class=\"dataframe\">\n",
       "  <thead>\n",
       "    <tr style=\"text-align: right;\">\n",
       "      <th></th>\n",
       "      <th>ServicioSentido</th>\n",
       "      <th>torniquete_mariposa_total</th>\n",
       "      <th>no_torniquete_total</th>\n",
       "      <th>TS_CODE</th>\n",
       "      <th>DIRECTION</th>\n",
       "      <th>UN</th>\n",
       "      <th>USER_CODE</th>\n",
       "      <th>ratio_ct_st</th>\n",
       "      <th>1_vs_ratio</th>\n",
       "    </tr>\n",
       "  </thead>\n",
       "  <tbody>\n",
       "    <tr>\n",
       "      <th>321</th>\n",
       "      <td>T201 00R</td>\n",
       "      <td>98</td>\n",
       "      <td>0</td>\n",
       "      <td>201</td>\n",
       "      <td>Ret</td>\n",
       "      <td>2.0</td>\n",
       "      <td>201</td>\n",
       "      <td>NaN</td>\n",
       "      <td>NaN</td>\n",
       "    </tr>\n",
       "    <tr>\n",
       "      <th>320</th>\n",
       "      <td>T201 00I</td>\n",
       "      <td>93</td>\n",
       "      <td>0</td>\n",
       "      <td>201</td>\n",
       "      <td>Ida</td>\n",
       "      <td>2.0</td>\n",
       "      <td>201</td>\n",
       "      <td>NaN</td>\n",
       "      <td>NaN</td>\n",
       "    </tr>\n",
       "    <tr>\n",
       "      <th>330</th>\n",
       "      <td>T204 00I</td>\n",
       "      <td>69</td>\n",
       "      <td>0</td>\n",
       "      <td>204</td>\n",
       "      <td>Ida</td>\n",
       "      <td>2.0</td>\n",
       "      <td>204</td>\n",
       "      <td>NaN</td>\n",
       "      <td>NaN</td>\n",
       "    </tr>\n",
       "    <tr>\n",
       "      <th>331</th>\n",
       "      <td>T204 00R</td>\n",
       "      <td>60</td>\n",
       "      <td>0</td>\n",
       "      <td>204</td>\n",
       "      <td>Ret</td>\n",
       "      <td>2.0</td>\n",
       "      <td>204</td>\n",
       "      <td>NaN</td>\n",
       "      <td>NaN</td>\n",
       "    </tr>\n",
       "    <tr>\n",
       "      <th>327</th>\n",
       "      <td>T203 00R</td>\n",
       "      <td>55</td>\n",
       "      <td>0</td>\n",
       "      <td>203</td>\n",
       "      <td>Ret</td>\n",
       "      <td>2.0</td>\n",
       "      <td>203</td>\n",
       "      <td>NaN</td>\n",
       "      <td>NaN</td>\n",
       "    </tr>\n",
       "    <tr>\n",
       "      <th>348</th>\n",
       "      <td>T208 00I</td>\n",
       "      <td>54</td>\n",
       "      <td>0</td>\n",
       "      <td>208</td>\n",
       "      <td>Ida</td>\n",
       "      <td>2.0</td>\n",
       "      <td>208</td>\n",
       "      <td>NaN</td>\n",
       "      <td>NaN</td>\n",
       "    </tr>\n",
       "    <tr>\n",
       "      <th>322</th>\n",
       "      <td>T201 E0 00I</td>\n",
       "      <td>54</td>\n",
       "      <td>0</td>\n",
       "      <td>201</td>\n",
       "      <td>Ida</td>\n",
       "      <td>2.0</td>\n",
       "      <td>201</td>\n",
       "      <td>NaN</td>\n",
       "      <td>NaN</td>\n",
       "    </tr>\n",
       "    <tr>\n",
       "      <th>326</th>\n",
       "      <td>T203 00I</td>\n",
       "      <td>53</td>\n",
       "      <td>0</td>\n",
       "      <td>203</td>\n",
       "      <td>Ida</td>\n",
       "      <td>2.0</td>\n",
       "      <td>203</td>\n",
       "      <td>NaN</td>\n",
       "      <td>NaN</td>\n",
       "    </tr>\n",
       "    <tr>\n",
       "      <th>349</th>\n",
       "      <td>T208 00R</td>\n",
       "      <td>53</td>\n",
       "      <td>0</td>\n",
       "      <td>208</td>\n",
       "      <td>Ret</td>\n",
       "      <td>2.0</td>\n",
       "      <td>208</td>\n",
       "      <td>NaN</td>\n",
       "      <td>NaN</td>\n",
       "    </tr>\n",
       "    <tr>\n",
       "      <th>323</th>\n",
       "      <td>T201 E0 00R</td>\n",
       "      <td>51</td>\n",
       "      <td>0</td>\n",
       "      <td>201</td>\n",
       "      <td>Ret</td>\n",
       "      <td>2.0</td>\n",
       "      <td>201</td>\n",
       "      <td>NaN</td>\n",
       "      <td>NaN</td>\n",
       "    </tr>\n",
       "  </tbody>\n",
       "</table>\n",
       "</div>"
      ],
      "text/plain": [
       "    ServicioSentido  torniquete_mariposa_total  no_torniquete_total TS_CODE  \\\n",
       "321        T201 00R                         98                    0     201   \n",
       "320        T201 00I                         93                    0     201   \n",
       "330        T204 00I                         69                    0     204   \n",
       "331        T204 00R                         60                    0     204   \n",
       "327        T203 00R                         55                    0     203   \n",
       "348        T208 00I                         54                    0     208   \n",
       "322     T201 E0 00I                         54                    0     201   \n",
       "326        T203 00I                         53                    0     203   \n",
       "349        T208 00R                         53                    0     208   \n",
       "323     T201 E0 00R                         51                    0     201   \n",
       "\n",
       "    DIRECTION   UN USER_CODE  ratio_ct_st  1_vs_ratio  \n",
       "321       Ret  2.0       201          NaN         NaN  \n",
       "320       Ida  2.0       201          NaN         NaN  \n",
       "330       Ida  2.0       204          NaN         NaN  \n",
       "331       Ret  2.0       204          NaN         NaN  \n",
       "327       Ret  2.0       203          NaN         NaN  \n",
       "348       Ida  2.0       208          NaN         NaN  \n",
       "322       Ida  2.0       201          NaN         NaN  \n",
       "326       Ida  2.0       203          NaN         NaN  \n",
       "349       Ret  2.0       208          NaN         NaN  \n",
       "323       Ret  2.0       201          NaN         NaN  "
      ]
     },
     "execution_count": 23,
     "metadata": {},
     "output_type": "execute_result"
    }
   ],
   "source": [
    "important_services_UN2.head(10)"
   ]
  },
  {
   "cell_type": "code",
   "execution_count": 24,
   "metadata": {},
   "outputs": [
    {
     "data": {
      "text/html": [
       "<div>\n",
       "<style>\n",
       "    .dataframe thead tr:only-child th {\n",
       "        text-align: right;\n",
       "    }\n",
       "\n",
       "    .dataframe thead th {\n",
       "        text-align: left;\n",
       "    }\n",
       "\n",
       "    .dataframe tbody tr th {\n",
       "        vertical-align: top;\n",
       "    }\n",
       "</style>\n",
       "<table border=\"1\" class=\"dataframe\">\n",
       "  <thead>\n",
       "    <tr style=\"text-align: right;\">\n",
       "      <th></th>\n",
       "      <th>ServicioSentido</th>\n",
       "      <th>torniquete_mariposa_total</th>\n",
       "      <th>no_torniquete_total</th>\n",
       "      <th>TS_CODE</th>\n",
       "      <th>DIRECTION</th>\n",
       "      <th>UN</th>\n",
       "      <th>USER_CODE</th>\n",
       "      <th>ratio_ct_st</th>\n",
       "      <th>1_vs_ratio</th>\n",
       "    </tr>\n",
       "  </thead>\n",
       "  <tbody>\n",
       "  </tbody>\n",
       "</table>\n",
       "</div>"
      ],
      "text/plain": [
       "Empty DataFrame\n",
       "Columns: [ServicioSentido, torniquete_mariposa_total, no_torniquete_total, TS_CODE, DIRECTION, UN, USER_CODE, ratio_ct_st, 1_vs_ratio]\n",
       "Index: []"
      ]
     },
     "execution_count": 24,
     "metadata": {},
     "output_type": "execute_result"
    }
   ],
   "source": [
    "important_services_UN2.loc[important_services_UN2['no_torniquete_total']!=0,:]"
   ]
  },
  {
   "cell_type": "markdown",
   "metadata": {},
   "source": [
    "## Closed"
   ]
  }
 ],
 "metadata": {
  "kernelspec": {
   "display_name": "Python 3",
   "language": "python",
   "name": "python3"
  },
  "language_info": {
   "codemirror_mode": {
    "name": "ipython",
    "version": 3
   },
   "file_extension": ".py",
   "mimetype": "text/x-python",
   "name": "python",
   "nbconvert_exporter": "python",
   "pygments_lexer": "ipython3",
   "version": "3.6.1"
  }
 },
 "nbformat": 4,
 "nbformat_minor": 2
}
