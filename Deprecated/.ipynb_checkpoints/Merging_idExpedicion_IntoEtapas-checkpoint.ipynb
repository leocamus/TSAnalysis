{
 "cells": [
  {
   "cell_type": "markdown",
   "metadata": {},
   "source": [
    "## Merging idExpedicion from perfiles_df to etapas_df"
   ]
  },
  {
   "cell_type": "markdown",
   "metadata": {},
   "source": [
    "1. Loading and processing etapas_df\n",
    "2. Loading and processing perfiles_df\n",
    "3. Simplifying etapas_df\n",
    "4. Simplifying perfiles_df\n",
    "5. <font color='red'>MERGE</font>\n",
    "6. Print full_info etapas_df"
   ]
  },
  {
   "cell_type": "code",
   "execution_count": 1,
   "metadata": {
    "collapsed": true
   },
   "outputs": [],
   "source": [
    "import os\n",
    "import sys\n",
    "module_path = os.path.abspath(os.path.join('..'))\n",
    "if module_path not in sys.path:\n",
    "    sys.path.append(module_path)"
   ]
  },
  {
   "cell_type": "code",
   "execution_count": 2,
   "metadata": {},
   "outputs": [
    {
     "data": {
      "text/html": [
       "<style>.container { width:90% !important; }</style>"
      ],
      "text/plain": [
       "<IPython.core.display.HTML object>"
      ]
     },
     "metadata": {},
     "output_type": "display_data"
    }
   ],
   "source": [
    "from IPython.core.display import display, HTML\n",
    "display(HTML(\"<style>.container { width:90% !important; }</style>\"))"
   ]
  },
  {
   "cell_type": "code",
   "execution_count": 3,
   "metadata": {
    "collapsed": true
   },
   "outputs": [],
   "source": [
    "import pandas as pd\n",
    "import time\n",
    "import DailyEtapasBuilder\n",
    "import DailyPerfilesBuilder\n",
    "from Utils import TransantiagoConstants"
   ]
  },
  {
   "cell_type": "code",
   "execution_count": 4,
   "metadata": {
    "collapsed": true
   },
   "outputs": [],
   "source": [
    "dates = TransantiagoConstants.updateCurrentSSHDates()"
   ]
  },
  {
   "cell_type": "code",
   "execution_count": 5,
   "metadata": {
    "collapsed": true
   },
   "outputs": [],
   "source": [
    "summary_dir = TransantiagoConstants.SummaryDir\n",
    "\n",
    "selected_services_path = os.path.join(summary_dir,'0_servicios_seleccionados.xlsx')\n",
    "selected_services_df = pd.read_excel(selected_services_path)\n",
    "\n",
    "selected_services = selected_services_df.loc[:,'FINAL_CODES']\n",
    "selected_services = [str(x) for x in selected_services]"
   ]
  },
  {
   "cell_type": "code",
   "execution_count": 15,
   "metadata": {
    "collapsed": true
   },
   "outputs": [],
   "source": [
    "start_index = dates.index('2017-07-11')"
   ]
  },
  {
   "cell_type": "code",
   "execution_count": 16,
   "metadata": {
    "collapsed": true
   },
   "outputs": [],
   "source": [
    "end_index = dates.index('2017-08-27')"
   ]
  },
  {
   "cell_type": "code",
   "execution_count": 17,
   "metadata": {
    "collapsed": true
   },
   "outputs": [],
   "source": [
    "dates = dates[start_index:end_index+1]"
   ]
  },
  {
   "cell_type": "code",
   "execution_count": 18,
   "metadata": {},
   "outputs": [
    {
     "data": {
      "text/plain": [
       "['2017-07-11',\n",
       " '2017-07-12',\n",
       " '2017-07-13',\n",
       " '2017-07-14',\n",
       " '2017-07-15',\n",
       " '2017-07-16',\n",
       " '2017-07-18',\n",
       " '2017-07-19',\n",
       " '2017-08-01',\n",
       " '2017-08-02',\n",
       " '2017-08-03',\n",
       " '2017-08-04',\n",
       " '2017-08-05',\n",
       " '2017-08-06',\n",
       " '2017-08-08',\n",
       " '2017-08-09',\n",
       " '2017-08-11',\n",
       " '2017-08-12',\n",
       " '2017-08-13',\n",
       " '2017-08-14',\n",
       " '2017-08-15',\n",
       " '2017-08-17',\n",
       " '2017-08-18',\n",
       " '2017-08-19',\n",
       " '2017-08-20',\n",
       " '2017-08-21',\n",
       " '2017-08-22',\n",
       " '2017-08-23',\n",
       " '2017-08-24',\n",
       " '2017-08-25',\n",
       " '2017-08-26',\n",
       " '2017-08-27']"
      ]
     },
     "execution_count": 18,
     "metadata": {},
     "output_type": "execute_result"
    }
   ],
   "source": [
    "dates"
   ]
  },
  {
   "cell_type": "code",
   "execution_count": 19,
   "metadata": {},
   "outputs": [
    {
     "name": "stdout",
     "output_type": "stream",
     "text": [
      "2017-07-11 is being processed\n",
      "2017-07-12 is being processed\n",
      "Not found in BOTH turnstile databases: 1335554\n"
     ]
    },
    {
     "name": "stderr",
     "output_type": "stream",
     "text": [
      "C:\\Users\\Tesista\\Anaconda3\\lib\\site-packages\\pandas\\core\\indexing.py:337: SettingWithCopyWarning: \n",
      "A value is trying to be set on a copy of a slice from a DataFrame.\n",
      "Try using .loc[row_indexer,col_indexer] = value instead\n",
      "\n",
      "See the caveats in the documentation: http://pandas.pydata.org/pandas-docs/stable/indexing.html#indexing-view-versus-copy\n",
      "  self.obj[key] = _infer_fill_value(value)\n",
      "C:\\Users\\Tesista\\Anaconda3\\lib\\site-packages\\pandas\\core\\indexing.py:517: SettingWithCopyWarning: \n",
      "A value is trying to be set on a copy of a slice from a DataFrame.\n",
      "Try using .loc[row_indexer,col_indexer] = value instead\n",
      "\n",
      "See the caveats in the documentation: http://pandas.pydata.org/pandas-docs/stable/indexing.html#indexing-view-versus-copy\n",
      "  self.obj[item] = s\n"
     ]
    },
    {
     "name": "stdout",
     "output_type": "stream",
     "text": [
      "2017-07-13 is being processed\n",
      "Not found in BOTH turnstile databases: 1243924\n",
      "2017-07-14 is being processed\n",
      "Not found in BOTH turnstile databases: 1321812\n",
      "2017-07-15 is being processed\n",
      "Not found in BOTH turnstile databases: 626508\n",
      "2017-07-16 is being processed\n",
      "Not found in BOTH turnstile databases: 467141\n",
      "2017-07-18 is being processed\n",
      "Not found in BOTH turnstile databases: 1268969\n",
      "2017-07-19 is being processed\n",
      "Not found in BOTH turnstile databases: 1299965\n",
      "2017-08-01 is being processed\n",
      "Not found in BOTH turnstile databases: 1401105\n",
      "2017-08-02 is being processed\n",
      "Not found in BOTH turnstile databases: 1435747\n",
      "2017-08-03 is being processed\n",
      "Not found in BOTH turnstile databases: 1450241\n",
      "2017-08-04 is being processed\n",
      "Not found in BOTH turnstile databases: 1472091\n",
      "2017-08-05 is being processed\n",
      "Not found in BOTH turnstile databases: 928636\n",
      "2017-08-06 is being processed\n",
      "Not found in BOTH turnstile databases: 557883\n",
      "2017-08-08 is being processed\n",
      "Not found in BOTH turnstile databases: 1485697\n",
      "2017-08-09 is being processed\n",
      "Not found in BOTH turnstile databases: 1479515\n",
      "2017-08-11 is being processed\n",
      "Not found in BOTH turnstile databases: 1350968\n",
      "2017-08-12 is being processed\n",
      "Not found in BOTH turnstile databases: 858172\n",
      "2017-08-13 is being processed\n",
      "Not found in BOTH turnstile databases: 457351\n",
      "2017-08-14 is being processed\n",
      "Not found in BOTH turnstile databases: 1217552\n",
      "2017-08-15 is being processed\n",
      "Not found in BOTH turnstile databases: 562331\n",
      "2017-08-17 is being processed\n",
      "Not found in BOTH turnstile databases: 1481003\n",
      "2017-08-18 is being processed\n",
      "Not found in BOTH turnstile databases: 1499093\n",
      "2017-08-19 is being processed\n",
      "Not found in BOTH turnstile databases: 869652\n",
      "2017-08-20 is being processed\n",
      "Not found in BOTH turnstile databases: 525483\n",
      "2017-08-21 is being processed\n",
      "Not found in BOTH turnstile databases: 1486746\n",
      "2017-08-22 is being processed\n",
      "Not found in BOTH turnstile databases: 1486825\n",
      "2017-08-23 is being processed\n",
      "Not found in BOTH turnstile databases: 1477039\n",
      "2017-08-24 is being processed\n",
      "Not found in BOTH turnstile databases: 1462146\n",
      "2017-08-25 is being processed\n",
      "Not found in BOTH turnstile databases: 1493974\n",
      "2017-08-26 is being processed\n",
      "Not found in BOTH turnstile databases: 891508\n",
      "2017-08-27 is being processed\n",
      "Not found in BOTH turnstile databases: 485472\n"
     ]
    }
   ],
   "source": [
    "for date in dates:\n",
    "    print(date + ' is being processed')\n",
    "    if ((date!='2017-03-14')&(date!='2017-04-10')&(date!='2017-05-25')&(date!='2017-07-11')):\n",
    "        ### BUILDING AND PROCESSING ETAPAS ###\n",
    "        etapas_builder = DailyEtapasBuilder.RunSilentlyDailyEtapasBuilderClass(date)\n",
    "        etapas_builder.loadSimplifiedEtapas()\n",
    "        etapas_builder.mergeTurnstileData()\n",
    "        etapas_builder.cleanDataFrame() #Be aware of this, as it deletes all rows with missing values.\n",
    "        etapas_builder.sortDataFrame()\n",
    "        etapas_builder.postProcessingSortedDataFrame()\n",
    "        processed_sorted_df = etapas_builder.etapas_df\n",
    "        simplified_etapas = processed_sorted_df.loc[processed_sorted_df['servicio_subida'].str.contains('|'.join(selected_services)),:]\n",
    "        ### BUILDING AND PROCESSING PERFILES ###\n",
    "        perfiles_builder = DailyPerfilesBuilder.RunSilentlyDailyPerfilesBuilderClass(date)\n",
    "        perfiles_builder.runSimplifyPerfiles()\n",
    "        perfiles_builder.loadSimplifiedPerfiles()\n",
    "        perfiles_builder.dropParaderos()\n",
    "        perfiles_df = perfiles_builder.perfiles_df\n",
    "        simplified_perfiles = perfiles_df.loc[perfiles_df['ServicioSentido'].str.contains('|'.join(selected_services)),:]\n",
    "        ### CRITICAL ###\n",
    "        for index, row in simplified_perfiles.iterrows():\n",
    "            servicio = row['ServicioSentido']\n",
    "            patente = row['Patente']\n",
    "            Hini = row['Hini']\n",
    "            Hfin = row['Hfin']\n",
    "            idExpedicion = row['idExpedicion']\n",
    "            simplified_etapas.loc[(simplified_etapas['servicio_subida']==servicio)&(simplified_etapas['sitio_subida']==patente)&(Hini<=simplified_etapas['t_subida'])&(simplified_etapas['t_subida']<=Hfin),'idExpedicion'] = idExpedicion\n",
    "        \n",
    "        ### PRINTING TO A FILE ###\n",
    "        full_etapas_name = date + '_full_etapas.csv'\n",
    "        full_etapas_path = os.path.join(summary_dir, full_etapas_name)\n",
    "        simplified_etapas.to_csv(full_etapas_path, sep=';', encoding='latin-1')\n",
    "    else:\n",
    "        pass"
   ]
  },
  {
   "cell_type": "markdown",
   "metadata": {},
   "source": [
    "## Closed"
   ]
  }
 ],
 "metadata": {
  "kernelspec": {
   "display_name": "Python 3",
   "language": "python",
   "name": "python3"
  },
  "language_info": {
   "codemirror_mode": {
    "name": "ipython",
    "version": 3
   },
   "file_extension": ".py",
   "mimetype": "text/x-python",
   "name": "python",
   "nbconvert_exporter": "python",
   "pygments_lexer": "ipython3",
   "version": "3.6.1"
  }
 },
 "nbformat": 4,
 "nbformat_minor": 2
}
