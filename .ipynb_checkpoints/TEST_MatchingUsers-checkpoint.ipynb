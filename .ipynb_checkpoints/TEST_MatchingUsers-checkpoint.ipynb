{
 "cells": [
  {
   "cell_type": "markdown",
   "metadata": {},
   "source": [
    "#  Matching Users"
   ]
  },
  {
   "cell_type": "code",
   "execution_count": null,
   "metadata": {
    "scrolled": true
   },
   "outputs": [],
   "source": [
    "%matplotlib inline\n",
    "import pandas as pd\n",
    "import matplotlib\n",
    "import matplotlib.pyplot as plt\n",
    "import numpy as np\n",
    "from importlib import reload\n",
    "import datetime as dt\n",
    "from IPython.core.display import display, HTML\n",
    "display(HTML(\"<style>.container { width:100% !important; }</style>\"))\n",
    "\n",
    "from Utils import TransantiagoConstants\n",
    "\n",
    "first_quarter_path = \"C:/Users/leoca_000/Desktop/Evasion/01_analisis/03_datos/06_RFA/01_EvasionTrimestral/01_analisis/1st_quarter.xlsx\"\n",
    "second_quarter_path = \"C:/Users/leoca_000/Desktop/Evasion/01_analisis/03_datos/06_RFA/01_EvasionTrimestral/01_analisis/2nd_quarter.xlsx\"\n",
    "third_quarter_path = \"C:/Users/leoca_000/Desktop/Evasion/01_analisis/03_datos/06_RFA/01_EvasionTrimestral/01_analisis/3rd_quarter.xlsx\"\n",
    "codes_path = \"C:/Users/leoca_000/Desktop/Evasion/01_analisis/03_datos/04_DTPM/codes_services.xlsx\"\n",
    "\n",
    "first_quarter_evasion = pd.read_excel(first_quarter_path, encoding = 'latin-1')\n",
    "second_quarter_evasion = pd.read_excel(second_quarter_path, encoding = 'latin-1')\n",
    "third_quarter_evasion = pd.read_excel(third_quarter_path, encoding = 'latin-1')\n",
    "codes = pd.read_excel(codes_path, encoding = 'latin-1')\n",
    "\n",
    "first_quarter_evasion['TIEMPO'] = first_quarter_evasion['HORA'].astype(str)+':'+first_quarter_evasion['MINUTOS'].astype(str)+':00'\n",
    "second_quarter_evasion['TIEMPO'] = second_quarter_evasion['HORA'].astype(str)+':'+second_quarter_evasion['MINUTOS'].astype(str)+':00'\n",
    "third_quarter_evasion['TIEMPO'] = third_quarter_evasion['HORA'].astype(str)+':'+third_quarter_evasion['MINUTOS'].astype(str)+':00'\n",
    "\n",
    "first_quarter_evasion.columns = ['FECHA', 'SERVICIO','PATENTE','PUERTAS','N_PUERTA','LUGAR_INICIO','HORA_INICIO','HORA','MINUTO','INGRESAN','NO_VALIDAN','TP','TIEMPO']\n",
    "second_quarter_evasion.columns = ['FECHA', 'SERVICIO','TIPO','PATENTE','PUERTAS','N_PUERTA','LUGAR_INICIO','HORA_INICIO','HORA','MINUTO','INGRESAN','NO_VALIDAN','TP','TIEMPO']\n",
    "third_quarter_evasion.columns = ['FECHA', 'SERVICIO','PATENTE','PUERTAS','N_PUERTA','LUGAR_INICIO','HORA_INICIO','HORA','MINUTO','INGRESAN','NO_VALIDAN','TP','TIEMPO']\n",
    "del second_quarter_evasion['TIPO']\n",
    "\n",
    "codes_ida = codes[codes['DIRECTION']=='Ida']\n",
    "codes_ret = codes[codes['DIRECTION']=='Ret']\n",
    "\n",
    "codes_ida = codes_ida.rename(columns = {'USER_CODE':'SERVICIO'})\n",
    "codes_ret = codes_ret.rename(columns = {'USER_CODE':'SERVICIO'})\n",
    "\n",
    "del codes_ida['DIRECTION']\n",
    "del codes_ret['DIRECTION']"
   ]
  },
  {
   "cell_type": "code",
   "execution_count": null,
   "metadata": {
    "scrolled": false
   },
   "outputs": [],
   "source": [
    "print(type(first_quarter_evasion.loc[0,'TIEMPO'])) #should be a string\n",
    "print(type(first_quarter_evasion.loc[0,'FECHA'])) #should be a timestamp"
   ]
  },
  {
   "cell_type": "code",
   "execution_count": null,
   "metadata": {
    "collapsed": true,
    "scrolled": true
   },
   "outputs": [],
   "source": [
    "frames = [first_quarter_evasion, second_quarter_evasion, third_quarter_evasion]\n",
    "evasion = pd.concat(frames, keys=['first', 'second', 'third'])\n",
    "del evasion['LUGAR_INICIO']"
   ]
  },
  {
   "cell_type": "markdown",
   "metadata": {},
   "source": [
    "* Processing codes before merging. Merge should be made only by codes_ida or codes_ret. Be aware of it"
   ]
  },
  {
   "cell_type": "code",
   "execution_count": null,
   "metadata": {
    "scrolled": true
   },
   "outputs": [],
   "source": [
    "evasion = pd.merge(evasion,codes_ida, on=['SERVICIO'], how='left')"
   ]
  },
  {
   "cell_type": "code",
   "execution_count": null,
   "metadata": {},
   "outputs": [],
   "source": [
    "print(evasion.loc[evasion['TS_CODE'].isnull(),'SERVICIO'].unique()) #should be only D06, so the line below makes sense. Anyway, it is hardcoded so be aware.\n",
    "evasion.loc[evasion['TS_CODE'].isnull(),'TS_CODE']='446'"
   ]
  },
  {
   "cell_type": "markdown",
   "metadata": {},
   "source": [
    "* Processing evasion-ddbb before merging"
   ]
  },
  {
   "cell_type": "code",
   "execution_count": null,
   "metadata": {
    "collapsed": true
   },
   "outputs": [],
   "source": [
    "evasion['PATENTE'] =  evasion['PATENTE'].str.replace(' ','')\n",
    "\n",
    "evasion['SERVICIO_TMP'] = evasion['SERVICIO'].apply(str)\n",
    "evasion['TS_CODE_TMP'] = evasion['TS_CODE'].apply(str)\n",
    "\n",
    "del evasion['SERVICIO']\n",
    "del evasion['TS_CODE']\n",
    "\n",
    "evasion = evasion.rename(columns = {'SERVICIO_TMP':'SERVICIO_USUARIO', 'TS_CODE_TMP':'SERVICIO'})\n",
    "evasion_paradero = evasion[evasion['TP']=='P']\n",
    "evasion_paradero_first = evasion_paradero[evasion_paradero['N_PUERTA']==1]"
   ]
  },
  {
   "cell_type": "code",
   "execution_count": null,
   "metadata": {
    "scrolled": true
   },
   "outputs": [],
   "source": [
    "print(type(evasion['SERVICIO'][0])) #should be a string\n",
    "print(len(evasion.index)) #Remember to store the number\n",
    "print(len(evasion_paradero.index)) #Remember to store the number\n",
    "print(len(evasion_paradero_first.index)) #Remember to store the number"
   ]
  },
  {
   "cell_type": "markdown",
   "metadata": {},
   "source": [
    "* Filtering dates not in common dates"
   ]
  },
  {
   "cell_type": "code",
   "execution_count": null,
   "metadata": {},
   "outputs": [],
   "source": [
    "common_dates = TransantiagoConstants.common_dates\n",
    "common_dates_timestamp = [pd.to_datetime(x) for x in common_dates]\n",
    "common_dates_evasion = evasion_paradero_first[evasion_paradero_first['FECHA'].isin(common_dates_timestamp)]\n",
    "len(common_dates_evasion.index) #Remember to store the number."
   ]
  },
  {
   "cell_type": "markdown",
   "metadata": {},
   "source": [
    "* <font color='red'>Filtering for one specific common date and analyze it to refactor and debug <- this part should be omitted in the final script. Above methodology is general</font>"
   ]
  },
  {
   "cell_type": "code",
   "execution_count": null,
   "metadata": {
    "collapsed": true
   },
   "outputs": [],
   "source": [
    "example = common_dates_evasion[common_dates_evasion['FECHA']==pd.to_datetime('2017-04-11')]"
   ]
  },
  {
   "cell_type": "code",
   "execution_count": null,
   "metadata": {},
   "outputs": [],
   "source": [
    "len(example.index)"
   ]
  },
  {
   "cell_type": "code",
   "execution_count": null,
   "metadata": {
    "collapsed": true
   },
   "outputs": [],
   "source": [
    "from RunSilentlyDailyEtapasBuilder import RunSilentlyDailyEtapasBuilderClass"
   ]
  },
  {
   "cell_type": "code",
   "execution_count": null,
   "metadata": {},
   "outputs": [],
   "source": [
    "date = '2017-04-11'\n",
    "etapas_builder = RunSilentlyDailyEtapasBuilderClass(date)\n",
    "filtered_df = etapas_builder.runLightCompleteProcess()"
   ]
  },
  {
   "cell_type": "code",
   "execution_count": null,
   "metadata": {},
   "outputs": [],
   "source": [
    "len(filtered_df.index)"
   ]
  },
  {
   "cell_type": "markdown",
   "metadata": {},
   "source": [
    "* Processing filtered_df before reducing complexity"
   ]
  },
  {
   "cell_type": "code",
   "execution_count": null,
   "metadata": {
    "collapsed": true
   },
   "outputs": [],
   "source": [
    "filtered_df['servicio_subida'] =  filtered_df['servicio_subida'].str.replace('T','')\n",
    "filtered_df['servicio_subida'] =  filtered_df['servicio_subida'].str.split(' ').str[0]"
   ]
  },
  {
   "cell_type": "code",
   "execution_count": null,
   "metadata": {
    "collapsed": true
   },
   "outputs": [],
   "source": [
    "filtered_df['sitio_subida'] = filtered_df['sitio_subida'].str.replace(\"-\", \"\")\n",
    "filtered_df['sitio_subida'] = filtered_df['sitio_subida'].str.replace(\" \", \"\")"
   ]
  },
  {
   "cell_type": "markdown",
   "metadata": {},
   "source": [
    "* First: filter etapas by patentes and servicios surveyed in evasion ddbb so to reduce search space"
   ]
  },
  {
   "cell_type": "code",
   "execution_count": null,
   "metadata": {
    "collapsed": true
   },
   "outputs": [],
   "source": [
    "patentes = example['PATENTE'].unique()\n",
    "patentes = patentes.tolist()\n",
    "servicios = example['SERVICIO'].unique()\n",
    "servicios = servicios.tolist()"
   ]
  },
  {
   "cell_type": "code",
   "execution_count": null,
   "metadata": {
    "collapsed": true
   },
   "outputs": [],
   "source": [
    "clean_filtered_df = filtered_df[(filtered_df['sitio_subida'].isin(patentes))&(filtered_df['servicio_subida'].isin(servicios))]"
   ]
  },
  {
   "cell_type": "code",
   "execution_count": null,
   "metadata": {},
   "outputs": [],
   "source": [
    "len(clean_filtered_df.index)"
   ]
  },
  {
   "cell_type": "markdown",
   "metadata": {},
   "source": [
    "* Evasion should be sorted first"
   ]
  },
  {
   "cell_type": "code",
   "execution_count": null,
   "metadata": {},
   "outputs": [],
   "source": [
    "example['TIEMPO'] = example['FECHA'].dt.strftime('%Y-%m-%d') + ' ' + example['TIEMPO']"
   ]
  },
  {
   "cell_type": "code",
   "execution_count": null,
   "metadata": {},
   "outputs": [],
   "source": [
    "example['TIEMPO'] = pd.to_datetime(example['TIEMPO'])"
   ]
  },
  {
   "cell_type": "code",
   "execution_count": null,
   "metadata": {
    "collapsed": true
   },
   "outputs": [],
   "source": [
    "example = example.sort_values(by=['PATENTE', 'SERVICIO', 'TIEMPO'], ascending=[True, True, True])"
   ]
  },
  {
   "cell_type": "code",
   "execution_count": null,
   "metadata": {
    "collapsed": true
   },
   "outputs": [],
   "source": [
    "example = example.reset_index(drop =True)"
   ]
  },
  {
   "cell_type": "code",
   "execution_count": null,
   "metadata": {
    "scrolled": true
   },
   "outputs": [],
   "source": [
    "example.head(8)"
   ]
  },
  {
   "cell_type": "code",
   "execution_count": null,
   "metadata": {},
   "outputs": [],
   "source": [
    "clean_filtered_df[(clean_filtered_df['sitio_subida']=='BJFB62')&(clean_filtered_df['servicio_subida']=='507')&(clean_filtered_df['t_subida']>=pd.to_datetime('2017-04-11 15:08:00'))].head(15)"
   ]
  },
  {
   "cell_type": "code",
   "execution_count": null,
   "metadata": {},
   "outputs": [],
   "source": [
    "i = 0\n",
    "past_plate = '-'\n",
    "past_service = '-'\n",
    "\n",
    "example['total_delta']=''\n",
    "example['mean_delta']=''\n",
    "example['count_delta']=''\n",
    "example['start_cut']=''\n",
    "example['end_cut']=''\n",
    "\n",
    "for index,row in example.iterrows():\n",
    "    future_index = index+1\n",
    "    actual_plate = row['PATENTE']\n",
    "    actual_service = row['SERVICIO']\n",
    "    actual_hour = row['TIEMPO']\n",
    "    \n",
    "    if (actual_plate!=past_plate)|(actual_service!=past_service):\n",
    "        past_hour = pd.to_datetime('2017-04-11 00:00:00') #Starting hour <- consider to change this\n",
    "        \n",
    "    if past_hour == pd.to_datetime('2017-04-11 00:00:00'): #Assuming a pre-defined value, i.e., 1 minute.\n",
    "        start_cut = actual_hour - (pd.to_datetime('2017-04-11 00:02:00') - pd.to_datetime('2017-04-11 00:01:00'))\n",
    "    else:\n",
    "        start_cut = actual_hour - (actual_hour - past_hour)/2\n",
    "    \n",
    "    if future_index >= len(example.index): #We are at the end of the ddff. Assuming a pre-defined value, i.e., 1 minute.\n",
    "        end_cut = actual_hour + (pd.to_datetime('2017-04-11 00:02:00') - pd.to_datetime('2017-04-11 00:01:00'))\n",
    "    else:\n",
    "        future_hour = example.loc[future_index,'TIEMPO']\n",
    "        end_cut = actual_hour + (future_hour - actual_hour)/2  \n",
    "\n",
    "    util_df = clean_filtered_df[(clean_filtered_df['sitio_subida']==actual_plate)&(clean_filtered_df['servicio_subida']==actual_service)&((start_cut<=clean_filtered_df['t_subida'])&(clean_filtered_df['t_subida']<=end_cut))]\n",
    "    \n",
    "    total_delta = util_df['diferencia_tiempo_secs'].sum()\n",
    "    mean_delta = util_df['diferencia_tiempo_secs'].mean()\n",
    "    count_delta = util_df['diferencia_tiempo_secs'].count() \n",
    "    \n",
    "    example.loc[index,'total_delta'] = total_delta\n",
    "    example.loc[index,'mean_delta'] = mean_delta\n",
    "    example.loc[index,'count_delta'] = count_delta\n",
    "    example.loc[index,'start_cut']=start_cut\n",
    "    example.loc[index,'end_cut']=end_cut\n",
    "    \n",
    "    past_plate = actual_plate\n",
    "    past_service = actual_service\n",
    "    past_hour = actual_hour\n",
    "    \n",
    "    i=i+1\n",
    "#    if (actual_plate == 'ZN6539')&(actual_service=='109'):\n",
    "#        print(i)\n",
    "#        print(start_cut)\n",
    "#        print(end_cut)\n",
    "\n",
    "#        break"
   ]
  },
  {
   "cell_type": "markdown",
   "metadata": {},
   "source": [
    "# TEST METHODOLOGY"
   ]
  },
  {
   "cell_type": "code",
   "execution_count": null,
   "metadata": {},
   "outputs": [],
   "source": [
    "example.head(10)"
   ]
  },
  {
   "cell_type": "markdown",
   "metadata": {},
   "source": [
    "* Above table shows:\n",
    "- PATENTE == BJFB62 & TIEMPO == 2017-04-11 15:10:00 & SERVICIO == 507 > sum = 08, mean = 2.66667, count = 3 > check them in clean_filtered_df.loc[182369:182380] > <font color='green'>Test passed</font>\n",
    "- PATENTE == BJFB62 & TIEMPO == 2017-04-11 15:32:00 & SERVICIO == 507 > sum = 13, mean = 6.50000, count = 2 > check them in clean_filtered_df.loc[182388:182395] > <font color='green'>Test passed, although incorrectly assignment</font>"
   ]
  },
  {
   "cell_type": "code",
   "execution_count": null,
   "metadata": {},
   "outputs": [],
   "source": [
    "clean_filtered_df.loc[182369:182380]"
   ]
  },
  {
   "cell_type": "code",
   "execution_count": null,
   "metadata": {},
   "outputs": [],
   "source": [
    "clean_filtered_df.loc[182388:182395]"
   ]
  },
  {
   "cell_type": "code",
   "execution_count": null,
   "metadata": {
    "scrolled": true
   },
   "outputs": [],
   "source": [
    "example.tail(10)"
   ]
  },
  {
   "cell_type": "markdown",
   "metadata": {},
   "source": [
    "* Above table shows:\n",
    "- PATENTE == ZN6539 & TIEMPO == 2017-04-11 14:31:00 & SERVICIO == 109 > sum = 08, mean = 04, count = 02 > check them in clean_filtered_df.loc[2527175:2527180] > <font color='green'>Test passed</font>\n",
    "- PATENTE == ZN6539\t& TIEMPO == 2017-04-11 14:37:00 & SERVICIO == 109 > sum = 21, mean = 21, count = 01 > check them in clean_filtered_df.loc[2527178:2527187] > <font color='green'>Test passed</font>"
   ]
  },
  {
   "cell_type": "code",
   "execution_count": null,
   "metadata": {},
   "outputs": [],
   "source": [
    "clean_filtered_df.loc[2527175:2527180]"
   ]
  },
  {
   "cell_type": "code",
   "execution_count": null,
   "metadata": {},
   "outputs": [],
   "source": [
    "clean_filtered_df.loc[2527178:2527187]"
   ]
  }
 ],
 "metadata": {
  "kernelspec": {
   "display_name": "Python 3",
   "language": "python",
   "name": "python3"
  },
  "language_info": {
   "codemirror_mode": {
    "name": "ipython",
    "version": 3
   },
   "file_extension": ".py",
   "mimetype": "text/x-python",
   "name": "python",
   "nbconvert_exporter": "python",
   "pygments_lexer": "ipython3",
   "version": "3.6.1"
  }
 },
 "nbformat": 4,
 "nbformat_minor": 2
}
