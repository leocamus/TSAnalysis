{
 "cells": [
  {
   "cell_type": "markdown",
   "metadata": {},
   "source": [
    "### Reducing etapas"
   ]
  },
  {
   "cell_type": "code",
   "execution_count": 1,
   "metadata": {},
   "outputs": [
    {
     "data": {
      "text/html": [
       "<style>.container { width:80% !important; }</style>"
      ],
      "text/plain": [
       "<IPython.core.display.HTML object>"
      ]
     },
     "metadata": {},
     "output_type": "display_data"
    }
   ],
   "source": [
    "%matplotlib inline\n",
    "from IPython.core.display import display, HTML\n",
    "display(HTML(\"<style>.container { width:80% !important; }</style>\"))\n",
    "\n",
    "import pandas as pd\n",
    "import matplotlib\n",
    "import matplotlib.pyplot as plt\n",
    "import matplotlib.dates as mdates\n",
    "import numpy as np\n",
    "import datetime as dt\n",
    "import time\n",
    "\n",
    "from importlib import reload\n",
    "from Utils import TransantiagoConstants\n",
    "from RunSilentlyDailyEtapasBuilder import RunSilentlyDailyEtapasBuilderClass"
   ]
  },
  {
   "cell_type": "code",
   "execution_count": 2,
   "metadata": {
    "collapsed": true
   },
   "outputs": [],
   "source": [
    "common_dates = TransantiagoConstants.common_dates"
   ]
  },
  {
   "cell_type": "code",
   "execution_count": 3,
   "metadata": {
    "collapsed": true
   },
   "outputs": [],
   "source": [
    "torniquetesDataPath = \"C:/Users/Tesista/Desktop/Evasion/01_analisis/03_datos/03_BUSESTORNIQUETE/Avance_Consolidado_v2.xlsx\"\n",
    "busesTorniquete_df = pd.read_excel(torniquetesDataPath, encoding = 'latin-1')\n",
    "busesTorniquete_df.columns=['sitio_subida','fecha_instalacion']"
   ]
  },
  {
   "cell_type": "code",
   "execution_count": 4,
   "metadata": {},
   "outputs": [
    {
     "name": "stdout",
     "output_type": "stream",
     "text": [
      "Not found in turnstile database: 1795630\n",
      "Not found in turnstile database: 1832615\n",
      "Not found in turnstile database: 1842842\n",
      "Not found in turnstile database: 1821215\n",
      "Not found in turnstile database: 1829611\n",
      "Not found in turnstile database: 1889530\n",
      "Not found in turnstile database: 1869904\n",
      "Not found in turnstile database: 517700\n",
      "Not found in turnstile database: 1764405\n",
      "Not found in turnstile database: 1680579\n",
      "Not found in turnstile database: 1560500\n",
      "Not found in turnstile database: 1598721\n",
      "Not found in turnstile database: 1637796\n",
      "Not found in turnstile database: 1876347\n",
      "Not found in turnstile database: 1867643\n",
      "Not found in turnstile database: 1873694\n",
      "Not found in turnstile database: 1877006\n",
      "Not found in turnstile database: 1842523\n"
     ]
    }
   ],
   "source": [
    "for date in common_dates:\n",
    "    etapas_builder = RunSilentlyDailyEtapasBuilderClass(date)\n",
    "    [etapas_df, processed_sorted_df, filtered_df, filtered_turnstile_df, filtered_no_turnstile_df]=etapas_builder.runCompleteProcess()\n",
    "    filtered_df = filtered_df[filtered_df['diferencia_tiempo_secs']<=20]\n",
    "    filtered_df['servicio_subida'] =  filtered_df['servicio_subida'].str.replace('T','')\n",
    "    filtered_df['servicio_subida'] =  filtered_df['servicio_subida'].str.split(' ').str[0]\n",
    "    diferencia_tiempo_secs_by_bus = filtered_df.groupby(['sitio_subida','servicio_subida'])['diferencia_tiempo_secs'].mean()\n",
    "    diferencia_tiempo_secs_by_bus = diferencia_tiempo_secs_by_bus.to_frame()\n",
    "    diferencia_tiempo_secs_by_bus['fecha'] = date\n",
    "    diferencia_tiempo_secs_by_bus.reset_index(inplace=True)\n",
    "    merged_turnstiles_df = pd.merge(diferencia_tiempo_secs_by_bus,busesTorniquete_df, on='sitio_subida', how='left')\n",
    "    base_output_path = 'C:/Users/Tesista/Desktop/Evasion/01_analisis/03_datos/01_SSH/01_TIMESBYBUS/02_20SECS/'\n",
    "    file_name = date + '-meanByBusByService.csv'\n",
    "    merged_turnstiles_df.to_csv(base_output_path+file_name,sep =\";\")"
   ]
  },
  {
   "cell_type": "markdown",
   "metadata": {},
   "source": [
    "### Closed"
   ]
  }
 ],
 "metadata": {
  "kernelspec": {
   "display_name": "Python 3",
   "language": "python",
   "name": "python3"
  },
  "language_info": {
   "codemirror_mode": {
    "name": "ipython",
    "version": 3
   },
   "file_extension": ".py",
   "mimetype": "text/x-python",
   "name": "python",
   "nbconvert_exporter": "python",
   "pygments_lexer": "ipython3",
   "version": "3.6.1"
  }
 },
 "nbformat": 4,
 "nbformat_minor": 2
}
