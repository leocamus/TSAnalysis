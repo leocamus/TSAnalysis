{
 "cells": [
  {
   "cell_type": "markdown",
   "metadata": {},
   "source": [
    "# Building Histograms"
   ]
  },
  {
   "cell_type": "markdown",
   "metadata": {},
   "source": [
    "### How to run this notebook:\n",
    "* Give date and type of vehicle as arguments\n",
    "* If simplified etapas file does not exist, then run RunDailyEtapasBuilder.runSimplifyEtapas(). If it already exists, then omit it\n",
    "* If simplified perfiles file does not exist, then run RunDailyEtapasBuilder.runSimplifyPerfiles(). If it already exists, then omit it."
   ]
  },
  {
   "cell_type": "markdown",
   "metadata": {},
   "source": [
    "Run the builder in this order:\n",
    "1. etapas_df = RunDailyEtapasBuilder.loadSimplifiedEtapas()\n",
    "2. merged_df = RunDailyEtapasBuilder.includeTorniquetesDate(etapas_df)\n",
    "3. clean_df = RunDailyEtapasBuilder.cleanDataFrame(merged_df)\n",
    "4. sorted_df = RunDailyEtapasBuilder.sortDataFrame(clean_df)"
   ]
  },
  {
   "cell_type": "code",
   "execution_count": 1,
   "metadata": {
    "collapsed": true,
    "scrolled": true
   },
   "outputs": [],
   "source": [
    "%matplotlib inline\n",
    "import pandas as pd\n",
    "import matplotlib\n",
    "import matplotlib.pyplot as plt\n",
    "import numpy as np\n",
    "from importlib import reload\n",
    "import datetime"
   ]
  },
  {
   "cell_type": "code",
   "execution_count": 2,
   "metadata": {},
   "outputs": [
    {
     "name": "stdout",
     "output_type": "stream",
     "text": [
      "Enter the date to analyze: 2017-07-19\n",
      "Enter the vehicle to analyze: BUS\n",
      "Consider ZP in perfiles file (0/1)?: 0\n"
     ]
    }
   ],
   "source": [
    "import RunDailyEtapasBuilder"
   ]
  },
  {
   "cell_type": "markdown",
   "metadata": {},
   "source": [
    "* Running the builder of the dataframe"
   ]
  },
  {
   "cell_type": "code",
   "execution_count": 3,
   "metadata": {},
   "outputs": [
    {
     "name": "stdout",
     "output_type": "stream",
     "text": [
      "Not found in turnstile database: 1637796\n"
     ]
    }
   ],
   "source": [
    "#RunDailyEtapasBuilder.runSimplifyEtapas()\n",
    "etapas_df = RunDailyEtapasBuilder.loadSimplifiedEtapas()\n",
    "merged_df = RunDailyEtapasBuilder.mergeTurnstileData(etapas_df)\n",
    "clean_df = RunDailyEtapasBuilder.cleanDataFrame(merged_df)\n",
    "sorted_df = RunDailyEtapasBuilder.sortDataFrame(clean_df)\n",
    "sorted_df = sorted_df.reset_index()"
   ]
  },
  {
   "cell_type": "markdown",
   "metadata": {},
   "source": [
    "* Counting."
   ]
  },
  {
   "cell_type": "code",
   "execution_count": 4,
   "metadata": {},
   "outputs": [
    {
     "name": "stdout",
     "output_type": "stream",
     "text": [
      "2361310\n",
      "2361310\n",
      "2326044\n",
      "2326044\n"
     ]
    }
   ],
   "source": [
    "print(etapas_df['id'].count())\n",
    "print(merged_df['id'].count())\n",
    "print(clean_df['id'].count())\n",
    "print(sorted_df['id'].count())"
   ]
  },
  {
   "cell_type": "markdown",
   "metadata": {},
   "source": [
    "* Adding necessary attributes"
   ]
  },
  {
   "cell_type": "code",
   "execution_count": 5,
   "metadata": {
    "collapsed": true
   },
   "outputs": [],
   "source": [
    "sorted_df['mismo_paradero'] = (sorted_df['par_subida']==sorted_df['par_subida'].shift()).fillna(False)\n",
    "sorted_df['misma_patente'] = (sorted_df['sitio_subida']==sorted_df['sitio_subida'].shift()).fillna(False)\n",
    "sorted_df['mismo_servicio'] = (sorted_df['servicio_subida']==sorted_df['servicio_subida'].shift()).fillna(False)\n",
    "\n",
    "sorted_df.loc[(sorted_df.mismo_servicio == True) & (sorted_df.mismo_paradero == True) & (sorted_df.misma_patente == True), 'diferencia_tiempo'] = (sorted_df['t_subida']-sorted_df['t_subida'].shift())\n",
    "\n",
    "sorted_df['diferencia_tiempo_secs'] = sorted_df['diferencia_tiempo'].dt.total_seconds()\n",
    "sorted_df['si_torniquete'] = (sorted_df['fecha_instalacion']<=sorted_df['t_subida'])\n",
    "sorted_df['si_2017_torniquete'] = ((sorted_df['fecha_instalacion']<=sorted_df['t_subida'])&(sorted_df['fecha_instalacion']>=pd.to_datetime('2017-01-01')))"
   ]
  },
  {
   "cell_type": "markdown",
   "metadata": {},
   "source": [
    "* Filtering by mismo_paradero, misma_patente and by si_torniquete. This is a key part"
   ]
  },
  {
   "cell_type": "code",
   "execution_count": 6,
   "metadata": {
    "collapsed": true
   },
   "outputs": [],
   "source": [
    "filtered_df = sorted_df[(sorted_df.mismo_servicio==True) & (sorted_df.mismo_paradero==True) & (sorted_df.misma_patente==True)]\n",
    "filtered_turnstile_df = filtered_df[filtered_df.si_2017_torniquete==True]\n",
    "filtered_no_turnstile_df = filtered_df[filtered_df.si_torniquete==False]"
   ]
  },
  {
   "cell_type": "markdown",
   "metadata": {},
   "source": [
    "* Counting and checking"
   ]
  },
  {
   "cell_type": "code",
   "execution_count": 7,
   "metadata": {
    "scrolled": true
   },
   "outputs": [
    {
     "name": "stdout",
     "output_type": "stream",
     "text": [
      "1427569\n",
      "176655\n",
      "998532\n",
      "1175187\n"
     ]
    }
   ],
   "source": [
    "print(filtered_df['id'].count())\n",
    "print(filtered_turnstile_df['id'].count())\n",
    "print(filtered_no_turnstile_df['id'].count())\n",
    "checking = filtered_turnstile_df['id'].count() + filtered_no_turnstile_df['id'].count()\n",
    "print(checking)"
   ]
  },
  {
   "cell_type": "markdown",
   "metadata": {},
   "source": [
    "* Getting rid of unecessary dataframes"
   ]
  },
  {
   "cell_type": "code",
   "execution_count": 8,
   "metadata": {
    "collapsed": true,
    "scrolled": false
   },
   "outputs": [],
   "source": [
    "del etapas_df\n",
    "del merged_df\n",
    "del clean_df"
   ]
  },
  {
   "cell_type": "markdown",
   "metadata": {},
   "source": [
    "TODO: Currently, there are rows with extremely high values for the 'diferencia_tiempo' attribute (e.g. >=25 mins). <strong>Be aware of this</strong>. <strike>This should be fixed considering the idExpedicion attribute present in the corresponding 'perfiles' database. The following graphs and descriptive statistics consider only the 95th percentile for the 'diferencia_tiempo_secs' attribute.</strike>"
   ]
  },
  {
   "cell_type": "markdown",
   "metadata": {},
   "source": [
    "### Filtering by diferencia_tiempo<=97th percentile in the corresponding databases. <font color=\"red\">BE AWARE.</font>"
   ]
  },
  {
   "cell_type": "code",
   "execution_count": 9,
   "metadata": {},
   "outputs": [
    {
     "name": "stdout",
     "output_type": "stream",
     "text": [
      "Percentile 97th for 2017-turnstile database is: 0 days 00:00:26\n",
      "Percentile 97th for without_turnstile database is: 0 days 00:00:26\n"
     ]
    }
   ],
   "source": [
    "turnstile_97 = filtered_turnstile_df.diferencia_tiempo.quantile(0.97)\n",
    "print ('Percentile 97th for 2017-turnstile database is: ' + str(turnstile_97))\n",
    "no_turnstile_97 = filtered_no_turnstile_df.diferencia_tiempo.quantile(0.97)\n",
    "print('Percentile 97th for without_turnstile database is: ' + str(no_turnstile_97))"
   ]
  },
  {
   "cell_type": "code",
   "execution_count": 10,
   "metadata": {
    "collapsed": true
   },
   "outputs": [],
   "source": [
    "turnstile_97_df = filtered_turnstile_df[filtered_turnstile_df.diferencia_tiempo<=turnstile_97]"
   ]
  },
  {
   "cell_type": "code",
   "execution_count": 11,
   "metadata": {
    "collapsed": true
   },
   "outputs": [],
   "source": [
    "no_turnstile_97_df = filtered_no_turnstile_df[filtered_no_turnstile_df.diferencia_tiempo<=no_turnstile_97]"
   ]
  },
  {
   "cell_type": "code",
   "execution_count": 12,
   "metadata": {
    "scrolled": false
   },
   "outputs": [
    {
     "data": {
      "text/html": [
       "<div>\n",
       "<style>\n",
       "    .dataframe thead tr:only-child th {\n",
       "        text-align: right;\n",
       "    }\n",
       "\n",
       "    .dataframe thead th {\n",
       "        text-align: left;\n",
       "    }\n",
       "\n",
       "    .dataframe tbody tr th {\n",
       "        vertical-align: top;\n",
       "    }\n",
       "</style>\n",
       "<table border=\"1\" class=\"dataframe\">\n",
       "  <thead>\n",
       "    <tr style=\"text-align: right;\">\n",
       "      <th></th>\n",
       "      <th>index</th>\n",
       "      <th>id</th>\n",
       "      <th>nviaje</th>\n",
       "      <th>diferencia_tiempo</th>\n",
       "      <th>diferencia_tiempo_secs</th>\n",
       "    </tr>\n",
       "  </thead>\n",
       "  <tbody>\n",
       "    <tr>\n",
       "      <th>count</th>\n",
       "      <td>171439.000</td>\n",
       "      <td>1.714390e+05</td>\n",
       "      <td>171439.000</td>\n",
       "      <td>171439</td>\n",
       "      <td>171439.000</td>\n",
       "    </tr>\n",
       "    <tr>\n",
       "      <th>mean</th>\n",
       "      <td>1164689.612</td>\n",
       "      <td>1.841129e+09</td>\n",
       "      <td>1.602</td>\n",
       "      <td>0 days 00:00:05.826748</td>\n",
       "      <td>5.827</td>\n",
       "    </tr>\n",
       "    <tr>\n",
       "      <th>std</th>\n",
       "      <td>688136.413</td>\n",
       "      <td>1.412185e+09</td>\n",
       "      <td>0.851</td>\n",
       "      <td>0 days 00:00:03.942299</td>\n",
       "      <td>3.942</td>\n",
       "    </tr>\n",
       "    <tr>\n",
       "      <th>min</th>\n",
       "      <td>0.000</td>\n",
       "      <td>1.091258e+06</td>\n",
       "      <td>1.000</td>\n",
       "      <td>0 days 00:00:00</td>\n",
       "      <td>0.000</td>\n",
       "    </tr>\n",
       "    <tr>\n",
       "      <th>25%</th>\n",
       "      <td>565922.500</td>\n",
       "      <td>4.243288e+08</td>\n",
       "      <td>1.000</td>\n",
       "      <td>0 days 00:00:04</td>\n",
       "      <td>4.000</td>\n",
       "    </tr>\n",
       "    <tr>\n",
       "      <th>50%</th>\n",
       "      <td>1165210.000</td>\n",
       "      <td>1.936278e+09</td>\n",
       "      <td>1.000</td>\n",
       "      <td>0 days 00:00:05</td>\n",
       "      <td>5.000</td>\n",
       "    </tr>\n",
       "    <tr>\n",
       "      <th>75%</th>\n",
       "      <td>1759257.000</td>\n",
       "      <td>3.169597e+09</td>\n",
       "      <td>2.000</td>\n",
       "      <td>0 days 00:00:07</td>\n",
       "      <td>7.000</td>\n",
       "    </tr>\n",
       "    <tr>\n",
       "      <th>max</th>\n",
       "      <td>2361291.000</td>\n",
       "      <td>4.293088e+09</td>\n",
       "      <td>13.000</td>\n",
       "      <td>0 days 00:00:26</td>\n",
       "      <td>26.000</td>\n",
       "    </tr>\n",
       "  </tbody>\n",
       "</table>\n",
       "</div>"
      ],
      "text/plain": [
       "             index            id      nviaje       diferencia_tiempo  \\\n",
       "count   171439.000  1.714390e+05  171439.000                  171439   \n",
       "mean   1164689.612  1.841129e+09       1.602  0 days 00:00:05.826748   \n",
       "std     688136.413  1.412185e+09       0.851  0 days 00:00:03.942299   \n",
       "min          0.000  1.091258e+06       1.000         0 days 00:00:00   \n",
       "25%     565922.500  4.243288e+08       1.000         0 days 00:00:04   \n",
       "50%    1165210.000  1.936278e+09       1.000         0 days 00:00:05   \n",
       "75%    1759257.000  3.169597e+09       2.000         0 days 00:00:07   \n",
       "max    2361291.000  4.293088e+09      13.000         0 days 00:00:26   \n",
       "\n",
       "       diferencia_tiempo_secs  \n",
       "count              171439.000  \n",
       "mean                    5.827  \n",
       "std                     3.942  \n",
       "min                     0.000  \n",
       "25%                     4.000  \n",
       "50%                     5.000  \n",
       "75%                     7.000  \n",
       "max                    26.000  "
      ]
     },
     "execution_count": 12,
     "metadata": {},
     "output_type": "execute_result"
    }
   ],
   "source": [
    "turnstile_97_df.describe().round(3)"
   ]
  },
  {
   "cell_type": "code",
   "execution_count": 13,
   "metadata": {},
   "outputs": [
    {
     "data": {
      "text/html": [
       "<div>\n",
       "<style>\n",
       "    .dataframe thead tr:only-child th {\n",
       "        text-align: right;\n",
       "    }\n",
       "\n",
       "    .dataframe thead th {\n",
       "        text-align: left;\n",
       "    }\n",
       "\n",
       "    .dataframe tbody tr th {\n",
       "        vertical-align: top;\n",
       "    }\n",
       "</style>\n",
       "<table border=\"1\" class=\"dataframe\">\n",
       "  <thead>\n",
       "    <tr style=\"text-align: right;\">\n",
       "      <th></th>\n",
       "      <th>index</th>\n",
       "      <th>id</th>\n",
       "      <th>nviaje</th>\n",
       "      <th>diferencia_tiempo</th>\n",
       "      <th>diferencia_tiempo_secs</th>\n",
       "    </tr>\n",
       "  </thead>\n",
       "  <tbody>\n",
       "    <tr>\n",
       "      <th>count</th>\n",
       "      <td>969838.000</td>\n",
       "      <td>9.698380e+05</td>\n",
       "      <td>969838.000</td>\n",
       "      <td>969838</td>\n",
       "      <td>969838.000</td>\n",
       "    </tr>\n",
       "    <tr>\n",
       "      <th>mean</th>\n",
       "      <td>1185025.333</td>\n",
       "      <td>1.876182e+09</td>\n",
       "      <td>1.649</td>\n",
       "      <td>0 days 00:00:03.671872</td>\n",
       "      <td>3.672</td>\n",
       "    </tr>\n",
       "    <tr>\n",
       "      <th>std</th>\n",
       "      <td>679280.591</td>\n",
       "      <td>1.403204e+09</td>\n",
       "      <td>0.874</td>\n",
       "      <td>0 days 00:00:03.721403</td>\n",
       "      <td>3.721</td>\n",
       "    </tr>\n",
       "    <tr>\n",
       "      <th>min</th>\n",
       "      <td>1.000</td>\n",
       "      <td>1.091258e+06</td>\n",
       "      <td>1.000</td>\n",
       "      <td>0 days 00:00:00</td>\n",
       "      <td>0.000</td>\n",
       "    </tr>\n",
       "    <tr>\n",
       "      <th>25%</th>\n",
       "      <td>601351.250</td>\n",
       "      <td>4.270615e+08</td>\n",
       "      <td>1.000</td>\n",
       "      <td>0 days 00:00:02</td>\n",
       "      <td>2.000</td>\n",
       "    </tr>\n",
       "    <tr>\n",
       "      <th>50%</th>\n",
       "      <td>1185153.500</td>\n",
       "      <td>2.036011e+09</td>\n",
       "      <td>1.000</td>\n",
       "      <td>0 days 00:00:03</td>\n",
       "      <td>3.000</td>\n",
       "    </tr>\n",
       "    <tr>\n",
       "      <th>75%</th>\n",
       "      <td>1771435.750</td>\n",
       "      <td>3.170951e+09</td>\n",
       "      <td>2.000</td>\n",
       "      <td>0 days 00:00:04</td>\n",
       "      <td>4.000</td>\n",
       "    </tr>\n",
       "    <tr>\n",
       "      <th>max</th>\n",
       "      <td>2361308.000</td>\n",
       "      <td>4.293295e+09</td>\n",
       "      <td>22.000</td>\n",
       "      <td>0 days 00:00:26</td>\n",
       "      <td>26.000</td>\n",
       "    </tr>\n",
       "  </tbody>\n",
       "</table>\n",
       "</div>"
      ],
      "text/plain": [
       "             index            id      nviaje       diferencia_tiempo  \\\n",
       "count   969838.000  9.698380e+05  969838.000                  969838   \n",
       "mean   1185025.333  1.876182e+09       1.649  0 days 00:00:03.671872   \n",
       "std     679280.591  1.403204e+09       0.874  0 days 00:00:03.721403   \n",
       "min          1.000  1.091258e+06       1.000         0 days 00:00:00   \n",
       "25%     601351.250  4.270615e+08       1.000         0 days 00:00:02   \n",
       "50%    1185153.500  2.036011e+09       1.000         0 days 00:00:03   \n",
       "75%    1771435.750  3.170951e+09       2.000         0 days 00:00:04   \n",
       "max    2361308.000  4.293295e+09      22.000         0 days 00:00:26   \n",
       "\n",
       "       diferencia_tiempo_secs  \n",
       "count              969838.000  \n",
       "mean                    3.672  \n",
       "std                     3.721  \n",
       "min                     0.000  \n",
       "25%                     2.000  \n",
       "50%                     3.000  \n",
       "75%                     4.000  \n",
       "max                    26.000  "
      ]
     },
     "execution_count": 13,
     "metadata": {},
     "output_type": "execute_result"
    }
   ],
   "source": [
    "no_turnstile_97_df.describe().round(3)"
   ]
  },
  {
   "cell_type": "markdown",
   "metadata": {},
   "source": [
    "* Plotting"
   ]
  },
  {
   "cell_type": "code",
   "execution_count": 14,
   "metadata": {
    "collapsed": true
   },
   "outputs": [],
   "source": [
    "turns_vals = turnstile_97_df.diferencia_tiempo_secs.values\n",
    "no_turns_vals = no_turnstile_97_df.diferencia_tiempo_secs.values\n",
    "max_97 = max(turnstile_97,no_turnstile_97).total_seconds()\n",
    "bins = range(0,int(max_97),1)"
   ]
  },
  {
   "cell_type": "code",
   "execution_count": 15,
   "metadata": {
    "collapsed": true
   },
   "outputs": [],
   "source": [
    "colors = [(85,98,112),(78,205,196),(199,244,100),(255,107,107),(196,77,88)]\n",
    "for i in range(len(colors)):\n",
    "    r, g, b = colors[i]  \n",
    "    colors[i] = (r / 255., g / 255., b / 255.)"
   ]
  },
  {
   "cell_type": "code",
   "execution_count": 16,
   "metadata": {
    "scrolled": true
   },
   "outputs": [
    {
     "data": {
      "image/png": "[encoded data removed]",
      "text/plain": [
       "<matplotlib.figure.Figure at 0x21f750bf080>"
      ]
     },
     "metadata": {},
     "output_type": "display_data"
    }
   ],
   "source": [
    "hist_fig, ax = plt.subplots()\n",
    "\n",
    "plot1 = ax.hist(turns_vals,normed=True,bins=bins,color=colors[3], alpha=0.8, label='with 2017 turnstiles')\n",
    "plot2 = ax.hist(no_turns_vals,normed=True,bins=bins,color=colors[0], alpha = 0.8, label='without turnstiles')\n",
    "\n",
    "\n",
    "ax.set_title('Time-interval between transactions (97th)')\n",
    "ax.set_xlabel('time-interval[s]')\n",
    "ax.set_ylabel('Relative Frequency')\n",
    "ax.legend()\n",
    "plt.savefig('C:/Users/Tesista/Desktop/Evasion/03_report/02_Figs/2_daily2017-07-19.pdf')"
   ]
  },
  {
   "cell_type": "code",
   "execution_count": 17,
   "metadata": {
    "collapsed": true
   },
   "outputs": [],
   "source": [
    "import scipy as sp\n",
    "import scipy.stats\n",
    "\n",
    "def mean_confidence_interval(data, confidence=0.95):\n",
    "    a = 1.0*np.array(data)\n",
    "    n = len(a)\n",
    "    m, se = np.mean(a), scipy.stats.sem(a)\n",
    "    h = se * sp.stats.t.ppf((1+confidence)/2., n-1)\n",
    "    return h, m-h, m, m+h"
   ]
  },
  {
   "cell_type": "code",
   "execution_count": 18,
   "metadata": {},
   "outputs": [
    {
     "data": {
      "text/plain": [
       "(0.018661473919037299,\n",
       " 5.808087398857869,\n",
       " 5.8267488727769061,\n",
       " 5.8454103466959433)"
      ]
     },
     "execution_count": 18,
     "metadata": {},
     "output_type": "execute_result"
    }
   ],
   "source": [
    "mean_confidence_interval(turnstile_97_df['diferencia_tiempo_secs'])"
   ]
  },
  {
   "cell_type": "code",
   "execution_count": 19,
   "metadata": {},
   "outputs": [
    {
     "data": {
      "text/plain": [
       "(0.0074063770114209653,\n",
       " 3.6644656263540898,\n",
       " 3.6718720033655106,\n",
       " 3.6792783803769313)"
      ]
     },
     "execution_count": 19,
     "metadata": {},
     "output_type": "execute_result"
    }
   ],
   "source": [
    "mean_confidence_interval(no_turnstile_97_df['diferencia_tiempo_secs'])"
   ]
  },
  {
   "cell_type": "markdown",
   "metadata": {},
   "source": [
    "### Closed"
   ]
  }
 ],
 "metadata": {
  "kernelspec": {
   "display_name": "Python 3",
   "language": "python",
   "name": "python3"
  },
  "language_info": {
   "codemirror_mode": {
    "name": "ipython",
    "version": 3
   },
   "file_extension": ".py",
   "mimetype": "text/x-python",
   "name": "python",
   "nbconvert_exporter": "python",
   "pygments_lexer": "ipython3",
   "version": "3.6.1"
  }
 },
 "nbformat": 4,
 "nbformat_minor": 2
}
