{
 "cells": [
  {
   "cell_type": "markdown",
   "metadata": {},
   "source": [
    "# Building Histograms"
   ]
  },
  {
   "cell_type": "markdown",
   "metadata": {},
   "source": [
    "### How to run this notebook:\n",
    "* Give date and type of vehicle as arguments\n",
    "* If simplified etapas file does not exist, then run RunDailyEtapasBuilder.runSimplifyEtapas(). If it already exists, then omit it\n",
    "* If simplified perfiles file does not exist, then run RunDailyEtapasBuilder.runSimplifyPerfiles(). If it already exists, then omit it."
   ]
  },
  {
   "cell_type": "markdown",
   "metadata": {},
   "source": [
    "Run the builder in this order:\n",
    "1. etapas_df = RunDailyEtapasBuilder.loadSimplifiedEtapas()\n",
    "2. merged_df = RunDailyEtapasBuilder.includeTorniquetesDate(etapas_df)\n",
    "3. clean_df = RunDailyEtapasBuilder.cleanDataFrame(merged_df)\n",
    "4. sorted_df = RunDailyEtapasBuilder.sortDataFrame(clean_df)"
   ]
  },
  {
   "cell_type": "code",
   "execution_count": 1,
   "metadata": {
    "collapsed": true,
    "scrolled": true
   },
   "outputs": [],
   "source": [
    "%matplotlib inline\n",
    "import pandas as pd\n",
    "import matplotlib\n",
    "import matplotlib.pyplot as plt\n",
    "import numpy as np\n",
    "from importlib import reload\n",
    "import datetime"
   ]
  },
  {
   "cell_type": "code",
   "execution_count": 2,
   "metadata": {},
   "outputs": [
    {
     "name": "stdout",
     "output_type": "stream",
     "text": [
      "Enter the date to analyze: 2017-03-01\n",
      "Enter the vehicle to analyze: BUS\n",
      "Consider ZP in perfiles file (0/1)?: 0\n"
     ]
    }
   ],
   "source": [
    "import RunDailyEtapasBuilder"
   ]
  },
  {
   "cell_type": "markdown",
   "metadata": {},
   "source": [
    "* Running the builder of the dataframe"
   ]
  },
  {
   "cell_type": "code",
   "execution_count": 3,
   "metadata": {},
   "outputs": [
    {
     "name": "stdout",
     "output_type": "stream",
     "text": [
      "Not found in turnstile database: 1614656\n"
     ]
    }
   ],
   "source": [
    "#RunDailyEtapasBuilder.runSimplifyEtapas()\n",
    "etapas_df = RunDailyEtapasBuilder.loadSimplifiedEtapas()\n",
    "merged_df = RunDailyEtapasBuilder.mergeTurnstileData(etapas_df)\n",
    "clean_df = RunDailyEtapasBuilder.cleanDataFrame(merged_df)\n",
    "sorted_df = RunDailyEtapasBuilder.sortDataFrame(clean_df)\n",
    "sorted_df = sorted_df.reset_index()"
   ]
  },
  {
   "cell_type": "markdown",
   "metadata": {},
   "source": [
    "* Counting."
   ]
  },
  {
   "cell_type": "code",
   "execution_count": 4,
   "metadata": {},
   "outputs": [
    {
     "name": "stdout",
     "output_type": "stream",
     "text": [
      "2329229\n",
      "2329229\n",
      "2210399\n",
      "2210399\n"
     ]
    }
   ],
   "source": [
    "print(etapas_df['id'].count())\n",
    "print(merged_df['id'].count())\n",
    "print(clean_df['id'].count())\n",
    "print(sorted_df['id'].count())"
   ]
  },
  {
   "cell_type": "markdown",
   "metadata": {},
   "source": [
    "* Adding necessary attributes"
   ]
  },
  {
   "cell_type": "code",
   "execution_count": 5,
   "metadata": {},
   "outputs": [],
   "source": [
    "sorted_df['mismo_paradero'] = (sorted_df['par_subida']==sorted_df['par_subida'].shift()).fillna(False)\n",
    "sorted_df['misma_patente'] = (sorted_df['sitio_subida']==sorted_df['sitio_subida'].shift()).fillna(False)\n",
    "\n",
    "sorted_df.loc[(sorted_df.mismo_paradero == True) & (sorted_df.misma_patente == True), 'diferencia_tiempo'] = (sorted_df['t_subida']-sorted_df['t_subida'].shift())\n",
    "sorted_df.loc[(sorted_df.mismo_paradero == True) & (sorted_df.misma_patente == False), 'diferencia_tiempo'] = pd.NaT\n",
    "sorted_df.loc[(sorted_df.mismo_paradero == False) & (sorted_df.misma_patente == True), 'diferencia_tiempo'] = pd.NaT\n",
    "sorted_df.loc[(sorted_df.mismo_paradero == False) & (sorted_df.misma_patente == False), 'diferencia_tiempo'] = pd.NaT\n",
    "\n",
    "\n",
    "sorted_df['diferencia_tiempo_secs'] = sorted_df['diferencia_tiempo'].dt.total_seconds()\n",
    "sorted_df['si_torniquete'] = (sorted_df['fecha_instalacion']<=sorted_df['t_subida'])\n",
    "sorted_df['si_2017_torniquete'] = ((sorted_df['fecha_instalacion']<=sorted_df['t_subida'])&(sorted_df['fecha_instalacion']>=pd.to_datetime('2017-01-01')))\n"
   ]
  },
  {
   "cell_type": "markdown",
   "metadata": {},
   "source": [
    "* Filtering by mismo_paradero, misma_patente and by si_torniquete. This is a key part"
   ]
  },
  {
   "cell_type": "code",
   "execution_count": 6,
   "metadata": {
    "collapsed": true
   },
   "outputs": [],
   "source": [
    "filtered_df = sorted_df[(sorted_df.mismo_paradero==True) & (sorted_df.misma_patente==True)]\n",
    "filtered_turnstile_df = filtered_df[filtered_df.si_2017_torniquete==True]\n",
    "filtered_no_turnstile_df = filtered_df[filtered_df.si_torniquete==False]"
   ]
  },
  {
   "cell_type": "markdown",
   "metadata": {},
   "source": [
    "* Counting and checking"
   ]
  },
  {
   "cell_type": "code",
   "execution_count": 7,
   "metadata": {
    "scrolled": true
   },
   "outputs": [
    {
     "name": "stdout",
     "output_type": "stream",
     "text": [
      "1380689\n",
      "30492\n",
      "1095631\n",
      "1126123\n"
     ]
    }
   ],
   "source": [
    "print(filtered_df['id'].count())\n",
    "print(filtered_turnstile_df['id'].count())\n",
    "print(filtered_no_turnstile_df['id'].count())\n",
    "checking = filtered_turnstile_df['id'].count() + filtered_no_turnstile_df['id'].count()\n",
    "print(checking)"
   ]
  },
  {
   "cell_type": "markdown",
   "metadata": {},
   "source": [
    "* Getting rid of unecessary dataframes"
   ]
  },
  {
   "cell_type": "code",
   "execution_count": 8,
   "metadata": {
    "scrolled": false
   },
   "outputs": [],
   "source": [
    "del etapas_df\n",
    "del merged_df\n",
    "del clean_df"
   ]
  },
  {
   "cell_type": "markdown",
   "metadata": {},
   "source": [
    "TODO: Currently, there are rows with extremely high values for the 'diferencia_tiempo' attribute (e.g. >=25 mins). <strong>Be aware of this</strong>. <strike>This should be fixed considering the idExpedicion attribute present in the corresponding 'perfiles' database. The following graphs and descriptive statistics consider only the 95th percentile for the 'diferencia_tiempo_secs' attribute.</strike>"
   ]
  },
  {
   "cell_type": "markdown",
   "metadata": {},
   "source": [
    "* <font color=\"red\"><strong>Checking</strong></font>"
   ]
  },
  {
   "cell_type": "code",
   "execution_count": 89,
   "metadata": {},
   "outputs": [],
   "source": [
    "threshold = 120 #In seconds\n",
    "\n",
    "time_keys = []\n",
    "\n",
    "cumulative_counts_turnstile = []\n",
    "cumulative_counts_noturnstile = []\n",
    "\n",
    "total_count_turnstile = filtered_turnstile_df.count()[0]\n",
    "total_count_noturnstile = filtered_no_turnstile_df.count()[0]\n",
    "\n",
    "for i in range(0,threshold):\n",
    "    time_keys.append(i)\n",
    "    cumulative_counts_turnstile.append(filtered_turnstile_df[filtered_turnstile_df['diferencia_tiempo_secs']<i].count()[0])\n",
    "    cumulative_counts_noturnstile.append(filtered_no_turnstile_df[filtered_no_turnstile_df['diferencia_tiempo_secs']<i].count()[0])\n",
    "\n",
    "\n",
    "cumulative_counts_turnstile = cumulative_counts_turnstile/total_count_turnstile\n",
    "cumulative_counts_noturnstile = cumulative_counts_noturnstile/total_count_noturnstile"
   ]
  },
  {
   "cell_type": "code",
   "execution_count": 90,
   "metadata": {},
   "outputs": [
    {
     "name": "stdout",
     "output_type": "stream",
     "text": [
      "99.3408107044\n",
      "99.4784740483\n"
     ]
    }
   ],
   "source": [
    "count_turnstile = filtered_turnstile_df[filtered_turnstile_df['diferencia_tiempo_secs']<=threshold].count()[0]\n",
    "count_noturnstile = filtered_no_turnstile_df[filtered_no_turnstile_df['diferencia_tiempo_secs']<=threshold].count()[0]\n",
    "\n",
    "\n",
    "percent_turnstile = (count_turnstile/total_count_turnstile)*100\n",
    "percent_noturnstile = (count_noturnstile/total_count_noturnstile)*100\n",
    "\n",
    "print(percent_turnstile)\n",
    "print(percent_noturnstile)"
   ]
  },
  {
   "cell_type": "code",
   "execution_count": 91,
   "metadata": {
    "collapsed": true
   },
   "outputs": [],
   "source": [
    "colors = [(244, 67, 54),(3, 169, 244),(205, 220, 57)]\n",
    "for i in range(len(colors)):\n",
    "    r, g, b = colors[i]  \n",
    "    colors[i] = (r / 255., g / 255., b / 255.)"
   ]
  },
  {
   "cell_type": "code",
   "execution_count": 92,
   "metadata": {
    "scrolled": true
   },
   "outputs": [
    {
     "data": {
      "image/png": "[encoded data removed]",
      "text/plain": [
       "<matplotlib.figure.Figure at 0x190804be7f0>"
      ]
     },
     "metadata": {},
     "output_type": "display_data"
    }
   ],
   "source": [
    "fig_1, ax_1 = plt.subplots()\n",
    "plot1 = ax_1.plot(time_keys,cumulative_counts_noturnstile,color=colors[1],label='without turnstiles')\n",
    "plot2 = ax_1.plot(time_keys,cumulative_counts_turnstile,color=colors[0],label='with 2017 turnstiles')\n",
    "ax_1.set_title('Time-interval vs. % of Counts')\n",
    "ax_1.set_xlabel('Time-interval [s]')\n",
    "ax_1.set_ylabel('% Counts')\n",
    "ax_1.legend()\n",
    "ax_1.grid(True)\n",
    "plt.savefig('C:/Users/Tesista/Desktop/Evasion/03_report/02_Figs/0_timeIntervalVsCounts_2017-03-01.pdf')"
   ]
  },
  {
   "cell_type": "markdown",
   "metadata": {},
   "source": [
    "### Filtering by diferencia_tiempo<=95th percentile in the corresponding databases. <font color=\"red\">BE AWARE.</font>"
   ]
  },
  {
   "cell_type": "code",
   "execution_count": 82,
   "metadata": {},
   "outputs": [
    {
     "name": "stdout",
     "output_type": "stream",
     "text": [
      "Percentile 95th for 2017-turnstile database is: 0 days 00:00:26\n",
      "Percentile 95th for without_turnstile database is: 0 days 00:00:23\n"
     ]
    }
   ],
   "source": [
    "turnstile_95 = filtered_turnstile_df.diferencia_tiempo.quantile(0.95)\n",
    "print ('Percentile 95th for 2017-turnstile database is: ' + str(turnstile_95))\n",
    "no_turnstile_95 = filtered_no_turnstile_df.diferencia_tiempo.quantile(0.95)\n",
    "print('Percentile 95th for without_turnstile database is: ' + str(no_turnstile_95))"
   ]
  },
  {
   "cell_type": "code",
   "execution_count": 83,
   "metadata": {
    "collapsed": true
   },
   "outputs": [],
   "source": [
    "turnstile_95_df = filtered_turnstile_df[filtered_turnstile_df.diferencia_tiempo<=turnstile_95]"
   ]
  },
  {
   "cell_type": "code",
   "execution_count": 84,
   "metadata": {
    "collapsed": true
   },
   "outputs": [],
   "source": [
    "no_turnstile_95_df = filtered_no_turnstile_df[filtered_no_turnstile_df.diferencia_tiempo<=no_turnstile_95]"
   ]
  },
  {
   "cell_type": "code",
   "execution_count": 85,
   "metadata": {
    "scrolled": true
   },
   "outputs": [
    {
     "data": {
      "text/html": [
       "<div>\n",
       "<style>\n",
       "    .dataframe thead tr:only-child th {\n",
       "        text-align: right;\n",
       "    }\n",
       "\n",
       "    .dataframe thead th {\n",
       "        text-align: left;\n",
       "    }\n",
       "\n",
       "    .dataframe tbody tr th {\n",
       "        vertical-align: top;\n",
       "    }\n",
       "</style>\n",
       "<table border=\"1\" class=\"dataframe\">\n",
       "  <thead>\n",
       "    <tr style=\"text-align: right;\">\n",
       "      <th></th>\n",
       "      <th>index</th>\n",
       "      <th>id</th>\n",
       "      <th>nviaje</th>\n",
       "      <th>diferencia_tiempo</th>\n",
       "      <th>diferencia_tiempo_secs</th>\n",
       "    </tr>\n",
       "  </thead>\n",
       "  <tbody>\n",
       "    <tr>\n",
       "      <th>count</th>\n",
       "      <td>2.898600e+04</td>\n",
       "      <td>2.898600e+04</td>\n",
       "      <td>28986.000000</td>\n",
       "      <td>28986</td>\n",
       "      <td>28986.000000</td>\n",
       "    </tr>\n",
       "    <tr>\n",
       "      <th>mean</th>\n",
       "      <td>1.176673e+06</td>\n",
       "      <td>2.265119e+09</td>\n",
       "      <td>1.560512</td>\n",
       "      <td>0 days 00:00:05.908576</td>\n",
       "      <td>5.908577</td>\n",
       "    </tr>\n",
       "    <tr>\n",
       "      <th>std</th>\n",
       "      <td>6.778292e+05</td>\n",
       "      <td>1.303444e+09</td>\n",
       "      <td>0.823419</td>\n",
       "      <td>0 days 00:00:03.973483</td>\n",
       "      <td>3.973483</td>\n",
       "    </tr>\n",
       "    <tr>\n",
       "      <th>min</th>\n",
       "      <td>1.130000e+02</td>\n",
       "      <td>8.434730e+06</td>\n",
       "      <td>1.000000</td>\n",
       "      <td>0 days 00:00:00</td>\n",
       "      <td>0.000000</td>\n",
       "    </tr>\n",
       "    <tr>\n",
       "      <th>25%</th>\n",
       "      <td>5.899380e+05</td>\n",
       "      <td>9.820610e+08</td>\n",
       "      <td>1.000000</td>\n",
       "      <td>0 days 00:00:04</td>\n",
       "      <td>4.000000</td>\n",
       "    </tr>\n",
       "    <tr>\n",
       "      <th>50%</th>\n",
       "      <td>1.189868e+06</td>\n",
       "      <td>2.524481e+09</td>\n",
       "      <td>1.000000</td>\n",
       "      <td>0 days 00:00:05</td>\n",
       "      <td>5.000000</td>\n",
       "    </tr>\n",
       "    <tr>\n",
       "      <th>75%</th>\n",
       "      <td>1.766166e+06</td>\n",
       "      <td>3.460785e+09</td>\n",
       "      <td>2.000000</td>\n",
       "      <td>0 days 00:00:07</td>\n",
       "      <td>7.000000</td>\n",
       "    </tr>\n",
       "    <tr>\n",
       "      <th>max</th>\n",
       "      <td>2.329088e+06</td>\n",
       "      <td>4.287640e+09</td>\n",
       "      <td>14.000000</td>\n",
       "      <td>0 days 00:00:26</td>\n",
       "      <td>26.000000</td>\n",
       "    </tr>\n",
       "  </tbody>\n",
       "</table>\n",
       "</div>"
      ],
      "text/plain": [
       "              index            id        nviaje       diferencia_tiempo  \\\n",
       "count  2.898600e+04  2.898600e+04  28986.000000                   28986   \n",
       "mean   1.176673e+06  2.265119e+09      1.560512  0 days 00:00:05.908576   \n",
       "std    6.778292e+05  1.303444e+09      0.823419  0 days 00:00:03.973483   \n",
       "min    1.130000e+02  8.434730e+06      1.000000         0 days 00:00:00   \n",
       "25%    5.899380e+05  9.820610e+08      1.000000         0 days 00:00:04   \n",
       "50%    1.189868e+06  2.524481e+09      1.000000         0 days 00:00:05   \n",
       "75%    1.766166e+06  3.460785e+09      2.000000         0 days 00:00:07   \n",
       "max    2.329088e+06  4.287640e+09     14.000000         0 days 00:00:26   \n",
       "\n",
       "       diferencia_tiempo_secs  \n",
       "count            28986.000000  \n",
       "mean                 5.908577  \n",
       "std                  3.973483  \n",
       "min                  0.000000  \n",
       "25%                  4.000000  \n",
       "50%                  5.000000  \n",
       "75%                  7.000000  \n",
       "max                 26.000000  "
      ]
     },
     "execution_count": 85,
     "metadata": {},
     "output_type": "execute_result"
    }
   ],
   "source": [
    "turnstile_95_df.describe()"
   ]
  },
  {
   "cell_type": "code",
   "execution_count": 86,
   "metadata": {},
   "outputs": [
    {
     "data": {
      "text/html": [
       "<div>\n",
       "<style>\n",
       "    .dataframe thead tr:only-child th {\n",
       "        text-align: right;\n",
       "    }\n",
       "\n",
       "    .dataframe thead th {\n",
       "        text-align: left;\n",
       "    }\n",
       "\n",
       "    .dataframe tbody tr th {\n",
       "        vertical-align: top;\n",
       "    }\n",
       "</style>\n",
       "<table border=\"1\" class=\"dataframe\">\n",
       "  <thead>\n",
       "    <tr style=\"text-align: right;\">\n",
       "      <th></th>\n",
       "      <th>index</th>\n",
       "      <th>id</th>\n",
       "      <th>nviaje</th>\n",
       "      <th>diferencia_tiempo</th>\n",
       "      <th>diferencia_tiempo_secs</th>\n",
       "    </tr>\n",
       "  </thead>\n",
       "  <tbody>\n",
       "    <tr>\n",
       "      <th>count</th>\n",
       "      <td>1.041624e+06</td>\n",
       "      <td>1.041624e+06</td>\n",
       "      <td>1.041624e+06</td>\n",
       "      <td>1041624</td>\n",
       "      <td>1.041624e+06</td>\n",
       "    </tr>\n",
       "    <tr>\n",
       "      <th>mean</th>\n",
       "      <td>1.169452e+06</td>\n",
       "      <td>2.252309e+09</td>\n",
       "      <td>1.638864e+00</td>\n",
       "      <td>0 days 00:00:03.365189</td>\n",
       "      <td>3.365189e+00</td>\n",
       "    </tr>\n",
       "    <tr>\n",
       "      <th>std</th>\n",
       "      <td>6.718600e+05</td>\n",
       "      <td>1.294399e+09</td>\n",
       "      <td>8.622452e-01</td>\n",
       "      <td>0 days 00:00:03.332207</td>\n",
       "      <td>3.332208e+00</td>\n",
       "    </tr>\n",
       "    <tr>\n",
       "      <th>min</th>\n",
       "      <td>0.000000e+00</td>\n",
       "      <td>5.454520e+05</td>\n",
       "      <td>1.000000e+00</td>\n",
       "      <td>0 days 00:00:00</td>\n",
       "      <td>0.000000e+00</td>\n",
       "    </tr>\n",
       "    <tr>\n",
       "      <th>25%</th>\n",
       "      <td>5.846785e+05</td>\n",
       "      <td>9.357000e+08</td>\n",
       "      <td>1.000000e+00</td>\n",
       "      <td>0 days 00:00:02</td>\n",
       "      <td>2.000000e+00</td>\n",
       "    </tr>\n",
       "    <tr>\n",
       "      <th>50%</th>\n",
       "      <td>1.170596e+06</td>\n",
       "      <td>2.512588e+09</td>\n",
       "      <td>1.000000e+00</td>\n",
       "      <td>0 days 00:00:03</td>\n",
       "      <td>3.000000e+00</td>\n",
       "    </tr>\n",
       "    <tr>\n",
       "      <th>75%</th>\n",
       "      <td>1.752286e+06</td>\n",
       "      <td>3.418037e+09</td>\n",
       "      <td>2.000000e+00</td>\n",
       "      <td>0 days 00:00:04</td>\n",
       "      <td>4.000000e+00</td>\n",
       "    </tr>\n",
       "    <tr>\n",
       "      <th>max</th>\n",
       "      <td>2.329226e+06</td>\n",
       "      <td>4.293302e+09</td>\n",
       "      <td>1.900000e+01</td>\n",
       "      <td>0 days 00:00:23</td>\n",
       "      <td>2.300000e+01</td>\n",
       "    </tr>\n",
       "  </tbody>\n",
       "</table>\n",
       "</div>"
      ],
      "text/plain": [
       "              index            id        nviaje       diferencia_tiempo  \\\n",
       "count  1.041624e+06  1.041624e+06  1.041624e+06                 1041624   \n",
       "mean   1.169452e+06  2.252309e+09  1.638864e+00  0 days 00:00:03.365189   \n",
       "std    6.718600e+05  1.294399e+09  8.622452e-01  0 days 00:00:03.332207   \n",
       "min    0.000000e+00  5.454520e+05  1.000000e+00         0 days 00:00:00   \n",
       "25%    5.846785e+05  9.357000e+08  1.000000e+00         0 days 00:00:02   \n",
       "50%    1.170596e+06  2.512588e+09  1.000000e+00         0 days 00:00:03   \n",
       "75%    1.752286e+06  3.418037e+09  2.000000e+00         0 days 00:00:04   \n",
       "max    2.329226e+06  4.293302e+09  1.900000e+01         0 days 00:00:23   \n",
       "\n",
       "       diferencia_tiempo_secs  \n",
       "count            1.041624e+06  \n",
       "mean             3.365189e+00  \n",
       "std              3.332208e+00  \n",
       "min              0.000000e+00  \n",
       "25%              2.000000e+00  \n",
       "50%              3.000000e+00  \n",
       "75%              4.000000e+00  \n",
       "max              2.300000e+01  "
      ]
     },
     "execution_count": 86,
     "metadata": {},
     "output_type": "execute_result"
    }
   ],
   "source": [
    "no_turnstile_95_df.describe()"
   ]
  },
  {
   "cell_type": "markdown",
   "metadata": {},
   "source": [
    "* Plotting"
   ]
  },
  {
   "cell_type": "code",
   "execution_count": 94,
   "metadata": {},
   "outputs": [],
   "source": [
    "turns_vals = turnstile_95_df.diferencia_tiempo_secs.values\n",
    "no_turns_vals = no_turnstile_95_df.diferencia_tiempo_secs.values\n",
    "max_95 = max(turnstile_95,no_turnstile_95).total_seconds()\n",
    "bins = range(0,int(max_95),1)"
   ]
  },
  {
   "cell_type": "code",
   "execution_count": 95,
   "metadata": {
    "scrolled": true
   },
   "outputs": [
    {
     "data": {
      "text/plain": [
       "<matplotlib.legend.Legend at 0x190802a29b0>"
      ]
     },
     "execution_count": 95,
     "metadata": {},
     "output_type": "execute_result"
    },
    {
     "data": {
      "image/png": "[encoded data removed]",
      "text/plain": [
       "<matplotlib.figure.Figure at 0x190faaad160>"
      ]
     },
     "metadata": {},
     "output_type": "display_data"
    }
   ],
   "source": [
    "hist_fig, ax = plt.subplots()\n",
    "\n",
    "plot1 = ax.hist(turns_vals,normed=True,bins=bins,color=colors[0], alpha=0.5, label='with 2017 turnstiles')\n",
    "plot2 = ax.hist(no_turns_vals,normed=True,bins=bins,color=colors[1], alpha = 0.5, label='without turnstiles')\n",
    "\n",
    "\n",
    "ax.set_title('Time-interval between transactions (95th)')\n",
    "ax.set_xlabel('time-interval[s]')\n",
    "ax.set_ylabel('Relative Frequency')\n",
    "ax.legend()\n",
    "#plt.savefig('C:/Users/Tesista/Desktop/Evasion/03_report/02_Figs/2017-07-19.pdf')"
   ]
  },
  {
   "cell_type": "code",
   "execution_count": null,
   "metadata": {
    "collapsed": true
   },
   "outputs": [],
   "source": []
  }
 ],
 "metadata": {
  "kernelspec": {
   "display_name": "Python 3",
   "language": "python",
   "name": "python3"
  },
  "language_info": {
   "codemirror_mode": {
    "name": "ipython",
    "version": 3
   },
   "file_extension": ".py",
   "mimetype": "text/x-python",
   "name": "python",
   "nbconvert_exporter": "python",
   "pygments_lexer": "ipython3",
   "version": "3.6.1"
  }
 },
 "nbformat": 4,
 "nbformat_minor": 2
}
