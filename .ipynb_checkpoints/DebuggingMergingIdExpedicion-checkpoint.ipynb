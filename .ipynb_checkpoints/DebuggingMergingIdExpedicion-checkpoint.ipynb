{
 "cells": [
  {
   "cell_type": "code",
   "execution_count": 1,
   "metadata": {},
   "outputs": [
    {
     "name": "stdout",
     "output_type": "stream",
     "text": [
      "Enter the date to analyze: 2017-03-01\n",
      "Enter the vehicle to analyze: BUS\n",
      "Consider ZP in perfiles file (0/1)?: 0\n"
     ]
    }
   ],
   "source": [
    "import RunDailyEtapasBuilder"
   ]
  },
  {
   "cell_type": "code",
   "execution_count": 2,
   "metadata": {
    "collapsed": true
   },
   "outputs": [],
   "source": [
    "import pandas as pd"
   ]
  },
  {
   "cell_type": "code",
   "execution_count": 3,
   "metadata": {
    "collapsed": true
   },
   "outputs": [],
   "source": [
    "import time"
   ]
  },
  {
   "cell_type": "code",
   "execution_count": 4,
   "metadata": {
    "collapsed": true
   },
   "outputs": [],
   "source": [
    "etapas_df = RunDailyEtapasBuilder.loadSimplifiedEtapas()"
   ]
  },
  {
   "cell_type": "code",
   "execution_count": 5,
   "metadata": {
    "collapsed": true
   },
   "outputs": [],
   "source": [
    "perfiles_df = RunDailyEtapasBuilder.loadSimplifiedPerfiles()"
   ]
  },
  {
   "cell_type": "code",
   "execution_count": 6,
   "metadata": {},
   "outputs": [
    {
     "name": "stdout",
     "output_type": "stream",
     "text": [
      "Unit time: 53.65643927028865\n"
     ]
    }
   ],
   "source": [
    "tic = time.clock()\n",
    "\n",
    "counter = 0\n",
    "\n",
    "etapas_df['t_subida'] = pd.to_datetime(etapas_df.t_subida)\n",
    "perfiles_df['Hini'] = pd.to_datetime(perfiles_df.Hini)\n",
    "perfiles_df['Hfin'] = pd.to_datetime(perfiles_df.Hfin)\n",
    "for etapas_index, etapas_row in etapas_df.iterrows():\n",
    "    for perfiles_index, perfiles_row in perfiles_df.iterrows():\n",
    "        if ((etapas_row['servicio_subida']==perfiles_row['ServicioSentido']) & (etapas_row['sitio_subida']==perfiles_row['Patente']) & (etapas_row['par_subida']==perfiles_row['Paradero']) & (perfiles_row['Hini']<=etapas_row['t_subida']<=perfiles_row['Hfin'])):\n",
    "            etapas_row['id_expedicion']=perfiles_row['idExpedicion']\n",
    "            counter = counter + 1\n",
    "            break\n",
    "        else:\n",
    "            etapas_row['id_expedicion']='not-found'\n",
    "            counter = counter + 1\n",
    "            break\n",
    "    if (counter==1):\n",
    "        break\n",
    "\n",
    "toc = time.clock()\n",
    "print('Unit time: ' + str(toc - tic))"
   ]
  },
  {
   "cell_type": "code",
   "execution_count": 7,
   "metadata": {
    "collapsed": true
   },
   "outputs": [],
   "source": [
    "etapas_df = etapas_df.sort_values(by=['servicio_subida'], ascending=[True])"
   ]
  },
  {
   "cell_type": "code",
   "execution_count": 8,
   "metadata": {
    "collapsed": true
   },
   "outputs": [],
   "source": [
    "perfiles_df = perfiles_df.sort_values(by=['ServicioSentido'], ascending=[True])"
   ]
  },
  {
   "cell_type": "code",
   "execution_count": 9,
   "metadata": {},
   "outputs": [
    {
     "name": "stdout",
     "output_type": "stream",
     "text": [
      "Unit time: 51.15626115302126\n"
     ]
    }
   ],
   "source": [
    "tic = time.clock()\n",
    "\n",
    "counter = 0\n",
    "\n",
    "etapas_df['t_subida'] = pd.to_datetime(etapas_df.t_subida)\n",
    "perfiles_df['Hini'] = pd.to_datetime(perfiles_df.Hini)\n",
    "perfiles_df['Hfin'] = pd.to_datetime(perfiles_df.Hfin)\n",
    "for etapas_index, etapas_row in etapas_df.iterrows():\n",
    "    for perfiles_index, perfiles_row in perfiles_df.iterrows():\n",
    "        if ((etapas_row['servicio_subida']==perfiles_row['ServicioSentido']) & (etapas_row['sitio_subida']==perfiles_row['Patente']) & (etapas_row['par_subida']==perfiles_row['Paradero']) & (perfiles_row['Hini']<=etapas_row['t_subida']<=perfiles_row['Hfin'])):\n",
    "            etapas_row['id_expedicion']=perfiles_row['idExpedicion']\n",
    "            counter = counter + 1\n",
    "            break\n",
    "        else:\n",
    "            etapas_row['id_expedicion']='not-found'\n",
    "            counter = counter + 1\n",
    "            break\n",
    "    if (counter==1):\n",
    "        break\n",
    "\n",
    "toc = time.clock()\n",
    "print('Unit time: ' + str(toc - tic))"
   ]
  },
  {
   "cell_type": "code",
   "execution_count": 10,
   "metadata": {},
   "outputs": [
    {
     "name": "stdout",
     "output_type": "stream",
     "text": [
      "Unit time: 50.23993157383492\n"
     ]
    }
   ],
   "source": [
    "tic = time.clock()\n",
    "\n",
    "counter = 0\n",
    "\n",
    "etapas_df['t_subida'] = pd.to_datetime(etapas_df.t_subida)\n",
    "perfiles_df['Hini'] = pd.to_datetime(perfiles_df.Hini)\n",
    "perfiles_df['Hfin'] = pd.to_datetime(perfiles_df.Hfin)\n",
    "for etapas_index, etapas_row in etapas_df.iterrows():\n",
    "    for perfiles_index, perfiles_row in perfiles_df.iterrows():\n",
    "        if ((etapas_row['servicio_subida']==perfiles_row['ServicioSentido']) & (etapas_row['sitio_subida']==perfiles_row['Patente'])  & (perfiles_row['Hini']<=etapas_row['t_subida']<=perfiles_row['Hfin'])):\n",
    "            etapas_row['id_expedicion']=perfiles_row['idExpedicion']\n",
    "            counter = counter + 1\n",
    "            break\n",
    "        else:\n",
    "            etapas_row['id_expedicion']='not-found'\n",
    "            counter = counter + 1\n",
    "            break\n",
    "    if (counter==1):\n",
    "        break\n",
    "\n",
    "toc = time.clock()\n",
    "print('Unit time: ' + str(toc - tic))"
   ]
  },
  {
   "cell_type": "code",
   "execution_count": 29,
   "metadata": {
    "collapsed": true
   },
   "outputs": [],
   "source": [
    "etapas_grouped = etapas_df.groupby(['servicio_subida'])\n",
    "perfiles_grouped = perfiles_df.groupby(['ServicioSentido'])"
   ]
  },
  {
   "cell_type": "markdown",
   "metadata": {},
   "source": [
    "* Do not run the below code"
   ]
  },
  {
   "cell_type": "code",
   "execution_count": null,
   "metadata": {
    "collapsed": true,
    "scrolled": false
   },
   "outputs": [],
   "source": [
    "tic = time.clock()\n",
    "counter = 0\n",
    "for etapas_name, etapas_group in etapas_grouped:    \n",
    "    for perfiles_name, perfiles_group in perfiles_grouped:\n",
    "        if(etapas_name==perfiles_name):\n",
    "            for etapas_index, etapas_group_row in etapas_group.iterrows():\n",
    "                for perfiles_index, perfiles_group_row in perfiles_group.iterrows():\n",
    "                    if (perfiles_group_row['Hini']<=etapas_group_row['t_subida']<=perfiles_group_row['Hfin']):\n",
    "                        counter = counter + 1\n",
    "                        break\n",
    "                if(counter==2):  \n",
    "                    break\n",
    "        else:\n",
    "            counter = counter + 1\n",
    "            break\n",
    "    if(counter==2):\n",
    "        break\n",
    "toc = time.clock()\n",
    "#print(etapas_name)\n",
    "#print(type(etapas_group))\n",
    "#print(perfiles_name)\n",
    "print('Unit time: ' + str(toc - tic))"
   ]
  },
  {
   "cell_type": "code",
   "execution_count": null,
   "metadata": {
    "collapsed": true
   },
   "outputs": [],
   "source": []
  }
 ],
 "metadata": {
  "kernelspec": {
   "display_name": "Python 3",
   "language": "python",
   "name": "python3"
  },
  "language_info": {
   "codemirror_mode": {
    "name": "ipython",
    "version": 3
   },
   "file_extension": ".py",
   "mimetype": "text/x-python",
   "name": "python",
   "nbconvert_exporter": "python",
   "pygments_lexer": "ipython3",
   "version": "3.6.1"
  }
 },
 "nbformat": 4,
 "nbformat_minor": 2
}
