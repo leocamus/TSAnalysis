{
 "cells": [
  {
   "cell_type": "code",
   "execution_count": 1,
   "metadata": {
    "collapsed": true
   },
   "outputs": [],
   "source": [
    "from importlib import reload"
   ]
  },
  {
   "cell_type": "code",
   "execution_count": 2,
   "metadata": {
    "collapsed": true
   },
   "outputs": [],
   "source": [
    "from Utils import HeadersUtils"
   ]
  },
  {
   "cell_type": "code",
   "execution_count": 3,
   "metadata": {},
   "outputs": [
    {
     "name": "stdout",
     "output_type": "stream",
     "text": [
      "('Wrong number of arguments',)\n"
     ]
    }
   ],
   "source": [
    "HeadersUtils.getHeaders('1','2','3')"
   ]
  },
  {
   "cell_type": "code",
   "execution_count": 4,
   "metadata": {},
   "outputs": [
    {
     "name": "stdout",
     "output_type": "stream",
     "text": [
      "('Wrong SSH date',)\n"
     ]
    }
   ],
   "source": [
    "HeadersUtils.getHeaders('etapas','2017-04-01')"
   ]
  },
  {
   "cell_type": "code",
   "execution_count": 5,
   "metadata": {},
   "outputs": [
    {
     "data": {
      "text/plain": [
       "<module 'Utils.HeadersUtils' from 'C:\\\\Users\\\\Tesista\\\\Desktop\\\\Evasión\\\\01_analisis\\\\04_scripts\\\\TSAnalysis\\\\Utils\\\\HeadersUtils.py'>"
      ]
     },
     "execution_count": 5,
     "metadata": {},
     "output_type": "execute_result"
    }
   ],
   "source": [
    "reload(HeadersUtils)"
   ]
  },
  {
   "cell_type": "code",
   "execution_count": 6,
   "metadata": {
    "collapsed": true,
    "scrolled": true
   },
   "outputs": [],
   "source": [
    "from Utils import PrintLinesUtils"
   ]
  },
  {
   "cell_type": "code",
   "execution_count": 7,
   "metadata": {},
   "outputs": [
    {
     "name": "stdout",
     "output_type": "stream",
     "text": [
      "Warning: complete path should be specified. Information about available dates is currently not maintained\n",
      "Enter the path to the specific file: C:\\Users\\Tesista\\Desktop\\Evasión\\01_analisis\\03_datos\\02_TRXPPU\\02_2016\\01-2016-TRXPPU.rar\n",
      "b'Unidad;Patente;Servicio;Sentido;SerSen;FechaInicio;Dpinicio;Mhinicio;FechaFin;Dpfin;Lruta;TipoDia;Hitrx;Hftrx;Plazas;TrxValidas;TarjetasNoValidas;Operativo\\n'\n",
      "b'U1;ZB-6730;T101c;I;T101cI;04/01/2016 06:32:23;.49;06:30;04/01/2016 07:01:22;12.21;12.852;DIA NORMAL;04/01/2016 06:02:23;04/01/2016 07:03:22;91;16;2;C\\n'\n",
      "b'U1;ZN-5957;T101c;I;T101cI;04/01/2016 06:42:37;1.05;06:30;04/01/2016 07:13:36;12.48;12.852;DIA NORMAL;04/01/2016 06:12:37;04/01/2016 07:15:36;91;3;0;C\\n'\n",
      "b'U1;ZN-6496;T101c;I;T101cI;04/01/2016 06:53:27;.53;06:30;04/01/2016 07:25:58;12.19;12.852;DIA NORMAL;04/01/2016 06:23:27;04/01/2016 07:27:58;91;14;3;C\\n'\n",
      "b'U1;ZN-4123;T101c;I;T101cI;04/01/2016 07:05:23;.69;07:00;04/01/2016 07:34:24;12.07;12.852;DIA NORMAL;04/01/2016 07:02:24;04/01/2016 07:36:24;91;15;5;C\\n'\n",
      "b'U1;ZN-4202;T101c;I;T101cI;04/01/2016 07:13:06;.53;07:00;04/01/2016 07:44:37;12.12;12.852;DIA NORMAL;04/01/2016 07:10:37;04/01/2016 07:46:37;91;16;0;C\\n'\n",
      "b'U1;ZN-3965;T101c;I;T101cI;04/01/2016 07:23:07;.52;07:00;04/01/2016 07:48:07;12.24;12.852;DIA NORMAL;04/01/2016 07:16:07;04/01/2016 07:50:07;91;5;0;C\\n'\n",
      "b'U1;ZN-3986;T101c;I;T101cI;04/01/2016 07:30:05;.45;07:30;04/01/2016 08:06:05;12.5;12.852;DIA NORMAL;04/01/2016 07:26:34;04/01/2016 08:08:05;91;29;2;C\\n'\n",
      "b'U1;ZB-6730;T101c;I;T101cI;04/01/2016 07:40:55;.53;07:30;04/01/2016 08:09:55;12.21;12.852;DIA NORMAL;04/01/2016 07:32:54;04/01/2016 08:11:55;91;9;1;C\\n'\n",
      "b'U1;ZJ-1806;T101c;I;T101cI;04/01/2016 07:45:02;.53;07:30;04/01/2016 08:15:02;12.33;12.852;DIA NORMAL;04/01/2016 07:42:33;04/01/2016 08:17:02;91;8;1;C\\n'\n"
     ]
    }
   ],
   "source": [
    "PrintLinesUtils.readAndPrintLines('TRXPPU','10','2013-03-01')"
   ]
  },
  {
   "cell_type": "code",
   "execution_count": null,
   "metadata": {
    "collapsed": true
   },
   "outputs": [],
   "source": []
  }
 ],
 "metadata": {
  "kernelspec": {
   "display_name": "Python 3",
   "language": "python",
   "name": "python3"
  },
  "language_info": {
   "codemirror_mode": {
    "name": "ipython",
    "version": 3
   },
   "file_extension": ".py",
   "mimetype": "text/x-python",
   "name": "python",
   "nbconvert_exporter": "python",
   "pygments_lexer": "ipython3",
   "version": "3.6.1"
  }
 },
 "nbformat": 4,
 "nbformat_minor": 2
}
