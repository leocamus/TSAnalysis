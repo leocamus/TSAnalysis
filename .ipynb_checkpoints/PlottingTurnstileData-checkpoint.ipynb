{
 "cells": [
  {
   "cell_type": "markdown",
   "metadata": {},
   "source": [
    "# Plotting turnstile data"
   ]
  },
  {
   "cell_type": "code",
   "execution_count": 1,
   "metadata": {
    "collapsed": true
   },
   "outputs": [],
   "source": [
    "from Utils import ReadTurnstilesDataBase\n",
    "%matplotlib inline\n",
    "import pandas as pd\n",
    "import matplotlib\n",
    "import matplotlib.pyplot as plt\n",
    "import matplotlib.dates as mdates\n",
    "import numpy as np\n",
    "import datetime"
   ]
  },
  {
   "cell_type": "code",
   "execution_count": 2,
   "metadata": {
    "collapsed": true
   },
   "outputs": [],
   "source": [
    "turnstile_df = ReadTurnstilesDataBase.readTurnstileData()\n",
    "turnstile_df.fecha_instalacion = pd.to_datetime(turnstile_df.fecha_instalacion)\n",
    "turnstile_df['day'] = turnstile_df['fecha_instalacion'].apply(lambda x: \"%d\" % (x.day))\n",
    "turnstile_df['month'] = turnstile_df['fecha_instalacion'].apply(lambda x: \"%d\" % (x.month))\n",
    "turnstile_df['year'] = turnstile_df['fecha_instalacion'].apply(lambda x: \"%d\" % (x.year))\n",
    "turnstile_df['month_year'] = turnstile_df['fecha_instalacion'].apply(lambda x: \"%d/%d\" % (x.month, x.year))"
   ]
  },
  {
   "cell_type": "markdown",
   "metadata": {},
   "source": [
    "* Grouping by year"
   ]
  },
  {
   "cell_type": "code",
   "execution_count": 3,
   "metadata": {
    "collapsed": true
   },
   "outputs": [],
   "source": [
    "counts_by_year = turnstile_df.groupby(['year']).size().to_frame()\n",
    "counts_by_year['year'] = counts_by_year.index\n",
    "N=1\n",
    "ind = np.arange(N)\n",
    "width = 1\n",
    "counts_by_year.columns = ['counts', 'year']"
   ]
  },
  {
   "cell_type": "code",
   "execution_count": 4,
   "metadata": {},
   "outputs": [
    {
     "name": "stdout",
     "output_type": "stream",
     "text": [
      "1296\n",
      "10\n",
      "186\n",
      "703\n"
     ]
    }
   ],
   "source": [
    "start_count = int(counts_by_year.counts[0])\n",
    "second_year_count = int(counts_by_year.counts[1])\n",
    "third_year_count = int(counts_by_year.counts[2])\n",
    "fourth_year_count = int(counts_by_year.counts[3])\n",
    "print(start_count)\n",
    "print(second_year_count)\n",
    "print(third_year_count)\n",
    "print(fourth_year_count)"
   ]
  },
  {
   "cell_type": "markdown",
   "metadata": {},
   "source": [
    "* Plotting"
   ]
  },
  {
   "cell_type": "code",
   "execution_count": 5,
   "metadata": {
    "collapsed": true
   },
   "outputs": [],
   "source": [
    "colors = [(3, 169, 244),(0, 150, 136),(76, 175, 80),(205, 220, 57)]\n",
    "for i in range(len(colors)):\n",
    "    r, g, b = colors[i]  \n",
    "    colors[i] = (r / 255., g / 255., b / 255.)"
   ]
  },
  {
   "cell_type": "code",
   "execution_count": 6,
   "metadata": {
    "scrolled": true
   },
   "outputs": [
    {
     "data": {
      "image/png": "[encoded data removed]",
      "text/plain": [
       "<matplotlib.figure.Figure at 0x18eaab4dba8>"
      ]
     },
     "metadata": {},
     "output_type": "display_data"
    }
   ],
   "source": [
    "fig, ax = plt.subplots()\n",
    "p1 = ax.bar(ind, start_count, width = width, color = colors[0])\n",
    "p2 = ax.bar(ind, second_year_count, bottom = start_count, width = width, color = colors[1])\n",
    "p3 = ax.bar(ind, third_year_count, bottom = start_count+second_year_count, width = width, color = colors[2])\n",
    "p4 = ax.bar(ind, fourth_year_count, bottom = start_count+second_year_count+third_year_count, width = width, color = colors[3])\n",
    "plt.xticks(ind, (' '))\n",
    "#plt.legend((p1[0], p2[0], p3[0], p4[0]), ('Start', '2015', '2016', '2017'))\n",
    "ax.set_xlim(-2, 2)\n",
    "ax.set_title('Vehicle-plates with turnstiles')\n",
    "plt.legend((p4[0],p3[0],p2[0],p1[0]), ('2017','2016','2015','Start'))\n",
    "#plt.savefig('C:/Users/Tesista/Desktop/Evasion/03_report/02_Figs/vehicle-plates-with-turnstiles.pdf')"
   ]
  },
  {
   "cell_type": "markdown",
   "metadata": {},
   "source": [
    "* Grouping by month-year"
   ]
  },
  {
   "cell_type": "code",
   "execution_count": 7,
   "metadata": {
    "collapsed": true,
    "scrolled": true
   },
   "outputs": [],
   "source": [
    "counts_by_month_year = turnstile_df.groupby(['month_year']).size().to_frame()\n",
    "counts_by_month_year['month_year'] = counts_by_month_year.index\n",
    "counts_by_month_year['month_year'] =  pd.to_datetime(counts_by_month_year.month_year)\n",
    "counts_by_month_year.columns = ['counts', 'month_year']\n",
    "counts_by_month_year = counts_by_month_year.sort_values(by=['month_year'], ascending=[True])\n",
    "counts_by_month_year['Cumulative'] = counts_by_month_year['counts'].cumsum()\n",
    "counts_by_month_year.loc['1/1900',('month_year')] = pd.to_datetime('2015-11-01')"
   ]
  },
  {
   "cell_type": "code",
   "execution_count": 8,
   "metadata": {},
   "outputs": [
    {
     "data": {
      "text/html": [
       "<div>\n",
       "<style>\n",
       "    .dataframe thead tr:only-child th {\n",
       "        text-align: right;\n",
       "    }\n",
       "\n",
       "    .dataframe thead th {\n",
       "        text-align: left;\n",
       "    }\n",
       "\n",
       "    .dataframe tbody tr th {\n",
       "        vertical-align: top;\n",
       "    }\n",
       "</style>\n",
       "<table border=\"1\" class=\"dataframe\">\n",
       "  <thead>\n",
       "    <tr style=\"text-align: right;\">\n",
       "      <th></th>\n",
       "      <th>counts</th>\n",
       "      <th>month_year</th>\n",
       "      <th>Cumulative</th>\n",
       "    </tr>\n",
       "    <tr>\n",
       "      <th>month_year</th>\n",
       "      <th></th>\n",
       "      <th></th>\n",
       "      <th></th>\n",
       "    </tr>\n",
       "  </thead>\n",
       "  <tbody>\n",
       "    <tr>\n",
       "      <th>1/1900</th>\n",
       "      <td>1296</td>\n",
       "      <td>2015-11-01</td>\n",
       "      <td>1296</td>\n",
       "    </tr>\n",
       "    <tr>\n",
       "      <th>12/2015</th>\n",
       "      <td>10</td>\n",
       "      <td>2015-12-01</td>\n",
       "      <td>1306</td>\n",
       "    </tr>\n",
       "    <tr>\n",
       "      <th>4/2016</th>\n",
       "      <td>18</td>\n",
       "      <td>2016-04-01</td>\n",
       "      <td>1324</td>\n",
       "    </tr>\n",
       "    <tr>\n",
       "      <th>5/2016</th>\n",
       "      <td>32</td>\n",
       "      <td>2016-05-01</td>\n",
       "      <td>1356</td>\n",
       "    </tr>\n",
       "    <tr>\n",
       "      <th>7/2016</th>\n",
       "      <td>36</td>\n",
       "      <td>2016-07-01</td>\n",
       "      <td>1392</td>\n",
       "    </tr>\n",
       "    <tr>\n",
       "      <th>8/2016</th>\n",
       "      <td>33</td>\n",
       "      <td>2016-08-01</td>\n",
       "      <td>1425</td>\n",
       "    </tr>\n",
       "    <tr>\n",
       "      <th>9/2016</th>\n",
       "      <td>4</td>\n",
       "      <td>2016-09-01</td>\n",
       "      <td>1429</td>\n",
       "    </tr>\n",
       "    <tr>\n",
       "      <th>10/2016</th>\n",
       "      <td>31</td>\n",
       "      <td>2016-10-01</td>\n",
       "      <td>1460</td>\n",
       "    </tr>\n",
       "    <tr>\n",
       "      <th>11/2016</th>\n",
       "      <td>5</td>\n",
       "      <td>2016-11-01</td>\n",
       "      <td>1465</td>\n",
       "    </tr>\n",
       "    <tr>\n",
       "      <th>12/2016</th>\n",
       "      <td>27</td>\n",
       "      <td>2016-12-01</td>\n",
       "      <td>1492</td>\n",
       "    </tr>\n",
       "    <tr>\n",
       "      <th>1/2017</th>\n",
       "      <td>3</td>\n",
       "      <td>2017-01-01</td>\n",
       "      <td>1495</td>\n",
       "    </tr>\n",
       "    <tr>\n",
       "      <th>2/2017</th>\n",
       "      <td>122</td>\n",
       "      <td>2017-02-01</td>\n",
       "      <td>1617</td>\n",
       "    </tr>\n",
       "    <tr>\n",
       "      <th>3/2017</th>\n",
       "      <td>14</td>\n",
       "      <td>2017-03-01</td>\n",
       "      <td>1631</td>\n",
       "    </tr>\n",
       "    <tr>\n",
       "      <th>4/2017</th>\n",
       "      <td>143</td>\n",
       "      <td>2017-04-01</td>\n",
       "      <td>1774</td>\n",
       "    </tr>\n",
       "    <tr>\n",
       "      <th>5/2017</th>\n",
       "      <td>197</td>\n",
       "      <td>2017-05-01</td>\n",
       "      <td>1971</td>\n",
       "    </tr>\n",
       "    <tr>\n",
       "      <th>6/2017</th>\n",
       "      <td>175</td>\n",
       "      <td>2017-06-01</td>\n",
       "      <td>2146</td>\n",
       "    </tr>\n",
       "    <tr>\n",
       "      <th>7/2017</th>\n",
       "      <td>49</td>\n",
       "      <td>2017-07-01</td>\n",
       "      <td>2195</td>\n",
       "    </tr>\n",
       "  </tbody>\n",
       "</table>\n",
       "</div>"
      ],
      "text/plain": [
       "            counts month_year  Cumulative\n",
       "month_year                               \n",
       "1/1900        1296 2015-11-01        1296\n",
       "12/2015         10 2015-12-01        1306\n",
       "4/2016          18 2016-04-01        1324\n",
       "5/2016          32 2016-05-01        1356\n",
       "7/2016          36 2016-07-01        1392\n",
       "8/2016          33 2016-08-01        1425\n",
       "9/2016           4 2016-09-01        1429\n",
       "10/2016         31 2016-10-01        1460\n",
       "11/2016          5 2016-11-01        1465\n",
       "12/2016         27 2016-12-01        1492\n",
       "1/2017           3 2017-01-01        1495\n",
       "2/2017         122 2017-02-01        1617\n",
       "3/2017          14 2017-03-01        1631\n",
       "4/2017         143 2017-04-01        1774\n",
       "5/2017         197 2017-05-01        1971\n",
       "6/2017         175 2017-06-01        2146\n",
       "7/2017          49 2017-07-01        2195"
      ]
     },
     "execution_count": 8,
     "metadata": {},
     "output_type": "execute_result"
    }
   ],
   "source": [
    "counts_by_month_year"
   ]
  },
  {
   "cell_type": "code",
   "execution_count": 46,
   "metadata": {},
   "outputs": [
    {
     "data": {
      "image/png": "[encoded data removed]",
      "text/plain": [
       "<matplotlib.figure.Figure at 0x18eac4bda58>"
      ]
     },
     "metadata": {},
     "output_type": "display_data"
    }
   ],
   "source": [
    "fig, ax_1 = plt.subplots()\n",
    "ax_1.plot(counts_by_month_year.month_year,counts_by_month_year.Cumulative, 'o-', color=colors[1])\n",
    "ax_1.format_xdata = mdates.DateFormatter('%Y-%m')\n",
    "fig.autofmt_xdate()\n",
    "ax_1.grid(True)\n",
    "ax_1.set_title('Vehicle-plates with turnstiles evolution')\n",
    "ax_1.annotate('Start', xy=(pd.to_datetime('2015-11-01'), 1500), xytext=(pd.to_datetime('2015-11-01'), 1700),\n",
    "            arrowprops=dict(facecolor='black', shrink=0.001),horizontalalignment='center', verticalalignment='top')\n",
    "\n",
    "for (x,y) in zip(counts_by_month_year.month_year,counts_by_month_year.Cumulative):\n",
    "    ax_1.annotate('%s' % y, xy=(x,y), xytext=(x,y+150),rotation='vertical')\n",
    "    \n",
    "#plt.savefig('C:/Users/Tesista/Desktop/Evasion/03_report/02_Figs/vehicle-plates-with-turnstiles-evolution.pdf')"
   ]
  },
  {
   "cell_type": "code",
   "execution_count": null,
   "metadata": {
    "collapsed": true
   },
   "outputs": [],
   "source": []
  },
  {
   "cell_type": "code",
   "execution_count": null,
   "metadata": {
    "collapsed": true
   },
   "outputs": [],
   "source": []
  }
 ],
 "metadata": {
  "kernelspec": {
   "display_name": "Python 3",
   "language": "python",
   "name": "python3"
  },
  "language_info": {
   "codemirror_mode": {
    "name": "ipython",
    "version": 3
   },
   "file_extension": ".py",
   "mimetype": "text/x-python",
   "name": "python",
   "nbconvert_exporter": "python",
   "pygments_lexer": "ipython3",
   "version": "3.6.1"
  }
 },
 "nbformat": 4,
 "nbformat_minor": 2
}
