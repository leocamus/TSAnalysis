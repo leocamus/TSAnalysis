{
 "cells": [
  {
   "cell_type": "markdown",
   "metadata": {},
   "source": [
    "# Building Histograms"
   ]
  },
  {
   "cell_type": "markdown",
   "metadata": {},
   "source": [
    "### How to run this code:\n",
    "* Give date and type of vehicle as arguments\n",
    "* If simplified etapas file does not exist, then run RunDailyEtapasBuilder.runSimplifyEtapas(). If it already exists, then omit it"
   ]
  },
  {
   "cell_type": "markdown",
   "metadata": {},
   "source": [
    "Run the builder in this order:\n",
    "1. etapas_df = RunDailyEtapasBuilder.loadSimplifiedEtapas()\n",
    "2. merged_df = RunDailyEtapasBuilder.includeTorniquetesDate(etapas_df)\n",
    "3. clean_df = RunDailyEtapasBuilder.cleanDataFrame(merged_df)\n",
    "4. sorted_df = RunDailyEtapasBuilder.sortDataFrame(clean_df)"
   ]
  },
  {
   "cell_type": "code",
   "execution_count": 2,
   "metadata": {
    "scrolled": true
   },
   "outputs": [],
   "source": [
    "%matplotlib inline\n",
    "import pandas as pd\n",
    "import matplotlib\n",
    "import matplotlib.pyplot as plt\n",
    "from importlib import reload"
   ]
  },
  {
   "cell_type": "code",
   "execution_count": 3,
   "metadata": {},
   "outputs": [
    {
     "name": "stdout",
     "output_type": "stream",
     "text": [
      "Enter the date to analyze: 2017-03-01\n",
      "Enter the vehicle to analyze: BUS\n"
     ]
    }
   ],
   "source": [
    "import RunDailyEtapasBuilder"
   ]
  },
  {
   "cell_type": "markdown",
   "metadata": {},
   "source": [
    "* Running the builder of the dataframe"
   ]
  },
  {
   "cell_type": "code",
   "execution_count": 4,
   "metadata": {},
   "outputs": [
    {
     "name": "stdout",
     "output_type": "stream",
     "text": [
      "0\n"
     ]
    }
   ],
   "source": [
    "etapas_df=RunDailyEtapasBuilder.loadSimplifiedEtapas()\n",
    "merged_df = RunDailyEtapasBuilder.includeTorniquetesDate(etapas_df)\n",
    "clean_df = RunDailyEtapasBuilder.cleanDataFrame(merged_df)\n",
    "sorted_df = RunDailyEtapasBuilder.sortDataFrame(clean_df)"
   ]
  },
  {
   "cell_type": "markdown",
   "metadata": {},
   "source": [
    "* Adding necessary attributes"
   ]
  },
  {
   "cell_type": "code",
   "execution_count": 7,
   "metadata": {},
   "outputs": [],
   "source": [
    "sorted_df['t_subida'] = pd.to_datetime(sorted_df.t_subida)\n",
    "sorted_df['fecha_instalacion'] = pd.to_datetime(sorted_df.fecha_instalacion)\n",
    "\n",
    "sorted_df['diferencia_tiempo'] = (sorted_df['t_subida']-sorted_df['t_subida'].shift()).fillna(0)\n",
    "sorted_df['diferencia_tiempo_secs'] = sorted_df['diferencia_tiempo'].dt.total_seconds()\n",
    "sorted_df['mismo_paradero'] = (sorted_df['par_subida']==sorted_df['par_subida'].shift()).fillna(0)\n",
    "\n",
    "sorted_df['si_torniquete'] = (sorted_df['fecha_instalacion']<=sorted_df['t_subida']).fillna(0)"
   ]
  },
  {
   "cell_type": "markdown",
   "metadata": {},
   "source": [
    "* Filtering by mismo_paradero and by si_torniquete"
   ]
  },
  {
   "cell_type": "code",
   "execution_count": 9,
   "metadata": {},
   "outputs": [],
   "source": [
    "filtered_df = sorted_df[sorted_df['mismo_paradero']==True]\n",
    "filtered_torniquete_df = filtered_df[filtered_df['si_torniquete']==True]\n",
    "filtered_no_torniquete_df = filtered_df[filtered_df['si_torniquete']==False]"
   ]
  },
  {
   "cell_type": "markdown",
   "metadata": {},
   "source": [
    "* Looking the data"
   ]
  },
  {
   "cell_type": "code",
   "execution_count": 10,
   "metadata": {
    "collapsed": true
   },
   "outputs": [
    {
     "data": {
      "text/html": [
       "<div>\n",
       "<style>\n",
       "    .dataframe thead tr:only-child th {\n",
       "        text-align: right;\n",
       "    }\n",
       "\n",
       "    .dataframe thead th {\n",
       "        text-align: left;\n",
       "    }\n",
       "\n",
       "    .dataframe tbody tr th {\n",
       "        vertical-align: top;\n",
       "    }\n",
       "</style>\n",
       "<table border=\"1\" class=\"dataframe\">\n",
       "  <thead>\n",
       "    <tr style=\"text-align: right;\">\n",
       "      <th></th>\n",
       "      <th>id</th>\n",
       "      <th>nviaje</th>\n",
       "      <th>tipo_transporte</th>\n",
       "      <th>t_subida</th>\n",
       "      <th>servicio_subida</th>\n",
       "      <th>par_subida</th>\n",
       "      <th>sitio_subida</th>\n",
       "      <th>fecha_instalacion</th>\n",
       "      <th>diferencia_tiempo</th>\n",
       "      <th>diferencia_tiempo_secs</th>\n",
       "      <th>mismo_paradero</th>\n",
       "      <th>si_torniquete</th>\n",
       "    </tr>\n",
       "  </thead>\n",
       "  <tbody>\n",
       "    <tr>\n",
       "      <th>676881</th>\n",
       "      <td>4010786011</td>\n",
       "      <td>1</td>\n",
       "      <td>BUS</td>\n",
       "      <td>2017-03-01 04:22:35</td>\n",
       "      <td>F28 C2 00I</td>\n",
       "      <td>L-34-89-2-PO</td>\n",
       "      <td>BBJZ-76</td>\n",
       "      <td>2016-11-01</td>\n",
       "      <td>00:00:06</td>\n",
       "      <td>6.0</td>\n",
       "      <td>True</td>\n",
       "      <td>True</td>\n",
       "    </tr>\n",
       "    <tr>\n",
       "      <th>676882</th>\n",
       "      <td>4011556219</td>\n",
       "      <td>1</td>\n",
       "      <td>BUS</td>\n",
       "      <td>2017-03-01 05:40:11</td>\n",
       "      <td>F08 00R</td>\n",
       "      <td>L-34-41-100-OP</td>\n",
       "      <td>BBJZ-76</td>\n",
       "      <td>2016-11-01</td>\n",
       "      <td>00:00:06</td>\n",
       "      <td>6.0</td>\n",
       "      <td>True</td>\n",
       "      <td>True</td>\n",
       "    </tr>\n",
       "    <tr>\n",
       "      <th>676832</th>\n",
       "      <td>2802344526</td>\n",
       "      <td>1</td>\n",
       "      <td>BUS</td>\n",
       "      <td>2017-03-01 05:40:15</td>\n",
       "      <td>F08 00R</td>\n",
       "      <td>L-34-41-100-OP</td>\n",
       "      <td>BBJZ-76</td>\n",
       "      <td>2016-11-01</td>\n",
       "      <td>00:00:04</td>\n",
       "      <td>4.0</td>\n",
       "      <td>True</td>\n",
       "      <td>True</td>\n",
       "    </tr>\n",
       "    <tr>\n",
       "      <th>676868</th>\n",
       "      <td>3609949028</td>\n",
       "      <td>1</td>\n",
       "      <td>BUS</td>\n",
       "      <td>2017-03-01 05:40:41</td>\n",
       "      <td>F08 00R</td>\n",
       "      <td>L-34-41-100-OP</td>\n",
       "      <td>BBJZ-76</td>\n",
       "      <td>2016-11-01</td>\n",
       "      <td>00:00:26</td>\n",
       "      <td>26.0</td>\n",
       "      <td>True</td>\n",
       "      <td>True</td>\n",
       "    </tr>\n",
       "    <tr>\n",
       "      <th>676886</th>\n",
       "      <td>4209437819</td>\n",
       "      <td>1</td>\n",
       "      <td>BUS</td>\n",
       "      <td>2017-03-01 05:43:06</td>\n",
       "      <td>F08 00R</td>\n",
       "      <td>L-34-41-45-OP</td>\n",
       "      <td>BBJZ-76</td>\n",
       "      <td>2016-11-01</td>\n",
       "      <td>00:00:05</td>\n",
       "      <td>5.0</td>\n",
       "      <td>True</td>\n",
       "      <td>True</td>\n",
       "    </tr>\n",
       "  </tbody>\n",
       "</table>\n",
       "</div>"
      ],
      "text/plain": [
       "                id  nviaje tipo_transporte            t_subida  \\\n",
       "676881  4010786011       1             BUS 2017-03-01 04:22:35   \n",
       "676882  4011556219       1             BUS 2017-03-01 05:40:11   \n",
       "676832  2802344526       1             BUS 2017-03-01 05:40:15   \n",
       "676868  3609949028       1             BUS 2017-03-01 05:40:41   \n",
       "676886  4209437819       1             BUS 2017-03-01 05:43:06   \n",
       "\n",
       "       servicio_subida      par_subida sitio_subida fecha_instalacion  \\\n",
       "676881      F28 C2 00I    L-34-89-2-PO      BBJZ-76        2016-11-01   \n",
       "676882         F08 00R  L-34-41-100-OP      BBJZ-76        2016-11-01   \n",
       "676832         F08 00R  L-34-41-100-OP      BBJZ-76        2016-11-01   \n",
       "676868         F08 00R  L-34-41-100-OP      BBJZ-76        2016-11-01   \n",
       "676886         F08 00R   L-34-41-45-OP      BBJZ-76        2016-11-01   \n",
       "\n",
       "       diferencia_tiempo  diferencia_tiempo_secs  mismo_paradero  \\\n",
       "676881          00:00:06                     6.0            True   \n",
       "676882          00:00:06                     6.0            True   \n",
       "676832          00:00:04                     4.0            True   \n",
       "676868          00:00:26                    26.0            True   \n",
       "676886          00:00:05                     5.0            True   \n",
       "\n",
       "        si_torniquete  \n",
       "676881           True  \n",
       "676882           True  \n",
       "676832           True  \n",
       "676868           True  \n",
       "676886           True  "
      ]
     },
     "execution_count": 10,
     "metadata": {},
     "output_type": "execute_result"
    }
   ],
   "source": [
    "filtered_df.head()"
   ]
  },
  {
   "cell_type": "code",
   "execution_count": 11,
   "metadata": {
    "collapsed": true
   },
   "outputs": [
    {
     "data": {
      "text/html": [
       "<div>\n",
       "<style>\n",
       "    .dataframe thead tr:only-child th {\n",
       "        text-align: right;\n",
       "    }\n",
       "\n",
       "    .dataframe thead th {\n",
       "        text-align: left;\n",
       "    }\n",
       "\n",
       "    .dataframe tbody tr th {\n",
       "        vertical-align: top;\n",
       "    }\n",
       "</style>\n",
       "<table border=\"1\" class=\"dataframe\">\n",
       "  <thead>\n",
       "    <tr style=\"text-align: right;\">\n",
       "      <th></th>\n",
       "      <th>id</th>\n",
       "      <th>nviaje</th>\n",
       "      <th>tipo_transporte</th>\n",
       "      <th>t_subida</th>\n",
       "      <th>servicio_subida</th>\n",
       "      <th>par_subida</th>\n",
       "      <th>sitio_subida</th>\n",
       "      <th>fecha_instalacion</th>\n",
       "      <th>diferencia_tiempo</th>\n",
       "      <th>diferencia_tiempo_secs</th>\n",
       "      <th>mismo_paradero</th>\n",
       "      <th>si_torniquete</th>\n",
       "    </tr>\n",
       "  </thead>\n",
       "  <tbody>\n",
       "    <tr>\n",
       "      <th>676881</th>\n",
       "      <td>4010786011</td>\n",
       "      <td>1</td>\n",
       "      <td>BUS</td>\n",
       "      <td>2017-03-01 04:22:35</td>\n",
       "      <td>F28 C2 00I</td>\n",
       "      <td>L-34-89-2-PO</td>\n",
       "      <td>BBJZ-76</td>\n",
       "      <td>2016-11-01</td>\n",
       "      <td>00:00:06</td>\n",
       "      <td>6.0</td>\n",
       "      <td>True</td>\n",
       "      <td>True</td>\n",
       "    </tr>\n",
       "    <tr>\n",
       "      <th>676882</th>\n",
       "      <td>4011556219</td>\n",
       "      <td>1</td>\n",
       "      <td>BUS</td>\n",
       "      <td>2017-03-01 05:40:11</td>\n",
       "      <td>F08 00R</td>\n",
       "      <td>L-34-41-100-OP</td>\n",
       "      <td>BBJZ-76</td>\n",
       "      <td>2016-11-01</td>\n",
       "      <td>00:00:06</td>\n",
       "      <td>6.0</td>\n",
       "      <td>True</td>\n",
       "      <td>True</td>\n",
       "    </tr>\n",
       "    <tr>\n",
       "      <th>676832</th>\n",
       "      <td>2802344526</td>\n",
       "      <td>1</td>\n",
       "      <td>BUS</td>\n",
       "      <td>2017-03-01 05:40:15</td>\n",
       "      <td>F08 00R</td>\n",
       "      <td>L-34-41-100-OP</td>\n",
       "      <td>BBJZ-76</td>\n",
       "      <td>2016-11-01</td>\n",
       "      <td>00:00:04</td>\n",
       "      <td>4.0</td>\n",
       "      <td>True</td>\n",
       "      <td>True</td>\n",
       "    </tr>\n",
       "    <tr>\n",
       "      <th>676868</th>\n",
       "      <td>3609949028</td>\n",
       "      <td>1</td>\n",
       "      <td>BUS</td>\n",
       "      <td>2017-03-01 05:40:41</td>\n",
       "      <td>F08 00R</td>\n",
       "      <td>L-34-41-100-OP</td>\n",
       "      <td>BBJZ-76</td>\n",
       "      <td>2016-11-01</td>\n",
       "      <td>00:00:26</td>\n",
       "      <td>26.0</td>\n",
       "      <td>True</td>\n",
       "      <td>True</td>\n",
       "    </tr>\n",
       "    <tr>\n",
       "      <th>676886</th>\n",
       "      <td>4209437819</td>\n",
       "      <td>1</td>\n",
       "      <td>BUS</td>\n",
       "      <td>2017-03-01 05:43:06</td>\n",
       "      <td>F08 00R</td>\n",
       "      <td>L-34-41-45-OP</td>\n",
       "      <td>BBJZ-76</td>\n",
       "      <td>2016-11-01</td>\n",
       "      <td>00:00:05</td>\n",
       "      <td>5.0</td>\n",
       "      <td>True</td>\n",
       "      <td>True</td>\n",
       "    </tr>\n",
       "  </tbody>\n",
       "</table>\n",
       "</div>"
      ],
      "text/plain": [
       "                id  nviaje tipo_transporte            t_subida  \\\n",
       "676881  4010786011       1             BUS 2017-03-01 04:22:35   \n",
       "676882  4011556219       1             BUS 2017-03-01 05:40:11   \n",
       "676832  2802344526       1             BUS 2017-03-01 05:40:15   \n",
       "676868  3609949028       1             BUS 2017-03-01 05:40:41   \n",
       "676886  4209437819       1             BUS 2017-03-01 05:43:06   \n",
       "\n",
       "       servicio_subida      par_subida sitio_subida fecha_instalacion  \\\n",
       "676881      F28 C2 00I    L-34-89-2-PO      BBJZ-76        2016-11-01   \n",
       "676882         F08 00R  L-34-41-100-OP      BBJZ-76        2016-11-01   \n",
       "676832         F08 00R  L-34-41-100-OP      BBJZ-76        2016-11-01   \n",
       "676868         F08 00R  L-34-41-100-OP      BBJZ-76        2016-11-01   \n",
       "676886         F08 00R   L-34-41-45-OP      BBJZ-76        2016-11-01   \n",
       "\n",
       "       diferencia_tiempo  diferencia_tiempo_secs  mismo_paradero  \\\n",
       "676881          00:00:06                     6.0            True   \n",
       "676882          00:00:06                     6.0            True   \n",
       "676832          00:00:04                     4.0            True   \n",
       "676868          00:00:26                    26.0            True   \n",
       "676886          00:00:05                     5.0            True   \n",
       "\n",
       "        si_torniquete  \n",
       "676881           True  \n",
       "676882           True  \n",
       "676832           True  \n",
       "676868           True  \n",
       "676886           True  "
      ]
     },
     "execution_count": 11,
     "metadata": {},
     "output_type": "execute_result"
    }
   ],
   "source": [
    "filtered_torniquete_df.head()"
   ]
  },
  {
   "cell_type": "code",
   "execution_count": 12,
   "metadata": {
    "collapsed": true
   },
   "outputs": [
    {
     "data": {
      "text/html": [
       "<div>\n",
       "<style>\n",
       "    .dataframe thead tr:only-child th {\n",
       "        text-align: right;\n",
       "    }\n",
       "\n",
       "    .dataframe thead th {\n",
       "        text-align: left;\n",
       "    }\n",
       "\n",
       "    .dataframe tbody tr th {\n",
       "        vertical-align: top;\n",
       "    }\n",
       "</style>\n",
       "<table border=\"1\" class=\"dataframe\">\n",
       "  <thead>\n",
       "    <tr style=\"text-align: right;\">\n",
       "      <th></th>\n",
       "      <th>id</th>\n",
       "      <th>nviaje</th>\n",
       "      <th>tipo_transporte</th>\n",
       "      <th>t_subida</th>\n",
       "      <th>servicio_subida</th>\n",
       "      <th>par_subida</th>\n",
       "      <th>sitio_subida</th>\n",
       "      <th>fecha_instalacion</th>\n",
       "      <th>diferencia_tiempo</th>\n",
       "      <th>diferencia_tiempo_secs</th>\n",
       "      <th>mismo_paradero</th>\n",
       "      <th>si_torniquete</th>\n",
       "    </tr>\n",
       "  </thead>\n",
       "  <tbody>\n",
       "    <tr>\n",
       "      <th>333798</th>\n",
       "      <td>80190406</td>\n",
       "      <td>1</td>\n",
       "      <td>BUS</td>\n",
       "      <td>2017-03-01 06:12:47</td>\n",
       "      <td>T502 C0 00I</td>\n",
       "      <td>L-11-5-5-PO</td>\n",
       "      <td>BDXR-14</td>\n",
       "      <td>2017-04-28</td>\n",
       "      <td>00:00:03</td>\n",
       "      <td>3.0</td>\n",
       "      <td>True</td>\n",
       "      <td>False</td>\n",
       "    </tr>\n",
       "    <tr>\n",
       "      <th>334241</th>\n",
       "      <td>3856974411</td>\n",
       "      <td>1</td>\n",
       "      <td>BUS</td>\n",
       "      <td>2017-03-01 06:13:25</td>\n",
       "      <td>T502 C0 00I</td>\n",
       "      <td>T-11-85-PO-3</td>\n",
       "      <td>BDXR-14</td>\n",
       "      <td>2017-04-28</td>\n",
       "      <td>00:00:02</td>\n",
       "      <td>2.0</td>\n",
       "      <td>True</td>\n",
       "      <td>False</td>\n",
       "    </tr>\n",
       "    <tr>\n",
       "      <th>334193</th>\n",
       "      <td>3561804766</td>\n",
       "      <td>1</td>\n",
       "      <td>BUS</td>\n",
       "      <td>2017-03-01 06:13:27</td>\n",
       "      <td>T502 C0 00I</td>\n",
       "      <td>T-11-85-PO-3</td>\n",
       "      <td>BDXR-14</td>\n",
       "      <td>2017-04-28</td>\n",
       "      <td>00:00:02</td>\n",
       "      <td>2.0</td>\n",
       "      <td>True</td>\n",
       "      <td>False</td>\n",
       "    </tr>\n",
       "    <tr>\n",
       "      <th>334267</th>\n",
       "      <td>3965850650</td>\n",
       "      <td>1</td>\n",
       "      <td>BUS</td>\n",
       "      <td>2017-03-01 06:16:04</td>\n",
       "      <td>T502 C0 00I</td>\n",
       "      <td>L-11-18-15-PO</td>\n",
       "      <td>BDXR-14</td>\n",
       "      <td>2017-04-28</td>\n",
       "      <td>00:00:02</td>\n",
       "      <td>2.0</td>\n",
       "      <td>True</td>\n",
       "      <td>False</td>\n",
       "    </tr>\n",
       "    <tr>\n",
       "      <th>334053</th>\n",
       "      <td>2527036206</td>\n",
       "      <td>1</td>\n",
       "      <td>BUS</td>\n",
       "      <td>2017-03-01 06:16:37</td>\n",
       "      <td>T502 C0 00I</td>\n",
       "      <td>L-11-18-25-PO</td>\n",
       "      <td>BDXR-14</td>\n",
       "      <td>2017-04-28</td>\n",
       "      <td>00:00:00</td>\n",
       "      <td>0.0</td>\n",
       "      <td>True</td>\n",
       "      <td>False</td>\n",
       "    </tr>\n",
       "  </tbody>\n",
       "</table>\n",
       "</div>"
      ],
      "text/plain": [
       "                id  nviaje tipo_transporte            t_subida  \\\n",
       "333798    80190406       1             BUS 2017-03-01 06:12:47   \n",
       "334241  3856974411       1             BUS 2017-03-01 06:13:25   \n",
       "334193  3561804766       1             BUS 2017-03-01 06:13:27   \n",
       "334267  3965850650       1             BUS 2017-03-01 06:16:04   \n",
       "334053  2527036206       1             BUS 2017-03-01 06:16:37   \n",
       "\n",
       "       servicio_subida     par_subida sitio_subida fecha_instalacion  \\\n",
       "333798     T502 C0 00I    L-11-5-5-PO      BDXR-14        2017-04-28   \n",
       "334241     T502 C0 00I   T-11-85-PO-3      BDXR-14        2017-04-28   \n",
       "334193     T502 C0 00I   T-11-85-PO-3      BDXR-14        2017-04-28   \n",
       "334267     T502 C0 00I  L-11-18-15-PO      BDXR-14        2017-04-28   \n",
       "334053     T502 C0 00I  L-11-18-25-PO      BDXR-14        2017-04-28   \n",
       "\n",
       "       diferencia_tiempo  diferencia_tiempo_secs  mismo_paradero  \\\n",
       "333798          00:00:03                     3.0            True   \n",
       "334241          00:00:02                     2.0            True   \n",
       "334193          00:00:02                     2.0            True   \n",
       "334267          00:00:02                     2.0            True   \n",
       "334053          00:00:00                     0.0            True   \n",
       "\n",
       "        si_torniquete  \n",
       "333798          False  \n",
       "334241          False  \n",
       "334193          False  \n",
       "334267          False  \n",
       "334053          False  "
      ]
     },
     "execution_count": 12,
     "metadata": {},
     "output_type": "execute_result"
    }
   ],
   "source": [
    "filtered_no_torniquete_df.head()"
   ]
  },
  {
   "cell_type": "markdown",
   "metadata": {},
   "source": [
    "* Plotting"
   ]
  },
  {
   "cell_type": "code",
   "execution_count": null,
   "metadata": {},
   "outputs": [],
   "source": [
    "colors = [(2, 136, 209),(0, 151, 167),(0, 121, 107)]\n",
    "for i in range(len(colors)):\n",
    "    r, g, b = colors[i]  \n",
    "    colors[i] = (r / 255., g / 255., b / 255.)\n",
    "\n",
    "original_hist, ax = plt.subplots()\n",
    "original_hist_data = ax.hist(sorted_df['diferencia_tiempo_secs'].values,bins=range(0,1*60,1),color=colors[0])\n",
    "ax.set_title('Non_filtered histogram')\n",
    "ax.set_xlabel('time-interval[s]')\n",
    "ax.set_ylabel('Frequency')\n"
   ]
  },
  {
   "cell_type": "code",
   "execution_count": null,
   "metadata": {
    "scrolled": true
   },
   "outputs": [],
   "source": [
    "filtered_hist, ax = plt.subplots()\n",
    "filtered_hist_data = ax.hist(filtered_sorted_df['diferencia_tiempo_secs'].values,bins=range(0,1*60,1),color=colors[1])\n",
    "ax.set_title('Filtered histogram')\n",
    "ax.set_xlabel('time-interval[s]')\n",
    "ax.set_ylabel('Frequency')"
   ]
  }
 ],
 "metadata": {
  "kernelspec": {
   "display_name": "Python 3",
   "language": "python",
   "name": "python3"
  },
  "language_info": {
   "codemirror_mode": {
    "name": "ipython",
    "version": 3
   },
   "file_extension": ".py",
   "mimetype": "text/x-python",
   "name": "python",
   "nbconvert_exporter": "python",
   "pygments_lexer": "ipython3",
   "version": "3.6.1"
  }
 },
 "nbformat": 4,
 "nbformat_minor": 2
}
