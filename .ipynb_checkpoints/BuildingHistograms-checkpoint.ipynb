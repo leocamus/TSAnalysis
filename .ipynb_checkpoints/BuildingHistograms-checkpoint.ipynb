{
 "cells": [
  {
   "cell_type": "markdown",
   "metadata": {},
   "source": [
    "# Building Histograms"
   ]
  },
  {
   "cell_type": "markdown",
   "metadata": {},
   "source": [
    "### How to run this code:\n",
    "* Give date and type of vehicle as arguments\n",
    "* If simplified etapas file does not exist, then run RunDailyEtapasBuilder.runSimplifyEtapas(). If it already exists, then omit it"
   ]
  },
  {
   "cell_type": "markdown",
   "metadata": {},
   "source": [
    "Run the builder in this order:\n",
    "1. etapas_df = RunDailyEtapasBuilder.loadSimplifiedEtapas()\n",
    "2. merged_df = RunDailyEtapasBuilder.includeTorniquetesDate(etapas_df)\n",
    "3. clean_df = RunDailyEtapasBuilder.cleanDataFrame(merged_df)\n",
    "4. sorted_df = RunDailyEtapasBuilder.sortDataFrame(clean_df)"
   ]
  },
  {
   "cell_type": "code",
   "execution_count": 14,
   "metadata": {
    "scrolled": true
   },
   "outputs": [],
   "source": [
    "%matplotlib inline\n",
    "import pandas as pd\n",
    "import matplotlib\n",
    "import matplotlib.pyplot as plt\n",
    "from importlib import reload"
   ]
  },
  {
   "cell_type": "code",
   "execution_count": 15,
   "metadata": {},
   "outputs": [],
   "source": [
    "import RunDailyEtapasBuilder"
   ]
  },
  {
   "cell_type": "code",
   "execution_count": 27,
   "metadata": {},
   "outputs": [
    {
     "name": "stdout",
     "output_type": "stream",
     "text": [
      "Enter the date to analyze: 2017-03-01\n",
      "Enter the vehicle to analyze: BUS\n"
     ]
    },
    {
     "data": {
      "text/plain": [
       "<module 'RunDailyEtapasBuilder' from 'C:\\\\Users\\\\Tesista\\\\Desktop\\\\Evasion\\\\01_analisis\\\\04_scripts\\\\TSAnalysis\\\\RunDailyEtapasBuilder.py'>"
      ]
     },
     "execution_count": 27,
     "metadata": {},
     "output_type": "execute_result"
    }
   ],
   "source": [
    "reload(RunDailyEtapasBuilder)"
   ]
  },
  {
   "cell_type": "markdown",
   "metadata": {},
   "source": [
    "* Running the builder of the dataframe"
   ]
  },
  {
   "cell_type": "code",
   "execution_count": 28,
   "metadata": {},
   "outputs": [
    {
     "name": "stdout",
     "output_type": "stream",
     "text": [
      "Not found in turnstile database: 1614656\n"
     ]
    }
   ],
   "source": [
    "etapas_df=RunDailyEtapasBuilder.loadSimplifiedEtapas()\n",
    "merged_df = RunDailyEtapasBuilder.mergeTurnstileData(etapas_df)\n",
    "clean_df = RunDailyEtapasBuilder.cleanDataFrame(merged_df)\n",
    "sorted_df = RunDailyEtapasBuilder.sortDataFrame(clean_df)"
   ]
  },
  {
   "cell_type": "code",
   "execution_count": 29,
   "metadata": {},
   "outputs": [
    {
     "data": {
      "text/html": [
       "<div>\n",
       "<style>\n",
       "    .dataframe thead tr:only-child th {\n",
       "        text-align: right;\n",
       "    }\n",
       "\n",
       "    .dataframe thead th {\n",
       "        text-align: left;\n",
       "    }\n",
       "\n",
       "    .dataframe tbody tr th {\n",
       "        vertical-align: top;\n",
       "    }\n",
       "</style>\n",
       "<table border=\"1\" class=\"dataframe\">\n",
       "  <thead>\n",
       "    <tr style=\"text-align: right;\">\n",
       "      <th></th>\n",
       "      <th>id</th>\n",
       "      <th>nviaje</th>\n",
       "      <th>tipo_transporte</th>\n",
       "      <th>t_subida</th>\n",
       "      <th>servicio_subida</th>\n",
       "      <th>par_subida</th>\n",
       "      <th>sitio_subida</th>\n",
       "      <th>fecha_instalacion</th>\n",
       "    </tr>\n",
       "  </thead>\n",
       "  <tbody>\n",
       "    <tr>\n",
       "      <th>1863684</th>\n",
       "      <td>3552888222</td>\n",
       "      <td>1</td>\n",
       "      <td>BUS</td>\n",
       "      <td>2017-03-01 17:39:47</td>\n",
       "      <td>F07 00R</td>\n",
       "      <td>L-34-89-2-PO</td>\n",
       "      <td>BBJZ-74</td>\n",
       "      <td>NaT</td>\n",
       "    </tr>\n",
       "    <tr>\n",
       "      <th>1203472</th>\n",
       "      <td>2529602798</td>\n",
       "      <td>1</td>\n",
       "      <td>BUS</td>\n",
       "      <td>2017-03-01 17:44:11</td>\n",
       "      <td>F07 00R</td>\n",
       "      <td>L-34-53-25-PO</td>\n",
       "      <td>BBJZ-74</td>\n",
       "      <td>NaT</td>\n",
       "    </tr>\n",
       "    <tr>\n",
       "      <th>1598210</th>\n",
       "      <td>3169360958</td>\n",
       "      <td>1</td>\n",
       "      <td>BUS</td>\n",
       "      <td>2017-03-01 17:44:13</td>\n",
       "      <td>F07 00R</td>\n",
       "      <td>L-34-53-25-PO</td>\n",
       "      <td>BBJZ-74</td>\n",
       "      <td>NaT</td>\n",
       "    </tr>\n",
       "    <tr>\n",
       "      <th>930514</th>\n",
       "      <td>2140206880</td>\n",
       "      <td>2</td>\n",
       "      <td>BUS</td>\n",
       "      <td>2017-03-01 17:44:16</td>\n",
       "      <td>F07 00R</td>\n",
       "      <td>L-34-53-25-PO</td>\n",
       "      <td>BBJZ-74</td>\n",
       "      <td>NaT</td>\n",
       "    </tr>\n",
       "    <tr>\n",
       "      <th>1571797</th>\n",
       "      <td>3149482742</td>\n",
       "      <td>1</td>\n",
       "      <td>BUS</td>\n",
       "      <td>2017-03-01 17:46:33</td>\n",
       "      <td>F07 00R</td>\n",
       "      <td>L-34-53-40-PO</td>\n",
       "      <td>BBJZ-74</td>\n",
       "      <td>NaT</td>\n",
       "    </tr>\n",
       "  </tbody>\n",
       "</table>\n",
       "</div>"
      ],
      "text/plain": [
       "                 id  nviaje tipo_transporte            t_subida  \\\n",
       "1863684  3552888222       1             BUS 2017-03-01 17:39:47   \n",
       "1203472  2529602798       1             BUS 2017-03-01 17:44:11   \n",
       "1598210  3169360958       1             BUS 2017-03-01 17:44:13   \n",
       "930514   2140206880       2             BUS 2017-03-01 17:44:16   \n",
       "1571797  3149482742       1             BUS 2017-03-01 17:46:33   \n",
       "\n",
       "        servicio_subida     par_subida sitio_subida fecha_instalacion  \n",
       "1863684         F07 00R   L-34-89-2-PO      BBJZ-74               NaT  \n",
       "1203472         F07 00R  L-34-53-25-PO      BBJZ-74               NaT  \n",
       "1598210         F07 00R  L-34-53-25-PO      BBJZ-74               NaT  \n",
       "930514          F07 00R  L-34-53-25-PO      BBJZ-74               NaT  \n",
       "1571797         F07 00R  L-34-53-40-PO      BBJZ-74               NaT  "
      ]
     },
     "execution_count": 29,
     "metadata": {},
     "output_type": "execute_result"
    }
   ],
   "source": [
    "sorted_df.head()"
   ]
  },
  {
   "cell_type": "markdown",
   "metadata": {},
   "source": [
    "* Counting."
   ]
  },
  {
   "cell_type": "code",
   "execution_count": 30,
   "metadata": {},
   "outputs": [
    {
     "data": {
      "text/plain": [
       "2329229"
      ]
     },
     "execution_count": 30,
     "metadata": {},
     "output_type": "execute_result"
    }
   ],
   "source": [
    "etapas_df['id'].count()"
   ]
  },
  {
   "cell_type": "code",
   "execution_count": 31,
   "metadata": {
    "scrolled": true
   },
   "outputs": [
    {
     "data": {
      "text/plain": [
       "2329229"
      ]
     },
     "execution_count": 31,
     "metadata": {},
     "output_type": "execute_result"
    }
   ],
   "source": [
    "merged_df['id'].count()"
   ]
  },
  {
   "cell_type": "code",
   "execution_count": 32,
   "metadata": {
    "scrolled": true
   },
   "outputs": [
    {
     "data": {
      "text/plain": [
       "2210399"
      ]
     },
     "execution_count": 32,
     "metadata": {},
     "output_type": "execute_result"
    }
   ],
   "source": [
    "clean_df['id'].count()"
   ]
  },
  {
   "cell_type": "code",
   "execution_count": 33,
   "metadata": {},
   "outputs": [
    {
     "data": {
      "text/plain": [
       "2210399"
      ]
     },
     "execution_count": 33,
     "metadata": {},
     "output_type": "execute_result"
    }
   ],
   "source": [
    "sorted_df['id'].count()"
   ]
  },
  {
   "cell_type": "markdown",
   "metadata": {},
   "source": [
    "* Adding necessary attributes"
   ]
  },
  {
   "cell_type": "code",
   "execution_count": 36,
   "metadata": {},
   "outputs": [],
   "source": [
    "sorted_df['t_subida'] = pd.to_datetime(sorted_df.t_subida)\n",
    "sorted_df['fecha_instalacion'] = pd.to_datetime(sorted_df.fecha_instalacion)\n",
    "\n",
    "sorted_df['diferencia_tiempo'] = (sorted_df['t_subida']-sorted_df['t_subida'].shift()).fillna(0)\n",
    "\n",
    "sorted_df['diferencia_tiempo_secs'] = sorted_df['diferencia_tiempo'].dt.total_seconds()\n",
    "sorted_df['mismo_paradero'] = (sorted_df['par_subida']==sorted_df['par_subida'].shift()).fillna(0)\n",
    "\n",
    "sorted_df['si_torniquete'] = (sorted_df['fecha_instalacion']<=sorted_df['t_subida'])"
   ]
  },
  {
   "cell_type": "code",
   "execution_count": 88,
   "metadata": {},
   "outputs": [
    {
     "data": {
      "text/html": [
       "<div>\n",
       "<style>\n",
       "    .dataframe thead tr:only-child th {\n",
       "        text-align: right;\n",
       "    }\n",
       "\n",
       "    .dataframe thead th {\n",
       "        text-align: left;\n",
       "    }\n",
       "\n",
       "    .dataframe tbody tr th {\n",
       "        vertical-align: top;\n",
       "    }\n",
       "</style>\n",
       "<table border=\"1\" class=\"dataframe\">\n",
       "  <thead>\n",
       "    <tr style=\"text-align: right;\">\n",
       "      <th></th>\n",
       "      <th>id</th>\n",
       "      <th>nviaje</th>\n",
       "      <th>tipo_transporte</th>\n",
       "      <th>t_subida</th>\n",
       "      <th>servicio_subida</th>\n",
       "      <th>par_subida</th>\n",
       "      <th>sitio_subida</th>\n",
       "      <th>fecha_instalacion</th>\n",
       "      <th>diferencia_tiempo</th>\n",
       "      <th>diferencia_tiempo_secs</th>\n",
       "      <th>mismo_paradero</th>\n",
       "      <th>si_torniquete</th>\n",
       "      <th>diferencia_tiempo_trying</th>\n",
       "    </tr>\n",
       "  </thead>\n",
       "  <tbody>\n",
       "    <tr>\n",
       "      <th>1863684</th>\n",
       "      <td>3552888222</td>\n",
       "      <td>1</td>\n",
       "      <td>BUS</td>\n",
       "      <td>2017-03-01 17:39:47</td>\n",
       "      <td>F07 00R</td>\n",
       "      <td>L-34-89-2-PO</td>\n",
       "      <td>BBJZ-74</td>\n",
       "      <td>NaT</td>\n",
       "      <td>00:00:00</td>\n",
       "      <td>0.0</td>\n",
       "      <td>False</td>\n",
       "      <td>False</td>\n",
       "      <td>17226 days 17:39:47</td>\n",
       "    </tr>\n",
       "    <tr>\n",
       "      <th>1203472</th>\n",
       "      <td>2529602798</td>\n",
       "      <td>1</td>\n",
       "      <td>BUS</td>\n",
       "      <td>2017-03-01 17:44:11</td>\n",
       "      <td>F07 00R</td>\n",
       "      <td>L-34-53-25-PO</td>\n",
       "      <td>BBJZ-74</td>\n",
       "      <td>NaT</td>\n",
       "      <td>00:04:24</td>\n",
       "      <td>264.0</td>\n",
       "      <td>False</td>\n",
       "      <td>False</td>\n",
       "      <td>17226 days 17:44:11</td>\n",
       "    </tr>\n",
       "    <tr>\n",
       "      <th>1598210</th>\n",
       "      <td>3169360958</td>\n",
       "      <td>1</td>\n",
       "      <td>BUS</td>\n",
       "      <td>2017-03-01 17:44:13</td>\n",
       "      <td>F07 00R</td>\n",
       "      <td>L-34-53-25-PO</td>\n",
       "      <td>BBJZ-74</td>\n",
       "      <td>NaT</td>\n",
       "      <td>00:00:02</td>\n",
       "      <td>2.0</td>\n",
       "      <td>True</td>\n",
       "      <td>False</td>\n",
       "      <td>0 days 00:00:02</td>\n",
       "    </tr>\n",
       "    <tr>\n",
       "      <th>930514</th>\n",
       "      <td>2140206880</td>\n",
       "      <td>2</td>\n",
       "      <td>BUS</td>\n",
       "      <td>2017-03-01 17:44:16</td>\n",
       "      <td>F07 00R</td>\n",
       "      <td>L-34-53-25-PO</td>\n",
       "      <td>BBJZ-74</td>\n",
       "      <td>NaT</td>\n",
       "      <td>00:00:03</td>\n",
       "      <td>3.0</td>\n",
       "      <td>True</td>\n",
       "      <td>False</td>\n",
       "      <td>0 days 00:00:03</td>\n",
       "    </tr>\n",
       "    <tr>\n",
       "      <th>1571797</th>\n",
       "      <td>3149482742</td>\n",
       "      <td>1</td>\n",
       "      <td>BUS</td>\n",
       "      <td>2017-03-01 17:46:33</td>\n",
       "      <td>F07 00R</td>\n",
       "      <td>L-34-53-40-PO</td>\n",
       "      <td>BBJZ-74</td>\n",
       "      <td>NaT</td>\n",
       "      <td>00:02:17</td>\n",
       "      <td>137.0</td>\n",
       "      <td>False</td>\n",
       "      <td>False</td>\n",
       "      <td>17226 days 17:46:33</td>\n",
       "    </tr>\n",
       "  </tbody>\n",
       "</table>\n",
       "</div>"
      ],
      "text/plain": [
       "                 id  nviaje tipo_transporte            t_subida  \\\n",
       "1863684  3552888222       1             BUS 2017-03-01 17:39:47   \n",
       "1203472  2529602798       1             BUS 2017-03-01 17:44:11   \n",
       "1598210  3169360958       1             BUS 2017-03-01 17:44:13   \n",
       "930514   2140206880       2             BUS 2017-03-01 17:44:16   \n",
       "1571797  3149482742       1             BUS 2017-03-01 17:46:33   \n",
       "\n",
       "        servicio_subida     par_subida sitio_subida fecha_instalacion  \\\n",
       "1863684         F07 00R   L-34-89-2-PO      BBJZ-74               NaT   \n",
       "1203472         F07 00R  L-34-53-25-PO      BBJZ-74               NaT   \n",
       "1598210         F07 00R  L-34-53-25-PO      BBJZ-74               NaT   \n",
       "930514          F07 00R  L-34-53-25-PO      BBJZ-74               NaT   \n",
       "1571797         F07 00R  L-34-53-40-PO      BBJZ-74               NaT   \n",
       "\n",
       "        diferencia_tiempo  diferencia_tiempo_secs  mismo_paradero  \\\n",
       "1863684          00:00:00                     0.0           False   \n",
       "1203472          00:04:24                   264.0           False   \n",
       "1598210          00:00:02                     2.0            True   \n",
       "930514           00:00:03                     3.0            True   \n",
       "1571797          00:02:17                   137.0           False   \n",
       "\n",
       "         si_torniquete diferencia_tiempo_trying  \n",
       "1863684          False      17226 days 17:39:47  \n",
       "1203472          False      17226 days 17:44:11  \n",
       "1598210          False          0 days 00:00:02  \n",
       "930514           False          0 days 00:00:03  \n",
       "1571797          False      17226 days 17:46:33  "
      ]
     },
     "execution_count": 88,
     "metadata": {},
     "output_type": "execute_result"
    }
   ],
   "source": [
    "sorted_df.head()"
   ]
  },
  {
   "cell_type": "markdown",
   "metadata": {},
   "source": [
    "* Filtering by mismo_paradero and by si_torniquete"
   ]
  },
  {
   "cell_type": "code",
   "execution_count": 52,
   "metadata": {},
   "outputs": [],
   "source": [
    "filtered_df = sorted_df[sorted_df['mismo_paradero']==True]\n",
    "filtered_turnstile_df = filtered_df[filtered_df['si_torniquete']==True]\n",
    "filtered_no_turnstile_df = filtered_df[filtered_df['si_torniquete']==False]"
   ]
  },
  {
   "cell_type": "markdown",
   "metadata": {},
   "source": [
    "* Counting and checking"
   ]
  },
  {
   "cell_type": "code",
   "execution_count": 53,
   "metadata": {},
   "outputs": [
    {
     "data": {
      "text/plain": [
       "1380696"
      ]
     },
     "execution_count": 53,
     "metadata": {},
     "output_type": "execute_result"
    }
   ],
   "source": [
    "filtered_df['id'].count()"
   ]
  },
  {
   "cell_type": "code",
   "execution_count": 54,
   "metadata": {
    "scrolled": true
   },
   "outputs": [
    {
     "name": "stdout",
     "output_type": "stream",
     "text": [
      "285061\n"
     ]
    }
   ],
   "source": [
    "a = filtered_turnstile_df['id'].count()\n",
    "print(a)"
   ]
  },
  {
   "cell_type": "code",
   "execution_count": 55,
   "metadata": {},
   "outputs": [
    {
     "name": "stdout",
     "output_type": "stream",
     "text": [
      "1095635\n"
     ]
    }
   ],
   "source": [
    "b = filtered_no_turnstile_df['id'].count()\n",
    "print(b)"
   ]
  },
  {
   "cell_type": "code",
   "execution_count": 56,
   "metadata": {},
   "outputs": [
    {
     "name": "stdout",
     "output_type": "stream",
     "text": [
      "1380696\n"
     ]
    }
   ],
   "source": [
    "checking = a+b\n",
    "print(checking)"
   ]
  },
  {
   "cell_type": "markdown",
   "metadata": {},
   "source": [
    "* Looking the data"
   ]
  },
  {
   "cell_type": "code",
   "execution_count": 57,
   "metadata": {},
   "outputs": [
    {
     "data": {
      "text/html": [
       "<div>\n",
       "<style>\n",
       "    .dataframe thead tr:only-child th {\n",
       "        text-align: right;\n",
       "    }\n",
       "\n",
       "    .dataframe thead th {\n",
       "        text-align: left;\n",
       "    }\n",
       "\n",
       "    .dataframe tbody tr th {\n",
       "        vertical-align: top;\n",
       "    }\n",
       "</style>\n",
       "<table border=\"1\" class=\"dataframe\">\n",
       "  <thead>\n",
       "    <tr style=\"text-align: right;\">\n",
       "      <th></th>\n",
       "      <th>id</th>\n",
       "      <th>nviaje</th>\n",
       "      <th>tipo_transporte</th>\n",
       "      <th>t_subida</th>\n",
       "      <th>servicio_subida</th>\n",
       "      <th>par_subida</th>\n",
       "      <th>sitio_subida</th>\n",
       "      <th>fecha_instalacion</th>\n",
       "      <th>diferencia_tiempo</th>\n",
       "      <th>diferencia_tiempo_secs</th>\n",
       "      <th>mismo_paradero</th>\n",
       "      <th>si_torniquete</th>\n",
       "    </tr>\n",
       "  </thead>\n",
       "  <tbody>\n",
       "    <tr>\n",
       "      <th>1598210</th>\n",
       "      <td>3169360958</td>\n",
       "      <td>1</td>\n",
       "      <td>BUS</td>\n",
       "      <td>2017-03-01 17:44:13</td>\n",
       "      <td>F07 00R</td>\n",
       "      <td>L-34-53-25-PO</td>\n",
       "      <td>BBJZ-74</td>\n",
       "      <td>NaT</td>\n",
       "      <td>00:00:02</td>\n",
       "      <td>2.0</td>\n",
       "      <td>True</td>\n",
       "      <td>False</td>\n",
       "    </tr>\n",
       "    <tr>\n",
       "      <th>930514</th>\n",
       "      <td>2140206880</td>\n",
       "      <td>2</td>\n",
       "      <td>BUS</td>\n",
       "      <td>2017-03-01 17:44:16</td>\n",
       "      <td>F07 00R</td>\n",
       "      <td>L-34-53-25-PO</td>\n",
       "      <td>BBJZ-74</td>\n",
       "      <td>NaT</td>\n",
       "      <td>00:00:03</td>\n",
       "      <td>3.0</td>\n",
       "      <td>True</td>\n",
       "      <td>False</td>\n",
       "    </tr>\n",
       "    <tr>\n",
       "      <th>1075050</th>\n",
       "      <td>2462653900</td>\n",
       "      <td>2</td>\n",
       "      <td>BUS</td>\n",
       "      <td>2017-03-01 17:50:05</td>\n",
       "      <td>F07 00R</td>\n",
       "      <td>L-34-23-25-NS</td>\n",
       "      <td>BBJZ-74</td>\n",
       "      <td>NaT</td>\n",
       "      <td>00:00:04</td>\n",
       "      <td>4.0</td>\n",
       "      <td>True</td>\n",
       "      <td>False</td>\n",
       "    </tr>\n",
       "    <tr>\n",
       "      <th>137827</th>\n",
       "      <td>95205238</td>\n",
       "      <td>3</td>\n",
       "      <td>BUS</td>\n",
       "      <td>2017-03-01 17:50:12</td>\n",
       "      <td>F07 00R</td>\n",
       "      <td>L-34-23-25-NS</td>\n",
       "      <td>BBJZ-74</td>\n",
       "      <td>NaT</td>\n",
       "      <td>00:00:07</td>\n",
       "      <td>7.0</td>\n",
       "      <td>True</td>\n",
       "      <td>False</td>\n",
       "    </tr>\n",
       "    <tr>\n",
       "      <th>351163</th>\n",
       "      <td>428871474</td>\n",
       "      <td>3</td>\n",
       "      <td>BUS</td>\n",
       "      <td>2017-03-01 18:03:25</td>\n",
       "      <td>F07 00R</td>\n",
       "      <td>L-34-49-75-SN</td>\n",
       "      <td>BBJZ-74</td>\n",
       "      <td>NaT</td>\n",
       "      <td>00:00:05</td>\n",
       "      <td>5.0</td>\n",
       "      <td>True</td>\n",
       "      <td>False</td>\n",
       "    </tr>\n",
       "  </tbody>\n",
       "</table>\n",
       "</div>"
      ],
      "text/plain": [
       "                 id  nviaje tipo_transporte            t_subida  \\\n",
       "1598210  3169360958       1             BUS 2017-03-01 17:44:13   \n",
       "930514   2140206880       2             BUS 2017-03-01 17:44:16   \n",
       "1075050  2462653900       2             BUS 2017-03-01 17:50:05   \n",
       "137827     95205238       3             BUS 2017-03-01 17:50:12   \n",
       "351163    428871474       3             BUS 2017-03-01 18:03:25   \n",
       "\n",
       "        servicio_subida     par_subida sitio_subida fecha_instalacion  \\\n",
       "1598210         F07 00R  L-34-53-25-PO      BBJZ-74               NaT   \n",
       "930514          F07 00R  L-34-53-25-PO      BBJZ-74               NaT   \n",
       "1075050         F07 00R  L-34-23-25-NS      BBJZ-74               NaT   \n",
       "137827          F07 00R  L-34-23-25-NS      BBJZ-74               NaT   \n",
       "351163          F07 00R  L-34-49-75-SN      BBJZ-74               NaT   \n",
       "\n",
       "        diferencia_tiempo  diferencia_tiempo_secs  mismo_paradero  \\\n",
       "1598210          00:00:02                     2.0            True   \n",
       "930514           00:00:03                     3.0            True   \n",
       "1075050          00:00:04                     4.0            True   \n",
       "137827           00:00:07                     7.0            True   \n",
       "351163           00:00:05                     5.0            True   \n",
       "\n",
       "         si_torniquete  \n",
       "1598210          False  \n",
       "930514           False  \n",
       "1075050          False  \n",
       "137827           False  \n",
       "351163           False  "
      ]
     },
     "execution_count": 57,
     "metadata": {},
     "output_type": "execute_result"
    }
   ],
   "source": [
    "filtered_df.head()"
   ]
  },
  {
   "cell_type": "code",
   "execution_count": 58,
   "metadata": {},
   "outputs": [
    {
     "data": {
      "text/html": [
       "<div>\n",
       "<style>\n",
       "    .dataframe thead tr:only-child th {\n",
       "        text-align: right;\n",
       "    }\n",
       "\n",
       "    .dataframe thead th {\n",
       "        text-align: left;\n",
       "    }\n",
       "\n",
       "    .dataframe tbody tr th {\n",
       "        vertical-align: top;\n",
       "    }\n",
       "</style>\n",
       "<table border=\"1\" class=\"dataframe\">\n",
       "  <thead>\n",
       "    <tr style=\"text-align: right;\">\n",
       "      <th></th>\n",
       "      <th>id</th>\n",
       "      <th>nviaje</th>\n",
       "      <th>tipo_transporte</th>\n",
       "      <th>t_subida</th>\n",
       "      <th>servicio_subida</th>\n",
       "      <th>par_subida</th>\n",
       "      <th>sitio_subida</th>\n",
       "      <th>fecha_instalacion</th>\n",
       "      <th>diferencia_tiempo</th>\n",
       "      <th>diferencia_tiempo_secs</th>\n",
       "      <th>mismo_paradero</th>\n",
       "      <th>si_torniquete</th>\n",
       "    </tr>\n",
       "  </thead>\n",
       "  <tbody>\n",
       "    <tr>\n",
       "      <th>2236460</th>\n",
       "      <td>4010786011</td>\n",
       "      <td>1</td>\n",
       "      <td>BUS</td>\n",
       "      <td>2017-03-01 04:22:35</td>\n",
       "      <td>F28 C2 00I</td>\n",
       "      <td>L-34-89-2-PO</td>\n",
       "      <td>BBJZ-76</td>\n",
       "      <td>2016-11-01</td>\n",
       "      <td>00:00:06</td>\n",
       "      <td>6.0</td>\n",
       "      <td>True</td>\n",
       "      <td>True</td>\n",
       "    </tr>\n",
       "    <tr>\n",
       "      <th>2239944</th>\n",
       "      <td>4011556219</td>\n",
       "      <td>1</td>\n",
       "      <td>BUS</td>\n",
       "      <td>2017-03-01 05:40:11</td>\n",
       "      <td>F08 00R</td>\n",
       "      <td>L-34-41-100-OP</td>\n",
       "      <td>BBJZ-76</td>\n",
       "      <td>2016-11-01</td>\n",
       "      <td>00:00:06</td>\n",
       "      <td>6.0</td>\n",
       "      <td>True</td>\n",
       "      <td>True</td>\n",
       "    </tr>\n",
       "    <tr>\n",
       "      <th>1430578</th>\n",
       "      <td>2802344526</td>\n",
       "      <td>1</td>\n",
       "      <td>BUS</td>\n",
       "      <td>2017-03-01 05:40:15</td>\n",
       "      <td>F08 00R</td>\n",
       "      <td>L-34-41-100-OP</td>\n",
       "      <td>BBJZ-76</td>\n",
       "      <td>2016-11-01</td>\n",
       "      <td>00:00:04</td>\n",
       "      <td>4.0</td>\n",
       "      <td>True</td>\n",
       "      <td>True</td>\n",
       "    </tr>\n",
       "    <tr>\n",
       "      <th>2009829</th>\n",
       "      <td>3609949028</td>\n",
       "      <td>1</td>\n",
       "      <td>BUS</td>\n",
       "      <td>2017-03-01 05:40:41</td>\n",
       "      <td>F08 00R</td>\n",
       "      <td>L-34-41-100-OP</td>\n",
       "      <td>BBJZ-76</td>\n",
       "      <td>2016-11-01</td>\n",
       "      <td>00:00:26</td>\n",
       "      <td>26.0</td>\n",
       "      <td>True</td>\n",
       "      <td>True</td>\n",
       "    </tr>\n",
       "    <tr>\n",
       "      <th>2315980</th>\n",
       "      <td>4209437819</td>\n",
       "      <td>1</td>\n",
       "      <td>BUS</td>\n",
       "      <td>2017-03-01 05:43:06</td>\n",
       "      <td>F08 00R</td>\n",
       "      <td>L-34-41-45-OP</td>\n",
       "      <td>BBJZ-76</td>\n",
       "      <td>2016-11-01</td>\n",
       "      <td>00:00:05</td>\n",
       "      <td>5.0</td>\n",
       "      <td>True</td>\n",
       "      <td>True</td>\n",
       "    </tr>\n",
       "  </tbody>\n",
       "</table>\n",
       "</div>"
      ],
      "text/plain": [
       "                 id  nviaje tipo_transporte            t_subida  \\\n",
       "2236460  4010786011       1             BUS 2017-03-01 04:22:35   \n",
       "2239944  4011556219       1             BUS 2017-03-01 05:40:11   \n",
       "1430578  2802344526       1             BUS 2017-03-01 05:40:15   \n",
       "2009829  3609949028       1             BUS 2017-03-01 05:40:41   \n",
       "2315980  4209437819       1             BUS 2017-03-01 05:43:06   \n",
       "\n",
       "        servicio_subida      par_subida sitio_subida fecha_instalacion  \\\n",
       "2236460      F28 C2 00I    L-34-89-2-PO      BBJZ-76        2016-11-01   \n",
       "2239944         F08 00R  L-34-41-100-OP      BBJZ-76        2016-11-01   \n",
       "1430578         F08 00R  L-34-41-100-OP      BBJZ-76        2016-11-01   \n",
       "2009829         F08 00R  L-34-41-100-OP      BBJZ-76        2016-11-01   \n",
       "2315980         F08 00R   L-34-41-45-OP      BBJZ-76        2016-11-01   \n",
       "\n",
       "        diferencia_tiempo  diferencia_tiempo_secs  mismo_paradero  \\\n",
       "2236460          00:00:06                     6.0            True   \n",
       "2239944          00:00:06                     6.0            True   \n",
       "1430578          00:00:04                     4.0            True   \n",
       "2009829          00:00:26                    26.0            True   \n",
       "2315980          00:00:05                     5.0            True   \n",
       "\n",
       "         si_torniquete  \n",
       "2236460           True  \n",
       "2239944           True  \n",
       "1430578           True  \n",
       "2009829           True  \n",
       "2315980           True  "
      ]
     },
     "execution_count": 58,
     "metadata": {},
     "output_type": "execute_result"
    }
   ],
   "source": [
    "filtered_turnstile_df.head()"
   ]
  },
  {
   "cell_type": "code",
   "execution_count": 59,
   "metadata": {},
   "outputs": [
    {
     "data": {
      "text/html": [
       "<div>\n",
       "<style>\n",
       "    .dataframe thead tr:only-child th {\n",
       "        text-align: right;\n",
       "    }\n",
       "\n",
       "    .dataframe thead th {\n",
       "        text-align: left;\n",
       "    }\n",
       "\n",
       "    .dataframe tbody tr th {\n",
       "        vertical-align: top;\n",
       "    }\n",
       "</style>\n",
       "<table border=\"1\" class=\"dataframe\">\n",
       "  <thead>\n",
       "    <tr style=\"text-align: right;\">\n",
       "      <th></th>\n",
       "      <th>id</th>\n",
       "      <th>nviaje</th>\n",
       "      <th>tipo_transporte</th>\n",
       "      <th>t_subida</th>\n",
       "      <th>servicio_subida</th>\n",
       "      <th>par_subida</th>\n",
       "      <th>sitio_subida</th>\n",
       "      <th>fecha_instalacion</th>\n",
       "      <th>diferencia_tiempo</th>\n",
       "      <th>diferencia_tiempo_secs</th>\n",
       "      <th>mismo_paradero</th>\n",
       "      <th>si_torniquete</th>\n",
       "    </tr>\n",
       "  </thead>\n",
       "  <tbody>\n",
       "    <tr>\n",
       "      <th>1598210</th>\n",
       "      <td>3169360958</td>\n",
       "      <td>1</td>\n",
       "      <td>BUS</td>\n",
       "      <td>2017-03-01 17:44:13</td>\n",
       "      <td>F07 00R</td>\n",
       "      <td>L-34-53-25-PO</td>\n",
       "      <td>BBJZ-74</td>\n",
       "      <td>NaT</td>\n",
       "      <td>00:00:02</td>\n",
       "      <td>2.0</td>\n",
       "      <td>True</td>\n",
       "      <td>False</td>\n",
       "    </tr>\n",
       "    <tr>\n",
       "      <th>930514</th>\n",
       "      <td>2140206880</td>\n",
       "      <td>2</td>\n",
       "      <td>BUS</td>\n",
       "      <td>2017-03-01 17:44:16</td>\n",
       "      <td>F07 00R</td>\n",
       "      <td>L-34-53-25-PO</td>\n",
       "      <td>BBJZ-74</td>\n",
       "      <td>NaT</td>\n",
       "      <td>00:00:03</td>\n",
       "      <td>3.0</td>\n",
       "      <td>True</td>\n",
       "      <td>False</td>\n",
       "    </tr>\n",
       "    <tr>\n",
       "      <th>1075050</th>\n",
       "      <td>2462653900</td>\n",
       "      <td>2</td>\n",
       "      <td>BUS</td>\n",
       "      <td>2017-03-01 17:50:05</td>\n",
       "      <td>F07 00R</td>\n",
       "      <td>L-34-23-25-NS</td>\n",
       "      <td>BBJZ-74</td>\n",
       "      <td>NaT</td>\n",
       "      <td>00:00:04</td>\n",
       "      <td>4.0</td>\n",
       "      <td>True</td>\n",
       "      <td>False</td>\n",
       "    </tr>\n",
       "    <tr>\n",
       "      <th>137827</th>\n",
       "      <td>95205238</td>\n",
       "      <td>3</td>\n",
       "      <td>BUS</td>\n",
       "      <td>2017-03-01 17:50:12</td>\n",
       "      <td>F07 00R</td>\n",
       "      <td>L-34-23-25-NS</td>\n",
       "      <td>BBJZ-74</td>\n",
       "      <td>NaT</td>\n",
       "      <td>00:00:07</td>\n",
       "      <td>7.0</td>\n",
       "      <td>True</td>\n",
       "      <td>False</td>\n",
       "    </tr>\n",
       "    <tr>\n",
       "      <th>351163</th>\n",
       "      <td>428871474</td>\n",
       "      <td>3</td>\n",
       "      <td>BUS</td>\n",
       "      <td>2017-03-01 18:03:25</td>\n",
       "      <td>F07 00R</td>\n",
       "      <td>L-34-49-75-SN</td>\n",
       "      <td>BBJZ-74</td>\n",
       "      <td>NaT</td>\n",
       "      <td>00:00:05</td>\n",
       "      <td>5.0</td>\n",
       "      <td>True</td>\n",
       "      <td>False</td>\n",
       "    </tr>\n",
       "  </tbody>\n",
       "</table>\n",
       "</div>"
      ],
      "text/plain": [
       "                 id  nviaje tipo_transporte            t_subida  \\\n",
       "1598210  3169360958       1             BUS 2017-03-01 17:44:13   \n",
       "930514   2140206880       2             BUS 2017-03-01 17:44:16   \n",
       "1075050  2462653900       2             BUS 2017-03-01 17:50:05   \n",
       "137827     95205238       3             BUS 2017-03-01 17:50:12   \n",
       "351163    428871474       3             BUS 2017-03-01 18:03:25   \n",
       "\n",
       "        servicio_subida     par_subida sitio_subida fecha_instalacion  \\\n",
       "1598210         F07 00R  L-34-53-25-PO      BBJZ-74               NaT   \n",
       "930514          F07 00R  L-34-53-25-PO      BBJZ-74               NaT   \n",
       "1075050         F07 00R  L-34-23-25-NS      BBJZ-74               NaT   \n",
       "137827          F07 00R  L-34-23-25-NS      BBJZ-74               NaT   \n",
       "351163          F07 00R  L-34-49-75-SN      BBJZ-74               NaT   \n",
       "\n",
       "        diferencia_tiempo  diferencia_tiempo_secs  mismo_paradero  \\\n",
       "1598210          00:00:02                     2.0            True   \n",
       "930514           00:00:03                     3.0            True   \n",
       "1075050          00:00:04                     4.0            True   \n",
       "137827           00:00:07                     7.0            True   \n",
       "351163           00:00:05                     5.0            True   \n",
       "\n",
       "         si_torniquete  \n",
       "1598210          False  \n",
       "930514           False  \n",
       "1075050          False  \n",
       "137827           False  \n",
       "351163           False  "
      ]
     },
     "execution_count": 59,
     "metadata": {},
     "output_type": "execute_result"
    }
   ],
   "source": [
    "filtered_no_turnstile_df.head()"
   ]
  },
  {
   "cell_type": "markdown",
   "metadata": {},
   "source": [
    "* Getting rid of unecessary dataframes"
   ]
  },
  {
   "cell_type": "code",
   "execution_count": 46,
   "metadata": {
    "collapsed": true
   },
   "outputs": [],
   "source": [
    "del etapas_df\n",
    "del merged_df\n",
    "del clean_df"
   ]
  },
  {
   "cell_type": "markdown",
   "metadata": {},
   "source": [
    "* Plotting"
   ]
  },
  {
   "cell_type": "code",
   "execution_count": 63,
   "metadata": {},
   "outputs": [
    {
     "data": {
      "text/plain": [
       "<matplotlib.text.Text at 0x1cd066ded30>"
      ]
     },
     "execution_count": 63,
     "metadata": {},
     "output_type": "execute_result"
    },
    {
     "data": {
      "image/png": "[encoded data removed]",
      "text/plain": [
       "<matplotlib.figure.Figure at 0x1cd17e29c18>"
      ]
     },
     "metadata": {},
     "output_type": "display_data"
    }
   ],
   "source": [
    "colors = [(2, 136, 209),(0, 151, 167),(0, 121, 107)]\n",
    "for i in range(len(colors)):\n",
    "    r, g, b = colors[i]  \n",
    "    colors[i] = (r / 255., g / 255., b / 255.)\n",
    "\n",
    "original_hist, ax = plt.subplots()\n",
    "original_hist_data = ax.hist(filtered_turnstile_df['diferencia_tiempo_secs'].values,bins=range(0,1*20,1),color=colors[0])\n",
    "ax.set_title('With all-types-of-turnstiles histogram')\n",
    "ax.set_xlabel('time-interval[s]')\n",
    "ax.set_ylabel('Frequency')\n",
    "#plt.savefig(r'C:\\Users\\Tesista\\Desktop\\Evasion\\03_report\\02_Figs\\2017-03-01_withAllTorniquetes.pdf')"
   ]
  },
  {
   "cell_type": "code",
   "execution_count": 64,
   "metadata": {
    "scrolled": true
   },
   "outputs": [
    {
     "data": {
      "text/plain": [
       "<matplotlib.text.Text at 0x1cd3e337e48>"
      ]
     },
     "execution_count": 64,
     "metadata": {},
     "output_type": "execute_result"
    },
    {
     "data": {
      "image/png": "[encoded data removed]",
      "text/plain": [
       "<matplotlib.figure.Figure at 0x1cd33f99f60>"
      ]
     },
     "metadata": {},
     "output_type": "display_data"
    }
   ],
   "source": [
    "filtered_hist, ax = plt.subplots()\n",
    "filtered_hist_data = ax.hist(filtered_no_turnstile_df['diferencia_tiempo_secs'].values,bins=range(0,1*20,1),color=colors[1])\n",
    "ax.set_title('Without turnstiles histogram')\n",
    "ax.set_xlabel('time-interval[s]')\n",
    "ax.set_ylabel('Frequency')\n",
    "#plt.savefig(r'C:\\Users\\Tesista\\Desktop\\Evasion\\03_report\\02_Figs\\2017-03-01_withoutTorniquetes.pdf')"
   ]
  },
  {
   "cell_type": "markdown",
   "metadata": {},
   "source": [
    "* Descriptive statistics"
   ]
  },
  {
   "cell_type": "code",
   "execution_count": 65,
   "metadata": {},
   "outputs": [
    {
     "data": {
      "text/plain": [
       "count    285061.000000\n",
       "mean          8.669099\n",
       "std         235.438968\n",
       "min      -82771.000000\n",
       "25%           3.000000\n",
       "50%           5.000000\n",
       "75%           7.000000\n",
       "max       40833.000000\n",
       "Name: diferencia_tiempo_secs, dtype: float64"
      ]
     },
     "execution_count": 65,
     "metadata": {},
     "output_type": "execute_result"
    }
   ],
   "source": [
    "filtered_turnstile_df['diferencia_tiempo_secs'].describe()"
   ]
  },
  {
   "cell_type": "code",
   "execution_count": 66,
   "metadata": {},
   "outputs": [
    {
     "data": {
      "text/plain": [
       "count    1.095635e+06\n",
       "mean     6.850646e+00\n",
       "std      1.529103e+02\n",
       "min     -8.531700e+04\n",
       "25%      2.000000e+00\n",
       "50%      3.000000e+00\n",
       "75%      4.000000e+00\n",
       "max      3.443300e+04\n",
       "Name: diferencia_tiempo_secs, dtype: float64"
      ]
     },
     "execution_count": 66,
     "metadata": {},
     "output_type": "execute_result"
    }
   ],
   "source": [
    "filtered_no_turnstile_df['diferencia_tiempo_secs'].describe()"
   ]
  },
  {
   "cell_type": "code",
   "execution_count": 68,
   "metadata": {
    "scrolled": true
   },
   "outputs": [
    {
     "data": {
      "text/html": [
       "<div>\n",
       "<style>\n",
       "    .dataframe thead tr:only-child th {\n",
       "        text-align: right;\n",
       "    }\n",
       "\n",
       "    .dataframe thead th {\n",
       "        text-align: left;\n",
       "    }\n",
       "\n",
       "    .dataframe tbody tr th {\n",
       "        vertical-align: top;\n",
       "    }\n",
       "</style>\n",
       "<table border=\"1\" class=\"dataframe\">\n",
       "  <thead>\n",
       "    <tr style=\"text-align: right;\">\n",
       "      <th></th>\n",
       "      <th>id</th>\n",
       "      <th>nviaje</th>\n",
       "      <th>tipo_transporte</th>\n",
       "      <th>t_subida</th>\n",
       "      <th>servicio_subida</th>\n",
       "      <th>par_subida</th>\n",
       "      <th>sitio_subida</th>\n",
       "      <th>fecha_instalacion</th>\n",
       "      <th>diferencia_tiempo</th>\n",
       "      <th>diferencia_tiempo_secs</th>\n",
       "      <th>mismo_paradero</th>\n",
       "      <th>si_torniquete</th>\n",
       "    </tr>\n",
       "  </thead>\n",
       "  <tbody>\n",
       "    <tr>\n",
       "      <th>1638795</th>\n",
       "      <td>3172109022</td>\n",
       "      <td>1</td>\n",
       "      <td>BUS</td>\n",
       "      <td>2017-03-01 07:19:05</td>\n",
       "      <td>B24 00R</td>\n",
       "      <td>L-4-2-5-OP</td>\n",
       "      <td>CJRH-12</td>\n",
       "      <td>2016-10-05</td>\n",
       "      <td>-1 days +08:56:23</td>\n",
       "      <td>-54217.0</td>\n",
       "      <td>True</td>\n",
       "      <td>True</td>\n",
       "    </tr>\n",
       "    <tr>\n",
       "      <th>1775467</th>\n",
       "      <td>3474199528</td>\n",
       "      <td>1</td>\n",
       "      <td>BUS</td>\n",
       "      <td>2017-03-01 05:52:11</td>\n",
       "      <td>B04V 00R</td>\n",
       "      <td>L-1-13-20-OP</td>\n",
       "      <td>FLXB-94</td>\n",
       "      <td>2016-04-20</td>\n",
       "      <td>-1 days +06:42:55</td>\n",
       "      <td>-62225.0</td>\n",
       "      <td>True</td>\n",
       "      <td>True</td>\n",
       "    </tr>\n",
       "    <tr>\n",
       "      <th>1516329</th>\n",
       "      <td>3060584251</td>\n",
       "      <td>1</td>\n",
       "      <td>BUS</td>\n",
       "      <td>2017-03-01 00:16:02</td>\n",
       "      <td>T228 03I</td>\n",
       "      <td>T-27-224-NS-25</td>\n",
       "      <td>ZW-5074</td>\n",
       "      <td>1900-01-01</td>\n",
       "      <td>-1 days +01:00:29</td>\n",
       "      <td>-82771.0</td>\n",
       "      <td>True</td>\n",
       "      <td>True</td>\n",
       "    </tr>\n",
       "  </tbody>\n",
       "</table>\n",
       "</div>"
      ],
      "text/plain": [
       "                 id  nviaje tipo_transporte            t_subida  \\\n",
       "1638795  3172109022       1             BUS 2017-03-01 07:19:05   \n",
       "1775467  3474199528       1             BUS 2017-03-01 05:52:11   \n",
       "1516329  3060584251       1             BUS 2017-03-01 00:16:02   \n",
       "\n",
       "        servicio_subida      par_subida sitio_subida fecha_instalacion  \\\n",
       "1638795         B24 00R      L-4-2-5-OP      CJRH-12        2016-10-05   \n",
       "1775467        B04V 00R    L-1-13-20-OP      FLXB-94        2016-04-20   \n",
       "1516329        T228 03I  T-27-224-NS-25      ZW-5074        1900-01-01   \n",
       "\n",
       "        diferencia_tiempo  diferencia_tiempo_secs  mismo_paradero  \\\n",
       "1638795 -1 days +08:56:23                -54217.0            True   \n",
       "1775467 -1 days +06:42:55                -62225.0            True   \n",
       "1516329 -1 days +01:00:29                -82771.0            True   \n",
       "\n",
       "         si_torniquete  \n",
       "1638795           True  \n",
       "1775467           True  \n",
       "1516329           True  "
      ]
     },
     "execution_count": 68,
     "metadata": {},
     "output_type": "execute_result"
    }
   ],
   "source": [
    "filtered_turnstile_df[filtered_turnstile_df['diferencia_tiempo_secs'] <0]"
   ]
  },
  {
   "cell_type": "code",
   "execution_count": 69,
   "metadata": {},
   "outputs": [
    {
     "data": {
      "text/html": [
       "<div>\n",
       "<style>\n",
       "    .dataframe thead tr:only-child th {\n",
       "        text-align: right;\n",
       "    }\n",
       "\n",
       "    .dataframe thead th {\n",
       "        text-align: left;\n",
       "    }\n",
       "\n",
       "    .dataframe tbody tr th {\n",
       "        vertical-align: top;\n",
       "    }\n",
       "</style>\n",
       "<table border=\"1\" class=\"dataframe\">\n",
       "  <thead>\n",
       "    <tr style=\"text-align: right;\">\n",
       "      <th></th>\n",
       "      <th>id</th>\n",
       "      <th>nviaje</th>\n",
       "      <th>tipo_transporte</th>\n",
       "      <th>t_subida</th>\n",
       "      <th>servicio_subida</th>\n",
       "      <th>par_subida</th>\n",
       "      <th>sitio_subida</th>\n",
       "      <th>fecha_instalacion</th>\n",
       "      <th>diferencia_tiempo</th>\n",
       "      <th>diferencia_tiempo_secs</th>\n",
       "      <th>mismo_paradero</th>\n",
       "      <th>si_torniquete</th>\n",
       "    </tr>\n",
       "  </thead>\n",
       "  <tbody>\n",
       "    <tr>\n",
       "      <th>1719830</th>\n",
       "      <td>3321779054</td>\n",
       "      <td>1</td>\n",
       "      <td>BUS</td>\n",
       "      <td>2017-03-01 06:11:53</td>\n",
       "      <td>F11 07I</td>\n",
       "      <td>L-34-40-175-OP</td>\n",
       "      <td>BBKB-14</td>\n",
       "      <td>NaT</td>\n",
       "      <td>-1 days +13:00:15</td>\n",
       "      <td>-39585.0</td>\n",
       "      <td>True</td>\n",
       "      <td>False</td>\n",
       "    </tr>\n",
       "    <tr>\n",
       "      <th>1897783</th>\n",
       "      <td>3562314382</td>\n",
       "      <td>1</td>\n",
       "      <td>BUS</td>\n",
       "      <td>2017-03-01 06:20:13</td>\n",
       "      <td>T425 00R</td>\n",
       "      <td>T-32-316-OP-30</td>\n",
       "      <td>BBZX-46</td>\n",
       "      <td>NaT</td>\n",
       "      <td>-1 days +08:19:51</td>\n",
       "      <td>-56409.0</td>\n",
       "      <td>True</td>\n",
       "      <td>False</td>\n",
       "    </tr>\n",
       "    <tr>\n",
       "      <th>295358</th>\n",
       "      <td>280710470</td>\n",
       "      <td>1</td>\n",
       "      <td>BUS</td>\n",
       "      <td>2017-03-01 00:00:04</td>\n",
       "      <td>T359 00R</td>\n",
       "      <td>E-22-205-SN-34</td>\n",
       "      <td>BJFS-76</td>\n",
       "      <td>NaT</td>\n",
       "      <td>-1 days +00:18:03</td>\n",
       "      <td>-85317.0</td>\n",
       "      <td>True</td>\n",
       "      <td>False</td>\n",
       "    </tr>\n",
       "    <tr>\n",
       "      <th>862921</th>\n",
       "      <td>1937180894</td>\n",
       "      <td>1</td>\n",
       "      <td>BUS</td>\n",
       "      <td>2017-03-01 00:22:26</td>\n",
       "      <td>T303 00I</td>\n",
       "      <td>T-5-8-NS-45</td>\n",
       "      <td>FLXF-10</td>\n",
       "      <td>NaT</td>\n",
       "      <td>-1 days +01:19:09</td>\n",
       "      <td>-81651.0</td>\n",
       "      <td>True</td>\n",
       "      <td>False</td>\n",
       "    </tr>\n",
       "  </tbody>\n",
       "</table>\n",
       "</div>"
      ],
      "text/plain": [
       "                 id  nviaje tipo_transporte            t_subida  \\\n",
       "1719830  3321779054       1             BUS 2017-03-01 06:11:53   \n",
       "1897783  3562314382       1             BUS 2017-03-01 06:20:13   \n",
       "295358    280710470       1             BUS 2017-03-01 00:00:04   \n",
       "862921   1937180894       1             BUS 2017-03-01 00:22:26   \n",
       "\n",
       "        servicio_subida      par_subida sitio_subida fecha_instalacion  \\\n",
       "1719830         F11 07I  L-34-40-175-OP      BBKB-14               NaT   \n",
       "1897783        T425 00R  T-32-316-OP-30      BBZX-46               NaT   \n",
       "295358         T359 00R  E-22-205-SN-34      BJFS-76               NaT   \n",
       "862921         T303 00I     T-5-8-NS-45      FLXF-10               NaT   \n",
       "\n",
       "        diferencia_tiempo  diferencia_tiempo_secs  mismo_paradero  \\\n",
       "1719830 -1 days +13:00:15                -39585.0            True   \n",
       "1897783 -1 days +08:19:51                -56409.0            True   \n",
       "295358  -1 days +00:18:03                -85317.0            True   \n",
       "862921  -1 days +01:19:09                -81651.0            True   \n",
       "\n",
       "         si_torniquete  \n",
       "1719830          False  \n",
       "1897783          False  \n",
       "295358           False  \n",
       "862921           False  "
      ]
     },
     "execution_count": 69,
     "metadata": {},
     "output_type": "execute_result"
    }
   ],
   "source": [
    "filtered_no_turnstile_df[filtered_no_turnstile_df['diferencia_tiempo_secs'] <0]"
   ]
  },
  {
   "cell_type": "code",
   "execution_count": 72,
   "metadata": {},
   "outputs": [
    {
     "data": {
      "text/html": [
       "<div>\n",
       "<style>\n",
       "    .dataframe thead tr:only-child th {\n",
       "        text-align: right;\n",
       "    }\n",
       "\n",
       "    .dataframe thead th {\n",
       "        text-align: left;\n",
       "    }\n",
       "\n",
       "    .dataframe tbody tr th {\n",
       "        vertical-align: top;\n",
       "    }\n",
       "</style>\n",
       "<table border=\"1\" class=\"dataframe\">\n",
       "  <thead>\n",
       "    <tr style=\"text-align: right;\">\n",
       "      <th></th>\n",
       "      <th>id</th>\n",
       "      <th>nviaje</th>\n",
       "      <th>tipo_transporte</th>\n",
       "      <th>t_subida</th>\n",
       "      <th>servicio_subida</th>\n",
       "      <th>par_subida</th>\n",
       "      <th>sitio_subida</th>\n",
       "      <th>fecha_instalacion</th>\n",
       "      <th>diferencia_tiempo</th>\n",
       "      <th>diferencia_tiempo_secs</th>\n",
       "      <th>mismo_paradero</th>\n",
       "      <th>si_torniquete</th>\n",
       "    </tr>\n",
       "  </thead>\n",
       "  <tbody>\n",
       "    <tr>\n",
       "      <th>1516328</th>\n",
       "      <td>3060581163</td>\n",
       "      <td>2</td>\n",
       "      <td>BUS</td>\n",
       "      <td>2017-03-01 18:37:45</td>\n",
       "      <td>T201 00R</td>\n",
       "      <td>T-1-3-SN-10</td>\n",
       "      <td>ZN-5600</td>\n",
       "      <td>1900-01-01</td>\n",
       "      <td>00:02:47</td>\n",
       "      <td>167.0</td>\n",
       "      <td>False</td>\n",
       "      <td>True</td>\n",
       "    </tr>\n",
       "    <tr>\n",
       "      <th>1516329</th>\n",
       "      <td>3060584251</td>\n",
       "      <td>1</td>\n",
       "      <td>BUS</td>\n",
       "      <td>2017-03-01 00:16:02</td>\n",
       "      <td>T228 03I</td>\n",
       "      <td>T-27-224-NS-25</td>\n",
       "      <td>ZW-5074</td>\n",
       "      <td>1900-01-01</td>\n",
       "      <td>-1 days +01:00:29</td>\n",
       "      <td>-82771.0</td>\n",
       "      <td>True</td>\n",
       "      <td>True</td>\n",
       "    </tr>\n",
       "    <tr>\n",
       "      <th>1516330</th>\n",
       "      <td>3060584395</td>\n",
       "      <td>1</td>\n",
       "      <td>BUS</td>\n",
       "      <td>2017-03-01 08:11:51</td>\n",
       "      <td>F52 00I</td>\n",
       "      <td>L-32-3-85-SN</td>\n",
       "      <td>FLXS-23</td>\n",
       "      <td>2017-04-07</td>\n",
       "      <td>00:00:03</td>\n",
       "      <td>3.0</td>\n",
       "      <td>True</td>\n",
       "      <td>False</td>\n",
       "    </tr>\n",
       "  </tbody>\n",
       "</table>\n",
       "</div>"
      ],
      "text/plain": [
       "                 id  nviaje tipo_transporte            t_subida  \\\n",
       "1516328  3060581163       2             BUS 2017-03-01 18:37:45   \n",
       "1516329  3060584251       1             BUS 2017-03-01 00:16:02   \n",
       "1516330  3060584395       1             BUS 2017-03-01 08:11:51   \n",
       "\n",
       "        servicio_subida      par_subida sitio_subida fecha_instalacion  \\\n",
       "1516328        T201 00R     T-1-3-SN-10      ZN-5600        1900-01-01   \n",
       "1516329        T228 03I  T-27-224-NS-25      ZW-5074        1900-01-01   \n",
       "1516330         F52 00I    L-32-3-85-SN      FLXS-23        2017-04-07   \n",
       "\n",
       "        diferencia_tiempo  diferencia_tiempo_secs  mismo_paradero  \\\n",
       "1516328          00:02:47                   167.0           False   \n",
       "1516329 -1 days +01:00:29                -82771.0            True   \n",
       "1516330          00:00:03                     3.0            True   \n",
       "\n",
       "         si_torniquete  \n",
       "1516328           True  \n",
       "1516329           True  \n",
       "1516330          False  "
      ]
     },
     "execution_count": 72,
     "metadata": {},
     "output_type": "execute_result"
    }
   ],
   "source": [
    "sorted_df.loc[[1516328, 1516329, 1516330]]"
   ]
  },
  {
   "cell_type": "code",
   "execution_count": null,
   "metadata": {},
   "outputs": [],
   "source": [
    "sorted_df.loc[[590788, 590789, 590790]]"
   ]
  },
  {
   "cell_type": "code",
   "execution_count": null,
   "metadata": {
    "collapsed": true
   },
   "outputs": [],
   "source": []
  }
 ],
 "metadata": {
  "kernelspec": {
   "display_name": "Python 3",
   "language": "python",
   "name": "python3"
  },
  "language_info": {
   "codemirror_mode": {
    "name": "ipython",
    "version": 3
   },
   "file_extension": ".py",
   "mimetype": "text/x-python",
   "name": "python",
   "nbconvert_exporter": "python",
   "pygments_lexer": "ipython3",
   "version": "3.6.1"
  }
 },
 "nbformat": 4,
 "nbformat_minor": 2
}
