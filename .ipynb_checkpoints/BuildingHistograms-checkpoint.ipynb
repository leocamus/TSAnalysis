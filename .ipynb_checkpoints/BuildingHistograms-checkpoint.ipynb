{
 "cells": [
  {
   "cell_type": "markdown",
   "metadata": {},
   "source": [
    "# Building Histograms"
   ]
  },
  {
   "cell_type": "markdown",
   "metadata": {},
   "source": [
    "### How to run this notebook:\n",
    "* Give date and type of vehicle as arguments\n",
    "* If simplified etapas file does not exist, then run RunDailyEtapasBuilder.runSimplifyEtapas(). If it already exists, then omit it"
   ]
  },
  {
   "cell_type": "markdown",
   "metadata": {},
   "source": [
    "Run the builder in this order:\n",
    "1. etapas_df = RunDailyEtapasBuilder.loadSimplifiedEtapas()\n",
    "2. merged_df = RunDailyEtapasBuilder.includeTorniquetesDate(etapas_df)\n",
    "3. clean_df = RunDailyEtapasBuilder.cleanDataFrame(merged_df)\n",
    "4. sorted_df = RunDailyEtapasBuilder.sortDataFrame(clean_df)"
   ]
  },
  {
   "cell_type": "code",
   "execution_count": 2,
   "metadata": {
    "collapsed": true,
    "scrolled": true
   },
   "outputs": [],
   "source": [
    "%matplotlib inline\n",
    "import pandas as pd\n",
    "import matplotlib\n",
    "import matplotlib.pyplot as plt\n",
    "import numpy as np\n",
    "from importlib import reload"
   ]
  },
  {
   "cell_type": "code",
   "execution_count": 3,
   "metadata": {},
   "outputs": [
    {
     "name": "stdout",
     "output_type": "stream",
     "text": [
      "Enter the date to analyze: 2017-03-01\n",
      "Enter the vehicle to analyze: BUS\n",
      "Consider ZP in perfiles file (0/1)?: 0\n"
     ]
    }
   ],
   "source": [
    "import RunDailyEtapasBuilder"
   ]
  },
  {
   "cell_type": "markdown",
   "metadata": {},
   "source": [
    "* Running the builder of the dataframe"
   ]
  },
  {
   "cell_type": "code",
   "execution_count": 4,
   "metadata": {},
   "outputs": [
    {
     "name": "stdout",
     "output_type": "stream",
     "text": [
      "Not found in turnstile database: 1614656\n"
     ]
    }
   ],
   "source": [
    "etapas_df  =RunDailyEtapasBuilder.loadSimplifiedEtapas()\n",
    "merged_df = RunDailyEtapasBuilder.mergeTurnstileData(etapas_df)\n",
    "clean_df = RunDailyEtapasBuilder.cleanDataFrame(merged_df)\n",
    "sorted_df = RunDailyEtapasBuilder.sortDataFrame(clean_df)"
   ]
  },
  {
   "cell_type": "markdown",
   "metadata": {},
   "source": [
    "* Counting."
   ]
  },
  {
   "cell_type": "code",
   "execution_count": 5,
   "metadata": {},
   "outputs": [
    {
     "name": "stdout",
     "output_type": "stream",
     "text": [
      "2329229\n",
      "2329229\n",
      "2210399\n",
      "2210399\n"
     ]
    }
   ],
   "source": [
    "print(etapas_df['id'].count())\n",
    "print(merged_df['id'].count())\n",
    "print(clean_df['id'].count())\n",
    "print(sorted_df['id'].count())"
   ]
  },
  {
   "cell_type": "markdown",
   "metadata": {},
   "source": [
    "* Adding necessary attributes"
   ]
  },
  {
   "cell_type": "code",
   "execution_count": 6,
   "metadata": {
    "collapsed": true
   },
   "outputs": [],
   "source": [
    "sorted_df['mismo_paradero'] = (sorted_df['par_subida']==sorted_df['par_subida'].shift()).fillna(False)\n",
    "sorted_df['misma_patente'] = (sorted_df['sitio_subida']==sorted_df['sitio_subida'].shift()).fillna(False)\n",
    "sorted_df.loc[(sorted_df.mismo_paradero == True) & (sorted_df.misma_patente == True), 'diferencia_tiempo'] = (sorted_df['t_subida']-sorted_df['t_subida'].shift())\n",
    "sorted_df.loc[(sorted_df.mismo_paradero == True) & (sorted_df.misma_patente == False), 'diferencia_tiempo'] = pd.NaT\n",
    "sorted_df['fecha_instalacion'] = pd.to_datetime(sorted_df.fecha_instalacion)\n",
    "sorted_df['diferencia_tiempo_secs'] = sorted_df['diferencia_tiempo'].dt.total_seconds()\n",
    "sorted_df['si_torniquete'] = (sorted_df['fecha_instalacion']<=sorted_df['t_subida'])"
   ]
  },
  {
   "cell_type": "markdown",
   "metadata": {},
   "source": [
    "* Filtering by mismo_paradero, misma_patente and by si_torniquete"
   ]
  },
  {
   "cell_type": "code",
   "execution_count": 7,
   "metadata": {
    "collapsed": true
   },
   "outputs": [],
   "source": [
    "filtered_df = sorted_df[(sorted_df.mismo_paradero==True) & (sorted_df.misma_patente==True)]\n",
    "filtered_turnstile_df = filtered_df[filtered_df['si_torniquete']==True]\n",
    "filtered_no_turnstile_df = filtered_df[filtered_df['si_torniquete']==False]"
   ]
  },
  {
   "cell_type": "markdown",
   "metadata": {},
   "source": [
    "* Counting and checking"
   ]
  },
  {
   "cell_type": "code",
   "execution_count": 8,
   "metadata": {},
   "outputs": [
    {
     "name": "stdout",
     "output_type": "stream",
     "text": [
      "1380689\n",
      "285058\n",
      "1095631\n",
      "1380689\n"
     ]
    }
   ],
   "source": [
    "print(filtered_df['id'].count())\n",
    "print(filtered_turnstile_df['id'].count())\n",
    "print(filtered_no_turnstile_df['id'].count())\n",
    "checking = filtered_turnstile_df['id'].count() + filtered_no_turnstile_df['id'].count()\n",
    "print(checking)"
   ]
  },
  {
   "cell_type": "markdown",
   "metadata": {},
   "source": [
    "* Getting rid of unecessary dataframes"
   ]
  },
  {
   "cell_type": "code",
   "execution_count": 9,
   "metadata": {
    "collapsed": true,
    "scrolled": false
   },
   "outputs": [],
   "source": [
    "del etapas_df\n",
    "del merged_df\n",
    "del clean_df"
   ]
  },
  {
   "cell_type": "markdown",
   "metadata": {},
   "source": [
    "* TODO: Currently, there are rows with extremely high values for the 'diferencia_tiempo' attribute (e.g. >=25 mins). This should be fixed considering the idExpedicion attribute present in the corresponding 'perfiles' database. The following graphs and descriptive statistics consider only the 95th percentile for the 'diferencia_tiempo_secs' attribute. "
   ]
  },
  {
   "cell_type": "markdown",
   "metadata": {},
   "source": [
    "##### Descriptive statistics: all-database (Omitted)"
   ]
  },
  {
   "cell_type": "code",
   "execution_count": null,
   "metadata": {
    "scrolled": true
   },
   "outputs": [],
   "source": [
    "filtered_df.describe()"
   ]
  },
  {
   "cell_type": "markdown",
   "metadata": {},
   "source": [
    "##### Descriptive statistics and plotting: WITH-TURNSTILE DATABASE"
   ]
  },
  {
   "cell_type": "code",
   "execution_count": 10,
   "metadata": {
    "scrolled": true
   },
   "outputs": [
    {
     "data": {
      "text/html": [
       "<div>\n",
       "<style>\n",
       "    .dataframe thead tr:only-child th {\n",
       "        text-align: right;\n",
       "    }\n",
       "\n",
       "    .dataframe thead th {\n",
       "        text-align: left;\n",
       "    }\n",
       "\n",
       "    .dataframe tbody tr th {\n",
       "        vertical-align: top;\n",
       "    }\n",
       "</style>\n",
       "<table border=\"1\" class=\"dataframe\">\n",
       "  <thead>\n",
       "    <tr style=\"text-align: right;\">\n",
       "      <th></th>\n",
       "      <th>id</th>\n",
       "      <th>nviaje</th>\n",
       "      <th>diferencia_tiempo</th>\n",
       "      <th>diferencia_tiempo_secs</th>\n",
       "    </tr>\n",
       "  </thead>\n",
       "  <tbody>\n",
       "    <tr>\n",
       "      <th>count</th>\n",
       "      <td>2.850580e+05</td>\n",
       "      <td>285058.000000</td>\n",
       "      <td>285058</td>\n",
       "      <td>285058.000000</td>\n",
       "    </tr>\n",
       "    <tr>\n",
       "      <th>mean</th>\n",
       "      <td>2.241798e+09</td>\n",
       "      <td>1.575978</td>\n",
       "      <td>0 days 00:00:09.368040</td>\n",
       "      <td>9.368041</td>\n",
       "    </tr>\n",
       "    <tr>\n",
       "      <th>std</th>\n",
       "      <td>1.298954e+09</td>\n",
       "      <td>0.840912</td>\n",
       "      <td>0 days 00:01:26.548090</td>\n",
       "      <td>86.548090</td>\n",
       "    </tr>\n",
       "    <tr>\n",
       "      <th>min</th>\n",
       "      <td>1.163146e+06</td>\n",
       "      <td>1.000000</td>\n",
       "      <td>0 days 00:00:00</td>\n",
       "      <td>0.000000</td>\n",
       "    </tr>\n",
       "    <tr>\n",
       "      <th>25%</th>\n",
       "      <td>9.351316e+08</td>\n",
       "      <td>1.000000</td>\n",
       "      <td>0 days 00:00:03</td>\n",
       "      <td>3.000000</td>\n",
       "    </tr>\n",
       "    <tr>\n",
       "      <th>50%</th>\n",
       "      <td>2.512592e+09</td>\n",
       "      <td>1.000000</td>\n",
       "      <td>0 days 00:00:05</td>\n",
       "      <td>5.000000</td>\n",
       "    </tr>\n",
       "    <tr>\n",
       "      <th>75%</th>\n",
       "      <td>3.381195e+09</td>\n",
       "      <td>2.000000</td>\n",
       "      <td>0 days 00:00:07</td>\n",
       "      <td>7.000000</td>\n",
       "    </tr>\n",
       "    <tr>\n",
       "      <th>max</th>\n",
       "      <td>4.293306e+09</td>\n",
       "      <td>14.000000</td>\n",
       "      <td>0 days 11:20:33</td>\n",
       "      <td>40833.000000</td>\n",
       "    </tr>\n",
       "  </tbody>\n",
       "</table>\n",
       "</div>"
      ],
      "text/plain": [
       "                 id         nviaje       diferencia_tiempo  \\\n",
       "count  2.850580e+05  285058.000000                  285058   \n",
       "mean   2.241798e+09       1.575978  0 days 00:00:09.368040   \n",
       "std    1.298954e+09       0.840912  0 days 00:01:26.548090   \n",
       "min    1.163146e+06       1.000000         0 days 00:00:00   \n",
       "25%    9.351316e+08       1.000000         0 days 00:00:03   \n",
       "50%    2.512592e+09       1.000000         0 days 00:00:05   \n",
       "75%    3.381195e+09       2.000000         0 days 00:00:07   \n",
       "max    4.293306e+09      14.000000         0 days 11:20:33   \n",
       "\n",
       "       diferencia_tiempo_secs  \n",
       "count           285058.000000  \n",
       "mean                 9.368041  \n",
       "std                 86.548090  \n",
       "min                  0.000000  \n",
       "25%                  3.000000  \n",
       "50%                  5.000000  \n",
       "75%                  7.000000  \n",
       "max              40833.000000  "
      ]
     },
     "execution_count": 10,
     "metadata": {},
     "output_type": "execute_result"
    }
   ],
   "source": [
    "filtered_turnstile_df.describe()"
   ]
  },
  {
   "cell_type": "code",
   "execution_count": 31,
   "metadata": {},
   "outputs": [
    {
     "name": "stdout",
     "output_type": "stream",
     "text": [
      "Percentile 95th for turnstile database is: 0 days 00:00:27\n"
     ]
    }
   ],
   "source": [
    "with_turnstile_95 = filtered_turnstile_df.diferencia_tiempo.quantile(0.95)\n",
    "print ('Percentile 95th for turnstile database is: ' + str(with_turnstile_95))"
   ]
  },
  {
   "cell_type": "markdown",
   "metadata": {},
   "source": [
    "##### Descriptive statistics and plotting: WITHOUT-TURNSTILE DATABASE"
   ]
  },
  {
   "cell_type": "code",
   "execution_count": 32,
   "metadata": {
    "scrolled": true
   },
   "outputs": [
    {
     "data": {
      "text/html": [
       "<div>\n",
       "<style>\n",
       "    .dataframe thead tr:only-child th {\n",
       "        text-align: right;\n",
       "    }\n",
       "\n",
       "    .dataframe thead th {\n",
       "        text-align: left;\n",
       "    }\n",
       "\n",
       "    .dataframe tbody tr th {\n",
       "        vertical-align: top;\n",
       "    }\n",
       "</style>\n",
       "<table border=\"1\" class=\"dataframe\">\n",
       "  <thead>\n",
       "    <tr style=\"text-align: right;\">\n",
       "      <th></th>\n",
       "      <th>id</th>\n",
       "      <th>nviaje</th>\n",
       "      <th>diferencia_tiempo</th>\n",
       "      <th>diferencia_tiempo_secs</th>\n",
       "    </tr>\n",
       "  </thead>\n",
       "  <tbody>\n",
       "    <tr>\n",
       "      <th>count</th>\n",
       "      <td>1.095631e+06</td>\n",
       "      <td>1.095631e+06</td>\n",
       "      <td>1095631</td>\n",
       "      <td>1.095631e+06</td>\n",
       "    </tr>\n",
       "    <tr>\n",
       "      <th>mean</th>\n",
       "      <td>2.251215e+09</td>\n",
       "      <td>1.631636e+00</td>\n",
       "      <td>0 days 00:00:07.090680</td>\n",
       "      <td>7.090680e+00</td>\n",
       "    </tr>\n",
       "    <tr>\n",
       "      <th>std</th>\n",
       "      <td>1.294543e+09</td>\n",
       "      <td>8.589820e-01</td>\n",
       "      <td>0 days 00:01:19.468331</td>\n",
       "      <td>7.946833e+01</td>\n",
       "    </tr>\n",
       "    <tr>\n",
       "      <th>min</th>\n",
       "      <td>5.454520e+05</td>\n",
       "      <td>1.000000e+00</td>\n",
       "      <td>0 days 00:00:00</td>\n",
       "      <td>0.000000e+00</td>\n",
       "    </tr>\n",
       "    <tr>\n",
       "      <th>25%</th>\n",
       "      <td>9.356420e+08</td>\n",
       "      <td>1.000000e+00</td>\n",
       "      <td>0 days 00:00:02</td>\n",
       "      <td>2.000000e+00</td>\n",
       "    </tr>\n",
       "    <tr>\n",
       "      <th>50%</th>\n",
       "      <td>2.512512e+09</td>\n",
       "      <td>1.000000e+00</td>\n",
       "      <td>0 days 00:00:03</td>\n",
       "      <td>3.000000e+00</td>\n",
       "    </tr>\n",
       "    <tr>\n",
       "      <th>75%</th>\n",
       "      <td>3.417347e+09</td>\n",
       "      <td>2.000000e+00</td>\n",
       "      <td>0 days 00:00:04</td>\n",
       "      <td>4.000000e+00</td>\n",
       "    </tr>\n",
       "    <tr>\n",
       "      <th>max</th>\n",
       "      <td>4.293302e+09</td>\n",
       "      <td>1.900000e+01</td>\n",
       "      <td>0 days 09:33:53</td>\n",
       "      <td>3.443300e+04</td>\n",
       "    </tr>\n",
       "  </tbody>\n",
       "</table>\n",
       "</div>"
      ],
      "text/plain": [
       "                 id        nviaje       diferencia_tiempo  \\\n",
       "count  1.095631e+06  1.095631e+06                 1095631   \n",
       "mean   2.251215e+09  1.631636e+00  0 days 00:00:07.090680   \n",
       "std    1.294543e+09  8.589820e-01  0 days 00:01:19.468331   \n",
       "min    5.454520e+05  1.000000e+00         0 days 00:00:00   \n",
       "25%    9.356420e+08  1.000000e+00         0 days 00:00:02   \n",
       "50%    2.512512e+09  1.000000e+00         0 days 00:00:03   \n",
       "75%    3.417347e+09  2.000000e+00         0 days 00:00:04   \n",
       "max    4.293302e+09  1.900000e+01         0 days 09:33:53   \n",
       "\n",
       "       diferencia_tiempo_secs  \n",
       "count            1.095631e+06  \n",
       "mean             7.090680e+00  \n",
       "std              7.946833e+01  \n",
       "min              0.000000e+00  \n",
       "25%              2.000000e+00  \n",
       "50%              3.000000e+00  \n",
       "75%              4.000000e+00  \n",
       "max              3.443300e+04  "
      ]
     },
     "execution_count": 32,
     "metadata": {},
     "output_type": "execute_result"
    }
   ],
   "source": [
    "filtered_no_turnstile_df.describe()"
   ]
  },
  {
   "cell_type": "code",
   "execution_count": 33,
   "metadata": {},
   "outputs": [
    {
     "name": "stdout",
     "output_type": "stream",
     "text": [
      "Percentile 95th for without_turnstile database is: 0 days 00:00:23\n"
     ]
    }
   ],
   "source": [
    "without_turnstile_95 = filtered_no_turnstile_df.diferencia_tiempo.quantile(0.95)\n",
    "print('Percentile 95th for without_turnstile database is: ' + str(without_turnstile_95))"
   ]
  },
  {
   "cell_type": "markdown",
   "metadata": {},
   "source": [
    "### Filtering by diferencia_tiempo<=95th percentile in the corresponding databases. BE AWARE."
   ]
  },
  {
   "cell_type": "code",
   "execution_count": 34,
   "metadata": {},
   "outputs": [],
   "source": [
    "with_turnstile_95_df = filtered_turnstile_df[filtered_turnstile_df['diferencia_tiempo']<=with_turnstile_95]"
   ]
  },
  {
   "cell_type": "code",
   "execution_count": 35,
   "metadata": {
    "collapsed": true
   },
   "outputs": [],
   "source": [
    "without_turnstile_95_df = filtered_no_turnstile_df[filtered_no_turnstile_df['diferencia_tiempo']<=without_turnstile_95]"
   ]
  },
  {
   "cell_type": "code",
   "execution_count": 36,
   "metadata": {},
   "outputs": [
    {
     "data": {
      "text/html": [
       "<div>\n",
       "<style>\n",
       "    .dataframe thead tr:only-child th {\n",
       "        text-align: right;\n",
       "    }\n",
       "\n",
       "    .dataframe thead th {\n",
       "        text-align: left;\n",
       "    }\n",
       "\n",
       "    .dataframe tbody tr th {\n",
       "        vertical-align: top;\n",
       "    }\n",
       "</style>\n",
       "<table border=\"1\" class=\"dataframe\">\n",
       "  <thead>\n",
       "    <tr style=\"text-align: right;\">\n",
       "      <th></th>\n",
       "      <th>id</th>\n",
       "      <th>nviaje</th>\n",
       "      <th>diferencia_tiempo</th>\n",
       "      <th>diferencia_tiempo_secs</th>\n",
       "    </tr>\n",
       "  </thead>\n",
       "  <tbody>\n",
       "    <tr>\n",
       "      <th>count</th>\n",
       "      <td>2.708190e+05</td>\n",
       "      <td>270819.000000</td>\n",
       "      <td>270819</td>\n",
       "      <td>270819.000000</td>\n",
       "    </tr>\n",
       "    <tr>\n",
       "      <th>mean</th>\n",
       "      <td>2.241755e+09</td>\n",
       "      <td>1.582186</td>\n",
       "      <td>0 days 00:00:05.709496</td>\n",
       "      <td>5.709496</td>\n",
       "    </tr>\n",
       "    <tr>\n",
       "      <th>std</th>\n",
       "      <td>1.299027e+09</td>\n",
       "      <td>0.844905</td>\n",
       "      <td>0 days 00:00:04.169270</td>\n",
       "      <td>4.169270</td>\n",
       "    </tr>\n",
       "    <tr>\n",
       "      <th>min</th>\n",
       "      <td>1.163146e+06</td>\n",
       "      <td>1.000000</td>\n",
       "      <td>0 days 00:00:00</td>\n",
       "      <td>0.000000</td>\n",
       "    </tr>\n",
       "    <tr>\n",
       "      <th>25%</th>\n",
       "      <td>9.350776e+08</td>\n",
       "      <td>1.000000</td>\n",
       "      <td>0 days 00:00:03</td>\n",
       "      <td>3.000000</td>\n",
       "    </tr>\n",
       "    <tr>\n",
       "      <th>50%</th>\n",
       "      <td>2.512587e+09</td>\n",
       "      <td>1.000000</td>\n",
       "      <td>0 days 00:00:04</td>\n",
       "      <td>4.000000</td>\n",
       "    </tr>\n",
       "    <tr>\n",
       "      <th>75%</th>\n",
       "      <td>3.380940e+09</td>\n",
       "      <td>2.000000</td>\n",
       "      <td>0 days 00:00:06</td>\n",
       "      <td>6.000000</td>\n",
       "    </tr>\n",
       "    <tr>\n",
       "      <th>max</th>\n",
       "      <td>4.293306e+09</td>\n",
       "      <td>14.000000</td>\n",
       "      <td>0 days 00:00:27</td>\n",
       "      <td>27.000000</td>\n",
       "    </tr>\n",
       "  </tbody>\n",
       "</table>\n",
       "</div>"
      ],
      "text/plain": [
       "                 id         nviaje       diferencia_tiempo  \\\n",
       "count  2.708190e+05  270819.000000                  270819   \n",
       "mean   2.241755e+09       1.582186  0 days 00:00:05.709496   \n",
       "std    1.299027e+09       0.844905  0 days 00:00:04.169270   \n",
       "min    1.163146e+06       1.000000         0 days 00:00:00   \n",
       "25%    9.350776e+08       1.000000         0 days 00:00:03   \n",
       "50%    2.512587e+09       1.000000         0 days 00:00:04   \n",
       "75%    3.380940e+09       2.000000         0 days 00:00:06   \n",
       "max    4.293306e+09      14.000000         0 days 00:00:27   \n",
       "\n",
       "       diferencia_tiempo_secs  \n",
       "count           270819.000000  \n",
       "mean                 5.709496  \n",
       "std                  4.169270  \n",
       "min                  0.000000  \n",
       "25%                  3.000000  \n",
       "50%                  4.000000  \n",
       "75%                  6.000000  \n",
       "max                 27.000000  "
      ]
     },
     "execution_count": 36,
     "metadata": {},
     "output_type": "execute_result"
    }
   ],
   "source": [
    "with_turnstile_95_df.describe()"
   ]
  },
  {
   "cell_type": "code",
   "execution_count": 37,
   "metadata": {
    "collapsed": true
   },
   "outputs": [
    {
     "data": {
      "text/html": [
       "<div>\n",
       "<style>\n",
       "    .dataframe thead tr:only-child th {\n",
       "        text-align: right;\n",
       "    }\n",
       "\n",
       "    .dataframe thead th {\n",
       "        text-align: left;\n",
       "    }\n",
       "\n",
       "    .dataframe tbody tr th {\n",
       "        vertical-align: top;\n",
       "    }\n",
       "</style>\n",
       "<table border=\"1\" class=\"dataframe\">\n",
       "  <thead>\n",
       "    <tr style=\"text-align: right;\">\n",
       "      <th></th>\n",
       "      <th>id</th>\n",
       "      <th>nviaje</th>\n",
       "      <th>diferencia_tiempo</th>\n",
       "      <th>diferencia_tiempo_secs</th>\n",
       "    </tr>\n",
       "  </thead>\n",
       "  <tbody>\n",
       "    <tr>\n",
       "      <th>count</th>\n",
       "      <td>1.041624e+06</td>\n",
       "      <td>1.041624e+06</td>\n",
       "      <td>1041624</td>\n",
       "      <td>1.041624e+06</td>\n",
       "    </tr>\n",
       "    <tr>\n",
       "      <th>mean</th>\n",
       "      <td>2.252309e+09</td>\n",
       "      <td>1.638864e+00</td>\n",
       "      <td>0 days 00:00:03.365189</td>\n",
       "      <td>3.365189e+00</td>\n",
       "    </tr>\n",
       "    <tr>\n",
       "      <th>std</th>\n",
       "      <td>1.294399e+09</td>\n",
       "      <td>8.622452e-01</td>\n",
       "      <td>0 days 00:00:03.332207</td>\n",
       "      <td>3.332208e+00</td>\n",
       "    </tr>\n",
       "    <tr>\n",
       "      <th>min</th>\n",
       "      <td>5.454520e+05</td>\n",
       "      <td>1.000000e+00</td>\n",
       "      <td>0 days 00:00:00</td>\n",
       "      <td>0.000000e+00</td>\n",
       "    </tr>\n",
       "    <tr>\n",
       "      <th>25%</th>\n",
       "      <td>9.357000e+08</td>\n",
       "      <td>1.000000e+00</td>\n",
       "      <td>0 days 00:00:02</td>\n",
       "      <td>2.000000e+00</td>\n",
       "    </tr>\n",
       "    <tr>\n",
       "      <th>50%</th>\n",
       "      <td>2.512588e+09</td>\n",
       "      <td>1.000000e+00</td>\n",
       "      <td>0 days 00:00:03</td>\n",
       "      <td>3.000000e+00</td>\n",
       "    </tr>\n",
       "    <tr>\n",
       "      <th>75%</th>\n",
       "      <td>3.418037e+09</td>\n",
       "      <td>2.000000e+00</td>\n",
       "      <td>0 days 00:00:04</td>\n",
       "      <td>4.000000e+00</td>\n",
       "    </tr>\n",
       "    <tr>\n",
       "      <th>max</th>\n",
       "      <td>4.293302e+09</td>\n",
       "      <td>1.900000e+01</td>\n",
       "      <td>0 days 00:00:23</td>\n",
       "      <td>2.300000e+01</td>\n",
       "    </tr>\n",
       "  </tbody>\n",
       "</table>\n",
       "</div>"
      ],
      "text/plain": [
       "                 id        nviaje       diferencia_tiempo  \\\n",
       "count  1.041624e+06  1.041624e+06                 1041624   \n",
       "mean   2.252309e+09  1.638864e+00  0 days 00:00:03.365189   \n",
       "std    1.294399e+09  8.622452e-01  0 days 00:00:03.332207   \n",
       "min    5.454520e+05  1.000000e+00         0 days 00:00:00   \n",
       "25%    9.357000e+08  1.000000e+00         0 days 00:00:02   \n",
       "50%    2.512588e+09  1.000000e+00         0 days 00:00:03   \n",
       "75%    3.418037e+09  2.000000e+00         0 days 00:00:04   \n",
       "max    4.293302e+09  1.900000e+01         0 days 00:00:23   \n",
       "\n",
       "       diferencia_tiempo_secs  \n",
       "count            1.041624e+06  \n",
       "mean             3.365189e+00  \n",
       "std              3.332208e+00  \n",
       "min              0.000000e+00  \n",
       "25%              2.000000e+00  \n",
       "50%              3.000000e+00  \n",
       "75%              4.000000e+00  \n",
       "max              2.300000e+01  "
      ]
     },
     "execution_count": 37,
     "metadata": {},
     "output_type": "execute_result"
    }
   ],
   "source": [
    "without_turnstile_95_df.describe()"
   ]
  },
  {
   "cell_type": "markdown",
   "metadata": {},
   "source": [
    "* Plotting"
   ]
  },
  {
   "cell_type": "code",
   "execution_count": 38,
   "metadata": {
    "collapsed": true
   },
   "outputs": [],
   "source": [
    "colors = [(2, 136, 209),(0, 151, 167),(0, 121, 107)]\n",
    "for i in range(len(colors)):\n",
    "    r, g, b = colors[i]  \n",
    "    colors[i] = (r / 255., g / 255., b / 255.)"
   ]
  },
  {
   "cell_type": "code",
   "execution_count": 41,
   "metadata": {},
   "outputs": [
    {
     "ename": "AttributeError",
     "evalue": "'Timedelta' object has no attribute 'dt'",
     "output_type": "error",
     "traceback": [
      "\u001b[1;31m---------------------------------------------------------------------------\u001b[0m",
      "\u001b[1;31mAttributeError\u001b[0m                            Traceback (most recent call last)",
      "\u001b[1;32m<ipython-input-41-e9847f9a07fc>\u001b[0m in \u001b[0;36m<module>\u001b[1;34m()\u001b[0m\n\u001b[0;32m      1\u001b[0m \u001b[0mwith_turnstile_95_df_hist\u001b[0m\u001b[1;33m,\u001b[0m \u001b[0max_1\u001b[0m \u001b[1;33m=\u001b[0m \u001b[0mplt\u001b[0m\u001b[1;33m.\u001b[0m\u001b[0msubplots\u001b[0m\u001b[1;33m(\u001b[0m\u001b[1;33m)\u001b[0m\u001b[1;33m\u001b[0m\u001b[0m\n\u001b[1;32m----> 2\u001b[1;33m \u001b[0mwith_turnstile_95_df_hist_data\u001b[0m \u001b[1;33m=\u001b[0m \u001b[0max_1\u001b[0m\u001b[1;33m.\u001b[0m\u001b[0mhist\u001b[0m\u001b[1;33m(\u001b[0m\u001b[0mwith_turnstile_95_df\u001b[0m\u001b[1;33m[\u001b[0m\u001b[1;34m'diferencia_tiempo_secs'\u001b[0m\u001b[1;33m]\u001b[0m\u001b[1;33m.\u001b[0m\u001b[0mvalues\u001b[0m\u001b[1;33m,\u001b[0m\u001b[0mbins\u001b[0m\u001b[1;33m=\u001b[0m\u001b[0mrange\u001b[0m\u001b[1;33m(\u001b[0m\u001b[1;36m0\u001b[0m\u001b[1;33m,\u001b[0m\u001b[0mwith_turnstile_95\u001b[0m\u001b[1;33m.\u001b[0m\u001b[0mdt\u001b[0m\u001b[1;33m.\u001b[0m\u001b[0mtotal_seconds\u001b[0m\u001b[1;33m(\u001b[0m\u001b[1;33m)\u001b[0m\u001b[1;33m,\u001b[0m\u001b[1;36m1\u001b[0m\u001b[1;33m)\u001b[0m\u001b[1;33m,\u001b[0m\u001b[0mcolor\u001b[0m\u001b[1;33m=\u001b[0m\u001b[0mcolors\u001b[0m\u001b[1;33m[\u001b[0m\u001b[1;36m1\u001b[0m\u001b[1;33m]\u001b[0m\u001b[1;33m)\u001b[0m\u001b[1;33m\u001b[0m\u001b[0m\n\u001b[0m\u001b[0;32m      3\u001b[0m \u001b[0max_1\u001b[0m\u001b[1;33m.\u001b[0m\u001b[0mset_title\u001b[0m\u001b[1;33m(\u001b[0m\u001b[1;34m'With turnstiles histogram'\u001b[0m\u001b[1;33m)\u001b[0m\u001b[1;33m\u001b[0m\u001b[0m\n\u001b[0;32m      4\u001b[0m \u001b[0max_1\u001b[0m\u001b[1;33m.\u001b[0m\u001b[0mset_xlabel\u001b[0m\u001b[1;33m(\u001b[0m\u001b[1;34m'time-interval[s]'\u001b[0m\u001b[1;33m)\u001b[0m\u001b[1;33m\u001b[0m\u001b[0m\n\u001b[0;32m      5\u001b[0m \u001b[0max_1\u001b[0m\u001b[1;33m.\u001b[0m\u001b[0mset_ylabel\u001b[0m\u001b[1;33m(\u001b[0m\u001b[1;34m'Frequency'\u001b[0m\u001b[1;33m)\u001b[0m\u001b[1;33m\u001b[0m\u001b[0m\n",
      "\u001b[1;31mAttributeError\u001b[0m: 'Timedelta' object has no attribute 'dt'"
     ]
    },
    {
     "data": {
      "image/png": "[encoded data removed]",
      "text/plain": [
       "<matplotlib.figure.Figure at 0x18280545d68>"
      ]
     },
     "metadata": {},
     "output_type": "display_data"
    }
   ],
   "source": [
    "with_turnstile_95_df_hist, ax_1 = plt.subplots()\n",
    "with_turnstile_95_df_hist_data = ax_1.hist(with_turnstile_95_df['diferencia_tiempo_secs'].values,bins=range(0,,1),color=colors[1])\n",
    "ax_1.set_title('With turnstiles histogram')\n",
    "ax_1.set_xlabel('time-interval[s]')\n",
    "ax_1.set_ylabel('Frequency')"
   ]
  },
  {
   "cell_type": "code",
   "execution_count": null,
   "metadata": {
    "collapsed": true
   },
   "outputs": [],
   "source": []
  }
 ],
 "metadata": {
  "kernelspec": {
   "display_name": "Python 3",
   "language": "python",
   "name": "python3"
  },
  "language_info": {
   "codemirror_mode": {
    "name": "ipython",
    "version": 3
   },
   "file_extension": ".py",
   "mimetype": "text/x-python",
   "name": "python",
   "nbconvert_exporter": "python",
   "pygments_lexer": "ipython3",
   "version": "3.6.1"
  }
 },
 "nbformat": 4,
 "nbformat_minor": 2
}
