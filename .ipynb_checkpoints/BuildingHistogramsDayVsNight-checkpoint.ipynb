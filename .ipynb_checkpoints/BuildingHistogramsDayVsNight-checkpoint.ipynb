{
 "cells": [
  {
   "cell_type": "markdown",
   "metadata": {},
   "source": [
    "# Building (Day vs. Night) Histograms"
   ]
  },
  {
   "cell_type": "markdown",
   "metadata": {},
   "source": [
    "### How to run this notebook:\n",
    "* Give date and type of vehicle as arguments\n",
    "* If simplified etapas file does not exist, then run RunDailyEtapasBuilder.runSimplifyEtapas(). If it already exists, then omit it\n",
    "* If simplified perfiles file does not exist, then run RunDailyEtapasBuilder.runSimplifyPerfiles(). If it already exists, then omit it. TODO: This is not (yet) needed"
   ]
  },
  {
   "cell_type": "markdown",
   "metadata": {},
   "source": [
    "Run the builder in this order:\n",
    "1. etapas_df = RunDailyEtapasBuilder.loadSimplifiedEtapas()\n",
    "2. merged_df = RunDailyEtapasBuilder.includeTorniquetesDate(etapas_df)\n",
    "3. clean_df = RunDailyEtapasBuilder.cleanDataFrame(merged_df)\n",
    "4. sorted_df = RunDailyEtapasBuilder.sortDataFrame(clean_df)"
   ]
  },
  {
   "cell_type": "code",
   "execution_count": 1,
   "metadata": {
    "scrolled": true
   },
   "outputs": [
    {
     "data": {
      "text/html": [
       "<style>.container { width:80% !important; }</style>"
      ],
      "text/plain": [
       "<IPython.core.display.HTML object>"
      ]
     },
     "metadata": {},
     "output_type": "display_data"
    }
   ],
   "source": [
    "%matplotlib inline\n",
    "from IPython.core.display import display, HTML\n",
    "display(HTML(\"<style>.container { width:80% !important; }</style>\"))\n",
    "import pandas as pd\n",
    "import matplotlib\n",
    "import matplotlib.pyplot as plt\n",
    "import numpy as np\n",
    "from importlib import reload\n",
    "import datetime as dt"
   ]
  },
  {
   "cell_type": "code",
   "execution_count": 2,
   "metadata": {},
   "outputs": [
    {
     "name": "stdout",
     "output_type": "stream",
     "text": [
      "Enter the date to analyze: 2017-07-19\n",
      "Enter the vehicle to analyze: BUS\n",
      "Consider ZP in perfiles file (0/1)?: 0\n"
     ]
    }
   ],
   "source": [
    "import RunDailyEtapasBuilder"
   ]
  },
  {
   "cell_type": "markdown",
   "metadata": {},
   "source": [
    "* Running the builder of the dataframe"
   ]
  },
  {
   "cell_type": "code",
   "execution_count": 3,
   "metadata": {},
   "outputs": [
    {
     "name": "stdout",
     "output_type": "stream",
     "text": [
      "Not found in turnstile database: 1637796\n"
     ]
    }
   ],
   "source": [
    "#RunDailyEtapasBuilder.runSimplifyEtapas()\n",
    "etapas_df = RunDailyEtapasBuilder.loadSimplifiedEtapas()\n",
    "merged_df = RunDailyEtapasBuilder.mergeTurnstileData(etapas_df)\n",
    "clean_df = RunDailyEtapasBuilder.cleanDataFrame(merged_df)\n",
    "sorted_df = RunDailyEtapasBuilder.sortDataFrame(clean_df)\n",
    "sorted_df = sorted_df.reset_index()"
   ]
  },
  {
   "cell_type": "markdown",
   "metadata": {},
   "source": [
    "* Counting."
   ]
  },
  {
   "cell_type": "code",
   "execution_count": 4,
   "metadata": {},
   "outputs": [
    {
     "name": "stdout",
     "output_type": "stream",
     "text": [
      "2361310\n",
      "2361310\n",
      "2326044\n",
      "2326044\n"
     ]
    }
   ],
   "source": [
    "print(etapas_df['id'].count())\n",
    "print(merged_df['id'].count())\n",
    "print(clean_df['id'].count())\n",
    "print(sorted_df['id'].count())"
   ]
  },
  {
   "cell_type": "markdown",
   "metadata": {},
   "source": [
    "* Adding necessary attributes"
   ]
  },
  {
   "cell_type": "code",
   "execution_count": 5,
   "metadata": {
    "collapsed": true
   },
   "outputs": [],
   "source": [
    "sorted_df['mismo_paradero'] = (sorted_df['par_subida']==sorted_df['par_subida'].shift()).fillna(False)\n",
    "sorted_df['misma_patente'] = (sorted_df['sitio_subida']==sorted_df['sitio_subida'].shift()).fillna(False)\n",
    "sorted_df['mismo_servicio'] = (sorted_df['servicio_subida']==sorted_df['servicio_subida'].shift()).fillna(False)\n",
    "\n",
    "sorted_df.loc[(sorted_df.mismo_servicio == True) & (sorted_df.mismo_paradero == True) & (sorted_df.misma_patente == True), 'diferencia_tiempo'] = (sorted_df['t_subida']-sorted_df['t_subida'].shift())\n",
    "\n",
    "sorted_df['diferencia_tiempo_secs'] = sorted_df['diferencia_tiempo'].dt.total_seconds()\n",
    "sorted_df['si_torniquete'] = (sorted_df['fecha_instalacion']<=sorted_df['t_subida'])\n",
    "sorted_df['si_2017_torniquete'] = ((sorted_df['fecha_instalacion']<=sorted_df['t_subida'])&(sorted_df['fecha_instalacion']>=pd.to_datetime('2017-01-01')))"
   ]
  },
  {
   "cell_type": "markdown",
   "metadata": {},
   "source": [
    "* Filtering by mismo_paradero, misma_patente and by si_torniquete. This is a key part"
   ]
  },
  {
   "cell_type": "code",
   "execution_count": 6,
   "metadata": {
    "collapsed": true
   },
   "outputs": [],
   "source": [
    "filtered_df = sorted_df[(sorted_df.mismo_servicio==True) & (sorted_df.mismo_paradero==True) & (sorted_df.misma_patente==True)]\n",
    "filtered_turnstile_df = filtered_df[filtered_df.si_2017_torniquete==True]\n",
    "filtered_no_turnstile_df = filtered_df[filtered_df.si_torniquete==False]"
   ]
  },
  {
   "cell_type": "markdown",
   "metadata": {},
   "source": [
    "* Counting and checking"
   ]
  },
  {
   "cell_type": "code",
   "execution_count": 7,
   "metadata": {
    "scrolled": false
   },
   "outputs": [
    {
     "name": "stdout",
     "output_type": "stream",
     "text": [
      "1427569\n",
      "176655\n",
      "998532\n",
      "1175187\n"
     ]
    }
   ],
   "source": [
    "print(filtered_df['id'].count())\n",
    "print(filtered_turnstile_df['id'].count())\n",
    "print(filtered_no_turnstile_df['id'].count())\n",
    "checking = filtered_turnstile_df['id'].count() + filtered_no_turnstile_df['id'].count()\n",
    "print(checking)"
   ]
  },
  {
   "cell_type": "markdown",
   "metadata": {},
   "source": [
    "* Getting rid of unecessary dataframes"
   ]
  },
  {
   "cell_type": "code",
   "execution_count": 8,
   "metadata": {
    "collapsed": true,
    "scrolled": false
   },
   "outputs": [],
   "source": [
    "del etapas_df\n",
    "del merged_df\n",
    "del clean_df"
   ]
  },
  {
   "cell_type": "markdown",
   "metadata": {},
   "source": [
    "* Filtering by period (noc vs. diur)"
   ]
  },
  {
   "cell_type": "code",
   "execution_count": 9,
   "metadata": {
    "collapsed": true
   },
   "outputs": [],
   "source": [
    "diur_start_1 = dt.time(0,0,0)\n",
    "diur_end_1 = dt.time(0,59,0)\n",
    "noc_start = dt.time(1,0,0)\n",
    "noc_end = dt.time(5,29,0)\n",
    "diur_start_2 = dt.time(5,30,0)\n",
    "diur_end_2 = dt.time(23,59,0)"
   ]
  },
  {
   "cell_type": "code",
   "execution_count": 10,
   "metadata": {
    "collapsed": true
   },
   "outputs": [],
   "source": [
    "noc_turnstile_df = filtered_turnstile_df[(noc_start<=filtered_turnstile_df['t_subida'].dt.time) \n",
    "                                         & (filtered_turnstile_df['t_subida'].dt.time<=noc_end)]\n",
    "\n",
    "noc_no_turnstile_df = filtered_no_turnstile_df[(noc_start<=filtered_no_turnstile_df['t_subida'].dt.time)\n",
    "                                        & (filtered_no_turnstile_df['t_subida'].dt.time<=noc_end)]\n",
    "\n",
    "diur_turnstile_df = filtered_turnstile_df[((diur_start_1<=filtered_turnstile_df['t_subida'].dt.time)\n",
    "                                         & (filtered_turnstile_df['t_subida'].dt.time<=diur_end_1))\n",
    "                                         | ((diur_start_2<=filtered_turnstile_df['t_subida'].dt.time)\n",
    "                                         & (filtered_turnstile_df['t_subida'].dt.time<=diur_end_2))]\n",
    "\n",
    "diur_no_turnstile_df = filtered_no_turnstile_df[((diur_start_1<=filtered_no_turnstile_df['t_subida'].dt.time)\n",
    "                                         & (filtered_no_turnstile_df['t_subida'].dt.time<=diur_end_1))\n",
    "                                         | ((diur_start_2<=filtered_no_turnstile_df['t_subida'].dt.time)\n",
    "                                         & (filtered_no_turnstile_df['t_subida'].dt.time<=diur_end_2))]"
   ]
  },
  {
   "cell_type": "markdown",
   "metadata": {},
   "source": [
    "TODO: Currently, there are rows with extremely high values for the 'diferencia_tiempo' attribute (e.g. >=25 mins). <strong>Be aware of this</strong>. <strike>This should be fixed considering the idExpedicion attribute present in the corresponding 'perfiles' database. The following graphs and descriptive statistics consider only the 95th percentile for the 'diferencia_tiempo_secs' attribute.</strike>"
   ]
  },
  {
   "cell_type": "markdown",
   "metadata": {},
   "source": [
    "### Filtering by diferencia_tiempo<=97th percentile in the corresponding databases. <font color=\"red\">BE AWARE.</font>"
   ]
  },
  {
   "cell_type": "code",
   "execution_count": 11,
   "metadata": {},
   "outputs": [
    {
     "name": "stdout",
     "output_type": "stream",
     "text": [
      "Percentile 97th for noc_turnstile database is: 0 days 00:00:22\n",
      "Percentile 97th for noc_no_turnstile database is: 0 days 00:00:18\n",
      "Percentile 97th for diur_turnstile database is: 0 days 00:00:26\n",
      "Percentile 97th for diur_no_turnstile database is: 0 days 00:00:26\n"
     ]
    }
   ],
   "source": [
    "noc_turnstile_97 = noc_turnstile_df.diferencia_tiempo.quantile(0.97)\n",
    "print ('Percentile 97th for noc_turnstile database is: ' + str(noc_turnstile_97))\n",
    "noc_no_turnstile_97 = noc_no_turnstile_df.diferencia_tiempo.quantile(0.97)\n",
    "print ('Percentile 97th for noc_no_turnstile database is: ' + str(noc_no_turnstile_97))\n",
    "diur_turnstile_97 = diur_turnstile_df.diferencia_tiempo.quantile(0.97)\n",
    "print ('Percentile 97th for diur_turnstile database is: ' + str(diur_turnstile_97))\n",
    "diur_no_turnstile_97 = diur_no_turnstile_df.diferencia_tiempo.quantile(0.97)\n",
    "print ('Percentile 97th for diur_no_turnstile database is: ' + str(diur_no_turnstile_97))"
   ]
  },
  {
   "cell_type": "code",
   "execution_count": 12,
   "metadata": {
    "collapsed": true
   },
   "outputs": [],
   "source": [
    "noc_turnstile_97_df = noc_turnstile_df[noc_turnstile_df.diferencia_tiempo<=noc_turnstile_97]\n",
    "noc_no_turnstile_97_df = noc_no_turnstile_df[noc_no_turnstile_df.diferencia_tiempo<=noc_no_turnstile_97]\n",
    "diur_turnstile_97_df = diur_turnstile_df[diur_turnstile_df.diferencia_tiempo<=diur_turnstile_97]\n",
    "diur_no_turnstile_97_df = diur_no_turnstile_df[diur_no_turnstile_df.diferencia_tiempo<=diur_no_turnstile_97]"
   ]
  },
  {
   "cell_type": "code",
   "execution_count": 13,
   "metadata": {
    "scrolled": false
   },
   "outputs": [
    {
     "data": {
      "text/html": [
       "<div>\n",
       "<style>\n",
       "    .dataframe thead tr:only-child th {\n",
       "        text-align: right;\n",
       "    }\n",
       "\n",
       "    .dataframe thead th {\n",
       "        text-align: left;\n",
       "    }\n",
       "\n",
       "    .dataframe tbody tr th {\n",
       "        vertical-align: top;\n",
       "    }\n",
       "</style>\n",
       "<table border=\"1\" class=\"dataframe\">\n",
       "  <thead>\n",
       "    <tr style=\"text-align: right;\">\n",
       "      <th></th>\n",
       "      <th>index</th>\n",
       "      <th>id</th>\n",
       "      <th>nviaje</th>\n",
       "      <th>diferencia_tiempo</th>\n",
       "      <th>diferencia_tiempo_secs</th>\n",
       "    </tr>\n",
       "  </thead>\n",
       "  <tbody>\n",
       "    <tr>\n",
       "      <th>count</th>\n",
       "      <td>2.430000e+02</td>\n",
       "      <td>2.430000e+02</td>\n",
       "      <td>243.000000</td>\n",
       "      <td>243</td>\n",
       "      <td>243.000000</td>\n",
       "    </tr>\n",
       "    <tr>\n",
       "      <th>mean</th>\n",
       "      <td>1.206796e+06</td>\n",
       "      <td>1.906520e+09</td>\n",
       "      <td>1.024691</td>\n",
       "      <td>0 days 00:00:05.847736</td>\n",
       "      <td>5.847737</td>\n",
       "    </tr>\n",
       "    <tr>\n",
       "      <th>std</th>\n",
       "      <td>6.281825e+05</td>\n",
       "      <td>1.330453e+09</td>\n",
       "      <td>0.180127</td>\n",
       "      <td>0 days 00:00:03.495786</td>\n",
       "      <td>3.495786</td>\n",
       "    </tr>\n",
       "    <tr>\n",
       "      <th>min</th>\n",
       "      <td>3.235600e+04</td>\n",
       "      <td>2.840050e+07</td>\n",
       "      <td>1.000000</td>\n",
       "      <td>0 days 00:00:01</td>\n",
       "      <td>1.000000</td>\n",
       "    </tr>\n",
       "    <tr>\n",
       "      <th>25%</th>\n",
       "      <td>6.517840e+05</td>\n",
       "      <td>4.511938e+08</td>\n",
       "      <td>1.000000</td>\n",
       "      <td>0 days 00:00:04</td>\n",
       "      <td>4.000000</td>\n",
       "    </tr>\n",
       "    <tr>\n",
       "      <th>50%</th>\n",
       "      <td>1.197052e+06</td>\n",
       "      <td>2.037343e+09</td>\n",
       "      <td>1.000000</td>\n",
       "      <td>0 days 00:00:05</td>\n",
       "      <td>5.000000</td>\n",
       "    </tr>\n",
       "    <tr>\n",
       "      <th>75%</th>\n",
       "      <td>1.708362e+06</td>\n",
       "      <td>3.084727e+09</td>\n",
       "      <td>1.000000</td>\n",
       "      <td>0 days 00:00:06</td>\n",
       "      <td>6.000000</td>\n",
       "    </tr>\n",
       "    <tr>\n",
       "      <th>max</th>\n",
       "      <td>2.359592e+06</td>\n",
       "      <td>4.285011e+09</td>\n",
       "      <td>3.000000</td>\n",
       "      <td>0 days 00:00:20</td>\n",
       "      <td>20.000000</td>\n",
       "    </tr>\n",
       "  </tbody>\n",
       "</table>\n",
       "</div>"
      ],
      "text/plain": [
       "              index            id      nviaje       diferencia_tiempo  \\\n",
       "count  2.430000e+02  2.430000e+02  243.000000                     243   \n",
       "mean   1.206796e+06  1.906520e+09    1.024691  0 days 00:00:05.847736   \n",
       "std    6.281825e+05  1.330453e+09    0.180127  0 days 00:00:03.495786   \n",
       "min    3.235600e+04  2.840050e+07    1.000000         0 days 00:00:01   \n",
       "25%    6.517840e+05  4.511938e+08    1.000000         0 days 00:00:04   \n",
       "50%    1.197052e+06  2.037343e+09    1.000000         0 days 00:00:05   \n",
       "75%    1.708362e+06  3.084727e+09    1.000000         0 days 00:00:06   \n",
       "max    2.359592e+06  4.285011e+09    3.000000         0 days 00:00:20   \n",
       "\n",
       "       diferencia_tiempo_secs  \n",
       "count              243.000000  \n",
       "mean                 5.847737  \n",
       "std                  3.495786  \n",
       "min                  1.000000  \n",
       "25%                  4.000000  \n",
       "50%                  5.000000  \n",
       "75%                  6.000000  \n",
       "max                 20.000000  "
      ]
     },
     "execution_count": 13,
     "metadata": {},
     "output_type": "execute_result"
    }
   ],
   "source": [
    "noc_turnstile_97_df.describe()"
   ]
  },
  {
   "cell_type": "code",
   "execution_count": 14,
   "metadata": {
    "scrolled": true
   },
   "outputs": [
    {
     "data": {
      "text/html": [
       "<div>\n",
       "<style>\n",
       "    .dataframe thead tr:only-child th {\n",
       "        text-align: right;\n",
       "    }\n",
       "\n",
       "    .dataframe thead th {\n",
       "        text-align: left;\n",
       "    }\n",
       "\n",
       "    .dataframe tbody tr th {\n",
       "        vertical-align: top;\n",
       "    }\n",
       "</style>\n",
       "<table border=\"1\" class=\"dataframe\">\n",
       "  <thead>\n",
       "    <tr style=\"text-align: right;\">\n",
       "      <th></th>\n",
       "      <th>index</th>\n",
       "      <th>id</th>\n",
       "      <th>nviaje</th>\n",
       "      <th>diferencia_tiempo</th>\n",
       "      <th>diferencia_tiempo_secs</th>\n",
       "    </tr>\n",
       "  </thead>\n",
       "  <tbody>\n",
       "    <tr>\n",
       "      <th>count</th>\n",
       "      <td>2.374000e+03</td>\n",
       "      <td>2.374000e+03</td>\n",
       "      <td>2374.000000</td>\n",
       "      <td>2374</td>\n",
       "      <td>2374.000000</td>\n",
       "    </tr>\n",
       "    <tr>\n",
       "      <th>mean</th>\n",
       "      <td>1.236666e+06</td>\n",
       "      <td>1.966487e+09</td>\n",
       "      <td>1.024853</td>\n",
       "      <td>0 days 00:00:03.255686</td>\n",
       "      <td>3.255687</td>\n",
       "    </tr>\n",
       "    <tr>\n",
       "      <th>std</th>\n",
       "      <td>6.648748e+05</td>\n",
       "      <td>1.393121e+09</td>\n",
       "      <td>0.200646</td>\n",
       "      <td>0 days 00:00:02.617954</td>\n",
       "      <td>2.617955</td>\n",
       "    </tr>\n",
       "    <tr>\n",
       "      <th>min</th>\n",
       "      <td>2.580000e+02</td>\n",
       "      <td>1.865935e+07</td>\n",
       "      <td>1.000000</td>\n",
       "      <td>0 days 00:00:00</td>\n",
       "      <td>0.000000</td>\n",
       "    </tr>\n",
       "    <tr>\n",
       "      <th>25%</th>\n",
       "      <td>6.616920e+05</td>\n",
       "      <td>4.700391e+08</td>\n",
       "      <td>1.000000</td>\n",
       "      <td>0 days 00:00:02</td>\n",
       "      <td>2.000000</td>\n",
       "    </tr>\n",
       "    <tr>\n",
       "      <th>50%</th>\n",
       "      <td>1.235846e+06</td>\n",
       "      <td>2.164363e+09</td>\n",
       "      <td>1.000000</td>\n",
       "      <td>0 days 00:00:03</td>\n",
       "      <td>3.000000</td>\n",
       "    </tr>\n",
       "    <tr>\n",
       "      <th>75%</th>\n",
       "      <td>1.828394e+06</td>\n",
       "      <td>3.270444e+09</td>\n",
       "      <td>1.000000</td>\n",
       "      <td>0 days 00:00:04</td>\n",
       "      <td>4.000000</td>\n",
       "    </tr>\n",
       "    <tr>\n",
       "      <th>max</th>\n",
       "      <td>2.361205e+06</td>\n",
       "      <td>4.287657e+09</td>\n",
       "      <td>5.000000</td>\n",
       "      <td>0 days 00:00:18</td>\n",
       "      <td>18.000000</td>\n",
       "    </tr>\n",
       "  </tbody>\n",
       "</table>\n",
       "</div>"
      ],
      "text/plain": [
       "              index            id       nviaje       diferencia_tiempo  \\\n",
       "count  2.374000e+03  2.374000e+03  2374.000000                    2374   \n",
       "mean   1.236666e+06  1.966487e+09     1.024853  0 days 00:00:03.255686   \n",
       "std    6.648748e+05  1.393121e+09     0.200646  0 days 00:00:02.617954   \n",
       "min    2.580000e+02  1.865935e+07     1.000000         0 days 00:00:00   \n",
       "25%    6.616920e+05  4.700391e+08     1.000000         0 days 00:00:02   \n",
       "50%    1.235846e+06  2.164363e+09     1.000000         0 days 00:00:03   \n",
       "75%    1.828394e+06  3.270444e+09     1.000000         0 days 00:00:04   \n",
       "max    2.361205e+06  4.287657e+09     5.000000         0 days 00:00:18   \n",
       "\n",
       "       diferencia_tiempo_secs  \n",
       "count             2374.000000  \n",
       "mean                 3.255687  \n",
       "std                  2.617955  \n",
       "min                  0.000000  \n",
       "25%                  2.000000  \n",
       "50%                  3.000000  \n",
       "75%                  4.000000  \n",
       "max                 18.000000  "
      ]
     },
     "execution_count": 14,
     "metadata": {},
     "output_type": "execute_result"
    }
   ],
   "source": [
    "noc_no_turnstile_97_df.describe()"
   ]
  },
  {
   "cell_type": "code",
   "execution_count": 15,
   "metadata": {},
   "outputs": [
    {
     "data": {
      "text/html": [
       "<div>\n",
       "<style>\n",
       "    .dataframe thead tr:only-child th {\n",
       "        text-align: right;\n",
       "    }\n",
       "\n",
       "    .dataframe thead th {\n",
       "        text-align: left;\n",
       "    }\n",
       "\n",
       "    .dataframe tbody tr th {\n",
       "        vertical-align: top;\n",
       "    }\n",
       "</style>\n",
       "<table border=\"1\" class=\"dataframe\">\n",
       "  <thead>\n",
       "    <tr style=\"text-align: right;\">\n",
       "      <th></th>\n",
       "      <th>index</th>\n",
       "      <th>id</th>\n",
       "      <th>nviaje</th>\n",
       "      <th>diferencia_tiempo</th>\n",
       "      <th>diferencia_tiempo_secs</th>\n",
       "    </tr>\n",
       "  </thead>\n",
       "  <tbody>\n",
       "    <tr>\n",
       "      <th>count</th>\n",
       "      <td>1.711680e+05</td>\n",
       "      <td>1.711680e+05</td>\n",
       "      <td>171168.000000</td>\n",
       "      <td>171168</td>\n",
       "      <td>171168.000000</td>\n",
       "    </tr>\n",
       "    <tr>\n",
       "      <th>mean</th>\n",
       "      <td>1.164604e+06</td>\n",
       "      <td>1.840977e+09</td>\n",
       "      <td>1.602531</td>\n",
       "      <td>0 days 00:00:05.826346</td>\n",
       "      <td>5.826346</td>\n",
       "    </tr>\n",
       "    <tr>\n",
       "      <th>std</th>\n",
       "      <td>6.882338e+05</td>\n",
       "      <td>1.412327e+09</td>\n",
       "      <td>0.851087</td>\n",
       "      <td>0 days 00:00:03.941820</td>\n",
       "      <td>3.941821</td>\n",
       "    </tr>\n",
       "    <tr>\n",
       "      <th>min</th>\n",
       "      <td>0.000000e+00</td>\n",
       "      <td>1.091258e+06</td>\n",
       "      <td>1.000000</td>\n",
       "      <td>0 days 00:00:00</td>\n",
       "      <td>0.000000</td>\n",
       "    </tr>\n",
       "    <tr>\n",
       "      <th>25%</th>\n",
       "      <td>5.656642e+05</td>\n",
       "      <td>4.242935e+08</td>\n",
       "      <td>1.000000</td>\n",
       "      <td>0 days 00:00:04</td>\n",
       "      <td>4.000000</td>\n",
       "    </tr>\n",
       "    <tr>\n",
       "      <th>50%</th>\n",
       "      <td>1.165113e+06</td>\n",
       "      <td>1.936154e+09</td>\n",
       "      <td>1.000000</td>\n",
       "      <td>0 days 00:00:05</td>\n",
       "      <td>5.000000</td>\n",
       "    </tr>\n",
       "    <tr>\n",
       "      <th>75%</th>\n",
       "      <td>1.759280e+06</td>\n",
       "      <td>3.169601e+09</td>\n",
       "      <td>2.000000</td>\n",
       "      <td>0 days 00:00:07</td>\n",
       "      <td>7.000000</td>\n",
       "    </tr>\n",
       "    <tr>\n",
       "      <th>max</th>\n",
       "      <td>2.361291e+06</td>\n",
       "      <td>4.293088e+09</td>\n",
       "      <td>13.000000</td>\n",
       "      <td>0 days 00:00:26</td>\n",
       "      <td>26.000000</td>\n",
       "    </tr>\n",
       "  </tbody>\n",
       "</table>\n",
       "</div>"
      ],
      "text/plain": [
       "              index            id         nviaje       diferencia_tiempo  \\\n",
       "count  1.711680e+05  1.711680e+05  171168.000000                  171168   \n",
       "mean   1.164604e+06  1.840977e+09       1.602531  0 days 00:00:05.826346   \n",
       "std    6.882338e+05  1.412327e+09       0.851087  0 days 00:00:03.941820   \n",
       "min    0.000000e+00  1.091258e+06       1.000000         0 days 00:00:00   \n",
       "25%    5.656642e+05  4.242935e+08       1.000000         0 days 00:00:04   \n",
       "50%    1.165113e+06  1.936154e+09       1.000000         0 days 00:00:05   \n",
       "75%    1.759280e+06  3.169601e+09       2.000000         0 days 00:00:07   \n",
       "max    2.361291e+06  4.293088e+09      13.000000         0 days 00:00:26   \n",
       "\n",
       "       diferencia_tiempo_secs  \n",
       "count           171168.000000  \n",
       "mean                 5.826346  \n",
       "std                  3.941821  \n",
       "min                  0.000000  \n",
       "25%                  4.000000  \n",
       "50%                  5.000000  \n",
       "75%                  7.000000  \n",
       "max                 26.000000  "
      ]
     },
     "execution_count": 15,
     "metadata": {},
     "output_type": "execute_result"
    }
   ],
   "source": [
    "diur_turnstile_97_df.describe()"
   ]
  },
  {
   "cell_type": "code",
   "execution_count": 16,
   "metadata": {},
   "outputs": [
    {
     "data": {
      "text/html": [
       "<div>\n",
       "<style>\n",
       "    .dataframe thead tr:only-child th {\n",
       "        text-align: right;\n",
       "    }\n",
       "\n",
       "    .dataframe thead th {\n",
       "        text-align: left;\n",
       "    }\n",
       "\n",
       "    .dataframe tbody tr th {\n",
       "        vertical-align: top;\n",
       "    }\n",
       "</style>\n",
       "<table border=\"1\" class=\"dataframe\">\n",
       "  <thead>\n",
       "    <tr style=\"text-align: right;\">\n",
       "      <th></th>\n",
       "      <th>index</th>\n",
       "      <th>id</th>\n",
       "      <th>nviaje</th>\n",
       "      <th>diferencia_tiempo</th>\n",
       "      <th>diferencia_tiempo_secs</th>\n",
       "    </tr>\n",
       "  </thead>\n",
       "  <tbody>\n",
       "    <tr>\n",
       "      <th>count</th>\n",
       "      <td>9.672810e+05</td>\n",
       "      <td>9.672810e+05</td>\n",
       "      <td>967281.000000</td>\n",
       "      <td>967281</td>\n",
       "      <td>967281.000000</td>\n",
       "    </tr>\n",
       "    <tr>\n",
       "      <th>mean</th>\n",
       "      <td>1.184909e+06</td>\n",
       "      <td>1.875986e+09</td>\n",
       "      <td>1.650676</td>\n",
       "      <td>0 days 00:00:03.672535</td>\n",
       "      <td>3.672536</td>\n",
       "    </tr>\n",
       "    <tr>\n",
       "      <th>std</th>\n",
       "      <td>6.793143e+05</td>\n",
       "      <td>1.403224e+09</td>\n",
       "      <td>0.874466</td>\n",
       "      <td>0 days 00:00:03.722721</td>\n",
       "      <td>3.722721</td>\n",
       "    </tr>\n",
       "    <tr>\n",
       "      <th>min</th>\n",
       "      <td>1.000000e+00</td>\n",
       "      <td>1.091258e+06</td>\n",
       "      <td>1.000000</td>\n",
       "      <td>0 days 00:00:00</td>\n",
       "      <td>0.000000</td>\n",
       "    </tr>\n",
       "    <tr>\n",
       "      <th>25%</th>\n",
       "      <td>6.011810e+05</td>\n",
       "      <td>4.270510e+08</td>\n",
       "      <td>1.000000</td>\n",
       "      <td>0 days 00:00:02</td>\n",
       "      <td>2.000000</td>\n",
       "    </tr>\n",
       "    <tr>\n",
       "      <th>50%</th>\n",
       "      <td>1.185033e+06</td>\n",
       "      <td>2.035995e+09</td>\n",
       "      <td>1.000000</td>\n",
       "      <td>0 days 00:00:03</td>\n",
       "      <td>3.000000</td>\n",
       "    </tr>\n",
       "    <tr>\n",
       "      <th>75%</th>\n",
       "      <td>1.771280e+06</td>\n",
       "      <td>3.170936e+09</td>\n",
       "      <td>2.000000</td>\n",
       "      <td>0 days 00:00:04</td>\n",
       "      <td>4.000000</td>\n",
       "    </tr>\n",
       "    <tr>\n",
       "      <th>max</th>\n",
       "      <td>2.361308e+06</td>\n",
       "      <td>4.293295e+09</td>\n",
       "      <td>22.000000</td>\n",
       "      <td>0 days 00:00:26</td>\n",
       "      <td>26.000000</td>\n",
       "    </tr>\n",
       "  </tbody>\n",
       "</table>\n",
       "</div>"
      ],
      "text/plain": [
       "              index            id         nviaje       diferencia_tiempo  \\\n",
       "count  9.672810e+05  9.672810e+05  967281.000000                  967281   \n",
       "mean   1.184909e+06  1.875986e+09       1.650676  0 days 00:00:03.672535   \n",
       "std    6.793143e+05  1.403224e+09       0.874466  0 days 00:00:03.722721   \n",
       "min    1.000000e+00  1.091258e+06       1.000000         0 days 00:00:00   \n",
       "25%    6.011810e+05  4.270510e+08       1.000000         0 days 00:00:02   \n",
       "50%    1.185033e+06  2.035995e+09       1.000000         0 days 00:00:03   \n",
       "75%    1.771280e+06  3.170936e+09       2.000000         0 days 00:00:04   \n",
       "max    2.361308e+06  4.293295e+09      22.000000         0 days 00:00:26   \n",
       "\n",
       "       diferencia_tiempo_secs  \n",
       "count           967281.000000  \n",
       "mean                 3.672536  \n",
       "std                  3.722721  \n",
       "min                  0.000000  \n",
       "25%                  2.000000  \n",
       "50%                  3.000000  \n",
       "75%                  4.000000  \n",
       "max                 26.000000  "
      ]
     },
     "execution_count": 16,
     "metadata": {},
     "output_type": "execute_result"
    }
   ],
   "source": [
    "diur_no_turnstile_97_df.describe()"
   ]
  },
  {
   "cell_type": "markdown",
   "metadata": {},
   "source": [
    "* Plotting"
   ]
  },
  {
   "cell_type": "code",
   "execution_count": 17,
   "metadata": {
    "collapsed": true
   },
   "outputs": [],
   "source": [
    "noc_turnstile_values = noc_turnstile_97_df.diferencia_tiempo_secs.values\n",
    "noc_no_turnstile_values = noc_no_turnstile_97_df.diferencia_tiempo_secs.values\n",
    "diur_turnstile_values = diur_turnstile_97_df.diferencia_tiempo_secs.values\n",
    "diur_no_turnstile_values = diur_no_turnstile_97_df.diferencia_tiempo_secs.values"
   ]
  },
  {
   "cell_type": "code",
   "execution_count": 18,
   "metadata": {
    "collapsed": true
   },
   "outputs": [],
   "source": [
    "colors = [(85,98,112),(78,205,196),(199,244,100),(255,107,107),(196,77,88)]\n",
    "for i in range(len(colors)):\n",
    "    r, g, b = colors[i]  \n",
    "    colors[i] = (r / 255., g / 255., b / 255.)"
   ]
  },
  {
   "cell_type": "markdown",
   "metadata": {},
   "source": [
    "* NIGHT: turns vs. without turns"
   ]
  },
  {
   "cell_type": "code",
   "execution_count": 19,
   "metadata": {
    "collapsed": true
   },
   "outputs": [],
   "source": [
    "noc_max_97 = max(noc_turnstile_97,noc_no_turnstile_97).total_seconds()\n",
    "bins = range(0,int(noc_max_97),1)"
   ]
  },
  {
   "cell_type": "code",
   "execution_count": 20,
   "metadata": {
    "scrolled": true
   },
   "outputs": [
    {
     "data": {
      "text/plain": [
       "<matplotlib.legend.Legend at 0x1bef013bbe0>"
      ]
     },
     "execution_count": 20,
     "metadata": {},
     "output_type": "execute_result"
    },
    {
     "data": {
      "image/png": "[encoded data removed]",
      "text/plain": [
       "<matplotlib.figure.Figure at 0x1be8015dba8>"
      ]
     },
     "metadata": {},
     "output_type": "display_data"
    }
   ],
   "source": [
    "hist_fig, ax = plt.subplots()\n",
    "\n",
    "plot1 = ax.hist(noc_turnstile_values,normed=True,bins=bins,color=colors[1], alpha=0.8, label='noc - 2017 turnstiles')\n",
    "plot2 = ax.hist(noc_no_turnstile_values,normed=True,bins=bins,color=colors[0], alpha = 0.8, label='noc - without turnstiles')\n",
    "\n",
    "\n",
    "ax.set_title('NOC Time-interval between transactions (97th)')\n",
    "ax.set_xlabel('time-interval[s]')\n",
    "ax.set_ylabel('Relative Frequency')\n",
    "ax.legend()\n",
    "#plt.savefig('C:/Users/Tesista/Desktop/Evasion/03_report/02_Figs/4_NOC-2017-07-19.pdf')"
   ]
  },
  {
   "cell_type": "markdown",
   "metadata": {},
   "source": [
    "* DAY: turns vs. without turns"
   ]
  },
  {
   "cell_type": "code",
   "execution_count": 21,
   "metadata": {
    "collapsed": true
   },
   "outputs": [],
   "source": [
    "diur_max_97 = max(diur_turnstile_97,diur_no_turnstile_97).total_seconds()\n",
    "bins = range(0,int(diur_max_97),1)"
   ]
  },
  {
   "cell_type": "code",
   "execution_count": 22,
   "metadata": {},
   "outputs": [
    {
     "data": {
      "text/plain": [
       "<matplotlib.legend.Legend at 0x1be8015dc50>"
      ]
     },
     "execution_count": 22,
     "metadata": {},
     "output_type": "execute_result"
    },
    {
     "data": {
      "image/png": "[encoded data removed]",
      "text/plain": [
       "<matplotlib.figure.Figure at 0x1be8015de48>"
      ]
     },
     "metadata": {},
     "output_type": "display_data"
    }
   ],
   "source": [
    "hist_fig, ax = plt.subplots()\n",
    "\n",
    "plot1 = ax.hist(diur_turnstile_values,normed=True,bins=bins,color=colors[2], alpha=0.8, label='diur - 2017 turnstiles')\n",
    "plot2 = ax.hist(diur_no_turnstile_values,normed=True,bins=bins,color=colors[0], alpha = 0.8, label='diur - without turnstiles')\n",
    "\n",
    "\n",
    "ax.set_title('DIUR Time-interval between transactions (97th)')\n",
    "ax.set_xlabel('time-interval[s]')\n",
    "ax.set_ylabel('Relative Frequency')\n",
    "ax.legend()\n",
    "#plt.savefig('C:/Users/Tesista/Desktop/Evasion/03_report/02_Figs/4_DIUR-2017-07-19.pdf')"
   ]
  },
  {
   "cell_type": "markdown",
   "metadata": {},
   "source": [
    "* TURNS: day vs. night"
   ]
  },
  {
   "cell_type": "code",
   "execution_count": 23,
   "metadata": {
    "collapsed": true
   },
   "outputs": [],
   "source": [
    "turns_max_97 = max(noc_turnstile_97,diur_turnstile_97).total_seconds()\n",
    "bins = range(0,int(turns_max_97),1)"
   ]
  },
  {
   "cell_type": "code",
   "execution_count": 24,
   "metadata": {},
   "outputs": [
    {
     "data": {
      "text/plain": [
       "<matplotlib.legend.Legend at 0x1be800d58d0>"
      ]
     },
     "execution_count": 24,
     "metadata": {},
     "output_type": "execute_result"
    },
    {
     "data": {
      "image/png": "[encoded data removed]",
      "text/plain": [
       "<matplotlib.figure.Figure at 0x1be800d5a90>"
      ]
     },
     "metadata": {},
     "output_type": "display_data"
    }
   ],
   "source": [
    "hist_fig, ax = plt.subplots()\n",
    "\n",
    "plot2 = ax.hist(noc_turnstile_values,normed=True,bins=bins,color=colors[1], alpha = 1, label='noc - 2017 turnstiles')\n",
    "plot1 = ax.hist(diur_turnstile_values,normed=True,bins=bins,color=colors[2], alpha=0.7, label='diur - 2017 turnstiles')\n",
    "\n",
    "\n",
    "\n",
    "ax.set_title('Turnstiles Time-interval between transactions (97th)')\n",
    "ax.set_xlabel('time-interval[s]')\n",
    "ax.set_ylabel('Relative Frequency')\n",
    "ax.legend()\n",
    "#plt.savefig('C:/Users/Tesista/Desktop/Evasion/03_report/02_Figs/4_turnstiles-2017-07-19.pdf')"
   ]
  },
  {
   "cell_type": "markdown",
   "metadata": {},
   "source": [
    "* NO-TURNS: day vs. night"
   ]
  },
  {
   "cell_type": "code",
   "execution_count": 25,
   "metadata": {
    "collapsed": true
   },
   "outputs": [],
   "source": [
    "no_turns_max_97 = max(noc_no_turnstile_97,diur_no_turnstile_97).total_seconds()\n",
    "bins = range(0,int(no_turns_max_97),1)"
   ]
  },
  {
   "cell_type": "code",
   "execution_count": 26,
   "metadata": {},
   "outputs": [
    {
     "data": {
      "text/plain": [
       "<matplotlib.legend.Legend at 0x1be80ade5c0>"
      ]
     },
     "execution_count": 26,
     "metadata": {},
     "output_type": "execute_result"
    },
    {
     "data": {
      "image/png": "[encoded data removed]",
      "text/plain": [
       "<matplotlib.figure.Figure at 0x1bef5236be0>"
      ]
     },
     "metadata": {},
     "output_type": "display_data"
    }
   ],
   "source": [
    "hist_fig, ax = plt.subplots()\n",
    "\n",
    "plot2 = ax.hist(noc_no_turnstile_values,normed=True,bins=bins,color=colors[1], alpha = 1, label='noc - no turnstiles')\n",
    "plot1 = ax.hist(diur_no_turnstile_values,normed=True,bins=bins,color=colors[2], alpha=0.7, label='diur - no turnstiles')\n",
    "\n",
    "\n",
    "\n",
    "ax.set_title('No turnstiles Time-interval between transactions (97th)')\n",
    "ax.set_xlabel('time-interval[s]')\n",
    "ax.set_ylabel('Relative Frequency')\n",
    "ax.legend()\n",
    "#plt.savefig('C:/Users/Tesista/Desktop/Evasion/03_report/02_Figs/4_no-turnstiles-2017-07-19.pdf')"
   ]
  },
  {
   "cell_type": "code",
   "execution_count": 27,
   "metadata": {
    "collapsed": true
   },
   "outputs": [],
   "source": [
    "import scipy as sp\n",
    "import scipy.stats\n",
    "\n",
    "def mean_confidence_interval(data, confidence=0.95):\n",
    "    a = 1.0*np.array(data)\n",
    "    n = len(a)\n",
    "    m, se = np.mean(a), scipy.stats.sem(a)\n",
    "    h = se * sp.stats.t.ppf((1+confidence)/2., n-1)\n",
    "    return h, m-h, m, m+h"
   ]
  },
  {
   "cell_type": "code",
   "execution_count": 28,
   "metadata": {},
   "outputs": [
    {
     "data": {
      "text/plain": [
       "(0.4417404879530003,\n",
       " 5.4059961375614032,\n",
       " 5.8477366255144032,\n",
       " 6.2894771134674032)"
      ]
     },
     "execution_count": 28,
     "metadata": {},
     "output_type": "execute_result"
    }
   ],
   "source": [
    "mean_confidence_interval(noc_turnstile_97_df['diferencia_tiempo_secs'])"
   ]
  },
  {
   "cell_type": "code",
   "execution_count": 29,
   "metadata": {},
   "outputs": [
    {
     "data": {
      "text/plain": [
       "(0.10536379942324557,\n",
       " 3.1503228054630226,\n",
       " 3.255686604886268,\n",
       " 3.3610504043095135)"
      ]
     },
     "execution_count": 29,
     "metadata": {},
     "output_type": "execute_result"
    }
   ],
   "source": [
    "mean_confidence_interval(noc_no_turnstile_97_df['diferencia_tiempo_secs'])"
   ]
  },
  {
   "cell_type": "code",
   "execution_count": 30,
   "metadata": {},
   "outputs": [
    {
     "data": {
      "text/plain": [
       "(0.018673973386743689,\n",
       " 5.807672072603161,\n",
       " 5.8263460459899044,\n",
       " 5.8450200193766477)"
      ]
     },
     "execution_count": 30,
     "metadata": {},
     "output_type": "execute_result"
    }
   ],
   "source": [
    "mean_confidence_interval(diur_turnstile_97_df['diferencia_tiempo_secs'])"
   ]
  },
  {
   "cell_type": "code",
   "execution_count": 31,
   "metadata": {},
   "outputs": [
    {
     "data": {
      "text/plain": [
       "(0.0074187860313748803,\n",
       " 3.6651169093870193,\n",
       " 3.6725356954183943,\n",
       " 3.6799544814497693)"
      ]
     },
     "execution_count": 31,
     "metadata": {},
     "output_type": "execute_result"
    }
   ],
   "source": [
    "mean_confidence_interval(diur_no_turnstile_97_df['diferencia_tiempo_secs'])"
   ]
  },
  {
   "cell_type": "markdown",
   "metadata": {
    "collapsed": true
   },
   "source": [
    "### Closed"
   ]
  }
 ],
 "metadata": {
  "kernelspec": {
   "display_name": "Python 3",
   "language": "python",
   "name": "python3"
  },
  "language_info": {
   "codemirror_mode": {
    "name": "ipython",
    "version": 3
   },
   "file_extension": ".py",
   "mimetype": "text/x-python",
   "name": "python",
   "nbconvert_exporter": "python",
   "pygments_lexer": "ipython3",
   "version": "3.6.1"
  }
 },
 "nbformat": 4,
 "nbformat_minor": 2
}
