{
 "cells": [
  {
   "cell_type": "markdown",
   "metadata": {},
   "source": [
    "## Comparing descriptives of different periods for one particular date"
   ]
  },
  {
   "cell_type": "markdown",
   "metadata": {},
   "source": [
    "* Very ugly coding"
   ]
  },
  {
   "cell_type": "code",
   "execution_count": 1,
   "metadata": {},
   "outputs": [
    {
     "data": {
      "text/html": [
       "<style>.container { width:80% !important; }</style>"
      ],
      "text/plain": [
       "<IPython.core.display.HTML object>"
      ]
     },
     "metadata": {},
     "output_type": "display_data"
    }
   ],
   "source": [
    "%matplotlib inline\n",
    "from IPython.core.display import display, HTML\n",
    "display(HTML(\"<style>.container { width:80% !important; }</style>\"))\n",
    "import pandas as pd\n",
    "import matplotlib\n",
    "import matplotlib.pyplot as plt\n",
    "import numpy as np\n",
    "from importlib import reload\n",
    "import datetime as dt\n",
    "import time\n",
    "from RunSilentlyDailyEtapasBuilder import RunSilentlyDailyEtapasBuilderClass\n",
    "from matplotlib.dates import date2num"
   ]
  },
  {
   "cell_type": "code",
   "execution_count": 2,
   "metadata": {
    "collapsed": true
   },
   "outputs": [],
   "source": [
    "dates = ['2017-07-19'] #Only one date"
   ]
  },
  {
   "cell_type": "code",
   "execution_count": 3,
   "metadata": {
    "collapsed": true
   },
   "outputs": [],
   "source": [
    "#Nocturnal descriptives\n",
    "noc_turnstile_means = []\n",
    "noc_turnstile_medians = []\n",
    "noc_turnstile_stds = []\n",
    "noc_turnstile_maxs = []\n",
    "\n",
    "noc_no_turnstile_means = []\n",
    "noc_no_turnstile_medians = []\n",
    "noc_no_turnstile_stds = []\n",
    "noc_no_turnstile_maxs = []\n",
    "\n",
    "#Diurnal descriptives\n",
    "diur_turnstile_means = []\n",
    "diur_turnstile_medians = []\n",
    "diur_turnstile_stds = []\n",
    "diur_turnstile_maxs = []\n",
    "\n",
    "diur_no_turnstile_means = []\n",
    "diur_no_turnstile_medians = []\n",
    "diur_no_turnstile_stds = []\n",
    "diur_no_turnstile_maxs = []\n",
    "\n",
    "#Off-peak descriptives\n",
    "off_peak_turnstile_means = []\n",
    "off_peak_turnstile_medians = []\n",
    "off_peak_turnstile_stds = []\n",
    "off_peak_turnstile_maxs = []\n",
    "\n",
    "off_peak_no_turnstile_means = []\n",
    "off_peak_no_turnstile_medians = []\n",
    "off_peak_no_turnstile_stds = []\n",
    "off_peak_no_turnstile_maxs = []\n",
    "\n",
    "#Peak descriptives\n",
    "peak_turnstile_means = []\n",
    "peak_turnstile_medians = []\n",
    "peak_turnstile_stds = []\n",
    "peak_turnstile_maxs = []\n",
    "\n",
    "peak_no_turnstile_means = []\n",
    "peak_no_turnstile_medians = []\n",
    "peak_no_turnstile_stds = []\n",
    "peak_no_turnstile_maxs = []\n",
    "\n",
    "quantile = 0.97   "
   ]
  },
  {
   "cell_type": "markdown",
   "metadata": {},
   "source": [
    "* Filtering by diurnal vs. nocturnal"
   ]
  },
  {
   "cell_type": "code",
   "execution_count": 4,
   "metadata": {},
   "outputs": [],
   "source": [
    "diur_start_1 = dt.time(0,0,0)\n",
    "diur_end_1 = dt.time(0,59,0)\n",
    "noc_start = dt.time(1,0,0)\n",
    "noc_end = dt.time(5,29,0)\n",
    "diur_start_2 = dt.time(5,30,0)\n",
    "diur_end_2 = dt.time(23,59,0)"
   ]
  },
  {
   "cell_type": "markdown",
   "metadata": {},
   "source": [
    "* Filtering by peak vs. off-peak"
   ]
  },
  {
   "cell_type": "code",
   "execution_count": 5,
   "metadata": {
    "collapsed": true
   },
   "outputs": [],
   "source": [
    "off_peak_start_1 = dt.time(0,0,0)\n",
    "off_peak_end_1 = dt.time(6,29,0)\n",
    "\n",
    "peak_start_1 = dt.time(6,30,0)\n",
    "peak_end_1 = dt.time(8,29,0)\n",
    "\n",
    "off_peak_start_2 = dt.time(8,30,0)\n",
    "off_peak_end_2 = dt.time(17,29,0)\n",
    "\n",
    "peak_start_2 = dt.time(17,30,0)\n",
    "peak_end_2 = dt.time(20,29,0)\n",
    "\n",
    "off_peak_start_3 = dt.time(20,30,0)\n",
    "off_peak_end_3 = dt.time(23,59,0)"
   ]
  },
  {
   "cell_type": "code",
   "execution_count": 6,
   "metadata": {},
   "outputs": [
    {
     "name": "stdout",
     "output_type": "stream",
     "text": [
      "Not found in turnstile database: 1637796\n"
     ]
    }
   ],
   "source": [
    "for date in dates:\n",
    "    etapas_builder = RunSilentlyDailyEtapasBuilderClass(date)\n",
    "    [etapas_df, processed_sorted_df, filtered_df, filtered_turnstile_df, filtered_no_turnstile_df]=etapas_builder.runCompleteProcess()\n",
    "    \n",
    "    #Filtering by diurnal vs. nocturnal\n",
    "    noc_turnstile_df = filtered_turnstile_df[(noc_start<=filtered_turnstile_df['t_subida'].dt.time)&(filtered_turnstile_df['t_subida'].dt.time<=noc_end)]\n",
    "\n",
    "    noc_no_turnstile_df = filtered_no_turnstile_df[(noc_start<=filtered_no_turnstile_df['t_subida'].dt.time)&(filtered_no_turnstile_df['t_subida'].dt.time<=noc_end)]\n",
    "\n",
    "    diur_turnstile_df = filtered_turnstile_df[((diur_start_1<=filtered_turnstile_df['t_subida'].dt.time)&(filtered_turnstile_df['t_subida'].dt.time<=diur_end_1))\n",
    "                                         |((diur_start_2<=filtered_turnstile_df['t_subida'].dt.time)&(filtered_turnstile_df['t_subida'].dt.time<=diur_end_2))]\n",
    "\n",
    "    diur_no_turnstile_df = filtered_no_turnstile_df[((diur_start_1<=filtered_no_turnstile_df['t_subida'].dt.time)&(filtered_no_turnstile_df['t_subida'].dt.time<=diur_end_1))\n",
    "                                         |((diur_start_2<=filtered_no_turnstile_df['t_subida'].dt.time)&(filtered_no_turnstile_df['t_subida'].dt.time<=diur_end_2))]\n",
    "    \n",
    "    #Filtering by peak vs. off-peak\n",
    "    off_peak_turnstile_df = filtered_turnstile_df[((off_peak_start_1<=filtered_turnstile_df['t_subida'].dt.time)&(filtered_turnstile_df['t_subida'].dt.time<=off_peak_end_1))\n",
    "                                                  |((off_peak_start_2<=filtered_turnstile_df['t_subida'].dt.time)&(filtered_turnstile_df['t_subida'].dt.time<=off_peak_end_2))\n",
    "                                                  |((off_peak_start_3<=filtered_turnstile_df['t_subida'].dt.time)&(filtered_turnstile_df['t_subida'].dt.time<=off_peak_end_3))]\n",
    "\n",
    "    off_peak_no_turnstile_df = filtered_no_turnstile_df[((off_peak_start_1<=filtered_no_turnstile_df['t_subida'].dt.time)&(filtered_no_turnstile_df['t_subida'].dt.time<=off_peak_end_1))\n",
    "                                               |((off_peak_start_2<=filtered_no_turnstile_df['t_subida'].dt.time)&(filtered_no_turnstile_df['t_subida'].dt.time<=off_peak_end_2))\n",
    "                                               |((off_peak_start_3<=filtered_no_turnstile_df['t_subida'].dt.time)&(filtered_no_turnstile_df['t_subida'].dt.time<=off_peak_end_3))]\n",
    "\n",
    "    peak_turnstile_df = filtered_turnstile_df[((peak_start_1<=filtered_turnstile_df['t_subida'].dt.time)&(filtered_turnstile_df['t_subida'].dt.time<=peak_end_1))\n",
    "                                           |((peak_start_2<=filtered_turnstile_df['t_subida'].dt.time)&(filtered_turnstile_df['t_subida'].dt.time<=peak_end_2))]\n",
    "\n",
    "    peak_no_turnstile_df = filtered_no_turnstile_df[((peak_start_1<=filtered_no_turnstile_df['t_subida'].dt.time)&(filtered_no_turnstile_df['t_subida'].dt.time<=peak_end_1))\n",
    "                                           |((peak_start_2<=filtered_no_turnstile_df['t_subida'].dt.time)&(filtered_no_turnstile_df['t_subida'].dt.time<=peak_end_2))]\n",
    "    \n",
    "    #Diurnal vs. nocturnal quantiles\n",
    "    noc_turnstile_97 = noc_turnstile_df.diferencia_tiempo.quantile(0.97)\n",
    "    noc_no_turnstile_97 = noc_no_turnstile_df.diferencia_tiempo.quantile(0.97)\n",
    "    diur_turnstile_97 = diur_turnstile_df.diferencia_tiempo.quantile(0.97)\n",
    "    diur_no_turnstile_97 = diur_no_turnstile_df.diferencia_tiempo.quantile(0.97)\n",
    "    #Peak vs. off-peak quantiles\n",
    "    off_peak_turnstile_97 = off_peak_turnstile_df.diferencia_tiempo.quantile(0.97)\n",
    "    off_peak_no_turnstile_97 = off_peak_no_turnstile_df.diferencia_tiempo.quantile(0.97)\n",
    "    peak_turnstile_97 = peak_turnstile_df.diferencia_tiempo.quantile(0.97)\n",
    "    peak_no_turnstile_97 = peak_no_turnstile_df.diferencia_tiempo.quantile(0.97)\n",
    "    \n",
    "    #Filtering diurnal and nocturnal for specific quantile\n",
    "    noc_turnstile_97_df = noc_turnstile_df[noc_turnstile_df.diferencia_tiempo<=noc_turnstile_97]\n",
    "    noc_no_turnstile_97_df = noc_no_turnstile_df[noc_no_turnstile_df.diferencia_tiempo<=noc_no_turnstile_97]\n",
    "    diur_turnstile_97_df = diur_turnstile_df[diur_turnstile_df.diferencia_tiempo<=diur_turnstile_97]\n",
    "    diur_no_turnstile_97_df = diur_no_turnstile_df[diur_no_turnstile_df.diferencia_tiempo<=diur_no_turnstile_97]\n",
    "    #Filtering peak and off-peak for specific quantile\n",
    "    off_peak_turnstile_97_df = off_peak_turnstile_df[off_peak_turnstile_df.diferencia_tiempo<=off_peak_turnstile_97]\n",
    "    off_peak_no_turnstile_97_df = off_peak_no_turnstile_df[off_peak_no_turnstile_df.diferencia_tiempo<=off_peak_no_turnstile_97]\n",
    "    peak_turnstile_97_df = peak_turnstile_df[peak_turnstile_df.diferencia_tiempo<=peak_turnstile_97]\n",
    "    peak_no_turnstile_97_df = peak_no_turnstile_df[peak_no_turnstile_df.diferencia_tiempo<=peak_no_turnstile_97]\n",
    "    \n",
    "    #Getting the important info.: diurnal vs. nocturnal\n",
    "    noc_turnstile_means.append(noc_turnstile_97_df['diferencia_tiempo_secs'].mean())\n",
    "    noc_turnstile_stds.append(noc_turnstile_97_df['diferencia_tiempo_secs'].std())    \n",
    "    noc_turnstile_medians.append(noc_turnstile_97_df['diferencia_tiempo_secs'].quantile(0.50))\n",
    "    noc_turnstile_maxs.append(noc_turnstile_97_df['diferencia_tiempo_secs'].max())\n",
    "    \n",
    "    noc_no_turnstile_means.append(noc_no_turnstile_97_df['diferencia_tiempo_secs'].mean())\n",
    "    noc_no_turnstile_stds.append(noc_no_turnstile_97_df['diferencia_tiempo_secs'].std())    \n",
    "    noc_no_turnstile_medians.append(noc_no_turnstile_97_df['diferencia_tiempo_secs'].quantile(0.50))\n",
    "    noc_no_turnstile_maxs.append(noc_no_turnstile_97_df['diferencia_tiempo_secs'].max())\n",
    "    \n",
    "    diur_turnstile_means.append(diur_turnstile_97_df['diferencia_tiempo_secs'].mean())\n",
    "    diur_turnstile_stds.append(diur_turnstile_97_df['diferencia_tiempo_secs'].std())\n",
    "    diur_turnstile_medians.append(diur_turnstile_97_df['diferencia_tiempo_secs'].quantile(0.50))\n",
    "    diur_turnstile_maxs.append(diur_turnstile_97_df['diferencia_tiempo_secs'].max())\n",
    "    \n",
    "    diur_no_turnstile_means.append(diur_no_turnstile_97_df['diferencia_tiempo_secs'].mean())\n",
    "    diur_no_turnstile_stds.append(diur_no_turnstile_97_df['diferencia_tiempo_secs'].std())\n",
    "    diur_no_turnstile_medians.append(diur_no_turnstile_97_df['diferencia_tiempo_secs'].quantile(0.50))\n",
    "    diur_no_turnstile_maxs.append(diur_no_turnstile_97_df['diferencia_tiempo_secs'].max())\n",
    "    \n",
    "    #Getting the important info.: peak vs. off-peak    \n",
    "    off_peak_turnstile_means.append(off_peak_turnstile_97_df['diferencia_tiempo_secs'].mean())\n",
    "    off_peak_turnstile_stds.append(off_peak_turnstile_97_df['diferencia_tiempo_secs'].std())    \n",
    "    off_peak_turnstile_medians.append(off_peak_turnstile_97_df['diferencia_tiempo_secs'].quantile(0.50))\n",
    "    off_peak_turnstile_maxs.append(off_peak_turnstile_97_df['diferencia_tiempo_secs'].max())\n",
    "    \n",
    "    off_peak_no_turnstile_means.append(off_peak_no_turnstile_97_df['diferencia_tiempo_secs'].mean())\n",
    "    off_peak_no_turnstile_stds.append(off_peak_no_turnstile_97_df['diferencia_tiempo_secs'].std())    \n",
    "    off_peak_no_turnstile_medians.append(off_peak_no_turnstile_97_df['diferencia_tiempo_secs'].quantile(0.50))\n",
    "    off_peak_no_turnstile_maxs.append(off_peak_no_turnstile_97_df['diferencia_tiempo_secs'].max())\n",
    "    \n",
    "    peak_turnstile_means.append(peak_turnstile_97_df['diferencia_tiempo_secs'].mean())\n",
    "    peak_turnstile_stds.append(peak_turnstile_97_df['diferencia_tiempo_secs'].std())\n",
    "    peak_turnstile_medians.append(peak_turnstile_97_df['diferencia_tiempo_secs'].quantile(0.50))\n",
    "    peak_turnstile_maxs.append(peak_turnstile_97_df['diferencia_tiempo_secs'].max())\n",
    "    \n",
    "    peak_no_turnstile_means.append(peak_no_turnstile_97_df['diferencia_tiempo_secs'].mean())\n",
    "    peak_no_turnstile_stds.append(peak_no_turnstile_97_df['diferencia_tiempo_secs'].std())\n",
    "    peak_no_turnstile_medians.append(peak_no_turnstile_97_df['diferencia_tiempo_secs'].quantile(0.50))\n",
    "    peak_no_turnstile_maxs.append(peak_no_turnstile_97_df['diferencia_tiempo_secs'].max())\n"
   ]
  },
  {
   "cell_type": "markdown",
   "metadata": {},
   "source": [
    "* Plotting"
   ]
  },
  {
   "cell_type": "code",
   "execution_count": 7,
   "metadata": {
    "collapsed": true
   },
   "outputs": [],
   "source": [
    "colors = [(85,98,112),(78,205,196),(199,244,100),(255,107,107),(196,77,88)]\n",
    "for i in range(len(colors)):\n",
    "    r, g, b = colors[i]  \n",
    "    colors[i] = (r / 255., g / 255., b / 255.)\n",
    "\n",
    "width = 0.5"
   ]
  },
  {
   "cell_type": "markdown",
   "metadata": {},
   "source": [
    "* Plotting means"
   ]
  },
  {
   "cell_type": "code",
   "execution_count": 8,
   "metadata": {},
   "outputs": [
    {
     "data": {
      "image/png": "[encoded data removed]",
      "text/plain": [
       "<matplotlib.figure.Figure at 0x22b549bc278>"
      ]
     },
     "metadata": {},
     "output_type": "display_data"
    }
   ],
   "source": [
    "ind = np.arange(1,9,2)\n",
    "fig_1, ax_1 = plt.subplots()\n",
    "\n",
    "p1 = ax_1.bar(1,diur_turnstile_means,width = width, color = colors[3], zorder=3)\n",
    "p2 = ax_1.bar(1+width,diur_no_turnstile_means,width = width, color = colors[0],zorder=3)\n",
    "\n",
    "p3 = ax_1.bar(3,noc_turnstile_means, width = width, color = colors[3], zorder=3)\n",
    "p4 = ax_1.bar(3+width,noc_no_turnstile_means, width = width, color = colors[0],zorder=3)\n",
    "\n",
    "p5 = ax_1.bar(5,peak_turnstile_means, width = width, color = colors[3], zorder=3)\n",
    "p6 = ax_1.bar(5+width,peak_no_turnstile_means, width = width, color = colors[0],zorder=3)\n",
    "\n",
    "p7 = ax_1.bar(7,off_peak_turnstile_means, width = width, color = colors[3], zorder=3)\n",
    "p8 = ax_1.bar(7+width,off_peak_no_turnstile_means, width = width, color = colors[0],zorder=3)\n",
    "\n",
    "ax_1.set_xticks(ind + width / 2)\n",
    "ax_1.set_xticklabels(('Diurnal', 'Nocturnal', 'Peak', 'Off-Peak'))\n",
    "ax_1.set_title('Means of time intervals')\n",
    "ax_1.set_ylabel('Mean of time intervals [s]')\n",
    "ax_1.grid(zorder=0)\n",
    "\n",
    "plt.legend((p1[0],p2[0]), ('turns.','no turns.'),bbox_to_anchor=(0.7, 0.7))\n",
    "plt.savefig('C:/Users/Tesista/Desktop/Evasion/03_report/02_Figs/6_meansComparisonByPeriod.pdf')"
   ]
  },
  {
   "cell_type": "code",
   "execution_count": 9,
   "metadata": {},
   "outputs": [
    {
     "data": {
      "image/png": "[encoded data removed]",
      "text/plain": [
       "<matplotlib.figure.Figure at 0x22b0370e7b8>"
      ]
     },
     "metadata": {},
     "output_type": "display_data"
    }
   ],
   "source": [
    "ind = np.arange(1,9,2)\n",
    "fig_2, ax_2 = plt.subplots()\n",
    "\n",
    "p1 = ax_2.bar(1,diur_turnstile_means,width = width, color = colors[3], zorder=3)\n",
    "p2 = ax_2.bar(1+width,diur_no_turnstile_means,width = width, color = colors[0],zorder=3)\n",
    "\n",
    "p3 = ax_2.bar(3,noc_turnstile_means, width = width, color = colors[3], zorder=3)\n",
    "p4 = ax_2.bar(3+width,noc_no_turnstile_means, width = width, color = colors[0],zorder=3)\n",
    "\n",
    "p5 = ax_2.bar(5,peak_turnstile_means, width = width, color = colors[3], zorder=3)\n",
    "p6 = ax_2.bar(5+width,peak_no_turnstile_means, width = width, color = colors[0],zorder=3)\n",
    "\n",
    "p7 = ax_2.bar(7,off_peak_turnstile_means, width = width, color = colors[3], zorder=3)\n",
    "p8 = ax_2.bar(7+width,off_peak_no_turnstile_means, width = width, color = colors[0],zorder=3)\n",
    "\n",
    "ax_2.set_xticks(ind + width / 2)\n",
    "ax_2.set_xticklabels(('Diurnal', 'Nocturnal', 'Peak', 'Off-Peak'))\n",
    "ax_2.set_title('Means of time intervals')\n",
    "ax_2.set_ylabel('Mean of time intervals [s]')\n",
    "ax_2.grid(zorder=0)\n",
    "\n",
    "x_labels = [0.75,1.75,2.75,3.75,4.75,5.75,6.75,7.75]\n",
    "\n",
    "rects = ax_2.patches\n",
    "\n",
    "labels = []\n",
    "\n",
    "labels.append(diur_turnstile_means[0])\n",
    "labels.append(diur_no_turnstile_means[0])\n",
    "labels.append(noc_turnstile_means[0])\n",
    "labels.append(noc_no_turnstile_means[0])\n",
    "labels.append(peak_turnstile_means[0])\n",
    "labels.append(peak_no_turnstile_means[0])\n",
    "labels.append(off_peak_turnstile_means[0])\n",
    "labels.append(off_peak_no_turnstile_means[0])\n",
    "\n",
    "labels = [ '%.2f' % elem for elem in labels ]\n",
    "\n",
    "for rect, label in zip(rects, labels):\n",
    "    height = rect.get_height()\n",
    "    ax_2.text(rect.get_x() + rect.get_width()/2, height, label, ha='center', va='bottom')\n",
    "\n",
    "\n",
    "plt.legend((p1[0],p2[0]), ('turns.','no turns.'),bbox_to_anchor=(0.7, 0.7))\n",
    "plt.savefig('C:/Users/Tesista/Desktop/Evasion/03_report/02_Figs/6_meansComparisonByPeriodToPPT.pdf')"
   ]
  },
  {
   "cell_type": "markdown",
   "metadata": {},
   "source": [
    "* Plotting stds"
   ]
  },
  {
   "cell_type": "code",
   "execution_count": 10,
   "metadata": {
    "scrolled": true
   },
   "outputs": [
    {
     "data": {
      "image/png": "[encoded data removed]",
      "text/plain": [
       "<matplotlib.figure.Figure at 0x22b547f1588>"
      ]
     },
     "metadata": {},
     "output_type": "display_data"
    }
   ],
   "source": [
    "ind = np.arange(1,9,2)\n",
    "fig_3, ax_3 = plt.subplots()\n",
    "\n",
    "p1 = ax_3.bar(1,diur_turnstile_stds,width = width, color = colors[3], zorder=3)\n",
    "p2 = ax_3.bar(1+width,diur_no_turnstile_stds,width = width, color = colors[0],zorder=3)\n",
    "\n",
    "p3 = ax_3.bar(3,noc_turnstile_stds, width = width, color = colors[3], zorder=3)\n",
    "p4 = ax_3.bar(3+width,noc_no_turnstile_stds, width = width, color = colors[0],zorder=3)\n",
    "\n",
    "p5 = ax_3.bar(5,peak_turnstile_stds, width = width, color = colors[3], zorder=3)\n",
    "p6 = ax_3.bar(5+width,peak_no_turnstile_stds, width = width, color = colors[0],zorder=3)\n",
    "\n",
    "p7 = ax_3.bar(7,off_peak_turnstile_stds, width = width, color = colors[3], zorder=3)\n",
    "p8 = ax_3.bar(7+width,off_peak_no_turnstile_stds, width = width, color = colors[0],zorder=3)\n",
    "\n",
    "ax_3.set_xticks(ind + width / 2)\n",
    "ax_3.set_xticklabels(('Diurnal', 'Nocturnal', 'Peak', 'Off-Peak'))\n",
    "ax_3.set_title('Stds. of time intervals')\n",
    "ax_3.set_ylabel('Std. of time intervals [s]')\n",
    "ax_3.grid(zorder=0)\n",
    "\n",
    "plt.legend((p1[0],p2[0]), ('turns.','no turns.'),bbox_to_anchor=(0.7, 0.7))\n",
    "plt.savefig('C:/Users/Tesista/Desktop/Evasion/03_report/02_Figs/6_stdsComparisonByPeriod.pdf')"
   ]
  },
  {
   "cell_type": "code",
   "execution_count": 11,
   "metadata": {},
   "outputs": [
    {
     "data": {
      "image/png": "[encoded data removed]",
      "text/plain": [
       "<matplotlib.figure.Figure at 0x22b0d9ea390>"
      ]
     },
     "metadata": {},
     "output_type": "display_data"
    }
   ],
   "source": [
    "ind = np.arange(1,9,2)\n",
    "fig_4, ax_4 = plt.subplots()\n",
    "\n",
    "p1 = ax_4.bar(1,diur_turnstile_stds,width = width, color = colors[3], zorder=3)\n",
    "p2 = ax_4.bar(1+width,diur_no_turnstile_stds,width = width, color = colors[0],zorder=3)\n",
    "\n",
    "p3 = ax_4.bar(3,noc_turnstile_stds, width = width, color = colors[3], zorder=3)\n",
    "p4 = ax_4.bar(3+width,noc_no_turnstile_stds, width = width, color = colors[0],zorder=3)\n",
    "\n",
    "p5 = ax_4.bar(5,peak_turnstile_stds, width = width, color = colors[3], zorder=3)\n",
    "p6 = ax_4.bar(5+width,peak_no_turnstile_stds, width = width, color = colors[0],zorder=3)\n",
    "\n",
    "p7 = ax_4.bar(7,off_peak_turnstile_stds, width = width, color = colors[3], zorder=3)\n",
    "p8 = ax_4.bar(7+width,off_peak_no_turnstile_stds, width = width, color = colors[0],zorder=3)\n",
    "\n",
    "x_labels = [0.75,1.75,2.75,3.75,4.75,5.75,6.75,7.75]\n",
    "\n",
    "rects = ax_4.patches\n",
    "\n",
    "labels = []\n",
    "\n",
    "labels.append(diur_turnstile_stds[0])\n",
    "labels.append(diur_no_turnstile_stds[0])\n",
    "labels.append(noc_turnstile_stds[0])\n",
    "labels.append(noc_no_turnstile_stds[0])\n",
    "labels.append(peak_turnstile_stds[0])\n",
    "labels.append(peak_no_turnstile_stds[0])\n",
    "labels.append(off_peak_turnstile_stds[0])\n",
    "labels.append(off_peak_no_turnstile_stds[0])\n",
    "\n",
    "labels = [ '%.2f' % elem for elem in labels ]\n",
    "\n",
    "for rect, label in zip(rects, labels):\n",
    "    height = rect.get_height()\n",
    "    ax_4.text(rect.get_x() + rect.get_width()/2, height, label, ha='center', va='bottom')\n",
    "\n",
    "ax_4.set_xticks(ind + width / 2)\n",
    "ax_4.set_xticklabels(('Diurnal', 'Nocturnal', 'Peak', 'Off-Peak'))\n",
    "ax_4.set_title('Stds. of time intervals')\n",
    "ax_4.set_ylabel('Std. of time intervals [s]')\n",
    "ax_4.grid(zorder=0)\n",
    "\n",
    "plt.legend((p1[0],p2[0]), ('turns.','no turns.'),bbox_to_anchor=(0.7, 0.7))\n",
    "plt.savefig('C:/Users/Tesista/Desktop/Evasion/03_report/02_Figs/6_stdsComparisonByPeriodToPPT.pdf')"
   ]
  },
  {
   "cell_type": "markdown",
   "metadata": {},
   "source": [
    "* Plotting Medians"
   ]
  },
  {
   "cell_type": "code",
   "execution_count": 12,
   "metadata": {},
   "outputs": [
    {
     "data": {
      "image/png": "[encoded data removed]",
      "text/plain": [
       "<matplotlib.figure.Figure at 0x22b548bef98>"
      ]
     },
     "metadata": {},
     "output_type": "display_data"
    }
   ],
   "source": [
    "ind = np.arange(1,9,2)\n",
    "fig_5, ax_5 = plt.subplots()\n",
    "\n",
    "p1 = ax_5.bar(1,diur_turnstile_medians,width = width, color = colors[3], zorder=3)\n",
    "p2 = ax_5.bar(1+width,diur_no_turnstile_medians,width = width, color = colors[0],zorder=3)\n",
    "\n",
    "p3 = ax_5.bar(3,noc_turnstile_medians, width = width, color = colors[3], zorder=3)\n",
    "p4 = ax_5.bar(3+width,noc_no_turnstile_medians, width = width, color = colors[0],zorder=3)\n",
    "\n",
    "p5 = ax_5.bar(5,peak_turnstile_medians, width = width, color = colors[3], zorder=3)\n",
    "p6 = ax_5.bar(5+width,peak_no_turnstile_medians, width = width, color = colors[0],zorder=3)\n",
    "\n",
    "p7 = ax_5.bar(7,off_peak_turnstile_medians, width = width, color = colors[3], zorder=3)\n",
    "p8 = ax_5.bar(7+width,off_peak_no_turnstile_medians, width = width, color = colors[0],zorder=3)\n",
    "\n",
    "ax_5.set_xticks(ind + width / 2)\n",
    "ax_5.set_xticklabels(('Diurnal', 'Nocturnal', 'Peak', 'Off-Peak'))\n",
    "ax_5.set_title('Medians of time intervals')\n",
    "ax_5.set_ylabel('Median of time intervals [s]')\n",
    "ax_5.grid(zorder=0)\n",
    "\n",
    "plt.legend((p1[0],p2[0]), ('turns.','no turns.'),bbox_to_anchor=(0.7, 0.7))\n",
    "plt.savefig('C:/Users/Tesista/Desktop/Evasion/03_report/02_Figs/6_mediansComparisonByPeriod.pdf')"
   ]
  },
  {
   "cell_type": "code",
   "execution_count": 13,
   "metadata": {},
   "outputs": [
    {
     "data": {
      "image/png": "[encoded data removed]",
      "text/plain": [
       "<matplotlib.figure.Figure at 0x22b1d9301d0>"
      ]
     },
     "metadata": {},
     "output_type": "display_data"
    }
   ],
   "source": [
    "ind = np.arange(1,9,2)\n",
    "fig_6, ax_6 = plt.subplots()\n",
    "\n",
    "p1 = ax_6.bar(1,diur_turnstile_medians,width = width, color = colors[3], zorder=3)\n",
    "p2 = ax_6.bar(1+width,diur_no_turnstile_medians,width = width, color = colors[0],zorder=3)\n",
    "\n",
    "p3 = ax_6.bar(3,noc_turnstile_medians, width = width, color = colors[3], zorder=3)\n",
    "p4 = ax_6.bar(3+width,noc_no_turnstile_medians, width = width, color = colors[0],zorder=3)\n",
    "\n",
    "p5 = ax_6.bar(5,peak_turnstile_medians, width = width, color = colors[3], zorder=3)\n",
    "p6 = ax_6.bar(5+width,peak_no_turnstile_medians, width = width, color = colors[0],zorder=3)\n",
    "\n",
    "p7 = ax_6.bar(7,off_peak_turnstile_medians, width = width, color = colors[3], zorder=3)\n",
    "p8 = ax_6.bar(7+width,off_peak_no_turnstile_medians, width = width, color = colors[0],zorder=3)\n",
    "\n",
    "ax_6.set_xticks(ind + width / 2)\n",
    "ax_6.set_xticklabels(('Diurnal', 'Nocturnal', 'Peak', 'Off-Peak'))\n",
    "ax_6.set_title('Medians of time intervals')\n",
    "ax_6.set_ylabel('Median of time intervals [s]')\n",
    "ax_6.grid(zorder=0)\n",
    "\n",
    "x_labels = [0.75,1.75,2.75,3.75,4.75,5.75,6.75,7.75]\n",
    "\n",
    "rects = ax_6.patches\n",
    "\n",
    "labels = []\n",
    "\n",
    "labels.append(diur_turnstile_medians[0])\n",
    "labels.append(diur_no_turnstile_medians[0])\n",
    "labels.append(noc_turnstile_medians[0])\n",
    "labels.append(noc_no_turnstile_medians[0])\n",
    "labels.append(peak_turnstile_medians[0])\n",
    "labels.append(peak_no_turnstile_medians[0])\n",
    "labels.append(off_peak_turnstile_medians[0])\n",
    "labels.append(off_peak_no_turnstile_medians[0])\n",
    "\n",
    "labels = [ '%.2f' % elem for elem in labels ]\n",
    "\n",
    "for rect, label in zip(rects, labels):\n",
    "    height = rect.get_height()\n",
    "    ax_6.text(rect.get_x() + rect.get_width()/2, height, label, ha='center', va='bottom')\n",
    "\n",
    "\n",
    "\n",
    "plt.legend((p1[0],p2[0]), ('turns.','no turns.'),bbox_to_anchor=(0.7, 0.7))\n",
    "plt.savefig('C:/Users/Tesista/Desktop/Evasion/03_report/02_Figs/6_mediansComparisonByPeriodToPPT.pdf')"
   ]
  },
  {
   "cell_type": "markdown",
   "metadata": {},
   "source": [
    "* Plotting Maxs"
   ]
  },
  {
   "cell_type": "code",
   "execution_count": 14,
   "metadata": {},
   "outputs": [
    {
     "data": {
      "image/png": "[encoded data removed]",
      "text/plain": [
       "<matplotlib.figure.Figure at 0x22b1ae6b9e8>"
      ]
     },
     "metadata": {},
     "output_type": "display_data"
    }
   ],
   "source": [
    "ind = np.arange(1,9,2)\n",
    "fig_7, ax_7 = plt.subplots()\n",
    "\n",
    "p1 = ax_7.bar(1,diur_turnstile_maxs,width = width, color = colors[3], zorder=3)\n",
    "p2 = ax_7.bar(1+width,diur_no_turnstile_maxs,width = width, color = colors[0],zorder=3)\n",
    "\n",
    "p3 = ax_7.bar(3,noc_turnstile_maxs, width = width, color = colors[3], zorder=3)\n",
    "p4 = ax_7.bar(3+width,noc_no_turnstile_maxs, width = width, color = colors[0],zorder=3)\n",
    "\n",
    "p5 = ax_7.bar(5,peak_turnstile_maxs, width = width, color = colors[3], zorder=3)\n",
    "p6 = ax_7.bar(5+width,peak_no_turnstile_maxs, width = width, color = colors[0],zorder=3)\n",
    "\n",
    "p7 = ax_7.bar(7,off_peak_turnstile_maxs, width = width, color = colors[3], zorder=3)\n",
    "p8 = ax_7.bar(7+width,off_peak_no_turnstile_maxs, width = width, color = colors[0],zorder=3)\n",
    "\n",
    "ax_7.set_xticks(ind + width / 2)\n",
    "ax_7.set_xticklabels(('Diurnal', 'Nocturnal', 'Peak', 'Off-Peak'))\n",
    "ax_7.set_title('Maxs. of time intervals')\n",
    "ax_7.set_ylabel('Max. of time intervals [s]')\n",
    "ax_7.grid(zorder=0)\n",
    "\n",
    "plt.legend((p1[0],p2[0]), ('turns.','no turns.'),bbox_to_anchor=(0.7, 0.7))\n",
    "plt.savefig('C:/Users/Tesista/Desktop/Evasion/03_report/02_Figs/6_maxsComparisonByPeriod.pdf')"
   ]
  },
  {
   "cell_type": "code",
   "execution_count": 16,
   "metadata": {},
   "outputs": [
    {
     "data": {
      "image/png": "[encoded data removed]",
      "text/plain": [
       "<matplotlib.figure.Figure at 0x22b1db85b70>"
      ]
     },
     "metadata": {},
     "output_type": "display_data"
    }
   ],
   "source": [
    "ind = np.arange(1,9,2)\n",
    "fig_8, ax_8 = plt.subplots()\n",
    "\n",
    "p1 = ax_8.bar(1,diur_turnstile_maxs,width = width, color = colors[3], zorder=3)\n",
    "p2 = ax_8.bar(1+width,diur_no_turnstile_maxs,width = width, color = colors[0],zorder=3)\n",
    "\n",
    "p3 = ax_8.bar(3,noc_turnstile_maxs, width = width, color = colors[3], zorder=3)\n",
    "p4 = ax_8.bar(3+width,noc_no_turnstile_maxs, width = width, color = colors[0],zorder=3)\n",
    "\n",
    "p5 = ax_8.bar(5,peak_turnstile_maxs, width = width, color = colors[3], zorder=3)\n",
    "p6 = ax_8.bar(5+width,peak_no_turnstile_maxs, width = width, color = colors[0],zorder=3)\n",
    "\n",
    "p7 = ax_8.bar(7,off_peak_turnstile_maxs, width = width, color = colors[3], zorder=3)\n",
    "p8 = ax_8.bar(7+width,off_peak_no_turnstile_maxs, width = width, color = colors[0],zorder=3)\n",
    "\n",
    "ax_8.set_xticks(ind + width / 2)\n",
    "ax_8.set_xticklabels(('Diurnal', 'Nocturnal', 'Peak', 'Off-Peak'))\n",
    "ax_8.set_title('Maxs. of time intervals')\n",
    "ax_8.set_ylabel('Max. of time intervals [s]')\n",
    "ax_8.grid(zorder=0)\n",
    "\n",
    "rects = ax_8.patches\n",
    "\n",
    "labels = []\n",
    "\n",
    "labels.append(diur_turnstile_maxs[0])\n",
    "labels.append(diur_no_turnstile_maxs[0])\n",
    "labels.append(noc_turnstile_maxs[0])\n",
    "labels.append(noc_no_turnstile_maxs[0])\n",
    "labels.append(peak_turnstile_maxs[0])\n",
    "labels.append(peak_no_turnstile_maxs[0])\n",
    "labels.append(off_peak_turnstile_maxs[0])\n",
    "labels.append(off_peak_no_turnstile_maxs[0])\n",
    "\n",
    "labels = [ '%.0f' % elem for elem in labels ]\n",
    "\n",
    "for rect, label in zip(rects, labels):\n",
    "    height = rect.get_height()\n",
    "    ax_8.text(rect.get_x() + rect.get_width()/2, height, label, ha='center', va='bottom')\n",
    "\n",
    "\n",
    "plt.legend((p1[0],p2[0]), ('turns.','no turns.'),bbox_to_anchor=(0.7, 0.7))\n",
    "plt.savefig('C:/Users/Tesista/Desktop/Evasion/03_report/02_Figs/6_maxsComparisonByPeriodtToPPT.pdf')"
   ]
  },
  {
   "cell_type": "markdown",
   "metadata": {},
   "source": [
    "### Closed"
   ]
  }
 ],
 "metadata": {
  "kernelspec": {
   "display_name": "Python 3",
   "language": "python",
   "name": "python3"
  },
  "language_info": {
   "codemirror_mode": {
    "name": "ipython",
    "version": 3
   },
   "file_extension": ".py",
   "mimetype": "text/x-python",
   "name": "python",
   "nbconvert_exporter": "python",
   "pygments_lexer": "ipython3",
   "version": "3.6.1"
  }
 },
 "nbformat": 4,
 "nbformat_minor": 2
}
