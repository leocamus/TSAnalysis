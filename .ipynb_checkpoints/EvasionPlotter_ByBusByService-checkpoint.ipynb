{
 "cells": [
  {
   "cell_type": "markdown",
   "metadata": {},
   "source": [
    "### Building evasion vs. mean time interval"
   ]
  },
  {
   "cell_type": "code",
   "execution_count": 1,
   "metadata": {
    "scrolled": true
   },
   "outputs": [
    {
     "data": {
      "text/html": [
       "<style>.container { width:80% !important; }</style>"
      ],
      "text/plain": [
       "<IPython.core.display.HTML object>"
      ]
     },
     "metadata": {},
     "output_type": "display_data"
    }
   ],
   "source": [
    "%matplotlib inline\n",
    "import pandas as pd\n",
    "import matplotlib\n",
    "import matplotlib.pyplot as plt\n",
    "import numpy as np\n",
    "from importlib import reload\n",
    "import datetime as dt\n",
    "from IPython.core.display import display, HTML\n",
    "display(HTML(\"<style>.container { width:80% !important; }</style>\"))"
   ]
  },
  {
   "cell_type": "code",
   "execution_count": 2,
   "metadata": {
    "collapsed": true,
    "scrolled": true
   },
   "outputs": [],
   "source": [
    "from Utils import TransantiagoConstants"
   ]
  },
  {
   "cell_type": "code",
   "execution_count": 3,
   "metadata": {
    "collapsed": true,
    "scrolled": true
   },
   "outputs": [],
   "source": [
    "periods_path = \"C:/Users/Tesista/Desktop/Evasion/01_analisis/03_datos/06_RFA/01_EvasionTrimestral/01_analisis/periods.xlsx\"\n",
    "first_quarter_path = \"C:/Users/Tesista/Desktop/Evasion/01_analisis/03_datos/06_RFA/01_EvasionTrimestral/01_analisis/1st_quarter.xlsx\"\n",
    "second_quarter_path = \"C:/Users/Tesista/Desktop/Evasion/01_analisis/03_datos/06_RFA/01_EvasionTrimestral/01_analisis/2nd_quarter.xlsx\"\n",
    "third_quarter_path = \"C:/Users/Tesista/Desktop/Evasion/01_analisis/03_datos/06_RFA/01_EvasionTrimestral/01_analisis/3rd_quarter.xlsx\""
   ]
  },
  {
   "cell_type": "code",
   "execution_count": 4,
   "metadata": {
    "collapsed": true,
    "scrolled": true
   },
   "outputs": [],
   "source": [
    "first_quarter_evasion = pd.read_excel(first_quarter_path, encoding = 'latin-1')\n",
    "second_quarter_evasion = pd.read_excel(second_quarter_path, encoding = 'latin-1')\n",
    "third_quarter_evasion = pd.read_excel(third_quarter_path, encoding = 'latin-1')\n",
    "periods = pd.read_excel(periods_path)"
   ]
  },
  {
   "cell_type": "markdown",
   "metadata": {},
   "source": [
    "* Brute force: consider to change this. Takes time... shouldn't be like that"
   ]
  },
  {
   "cell_type": "code",
   "execution_count": 5,
   "metadata": {
    "collapsed": true,
    "scrolled": true
   },
   "outputs": [],
   "source": [
    "for index, row in first_quarter_evasion.iterrows():\n",
    "     first_quarter_evasion.loc[index,'TIEMPO'] = str(row['HORA']) + \":\" + str(row['MINUTOS']) + \":\" + \"00\"\n",
    "\n",
    "for index, row in first_quarter_evasion.iterrows():\n",
    "    first_quarter_evasion.loc[index,'TIEMPO'] = dt.datetime.strptime(row['TIEMPO'], \"%H:%M:%S\").time()\n",
    "#    \n",
    "for index, row in second_quarter_evasion.iterrows():\n",
    "     second_quarter_evasion.loc[index,'TIEMPO'] = str(row['HORA']) + \":\" + str(row['MINUTOS']) + \":\" + \"00\"\n",
    "\n",
    "for index, row in second_quarter_evasion.iterrows():\n",
    "    second_quarter_evasion.loc[index,'TIEMPO'] = dt.datetime.strptime(row['TIEMPO'], \"%H:%M:%S\").time()\n",
    "#    \n",
    "for index, row in third_quarter_evasion.iterrows():\n",
    "     third_quarter_evasion.loc[index,'TIEMPO'] = str(row['HORA']) + \":\" + str(row['MINUTOS']) + \":\" + \"00\"\n",
    "\n",
    "for index, row in third_quarter_evasion.iterrows():\n",
    "    third_quarter_evasion.loc[index,'TIEMPO'] = dt.datetime.strptime(row['TIEMPO'], \"%H:%M:%S\").time()"
   ]
  },
  {
   "cell_type": "code",
   "execution_count": 6,
   "metadata": {
    "collapsed": true,
    "scrolled": true
   },
   "outputs": [],
   "source": [
    "first_quarter_evasion.columns = ['FECHA', 'SERVICIO','PATENTE','PUERTAS','N_PUERTA','LUGAR_INICIO','HORA_INICIO','HORA','MINUTO','INGRESAN','NO_VALIDAN','TP','TIEMPO']\n",
    "second_quarter_evasion.columns = ['FECHA', 'SERVICIO','TIPO','PATENTE','PUERTAS','N_PUERTA','LUGAR_INICIO','HORA_INICIO','HORA','MINUTO','INGRESAN','NO_VALIDAN','TP','TIEMPO']\n",
    "third_quarter_evasion.columns = ['FECHA', 'SERVICIO','PATENTE','PUERTAS','N_PUERTA','LUGAR_INICIO','HORA_INICIO','HORA','MINUTO','INGRESAN','NO_VALIDAN','TP','TIEMPO']"
   ]
  },
  {
   "cell_type": "markdown",
   "metadata": {},
   "source": [
    "* Brute force: consider to change this. Takes time... shouldn't be like that"
   ]
  },
  {
   "cell_type": "code",
   "execution_count": 7,
   "metadata": {
    "collapsed": true,
    "scrolled": true
   },
   "outputs": [],
   "source": [
    "del second_quarter_evasion['TIPO']"
   ]
  },
  {
   "cell_type": "code",
   "execution_count": 8,
   "metadata": {
    "collapsed": true,
    "scrolled": true
   },
   "outputs": [],
   "source": [
    "for index, row in first_quarter_evasion.iterrows():\n",
    "    first_quarter_evasion.loc[index,'FECHA_2'] = first_quarter_evasion.loc[index,'FECHA'].date()\n",
    "    \n",
    "for index, row in second_quarter_evasion.iterrows():\n",
    "    second_quarter_evasion.loc[index,'FECHA_2'] = second_quarter_evasion.loc[index,'FECHA'].date()\n",
    "    \n",
    "for index, row in third_quarter_evasion.iterrows():\n",
    "    third_quarter_evasion.loc[index,'FECHA_2'] = third_quarter_evasion.loc[index,'FECHA'].date()\n",
    "    "
   ]
  },
  {
   "cell_type": "code",
   "execution_count": 9,
   "metadata": {
    "collapsed": true,
    "scrolled": true
   },
   "outputs": [],
   "source": [
    "frames = [first_quarter_evasion, second_quarter_evasion, third_quarter_evasion]\n",
    "evasion = pd.concat(frames, keys=['first', 'second', 'third'])"
   ]
  },
  {
   "cell_type": "code",
   "execution_count": 10,
   "metadata": {
    "collapsed": true,
    "scrolled": true
   },
   "outputs": [],
   "source": [
    "weekend = set([5, 6])"
   ]
  },
  {
   "cell_type": "markdown",
   "metadata": {},
   "source": [
    "* Appending period to ddbb. Brute force: consider to change this. <strong>Takes time...</strong> shouldn't be like that. Think in omit it because takes too long"
   ]
  },
  {
   "cell_type": "code",
   "execution_count": 11,
   "metadata": {
    "collapsed": true,
    "scrolled": true
   },
   "outputs": [],
   "source": [
    "evasion['PERIOD']=''\n",
    "for index_e, row_e in evasion.iterrows():\n",
    "    if row_e['FECHA_2'].weekday() not in weekend:\n",
    "        for i in range(0,12):\n",
    "            if periods.loc[i,'Inicio']<=row_e['TIEMPO']<=periods.loc[i,'Fin']:\n",
    "                evasion.loc[index_e,'PERIOD'] = periods.loc[i,'Nombre Periodo']\n",
    "    elif row_e['FECHA_2'].weekday() == 5:\n",
    "        for i in range(12,21):\n",
    "            if periods.loc[i,'Inicio']<=row_e['TIEMPO']<=periods.loc[i,'Fin']:\n",
    "                print('Saturday Hurray. I should not be here')\n",
    "    elif row_e['FECHA_2'].weekday() == 6:\n",
    "        for i in range(21,29):\n",
    "            if periods.loc[i,'Inicio']<=row_e['TIEMPO']<=periods.loc[i,'Fin']:\n",
    "                print('Sunday Hurray. I should not be here')\n",
    "\n"
   ]
  },
  {
   "cell_type": "markdown",
   "metadata": {},
   "source": [
    "* Filtering ZP"
   ]
  },
  {
   "cell_type": "code",
   "execution_count": 12,
   "metadata": {
    "collapsed": true,
    "scrolled": true
   },
   "outputs": [],
   "source": [
    "evasion_paradero = evasion[evasion['TP']=='P']"
   ]
  },
  {
   "cell_type": "markdown",
   "metadata": {},
   "source": [
    "* Filtering only first door"
   ]
  },
  {
   "cell_type": "code",
   "execution_count": 13,
   "metadata": {
    "collapsed": true,
    "scrolled": true
   },
   "outputs": [],
   "source": [
    "evasion_paradero_first = evasion_paradero[evasion_paradero['N_PUERTA']==1]"
   ]
  },
  {
   "cell_type": "markdown",
   "metadata": {},
   "source": [
    "* Getting evasion by bus"
   ]
  },
  {
   "cell_type": "code",
   "execution_count": 14,
   "metadata": {
    "collapsed": true,
    "scrolled": true
   },
   "outputs": [],
   "source": [
    "count_by_bus = evasion_paradero_first.groupby(['PATENTE','SERVICIO','FECHA'])['PATENTE'].count()\n",
    "ingresan_by_bus = evasion_paradero_first.groupby(['PATENTE','SERVICIO','FECHA'])['INGRESAN'].sum()\n",
    "evaden_by_bus = evasion_paradero_first.groupby(['PATENTE','SERVICIO','FECHA'])['NO_VALIDAN'].sum()"
   ]
  },
  {
   "cell_type": "code",
   "execution_count": 15,
   "metadata": {
    "collapsed": true,
    "scrolled": true
   },
   "outputs": [],
   "source": [
    "summary = pd.concat([count_by_bus,ingresan_by_bus, evaden_by_bus], axis=1)\n",
    "summary.columns = ['OBS','INGRESAN','NO_VALIDAN']\n",
    "summary.reset_index(inplace=True)"
   ]
  },
  {
   "cell_type": "markdown",
   "metadata": {},
   "source": [
    "* Building complete etapas ddbb. This step should be tested"
   ]
  },
  {
   "cell_type": "code",
   "execution_count": 16,
   "metadata": {
    "collapsed": true,
    "scrolled": true
   },
   "outputs": [],
   "source": [
    "common_dates = TransantiagoConstants.common_dates\n",
    "#common_dates = [pd.to_datetime(x) for x in common_dates]"
   ]
  },
  {
   "cell_type": "code",
   "execution_count": 17,
   "metadata": {
    "collapsed": true,
    "scrolled": true
   },
   "outputs": [],
   "source": [
    "reduced_etapas = pd.DataFrame()\n",
    "\n",
    "for date in common_dates:\n",
    "    base_input_path = 'C:/Users/Tesista/Desktop/Evasion/01_analisis/03_datos/01_SSH/01_TIMESBYBUS/02_20SECS/'\n",
    "    file_name = str(date) + '-meanByBusByService.csv'\n",
    "    grouped_by_bus = pd.read_csv(base_input_path+file_name, encoding = 'latin-1',sep =\";\")\n",
    "    grouped_by_bus=grouped_by_bus.rename(columns = {'fecha':'FECHA', 'sitio_subida':'PATENTE', 'servicio_subida':'SERVICIO'})\n",
    "    grouped_by_bus['FECHA'] = pd.to_datetime(grouped_by_bus.FECHA)\n",
    "    grouped_by_bus['PATENTE'] = grouped_by_bus['PATENTE'].str.replace(\"-\", \"\")\n",
    "    reduced_etapas = pd.concat([reduced_etapas,grouped_by_bus])\n"
   ]
  },
  {
   "cell_type": "code",
   "execution_count": 18,
   "metadata": {
    "collapsed": true,
    "scrolled": true
   },
   "outputs": [],
   "source": [
    "del reduced_etapas['Unnamed: 0']"
   ]
  },
  {
   "cell_type": "markdown",
   "metadata": {},
   "source": [
    "* Merging. This step should be tested"
   ]
  },
  {
   "cell_type": "code",
   "execution_count": 19,
   "metadata": {
    "collapsed": true,
    "scrolled": true
   },
   "outputs": [],
   "source": [
    "evasion_vs_mean = pd.merge(summary,reduced_etapas, on=['PATENTE','SERVICIO','FECHA'], how='left')"
   ]
  },
  {
   "cell_type": "markdown",
   "metadata": {},
   "source": [
    "* Getting rid of missing values"
   ]
  },
  {
   "cell_type": "code",
   "execution_count": 20,
   "metadata": {
    "collapsed": true,
    "scrolled": true
   },
   "outputs": [],
   "source": [
    "clean_evasion_vs_mean = evasion_vs_mean[evasion_vs_mean['diferencia_tiempo_secs']>0]"
   ]
  },
  {
   "cell_type": "markdown",
   "metadata": {},
   "source": [
    "* Computing evasion rate: should be computed before... a warning is popping up"
   ]
  },
  {
   "cell_type": "code",
   "execution_count": 21,
   "metadata": {
    "scrolled": false
   },
   "outputs": [
    {
     "name": "stderr",
     "output_type": "stream",
     "text": [
      "C:\\Users\\Tesista\\Anaconda3\\lib\\site-packages\\ipykernel_launcher.py:1: SettingWithCopyWarning: \n",
      "A value is trying to be set on a copy of a slice from a DataFrame.\n",
      "Try using .loc[row_indexer,col_indexer] = value instead\n",
      "\n",
      "See the caveats in the documentation: http://pandas.pydata.org/pandas-docs/stable/indexing.html#indexing-view-versus-copy\n",
      "  \"\"\"Entry point for launching an IPython kernel.\n"
     ]
    }
   ],
   "source": [
    "clean_evasion_vs_mean['EVASION_RATE'] = clean_evasion_vs_mean['NO_VALIDAN'] / clean_evasion_vs_mean['INGRESAN']"
   ]
  },
  {
   "cell_type": "markdown",
   "metadata": {},
   "source": [
    "* Plotting all"
   ]
  },
  {
   "cell_type": "code",
   "execution_count": null,
   "metadata": {
    "scrolled": false
   },
   "outputs": [],
   "source": [
    "fig_0, ax_0 = plt.subplots()\n",
    "\n",
    "ax_0.scatter(clean_evasion_vs_mean['diferencia_tiempo_secs'],clean_evasion_vs_mean['EVASION_RATE'])\n",
    "ax_0.set_title('Evasion vs. Mean Time Interval - All Data')\n",
    "ax_0.set_xlabel('Mean Time Interval [s]')\n",
    "ax_0.set_ylabel('Evasion Rate [%]')"
   ]
  },
  {
   "cell_type": "markdown",
   "metadata": {},
   "source": [
    "* Plotting without turnstiles"
   ]
  },
  {
   "cell_type": "markdown",
   "metadata": {},
   "source": [
    "* Check this, a warning is popping up"
   ]
  },
  {
   "cell_type": "code",
   "execution_count": 23,
   "metadata": {
    "scrolled": false
   },
   "outputs": [
    {
     "name": "stderr",
     "output_type": "stream",
     "text": [
      "C:\\Users\\Tesista\\Anaconda3\\lib\\site-packages\\ipykernel_launcher.py:1: SettingWithCopyWarning: \n",
      "A value is trying to be set on a copy of a slice from a DataFrame.\n",
      "Try using .loc[row_indexer,col_indexer] = value instead\n",
      "\n",
      "See the caveats in the documentation: http://pandas.pydata.org/pandas-docs/stable/indexing.html#indexing-view-versus-copy\n",
      "  \"\"\"Entry point for launching an IPython kernel.\n"
     ]
    }
   ],
   "source": [
    "clean_evasion_vs_mean['fecha_instalacion'] = pd.to_datetime(clean_evasion_vs_mean.fecha_instalacion)"
   ]
  },
  {
   "cell_type": "markdown",
   "metadata": {},
   "source": [
    "* Check this, a warning is popping up"
   ]
  },
  {
   "cell_type": "code",
   "execution_count": 24,
   "metadata": {
    "scrolled": false
   },
   "outputs": [
    {
     "name": "stderr",
     "output_type": "stream",
     "text": [
      "C:\\Users\\Tesista\\Anaconda3\\lib\\site-packages\\ipykernel_launcher.py:1: SettingWithCopyWarning: \n",
      "A value is trying to be set on a copy of a slice from a DataFrame.\n",
      "Try using .loc[row_indexer,col_indexer] = value instead\n",
      "\n",
      "See the caveats in the documentation: http://pandas.pydata.org/pandas-docs/stable/indexing.html#indexing-view-versus-copy\n",
      "  \"\"\"Entry point for launching an IPython kernel.\n"
     ]
    }
   ],
   "source": [
    "clean_evasion_vs_mean['SI_2017_TORNIQUETE'] = (clean_evasion_vs_mean['fecha_instalacion']>pd.to_datetime('2017-01-01'))"
   ]
  },
  {
   "cell_type": "code",
   "execution_count": 25,
   "metadata": {
    "collapsed": true,
    "scrolled": true
   },
   "outputs": [],
   "source": [
    "clean_evasion_vs_mean_no_turnstile = clean_evasion_vs_mean[(clean_evasion_vs_mean['SI_2017_TORNIQUETE']==False) | \n",
    "                                                           ((clean_evasion_vs_mean['SI_2017_TORNIQUETE']==True) & (clean_evasion_vs_mean['FECHA']<=clean_evasion_vs_mean['fecha_instalacion']))]"
   ]
  },
  {
   "cell_type": "code",
   "execution_count": null,
   "metadata": {
    "scrolled": true
   },
   "outputs": [],
   "source": [
    "fig_1, ax_1 = plt.subplots()\n",
    "\n",
    "ax_1.scatter(clean_evasion_vs_mean_no_turnstile['diferencia_tiempo_secs'],clean_evasion_vs_mean_no_turnstile['EVASION_RATE'])\n",
    "ax_1.set_title('Evasion vs. Mean Time Interval - No Turns')\n",
    "ax_1.set_xlabel('Mean Time Interval [s]')\n",
    "ax_1.set_ylabel('Evasion Rate [%]')\n",
    "\n",
    "plt.savefig('C:/Users/Tesista/Desktop/Evasion/03_report/02_Figs/8_Ev_vs_Mean_ByBusByService_20Secs.pdf')"
   ]
  },
  {
   "cell_type": "markdown",
   "metadata": {},
   "source": [
    "### Closed"
   ]
  }
 ],
 "metadata": {
  "kernelspec": {
   "display_name": "Python 3",
   "language": "python",
   "name": "python3"
  },
  "language_info": {
   "codemirror_mode": {
    "name": "ipython",
    "version": 3
   },
   "file_extension": ".py",
   "mimetype": "text/x-python",
   "name": "python",
   "nbconvert_exporter": "python",
   "pygments_lexer": "ipython3",
   "version": "3.6.1"
  }
 },
 "nbformat": 4,
 "nbformat_minor": 2
}
