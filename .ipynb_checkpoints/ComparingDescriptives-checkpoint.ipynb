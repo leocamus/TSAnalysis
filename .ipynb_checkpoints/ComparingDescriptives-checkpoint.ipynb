{
 "cells": [
  {
   "cell_type": "markdown",
   "metadata": {},
   "source": [
    "## Comparing descriptives"
   ]
  },
  {
   "cell_type": "code",
   "execution_count": 1,
   "metadata": {},
   "outputs": [
    {
     "data": {
      "text/html": [
       "<style>.container { width:80% !important; }</style>"
      ],
      "text/plain": [
       "<IPython.core.display.HTML object>"
      ]
     },
     "metadata": {},
     "output_type": "display_data"
    }
   ],
   "source": [
    "%matplotlib inline\n",
    "from IPython.core.display import display, HTML\n",
    "display(HTML(\"<style>.container { width:80% !important; }</style>\"))\n",
    "import pandas as pd\n",
    "import matplotlib\n",
    "import matplotlib.pyplot as plt\n",
    "import numpy as np\n",
    "from importlib import reload\n",
    "import datetime\n",
    "import time\n",
    "from RunSilentlyDailyEtapasBuilder import RunSilentlyDailyEtapasBuilderClass\n",
    "from matplotlib.dates import date2num"
   ]
  },
  {
   "cell_type": "code",
   "execution_count": 2,
   "metadata": {
    "collapsed": true
   },
   "outputs": [],
   "source": [
    "dates = ['2017-03-01','2017-03-05', '2017-07-19']"
   ]
  },
  {
   "cell_type": "code",
   "execution_count": 3,
   "metadata": {
    "scrolled": true
   },
   "outputs": [
    {
     "name": "stdout",
     "output_type": "stream",
     "text": [
      "Not found in turnstile database: 1614656\n",
      "Not found in turnstile database: 656097\n",
      "Not found in turnstile database: 1637796\n"
     ]
    },
    {
     "data": {
      "text/plain": [
       "48.55327722312053"
      ]
     },
     "execution_count": 3,
     "metadata": {},
     "output_type": "execute_result"
    }
   ],
   "source": [
    "turnstile_means = []\n",
    "turnstile_medians = []\n",
    "turnstile_stds = []\n",
    "turnstile_maxs = []\n",
    "\n",
    "no_turnstile_means = []\n",
    "no_turnstile_medians = []\n",
    "no_turnstile_stds = []\n",
    "no_turnstile_maxs = []\n",
    "\n",
    "quantile = 0.97\n",
    "\n",
    "tic = time.clock()\n",
    "\n",
    "for date in dates:\n",
    "    etapas_builder = RunSilentlyDailyEtapasBuilderClass(date)\n",
    "    [processed_sorted_df, filtered_df, filtered_turnstile_df, filtered_no_turnstile_df]=etapas_builder.runCompleteProcess()\n",
    "    \n",
    "    turnstile_q = filtered_turnstile_df.diferencia_tiempo.quantile(quantile)\n",
    "    no_turnstile_q = filtered_no_turnstile_df.diferencia_tiempo.quantile(quantile)    \n",
    "    \n",
    "    filtered_turnstile_q_df = filtered_turnstile_df[filtered_turnstile_df.diferencia_tiempo<=turnstile_q]\n",
    "    filtered_no_turnstile_q_df = filtered_no_turnstile_df[filtered_no_turnstile_df.diferencia_tiempo<=no_turnstile_q]\n",
    "    \n",
    "    turnstile_means.append(filtered_turnstile_q_df['diferencia_tiempo_secs'].mean())\n",
    "    turnstile_stds.append(filtered_turnstile_q_df['diferencia_tiempo_secs'].std())\n",
    "    turnstile_medians.append(filtered_turnstile_q_df['diferencia_tiempo_secs'].quantile(0.50))\n",
    "    turnstile_maxs.append(filtered_turnstile_q_df['diferencia_tiempo_secs'].max())\n",
    "    \n",
    "    no_turnstile_means.append(filtered_no_turnstile_q_df['diferencia_tiempo_secs'].mean())\n",
    "    no_turnstile_stds.append(filtered_no_turnstile_q_df['diferencia_tiempo_secs'].std())    \n",
    "    no_turnstile_medians.append(filtered_no_turnstile_q_df['diferencia_tiempo_secs'].quantile(0.50))\n",
    "    no_turnstile_maxs.append(filtered_no_turnstile_q_df['diferencia_tiempo_secs'].max())\n",
    "    del etapas_builder\n",
    "    \n",
    "toc = time.clock()  \n",
    "toc-tic"
   ]
  },
  {
   "cell_type": "markdown",
   "metadata": {},
   "source": [
    "* Plotting Means"
   ]
  },
  {
   "cell_type": "code",
   "execution_count": 4,
   "metadata": {
    "collapsed": true
   },
   "outputs": [],
   "source": [
    "colors = [(85,98,112),(78,205,196),(199,244,100),(255,107,107),(196,77,88)]\n",
    "for i in range(len(colors)):\n",
    "    r, g, b = colors[i]  \n",
    "    colors[i] = (r / 255., g / 255., b / 255.)\n",
    "\n",
    "width = 0.2"
   ]
  },
  {
   "cell_type": "code",
   "execution_count": 5,
   "metadata": {},
   "outputs": [
    {
     "data": {
      "image/png": "[encoded data removed]",
      "text/plain": [
       "<matplotlib.figure.Figure at 0x1d296bb4d68>"
      ]
     },
     "metadata": {},
     "output_type": "display_data"
    }
   ],
   "source": [
    "ind = np.arange(3)\n",
    "fig, ax = plt.subplots()\n",
    "\n",
    "p1 = ax.bar(ind, turnstile_means , width = width, color = colors[3], zorder=3)\n",
    "p2 = ax.bar(ind+width, no_turnstile_means , width = width, color = colors[0],zorder=3)\n",
    "ax.set_xticks(ind + width / 2)\n",
    "ax.set_xticklabels(('March 1st', 'March 5th', 'July 19th'))\n",
    "ax.set_title('Means of time intervals')\n",
    "ax.set_ylabel('Mean of time intervals [s]')\n",
    "ax.grid(zorder=0)\n",
    "\n",
    "plt.legend((p1[0],p2[0]), ('turns.','no turns.'),bbox_to_anchor=(0.8, 1))\n",
    "plt.savefig('C:/Users/Tesista/Desktop/Evasion/03_report/02_Figs/3_meansComparison.pdf')"
   ]
  },
  {
   "cell_type": "markdown",
   "metadata": {},
   "source": [
    "* Plotting std"
   ]
  },
  {
   "cell_type": "code",
   "execution_count": 6,
   "metadata": {},
   "outputs": [
    {
     "data": {
      "image/png": "[encoded data removed]",
      "text/plain": [
       "<matplotlib.figure.Figure at 0x1d294bc82e8>"
      ]
     },
     "metadata": {},
     "output_type": "display_data"
    }
   ],
   "source": [
    "ind = np.arange(3)\n",
    "fig, ax = plt.subplots()\n",
    "\n",
    "p1 = ax.bar(ind, turnstile_stds , width = width, color = colors[3], zorder=3)\n",
    "p2 = ax.bar(ind+width, no_turnstile_stds , width = width, color = colors[0],zorder=3)\n",
    "ax.set_xticks(ind + width / 2)\n",
    "ax.set_xticklabels(('March 1st', 'March 5th', 'July 19th'))\n",
    "ax.set_title('Stds. of time intervals')\n",
    "ax.set_ylabel('Std. of time intervals [s]')\n",
    "ax.grid(zorder=0)\n",
    "\n",
    "plt.legend((p1[0],p2[0]), ('turns.','no turns.'),bbox_to_anchor=(0.8, 1))\n",
    "plt.savefig('C:/Users/Tesista/Desktop/Evasion/03_report/02_Figs/3_stdsComparison.pdf')"
   ]
  },
  {
   "cell_type": "markdown",
   "metadata": {},
   "source": [
    "* Plotting Medians"
   ]
  },
  {
   "cell_type": "code",
   "execution_count": 7,
   "metadata": {},
   "outputs": [
    {
     "data": {
      "image/png": "[encoded data removed]",
      "text/plain": [
       "<matplotlib.figure.Figure at 0x1d28edd54e0>"
      ]
     },
     "metadata": {},
     "output_type": "display_data"
    }
   ],
   "source": [
    "ind = np.arange(3)\n",
    "fig, ax = plt.subplots()\n",
    "\n",
    "p1 = ax.bar(ind, turnstile_medians , width = width, color = colors[3], zorder=3)\n",
    "p2 = ax.bar(ind+width, no_turnstile_medians , width = width, color = colors[0],zorder=3)\n",
    "ax.set_xticks(ind + width / 2)\n",
    "ax.set_xticklabels(('March 1st', 'March 5th', 'July 19th'))\n",
    "ax.set_title('Medians of time intervals')\n",
    "ax.set_ylabel('Median of time intervals [s]')\n",
    "ax.grid(zorder=0)\n",
    "\n",
    "plt.legend((p1[0],p2[0]), ('turns.','no turns.'),bbox_to_anchor=(0.8, 1))\n",
    "plt.savefig('C:/Users/Tesista/Desktop/Evasion/03_report/02_Figs/3_mediansComparison.pdf')"
   ]
  },
  {
   "cell_type": "code",
   "execution_count": 8,
   "metadata": {},
   "outputs": [
    {
     "data": {
      "image/png": "[encoded data removed]",
      "text/plain": [
       "<matplotlib.figure.Figure at 0x1d2cc63c5f8>"
      ]
     },
     "metadata": {},
     "output_type": "display_data"
    }
   ],
   "source": [
    "ind = np.arange(3)\n",
    "fig, ax = plt.subplots()\n",
    "\n",
    "p1 = ax.bar(ind, turnstile_maxs , width = width, color = colors[3], zorder=3)\n",
    "p2 = ax.bar(ind+width, no_turnstile_maxs , width = width, color = colors[0],zorder=3)\n",
    "ax.set_xticks(ind + width / 2)\n",
    "ax.set_xticklabels(('March 1st', 'March 5th', 'July 19th'))\n",
    "ax.set_title('Maxs. of time intervals')\n",
    "ax.set_ylabel('Max of time intervals [s]')\n",
    "ax.grid(zorder=0)\n",
    "\n",
    "plt.legend((p1[0],p2[0]), ('turns.','no turns.'),bbox_to_anchor=(0.8, 1))\n",
    "plt.savefig('C:/Users/Tesista/Desktop/Evasion/03_report/02_Figs/3_maxsComparison.pdf')"
   ]
  },
  {
   "cell_type": "markdown",
   "metadata": {},
   "source": [
    "### Closed"
   ]
  }
 ],
 "metadata": {
  "kernelspec": {
   "display_name": "Python 3",
   "language": "python",
   "name": "python3"
  },
  "language_info": {
   "codemirror_mode": {
    "name": "ipython",
    "version": 3
   },
   "file_extension": ".py",
   "mimetype": "text/x-python",
   "name": "python",
   "nbconvert_exporter": "python",
   "pygments_lexer": "ipython3",
   "version": "3.6.1"
  }
 },
 "nbformat": 4,
 "nbformat_minor": 2
}
