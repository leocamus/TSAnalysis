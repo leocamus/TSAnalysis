{
 "cells": [
  {
   "cell_type": "markdown",
   "metadata": {},
   "source": [
    "### Building evasion vs. mean time interval : by Bus - THIS IS A TEST"
   ]
  },
  {
   "cell_type": "code",
   "execution_count": 1,
   "metadata": {},
   "outputs": [
    {
     "data": {
      "text/html": [
       "<style>.container { width:80% !important; }</style>"
      ],
      "text/plain": [
       "<IPython.core.display.HTML object>"
      ]
     },
     "metadata": {},
     "output_type": "display_data"
    }
   ],
   "source": [
    "%matplotlib inline\n",
    "import pandas as pd\n",
    "import matplotlib\n",
    "import matplotlib.pyplot as plt\n",
    "import numpy as np\n",
    "from importlib import reload\n",
    "import datetime as dt\n",
    "from IPython.core.display import display, HTML\n",
    "display(HTML(\"<style>.container { width:80% !important; }</style>\"))"
   ]
  },
  {
   "cell_type": "code",
   "execution_count": 2,
   "metadata": {
    "collapsed": true
   },
   "outputs": [],
   "source": [
    "from Utils import TransantiagoConstants"
   ]
  },
  {
   "cell_type": "code",
   "execution_count": 3,
   "metadata": {
    "collapsed": true
   },
   "outputs": [],
   "source": [
    "periods_path = \"C:/Users/leoca_000/Desktop/Evasion/01_analisis/03_datos/06_RFA/01_EvasionTrimestral/01_analisis/periods.xlsx\"\n",
    "first_quarter_path = \"C:/Users/leoca_000/Desktop/Evasion/01_analisis/03_datos/06_RFA/01_EvasionTrimestral/01_analisis/1st_quarter.xlsx\"\n",
    "second_quarter_path = \"C:/Users/leoca_000/Desktop/Evasion/01_analisis/03_datos/06_RFA/01_EvasionTrimestral/01_analisis/2nd_quarter.xlsx\"\n",
    "third_quarter_path = \"C:/Users/leoca_000/Desktop/Evasion/01_analisis/03_datos/06_RFA/01_EvasionTrimestral/01_analisis/3rd_quarter.xlsx\""
   ]
  },
  {
   "cell_type": "code",
   "execution_count": 4,
   "metadata": {
    "collapsed": true
   },
   "outputs": [],
   "source": [
    "first_quarter_evasion = pd.read_excel(first_quarter_path, encoding = 'latin-1')\n",
    "second_quarter_evasion = pd.read_excel(second_quarter_path, encoding = 'latin-1')\n",
    "third_quarter_evasion = pd.read_excel(third_quarter_path, encoding = 'latin-1')\n",
    "periods = pd.read_excel(periods_path)"
   ]
  },
  {
   "cell_type": "code",
   "execution_count": 5,
   "metadata": {
    "collapsed": true
   },
   "outputs": [],
   "source": [
    "first_quarter_evasion['TIEMPO'] = first_quarter_evasion['HORA'].astype(str)+':'+first_quarter_evasion['MINUTOS'].astype(str)+':00'\n",
    "second_quarter_evasion['TIEMPO'] = second_quarter_evasion['HORA'].astype(str)+':'+second_quarter_evasion['MINUTOS'].astype(str)+':00'\n",
    "third_quarter_evasion['TIEMPO'] = third_quarter_evasion['HORA'].astype(str)+':'+third_quarter_evasion['MINUTOS'].astype(str)+':00'"
   ]
  },
  {
   "cell_type": "code",
   "execution_count": 6,
   "metadata": {
    "collapsed": true
   },
   "outputs": [],
   "source": [
    "first_quarter_evasion.columns = ['FECHA', 'SERVICIO','PATENTE','PUERTAS','N_PUERTA','LUGAR_INICIO','HORA_INICIO','HORA','MINUTO','INGRESAN','NO_VALIDAN','TP','TIEMPO']\n",
    "second_quarter_evasion.columns = ['FECHA', 'SERVICIO','TIPO','PATENTE','PUERTAS','N_PUERTA','LUGAR_INICIO','HORA_INICIO','HORA','MINUTO','INGRESAN','NO_VALIDAN','TP','TIEMPO']\n",
    "third_quarter_evasion.columns = ['FECHA', 'SERVICIO','PATENTE','PUERTAS','N_PUERTA','LUGAR_INICIO','HORA_INICIO','HORA','MINUTO','INGRESAN','NO_VALIDAN','TP','TIEMPO']\n",
    "del second_quarter_evasion['TIPO']"
   ]
  },
  {
   "cell_type": "code",
   "execution_count": 7,
   "metadata": {},
   "outputs": [
    {
     "data": {
      "text/plain": [
       "str"
      ]
     },
     "execution_count": 7,
     "metadata": {},
     "output_type": "execute_result"
    }
   ],
   "source": [
    "type(first_quarter_evasion.loc[0,'TIEMPO'])"
   ]
  },
  {
   "cell_type": "code",
   "execution_count": 8,
   "metadata": {
    "scrolled": true
   },
   "outputs": [
    {
     "data": {
      "text/plain": [
       "pandas._libs.tslib.Timestamp"
      ]
     },
     "execution_count": 8,
     "metadata": {},
     "output_type": "execute_result"
    }
   ],
   "source": [
    "type(first_quarter_evasion.loc[0,'FECHA'])"
   ]
  },
  {
   "cell_type": "code",
   "execution_count": 9,
   "metadata": {
    "collapsed": true
   },
   "outputs": [],
   "source": [
    "frames = [first_quarter_evasion, second_quarter_evasion, third_quarter_evasion]\n",
    "evasion = pd.concat(frames, keys=['first', 'second', 'third'])"
   ]
  },
  {
   "cell_type": "markdown",
   "metadata": {},
   "source": [
    "* Processing evasion-ddbb before merging"
   ]
  },
  {
   "cell_type": "code",
   "execution_count": 10,
   "metadata": {
    "collapsed": true
   },
   "outputs": [],
   "source": [
    "evasion['PATENTE'] =  evasion['PATENTE'].str.replace(' ','')\n",
    "evasion_paradero = evasion[evasion['TP']=='P']\n",
    "evasion_paradero_first = evasion_paradero[evasion_paradero['N_PUERTA']==1]"
   ]
  },
  {
   "cell_type": "markdown",
   "metadata": {},
   "source": [
    "* Getting evasion by bus"
   ]
  },
  {
   "cell_type": "code",
   "execution_count": 11,
   "metadata": {
    "collapsed": true
   },
   "outputs": [],
   "source": [
    "summary = evasion_paradero_first.groupby(['PATENTE','FECHA'])['INGRESAN','NO_VALIDAN'].agg(['count','sum'])\n",
    "summary.columns=['EVASION_COUNT', 'TOTAL_INGRESAN', 'tmp_count' ,'TOTAL_NO_VALIDAN']\n",
    "del summary['tmp_count']\n",
    "summary.reset_index(inplace=True)"
   ]
  },
  {
   "cell_type": "markdown",
   "metadata": {},
   "source": [
    "* Building complete etapas ddbb."
   ]
  },
  {
   "cell_type": "code",
   "execution_count": 12,
   "metadata": {
    "collapsed": true
   },
   "outputs": [],
   "source": [
    "common_dates = TransantiagoConstants.common_dates"
   ]
  },
  {
   "cell_type": "code",
   "execution_count": 13,
   "metadata": {
    "collapsed": true
   },
   "outputs": [],
   "source": [
    "reduced_etapas = pd.DataFrame()\n",
    "\n",
    "for date in common_dates:\n",
    "    base_input_path = 'C:/Users/leoca_000/Desktop/Evasion/01_analisis/03_datos/01_SSH/01_TIMESBYBUS/01_ORIGINAL/'\n",
    "    file_name = date + '-meanByBus.csv'\n",
    "    grouped_by_bus = pd.read_csv(base_input_path+file_name, encoding = 'latin-1',sep =\";\")\n",
    "    reduced_etapas = pd.concat([reduced_etapas,grouped_by_bus])\n"
   ]
  },
  {
   "cell_type": "markdown",
   "metadata": {
    "collapsed": true
   },
   "source": [
    "* Processing etapas ddbb before merging"
   ]
  },
  {
   "cell_type": "code",
   "execution_count": 14,
   "metadata": {
    "collapsed": true
   },
   "outputs": [],
   "source": [
    "del reduced_etapas['Unnamed: 0']\n",
    "reduced_etapas = reduced_etapas.rename(columns = {'fecha':'FECHA', 'sitio_subida':'PATENTE', 'count': 'ETAPAS_COUNT'})\n",
    "reduced_etapas['FECHA'] = pd.to_datetime(reduced_etapas.FECHA)\n",
    "reduced_etapas['PATENTE'] = reduced_etapas['PATENTE'].str.replace(\"-\", \"\")\n",
    "reduced_etapas['PATENTE'] = reduced_etapas['PATENTE'].str.replace(\" \", \"\")"
   ]
  },
  {
   "cell_type": "code",
   "execution_count": 15,
   "metadata": {
    "collapsed": true
   },
   "outputs": [],
   "source": [
    "reduced_etapas.reset_index(drop=True,inplace=True)"
   ]
  },
  {
   "cell_type": "code",
   "execution_count": 16,
   "metadata": {},
   "outputs": [
    {
     "data": {
      "text/plain": [
       "pandas._libs.tslib.Timestamp"
      ]
     },
     "execution_count": 16,
     "metadata": {},
     "output_type": "execute_result"
    }
   ],
   "source": [
    "type(reduced_etapas.loc[0,'FECHA'])"
   ]
  },
  {
   "cell_type": "markdown",
   "metadata": {},
   "source": [
    "## <strong>TEST MERGING</strong>"
   ]
  },
  {
   "cell_type": "markdown",
   "metadata": {},
   "source": [
    "1 - BASICS "
   ]
  },
  {
   "cell_type": "code",
   "execution_count": 17,
   "metadata": {
    "collapsed": true
   },
   "outputs": [],
   "source": [
    "evasion_vs_mean = pd.merge(summary,reduced_etapas, on=['PATENTE','FECHA'], how='left')"
   ]
  },
  {
   "cell_type": "code",
   "execution_count": 18,
   "metadata": {},
   "outputs": [
    {
     "name": "stdout",
     "output_type": "stream",
     "text": [
      "The total number of rows in evasion vs. mean ddbb is: 1183\n"
     ]
    }
   ],
   "source": [
    "evasion_vs_mean_length = len(evasion_vs_mean.index)\n",
    "print('The total number of rows in evasion vs. mean ddbb is: ' +str(evasion_vs_mean_length))"
   ]
  },
  {
   "cell_type": "markdown",
   "metadata": {},
   "source": [
    "* Getting rid of missing values"
   ]
  },
  {
   "cell_type": "code",
   "execution_count": 19,
   "metadata": {
    "collapsed": true
   },
   "outputs": [],
   "source": [
    "clean_evasion_vs_mean = evasion_vs_mean[evasion_vs_mean['mean']>0]"
   ]
  },
  {
   "cell_type": "code",
   "execution_count": 20,
   "metadata": {},
   "outputs": [
    {
     "name": "stdout",
     "output_type": "stream",
     "text": [
      "The total number of rows matching in evasion vs. mean ddbb is: 496\n",
      "The percentage of matching is: 41.927303465765%\n"
     ]
    }
   ],
   "source": [
    "clean_evasion_vs_mean_length = len(clean_evasion_vs_mean.index)\n",
    "print('The total number of rows matching in evasion vs. mean ddbb is: ' + str(clean_evasion_vs_mean_length))\n",
    "print('The percentage of matching is: ' + str(clean_evasion_vs_mean_length/evasion_vs_mean_length*100) + '%')"
   ]
  },
  {
   "cell_type": "markdown",
   "metadata": {},
   "source": [
    "= END BASICS ="
   ]
  },
  {
   "cell_type": "markdown",
   "metadata": {},
   "source": [
    "2 - NUMBER OF OBSERVATIONS MISMATCHING"
   ]
  },
  {
   "cell_type": "code",
   "execution_count": 21,
   "metadata": {},
   "outputs": [
    {
     "name": "stdout",
     "output_type": "stream",
     "text": [
      "The total number of rows mismatching in evasion vs. mean ddbb is: 687\n"
     ]
    }
   ],
   "source": [
    "total_mismatching = evasion_vs_mean_length - clean_evasion_vs_mean_length\n",
    "print('The total number of rows mismatching in evasion vs. mean ddbb is: ' + str(total_mismatching))"
   ]
  },
  {
   "cell_type": "markdown",
   "metadata": {},
   "source": [
    "= END NUMBER OF OBSERVATIONS MISMATCHING ="
   ]
  },
  {
   "cell_type": "markdown",
   "metadata": {},
   "source": [
    "3 - CHECKING CONDITIONS"
   ]
  },
  {
   "cell_type": "code",
   "execution_count": 22,
   "metadata": {
    "collapsed": true
   },
   "outputs": [],
   "source": [
    "within_dates_evasion_vs_mean = evasion_vs_mean[(evasion_vs_mean['FECHA']>=pd.to_datetime('2017-03-09'))&(evasion_vs_mean['FECHA']<=pd.to_datetime('2017-08-24'))]"
   ]
  },
  {
   "cell_type": "code",
   "execution_count": 23,
   "metadata": {},
   "outputs": [
    {
     "name": "stdout",
     "output_type": "stream",
     "text": [
      "The number of rows within common dates range is: 777\n"
     ]
    }
   ],
   "source": [
    "within_dates_evasion_vs_mean_length = len(within_dates_evasion_vs_mean.index)\n",
    "print('The number of rows within common dates range is: ' + str(within_dates_evasion_vs_mean_length))"
   ]
  },
  {
   "cell_type": "code",
   "execution_count": 24,
   "metadata": {
    "collapsed": true
   },
   "outputs": [],
   "source": [
    "common_dates_timestamp = [pd.to_datetime(x) for x in common_dates]"
   ]
  },
  {
   "cell_type": "code",
   "execution_count": 25,
   "metadata": {
    "collapsed": true
   },
   "outputs": [],
   "source": [
    "common_dates_evasion_vs_mean = within_dates_evasion_vs_mean[within_dates_evasion_vs_mean['FECHA'].isin(common_dates_timestamp)]"
   ]
  },
  {
   "cell_type": "code",
   "execution_count": 26,
   "metadata": {},
   "outputs": [
    {
     "name": "stdout",
     "output_type": "stream",
     "text": [
      "The total number of rows within common dates range and in common dates is: 513\n"
     ]
    }
   ],
   "source": [
    "common_dates_evasion_vs_mean_length = len(common_dates_evasion_vs_mean.index)\n",
    "print('The total number of rows within common dates range and in common dates is: ' + str(common_dates_evasion_vs_mean_length))"
   ]
  },
  {
   "cell_type": "code",
   "execution_count": 27,
   "metadata": {},
   "outputs": [
    {
     "name": "stdout",
     "output_type": "stream",
     "text": [
      "IN SUMMARY, THE ORIGINAL NUMBER OF ROWS IS 1183. FROM THIS, 777 ARE WITHIN COMMON DATES RANGE. FROM THE LATTER, 513 ARE WITHIN COMMON DATES RANGE AND IN FACT CORRESPOND TO A COMMON DATE. FINALLY THERE ARE 17 ROWS MISMATCHING THAT SHOULD BE CHECKED IN REDUCED_ETAPAS AND SIMPLIFIED_ETAPAS FILES\n"
     ]
    }
   ],
   "source": [
    "print('IN SUMMARY, THE ORIGINAL NUMBER OF ROWS IS ' + str(evasion_vs_mean_length) + '. FROM THIS, ' + \n",
    "     str(within_dates_evasion_vs_mean_length) + ' ARE WITHIN COMMON DATES RANGE. FROM THE LATTER, ' + \n",
    "     str(common_dates_evasion_vs_mean_length) + ' ARE WITHIN COMMON DATES RANGE AND IN FACT CORRESPOND TO A COMMON DATE. FINALLY THERE ARE ' +\n",
    "     str(common_dates_evasion_vs_mean_length-clean_evasion_vs_mean_length) + ' ROWS MISMATCHING THAT SHOULD BE CHECKED IN REDUCED_ETAPAS AND SIMPLIFIED_ETAPAS FILES') "
   ]
  },
  {
   "cell_type": "markdown",
   "metadata": {},
   "source": [
    "= END CHECKING CONDITIONS ="
   ]
  },
  {
   "cell_type": "markdown",
   "metadata": {},
   "source": [
    "4 - CHECKING PROBLEMATIC ROWS AND LOOKING INTO REDUCED_ETAPAS SIMPLIFIED_ETAPAS FILES"
   ]
  },
  {
   "cell_type": "code",
   "execution_count": null,
   "metadata": {
    "scrolled": true
   },
   "outputs": [],
   "source": [
    "common_dates_evasion_vs_mean[common_dates_evasion_vs_mean['sum'].notnull()].head(4)"
   ]
  },
  {
   "cell_type": "code",
   "execution_count": null,
   "metadata": {
    "scrolled": true
   },
   "outputs": [],
   "source": [
    "common_dates_evasion_vs_mean[common_dates_evasion_vs_mean['sum'].isnull()].head(4)"
   ]
  },
  {
   "cell_type": "markdown",
   "metadata": {},
   "source": [
    "* Checking in reduced_etapas ...\n",
    "* Checking for PATENTE == BFHB25, FECHA == 2017-06-14 > Doesn't exist\n",
    "* Checking for PATENTE == BGTL44, FECHA == 2017-08-17 > Doesn't exist\n",
    "* Checking for PATENTE == BGTL77, FECHA == 2017-06-14 > Doesn't exist\n",
    "* Checking for PATENTE == BXFH61, FECHA == 2017-08-22 > Doesn't exist\n",
    "* <font color='green'><strong>Merge is correct.</strong></font> These 17 rows should be checked in simplified_etapas files\n"
   ]
  },
  {
   "cell_type": "code",
   "execution_count": 30,
   "metadata": {
    "collapsed": true
   },
   "outputs": [],
   "source": [
    "from RunSilentlyDailyEtapasBuilder import RunSilentlyDailyEtapasBuilderClass"
   ]
  },
  {
   "cell_type": "code",
   "execution_count": 31,
   "metadata": {},
   "outputs": [
    {
     "name": "stdout",
     "output_type": "stream",
     "text": [
      "Not found in turnstile database: 517700\n"
     ]
    }
   ],
   "source": [
    "date = '2017-06-14'\n",
    "etapas_builder = RunSilentlyDailyEtapasBuilderClass(date)\n",
    "filtered_df = etapas_builder.runLightCompleteProcess()"
   ]
  },
  {
   "cell_type": "code",
   "execution_count": 32,
   "metadata": {},
   "outputs": [
    {
     "data": {
      "text/html": [
       "<div>\n",
       "<style>\n",
       "    .dataframe thead tr:only-child th {\n",
       "        text-align: right;\n",
       "    }\n",
       "\n",
       "    .dataframe thead th {\n",
       "        text-align: left;\n",
       "    }\n",
       "\n",
       "    .dataframe tbody tr th {\n",
       "        vertical-align: top;\n",
       "    }\n",
       "</style>\n",
       "<table border=\"1\" class=\"dataframe\">\n",
       "  <thead>\n",
       "    <tr style=\"text-align: right;\">\n",
       "      <th></th>\n",
       "      <th>index</th>\n",
       "      <th>id</th>\n",
       "      <th>nviaje</th>\n",
       "      <th>tipo_transporte</th>\n",
       "      <th>t_subida</th>\n",
       "      <th>servicio_subida</th>\n",
       "      <th>par_subida</th>\n",
       "      <th>sitio_subida</th>\n",
       "      <th>fecha_instalacion</th>\n",
       "      <th>mismo_paradero</th>\n",
       "      <th>misma_patente</th>\n",
       "      <th>mismo_servicio</th>\n",
       "      <th>diferencia_tiempo</th>\n",
       "      <th>diferencia_tiempo_secs</th>\n",
       "      <th>si_torniquete</th>\n",
       "      <th>si_2017_torniquete</th>\n",
       "    </tr>\n",
       "  </thead>\n",
       "  <tbody>\n",
       "  </tbody>\n",
       "</table>\n",
       "</div>"
      ],
      "text/plain": [
       "Empty DataFrame\n",
       "Columns: [index, id, nviaje, tipo_transporte, t_subida, servicio_subida, par_subida, sitio_subida, fecha_instalacion, mismo_paradero, misma_patente, mismo_servicio, diferencia_tiempo, diferencia_tiempo_secs, si_torniquete, si_2017_torniquete]\n",
       "Index: []"
      ]
     },
     "execution_count": 32,
     "metadata": {},
     "output_type": "execute_result"
    }
   ],
   "source": [
    "filtered_df[filtered_df['sitio_subida']=='BFHB-25']"
   ]
  },
  {
   "cell_type": "code",
   "execution_count": 33,
   "metadata": {},
   "outputs": [
    {
     "data": {
      "text/html": [
       "<div>\n",
       "<style>\n",
       "    .dataframe thead tr:only-child th {\n",
       "        text-align: right;\n",
       "    }\n",
       "\n",
       "    .dataframe thead th {\n",
       "        text-align: left;\n",
       "    }\n",
       "\n",
       "    .dataframe tbody tr th {\n",
       "        vertical-align: top;\n",
       "    }\n",
       "</style>\n",
       "<table border=\"1\" class=\"dataframe\">\n",
       "  <thead>\n",
       "    <tr style=\"text-align: right;\">\n",
       "      <th></th>\n",
       "      <th>index</th>\n",
       "      <th>id</th>\n",
       "      <th>nviaje</th>\n",
       "      <th>tipo_transporte</th>\n",
       "      <th>t_subida</th>\n",
       "      <th>servicio_subida</th>\n",
       "      <th>par_subida</th>\n",
       "      <th>sitio_subida</th>\n",
       "      <th>fecha_instalacion</th>\n",
       "      <th>mismo_paradero</th>\n",
       "      <th>misma_patente</th>\n",
       "      <th>mismo_servicio</th>\n",
       "      <th>diferencia_tiempo</th>\n",
       "      <th>diferencia_tiempo_secs</th>\n",
       "      <th>si_torniquete</th>\n",
       "      <th>si_2017_torniquete</th>\n",
       "    </tr>\n",
       "  </thead>\n",
       "  <tbody>\n",
       "  </tbody>\n",
       "</table>\n",
       "</div>"
      ],
      "text/plain": [
       "Empty DataFrame\n",
       "Columns: [index, id, nviaje, tipo_transporte, t_subida, servicio_subida, par_subida, sitio_subida, fecha_instalacion, mismo_paradero, misma_patente, mismo_servicio, diferencia_tiempo, diferencia_tiempo_secs, si_torniquete, si_2017_torniquete]\n",
       "Index: []"
      ]
     },
     "execution_count": 33,
     "metadata": {},
     "output_type": "execute_result"
    }
   ],
   "source": [
    "filtered_df[filtered_df['sitio_subida']=='BGTL-77']"
   ]
  },
  {
   "cell_type": "code",
   "execution_count": 34,
   "metadata": {},
   "outputs": [
    {
     "data": {
      "text/html": [
       "<div>\n",
       "<style>\n",
       "    .dataframe thead tr:only-child th {\n",
       "        text-align: right;\n",
       "    }\n",
       "\n",
       "    .dataframe thead th {\n",
       "        text-align: left;\n",
       "    }\n",
       "\n",
       "    .dataframe tbody tr th {\n",
       "        vertical-align: top;\n",
       "    }\n",
       "</style>\n",
       "<table border=\"1\" class=\"dataframe\">\n",
       "  <thead>\n",
       "    <tr style=\"text-align: right;\">\n",
       "      <th></th>\n",
       "      <th>index</th>\n",
       "      <th>id</th>\n",
       "      <th>nviaje</th>\n",
       "      <th>tipo_transporte</th>\n",
       "      <th>t_subida</th>\n",
       "      <th>servicio_subida</th>\n",
       "      <th>par_subida</th>\n",
       "      <th>sitio_subida</th>\n",
       "      <th>fecha_instalacion</th>\n",
       "      <th>mismo_paradero</th>\n",
       "      <th>misma_patente</th>\n",
       "      <th>mismo_servicio</th>\n",
       "      <th>diferencia_tiempo</th>\n",
       "      <th>diferencia_tiempo_secs</th>\n",
       "      <th>si_torniquete</th>\n",
       "      <th>si_2017_torniquete</th>\n",
       "    </tr>\n",
       "  </thead>\n",
       "  <tbody>\n",
       "    <tr>\n",
       "      <th>153</th>\n",
       "      <td>405460</td>\n",
       "      <td>2036648403</td>\n",
       "      <td>3</td>\n",
       "      <td>BUS</td>\n",
       "      <td>2017-06-14 22:27:10</td>\n",
       "      <td>F29 00R</td>\n",
       "      <td>T-34-270-SN-10</td>\n",
       "      <td>BBKB-12</td>\n",
       "      <td>NaT</td>\n",
       "      <td>True</td>\n",
       "      <td>True</td>\n",
       "      <td>True</td>\n",
       "      <td>00:00:02</td>\n",
       "      <td>2.0</td>\n",
       "      <td>False</td>\n",
       "      <td>False</td>\n",
       "    </tr>\n",
       "    <tr>\n",
       "      <th>154</th>\n",
       "      <td>293942</td>\n",
       "      <td>930125355</td>\n",
       "      <td>2</td>\n",
       "      <td>BUS</td>\n",
       "      <td>2017-06-14 22:27:13</td>\n",
       "      <td>F29 00R</td>\n",
       "      <td>T-34-270-SN-10</td>\n",
       "      <td>BBKB-12</td>\n",
       "      <td>NaT</td>\n",
       "      <td>True</td>\n",
       "      <td>True</td>\n",
       "      <td>True</td>\n",
       "      <td>00:00:03</td>\n",
       "      <td>3.0</td>\n",
       "      <td>False</td>\n",
       "      <td>False</td>\n",
       "    </tr>\n",
       "    <tr>\n",
       "      <th>155</th>\n",
       "      <td>465616</td>\n",
       "      <td>2483164525</td>\n",
       "      <td>2</td>\n",
       "      <td>BUS</td>\n",
       "      <td>2017-06-14 22:27:17</td>\n",
       "      <td>F29 00R</td>\n",
       "      <td>T-34-270-SN-10</td>\n",
       "      <td>BBKB-12</td>\n",
       "      <td>NaT</td>\n",
       "      <td>True</td>\n",
       "      <td>True</td>\n",
       "      <td>True</td>\n",
       "      <td>00:00:04</td>\n",
       "      <td>4.0</td>\n",
       "      <td>False</td>\n",
       "      <td>False</td>\n",
       "    </tr>\n",
       "    <tr>\n",
       "      <th>156</th>\n",
       "      <td>78158</td>\n",
       "      <td>52372738</td>\n",
       "      <td>3</td>\n",
       "      <td>BUS</td>\n",
       "      <td>2017-06-14 22:27:20</td>\n",
       "      <td>F29 00R</td>\n",
       "      <td>T-34-270-SN-10</td>\n",
       "      <td>BBKB-12</td>\n",
       "      <td>NaT</td>\n",
       "      <td>True</td>\n",
       "      <td>True</td>\n",
       "      <td>True</td>\n",
       "      <td>00:00:03</td>\n",
       "      <td>3.0</td>\n",
       "      <td>False</td>\n",
       "      <td>False</td>\n",
       "    </tr>\n",
       "    <tr>\n",
       "      <th>157</th>\n",
       "      <td>193185</td>\n",
       "      <td>424007954</td>\n",
       "      <td>3</td>\n",
       "      <td>BUS</td>\n",
       "      <td>2017-06-14 22:27:23</td>\n",
       "      <td>F29 00R</td>\n",
       "      <td>T-34-270-SN-10</td>\n",
       "      <td>BBKB-12</td>\n",
       "      <td>NaT</td>\n",
       "      <td>True</td>\n",
       "      <td>True</td>\n",
       "      <td>True</td>\n",
       "      <td>00:00:03</td>\n",
       "      <td>3.0</td>\n",
       "      <td>False</td>\n",
       "      <td>False</td>\n",
       "    </tr>\n",
       "    <tr>\n",
       "      <th>158</th>\n",
       "      <td>23227</td>\n",
       "      <td>31833762</td>\n",
       "      <td>3</td>\n",
       "      <td>BUS</td>\n",
       "      <td>2017-06-14 22:27:26</td>\n",
       "      <td>F29 00R</td>\n",
       "      <td>T-34-270-SN-10</td>\n",
       "      <td>BBKB-12</td>\n",
       "      <td>NaT</td>\n",
       "      <td>True</td>\n",
       "      <td>True</td>\n",
       "      <td>True</td>\n",
       "      <td>00:00:03</td>\n",
       "      <td>3.0</td>\n",
       "      <td>False</td>\n",
       "      <td>False</td>\n",
       "    </tr>\n",
       "    <tr>\n",
       "      <th>159</th>\n",
       "      <td>224809</td>\n",
       "      <td>473063026</td>\n",
       "      <td>3</td>\n",
       "      <td>BUS</td>\n",
       "      <td>2017-06-14 22:27:28</td>\n",
       "      <td>F29 00R</td>\n",
       "      <td>T-34-270-SN-10</td>\n",
       "      <td>BBKB-12</td>\n",
       "      <td>NaT</td>\n",
       "      <td>True</td>\n",
       "      <td>True</td>\n",
       "      <td>True</td>\n",
       "      <td>00:00:02</td>\n",
       "      <td>2.0</td>\n",
       "      <td>False</td>\n",
       "      <td>False</td>\n",
       "    </tr>\n",
       "    <tr>\n",
       "      <th>160</th>\n",
       "      <td>359613</td>\n",
       "      <td>1524637928</td>\n",
       "      <td>2</td>\n",
       "      <td>BUS</td>\n",
       "      <td>2017-06-14 22:27:28</td>\n",
       "      <td>F29 00R</td>\n",
       "      <td>T-34-270-SN-10</td>\n",
       "      <td>BBKB-12</td>\n",
       "      <td>NaT</td>\n",
       "      <td>True</td>\n",
       "      <td>True</td>\n",
       "      <td>True</td>\n",
       "      <td>00:00:00</td>\n",
       "      <td>0.0</td>\n",
       "      <td>False</td>\n",
       "      <td>False</td>\n",
       "    </tr>\n",
       "  </tbody>\n",
       "</table>\n",
       "</div>"
      ],
      "text/plain": [
       "      index          id  nviaje tipo_transporte            t_subida  \\\n",
       "153  405460  2036648403       3             BUS 2017-06-14 22:27:10   \n",
       "154  293942   930125355       2             BUS 2017-06-14 22:27:13   \n",
       "155  465616  2483164525       2             BUS 2017-06-14 22:27:17   \n",
       "156   78158    52372738       3             BUS 2017-06-14 22:27:20   \n",
       "157  193185   424007954       3             BUS 2017-06-14 22:27:23   \n",
       "158   23227    31833762       3             BUS 2017-06-14 22:27:26   \n",
       "159  224809   473063026       3             BUS 2017-06-14 22:27:28   \n",
       "160  359613  1524637928       2             BUS 2017-06-14 22:27:28   \n",
       "\n",
       "    servicio_subida      par_subida sitio_subida fecha_instalacion  \\\n",
       "153         F29 00R  T-34-270-SN-10      BBKB-12               NaT   \n",
       "154         F29 00R  T-34-270-SN-10      BBKB-12               NaT   \n",
       "155         F29 00R  T-34-270-SN-10      BBKB-12               NaT   \n",
       "156         F29 00R  T-34-270-SN-10      BBKB-12               NaT   \n",
       "157         F29 00R  T-34-270-SN-10      BBKB-12               NaT   \n",
       "158         F29 00R  T-34-270-SN-10      BBKB-12               NaT   \n",
       "159         F29 00R  T-34-270-SN-10      BBKB-12               NaT   \n",
       "160         F29 00R  T-34-270-SN-10      BBKB-12               NaT   \n",
       "\n",
       "     mismo_paradero  misma_patente  mismo_servicio diferencia_tiempo  \\\n",
       "153            True           True            True          00:00:02   \n",
       "154            True           True            True          00:00:03   \n",
       "155            True           True            True          00:00:04   \n",
       "156            True           True            True          00:00:03   \n",
       "157            True           True            True          00:00:03   \n",
       "158            True           True            True          00:00:03   \n",
       "159            True           True            True          00:00:02   \n",
       "160            True           True            True          00:00:00   \n",
       "\n",
       "     diferencia_tiempo_secs  si_torniquete  si_2017_torniquete  \n",
       "153                     2.0          False               False  \n",
       "154                     3.0          False               False  \n",
       "155                     4.0          False               False  \n",
       "156                     3.0          False               False  \n",
       "157                     3.0          False               False  \n",
       "158                     3.0          False               False  \n",
       "159                     2.0          False               False  \n",
       "160                     0.0          False               False  "
      ]
     },
     "execution_count": 34,
     "metadata": {},
     "output_type": "execute_result"
    }
   ],
   "source": [
    "filtered_df[filtered_df['sitio_subida']=='BBKB-12']"
   ]
  },
  {
   "cell_type": "code",
   "execution_count": 35,
   "metadata": {},
   "outputs": [
    {
     "data": {
      "text/html": [
       "<div>\n",
       "<style>\n",
       "    .dataframe thead tr:only-child th {\n",
       "        text-align: right;\n",
       "    }\n",
       "\n",
       "    .dataframe thead th {\n",
       "        text-align: left;\n",
       "    }\n",
       "\n",
       "    .dataframe tbody tr th {\n",
       "        vertical-align: top;\n",
       "    }\n",
       "</style>\n",
       "<table border=\"1\" class=\"dataframe\">\n",
       "  <thead>\n",
       "    <tr style=\"text-align: right;\">\n",
       "      <th></th>\n",
       "      <th>index</th>\n",
       "      <th>id</th>\n",
       "      <th>nviaje</th>\n",
       "      <th>tipo_transporte</th>\n",
       "      <th>t_subida</th>\n",
       "      <th>servicio_subida</th>\n",
       "      <th>par_subida</th>\n",
       "      <th>sitio_subida</th>\n",
       "      <th>fecha_instalacion</th>\n",
       "      <th>mismo_paradero</th>\n",
       "      <th>misma_patente</th>\n",
       "      <th>mismo_servicio</th>\n",
       "      <th>diferencia_tiempo</th>\n",
       "      <th>diferencia_tiempo_secs</th>\n",
       "      <th>si_torniquete</th>\n",
       "      <th>si_2017_torniquete</th>\n",
       "    </tr>\n",
       "  </thead>\n",
       "  <tbody>\n",
       "    <tr>\n",
       "      <th>163</th>\n",
       "      <td>63592</td>\n",
       "      <td>47993730</td>\n",
       "      <td>2</td>\n",
       "      <td>BUS</td>\n",
       "      <td>2017-06-14 21:43:31</td>\n",
       "      <td>F11 00R</td>\n",
       "      <td>E-34-270-NS-70</td>\n",
       "      <td>BBKB-13</td>\n",
       "      <td>NaT</td>\n",
       "      <td>True</td>\n",
       "      <td>True</td>\n",
       "      <td>True</td>\n",
       "      <td>00:00:22</td>\n",
       "      <td>22.0</td>\n",
       "      <td>False</td>\n",
       "      <td>False</td>\n",
       "    </tr>\n",
       "  </tbody>\n",
       "</table>\n",
       "</div>"
      ],
      "text/plain": [
       "     index        id  nviaje tipo_transporte            t_subida  \\\n",
       "163  63592  47993730       2             BUS 2017-06-14 21:43:31   \n",
       "\n",
       "    servicio_subida      par_subida sitio_subida fecha_instalacion  \\\n",
       "163         F11 00R  E-34-270-NS-70      BBKB-13               NaT   \n",
       "\n",
       "     mismo_paradero  misma_patente  mismo_servicio diferencia_tiempo  \\\n",
       "163            True           True            True          00:00:22   \n",
       "\n",
       "     diferencia_tiempo_secs  si_torniquete  si_2017_torniquete  \n",
       "163                    22.0          False               False  "
      ]
     },
     "execution_count": 35,
     "metadata": {},
     "output_type": "execute_result"
    }
   ],
   "source": [
    "filtered_df[filtered_df['sitio_subida']=='BBKB-13']"
   ]
  },
  {
   "cell_type": "markdown",
   "metadata": {},
   "source": [
    "* Checking in simplified_etapas ...\n",
    "* Checking for PATENTE == BFHB25, FECHA == 2017-06-14 > Doesn't exist\n",
    "* Checking for PATENTE == BGTL77, FECHA == 2017-06-14 > Doesn't exist\n",
    "* Checking for PATENTE == BBKB12, FECHA == 2017-06-14 > It exists\n",
    "* Checking for PATENTE == BBKB13, FECHA == 2017-06-14 > It exists\n",
    "* <font color='green'><strong>Merge is correct. TEST PASSED</strong></font>"
   ]
  },
  {
   "cell_type": "code",
   "execution_count": 36,
   "metadata": {},
   "outputs": [
    {
     "name": "stdout",
     "output_type": "stream",
     "text": [
      "Not found in turnstile database: 1873694\n"
     ]
    }
   ],
   "source": [
    "date = '2017-08-17'\n",
    "etapas_builder = RunSilentlyDailyEtapasBuilderClass(date)\n",
    "filtered_df = etapas_builder.runLightCompleteProcess()"
   ]
  },
  {
   "cell_type": "code",
   "execution_count": 37,
   "metadata": {},
   "outputs": [
    {
     "data": {
      "text/html": [
       "<div>\n",
       "<style>\n",
       "    .dataframe thead tr:only-child th {\n",
       "        text-align: right;\n",
       "    }\n",
       "\n",
       "    .dataframe thead th {\n",
       "        text-align: left;\n",
       "    }\n",
       "\n",
       "    .dataframe tbody tr th {\n",
       "        vertical-align: top;\n",
       "    }\n",
       "</style>\n",
       "<table border=\"1\" class=\"dataframe\">\n",
       "  <thead>\n",
       "    <tr style=\"text-align: right;\">\n",
       "      <th></th>\n",
       "      <th>index</th>\n",
       "      <th>id</th>\n",
       "      <th>nviaje</th>\n",
       "      <th>tipo_transporte</th>\n",
       "      <th>t_subida</th>\n",
       "      <th>servicio_subida</th>\n",
       "      <th>par_subida</th>\n",
       "      <th>sitio_subida</th>\n",
       "      <th>fecha_instalacion</th>\n",
       "      <th>mismo_paradero</th>\n",
       "      <th>misma_patente</th>\n",
       "      <th>mismo_servicio</th>\n",
       "      <th>diferencia_tiempo</th>\n",
       "      <th>diferencia_tiempo_secs</th>\n",
       "      <th>si_torniquete</th>\n",
       "      <th>si_2017_torniquete</th>\n",
       "    </tr>\n",
       "  </thead>\n",
       "  <tbody>\n",
       "  </tbody>\n",
       "</table>\n",
       "</div>"
      ],
      "text/plain": [
       "Empty DataFrame\n",
       "Columns: [index, id, nviaje, tipo_transporte, t_subida, servicio_subida, par_subida, sitio_subida, fecha_instalacion, mismo_paradero, misma_patente, mismo_servicio, diferencia_tiempo, diferencia_tiempo_secs, si_torniquete, si_2017_torniquete]\n",
       "Index: []"
      ]
     },
     "execution_count": 37,
     "metadata": {},
     "output_type": "execute_result"
    }
   ],
   "source": [
    "filtered_df[filtered_df['sitio_subida']=='BGTL-44']"
   ]
  },
  {
   "cell_type": "markdown",
   "metadata": {},
   "source": [
    "* Checking in simplified_etapas ...\n",
    "* Checking for PATENTE == BGTL44, FECHA == 2017-08-17 > Doesn't exist\n",
    "* <font color='green'><strong>Merge is correct. TEST PASSED</strong></font>"
   ]
  },
  {
   "cell_type": "code",
   "execution_count": 38,
   "metadata": {},
   "outputs": [
    {
     "name": "stdout",
     "output_type": "stream",
     "text": [
      "Not found in turnstile database: 1877006\n"
     ]
    }
   ],
   "source": [
    "date = '2017-08-22'\n",
    "etapas_builder = RunSilentlyDailyEtapasBuilderClass(date)\n",
    "filtered_df = etapas_builder.runLightCompleteProcess()"
   ]
  },
  {
   "cell_type": "code",
   "execution_count": 39,
   "metadata": {},
   "outputs": [
    {
     "data": {
      "text/html": [
       "<div>\n",
       "<style>\n",
       "    .dataframe thead tr:only-child th {\n",
       "        text-align: right;\n",
       "    }\n",
       "\n",
       "    .dataframe thead th {\n",
       "        text-align: left;\n",
       "    }\n",
       "\n",
       "    .dataframe tbody tr th {\n",
       "        vertical-align: top;\n",
       "    }\n",
       "</style>\n",
       "<table border=\"1\" class=\"dataframe\">\n",
       "  <thead>\n",
       "    <tr style=\"text-align: right;\">\n",
       "      <th></th>\n",
       "      <th>index</th>\n",
       "      <th>id</th>\n",
       "      <th>nviaje</th>\n",
       "      <th>tipo_transporte</th>\n",
       "      <th>t_subida</th>\n",
       "      <th>servicio_subida</th>\n",
       "      <th>par_subida</th>\n",
       "      <th>sitio_subida</th>\n",
       "      <th>fecha_instalacion</th>\n",
       "      <th>mismo_paradero</th>\n",
       "      <th>misma_patente</th>\n",
       "      <th>mismo_servicio</th>\n",
       "      <th>diferencia_tiempo</th>\n",
       "      <th>diferencia_tiempo_secs</th>\n",
       "      <th>si_torniquete</th>\n",
       "      <th>si_2017_torniquete</th>\n",
       "    </tr>\n",
       "  </thead>\n",
       "  <tbody>\n",
       "  </tbody>\n",
       "</table>\n",
       "</div>"
      ],
      "text/plain": [
       "Empty DataFrame\n",
       "Columns: [index, id, nviaje, tipo_transporte, t_subida, servicio_subida, par_subida, sitio_subida, fecha_instalacion, mismo_paradero, misma_patente, mismo_servicio, diferencia_tiempo, diferencia_tiempo_secs, si_torniquete, si_2017_torniquete]\n",
       "Index: []"
      ]
     },
     "execution_count": 39,
     "metadata": {},
     "output_type": "execute_result"
    }
   ],
   "source": [
    "filtered_df[filtered_df['sitio_subida']=='BXFH-61']"
   ]
  },
  {
   "cell_type": "markdown",
   "metadata": {},
   "source": [
    "* Checking in simplified_etapas ...\n",
    "* Checking for PATENTE == BXFH-61, FECHA == 2017-08-22 > Doesn't exist\n",
    "* <font color='green'><strong>Merge is correct. TEST PASSED</strong></font>"
   ]
  },
  {
   "cell_type": "markdown",
   "metadata": {},
   "source": [
    "### CLOSED"
   ]
  }
 ],
 "metadata": {
  "kernelspec": {
   "display_name": "Python 3",
   "language": "python",
   "name": "python3"
  },
  "language_info": {
   "codemirror_mode": {
    "name": "ipython",
    "version": 3
   },
   "file_extension": ".py",
   "mimetype": "text/x-python",
   "name": "python",
   "nbconvert_exporter": "python",
   "pygments_lexer": "ipython3",
   "version": "3.6.1"
  }
 },
 "nbformat": 4,
 "nbformat_minor": 2
}
